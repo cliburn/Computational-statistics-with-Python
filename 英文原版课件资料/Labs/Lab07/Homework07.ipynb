{
 "metadata": {
  "name": "",
  "signature": "sha256:438eb4636586d48b87c29a61ad7b45e7c3e89783c95909fbf61bacddbdf209bc"
 },
 "nbformat": 3,
 "nbformat_minor": 0,
 "worksheets": [
  {
   "cells": [
    {
     "cell_type": "markdown",
     "metadata": {},
     "source": [
      "**Exercise 1 (50 poits)**.\n",
      "\n",
      "Consider a simple linear regression model\n",
      "\n",
      "$$ \n",
      "Y = \\beta_0 + \\beta_1 x + E\n",
      "$$\n",
      "\n",
      "where $E$ is the error.\n",
      "\n",
      "We want to test $H_0: \\beta_1 = 0$ under the following scenarios:\n",
      "\n",
      "1. $\\beta_0$ and $\\beta_1$ are fitted by minimizing the \n",
      "    1. squares of the values of the deviationns\n",
      "    2. absolute values of the deviations\n",
      "2. The errors come from\n",
      "    1. $\\mathcal{N}(0, 1)$ with $a$% outliers from $\\mathcal{N}(0, b^2)$\n",
      "    2. Standard Cauchy\n",
      "3. Sample size is \n",
      "    1. $n=10$\n",
      "    2. $n=100$\n",
      "    3. $n=1000$\n",
      "\n"
     ]
    },
    {
     "cell_type": "code",
     "collapsed": false,
     "input": [],
     "language": "python",
     "metadata": {},
     "outputs": []
    }
   ],
   "metadata": {}
  }
 ]
}