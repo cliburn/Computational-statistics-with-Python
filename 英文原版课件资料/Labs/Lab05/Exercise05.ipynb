{
 "metadata": {
  "name": "",
  "signature": "sha256:5e8b59d013d7cbbfaad38f4a4cf2be37ecbdf746f332d0718cf1dfef50e9d9a0"
 },
 "nbformat": 3,
 "nbformat_minor": 0,
 "worksheets": [
  {
   "cells": [
    {
     "cell_type": "code",
     "collapsed": false,
     "input": [
      "import os\n",
      "import sys\n",
      "import glob\n",
      "import matplotlib.pyplot as plt\n",
      "import numpy as np\n",
      "import pandas as pd\n",
      "%matplotlib inline\n",
      "%precision 4\n",
      "plt.style.use('ggplot')\n"
     ],
     "language": "python",
     "metadata": {},
     "outputs": [],
     "prompt_number": 6
    },
    {
     "cell_type": "markdown",
     "metadata": {},
     "source": [
      "**Exercise 1 (10 points)**. Netwon's method for functions of complex variables - stability and basins of attraction.\n",
      "\n",
      "1. Write a function with the following function signature `newton(z, f, fprime, max_iter=100, tol=1e-6)` where\n",
      "    - `z` is a starting value (a complex number e.g.  ` 3 + 4j`)\n",
      "    - `f` is a function of `z`\n",
      "    - `fprime` is the derivative of  `f`\n",
      "The function will run until either max_iter is reached or the absolute value of the Newton step is less than tol. In either case, the function should return the number of iterations taken and the final value of `z` as a tuple (`i`, `z`). \n",
      "\n",
      "2. Define the function `f` and `fprime` that will result in Newton's method finding the cube roots of 1. Find 3 starting points that will give different roots, and print both the start and end points. "
     ]
    },
    {
     "cell_type": "code",
     "collapsed": false,
     "input": [
      "# your code here"
     ],
     "language": "python",
     "metadata": {},
     "outputs": [],
     "prompt_number": 180
    },
    {
     "cell_type": "markdown",
     "metadata": {},
     "source": [
      "**Exercise 2 (10 points)**. Write the following two plotting functions to see some (pretty) aspects of Newton's algorithm in the complex plane.\n",
      "\n",
      "1. The first function `plot_newton_iters(f, fprime, n=200, extent=[-1,1,-1,1], cmap='hsv')` calculates and stores the number of iterations taken for convergence (or max_iter) for each point in a 2D array. The 2D array limits are given by `extent` - for example, when `extent = [-1,1,-1,1]` the corners of the plot are `(-i, -i), (1, -i), (1, i), (-1, i)`. There are `n` grid points in both the real and imaginary axes. The argument `cmap` specifies the color map to use - the suggested defaults are fine. Finally plot the image using `plt.imshow` - make sure the axis ticks are correctly scaled. Make a plot for the cube roots of 1.\n",
      "\n",
      "2. The second function `plot_newton_basins(f, fprime, n=200, extent=[-1,1,-1,1], cmap='jet')` has the same arguments, but this time the grid stores the identity of the root that the starting point converged to. Make a plot for the cube roots of 1 - since there are 3 roots, there should be only 3 colors in the plot."
     ]
    },
    {
     "cell_type": "code",
     "collapsed": false,
     "input": [
      "# your code here"
     ],
     "language": "python",
     "metadata": {},
     "outputs": [],
     "prompt_number": 181
    },
    {
     "cell_type": "markdown",
     "metadata": {},
     "source": [
      "**Exercise 3 (10 points)**. Consider the following function on $\\mathbb{R}^2$:\n",
      "\n",
      "$$f(x_1,x_2) = -x_1x_2e^{-\\frac{(x_1^2+x_2^2)}{2}}$$\n",
      "\n",
      "1. Use `sympy` to compute its gradient.\n",
      "2. Compute the Hessian matrix. \n",
      "3. Find the critical points of $f$.\n",
      "4. Characterize the critical points as max/min or neither. Find the minimum under the constraint \n",
      "$$g(x) = x_1^2+x_2^2 \\leq 10$$\n",
      "and \n",
      "$$h(x) = 2x_1 + 3x_2 = 5$$ using `scipy.optimize.minimize`.\n",
      "5. Plot the function using `matplotlib`."
     ]
    },
    {
     "cell_type": "code",
     "collapsed": false,
     "input": [
      "# your code here"
     ],
     "language": "python",
     "metadata": {},
     "outputs": []
    },
    {
     "cell_type": "raw",
     "metadata": {},
     "source": [
      "**Exercise 4 (20 points)**. Find the maximum likelihood function for a logistic regression. Load the file \"train.csv\" (located in this directory) into python.  This file is data from the survival data from the Titanic (from https://www.kaggle.com/).  You are to use a logistic regression to model survival as a function of gender, age and class (of travel). Find the maximum likelihood estimator of $\\beta$ by numerical optimization using stochastic gradient descent as follows:\n",
      "\n",
      "1. Stochastic gradient descent.  In this method, gradient descent is used essentially by fitting *one data point at a time*.  Recall the usual gradient descent step:\n",
      "\n",
      "$$\\beta_{i+1} = \\beta_i - \\Delta \\ell(\\beta_i)$$\n",
      "\n",
      "where\n",
      "\n",
      "$$\\Delta \\ell(\\beta_i) = \\sum\\limits_{j=1}^n \\Delta\\ell(\\beta_i,x_j,y_j)$$\n",
      "\n",
      "and $\\ell$ is the log-likelihood function.  All of the data is used to make the next step toward the optimal $\\beta$.  In stochastic gradient descent, only one point at a time is used to determine the next $\\beta$:\n",
      "\n",
      "$$\\beta_{i+1} = \\beta_i - \\alpha\\Delta \\ell(\\beta_i,x_j,y_j)$$\n",
      "\n",
      "where $\\alpha$ is the step size.  For simplicity, we'll take a constant $\\alpha=1$.\n",
      "\n",
      "Implement the following stochastic gradient algorithm:\n",
      " \n",
      "   a. Shuffle data points (i.e. randomly permute the order of the $(x_j,y_j)$\n",
      "   \n",
      "   b. Refine beta using the iterative formula above over each data point. \n",
      "   \n",
      "   c. Repeat a and b until convergence is reached.\n",
      " \n",
      "Apply the algorithm to the given data set to find the best-fit logistic regression coefficients.  Do not forget that your optimization should include a tolerance and a limit on the number of iterations."
     ]
    },
    {
     "cell_type": "code",
     "collapsed": false,
     "input": [
      "# your code here"
     ],
     "language": "python",
     "metadata": {},
     "outputs": [],
     "prompt_number": 0
    }
   ],
   "metadata": {}
  }
 ]
}