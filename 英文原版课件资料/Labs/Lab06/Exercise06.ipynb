{
 "metadata": {
  "name": "",
  "signature": "sha256:2707acda5f487b4d71c3fe1a59e3993589404620bf8f6f1d40ed2e1306543fec"
 },
 "nbformat": 3,
 "nbformat_minor": 0,
 "worksheets": [
  {
   "cells": [
    {
     "cell_type": "code",
     "collapsed": false,
     "input": [
      "from __future__ import division\n",
      "\n",
      "import os\n",
      "import sys\n",
      "import glob\n",
      "import matplotlib.pyplot as plt\n",
      "import numpy as np\n",
      "import pandas as pd\n",
      "%matplotlib inline\n",
      "%precision 4\n",
      "plt.style.use('ggplot')\n"
     ],
     "language": "python",
     "metadata": {},
     "outputs": [],
     "prompt_number": 1
    },
    {
     "cell_type": "code",
     "collapsed": false,
     "input": [
      "import scipy.optimize as opt\n",
      "import scipy.stats as stats\n",
      "import scipy.linalg as la\n",
      "from IPython.display import Image"
     ],
     "language": "python",
     "metadata": {},
     "outputs": [],
     "prompt_number": 2
    },
    {
     "cell_type": "markdown",
     "metadata": {},
     "source": [
      "**Notes**\n",
      "\n",
      "From this point in the course onwards, homework instructions will be briefer than before with less hand-holding and explanation. You are expected to do the necessary research to solve the given problems on your own."
     ]
    },
    {
     "cell_type": "markdown",
     "metadata": {},
     "source": [
      "**Exercise 1 (10 points)**.\n",
      "\n",
      "A milkmaid is at point A and needs to get to point B. However, she also needs to fill a pail of water from the river en route from A to B. The equation of the river's path is shown in the figure below. \n",
      "\n",
      "- What is the minimum distance she has to travel to do this?\n",
      "- Modify the code below so that the path taken by the milkmaid is shown as a dashed line.\n",
      "\n",
      "```\n",
      "x = np.linspace(0, 10, 100)\n",
      "plt.xlim([0, 10])\n",
      "plt.plot(x, 10.0/(1+x), 'b', linewidth=5)\n",
      "plt.scatter([2,8], [8,4], c=[0,1], s=100)\n",
      "plt.text(8, 5, 'B (8,4)', fontsize=16)\n",
      "plt.text(2, 9, 'A (2,8)', fontsize=16)\n",
      "plt.text(0.5, 2, 'River', fontsize=16)\n",
      "plt.text(0.5, 0.5, 'g(x y) = y - 10/(1+x)', fontsize=16);\n",
      "```"
     ]
    },
    {
     "cell_type": "code",
     "collapsed": false,
     "input": [
      "def f(p, A, B):\n",
      "    return np.sqrt(np.sum((p-A)**2 + (p-B)**2))\n",
      "\n",
      "cons = {'type': 'eq',\n",
      "        'fun': lambda p: p[1] - 10.0/(1+p[0])}\n",
      "\n",
      "A = [2,8]\n",
      "B = [8,4]\n",
      "sol = opt.minimize(f, [0,0], constraints=cons, args=(A, B))\n",
      "sol.x"
     ],
     "language": "python",
     "metadata": {},
     "outputs": [
      {
       "metadata": {},
       "output_type": "pyout",
       "prompt_number": 3,
       "text": [
        "array([ 2.1622,  3.1623])"
       ]
      }
     ],
     "prompt_number": 3
    },
    {
     "cell_type": "code",
     "collapsed": false,
     "input": [
      "x = np.linspace(0, 10, 100)\n",
      "plt.xlim([0, 10])\n",
      "plt.plot(x, 10.0/(1+x), 'b', linewidth=5)\n",
      "plt.plot([2,sol.x[0]], [8,sol.x[1]], '--')\n",
      "plt.plot([sol.x[0],8], [sol.x[1],4], '--')\n",
      "plt.scatter([2,8], [8,4], c=[0,1], s=100)\n",
      "plt.text(8, 5, 'B (8,4)', fontsize=16)\n",
      "plt.text(2, 9, 'A (2,8)', fontsize=16)\n",
      "plt.text(0.5, 2, 'River', fontsize=16)\n",
      "plt.text(0.5, 0.5, 'g(x y) = y - 10/(1+x)', fontsize=16);"
     ],
     "language": "python",
     "metadata": {},
     "outputs": [
      {
       "metadata": {},
       "output_type": "display_data",
       "png": "[encoded data removed]",
       "text": [
        "<matplotlib.figure.Figure at 0x7fc401e3c490>"
       ]
      }
     ],
     "prompt_number": 4
    },
    {
     "cell_type": "code",
     "collapsed": false,
     "input": [
      "\n",
      "\n",
      "\n"
     ],
     "language": "python",
     "metadata": {},
     "outputs": [],
     "prompt_number": 4
    },
    {
     "cell_type": "markdown",
     "metadata": {},
     "source": [
      "**Exercise 2 (10 points)**.\n",
      "\n",
      "Modify the coin toss example in the EM lecture notes so that each sample is now a record of the outcomes of rolls from biased dice. Assume that there are two dice and that there is an equal likelihood of selecting a die for each sample. Given the following samples, estimate the parameters for each die (i.e. the probabilites of getting a 1, 2, 3, 4, 5 or 6)."
     ]
    },
    {
     "cell_type": "code",
     "collapsed": false,
     "input": [
      "df = pd.read_csv('dice.csv', index_col=0)\n",
      "df"
     ],
     "language": "python",
     "metadata": {},
     "outputs": [
      {
       "html": [
        "<div style=\"max-height:1000px;max-width:1500px;overflow:auto;\">\n",
        "<table border=\"1\" class=\"dataframe\">\n",
        "  <thead>\n",
        "    <tr style=\"text-align: right;\">\n",
        "      <th></th>\n",
        "      <th>1</th>\n",
        "      <th>2</th>\n",
        "      <th>3</th>\n",
        "      <th>4</th>\n",
        "      <th>5</th>\n",
        "      <th>6</th>\n",
        "    </tr>\n",
        "  </thead>\n",
        "  <tbody>\n",
        "    <tr>\n",
        "      <th>Sample 1</th>\n",
        "      <td>  2</td>\n",
        "      <td> 14</td>\n",
        "      <td> 10</td>\n",
        "      <td> 20</td>\n",
        "      <td> 26</td>\n",
        "      <td> 28</td>\n",
        "    </tr>\n",
        "    <tr>\n",
        "      <th>Sample 2</th>\n",
        "      <td>  1</td>\n",
        "      <td> 13</td>\n",
        "      <td> 12</td>\n",
        "      <td> 17</td>\n",
        "      <td> 21</td>\n",
        "      <td> 36</td>\n",
        "    </tr>\n",
        "    <tr>\n",
        "      <th>Sample 3</th>\n",
        "      <td> 21</td>\n",
        "      <td> 18</td>\n",
        "      <td> 16</td>\n",
        "      <td> 12</td>\n",
        "      <td> 14</td>\n",
        "      <td> 19</td>\n",
        "    </tr>\n",
        "    <tr>\n",
        "      <th>Sample 4</th>\n",
        "      <td> 15</td>\n",
        "      <td> 20</td>\n",
        "      <td> 20</td>\n",
        "      <td> 15</td>\n",
        "      <td> 12</td>\n",
        "      <td> 18</td>\n",
        "    </tr>\n",
        "    <tr>\n",
        "      <th>Sample 5</th>\n",
        "      <td>  5</td>\n",
        "      <td> 10</td>\n",
        "      <td> 11</td>\n",
        "      <td> 24</td>\n",
        "      <td> 17</td>\n",
        "      <td> 33</td>\n",
        "    </tr>\n",
        "  </tbody>\n",
        "</table>\n",
        "</div>"
       ],
       "metadata": {},
       "output_type": "pyout",
       "prompt_number": 5,
       "text": [
        "           1   2   3   4   5   6\n",
        "Sample 1   2  14  10  20  26  28\n",
        "Sample 2   1  13  12  17  21  36\n",
        "Sample 3  21  18  16  12  14  19\n",
        "Sample 4  15  20  20  15  12  18\n",
        "Sample 5   5  10  11  24  17  33"
       ]
      }
     ],
     "prompt_number": 5
    },
    {
     "cell_type": "code",
     "collapsed": false,
     "input": [
      "\n",
      "\n",
      "\n"
     ],
     "language": "python",
     "metadata": {},
     "outputs": [],
     "prompt_number": 5
    },
    {
     "cell_type": "markdown",
     "metadata": {},
     "source": [
      "**Exercise 3 (10 points)**\n",
      "\n",
      "Modify the coin toss example in the EM lecture notes so that it solves the maximum a posteriori probability (MAP) estimate instead of the MLE. For the MAP estimate, we want to find \n",
      "\n",
      "$$\n",
      "\\theta_\\text{MAP} = \\arg\\max_{\\theta} \\left( \\log p(y\\,|\\,\\theta) + \\log p(\\theta) \\right)\n",
      "$$\n",
      "\n",
      "where $p(\\theta)$ is a prior probability distribution of $\\theta$.\n",
      "\n",
      "Assume that an appropriate prior belief is that all the dice are fair. Repeat the dice parameter estimation problem given in Exercise 2 using this prior and MAP EM."
     ]
    },
    {
     "cell_type": "code",
     "collapsed": false,
     "input": [
      "\n",
      "\n",
      "\n"
     ],
     "language": "python",
     "metadata": {},
     "outputs": [],
     "prompt_number": 5
    },
    {
     "cell_type": "markdown",
     "metadata": {},
     "source": [
      "**Exercise 4 (20 points)**\n",
      "\n",
      "Implement the Newton-CG algorithm for function *minimization* from the description in `MultivariateOptimizationAlgortihms.ipynb`. \n",
      "\n",
      "Use this to solve simple linear regression - i.e. the function to minimize is given by\n",
      "\n",
      "$$\n",
      "\\sum_{i=1}^{N} (y_i - \\beta \\cdot x_i)^2\n",
      "$$\n",
      "\n",
      "where $\\beta_0$ is the intercept.\n",
      "\n",
      "Use this to fit a cubic polynomial to the dataset generated as:\n",
      "\n",
      "```python\n",
      "np.random.seed(1)\n",
      "xs = np.linspace(0, 2*np.pi, 27)\n",
      "ys = np.sin(xs) + np.random.normal(0, 0.3, xs.shape)\n",
      "```\n",
      "\n",
      "Plot a picture of the data and the fitted polynomial."
     ]
    },
    {
     "cell_type": "markdown",
     "metadata": {},
     "source": [
      "**Exercsie 3 (10 points)**\n",
      "\n",
      "The Cauchy distribution is given by \n",
      "$$\n",
      "f(x) = \\frac{1}{\\pi (1 + x^2)}, \\ \\ -\\infty \\lt x \\lt \\infty \n",
      "$$\n",
      "\n",
      "1. Integrate the tail probability $P(X > 2)$ using Monte Carlo\n",
      "    1. Sampling from the Cauchy distribution directly\n",
      "    2. Sampling from the uniform distribution using an appropriate change of variables\n",
      "2. Plot the 95% CI for the Monte Carlo estimates for n = 1 to 1000\n",
      "    1. For sampling from the Cauchy distribution using mulitple Monte Carlo sequences\n",
      "    2. For sampling from the uniform distribution using bootstrap samples of a single Monte Carlo sequence\n",
      "\n"
     ]
    },
    {
     "cell_type": "markdown",
     "metadata": {},
     "source": [
      "**Exercise 4 (10 points)**.\n",
      "\n",
      "Estimate the following integral using Monte Carlo integration\n",
      "\n",
      "$$\n",
      "\\int_{-\\infty}^{\\infty} x^2 \\frac{1}{2}e^{-|x|} dx\n",
      "$$\n",
      "\n",
      "Hint: See figure.\n",
      "\n",
      "![Hint](./dexp.png)"
     ]
    },
    {
     "cell_type": "code",
     "collapsed": false,
     "input": [
      "def p(x):\n",
      "    \"\"\"Double exponential density.\"\"\"\n",
      "    return 0.5*np.exp(-np.abs(x))"
     ],
     "language": "python",
     "metadata": {},
     "outputs": [],
     "prompt_number": 6
    },
    {
     "cell_type": "code",
     "collapsed": false,
     "input": [
      "x = np.linspace(-6, 6, 100)\n",
      "plt.plot(x, p(x))\n",
      "plt.plot(x, stats.norm(0, 2).pdf(x))\n",
      "plt.legend([r'$\\frac{1}{2}e^{-|x|}$', r'$\\mathcal{N}(0, 2)$'], \n",
      "           fontsize=16);"
     ],
     "language": "python",
     "metadata": {},
     "outputs": [
      {
       "metadata": {},
       "output_type": "display_data",
       "png": "[encoded data removed]",
       "text": [
        "<matplotlib.figure.Figure at 0x7fc4025d6590>"
       ]
      }
     ],
     "prompt_number": 7
    },
    {
     "cell_type": "markdown",
     "metadata": {},
     "source": [
      "### Estimate using importance sampling"
     ]
    },
    {
     "cell_type": "code",
     "collapsed": false,
     "input": [
      "n = 10000\n",
      "x = stats.norm(0, 2).rvs(n)\n",
      "np.mean(x**2 * p(x)/stats.norm(0, 2).pdf(x))"
     ],
     "language": "python",
     "metadata": {},
     "outputs": [
      {
       "metadata": {},
       "output_type": "pyout",
       "prompt_number": 8,
       "text": [
        "1.9416"
       ]
      }
     ],
     "prompt_number": 8
    },
    {
     "cell_type": "code",
     "collapsed": false,
     "input": [
      "n = 10000\n",
      "x = stats.norm(0, 2).rvs(n)\n",
      "y = p(x)/stats.norm(0, 2).pdf(x)\n",
      "plt.hist(x, bins=25, range=(-6,6), histtype='step', normed=True)\n",
      "plt.hist(y, bins=25, range=(-6, 6), histtype='step', normed=True);"
     ],
     "language": "python",
     "metadata": {},
     "outputs": [
      {
       "metadata": {},
       "output_type": "display_data",
       "png": "[encoded data removed]",
       "text": [
        "<matplotlib.figure.Figure at 0x7fc401d2fc10>"
       ]
      }
     ],
     "prompt_number": 9
    },
    {
     "cell_type": "code",
     "collapsed": false,
     "input": [
      "plt.hist?"
     ],
     "language": "python",
     "metadata": {},
     "outputs": [],
     "prompt_number": 10
    },
    {
     "cell_type": "code",
     "collapsed": false,
     "input": [],
     "language": "python",
     "metadata": {},
     "outputs": [],
     "prompt_number": 10
    },
    {
     "cell_type": "code",
     "collapsed": false,
     "input": [],
     "language": "python",
     "metadata": {},
     "outputs": [],
     "prompt_number": 10
    }
   ],
   "metadata": {}
  }
 ]
}