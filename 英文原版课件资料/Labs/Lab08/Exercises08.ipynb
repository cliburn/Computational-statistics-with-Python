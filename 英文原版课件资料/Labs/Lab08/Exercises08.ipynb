{
 "metadata": {
  "name": "",
  "signature": "sha256:42079253d9f6df1202df203b28bea7117dd7d6b48852f5648a3156afd92237cf"
 },
 "nbformat": 3,
 "nbformat_minor": 0,
 "worksheets": [
  {
   "cells": [
    {
     "cell_type": "code",
     "collapsed": false,
     "input": [
      "from __future__ import division\n",
      "import os\n",
      "import sys\n",
      "import glob\n",
      "import matplotlib.pyplot as plt\n",
      "import numpy as np\n",
      "import pandas as pd\n",
      "%matplotlib inline\n",
      "%precision 4\n",
      "plt.style.use('ggplot')\n"
     ],
     "language": "python",
     "metadata": {},
     "outputs": [],
     "prompt_number": 1
    },
    {
     "cell_type": "code",
     "collapsed": false,
     "input": [
      "from IPython.display import Image"
     ],
     "language": "python",
     "metadata": {},
     "outputs": [],
     "prompt_number": 2
    },
    {
     "cell_type": "markdown",
     "metadata": {},
     "source": [
      "Grading\n",
      "----\n",
      "\n",
      "This exercise will not be graded - however, it will be very necessary practice if you actually want to learn this stuff!"
     ]
    },
    {
     "cell_type": "markdown",
     "metadata": {},
     "source": [
      "**Exercise 1**\n",
      "\n",
      "Write the equivalent function in C, all in a single file \"sum.c\" and compile to an executable `sum` using the command line."
     ]
    },
    {
     "cell_type": "code",
     "collapsed": false,
     "input": [
      "def summer(xs):\n",
      "    s = 0\n",
      "    for i in range(len(xs)):\n",
      "        s += xs[i]\n",
      "    return s\n",
      "\n",
      "xs = [1,2,3,4,5,6,7,8,9,10]\n",
      "summer(xs)"
     ],
     "language": "python",
     "metadata": {},
     "outputs": [
      {
       "metadata": {},
       "output_type": "pyout",
       "prompt_number": 9,
       "text": [
        "55"
       ]
      }
     ],
     "prompt_number": 9
    },
    {
     "cell_type": "code",
     "collapsed": false,
     "input": [
      "%%file sum.c\n",
      "\n",
      "\n",
      "\n"
     ],
     "language": "python",
     "metadata": {},
     "outputs": []
    },
    {
     "cell_type": "markdown",
     "metadata": {},
     "source": [
      "**Exercise 2**\n",
      "\n",
      "Write the equivalent function in C. Write a header file \"distributions.h\", an implemnetiation file \"distributions.c\" and a driver program in \"main.c\". Compile using a Makefile and check that it gives the same result."
     ]
    },
    {
     "cell_type": "code",
     "collapsed": false,
     "input": [
      "Image(url='http://upload.wikimedia.org/math/7/3/a/73ad15f79b11af99bd2477ff3ffc5a35.png')"
     ],
     "language": "python",
     "metadata": {},
     "outputs": [
      {
       "html": [
        "<img src=\"http://upload.wikimedia.org/math/7/3/a/73ad15f79b11af99bd2477ff3ffc5a35.png\"/>"
       ],
       "metadata": {},
       "output_type": "pyout",
       "prompt_number": 3,
       "text": [
        "<IPython.core.display.Image at 0x1067ac710>"
       ]
      }
     ],
     "prompt_number": 3
    },
    {
     "cell_type": "code",
     "collapsed": false,
     "input": [
      "def gaussian_pdf(xs, mu, sigma):\n",
      "    return np.exp(-(xs-mu)**2/(2*sigma**2))/(sigma*np.sqrt(2*np.pi))"
     ],
     "language": "python",
     "metadata": {},
     "outputs": [],
     "prompt_number": 4
    },
    {
     "cell_type": "code",
     "collapsed": false,
     "input": [
      "xs = np.linspace(-3, 3, 100)\n",
      "gaussian_pdf(xs, mu=0, sigma=1)"
     ],
     "language": "python",
     "metadata": {},
     "outputs": [
      {
       "metadata": {},
       "output_type": "pyout",
       "prompt_number": 8,
       "text": [
        "array([ 0.0044,  0.0053,  0.0063,  0.0075,  0.0089,  0.0105,  0.0123,\n",
        "        0.0145,  0.0169,  0.0196,  0.0227,  0.0262,  0.0301,  0.0345,\n",
        "        0.0394,  0.0448,  0.0508,  0.0573,  0.0645,  0.0723,  0.0807,\n",
        "        0.0898,  0.0995,  0.1098,  0.1209,  0.1325,  0.1447,  0.1574,\n",
        "        0.1707,  0.1844,  0.1984,  0.2128,  0.2273,  0.242 ,  0.2566,\n",
        "        0.2712,  0.2855,  0.2994,  0.3129,  0.3258,  0.338 ,  0.3494,\n",
        "        0.3598,  0.3692,  0.3774,  0.3844,  0.3901,  0.3944,  0.3973,\n",
        "        0.3988,  0.3988,  0.3973,  0.3944,  0.3901,  0.3844,  0.3774,\n",
        "        0.3692,  0.3598,  0.3494,  0.338 ,  0.3258,  0.3129,  0.2994,\n",
        "        0.2855,  0.2712,  0.2566,  0.242 ,  0.2273,  0.2128,  0.1984,\n",
        "        0.1844,  0.1707,  0.1574,  0.1447,  0.1325,  0.1209,  0.1098,\n",
        "        0.0995,  0.0898,  0.0807,  0.0723,  0.0645,  0.0573,  0.0508,\n",
        "        0.0448,  0.0394,  0.0345,  0.0301,  0.0262,  0.0227,  0.0196,\n",
        "        0.0169,  0.0145,  0.0123,  0.0105,  0.0089,  0.0075,  0.0063,\n",
        "        0.0053,  0.0044])"
       ]
      }
     ],
     "prompt_number": 8
    },
    {
     "cell_type": "code",
     "collapsed": false,
     "input": [
      "%%file makefile\n",
      "TARGET = \n",
      "OBJECTS = \n",
      "CFLAGS = -g -Wall -O3 \n",
      "LDLIBS = \n",
      "CC = c99 \n",
      "\n",
      "all: TARGET\n",
      "    \n",
      "clean:\n",
      "\t rm $(TARGET) $(OBJECTS)\n",
      "\n",
      "$(TARGET): $(OBJECTS)"
     ],
     "language": "python",
     "metadata": {},
     "outputs": []
    },
    {
     "cell_type": "code",
     "collapsed": false,
     "input": [
      "%%file distributions.h\n",
      "\n",
      "\n",
      "\n"
     ],
     "language": "python",
     "metadata": {},
     "outputs": []
    },
    {
     "cell_type": "code",
     "collapsed": false,
     "input": [
      "%%file distributions.c\n",
      "\n",
      "\n",
      "\n"
     ],
     "language": "python",
     "metadata": {},
     "outputs": []
    },
    {
     "cell_type": "code",
     "collapsed": false,
     "input": [
      "%%file main.c\n",
      "\n",
      "\n",
      "\n"
     ],
     "language": "python",
     "metadata": {},
     "outputs": []
    },
    {
     "cell_type": "markdown",
     "metadata": {},
     "source": [
      "**Exercse 3**\n",
      "\n",
      "Debug the following program."
     ]
    },
    {
     "cell_type": "code",
     "collapsed": false,
     "input": [
      "%%file buggy.c\n",
      "\n",
      "# Create a function pointer type that takes a double and returns a double\n",
      "double *func(double x);\n",
      "\n",
      "# A higher order function that takes just such a function pointer\n",
      "double apply(func f, double x)\n",
      "{\n",
      "    return f(x);\n",
      "}\n",
      "\n",
      "double square(double x)\n",
      "{\n",
      "    return x * x;\n",
      "}\n",
      "\n",
      "double cube(double x)\n",
      "{\n",
      "    return pow(3, x);\n",
      "}\n",
      "\n",
      "double mystery(double x)\n",
      "{\n",
      "    double y = 10;\n",
      "    if (x < 10)\n",
      "        x = square(x);\n",
      "    else\n",
      "        x += y;\n",
      "        x = cube(x);\n",
      "    return x;\n",
      "}\n",
      "\n",
      "int main()\n",
      "{\n",
      "    double a = atoi(argv[1]);\n",
      "    func fs[] = {square, cube, mystery, NULL}\n",
      "\n",
      "    for (func *f=fs, f != NULL, f++) {\n",
      "        printf(\"%d\\n\", apply(f, a));\n",
      "    }   \n",
      "}"
     ],
     "language": "python",
     "metadata": {},
     "outputs": []
    },
    {
     "cell_type": "code",
     "collapsed": false,
     "input": [
      "! gcc -g -Wall buggy.c -o buggy"
     ],
     "language": "python",
     "metadata": {},
     "outputs": []
    },
    {
     "cell_type": "code",
     "collapsed": false,
     "input": [
      "! ./buggy 3"
     ],
     "language": "python",
     "metadata": {},
     "outputs": []
    },
    {
     "cell_type": "markdown",
     "metadata": {},
     "source": [
      "**Exercise 4**\n",
      "\n",
      "Convert the function below to compiled code using `numba` and `Cython`. Use `timeit` to compare the execution times on large arrays."
     ]
    },
    {
     "cell_type": "code",
     "collapsed": false,
     "input": [
      "def summer(xs):\n",
      "    s = 0\n",
      "    for i in range(len(xs)):\n",
      "        s += xs[i]\n",
      "    return s"
     ],
     "language": "python",
     "metadata": {},
     "outputs": []
    },
    {
     "cell_type": "markdown",
     "metadata": {},
     "source": [
      "`numba` version"
     ]
    },
    {
     "cell_type": "code",
     "collapsed": false,
     "input": [
      "\n",
      "\n",
      "\n"
     ],
     "language": "python",
     "metadata": {},
     "outputs": []
    },
    {
     "cell_type": "markdown",
     "metadata": {},
     "source": [
      "`cython` version"
     ]
    },
    {
     "cell_type": "code",
     "collapsed": false,
     "input": [
      "\n",
      "\n",
      "\n"
     ],
     "language": "python",
     "metadata": {},
     "outputs": []
    },
    {
     "cell_type": "markdown",
     "metadata": {},
     "source": [
      "Benchmarks"
     ]
    },
    {
     "cell_type": "code",
     "collapsed": false,
     "input": [
      "\n",
      "\n",
      "\n"
     ],
     "language": "python",
     "metadata": {},
     "outputs": []
    },
    {
     "cell_type": "markdown",
     "metadata": {},
     "source": [
      "**Exercise 5**\n",
      "\n",
      "Write a simple word count function in Python to count the number of each word in the 18 books `b01.txt` to `b18.txt`. Finally combine the counts so that there is a single count of the number of each word in *all* the books. This is a classical `map-reduce` example.\n",
      "\n",
      "Execute this task in parallel using `multiprocessing` and `IPython.Parallel`. "
     ]
    },
    {
     "cell_type": "markdown",
     "metadata": {},
     "source": [
      "Multiprocessing solution"
     ]
    },
    {
     "cell_type": "code",
     "collapsed": false,
     "input": [
      "\n",
      "\n",
      "\n",
      "\n"
     ],
     "language": "python",
     "metadata": {},
     "outputs": []
    },
    {
     "cell_type": "code",
     "collapsed": false,
     "input": [
      "IPython.Parallel solution"
     ],
     "language": "python",
     "metadata": {},
     "outputs": []
    },
    {
     "cell_type": "code",
     "collapsed": false,
     "input": [
      "\n",
      "\n",
      "\n",
      "\n"
     ],
     "language": "python",
     "metadata": {},
     "outputs": []
    }
   ],
   "metadata": {}
  }
 ]
}