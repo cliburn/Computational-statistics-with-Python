{
 "metadata": {
  "name": "",
  "signature": "sha256:1f652cb57d42a081aa2ae79bae5664160b451147c9a2113e053bb812c7c2ae68"
 },
 "nbformat": 3,
 "nbformat_minor": 0,
 "worksheets": [
  {
   "cells": [
    {
     "cell_type": "code",
     "collapsed": false,
     "input": [
      "import string\n",
      "import numpy as np\n",
      "from collections import Counter\n",
      "import urllib2"
     ],
     "language": "python",
     "metadata": {},
     "outputs": [],
     "prompt_number": 1
    },
    {
     "cell_type": "markdown",
     "metadata": {},
     "source": [
      "### Exercise 1"
     ]
    },
    {
     "cell_type": "code",
     "collapsed": false,
     "input": [
      "# Possible solution\n",
      "\n",
      "x3 = [3*i for i in range(1, (1000+2)/3)]\n",
      "x5 = [5*i for i in range(1, (1000+4)/5)]\n",
      "x35 = [15*i for i in range(1, (1000+14)/15)]\n",
      "print sum(x3) + sum(x5) - sum(x35)"
     ],
     "language": "python",
     "metadata": {},
     "outputs": [
      {
       "output_type": "stream",
       "stream": "stdout",
       "text": [
        "233168\n"
       ]
      }
     ],
     "prompt_number": 2
    },
    {
     "cell_type": "code",
     "collapsed": false,
     "input": [
      "# Alternative solution\n",
      "\n",
      "s  = 0\n",
      "for i in range(1,1000):\n",
      "    if i % 3 == 0 or i % 5 == 0:\n",
      "        s += i\n",
      "print s"
     ],
     "language": "python",
     "metadata": {},
     "outputs": [
      {
       "output_type": "stream",
       "stream": "stdout",
       "text": [
        "233168\n"
       ]
      }
     ],
     "prompt_number": 3
    },
    {
     "cell_type": "markdown",
     "metadata": {},
     "source": [
      "### Exercise 2"
     ]
    },
    {
     "cell_type": "code",
     "collapsed": false,
     "input": [
      "def sample_mean(xs):\n",
      "    \"\"\"Samplele mean.\"\"\"\n",
      "    return sum(xs)/float(len(xs))\n",
      "\n",
      "def sample_std(xs):\n",
      "    \"\"\"Sample standard deviaiton.\"\"\"\n",
      "    n = len(xs)\n",
      "    xbar = sample_mean(xs)\n",
      "    s = 0.0\n",
      "    for x in xs:\n",
      "        s += (x - xbar)**2\n",
      "    return (s/(n-1))**0.5\n",
      "\n",
      "def sample_correlation(xs, ys):\n",
      "    \"\"\"Sample correlation coefficient.\"\"\"\n",
      "    n = len(xs)\n",
      "    xbar = sample_mean(xs)\n",
      "    ybar = sample_mean(ys)\n",
      "    sx = sample_std(xs)\n",
      "    sy = sample_std(ys)\n",
      "    r = 0.0\n",
      "    for x, y in zip(xs, ys):\n",
      "        r += ((x - xbar)/sx) * ((y - ybar)/sy)\n",
      "    return r/(n-1)\n",
      "\n",
      "x = [10.0, 8.0, 13.0, 9.0, 11.0, 14.0, 6.0, 4.0, 12.0, 7.0, 5.0]\n",
      "y = [8.04, 6.95, 7.58, 8.81, 8.33, 9.96, 7.24, 4.26, 10.84, 4.82, 5.68]\n",
      "print sample_correlation(x, y)"
     ],
     "language": "python",
     "metadata": {},
     "outputs": [
      {
       "output_type": "stream",
       "stream": "stdout",
       "text": [
        "0.816420516345\n"
       ]
      }
     ],
     "prompt_number": 4
    },
    {
     "cell_type": "markdown",
     "metadata": {},
     "source": [
      "### Exercise 3"
     ]
    },
    {
     "cell_type": "code",
     "collapsed": false,
     "input": [
      "def hailstone(n):\n",
      "    \"\"\"Given a positive integer n, return the series of hailstone numbers.\"\"\"\n",
      "    acc = []\n",
      "    while n != 1:\n",
      "        acc.append(n)\n",
      "        if n%2 == 0:\n",
      "            n /= 2\n",
      "        else:\n",
      "            n = n*3 + 1\n",
      "    acc.append(1)\n",
      "    return acc\n",
      "\n",
      "seq = hailstone(23)\n",
      "print seq\n",
      "print len(seq)"
     ],
     "language": "python",
     "metadata": {},
     "outputs": [
      {
       "output_type": "stream",
       "stream": "stdout",
       "text": [
        "[23, 70, 35, 106, 53, 160, 80, 40, 20, 10, 5, 16, 8, 4, 2, 1]\n",
        "16\n"
       ]
      }
     ],
     "prompt_number": 5
    },
    {
     "cell_type": "markdown",
     "metadata": {},
     "source": [
      "### Exercise 4"
     ]
    },
    {
     "cell_type": "code",
     "collapsed": false,
     "input": [
      "def let2num(c):\n",
      "    \"\"\"Convert lowercase character to number.\"\"\"\n",
      "    return ord(c) - ord('a')\n",
      "\n",
      "def num2let(n):\n",
      "    \"\"\"Convert number to lowercase character.\"\"\"\n",
      "    return chr(ord('a') + n)\n",
      "\n",
      "def encode(cs, n):\n",
      "    \"\"\"Caesar cipher with offset n.\"\"\"\n",
      "    return ''.join([num2let((let2num(c) + n) % 26) if c.islower() else c for c in cs])"
     ],
     "language": "python",
     "metadata": {},
     "outputs": [],
     "prompt_number": 6
    },
    {
     "cell_type": "code",
     "collapsed": false,
     "input": [
      "def chisq(os, es):\n",
      "    \"\"\"Retruns chi-square score given observed os and expected es frequencies.\"\"\"\n",
      "    os = np.array(os)\n",
      "    es = np.array(es)\n",
      "    return np.sum((os - es)**2.0/es)"
     ],
     "language": "python",
     "metadata": {},
     "outputs": [],
     "prompt_number": 7
    },
    {
     "cell_type": "code",
     "collapsed": false,
     "input": [
      "def freqs(text):\n",
      "    \"\"\"Returns relative frequenies of lowercase letter in text.\"\"\"\n",
      "    ctr = Counter(text)\n",
      "    counts = np.array([ctr[c] for c in string.lowercase], dtype='float')\n",
      "    return counts/counts.sum()"
     ],
     "language": "python",
     "metadata": {},
     "outputs": [],
     "prompt_number": 8
    },
    {
     "cell_type": "code",
     "collapsed": false,
     "input": [
      "# Use Pride and Prejudice to build up base frequencies\n",
      "text = urllib2.urlopen('http://www.gutenberg.org/ebooks/1342.txt.utf-8').read()\n",
      "ref_freqs = freqs(text)"
     ],
     "language": "python",
     "metadata": {},
     "outputs": [],
     "prompt_number": 9
    },
    {
     "cell_type": "code",
     "collapsed": false,
     "input": [
      "def crack(code):\n",
      "    \"\"\"Find the original text by identifying the most likely encoding offset.\"\"\"\n",
      "    shift = np.argmin([chisq(freqs(encode(code, n)), ref_freqs) for n in range(26)])\n",
      "    return encode(code, shift)"
     ],
     "language": "python",
     "metadata": {},
     "outputs": [],
     "prompt_number": 10
    },
    {
     "cell_type": "code",
     "collapsed": false,
     "input": [
      "cs = 'Statistical computing and computation is fun!'\n",
      "code = encode(cs, np.random.randint(1, 26))\n",
      "print code\n",
      "crack(code)"
     ],
     "language": "python",
     "metadata": {},
     "outputs": [
      {
       "output_type": "stream",
       "stream": "stdout",
       "text": [
        "Szgzoyzoigr iusvazotm gtj iusvazgzout oy lat!\n"
       ]
      },
      {
       "metadata": {},
       "output_type": "pyout",
       "prompt_number": 11,
       "text": [
        "'Statistical computing and computation is fun!'"
       ]
      }
     ],
     "prompt_number": 11
    },
    {
     "cell_type": "code",
     "collapsed": false,
     "input": [],
     "language": "python",
     "metadata": {},
     "outputs": [],
     "prompt_number": 11
    }
   ],
   "metadata": {}
  }
 ]
}