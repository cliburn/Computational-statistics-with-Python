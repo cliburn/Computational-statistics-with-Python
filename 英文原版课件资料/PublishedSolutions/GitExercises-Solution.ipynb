{
 "metadata": {
  "name": "",
  "signature": "sha256:77d1ede50a3d638f561ea7591620d13b00c724ba6e05556c94c4a27f90f623ef"
 },
 "nbformat": 3,
 "nbformat_minor": 0,
 "worksheets": [
  {
   "cells": [
    {
     "cell_type": "markdown",
     "metadata": {},
     "source": [
      "Using Git and GitHub\n",
      "----\n",
      "\n",
      "This tutorial only covers the *bare* basics. When you are comfortable using Git in the basic way shown in this tutorial, there are plenty of online and dead tree resources for more advanced Git usage that you can learn from.\n",
      "\n",
      "### Basic concepts to understand\n",
      "\n",
      "- Version control\n",
      "- Git verus GitHub\n",
      "- Working directory, staging area and snapshort archive\n",
      "- Remotes and origin\n",
      "- Branches and master\n",
      "\n",
      "### Useful references and further reading:\n",
      "\n",
      "- [Basic Git commands](https://confluence.atlassian.com/display/STASH/Basic+Git+commands)\n",
      "- [Git cheatsheet](http://sweetme.at/2013/09/29/essential-git-commands-cheat-sheet/)\n",
      "- [A more advanced tutorial from the creator of IPython notebook](http://nbviewer.ipython.org/github/fperez/reprosw/blob/master/Version%20Control.ipynb)\n",
      "- [Git for scientists](http://nyuccl.org/pages/GitTutorial/)\n",
      "- [Pro Git book](https://progit.org/)"
     ]
    },
    {
     "cell_type": "markdown",
     "metadata": {},
     "source": [
      "**Exercise 1**. Create a reepository on GitHub called 'monster-cookies' and clone to your local drive."
     ]
    },
    {
     "cell_type": "code",
     "collapsed": false,
     "input": [
      "# First step is done in GitHub\n",
      "\n",
      "# Note - we want to do this exerise OUTSIDE of an exising Git repository.\n",
      "# So copy this file to a new location outside the repository (e.g. at top level)\n",
      "\n",
      "! git clone https://github.com/cliburn/monster-cookies-0.git monster_cookies"
     ],
     "language": "python",
     "metadata": {},
     "outputs": [
      {
       "output_type": "stream",
       "stream": "stdout",
       "text": [
        "Cloning into 'monster_cookies'...\r\n"
       ]
      },
      {
       "output_type": "stream",
       "stream": "stdout",
       "text": [
        "warning: You appear to have cloned an empty repository.\r\n",
        "Checking connectivity... done.\r\n"
       ]
      }
     ],
     "prompt_number": 1
    },
    {
     "cell_type": "code",
     "collapsed": false,
     "input": [
      "# switch to repository folder\n",
      "%cd monster_cookies"
     ],
     "language": "python",
     "metadata": {},
     "outputs": [
      {
       "output_type": "stream",
       "stream": "stdout",
       "text": [
        "/private/tmp/monster_cookies\n"
       ]
      }
     ],
     "prompt_number": 2
    },
    {
     "cell_type": "markdown",
     "metadata": {},
     "source": [
      "**Exercise 1.1**. Set your username and email if necessary."
     ]
    },
    {
     "cell_type": "code",
     "collapsed": false,
     "input": [
      "# To set repository specific versions, just delete --global\n",
      "\n",
      "! git config --global user.name \"cllburn\"\n",
      "! git config --global user.email \"cliburn.chan@duke.edu\""
     ],
     "language": "python",
     "metadata": {},
     "outputs": [],
     "prompt_number": 3
    },
    {
     "cell_type": "markdown",
     "metadata": {},
     "source": [
      "**Exercise 2**. Add two files `phd_thesis.txt` and `jasa_manuscript.txt` with the contents `My very short thesis.` and `$\\pi = 3$ almost everywhere.` respectively to your local repository. How do you check the status of your local repository? Add and commit your changes. After doing so, check the GitHub web page."
     ]
    },
    {
     "cell_type": "code",
     "collapsed": false,
     "input": [
      "%%file phd_thesis.txt\n",
      "My very short thesis.\n"
     ],
     "language": "python",
     "metadata": {},
     "outputs": [
      {
       "output_type": "stream",
       "stream": "stdout",
       "text": [
        "Writing phd_thesis.txt\n"
       ]
      }
     ],
     "prompt_number": 4
    },
    {
     "cell_type": "code",
     "collapsed": false,
     "input": [
      "%%file jasa_manuscript.txt\n",
      "$\\pi = 3$ almost everywhere.\n"
     ],
     "language": "python",
     "metadata": {},
     "outputs": [
      {
       "output_type": "stream",
       "stream": "stdout",
       "text": [
        "Writing jasa_manuscript.txt\n"
       ]
      }
     ],
     "prompt_number": 5
    },
    {
     "cell_type": "code",
     "collapsed": false,
     "input": [
      "! git status"
     ],
     "language": "python",
     "metadata": {},
     "outputs": [
      {
       "output_type": "stream",
       "stream": "stdout",
       "text": [
        "On branch master\r\n",
        "\r\n",
        "Initial commit\r\n",
        "\r\n",
        "Untracked files:\r\n",
        "  (use \"git add <file>...\" to include in what will be committed)\r\n",
        "\r\n",
        "\t\u001b[31mjasa_manuscript.txt\u001b[m\r\n",
        "\t\u001b[31mphd_thesis.txt\u001b[m\r\n",
        "\r\n",
        "nothing added to commit but untracked files present (use \"git add\" to track)\r\n"
       ]
      }
     ],
     "prompt_number": 6
    },
    {
     "cell_type": "code",
     "collapsed": false,
     "input": [
      "! git add jasa_manuscript.txt\n",
      "! git commit -m \"First upload of JASA manuscript.\"\n",
      "! git add phd_thesis.txt\n",
      "! git commit -m \"First upload of PhD thesis.\"\n",
      "! git push"
     ],
     "language": "python",
     "metadata": {},
     "outputs": [
      {
       "output_type": "stream",
       "stream": "stdout",
       "text": [
        "[master (root-commit) 7b54600] First upload of JASA manuscript.\r\n",
        " 1 file changed, 1 insertion(+)\r\n",
        " create mode 100644 jasa_manuscript.txt\r\n"
       ]
      },
      {
       "output_type": "stream",
       "stream": "stdout",
       "text": [
        "[master b89e719] First upload of PhD thesis.\r\n",
        " 1 file changed, 1 insertion(+)\r\n",
        " create mode 100644 phd_thesis.txt\r\n"
       ]
      },
      {
       "output_type": "stream",
       "stream": "stdout",
       "text": [
        "Counting objects: 6, done.\r\n",
        "Delta compression using up to 8 threads.\r\n",
        "Compressing objects:  33% (1/3)   \r",
        "Compressing objects:  66% (2/3)   \r",
        "Compressing objects: 100% (3/3)   \r",
        "Compressing objects: 100% (3/3), done.\r\n",
        "Writing objects:  16% (1/6)   \r",
        "Writing objects:  33% (2/6)   \r",
        "Writing objects:  50% (3/6)   \r",
        "Writing objects:  66% (4/6)   \r",
        "Writing objects:  83% (5/6)   \r",
        "Writing objects: 100% (6/6)   \r",
        "Writing objects: 100% (6/6), 503 bytes | 0 bytes/s, done.\r\n",
        "Total 6 (delta 1), reused 0 (delta 0)\r\n"
       ]
      },
      {
       "output_type": "stream",
       "stream": "stdout",
       "text": [
        "To https://github.com/cliburn/monster-cookies-0.git\r\n",
        " * [new branch]      master -> master\r\n"
       ]
      }
     ],
     "prompt_number": 7
    },
    {
     "cell_type": "code",
     "collapsed": false,
     "input": [
      "! git status"
     ],
     "language": "python",
     "metadata": {},
     "outputs": [
      {
       "output_type": "stream",
       "stream": "stdout",
       "text": [
        "On branch master\r\n",
        "Your branch is up-to-date with 'origin/master'.\r\n",
        "\r\n",
        "nothing to commit, working directory clean\r\n"
       ]
      }
     ],
     "prompt_number": 8
    },
    {
     "cell_type": "markdown",
     "metadata": {},
     "source": [
      "**Exercise 3**. Modify `phd_thesis.txt` by adding another line `This is a very good thesis`.\n",
      "\n",
      "- You decide that you don't want these changes but have not done `git add`. What do you do?\n",
      "- You decide that you don't want these changes but have just done `git add`. What do you do?\n",
      "- You decide that you don't want these changes but have just done `git commit`. What do you do?\n",
      "- You decide that you don't want these changes but have just done `git push`. What do you do?"
     ]
    },
    {
     "cell_type": "code",
     "collapsed": false,
     "input": [
      "! echo \"\\nThis is a very good thesis.\" >> phd_thesis.txt"
     ],
     "language": "python",
     "metadata": {},
     "outputs": [],
     "prompt_number": 9
    },
    {
     "cell_type": "code",
     "collapsed": false,
     "input": [
      "! cat phd_thesis.txt"
     ],
     "language": "python",
     "metadata": {},
     "outputs": [
      {
       "output_type": "stream",
       "stream": "stdout",
       "text": [
        "My very short thesis.\r\n",
        "This is a very good thesis.\r\n"
       ]
      }
     ],
     "prompt_number": 10
    },
    {
     "cell_type": "code",
     "collapsed": false,
     "input": [
      "! git status"
     ],
     "language": "python",
     "metadata": {},
     "outputs": [
      {
       "output_type": "stream",
       "stream": "stdout",
       "text": [
        "On branch master\r\n",
        "Your branch is up-to-date with 'origin/master'.\r\n",
        "\r\n",
        "Changes not staged for commit:\r\n",
        "  (use \"git add <file>...\" to update what will be committed)\r\n",
        "  (use \"git checkout -- <file>...\" to discard changes in working directory)\r\n",
        "\r\n",
        "\t\u001b[31mmodified:   phd_thesis.txt\u001b[m\r\n",
        "\r\n",
        "no changes added to commit (use \"git add\" and/or \"git commit -a\")\r\n"
       ]
      }
     ],
     "prompt_number": 11
    },
    {
     "cell_type": "code",
     "collapsed": false,
     "input": [
      "# You decide that you don't want these changes \n",
      "# and have not done git add. What do you do?\n",
      "! git checkout --  phd_thesis.txt"
     ],
     "language": "python",
     "metadata": {},
     "outputs": [],
     "prompt_number": 12
    },
    {
     "cell_type": "code",
     "collapsed": false,
     "input": [
      "! git status"
     ],
     "language": "python",
     "metadata": {},
     "outputs": [
      {
       "output_type": "stream",
       "stream": "stdout",
       "text": [
        "On branch master\r\n",
        "Your branch is up-to-date with 'origin/master'.\r\n",
        "\r\n",
        "nothing to commit, working directory clean\r\n"
       ]
      }
     ],
     "prompt_number": 13
    },
    {
     "cell_type": "code",
     "collapsed": false,
     "input": [
      "! echo \"\\nThis is a very good thesis.\" >> phd_thesis.txt"
     ],
     "language": "python",
     "metadata": {},
     "outputs": [],
     "prompt_number": 14
    },
    {
     "cell_type": "code",
     "collapsed": false,
     "input": [
      "! git add phd_thesis.txt"
     ],
     "language": "python",
     "metadata": {},
     "outputs": [],
     "prompt_number": 15
    },
    {
     "cell_type": "code",
     "collapsed": false,
     "input": [
      "! git status"
     ],
     "language": "python",
     "metadata": {},
     "outputs": [
      {
       "output_type": "stream",
       "stream": "stdout",
       "text": [
        "On branch master\r\n",
        "Your branch is up-to-date with 'origin/master'.\r\n",
        "\r\n",
        "Changes to be committed:\r\n",
        "  (use \"git reset HEAD <file>...\" to unstage)\r\n",
        "\r\n",
        "\t\u001b[32mmodified:   phd_thesis.txt\u001b[m\r\n",
        "\r\n"
       ]
      }
     ],
     "prompt_number": 16
    },
    {
     "cell_type": "code",
     "collapsed": false,
     "input": [
      "# You decide that you don't want these changes \n",
      "# but have just done `git add`. What do you do?\n",
      "! git reset HEAD phd_thesis.txt"
     ],
     "language": "python",
     "metadata": {},
     "outputs": [
      {
       "output_type": "stream",
       "stream": "stdout",
       "text": [
        "Unstaged changes after reset:\r\n",
        "M\tphd_thesis.txt\r\n"
       ]
      }
     ],
     "prompt_number": 17
    },
    {
     "cell_type": "code",
     "collapsed": false,
     "input": [
      "! git status"
     ],
     "language": "python",
     "metadata": {},
     "outputs": [
      {
       "output_type": "stream",
       "stream": "stdout",
       "text": [
        "On branch master\r\n",
        "Your branch is up-to-date with 'origin/master'.\r\n",
        "\r\n",
        "Changes not staged for commit:\r\n",
        "  (use \"git add <file>...\" to update what will be committed)\r\n",
        "  (use \"git checkout -- <file>...\" to discard changes in working directory)\r\n",
        "\r\n",
        "\t\u001b[31mmodified:   phd_thesis.txt\u001b[m\r\n",
        "\r\n",
        "no changes added to commit (use \"git add\" and/or \"git commit -a\")\r\n"
       ]
      }
     ],
     "prompt_number": 18
    },
    {
     "cell_type": "code",
     "collapsed": false,
     "input": [
      "! git add phd_thesis.txt\n",
      "! git commit -m \"Oops I did it again\""
     ],
     "language": "python",
     "metadata": {},
     "outputs": [
      {
       "output_type": "stream",
       "stream": "stdout",
       "text": [
        "[master 94beb2b] Oops I did it again\r\n",
        " 1 file changed, 2 insertions(+), 1 deletion(-)\r\n"
       ]
      }
     ],
     "prompt_number": 19
    },
    {
     "cell_type": "code",
     "collapsed": false,
     "input": [
      "! git status"
     ],
     "language": "python",
     "metadata": {},
     "outputs": [
      {
       "output_type": "stream",
       "stream": "stdout",
       "text": [
        "On branch master\r\n",
        "Your branch is ahead of 'origin/master' by 1 commit.\r\n",
        "  (use \"git push\" to publish your local commits)\r\n",
        "\r\n",
        "nothing to commit, working directory clean\r\n"
       ]
      }
     ],
     "prompt_number": 20
    },
    {
     "cell_type": "code",
     "collapsed": false,
     "input": [
      "# You decide that you don't want these changes \n",
      "# but have just done `git commit`. What do you do?\n",
      "! git reset --soft HEAD~1 \n",
      "\n",
      "# Variantes\n",
      "# git reset --soft HEAD~1 ==> Resets to last commit\n",
      "# git reset --hard HEAD-1 ==> Resets to last commit and removes from staging area"
     ],
     "language": "python",
     "metadata": {},
     "outputs": [],
     "prompt_number": 21
    },
    {
     "cell_type": "code",
     "collapsed": false,
     "input": [
      "! git status"
     ],
     "language": "python",
     "metadata": {},
     "outputs": [
      {
       "output_type": "stream",
       "stream": "stdout",
       "text": [
        "On branch master\r\n",
        "Your branch is up-to-date with 'origin/master'.\r\n",
        "\r\n",
        "Changes to be committed:\r\n",
        "  (use \"git reset HEAD <file>...\" to unstage)\r\n",
        "\r\n",
        "\t\u001b[32mmodified:   phd_thesis.txt\u001b[m\r\n",
        "\r\n"
       ]
      }
     ],
     "prompt_number": 22
    },
    {
     "cell_type": "code",
     "collapsed": false,
     "input": [
      "! git commit -m \"Oops I did it again, again\"\n",
      "! git push"
     ],
     "language": "python",
     "metadata": {},
     "outputs": [
      {
       "output_type": "stream",
       "stream": "stdout",
       "text": [
        "[master 249f938] Oops I did it again, again\r\n",
        " 1 file changed, 2 insertions(+), 1 deletion(-)\r\n"
       ]
      },
      {
       "output_type": "stream",
       "stream": "stdout",
       "text": [
        "Counting objects: 5, done.\r\n",
        "Delta compression using up to 8 threads.\r\n",
        "Compressing objects:  33% (1/3)   \r",
        "Compressing objects:  66% (2/3)   \r",
        "Compressing objects: 100% (3/3)   \r",
        "Compressing objects: 100% (3/3), done.\r\n",
        "Writing objects:  33% (1/3)   \r",
        "Writing objects:  66% (2/3)   \r",
        "Writing objects: 100% (3/3)   \r",
        "Writing objects: 100% (3/3), 336 bytes | 0 bytes/s, done.\r\n",
        "Total 3 (delta 0), reused 0 (delta 0)\r\n"
       ]
      },
      {
       "output_type": "stream",
       "stream": "stdout",
       "text": [
        "To https://github.com/cliburn/monster-cookies-0.git\r\n",
        "   b89e719..249f938  master -> master\r\n"
       ]
      }
     ],
     "prompt_number": 23
    },
    {
     "cell_type": "code",
     "collapsed": false,
     "input": [
      "! git status"
     ],
     "language": "python",
     "metadata": {},
     "outputs": [
      {
       "output_type": "stream",
       "stream": "stdout",
       "text": [
        "On branch master\r\n",
        "Your branch is up-to-date with 'origin/master'.\r\n",
        "\r\n",
        "nothing to commit, working directory clean\r\n"
       ]
      }
     ],
     "prompt_number": 24
    },
    {
     "cell_type": "code",
     "collapsed": false,
     "input": [
      "# You decide that you don't want these changes\n",
      "# but have just done `git push`. What do you do?\n",
      "\n",
      "! git revert --no-edit HEAD\n",
      "! git commit -m \"Undoing last commit and push\"\n",
      "! git push"
     ],
     "language": "python",
     "metadata": {},
     "outputs": [
      {
       "output_type": "stream",
       "stream": "stdout",
       "text": [
        "[master f9b65fe] Revert \"Oops I did it again, again\"\r\n",
        " 1 file changed, 1 insertion(+), 2 deletions(-)\r\n"
       ]
      },
      {
       "output_type": "stream",
       "stream": "stdout",
       "text": [
        "On branch master\r\n",
        "Your branch is ahead of 'origin/master' by 1 commit.\r\n",
        "  (use \"git push\" to publish your local commits)\r\n",
        "\r\n",
        "nothing to commit, working directory clean\r\n"
       ]
      },
      {
       "output_type": "stream",
       "stream": "stdout",
       "text": [
        "Counting objects: 5, done.\r\n",
        "Delta compression using up to 8 threads.\r\n",
        "Compressing objects:  50% (1/2)   \r",
        "Compressing objects: 100% (2/2)   \r",
        "Compressing objects: 100% (2/2), done.\r\n",
        "Writing objects:  33% (1/3)   \r",
        "Writing objects:  66% (2/3)   \r",
        "Writing objects: 100% (3/3)   \r",
        "Writing objects: 100% (3/3), 347 bytes | 0 bytes/s, done.\r\n",
        "Total 3 (delta 0), reused 0 (delta 0)\r\n"
       ]
      },
      {
       "output_type": "stream",
       "stream": "stdout",
       "text": [
        "To https://github.com/cliburn/monster-cookies-0.git\r\n",
        "   249f938..f9b65fe  master -> master\r\n"
       ]
      }
     ],
     "prompt_number": 25
    },
    {
     "cell_type": "code",
     "collapsed": false,
     "input": [
      "! git status"
     ],
     "language": "python",
     "metadata": {},
     "outputs": [
      {
       "output_type": "stream",
       "stream": "stdout",
       "text": [
        "On branch master\r\n",
        "Your branch is up-to-date with 'origin/master'.\r\n",
        "\r\n",
        "nothing to commit, working directory clean\r\n"
       ]
      }
     ],
     "prompt_number": 26
    },
    {
     "cell_type": "markdown",
     "metadata": {},
     "source": [
      "**Exercise 4**: Modify \"jasa_mnauscript.txt\" by replacing the number 3 with 22/7. How do you find what is differnet from the working copy of the file and the current snapshot in the repository? Add, commit and push your changes."
     ]
    },
    {
     "cell_type": "code",
     "collapsed": false,
     "input": [
      "%load jasa_manuscript.txt"
     ],
     "language": "python",
     "metadata": {},
     "outputs": [],
     "prompt_number": 27
    },
    {
     "cell_type": "code",
     "collapsed": false,
     "input": [
      "$\\pi = 3$ almost everywhere."
     ],
     "language": "python",
     "metadata": {},
     "outputs": []
    },
    {
     "cell_type": "code",
     "collapsed": false,
     "input": [
      "%%file jasa_manuscript.txt\n",
      "$\\pi = 22/7$ almost everywhere.\n"
     ],
     "language": "python",
     "metadata": {},
     "outputs": [
      {
       "output_type": "stream",
       "stream": "stdout",
       "text": [
        "Overwriting jasa_manuscript.txt\n"
       ]
      }
     ],
     "prompt_number": 28
    },
    {
     "cell_type": "code",
     "collapsed": false,
     "input": [
      "! git diff"
     ],
     "language": "python",
     "metadata": {},
     "outputs": [
      {
       "output_type": "stream",
       "stream": "stdout",
       "text": [
        "\u001b[1mdiff --git a/jasa_manuscript.txt b/jasa_manuscript.txt\u001b[m\r\n",
        "\u001b[1mindex eb8e57e..44f487f 100644\u001b[m\r\n",
        "\u001b[1m--- a/jasa_manuscript.txt\u001b[m\r\n",
        "\u001b[1m+++ b/jasa_manuscript.txt\u001b[m\r\n",
        "\u001b[36m@@ -1 +1 @@\u001b[m\r\n",
        "\u001b[31m-$\\pi = 3$ almost everywhere.\u001b[m\r\n",
        "\\ No newline at end of file\u001b[m\r\n",
        "\u001b[32m+\u001b[m\u001b[32m$\\pi = 22/7$ almost everywhere.\u001b[m\r\n",
        "\\ No newline at end of file\u001b[m\r\n"
       ]
      }
     ],
     "prompt_number": 29
    },
    {
     "cell_type": "code",
     "collapsed": false,
     "input": [
      "! git add jasa_manuscript.txt\n",
      "! git commit -m \"pi is a fraction\"\n",
      "! git push"
     ],
     "language": "python",
     "metadata": {},
     "outputs": [
      {
       "output_type": "stream",
       "stream": "stdout",
       "text": [
        "[master 7507539] pi is a fraction\r\n",
        " 1 file changed, 1 insertion(+), 1 deletion(-)\r\n"
       ]
      },
      {
       "output_type": "stream",
       "stream": "stdout",
       "text": [
        "Counting objects: 5, done.\r\n",
        "Delta compression using up to 8 threads.\r\n",
        "Compressing objects:  50% (1/2)   \r",
        "Compressing objects: 100% (2/2)   \r",
        "Compressing objects: 100% (2/2), done.\r\n",
        "Writing objects:  33% (1/3)   \r",
        "Writing objects:  66% (2/3)   \r",
        "Writing objects: 100% (3/3)   \r",
        "Writing objects: 100% (3/3), 319 bytes | 0 bytes/s, done.\r\n",
        "Total 3 (delta 0), reused 0 (delta 0)\r\n"
       ]
      },
      {
       "output_type": "stream",
       "stream": "stdout",
       "text": [
        "To https://github.com/cliburn/monster-cookies-0.git\r\n",
        "   f9b65fe..7507539  master -> master\r\n"
       ]
      }
     ],
     "prompt_number": 30
    },
    {
     "cell_type": "markdown",
     "metadata": {},
     "source": [
      "**Exercise 5**. You accidnetally type `rm phd_thesis.txt` and realize you haven't backed up your laptop in 3 years. What do you do?"
     ]
    },
    {
     "cell_type": "code",
     "collapsed": false,
     "input": [
      "# Oops\n",
      "! rm phd_thesis.txt"
     ],
     "language": "python",
     "metadata": {},
     "outputs": [],
     "prompt_number": 31
    },
    {
     "cell_type": "code",
     "collapsed": false,
     "input": [
      "! git status"
     ],
     "language": "python",
     "metadata": {},
     "outputs": [
      {
       "output_type": "stream",
       "stream": "stdout",
       "text": [
        "On branch master\r\n",
        "Your branch is up-to-date with 'origin/master'.\r\n",
        "\r\n",
        "Changes not staged for commit:\r\n",
        "  (use \"git add/rm <file>...\" to update what will be committed)\r\n",
        "  (use \"git checkout -- <file>...\" to discard changes in working directory)\r\n",
        "\r\n",
        "\t\u001b[31mdeleted:    phd_thesis.txt\u001b[m\r\n",
        "\r\n",
        "no changes added to commit (use \"git add\" and/or \"git commit -a\")\r\n"
       ]
      }
     ],
     "prompt_number": 32
    },
    {
     "cell_type": "code",
     "collapsed": false,
     "input": [
      "! git checkout -- phd_thesis.txt"
     ],
     "language": "python",
     "metadata": {},
     "outputs": [],
     "prompt_number": 33
    },
    {
     "cell_type": "code",
     "collapsed": false,
     "input": [
      "# The file is back!\n",
      "%ls"
     ],
     "language": "python",
     "metadata": {},
     "outputs": [
      {
       "output_type": "stream",
       "stream": "stdout",
       "text": [
        "jasa_manuscript.txt  phd_thesis.txt\r\n"
       ]
      }
     ],
     "prompt_number": 34
    },
    {
     "cell_type": "markdown",
     "metadata": {},
     "source": [
      "**Exercise 6**. You accidentally deleted the `monster-cookies` folder on your hard drive with `rm -rf monster_cookies`. What do you do?"
     ]
    },
    {
     "cell_type": "code",
     "collapsed": false,
     "input": [
      "%cd ..\n",
      "%rm -rf monster_cookies"
     ],
     "language": "python",
     "metadata": {},
     "outputs": [
      {
       "output_type": "stream",
       "stream": "stdout",
       "text": [
        "/private/tmp\n"
       ]
      }
     ],
     "prompt_number": 35
    },
    {
     "cell_type": "code",
     "collapsed": false,
     "input": [
      "# Just re-clone from GitHub\n",
      "! git clone https://github.com/cliburn/monster-cookies-0.git monster_cookies"
     ],
     "language": "python",
     "metadata": {},
     "outputs": [
      {
       "output_type": "stream",
       "stream": "stdout",
       "text": [
        "Cloning into 'monster_cookies'...\r\n"
       ]
      },
      {
       "output_type": "stream",
       "stream": "stdout",
       "text": [
        "remote: Counting objects: 13, done.\u001b[K\r\n",
        "remote: Compressing objects:  12% (1/8)   \u001b[K\r",
        "remote: Compressing objects:  25% (2/8)   \u001b[K\r",
        "remote: Compressing objects:  37% (3/8)   \u001b[K\r",
        "remote: Compressing objects:  50% (4/8)   \u001b[K\r",
        "remote: Compressing objects:  62% (5/8)   \u001b[K\r",
        "remote: Compressing objects:  75% (6/8)   \u001b[K\r",
        "remote: Compressing objects:  87% (7/8)   \u001b[K\r",
        "remote: Compressing objects: 100% (8/8)   \u001b[K\r",
        "remote: Compressing objects: 100% (8/8), done.\u001b[K\r\n",
        "remote: Total 13 (delta 2), reused 12 (delta 1)\u001b[K\r\n",
        "Unpacking objects:   7% (1/13)   \r",
        "Unpacking objects:  15% (2/13)   \r",
        "Unpacking objects:  23% (3/13)   \r",
        "Unpacking objects:  30% (4/13)   \r"
       ]
      },
      {
       "output_type": "stream",
       "stream": "stdout",
       "text": [
        "Unpacking objects:  38% (5/13)   \r",
        "Unpacking objects:  46% (6/13)   \r",
        "Unpacking objects:  53% (7/13)   \r",
        "Unpacking objects:  61% (8/13)   \r",
        "Unpacking objects:  69% (9/13)   \r",
        "Unpacking objects:  76% (10/13)   \r",
        "Unpacking objects:  84% (11/13)   \r",
        "Unpacking objects:  92% (12/13)   \r",
        "Unpacking objects: 100% (13/13)   \r",
        "Unpacking objects: 100% (13/13), done.\r\n",
        "Checking connectivity... done.\r\n"
       ]
      }
     ],
     "prompt_number": 36
    },
    {
     "cell_type": "code",
     "collapsed": false,
     "input": [
      "%cd monster_cookies"
     ],
     "language": "python",
     "metadata": {},
     "outputs": [
      {
       "output_type": "stream",
       "stream": "stdout",
       "text": [
        "/private/tmp/monster_cookies\n"
       ]
      }
     ],
     "prompt_number": 37
    },
    {
     "cell_type": "markdown",
     "metadata": {},
     "source": [
      "**Exercise 7**. Your laptop falls into the lake at Sarah P Duke gardens and is eaten by a turtle. What do you do?"
     ]
    },
    {
     "cell_type": "code",
     "collapsed": false,
     "input": [
      "# Buy new laptop and re-clone from GitHub"
     ],
     "language": "python",
     "metadata": {},
     "outputs": [],
     "prompt_number": 38
    },
    {
     "cell_type": "markdown",
     "metadata": {},
     "source": [
      "**Exericse 8**. You realize that $\\pi = 3$ after all, and want to go back to the version before you made the 22/7 switch. What do you do?"
     ]
    },
    {
     "cell_type": "code",
     "collapsed": false,
     "input": [
      "! git log jasa_manuscript.txt"
     ],
     "language": "python",
     "metadata": {},
     "outputs": [
      {
       "output_type": "stream",
       "stream": "stdout",
       "text": [
        "\u001b[33mcommit 7507539342ce58a55d55cf291b8df4aba3674c5d\u001b[m\r\n",
        "Author: cllburn <cliburn.chan@duke.edu>\r\n",
        "Date:   Tue Jan 13 15:30:16 2015 -0500\r\n",
        "\r\n",
        "    pi is a fraction\r\n",
        "\r\n",
        "\u001b[33mcommit 7b546005ae6551ab16adc61e1c252d22823458f9\u001b[m\r\n",
        "Author: cllburn <cliburn.chan@duke.edu>\r\n",
        "Date:   Tue Jan 13 15:29:50 2015 -0500\r\n",
        "\r\n",
        "    First upload of JASA manuscript.\r\n"
       ]
      }
     ],
     "prompt_number": 39
    },
    {
     "cell_type": "code",
     "collapsed": false,
     "input": [
      "! git checkout 7b546005ae6551ab16adc61e1c252d22823458f9 jasa_manuscript.txt"
     ],
     "language": "python",
     "metadata": {},
     "outputs": [],
     "prompt_number": 40
    },
    {
     "cell_type": "code",
     "collapsed": false,
     "input": [
      "! cat jasa_manuscript.txt"
     ],
     "language": "python",
     "metadata": {},
     "outputs": [
      {
       "output_type": "stream",
       "stream": "stdout",
       "text": [
        "$\\pi = 3$ almost everywhere."
       ]
      }
     ],
     "prompt_number": 41
    },
    {
     "cell_type": "code",
     "collapsed": false,
     "input": [
      "! git status"
     ],
     "language": "python",
     "metadata": {},
     "outputs": [
      {
       "output_type": "stream",
       "stream": "stdout",
       "text": [
        "On branch master\r\n",
        "Your branch is up-to-date with 'origin/master'.\r\n",
        "\r\n",
        "Changes to be committed:\r\n",
        "  (use \"git reset HEAD <file>...\" to unstage)\r\n",
        "\r\n",
        "\t\u001b[32mmodified:   jasa_manuscript.txt\u001b[m\r\n",
        "\r\n"
       ]
      }
     ],
     "prompt_number": 42
    },
    {
     "cell_type": "code",
     "collapsed": false,
     "input": [
      "! git commit -m \"pi is not a fraction\"\n",
      "! git push"
     ],
     "language": "python",
     "metadata": {},
     "outputs": [
      {
       "output_type": "stream",
       "stream": "stdout",
       "text": [
        "[master e814dc3] pi is not a fraction\r\n",
        " 1 file changed, 1 insertion(+), 1 deletion(-)\r\n"
       ]
      },
      {
       "output_type": "stream",
       "stream": "stdout",
       "text": [
        "Counting objects: 5, done.\r\n",
        "Delta compression using up to 8 threads.\r\n",
        "Compressing objects:  50% (1/2)   \r",
        "Compressing objects: 100% (2/2)   \r",
        "Compressing objects: 100% (2/2), done.\r\n",
        "Writing objects:  33% (1/3)   \r",
        "Writing objects:  66% (2/3)   \r",
        "Writing objects: 100% (3/3)   \r",
        "Writing objects: 100% (3/3), 320 bytes | 0 bytes/s, done.\r\n",
        "Total 3 (delta 0), reused 0 (delta 0)\r\n"
       ]
      },
      {
       "output_type": "stream",
       "stream": "stdout",
       "text": [
        "To https://github.com/cliburn/monster-cookies-0.git\r\n",
        "   7507539..e814dc3  master -> master\r\n"
       ]
      }
     ],
     "prompt_number": 43
    },
    {
     "cell_type": "markdown",
     "metadata": {},
     "source": [
      "**Question**. What does jasa_manuscript.txt look like on GitHbub now?"
     ]
    },
    {
     "cell_type": "markdown",
     "metadata": {},
     "source": [
      "**Exercise 9**. You want to show off your productivity to your thesis advisor. What do you do?"
     ]
    },
    {
     "cell_type": "code",
     "collapsed": false,
     "input": [
      "! git log"
     ],
     "language": "python",
     "metadata": {},
     "outputs": [
      {
       "output_type": "stream",
       "stream": "stdout",
       "text": [
        "\u001b[33mcommit e814dc3dc079d2a66b33763df21ecdbdb150f61e\u001b[m\r\n",
        "Author: cllburn <cliburn.chan@duke.edu>\r\n",
        "Date:   Tue Jan 13 15:30:56 2015 -0500\r\n",
        "\r\n",
        "    pi is not a fraction\r\n",
        "\r\n",
        "\u001b[33mcommit 7507539342ce58a55d55cf291b8df4aba3674c5d\u001b[m\r\n",
        "Author: cllburn <cliburn.chan@duke.edu>\r\n",
        "Date:   Tue Jan 13 15:30:16 2015 -0500\r\n",
        "\r\n",
        "    pi is a fraction\r\n",
        "\r\n",
        "\u001b[33mcommit f9b65fe6eb7fa757733179a6c482548ad4ccbf27\u001b[m\r\n",
        "Author: cllburn <cliburn.chan@duke.edu>\r\n",
        "Date:   Tue Jan 13 15:30:04 2015 -0500\r\n",
        "\r\n",
        "    Revert \"Oops I did it again, again\"\r\n",
        "    \r\n",
        "    This reverts commit 249f93817eb28e60d9e4dcb56195761a9cef1787.\r\n",
        "\r\n",
        "\u001b[33mcommit 249f93817eb28e60d9e4dcb56195761a9cef1787\u001b[m\r\n",
        "Author: cllburn <cliburn.chan@duke.edu>\r\n",
        "Date:   Tue Jan 13 15:30:02 2015 -0500\r\n",
        "\r\n",
        "    Oops I did it again, again\r\n",
        "\r\n",
        "\u001b[33mcommit b89e719e3ec6dd8889798894b5117f506ecb73b4\u001b[m\r\n",
        "Author: cllburn <cliburn.chan@duke.edu>\r\n",
        "Date:   Tue Jan 13 15:29:50 2015 -0500\r\n",
        "\r\n",
        "    First upload of PhD thesis.\r\n",
        "\r\n",
        "\u001b[33mcommit 7b546005ae6551ab16adc61e1c252d22823458f9\u001b[m\r\n",
        "Author: cllburn <cliburn.chan@duke.edu>\r\n",
        "Date:   Tue Jan 13 15:29:50 2015 -0500\r\n",
        "\r\n",
        "    First upload of JASA manuscript.\r\n"
       ]
      }
     ],
     "prompt_number": 44
    },
    {
     "cell_type": "markdown",
     "metadata": {},
     "source": [
      "**Exercise 10**. You run the follwoing Python command from a make_cookies.py script\n",
      "```python\n",
      "for i in range(10):\n",
      "    open('f%02d.dat' % i, 'w').write('This contains intermediate results #%d' % i)\n",
      "```\n",
      "\n",
      "Now you have lots of `.dat` files that you don't want to commit but still wish to keep in the folder. What do you do?"
     ]
    },
    {
     "cell_type": "code",
     "collapsed": false,
     "input": [
      "%%file make_cookies.py\n",
      "for i in range(10):\n",
      "    open('cookies%02d.dat' % i, 'w').write('This contains cookies #%d' % i)"
     ],
     "language": "python",
     "metadata": {},
     "outputs": [
      {
       "output_type": "stream",
       "stream": "stdout",
       "text": [
        "Writing make_cookies.py\n"
       ]
      }
     ],
     "prompt_number": 45
    },
    {
     "cell_type": "code",
     "collapsed": false,
     "input": [
      "%run make_cookies.py"
     ],
     "language": "python",
     "metadata": {},
     "outputs": [],
     "prompt_number": 46
    },
    {
     "cell_type": "code",
     "collapsed": false,
     "input": [
      "! git status"
     ],
     "language": "python",
     "metadata": {},
     "outputs": [
      {
       "output_type": "stream",
       "stream": "stdout",
       "text": [
        "On branch master\r\n",
        "Your branch is up-to-date with 'origin/master'.\r\n",
        "\r\n",
        "Untracked files:\r\n",
        "  (use \"git add <file>...\" to include in what will be committed)\r\n",
        "\r\n",
        "\t\u001b[31mcookies00.dat\u001b[m\r\n",
        "\t\u001b[31mcookies01.dat\u001b[m\r\n",
        "\t\u001b[31mcookies02.dat\u001b[m\r\n",
        "\t\u001b[31mcookies03.dat\u001b[m\r\n",
        "\t\u001b[31mcookies04.dat\u001b[m\r\n",
        "\t\u001b[31mcookies05.dat\u001b[m\r\n",
        "\t\u001b[31mcookies06.dat\u001b[m\r\n",
        "\t\u001b[31mcookies07.dat\u001b[m\r\n",
        "\t\u001b[31mcookies08.dat\u001b[m\r\n",
        "\t\u001b[31mcookies09.dat\u001b[m\r\n",
        "\t\u001b[31mmake_cookies.py\u001b[m\r\n",
        "\r\n",
        "nothing added to commit but untracked files present (use \"git add\" to track)\r\n"
       ]
      }
     ],
     "prompt_number": 47
    },
    {
     "cell_type": "code",
     "collapsed": false,
     "input": [
      "%%file .gitignore\n",
      "*.dat\n"
     ],
     "language": "python",
     "metadata": {},
     "outputs": [
      {
       "output_type": "stream",
       "stream": "stdout",
       "text": [
        "Writing .gitignore\n"
       ]
      }
     ],
     "prompt_number": 48
    },
    {
     "cell_type": "code",
     "collapsed": false,
     "input": [
      "! git status"
     ],
     "language": "python",
     "metadata": {},
     "outputs": [
      {
       "output_type": "stream",
       "stream": "stdout",
       "text": [
        "On branch master\r\n",
        "Your branch is up-to-date with 'origin/master'.\r\n",
        "\r\n",
        "Untracked files:\r\n",
        "  (use \"git add <file>...\" to include in what will be committed)\r\n",
        "\r\n",
        "\t\u001b[31m.gitignore\u001b[m\r\n",
        "\t\u001b[31mmake_cookies.py\u001b[m\r\n",
        "\r\n",
        "nothing added to commit but untracked files present (use \"git add\" to track)\r\n"
       ]
      }
     ],
     "prompt_number": 49
    },
    {
     "cell_type": "code",
     "collapsed": false,
     "input": [
      "! git add .gitignore\n",
      "! git commit -m \"add list of files to ignore\"\n",
      "! git add make_cookies.py\n",
      "! git commit -m \"Cookie recipe for lots of cookies\"\n",
      "! git push"
     ],
     "language": "python",
     "metadata": {},
     "outputs": [
      {
       "output_type": "stream",
       "stream": "stdout",
       "text": [
        "[master 22e06c1] add list of files to ignore\r\n",
        " 1 file changed, 1 insertion(+)\r\n",
        " create mode 100644 .gitignore\r\n"
       ]
      },
      {
       "output_type": "stream",
       "stream": "stdout",
       "text": [
        "[master 599931e] Cookie recipe for lots of cookies\r\n",
        " 1 file changed, 2 insertions(+)\r\n",
        " create mode 100644 make_cookies.py\r\n"
       ]
      },
      {
       "output_type": "stream",
       "stream": "stdout",
       "text": [
        "Counting objects: 7, done.\r\n",
        "Delta compression using up to 8 threads.\r\n",
        "Compressing objects:  20% (1/5)   \r",
        "Compressing objects:  40% (2/5)   \r",
        "Compressing objects:  60% (3/5)   \r",
        "Compressing objects:  80% (4/5)   \r",
        "Compressing objects: 100% (5/5)   \r",
        "Compressing objects: 100% (5/5), done.\r\n",
        "Writing objects:  16% (1/6)   \r",
        "Writing objects:  33% (2/6)   \r",
        "Writing objects:  50% (3/6)   \r",
        "Writing objects:  66% (4/6)   \r",
        "Writing objects:  83% (5/6)   \r",
        "Writing objects: 100% (6/6)   \r",
        "Writing objects: 100% (6/6), 653 bytes | 0 bytes/s, done.\r\n",
        "Total 6 (delta 1), reused 0 (delta 0)\r\n"
       ]
      },
      {
       "output_type": "stream",
       "stream": "stdout",
       "text": [
        "To https://github.com/cliburn/monster-cookies-0.git\r\n",
        "   e814dc3..599931e  master -> master\r\n"
       ]
      }
     ],
     "prompt_number": 50
    },
    {
     "cell_type": "markdown",
     "metadata": {},
     "source": [
      "**Exercise 11**. You modify `phd_thesis.txt` by adding `This thesis is super awesome`. You modify `jasa_manuscript.txt` by replacing `3` with `3.14`. Add, commit and push each file so that each file has its own commit messsage (`making my thesis more awesomer` and `international pie day is March 14` respectively)."
     ]
    },
    {
     "cell_type": "code",
     "collapsed": false,
     "input": [
      "%load phd_thesis.txt"
     ],
     "language": "python",
     "metadata": {},
     "outputs": [],
     "prompt_number": 51
    },
    {
     "cell_type": "code",
     "collapsed": false,
     "input": [
      "My very short thesis."
     ],
     "language": "python",
     "metadata": {},
     "outputs": []
    },
    {
     "cell_type": "code",
     "collapsed": false,
     "input": [
      "%%file phd_thesis.txt\n",
      "My very short thesis.\n",
      "This thesis is super awesome.\n",
      " "
     ],
     "language": "python",
     "metadata": {},
     "outputs": [
      {
       "output_type": "stream",
       "stream": "stdout",
       "text": [
        "Overwriting phd_thesis.txt\n"
       ]
      }
     ],
     "prompt_number": 52
    },
    {
     "cell_type": "code",
     "collapsed": false,
     "input": [
      "%load jasa_manuscript.txt"
     ],
     "language": "python",
     "metadata": {},
     "outputs": [],
     "prompt_number": 53
    },
    {
     "cell_type": "code",
     "collapsed": false,
     "input": [
      "$\\pi = 3$ almost everywhere."
     ],
     "language": "python",
     "metadata": {},
     "outputs": []
    },
    {
     "cell_type": "code",
     "collapsed": false,
     "input": [
      "%%file jasa_manuscript.txt\n",
      "$\\pi = 3.14$ almost everywhere.\n"
     ],
     "language": "python",
     "metadata": {},
     "outputs": [
      {
       "output_type": "stream",
       "stream": "stdout",
       "text": [
        "Overwriting jasa_manuscript.txt\n"
       ]
      }
     ],
     "prompt_number": 54
    },
    {
     "cell_type": "code",
     "collapsed": false,
     "input": [
      "! git add phd_thesis.txt\n",
      "! git commit -m \"making my thesis more awesomer\""
     ],
     "language": "python",
     "metadata": {},
     "outputs": [
      {
       "output_type": "stream",
       "stream": "stdout",
       "text": [
        "[master 4a6fc71] making my thesis more awesomer\r\n",
        " 1 file changed, 3 insertions(+), 1 deletion(-)\r\n"
       ]
      }
     ],
     "prompt_number": 55
    },
    {
     "cell_type": "code",
     "collapsed": false,
     "input": [
      "!git add jasa_manuscript.txt\n",
      "! git commit -m \"international pie day is March 14\""
     ],
     "language": "python",
     "metadata": {},
     "outputs": [
      {
       "output_type": "stream",
       "stream": "stdout",
       "text": [
        "[master 6f62a69] international pie day is March 14\r\n",
        " 1 file changed, 1 insertion(+), 1 deletion(-)\r\n"
       ]
      }
     ],
     "prompt_number": 56
    },
    {
     "cell_type": "code",
     "collapsed": false,
     "input": [
      "! git push"
     ],
     "language": "python",
     "metadata": {},
     "outputs": [
      {
       "output_type": "stream",
       "stream": "stdout",
       "text": [
        "Counting objects: 9, done.\r\n",
        "Delta compression using up to 8 threads.\r\n",
        "Compressing objects:  20% (1/5)   \r",
        "Compressing objects:  40% (2/5)   \r",
        "Compressing objects:  60% (3/5)   \r",
        "Compressing objects:  80% (4/5)   \r",
        "Compressing objects: 100% (5/5)   \r",
        "Compressing objects: 100% (5/5), done.\r\n",
        "Writing objects:  16% (1/6)   \r",
        "Writing objects:  33% (2/6)   \r",
        "Writing objects:  50% (3/6)   \r",
        "Writing objects:  66% (4/6)   \r",
        "Writing objects:  83% (5/6)   \r",
        "Writing objects: 100% (6/6)   \r",
        "Writing objects: 100% (6/6), 604 bytes | 0 bytes/s, done.\r\n",
        "Total 6 (delta 2), reused 0 (delta 0)\r\n"
       ]
      },
      {
       "output_type": "stream",
       "stream": "stdout",
       "text": [
        "To https://github.com/cliburn/monster-cookies-0.git\r\n",
        "   599931e..6f62a69  master -> master\r\n"
       ]
      }
     ],
     "prompt_number": 57
    },
    {
     "cell_type": "markdown",
     "metadata": {},
     "source": [
      "**Exercise 12**. You decide to collaborate on `jasa_manuscipt.txt` with your friend (choose the person on your left or right, depending on who you think is better looking). You want to grant wrtie permission to your friend so that he/she can make changes to your repository. What do you do?"
     ]
    },
    {
     "cell_type": "code",
     "collapsed": false,
     "input": [
      "# Add friend as collabroator on repository Settings page using friend's GitHub name"
     ],
     "language": "python",
     "metadata": {},
     "outputs": [],
     "prompt_number": 58
    },
    {
     "cell_type": "markdown",
     "metadata": {},
     "source": [
      "**Exercise 13**. Your friend changes 3.14 to 2.718 in `jasa_manuscript.txt` and commits the changes to GitHub (add, commit, push). At the same time, you want to change $\\pi$ to $e$ so that the final version in GitHub reads $e = 2.718$. What do you do?"
     ]
    },
    {
     "cell_type": "code",
     "collapsed": false,
     "input": [
      "%cd .."
     ],
     "language": "python",
     "metadata": {},
     "outputs": [
      {
       "output_type": "stream",
       "stream": "stdout",
       "text": [
        "/private/tmp\n"
       ]
      }
     ],
     "prompt_number": 59
    },
    {
     "cell_type": "code",
     "collapsed": false,
     "input": [
      "! git clone https://github.com/cliburn/monster-cookies-0.git your_friends_monster_cookies"
     ],
     "language": "python",
     "metadata": {},
     "outputs": [
      {
       "output_type": "stream",
       "stream": "stdout",
       "text": [
        "Cloning into 'your_friends_monster_cookies'...\r\n"
       ]
      },
      {
       "output_type": "stream",
       "stream": "stdout",
       "text": [
        "remote: Counting objects: 26, done.\u001b[K\r\n",
        "remote: Compressing objects:   6% (1/16)   \u001b[K\r",
        "remote: Compressing objects:  12% (2/16)   \u001b[K\r",
        "remote: Compressing objects:  18% (3/16)   \u001b[K\r",
        "remote: Compressing objects:  25% (4/16)   \u001b[K\r",
        "remote: Compressing objects:  31% (5/16)   \u001b[K\r",
        "remote: Compressing objects:  37% (6/16)   \u001b[K\r",
        "remote: Compressing objects:  43% (7/16)   \u001b[K\r",
        "remote: Compressing objects:  50% (8/16)   \u001b[K\r",
        "remote: Compressing objects:  56% (9/16)   \u001b[K\r",
        "remote: Compressing objects:  62% (10/16)   \u001b[K\r",
        "remote: Compressing objects:  68% (11/16)   \u001b[K\r",
        "remote: Compressing objects:  75% (12/16)   \u001b[K\r",
        "remote: Compressing objects:  81% (13/16)   \u001b[K\r",
        "remote: Compressing objects:  87% (14/16)   \u001b[K\r",
        "remote: Compressing objects:  93% (15/16)   \u001b[K\r",
        "remote: Compressing objects: 100% (16/16)   \u001b[K\r",
        "remote: Compressing objects: 100% (16/16), done.\u001b[K\r\n",
        "remote: Total 26 (delta 6), reused 24 (delta 4)\u001b[K\r\n",
        "Unpacking objects:   3% (1/26)   \r",
        "Unpacking objects:   7% (2/26)   \r",
        "Unpacking objects:  11% (3/26)   \r",
        "Unpacking objects:  15% (4/26)   \r",
        "Unpacking objects:  19% (5/26)   \r",
        "Unpacking objects:  23% (6/26)   \r",
        "Unpacking objects:  26% (7/26)   \r",
        "Unpacking objects:  30% (8/26)   \r",
        "Unpacking objects:  34% (9/26)   \r",
        "Unpacking objects:  38% (10/26)   \r",
        "Unpacking objects:  42% (11/26)   \r",
        "Unpacking objects:  46% (12/26)   \r",
        "Unpacking objects:  50% (13/26)   \r",
        "Unpacking objects:  53% (14/26)   \r",
        "Unpacking objects:  57% (15/26)   \r",
        "Unpacking objects:  61% (16/26)   \r",
        "Unpacking objects:  65% (17/26)   \r",
        "Unpacking objects:  69% (18/26)   \r",
        "Unpacking objects:  73% (19/26)   \r",
        "Unpacking objects:  76% (20/26)   \r",
        "Unpacking objects:  80% (21/26)   \r",
        "Unpacking objects:  84% (22/26)   \r",
        "Unpacking objects:  88% (23/26)   \r",
        "Unpacking objects:  92% (24/26)   \r",
        "Unpacking objects:  96% (25/26)   \r",
        "Unpacking objects: 100% (26/26)   \r",
        "Unpacking objects: 100% (26/26), done.\r\n",
        "Checking connectivity... "
       ]
      },
      {
       "output_type": "stream",
       "stream": "stdout",
       "text": [
        "done.\r\n"
       ]
      }
     ],
     "prompt_number": 60
    },
    {
     "cell_type": "code",
     "collapsed": false,
     "input": [
      "%cd your_friends_monster_cookies"
     ],
     "language": "python",
     "metadata": {},
     "outputs": [
      {
       "output_type": "stream",
       "stream": "stdout",
       "text": [
        "/private/tmp/your_friends_monster_cookies\n"
       ]
      }
     ],
     "prompt_number": 61
    },
    {
     "cell_type": "code",
     "collapsed": false,
     "input": [
      "%load jasa_manuscript.txt"
     ],
     "language": "python",
     "metadata": {},
     "outputs": [],
     "prompt_number": 62
    },
    {
     "cell_type": "code",
     "collapsed": false,
     "input": [
      "$\\pi = 3.14$ almost everywhere."
     ],
     "language": "python",
     "metadata": {},
     "outputs": []
    },
    {
     "cell_type": "code",
     "collapsed": false,
     "input": [
      "# This edit would be done by your friend in his/her own local repository"
     ],
     "language": "python",
     "metadata": {},
     "outputs": [],
     "prompt_number": 63
    },
    {
     "cell_type": "code",
     "collapsed": false,
     "input": [
      "%%file jasa_manuscript.txt\n",
      "$\\pi = 2.718$ almost everywhere.\n"
     ],
     "language": "python",
     "metadata": {},
     "outputs": [
      {
       "output_type": "stream",
       "stream": "stdout",
       "text": [
        "Overwriting jasa_manuscript.txt\n"
       ]
      }
     ],
     "prompt_number": 64
    },
    {
     "cell_type": "code",
     "collapsed": false,
     "input": [
      "# This commit would be done by your friend in his/her own local repository\n",
      "! git add jasa_manuscript.txt\n",
      "! git commit -m \"Making pi smaller - your friend\"\n",
      "! git push"
     ],
     "language": "python",
     "metadata": {},
     "outputs": [
      {
       "output_type": "stream",
       "stream": "stdout",
       "text": [
        "[master e185187] Making pi smaller - your friend\r\n",
        " 1 file changed, 1 insertion(+), 1 deletion(-)\r\n"
       ]
      },
      {
       "output_type": "stream",
       "stream": "stdout",
       "text": [
        "Counting objects: 5, done.\r\n",
        "Delta compression using up to 8 threads.\r\n",
        "Compressing objects:  50% (1/2)   \r",
        "Compressing objects: 100% (2/2)   \r",
        "Compressing objects: 100% (2/2), done.\r\n",
        "Writing objects:  33% (1/3)   \r",
        "Writing objects:  66% (2/3)   \r",
        "Writing objects: 100% (3/3)   \r",
        "Writing objects: 100% (3/3), 302 bytes | 0 bytes/s, done.\r\n",
        "Total 3 (delta 1), reused 0 (delta 0)\r\n"
       ]
      },
      {
       "output_type": "stream",
       "stream": "stdout",
       "text": [
        "To https://github.com/cliburn/monster-cookies-0.git\r\n",
        "   6f62a69..e185187  master -> master\r\n"
       ]
      }
     ],
     "prompt_number": 65
    },
    {
     "cell_type": "code",
     "collapsed": false,
     "input": [
      "# Now your turn"
     ],
     "language": "python",
     "metadata": {},
     "outputs": [],
     "prompt_number": 66
    },
    {
     "cell_type": "code",
     "collapsed": false,
     "input": [
      "%cd ../monster_cookies"
     ],
     "language": "python",
     "metadata": {},
     "outputs": [
      {
       "output_type": "stream",
       "stream": "stdout",
       "text": [
        "/private/tmp/monster_cookies\n"
       ]
      }
     ],
     "prompt_number": 67
    },
    {
     "cell_type": "code",
     "collapsed": false,
     "input": [
      "! git pull"
     ],
     "language": "python",
     "metadata": {},
     "outputs": [
      {
       "output_type": "stream",
       "stream": "stdout",
       "text": [
        "remote: Counting objects: 3, done.\u001b[K\r\n",
        "remote: Compressing objects: 100% (1/1)   \u001b[K\r",
        "remote: Compressing objects: 100% (1/1), done.\u001b[K\r\n",
        "remote: Total 3 (delta 1), reused 3 (delta 1)\u001b[K\r\n",
        "Unpacking objects:  33% (1/3)   \r",
        "Unpacking objects:  66% (2/3)   \r",
        "Unpacking objects: 100% (3/3)   \r",
        "Unpacking objects: 100% (3/3), done.\r\n"
       ]
      },
      {
       "output_type": "stream",
       "stream": "stdout",
       "text": [
        "From https://github.com/cliburn/monster-cookies-0\r\n",
        "   6f62a69..e185187  master     -> origin/master\r\n",
        "Updating 6f62a69..e185187\r\n",
        "Fast-forward\r\n"
       ]
      },
      {
       "output_type": "stream",
       "stream": "stdout",
       "text": [
        " jasa_manuscript.txt | 2 \u001b[32m+\u001b[m\u001b[31m-\u001b[m\r\n",
        " 1 file changed, 1 insertion(+), 1 deletion(-)\r\n"
       ]
      }
     ],
     "prompt_number": 68
    },
    {
     "cell_type": "code",
     "collapsed": false,
     "input": [
      "%load jasa_manuscript.txt"
     ],
     "language": "python",
     "metadata": {},
     "outputs": [],
     "prompt_number": 69
    },
    {
     "cell_type": "code",
     "collapsed": false,
     "input": [
      "$\\pi = 2.718$ almost everywhere."
     ],
     "language": "python",
     "metadata": {},
     "outputs": []
    },
    {
     "cell_type": "code",
     "collapsed": false,
     "input": [
      "%%file jasa_manuscript.txt\n",
      "$e = 2.718$ almost everywhere.\n"
     ],
     "language": "python",
     "metadata": {},
     "outputs": [
      {
       "output_type": "stream",
       "stream": "stdout",
       "text": [
        "Overwriting jasa_manuscript.txt\n"
       ]
      }
     ],
     "prompt_number": 70
    },
    {
     "cell_type": "code",
     "collapsed": false,
     "input": [
      "! git add jasa_manuscript.txt\n",
      "! git commit -m \"pi = e\""
     ],
     "language": "python",
     "metadata": {},
     "outputs": [
      {
       "output_type": "stream",
       "stream": "stdout",
       "text": [
        "[master 1a020da] pi = e\r\n",
        " 1 file changed, 1 insertion(+), 1 deletion(-)\r\n"
       ]
      }
     ],
     "prompt_number": 71
    },
    {
     "cell_type": "code",
     "collapsed": false,
     "input": [
      "! git push"
     ],
     "language": "python",
     "metadata": {},
     "outputs": [
      {
       "output_type": "stream",
       "stream": "stdout",
       "text": [
        "Counting objects: 5, done.\r\n",
        "Delta compression using up to 8 threads.\r\n",
        "Compressing objects:  50% (1/2)   \r",
        "Compressing objects: 100% (2/2)   \r",
        "Compressing objects: 100% (2/2), done.\r\n",
        "Writing objects:  33% (1/3)   \r",
        "Writing objects:  66% (2/3)   \r",
        "Writing objects: 100% (3/3)   \r",
        "Writing objects: 100% (3/3), 279 bytes | 0 bytes/s, done.\r\n",
        "Total 3 (delta 1), reused 0 (delta 0)\r\n"
       ]
      },
      {
       "output_type": "stream",
       "stream": "stdout",
       "text": [
        "To https://github.com/cliburn/monster-cookies-0.git\r\n",
        "   e185187..1a020da  master -> master\r\n"
       ]
      }
     ],
     "prompt_number": 72
    },
    {
     "cell_type": "markdown",
     "metadata": {},
     "source": [
      "**Exercise 14**. You are flying back to RDU on a 34 hour plane trip with no internet access when you have a brilliant idea taht you want to record. You pull out your laptop, create a new repository called `my-first-original-thought`, write down your thoughts in `brilliant.txt`, then add and commit it to your lcoal repository. When you arrive, you put your local repository on GitHub so taht it can be archived and shared. How did you do this?"
     ]
    },
    {
     "cell_type": "markdown",
     "metadata": {},
     "source": [
      "**On the plane**"
     ]
    },
    {
     "cell_type": "code",
     "collapsed": false,
     "input": [
      "%cd /private/tmp\n",
      "! git init my_first_original_thought"
     ],
     "language": "python",
     "metadata": {},
     "outputs": [
      {
       "output_type": "stream",
       "stream": "stdout",
       "text": [
        "/private/tmp\n",
        "Initialized empty Git repository in /private/tmp/my_first_original_thought/.git/\r\n"
       ]
      }
     ],
     "prompt_number": 73
    },
    {
     "cell_type": "code",
     "collapsed": false,
     "input": [
      "%cd my_first_original_thought"
     ],
     "language": "python",
     "metadata": {},
     "outputs": [
      {
       "output_type": "stream",
       "stream": "stdout",
       "text": [
        "/private/tmp/my_first_original_thought\n"
       ]
      }
     ],
     "prompt_number": 74
    },
    {
     "cell_type": "code",
     "collapsed": false,
     "input": [
      "%%file brilliant.txt\n",
      "Ham and eggs are yummy together!\n"
     ],
     "language": "python",
     "metadata": {},
     "outputs": [
      {
       "output_type": "stream",
       "stream": "stdout",
       "text": [
        "Writing brilliant.txt\n"
       ]
      }
     ],
     "prompt_number": 75
    },
    {
     "cell_type": "code",
     "collapsed": false,
     "input": [
      "! git add brilliant.txt\n",
      "! git commit -m \"Mmmmm, hungry\"\n",
      "! git status"
     ],
     "language": "python",
     "metadata": {},
     "outputs": [
      {
       "output_type": "stream",
       "stream": "stdout",
       "text": [
        "[master (root-commit) b0ee86d] Mmmmm, hungry\r\n",
        " 1 file changed, 1 insertion(+)\r\n",
        " create mode 100644 brilliant.txt\r\n"
       ]
      },
      {
       "output_type": "stream",
       "stream": "stdout",
       "text": [
        "On branch master\r\n",
        "nothing to commit, working directory clean\r\n"
       ]
      }
     ],
     "prompt_number": 76
    },
    {
     "cell_type": "markdown",
     "metadata": {},
     "source": [
      "**On arrival back in Durham**\n",
      "\n",
      "First go to GitHub and make an empty repsootiry called `my-first-original-thought`."
     ]
    },
    {
     "cell_type": "code",
     "collapsed": false,
     "input": [
      "# If not in my_first_original_thought, cd there"
     ],
     "language": "python",
     "metadata": {},
     "outputs": [],
     "prompt_number": 77
    },
    {
     "cell_type": "code",
     "collapsed": false,
     "input": [
      "! git remote add origin https://github.com/cliburn/my-first-original-thought-0.git\n",
      "! git push -u origin master"
     ],
     "language": "python",
     "metadata": {},
     "outputs": [
      {
       "output_type": "stream",
       "stream": "stdout",
       "text": [
        "Counting objects: 3, done.\r\n",
        "Writing objects:  33% (1/3)   \r",
        "Writing objects:  66% (2/3)   \r",
        "Writing objects: 100% (3/3)   \r",
        "Writing objects: 100% (3/3), 252 bytes | 0 bytes/s, done.\r\n",
        "Total 3 (delta 0), reused 0 (delta 0)\r\n"
       ]
      },
      {
       "output_type": "stream",
       "stream": "stdout",
       "text": [
        "To https://github.com/cliburn/my-first-original-thought-0.git\r\n",
        " * [new branch]      master -> master\r\n",
        "Branch master set up to track remote branch master from origin.\r\n"
       ]
      }
     ],
     "prompt_number": 78
    },
    {
     "cell_type": "code",
     "collapsed": false,
     "input": [
      "! git status"
     ],
     "language": "python",
     "metadata": {},
     "outputs": [
      {
       "output_type": "stream",
       "stream": "stdout",
       "text": [
        "On branch master\r\n",
        "Your branch is up-to-date with 'origin/master'.\r\n",
        "\r\n",
        "nothing to commit, working directory clean\r\n"
       ]
      }
     ],
     "prompt_number": 79
    },
    {
     "cell_type": "markdown",
     "metadata": {},
     "source": [
      "**Exericse 15**.Your JASA manuscript is accepted after all 3 reviewers acclaim its brilliance with commeents like \"I never relaized the most common character in the English language had a numeric value!\". You want to tag the current (accepted) version of the manuscript as 1.0 with the annotation \"Version accepted by JASA\". What do you do?"
     ]
    },
    {
     "cell_type": "code",
     "collapsed": false,
     "input": [
      "%cd ../monster_cookies"
     ],
     "language": "python",
     "metadata": {},
     "outputs": [
      {
       "output_type": "stream",
       "stream": "stdout",
       "text": [
        "/private/tmp/monster_cookies\n"
       ]
      }
     ],
     "prompt_number": 80
    },
    {
     "cell_type": "code",
     "collapsed": false,
     "input": [
      "! git tag -a 1.0 -m \"Version accepted by JASA\""
     ],
     "language": "python",
     "metadata": {},
     "outputs": [],
     "prompt_number": 81
    },
    {
     "cell_type": "code",
     "collapsed": false,
     "input": [
      "! git tag"
     ],
     "language": "python",
     "metadata": {},
     "outputs": [
      {
       "output_type": "stream",
       "stream": "stdout",
       "text": [
        "1.0\r\n"
       ]
      }
     ],
     "prompt_number": 82
    },
    {
     "cell_type": "code",
     "collapsed": false,
     "input": [
      "! git show 1.0"
     ],
     "language": "python",
     "metadata": {},
     "outputs": [
      {
       "output_type": "stream",
       "stream": "stdout",
       "text": [
        "\u001b[33mtag 1.0\u001b[m\r\n",
        "Tagger: cllburn <cliburn.chan@duke.edu>\r\n",
        "Date:   Tue Jan 13 15:33:09 2015 -0500\r\n",
        "\r\n",
        "Version accepted by JASA\r\n",
        "\r\n",
        "\u001b[33mcommit 1a020daf63437f81073bf46211a0dc15ebc2be72\u001b[m\r\n",
        "Author: cllburn <cliburn.chan@duke.edu>\r\n",
        "Date:   Tue Jan 13 15:32:18 2015 -0500\r\n",
        "\r\n",
        "    pi = e\r\n",
        "\r\n",
        "\u001b[1mdiff --git a/jasa_manuscript.txt b/jasa_manuscript.txt\u001b[m\r\n",
        "\u001b[1mindex 80270a3..9607468 100644\u001b[m\r\n",
        "\u001b[1m--- a/jasa_manuscript.txt\u001b[m\r\n",
        "\u001b[1m+++ b/jasa_manuscript.txt\u001b[m\r\n",
        "\u001b[36m@@ -1 +1 @@\u001b[m\r\n",
        "\u001b[31m-$\\pi = 2.718$ almost everywhere.\u001b[m\r\n",
        "\\ No newline at end of file\u001b[m\r\n",
        "\u001b[32m+\u001b[m\u001b[32m$e = 2.718$ almost everywhere.\u001b[m\r\n",
        "\\ No newline at end of file\u001b[m\r\n"
       ]
      }
     ],
     "prompt_number": 83
    },
    {
     "cell_type": "code",
     "collapsed": false,
     "input": [
      "! git status"
     ],
     "language": "python",
     "metadata": {},
     "outputs": [
      {
       "output_type": "stream",
       "stream": "stdout",
       "text": [
        "On branch master\r\n",
        "Your branch is up-to-date with 'origin/master'.\r\n",
        "\r\n",
        "nothing to commit, working directory clean\r\n"
       ]
      }
     ],
     "prompt_number": 84
    },
    {
     "cell_type": "code",
     "collapsed": false,
     "input": [
      "! git push --tag"
     ],
     "language": "python",
     "metadata": {},
     "outputs": [
      {
       "output_type": "stream",
       "stream": "stdout",
       "text": [
        "Counting objects: 1, done.\r\n",
        "Writing objects: 100% (1/1)   \r",
        "Writing objects: 100% (1/1), 172 bytes | 0 bytes/s, done.\r\n",
        "Total 1 (delta 0), reused 0 (delta 0)\r\n"
       ]
      },
      {
       "output_type": "stream",
       "stream": "stdout",
       "text": [
        "To https://github.com/cliburn/monster-cookies-0.git\r\n",
        " * [new tag]         1.0 -> 1.0\r\n"
       ]
      }
     ],
     "prompt_number": 86
    },
    {
     "cell_type": "markdown",
     "metadata": {},
     "source": [
      "Branching and merging (optional)\n",
      "----"
     ]
    },
    {
     "cell_type": "markdown",
     "metadata": {},
     "source": [
      "**Exercise 16**. You decide to add some new experiemnetal code to `make_cookies.py` that you are not sure will work. In order to presrve the strucutre of the existing reposiotry, you decide to use *branching* in Git. Create a new branch called `hack-01` and swtich to that branch."
     ]
    },
    {
     "cell_type": "code",
     "collapsed": false,
     "input": [
      "! git checkout -b hack-01"
     ],
     "language": "python",
     "metadata": {},
     "outputs": [
      {
       "output_type": "stream",
       "stream": "stdout",
       "text": [
        "Switched to a new branch 'hack-01'\r\n"
       ]
      }
     ],
     "prompt_number": 87
    },
    {
     "cell_type": "markdown",
     "metadata": {},
     "source": [
      "**Exercise 17**. Modify `make_cookies.py` in the `hack-01` branch so that the new code reads as follows:\n",
      "\n",
      "```python\n",
      "if __name__ == '__main__':\n",
      "    for i in range(10):\n",
      "        open('f%02d.dat' % i, 'w').write('This contains intermediate results #%d' % i)\n",
      "```\n",
      "\n",
      "Add and commit the changes."
     ]
    },
    {
     "cell_type": "code",
     "collapsed": false,
     "input": [
      "%load make_cookies.py"
     ],
     "language": "python",
     "metadata": {},
     "outputs": [],
     "prompt_number": 88
    },
    {
     "cell_type": "code",
     "collapsed": false,
     "input": [
      "for i in range(10):\n",
      "    open('cookies%02d.dat' % i, 'w').write('This contains cookies #%d' % i)"
     ],
     "language": "python",
     "metadata": {},
     "outputs": []
    },
    {
     "cell_type": "code",
     "collapsed": false,
     "input": [
      "%%file make_cookies.py\n",
      "if __name__ == '__main__':\n",
      "    for i in range(10):\n",
      "        open('f%02d.dat' % i, 'w').write('This contains intermediate results #%d' % i)"
     ],
     "language": "python",
     "metadata": {},
     "outputs": [
      {
       "output_type": "stream",
       "stream": "stdout",
       "text": [
        "Overwriting make_cookies.py\n"
       ]
      }
     ],
     "prompt_number": 89
    },
    {
     "cell_type": "code",
     "collapsed": false,
     "input": [
      "! git add make_cookies.py\n",
      "! git commit -m \"lots of underscores\"\n",
      "! git push"
     ],
     "language": "python",
     "metadata": {},
     "outputs": [
      {
       "output_type": "stream",
       "stream": "stdout",
       "text": [
        "[hack-01 137541b] lots of underscores\r\n",
        " 1 file changed, 3 insertions(+), 2 deletions(-)\r\n"
       ]
      },
      {
       "output_type": "stream",
       "stream": "stdout",
       "text": [
        "fatal: The current branch hack-01 has no upstream branch.\r\n",
        "To push the current branch and set the remote as upstream, use\r\n",
        "\r\n",
        "    git push --set-upstream origin hack-01\r\n",
        "\r\n"
       ]
      }
     ],
     "prompt_number": 90
    },
    {
     "cell_type": "code",
     "collapsed": false,
     "input": [
      "! git push --set-upstream origin hack-01 "
     ],
     "language": "python",
     "metadata": {},
     "outputs": [
      {
       "output_type": "stream",
       "stream": "stdout",
       "text": [
        "Counting objects: 5, done.\r\n",
        "Delta compression using up to 8 threads.\r\n",
        "Compressing objects:  33% (1/3)   \r",
        "Compressing objects:  66% (2/3)   \r",
        "Compressing objects: 100% (3/3)   \r",
        "Compressing objects: 100% (3/3), done.\r\n",
        "Writing objects:  33% (1/3)   \r",
        "Writing objects:  66% (2/3)   \r",
        "Writing objects: 100% (3/3)   \r",
        "Writing objects: 100% (3/3), 371 bytes | 0 bytes/s, done.\r\n",
        "Total 3 (delta 1), reused 0 (delta 0)\r\n"
       ]
      },
      {
       "output_type": "stream",
       "stream": "stdout",
       "text": [
        "To https://github.com/cliburn/monster-cookies-0.git\r\n",
        " * [new branch]      hack-01 -> hack-01\r\n",
        "Branch hack-01 set up to track remote branch hack-01 from origin.\r\n"
       ]
      }
     ],
     "prompt_number": 91
    },
    {
     "cell_type": "markdown",
     "metadata": {},
     "source": [
      "**Exercise 18**. At the same time, you decide to add new results to `phd_thesis.txt` in the master branch. Switch back to the master branch and Append the following line to your thesis `This thesis is now complete.`. Add, commit and push the changes."
     ]
    },
    {
     "cell_type": "code",
     "collapsed": false,
     "input": [
      "! git checkout master"
     ],
     "language": "python",
     "metadata": {},
     "outputs": [
      {
       "output_type": "stream",
       "stream": "stdout",
       "text": [
        "Switched to branch 'master'\r\n",
        "Your branch is up-to-date with 'origin/master'.\r\n"
       ]
      }
     ],
     "prompt_number": 92
    },
    {
     "cell_type": "code",
     "collapsed": false,
     "input": [
      "! echo \"\\nThis thesis is now complete\" >> phd_thesis.txt"
     ],
     "language": "python",
     "metadata": {},
     "outputs": [],
     "prompt_number": 93
    },
    {
     "cell_type": "code",
     "collapsed": false,
     "input": [
      "! git add phd_thesis.txt\n",
      "! git commit -m \"Done!!!\"\n",
      "! git push"
     ],
     "language": "python",
     "metadata": {},
     "outputs": [
      {
       "output_type": "stream",
       "stream": "stdout",
       "text": [
        "[master daa0afa] Done!!!\r\n",
        " 1 file changed, 2 insertions(+), 1 deletion(-)\r\n"
       ]
      },
      {
       "output_type": "stream",
       "stream": "stdout",
       "text": [
        "Counting objects: 6, done.\r\n",
        "Delta compression using up to 8 threads.\r\n",
        "Compressing objects:  33% (1/3)   \r",
        "Compressing objects:  66% (2/3)   \r",
        "Compressing objects: 100% (3/3)   \r",
        "Compressing objects: 100% (3/3), done.\r\n",
        "Writing objects:  33% (1/3)   \r",
        "Writing objects:  66% (2/3)   \r",
        "Writing objects: 100% (3/3)   \r",
        "Writing objects: 100% (3/3), 310 bytes | 0 bytes/s, done.\r\n",
        "Total 3 (delta 1), reused 0 (delta 0)\r\n"
       ]
      },
      {
       "output_type": "stream",
       "stream": "stdout",
       "text": [
        "To https://github.com/cliburn/monster-cookies-0.git\r\n",
        "   1a020da..daa0afa  master -> master\r\n"
       ]
      }
     ],
     "prompt_number": 94
    },
    {
     "cell_type": "markdown",
     "metadata": {},
     "source": [
      "**Exercise 19**. You are happy with your changes in `hok-01` and want them to be incorporated into the main (master) brachn. Merge the `hack-01` branch with the master branch. Check that the changes have been incorporated, then push to GitHub."
     ]
    },
    {
     "cell_type": "code",
     "collapsed": false,
     "input": [
      "! git merge --no-edit hack-01"
     ],
     "language": "python",
     "metadata": {},
     "outputs": [
      {
       "output_type": "stream",
       "stream": "stdout",
       "text": [
        "Already up-to-date.\r\n"
       ]
      }
     ],
     "prompt_number": 97
    },
    {
     "cell_type": "markdown",
     "metadata": {},
     "source": [
      "**Exercise 20**. Now that the changes have been merged, `hook-01` is no longer needed. Delete the `hook-01` branch."
     ]
    },
    {
     "cell_type": "code",
     "collapsed": false,
     "input": [
      "! git branch -d hack-01"
     ],
     "language": "python",
     "metadata": {},
     "outputs": [
      {
       "output_type": "stream",
       "stream": "stdout",
       "text": [
        "Deleted branch hack-01 (was 137541b).\r\n"
       ]
      }
     ],
     "prompt_number": 98
    },
    {
     "cell_type": "code",
     "collapsed": false,
     "input": [
      "! git status"
     ],
     "language": "python",
     "metadata": {},
     "outputs": [
      {
       "output_type": "stream",
       "stream": "stdout",
       "text": [
        "On branch master\r\n",
        "Your branch is ahead of 'origin/master' by 2 commits.\r\n",
        "  (use \"git push\" to publish your local commits)\r\n",
        "\r\n",
        "nothing to commit, working directory clean\r\n"
       ]
      }
     ],
     "prompt_number": 99
    },
    {
     "cell_type": "code",
     "collapsed": false,
     "input": [
      "! git push"
     ],
     "language": "python",
     "metadata": {},
     "outputs": [
      {
       "output_type": "stream",
       "stream": "stdout",
       "text": [
        "Counting objects: 4, done.\r\n",
        "Delta compression using up to 8 threads.\r\n",
        "Compressing objects:  50% (1/2)   \r",
        "Compressing objects: 100% (2/2)   \r",
        "Compressing objects: 100% (2/2), done.\r\n",
        "Writing objects:  50% (1/2)   \r",
        "Writing objects: 100% (2/2)   \r",
        "Writing objects: 100% (2/2), 277 bytes | 0 bytes/s, done.\r\n",
        "Total 2 (delta 1), reused 0 (delta 0)\r\n"
       ]
      },
      {
       "output_type": "stream",
       "stream": "stdout",
       "text": [
        "To https://github.com/cliburn/monster-cookies-0.git\r\n",
        "   daa0afa..f86715e  master -> master\r\n"
       ]
      }
     ],
     "prompt_number": 100
    },
    {
     "cell_type": "code",
     "collapsed": false,
     "input": [
      "ls"
     ],
     "language": "python",
     "metadata": {},
     "outputs": [
      {
       "output_type": "stream",
       "stream": "stdout",
       "text": [
        "cookies00.dat        cookies05.dat        jasa_manuscript.txt\r\n",
        "cookies01.dat        cookies06.dat        make_cookies.py\r\n",
        "cookies02.dat        cookies07.dat        phd_thesis.txt\r\n",
        "cookies03.dat        cookies08.dat\r\n",
        "cookies04.dat        cookies09.dat\r\n"
       ]
      }
     ],
     "prompt_number": 101
    },
    {
     "cell_type": "code",
     "collapsed": false,
     "input": [],
     "language": "python",
     "metadata": {},
     "outputs": []
    }
   ],
   "metadata": {}
  }
 ]
}