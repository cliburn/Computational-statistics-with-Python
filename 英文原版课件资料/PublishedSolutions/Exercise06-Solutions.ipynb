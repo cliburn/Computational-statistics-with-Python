{
 "metadata": {
  "name": "",
  "signature": "sha256:0c8e3928c748d24e54bd070267d65728b3aee2bbe2658ebb0e6c451a39b66764"
 },
 "nbformat": 3,
 "nbformat_minor": 0,
 "worksheets": [
  {
   "cells": [
    {
     "cell_type": "code",
     "collapsed": false,
     "input": [
      "from __future__ import division\n",
      "\n",
      "import os\n",
      "import sys\n",
      "import glob\n",
      "import matplotlib.pyplot as plt\n",
      "import numpy as np\n",
      "import pandas as pd\n",
      "%matplotlib inline\n",
      "%precision 4\n",
      "plt.style.use('ggplot')\n"
     ],
     "language": "python",
     "metadata": {},
     "outputs": [],
     "prompt_number": 1
    },
    {
     "cell_type": "code",
     "collapsed": false,
     "input": [
      "import scipy.optimize as opt\n",
      "import scipy.stats as stats\n",
      "import scipy.linalg as la\n",
      "from IPython.display import Image"
     ],
     "language": "python",
     "metadata": {},
     "outputs": [],
     "prompt_number": 2
    },
    {
     "cell_type": "markdown",
     "metadata": {},
     "source": [
      "**Notes**\n",
      "\n",
      "From this point in the course onwards, homework instructions will be briefer than before with less hand-holding and explanation. You are expected to do the necessary research to solve the given problems on your own."
     ]
    },
    {
     "cell_type": "markdown",
     "metadata": {},
     "source": [
      "**Exercise 1 (10 points)**.\n",
      "\n",
      "A milkmaid is at point A and needs to get to point B. However, she also needs to fill a pail of water from the river en route from A to B. The equation of the river's path is shown in the figure below. \n",
      "\n",
      "- What is the minimum distance she has to travel to do this?\n",
      "- Modify the code below so that the path taken by the milkmaid is shown as a dashed line.\n",
      "\n",
      "```\n",
      "x = np.linspace(0, 10, 100)\n",
      "plt.xlim([0, 10])\n",
      "plt.plot(x, 10.0/(1+x), 'b', linewidth=5)\n",
      "plt.scatter([2,8], [8,4], c=[0,1], s=100)\n",
      "plt.text(8, 5, 'B (8,4)', fontsize=16)\n",
      "plt.text(2, 9, 'A (2,8)', fontsize=16)\n",
      "plt.text(0.5, 2, 'River', fontsize=16)\n",
      "plt.text(0.5, 0.5, 'g(x y) = y - 10/(1+x)', fontsize=16);\n",
      "```"
     ]
    },
    {
     "cell_type": "code",
     "collapsed": false,
     "input": [
      "def f(p, A, B):\n",
      "    return la.norm(p-A) + la.norm(p-B)\n",
      "\n",
      "cons = {'type': 'eq',\n",
      "        'fun': lambda p: p[1] - 10.0/(1+p[0])}\n",
      "\n",
      "A = [2,8]\n",
      "B = [8,4]\n",
      "sol = opt.minimize(f, [0,0], constraints=cons, args=(A, B))\n",
      "sol.x\n",
      "\n",
      "print \"Minimum distance is\", f(sol.x, A, B)"
     ],
     "language": "python",
     "metadata": {},
     "outputs": [
      {
       "output_type": "stream",
       "stream": "stdout",
       "text": [
        "Minimum distance is 9.96339829964\n"
       ]
      }
     ],
     "prompt_number": 5
    },
    {
     "cell_type": "code",
     "collapsed": false,
     "input": [
      "x = np.linspace(0, 10, 100)\n",
      "plt.xlim([0, 10])\n",
      "plt.plot(x, 10.0/(1+x), 'b', linewidth=5)\n",
      "plt.plot([2,sol.x[0]], [8,sol.x[1]], '--')\n",
      "plt.plot([sol.x[0],8], [sol.x[1],4], '--')\n",
      "plt.scatter([2,8], [8,4], c=[0,1], s=100)\n",
      "plt.text(8, 5, 'B (8,4)', fontsize=16)\n",
      "plt.text(2, 9, 'A (2,8)', fontsize=16)\n",
      "plt.text(0.5, 2, 'River', fontsize=16)\n",
      "plt.text(0.5, 0.5, 'g(x y) = y - 10/(1+x)', fontsize=16);"
     ],
     "language": "python",
     "metadata": {},
     "outputs": [
      {
       "metadata": {},
       "output_type": "display_data",
       "png": "[encoded data removed]",
       "text": [
        "<matplotlib.figure.Figure at 0x114266810>"
       ]
      }
     ],
     "prompt_number": 4
    },
    {
     "cell_type": "markdown",
     "metadata": {},
     "source": [
      "**Exercise 2 (10 points)**.\n",
      "\n",
      "You are given 5 samples of 100 rolls of a die. The die is chosen at random from one of two dice, either of which may be biased. Given the following counts, estimate the parameters for each die (i.e. the probabilites of getting a 1, 2, 3, 4, 5 or 6)."
     ]
    },
    {
     "cell_type": "code",
     "collapsed": false,
     "input": [
      "df = pd.read_csv('dice.csv', index_col=0)\n",
      "df"
     ],
     "language": "python",
     "metadata": {},
     "outputs": [
      {
       "html": [
        "<div style=\"max-height:1000px;max-width:1500px;overflow:auto;\">\n",
        "<table border=\"1\" class=\"dataframe\">\n",
        "  <thead>\n",
        "    <tr style=\"text-align: right;\">\n",
        "      <th></th>\n",
        "      <th>1</th>\n",
        "      <th>2</th>\n",
        "      <th>3</th>\n",
        "      <th>4</th>\n",
        "      <th>5</th>\n",
        "      <th>6</th>\n",
        "    </tr>\n",
        "  </thead>\n",
        "  <tbody>\n",
        "    <tr>\n",
        "      <th>Sample 1</th>\n",
        "      <td>  2</td>\n",
        "      <td> 14</td>\n",
        "      <td> 10</td>\n",
        "      <td> 20</td>\n",
        "      <td> 26</td>\n",
        "      <td> 28</td>\n",
        "    </tr>\n",
        "    <tr>\n",
        "      <th>Sample 2</th>\n",
        "      <td>  1</td>\n",
        "      <td> 13</td>\n",
        "      <td> 12</td>\n",
        "      <td> 17</td>\n",
        "      <td> 21</td>\n",
        "      <td> 36</td>\n",
        "    </tr>\n",
        "    <tr>\n",
        "      <th>Sample 3</th>\n",
        "      <td> 21</td>\n",
        "      <td> 18</td>\n",
        "      <td> 16</td>\n",
        "      <td> 12</td>\n",
        "      <td> 14</td>\n",
        "      <td> 19</td>\n",
        "    </tr>\n",
        "    <tr>\n",
        "      <th>Sample 4</th>\n",
        "      <td> 15</td>\n",
        "      <td> 20</td>\n",
        "      <td> 20</td>\n",
        "      <td> 15</td>\n",
        "      <td> 12</td>\n",
        "      <td> 18</td>\n",
        "    </tr>\n",
        "    <tr>\n",
        "      <th>Sample 5</th>\n",
        "      <td>  5</td>\n",
        "      <td> 10</td>\n",
        "      <td> 11</td>\n",
        "      <td> 24</td>\n",
        "      <td> 17</td>\n",
        "      <td> 33</td>\n",
        "    </tr>\n",
        "  </tbody>\n",
        "</table>\n",
        "</div>"
       ],
       "metadata": {},
       "output_type": "pyout",
       "prompt_number": 6,
       "text": [
        "           1   2   3   4   5   6\n",
        "Sample 1   2  14  10  20  26  28\n",
        "Sample 2   1  13  12  17  21  36\n",
        "Sample 3  21  18  16  12  14  19\n",
        "Sample 4  15  20  20  15  12  18\n",
        "Sample 5   5  10  11  24  17  33"
       ]
      }
     ],
     "prompt_number": 6
    },
    {
     "cell_type": "code",
     "collapsed": false,
     "input": [
      "def em(xs, thetas, max_iter=100, tol=1e-6):\n",
      "    \"\"\"Expectation-maximization for multinomial data with latent class.\"\"\"\n",
      "    \n",
      "    ll_old = -np.infty\n",
      "    for i in range(max_iter):\n",
      "        ll = np.array([np.sum(xs * np.log(theta), axis=1) \n",
      "                       for theta in thetas])    \n",
      "        lik = np.exp(ll)\n",
      "        ws = lik/lik.sum(0)\n",
      "        exps = np.array([w[:, None] * xs for w in ws])\n",
      "        thetas = np.array([expr.sum(0)/expr.sum() for expr in exps])\n",
      "        ll_new = np.sum([w*l for w, l in zip(ws, ll)])\n",
      "        if np.abs(ll_new - ll_old) < tol:\n",
      "            break\n",
      "        ll_old = ll_new\n",
      "    return i, thetas, ll_new"
     ],
     "language": "python",
     "metadata": {},
     "outputs": [],
     "prompt_number": 7
    },
    {
     "cell_type": "code",
     "collapsed": false,
     "input": [
      "xs = df.values\n",
      "\n",
      "thetas = np.random.random((2,6))\n",
      "thetas /= thetas.sum(1)[:, None]\n",
      "\n",
      "i, thetas, ll = em(xs, thetas)\n",
      "thetas"
     ],
     "language": "python",
     "metadata": {},
     "outputs": [
      {
       "metadata": {},
       "output_type": "pyout",
       "prompt_number": 8,
       "text": [
        "array([[ 0.18  ,  0.19  ,  0.18  ,  0.135 ,  0.13  ,  0.185 ],\n",
        "       [ 0.0267,  0.1233,  0.11  ,  0.2033,  0.2133,  0.3233]])"
       ]
      }
     ],
     "prompt_number": 8
    },
    {
     "cell_type": "markdown",
     "metadata": {},
     "source": [
      "**Exercise 3 (10 points)**\n",
      "\n",
      "You have some data about the intervals between arrivals (in minutes) of customers to a bank. You want to know how many customers to expect from 9 AM to 5 PM. Simulate 1000 sequences of customer arrivals over an 8 hour period and esitmate the mean and variance. "
     ]
    },
    {
     "cell_type": "code",
     "collapsed": false,
     "input": [
      "arrivals = np.concatenate([np.random.exponential(3, 175), \n",
      "           np.random.normal(25, 3, 100),\n",
      "           np.random.exponential(60, 25)])"
     ],
     "language": "python",
     "metadata": {},
     "outputs": [],
     "prompt_number": 9
    },
    {
     "cell_type": "code",
     "collapsed": false,
     "input": [
      "np.savetxt('arrival_intervals.txt', arrivals)"
     ],
     "language": "python",
     "metadata": {},
     "outputs": [],
     "prompt_number": 11
    },
    {
     "cell_type": "code",
     "collapsed": false,
     "input": [
      "np.loadtxt('arrival_intervals.txt')"
     ],
     "language": "python",
     "metadata": {},
     "outputs": [
      {
       "metadata": {},
       "output_type": "pyout",
       "prompt_number": 12,
       "text": [
        "array([  2.0952e-01,   2.4595e-01,   6.5462e-01,   3.9017e-01,\n",
        "         2.8626e+00,   1.4996e+00,   5.5581e+00,   1.6387e+00,\n",
        "         6.4469e+00,   4.2354e-01,   1.0948e+00,   4.3440e-01,\n",
        "         8.0157e+00,   2.2653e+00,   1.4452e+00,   3.2204e-01,\n",
        "         3.7704e+00,   7.9621e+00,   7.9283e-01,   5.3954e-01,\n",
        "         2.7608e+00,   1.3300e+00,   3.7619e+00,   4.6724e-01,\n",
        "         6.8437e+00,   1.5951e-01,   9.5755e-01,   3.8534e+00,\n",
        "         1.0908e+00,   8.6424e-01,   5.2758e+00,   3.4553e+00,\n",
        "         1.0507e+00,   1.6807e+00,   8.7264e-01,   1.0299e+00,\n",
        "         3.8108e+00,   5.4847e+00,   3.7906e+00,   1.4270e-01,\n",
        "         3.9698e+00,   6.0365e+00,   5.6018e+00,   7.0588e+00,\n",
        "         9.2178e-01,   4.9560e+00,   7.6875e-01,   1.0845e+00,\n",
        "         3.3594e-01,   6.8316e+00,   7.2840e+00,   3.6679e-02,\n",
        "         7.6652e-01,   6.9307e-01,   5.9371e+00,   7.0195e+00,\n",
        "         3.4020e+00,   6.3075e-01,   3.0068e-01,   2.5030e+00,\n",
        "         5.7195e-01,   6.0101e+00,   2.2153e+00,   3.2337e-01,\n",
        "         2.6913e+00,   1.4517e+00,   1.8445e+00,   2.8519e+00,\n",
        "         1.5494e+00,   1.7431e+00,   4.8032e-01,   1.2604e+00,\n",
        "         3.6388e+00,   1.3269e+00,   1.0399e+00,   6.0045e+00,\n",
        "         1.1249e+00,   1.7349e+00,   4.6314e+00,   1.1772e+00,\n",
        "         1.7972e+00,   1.3460e+00,   7.0102e+00,   4.4128e+00,\n",
        "         1.2411e+00,   2.3825e+00,   3.8255e+00,   1.8780e+00,\n",
        "         9.1881e-01,   1.0481e+01,   3.5568e+00,   2.9665e-01,\n",
        "         2.7583e+01,   9.1318e-01,   2.1824e-01,   7.7931e-01,\n",
        "         9.6784e+00,   1.9411e+00,   4.3931e+00,   4.2959e+00,\n",
        "         1.3618e+00,   4.1625e+00,   1.9358e+00,   5.5990e+00,\n",
        "         5.1171e-01,   8.9539e+00,   1.8964e-01,   4.9843e+00,\n",
        "         1.0700e-01,   7.2117e-01,   5.6948e-01,   1.5690e+00,\n",
        "         2.3711e-01,   3.3224e+00,   7.2713e+00,   1.8412e+00,\n",
        "         1.4490e+00,   6.7471e-01,   2.4715e+00,   1.8328e+00,\n",
        "         4.0518e-01,   2.0578e+00,   4.9456e+00,   1.1607e+00,\n",
        "         1.2465e+01,   7.9455e-01,   2.3402e-01,   4.2066e-02,\n",
        "         5.6096e-01,   1.1255e+00,   1.4611e+00,   4.3470e+00,\n",
        "         3.7590e+00,   2.3997e+00,   4.9479e+00,   5.8804e-02,\n",
        "         5.6593e+00,   2.8572e+00,   8.4518e+00,   3.0810e+00,\n",
        "         5.6536e+00,   4.2691e+00,   1.7056e+00,   5.1083e-01,\n",
        "         1.4994e-01,   1.8974e-02,   3.7252e+00,   6.7738e-01,\n",
        "         1.4886e+00,   9.6532e-01,   1.4823e+00,   6.6099e+00,\n",
        "         1.2337e-01,   4.0870e+00,   1.9671e+00,   3.9297e-01,\n",
        "         2.4114e+00,   1.8343e-01,   1.1479e+01,   1.3296e+00,\n",
        "         6.2945e+00,   1.4959e+00,   3.7373e+00,   3.2958e+00,\n",
        "         1.1885e-01,   9.9590e-01,   7.8460e-01,   5.7697e-01,\n",
        "         2.7764e+00,   7.1881e-02,   1.1787e+00,   2.7527e-01,\n",
        "         6.1433e+00,   3.2017e+00,   2.7623e-01,   2.6197e+01,\n",
        "         2.4764e+01,   3.0039e+01,   2.2057e+01,   2.3315e+01,\n",
        "         1.9768e+01,   2.7899e+01,   2.4702e+01,   2.5727e+01,\n",
        "         2.8652e+01,   2.8336e+01,   2.1437e+01,   2.3371e+01,\n",
        "         2.5870e+01,   2.6159e+01,   2.1821e+01,   2.4942e+01,\n",
        "         2.0771e+01,   2.9257e+01,   2.3980e+01,   2.4899e+01,\n",
        "         3.0414e+01,   2.5214e+01,   2.0920e+01,   2.9176e+01,\n",
        "         2.6557e+01,   2.6493e+01,   2.8092e+01,   2.7286e+01,\n",
        "         2.0833e+01,   3.1187e+01,   2.3857e+01,   2.1259e+01,\n",
        "         3.1332e+01,   2.6869e+01,   2.1290e+01,   2.5214e+01,\n",
        "         2.8245e+01,   2.5613e+01,   2.4463e+01,   2.1112e+01,\n",
        "         2.2957e+01,   2.2499e+01,   2.4447e+01,   2.5072e+01,\n",
        "         2.7396e+01,   2.0077e+01,   2.2116e+01,   1.4658e+01,\n",
        "         2.4592e+01,   2.8681e+01,   2.0961e+01,   2.9223e+01,\n",
        "         2.3651e+01,   2.6711e+01,   2.4583e+01,   2.4088e+01,\n",
        "         2.7668e+01,   1.7236e+01,   2.3593e+01,   2.4987e+01,\n",
        "         2.3347e+01,   2.8019e+01,   2.6786e+01,   2.1396e+01,\n",
        "         2.5403e+01,   2.3843e+01,   1.9855e+01,   3.0139e+01,\n",
        "         2.7830e+01,   2.1973e+01,   2.8394e+01,   2.2361e+01,\n",
        "         2.5312e+01,   2.5856e+01,   2.1760e+01,   2.4431e+01,\n",
        "         2.5879e+01,   2.7804e+01,   2.3485e+01,   2.5750e+01,\n",
        "         2.4964e+01,   2.2832e+01,   2.2027e+01,   2.4498e+01,\n",
        "         2.6071e+01,   2.1524e+01,   2.7493e+01,   2.6689e+01,\n",
        "         2.5433e+01,   1.6391e+01,   2.6128e+01,   2.7973e+01,\n",
        "         2.5907e+01,   2.6497e+01,   2.8025e+01,   2.7738e+01,\n",
        "         2.7909e+01,   2.4498e+01,   2.7469e+01,   4.6460e+01,\n",
        "         9.0623e+00,   1.6338e+02,   2.1691e+01,   1.2971e+00,\n",
        "         1.7102e+01,   1.6916e+02,   8.3688e+01,   2.0345e+02,\n",
        "         3.0059e+01,   2.2643e+01,   5.9453e+01,   1.5119e+02,\n",
        "         1.3375e+01,   6.8167e+01,   3.3235e+01,   1.1708e+01,\n",
        "         1.6652e+01,   1.4009e+01,   1.5237e+01,   3.3904e+01,\n",
        "         7.5804e+00,   9.7186e+01,   4.8057e+01,   2.2868e+01])"
       ]
      }
     ],
     "prompt_number": 12
    },
    {
     "cell_type": "code",
     "collapsed": false,
     "input": [
      "plt.hist(arrivals, bins=25, histtype='step');"
     ],
     "language": "python",
     "metadata": {},
     "outputs": [
      {
       "metadata": {},
       "output_type": "display_data",
       "png": "[encoded data removed]",
       "text": [
        "<matplotlib.figure.Figure at 0x114159b50>"
       ]
      }
     ],
     "prompt_number": 10
    },
    {
     "cell_type": "code",
     "collapsed": false,
     "input": [
      "from scipy.interpolate import interp1d\n",
      "\n",
      "def extrap1d(interpolator):\n",
      "    \"\"\"From StackOverflow http://bit.ly/1BjyRfk\"\"\"\n",
      "    xs = interpolator.x\n",
      "    ys = interpolator.y\n",
      "\n",
      "    def pointwise(x):\n",
      "        if x < xs[0]:\n",
      "            return ys[0]+(x-xs[0])*(ys[1]-ys[0])/(xs[1]-xs[0])\n",
      "        elif x > xs[-1]:\n",
      "            return ys[-1]+(x-xs[-1])*(ys[-1]-ys[-2])/(xs[-1]-xs[-2])\n",
      "        else:\n",
      "            return interpolator(x)\n",
      "\n",
      "    def ufunclike(xs):\n",
      "        return np.array(map(pointwise, np.array(xs)))\n",
      "\n",
      "    return ufunclike"
     ],
     "language": "python",
     "metadata": {},
     "outputs": [],
     "prompt_number": 10
    },
    {
     "cell_type": "code",
     "collapsed": false,
     "input": [
      "from scipy.interpolate import UnivariateSpline \n",
      "from statsmodels.distributions.empirical_distribution import ECDF\n",
      "\n",
      "ecdf = ECDF(x)\n",
      "inv_cdf = extrap1d(interp1d(ecdf.y, ecdf.x, \n",
      "                            bounds_error=False, assume_sorted=True))\n",
      "r = np.random.uniform(0, 1, 1000)\n",
      "ys = inv_cdf(r)\n",
      "\n",
      "def make_gen(xs, positive=False):\n",
      "    \"\"\"Make a random number generator with same distribution as xs.\"\"\"\n",
      "    ecdf = ECDF(xs)\n",
      "    inv_cdf = UnivariateSpline (ecdf.y[1:], ecdf.x[1:], ext='extrapolate')\n",
      "    def gen(n=1):\n",
      "        r = np.random.uniform(0, 1, n)\n",
      "        if positive:\n",
      "            return np.clip(inv_cdf(r), 0, None)\n",
      "        else:\n",
      "            return inv_cdf(r)\n",
      "    \n",
      "    return gen\n",
      "\n",
      "arrival_gen = make_gen(arrivals, positive=True)"
     ],
     "language": "python",
     "metadata": {},
     "outputs": [],
     "prompt_number": 11
    },
    {
     "cell_type": "code",
     "collapsed": false,
     "input": [
      "nreps = 1000\n",
      "counts = np.zeros(nreps)\n",
      "for i, rep in enumerate(range(nreps)):\n",
      "    arrivals = []\n",
      "    while np.sum(arrivals) < 8*60:\n",
      "        arrivals.append(arrival_gen())\n",
      "    counts[i] = len(arrivals)\n",
      "    \n",
      "print counts.mean(), counts.var()          "
     ],
     "language": "python",
     "metadata": {},
     "outputs": [
      {
       "output_type": "stream",
       "stream": "stdout",
       "text": [
        "35.218 8.92594398369\n"
       ]
      }
     ],
     "prompt_number": 12
    },
    {
     "cell_type": "markdown",
     "metadata": {},
     "source": [
      "**Exercsie 4 (10 points)**\n",
      "\n",
      "The Cauchy distribution is given by \n",
      "$$\n",
      "f(x) = \\frac{1}{\\pi (1 + x^2)}, \\ \\ -\\infty \\lt x \\lt \\infty \n",
      "$$\n",
      "\n",
      "1. Integrate the tail probability $P(X > 2)$ using Monte Carlo\n",
      "    1. Sampling from the Cauchy distribution directly\n",
      "    2. Sampling from the uniform distribution using an appropriate change of variables\n",
      "2. Plot the 95% CI for the Monte Carlo estimates for n = 1 to 1000\n",
      "    1. For sampling from the Cauchy distribution using mulitple Monte Carlo sequences\n",
      "    2. For sampling from the uniform distribution using bootstrap samples of a single Monte Carlo sequence\n",
      "\n"
     ]
    },
    {
     "cell_type": "markdown",
     "metadata": {},
     "source": [
      "Substituting $y= 2/x$, we get\n",
      "\n",
      "$$\n",
      "\\int_0^1 \\frac{2}{\\pi(4 + y^2)} dy\n",
      "$$\n"
     ]
    },
    {
     "cell_type": "code",
     "collapsed": false,
     "input": [
      "1 - stats.cauchy().cdf(2)"
     ],
     "language": "python",
     "metadata": {},
     "outputs": [
      {
       "metadata": {},
       "output_type": "pyout",
       "prompt_number": 44,
       "text": [
        "0.1476"
       ]
      }
     ],
     "prompt_number": 44
    },
    {
     "cell_type": "code",
     "collapsed": false,
     "input": [
      "def f(x):\n",
      "    return x > 2"
     ],
     "language": "python",
     "metadata": {},
     "outputs": [],
     "prompt_number": 70
    },
    {
     "cell_type": "code",
     "collapsed": false,
     "input": [
      "n = 10000\n",
      "x = stats.cauchy().rvs(n) \n",
      "np.sum(f(x))/n"
     ],
     "language": "python",
     "metadata": {},
     "outputs": [
      {
       "metadata": {},
       "output_type": "pyout",
       "prompt_number": 71,
       "text": [
        "0.1427"
       ]
      }
     ],
     "prompt_number": 71
    },
    {
     "cell_type": "code",
     "collapsed": false,
     "input": [
      "def g(x):\n",
      "    return 2.0/(np.pi*(4 + x**2))"
     ],
     "language": "python",
     "metadata": {},
     "outputs": [],
     "prompt_number": 73
    },
    {
     "cell_type": "code",
     "collapsed": false,
     "input": [
      "x = stats.uniform(0, 1).rvs(n)\n",
      "np.sum(g(x))/n"
     ],
     "language": "python",
     "metadata": {},
     "outputs": [
      {
       "metadata": {},
       "output_type": "pyout",
       "prompt_number": 75,
       "text": [
        "0.1476"
       ]
      }
     ],
     "prompt_number": 75
    },
    {
     "cell_type": "code",
     "collapsed": false,
     "input": [
      "n = 1000\n",
      "reps = 1000\n",
      "xp = np.arange(n)\n",
      "x = f(stats.cauchy().rvs((n, reps)))\n",
      "y = 1/np.arange(1, n+1)[:, None] * np.cumsum(x, axis=0)\n",
      "upper, lower = np.percentile(y, [2.5, 97.5], axis=1)\n",
      "\n",
      "plt.plot(xp, y, c='grey', alpha=0.02)\n",
      "plt.plot(xp ,y[:, 0], c='red', linewidth=1);\n",
      "plt.plot(xp, upper, 'b', xp, lower, 'b');"
     ],
     "language": "python",
     "metadata": {},
     "outputs": [
      {
       "metadata": {},
       "output_type": "display_data",
       "png": "[encoded data removed]",
       "text": [
        "<matplotlib.figure.Figure at 0x1198fa250>"
       ]
      }
     ],
     "prompt_number": 76
    },
    {
     "cell_type": "code",
     "collapsed": false,
     "input": [
      "n = 1000\n",
      "reps = 1000\n",
      "\n",
      "x = g(stats.uniform(0, 1).rvs(n))\n",
      "xb = np.random.choice(x, (n, reps), replace=True)\n",
      "yb = 1/np.arange(1, n+1)[:, None] * np.cumsum(xb, axis=0)\n",
      "upper, lower = np.percentile(yb, [2.5, 97.5], axis=1)\n",
      "\n",
      "plt.plot(xp, yb, c='grey', alpha=0.02)\n",
      "plt.plot(xp ,yb[:, 0], c='red', linewidth=1);\n",
      "plt.plot(xp, upper, 'b', xp, lower, 'b');"
     ],
     "language": "python",
     "metadata": {},
     "outputs": [
      {
       "metadata": {},
       "output_type": "display_data",
       "png": "[encoded data removed]",
       "text": [
        "<matplotlib.figure.Figure at 0x113cbecd0>"
       ]
      }
     ],
     "prompt_number": 78
    },
    {
     "cell_type": "markdown",
     "metadata": {},
     "source": [
      "**Exercise 5 (10 points)**.\n",
      "\n",
      "Estimate the following integral using Monte Carlo integration\n",
      "\n",
      "$$\n",
      "\\int_{-\\infty}^{\\infty} x^2 \\frac{1}{2}e^{-|x|} dx\n",
      "$$\n",
      "\n",
      "Hint: See figure.\n",
      "\n",
      "![Hint](./dexp.png)"
     ]
    },
    {
     "cell_type": "markdown",
     "metadata": {},
     "source": [
      "### Estimate using importance sampling"
     ]
    },
    {
     "cell_type": "code",
     "collapsed": false,
     "input": [
      "def p(x):\n",
      "    \"\"\"Double exponential density.\"\"\"\n",
      "    return 0.5*np.exp(-np.abs(x))"
     ],
     "language": "python",
     "metadata": {},
     "outputs": [],
     "prompt_number": 13
    },
    {
     "cell_type": "code",
     "collapsed": false,
     "input": [
      "n = 10000\n",
      "x = stats.norm(0, 2).rvs(n)\n",
      "np.mean(x**2 * p(x)/stats.norm(0, 2).pdf(x))"
     ],
     "language": "python",
     "metadata": {},
     "outputs": [
      {
       "metadata": {},
       "output_type": "pyout",
       "prompt_number": 14,
       "text": [
        "2.0242"
       ]
      }
     ],
     "prompt_number": 14
    }
   ],
   "metadata": {}
  }
 ]
}