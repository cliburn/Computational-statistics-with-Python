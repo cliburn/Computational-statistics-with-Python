{
 "metadata": {
  "name": "",
  "signature": "sha256:93b717f1a85f67db6d9e7a21e7470753b4cf84c620f9598bdec8dc90e80be761"
 },
 "nbformat": 3,
 "nbformat_minor": 0,
 "worksheets": [
  {
   "cells": [
    {
     "cell_type": "code",
     "collapsed": false,
     "input": [
      "from __future__ import division\n",
      "import os\n",
      "import sys\n",
      "import glob\n",
      "import matplotlib.pyplot as plt\n",
      "import numpy as np\n",
      "import pandas as pd\n",
      "%matplotlib inline\n",
      "%precision 4\n",
      "plt.style.use('ggplot')\n"
     ],
     "language": "python",
     "metadata": {},
     "outputs": [],
     "prompt_number": 11
    },
    {
     "cell_type": "code",
     "collapsed": false,
     "input": [
      "from IPython.display import Image"
     ],
     "language": "python",
     "metadata": {},
     "outputs": [],
     "prompt_number": 12
    },
    {
     "cell_type": "markdown",
     "metadata": {},
     "source": [
      "Grading\n",
      "----\n",
      "\n",
      "This exercise will not be graded - however, it will be very necessary practice if you actually want to learn this stuff!"
     ]
    },
    {
     "cell_type": "markdown",
     "metadata": {},
     "source": [
      "**Exercise 1**\n",
      "\n",
      "Write the equivalent function in C, all in a single file \"sum.c\" and compile to an executable `sum` using the command line."
     ]
    },
    {
     "cell_type": "code",
     "collapsed": false,
     "input": [
      "def summer(xs):\n",
      "    s = 0\n",
      "    for i in range(len(xs)):\n",
      "        s += xs[i]\n",
      "    return s\n",
      "\n",
      "xs = [1,2,3,4,5,6,7,8,9,10]\n",
      "summer(xs)"
     ],
     "language": "python",
     "metadata": {},
     "outputs": [
      {
       "metadata": {},
       "output_type": "pyout",
       "prompt_number": 9,
       "text": [
        "55"
       ]
      }
     ],
     "prompt_number": 9
    },
    {
     "cell_type": "code",
     "collapsed": false,
     "input": [
      "%%file sum.c\n",
      "#include <stdio.h>\n",
      "\n",
      "double summer(double *x, int n) {\n",
      "    double s = 0;\n",
      "    for (int i=0; i<n; i++) {\n",
      "        s += x[i];\n",
      "    }\n",
      "    return s;\n",
      "}\n",
      "\n",
      "int main() {\n",
      "    int n = 10;\n",
      "    double xs[] = {1,2,3,4,5,6,7,8,9,10};\n",
      "    printf(\"%f\", summer(xs, n));\n",
      "}\n",
      "\n"
     ],
     "language": "python",
     "metadata": {},
     "outputs": [
      {
       "output_type": "stream",
       "stream": "stdout",
       "text": [
        "Overwriting sum.c\n"
       ]
      }
     ],
     "prompt_number": 7
    },
    {
     "cell_type": "code",
     "collapsed": false,
     "input": [
      "! c99 sum.c -o sum"
     ],
     "language": "python",
     "metadata": {},
     "outputs": [],
     "prompt_number": 8
    },
    {
     "cell_type": "code",
     "collapsed": false,
     "input": [
      "! ./sum"
     ],
     "language": "python",
     "metadata": {},
     "outputs": [
      {
       "output_type": "stream",
       "stream": "stdout",
       "text": [
        "55.000000"
       ]
      }
     ],
     "prompt_number": 9
    },
    {
     "cell_type": "markdown",
     "metadata": {},
     "source": [
      "**Exercise 2**\n",
      "\n",
      "Write the equivalent function in C. Write a header file \"distributions.h\", an implemnetiation file \"distributions.c\" and a driver program in \"main.c\". Compile using a Makefile and check that it gives the same result."
     ]
    },
    {
     "cell_type": "code",
     "collapsed": false,
     "input": [
      "Image(url='http://upload.wikimedia.org/math/7/3/a/73ad15f79b11af99bd2477ff3ffc5a35.png')"
     ],
     "language": "python",
     "metadata": {},
     "outputs": [
      {
       "html": [
        "<img src=\"http://upload.wikimedia.org/math/7/3/a/73ad15f79b11af99bd2477ff3ffc5a35.png\"/>"
       ],
       "metadata": {},
       "output_type": "pyout",
       "prompt_number": 3,
       "text": [
        "<IPython.core.display.Image at 0x1067ac710>"
       ]
      }
     ],
     "prompt_number": 3
    },
    {
     "cell_type": "code",
     "collapsed": false,
     "input": [
      "def gaussian_pdf(xs, mu, sigma):\n",
      "    return np.exp(-(xs-mu)**2/(2*sigma**2))/(sigma*np.sqrt(2*np.pi))"
     ],
     "language": "python",
     "metadata": {},
     "outputs": [],
     "prompt_number": 4
    },
    {
     "cell_type": "code",
     "collapsed": false,
     "input": [
      "xs = np.linspace(-3, 3, 100)\n",
      "gaussian_pdf(xs, mu=0, sigma=1)"
     ],
     "language": "python",
     "metadata": {},
     "outputs": [
      {
       "metadata": {},
       "output_type": "pyout",
       "prompt_number": 8,
       "text": [
        "array([ 0.0044,  0.0053,  0.0063,  0.0075,  0.0089,  0.0105,  0.0123,\n",
        "        0.0145,  0.0169,  0.0196,  0.0227,  0.0262,  0.0301,  0.0345,\n",
        "        0.0394,  0.0448,  0.0508,  0.0573,  0.0645,  0.0723,  0.0807,\n",
        "        0.0898,  0.0995,  0.1098,  0.1209,  0.1325,  0.1447,  0.1574,\n",
        "        0.1707,  0.1844,  0.1984,  0.2128,  0.2273,  0.242 ,  0.2566,\n",
        "        0.2712,  0.2855,  0.2994,  0.3129,  0.3258,  0.338 ,  0.3494,\n",
        "        0.3598,  0.3692,  0.3774,  0.3844,  0.3901,  0.3944,  0.3973,\n",
        "        0.3988,  0.3988,  0.3973,  0.3944,  0.3901,  0.3844,  0.3774,\n",
        "        0.3692,  0.3598,  0.3494,  0.338 ,  0.3258,  0.3129,  0.2994,\n",
        "        0.2855,  0.2712,  0.2566,  0.242 ,  0.2273,  0.2128,  0.1984,\n",
        "        0.1844,  0.1707,  0.1574,  0.1447,  0.1325,  0.1209,  0.1098,\n",
        "        0.0995,  0.0898,  0.0807,  0.0723,  0.0645,  0.0573,  0.0508,\n",
        "        0.0448,  0.0394,  0.0345,  0.0301,  0.0262,  0.0227,  0.0196,\n",
        "        0.0169,  0.0145,  0.0123,  0.0105,  0.0089,  0.0075,  0.0063,\n",
        "        0.0053,  0.0044])"
       ]
      }
     ],
     "prompt_number": 8
    },
    {
     "cell_type": "code",
     "collapsed": false,
     "input": [
      "%%file distributions.h\n",
      "\n",
      "#define PI 3.14159265359 \n",
      "\n",
      "void gaussian_pdf(double *x, int n, double mu, double sigma, double *s);\n",
      "\n"
     ],
     "language": "python",
     "metadata": {},
     "outputs": [
      {
       "output_type": "stream",
       "stream": "stdout",
       "text": [
        "Overwriting distributions.h\n"
       ]
      }
     ],
     "prompt_number": 82
    },
    {
     "cell_type": "code",
     "collapsed": false,
     "input": [
      "%%file distributions.c\n",
      "#include <math.h>\n",
      "#include <stdio.h>\n",
      "#include \"distributions.h\"\n",
      "\n",
      "double _gaussian_pdf(double x, double mu, double sigma) {\n",
      "    return exp(-pow(x-mu, 2)/(2*pow(sigma, 2)))/(sigma*sqrt(2*PI));\n",
      "}\n",
      "\n",
      "void gaussian_pdf(double *xs, int n, double mu, double sigma, double *s) {\n",
      "    for (int i=0; i<n; i++) {\n",
      "        s[i] = _gaussian_pdf(xs[i], mu, sigma);\n",
      "    }\n",
      "}\n",
      "    \n",
      "\n"
     ],
     "language": "python",
     "metadata": {},
     "outputs": [
      {
       "output_type": "stream",
       "stream": "stdout",
       "text": [
        "Overwriting distributions.c\n"
       ]
      }
     ],
     "prompt_number": 158
    },
    {
     "cell_type": "code",
     "collapsed": false,
     "input": [
      "%%file main.c\n",
      "#include \"distributions.h\"\n",
      "#include <stdio.h>\n",
      "#include <stdlib.h>\n",
      "#include <string.h>\n",
      "\n",
      "int main() {\n",
      "    int n = 100;\n",
      "    double xs[n];\n",
      "    double lower = -3.0;\n",
      "    double upper = 3.0;\n",
      "\n",
      "    for (int i=0; i<n; i++) {\n",
      "        xs[i] = lower + i*(upper-lower)/(n-1);\n",
      "    }\n",
      "\n",
      "    double mu = 0.0;\n",
      "    double sigma = 1.0;\n",
      "    double *s = malloc(n * sizeof(double));\n",
      "    gaussian_pdf(xs, n, mu, sigma, s);\n",
      "\n",
      "    for (int i=0; i<n; i++) {\n",
      "        printf(\"%f\\t\", s[i]);\n",
      "    }\n",
      "\n",
      "    free(s);\n",
      "}\n",
      "\n",
      "\n"
     ],
     "language": "python",
     "metadata": {},
     "outputs": [
      {
       "output_type": "stream",
       "stream": "stdout",
       "text": [
        "Overwriting main.c\n"
       ]
      }
     ],
     "prompt_number": 186
    },
    {
     "cell_type": "code",
     "collapsed": false,
     "input": [
      "%%file makefile\n",
      "TARGET = main\n",
      "OBJECTS = distributions.o\n",
      "CFLAGS = -g -O3 \n",
      "LDLIBS = -lm\n",
      "CC = c99 \n",
      "\n",
      "all: $(TARGET)\n",
      "    \n",
      "clean:\n",
      "\t rm $(TARGET) $(OBJECTS)\n",
      "\n",
      "$(TARGET): $(OBJECTS)"
     ],
     "language": "python",
     "metadata": {},
     "outputs": [
      {
       "output_type": "stream",
       "stream": "stdout",
       "text": [
        "Overwriting makefile\n"
       ]
      }
     ],
     "prompt_number": 187
    },
    {
     "cell_type": "code",
     "collapsed": false,
     "input": [
      "! make"
     ],
     "language": "python",
     "metadata": {},
     "outputs": [
      {
       "output_type": "stream",
       "stream": "stdout",
       "text": [
        "c99  -g -O3     main.c distributions.o  -lm -o main\r\n"
       ]
      }
     ],
     "prompt_number": 188
    },
    {
     "cell_type": "code",
     "collapsed": false,
     "input": [
      "! ./main"
     ],
     "language": "python",
     "metadata": {},
     "outputs": [
      {
       "output_type": "stream",
       "stream": "stdout",
       "text": [
        "0.004432\t0.005306\t0.006329\t0.007521\t0.008906\t0.010506\t0.012349\t0.014462\t0.016875\t0.019617\t0.022722\t0.026222\t0.030150\t0.034539\t0.039421\t0.044829\t0.050793\t0.057338\t0.064490\t0.072267\t0.080686\t0.089755\t0.099477\t0.109848\t0.120856\t0.132480\t0.144689\t0.157443\t0.170694\t0.184382\t0.198437\t0.212780\t0.227324\t0.241971\t0.256617\t0.271153\t0.285461\t0.299423\t0.312916\t0.325817\t0.338008\t0.349368\t0.359787\t0.369157\t0.377383\t0.384378\t0.390067\t0.394389\t0.397297\t0.398759\t0.398759\t0.397297\t0.394389\t0.390067\t0.384378\t0.377383\t0.369157\t0.359787\t0.349368\t0.338008\t0.325817\t0.312916\t0.299423\t0.285461\t0.271153\t0.256617\t0.241971\t0.227324\t0.212780\t0.198437\t0.184382\t0.170694\t0.157443\t0.144689\t0.132480\t0.120856\t0.109848\t0.099477\t0.089755\t0.080686\t0.072267\t0.064490\t0.057338\t0.050793\t0.044829\t0.039421\t0.034539\t0.030150\t0.026222\t0.022722\t0.019617\t0.016875\t0.014462\t0.012349\t0.010506\t0.008906\t0.007521\t0.006329\t0.005306\t0.004432\t"
       ]
      }
     ],
     "prompt_number": 189
    },
    {
     "cell_type": "markdown",
     "metadata": {},
     "source": [
      "**Exercse 3**\n",
      "\n",
      "Debug the following program."
     ]
    },
    {
     "cell_type": "code",
     "collapsed": false,
     "input": [
      "%%file buggy.c\n",
      "#include <math.h>\n",
      "#include <stdio.h>\n",
      "#include <stdlib.h>\n",
      "\n",
      "// Create a function pointer type that takes a double and returns a double\n",
      "typedef double (*func)(double x);\n",
      "\n",
      "// A higher order function that takes just such a function pointer\n",
      "double apply(func f, double x)\n",
      "{\n",
      "    return f(x);\n",
      "}\n",
      "\n",
      "double square(double x)\n",
      "{\n",
      "    return x * x;\n",
      "}\n",
      "\n",
      "double cube(double x)\n",
      "{\n",
      "    return pow(3, x);\n",
      "}\n",
      "\n",
      "double mystery(double x)\n",
      "{\n",
      "    double y = 10;\n",
      "    if (x < 10)\n",
      "        x = square(x);\n",
      "    else\n",
      "        x += y;\n",
      "        x = cube(x);\n",
      "    return x;\n",
      "}\n",
      "\n",
      "int main(int argc, char* argv[])\n",
      "{\n",
      "    double a = atoi(argv[1]);\n",
      "    func fs[] = {square, cube, mystery, NULL};\n",
      "\n",
      "    for (func *f=fs; f != NULL; f++) {\n",
      "        printf(\"%f\\n\", apply(*f, a));\n",
      "    }   \n",
      "}"
     ],
     "language": "python",
     "metadata": {},
     "outputs": [
      {
       "output_type": "stream",
       "stream": "stdout",
       "text": [
        "Overwriting buggy.c\n"
       ]
      }
     ],
     "prompt_number": 226
    },
    {
     "cell_type": "code",
     "collapsed": false,
     "input": [
      "! gcc -g -Wall buggy.c -o buggy"
     ],
     "language": "python",
     "metadata": {},
     "outputs": [],
     "prompt_number": 227
    },
    {
     "cell_type": "code",
     "collapsed": false,
     "input": [
      "! ./buggy 3"
     ],
     "language": "python",
     "metadata": {},
     "outputs": [
      {
       "output_type": "stream",
       "stream": "stdout",
       "text": [
        "9.000000\r\n",
        "27.000000\r\n",
        "19683.000000\r\n"
       ]
      }
     ],
     "prompt_number": 228
    },
    {
     "cell_type": "markdown",
     "metadata": {},
     "source": [
      "**Exercise 4**\n",
      "\n",
      "Convert the function below to compiled code using `numba` and `Cython`. Use `timeit` to compare the execution times on large arrays."
     ]
    },
    {
     "cell_type": "code",
     "collapsed": false,
     "input": [
      "def summer(xs):\n",
      "    s = 0\n",
      "    for i in range(len(xs)):\n",
      "        s += xs[i]\n",
      "    return s"
     ],
     "language": "python",
     "metadata": {},
     "outputs": [],
     "prompt_number": 242
    },
    {
     "cell_type": "markdown",
     "metadata": {},
     "source": [
      "`numba` version"
     ]
    },
    {
     "cell_type": "code",
     "collapsed": false,
     "input": [
      "from numba import jit\n",
      "\n",
      "@jit\n",
      "def numba_summer(xs):\n",
      "    s = 0\n",
      "    for i in range(len(xs)):\n",
      "        s += xs[i]\n",
      "    return s\n"
     ],
     "language": "python",
     "metadata": {},
     "outputs": [],
     "prompt_number": 236
    },
    {
     "cell_type": "markdown",
     "metadata": {},
     "source": [
      "`cython` version"
     ]
    },
    {
     "cell_type": "code",
     "collapsed": false,
     "input": [
      "%load_ext cythonmagic"
     ],
     "language": "python",
     "metadata": {},
     "outputs": [],
     "prompt_number": 230
    },
    {
     "cell_type": "code",
     "collapsed": false,
     "input": [
      "%%cython -a\n",
      "\n",
      "cimport cython\n",
      "\n",
      "@cython.boundscheck(False)\n",
      "@cython.wraparound(False)\n",
      "def cython_summer(double[:] xs):\n",
      "    cdef double s = 0\n",
      "    cdef int i, n = xs.shape[0];\n",
      "    for i in range(n):\n",
      "        s += xs[i]\n",
      "    return s\n"
     ],
     "language": "python",
     "metadata": {},
     "outputs": [
      {
       "html": [
        "<!DOCTYPE html>\n",
        "<!-- Generated by Cython 0.22 -->\n",
        "<html>\n",
        "<head>\n",
        "    <meta http-equiv=\"Content-Type\" content=\"text/html; charset=utf-8\" />\n",
        "    <style type=\"text/css\">\n",
        "    \n",
        "body.cython { font-family: courier; font-size: 12; }\n",
        "\n",
        ".cython.tag  {  }\n",
        ".cython.line { margin: 0em }\n",
        ".cython.code  { font-size: 9; color: #444444; display: none; margin: 0px 0px 0px 20px;  }\n",
        "\n",
        ".cython.code .py_c_api  { color: red; }\n",
        ".cython.code .py_macro_api  { color: #FF7000; }\n",
        ".cython.code .pyx_c_api  { color: #FF3000; }\n",
        ".cython.code .pyx_macro_api  { color: #FF7000; }\n",
        ".cython.code .refnanny  { color: #FFA000; }\n",
        ".cython.code .error_goto  { color: #FFA000; }\n",
        "\n",
        ".cython.code .coerce  { color: #008000; border: 1px dotted #008000 }\n",
        ".cython.code .py_attr { color: #FF0000; font-weight: bold; }\n",
        ".cython.code .c_attr  { color: #0000FF; }\n",
        ".cython.code .py_call { color: #FF0000; font-weight: bold; }\n",
        ".cython.code .c_call  { color: #0000FF; }\n",
        "\n",
        ".cython.score-0 {background-color: #FFFFff;}\n",
        ".cython.score-1 {background-color: #FFFFe7;}\n",
        ".cython.score-2 {background-color: #FFFFd4;}\n",
        ".cython.score-3 {background-color: #FFFFc4;}\n",
        ".cython.score-4 {background-color: #FFFFb6;}\n",
        ".cython.score-5 {background-color: #FFFFaa;}\n",
        ".cython.score-6 {background-color: #FFFF9f;}\n",
        ".cython.score-7 {background-color: #FFFF96;}\n",
        ".cython.score-8 {background-color: #FFFF8d;}\n",
        ".cython.score-9 {background-color: #FFFF86;}\n",
        ".cython.score-10 {background-color: #FFFF7f;}\n",
        ".cython.score-11 {background-color: #FFFF79;}\n",
        ".cython.score-12 {background-color: #FFFF73;}\n",
        ".cython.score-13 {background-color: #FFFF6e;}\n",
        ".cython.score-14 {background-color: #FFFF6a;}\n",
        ".cython.score-15 {background-color: #FFFF66;}\n",
        ".cython.score-16 {background-color: #FFFF62;}\n",
        ".cython.score-17 {background-color: #FFFF5e;}\n",
        ".cython.score-18 {background-color: #FFFF5b;}\n",
        ".cython.score-19 {background-color: #FFFF57;}\n",
        ".cython.score-20 {background-color: #FFFF55;}\n",
        ".cython.score-21 {background-color: #FFFF52;}\n",
        ".cython.score-22 {background-color: #FFFF4f;}\n",
        ".cython.score-23 {background-color: #FFFF4d;}\n",
        ".cython.score-24 {background-color: #FFFF4b;}\n",
        ".cython.score-25 {background-color: #FFFF48;}\n",
        ".cython.score-26 {background-color: #FFFF46;}\n",
        ".cython.score-27 {background-color: #FFFF44;}\n",
        ".cython.score-28 {background-color: #FFFF43;}\n",
        ".cython.score-29 {background-color: #FFFF41;}\n",
        ".cython.score-30 {background-color: #FFFF3f;}\n",
        ".cython.score-31 {background-color: #FFFF3e;}\n",
        ".cython.score-32 {background-color: #FFFF3c;}\n",
        ".cython.score-33 {background-color: #FFFF3b;}\n",
        ".cython.score-34 {background-color: #FFFF39;}\n",
        ".cython.score-35 {background-color: #FFFF38;}\n",
        ".cython.score-36 {background-color: #FFFF37;}\n",
        ".cython.score-37 {background-color: #FFFF36;}\n",
        ".cython.score-38 {background-color: #FFFF35;}\n",
        ".cython.score-39 {background-color: #FFFF34;}\n",
        ".cython.score-40 {background-color: #FFFF33;}\n",
        ".cython.score-41 {background-color: #FFFF32;}\n",
        ".cython.score-42 {background-color: #FFFF31;}\n",
        ".cython.score-43 {background-color: #FFFF30;}\n",
        ".cython.score-44 {background-color: #FFFF2f;}\n",
        ".cython.score-45 {background-color: #FFFF2e;}\n",
        ".cython.score-46 {background-color: #FFFF2d;}\n",
        ".cython.score-47 {background-color: #FFFF2c;}\n",
        ".cython.score-48 {background-color: #FFFF2b;}\n",
        ".cython.score-49 {background-color: #FFFF2b;}\n",
        ".cython.score-50 {background-color: #FFFF2a;}\n",
        ".cython.score-51 {background-color: #FFFF29;}\n",
        ".cython.score-52 {background-color: #FFFF29;}\n",
        ".cython.score-53 {background-color: #FFFF28;}\n",
        ".cython.score-54 {background-color: #FFFF27;}\n",
        ".cython.score-55 {background-color: #FFFF27;}\n",
        ".cython.score-56 {background-color: #FFFF26;}\n",
        ".cython.score-57 {background-color: #FFFF26;}\n",
        ".cython.score-58 {background-color: #FFFF25;}\n",
        ".cython.score-59 {background-color: #FFFF24;}\n",
        ".cython.score-60 {background-color: #FFFF24;}\n",
        ".cython.score-61 {background-color: #FFFF23;}\n",
        ".cython.score-62 {background-color: #FFFF23;}\n",
        ".cython.score-63 {background-color: #FFFF22;}\n",
        ".cython.score-64 {background-color: #FFFF22;}\n",
        ".cython.score-65 {background-color: #FFFF22;}\n",
        ".cython.score-66 {background-color: #FFFF21;}\n",
        ".cython.score-67 {background-color: #FFFF21;}\n",
        ".cython.score-68 {background-color: #FFFF20;}\n",
        ".cython.score-69 {background-color: #FFFF20;}\n",
        ".cython.score-70 {background-color: #FFFF1f;}\n",
        ".cython.score-71 {background-color: #FFFF1f;}\n",
        ".cython.score-72 {background-color: #FFFF1f;}\n",
        ".cython.score-73 {background-color: #FFFF1e;}\n",
        ".cython.score-74 {background-color: #FFFF1e;}\n",
        ".cython.score-75 {background-color: #FFFF1e;}\n",
        ".cython.score-76 {background-color: #FFFF1d;}\n",
        ".cython.score-77 {background-color: #FFFF1d;}\n",
        ".cython.score-78 {background-color: #FFFF1c;}\n",
        ".cython.score-79 {background-color: #FFFF1c;}\n",
        ".cython.score-80 {background-color: #FFFF1c;}\n",
        ".cython.score-81 {background-color: #FFFF1c;}\n",
        ".cython.score-82 {background-color: #FFFF1b;}\n",
        ".cython.score-83 {background-color: #FFFF1b;}\n",
        ".cython.score-84 {background-color: #FFFF1b;}\n",
        ".cython.score-85 {background-color: #FFFF1a;}\n",
        ".cython.score-86 {background-color: #FFFF1a;}\n",
        ".cython.score-87 {background-color: #FFFF1a;}\n",
        ".cython.score-88 {background-color: #FFFF1a;}\n",
        ".cython.score-89 {background-color: #FFFF19;}\n",
        ".cython.score-90 {background-color: #FFFF19;}\n",
        ".cython.score-91 {background-color: #FFFF19;}\n",
        ".cython.score-92 {background-color: #FFFF19;}\n",
        ".cython.score-93 {background-color: #FFFF18;}\n",
        ".cython.score-94 {background-color: #FFFF18;}\n",
        ".cython.score-95 {background-color: #FFFF18;}\n",
        ".cython.score-96 {background-color: #FFFF18;}\n",
        ".cython.score-97 {background-color: #FFFF17;}\n",
        ".cython.score-98 {background-color: #FFFF17;}\n",
        ".cython.score-99 {background-color: #FFFF17;}\n",
        ".cython.score-100 {background-color: #FFFF17;}\n",
        ".cython.score-101 {background-color: #FFFF16;}\n",
        ".cython.score-102 {background-color: #FFFF16;}\n",
        ".cython.score-103 {background-color: #FFFF16;}\n",
        ".cython.score-104 {background-color: #FFFF16;}\n",
        ".cython.score-105 {background-color: #FFFF16;}\n",
        ".cython.score-106 {background-color: #FFFF15;}\n",
        ".cython.score-107 {background-color: #FFFF15;}\n",
        ".cython.score-108 {background-color: #FFFF15;}\n",
        ".cython.score-109 {background-color: #FFFF15;}\n",
        ".cython.score-110 {background-color: #FFFF15;}\n",
        ".cython.score-111 {background-color: #FFFF15;}\n",
        ".cython.score-112 {background-color: #FFFF14;}\n",
        ".cython.score-113 {background-color: #FFFF14;}\n",
        ".cython.score-114 {background-color: #FFFF14;}\n",
        ".cython.score-115 {background-color: #FFFF14;}\n",
        ".cython.score-116 {background-color: #FFFF14;}\n",
        ".cython.score-117 {background-color: #FFFF14;}\n",
        ".cython.score-118 {background-color: #FFFF13;}\n",
        ".cython.score-119 {background-color: #FFFF13;}\n",
        ".cython.score-120 {background-color: #FFFF13;}\n",
        ".cython.score-121 {background-color: #FFFF13;}\n",
        ".cython.score-122 {background-color: #FFFF13;}\n",
        ".cython.score-123 {background-color: #FFFF13;}\n",
        ".cython.score-124 {background-color: #FFFF13;}\n",
        ".cython.score-125 {background-color: #FFFF12;}\n",
        ".cython.score-126 {background-color: #FFFF12;}\n",
        ".cython.score-127 {background-color: #FFFF12;}\n",
        ".cython.score-128 {background-color: #FFFF12;}\n",
        ".cython.score-129 {background-color: #FFFF12;}\n",
        ".cython.score-130 {background-color: #FFFF12;}\n",
        ".cython.score-131 {background-color: #FFFF12;}\n",
        ".cython.score-132 {background-color: #FFFF11;}\n",
        ".cython.score-133 {background-color: #FFFF11;}\n",
        ".cython.score-134 {background-color: #FFFF11;}\n",
        ".cython.score-135 {background-color: #FFFF11;}\n",
        ".cython.score-136 {background-color: #FFFF11;}\n",
        ".cython.score-137 {background-color: #FFFF11;}\n",
        ".cython.score-138 {background-color: #FFFF11;}\n",
        ".cython.score-139 {background-color: #FFFF11;}\n",
        ".cython.score-140 {background-color: #FFFF11;}\n",
        ".cython.score-141 {background-color: #FFFF10;}\n",
        ".cython.score-142 {background-color: #FFFF10;}\n",
        ".cython.score-143 {background-color: #FFFF10;}\n",
        ".cython.score-144 {background-color: #FFFF10;}\n",
        ".cython.score-145 {background-color: #FFFF10;}\n",
        ".cython.score-146 {background-color: #FFFF10;}\n",
        ".cython.score-147 {background-color: #FFFF10;}\n",
        ".cython.score-148 {background-color: #FFFF10;}\n",
        ".cython.score-149 {background-color: #FFFF10;}\n",
        ".cython.score-150 {background-color: #FFFF0f;}\n",
        ".cython.score-151 {background-color: #FFFF0f;}\n",
        ".cython.score-152 {background-color: #FFFF0f;}\n",
        ".cython.score-153 {background-color: #FFFF0f;}\n",
        ".cython.score-154 {background-color: #FFFF0f;}\n",
        ".cython.score-155 {background-color: #FFFF0f;}\n",
        ".cython.score-156 {background-color: #FFFF0f;}\n",
        ".cython.score-157 {background-color: #FFFF0f;}\n",
        ".cython.score-158 {background-color: #FFFF0f;}\n",
        ".cython.score-159 {background-color: #FFFF0f;}\n",
        ".cython.score-160 {background-color: #FFFF0f;}\n",
        ".cython.score-161 {background-color: #FFFF0e;}\n",
        ".cython.score-162 {background-color: #FFFF0e;}\n",
        ".cython.score-163 {background-color: #FFFF0e;}\n",
        ".cython.score-164 {background-color: #FFFF0e;}\n",
        ".cython.score-165 {background-color: #FFFF0e;}\n",
        ".cython.score-166 {background-color: #FFFF0e;}\n",
        ".cython.score-167 {background-color: #FFFF0e;}\n",
        ".cython.score-168 {background-color: #FFFF0e;}\n",
        ".cython.score-169 {background-color: #FFFF0e;}\n",
        ".cython.score-170 {background-color: #FFFF0e;}\n",
        ".cython.score-171 {background-color: #FFFF0e;}\n",
        ".cython.score-172 {background-color: #FFFF0e;}\n",
        ".cython.score-173 {background-color: #FFFF0d;}\n",
        ".cython.score-174 {background-color: #FFFF0d;}\n",
        ".cython.score-175 {background-color: #FFFF0d;}\n",
        ".cython.score-176 {background-color: #FFFF0d;}\n",
        ".cython.score-177 {background-color: #FFFF0d;}\n",
        ".cython.score-178 {background-color: #FFFF0d;}\n",
        ".cython.score-179 {background-color: #FFFF0d;}\n",
        ".cython.score-180 {background-color: #FFFF0d;}\n",
        ".cython.score-181 {background-color: #FFFF0d;}\n",
        ".cython.score-182 {background-color: #FFFF0d;}\n",
        ".cython.score-183 {background-color: #FFFF0d;}\n",
        ".cython.score-184 {background-color: #FFFF0d;}\n",
        ".cython.score-185 {background-color: #FFFF0d;}\n",
        ".cython.score-186 {background-color: #FFFF0d;}\n",
        ".cython.score-187 {background-color: #FFFF0c;}\n",
        ".cython.score-188 {background-color: #FFFF0c;}\n",
        ".cython.score-189 {background-color: #FFFF0c;}\n",
        ".cython.score-190 {background-color: #FFFF0c;}\n",
        ".cython.score-191 {background-color: #FFFF0c;}\n",
        ".cython.score-192 {background-color: #FFFF0c;}\n",
        ".cython.score-193 {background-color: #FFFF0c;}\n",
        ".cython.score-194 {background-color: #FFFF0c;}\n",
        ".cython.score-195 {background-color: #FFFF0c;}\n",
        ".cython.score-196 {background-color: #FFFF0c;}\n",
        ".cython.score-197 {background-color: #FFFF0c;}\n",
        ".cython.score-198 {background-color: #FFFF0c;}\n",
        ".cython.score-199 {background-color: #FFFF0c;}\n",
        ".cython.score-200 {background-color: #FFFF0c;}\n",
        ".cython.score-201 {background-color: #FFFF0c;}\n",
        ".cython.score-202 {background-color: #FFFF0c;}\n",
        ".cython.score-203 {background-color: #FFFF0b;}\n",
        ".cython.score-204 {background-color: #FFFF0b;}\n",
        ".cython.score-205 {background-color: #FFFF0b;}\n",
        ".cython.score-206 {background-color: #FFFF0b;}\n",
        ".cython.score-207 {background-color: #FFFF0b;}\n",
        ".cython.score-208 {background-color: #FFFF0b;}\n",
        ".cython.score-209 {background-color: #FFFF0b;}\n",
        ".cython.score-210 {background-color: #FFFF0b;}\n",
        ".cython.score-211 {background-color: #FFFF0b;}\n",
        ".cython.score-212 {background-color: #FFFF0b;}\n",
        ".cython.score-213 {background-color: #FFFF0b;}\n",
        ".cython.score-214 {background-color: #FFFF0b;}\n",
        ".cython.score-215 {background-color: #FFFF0b;}\n",
        ".cython.score-216 {background-color: #FFFF0b;}\n",
        ".cython.score-217 {background-color: #FFFF0b;}\n",
        ".cython.score-218 {background-color: #FFFF0b;}\n",
        ".cython.score-219 {background-color: #FFFF0b;}\n",
        ".cython.score-220 {background-color: #FFFF0b;}\n",
        ".cython.score-221 {background-color: #FFFF0b;}\n",
        ".cython.score-222 {background-color: #FFFF0a;}\n",
        ".cython.score-223 {background-color: #FFFF0a;}\n",
        ".cython.score-224 {background-color: #FFFF0a;}\n",
        ".cython.score-225 {background-color: #FFFF0a;}\n",
        ".cython.score-226 {background-color: #FFFF0a;}\n",
        ".cython.score-227 {background-color: #FFFF0a;}\n",
        ".cython.score-228 {background-color: #FFFF0a;}\n",
        ".cython.score-229 {background-color: #FFFF0a;}\n",
        ".cython.score-230 {background-color: #FFFF0a;}\n",
        ".cython.score-231 {background-color: #FFFF0a;}\n",
        ".cython.score-232 {background-color: #FFFF0a;}\n",
        ".cython.score-233 {background-color: #FFFF0a;}\n",
        ".cython.score-234 {background-color: #FFFF0a;}\n",
        ".cython.score-235 {background-color: #FFFF0a;}\n",
        ".cython.score-236 {background-color: #FFFF0a;}\n",
        ".cython.score-237 {background-color: #FFFF0a;}\n",
        ".cython.score-238 {background-color: #FFFF0a;}\n",
        ".cython.score-239 {background-color: #FFFF0a;}\n",
        ".cython.score-240 {background-color: #FFFF0a;}\n",
        ".cython.score-241 {background-color: #FFFF0a;}\n",
        ".cython.score-242 {background-color: #FFFF0a;}\n",
        ".cython.score-243 {background-color: #FFFF0a;}\n",
        ".cython.score-244 {background-color: #FFFF0a;}\n",
        ".cython.score-245 {background-color: #FFFF0a;}\n",
        ".cython.score-246 {background-color: #FFFF09;}\n",
        ".cython.score-247 {background-color: #FFFF09;}\n",
        ".cython.score-248 {background-color: #FFFF09;}\n",
        ".cython.score-249 {background-color: #FFFF09;}\n",
        ".cython.score-250 {background-color: #FFFF09;}\n",
        ".cython.score-251 {background-color: #FFFF09;}\n",
        ".cython.score-252 {background-color: #FFFF09;}\n",
        ".cython.score-253 {background-color: #FFFF09;}\n",
        ".cython.score-254 {background-color: #FFFF09;}.cython .hll { background-color: #ffffcc }\n",
        ".cython  { background: #f8f8f8; }\n",
        ".cython .c { color: #408080; font-style: italic } /* Comment */\n",
        ".cython .err { border: 1px solid #FF0000 } /* Error */\n",
        ".cython .k { color: #008000; font-weight: bold } /* Keyword */\n",
        ".cython .o { color: #666666 } /* Operator */\n",
        ".cython .cm { color: #408080; font-style: italic } /* Comment.Multiline */\n",
        ".cython .cp { color: #BC7A00 } /* Comment.Preproc */\n",
        ".cython .c1 { color: #408080; font-style: italic } /* Comment.Single */\n",
        ".cython .cs { color: #408080; font-style: italic } /* Comment.Special */\n",
        ".cython .gd { color: #A00000 } /* Generic.Deleted */\n",
        ".cython .ge { font-style: italic } /* Generic.Emph */\n",
        ".cython .gr { color: #FF0000 } /* Generic.Error */\n",
        ".cython .gh { color: #000080; font-weight: bold } /* Generic.Heading */\n",
        ".cython .gi { color: #00A000 } /* Generic.Inserted */\n",
        ".cython .go { color: #888888 } /* Generic.Output */\n",
        ".cython .gp { color: #000080; font-weight: bold } /* Generic.Prompt */\n",
        ".cython .gs { font-weight: bold } /* Generic.Strong */\n",
        ".cython .gu { color: #800080; font-weight: bold } /* Generic.Subheading */\n",
        ".cython .gt { color: #0044DD } /* Generic.Traceback */\n",
        ".cython .kc { color: #008000; font-weight: bold } /* Keyword.Constant */\n",
        ".cython .kd { color: #008000; font-weight: bold } /* Keyword.Declaration */\n",
        ".cython .kn { color: #008000; font-weight: bold } /* Keyword.Namespace */\n",
        ".cython .kp { color: #008000 } /* Keyword.Pseudo */\n",
        ".cython .kr { color: #008000; font-weight: bold } /* Keyword.Reserved */\n",
        ".cython .kt { color: #B00040 } /* Keyword.Type */\n",
        ".cython .m { color: #666666 } /* Literal.Number */\n",
        ".cython .s { color: #BA2121 } /* Literal.String */\n",
        ".cython .na { color: #7D9029 } /* Name.Attribute */\n",
        ".cython .nb { color: #008000 } /* Name.Builtin */\n",
        ".cython .nc { color: #0000FF; font-weight: bold } /* Name.Class */\n",
        ".cython .no { color: #880000 } /* Name.Constant */\n",
        ".cython .nd { color: #AA22FF } /* Name.Decorator */\n",
        ".cython .ni { color: #999999; font-weight: bold } /* Name.Entity */\n",
        ".cython .ne { color: #D2413A; font-weight: bold } /* Name.Exception */\n",
        ".cython .nf { color: #0000FF } /* Name.Function */\n",
        ".cython .nl { color: #A0A000 } /* Name.Label */\n",
        ".cython .nn { color: #0000FF; font-weight: bold } /* Name.Namespace */\n",
        ".cython .nt { color: #008000; font-weight: bold } /* Name.Tag */\n",
        ".cython .nv { color: #19177C } /* Name.Variable */\n",
        ".cython .ow { color: #AA22FF; font-weight: bold } /* Operator.Word */\n",
        ".cython .w { color: #bbbbbb } /* Text.Whitespace */\n",
        ".cython .mf { color: #666666 } /* Literal.Number.Float */\n",
        ".cython .mh { color: #666666 } /* Literal.Number.Hex */\n",
        ".cython .mi { color: #666666 } /* Literal.Number.Integer */\n",
        ".cython .mo { color: #666666 } /* Literal.Number.Oct */\n",
        ".cython .sb { color: #BA2121 } /* Literal.String.Backtick */\n",
        ".cython .sc { color: #BA2121 } /* Literal.String.Char */\n",
        ".cython .sd { color: #BA2121; font-style: italic } /* Literal.String.Doc */\n",
        ".cython .s2 { color: #BA2121 } /* Literal.String.Double */\n",
        ".cython .se { color: #BB6622; font-weight: bold } /* Literal.String.Escape */\n",
        ".cython .sh { color: #BA2121 } /* Literal.String.Heredoc */\n",
        ".cython .si { color: #BB6688; font-weight: bold } /* Literal.String.Interpol */\n",
        ".cython .sx { color: #008000 } /* Literal.String.Other */\n",
        ".cython .sr { color: #BB6688 } /* Literal.String.Regex */\n",
        ".cython .s1 { color: #BA2121 } /* Literal.String.Single */\n",
        ".cython .ss { color: #19177C } /* Literal.String.Symbol */\n",
        ".cython .bp { color: #008000 } /* Name.Builtin.Pseudo */\n",
        ".cython .vc { color: #19177C } /* Name.Variable.Class */\n",
        ".cython .vg { color: #19177C } /* Name.Variable.Global */\n",
        ".cython .vi { color: #19177C } /* Name.Variable.Instance */\n",
        ".cython .il { color: #666666 } /* Literal.Number.Integer.Long */\n",
        "    </style>\n",
        "    <script>\n",
        "    function toggleDiv(id) {\n",
        "        theDiv = id.nextElementSibling\n",
        "        if (theDiv.style.display != 'block') theDiv.style.display = 'block';\n",
        "        else theDiv.style.display = 'none';\n",
        "    }\n",
        "    </script>\n",
        "</head>\n",
        "<body class=\"cython\">\n",
        "<p>Generated by Cython 0.22</p>\n",
        "<div class=\"cython\"><pre class='cython line score-0'>&#xA0;01: </pre>\n",
        "<pre class='cython line score-11' onclick='toggleDiv(this)'>+02: <span class=\"k\">cimport</span> <span class=\"nn\">cython</span></pre>\n",
        "<pre class='cython code score-11'>  __pyx_t_1 = <span class='py_c_api'>PyDict_New</span>();<span class='error_goto'> if (unlikely(!__pyx_t_1)) {__pyx_filename = __pyx_f[0]; __pyx_lineno = 2; __pyx_clineno = __LINE__; goto __pyx_L1_error;}</span>\n",
        "  <span class='refnanny'>__Pyx_GOTREF</span>(__pyx_t_1);\n",
        "  if (<span class='py_c_api'>PyDict_SetItem</span>(__pyx_d, __pyx_n_s_test, __pyx_t_1) &lt; 0) <span class='error_goto'>{__pyx_filename = __pyx_f[0]; __pyx_lineno = 2; __pyx_clineno = __LINE__; goto __pyx_L1_error;}</span>\n",
        "  <span class='pyx_macro_api'>__Pyx_DECREF</span>(__pyx_t_1); __pyx_t_1 = 0;\n",
        "</pre><pre class='cython line score-0'>&#xA0;03: </pre>\n",
        "<pre class='cython line score-0'>&#xA0;04: <span class=\"nd\">@cython</span><span class=\"o\">.</span><span class=\"n\">boundscheck</span><span class=\"p\">(</span><span class=\"bp\">False</span><span class=\"p\">)</span></pre>\n",
        "<pre class='cython line score-0'>&#xA0;05: <span class=\"nd\">@cython</span><span class=\"o\">.</span><span class=\"n\">wraparound</span><span class=\"p\">(</span><span class=\"bp\">False</span><span class=\"p\">)</span></pre>\n",
        "<pre class='cython line score-20' onclick='toggleDiv(this)'>+06: <span class=\"k\">def</span> <span class=\"nf\">cython_summer</span><span class=\"p\">(</span><span class=\"n\">double</span><span class=\"p\">[:]</span> <span class=\"n\">xs</span><span class=\"p\">):</span></pre>\n",
        "<pre class='cython code score-20'>/* Python wrapper */\n",
        "static PyObject *__pyx_pw_46_cython_magic_855da36b4928d0b720faf3d8ba9a76a5_1cython_summer(PyObject *__pyx_self, PyObject *__pyx_arg_xs); /*proto*/\n",
        "static PyMethodDef __pyx_mdef_46_cython_magic_855da36b4928d0b720faf3d8ba9a76a5_1cython_summer = {\"cython_summer\", (PyCFunction)__pyx_pw_46_cython_magic_855da36b4928d0b720faf3d8ba9a76a5_1cython_summer, METH_O, 0};\n",
        "static PyObject *__pyx_pw_46_cython_magic_855da36b4928d0b720faf3d8ba9a76a5_1cython_summer(PyObject *__pyx_self, PyObject *__pyx_arg_xs) {\n",
        "  __Pyx_memviewslice __pyx_v_xs = { 0, 0, { 0 }, { 0 }, { 0 } };\n",
        "  PyObject *__pyx_r = 0;\n",
        "  <span class='refnanny'>__Pyx_RefNannyDeclarations</span>\n",
        "  <span class='refnanny'>__Pyx_RefNannySetupContext</span>(\"cython_summer (wrapper)\", 0);\n",
        "  assert(__pyx_arg_xs); {\n",
        "    __pyx_v_xs = <span class='pyx_c_api'>__Pyx_PyObject_to_MemoryviewSlice_ds_double</span>(__pyx_arg_xs);<span class='error_goto'> if (unlikely(!__pyx_v_xs.memview)) {__pyx_filename = __pyx_f[0]; __pyx_lineno = 6; __pyx_clineno = __LINE__; goto __pyx_L3_error;}</span>\n",
        "  }\n",
        "  goto __pyx_L4_argument_unpacking_done;\n",
        "  __pyx_L3_error:;\n",
        "  <span class='pyx_c_api'>__Pyx_AddTraceback</span>(\"_cython_magic_855da36b4928d0b720faf3d8ba9a76a5.cython_summer\", __pyx_clineno, __pyx_lineno, __pyx_filename);\n",
        "  <span class='refnanny'>__Pyx_RefNannyFinishContext</span>();\n",
        "  return NULL;\n",
        "  __pyx_L4_argument_unpacking_done:;\n",
        "  __pyx_r = __pyx_pf_46_cython_magic_855da36b4928d0b720faf3d8ba9a76a5_cython_summer(__pyx_self, __pyx_v_xs);\n",
        "  int __pyx_lineno = 0;\n",
        "  const char *__pyx_filename = NULL;\n",
        "  int __pyx_clineno = 0;\n",
        "\n",
        "  /* function exit code */\n",
        "  <span class='refnanny'>__Pyx_RefNannyFinishContext</span>();\n",
        "  return __pyx_r;\n",
        "}\n",
        "\n",
        "static PyObject *__pyx_pf_46_cython_magic_855da36b4928d0b720faf3d8ba9a76a5_cython_summer(CYTHON_UNUSED PyObject *__pyx_self, __Pyx_memviewslice __pyx_v_xs) {\n",
        "  double __pyx_v_s;\n",
        "  int __pyx_v_i;\n",
        "  int __pyx_v_n;\n",
        "  PyObject *__pyx_r = NULL;\n",
        "  <span class='refnanny'>__Pyx_RefNannyDeclarations</span>\n",
        "  <span class='refnanny'>__Pyx_RefNannySetupContext</span>(\"cython_summer\", 0);\n",
        "/* \u2026 */\n",
        "  /* function exit code */\n",
        "  __pyx_L1_error:;\n",
        "  <span class='pyx_macro_api'>__Pyx_XDECREF</span>(__pyx_t_4);\n",
        "  <span class='pyx_c_api'>__Pyx_AddTraceback</span>(\"_cython_magic_855da36b4928d0b720faf3d8ba9a76a5.cython_summer\", __pyx_clineno, __pyx_lineno, __pyx_filename);\n",
        "  __pyx_r = NULL;\n",
        "  __pyx_L0:;\n",
        "  __PYX_XDEC_MEMVIEW(&amp;__pyx_v_xs, 1);\n",
        "  <span class='refnanny'>__Pyx_XGIVEREF</span>(__pyx_r);\n",
        "  <span class='refnanny'>__Pyx_RefNannyFinishContext</span>();\n",
        "  return __pyx_r;\n",
        "}\n",
        "/* \u2026 */\n",
        "  __pyx_tuple__13 = <span class='py_c_api'>PyTuple_Pack</span>(5, __pyx_n_s_xs, __pyx_n_s_xs, __pyx_n_s_s, __pyx_n_s_i, __pyx_n_s_n);<span class='error_goto'> if (unlikely(!__pyx_tuple__13)) {__pyx_filename = __pyx_f[0]; __pyx_lineno = 6; __pyx_clineno = __LINE__; goto __pyx_L1_error;}</span>\n",
        "  <span class='refnanny'>__Pyx_GOTREF</span>(__pyx_tuple__13);\n",
        "  <span class='refnanny'>__Pyx_GIVEREF</span>(__pyx_tuple__13);\n",
        "/* \u2026 */\n",
        "  __pyx_t_1 = PyCFunction_NewEx(&amp;__pyx_mdef_46_cython_magic_855da36b4928d0b720faf3d8ba9a76a5_1cython_summer, NULL, __pyx_n_s_cython_magic_855da36b4928d0b720);<span class='error_goto'> if (unlikely(!__pyx_t_1)) {__pyx_filename = __pyx_f[0]; __pyx_lineno = 6; __pyx_clineno = __LINE__; goto __pyx_L1_error;}</span>\n",
        "  <span class='refnanny'>__Pyx_GOTREF</span>(__pyx_t_1);\n",
        "  if (<span class='py_c_api'>PyDict_SetItem</span>(__pyx_d, __pyx_n_s_cython_summer, __pyx_t_1) &lt; 0) <span class='error_goto'>{__pyx_filename = __pyx_f[0]; __pyx_lineno = 6; __pyx_clineno = __LINE__; goto __pyx_L1_error;}</span>\n",
        "  <span class='pyx_macro_api'>__Pyx_DECREF</span>(__pyx_t_1); __pyx_t_1 = 0;\n",
        "  __pyx_codeobj__14 = (PyObject*)<span class='pyx_c_api'>__Pyx_PyCode_New</span>(1, 0, 5, 0, 0, __pyx_empty_bytes, __pyx_empty_tuple, __pyx_empty_tuple, __pyx_tuple__13, __pyx_empty_tuple, __pyx_empty_tuple, __pyx_kp_s_Users_cliburn_ipython_cython__c, __pyx_n_s_cython_summer, 6, __pyx_empty_bytes);<span class='error_goto'> if (unlikely(!__pyx_codeobj__14)) {__pyx_filename = __pyx_f[0]; __pyx_lineno = 6; __pyx_clineno = __LINE__; goto __pyx_L1_error;}</span>\n",
        "</pre><pre class='cython line score-0' onclick='toggleDiv(this)'>+07:     <span class=\"k\">cdef</span> <span class=\"kt\">double</span> <span class=\"nf\">s</span> <span class=\"o\">=</span> <span class=\"mf\">0</span></pre>\n",
        "<pre class='cython code score-0'>  __pyx_v_s = 0.0;\n",
        "</pre><pre class='cython line score-0' onclick='toggleDiv(this)'>+08:     <span class=\"k\">cdef</span> <span class=\"kt\">int</span> <span class=\"nf\">i</span><span class=\"p\">,</span> <span class=\"nf\">n</span> <span class=\"o\">=</span> <span class=\"n\">xs</span><span class=\"o\">.</span><span class=\"n\">shape</span><span class=\"p\">[</span><span class=\"mf\">0</span><span class=\"p\">];</span></pre>\n",
        "<pre class='cython code score-0'>  __pyx_v_n = (__pyx_v_xs.shape[0]);\n",
        "</pre><pre class='cython line score-0' onclick='toggleDiv(this)'>+09:     <span class=\"k\">for</span> <span class=\"n\">i</span> <span class=\"ow\">in</span> <span class=\"nb\">range</span><span class=\"p\">(</span><span class=\"n\">n</span><span class=\"p\">):</span></pre>\n",
        "<pre class='cython code score-0'>  __pyx_t_1 = __pyx_v_n;\n",
        "  for (__pyx_t_2 = 0; __pyx_t_2 &lt; __pyx_t_1; __pyx_t_2+=1) {\n",
        "    __pyx_v_i = __pyx_t_2;\n",
        "</pre><pre class='cython line score-0' onclick='toggleDiv(this)'>+10:         <span class=\"n\">s</span> <span class=\"o\">+=</span> <span class=\"n\">xs</span><span class=\"p\">[</span><span class=\"n\">i</span><span class=\"p\">]</span></pre>\n",
        "<pre class='cython code score-0'>    __pyx_t_3 = __pyx_v_i;\n",
        "    __pyx_v_s = (__pyx_v_s + (*((double *) ( /* dim=0 */ (__pyx_v_xs.data + __pyx_t_3 * __pyx_v_xs.strides[0]) ))));\n",
        "  }\n",
        "</pre><pre class='cython line score-6' onclick='toggleDiv(this)'>+11:     <span class=\"k\">return</span> <span class=\"n\">s</span></pre>\n",
        "<pre class='cython code score-6'>  <span class='pyx_macro_api'>__Pyx_XDECREF</span>(__pyx_r);\n",
        "  __pyx_t_4 = <span class='py_c_api'>PyFloat_FromDouble</span>(__pyx_v_s);<span class='error_goto'> if (unlikely(!__pyx_t_4)) {__pyx_filename = __pyx_f[0]; __pyx_lineno = 11; __pyx_clineno = __LINE__; goto __pyx_L1_error;}</span>\n",
        "  <span class='refnanny'>__Pyx_GOTREF</span>(__pyx_t_4);\n",
        "  __pyx_r = __pyx_t_4;\n",
        "  __pyx_t_4 = 0;\n",
        "  goto __pyx_L0;\n",
        "</pre></div></body></html>"
       ],
       "metadata": {},
       "output_type": "pyout",
       "prompt_number": 237,
       "text": [
        "<IPython.core.display.HTML at 0x1186d9a50>"
       ]
      }
     ],
     "prompt_number": 237
    },
    {
     "cell_type": "markdown",
     "metadata": {},
     "source": [
      "Benchmarks"
     ]
    },
    {
     "cell_type": "code",
     "collapsed": false,
     "input": [
      "xs = np.random.random(10000)\n",
      "\n",
      "print summer(xs), numba_summer(xs), cython_summer(xs)\n",
      "\n",
      "print \"python\\t\", \n",
      "%timeit summer(xs)\n",
      "print \"numba\\t\", \n",
      "%timeit numba_summer(xs)\n",
      "print \"cython\\t\", \n",
      "%timeit cython_summer(xs)"
     ],
     "language": "python",
     "metadata": {},
     "outputs": [
      {
       "output_type": "stream",
       "stream": "stdout",
       "text": [
        "5028.57415443 5028.57415443 5028.57415443\n",
        "python\t100 loops, best of 3: 2.61 ms per loop"
       ]
      },
      {
       "output_type": "stream",
       "stream": "stdout",
       "text": [
        "\n",
        "numba\t100000 loops, best of 3: 11.3 \u00b5s per loop"
       ]
      },
      {
       "output_type": "stream",
       "stream": "stdout",
       "text": [
        "\n",
        "cython\t100000 loops, best of 3: 12.7 \u00b5s per loop"
       ]
      },
      {
       "output_type": "stream",
       "stream": "stdout",
       "text": [
        "\n"
       ]
      }
     ],
     "prompt_number": 244
    },
    {
     "cell_type": "markdown",
     "metadata": {},
     "source": [
      "**Exercise 5**\n",
      "\n",
      "Write a simple word count function in Python to count the number of each word in the 18 books `b01.txt` to `b18.txt`. Finally combine the counts so that there is a single count of the number of each word in *all* the books. This is a classical `map-reduce` example.\n",
      "\n",
      "Execute this task in parallel using `multiprocessing` and `IPython.Parallel`. "
     ]
    },
    {
     "cell_type": "code",
     "collapsed": false,
     "input": [
      "# Common stuff\n",
      "\n",
      "def count_words(text):\n",
      "    import string\n",
      "    wc = {}\n",
      "    for term in text.translate(None, string.punctuation).lower().strip().split():\n",
      "        wc[term] = wc.get(term, 0) + 1\n",
      "    return wc\n",
      "\n",
      "texts = [open(book).read() for book in glob.glob('b??.txt')]"
     ],
     "language": "python",
     "metadata": {},
     "outputs": [],
     "prompt_number": 266
    },
    {
     "cell_type": "markdown",
     "metadata": {},
     "source": [
      "Multiprocessing solution"
     ]
    },
    {
     "cell_type": "code",
     "collapsed": false,
     "input": [
      "from multiprocessing import Pool\n",
      "\n",
      "pool = Pool(4)\n",
      "\n",
      "# map step\n",
      "results = pool.map(count_words, texts)\n",
      "\n",
      "# reduce step\n",
      "wcs = {}\n",
      "for result in results:\n",
      "    wcs.update(result)\n",
      "\n",
      "pool.close()\n",
      "\n",
      "wcs['the']"
     ],
     "language": "python",
     "metadata": {},
     "outputs": [
      {
       "metadata": {},
       "output_type": "pyout",
       "prompt_number": 263,
       "text": [
        "690"
       ]
      }
     ],
     "prompt_number": 263
    },
    {
     "cell_type": "markdown",
     "metadata": {},
     "source": [
      "IPython.Parallel solution\n",
      "\n",
      "First start up some engines using the Clusters tab and restart the kernel."
     ]
    },
    {
     "cell_type": "code",
     "collapsed": false,
     "input": [
      "from IPython.parallel import Client\n",
      "\n",
      "rc = Client()\n",
      "dv = rc[:]"
     ],
     "language": "python",
     "metadata": {},
     "outputs": [],
     "prompt_number": 267
    },
    {
     "cell_type": "code",
     "collapsed": false,
     "input": [
      "# map step\n",
      "results = dv.map(count_words, texts)\n",
      "\n",
      "# reduce step\n",
      "wcs = {}\n",
      "for result in results.get():\n",
      "    wcs.update(result)\n",
      "\n",
      "wcs['the']"
     ],
     "language": "python",
     "metadata": {},
     "outputs": [],
     "prompt_number": 268
    },
    {
     "cell_type": "code",
     "collapsed": false,
     "input": [],
     "language": "python",
     "metadata": {},
     "outputs": []
    }
   ],
   "metadata": {}
  }
 ]
}