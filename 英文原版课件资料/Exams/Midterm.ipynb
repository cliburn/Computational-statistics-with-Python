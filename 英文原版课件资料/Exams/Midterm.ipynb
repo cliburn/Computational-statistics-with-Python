{
 "metadata": {
  "name": "",
  "signature": "sha256:d6ec4ae728d0935ca47db196b8bdc1ee17b25c2c9db83bcec13192fc04e06a60"
 },
 "nbformat": 3,
 "nbformat_minor": 0,
 "worksheets": [
  {
   "cells": [
    {
     "cell_type": "markdown",
     "metadata": {},
     "source": [
      "Instructions\n",
      "----\n",
      "\n",
      "This is a \"closed book\" examination - in particular, you are not to use any resources outside of this notebook (except possibly pen and paper). You may consult help from within the notebook using ? but not any online references. Violation of any of these exam rules is a violation of the University's honor code and will result in penalty under that code.\n",
      "\n",
      "You have 2 hours to complete the exam."
     ]
    },
    {
     "cell_type": "code",
     "collapsed": false,
     "input": [
      "import os\n",
      "import sys\n",
      "import glob\n",
      "import matplotlib.pyplot as plt\n",
      "import numpy as np\n",
      "import pandas as pd\n",
      "%matplotlib inline\n",
      "plt.style.use('ggplot')"
     ],
     "language": "python",
     "metadata": {},
     "outputs": []
    },
    {
     "cell_type": "code",
     "collapsed": false,
     "input": [
      "np.set_printoptions(formatter={'float': '{: 0.3f}'.format})"
     ],
     "language": "python",
     "metadata": {},
     "outputs": []
    },
    {
     "cell_type": "code",
     "collapsed": false,
     "input": [
      "%load_ext rpy2.ipython"
     ],
     "language": "python",
     "metadata": {},
     "outputs": []
    },
    {
     "cell_type": "markdown",
     "metadata": {},
     "source": [
      "**Question 1 (10 points)**. \n",
      "\n",
      "Given the 2 lists\n",
      "```\n",
      "a = [[1,2,3],[4,5,6]]\n",
      "b = [[1,2,3,4],[5,6,7,8],[9,10,11,12],[13,14,15,16]]\n",
      "```\n",
      "\n",
      "Perform matrix multiplication of `a` and `b` using the following methods:\n",
      "\n",
      "1. Using a `for` loop\n",
      "2. Using a list comprehension\n",
      "3. Using the `map` function\n",
      "4. Using numpy\n",
      "5. Using R by creating an Rmagic cell (start the first line of a new cell with %%R)"
     ]
    },
    {
     "cell_type": "code",
     "collapsed": false,
     "input": [
      "\n",
      "\n",
      "\n",
      "\n",
      "\n",
      "\n",
      "\n",
      "\n"
     ],
     "language": "python",
     "metadata": {},
     "outputs": []
    },
    {
     "cell_type": "markdown",
     "metadata": {},
     "source": [
      "**Question 2 (10 points)**. \n",
      "\n",
      "1. Use Unix commands to display ONLY lines 21-30 of the `iris.csv` data set. (Hint: use head, tail and piping) \n",
      "2. Using the `open` function and a `for` loop, print only the lines where the Name field is `Iris-versicolor`\n",
      "3. Read the `iris.csv` data set into a Pandas DataFrame.\n",
      "4. Create a new column in the DataFrame named `PetalLengthSquared` that is the square of `PetalLength`.\n",
      "5. Create a new DataFrame showing the mean `SepalLength`, `SepalWidth`, `PetalLength` and `PetalWidth` for the 3 differnet types of irises."
     ]
    },
    {
     "cell_type": "code",
     "collapsed": false,
     "input": [
      "\n",
      "\n",
      "\n",
      "\n",
      "\n",
      "\n",
      "\n",
      "\n"
     ],
     "language": "python",
     "metadata": {},
     "outputs": []
    },
    {
     "cell_type": "markdown",
     "metadata": {},
     "source": [
      "**Question 3 (10 points)**.\n",
      "\n",
      "5. Arrange the following complexity classes from least to most complex:\n",
      "    - O(n)\n",
      "    - O(2**n)\n",
      "    - O(n**2)\n",
      "    - O(n*log(n))\n",
      "    - O(n!)\n",
      "1. What is the algorithmic complexity (in Big O notation) of \"vanilla\" matrix multiplication?\n",
      "2. What do you expect the average case algorithmic complexity of the following algorithm to be?\n",
      "```python\n",
      "def recursive_sort(xs):\n",
      "    if xs == []:\n",
      "        return xs\n",
      "    else:\n",
      "        pivot = xs[0]\n",
      "        lower = [x for x in xs[1:] if x < pivot]\n",
      "        higher = [x for x in xs[1:] if x >= pivot]\n",
      "        return recursive_sort(lower) + [pivot] + recursive_sort(higher)\n",
      "```\n",
      "3. What do you expect the worst case algorithmic complexity of the `recursive_sort` algorithm to be?\n",
      "4. Give an example of an input list or array `x` that will result in worst case behavior."
     ]
    },
    {
     "cell_type": "code",
     "collapsed": false,
     "input": [
      "\n",
      "\n",
      "\n",
      "\n",
      "\n",
      "\n",
      "\n",
      "\n"
     ],
     "language": "python",
     "metadata": {},
     "outputs": []
    },
    {
     "cell_type": "markdown",
     "metadata": {},
     "source": [
      "**Question 4 (20 points)**. \n",
      "\n",
      "Consider the following matrix with dimensions (4,6).\n",
      "```python\n",
      "np.array([[5, 5, 2, 6, 2, 0],\n",
      "          [8, 6, 7, 8, 9, 7],\n",
      "          [9, 5, 0, 4, 6, 8],\n",
      "          [8, 7, 9, 3, 6, 1]])\n",
      "```\n",
      "1. Normalize the matrix so that every column has zero mean and unit standard deviation using broadcasting.\n",
      "2. Find the (Pearson) correlation distance between all possible pairs of *column* vectors in the normalized matrix using only numpy functions or methods.\n",
      "3. What is the projection matrix that will take a column vector of the (original) matrix in standard coordinates to a column vector in eigenvector coordinates? Find this as efficiently as possible.\n",
      "4. What are the coordinates of the last column of the (original) matrix in eigenvector space?\n",
      "5. What is the rank 2 approximation of the covariance matrix (i.e. reconstruct the covariance matrix using only the 2 largest singular (or eigenvalue) values)."
     ]
    },
    {
     "cell_type": "code",
     "collapsed": false,
     "input": [
      "\n",
      "\n",
      "\n",
      "\n",
      "\n",
      "\n",
      "\n",
      "\n"
     ],
     "language": "python",
     "metadata": {},
     "outputs": []
    },
    {
     "cell_type": "markdown",
     "metadata": {},
     "source": [
      "**Question 5 (10 points)**. \n",
      "\n",
      "Find the minimum of the following quadratic function on $\\mathbb{R}^4$ \n",
      "\n",
      "$$f(x) = x^TAx +b^Tx +c$$\n",
      "where\n",
      "$$A = \\left(\\begin{matrix}13&5&0&0\\\\5&7&0&0\\\\0&0&20&-7\\\\0&0&-7&12\\end{matrix}\\right), b = \\left(\\begin{matrix}1\\\\1\\\\1\\\\1\\end{matrix}\\right) \\textrm {and } c = 2$$\n",
      "\n",
      "a. Using scipy.optimize \n",
      "\n",
      "b. Using a matrix decomposition method (library functions - no need to code your own).  Note: for full credit you should exploit matrix structure.\n",
      "\n",
      "c. Find the minimum under the constraint $||x||^2 = 1$ (i.e. on the unit sphere in $\\mathbb{R}^4$).\n",
      "\n",
      "**Note: Do not be overly concerned if your values for $x$ at the minimum do not match exactly **\n"
     ]
    },
    {
     "cell_type": "code",
     "collapsed": false,
     "input": [
      "\n",
      "\n",
      "\n",
      "\n",
      "\n"
     ],
     "language": "python",
     "metadata": {},
     "outputs": []
    },
    {
     "cell_type": "markdown",
     "metadata": {},
     "source": [
      "**Question 6 (10 points)**.\n",
      "\n",
      "Find the minimum of the following quadratic function on $\\mathbb{R}^2$ \n",
      "\n",
      "$$f(x) = x^TAx +b^Tx +c$$\n",
      "where\n",
      "$$A = \\left(\\begin{matrix}13&5\\\\5&7\\end{matrix}\\right), b = \\left(\\begin{matrix}1\\\\1\\end{matrix}\\right) \\textrm {and } c = 2$$\n",
      "\n",
      "Under the constraints:\n",
      "$$g(x) = 2x_1-5x_2=2 \\;\\;\\;\\;\\;\\; \\textrm{ and } \\;\\;\\;\\;\\;\\; h(x) = x_1+x_2=1$$\n",
      "using Lagrange multipliers and `scipy.optimize`.\n",
      "\n",
      "**Note: Using Lagrange multipliers should convert this to an unconstrained optimization!**"
     ]
    },
    {
     "cell_type": "code",
     "collapsed": false,
     "input": [
      "\n",
      "\n",
      "\n",
      "\n",
      "\n"
     ],
     "language": "python",
     "metadata": {},
     "outputs": []
    },
    {
     "cell_type": "markdown",
     "metadata": {},
     "source": [
      "**Question 7 (10 points)**. \n",
      "\n",
      "Write the matrix $A$ for the linear transformation $f(x)$ on $\\mathbb{R}^3$ that takes the standard basis $\\left\\{e_1,e_2,e_3\\right\\}$ to $\\left\\{v_1,v_2,v_3\\right\\}$ where\n",
      "\n",
      "$$v_1=\\left(\\begin{matrix}10\\\\-10\\\\16\\end{matrix}\\right), v_2=\\left(\\begin{matrix}2\\\\-5\\\\20\\end{matrix}\\right) \\textrm {and } v_3=\\left(\\begin{matrix}1\\\\-4\\\\13\\end{matrix}\\right)$$\n",
      "\n",
      "a. Compute the rank of $A$ (use any method you like)\n",
      "\n",
      "b. Find the eigenvalues and eigenvectors of $A$\n",
      "\n",
      "c. What is the matrix representation of $f$ with respect to the eigenbasis"
     ]
    },
    {
     "cell_type": "code",
     "collapsed": false,
     "input": [
      "\n",
      "\n",
      "\n",
      "\n",
      "\n"
     ],
     "language": "python",
     "metadata": {},
     "outputs": []
    },
    {
     "cell_type": "markdown",
     "metadata": {},
     "source": [
      "**Question 8 (10 points)**.\n",
      "\n",
      "1. Show using `sympy` that the log function is concave.\n",
      "2. What can we say about the relationship of $E(\\log x)$ and $\\log E(x)$?"
     ]
    },
    {
     "cell_type": "code",
     "collapsed": false,
     "input": [
      "\n",
      "\n",
      "\n"
     ],
     "language": "python",
     "metadata": {},
     "outputs": [],
     "prompt_number": 4
    },
    {
     "cell_type": "markdown",
     "metadata": {},
     "source": [
      "**Question 9 (10 points)**\n",
      "\n",
      "Given the matrix:\n",
      "\n",
      "$$A = \\left(\\begin{matrix}13&5&-3\\\\5&11&7\\\\-3&7&20\\end{matrix}\\right)$$\n",
      "\n",
      "Convert the standard basis in $\\mathbb{R}^3$ to a conjugate basis that is conjugate with respect to $A$."
     ]
    },
    {
     "cell_type": "code",
     "collapsed": false,
     "input": [],
     "language": "python",
     "metadata": {},
     "outputs": []
    }
   ],
   "metadata": {}
  }
 ]
}