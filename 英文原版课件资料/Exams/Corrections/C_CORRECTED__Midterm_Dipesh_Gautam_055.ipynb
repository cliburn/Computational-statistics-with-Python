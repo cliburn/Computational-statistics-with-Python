{
 "metadata": {
  "name": "",
  "signature": "sha256:35f2a871808b25569064debe70a9ae96ef3d413ca0da00502aa2eb1ae0092123"
 },
 "nbformat": 3,
 "nbformat_minor": 0,
 "worksheets": [
  {
   "cells": [
    {
     "cell_type": "markdown",
     "metadata": {},
     "source": [
      "Instructions\n",
      "----\n",
      "\n",
      "This is a \"closed book\" examination - in particular, you are not to use any resources outside of this notebook (except possibly pen and paper). You may consult help from within the notebook using ? but not any online references. Violation of any of these exam rules is a violation of the University's honor code and will result in penalty under that code.\n",
      "\n",
      "\n",
      "You have 1 hour and 45 minutes to complete the exam.\n",
      "\n",
      "- <font color=red>Use a new cell for different parts of a question</font>\n",
      "- <font color=red>The maximum score for the mid-terms is 60</font>"
     ]
    },
    {
     "cell_type": "code",
     "collapsed": false,
     "input": [
      "import os\n",
      "import sys\n",
      "import glob\n",
      "import matplotlib.pyplot as plt\n",
      "import numpy as np\n",
      "import pandas as pd\n",
      "import scipy.linalg as la\n",
      "%matplotlib inline\n",
      "plt.style.use('ggplot')"
     ],
     "language": "python",
     "metadata": {},
     "outputs": [],
     "prompt_number": 110
    },
    {
     "cell_type": "code",
     "collapsed": false,
     "input": [
      "np.set_printoptions(formatter={'float': '{: 0.3f}'.format})"
     ],
     "language": "python",
     "metadata": {},
     "outputs": [],
     "prompt_number": 111
    },
    {
     "cell_type": "code",
     "collapsed": false,
     "input": [
      "%load_ext rpy2.ipython"
     ],
     "language": "python",
     "metadata": {},
     "outputs": [],
     "prompt_number": 3
    },
    {
     "cell_type": "code",
     "collapsed": false,
     "input": [],
     "language": "python",
     "metadata": {},
     "outputs": [],
     "prompt_number": 3
    },
    {
     "cell_type": "markdown",
     "metadata": {},
     "source": [
      "**Question 1 (10 points)**. \n",
      "\n",
      "Given the 2 matrices\n",
      "```\n",
      "A = np.array([[1,2,3],[4,5,6]])\n",
      "B = np.array([[1,2,3,4],[5,6,7,8],[9,10,11,12]])\n",
      "```\n",
      "\n",
      "Perform matrix multiplication of `A` and `B` using the following methods:\n",
      "\n",
      "1. Using nested `for` loops without the `dot` function (4 points)\n",
      "2. Using numpy (2 points)\n",
      "3. Using R (start the first line of a new cell with %%R). You should pass in the A and B matrices defined in Python for full marks, but partial credit will be given if you redefine them in R (4 points)"
     ]
    },
    {
     "cell_type": "code",
     "collapsed": false,
     "input": [
      "A = np.array([[1,2,3],[4,5,6]])\n",
      "B = np.array([[1,2,3,4],[5,6,7,8],[9,10,11,12]])"
     ],
     "language": "python",
     "metadata": {},
     "outputs": [],
     "prompt_number": 112
    },
    {
     "cell_type": "code",
     "collapsed": false,
     "input": [
      "## 1\n",
      "m = np.shape(A)[0]\n",
      "n = np.shape(B)[1]\n",
      "Mul = np.zeros((m,n))\n",
      "for i in range(m):\n",
      "    for j in range(n):\n",
      "        Mul[i,j] = 0\n",
      "        for k in range(np.shape(A)[1]):\n",
      "            Mul[i,j] += A[i,k]*B[k,j]\n",
      "print \"The multiplication using nested loop is:\\n\", Mul"
     ],
     "language": "python",
     "metadata": {},
     "outputs": [
      {
       "output_type": "stream",
       "stream": "stdout",
       "text": [
        "The multiplication using nested loop is:\n",
        "[[ 38.000  44.000  50.000  56.000]\n",
        " [ 83.000  98.000  113.000  128.000]]\n"
       ]
      }
     ],
     "prompt_number": 113
    },
    {
     "cell_type": "code",
     "collapsed": false,
     "input": [
      "## 2\n",
      "print \"The multiplication using numpy function is:\\n\", np.dot(A,B)"
     ],
     "language": "python",
     "metadata": {},
     "outputs": [
      {
       "output_type": "stream",
       "stream": "stdout",
       "text": [
        "The multiplication using numpy function is:\n",
        "[[ 38  44  50  56]\n",
        " [ 83  98 113 128]]\n"
       ]
      }
     ],
     "prompt_number": 114
    },
    {
     "cell_type": "code",
     "collapsed": false,
     "input": [
      "\n",
      "%%R \n",
      "A = matrix(seq(1,6,1),  nrow = 2, byrow=T)\n",
      "B = matrix(seq(1,12,1),  nrow = 3,  byrow=T)\n",
      "crossprod(t(A),B)\n"
     ],
     "language": "python",
     "metadata": {},
     "outputs": [
      {
       "metadata": {},
       "output_type": "display_data",
       "text": [
        "     [,1] [,2] [,3] [,4]\n",
        "[1,]   38   44   50   56\n",
        "[2,]   83   98  113  128\n"
       ]
      }
     ],
     "prompt_number": 7
    },
    {
     "cell_type": "markdown",
     "metadata": {},
     "source": [
      "<font color=blue>Grade (+/- comments)</font>\n",
      "\n",
      "\\-1 for not passing values in"
     ]
    },
    {
     "cell_type": "code",
     "collapsed": false,
     "input": [
      "### CORRECTION ### "
     ],
     "language": "python",
     "metadata": {},
     "outputs": []
    },
    {
     "cell_type": "code",
     "collapsed": false,
     "input": [
      "%%R -i A,B\n",
      "crossprod(t(A),B)"
     ],
     "language": "python",
     "metadata": {},
     "outputs": []
    },
    {
     "cell_type": "markdown",
     "metadata": {},
     "source": [
      "**Question 2 (10 points)**. \n",
      "\n",
      "1. Read the `iris.csv` data set into a Pandas DataFrame. Dispaly the first 4 lines of the DataFrame. (2 points)\n",
      "2. Create a new DataFrame showing the mean `SepalLength`, `SepalWidth`, `PetalLength` and `PetalWidth` for the 3 different types of irises. (4 points)\n",
      "3. Make a scatter plot of `SepalLength` against `PetalLength` where each species is assigned a different color. (4 points)"
     ]
    },
    {
     "cell_type": "code",
     "collapsed": false,
     "input": [
      "! head -n6 iris.csv"
     ],
     "language": "python",
     "metadata": {},
     "outputs": [
      {
       "output_type": "stream",
       "stream": "stdout",
       "text": [
        "SepalLength,SepalWidth,PetalLength,PetalWidth,Name\r\n",
        "5.1,3.5,1.4,0.2,Iris-setosa\r\n",
        "4.9,3.0,1.4,0.2,Iris-setosa\r\n",
        "4.7,3.2,1.3,0.2,Iris-setosa\r\n",
        "4.6,3.1,1.5,0.2,Iris-setosa\r\n",
        "5.0,3.6,1.4,0.2,Iris-setosa\r\n"
       ]
      }
     ],
     "prompt_number": 8
    },
    {
     "cell_type": "code",
     "collapsed": false,
     "input": [
      "iris = pd.read_csv('iris.csv')\n",
      "iris.head(4)"
     ],
     "language": "python",
     "metadata": {},
     "outputs": [
      {
       "html": [
        "<div style=\"max-height:1000px;max-width:1500px;overflow:auto;\">\n",
        "<table border=\"1\" class=\"dataframe\">\n",
        "  <thead>\n",
        "    <tr style=\"text-align: right;\">\n",
        "      <th></th>\n",
        "      <th>SepalLength</th>\n",
        "      <th>SepalWidth</th>\n",
        "      <th>PetalLength</th>\n",
        "      <th>PetalWidth</th>\n",
        "      <th>Name</th>\n",
        "    </tr>\n",
        "  </thead>\n",
        "  <tbody>\n",
        "    <tr>\n",
        "      <th>0</th>\n",
        "      <td> 5.1</td>\n",
        "      <td> 3.5</td>\n",
        "      <td> 1.4</td>\n",
        "      <td> 0.2</td>\n",
        "      <td> Iris-setosa</td>\n",
        "    </tr>\n",
        "    <tr>\n",
        "      <th>1</th>\n",
        "      <td> 4.9</td>\n",
        "      <td> 3.0</td>\n",
        "      <td> 1.4</td>\n",
        "      <td> 0.2</td>\n",
        "      <td> Iris-setosa</td>\n",
        "    </tr>\n",
        "    <tr>\n",
        "      <th>2</th>\n",
        "      <td> 4.7</td>\n",
        "      <td> 3.2</td>\n",
        "      <td> 1.3</td>\n",
        "      <td> 0.2</td>\n",
        "      <td> Iris-setosa</td>\n",
        "    </tr>\n",
        "    <tr>\n",
        "      <th>3</th>\n",
        "      <td> 4.6</td>\n",
        "      <td> 3.1</td>\n",
        "      <td> 1.5</td>\n",
        "      <td> 0.2</td>\n",
        "      <td> Iris-setosa</td>\n",
        "    </tr>\n",
        "  </tbody>\n",
        "</table>\n",
        "</div>"
       ],
       "metadata": {},
       "output_type": "pyout",
       "prompt_number": 9,
       "text": [
        "   SepalLength  SepalWidth  PetalLength  PetalWidth         Name\n",
        "0          5.1         3.5          1.4         0.2  Iris-setosa\n",
        "1          4.9         3.0          1.4         0.2  Iris-setosa\n",
        "2          4.7         3.2          1.3         0.2  Iris-setosa\n",
        "3          4.6         3.1          1.5         0.2  Iris-setosa"
       ]
      }
     ],
     "prompt_number": 9
    },
    {
     "cell_type": "code",
     "collapsed": false,
     "input": [
      "iris.groupby('Name').mean()"
     ],
     "language": "python",
     "metadata": {},
     "outputs": [
      {
       "html": [
        "<div style=\"max-height:1000px;max-width:1500px;overflow:auto;\">\n",
        "<table border=\"1\" class=\"dataframe\">\n",
        "  <thead>\n",
        "    <tr style=\"text-align: right;\">\n",
        "      <th></th>\n",
        "      <th>SepalLength</th>\n",
        "      <th>SepalWidth</th>\n",
        "      <th>PetalLength</th>\n",
        "      <th>PetalWidth</th>\n",
        "    </tr>\n",
        "    <tr>\n",
        "      <th>Name</th>\n",
        "      <th></th>\n",
        "      <th></th>\n",
        "      <th></th>\n",
        "      <th></th>\n",
        "    </tr>\n",
        "  </thead>\n",
        "  <tbody>\n",
        "    <tr>\n",
        "      <th>Iris-setosa</th>\n",
        "      <td> 5.006</td>\n",
        "      <td> 3.418</td>\n",
        "      <td> 1.464</td>\n",
        "      <td> 0.244</td>\n",
        "    </tr>\n",
        "    <tr>\n",
        "      <th>Iris-versicolor</th>\n",
        "      <td> 5.936</td>\n",
        "      <td> 2.770</td>\n",
        "      <td> 4.260</td>\n",
        "      <td> 1.326</td>\n",
        "    </tr>\n",
        "    <tr>\n",
        "      <th>Iris-virginica</th>\n",
        "      <td> 6.588</td>\n",
        "      <td> 2.974</td>\n",
        "      <td> 5.552</td>\n",
        "      <td> 2.026</td>\n",
        "    </tr>\n",
        "  </tbody>\n",
        "</table>\n",
        "</div>"
       ],
       "metadata": {},
       "output_type": "pyout",
       "prompt_number": 10,
       "text": [
        "                 SepalLength  SepalWidth  PetalLength  PetalWidth\n",
        "Name                                                             \n",
        "Iris-setosa            5.006       3.418        1.464       0.244\n",
        "Iris-versicolor        5.936       2.770        4.260       1.326\n",
        "Iris-virginica         6.588       2.974        5.552       2.026"
       ]
      }
     ],
     "prompt_number": 10
    },
    {
     "cell_type": "code",
     "collapsed": false,
     "input": [
      "xs = iris.SepalLength\n",
      "setosa = iris[iris.Name=='Iris-setosa']\n",
      "xs_s = setosa.SepalLength\n",
      "ys_s = setosa.PetalLength\n",
      "plt.scatter(xs_s, ys_s, c='r')\n",
      "\n",
      "versicolor = iris[iris.Name=='Iris-versicolor']\n",
      "xs_v = versicolor.SepalLength\n",
      "ys_v = versicolor.PetalLength\n",
      "plt.scatter(xs_v, ys_v, c='b')\n",
      "\n",
      "virginica = iris[iris.Name=='Iris-virginica']\n",
      "xs_vi = virginica.SepalLength\n",
      "ys_vi = virginica.PetalLength\n",
      "plt.scatter(xs_vi, ys_vi, c='g')\n",
      "plt.legend(('Iris-setosa', 'Iris-versicolor', 'Iris-virginica'), loc='best')"
     ],
     "language": "python",
     "metadata": {},
     "outputs": [
      {
       "metadata": {},
       "output_type": "pyout",
       "prompt_number": 11,
       "text": [
        "<matplotlib.legend.Legend at 0x10c46d250>"
       ]
      },
      {
       "metadata": {},
       "output_type": "display_data",
       "png": "[encoded data removed]",
       "text": [
        "<matplotlib.figure.Figure at 0x1117f6a50>"
       ]
      }
     ],
     "prompt_number": 11
    },
    {
     "cell_type": "markdown",
     "metadata": {},
     "source": [
      "**Question 3 (10 points)**.\n",
      "\n",
      "Given the following covariance matrix\n",
      "```python\n",
      "A = np.array([[2,1],[1,4]])\n",
      "```\n",
      "\n",
      "1. Show that the eigenvectors of $A$ are orthogonal. (2 points)\n",
      "2. What is the vector representing the first principal component direction? (2 points)\n",
      "3. Find $A^{-1}$ without performing a matrix inversion. (2 points)\n",
      "4. What are the coordinates of the data points (0, 1) and (1, 1) in the standard basis expressed as coordinates of the principal components? (2 points)\n",
      "5. What is the proportion of variance explained if we keep only the projection onto the first principal component? (2 points)."
     ]
    },
    {
     "cell_type": "code",
     "collapsed": false,
     "input": [
      "import scipy.linalg as la"
     ],
     "language": "python",
     "metadata": {},
     "outputs": [],
     "prompt_number": 121
    },
    {
     "cell_type": "code",
     "collapsed": false,
     "input": [
      "A = np.array([[2,1],[1,4]])"
     ],
     "language": "python",
     "metadata": {},
     "outputs": [],
     "prompt_number": 122
    },
    {
     "cell_type": "code",
     "collapsed": false,
     "input": [
      "## 1\n",
      "e,V = la.eig(A)\n",
      "print \"The product V.T.V is identity: \\n\",V.T.dot(V), \"\\n So, the eigen vectors are orthogonal\""
     ],
     "language": "python",
     "metadata": {},
     "outputs": [
      {
       "output_type": "stream",
       "stream": "stdout",
       "text": [
        "The product V.T.V is identity: \n",
        "[[ 1.000  0.000]\n",
        " [ 0.000  1.000]] \n",
        " So, the eigen vectors are orthogonal\n"
       ]
      }
     ],
     "prompt_number": 123
    },
    {
     "cell_type": "code",
     "collapsed": false,
     "input": [
      "## 2\n",
      "print \"The first principal component direction is where the eigen vector related to the \\\n",
      "maximum eigen value, which is given by:\\n\",V[:,np.argmax(e)]"
     ],
     "language": "python",
     "metadata": {},
     "outputs": [
      {
       "output_type": "stream",
       "stream": "stdout",
       "text": [
        "The first principal component direction is where the eigen vector related to the maximum eigen value, which is given by:\n",
        "[-0.383 -0.924]\n"
       ]
      }
     ],
     "prompt_number": 124
    },
    {
     "cell_type": "code",
     "collapsed": false,
     "input": [
      "## 3\n",
      "print np.real_if_close(V.dot(np.diag(e**(-1)).dot(V.T)))"
     ],
     "language": "python",
     "metadata": {},
     "outputs": [
      {
       "output_type": "stream",
       "stream": "stdout",
       "text": [
        "[[ 0.571 -0.143]\n",
        " [-0.143  0.286]]\n"
       ]
      }
     ],
     "prompt_number": 125
    },
    {
     "cell_type": "code",
     "collapsed": false,
     "input": [
      "## 4\n",
      "print \"(1,1) represented in principal components spacce:\", la.inv(V).dot([1,1])\n",
      "print \"(0,1) represented in principal components spacce:\", la.inv(V).dot([0,1])"
     ],
     "language": "python",
     "metadata": {},
     "outputs": [
      {
       "output_type": "stream",
       "stream": "stdout",
       "text": [
        "(1,1) represented in principal components spacce: [-0.541 -1.307]\n",
        "(0,1) represented in principal components spacce: [ 0.383 -0.924]\n"
       ]
      }
     ],
     "prompt_number": 126
    },
    {
     "cell_type": "markdown",
     "metadata": {},
     "source": [
      "<font color=blue>Grade (+/- comments)</font>\n",
      "\n",
      "No deductions, but you should use v.T instead of inv() since you know that v is orthogonal."
     ]
    },
    {
     "cell_type": "code",
     "collapsed": false,
     "input": [
      "## 5\n",
      "idx = np.argsort(e)\n",
      "e = np.real_if_close(e[idx][::-1])\n",
      "print \"percent of variance explained by first principal component is:\", e[0]/sum(e)"
     ],
     "language": "python",
     "metadata": {},
     "outputs": [
      {
       "output_type": "stream",
       "stream": "stdout",
       "text": [
        "percent of variance explained by first principal component is: 0.735702260396\n"
       ]
      }
     ],
     "prompt_number": 127
    },
    {
     "cell_type": "markdown",
     "metadata": {},
     "source": [
      "**Question 4 (10 points)**.\n",
      "\n",
      "Find the minimum of the following quadratic function on $\\mathbb{R}^2$ \n",
      "\n",
      "$$f(x) = x^TAx +b^Tx +c$$\n",
      "where\n",
      "$$A = \\left(\\begin{matrix}13&5\\\\5&7\\end{matrix}\\right), b = \\left(\\begin{matrix}1\\\\1\\end{matrix}\\right) \\textrm {and } c = 2$$\n",
      "\n",
      "Under the constraints:\n",
      "$$g(x) = 2x_1-5x_2=2 \\;\\;\\;\\;\\;\\; \\textrm{ and } \\;\\;\\;\\;\\;\\; h(x) = x_1+x_2=1$$\n",
      "\n",
      "1. Use a matrix decomposition method to find the minimum of the *unconstrained* problem without using `scipy.optimize` (Use library functions - no need to code your own). Note: for full credit you should exploit matrix structure. (3 points)\n",
      "2. Find the solution using constrained optimization with the `scipy.optimize` package. (3 points)\n",
      "2. Use Lagrange multipliers and solve the resulting set of equations directly without using `scipy.optimize`. (4 points)"
     ]
    },
    {
     "cell_type": "code",
     "collapsed": false,
     "input": [
      "import scipy.optimize as opt"
     ],
     "language": "python",
     "metadata": {},
     "outputs": [],
     "prompt_number": 128
    },
    {
     "cell_type": "code",
     "collapsed": false,
     "input": [
      "## 1\n",
      "A = np.array([[13,5], [5,7]])\n",
      "b = np.array([1,1])\n",
      "c =2\n",
      "U, s, V = la.svd(A)\n",
      "x = -(0.5)*(V.T.dot(la.inv(np.diag(s)).dot(U.T.dot(b))))\n",
      "print \"Optimized using matrix decomposition:\", x"
     ],
     "language": "python",
     "metadata": {},
     "outputs": [
      {
       "output_type": "stream",
       "stream": "stdout",
       "text": [
        "Optimized using matrix decomposition: [-0.015 -0.061]\n"
       ]
      }
     ],
     "prompt_number": 129
    },
    {
     "cell_type": "markdown",
     "metadata": {},
     "source": [
      "<font color = 'green',size=4pt>Use Cholesky -1</font>"
     ]
    },
    {
     "cell_type": "code",
     "collapsed": false,
     "input": [
      "### CORRECTION ###\n",
      "## 1\n",
      "A = np.array([[13,5], [5,7]])\n",
      "b = np.array([1,1])\n",
      "c = 2\n",
      "L = la.cholesky(A)\n",
      "Linv = la.inv(L)\n",
      "x = -(0.5)*Linv.dot(Linv.T.dot(b))\n",
      "print \"Optimized using matrix decomposition:\", x"
     ],
     "language": "python",
     "metadata": {},
     "outputs": [
      {
       "output_type": "stream",
       "stream": "stdout",
       "text": [
        "Optimized using matrix decomposition: [-0.015 -0.061]\n"
       ]
      }
     ],
     "prompt_number": 130
    },
    {
     "cell_type": "code",
     "collapsed": false,
     "input": [
      "## 2\n",
      "def f(x):\n",
      "    A = np.array([[13,5], [5,7]])\n",
      "    b = np.array([1,1])\n",
      "    c = 2\n",
      "    return x.T.dot(A.dot(x)) + b.T.dot(x) +c\n",
      "cons = ({'type': 'eq',\n",
      "         'fun': lambda x: np.array([2*x[0] -5*x[1] - 2])},\n",
      "         {'type': 'eq',\n",
      "         'fun': lambda x: np.array([x[0] + x[1] - 1])})\n",
      "optimized_cons = opt.minimize(f, [1,1], constraints = cons)\n",
      "print \"Optimized using scipy.optimize and the constraints is:\", optimized_cons.x"
     ],
     "language": "python",
     "metadata": {},
     "outputs": [
      {
       "output_type": "stream",
       "stream": "stdout",
       "text": [
        "Optimized using scipy.optimize and the constraints is: [ 1.000  0.000]\n"
       ]
      }
     ],
     "prompt_number": 131
    },
    {
     "cell_type": "code",
     "collapsed": false,
     "input": [
      "## 3\n",
      "from sympy import symbols, solve, diff\n",
      "x, y, l1, l2 = symbols('x y l1 l2')\n",
      "f1 = 13*x + 5*y+1\n",
      "f2 = 5*x +7*y +1\n",
      "X =np.array([x,y])[:,None]\n",
      "f = 0.5*x*(13*x + 5*y) + x + 0.5*y*(5*x + 7*y) + y + 2\n",
      "#gradf = [[diff(f, x)], [diff(f,y)]]\n",
      "g = 2*x - 5*y -2\n",
      "h = x + y -1\n",
      "#solve((f1,f2), (x,y))\n",
      "gradfx = diff(f,x)\n",
      "gradfy = diff(f,y)\n",
      "a = gradfx -l1*diff(g,x)\n",
      "b = gradfy - l1*diff(g,y)\n",
      "c = gradfx - l2*diff(h,x)\n",
      "d = gradfy - l2*diff(h,y)\n",
      "#solve((a,b,g),(x,y,l1))\n",
      "#solve((a,b,c,d,g),(x,y,l1,l2,k))\n",
      "f"
     ],
     "language": "python",
     "metadata": {},
     "outputs": [
      {
       "metadata": {},
       "output_type": "pyout",
       "prompt_number": 132,
       "text": [
        "0.5*x*(13*x + 5*y) + x + 0.5*y*(5*x + 7*y) + y + 2"
       ]
      }
     ],
     "prompt_number": 132
    },
    {
     "cell_type": "markdown",
     "metadata": {},
     "source": [
      "<font color = 'green',size=4pt>-2</font>"
     ]
    },
    {
     "cell_type": "code",
     "collapsed": false,
     "input": [
      "### CORRECTION ###\n",
      "## 3\n",
      "from sympy import symbols, solve, diff\n",
      "x, y, l1, l2 = symbols('x y l1 l2')\n",
      "X =np.array([x,y])[:,None]\n",
      "f = 0.5*(x*(13*x + 5*y) + y*(5*x + 7*y)) + x + y + 2\n",
      "gradfx = diff(f,x)\n",
      "gradfy = diff(f,y)\n",
      "a = gradfx - l1*diff(g,x)- l2*diff(h,x)\n",
      "b = gradfy - l1*diff(g,y)- l2*diff(h,y)\n",
      "g = 2*x - 5*y -2 #Constraint 1\n",
      "h = x + y -1     #Constraint 2\n",
      "solve((a,b,g, h),(x,y,l1,l2))"
     ],
     "language": "python",
     "metadata": {},
     "outputs": [
      {
       "metadata": {},
       "output_type": "pyout",
       "prompt_number": 133,
       "text": [
        "{l1: 1.14285714285714, l2: 11.7142857142857, x: 1.00000000000000, y: 0.0}"
       ]
      }
     ],
     "prompt_number": 133
    },
    {
     "cell_type": "markdown",
     "metadata": {},
     "source": [
      "**Question 5 (10 points)**. \n",
      "\n",
      "Consider the linear transformation $f(x)$ on $\\mathbb{R}^3$ that takes the standard basis $\\left\\{e_1,e_2,e_3\\right\\}$ to $\\left\\{v_1,v_2,v_3\\right\\}$ where\n",
      "\n",
      "$$v_1=\\left(\\begin{matrix}10\\\\-10\\\\16\\end{matrix}\\right), v_2=\\left(\\begin{matrix}2\\\\-5\\\\20\\end{matrix}\\right) \\textrm {and } v_3=\\left(\\begin{matrix}1\\\\-4\\\\13\\end{matrix}\\right)$$\n",
      "\n",
      "1. Write a matrix $A$ that represents the same linear transformaton. (2 points)\n",
      "\n",
      "2. Compute the rank of $A$ (use any method you like). (2 points)\n",
      "\n",
      "3. Find the eigenvalues and eigenvectors of $A$. (2 points)\n",
      "\n",
      "4. What is the matrix representation of $f$ with respect to the eigenbasis? (4 points)"
     ]
    },
    {
     "cell_type": "code",
     "collapsed": false,
     "input": [
      "## 1\n",
      "A = np.array([[10,2,1],[-10,-5,-4], [16,20,13]])\n",
      "print \"The matrix representing the given transformation is:\\n\",A"
     ],
     "language": "python",
     "metadata": {},
     "outputs": [
      {
       "output_type": "stream",
       "stream": "stdout",
       "text": [
        "The matrix representing the given transformation is:\n",
        "[[ 10   2   1]\n",
        " [-10  -5  -4]\n",
        " [ 16  20  13]]\n"
       ]
      }
     ],
     "prompt_number": 134
    },
    {
     "cell_type": "code",
     "collapsed": false,
     "input": [
      "## 2\n",
      "print \"The rank of A is:\", np.linalg.matrix_rank(A)"
     ],
     "language": "python",
     "metadata": {},
     "outputs": [
      {
       "output_type": "stream",
       "stream": "stdout",
       "text": [
        "The rank of A is: "
       ]
      },
      {
       "output_type": "stream",
       "stream": "stdout",
       "text": [
        "3\n"
       ]
      }
     ],
     "prompt_number": 135
    },
    {
     "cell_type": "code",
     "collapsed": false,
     "input": [
      "## 3\n",
      "e,V = la.eig(A)\n",
      "print \"The Eigenvalues of A are:\", np.real_if_close(e)\n",
      "print \"The Eigenvectors of A are:\\n\", np.real_if_close(V)"
     ],
     "language": "python",
     "metadata": {},
     "outputs": [
      {
       "output_type": "stream",
       "stream": "stdout",
       "text": [
        "The Eigenvalues of A are: [ 9.000  3.000  6.000]\n",
        "The Eigenvectors of A are:\n",
        "[[-0.577 -0.000 -0.120]\n",
        " [ 0.577  0.447 -0.241]\n",
        " [-0.577 -0.894  0.963]]\n"
       ]
      }
     ],
     "prompt_number": 136
    },
    {
     "cell_type": "code",
     "collapsed": false,
     "input": [
      "## 4\n",
      "print \"The matrix representation of f with respect to eigen basis is:\\n\"\n",
      "print V.dot(A.dot(V.T))"
     ],
     "language": "python",
     "metadata": {},
     "outputs": [
      {
       "output_type": "stream",
       "stream": "stdout",
       "text": [
        "The matrix representation of f with respect to eigen basis is:\n",
        "\n",
        "[[ 4.703 -5.523  5.568]\n",
        " [ 1.995 -3.065  2.566]\n",
        " [-12.596  17.088 -15.975]]"
       ]
      },
      {
       "output_type": "stream",
       "stream": "stdout",
       "text": [
        "\n"
       ]
      }
     ],
     "prompt_number": 137
    },
    {
     "cell_type": "markdown",
     "metadata": {},
     "source": [
      "<font color = 'green',size=4pt>diag(eigenvalues) -4</font>"
     ]
    },
    {
     "cell_type": "code",
     "collapsed": false,
     "input": [
      "### CORRECTION ###\n",
      "## 4\n",
      "print \"The matrix representation of f with respect to eigen basis is:\\n\"\n",
      "print np.real_if_close(np.diag(e))"
     ],
     "language": "python",
     "metadata": {},
     "outputs": [
      {
       "output_type": "stream",
       "stream": "stdout",
       "text": [
        "The matrix representation of f with respect to eigen basis is:\n",
        "\n",
        "[[ 9.000  0.000  0.000]\n",
        " [ 0.000  3.000  0.000]\n",
        " [ 0.000  0.000  6.000]]\n"
       ]
      }
     ],
     "prompt_number": 138
    },
    {
     "cell_type": "markdown",
     "metadata": {},
     "source": [
      "**Question 6 (10 points)**\n",
      "\n",
      "Given the the function $f(x) = \\frac{1}{2} x^TAx + b^Tx$ where\n",
      "\n",
      "\\begin{align}\n",
      "A = \\left(\\begin{matrix}13&5&-3\\\\5&11&7\\\\-3&7&20\\end{matrix}\\right) \n",
      ", \\ b = \\left(\\begin{matrix}1\\\\1\\\\1\\end{matrix}\\right),\n",
      "\\end{align}\n",
      "\n",
      "complete the following code to find the first 3 vector directions for a conjugate gradient *descent* algorithm.\n",
      "\n",
      "Hint: Recall from linear algebra that the projection of $v$ on $u$ is \n",
      "\n",
      "$$\n",
      "\\frac{v \\cdot u}{u \\cdot u}u\n",
      "$$\n",
      "and that $u$ is conjugate to $v$ with respect to $A$ if \n",
      "$$Av\\cdot u = 0$$\n",
      "\n",
      "Also, recall that the gradient at $x_k$ of the quadratic function $f$ is given by $Ax_k + b$ since\n",
      "\n",
      "\\begin{align}\n",
      "\\dfrac{\\partial (x^TAx)}{\\partial x} &= \\dfrac{\\partial (x^T)^T}{\\partial x}\\dfrac{\\partial (x^Ty)}{\\partial x} +  \\dfrac{\\partial y^T}{\\partial x} \\dfrac{\\partial (x^Ty)}{\\partial y}\n",
      "   & \\text{chain rule with $y=Ax$} \\\\\n",
      "&= y + \\dfrac{\\partial (x^TA^T)}{\\partial x} \\dfrac{\\partial (x^Ty)}{\\partial y} & \\text{using $\\dfrac{\\partial (x^Ty)}{\\partial x} = y$} \\\\\n",
      "&= y + A^T\\dfrac{\\partial (y^Tx)}{\\partial y} & \\text{using $x^Ty = y^Tx$} \\\\\n",
      "&= Ax + A^Tx \\\\\n",
      "&= (A+A^T)x \\\\\n",
      "&= 2Ax & \\text{if $A$ is symmetric}\n",
      "\\end{align}\n",
      "\n",
      "\n",
      "<p>\n",
      "<font color=red>There are two lines of code to complete: the correction term in the function next_p, and the initial value of p = p0 in the main body of code.</font></p>\n",
      "\n",
      "<p>\n",
      "<font color=red>We do not expect this algorithm to converge in $3$ steps, and it is very primitive compared to scipy's implementation.  Do not be alarmed if you try to match solutions and fail.</font></p>"
     ]
    },
    {
     "cell_type": "code",
     "collapsed": false,
     "input": [
      "def next_x (A,x,b,p):\n",
      "    return x + ((np.dot(p,-b))/(np.dot(p,A.dot(p))))*p # returns x_{k+1} given x_k, p_k, A and b"
     ],
     "language": "python",
     "metadata": {},
     "outputs": [],
     "prompt_number": 139
    },
    {
     "cell_type": "code",
     "collapsed": false,
     "input": [
      "#def next_p(A,x,b,ps):\n",
      "#    correction = np.zeros_like(x)\n",
      "#    for i in range(len(ps)):\n",
      "#        correction += A[i,:].dot(ps[i])/(ps[i].dot(ps[i]))*ps[i]         # Fill in this line (7 points)\n",
      "#    \n",
      "#    return -b - A.dot(x) - correction \n",
      "                                       \n",
      "# Complete the indicated line above with the correction term so that this function returns \n",
      "# the gradient at x minus the correction term that makes the new p conjugate to all the others"
     ],
     "language": "python",
     "metadata": {},
     "outputs": [],
     "prompt_number": 140
    },
    {
     "cell_type": "markdown",
     "metadata": {},
     "source": [
      "<font color = 'green',size=4pt>Not quite.  -6</font>"
     ]
    },
    {
     "cell_type": "code",
     "collapsed": false,
     "input": [
      "### CORRECTION ### \n",
      "def next_p(A,x,b,ps):\n",
      "    correction = np.zeros_like(x)\n",
      "    for i in range(len(ps)):\n",
      "        #print ps[i]\n",
      "        correction += (ps[i].dot(A.dot(-b-A.dot(x))))/(ps[i].dot(A.dot(ps[i])))*ps[i]        # Fill in this line (7 points)\n",
      "    \n",
      "    return -b - A.dot(x) - correction \n",
      "                                       \n",
      "# Complete the indicated line above with the correction term so that this function returns \n",
      "# the gradient at x minus the correction term that makes the new p conjugate to all the others"
     ],
     "language": "python",
     "metadata": {},
     "outputs": [],
     "prompt_number": 141
    },
    {
     "cell_type": "code",
     "collapsed": false,
     "input": [
      "#A = np.array([[13,5,-3],[5,11,7],[-3,7,20]])   # Value of matrix A\n",
      "#b = np.array([1,1,1])                           # Value of b\n",
      "#x0 = np.array([0,0,0])                          # Initial guess for xmin\n",
      "\n",
      "#p0 = A[1,:]              # fill in p0 (3 points)\n",
      "\n",
      "#x = x0 # initializes x for the for loop \n",
      "#p = p0 # initializes p for the for loop\n",
      "#ps = []  # start list to store the conjugate vectors\n",
      "#ps.append(p0) # store first vector\n",
      "\n",
      "#for i in range(2):\n",
      "#    x = next_x(A,x,b,p)   # gets x_{k+1}\n",
      "#    p = next_p(A,x,b,ps)  # computes p_{k+1}\n",
      "#    ps.append(p)          # stores p_{k+1} in list\n",
      "\n",
      "#ps  # prints the list of three vectors"
     ],
     "language": "python",
     "metadata": {},
     "outputs": [],
     "prompt_number": 142
    },
    {
     "cell_type": "markdown",
     "metadata": {},
     "source": [
      "<font color = 'green',size=4pt>-3</font>"
     ]
    },
    {
     "cell_type": "code",
     "collapsed": false,
     "input": [
      "### CORRECTION ### \n",
      "A = np.array([[13,5,-3],[5,11,7],[-3,7,20]])   # Value of matrix A\n",
      "b = np.array([1,1,1])                           # Value of b\n",
      "x0 = np.array([0,0,0])                          # Initial guess for xmin\n",
      "\n",
      "p0 = (- b - A.dot(x0)).astype(float)            # fill in p0 (3 points)\n",
      "x = x0 # initializes x for the for loop \n",
      "p = p0 # initializes p for the for loop\n",
      "ps = []  # start list to store the conjugate vectors\n",
      "ps.append(p0) # store first vector\n",
      "\n",
      "for i in range(2):\n",
      "    x = next_x(A,x,b,p)   # gets x_{k+1}\n",
      "    p = next_p(A,x,b,ps)  # computes p_{k+1}\n",
      "    ps.append(p)          # stores p_{k+1} in list\n",
      "\n",
      "ps  # prints the list of three vectors"
     ],
     "language": "python",
     "metadata": {},
     "outputs": [
      {
       "metadata": {},
       "output_type": "pyout",
       "prompt_number": 143,
       "text": [
        "[array([-1.000, -1.000, -1.000]),\n",
        " array([-0.312,  0.075,  0.123]),\n",
        " array([-0.066,  0.118, -0.072])]"
       ]
      }
     ],
     "prompt_number": 143
    },
    {
     "cell_type": "markdown",
     "metadata": {},
     "source": [
      "- <font color='blue', size=4pt>Bonus for corrections Q1-Q3 = +0.5 </font>\n",
      "- <font color='blue', size=4pt>Total deductions for Q1-Q3 = -1 </font>\n",
      "- <font color = 'green',size=4pt>Total Points Deducted Q4-Q6: -16</font>\n",
      "- <font color = 'green',size=4pt>Bonus for corrections Q4-Q6: +8</font>"
     ]
    },
    {
     "cell_type": "code",
     "collapsed": false,
     "input": [],
     "language": "python",
     "metadata": {},
     "outputs": []
    }
   ],
   "metadata": {}
  }
 ]
}