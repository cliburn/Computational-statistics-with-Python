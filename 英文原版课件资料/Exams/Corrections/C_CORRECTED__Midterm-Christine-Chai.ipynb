{
 "metadata": {
  "name": "",
  "signature": "sha256:e09a1ddf14c6557a881373eafd32712262f647e446ae2e776e9ef370af57ae03"
 },
 "nbformat": 3,
 "nbformat_minor": 0,
 "worksheets": [
  {
   "cells": [
    {
     "cell_type": "markdown",
     "metadata": {},
     "source": [
      "Instructions\n",
      "----\n",
      "\n",
      "This is a \"closed book\" examination - in particular, you are not to use any resources outside of this notebook (except possibly pen and paper). You may consult help from within the notebook using ? but not any online references. Violation of any of these exam rules is a violation of the University's honor code and will result in penalty under that code.\n",
      "\n",
      "\n",
      "You have 1 hour and 45 minutes to complete the exam.\n",
      "\n",
      "- <font color=red>Use a new cell for different parts of a question</font>\n",
      "- <font color=red>The maximum score for the mid-terms is 60</font>"
     ]
    },
    {
     "cell_type": "code",
     "collapsed": false,
     "input": [
      "import os\n",
      "import sys\n",
      "import glob\n",
      "import matplotlib.pyplot as plt\n",
      "import numpy as np\n",
      "import pandas as pd\n",
      "import scipy.linalg as la\n",
      "%matplotlib inline\n",
      "plt.style.use('ggplot')"
     ],
     "language": "python",
     "metadata": {},
     "outputs": [],
     "prompt_number": 1
    },
    {
     "cell_type": "code",
     "collapsed": false,
     "input": [
      "np.set_printoptions(formatter={'float': '{: 0.3f}'.format})"
     ],
     "language": "python",
     "metadata": {},
     "outputs": [],
     "prompt_number": 2
    },
    {
     "cell_type": "code",
     "collapsed": false,
     "input": [
      "%load_ext rpy2.ipython"
     ],
     "language": "python",
     "metadata": {},
     "outputs": [],
     "prompt_number": 3
    },
    {
     "cell_type": "code",
     "collapsed": false,
     "input": [],
     "language": "python",
     "metadata": {},
     "outputs": []
    },
    {
     "cell_type": "markdown",
     "metadata": {},
     "source": [
      "**Question 1 (10 points)**. \n",
      "\n",
      "Given the 2 matrices\n",
      "```\n",
      "A = np.array([[1,2,3],[4,5,6]])\n",
      "B = np.array([[1,2,3,4],[5,6,7,8],[9,10,11,12]])\n",
      "```\n",
      "\n",
      "Perform matrix multiplication of `A` and `B` using the following methods:\n",
      "\n",
      "1. Using nested `for` loops without the `dot` function (4 points)\n",
      "2. Using numpy (2 points)\n",
      "3. Using R (start the first line of a new cell with %%R). You should pass in the A and B matrices defined in Python for full marks, but partial credit will be given if you redefine them in R (4 points)"
     ]
    },
    {
     "cell_type": "code",
     "collapsed": false,
     "input": [
      "A = np.array([[1,2,3],[4,5,6]])\n",
      "B = np.array([[1,2,3,4],[5,6,7,8],[9,10,11,12]])"
     ],
     "language": "python",
     "metadata": {},
     "outputs": [],
     "prompt_number": 232
    },
    {
     "cell_type": "code",
     "collapsed": false,
     "input": [
      "# Part 1\n",
      "C = np.zeros((2,4))\n",
      "for i in range(A.shape[0]):\n",
      "    for j in range(B.shape[1]):\n",
      "        C[i,j] = np.sum(A[i,:]*B[:,j])\n",
      "        \n",
      "print C"
     ],
     "language": "python",
     "metadata": {},
     "outputs": [
      {
       "output_type": "stream",
       "stream": "stdout",
       "text": [
        "[[ 38.000  44.000  50.000  56.000]\n",
        " [ 83.000  98.000  113.000  128.000]]\n"
       ]
      }
     ],
     "prompt_number": 9
    },
    {
     "cell_type": "code",
     "collapsed": false,
     "input": [
      "# Part 2\n",
      "np.dot(A,B)"
     ],
     "language": "python",
     "metadata": {},
     "outputs": [
      {
       "metadata": {},
       "output_type": "pyout",
       "prompt_number": 6,
       "text": [
        "array([[ 38,  44,  50,  56],\n",
        "       [ 83,  98, 113, 128]])"
       ]
      }
     ],
     "prompt_number": 6
    },
    {
     "cell_type": "code",
     "collapsed": false,
     "input": [
      "%R -i A\n",
      "%R -i B"
     ],
     "language": "python",
     "metadata": {},
     "outputs": [],
     "prompt_number": 247
    },
    {
     "cell_type": "code",
     "collapsed": false,
     "input": [
      "%%R\n",
      "print (A %*% B)"
     ],
     "language": "python",
     "metadata": {},
     "outputs": [
      {
       "metadata": {},
       "output_type": "display_data",
       "text": [
        "     [,1] [,2] [,3] [,4]\n",
        "[1,]   38   44   50   56\n",
        "[2,]   83   98  113  128\n"
       ]
      }
     ],
     "prompt_number": 246
    },
    {
     "cell_type": "code",
     "collapsed": false,
     "input": [
      "%%R\n",
      "# Alternative method\n",
      "A = matrix(c(1,4,2,5,3,6),nrow=2,ncol=3)\n",
      "B = matrix(c(1,5,9,2,6,10,3,7,11,4,8,12),nrow=3,ncol=4)\n",
      "print (A %*% B)"
     ],
     "language": "python",
     "metadata": {},
     "outputs": [
      {
       "metadata": {},
       "output_type": "display_data",
       "text": [
        "     [,1] [,2] [,3] [,4]\n",
        "[1,]   38   44   50   56\n",
        "[2,]   83   98  113  128\n"
       ]
      }
     ],
     "prompt_number": 249
    },
    {
     "cell_type": "markdown",
     "metadata": {},
     "source": [
      "**Question 2 (10 points)**. \n",
      "\n",
      "1. Read the `iris.csv` data set into a Pandas DataFrame. Dispaly the first 4 lines (rows) of the DataFrame. (2 points)\n",
      "2. Create a new DataFrame showing the mean `SepalLength`, `SepalWidth`, `PetalLength` and `PetalWidth` for the 3 different types of irises. (4 points)\n",
      "3. Make a scatter plot of `SepalLength` against `PetalLength` where each species is assigned a different color. (4 points)"
     ]
    },
    {
     "cell_type": "code",
     "collapsed": false,
     "input": [
      "! head -n6 iris.csv"
     ],
     "language": "python",
     "metadata": {},
     "outputs": [
      {
       "output_type": "stream",
       "stream": "stdout",
       "text": [
        "SepalLength,SepalWidth,PetalLength,PetalWidth,Name\r\n",
        "5.1,3.5,1.4,0.2,Iris-setosa\r\n",
        "4.9,3.0,1.4,0.2,Iris-setosa\r\n",
        "4.7,3.2,1.3,0.2,Iris-setosa\r\n",
        "4.6,3.1,1.5,0.2,Iris-setosa\r\n",
        "5.0,3.6,1.4,0.2,Iris-setosa\r\n"
       ]
      }
     ],
     "prompt_number": 22
    },
    {
     "cell_type": "code",
     "collapsed": false,
     "input": [
      "# Part 1\n",
      "iris = pd.read_csv('iris.csv')\n",
      "iris.ix[0:3,:]"
     ],
     "language": "python",
     "metadata": {},
     "outputs": [
      {
       "html": [
        "<div style=\"max-height:1000px;max-width:1500px;overflow:auto;\">\n",
        "<table border=\"1\" class=\"dataframe\">\n",
        "  <thead>\n",
        "    <tr style=\"text-align: right;\">\n",
        "      <th></th>\n",
        "      <th>SepalLength</th>\n",
        "      <th>SepalWidth</th>\n",
        "      <th>PetalLength</th>\n",
        "      <th>PetalWidth</th>\n",
        "      <th>Name</th>\n",
        "    </tr>\n",
        "  </thead>\n",
        "  <tbody>\n",
        "    <tr>\n",
        "      <th>0</th>\n",
        "      <td> 5.1</td>\n",
        "      <td> 3.5</td>\n",
        "      <td> 1.4</td>\n",
        "      <td> 0.2</td>\n",
        "      <td> Iris-setosa</td>\n",
        "    </tr>\n",
        "    <tr>\n",
        "      <th>1</th>\n",
        "      <td> 4.9</td>\n",
        "      <td> 3.0</td>\n",
        "      <td> 1.4</td>\n",
        "      <td> 0.2</td>\n",
        "      <td> Iris-setosa</td>\n",
        "    </tr>\n",
        "    <tr>\n",
        "      <th>2</th>\n",
        "      <td> 4.7</td>\n",
        "      <td> 3.2</td>\n",
        "      <td> 1.3</td>\n",
        "      <td> 0.2</td>\n",
        "      <td> Iris-setosa</td>\n",
        "    </tr>\n",
        "    <tr>\n",
        "      <th>3</th>\n",
        "      <td> 4.6</td>\n",
        "      <td> 3.1</td>\n",
        "      <td> 1.5</td>\n",
        "      <td> 0.2</td>\n",
        "      <td> Iris-setosa</td>\n",
        "    </tr>\n",
        "  </tbody>\n",
        "</table>\n",
        "</div>"
       ],
       "metadata": {},
       "output_type": "pyout",
       "prompt_number": 4,
       "text": [
        "   SepalLength  SepalWidth  PetalLength  PetalWidth         Name\n",
        "0          5.1         3.5          1.4         0.2  Iris-setosa\n",
        "1          4.9         3.0          1.4         0.2  Iris-setosa\n",
        "2          4.7         3.2          1.3         0.2  Iris-setosa\n",
        "3          4.6         3.1          1.5         0.2  Iris-setosa"
       ]
      }
     ],
     "prompt_number": 4
    },
    {
     "cell_type": "code",
     "collapsed": false,
     "input": [
      "# Part 2\n",
      "names = pd.unique(iris['Name'])\n",
      "result = np.zeros((len(names),4))\n",
      "\n",
      "for i in range(len(names)):\n",
      "    test = iris.SepalLength.where(iris.Name == names[i])\n",
      "    test = test.dropna()\n",
      "    result[i,0] = test.mean()\n",
      "    test = iris.SepalWidth.where(iris.Name == names[i])\n",
      "    test = test.dropna()\n",
      "    result[i,1] = test.mean()\n",
      "    test = iris.PetalLength.where(iris.Name == names[i])\n",
      "    test = test.dropna()\n",
      "    result[i,2] = test.mean()\n",
      "    test = iris.PetalWidth.where(iris.Name == names[i])\n",
      "    test = test.dropna()\n",
      "    result[i,3] = test.mean()\n",
      "\n",
      "#print result\n",
      "newdb = pd.DataFrame(data=result,index=names,columns=['SepalLength','SepalWidth','PetalLength','PetalWidth'])\n",
      "newdb"
     ],
     "language": "python",
     "metadata": {},
     "outputs": [
      {
       "html": [
        "<div style=\"max-height:1000px;max-width:1500px;overflow:auto;\">\n",
        "<table border=\"1\" class=\"dataframe\">\n",
        "  <thead>\n",
        "    <tr style=\"text-align: right;\">\n",
        "      <th></th>\n",
        "      <th>SepalLength</th>\n",
        "      <th>SepalWidth</th>\n",
        "      <th>PetalLength</th>\n",
        "      <th>PetalWidth</th>\n",
        "    </tr>\n",
        "  </thead>\n",
        "  <tbody>\n",
        "    <tr>\n",
        "      <th>Iris-setosa</th>\n",
        "      <td> 5.006</td>\n",
        "      <td> 3.418</td>\n",
        "      <td> 1.464</td>\n",
        "      <td> 0.244</td>\n",
        "    </tr>\n",
        "    <tr>\n",
        "      <th>Iris-versicolor</th>\n",
        "      <td> 5.936</td>\n",
        "      <td> 2.770</td>\n",
        "      <td> 4.260</td>\n",
        "      <td> 1.326</td>\n",
        "    </tr>\n",
        "    <tr>\n",
        "      <th>Iris-virginica</th>\n",
        "      <td> 6.588</td>\n",
        "      <td> 2.974</td>\n",
        "      <td> 5.552</td>\n",
        "      <td> 2.026</td>\n",
        "    </tr>\n",
        "  </tbody>\n",
        "</table>\n",
        "</div>"
       ],
       "metadata": {},
       "output_type": "pyout",
       "prompt_number": 37,
       "text": [
        "                 SepalLength  SepalWidth  PetalLength  PetalWidth\n",
        "Iris-setosa            5.006       3.418        1.464       0.244\n",
        "Iris-versicolor        5.936       2.770        4.260       1.326\n",
        "Iris-virginica         6.588       2.974        5.552       2.026"
       ]
      }
     ],
     "prompt_number": 37
    },
    {
     "cell_type": "markdown",
     "metadata": {},
     "source": [
      "<font color=blue>Grade (+/- comments)</font>\n",
      "\n",
      "No deduction, but a simpler soltuion is `df.groupby('Name').mean()`"
     ]
    },
    {
     "cell_type": "code",
     "collapsed": false,
     "input": [
      "### CORRECTION ###\n",
      "iris.groupby('Name').mean()"
     ],
     "language": "python",
     "metadata": {},
     "outputs": [
      {
       "html": [
        "<div style=\"max-height:1000px;max-width:1500px;overflow:auto;\">\n",
        "<table border=\"1\" class=\"dataframe\">\n",
        "  <thead>\n",
        "    <tr style=\"text-align: right;\">\n",
        "      <th></th>\n",
        "      <th>SepalLength</th>\n",
        "      <th>SepalWidth</th>\n",
        "      <th>PetalLength</th>\n",
        "      <th>PetalWidth</th>\n",
        "    </tr>\n",
        "    <tr>\n",
        "      <th>Name</th>\n",
        "      <th></th>\n",
        "      <th></th>\n",
        "      <th></th>\n",
        "      <th></th>\n",
        "    </tr>\n",
        "  </thead>\n",
        "  <tbody>\n",
        "    <tr>\n",
        "      <th>Iris-setosa</th>\n",
        "      <td> 5.006</td>\n",
        "      <td> 3.418</td>\n",
        "      <td> 1.464</td>\n",
        "      <td> 0.244</td>\n",
        "    </tr>\n",
        "    <tr>\n",
        "      <th>Iris-versicolor</th>\n",
        "      <td> 5.936</td>\n",
        "      <td> 2.770</td>\n",
        "      <td> 4.260</td>\n",
        "      <td> 1.326</td>\n",
        "    </tr>\n",
        "    <tr>\n",
        "      <th>Iris-virginica</th>\n",
        "      <td> 6.588</td>\n",
        "      <td> 2.974</td>\n",
        "      <td> 5.552</td>\n",
        "      <td> 2.026</td>\n",
        "    </tr>\n",
        "  </tbody>\n",
        "</table>\n",
        "</div>"
       ],
       "metadata": {},
       "output_type": "pyout",
       "prompt_number": 30,
       "text": [
        "                 SepalLength  SepalWidth  PetalLength  PetalWidth\n",
        "Name                                                             \n",
        "Iris-setosa            5.006       3.418        1.464       0.244\n",
        "Iris-versicolor        5.936       2.770        4.260       1.326\n",
        "Iris-virginica         6.588       2.974        5.552       2.026"
       ]
      }
     ],
     "prompt_number": 30
    },
    {
     "cell_type": "code",
     "collapsed": false,
     "input": [
      "# Part 3\n",
      "a1 = np.array(iris['SepalLength'])\n",
      "a2 = np.array(iris['PetalLength'])\n",
      "cmap = names[0]\n",
      "plt.scatter(a1,a2,cmap=cmap)"
     ],
     "language": "python",
     "metadata": {},
     "outputs": [
      {
       "metadata": {},
       "output_type": "pyout",
       "prompt_number": 40,
       "text": [
        "<matplotlib.collections.PathCollection at 0x7f083459a250>"
       ]
      },
      {
       "metadata": {},
       "output_type": "display_data",
       "png": "[encoded data removed]",
       "text": [
        "<matplotlib.figure.Figure at 0x7f0834619490>"
       ]
      }
     ],
     "prompt_number": 40
    },
    {
     "cell_type": "markdown",
     "metadata": {},
     "source": [
      "<font color=blue>Grade (+/- comments)</font>\n",
      "\n",
      "\\-2 for not coloring by species and wrong use of cmap"
     ]
    },
    {
     "cell_type": "code",
     "collapsed": false,
     "input": [
      "### CORRECTION ###\n",
      "Xfirst = iris.SepalLength.where(iris['Name'] == 'Iris-setosa').dropna()\n",
      "Yfirst = iris.PetalLength.where(iris['Name'] == 'Iris-setosa').dropna()\n",
      "Xsecond = iris.SepalLength.where(iris['Name'] == 'Iris-versicolor').dropna()\n",
      "Ysecond = iris.PetalLength.where(iris['Name'] == 'Iris-versicolor').dropna()\n",
      "Xthird = iris.SepalLength.where(iris['Name'] == 'Iris-virginica').dropna()\n",
      "Ythird = iris.PetalLength.where(iris['Name'] == 'Iris-virginica').dropna()\n",
      "\n",
      "plt.scatter(Xfirst,Yfirst,c='r')\n",
      "plt.scatter(Xsecond,Ysecond,c='g')\n",
      "plt.scatter(Xthird,Ythird,c='b')\n",
      "plt.xlabel('SepalLength')\n",
      "plt.ylabel('PetalLength')"
     ],
     "language": "python",
     "metadata": {},
     "outputs": [
      {
       "metadata": {},
       "output_type": "pyout",
       "prompt_number": 41,
       "text": [
        "<matplotlib.text.Text at 0x7f0834409a90>"
       ]
      },
      {
       "metadata": {},
       "output_type": "display_data",
       "png": "[encoded data removed]",
       "text": [
        "<matplotlib.figure.Figure at 0x7f083449e410>"
       ]
      }
     ],
     "prompt_number": 41
    },
    {
     "cell_type": "markdown",
     "metadata": {},
     "source": [
      "**Question 3 (10 points)**.\n",
      "\n",
      "Given the following covariance matrix\n",
      "```python\n",
      "A = np.array([[2,1],[1,4]])\n",
      "```\n",
      "\n",
      "1. Show that the eigenvectors of $A$ are orthogonal. (2 points)\n",
      "2. What is the vector representing the first (largest) principal component direction? (2 points)\n",
      "3. Find $A^{-1}$ without performing a matrix inversion. (2 points)\n",
      "4. What are the coordinates of the data points (0, 1) and (1, 1) in the standard basis expressed as coordinates of the principal components? (2 points)\n",
      "5. What is the proportion of variance explained if we keep only the projection onto the first principal component? (2 points)."
     ]
    },
    {
     "cell_type": "code",
     "collapsed": false,
     "input": [
      "import scipy.linalg as la"
     ],
     "language": "python",
     "metadata": {},
     "outputs": [],
     "prompt_number": 42
    },
    {
     "cell_type": "code",
     "collapsed": false,
     "input": [
      "# Part 1\n",
      "A = np.array([[2,1],[1,4]])\n",
      "s, P = np.linalg.eig(A)\n",
      "print \"Eigenvalues:\",s[0],\"and\",s[1]\n",
      "print \"Eigenvectors:\",P[0,:],\"and\",P[1,:]\n",
      "print \"Inner product is\",np.dot(P[0,:],P[1,:])\n",
      "print \"Hence the eigenvectors are orthogonal\""
     ],
     "language": "python",
     "metadata": {},
     "outputs": [
      {
       "output_type": "stream",
       "stream": "stdout",
       "text": [
        "Eigenvalues: 1.58578643763 and 4.41421356237\n",
        "Eigenvectors: [-0.924 -0.383] and [ 0.383 -0.924]\n",
        "Inner product is 0.0\n",
        "Hence the eigenvectors are orthogonal\n"
       ]
      }
     ],
     "prompt_number": 194
    },
    {
     "cell_type": "code",
     "collapsed": false,
     "input": [
      "# Part 2\n",
      "print \"Vector representing the first principal component direction:\"\n",
      "print P[1,:]"
     ],
     "language": "python",
     "metadata": {},
     "outputs": [
      {
       "output_type": "stream",
       "stream": "stdout",
       "text": [
        "Vector representing the first principal component direction:\n",
        "[ 0.383 -0.924]\n"
       ]
      }
     ],
     "prompt_number": 195
    },
    {
     "cell_type": "code",
     "collapsed": false,
     "input": [
      "# Part 3\n",
      "print \"To find the inverse of A, use the eigenvalue decomposition\"\n",
      "print \"A = P V inv(P) = P V P.T => inv(A) = P V**(-1) P.T\"\n",
      "invA = np.dot(P,np.dot(np.diag(np.reciprocal(s)),P.T))\n",
      "print invA\n",
      "# print np.dot(A,invA)"
     ],
     "language": "python",
     "metadata": {},
     "outputs": [
      {
       "output_type": "stream",
       "stream": "stdout",
       "text": [
        "To find the inverse of A, use the eigenvalue decomposition\n",
        "A = P V inv(P) = P V P.T => inv(A) = P V**(-1) P.T\n",
        "[[ 0.571 -0.143]\n",
        " [-0.143  0.286]]\n"
       ]
      }
     ],
     "prompt_number": 196
    },
    {
     "cell_type": "code",
     "collapsed": false,
     "input": [
      "# Part 4\n",
      "B = np.array([P[1,:],P[0,:]])\n",
      "# Since B is orthogonal, B.T = np.linalg.inv(B)\n",
      "point1 = np.array((0,1))\n",
      "point2 = np.array((1,1))\n",
      "print \"For point (0,1):\",np.dot(B.T,point1)\n",
      "print \"For point (1,1):\",np.dot(B.T,point2)\n",
      "print \"Both starts with the first principal component direction\""
     ],
     "language": "python",
     "metadata": {},
     "outputs": [
      {
       "output_type": "stream",
       "stream": "stdout",
       "text": [
        "For point (0,1): [-0.924 -0.383]\n",
        "For point (1,1): [-0.541 -1.307]\n",
        "Both starts with the first principal component direction\n"
       ]
      }
     ],
     "prompt_number": 197
    },
    {
     "cell_type": "code",
     "collapsed": false,
     "input": [
      "# Part 5\n",
      "print \"Proportion of variance explained:\",s[1]/(s[1]+s[0])"
     ],
     "language": "python",
     "metadata": {},
     "outputs": [
      {
       "output_type": "stream",
       "stream": "stdout",
       "text": [
        "Proportion of variance explained: 0.735702260396\n"
       ]
      }
     ],
     "prompt_number": 198
    },
    {
     "cell_type": "markdown",
     "metadata": {},
     "source": [
      "**Question 4 (10 points)**.\n",
      "\n",
      "Find the minimum of the following quadratic function on $\\mathbb{R}^2$ \n",
      "\n",
      "$$f(x) = x^TAx +b^Tx +c$$\n",
      "where\n",
      "$$A = \\left(\\begin{matrix}13&5\\\\5&7\\end{matrix}\\right), b = \\left(\\begin{matrix}1\\\\1\\end{matrix}\\right) \\textrm {and } c = 2$$\n",
      "\n",
      "Under the constraints:\n",
      "$$g(x) = 2x_1-5x_2=2 \\;\\;\\;\\;\\;\\; \\textrm{ and } \\;\\;\\;\\;\\;\\; h(x) = x_1+x_2=1$$\n",
      "\n",
      "1. Use a matrix decomposition method to find the minimum of the *unconstrained* problem without using `scipy.optimize` (Use library functions - no need to code your own). Note: for full credit you should exploit matrix structure. (3 points)\n",
      "2. Find the solution using constrained optimization with the `scipy.optimize` package. (3 points)\n",
      "2. Use Lagrange multipliers and solve the resulting set of equations directly without using `scipy.optimize`. (4 points)"
     ]
    },
    {
     "cell_type": "code",
     "collapsed": false,
     "input": [
      "import scipy.optimize as opt"
     ],
     "language": "python",
     "metadata": {},
     "outputs": [],
     "prompt_number": 43
    },
    {
     "cell_type": "code",
     "collapsed": false,
     "input": [
      "A = np.array([[13,5],[5,7]])\n",
      "b = np.array([[1,1]])\n",
      "c = 2\n",
      "def f(x):\n",
      "    return np.dot(x.T,np.dot(A,x)) + np.dot(b,x) + c"
     ],
     "language": "python",
     "metadata": {},
     "outputs": [
      {
       "output_type": "stream",
       "stream": "stdout",
       "text": [
        "\n"
       ]
      }
     ],
     "prompt_number": 93
    },
    {
     "cell_type": "code",
     "collapsed": false,
     "input": [
      "# Part 1\n",
      "U = np.linalg.cholesky(A).T\n",
      "print \"A = U.T * U => f(x) = (Ux).T Ux + b inv(U) Ux + c\"\n",
      "print \"Minimum occurs at x = -0.5*b*inv(U)*inv(U).T\"\n",
      "x = -0.5*np.dot(b,np.dot(np.linalg.inv(U),np.linalg.inv(U))).T\n",
      "print \"x.T = \",x.T\n",
      "print \"The min is \", f(x)"
     ],
     "language": "python",
     "metadata": {},
     "outputs": [
      {
       "output_type": "stream",
       "stream": "stdout",
       "text": [
        "A = U.T * U => f(x) = (Ux).T Ux + b inv(U) Ux + c\n",
        "Minimum occurs at x = -0.5*b*inv(U)*inv(U).T\n",
        "x.T =  [[-0.038 -0.037]]\n",
        "The min is  [[ 1.968]]\n"
       ]
      }
     ],
     "prompt_number": 228
    },
    {
     "cell_type": "markdown",
     "metadata": {},
     "source": [
      "<font color='green',size=4pt> You almost have it!  Need to change: `np.linalg.inv(U),np.linalg.inv(U)` to `np.linalg.inv(U),np.linalg.inv(U.T)`. I am not deducting any points for this small error - but be careful in the future! </font>"
     ]
    },
    {
     "cell_type": "code",
     "collapsed": false,
     "input": [
      "### CORRECTION ###\n",
      "U = np.linalg.cholesky(A).T\n",
      "print \"A = U.T * U => f(x) = (Ux).T Ux + b inv(U) Ux + c\"\n",
      "print \"Minimum occurs at x = -0.5*b*inv(U)*inv(U.T)\"\n",
      "x = -0.5*np.dot(b,np.dot(np.linalg.inv(U),np.linalg.inv(U.T))).T\n",
      "print \"x.T = \",x.T\n",
      "print \"The min is \", f(x)"
     ],
     "language": "python",
     "metadata": {},
     "outputs": [
      {
       "output_type": "stream",
       "stream": "stdout",
       "text": [
        "A = U.T * U => f(x) = (Ux).T Ux + b inv(U) Ux + c\n",
        "Minimum occurs at x = -0.5*b*inv(U)*inv(U.T)\n",
        "x.T =  [[-0.015 -0.061]]\n",
        "The min is  [[ 1.962]]\n"
       ]
      }
     ],
     "prompt_number": 47
    },
    {
     "cell_type": "code",
     "collapsed": false,
     "input": [
      "# Part 2\n",
      "cons = ({'type': 'eq', 'fun': lambda x:  2*x[0] - 5*x[1] - 2},\n",
      "        {'type': 'eq', 'fun': lambda x:  x[0] + x[1] - 1})\n",
      "opt.minimize(f,(4,1),constraints=cons)"
     ],
     "language": "python",
     "metadata": {},
     "outputs": [
      {
       "metadata": {},
       "output_type": "pyout",
       "prompt_number": 48,
       "text": [
        "  status: 0\n",
        " success: True\n",
        "    njev: 2\n",
        "    nfev: 8\n",
        "     fun: array([ 16.000])\n",
        "       x: array([ 1.000, -0.000])\n",
        " message: 'Optimization terminated successfully.'\n",
        "     jac: array([ 27.000,  11.000,  0.000])\n",
        "     nit: 2"
       ]
      }
     ],
     "prompt_number": 48
    },
    {
     "cell_type": "code",
     "collapsed": false,
     "input": [
      "# Part 3\n",
      "from sympy import *\n",
      "x, y = symbols('x, y')\n",
      "f1, g, h = symbols('f1, g, h',cls=Function)\n",
      "f1 = x*(13*x+5*y) + y*(5*x+7*y) + x + y + c\n",
      "g = 2*x - 5*y - 2\n",
      "h = x + y - 1\n",
      "\n",
      "print \"gradient f = lambda1 * gradient g + lambda2 * gradient h\"\n",
      "print \"However, for the constraints g(x) and h(x), the only solution point is (1,0).\"\n",
      "print \"This is obtained by sympy.solve:\", solve((g,h),x,y)\n",
      "print \"And the resulting f(x) is\", f(np.array([1,0]))"
     ],
     "language": "python",
     "metadata": {},
     "outputs": [
      {
       "output_type": "stream",
       "stream": "stdout",
       "text": [
        "gradient f = lambda1 * gradient g + lambda2 * gradient h\n",
        "However, for the constraints g(x) and h(x), the only solution point is (1,0).\n",
        "This is obtained by sympy.solve: {x: 1, y: 0}\n",
        "And the resulting f(x) is [16]\n"
       ]
      }
     ],
     "prompt_number": 49
    },
    {
     "cell_type": "markdown",
     "metadata": {},
     "source": [
      "<font color='green',size=4pt> Your answer is correct, but the problem specifically asked you to use Lagrange multipliers to solve.  -3</font>"
     ]
    },
    {
     "cell_type": "code",
     "collapsed": false,
     "input": [
      "### CORRECTION ###\n",
      "from sympy import *\n",
      "x, y, a1, a2 = symbols('x, y, a1, a2')\n",
      "f1, g, h = symbols('f1, g, h',cls=Function)\n",
      "f1 = x*(13*x+5*y) + y*(5*x+7*y) + x + y + c\n",
      "g = 2*x - 5*y - 2\n",
      "h = x + y - 1\n",
      "\n",
      "# gradient f = lambda1 * gradient g + lambda2 * gradient h\n",
      "eqn1 = diff(f1,'x') - a1*diff(g,'x') - a2*diff(h,'x')\n",
      "eqn2 = diff(f1,'y') - a1*diff(g,'y') - a2*diff(h,'y')\n",
      "solution = solve((eqn1,eqn2,g,h),x,y,a1,a2)\n",
      "print \"Solution using Lagrange:\",solution\n",
      "print \"Therefore, x =\",solution[x],\"and y =\",solution[y]\n",
      "print \"And the resulting f(x) is\", f(np.array([1,0]))"
     ],
     "language": "python",
     "metadata": {},
     "outputs": [
      {
       "output_type": "stream",
       "stream": "stdout",
       "text": [
        "Solution using Lagrange: {x: 1, a1: 16/7, y: 0, a2: 157/7}\n",
        "Therefore, x = 1 and y = 0\n",
        "And the resulting f(x) is [16]\n"
       ]
      }
     ],
     "prompt_number": 95
    },
    {
     "cell_type": "markdown",
     "metadata": {},
     "source": [
      "**Question 5 (10 points)**. \n",
      "\n",
      "Consider the linear transformation $f(x)$ on $\\mathbb{R}^3$ that takes the standard basis $\\left\\{e_1,e_2,e_3\\right\\}$ to $\\left\\{v_1,v_2,v_3\\right\\}$ where\n",
      "\n",
      "$$v_1=\\left(\\begin{matrix}10\\\\-10\\\\16\\end{matrix}\\right), v_2=\\left(\\begin{matrix}2\\\\-5\\\\20\\end{matrix}\\right) \\textrm {and } v_3=\\left(\\begin{matrix}1\\\\-4\\\\13\\end{matrix}\\right)$$\n",
      "\n",
      "1. Write a matrix $A$ that represents the same linear transformaton. (2 points)\n",
      "\n",
      "2. Compute the rank of $A$ (use any method you like). (2 points)\n",
      "\n",
      "3. Find the eigenvalues and eigenvectors of $A$. (2 points)\n",
      "\n",
      "4. What is the matrix representation of $f$ with respect to the eigenbasis? (4 points)"
     ]
    },
    {
     "cell_type": "code",
     "collapsed": false,
     "input": [
      "# Part 1\n",
      "v1 = np.array([10,-10,16])\n",
      "v2 = np.array([2,-5,20])\n",
      "v3 = np.array([1,-4,13])\n",
      "A = np.linalg.inv(np.array([v1,v2,v3]).T)\n",
      "print A"
     ],
     "language": "python",
     "metadata": {},
     "outputs": [
      {
       "output_type": "stream",
       "stream": "stdout",
       "text": [
        "[[ 0.093 -0.037 -0.019]\n",
        " [ 0.407  0.704  0.185]\n",
        " [-0.741 -1.037 -0.185]]\n"
       ]
      }
     ],
     "prompt_number": 225
    },
    {
     "cell_type": "markdown",
     "metadata": {},
     "source": [
      "<font color='green',size=4pt> Why did you compute the inverse? -2</font>"
     ]
    },
    {
     "cell_type": "code",
     "collapsed": false,
     "input": [
      "### CORRECTION ###\n",
      "v1 = np.array([10,-10,16])\n",
      "v2 = np.array([2,-5,20])\n",
      "v3 = np.array([1,-4,13])\n",
      "A = np.array([v1,v2,v3])\n",
      "print \"A:\\n\",A,\"\\n\"\n",
      "\n",
      "e1 = np.array([1,0,0])\n",
      "e2 = np.array([0,1,0])\n",
      "e3 = np.array([0,0,1])\n",
      "print \"Verification:\"\n",
      "print \"e1*A:\",np.dot(e1,A)\n",
      "print \"e2*A:\",np.dot(e2,A)\n",
      "print \"e3*A:\",np.dot(e3,A)"
     ],
     "language": "python",
     "metadata": {},
     "outputs": [
      {
       "output_type": "stream",
       "stream": "stdout",
       "text": [
        "A:\n",
        "[[ 10 -10  16]\n",
        " [  2  -5  20]\n",
        " [  1  -4  13]] \n",
        "\n",
        "Verification:\n",
        "e1*A: [ 10 -10  16]\n",
        "e2*A: [ 2 -5 20]\n",
        "e3*A: [ 1 -4 13]\n"
       ]
      }
     ],
     "prompt_number": 108
    },
    {
     "cell_type": "code",
     "collapsed": false,
     "input": [
      "# Part 2\n",
      "np.linalg.matrix_rank(A)"
     ],
     "language": "python",
     "metadata": {},
     "outputs": [
      {
       "metadata": {},
       "output_type": "pyout",
       "prompt_number": 109,
       "text": [
        "3"
       ]
      }
     ],
     "prompt_number": 109
    },
    {
     "cell_type": "code",
     "collapsed": false,
     "input": [
      "# Part 3\n",
      "s, P = np.linalg.eig(A)\n",
      "print \"Eigenvalues:\",s[0],\"and\",s[1]\n",
      "print \"Eigenvectors:\",P[0,:],\"and\",P[1,:]"
     ],
     "language": "python",
     "metadata": {},
     "outputs": [
      {
       "output_type": "stream",
       "stream": "stdout",
       "text": [
        "Eigenvalues: 0.333333333333 and 0.111111111111\n",
        "Eigenvectors: [ 0.000  0.577 -0.120] and [ 0.447 -0.577 -0.241]\n"
       ]
      }
     ],
     "prompt_number": 206
    },
    {
     "cell_type": "markdown",
     "metadata": {},
     "source": [
      "<font color='green',size=4pt> Correct for matrix as defined in part 1. </font>"
     ]
    },
    {
     "cell_type": "code",
     "collapsed": false,
     "input": [
      "### CORRECTION ###\n",
      "s, P = np.linalg.eig(A)\n",
      "print \"Eigenvalues:\",s[0],\"and\",s[1]\n",
      "print \"Eigenvectors:\",P[0,:],\"and\",P[1,:]"
     ],
     "language": "python",
     "metadata": {},
     "outputs": [
      {
       "output_type": "stream",
       "stream": "stdout",
       "text": [
        "Eigenvalues: 9.0 and 6.0\n",
        "Eigenvectors: [ 0.873 -0.408 -0.535] and [ 0.436 -0.816 -0.802]\n"
       ]
      }
     ],
     "prompt_number": 111
    },
    {
     "cell_type": "code",
     "collapsed": false,
     "input": [
      "# Part 4\n",
      "B = np.array([v1,v2,v3]).T\n",
      "print \"Matrix representation is B*A*inv(B):\\n\",np.dot(B,np.dot(A,np.linalg.inv(B)))"
     ],
     "language": "python",
     "metadata": {},
     "outputs": [
      {
       "output_type": "stream",
       "stream": "stdout",
       "text": [
        "Matrix representation is B*A*inv(B):\n",
        "[[ 0.093 -0.037 -0.019]\n",
        " [ 0.407  0.704  0.185]\n",
        " [-0.741 -1.037 -0.185]]\n"
       ]
      }
     ],
     "prompt_number": 207
    },
    {
     "cell_type": "markdown",
     "metadata": {},
     "source": [
      "<font color='green',size=4pt> The matrix in the eigenbasis is diag(eigenvalues)  -4 </font>"
     ]
    },
    {
     "cell_type": "code",
     "collapsed": false,
     "input": [
      "### CORRECTION ###\n",
      "print \"Matrix representation is diag(eigenvalues):\\n\",np.diag(s)"
     ],
     "language": "python",
     "metadata": {},
     "outputs": [
      {
       "output_type": "stream",
       "stream": "stdout",
       "text": [
        "Matrix representation is diag(eigenvalues):\n",
        "[[ 9.000  0.000  0.000]\n",
        " [ 0.000  6.000  0.000]\n",
        " [ 0.000  0.000  3.000]]\n"
       ]
      }
     ],
     "prompt_number": 116
    },
    {
     "cell_type": "markdown",
     "metadata": {},
     "source": [
      "**Question 6 (10 points)**\n",
      "\n",
      "Given the the function $f(x) = \\frac{1}{2} x^TAx + b^Tx$ where\n",
      "\n",
      "\\begin{align}\n",
      "A = \\left(\\begin{matrix}13&5&-3\\\\5&11&7\\\\-3&7&20\\end{matrix}\\right) \n",
      ", \\ b = \\left(\\begin{matrix}1\\\\1\\\\1\\end{matrix}\\right),\n",
      "\\end{align}\n",
      "\n",
      "complete the following code to find the first 3 vector directions for a conjugate gradient *descent* algorithm.\n",
      "\n",
      "Hint: Recall from linear algebra that the projection of $v$ on $u$ is \n",
      "\n",
      "$$\n",
      "\\frac{v \\cdot u}{u \\cdot u}u\n",
      "$$\n",
      "and that $u$ is conjugate to $v$ with respect to $A$ if \n",
      "$$Av\\cdot u = 0$$\n",
      "\n",
      "Also, recall that the gradient at $x_k$ of the quadratic function $f$ is given by $Ax_k + b$ since\n",
      "\n",
      "\\begin{align}\n",
      "\\dfrac{\\partial (x^TAx)}{\\partial x} &= \\dfrac{\\partial (x^T)^T}{\\partial x}\\dfrac{\\partial (x^Ty)}{\\partial x} +  \\dfrac{\\partial y^T}{\\partial x} \\dfrac{\\partial (x^Ty)}{\\partial y}\n",
      "   & \\text{chain rule with $y=Ax$} \\\\\n",
      "&= y + \\dfrac{\\partial (x^TA^T)}{\\partial x} \\dfrac{\\partial (x^Ty)}{\\partial y} & \\text{using $\\dfrac{\\partial (x^Ty)}{\\partial x} = y$} \\\\\n",
      "&= y + A^T\\dfrac{\\partial (y^Tx)}{\\partial y} & \\text{using $x^Ty = y^Tx$} \\\\\n",
      "&= Ax + A^Tx \\\\\n",
      "&= (A+A^T)x \\\\\n",
      "&= 2Ax & \\text{if $A$ is symmetric}\n",
      "\\end{align}\n",
      "\n",
      "\n",
      "<p>\n",
      "<font color=red>There are two lines of code to complete: the correction term in the function next_p, and the initial value of p = p0 in the main body of code.</font></p>\n",
      "\n",
      "<p>\n",
      "<font color=red>We do not expect this algorithm to converge in $3$ steps, and it is very primitive compared to scipy's implementation.  Do not be alarmed if you try to match solutions and fail.</font></p>"
     ]
    },
    {
     "cell_type": "code",
     "collapsed": false,
     "input": [
      "def next_x (A,x,b,p):\n",
      "    return x + ((np.dot(p,-b))/(np.dot(p,A.dot(p))))*p # returns x_{k+1} given x_k, p_k, A and b"
     ],
     "language": "python",
     "metadata": {},
     "outputs": [],
     "prompt_number": 145
    },
    {
     "cell_type": "code",
     "collapsed": false,
     "input": [
      "def next_p(A,x,b,ps):\n",
      "    correction = np.zeros_like(x)\n",
      "    for i in range(len(ps)):\n",
      "        correction +=  (np.dot(x,ps[i])/np.dot(ps[i],ps[i]))*ps[i]        # Fill in this line (7 points)\n",
      "    \n",
      "    return -b - A.dot(x) - correction \n",
      "                                       \n",
      "# Complete the indicated line above with the correction term so that this function returns \n",
      "# the gradient at x minus the correction term that makes the new p conjugate to all the others"
     ],
     "language": "python",
     "metadata": {},
     "outputs": [],
     "prompt_number": 131
    },
    {
     "cell_type": "markdown",
     "metadata": {},
     "source": [
      "<font color='green',size=4pt> This is close - but you want to project the gradient at x onto each of the ps.  -2</font>"
     ]
    },
    {
     "cell_type": "code",
     "collapsed": false,
     "input": [
      "### CORRECTION ###\n",
      "def next_p(A,x,b,ps):\n",
      "    correction = np.zeros_like(x)\n",
      "    for i in range(len(ps)):\n",
      "        correction +=  (np.dot(np.dot(A,x)+b,ps[i])/np.dot(ps[i],ps[i]))*ps[i]        # Fill in this line (7 points)\n",
      "    \n",
      "    return -b - A.dot(x) - correction \n",
      "                                       \n",
      "# Complete the indicated line above with the correction term so that this function returns \n",
      "# the gradient at x minus the correction term that makes the new p conjugate to all the others"
     ],
     "language": "python",
     "metadata": {},
     "outputs": [],
     "prompt_number": 146
    },
    {
     "cell_type": "code",
     "collapsed": false,
     "input": [
      "A = np.array([[13,5,-3],[5,11,7],[-3,7,20]])   # Value of matrix A\n",
      "b = np.array([1,1,1])                           # Value of b\n",
      "x0 = np.array([0,0,0])                          # Initial guess for xmin\n",
      "\n",
      "p0 = np.array([1,0,0])                  # fill in p0 (3 points)\n",
      "\n",
      "x = x0 # initializes x for the for loop \n",
      "p = p0 # initializes p for the for loop\n",
      "ps = []  # start list to store the conjugate vectors\n",
      "ps.append(p0) # store first vector\n",
      "\n",
      "for i in range(2):\n",
      "    x = next_x(A,x,b,p)   # gets x_{k+1}\n",
      "    p = next_p(A,x,b,ps)  # computes p_{k+1}\n",
      "    ps.append(p)          # stores p_{k+1} in list\n",
      "\n",
      "ps  # prints the list of three vectors"
     ],
     "language": "python",
     "metadata": {},
     "outputs": [
      {
       "metadata": {},
       "output_type": "pyout",
       "prompt_number": 210,
       "text": [
        "[array([1, 0, 0]), array([13,  4, -4]), array([ 253,   93, -103])]"
       ]
      }
     ],
     "prompt_number": 210
    },
    {
     "cell_type": "markdown",
     "metadata": {},
     "source": [
      "<font color='green',size=4pt> You want to start at the gradient at x0.  -3</font>"
     ]
    },
    {
     "cell_type": "markdown",
     "metadata": {},
     "source": [
      "- <font color='blue', size=4pt>Bonus for corrections Q1-Q3 = +1 </font>\n",
      "- <font color='blue', size=4pt>Total deductions for Q1-Q3 = -2 </font>\n",
      "- <font color='green',size=4pt> Total Points Deducted Q4-Q6: -14 </font>\n",
      "- <font color='green', size=4pt>Bonus for corrections Q4-Q6 = +7 </font>\n"
     ]
    },
    {
     "cell_type": "code",
     "collapsed": false,
     "input": [
      "### CORRECTION ###\n",
      "A = np.array([[13,5,-3],[5,11,7],[-3,7,20]])   # Value of matrix A\n",
      "b = np.array([1,1,1])                           # Value of b\n",
      "x0 = np.array([0,0,0])                          # Initial guess for xmin\n",
      "\n",
      "p0 = np.dot(A,x0)+b                    # fill in p0 (3 points)\n",
      "\n",
      "x = x0 # initializes x for the for loop \n",
      "p = p0 # initializes p for the for loop\n",
      "ps = []  # start list to store the conjugate vectors\n",
      "ps.append(p0) # store first vector\n",
      "\n",
      "for i in range(2):\n",
      "    x = next_x(A,x,b,p)   # gets x_{k+1}\n",
      "    p = next_p(A,x,b,ps)  # computes p_{k+1}\n",
      "    ps.append(p)          # stores p_{k+1} in list\n",
      "\n",
      "ps  # prints the list of three vectors"
     ],
     "language": "python",
     "metadata": {},
     "outputs": [
      {
       "metadata": {},
       "output_type": "pyout",
       "prompt_number": 149,
       "text": [
        "[array([1, 1, 1]), array([34, 42, 43]), array([2141, 2735, 2877])]"
       ]
      }
     ],
     "prompt_number": 149
    }
   ],
   "metadata": {}
  }
 ]
}