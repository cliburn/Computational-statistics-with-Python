{
 "metadata": {
  "name": "",
  "signature": "sha256:cab041e7447f5ab16ef9e590eda8157ea677ddc78277906f1a070bda0ce731d7"
 },
 "nbformat": 3,
 "nbformat_minor": 0,
 "worksheets": [
  {
   "cells": [
    {
     "cell_type": "markdown",
     "metadata": {},
     "source": [
      "Instructions\n",
      "----\n",
      "\n",
      "This is a \"closed book\" examination - in particular, you are not to use any resources outside of this notebook (except possibly pen and paper). You may consult help from within the notebook using ? but not any online references. Violation of any of these exam rules is a violation of the University's honor code and will result in penalty under that code.\n",
      "\n",
      "\n",
      "You have 1 hour and 45 minutes to complete the exam.\n",
      "\n",
      "- <font color=red>Use a new cell for different parts of a question</font>\n",
      "- <font color=red>The maximum score for the mid-terms is 60</font>"
     ]
    },
    {
     "cell_type": "code",
     "collapsed": false,
     "input": [
      "import os\n",
      "import sys\n",
      "import glob\n",
      "import matplotlib.pyplot as plt\n",
      "import numpy as np\n",
      "import pandas as pd\n",
      "import scipy.linalg as la\n",
      "%matplotlib inline\n",
      "plt.style.use('ggplot')"
     ],
     "language": "python",
     "metadata": {},
     "outputs": [],
     "prompt_number": 3
    },
    {
     "cell_type": "code",
     "collapsed": false,
     "input": [
      "np.set_printoptions(formatter={'float': '{: 0.3f}'.format})"
     ],
     "language": "python",
     "metadata": {},
     "outputs": [],
     "prompt_number": 4
    },
    {
     "cell_type": "code",
     "collapsed": false,
     "input": [
      "%load_ext rpy2.ipython"
     ],
     "language": "python",
     "metadata": {},
     "outputs": [
      {
       "output_type": "stream",
       "stream": "stdout",
       "text": [
        "The rpy2.ipython extension is already loaded. To reload it, use:\n",
        "  %reload_ext rpy2.ipython\n"
       ]
      }
     ],
     "prompt_number": 155
    },
    {
     "cell_type": "code",
     "collapsed": false,
     "input": [],
     "language": "python",
     "metadata": {},
     "outputs": []
    },
    {
     "cell_type": "markdown",
     "metadata": {},
     "source": [
      "**Question 1 (10 points)**. \n",
      "\n",
      "Given the 2 matrices\n",
      "```\n",
      "A = np.array([[1,2,3],[4,5,6]])\n",
      "B = np.array([[1,2,3,4],[5,6,7,8],[9,10,11,12]])\n",
      "```\n",
      "\n",
      "Perform matrix multiplication of `A` and `B` using the following methods:\n",
      "\n",
      "1. Using nested `for` loops without the `dot` function (4 points)\n",
      "2. Using numpy (2 points)\n",
      "3. Using R (start the first line of a new cell with %%R). You should pass in the A and B matrices defined in Python for full marks, but partial credit will be given if you redefine them in R (4 points)"
     ]
    },
    {
     "cell_type": "code",
     "collapsed": false,
     "input": [
      "A = np.array([[1,2,3],[4,5,6]])\n",
      "B = np.array([[1,2,3,4],[5,6,7,8],[9,10,11,12]])"
     ],
     "language": "python",
     "metadata": {},
     "outputs": [],
     "prompt_number": 194
    },
    {
     "cell_type": "code",
     "collapsed": false,
     "input": [
      "# 1) Using nested for loops without the dot function\n",
      "\n",
      "m = np.zeros((A.shape[0],B.shape[1]))\n",
      "\n",
      "for i in range(A.shape[0]):\n",
      "    for j in range(B.shape[1]):\n",
      "        s = 0\n",
      "        for k in range(A.shape[1]):\n",
      "            s += A[i,k] * B[k,j]\n",
      "        m[i,j] = s\n",
      "print \"Using nested for loops we get:\"\n",
      "print m"
     ],
     "language": "python",
     "metadata": {},
     "outputs": [
      {
       "output_type": "stream",
       "stream": "stdout",
       "text": [
        "Using nested for loops we get:\n",
        "[[ 38.000  44.000  50.000  56.000]\n",
        " [ 83.000  98.000  113.000  128.000]]\n"
       ]
      }
     ],
     "prompt_number": 195
    },
    {
     "cell_type": "code",
     "collapsed": false,
     "input": [
      "# 2) Using numpy\n",
      "print \"Using numpy we get:\"\n",
      "print np.dot(A, B)"
     ],
     "language": "python",
     "metadata": {},
     "outputs": [
      {
       "output_type": "stream",
       "stream": "stdout",
       "text": [
        "Using numpy we get:\n",
        "[[ 38  44  50  56]\n",
        " [ 83  98 113 128]]\n"
       ]
      }
     ],
     "prompt_number": 196
    },
    {
     "cell_type": "code",
     "collapsed": false,
     "input": [
      "%%R\n",
      "# 3) Using R\n",
      "A = matrix(1:6, 2, 3, byrow=TRUE)\n",
      "B = matrix(1:12, 3, 4, byrow=TRUE)\n",
      "print(\"Using R we get:\")\n",
      "print(A%*%B)"
     ],
     "language": "python",
     "metadata": {},
     "outputs": [
      {
       "metadata": {},
       "output_type": "display_data",
       "text": [
        "[1] \"Using R we get:\"\n",
        "     [,1] [,2] [,3] [,4]\n",
        "[1,]   38   44   50   56\n",
        "[2,]   83   98  113  128\n"
       ]
      }
     ],
     "prompt_number": 197
    },
    {
     "cell_type": "markdown",
     "metadata": {},
     "source": [
      "<font color=blue>Grade (+/- comments)</font>\n",
      "\n",
      "\\-1 for not passing values in"
     ]
    },
    {
     "cell_type": "code",
     "collapsed": false,
     "input": [
      "%%R -i A,B\n",
      "### CORRECTION ###\n",
      "# 3) Using R\n",
      "print(\"Using R we get:\")\n",
      "print(A%*%B)"
     ],
     "language": "python",
     "metadata": {},
     "outputs": []
    },
    {
     "cell_type": "markdown",
     "metadata": {},
     "source": [
      "**Question 2 (10 points)**. \n",
      "\n",
      "1. Read the `iris.csv` data set into a Pandas DataFrame. Dispaly the first 4 lines of the DataFrame. (2 points)\n",
      "2. Create a new DataFrame showing the mean `SepalLength`, `SepalWidth`, `PetalLength` and `PetalWidth` for the 3 different types of irises. (4 points)\n",
      "3. Make a scatter plot of `SepalLength` against `PetalLength` where each species is assigned a different color. (4 points)"
     ]
    },
    {
     "cell_type": "code",
     "collapsed": false,
     "input": [
      "! head -n6 iris.csv"
     ],
     "language": "python",
     "metadata": {},
     "outputs": [
      {
       "output_type": "stream",
       "stream": "stdout",
       "text": [
        "SepalLength,SepalWidth,PetalLength,PetalWidth,Name\r\n",
        "5.1,3.5,1.4,0.2,Iris-setosa\r\n",
        "4.9,3.0,1.4,0.2,Iris-setosa\r\n",
        "4.7,3.2,1.3,0.2,Iris-setosa\r\n",
        "4.6,3.1,1.5,0.2,Iris-setosa\r\n",
        "5.0,3.6,1.4,0.2,Iris-setosa\r\n"
       ]
      }
     ],
     "prompt_number": 198
    },
    {
     "cell_type": "code",
     "collapsed": false,
     "input": [
      "# 1) Read and display\n",
      "dt = pd.read_csv('iris.csv')\n",
      "dt.iloc[0:4]"
     ],
     "language": "python",
     "metadata": {},
     "outputs": [
      {
       "html": [
        "<div style=\"max-height:1000px;max-width:1500px;overflow:auto;\">\n",
        "<table border=\"1\" class=\"dataframe\">\n",
        "  <thead>\n",
        "    <tr style=\"text-align: right;\">\n",
        "      <th></th>\n",
        "      <th>SepalLength</th>\n",
        "      <th>SepalWidth</th>\n",
        "      <th>PetalLength</th>\n",
        "      <th>PetalWidth</th>\n",
        "      <th>Name</th>\n",
        "    </tr>\n",
        "  </thead>\n",
        "  <tbody>\n",
        "    <tr>\n",
        "      <th>0</th>\n",
        "      <td> 5.1</td>\n",
        "      <td> 3.5</td>\n",
        "      <td> 1.4</td>\n",
        "      <td> 0.2</td>\n",
        "      <td> Iris-setosa</td>\n",
        "    </tr>\n",
        "    <tr>\n",
        "      <th>1</th>\n",
        "      <td> 4.9</td>\n",
        "      <td> 3.0</td>\n",
        "      <td> 1.4</td>\n",
        "      <td> 0.2</td>\n",
        "      <td> Iris-setosa</td>\n",
        "    </tr>\n",
        "    <tr>\n",
        "      <th>2</th>\n",
        "      <td> 4.7</td>\n",
        "      <td> 3.2</td>\n",
        "      <td> 1.3</td>\n",
        "      <td> 0.2</td>\n",
        "      <td> Iris-setosa</td>\n",
        "    </tr>\n",
        "    <tr>\n",
        "      <th>3</th>\n",
        "      <td> 4.6</td>\n",
        "      <td> 3.1</td>\n",
        "      <td> 1.5</td>\n",
        "      <td> 0.2</td>\n",
        "      <td> Iris-setosa</td>\n",
        "    </tr>\n",
        "  </tbody>\n",
        "</table>\n",
        "</div>"
       ],
       "metadata": {},
       "output_type": "pyout",
       "prompt_number": 199,
       "text": [
        "   SepalLength  SepalWidth  PetalLength  PetalWidth         Name\n",
        "0          5.1         3.5          1.4         0.2  Iris-setosa\n",
        "1          4.9         3.0          1.4         0.2  Iris-setosa\n",
        "2          4.7         3.2          1.3         0.2  Iris-setosa\n",
        "3          4.6         3.1          1.5         0.2  Iris-setosa"
       ]
      }
     ],
     "prompt_number": 199
    },
    {
     "cell_type": "code",
     "collapsed": false,
     "input": [
      "# 2) Create a new DataFrame showing the mean SepalLength, SepalWidth, PetalLength and PetalWidth \n",
      "# for the 3 different types of irises. \n",
      "\n",
      "# Display 3 types of irises\n",
      "from collections import Counter\n",
      "print dict(Counter(dt['Name']))\n",
      "# Create data frame\n",
      "mean = pd.DataFrame(dt[dt.Name == 'Iris-virginica'].mean(axis = 0), columns = ['mean (Iris-virginica)'])\n",
      "mean['mean (Iris-setosa)'] = dt[dt.Name == 'Iris-setosa'].mean(axis = 0)\n",
      "mean['mean (Iris-versicolor)'] = dt[dt.Name == 'Iris-versicolor'].mean(axis = 0)\n",
      "mean"
     ],
     "language": "python",
     "metadata": {},
     "outputs": [
      {
       "output_type": "stream",
       "stream": "stdout",
       "text": [
        "{'Iris-virginica': 50, 'Iris-setosa': 50, 'Iris-versicolor': 50}\n"
       ]
      },
      {
       "html": [
        "<div style=\"max-height:1000px;max-width:1500px;overflow:auto;\">\n",
        "<table border=\"1\" class=\"dataframe\">\n",
        "  <thead>\n",
        "    <tr style=\"text-align: right;\">\n",
        "      <th></th>\n",
        "      <th>mean (Iris-virginica)</th>\n",
        "      <th>mean (Iris-setosa)</th>\n",
        "      <th>mean (Iris-versicolor)</th>\n",
        "    </tr>\n",
        "  </thead>\n",
        "  <tbody>\n",
        "    <tr>\n",
        "      <th>SepalLength</th>\n",
        "      <td> 6.588</td>\n",
        "      <td> 5.006</td>\n",
        "      <td> 5.936</td>\n",
        "    </tr>\n",
        "    <tr>\n",
        "      <th>SepalWidth</th>\n",
        "      <td> 2.974</td>\n",
        "      <td> 3.418</td>\n",
        "      <td> 2.770</td>\n",
        "    </tr>\n",
        "    <tr>\n",
        "      <th>PetalLength</th>\n",
        "      <td> 5.552</td>\n",
        "      <td> 1.464</td>\n",
        "      <td> 4.260</td>\n",
        "    </tr>\n",
        "    <tr>\n",
        "      <th>PetalWidth</th>\n",
        "      <td> 2.026</td>\n",
        "      <td> 0.244</td>\n",
        "      <td> 1.326</td>\n",
        "    </tr>\n",
        "  </tbody>\n",
        "</table>\n",
        "</div>"
       ],
       "metadata": {},
       "output_type": "pyout",
       "prompt_number": 200,
       "text": [
        "             mean (Iris-virginica)  mean (Iris-setosa)  mean (Iris-versicolor)\n",
        "SepalLength                  6.588               5.006                   5.936\n",
        "SepalWidth                   2.974               3.418                   2.770\n",
        "PetalLength                  5.552               1.464                   4.260\n",
        "PetalWidth                   2.026               0.244                   1.326"
       ]
      }
     ],
     "prompt_number": 200
    },
    {
     "cell_type": "markdown",
     "metadata": {},
     "source": [
      "<font color=blue>Grade (+/- comments)</font>\n",
      "\n",
      "No deduction, but you can do this much more easily with groupby"
     ]
    },
    {
     "cell_type": "code",
     "collapsed": false,
     "input": [
      "# 3)Make a scatter plot\n",
      "\n",
      "virginica = plt.scatter(dt[dt.Name == 'Iris-virginica']['SepalLength'], dt[dt.Name == 'Iris-virginica']['PetalLength'], c='b')\n",
      "setosa = plt.scatter(dt[dt.Name == 'Iris-setosa']['SepalLength'], dt[dt.Name == 'Iris-setosa']['PetalLength'], c='r')\n",
      "versicolor = plt.scatter(dt[dt.Name == 'Iris-versicolor']['SepalLength'], dt[dt.Name == 'Iris-versicolor']['PetalLength'], c='g')\n",
      "plt.legend([virginica, setosa, versicolor], [\"virginica\", \"setosa\", \"versicolor\"])\n",
      "plt.show()"
     ],
     "language": "python",
     "metadata": {},
     "outputs": [
      {
       "metadata": {},
       "output_type": "display_data",
       "png": "[encoded data removed]",
       "text": [
        "<matplotlib.figure.Figure at 0x7ff2bf1f4b90>"
       ]
      }
     ],
     "prompt_number": 201
    },
    {
     "cell_type": "markdown",
     "metadata": {},
     "source": [
      "**Question 3 (10 points)**.\n",
      "\n",
      "Given the following covariance matrix\n",
      "```python\n",
      "A = np.array([[2,1],[1,4]])\n",
      "```\n",
      "\n",
      "1. Show that the eigenvectors of $A$ are orthogonal. (2 points)\n",
      "2. What is the vector representing the first principal component direction? (2 points)\n",
      "3. Find $A^{-1}$ without performing a matrix inversion. (2 points)\n",
      "4. What are the coordinates of the data points (0, 1) and (1, 1) in the standard basis expressed as coordinates of the principal components? (2 points)\n",
      "5. What is the proportion of variance explained if we keep only the projection onto the first principal component? (2 points)."
     ]
    },
    {
     "cell_type": "code",
     "collapsed": false,
     "input": [
      "import scipy.linalg as la"
     ],
     "language": "python",
     "metadata": {},
     "outputs": [],
     "prompt_number": 5
    },
    {
     "cell_type": "code",
     "collapsed": false,
     "input": [
      "A = np.array([[2,1],[1,4]])"
     ],
     "language": "python",
     "metadata": {},
     "outputs": [],
     "prompt_number": 6
    },
    {
     "cell_type": "code",
     "collapsed": false,
     "input": [
      "# 1) Show that the eigenvectors of A are orthogonal\n",
      "e, v = la.eig(A)\n",
      "print v.T == la.inv(v)\n",
      "print np.dot(v.T, v)\n",
      "print np.dot(v, v.T)\n",
      "print \"The eigenvectors of A are orthogonal by definition-v.transpose*v = I, v.transpose = v.inverse\"\n",
      "print \"Besides, the determinant of eigenvectors of A is\", la.det(v), \" which is not 0.\" \n",
      "print \"In conclusion, the eigenvectors of A are orthogonal.\""
     ],
     "language": "python",
     "metadata": {},
     "outputs": [
      {
       "output_type": "stream",
       "stream": "stdout",
       "text": [
        "[[ True  True]\n",
        " [ True  True]]\n",
        "[[ 1.000  0.000]\n",
        " [ 0.000  1.000]]\n",
        "[[ 1.000  0.000]\n",
        " [ 0.000  1.000]]\n",
        "The eigenvectors of A are orthogonal by definition-v.transpose*v = I, v.transpose = v.inverse\n",
        "Besides, the determinant of eigenvectors of A is 1.0  which is not 0.\n",
        "In conclusion, the eigenvectors of A are orthogonal.\n"
       ]
      }
     ],
     "prompt_number": 7
    },
    {
     "cell_type": "code",
     "collapsed": false,
     "input": [
      "#2) What is the vector representing the first principal component direction? \n",
      "print \"The eigenvalues are\", np.real_if_close(e)\n",
      "print \"Since the second eigenvalue is larger than the first, so the second vector of v is the vector that representing first principal component direction.\"\n",
      "print \"So the vector representing the first principal component direction is :\"\n",
      "print v.T[1].reshape(2,1)"
     ],
     "language": "python",
     "metadata": {},
     "outputs": [
      {
       "output_type": "stream",
       "stream": "stdout",
       "text": [
        "The eigenvalues are [ 1.586  4.414]\n",
        "Since the second eigenvalue is larger than the first, so the second vector of v is the vector that representing first principal component direction.\n",
        "So the vector representing the first principal component direction is :\n",
        "[[-0.383]\n",
        " [-0.924]]\n"
       ]
      }
     ],
     "prompt_number": 8
    },
    {
     "cell_type": "code",
     "collapsed": false,
     "input": [
      "# 3) Find A_inverse without performing a matrix inversion\n",
      "determinant = la.det(A)\n",
      "inv_A = np.zeros((2, 2))\n",
      "inv_A[0,0] = A[1,1] / determinant\n",
      "inv_A[1,1] = A[0,0] / determinant\n",
      "inv_A[0,1] = - A[1,0] / determinant\n",
      "inv_A[1,0] = - A[0,1] / determinant\n",
      "print inv_A"
     ],
     "language": "python",
     "metadata": {},
     "outputs": [
      {
       "output_type": "stream",
       "stream": "stdout",
       "text": [
        "[[ 0.571 -0.143]\n",
        " [-0.143  0.286]]\n"
       ]
      }
     ],
     "prompt_number": 9
    },
    {
     "cell_type": "markdown",
     "metadata": {},
     "source": [
      "<font color=blue>Grade (+/- comments)</font>\n",
      "\n",
      "\\-1 This is extremely inefficient - use the eigendecomposition you have already done!"
     ]
    },
    {
     "cell_type": "code",
     "collapsed": false,
     "input": [
      "### CORRECTION ###\n",
      "### 3) Find A_inverse without performing a matrix inversion\n",
      "enew = 1.0 / e\n",
      "inv_A = np.real_if_close(np.dot(np.dot(v,np.diag(enew)), v.T))\n",
      "print \"A_inverse is\"\n",
      "print inv_A\n"
     ],
     "language": "python",
     "metadata": {},
     "outputs": [
      {
       "output_type": "stream",
       "stream": "stdout",
       "text": [
        "A_inverse is\n",
        "[[ 0.571 -0.143]\n",
        " [-0.143  0.286]]\n"
       ]
      }
     ],
     "prompt_number": 10
    },
    {
     "cell_type": "code",
     "collapsed": false,
     "input": [
      "# 4) What are the coordinates of the data points (0, 1) and (1, 1) in the standard basis expressed as coordinates of the principal components?\n",
      "data1 = np.array([0,1])\n",
      "data2 = np.array([1,1])\n",
      "coord1 = np.dot(np.dot(v,data1),v.T)\n",
      "coord2 = np.dot(np.dot(v,data2),v.T)\n",
      "print 'The coordinate of the data points (0, 1)', coord1\n",
      "print 'The coordinate of the data points (1, 1)', coord2"
     ],
     "language": "python",
     "metadata": {},
     "outputs": [
      {
       "output_type": "stream",
       "stream": "stdout",
       "text": [
        "The coordinate of the data points (0, 1) [ 0.707  0.707]\n",
        "The coordinate of the data points (1, 1) [ 1.414 -0.000]\n"
       ]
      }
     ],
     "prompt_number": 11
    },
    {
     "cell_type": "markdown",
     "metadata": {},
     "source": [
      "<font color=blue>Grade (+/- comments)</font>\n",
      "\n",
      "\\-2"
     ]
    },
    {
     "cell_type": "code",
     "collapsed": false,
     "input": [
      "### CORRECTION ###\n",
      "### 4) \n",
      "corr = np.array([[0, 1], [1, 1]])\n",
      "print \"Coordinate of (0,1) and (1,1) in principal component basis is \"\n",
      "print np.dot(v.T, corr)"
     ],
     "language": "python",
     "metadata": {},
     "outputs": [
      {
       "output_type": "stream",
       "stream": "stdout",
       "text": [
        "Coordinate of (0,1) and (1,1) in principal component basis is \n",
        "[[ 0.383 -0.541]\n",
        " [-0.924 -1.307]]\n"
       ]
      }
     ],
     "prompt_number": 12
    },
    {
     "cell_type": "code",
     "collapsed": false,
     "input": [
      "# 5) What is the proportion of variance explained if we keep only the projection onto the first principal component? (2 points).\n",
      "print \"Proportion of variance is\", np.real_if_close(e[1]/sum(e))"
     ],
     "language": "python",
     "metadata": {},
     "outputs": [
      {
       "output_type": "stream",
       "stream": "stdout",
       "text": [
        "Proportion of variance is 0.735702260396\n"
       ]
      }
     ],
     "prompt_number": 218
    },
    {
     "cell_type": "markdown",
     "metadata": {},
     "source": [
      "**Question 4 (10 points)**.\n",
      "\n",
      "Find the minimum of the following quadratic function on $\\mathbb{R}^2$ \n",
      "\n",
      "$$f(x) = x^TAx +b^Tx +c$$\n",
      "where\n",
      "$$A = \\left(\\begin{matrix}13&5\\\\5&7\\end{matrix}\\right), b = \\left(\\begin{matrix}1\\\\1\\end{matrix}\\right) \\textrm {and } c = 2$$\n",
      "\n",
      "Under the constraints:\n",
      "$$g(x) = 2x_1-5x_2=2 \\;\\;\\;\\;\\;\\; \\textrm{ and } \\;\\;\\;\\;\\;\\; h(x) = x_1+x_2=1$$\n",
      "\n",
      "1. Use a matrix decomposition method to find the minimum of the *unconstrained* problem without using `scipy.optimize` (Use library functions - no need to code your own). Note: for full credit you should exploit matrix structure. (3 points)\n",
      "2. Find the solution using constrained optimization with the `scipy.optimize` package. (3 points)\n",
      "2. Use Lagrange multipliers and solve the resulting set of equations directly without using `scipy.optimize`. (4 points)"
     ]
    },
    {
     "cell_type": "code",
     "collapsed": false,
     "input": [
      "import scipy.optimize as opt\n",
      "A = np.array([[13, 5],\n",
      "          [5, 7]])\n",
      "# Define the target function\n",
      "def funcX(x):\n",
      "    b = np.ones(2)\n",
      "    c =2\n",
      "    X = np.array(x)\n",
      "    return np.dot(np.dot(X.T,A),X)+np.dot(b.T,X)+ c"
     ],
     "language": "python",
     "metadata": {},
     "outputs": [],
     "prompt_number": 21
    },
    {
     "cell_type": "code",
     "collapsed": false,
     "input": [
      "# 1) matrix decomposition method\n",
      "b = np.ones(2)\n",
      "print np.linalg.solve(2*A, b.T)\n",
      "U, s, v = np.linalg.svd(A)\n",
      "mini = np.linalg.solve(2*np.dot(np.diag(s),v), -np.dot(U.T,b.T))\n",
      "print \"The minimum without constraint is\", funcX(mini)\n",
      "print \"The Corresponding vector is\", mini"
     ],
     "language": "python",
     "metadata": {},
     "outputs": [
      {
       "output_type": "stream",
       "stream": "stdout",
       "text": [
        "[ 0.015  0.061]\n",
        "The minimum without constraint is 1.96212121212\n",
        "The Corresponding vector is [-0.015 -0.061]\n"
       ]
      }
     ],
     "prompt_number": 22
    },
    {
     "cell_type": "markdown",
     "metadata": {},
     "source": [
      "<font color = 'green',size=4pt>Use Cholesky -1</font>"
     ]
    },
    {
     "cell_type": "code",
     "collapsed": false,
     "input": [
      "### CORRECTION ###    \n",
      "### 1) \n",
      "cholesky = la.cholesky(A)\n",
      "y = la.solve(2 * cholesky.T, - b)\n",
      "mini = la.solve(cholesky, y)\n",
      "print \"The minimum without constraint is\", funcX(mini)\n",
      "print \"Using Cholesky decomposition, when x=\", mini, \"the function reaches its minimum.\"\n"
     ],
     "language": "python",
     "metadata": {},
     "outputs": [
      {
       "output_type": "stream",
       "stream": "stdout",
       "text": [
        "The minimum without constraint is 1.96212121212\n",
        "Using Cholesky decomposition, when x= [-0.015 -0.061] the function reaches its minimum.\n"
       ]
      }
     ],
     "prompt_number": 23
    },
    {
     "cell_type": "code",
     "collapsed": false,
     "input": [
      "# 2) constrained optimization with the scipy.optimize package\n",
      "# Define constraints\n",
      "cons = ({'type': 'eq', 'fun': lambda x: 2 * x[0] - 5 * x[1] - 2}, {'type': 'eq', 'fun': lambda x: x[0] + x[1] - 1})\n",
      "# Set starting point as 1, 1\n",
      "minicon = opt.minimize(funcX,[1.0,1.0], constraints=cons)\n",
      "print \"The minimum under the constraint is\", minicon.fun\n",
      "print \"Corresponding vector is\", np.array(minicon.x)"
     ],
     "language": "python",
     "metadata": {},
     "outputs": [
      {
       "output_type": "stream",
       "stream": "stdout",
       "text": [
        "The minimum under the constraint is 16.0\n",
        "Corresponding vector is [ 1.000  0.000]\n"
       ]
      }
     ],
     "prompt_number": 24
    },
    {
     "cell_type": "code",
     "collapsed": false,
     "input": [
      "# 3) Use Lagrange multipliers and solve the resulting set of equations directly without using scipy.optimize. (4 points)"
     ],
     "language": "python",
     "metadata": {},
     "outputs": []
    },
    {
     "cell_type": "markdown",
     "metadata": {},
     "source": [
      "<font color = 'green',size=4pt>-4</font>"
     ]
    },
    {
     "cell_type": "code",
     "collapsed": false,
     "input": [
      "### CORRECTION ###\n",
      "# 3)\n",
      "A_new = np.array([[26, 10, 2, 1], [10, 7, -5, 1], [2, -5, 0, 0], [1, 1, 0, 0]])\n",
      "b_new = np.array([-1, -1, 2, 1])\n",
      "solution = la.solve(A_new, b_new)[0:2]\n",
      "print \"Using Lagrange Multiplier, we get that when x=\", solution, \", the function reaches its minimum.\"\n",
      "print \"The minimum is\", funcX(solution)"
     ],
     "language": "python",
     "metadata": {},
     "outputs": [
      {
       "output_type": "stream",
       "stream": "stdout",
       "text": [
        "Using Lagrange Multiplier, we get that when x= [ 1.000 -0.000] , the function reaches its minimum.\n",
        "The minimum is 16.0\n"
       ]
      }
     ],
     "prompt_number": 27
    },
    {
     "cell_type": "markdown",
     "metadata": {},
     "source": [
      "**Question 5 (10 points)**. \n",
      "\n",
      "Consider the linear transformation $f(x)$ on $\\mathbb{R}^3$ that takes the standard basis $\\left\\{e_1,e_2,e_3\\right\\}$ to $\\left\\{v_1,v_2,v_3\\right\\}$ where\n",
      "\n",
      "$$v_1=\\left(\\begin{matrix}10\\\\-10\\\\16\\end{matrix}\\right), v_2=\\left(\\begin{matrix}2\\\\-5\\\\20\\end{matrix}\\right) \\textrm {and } v_3=\\left(\\begin{matrix}1\\\\-4\\\\13\\end{matrix}\\right)$$\n",
      "\n",
      "1. Write a matrix $A$ that represents the same linear transformaton. (2 points)\n",
      "\n",
      "2. Compute the rank of $A$ (use any method you like). (2 points)\n",
      "\n",
      "3. Find the eigenvalues and eigenvectors of $A$. (2 points)\n",
      "\n",
      "4. What is the matrix representation of $f$ with respect to the eigenbasis? (4 points)"
     ]
    },
    {
     "cell_type": "code",
     "collapsed": false,
     "input": [
      "#1) Write a matrix A that represents the same linear transformaton\n",
      "v1 = np.array([10, -10, 16])\n",
      "v2 = np.array([2, -5, 20])\n",
      "v3 = np.array([1, -4, 13])\n",
      "\n",
      "A = np.array([v1,v2,v3])\n",
      "A"
     ],
     "language": "python",
     "metadata": {},
     "outputs": [
      {
       "metadata": {},
       "output_type": "pyout",
       "prompt_number": 222,
       "text": [
        "array([[ 10, -10,  16],\n",
        "       [  2,  -5,  20],\n",
        "       [  1,  -4,  13]])"
       ]
      }
     ],
     "prompt_number": 222
    },
    {
     "cell_type": "markdown",
     "metadata": {},
     "source": [
      "<font color = 'green',size=4pt>Should be transpose of this -1</font>"
     ]
    },
    {
     "cell_type": "code",
     "collapsed": false,
     "input": [
      "### CORRECTION ###\n",
      "# 1)\n",
      "v1 = np.array([10, -10, 16])\n",
      "v2 = np.array([2, -5, 20])\n",
      "v3 = np.array([1, -4, 13])\n",
      "\n",
      "A = np.array([v1, v2, v3]).T\n",
      "print A"
     ],
     "language": "python",
     "metadata": {},
     "outputs": [
      {
       "output_type": "stream",
       "stream": "stdout",
       "text": [
        "[[ 10   2   1]\n",
        " [-10  -5  -4]\n",
        " [ 16  20  13]]\n"
       ]
      }
     ],
     "prompt_number": 30
    },
    {
     "cell_type": "code",
     "collapsed": false,
     "input": [
      "#2) \n",
      "print \" The rank of A is\", np.linalg.matrix_rank(A)"
     ],
     "language": "python",
     "metadata": {},
     "outputs": [
      {
       "output_type": "stream",
       "stream": "stdout",
       "text": [
        " The rank of A is 3\n"
       ]
      }
     ],
     "prompt_number": 31
    },
    {
     "cell_type": "code",
     "collapsed": false,
     "input": [
      "# 3) \n",
      "e,v = la.eig(A)\n",
      "print \"eigenvalues of A is\", np.real_if_close(e)\n",
      "print \"eigenvectors of A are\"\n",
      "print v"
     ],
     "language": "python",
     "metadata": {},
     "outputs": [
      {
       "output_type": "stream",
       "stream": "stdout",
       "text": [
        "eigenvalues of A is [ 9.000  3.000  6.000]\n",
        "eigenvectors of A are\n",
        "[[-0.577 -0.000 -0.120]\n",
        " [ 0.577  0.447 -0.241]\n",
        " [-0.577 -0.894  0.963]]\n"
       ]
      }
     ],
     "prompt_number": 32
    },
    {
     "cell_type": "code",
     "collapsed": false,
     "input": [
      "# 4) What is the matrix representation of f with respect to the eigenbasis\n",
      "print np.dot(v, np.dot(A, v.T))"
     ],
     "language": "python",
     "metadata": {},
     "outputs": [
      {
       "output_type": "stream",
       "stream": "stdout",
       "text": [
        "[[ 4.703 -5.523  5.568]\n",
        " [ 1.995 -3.065  2.566]\n",
        " [-12.596  17.088 -15.975]]\n"
       ]
      }
     ],
     "prompt_number": 33
    },
    {
     "cell_type": "code",
     "collapsed": false,
     "input": [
      "### CORRECTION ###\n",
      "# 4)\n",
      "print \"Matrix representation of f with respect to the eigenbasis is \"\n",
      "print np.real_if_close(np.diag(e))"
     ],
     "language": "python",
     "metadata": {},
     "outputs": [
      {
       "output_type": "stream",
       "stream": "stdout",
       "text": [
        "Matrix representation of f with respect to the eigenbasis is \n",
        "[[ 9.000  0.000  0.000]\n",
        " [ 0.000  3.000  0.000]\n",
        " [ 0.000  0.000  6.000]]\n"
       ]
      }
     ],
     "prompt_number": 34
    },
    {
     "cell_type": "markdown",
     "metadata": {},
     "source": [
      "<font color = 'green',size=4pt>diage(eigenvalues) -4</font>"
     ]
    },
    {
     "cell_type": "markdown",
     "metadata": {},
     "source": [
      "**Question 6 (10 points)**\n",
      "\n",
      "Given the the function $f(x) = \\frac{1}{2} x^TAx + b^Tx$ where\n",
      "\n",
      "\\begin{align}\n",
      "A = \\left(\\begin{matrix}13&5&-3\\\\5&11&7\\\\-3&7&20\\end{matrix}\\right) \n",
      ", \\ b = \\left(\\begin{matrix}1\\\\1\\\\1\\end{matrix}\\right),\n",
      "\\end{align}\n",
      "\n",
      "complete the following code to find the first 3 vector directions for a conjugate gradient *descent* algorithm.\n",
      "\n",
      "Hint: Recall from linear algebra that the projection of $v$ on $u$ is \n",
      "\n",
      "$$\n",
      "\\frac{v \\cdot u}{u \\cdot u}u\n",
      "$$\n",
      "and that $u$ is conjugate to $v$ with respect to $A$ if \n",
      "$$Av\\cdot u = 0$$\n",
      "\n",
      "Also, recall that the gradient at $x_k$ of the quadratic function $f$ is given by $Ax_k + b$ since\n",
      "\n",
      "\\begin{align}\n",
      "\\dfrac{\\partial (x^TAx)}{\\partial x} &= \\dfrac{\\partial (x^T)^T}{\\partial x}\\dfrac{\\partial (x^Ty)}{\\partial x} +  \\dfrac{\\partial y^T}{\\partial x} \\dfrac{\\partial (x^Ty)}{\\partial y}\n",
      "   & \\text{chain rule with $y=Ax$} \\\\\n",
      "&= y + \\dfrac{\\partial (x^TA^T)}{\\partial x} \\dfrac{\\partial (x^Ty)}{\\partial y} & \\text{using $\\dfrac{\\partial (x^Ty)}{\\partial x} = y$} \\\\\n",
      "&= y + A^T\\dfrac{\\partial (y^Tx)}{\\partial y} & \\text{using $x^Ty = y^Tx$} \\\\\n",
      "&= Ax + A^Tx \\\\\n",
      "&= (A+A^T)x \\\\\n",
      "&= 2Ax & \\text{if $A$ is symmetric}\n",
      "\\end{align}\n",
      "\n",
      "\n",
      "<p>\n",
      "<font color=red>There are two lines of code to complete: the correction term in the function next_p, and the initial value of p = p0 in the main body of code.</font></p>\n",
      "\n",
      "<p>\n",
      "<font color=red>We do not expect this algorithm to converge in $3$ steps, and it is very primitive compared to scipy's implementation.  Do not be alarmed if you try to match solutions and fail.</font></p>"
     ]
    },
    {
     "cell_type": "code",
     "collapsed": false,
     "input": [
      "def next_x (A,x,b,p):\n",
      "    return x + ((np.dot(p,-b))/(np.dot(p,A.dot(p))))*p # returns x_{k+1} given x_k, p_k, A and b"
     ],
     "language": "python",
     "metadata": {},
     "outputs": [],
     "prompt_number": 229
    },
    {
     "cell_type": "code",
     "collapsed": false,
     "input": [
      "def next_p(A,x,b,ps):\n",
      "    correction = np.zeros_like(x)\n",
      "    for i in range(len(ps)):\n",
      "        correction += (np.dot(np.dot(ps[i].T, A), np.dot(A, x) + b) / np.dot(ps[i].T, np.dot(A, ps[i]))) * ps[i]          # Fill in this line (7 points)\n",
      "    \n",
      "    return -b - A.dot(x) - correction \n",
      "                                       \n",
      "# Complete the indicated line above with the correction term so that this function returns \n",
      "# the gradient at x minus the correction term that makes the new p conjugate to all the others"
     ],
     "language": "python",
     "metadata": {},
     "outputs": [],
     "prompt_number": 230
    },
    {
     "cell_type": "markdown",
     "metadata": {},
     "source": [
      "<font color = 'green',size=4pt>Almost!  We want descent, so -gradient.</font>"
     ]
    },
    {
     "cell_type": "code",
     "collapsed": false,
     "input": [
      "A = np.array([[13,5,-3],[5,11,7],[-3,7,20]])   # Value of matrix A\n",
      "b = np.array([1,1,1])                           # Value of b\n",
      "x0 = np.array([0,0,0])                          # Initial guess for xmin\n",
      "\n",
      "p0 = np.dot(A, x0)+b                 # fill in p0 (3 points)\n",
      "\n",
      "x = x0 # initializes x for the for loop \n",
      "p = p0 # initializes p for the for loop\n",
      "ps = []  # start list to store the conjugate vectors\n",
      "ps.append(p0) # store first vector\n",
      "\n",
      "for i in range(2):\n",
      "    x = next_x(A,x,b,p)   # gets x_{k+1}\n",
      "    p = next_p(A,x,b,ps)  # computes p_{k+1}\n",
      "    ps.append(p)          # stores p_{k+1} in list\n",
      "\n",
      "ps  # prints the list of three vectors"
     ],
     "language": "python",
     "metadata": {},
     "outputs": [
      {
       "metadata": {},
       "output_type": "pyout",
       "prompt_number": 231,
       "text": [
        "[array([1, 1, 1]), array([35, 43, 44]), array([2279, 2889, 3033])]"
       ]
      }
     ],
     "prompt_number": 231
    },
    {
     "cell_type": "markdown",
     "metadata": {},
     "source": [
      "<font color = 'green',size=4pt>Again, we want -gradient - but well done!</font>"
     ]
    },
    {
     "cell_type": "markdown",
     "metadata": {},
     "source": [
      "- <font color='blue', size=4pt>Bonus for corrections Q1-Q3 = +2 </font>\n",
      "- <font color='blue', size=4pt>Total deductions for Q1-Q3 = -4 </font>\n",
      "- <font color = 'green',size=4pt>Total Points Deducted Q4-Q6: -10</font>\n",
      "- <font color = 'green',size=4pt>Bonus for corrections Q4-Q6: +5</font>"
     ]
    },
    {
     "cell_type": "code",
     "collapsed": false,
     "input": [],
     "language": "python",
     "metadata": {},
     "outputs": []
    }
   ],
   "metadata": {}
  }
 ]
}