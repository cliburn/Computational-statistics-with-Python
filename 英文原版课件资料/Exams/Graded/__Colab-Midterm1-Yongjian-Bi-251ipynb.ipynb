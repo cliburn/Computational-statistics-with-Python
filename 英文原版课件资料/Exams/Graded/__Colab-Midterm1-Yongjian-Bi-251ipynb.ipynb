{
 "metadata": {
  "name": "",
  "signature": "sha256:7f6e4059231ea27067cad4ff43964c838df93ff1ddd29f925b8376ec07af3681"
 },
 "nbformat": 3,
 "nbformat_minor": 0,
 "worksheets": [
  {
   "cells": [
    {
     "cell_type": "markdown",
     "metadata": {},
     "source": [
      "Instructions\n",
      "----\n",
      "\n",
      "This is a \"closed book\" examination - in particular, you are not to use any resources outside of this notebook (except possibly pen and paper). You may consult help from within the notebook using ? but not any online references. Violation of any of these exam rules is a violation of the University's honor code and will result in penalty under that code.\n",
      "\n",
      "\n",
      "You have 1 hour and 45 minutes to complete the exam.\n",
      "\n",
      "- <font color=red>Use a new cell for different parts of a question</font>\n",
      "- <font color=red>The maximum score for the mid-terms is 60</font>"
     ]
    },
    {
     "cell_type": "code",
     "collapsed": false,
     "input": [
      "import os\n",
      "import sys\n",
      "import glob\n",
      "import matplotlib.pyplot as plt\n",
      "import numpy as np\n",
      "import pandas as pd\n",
      "import scipy.linalg as la\n",
      "%matplotlib inline\n",
      "plt.style.use('ggplot')"
     ],
     "language": "python",
     "metadata": {},
     "outputs": [],
     "prompt_number": 3
    },
    {
     "cell_type": "code",
     "collapsed": false,
     "input": [
      "np.set_printoptions(formatter={'float': '{: 0.3f}'.format})"
     ],
     "language": "python",
     "metadata": {},
     "outputs": [],
     "prompt_number": 4
    },
    {
     "cell_type": "code",
     "collapsed": false,
     "input": [
      "%load_ext rpy2.ipython"
     ],
     "language": "python",
     "metadata": {},
     "outputs": [],
     "prompt_number": 5
    },
    {
     "cell_type": "code",
     "collapsed": false,
     "input": [],
     "language": "python",
     "metadata": {},
     "outputs": [],
     "prompt_number": 5
    },
    {
     "cell_type": "markdown",
     "metadata": {},
     "source": [
      "**Question 1 (10 points)**. \n",
      "\n",
      "Given the 2 matrices\n",
      "```\n",
      "A = np.array([[1,2,3],[4,5,6]])\n",
      "B = np.array([[1,2,3,4],[5,6,7,8],[9,10,11,12]])\n",
      "```\n",
      "\n",
      "Perform matrix multiplication of `A` and `B` using the following methods:\n",
      "\n",
      "1. Using nested `for` loops without the `dot` function (4 points)\n",
      "2. Using numpy (2 points)\n",
      "3. Using R (start the first line of a new cell with %%R). You should pass in the A and B matrices defined in Python for full marks, but partial credit will be given if you redefine them in R (4 points)"
     ]
    },
    {
     "cell_type": "code",
     "collapsed": false,
     "input": [
      "A = np.array([[1,2,3],[4,5,6]])\n",
      "B = np.array([[1,2,3,4],[5,6,7,8],[9,10,11,12]])"
     ],
     "language": "python",
     "metadata": {},
     "outputs": [],
     "prompt_number": 6
    },
    {
     "cell_type": "code",
     "collapsed": false,
     "input": [
      "#using for loops\n",
      "sizeA =  len(A)\n",
      "sizeB = len(B.T)\n",
      "aaa = np.zeros((sizeA,sizeB))\n",
      "\n",
      "for j in range(len(A)):\n",
      "    for i in range(len(B.T)):\n",
      "        aaa[j,i] = sum(A[j,:]*B[:,i])\n",
      "aaa\n"
     ],
     "language": "python",
     "metadata": {},
     "outputs": [
      {
       "metadata": {},
       "output_type": "pyout",
       "prompt_number": 7,
       "text": [
        "array([[ 38.000,  44.000,  50.000,  56.000],\n",
        "       [ 83.000,  98.000,  113.000,  128.000]])"
       ]
      }
     ],
     "prompt_number": 7
    },
    {
     "cell_type": "code",
     "collapsed": false,
     "input": [
      "#using numpy\n",
      "np.dot(A,B)"
     ],
     "language": "python",
     "metadata": {},
     "outputs": [
      {
       "metadata": {},
       "output_type": "pyout",
       "prompt_number": 8,
       "text": [
        "array([[ 38,  44,  50,  56],\n",
        "       [ 83,  98, 113, 128]])"
       ]
      }
     ],
     "prompt_number": 8
    },
    {
     "cell_type": "code",
     "collapsed": false,
     "input": [
      "%%R \n",
      "A = ((1,2,3),(4,5,6))\n",
      "A %*% B"
     ],
     "language": "python",
     "metadata": {},
     "outputs": [
      {
       "output_type": "stream",
       "stream": "stdout",
       "text": [
        "\n",
        "Error while parsing the string.\n"
       ]
      }
     ],
     "prompt_number": 9
    },
    {
     "cell_type": "markdown",
     "metadata": {},
     "source": [
      "<font color=blue>Grade (+/- comments)</font>\n",
      "\n",
      "\\- 3 for not passing values in or redefining A and B in R"
     ]
    },
    {
     "cell_type": "markdown",
     "metadata": {},
     "source": [
      "**Question 2 (10 points)**. \n",
      "\n",
      "1. Read the `iris.csv` data set into a Pandas DataFrame. Dispaly the first 4 lines of the DataFrame. (2 points)\n",
      "2. Create a new DataFrame showing the mean `SepalLength`, `SepalWidth`, `PetalLength` and `PetalWidth` for the 3 different types of irises. (4 points)\n",
      "3. Make a scatter plot of `SepalLength` against `PetalLength` where each species is assigned a different color. (4 points)"
     ]
    },
    {
     "cell_type": "code",
     "collapsed": false,
     "input": [
      "! head -n6 iris.csv"
     ],
     "language": "python",
     "metadata": {},
     "outputs": [
      {
       "output_type": "stream",
       "stream": "stdout",
       "text": [
        "SepalLength,SepalWidth,PetalLength,PetalWidth,Name\r\n",
        "5.1,3.5,1.4,0.2,Iris-setosa\r\n",
        "4.9,3.0,1.4,0.2,Iris-setosa\r\n",
        "4.7,3.2,1.3,0.2,Iris-setosa\r\n",
        "4.6,3.1,1.5,0.2,Iris-setosa\r\n",
        "5.0,3.6,1.4,0.2,Iris-setosa\r\n"
       ]
      }
     ],
     "prompt_number": 10
    },
    {
     "cell_type": "code",
     "collapsed": false,
     "input": [
      "#1\n",
      "Data = pd.DataFrame.from_csv('iris.csv',index_col=-1)\n",
      "Data.head(4)"
     ],
     "language": "python",
     "metadata": {},
     "outputs": [
      {
       "html": [
        "<div style=\"max-height:1000px;max-width:1500px;overflow:auto;\">\n",
        "<table border=\"1\" class=\"dataframe\">\n",
        "  <thead>\n",
        "    <tr style=\"text-align: right;\">\n",
        "      <th></th>\n",
        "      <th>SepalLength</th>\n",
        "      <th>SepalWidth</th>\n",
        "      <th>PetalLength</th>\n",
        "      <th>PetalWidth</th>\n",
        "    </tr>\n",
        "    <tr>\n",
        "      <th>Name</th>\n",
        "      <th></th>\n",
        "      <th></th>\n",
        "      <th></th>\n",
        "      <th></th>\n",
        "    </tr>\n",
        "  </thead>\n",
        "  <tbody>\n",
        "    <tr>\n",
        "      <th>Iris-setosa</th>\n",
        "      <td> 5.1</td>\n",
        "      <td> 3.5</td>\n",
        "      <td> 1.4</td>\n",
        "      <td> 0.2</td>\n",
        "    </tr>\n",
        "    <tr>\n",
        "      <th>Iris-setosa</th>\n",
        "      <td> 4.9</td>\n",
        "      <td> 3.0</td>\n",
        "      <td> 1.4</td>\n",
        "      <td> 0.2</td>\n",
        "    </tr>\n",
        "    <tr>\n",
        "      <th>Iris-setosa</th>\n",
        "      <td> 4.7</td>\n",
        "      <td> 3.2</td>\n",
        "      <td> 1.3</td>\n",
        "      <td> 0.2</td>\n",
        "    </tr>\n",
        "    <tr>\n",
        "      <th>Iris-setosa</th>\n",
        "      <td> 4.6</td>\n",
        "      <td> 3.1</td>\n",
        "      <td> 1.5</td>\n",
        "      <td> 0.2</td>\n",
        "    </tr>\n",
        "  </tbody>\n",
        "</table>\n",
        "</div>"
       ],
       "metadata": {},
       "output_type": "pyout",
       "prompt_number": 11,
       "text": [
        "             SepalLength  SepalWidth  PetalLength  PetalWidth\n",
        "Name                                                         \n",
        "Iris-setosa          5.1         3.5          1.4         0.2\n",
        "Iris-setosa          4.9         3.0          1.4         0.2\n",
        "Iris-setosa          4.7         3.2          1.3         0.2\n",
        "Iris-setosa          4.6         3.1          1.5         0.2"
       ]
      }
     ],
     "prompt_number": 11
    },
    {
     "cell_type": "code",
     "collapsed": false,
     "input": [
      "#2\n",
      "new = Data.mean(axis=0)\n",
      "df3 = pd.DataFrame(new[0:5])\n",
      "df3"
     ],
     "language": "python",
     "metadata": {},
     "outputs": [
      {
       "html": [
        "<div style=\"max-height:1000px;max-width:1500px;overflow:auto;\">\n",
        "<table border=\"1\" class=\"dataframe\">\n",
        "  <thead>\n",
        "    <tr style=\"text-align: right;\">\n",
        "      <th></th>\n",
        "      <th>0</th>\n",
        "    </tr>\n",
        "  </thead>\n",
        "  <tbody>\n",
        "    <tr>\n",
        "      <th>SepalLength</th>\n",
        "      <td> 5.843333</td>\n",
        "    </tr>\n",
        "    <tr>\n",
        "      <th>SepalWidth</th>\n",
        "      <td> 3.054000</td>\n",
        "    </tr>\n",
        "    <tr>\n",
        "      <th>PetalLength</th>\n",
        "      <td> 3.758667</td>\n",
        "    </tr>\n",
        "    <tr>\n",
        "      <th>PetalWidth</th>\n",
        "      <td> 1.198667</td>\n",
        "    </tr>\n",
        "  </tbody>\n",
        "</table>\n",
        "</div>"
       ],
       "metadata": {},
       "output_type": "pyout",
       "prompt_number": 12,
       "text": [
        "                    0\n",
        "SepalLength  5.843333\n",
        "SepalWidth   3.054000\n",
        "PetalLength  3.758667\n",
        "PetalWidth   1.198667"
       ]
      }
     ],
     "prompt_number": 12
    },
    {
     "cell_type": "markdown",
     "metadata": {},
     "source": [
      "<font color=blue>Grade (+/- comments)</font>\n",
      "\n",
      "\\-4"
     ]
    },
    {
     "cell_type": "code",
     "collapsed": false,
     "input": [
      "#3 Make a scatter plot of SepalLength against PetalLength where each species is assigned a different color. (4 points)\n",
      "print 'could not get access to dataframe values, so just use random '\n",
      "plt.scatter(A[0,:],A[1,:])"
     ],
     "language": "python",
     "metadata": {},
     "outputs": [
      {
       "output_type": "stream",
       "stream": "stdout",
       "text": [
        "could not get access to dataframe values, so just use random \n"
       ]
      },
      {
       "metadata": {},
       "output_type": "pyout",
       "prompt_number": 13,
       "text": [
        "<matplotlib.collections.PathCollection at 0x111ac2490>"
       ]
      },
      {
       "metadata": {},
       "output_type": "display_data",
       "png": "[encoded data removed]",
       "text": [
        "<matplotlib.figure.Figure at 0x1117f6490>"
       ]
      }
     ],
     "prompt_number": 13
    },
    {
     "cell_type": "markdown",
     "metadata": {},
     "source": [
      "<font color=blue>Grade (+/- comments)</font>\n",
      "\n",
      "\\-4"
     ]
    },
    {
     "cell_type": "markdown",
     "metadata": {},
     "source": [
      "**Question 3 (10 points)**.\n",
      "\n",
      "Given the following covariance matrix\n",
      "```python\n",
      "A = np.array([[2,1],[1,4]])\n",
      "```\n",
      "\n",
      "1. Show that the eigenvectors of $A$ are orthogonal. (2 points)\n",
      "2. What is the vector representing the first principal component direction? (2 points)\n",
      "3. Find $A^{-1}$ without performing a matrix inversion. (2 points)\n",
      "4. What are the coordinates of the data points (0, 1) and (1, 1) in the standard basis expressed as coordinates of the principal components? (2 points)\n",
      "5. What is the proportion of variance explained if we keep only the projection onto the first principal component? (2 points)."
     ]
    },
    {
     "cell_type": "code",
     "collapsed": false,
     "input": [
      "import scipy.linalg as la"
     ],
     "language": "python",
     "metadata": {},
     "outputs": [],
     "prompt_number": 90
    },
    {
     "cell_type": "code",
     "collapsed": false,
     "input": [
      "A = np.array([[2,1],[1,4]])\n",
      "A"
     ],
     "language": "python",
     "metadata": {},
     "outputs": [
      {
       "metadata": {},
       "output_type": "pyout",
       "prompt_number": 104,
       "text": [
        "array([[2, 1],\n",
        "       [1, 4]])"
       ]
      }
     ],
     "prompt_number": 104
    },
    {
     "cell_type": "code",
     "collapsed": false,
     "input": [
      "#1\n",
      "e,v = la.eig(A)\n",
      "print v\n",
      "print np.dot(v[:,0],v[:,1])\n",
      "#since the dot product of these two vecors are zero, thery are othogonal to each other"
     ],
     "language": "python",
     "metadata": {},
     "outputs": [
      {
       "output_type": "stream",
       "stream": "stdout",
       "text": [
        "[[-0.924 -0.383]\n",
        " [ 0.383 -0.924]]\n",
        "0.0\n"
       ]
      }
     ],
     "prompt_number": 95
    },
    {
     "cell_type": "code",
     "collapsed": false,
     "input": [
      "#2What is the vector representing the first principal component direction? (2 points)\n",
      "v[:,0]"
     ],
     "language": "python",
     "metadata": {},
     "outputs": [
      {
       "metadata": {},
       "output_type": "pyout",
       "prompt_number": 96,
       "text": [
        "array([-0.924,  0.383])"
       ]
      }
     ],
     "prompt_number": 96
    },
    {
     "cell_type": "markdown",
     "metadata": {},
     "source": [
      "<font color=blue>Grade (+/- comments)</font>\n",
      "\n",
      "\\-2"
     ]
    },
    {
     "cell_type": "code",
     "collapsed": false,
     "input": [
      "#3Find A\u22121 without performing a matrix inversion. (2 points)\n",
      "A_inv = np.dot(np.dot(v,np.diag(1.0/e)),v.T)\n",
      "A_inv"
     ],
     "language": "python",
     "metadata": {},
     "outputs": [
      {
       "metadata": {},
       "output_type": "pyout",
       "prompt_number": 107,
       "text": [
        "array([[ 0.57142857+0.j, -0.14285714+0.j],\n",
        "       [-0.14285714+0.j,  0.28571429+0.j]])"
       ]
      }
     ],
     "prompt_number": 107
    },
    {
     "cell_type": "code",
     "collapsed": false,
     "input": [
      "#4 What are the coordinates of the data points (0, 1) and\n",
      "#(1, 1) in the standard basis expressed as coordinates of the principal components? (2 points)\n",
      "B = np.array([[0,1],[1,1]])\n",
      "np.dot(np.dot(B,A_inv),la.inv(B))\n"
     ],
     "language": "python",
     "metadata": {},
     "outputs": [
      {
       "metadata": {},
       "output_type": "pyout",
       "prompt_number": 110,
       "text": [
        "array([[ 0.42857143+0.j, -0.14285714+0.j],\n",
        "       [-0.28571429+0.j,  0.42857143+0.j]])"
       ]
      }
     ],
     "prompt_number": 110
    },
    {
     "cell_type": "markdown",
     "metadata": {},
     "source": [
      "<font color=blue>Grade (+/- comments)</font>\n",
      "\n",
      "\\-2"
     ]
    },
    {
     "cell_type": "code",
     "collapsed": false,
     "input": [
      "#5. What is the proportion of variance explained if we keep only the projection onto the first principal component? (2 points)."
     ],
     "language": "python",
     "metadata": {},
     "outputs": []
    },
    {
     "cell_type": "markdown",
     "metadata": {},
     "source": [
      "<font color=blue>Grade (+/- comments)</font>\n",
      "\n",
      "\\-2"
     ]
    },
    {
     "cell_type": "markdown",
     "metadata": {},
     "source": [
      "**Question 4 (10 points)**.\n",
      "\n",
      "Find the minimum of the following quadratic function on $\\mathbb{R}^2$ \n",
      "\n",
      "$$f(x) = x^TAx +b^Tx +c$$\n",
      "where\n",
      "$$A = \\left(\\begin{matrix}13&5\\\\5&7\\end{matrix}\\right), b = \\left(\\begin{matrix}1\\\\1\\end{matrix}\\right) \\textrm {and } c = 2$$\n",
      "\n",
      "Under the constraints:\n",
      "$$g(x) = 2x_1-5x_2=2 \\;\\;\\;\\;\\;\\; \\textrm{ and } \\;\\;\\;\\;\\;\\; h(x) = x_1+x_2=1$$\n",
      "\n",
      "1. Use a matrix decomposition method to find the minimum of the *unconstrained* problem without using `scipy.optimize` (Use library functions - no need to code your own). Note: for full credit you should exploit matrix structure. (3 points)\n",
      "2. Find the solution using constrained optimization with the `scipy.optimize` package. (3 points)\n",
      "2. Use Lagrange multipliers and solve the resulting set of equations directly without using `scipy.optimize`. (4 points)"
     ]
    },
    {
     "cell_type": "code",
     "collapsed": false,
     "input": [
      "#1\n",
      "A = np.array([[13,5],[5,7]])\n",
      "b = np.array([[1,1]]).T\n",
      "c = 2\n",
      "print 'first check whether A is positive definite.'\n",
      "e,v = la.eig(A)\n",
      "print e\n",
      "print ' '\n",
      "print 'Then solve the system using Ax= -b'\n",
      "print 'x=',la.solve(A,-b)"
     ],
     "language": "python",
     "metadata": {},
     "outputs": [
      {
       "output_type": "stream",
       "stream": "stdout",
       "text": [
        "first check whether A is positive definite.\n",
        "[ 15.83095189+0.j   4.16904811+0.j]\n",
        " \n",
        "Then solve the system using Ax= -b\n",
        "x= [[-0.030]\n",
        " [-0.121]]\n"
       ]
      }
     ],
     "prompt_number": 41
    },
    {
     "cell_type": "markdown",
     "metadata": {},
     "source": [
      "<font color='green', size = 4pt The matrix is symmetric, so you should use Cholesky.  The solution is incorrect (the gradient is 2*Ax+b.  -3</font>"
     ]
    },
    {
     "cell_type": "markdown",
     "metadata": {},
     "source": [
      "<font color='green', size = 4pt> The matrix is symmetric, so you should use Cholesky.  The solution is incorrect the - gradient is 2*Ax+b.  -3</font>"
     ]
    },
    {
     "cell_type": "code",
     "collapsed": false,
     "input": [
      "import scipy.optimize as opt"
     ],
     "language": "python",
     "metadata": {},
     "outputs": [],
     "prompt_number": 42
    },
    {
     "cell_type": "code",
     "collapsed": false,
     "input": [
      "#2 Find the solution using constrained optimization with the scipy.optimize package. (3 points)\n",
      "def f(x):\n",
      "    return np.dot(x.T,A).dot(x)+np.dot(b.T,x)+c\n",
      "\n",
      "x0 = [1,1]\n",
      "cons = ({'type': 'eq', 'fun': lambda x:  2*x[0] - 5*x[1] - 2},\n",
      "        {'type': 'eq', 'fun': lambda x: x[0] - x[1] -1})\n",
      "\n",
      "result = opt.minimize(f,x0,constraints = cons)\n",
      "result.x"
     ],
     "language": "python",
     "metadata": {},
     "outputs": [
      {
       "metadata": {},
       "output_type": "pyout",
       "prompt_number": 43,
       "text": [
        "array([ 1.000,  0.000])"
       ]
      }
     ],
     "prompt_number": 43
    },
    {
     "cell_type": "code",
     "collapsed": false,
     "input": [
      "#3 Use Lagrange multipliers and solve the resulting set of equations directly without using scipy.optimize\n",
      "from sympy import Function, symbols, hessian\n",
      "x,y,z, k  = symbols('x y z k') #z and k is lamda1 and lamda2\n",
      "f = Function('f')\n",
      "f = 13*x**2+10*x*y+7*y**2+x+y+2+z*(2*x-5*y-2)+k*(x+y-1)\n",
      "#(2*x-5*y-2) =gx  (x+y-1)=hx\n",
      "a = f.diff(x)\n",
      "b = f.diff(y)\n",
      "c = f.diff(z)\n",
      "d = f.diff(k)\n",
      "print a\n",
      "print b\n",
      "print c\n",
      "print d\n",
      "print 'After setting each equation to 0, solve the system, we get the minimal point (1,0)'\n",
      "\n",
      "AA = np.array([[1,26,10,2],[1,10,14,-5],[0,2,5,0],[0,1,1,0]])\n",
      "bb = np.array([[-1,-1,2,1]]).T\n",
      "print AA\n",
      "la.solve(AA,bb)"
     ],
     "language": "python",
     "metadata": {},
     "outputs": [
      {
       "output_type": "stream",
       "stream": "stdout",
       "text": [
        "k + 26*x + 10*y + 2*z + 1\n",
        "k + 10*x + 14*y - 5*z + 1\n",
        "2*x - 5*y - 2\n",
        "x + y - 1\n",
        "After setting each equation to 0, solve the system, we get the minimal point (1,0)\n",
        "[[ 1 26 10  2]\n",
        " [ 1 10 14 -5]\n",
        " [ 0  2  5  0]\n",
        " [ 0  1  1  0]]\n"
       ]
      },
      {
       "metadata": {},
       "output_type": "pyout",
       "prompt_number": 97,
       "text": [
        "array([[-22.429],\n",
        "       [ 1.000],\n",
        "       [ 0.000],\n",
        "       [-2.286]])"
       ]
      }
     ],
     "prompt_number": 97
    },
    {
     "cell_type": "markdown",
     "metadata": {},
     "source": []
    },
    {
     "cell_type": "code",
     "collapsed": false,
     "input": [],
     "language": "python",
     "metadata": {},
     "outputs": []
    },
    {
     "cell_type": "markdown",
     "metadata": {},
     "source": [
      "**Question 5 (10 points)**. \n",
      "\n",
      "Consider the linear transformation $f(x)$ on $\\mathbb{R}^3$ that takes the standard basis $\\left\\{e_1,e_2,e_3\\right\\}$ to $\\left\\{v_1,v_2,v_3\\right\\}$ where\n",
      "\n",
      "$$v_1=\\left(\\begin{matrix}10\\\\-10\\\\16\\end{matrix}\\right), v_2=\\left(\\begin{matrix}2\\\\-5\\\\20\\end{matrix}\\right) \\textrm {and } v_3=\\left(\\begin{matrix}1\\\\-4\\\\13\\end{matrix}\\right)$$\n",
      "\n",
      "1. Write a matrix $A$ that represents the same linear transformaton. (2 points)\n",
      "\n",
      "2. Compute the rank of $A$ (use any method you like). (2 points)\n",
      "\n",
      "3. Find the eigenvalues and eigenvectors of $A$. (2 points)\n",
      "\n",
      "4. What is the matrix representation of $f$ with respect to the eigenbasis? (4 points)"
     ]
    },
    {
     "cell_type": "code",
     "collapsed": false,
     "input": [
      "#1\n",
      "A = np.array([[10,2,1.0],[-10,-5,-4],[16,20,13]])\n",
      "\n",
      "e1 = np.array([[1,0,0]]).T\n",
      "e2 = np.array([[0,1,0]]).T\n",
      "e3 = np.array([[0,0,1]]).T\n",
      "\n",
      "print np.dot(A,e1)\n",
      "print np.dot(A,e2)\n",
      "print np.dot(A,e3)\n",
      "print 'so the matrix A that represents the same linear transformaton is'\n",
      "print A"
     ],
     "language": "python",
     "metadata": {},
     "outputs": [
      {
       "output_type": "stream",
       "stream": "stdout",
       "text": [
        "[[ 10.]\n",
        " [-10.]\n",
        " [ 16.]]\n",
        "[[  2.]\n",
        " [ -5.]\n",
        " [ 20.]]\n",
        "[[  1.]\n",
        " [ -4.]\n",
        " [ 13.]]\n",
        "so the matrix A that represents the same linear transformaton is\n",
        "[[ 10.   2.   1.]\n",
        " [-10.  -5.  -4.]\n",
        " [ 16.  20.  13.]]\n"
       ]
      }
     ],
     "prompt_number": 3
    },
    {
     "cell_type": "code",
     "collapsed": false,
     "input": [
      "#2 Compute the rank of A (use any method you like). (2 points)\n",
      "b= np.array([0,0,0]).T\n",
      "print 'after the row-echelo form, the number of independent columns are 3 , so the rank is 3'"
     ],
     "language": "python",
     "metadata": {},
     "outputs": [
      {
       "output_type": "stream",
       "stream": "stdout",
       "text": [
        "after the row-echelo form, the number of independent columns are 3 , so the rank is 3\n"
       ]
      }
     ],
     "prompt_number": 5
    },
    {
     "cell_type": "markdown",
     "metadata": {},
     "source": [
      "<font color='green', size = 4pt> Where are your computations? </font>"
     ]
    },
    {
     "cell_type": "code",
     "collapsed": false,
     "input": [
      "#3 Find the eigenvalues and eigenvectors of A. (2 points)\n",
      "e,v = la.eig(A)\n",
      "print 'eigenvectors',v\n",
      "print 'eigenvalues',e"
     ],
     "language": "python",
     "metadata": {},
     "outputs": [
      {
       "output_type": "stream",
       "stream": "stdout",
       "text": [
        "eigenvectors [[ -5.77350269e-01  -1.40040956e-16  -1.20385853e-01]\n",
        " [  5.77350269e-01   4.47213595e-01  -2.40771706e-01]\n",
        " [ -5.77350269e-01  -8.94427191e-01   9.63086825e-01]]\n",
        "eigenvalues [ 9.+0.j  3.+0.j  6.+0.j]\n"
       ]
      }
     ],
     "prompt_number": 6
    },
    {
     "cell_type": "code",
     "collapsed": false,
     "input": [
      "#4 What is the matrix representation of f with respect to the eigenbasis? (4 points)\n",
      "axb = la.inv(v).dot(A).dot(v)\n",
      "axb\n"
     ],
     "language": "python",
     "metadata": {},
     "outputs": [
      {
       "metadata": {},
       "output_type": "pyout",
       "prompt_number": 8,
       "text": [
        "array([[  9.00000000e+00,   2.66453526e-15,   0.00000000e+00],\n",
        "       [  3.99680289e-15,   3.00000000e+00,   7.10542736e-15],\n",
        "       [  5.32907052e-15,  -5.32907052e-15,   6.00000000e+00]])"
       ]
      }
     ],
     "prompt_number": 8
    },
    {
     "cell_type": "markdown",
     "metadata": {},
     "source": [
      "<font color='green', size = 4pt> The matrix for $f$ in the eigenbasis is diag(e).  -4 \n",
      "\n",
      "Adding 4 points back.  The matrix is diagonal - just rounding error.  \n",
      "\n",
      "</font>\n"
     ]
    },
    {
     "cell_type": "markdown",
     "metadata": {},
     "source": [
      "**Question 6 (10 points)**\n",
      "\n",
      "Given the the function $f(x) = \\frac{1}{2} x^TAx + b^Tx$ where\n",
      "\n",
      "\\begin{align}\n",
      "A = \\left(\\begin{matrix}13&5&-3\\\\5&11&7\\\\-3&7&20\\end{matrix}\\right) \n",
      ", \\ b = \\left(\\begin{matrix}1\\\\1\\\\1\\end{matrix}\\right),\n",
      "\\end{align}\n",
      "\n",
      "complete the following code to find the first 3 vector directions for a conjugate gradient *descent* algorithm.\n",
      "\n",
      "Hint: Recall from linear algebra that the projection of $v$ on $u$ is \n",
      "\n",
      "$$\n",
      "\\frac{v \\cdot u}{u \\cdot u}u\n",
      "$$\n",
      "and that $u$ is conjugate to $v$ with respect to $A$ if \n",
      "$$Av\\cdot u = 0$$\n",
      "\n",
      "Also, recall that the gradient at $x_k$ of the quadratic function $f$ is given by $Ax_k + b$ since\n",
      "\n",
      "\\begin{align}\n",
      "\\dfrac{\\partial (x^TAx)}{\\partial x} &= \\dfrac{\\partial (x^T)^T}{\\partial x}\\dfrac{\\partial (x^Ty)}{\\partial x} +  \\dfrac{\\partial y^T}{\\partial x} \\dfrac{\\partial (x^Ty)}{\\partial y}\n",
      "   & \\text{chain rule with $y=Ax$} \\\\\n",
      "&= y + \\dfrac{\\partial (x^TA^T)}{\\partial x} \\dfrac{\\partial (x^Ty)}{\\partial y} & \\text{using $\\dfrac{\\partial (x^Ty)}{\\partial x} = y$} \\\\\n",
      "&= y + A^T\\dfrac{\\partial (y^Tx)}{\\partial y} & \\text{using $x^Ty = y^Tx$} \\\\\n",
      "&= Ax + A^Tx \\\\\n",
      "&= (A+A^T)x \\\\\n",
      "&= 2Ax & \\text{if $A$ is symmetric}\n",
      "\\end{align}\n",
      "\n",
      "\n",
      "<p>\n",
      "<font color=red>There are two lines of code to complete: the correction term in the function next_p, and the initial value of p = p0 in the main body of code.</font></p>\n",
      "\n",
      "<p>\n",
      "<font color=red>We do not expect this algorithm to converge in $3$ steps, and it is very primitive compared to scipy's implementation.  Do not be alarmed if you try to match solutions and fail.</font></p>"
     ]
    },
    {
     "cell_type": "code",
     "collapsed": false,
     "input": [
      "def next_x (A,x,b,p):\n",
      "    return x + ((np.dot(p,-b))/(np.dot(p,A.dot(p))))*p # returns x_{k+1} given x_k, p_k, A and b"
     ],
     "language": "python",
     "metadata": {},
     "outputs": []
    },
    {
     "cell_type": "code",
     "collapsed": false,
     "input": [
      "def next_p(A,x,b,ps):\n",
      "    correction = np.zeros_like(x)\n",
      "    for i in range(len(ps)):\n",
      "        correction +=          # Fill in this line (7 points)\n",
      "    \n",
      "    return -b - A.dot(x) - correction \n",
      "                                       \n",
      "# Complete the indicated line above with the correction term so that this function returns \n",
      "# the gradient at x minus the correction term that makes the new p conjugate to all the others"
     ],
     "language": "python",
     "metadata": {},
     "outputs": []
    },
    {
     "cell_type": "code",
     "collapsed": false,
     "input": [
      "A = np.array([[13,5,-3],[5,11,7],[-3,7,20]])   # Value of matrix A\n",
      "b = np.array([1,1,1])                           # Value of b\n",
      "x0 = np.array([0,0,0])                          # Initial guess for xmin\n",
      "\n",
      "p0 =                   # fill in p0 (3 points)\n",
      "\n",
      "x = x0 # initializes x for the for loop \n",
      "p = p0 # initializes p for the for loop\n",
      "ps = []  # start list to store the conjugate vectors\n",
      "ps.append(p0) # store first vector\n",
      "\n",
      "for i in range(2):\n",
      "    x = next_x(A,x,b,p)   # gets x_{k+1}\n",
      "    p = next_p(A,x,b,ps)  # computes p_{k+1}\n",
      "    ps.append(p)          # stores p_{k+1} in list\n",
      "\n",
      "ps  # prints the list of three vectors"
     ],
     "language": "python",
     "metadata": {},
     "outputs": []
    },
    {
     "cell_type": "markdown",
     "metadata": {},
     "source": [
      "<font color='green', size = 4pt> -10 </font>"
     ]
    },
    {
     "cell_type": "markdown",
     "metadata": {},
     "source": [
      "- <font color='blue', size=4pt>Total deductions for Q1-Q3 = -17 </font>\n",
      "- <font color = 'green', size = 4pt> Total Deductions for Q4-Q6 = -13 </font>"
     ]
    },
    {
     "cell_type": "code",
     "collapsed": false,
     "input": [],
     "language": "python",
     "metadata": {},
     "outputs": []
    }
   ],
   "metadata": {}
  }
 ]
}