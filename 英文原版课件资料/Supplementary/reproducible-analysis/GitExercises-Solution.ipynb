{
 "metadata": {
  "name": "",
  "signature": "sha256:f7a06d39288d1940e34d414c0642fb2d15f8c619aa86d26d5f8f6dc02aeda64c"
 },
 "nbformat": 3,
 "nbformat_minor": 0,
 "worksheets": [
  {
   "cells": [
    {
     "cell_type": "markdown",
     "metadata": {},
     "source": [
      "Using Git and GitHub\n",
      "----\n",
      "\n",
      "This tutorial only covers the *bare* basics. When you are comfortable using Git in the basic way shown in this tutorial, there are plenty of online and dead tree resources for more advanced Git usage that you can learn from.\n",
      "\n",
      "### Basic concepts to understand\n",
      "\n",
      "- Version control\n",
      "- Git verus GitHub\n",
      "- Working directory, staging area and snapshort archive\n",
      "- Remotes and origin\n",
      "- Branches and master\n",
      "\n",
      "### Useful references and further reading:\n",
      "\n",
      "- [Basic Git commands](https://confluence.atlassian.com/display/STASH/Basic+Git+commands)\n",
      "- [Git cheatsheet](http://sweetme.at/2013/09/29/essential-git-commands-cheat-sheet/)\n",
      "- [A more advanced tutorial from the creator of IPython notebook](http://nbviewer.ipython.org/github/fperez/reprosw/blob/master/Version%20Control.ipynb)\n",
      "- [Git for scientists](http://nyuccl.org/pages/GitTutorial/)\n",
      "- [Pro Git book](https://progit.org/)"
     ]
    },
    {
     "cell_type": "markdown",
     "metadata": {},
     "source": [
      "**Exercise 1**. Create a reepository on GitHub called 'monster-cookies' and clone to your local drive."
     ]
    },
    {
     "cell_type": "code",
     "collapsed": false,
     "input": [
      "# First step is done in GitHub\n",
      "\n",
      "# Note - we want to do this exerise OUTSIDE of an exising Git repository.\n",
      "\n",
      "! git clone https://github.com/cliburn/monster-cookies-0.git monster-cookies"
     ],
     "language": "python",
     "metadata": {},
     "outputs": [
      {
       "output_type": "stream",
       "stream": "stdout",
       "text": [
        "Cloning into 'monster-cookies'...\r\n"
       ]
      },
      {
       "output_type": "stream",
       "stream": "stdout",
       "text": [
        "warning: You appear to have cloned an empty repository.\r\n",
        "Checking connectivity... done.\r\n"
       ]
      }
     ],
     "prompt_number": 1
    },
    {
     "cell_type": "markdown",
     "metadata": {},
     "source": [
      "**Exercise 1.1**. Set your username and email if necessary."
     ]
    },
    {
     "cell_type": "code",
     "collapsed": false,
     "input": [
      "# To set repository specific versions, just delete --global\n",
      "\n",
      "! git config --global user.name \"cllburn\"\n",
      "! git config --global user.email \"cliburn.chan@duke.edu\""
     ],
     "language": "python",
     "metadata": {},
     "outputs": [],
     "prompt_number": 11
    },
    {
     "cell_type": "markdown",
     "metadata": {},
     "source": [
      "**Exercise 2**. Add two files `phd_thesis.txt` and `jasa_manuscript.txt` with the contents `My very short thesis.` and `$\\pi = 3$ almost everywhere.` respectively to your local repository. How do you check the status of your local repository?"
     ]
    },
    {
     "cell_type": "code",
     "collapsed": false,
     "input": [
      "! cd monster-cookies"
     ],
     "language": "python",
     "metadata": {},
     "outputs": [],
     "prompt_number": 12
    },
    {
     "cell_type": "code",
     "collapsed": false,
     "input": [
      "%%file phd_thesis.txt\n",
      "My very short theis."
     ],
     "language": "python",
     "metadata": {},
     "outputs": [
      {
       "output_type": "stream",
       "stream": "stdout",
       "text": [
        "Overwriting phd_thesis.txt\n"
       ]
      }
     ],
     "prompt_number": 13
    },
    {
     "cell_type": "code",
     "collapsed": false,
     "input": [
      "%%file jasa_manuscript.txt\n",
      "$\\pi = 3$ almost everywhere."
     ],
     "language": "python",
     "metadata": {},
     "outputs": [
      {
       "output_type": "stream",
       "stream": "stdout",
       "text": [
        "Overwriting jasa_manuscript.txt\n"
       ]
      }
     ],
     "prompt_number": 14
    },
    {
     "cell_type": "code",
     "collapsed": false,
     "input": [
      "! git status"
     ],
     "language": "python",
     "metadata": {},
     "outputs": [
      {
       "output_type": "stream",
       "stream": "stdout",
       "text": [
        "On branch master\r\n",
        "Your branch is up-to-date with 'origin/master'.\r\n",
        "\r\n",
        "Changes not staged for commit:\r\n",
        "  (use \"git add <file>...\" to update what will be committed)\r\n",
        "  (use \"git checkout -- <file>...\" to discard changes in working directory)\r\n",
        "\r\n",
        "\t\u001b[31mmodified:   GitExercises.ipynb\u001b[m\r\n",
        "\r\n",
        "Untracked files:\r\n",
        "  (use \"git add <file>...\" to include in what will be committed)\r\n",
        "\r\n",
        "\t\u001b[31mGitExercises-Solution.ipynb\u001b[m\r\n",
        "\t\u001b[31mjasa_manuscript.txt\u001b[m\r\n",
        "\t\u001b[31mmarij-treg.ipynb\u001b[m\r\n",
        "\t\u001b[31mphd_thesis.txt\u001b[m\r\n",
        "\r\n",
        "no changes added to commit (use \"git add\" and/or \"git commit -a\")\r\n"
       ]
      }
     ],
     "prompt_number": 15
    },
    {
     "cell_type": "markdown",
     "metadata": {},
     "source": [
      "**Exercise 3**. Modify `phd_thesis.txt` by adding another line `This is a very good thesis`.\n",
      "\n",
      "- You decide that you don't want these changes but have not done `git add`. What do you do?\n",
      "- You decide that you don't want these changes but have just done `git add`. What do you do?\n",
      "- You decide that you don't want these changes but have just done `git commit`. What do you do?\n",
      "- You decide that you don't want these changes but have just done `git push`. What do you do?"
     ]
    },
    {
     "cell_type": "code",
     "collapsed": false,
     "input": [],
     "language": "python",
     "metadata": {},
     "outputs": [],
     "prompt_number": 0
    },
    {
     "cell_type": "markdown",
     "metadata": {},
     "source": [
      "**Exercise 4**: Modify \"jasa_mnauscript.txt\" by replacing the number 3 with 22/7. How do you find what is differnet from the working copy of the file and the current snapshot in the repository? Add, commit and push your changes."
     ]
    },
    {
     "cell_type": "code",
     "collapsed": false,
     "input": [],
     "language": "python",
     "metadata": {},
     "outputs": [],
     "prompt_number": 0
    },
    {
     "cell_type": "markdown",
     "metadata": {},
     "source": [
      "**Exercise 5**. You accidnetally type `rm phd_thesis.txt` and realize you haven't backed up your laptop in 3 years. What do you do?"
     ]
    },
    {
     "cell_type": "code",
     "collapsed": false,
     "input": [],
     "language": "python",
     "metadata": {},
     "outputs": [],
     "prompt_number": 0
    },
    {
     "cell_type": "markdown",
     "metadata": {},
     "source": [
      "**Exercise 6**. You accidentally deleted the `monster-cookies` folder on your hard drive with `rm -rf monster-cookies`. What do you do?"
     ]
    },
    {
     "cell_type": "code",
     "collapsed": false,
     "input": [],
     "language": "python",
     "metadata": {},
     "outputs": [],
     "prompt_number": 0
    },
    {
     "cell_type": "markdown",
     "metadata": {},
     "source": [
      "**Exercise 7**. Your laptop falls into the lake at Sarah P Duke gardens and is eaten by a turtle. What do you do?"
     ]
    },
    {
     "cell_type": "code",
     "collapsed": false,
     "input": [],
     "language": "python",
     "metadata": {},
     "outputs": [],
     "prompt_number": 0
    },
    {
     "cell_type": "markdown",
     "metadata": {},
     "source": [
      "**Exericse 8**. You realize that $\\pi = 3$ after all, and want to go back to the version before you made the 22/7 switch. What do you do?"
     ]
    },
    {
     "cell_type": "code",
     "collapsed": false,
     "input": [],
     "language": "python",
     "metadata": {},
     "outputs": [],
     "prompt_number": 0
    },
    {
     "cell_type": "markdown",
     "metadata": {},
     "source": [
      "**Exercise 9**. You want to show off your productivity to your thesis advisor. What do you do?"
     ]
    },
    {
     "cell_type": "code",
     "collapsed": false,
     "input": [],
     "language": "python",
     "metadata": {},
     "outputs": [],
     "prompt_number": 0
    },
    {
     "cell_type": "markdown",
     "metadata": {},
     "source": [
      "**Exercise 10**. You the follwoing Python scritpt `make_cookies.py` to `monster-cookies` and run it. \n",
      "```python\n",
      "for i in range(10):\n",
      "    open('f%02d.dat' % i, 'w').write('This contains intermediate results #%d' % i)\n",
      "```\n",
      "\n",
      "Now you have a `.py` file that you want to commit to GitHub and lots of `.dat` files that you don't want to commit but still wish to keep in the folder. What do you do?"
     ]
    },
    {
     "cell_type": "code",
     "collapsed": false,
     "input": [],
     "language": "python",
     "metadata": {},
     "outputs": [],
     "prompt_number": 0
    },
    {
     "cell_type": "markdown",
     "metadata": {},
     "source": [
      "**Exercise 11**. You modify `phd_thesis.txt` by replacing `very good` with `super awesome`. You modify `jasa_manuscript.txt` by replacing `3` with `3.14`. Add, commit and push each file so that each file has its own commit messsage (`making my thesis more awesomer` and `international pie day is March 14` respectively)."
     ]
    },
    {
     "cell_type": "code",
     "collapsed": false,
     "input": [],
     "language": "python",
     "metadata": {},
     "outputs": [],
     "prompt_number": 0
    },
    {
     "cell_type": "markdown",
     "metadata": {},
     "source": [
      "**Exercise 12**. You decide to collaborate on `jasa_manuscipt.txt` with your friend (choose the person on your left or right, depending on who you think is better looking). You want to grant wrtie permission to your friend so that he/she can make changes to your repository. What do you do?"
     ]
    },
    {
     "cell_type": "code",
     "collapsed": false,
     "input": [],
     "language": "python",
     "metadata": {},
     "outputs": [],
     "prompt_number": 0
    },
    {
     "cell_type": "markdown",
     "metadata": {},
     "source": [
      "**Exercise 13**. Your friend changes 3.14 to 2.718 in `jasa_manuscript.txt` and commits the changes to GitHub (add, commit, push). At the same time, you want to change $\\pi$ to $e$ so that the final version in GitHub reads $e = 2.718$. What do you do?"
     ]
    },
    {
     "cell_type": "code",
     "collapsed": false,
     "input": [],
     "language": "python",
     "metadata": {},
     "outputs": [],
     "prompt_number": 0
    },
    {
     "cell_type": "markdown",
     "metadata": {},
     "source": [
      "**Exercise 14**. You are flying back to RDU on a 34 hour plane trip with no internet access when you have a brilliant idea taht you want to record. You pull out your laptop, create a new repository called `my-first-original-thought`, write down your thoughts in `brillaint.txt`, then add and commit it to your lcoal repository. When you arrive, you put your local repository on GitHub so taht it can be archived and shared. How did you do this?"
     ]
    },
    {
     "cell_type": "code",
     "collapsed": false,
     "input": [],
     "language": "python",
     "metadata": {},
     "outputs": [],
     "prompt_number": 0
    },
    {
     "cell_type": "markdown",
     "metadata": {},
     "source": [
      "**Exericse 15**.Your JASA manuscript is accepted after all 3 reviewers acclaim its brilliance with commeents like \"I never relaized the most common character in the English language had a numeric value!\". You want to tag the current (accepted) version of the manuscript as 1.0 with the annotation \"Version accepted by JASA\". What do you do?"
     ]
    },
    {
     "cell_type": "code",
     "collapsed": false,
     "input": [],
     "language": "python",
     "metadata": {},
     "outputs": [],
     "prompt_number": 0
    },
    {
     "cell_type": "markdown",
     "metadata": {},
     "source": [
      "Branching and merging (optional)\n",
      "----"
     ]
    },
    {
     "cell_type": "markdown",
     "metadata": {},
     "source": [
      "**Exercise 16**. You decide to add some new experiemnetal code to `make-cookies.py` that you are not sure will work. In order to presrve the strucutre of the existing reposiotry, you decide to use *branching* in Git. Create a new branch called `hack-01` and swtich to that branch."
     ]
    },
    {
     "cell_type": "code",
     "collapsed": false,
     "input": [],
     "language": "python",
     "metadata": {},
     "outputs": []
    },
    {
     "cell_type": "markdown",
     "metadata": {},
     "source": [
      "**Exercise 17**. Modify `make_cookies.py` in the `hack-01` branch so that the new code reads as follows:\n",
      "\n",
      "```python\n",
      "if __name__ == '__main__':\n",
      "    for i in range(10):\n",
      "        open('f%02d.dat' % i, 'w').write('This contains intermediate results #%d' % i)\n",
      "```\n",
      "\n",
      "Add and commit the changes."
     ]
    },
    {
     "cell_type": "code",
     "collapsed": false,
     "input": [],
     "language": "python",
     "metadata": {},
     "outputs": []
    },
    {
     "cell_type": "markdown",
     "metadata": {},
     "source": [
      "**Exercise 18**. At the same time, you decide to add new results to `phd_thesis.txt` in the master branch. Switch back to the master branch and Append the following line to your thesis `This thesis is now complete.`. Add, commit and push the changes."
     ]
    },
    {
     "cell_type": "code",
     "collapsed": false,
     "input": [],
     "language": "python",
     "metadata": {},
     "outputs": []
    },
    {
     "cell_type": "markdown",
     "metadata": {},
     "source": [
      "**Exercise 19**. You are happy with your changes in `hok-01` and want them to be incorporated into the main (master) brachn. Merge the `hack-01` branch with the master branch. Check that the changes have been incorporated, then push to GitHub."
     ]
    },
    {
     "cell_type": "code",
     "collapsed": false,
     "input": [],
     "language": "python",
     "metadata": {},
     "outputs": []
    },
    {
     "cell_type": "markdown",
     "metadata": {},
     "source": [
      "**Exercise 20**. Now that the changes have been merged, `hook-01` is no longer needed. Delete the `hook-01` branch."
     ]
    },
    {
     "cell_type": "code",
     "collapsed": false,
     "input": [],
     "language": "python",
     "metadata": {},
     "outputs": []
    }
   ],
   "metadata": {}
  }
 ]
}