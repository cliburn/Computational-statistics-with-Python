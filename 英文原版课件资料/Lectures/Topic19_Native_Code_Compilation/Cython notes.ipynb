{
 "cells": [
  {
   "cell_type": "code",
   "execution_count": 1,
   "metadata": {
    "collapsed": false
   },
   "outputs": [],
   "source": [
    "%matplotlib inline\n",
    "import matplotlib.pyplot as plt\n",
    "import numpy as np"
   ]
  },
  {
   "cell_type": "code",
   "execution_count": 2,
   "metadata": {
    "collapsed": false
   },
   "outputs": [],
   "source": [
    "%load_ext Cython"
   ]
  },
  {
   "cell_type": "markdown",
   "metadata": {},
   "source": [
    "### Using Cython definition files"
   ]
  },
  {
   "cell_type": "code",
   "execution_count": 3,
   "metadata": {
    "collapsed": false
   },
   "outputs": [
    {
     "name": "stdout",
     "output_type": "stream",
     "text": [
      "Writing mathlib.pxd\n"
     ]
    }
   ],
   "source": [
    "%%file mathlib.pxd\n",
    "cdef int max(int a, int b)\n",
    "cdef int min(int a, int b)"
   ]
  },
  {
   "cell_type": "code",
   "execution_count": 4,
   "metadata": {
    "collapsed": false
   },
   "outputs": [
    {
     "name": "stdout",
     "output_type": "stream",
     "text": [
      "Writing mathlib.pyx\n"
     ]
    }
   ],
   "source": [
    "%%file mathlib.pyx\n",
    "cdef int max(int a, int b): \n",
    "    return a if a > b else b \n",
    "\n",
    "cdef int min(int a, int b): \n",
    "    return a if a < b else b"
   ]
  },
  {
   "cell_type": "code",
   "execution_count": 5,
   "metadata": {
    "collapsed": false
   },
   "outputs": [
    {
     "name": "stdout",
     "output_type": "stream",
     "text": [
      "Writing setup.py\n"
     ]
    }
   ],
   "source": [
    "%%file setup.py\n",
    "from distutils.core import setup \n",
    "from Cython.Build import cythonize \n",
    "\n",
    "setup(name =' Hello', \n",
    "      ext_modules = cythonize('mathlib.pyx'))"
   ]
  },
  {
   "cell_type": "code",
   "execution_count": 6,
   "metadata": {
    "collapsed": false
   },
   "outputs": [
    {
     "name": "stdout",
     "output_type": "stream",
     "text": [
      "Compiling mathlib.pyx because it changed.\n",
      "Cythonizing mathlib.pyx\n",
      "\u001b[1mmathlib.c:1281:28: \u001b[0m\u001b[0;1;35mwarning: \u001b[0m\u001b[1munused function '__Pyx_PyObject_AsString'\n",
      "      [-Wunused-function]\u001b[0m\n",
      "static CYTHON_INLINE char* __Pyx_PyObject_AsString(PyObject* o) {\n",
      "\u001b[0;1;32m                           ^\n",
      "\u001b[0m\u001b[1mmathlib.c:1278:32: \u001b[0m\u001b[0;1;35mwarning: \u001b[0m\u001b[1munused function '__Pyx_PyUnicode_FromString'\n",
      "      [-Wunused-function]\u001b[0m\n",
      "static CYTHON_INLINE PyObject* __Pyx_PyUnicode_FromString(const char* c_str) {\n",
      "\u001b[0;1;32m                               ^\n",
      "\u001b[0m\u001b[1mmathlib.c:314:29: \u001b[0m\u001b[0;1;35mwarning: \u001b[0m\u001b[1munused function '__Pyx_Py_UNICODE_strlen'\n",
      "      [-Wunused-function]\u001b[0m\n",
      "static CYTHON_INLINE size_t __Pyx_Py_UNICODE_strlen(const Py_UNICODE *u)\n",
      "\u001b[0;1;32m                            ^\n",
      "\u001b[0m\u001b[1mmathlib.c:1343:26: \u001b[0m\u001b[0;1;35mwarning: \u001b[0m\u001b[1munused function '__Pyx_PyObject_IsTrue'\n",
      "      [-Wunused-function]\u001b[0m\n",
      "static CYTHON_INLINE int __Pyx_PyObject_IsTrue(PyObject* x) {\n",
      "\u001b[0;1;32m                         ^\n",
      "\u001b[0m\u001b[1mmathlib.c:1393:33: \u001b[0m\u001b[0;1;35mwarning: \u001b[0m\u001b[1munused function '__Pyx_PyIndex_AsSsize_t'\n",
      "      [-Wunused-function]\u001b[0m\n",
      "static CYTHON_INLINE Py_ssize_t __Pyx_PyIndex_AsSsize_t(PyObject* b) {\n",
      "\u001b[0;1;32m                                ^\n",
      "\u001b[0m\u001b[1mmathlib.c:1418:33: \u001b[0m\u001b[0;1;35mwarning: \u001b[0m\u001b[1munused function '__Pyx_PyInt_FromSize_t'\n",
      "      [-Wunused-function]\u001b[0m\n",
      "static CYTHON_INLINE PyObject * __Pyx_PyInt_FromSize_t(size_t ival) {\n",
      "\u001b[0;1;32m                                ^\n",
      "\u001b[0m\u001b[1mmathlib.c:960:32: \u001b[0m\u001b[0;1;35mwarning: \u001b[0m\u001b[1munused function '__Pyx_PyInt_From_long'\n",
      "      [-Wunused-function]\u001b[0m\n",
      "static CYTHON_INLINE PyObject* __Pyx_PyInt_From_long(long value) {\n",
      "\u001b[0;1;32m                               ^\n",
      "\u001b[0m\u001b[1mmathlib.c:1007:27: \u001b[0m\u001b[0;1;35mwarning: \u001b[0m\u001b[1mfunction '__Pyx_PyInt_As_long' is not needed and\n",
      "      will not be emitted [-Wunneeded-internal-declaration]\u001b[0m\n",
      "static CYTHON_INLINE long __Pyx_PyInt_As_long(PyObject *x) {\n",
      "\u001b[0;1;32m                          ^\n",
      "\u001b[0m\u001b[1mmathlib.c:1102:26: \u001b[0m\u001b[0;1;35mwarning: \u001b[0m\u001b[1mfunction '__Pyx_PyInt_As_int' is not needed and will\n",
      "      not be emitted [-Wunneeded-internal-declaration]\u001b[0m\n",
      "static CYTHON_INLINE int __Pyx_PyInt_As_int(PyObject *x) {\n",
      "\u001b[0;1;32m                         ^\n",
      "\u001b[0m9 warnings generated.\n"
     ]
    }
   ],
   "source": [
    "! python setup.py -q build_ext --inplace"
   ]
  },
  {
   "cell_type": "code",
   "execution_count": 7,
   "metadata": {
    "collapsed": false
   },
   "outputs": [
    {
     "name": "stdout",
     "output_type": "stream",
     "text": [
      "2\n"
     ]
    }
   ],
   "source": [
    "%%cython\n",
    "from mathlib cimport max\n",
    "\n",
    "def chebyshev(int x1, int y1, int x2, int y2): \n",
    "    return max(abs( x1 - x2), abs( y1 - y2))\n",
    "\n",
    "print(chebyshev(1,2,3,4))"
   ]
  },
  {
   "cell_type": "markdown",
   "metadata": {},
   "source": [
    "### Using Rmathlib standalone C libraries"
   ]
  },
  {
   "cell_type": "code",
   "execution_count": 12,
   "metadata": {
    "collapsed": false
   },
   "outputs": [
    {
     "name": "stdout",
     "output_type": "stream",
     "text": [
      "Overwriting rmath.pyx\n"
     ]
    }
   ],
   "source": [
    "%%file rmath.pyx\n",
    "#cython: boundscheck=False\n",
    "#cython: wraparound=False\n",
    "cimport cython_rmath as r\n",
    "import numpy as np\n",
    "cimport numpy as np\n",
    "\n",
    "cpdef rnorm(int n, double mu=0.0, double sigma=1.0):\n",
    "    cdef int i\n",
    "    cdef double[:] xs = np.zeros(n)\n",
    "    for i in range(n):\n",
    "        xs[i] = r.rnorm(mu, sigma)\n",
    "    return np.array(xs)"
   ]
  },
  {
   "cell_type": "code",
   "execution_count": 13,
   "metadata": {
    "collapsed": false
   },
   "outputs": [
    {
     "name": "stdout",
     "output_type": "stream",
     "text": [
      "Overwriting setup.py\n"
     ]
    }
   ],
   "source": [
    "%%file setup.py\n",
    "from distutils.core import setup\n",
    "from Cython.Distutils import Extension\n",
    "from Cython.Distutils import build_ext\n",
    "import cython_rmath\n",
    "\n",
    "ext = Extension(\"rmath\",\n",
    "                [\"rmath.pyx\"],\n",
    "                define_macros=[('MATHLIB_STANDALONE', '1')],\n",
    "                include_dirs = ['.', '/Users/cliburn/anaconda/lib/python2.7/site-packages/Cython/Includes',\n",
    "                                '/Users/cliburn/anaconda/lib/python2.7/site-packages/numpy/core/include'],\n",
    "                library_dirs = ['.'],\n",
    "                libraries = ['Rmath', 'm',]\n",
    "               )\n",
    "\n",
    "setup(cmdclass = {'build_ext': build_ext}, \n",
    "                  ext_modules = [ext])"
   ]
  },
  {
   "cell_type": "code",
   "execution_count": 2,
   "metadata": {
    "collapsed": false
   },
   "outputs": [],
   "source": [
    "! python setup.py --quiet build_ext --inplace"
   ]
  },
  {
   "cell_type": "code",
   "execution_count": 3,
   "metadata": {
    "collapsed": false
   },
   "outputs": [
    {
     "data": {
      "text/plain": [
       "array([ 0.26394576,  1.6319731 ,  2.83101399, -0.17998554, -0.7914555 ,\n",
       "       -1.09934755, -0.55847989,  0.32487065, -0.30605849,  0.72439862])"
      ]
     },
     "execution_count": 3,
     "metadata": {},
     "output_type": "execute_result"
    }
   ],
   "source": [
    "import rmath\n",
    "\n",
    "rmath.rnorm(10)"
   ]
  },
  {
   "cell_type": "code",
   "execution_count": null,
   "metadata": {
    "collapsed": false
   },
   "outputs": [],
   "source": []
  }
 ],
 "metadata": {
  "kernelspec": {
   "display_name": "Python 2",
   "language": "python",
   "name": "python2"
  },
  "language_info": {
   "codemirror_mode": {
    "name": "ipython",
    "version": 2
   },
   "file_extension": ".py",
   "mimetype": "text/x-python",
   "name": "python",
   "nbconvert_exporter": "python",
   "pygments_lexer": "ipython2",
   "version": "2.7.9"
  }
 },
 "nbformat": 4,
 "nbformat_minor": 0
}
