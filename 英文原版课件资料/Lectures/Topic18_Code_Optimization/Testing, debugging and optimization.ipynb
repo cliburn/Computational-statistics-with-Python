{
 "metadata": {
  "name": "",
  "signature": "sha256:d8e4dc1f706ad781169049cdd2ef25fda23d9039392f6b789d4337273558ac14"
 },
 "nbformat": 3,
 "nbformat_minor": 0,
 "worksheets": [
  {
   "cells": [
    {
     "cell_type": "markdown",
     "metadata": {},
     "source": [
      "Testing, debugging and optimization\n",
      "===="
     ]
    },
    {
     "cell_type": "code",
     "collapsed": false,
     "input": [
      "%matplotlib inline\n",
      "import numpy as np\n",
      "import matplotlib.pyplot as plt"
     ],
     "language": "python",
     "metadata": {},
     "outputs": []
    },
    {
     "cell_type": "markdown",
     "metadata": {},
     "source": [
      "Defensive programming\n",
      "----\n",
      "\n",
      "There is a sequence of mini-gaols that is applicable to nearly every programming problem:\n",
      "\n",
      "1. Make it run\n",
      "2. Make it right\n",
      "3. Make it fast\n",
      "\n",
      "Testing, debuggiing and optimization are a set of strategies and practices to achieve those goals."
     ]
    },
    {
     "cell_type": "markdown",
     "metadata": {},
     "source": [
      "Testing\n",
      "----\n",
      "\n",
      "Most reasonable people would agree that testing that your code gives the correct answer is a good thing. However, it may be hard to know where or how to start if your code was not designed for *testability*. In general, testable code consists of classes or functions that have a well-defined *single* role, such that the output is predictable from the input. Of course, the definition of predictable outputs are less well-defined when the function involves random variables; we will deal with this later. Given such well-defined functions, we use *unit tests* to ensure that they behave as predicted. A useful strategy to develop such testable functions is to start with *top-down* program design to identify testable functions, then use *test-driven developemnt* to code the functions and test at the same tiem. \n",
      "\n",
      "Apart from the benefit of letting you sleep at night with a clear conscience, having a sutie of tests for your code library is also an excellent way of doucmenting how to call the funcitons that you have written. Anecdotally, the time spent wriing tests saves many hours of debugging later on, and as the code base grows, this trade-off in time becomes even more tilted in favor of testing. Also, the process of test-driven development is rewarding because it provides a sequence of mini-objectives that provides feedback on how the coding is progressing. Yet antoher advantage is that testable code is more readable, because functions are small and have a single responsibility. \n",
      "\n",
      "On the subject of readability, do read and follow the coding standards suggested in [PEP 8](link). In particular, classes and functions should always have a `doc-string` to describe what their role, inputs and outputs are. Remeber that a good library is written once but read many times. Do not go overboard with comments - I think you should be sparing in the use of comments outside of class and function doc-strings. Instead, use meaningful variable and function names where approrpiate to make code self-documenting. For example, instead of having functions f(), g() and h(), give names that indicate their role, for example, div(), grad() and curl(). Use common sense - f(), g() and h() can be appropirate if you are using them for \"dispolable\" functions to illustrate (say) function composition."
     ]
    },
    {
     "cell_type": "markdown",
     "metadata": {},
     "source": [
      "### Top-down design\n",
      "\n",
      "To identify a set of testable functions, the practice of top-down design using \"magic functions\" origianlly described by Kent Beck is useful. The practice is an illustration of the *divide-and-conquer* strategy that we will encounter again and again later in this course. Suppose you have to write a function to solve a problem - if you had access to a magic library of fucntions that could solve any problem (exlcuding this one!) - can you assemble a set of smaller functions that will do the job? Now, repeat the same process for the individual (smaller) magic functions until you come to one which seems simple enough for you to code. At that poitn, we switch to test-driven development to code the (very small) function.\n",
      "\n",
      "One caveat is that some hard thinking is always useful before embarking on a programming spree. For example, your very first thought might be that you could use a neural network to solve a classification problem. Before you spend too much time decompsing a neural network - consider if a different approach could be better - e.g. a graph or network algorithm. Also, don't reinvent the wheel - if there is good quality (i.e. tested, readable and maintained) code available that will do the job, you should seriously consider using it. At the other extreme, using Google to copy and paste pieces of poorly understood code of unknown quality to sovle a problem is not ecnouraged - this will almost surely bite you in the long run.  "
     ]
    },
    {
     "cell_type": "markdown",
     "metadata": {},
     "source": [
      "### Test-driven development"
     ]
    },
    {
     "cell_type": "code",
     "collapsed": false,
     "input": [],
     "language": "python",
     "metadata": {},
     "outputs": []
    },
    {
     "cell_type": "markdown",
     "metadata": {},
     "source": [
      "Debugging\n",
      "----"
     ]
    },
    {
     "cell_type": "code",
     "collapsed": false,
     "input": [],
     "language": "python",
     "metadata": {},
     "outputs": []
    },
    {
     "cell_type": "markdown",
     "metadata": {},
     "source": [
      "Optimization\n",
      "----"
     ]
    },
    {
     "cell_type": "code",
     "collapsed": false,
     "input": [
      "timeit?"
     ],
     "language": "python",
     "metadata": {},
     "outputs": [],
     "prompt_number": 12
    },
    {
     "cell_type": "code",
     "collapsed": false,
     "input": [],
     "language": "python",
     "metadata": {},
     "outputs": []
    }
   ],
   "metadata": {}
  }
 ]
}