{
 "metadata": {
  "name": "",
  "signature": "sha256:6aec3b3931db40940cb89b7f1d48ffcf1eea71ed625997f93c7193c1718fadad"
 },
 "nbformat": 3,
 "nbformat_minor": 0,
 "worksheets": [
  {
   "cells": [
    {
     "cell_type": "code",
     "collapsed": false,
     "input": [
      "import os\n",
      "import sys\n",
      "import glob\n",
      "import matplotlib.pyplot as plt\n",
      "import numpy as np\n",
      "import pandas as pd\n",
      "%matplotlib inline\n",
      "%precision 4\n",
      "plt.style.use('ggplot')\n",
      "\n",
      "import statsmodels.api as sm\n",
      "import scipy.optimize as opt"
     ],
     "language": "python",
     "metadata": {},
     "outputs": [],
     "prompt_number": 130
    },
    {
     "cell_type": "markdown",
     "metadata": {},
     "source": [
      "Logistic regression as optimization\n",
      "----\n",
      "\n",
      "Suppose we have a binary outcome measure $Y \\in {0,1}$ that is conditinal on some input variable (vector) $x \\in (-\\infty, +\\infty)$. Let the conditioanl probability be $p(x) = P(Y=y | X=x)$. Given some data, one simple probability model is $p(x) = \\beta_0 + x\\cdot\\beta$ - i.e. linear regression. This doesn't really work for the obvious reason that $p(x)$ must be between 0 and 1 as $x$ ranges across the real line. One simple way to fix this is to use the transformation $g(x) = \\frac{p(x)}{1 - p(x)} = \\beta_0 + x.\\beta$. Solving for $p$, we get\n",
      "$$\n",
      "p(x) = \\frac{1}{1 + e^{-(\\beta_0 + x\\cdot\\beta)}}\n",
      "$$\n",
      "As you all know very well, this is logistic regression.\n",
      "\n",
      "Suppose we have $n$ data points $(x_i, y_i)$ where $x_i$ is a vector of features and $y_i$ is an observed class (0 or 1). According to the logistic model, the probability of the observed class is $p(x_i)$ if $y_i = 1$ and $1-p(x_i)$ if $y_i = 0$. So the likelihood is\n",
      "$$\n",
      "L(\\beta_0, \\beta) = \\prod_{i=1}^n p(x_i)^y(1-p(x_i))^{1-y}\n",
      "$$\n",
      "and the log-likelihood is \n",
      "\\begin{align}\n",
      "l(\\beta_0, \\beta) &= \\sum_{i=1}^{n} y_i \\log{p(x_i)} + (1-y_i)\\log{1-p(x_i)} \\\\\n",
      "&= \\sum_{i=1}^{n} \\log{1-p(x_i)} + \\sum_{i=1}^{n} y_i \\log{\\frac{p(x_i)}{1-p(x_i)}} \\\\\n",
      "&= \\sum_{i=1}^{n} -\\log 1 + e^{\\beta_0 + x_i\\cdot\\beta} + \\sum_{i=1}^{n} y_i(\\beta_0 + x_i\\cdot\\beta)\n",
      "\\end{align}\n",
      "\n",
      "Using the standard 'trick', if we augment the matrix $X$ with a column of 1s, we can write $\\beta_0 + x_i\\cdot\\beta$ as just $X\\beta$."
     ]
    },
    {
     "cell_type": "markdown",
     "metadata": {},
     "source": [
      "### Home-brew logistic regression using a generic minimization function"
     ]
    },
    {
     "cell_type": "code",
     "collapsed": false,
     "input": [
      "def f(beta, y, x):\n",
      "    \"\"\"Minus log likelihood function for logistic regression.\"\"\"\n",
      "    return -((-np.log(1 + np.exp(np.dot(x, beta)))).sum() + (y*(np.dot(x, beta))).sum())"
     ],
     "language": "python",
     "metadata": {},
     "outputs": [],
     "prompt_number": 131
    },
    {
     "cell_type": "code",
     "collapsed": false,
     "input": [
      "df_ = pd.read_csv(\"http://www.ats.ucla.edu/stat/data/binary.csv\")"
     ],
     "language": "python",
     "metadata": {},
     "outputs": [],
     "prompt_number": 132
    },
    {
     "cell_type": "code",
     "collapsed": false,
     "input": [
      "df_.head()"
     ],
     "language": "python",
     "metadata": {},
     "outputs": [
      {
       "html": [
        "<div style=\"max-height:1000px;max-width:1500px;overflow:auto;\">\n",
        "<table border=\"1\" class=\"dataframe\">\n",
        "  <thead>\n",
        "    <tr style=\"text-align: right;\">\n",
        "      <th></th>\n",
        "      <th>admit</th>\n",
        "      <th>gre</th>\n",
        "      <th>gpa</th>\n",
        "      <th>rank</th>\n",
        "    </tr>\n",
        "  </thead>\n",
        "  <tbody>\n",
        "    <tr>\n",
        "      <th>0</th>\n",
        "      <td> 0</td>\n",
        "      <td> 380</td>\n",
        "      <td> 3.61</td>\n",
        "      <td> 3</td>\n",
        "    </tr>\n",
        "    <tr>\n",
        "      <th>1</th>\n",
        "      <td> 1</td>\n",
        "      <td> 660</td>\n",
        "      <td> 3.67</td>\n",
        "      <td> 3</td>\n",
        "    </tr>\n",
        "    <tr>\n",
        "      <th>2</th>\n",
        "      <td> 1</td>\n",
        "      <td> 800</td>\n",
        "      <td> 4.00</td>\n",
        "      <td> 1</td>\n",
        "    </tr>\n",
        "    <tr>\n",
        "      <th>3</th>\n",
        "      <td> 1</td>\n",
        "      <td> 640</td>\n",
        "      <td> 3.19</td>\n",
        "      <td> 4</td>\n",
        "    </tr>\n",
        "    <tr>\n",
        "      <th>4</th>\n",
        "      <td> 0</td>\n",
        "      <td> 520</td>\n",
        "      <td> 2.93</td>\n",
        "      <td> 4</td>\n",
        "    </tr>\n",
        "  </tbody>\n",
        "</table>\n",
        "</div>"
       ],
       "metadata": {},
       "output_type": "pyout",
       "prompt_number": 133,
       "text": [
        "   admit  gre   gpa  rank\n",
        "0      0  380  3.61     3\n",
        "1      1  660  3.67     3\n",
        "2      1  800  4.00     1\n",
        "3      1  640  3.19     4\n",
        "4      0  520  2.93     4"
       ]
      }
     ],
     "prompt_number": 133
    },
    {
     "cell_type": "code",
     "collapsed": false,
     "input": [
      "# We will ignore the rank categorical value\n",
      "\n",
      "cols_to_keep = ['admit', 'gre', 'gpa']\n",
      "df = df_[cols_to_keep]\n",
      "df.insert(1, 'dummy', 1)\n",
      "df.head()"
     ],
     "language": "python",
     "metadata": {},
     "outputs": [
      {
       "html": [
        "<div style=\"max-height:1000px;max-width:1500px;overflow:auto;\">\n",
        "<table border=\"1\" class=\"dataframe\">\n",
        "  <thead>\n",
        "    <tr style=\"text-align: right;\">\n",
        "      <th></th>\n",
        "      <th>admit</th>\n",
        "      <th>dummy</th>\n",
        "      <th>gre</th>\n",
        "      <th>gpa</th>\n",
        "    </tr>\n",
        "  </thead>\n",
        "  <tbody>\n",
        "    <tr>\n",
        "      <th>0</th>\n",
        "      <td> 0</td>\n",
        "      <td> 1</td>\n",
        "      <td> 380</td>\n",
        "      <td> 3.61</td>\n",
        "    </tr>\n",
        "    <tr>\n",
        "      <th>1</th>\n",
        "      <td> 1</td>\n",
        "      <td> 1</td>\n",
        "      <td> 660</td>\n",
        "      <td> 3.67</td>\n",
        "    </tr>\n",
        "    <tr>\n",
        "      <th>2</th>\n",
        "      <td> 1</td>\n",
        "      <td> 1</td>\n",
        "      <td> 800</td>\n",
        "      <td> 4.00</td>\n",
        "    </tr>\n",
        "    <tr>\n",
        "      <th>3</th>\n",
        "      <td> 1</td>\n",
        "      <td> 1</td>\n",
        "      <td> 640</td>\n",
        "      <td> 3.19</td>\n",
        "    </tr>\n",
        "    <tr>\n",
        "      <th>4</th>\n",
        "      <td> 0</td>\n",
        "      <td> 1</td>\n",
        "      <td> 520</td>\n",
        "      <td> 2.93</td>\n",
        "    </tr>\n",
        "  </tbody>\n",
        "</table>\n",
        "</div>"
       ],
       "metadata": {},
       "output_type": "pyout",
       "prompt_number": 134,
       "text": [
        "   admit  dummy  gre   gpa\n",
        "0      0      1  380  3.61\n",
        "1      1      1  660  3.67\n",
        "2      1      1  800  4.00\n",
        "3      1      1  640  3.19\n",
        "4      0      1  520  2.93"
       ]
      }
     ],
     "prompt_number": 134
    },
    {
     "cell_type": "code",
     "collapsed": false,
     "input": [
      "beta0 = np.zeros(3)\n",
      "opt.minimize(f, beta0, args=(df['admit'], df.ix[:, 'dummy':]), method='BFGS', options={'gtol':1e-2})"
     ],
     "language": "python",
     "metadata": {},
     "outputs": [
      {
       "metadata": {},
       "output_type": "pyout",
       "prompt_number": 135,
       "text": [
        "   status: 0\n",
        "  success: True\n",
        "     njev: 16\n",
        "     nfev: 80\n",
        " hess_inv: array([[  1.1528e+00,  -2.7820e-04,  -2.8166e-01],\n",
        "       [ -2.7820e-04,   1.1664e-06,  -1.2187e-04],\n",
        "       [ -2.8166e-01,  -1.2187e-04,   1.0260e-01]])\n",
        "      fun: 240.17199089488702\n",
        "        x: array([ -4.9493e+00,   2.6903e-03,   7.5473e-01])\n",
        "  message: 'Optimization terminated successfully.'\n",
        "      jac: array([  8.7738e-05,  -3.0098e-03,   4.5776e-04])"
       ]
      }
     ],
     "prompt_number": 135
    },
    {
     "cell_type": "markdown",
     "metadata": {},
     "source": [
      "### Solving as a GLM with IRLS"
     ]
    },
    {
     "cell_type": "code",
     "collapsed": false,
     "input": [
      "model = sm.GLM.from_formula('admit ~ gre + gpa', \n",
      "                            data=df, family=sm.families.Binomial())\n",
      "fit = model.fit()\n",
      "fit.summary()"
     ],
     "language": "python",
     "metadata": {},
     "outputs": [
      {
       "html": [
        "<table class=\"simpletable\">\n",
        "<caption>Generalized Linear Model Regression Results</caption>\n",
        "<tr>\n",
        "  <th>Dep. Variable:</th>        <td>admit</td>      <th>  No. Observations:  </th>  <td>   400</td> \n",
        "</tr>\n",
        "<tr>\n",
        "  <th>Model:</th>                 <td>GLM</td>       <th>  Df Residuals:      </th>  <td>   397</td> \n",
        "</tr>\n",
        "<tr>\n",
        "  <th>Model Family:</th>       <td>Binomial</td>     <th>  Df Model:          </th>  <td>     2</td> \n",
        "</tr>\n",
        "<tr>\n",
        "  <th>Link Function:</th>        <td>logit</td>      <th>  Scale:             </th>    <td>1.0</td>  \n",
        "</tr>\n",
        "<tr>\n",
        "  <th>Method:</th>               <td>IRLS</td>       <th>  Log-Likelihood:    </th> <td> -240.17</td>\n",
        "</tr>\n",
        "<tr>\n",
        "  <th>Date:</th>           <td>Wed, 11 Feb 2015</td> <th>  Deviance:          </th> <td>  480.34</td>\n",
        "</tr>\n",
        "<tr>\n",
        "  <th>Time:</th>               <td>09:47:15</td>     <th>  Pearson chi2:      </th>  <td>  398.</td> \n",
        "</tr>\n",
        "<tr>\n",
        "  <th>No. Iterations:</th>         <td>5</td>        <th>                     </th>     <td> </td>   \n",
        "</tr>\n",
        "</table>\n",
        "<table class=\"simpletable\">\n",
        "<tr>\n",
        "      <td></td>         <th>coef</th>     <th>std err</th>      <th>t</th>      <th>P>|t|</th> <th>[95.0% Conf. Int.]</th> \n",
        "</tr>\n",
        "<tr>\n",
        "  <th>Intercept</th> <td>   -4.9494</td> <td>    1.075</td> <td>   -4.604</td> <td> 0.000</td> <td>   -7.057    -2.842</td>\n",
        "</tr>\n",
        "<tr>\n",
        "  <th>gre</th>       <td>    0.0027</td> <td>    0.001</td> <td>    2.544</td> <td> 0.011</td> <td>    0.001     0.005</td>\n",
        "</tr>\n",
        "<tr>\n",
        "  <th>gpa</th>       <td>    0.7547</td> <td>    0.320</td> <td>    2.361</td> <td> 0.018</td> <td>    0.128     1.381</td>\n",
        "</tr>\n",
        "</table>"
       ],
       "metadata": {},
       "output_type": "pyout",
       "prompt_number": 157,
       "text": [
        "<class 'statsmodels.iolib.summary.Summary'>\n",
        "\"\"\"\n",
        "                 Generalized Linear Model Regression Results                  \n",
        "==============================================================================\n",
        "Dep. Variable:                  admit   No. Observations:                  400\n",
        "Model:                            GLM   Df Residuals:                      397\n",
        "Model Family:                Binomial   Df Model:                            2\n",
        "Link Function:                  logit   Scale:                             1.0\n",
        "Method:                          IRLS   Log-Likelihood:                -240.17\n",
        "Date:                Wed, 11 Feb 2015   Deviance:                       480.34\n",
        "Time:                        09:47:15   Pearson chi2:                     398.\n",
        "No. Iterations:                     5                                         \n",
        "==============================================================================\n",
        "                 coef    std err          t      P>|t|      [95.0% Conf. Int.]\n",
        "------------------------------------------------------------------------------\n",
        "Intercept     -4.9494      1.075     -4.604      0.000        -7.057    -2.842\n",
        "gre            0.0027      0.001      2.544      0.011         0.001     0.005\n",
        "gpa            0.7547      0.320      2.361      0.018         0.128     1.381\n",
        "==============================================================================\n",
        "\"\"\""
       ]
      }
     ],
     "prompt_number": 157
    },
    {
     "cell_type": "markdown",
     "metadata": {},
     "source": [
      "### Solving as logistic model with bfgs\n",
      "\n",
      "This knows about higher order derivatives, so will be more accurate than homebrew version."
     ]
    },
    {
     "cell_type": "code",
     "collapsed": false,
     "input": [
      "model2 = sm.Logit.from_formula('admit ~ %s' % '+'.join(df.columns[2:]), data=df)\n",
      "fit2 = model2.fit(method='bfgs', maxiter=100)\n",
      "fit2.summary()"
     ],
     "language": "python",
     "metadata": {},
     "outputs": [
      {
       "output_type": "stream",
       "stream": "stdout",
       "text": [
        "Optimization terminated successfully.\n",
        "         Current function value: 0.600430\n",
        "         Iterations: 23\n",
        "         Function evaluations: 65\n",
        "         Gradient evaluations: 54\n"
       ]
      },
      {
       "html": [
        "<table class=\"simpletable\">\n",
        "<caption>Logit Regression Results</caption>\n",
        "<tr>\n",
        "  <th>Dep. Variable:</th>       <td>admit</td>      <th>  No. Observations:  </th>  <td>   400</td>  \n",
        "</tr>\n",
        "<tr>\n",
        "  <th>Model:</th>               <td>Logit</td>      <th>  Df Residuals:      </th>  <td>   397</td>  \n",
        "</tr>\n",
        "<tr>\n",
        "  <th>Method:</th>               <td>MLE</td>       <th>  Df Model:          </th>  <td>     2</td>  \n",
        "</tr>\n",
        "<tr>\n",
        "  <th>Date:</th>          <td>Wed, 11 Feb 2015</td> <th>  Pseudo R-squ.:     </th>  <td>0.03927</td> \n",
        "</tr>\n",
        "<tr>\n",
        "  <th>Time:</th>              <td>09:39:51</td>     <th>  Log-Likelihood:    </th> <td> -240.17</td> \n",
        "</tr>\n",
        "<tr>\n",
        "  <th>converged:</th>           <td>True</td>       <th>  LL-Null:           </th> <td> -249.99</td> \n",
        "</tr>\n",
        "<tr>\n",
        "  <th> </th>                      <td> </td>        <th>  LLR p-value:       </th> <td>5.456e-05</td>\n",
        "</tr>\n",
        "</table>\n",
        "<table class=\"simpletable\">\n",
        "<tr>\n",
        "      <td></td>         <th>coef</th>     <th>std err</th>      <th>z</th>      <th>P>|z|</th> <th>[95.0% Conf. Int.]</th> \n",
        "</tr>\n",
        "<tr>\n",
        "  <th>Intercept</th> <td>   -4.9494</td> <td>    1.075</td> <td>   -4.604</td> <td> 0.000</td> <td>   -7.057    -2.842</td>\n",
        "</tr>\n",
        "<tr>\n",
        "  <th>gre</th>       <td>    0.0027</td> <td>    0.001</td> <td>    2.544</td> <td> 0.011</td> <td>    0.001     0.005</td>\n",
        "</tr>\n",
        "<tr>\n",
        "  <th>gpa</th>       <td>    0.7547</td> <td>    0.320</td> <td>    2.361</td> <td> 0.018</td> <td>    0.128     1.381</td>\n",
        "</tr>\n",
        "</table>"
       ],
       "metadata": {},
       "output_type": "pyout",
       "prompt_number": 137,
       "text": [
        "<class 'statsmodels.iolib.summary.Summary'>\n",
        "\"\"\"\n",
        "                           Logit Regression Results                           \n",
        "==============================================================================\n",
        "Dep. Variable:                  admit   No. Observations:                  400\n",
        "Model:                          Logit   Df Residuals:                      397\n",
        "Method:                           MLE   Df Model:                            2\n",
        "Date:                Wed, 11 Feb 2015   Pseudo R-squ.:                 0.03927\n",
        "Time:                        09:39:51   Log-Likelihood:                -240.17\n",
        "converged:                       True   LL-Null:                       -249.99\n",
        "                                        LLR p-value:                 5.456e-05\n",
        "==============================================================================\n",
        "                 coef    std err          z      P>|z|      [95.0% Conf. Int.]\n",
        "------------------------------------------------------------------------------\n",
        "Intercept     -4.9494      1.075     -4.604      0.000        -7.057    -2.842\n",
        "gre            0.0027      0.001      2.544      0.011         0.001     0.005\n",
        "gpa            0.7547      0.320      2.361      0.018         0.128     1.381\n",
        "==============================================================================\n",
        "\"\"\""
       ]
      }
     ],
     "prompt_number": 137
    },
    {
     "cell_type": "code",
     "collapsed": false,
     "input": [
      "plt.figure(figsize=(8,8))\n",
      "plt.scatter(df['gre'], df['gpa'], c=df['admit'])\n",
      "xmin, xmax, ymin, ymax = plt.axis()\n",
      "x = np.linspace(xmin, xmax, 100)\n",
      "y = np.linspace(ymin, ymax, 100)\n",
      "X, Y = np.meshgrid(x, y)\n"
     ],
     "language": "python",
     "metadata": {},
     "outputs": [
      {
       "metadata": {},
       "output_type": "display_data",
       "png": "[encoded data removed]",
       "text": [
        "<matplotlib.figure.Figure at 0x118ae7250>"
       ]
      }
     ],
     "prompt_number": 145
    },
    {
     "cell_type": "code",
     "collapsed": false,
     "input": [],
     "language": "python",
     "metadata": {},
     "outputs": []
    }
   ],
   "metadata": {}
  }
 ]
}