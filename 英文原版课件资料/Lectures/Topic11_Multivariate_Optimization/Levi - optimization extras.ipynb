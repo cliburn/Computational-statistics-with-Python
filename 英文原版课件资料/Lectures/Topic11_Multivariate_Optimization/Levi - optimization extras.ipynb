{
 "metadata": {
  "name": "",
  "signature": "sha256:cf46cfc04f0c731a48c2e1a1019c98fffdb2b616fcbe5a9c083fcc74999b8f6a"
 },
 "nbformat": 3,
 "nbformat_minor": 0,
 "worksheets": [
  {
   "cells": [
    {
     "cell_type": "markdown",
     "metadata": {},
     "source": [
      "Levi function\n",
      "----\n",
      "\n",
      "$$\n",
      "f(x,y)=sin2(3\u03c0x)+(x\u22121)2(1+sin2(3\u03c0y))+(y\u22121)2(1+sin2(2\u03c0y)\n",
      "$$"
     ]
    },
    {
     "cell_type": "code",
     "collapsed": false,
     "input": [
      "def levi(x): \n",
      "    return ((np.sin(3np.pix[0]))2 + \n",
      "            (x[0]-1)2 (1+(np.sin(3np.pix[1]))2) + \n",
      "            (x[1]-1)2 (1+(np.sin(2np.pix[1]))**2))\n",
      "\n",
      "x = np.linspace(-5, 5, 100) \n",
      "y = np.linspace(-5, 5, 100) \n",
      "X, Y = np.meshgrid(x, y) \n",
      "Z = levi(np.vstack([X.ravel(), Y.ravel()])).reshape((100,100)) \n",
      "plt.imshow(np.log1p(Z), extent=[-5,5,-5,5]) \n",
      "plt.colorbar()\n"
     ],
     "language": "python",
     "metadata": {},
     "outputs": []
    },
    {
     "cell_type": "code",
     "collapsed": false,
     "input": [
      "x0 = [1, -1] \n",
      "ps = [x0] \n",
      "opt.minimize(levi, x0, method='BFGS', callback=reporter)\n",
      "ps = np.array(ps) \n",
      "plt.figure(figsize=(12,4)) \n",
      "plt.subplot(121) \n",
      "plt.imshow(np.log1p(Z), extent=[-5,5,-5,5]) \n",
      "plt.plot(ps[:, 0], ps[:, 1], '-o') \n",
      "plt.subplot(122) \n",
      "plt.plot(range(len(ps)), levi(ps.T));"
     ],
     "language": "python",
     "metadata": {},
     "outputs": []
    }
   ],
   "metadata": {}
  }
 ]
}