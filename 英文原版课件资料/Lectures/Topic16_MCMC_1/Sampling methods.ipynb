{
 "metadata": {
  "name": "",
  "signature": "sha256:8c183fd5ef166531d87a60615e609d54536270bd15ef2324ceda6a28f6f7b2ab"
 },
 "nbformat": 3,
 "nbformat_minor": 0,
 "worksheets": [
  {
   "cells": [
    {
     "cell_type": "markdown",
     "metadata": {},
     "source": [
      "### Gibbs sampler example\n",
      "\n",
      "Modeled after R version from <https://dl.dropboxusercontent.com/u/2993202/teaching/methods/mcmc/mcmc_print.pdf>"
     ]
    },
    {
     "cell_type": "code",
     "collapsed": false,
     "input": [
      "%matplotlib inline\n",
      "import matplotlib.pyplot as plt\n",
      "import numpy as np\n",
      "from numpy.random import gamma as rgamma"
     ],
     "language": "python",
     "metadata": {},
     "outputs": [],
     "prompt_number": 1
    },
    {
     "cell_type": "code",
     "collapsed": false,
     "input": [
      "def lambda_update(alpha, beta, y, t):\n",
      "    return rgamma(size=len(y), shape=y+alpha, scale=1.0/(t+beta))\n",
      "\n",
      "def beta_update(alpha, gamma, delta, lambd, y):\n",
      "    return rgamma(size=1, shape=len(y) * alpha + gamma, scale=1.0/(delta + lambd.sum()))\n",
      "\n",
      "def gibbs(niter, y, t, alpha, gamma, delta):\n",
      "    lambdas_ = np.zeros((niter, len(y)), np.float)\n",
      "    betas_ = np.zeros(niter, np.float)\n",
      "    \n",
      "    lambda_ = y/t\n",
      "\n",
      "    for i in range(niter):\n",
      "        beta_ = beta_update(alpha, gamma, delta, lambda_, y)\n",
      "        lambda_ = lambda_update(alpha, beta_, y, t)\n",
      "\n",
      "        betas_[i] = beta_\n",
      "        lambdas_[i,:] = lambda_\n",
      "        \n",
      "    return betas_, lambdas_"
     ],
     "language": "python",
     "metadata": {},
     "outputs": [],
     "prompt_number": 2
    },
    {
     "cell_type": "code",
     "collapsed": false,
     "input": [
      "alpha = 1.8\n",
      "gamma = 0.01\n",
      "delta = 1.0\n",
      "beta0 = 1\n",
      "y = np.array([5, 1, 5, 14, 3, 19, 1, 1, 4, 22], np.int)\n",
      "t = np.array([94.32, 15.72, 62.88, 125.76, 5.24, 31.44, 1.05, 1.05, 2.10, 10.48], np.float)\n",
      "niter = 1000\n",
      "\n",
      "np.set_printoptions(precision=3)"
     ],
     "language": "python",
     "metadata": {},
     "outputs": [],
     "prompt_number": 3
    },
    {
     "cell_type": "code",
     "collapsed": false,
     "input": [
      "np.random.seed(12345)\n",
      "\n",
      "betas, lambdas = gibbs(niter, y, t, alpha, gamma, delta)\n",
      "print '%.3f' % betas.mean()\n",
      "print '%.3f' % betas.std(ddof=1)\n",
      "print lambdas.mean(axis=0)\n",
      "print lambdas.std(ddof=1, axis=0)"
     ],
     "language": "python",
     "metadata": {},
     "outputs": [
      {
       "output_type": "stream",
       "stream": "stdout",
       "text": [
        "2.471\n",
        "0.711\n",
        "[ 0.071  0.152  0.104  0.121  0.617  0.619  0.82   0.842  1.281  1.842]\n",
        "[ 0.027  0.094  0.04   0.03   0.291  0.133  0.515  0.546  0.554  0.381]\n"
       ]
      }
     ],
     "prompt_number": 4
    },
    {
     "cell_type": "code",
     "collapsed": false,
     "input": [
      "%timeit(gibbs(niter, y, t, alpha, gamma, delta))"
     ],
     "language": "python",
     "metadata": {},
     "outputs": [
      {
       "output_type": "stream",
       "stream": "stdout",
       "text": [
        "10 loops, best of 3: 46.5 ms per loop\n"
       ]
      }
     ],
     "prompt_number": 5
    },
    {
     "cell_type": "markdown",
     "metadata": {},
     "source": [
      "### Cython optimisation\n",
      "\n",
      "25-30% sppedup."
     ]
    },
    {
     "cell_type": "code",
     "collapsed": false,
     "input": [
      "%load_ext cythonmagic"
     ],
     "language": "python",
     "metadata": {},
     "outputs": [],
     "prompt_number": 8
    },
    {
     "cell_type": "code",
     "collapsed": false,
     "input": [
      "%%cython\n",
      "\n",
      "cimport cython\n",
      "import numpy as np\n",
      "cimport numpy as np\n",
      "\n",
      "@cython.cdivision\n",
      "@cython.boundscheck(False)\n",
      "@cython.wraparound(False)\n",
      "cdef double[:] lambda_update(double alpha, double beta, long[:] y, double[:] t):\n",
      "    cdef double[:] newshape = np.zeros(len(y), np.float)\n",
      "    cdef double[:] newscale = np.zeros(len(y), np.float)\n",
      "\n",
      "    cdef int i\n",
      "    for i in range(len(y)):\n",
      "        newshape[i] = y[i] + alpha\n",
      "        newscale[i] = 1.0/(t[i] + beta)\n",
      "\n",
      "    return np.random.gamma(size=len(y), shape=newshape, scale=newscale)\n",
      "\n",
      "@cython.cdivision\n",
      "@cython.boundscheck(False)\n",
      "@cython.wraparound(False)\n",
      "cdef double beta_update(double alpha, double gamma, double delta, double[:] lambd, long[:] y):\n",
      "    return np.random.gamma(size=1, shape=len(y) * alpha + gamma, scale=1.0/(delta + np.sum(lambd)))\n",
      "\n",
      "@cython.cdivision\n",
      "@cython.boundscheck(False)\n",
      "@cython.wraparound(False)\n",
      "def gibbs_cython(int niter, long[:] y, double[:] t, double alpha, double gamma, double delta):\n",
      "    cdef int n = y.shape[0]\n",
      "    cdef double tmp, beta_\n",
      "    cdef double[:] lambda_ = np.zeros(n, np.float)\n",
      "    cdef double[:] betas_ = np.zeros(niter, np.float)\n",
      "    cdef double[:, :] lambdas_ = np.empty((niter, n), dtype=np.float)\n",
      "    cdef int i\n",
      "    \n",
      "    for i in range(n):\n",
      "        lambda_[i] = y[i]/t[i]\n",
      "    \n",
      "    for i in range(niter):\n",
      "        beta_ = beta_update(alpha, gamma, delta, lambda_, y)\n",
      "        lambda_ = lambda_update(alpha, beta_, y, t)\n",
      "\n",
      "        betas_[i] = beta_\n",
      "        lambdas_[i,:] = lambda_\n",
      "        \n",
      "    return np.array(betas_), np.array(lambdas_)"
     ],
     "language": "python",
     "metadata": {},
     "outputs": [],
     "prompt_number": 43
    },
    {
     "cell_type": "code",
     "collapsed": false,
     "input": [
      "np.random.seed(12345)\n",
      "%timeit(gibbs(niter, y, t, alpha, gamma, delta))\n",
      "np.random.seed(12345)\n",
      "%timeit(gibbs_cython(niter, y, t, alpha, gamma, delta))"
     ],
     "language": "python",
     "metadata": {},
     "outputs": [
      {
       "output_type": "stream",
       "stream": "stdout",
       "text": [
        "10 loops, best of 3: 76.3 ms per loop\n",
        "10 loops, best of 3: 57 ms per loop"
       ]
      },
      {
       "output_type": "stream",
       "stream": "stdout",
       "text": [
        "\n"
       ]
      }
     ],
     "prompt_number": 37
    },
    {
     "cell_type": "code",
     "collapsed": false,
     "input": [
      "betas, lambdas = gibbs(niter, y, t, alpha, gamma, delta)\n",
      "print betas.mean()\n",
      "print lambdas.mean(0)\n",
      "betas, lambdas = gibbs_cython(niter, y, t, alpha, gamma, delta)\n",
      "print betas.mean()\n",
      "print lambdas.mean(0)"
     ],
     "language": "python",
     "metadata": {},
     "outputs": [
      {
       "output_type": "stream",
       "stream": "stdout",
       "text": [
        "2.46452240845\n",
        "[ 0.07   0.159  0.106  0.126  0.631  0.616  0.82   0.836  1.292  1.845]\n",
        "2.47953551306"
       ]
      },
      {
       "output_type": "stream",
       "stream": "stdout",
       "text": [
        "\n",
        "[ 0.071  0.155  0.104  0.122  0.624  0.608  0.819  0.813  1.288  1.821]\n"
       ]
      }
     ],
     "prompt_number": 33
    },
    {
     "cell_type": "markdown",
     "metadata": {},
     "source": [
      "### Multivariate normal random variates"
     ]
    },
    {
     "cell_type": "code",
     "collapsed": false,
     "input": [
      "import scipy.linalg as la\n",
      "from numpy import dot"
     ],
     "language": "python",
     "metadata": {},
     "outputs": [],
     "prompt_number": 6
    },
    {
     "cell_type": "code",
     "collapsed": false,
     "input": [
      "mu = np.zeros(2)\n",
      "sigma = np.array([[1,0.6], [0.6,3]])\n",
      "\n",
      "def mvn(sigma, n):\n",
      "    A = la.cholesky(sigma)\n",
      "    u = np.random.normal(0, 1, (len(sigma), n))\n",
      "    return dot(A, u)\n",
      "\n",
      "n = 100\n",
      "xs = mvn(sigma, n)\n",
      "ys = np.random.multivariate_normal(mu, sigma, n).T\n",
      "plt.scatter(4+xs[0], xs[1], facecolor='none', edgecolor='blue', s=50)\n",
      "plt.scatter(ys[0], ys[1], facecolor='none', edgecolor='red', s=50);"
     ],
     "language": "python",
     "metadata": {},
     "outputs": [
      {
       "metadata": {},
       "output_type": "display_data",
       "png": "[encoded data removed]",
       "text": [
        "<matplotlib.figure.Figure at 0x1092d5750>"
       ]
      }
     ],
     "prompt_number": 7
    }
   ],
   "metadata": {}
  }
 ]
}