{
 "metadata": {
  "name": "",
  "signature": "sha256:b8615af2d7429b85e99d97d5f86559c4862f87966f8e38aaf156a9810700e3ec"
 },
 "nbformat": 3,
 "nbformat_minor": 0,
 "worksheets": [
  {
   "cells": [
    {
     "cell_type": "code",
     "collapsed": false,
     "input": [
      "import os\n",
      "import sys\n",
      "import glob\n",
      "import matplotlib.pyplot as plt\n",
      "import numpy as np\n",
      "import pandas as pd\n",
      "%matplotlib inline\n",
      "%precision 4"
     ],
     "language": "python",
     "metadata": {},
     "outputs": [
      {
       "metadata": {},
       "output_type": "pyout",
       "prompt_number": 1,
       "text": [
        "u'%.4f'"
       ]
      }
     ],
     "prompt_number": 1
    },
    {
     "cell_type": "markdown",
     "metadata": {},
     "source": [
      "Functions are first class objects\n",
      "----\n",
      "\n",
      "In Python, functions behave like any other object, such as an int or a list. That means that you can use functions as arguments to other functions, store functions as dictionary values, or retrun a function from another function. This leads to many powerful ways to use functions."
     ]
    },
    {
     "cell_type": "code",
     "collapsed": false,
     "input": [
      "def square(x):\n",
      "    \"\"\"Square of x.\"\"\"\n",
      "    return x*x\n",
      "\n",
      "def cube(x):\n",
      "    \"\"\"Cube of x.\"\"\"\n",
      "    return x*x*x"
     ],
     "language": "python",
     "metadata": {},
     "outputs": [],
     "prompt_number": 2
    },
    {
     "cell_type": "code",
     "collapsed": false,
     "input": [
      "# create a dictionary of functions\n",
      "\n",
      "funcs = {\n",
      "    'square': square,\n",
      "    'cube': cube,\n",
      "}"
     ],
     "language": "python",
     "metadata": {},
     "outputs": [],
     "prompt_number": 3
    },
    {
     "cell_type": "code",
     "collapsed": false,
     "input": [
      "x = 2\n",
      "\n",
      "print square(x)\n",
      "print cube(x)\n",
      "\n",
      "for func in sorted(funcs):\n",
      "    print func, funcs[func](x)"
     ],
     "language": "python",
     "metadata": {},
     "outputs": [
      {
       "output_type": "stream",
       "stream": "stdout",
       "text": [
        "4\n",
        "8\n",
        "cube 8\n",
        "square 4\n"
       ]
      }
     ],
     "prompt_number": 4
    },
    {
     "cell_type": "markdown",
     "metadata": {},
     "source": [
      "Higher-order functions\n",
      "----\n",
      "\n",
      "A function that uses another function as an input argument or returns a function (HOF) is known as a higher-order function. The most familiar examples are `map` and `filter`."
     ]
    },
    {
     "cell_type": "code",
     "collapsed": false,
     "input": [
      "# The map function applies a function to each member of a collection\n",
      "\n",
      "map(square, range(5))"
     ],
     "language": "python",
     "metadata": {},
     "outputs": [
      {
       "metadata": {},
       "output_type": "pyout",
       "prompt_number": 5,
       "text": [
        "[0, 1, 4, 9, 16]"
       ]
      }
     ],
     "prompt_number": 5
    },
    {
     "cell_type": "code",
     "collapsed": false,
     "input": [
      "# The filter function applies a predciate to each memmber of a collection, \n",
      "# retaining only those members where the preidcate is True\n",
      "\n",
      "def is_even(x):\n",
      "    return x%2 == 0\n",
      "\n",
      "filter(is_even, range(5))"
     ],
     "language": "python",
     "metadata": {},
     "outputs": [
      {
       "metadata": {},
       "output_type": "pyout",
       "prompt_number": 6,
       "text": [
        "[0, 2, 4]"
       ]
      }
     ],
     "prompt_number": 6
    },
    {
     "cell_type": "code",
     "collapsed": false,
     "input": [
      "# It is common to combine map and reduce - hence the famous \"map-reduce\" construct\n",
      "\n",
      "map(square, filter(is_even, range(5)))"
     ],
     "language": "python",
     "metadata": {},
     "outputs": [
      {
       "metadata": {},
       "output_type": "pyout",
       "prompt_number": 7,
       "text": [
        "[0, 4, 16]"
       ]
      }
     ],
     "prompt_number": 7
    },
    {
     "cell_type": "code",
     "collapsed": false,
     "input": [
      "# The reduce function reduces a collection using a binary operator to combine items two at a time\n",
      "\n",
      "def my_add(x, y):\n",
      "    return x + y\n",
      "\n",
      "# another implementation of the sum function\n",
      "reduce(my_add, [1,2,3,4,5])"
     ],
     "language": "python",
     "metadata": {},
     "outputs": [
      {
       "metadata": {},
       "output_type": "pyout",
       "prompt_number": 8,
       "text": [
        "15"
       ]
      }
     ],
     "prompt_number": 8
    },
    {
     "cell_type": "code",
     "collapsed": false,
     "input": [
      "# Custom functions can of couse, also be HOFs\n",
      "\n",
      "def custom_sum(xs, transform):\n",
      "    \"\"\"Returns the sum of xs after a user specified transform.\"\"\"\n",
      "    return sum(map(transform, xs))\n",
      "\n",
      "xs = range(5)\n",
      "print custom_sum(xs, square)\n",
      "print custom_sum(xs, cube)"
     ],
     "language": "python",
     "metadata": {},
     "outputs": [
      {
       "output_type": "stream",
       "stream": "stdout",
       "text": [
        "30\n",
        "100\n"
       ]
      }
     ],
     "prompt_number": 9
    },
    {
     "cell_type": "code",
     "collapsed": false,
     "input": [
      "# Returning a function is also useful\n",
      "\n",
      "# A closure\n",
      "def make_logger(target):\n",
      "    def logger(data):\n",
      "        with open(target, 'a') as f:\n",
      "            f.write(data + '\\n')\n",
      "    return logger\n",
      "\n",
      "foo_logger = make_logger('foo.txt')\n",
      "foo_logger('Hello')\n",
      "foo_logger('World')"
     ],
     "language": "python",
     "metadata": {},
     "outputs": [],
     "prompt_number": 10
    },
    {
     "cell_type": "code",
     "collapsed": false,
     "input": [
      "!cat 'foo.txt'"
     ],
     "language": "python",
     "metadata": {},
     "outputs": [
      {
       "output_type": "stream",
       "stream": "stdout",
       "text": [
        "Hello\r\n",
        "World\r\n",
        "Hello\r\n",
        "World\r\n"
       ]
      }
     ],
     "prompt_number": 11
    },
    {
     "cell_type": "markdown",
     "metadata": {},
     "source": [
      "Pure functions\n",
      "----\n",
      "\n",
      "Functions are pure if they do not have any *side effects* and do not depend on global variables. Pure functions are similar to mathematical functions - each time the same inout is given, the same output will be returned. This is useful for reducing bugs and in paralleld programming since each function call is independent of any other function call and hence trivially parallelizable."
     ]
    },
    {
     "cell_type": "code",
     "collapsed": false,
     "input": [
      "def pure(xs):\n",
      "    \"\"\"Make a new list and return that.\"\"\"\n",
      "    xs = [x*2 for x in xs]\n",
      "    return xs"
     ],
     "language": "python",
     "metadata": {},
     "outputs": [],
     "prompt_number": 12
    },
    {
     "cell_type": "code",
     "collapsed": false,
     "input": [
      "xs = range(5)\n",
      "print \"xs =\", xs\n",
      "print pure(xs)\n",
      "print \"xs =\", xs"
     ],
     "language": "python",
     "metadata": {},
     "outputs": [
      {
       "output_type": "stream",
       "stream": "stdout",
       "text": [
        "xs = [0, 1, 2, 3, 4]\n",
        "[0, 2, 4, 6, 8]\n",
        "xs = [0, 1, 2, 3, 4]\n"
       ]
      }
     ],
     "prompt_number": 13
    },
    {
     "cell_type": "code",
     "collapsed": false,
     "input": [
      "def impure(xs):\n",
      "    for i, x in enumerate(xs):\n",
      "        xs[i] = x*2\n",
      "    return xs"
     ],
     "language": "python",
     "metadata": {},
     "outputs": [],
     "prompt_number": 14
    },
    {
     "cell_type": "code",
     "collapsed": false,
     "input": [
      "xs = range(5)\n",
      "print \"xs =\", xs\n",
      "print impure(xs)\n",
      "print \"xs =\", xs"
     ],
     "language": "python",
     "metadata": {},
     "outputs": [
      {
       "output_type": "stream",
       "stream": "stdout",
       "text": [
        "xs = [0, 1, 2, 3, 4]\n",
        "[0, 2, 4, 6, 8]\n",
        "xs = [0, 2, 4, 6, 8]\n"
       ]
      }
     ],
     "prompt_number": 15
    },
    {
     "cell_type": "code",
     "collapsed": false,
     "input": [
      "# Note that mutatble functions are created upon function declaration, not use.\n",
      "# This gives rise to a common source of beginner errors.\n",
      "\n",
      "def f1(x, y=[]):\n",
      "    \"\"\"Never give an empty list or other mutatble structure as a default.\"\"\"\n",
      "    y.append(x)\n",
      "    return sum(y)"
     ],
     "language": "python",
     "metadata": {},
     "outputs": [],
     "prompt_number": 16
    },
    {
     "cell_type": "code",
     "collapsed": false,
     "input": [
      "print f1(10)\n",
      "print f1(10)\n",
      "print f1(10, y =[1,2])"
     ],
     "language": "python",
     "metadata": {},
     "outputs": [
      {
       "output_type": "stream",
       "stream": "stdout",
       "text": [
        "10\n",
        "20\n",
        "13\n"
       ]
      }
     ],
     "prompt_number": 17
    },
    {
     "cell_type": "code",
     "collapsed": false,
     "input": [
      "# Here is the correct Python idiom\n",
      "\n",
      "def f2(x, y=None):\n",
      "    \"\"\"Check if y is None - if so make it a list.\"\"\"\n",
      "    if y is None:\n",
      "        y = []\n",
      "    y.append(x)\n",
      "    return sum(y)"
     ],
     "language": "python",
     "metadata": {},
     "outputs": [],
     "prompt_number": 18
    },
    {
     "cell_type": "code",
     "collapsed": false,
     "input": [
      "print f1(10)\n",
      "print f1(10)\n",
      "print f1(10, y =[1,2])"
     ],
     "language": "python",
     "metadata": {},
     "outputs": [
      {
       "output_type": "stream",
       "stream": "stdout",
       "text": [
        "30\n",
        "40\n",
        "13\n"
       ]
      }
     ],
     "prompt_number": 19
    },
    {
     "cell_type": "markdown",
     "metadata": {},
     "source": [
      "Recursion\n",
      "----\n",
      "\n",
      "A recursive function is one that calls itself. Recursive functions are extremely useful examples of the divide-and-conquer paradigm in algorithm development, and also a direct expression of finite diffference equations. However, they can be computationally inefficient and their use in Python is quite rare in practice.\n",
      "\n",
      "Recursvie functions generally have a set of *base cases* where the answer is obvious and can be returned immediately, and a set of recursive cases which are split into smaller pieces, each of which is given to the same function called recursively. A few examples will make this clearer."
     ]
    },
    {
     "cell_type": "code",
     "collapsed": false,
     "input": [
      "# The factorial function is perhaps the simplest classic example of recursion.\n",
      "\n",
      "def fact(n):\n",
      "    \"\"\"Returns the factorial of n.\"\"\"\n",
      "    # base case\n",
      "    if n==0:\n",
      "        return 1\n",
      "    # recursive case\n",
      "    else:\n",
      "        return n * fact(n-1)\n",
      "\n",
      "print [fact(n) for n in range(10)]"
     ],
     "language": "python",
     "metadata": {},
     "outputs": [
      {
       "output_type": "stream",
       "stream": "stdout",
       "text": [
        "[1, 1, 2, 6, 24, 120, 720, 5040, 40320, 362880]\n"
       ]
      }
     ],
     "prompt_number": 20
    },
    {
     "cell_type": "code",
     "collapsed": false,
     "input": [
      "# The Fibonacci sequence is another classic recursion example\n",
      "\n",
      "def fib1(n):\n",
      "    \"\"\"Fib with recursion.\"\"\"\n",
      "\n",
      "    # base case\n",
      "    if n==0 or n==1:\n",
      "        return 1\n",
      "    # recurssive caae\n",
      "    else:\n",
      "        return fib1(n-1) + fib1(n-2)\n",
      "\n",
      "print [fib1(i) for i in range(10)]"
     ],
     "language": "python",
     "metadata": {},
     "outputs": [
      {
       "output_type": "stream",
       "stream": "stdout",
       "text": [
        "[1, 1, 2, 3, 5, 8, 13, 21, 34, 55]\n"
       ]
      }
     ],
     "prompt_number": 22
    },
    {
     "cell_type": "code",
     "collapsed": false,
     "input": [
      "# In Python, a more efficient version that does not use recursion is\n",
      "\n",
      "def fib2(n):\n",
      "    \"\"\"Fib without recursion.\"\"\"\n",
      "    a, b = 0, 1\n",
      "    for i in range(1, n+1):\n",
      "        a, b = b, a+b\n",
      "    return b\n",
      "\n",
      "print [fib2(i) for i in range(10)]"
     ],
     "language": "python",
     "metadata": {},
     "outputs": [
      {
       "output_type": "stream",
       "stream": "stdout",
       "text": [
        "[1, 1, 2, 3, 5, 8, 13, 21, 34, 55]\n"
       ]
      }
     ],
     "prompt_number": 23
    },
    {
     "cell_type": "code",
     "collapsed": false,
     "input": [
      "# Note that the recursive version is much slower than the non-recursive version\n",
      "\n",
      "%timeit fib1(20)\n",
      "%timeit fib2(20)\n",
      "\n",
      "# this is because it makes many duplicate function calls \n",
      "# Note duplicate calls to fib(2) and fib(1) below\n",
      "# fib(4) -> fib(3), fib(2)\n",
      "# fib(3) -> fib(2), fib(1)\n",
      "# fib(2) -> fib(1), fib(0)\n",
      "# fib(1) -> 1\n",
      "# fib(0) -> 1"
     ],
     "language": "python",
     "metadata": {},
     "outputs": [
      {
       "output_type": "stream",
       "stream": "stdout",
       "text": [
        "100 loops, best of 3: 5.91 ms per loop\n",
        "100000 loops, best of 3: 2.65 \u00b5s per loop"
       ]
      },
      {
       "output_type": "stream",
       "stream": "stdout",
       "text": [
        "\n"
       ]
      }
     ],
     "prompt_number": 24
    },
    {
     "cell_type": "code",
     "collapsed": false,
     "input": [
      "# Recursion is used to show off the dividde-and-conquer paradigm\n",
      "\n",
      "def almost_quick_sort(xs):\n",
      "    \"\"\"Almost a quick sort.\"\"\"\n",
      "\n",
      "    # base case\n",
      "    if xs == []:\n",
      "        return xs\n",
      "    # recursive case\n",
      "    else:\n",
      "        pivot = xs[0]\n",
      "        less_than = [x for x in xs[1:] if x <= pivot]\n",
      "        more_than = [x for x in xs[1:] if x > pivot]\n",
      "        return almost_quick_sort(less_than) + [pivot] + almost_quick_sort(more_than)\n",
      "\n",
      "xs = [3,1,4,1,5,9,2,6,5,3,5,9]\n",
      "print almost_quick_sort(xs)"
     ],
     "language": "python",
     "metadata": {},
     "outputs": [
      {
       "output_type": "stream",
       "stream": "stdout",
       "text": [
        "[1, 1, 2, 3, 3, 4, 5, 5, 5, 6, 9, 9]\n"
       ]
      }
     ],
     "prompt_number": 25
    },
    {
     "cell_type": "markdown",
     "metadata": {},
     "source": [
      "Iterators\n",
      "----\n",
      "\n",
      "Iterators represent streams of values. Because only one value is consumed at a time, they use very memory. Use of iterators is very helpful for working with data sets too large to fit into RAM."
     ]
    },
    {
     "cell_type": "code",
     "collapsed": false,
     "input": [
      "# Iterators can be created from sequences with the built-in function iter()\n",
      "\n",
      "xs = [1,2,3]\n",
      "x_iter = iter(xs)\n",
      "\n",
      "print x_iter.next()\n",
      "print x_iter.next()\n",
      "print x_iter.next()\n",
      "print x_iter.next()"
     ],
     "language": "python",
     "metadata": {},
     "outputs": [
      {
       "output_type": "stream",
       "stream": "stdout",
       "text": [
        "1\n",
        "2\n",
        "3\n"
       ]
      },
      {
       "ename": "StopIteration",
       "evalue": "",
       "output_type": "pyerr",
       "traceback": [
        "\u001b[0;31m---------------------------------------------------------------------------\u001b[0m\n\u001b[0;31mStopIteration\u001b[0m                             Traceback (most recent call last)",
        "\u001b[0;32m<ipython-input-26-eb1a17442aa0>\u001b[0m in \u001b[0;36m<module>\u001b[0;34m()\u001b[0m\n\u001b[1;32m      7\u001b[0m \u001b[0;32mprint\u001b[0m \u001b[0mx_iter\u001b[0m\u001b[0;34m.\u001b[0m\u001b[0mnext\u001b[0m\u001b[0;34m(\u001b[0m\u001b[0;34m)\u001b[0m\u001b[0;34m\u001b[0m\u001b[0m\n\u001b[1;32m      8\u001b[0m \u001b[0;32mprint\u001b[0m \u001b[0mx_iter\u001b[0m\u001b[0;34m.\u001b[0m\u001b[0mnext\u001b[0m\u001b[0;34m(\u001b[0m\u001b[0;34m)\u001b[0m\u001b[0;34m\u001b[0m\u001b[0m\n\u001b[0;32m----> 9\u001b[0;31m \u001b[0;32mprint\u001b[0m \u001b[0mx_iter\u001b[0m\u001b[0;34m.\u001b[0m\u001b[0mnext\u001b[0m\u001b[0;34m(\u001b[0m\u001b[0;34m)\u001b[0m\u001b[0;34m\u001b[0m\u001b[0m\n\u001b[0m",
        "\u001b[0;31mStopIteration\u001b[0m: "
       ]
      }
     ],
     "prompt_number": 26
    },
    {
     "cell_type": "code",
     "collapsed": false,
     "input": [
      "# Most commonly, iterators are used (automatically) within a for loop\n",
      "# which terminats when it encouters a StopIteration exception\n",
      "\n",
      "x_iter = iter(xs)\n",
      "for x in x_iter:\n",
      "    print x"
     ],
     "language": "python",
     "metadata": {},
     "outputs": [
      {
       "output_type": "stream",
       "stream": "stdout",
       "text": [
        "1\n",
        "2\n",
        "3\n"
       ]
      }
     ],
     "prompt_number": 27
    },
    {
     "cell_type": "markdown",
     "metadata": {},
     "source": [
      "Generators\n",
      "----\n",
      "\n",
      "Generators create iterator streams."
     ]
    },
    {
     "cell_type": "code",
     "collapsed": false,
     "input": [
      "# Functions containing the 'yield' keyword return iterators\n",
      "# After yielding, the function retains its previous state\n",
      "\n",
      "def count_down(n):\n",
      "    for i in range(n, 0, -1):\n",
      "        yield i"
     ],
     "language": "python",
     "metadata": {},
     "outputs": [],
     "prompt_number": 28
    },
    {
     "cell_type": "code",
     "collapsed": false,
     "input": [
      "counter = count_down(10)\n",
      "print counter.next()\n",
      "print counter.next()\n",
      "for count in counter:\n",
      "    print count,"
     ],
     "language": "python",
     "metadata": {},
     "outputs": [
      {
       "output_type": "stream",
       "stream": "stdout",
       "text": [
        "10\n",
        "9\n",
        "8 7 6 5 4 3 2 1\n"
       ]
      }
     ],
     "prompt_number": 29
    },
    {
     "cell_type": "code",
     "collapsed": false,
     "input": [
      "# Iterators can also be created with 'generator expressions'\n",
      "# which can be coded similar to list generators but with parenthesis\n",
      "# in place of square brackets\n",
      "\n",
      "xs1 = [x*x for x in range(5)]\n",
      "print xs1\n",
      "\n",
      "xs2 = (x*x for x in range(5))\n",
      "print xs2\n",
      "\n",
      "for x in xs2:\n",
      "    print x,\n",
      "print"
     ],
     "language": "python",
     "metadata": {},
     "outputs": [
      {
       "output_type": "stream",
       "stream": "stdout",
       "text": [
        "[0, 1, 4, 9, 16]\n",
        "<generator object <genexpr> at 0x113076780>\n",
        "0 1 4 9 16\n"
       ]
      }
     ],
     "prompt_number": 30
    },
    {
     "cell_type": "code",
     "collapsed": false,
     "input": [
      "# Iterators can be used for infinte functions\n",
      "\n",
      "def fib():\n",
      "    a, b = 0, 1\n",
      "    while True:\n",
      "        yield a\n",
      "        a, b = b, a+b"
     ],
     "language": "python",
     "metadata": {},
     "outputs": [],
     "prompt_number": 31
    },
    {
     "cell_type": "code",
     "collapsed": false,
     "input": [
      "for i in fib():\n",
      "    # We must have a stopping condiiton since the generator returns an infinite stream\n",
      "    if i > 1000:\n",
      "        break\n",
      "    print i,"
     ],
     "language": "python",
     "metadata": {},
     "outputs": [
      {
       "output_type": "stream",
       "stream": "stdout",
       "text": [
        "0 1 1 2 3 5 8 13 21 34 55 89 144 233 377 610 987\n"
       ]
      }
     ],
     "prompt_number": 32
    },
    {
     "cell_type": "code",
     "collapsed": false,
     "input": [
      "# Many built-in Python functions return iterators\n",
      "# including file handlers\n",
      "# so with the idiom below, you can process a 1 terabyte file line by line \n",
      "# on your laptop without any problem\n",
      "# Inn Pyhton 3, map and filter return itnrators, not lists\n",
      "\n",
      "for line in open('foo.txt'):\n",
      "    print line,"
     ],
     "language": "python",
     "metadata": {},
     "outputs": [
      {
       "output_type": "stream",
       "stream": "stdout",
       "text": [
        "Hello\n",
        "World\n",
        "Hello\n",
        "World\n"
       ]
      }
     ],
     "prompt_number": 33
    },
    {
     "cell_type": "markdown",
     "metadata": {},
     "source": [
      "Anonymous functions\n",
      "----\n",
      "\n",
      "When using functional style, there is often the need to create small specific functions that perfrom a limited task as input to a HOF such as map or filter. In such cases, these functions are often written as anonymous or lmabda functions. If you find it hard to understand what a lambda function is doing, it should probably be rewrtiten as a regular function."
     ]
    },
    {
     "cell_type": "code",
     "collapsed": false,
     "input": [
      "# Using standard functions\n",
      "\n",
      "def square(x):\n",
      "    return x*x\n",
      "\n",
      "print map(square, range(5))"
     ],
     "language": "python",
     "metadata": {},
     "outputs": [
      {
       "output_type": "stream",
       "stream": "stdout",
       "text": [
        "[0, 1, 4, 9, 16]\n"
       ]
      }
     ],
     "prompt_number": 34
    },
    {
     "cell_type": "code",
     "collapsed": false,
     "input": [
      "# Using an anonymous function\n",
      "\n",
      "print map(lambda x: x*x, range(5))"
     ],
     "language": "python",
     "metadata": {},
     "outputs": [
      {
       "output_type": "stream",
       "stream": "stdout",
       "text": [
        "[0, 1, 4, 9, 16]\n"
       ]
      }
     ],
     "prompt_number": 35
    },
    {
     "cell_type": "markdown",
     "metadata": {},
     "source": [
      "Decorators\n",
      "----\n",
      "\n",
      "Decorators are a type of HOF take a function and return a wrapped function that provides additional useful properties. \n",
      "\n",
      "Examples:\n",
      "\n",
      "- logging\n",
      "- profiling\n",
      "- Just-In-Time (JIT) compilation"
     ]
    },
    {
     "cell_type": "code",
     "collapsed": false,
     "input": [
      "# Here is a simple decorator to time an arbitrary function\n",
      "\n",
      "def func_timer(func):\n",
      "    \"\"\"Times how long the function took.\"\"\"\n",
      "    \n",
      "    def f(*args, **kwargs):\n",
      "        import time\n",
      "        start = time.time()\n",
      "        results = func(*args, **kwargs)\n",
      "        print \"Elapsed: %.2fs\" % (time.time() - start)\n",
      "        return results\n",
      "    \n",
      "    return f"
     ],
     "language": "python",
     "metadata": {},
     "outputs": [],
     "prompt_number": 36
    },
    {
     "cell_type": "code",
     "collapsed": false,
     "input": [
      "# There is a special shorthand notation for decorating functions\n",
      "\n",
      "@func_timer\n",
      "def sleepy(msg, sleep=1.0):\n",
      "    \"\"\"Delays a while before answering.\"\"\"\n",
      "    import time\n",
      "    time.sleep(sleep)\n",
      "    print msg\n",
      "\n",
      "sleepy(\"Hello\", 1.5)"
     ],
     "language": "python",
     "metadata": {},
     "outputs": [
      {
       "output_type": "stream",
       "stream": "stdout",
       "text": [
        "Hello\n",
        "Elapsed: 1.50s\n"
       ]
      }
     ],
     "prompt_number": 37
    },
    {
     "cell_type": "markdown",
     "metadata": {},
     "source": [
      "The `operator` module\n",
      "----\n",
      "\n",
      "The `operator` module proivdes \"function\" versions of common Python operatots (+, *, [] etc) that can be easily used where a function argument is expected."
     ]
    },
    {
     "cell_type": "code",
     "collapsed": false,
     "input": [
      "import operator as op\n",
      "\n",
      "# Here is another way to express the sum function\n",
      "print reduce(op.add, range(10))\n",
      "print reduce(op.mul, range(10))"
     ],
     "language": "python",
     "metadata": {},
     "outputs": [
      {
       "output_type": "stream",
       "stream": "stdout",
       "text": [
        "45\n",
        "0\n"
       ]
      }
     ],
     "prompt_number": 38
    },
    {
     "cell_type": "code",
     "collapsed": false,
     "input": [
      "my_list = [('a', 1), ('b', 4), ('c', 2), ('d', 3)]\n",
      "\n",
      "# standard sort\n",
      "print sorted(my_list)\n",
      "\n",
      "# return list sorted by element at position 1 (remember Python coutns from 0)\n",
      "print sorted(my_list, key=op.itemgetter(1))"
     ],
     "language": "python",
     "metadata": {},
     "outputs": [
      {
       "output_type": "stream",
       "stream": "stdout",
       "text": [
        "[('a', 1), ('b', 4), ('c', 2), ('d', 3)]\n",
        "[('a', 1), ('c', 2), ('d', 3), ('b', 4)]\n"
       ]
      }
     ],
     "prompt_number": 39
    },
    {
     "cell_type": "markdown",
     "metadata": {},
     "source": [
      "The `functools` module\n",
      "----\n",
      "\n",
      "The most useful function in the `functools` module is `partial`, whcih allows you to create a new function from an old one with some arguments \"filled-in\"."
     ]
    },
    {
     "cell_type": "code",
     "collapsed": false,
     "input": [
      "from functools import partial\n",
      "\n",
      "sum_ = partial(reduce, op.add)\n",
      "prod_ = partial(reduce, op.mul)\n",
      "print sum_([1,2,3,4])\n",
      "print prod_([1,2,3,4])"
     ],
     "language": "python",
     "metadata": {},
     "outputs": [
      {
       "output_type": "stream",
       "stream": "stdout",
       "text": [
        "10\n",
        "24\n"
       ]
      }
     ],
     "prompt_number": 40
    },
    {
     "cell_type": "markdown",
     "metadata": {},
     "source": [
      "The `itertools` module\n",
      "----\n",
      "\n",
      "This provides many essential functions for working with iterators, and is essential if you wish to program in the functional style."
     ]
    },
    {
     "cell_type": "code",
     "collapsed": false,
     "input": [
      "from itertools import cycle, groupby, islice, permutations, combinations\n",
      "\n",
      "print list(islice(cycle('abcd'), 0, 10))\n",
      "print \n",
      "\n",
      "animals = sorted(['pig', 'cow', 'giraffe', 'elephant', 'dog', 'cat', 'hippo', 'lion', 'tiger'], key=len)\n",
      "for k, g in groupby(animals, key=len):\n",
      "    print k, list(g)\n",
      "print\n",
      "\n",
      "print [''.join(p) for p in permutations('abc')]\n",
      "print \n",
      "\n",
      "print [list(c) for c in combinations([1,2,3,4], r=2)]"
     ],
     "language": "python",
     "metadata": {},
     "outputs": [
      {
       "output_type": "stream",
       "stream": "stdout",
       "text": [
        "['a', 'b', 'c', 'd', 'a', 'b', 'c', 'd', 'a', 'b']\n",
        "\n",
        "3 ['pig', 'cow', 'dog', 'cat']\n",
        "4 ['lion']\n",
        "5 ['hippo', 'tiger']\n",
        "7 ['giraffe']\n",
        "8 ['elephant']\n",
        "\n",
        "['abc', 'acb', 'bac', 'bca', 'cab', 'cba']\n",
        "\n",
        "[[1, 2], [1, 3], [1, 4], [2, 3], [2, 4], [3, 4]]\n"
       ]
      }
     ],
     "prompt_number": 41
    },
    {
     "cell_type": "markdown",
     "metadata": {},
     "source": [
      "The `toolz`, `fn` and  `funcy` modules\n",
      "----\n",
      "\n",
      "If you wish to program in the functional style, check out the following packages\n",
      "\n",
      "- [toolz](https://github.com/pytoolz/toolz)\n",
      "- [fn](https://github.com/kachayev/fn.py)\n",
      "- [funcy](https://github.com/Suor/funcy)"
     ]
    },
    {
     "cell_type": "code",
     "collapsed": false,
     "input": [
      "# Here is a small example to convert the DNA of a \n",
      "# bacterial enzyme into the protein sequence.\n",
      "\n",
      "codon_table = {\n",
      "    'ATA':'I', 'ATC':'I', 'ATT':'I', 'ATG':'M',\n",
      "    'ACA':'T', 'ACC':'T', 'ACG':'T', 'ACT':'T',\n",
      "    'AAC':'N', 'AAT':'N', 'AAA':'K', 'AAG':'K',\n",
      "    'AGC':'S', 'AGT':'S', 'AGA':'R', 'AGG':'R',\n",
      "    'CTA':'L', 'CTC':'L', 'CTG':'L', 'CTT':'L',\n",
      "    'CCA':'P', 'CCC':'P', 'CCG':'P', 'CCT':'P',\n",
      "    'CAC':'H', 'CAT':'H', 'CAA':'Q', 'CAG':'Q',\n",
      "    'CGA':'R', 'CGC':'R', 'CGG':'R', 'CGT':'R',\n",
      "    'GTA':'V', 'GTC':'V', 'GTG':'V', 'GTT':'V',\n",
      "    'GCA':'A', 'GCC':'A', 'GCG':'A', 'GCT':'A',\n",
      "    'GAC':'D', 'GAT':'D', 'GAA':'E', 'GAG':'E',\n",
      "    'GGA':'G', 'GGC':'G', 'GGG':'G', 'GGT':'G',\n",
      "    'TCA':'S', 'TCC':'S', 'TCG':'S', 'TCT':'S',\n",
      "    'TTC':'F', 'TTT':'F', 'TTA':'L', 'TTG':'L',\n",
      "    'TAC':'Y', 'TAT':'Y', 'TAA':'_', 'TAG':'_',\n",
      "    'TGC':'C', 'TGT':'C', 'TGA':'_', 'TGG':'W',\n",
      "    }\n",
      "\n",
      "gene = \"\"\"\n",
      ">ENA|BAE76126|BAE76126.1 Escherichia coli str. K-12 substr. W3110 beta-D-galactosidase \n",
      "ATGACCATGATTACGGATTCACTGGCCGTCGTTTTACAACGTCGTGACTGGGAAAACCCT\n",
      "GGCGTTACCCAACTTAATCGCCTTGCAGCACATCCCCCTTTCGCCAGCTGGCGTAATAGC\n",
      "GAAGAGGCCCGCACCGATCGCCCTTCCCAACAGTTGCGCAGCCTGAATGGCGAATGGCGC\n",
      "TTTGCCTGGTTTCCGGCACCAGAAGCGGTGCCGGAAAGCTGGCTGGAGTGCGATCTTCCT\n",
      "GAGGCCGATACTGTCGTCGTCCCCTCAAACTGGCAGATGCACGGTTACGATGCGCCCATC\n",
      "TACACCAACGTGACCTATCCCATTACGGTCAATCCGCCGTTTGTTCCCACGGAGAATCCG\n",
      "ACGGGTTGTTACTCGCTCACATTTAATGTTGATGAAAGCTGGCTACAGGAAGGCCAGACG\n",
      "CGAATTATTTTTGATGGCGTTAACTCGGCGTTTCATCTGTGGTGCAACGGGCGCTGGGTC\n",
      "GGTTACGGCCAGGACAGTCGTTTGCCGTCTGAATTTGACCTGAGCGCATTTTTACGCGCC\n",
      "GGAGAAAACCGCCTCGCGGTGATGGTGCTGCGCTGGAGTGACGGCAGTTATCTGGAAGAT\n",
      "CAGGATATGTGGCGGATGAGCGGCATTTTCCGTGACGTCTCGTTGCTGCATAAACCGACT\n",
      "ACACAAATCAGCGATTTCCATGTTGCCACTCGCTTTAATGATGATTTCAGCCGCGCTGTA\n",
      "CTGGAGGCTGAAGTTCAGATGTGCGGCGAGTTGCGTGACTACCTACGGGTAACAGTTTCT\n",
      "TTATGGCAGGGTGAAACGCAGGTCGCCAGCGGCACCGCGCCTTTCGGCGGTGAAATTATC\n",
      "GATGAGCGTGGTGGTTATGCCGATCGCGTCACACTACGTCTGAACGTCGAAAACCCGAAA\n",
      "CTGTGGAGCGCCGAAATCCCGAATCTCTATCGTGCGGTGGTTGAACTGCACACCGCCGAC\n",
      "GGCACGCTGATTGAAGCAGAAGCCTGCGATGTCGGTTTCCGCGAGGTGCGGATTGAAAAT\n",
      "GGTCTGCTGCTGCTGAACGGCAAGCCGTTGCTGATTCGAGGCGTTAACCGTCACGAGCAT\n",
      "CATCCTCTGCATGGTCAGGTCATGGATGAGCAGACGATGGTGCAGGATATCCTGCTGATG\n",
      "AAGCAGAACAACTTTAACGCCGTGCGCTGTTCGCATTATCCGAACCATCCGCTGTGGTAC\n",
      "ACGCTGTGCGACCGCTACGGCCTGTATGTGGTGGATGAAGCCAATATTGAAACCCACGGC\n",
      "ATGGTGCCAATGAATCGTCTGACCGATGATCCGCGCTGGCTACCGGCGATGAGCGAACGC\n",
      "GTAACGCGAATGGTGCAGCGCGATCGTAATCACCCGAGTGTGATCATCTGGTCGCTGGGG\n",
      "AATGAATCAGGCCACGGCGCTAATCACGACGCGCTGTATCGCTGGATCAAATCTGTCGAT\n",
      "CCTTCCCGCCCGGTGCAGTATGAAGGCGGCGGAGCCGACACCACGGCCACCGATATTATT\n",
      "TGCCCGATGTACGCGCGCGTGGATGAAGACCAGCCCTTCCCGGCTGTGCCGAAATGGTCC\n",
      "ATCAAAAAATGGCTTTCGCTACCTGGAGAGACGCGCCCGCTGATCCTTTGCGAATACGCC\n",
      "CACGCGATGGGTAACAGTCTTGGCGGTTTCGCTAAATACTGGCAGGCGTTTCGTCAGTAT\n",
      "CCCCGTTTACAGGGCGGCTTCGTCTGGGACTGGGTGGATCAGTCGCTGATTAAATATGAT\n",
      "GAAAACGGCAACCCGTGGTCGGCTTACGGCGGTGATTTTGGCGATACGCCGAACGATCGC\n",
      "CAGTTCTGTATGAACGGTCTGGTCTTTGCCGACCGCACGCCGCATCCAGCGCTGACGGAA\n",
      "GCAAAACACCAGCAGCAGTTTTTCCAGTTCCGTTTATCCGGGCAAACCATCGAAGTGACC\n",
      "AGCGAATACCTGTTCCGTCATAGCGATAACGAGCTCCTGCACTGGATGGTGGCGCTGGAT\n",
      "GGTAAGCCGCTGGCAAGCGGTGAAGTGCCTCTGGATGTCGCTCCACAAGGTAAACAGTTG\n",
      "ATTGAACTGCCTGAACTACCGCAGCCGGAGAGCGCCGGGCAACTCTGGCTCACAGTACGC\n",
      "GTAGTGCAACCGAACGCGACCGCATGGTCAGAAGCCGGGCACATCAGCGCCTGGCAGCAG\n",
      "TGGCGTCTGGCGGAAAACCTCAGTGTGACGCTCCCCGCCGCGTCCCACGCCATCCCGCAT\n",
      "CTGACCACCAGCGAAATGGATTTTTGCATCGAGCTGGGTAATAAGCGTTGGCAATTTAAC\n",
      "CGCCAGTCAGGCTTTCTTTCACAGATGTGGATTGGCGATAAAAAACAACTGCTGACGCCG\n",
      "CTGCGCGATCAGTTCACCCGTGCACCGCTGGATAACGACATTGGCGTAAGTGAAGCGACC\n",
      "CGCATTGACCCTAACGCCTGGGTCGAACGCTGGAAGGCGGCGGGCCATTACCAGGCCGAA\n",
      "GCAGCGTTGTTGCAGTGCACGGCAGATACACTTGCTGATGCGGTGCTGATTACGACCGCT\n",
      "CACGCGTGGCAGCATCAGGGGAAAACCTTATTTATCAGCCGGAAAACCTACCGGATTGAT\n",
      "GGTAGTGGTCAAATGGCGATTACCGTTGATGTTGAAGTGGCGAGCGATACACCGCATCCG\n",
      "GCGCGGATTGGCCTGAACTGCCAGCTGGCGCAGGTAGCAGAGCGGGTAAACTGGCTCGGA\n",
      "TTAGGGCCGCAAGAAAACTATCCCGACCGCCTTACTGCCGCCTGTTTTGACCGCTGGGAT\n",
      "CTGCCATTGTCAGACATGTATACCCCGTACGTCTTCCCGAGCGAAAACGGTCTGCGCTGC\n",
      "GGGACGCGCGAATTGAATTATGGCCCACACCAGTGGCGCGGCGACTTCCAGTTCAACATC\n",
      "AGCCGCTACAGTCAACAGCAACTGATGGAAACCAGCCATCGCCATCTGCTGCACGCGGAA\n",
      "GAAGGCACATGGCTGAATATCGACGGTTTCCATATGGGGATTGGTGGCGACGACTCCTGG\n",
      "AGCCCGTCAGTATCGGCGGAATTCCAGCTGAGCGCCGGTCGCTACCATTACCAGTTGGTC\n",
      "TGGTGTCAAAAATAA\n",
      "\"\"\"\n",
      "from toolz import partition\n",
      "\n",
      "# convert FASTA into single DNA sequence\n",
      "dna = ''.join(line for line in gene.strip().split('\\n') \n",
      "              if not line.startswith('>'))\n",
      "\n",
      "# partition DNA into codons (of length 3) and translate to amino acid\n",
      "codons = (''.join(c) for c in partition(3, dna))\n",
      "''.join(codon_table[codon] for codon in codons)"
     ],
     "language": "python",
     "metadata": {},
     "outputs": [
      {
       "metadata": {},
       "output_type": "pyout",
       "prompt_number": 63,
       "text": [
        "'MTMITDSLAVVLQRRDWENPGVTQLNRLAAHPPFASWRNSEEARTDRPSQQLRSLNGEWRFAWFPAPEAVPESWLECDLPEADTVVVPSNWQMHGYDAPIYTNVTYPITVNPPFVPTENPTGCYSLTFNVDESWLQEGQTRIIFDGVNSAFHLWCNGRWVGYGQDSRLPSEFDLSAFLRAGENRLAVMVLRWSDGSYLEDQDMWRMSGIFRDVSLLHKPTTQISDFHVATRFNDDFSRAVLEAEVQMCGELRDYLRVTVSLWQGETQVASGTAPFGGEIIDERGGYADRVTLRLNVENPKLWSAEIPNLYRAVVELHTADGTLIEAEACDVGFREVRIENGLLLLNGKPLLIRGVNRHEHHPLHGQVMDEQTMVQDILLMKQNNFNAVRCSHYPNHPLWYTLCDRYGLYVVDEANIETHGMVPMNRLTDDPRWLPAMSERVTRMVQRDRNHPSVIIWSLGNESGHGANHDALYRWIKSVDPSRPVQYEGGGADTTATDIICPMYARVDEDQPFPAVPKWSIKKWLSLPGETRPLILCEYAHAMGNSLGGFAKYWQAFRQYPRLQGGFVWDWVDQSLIKYDENGNPWSAYGGDFGDTPNDRQFCMNGLVFADRTPHPALTEAKHQQQFFQFRLSGQTIEVTSEYLFRHSDNELLHWMVALDGKPLASGEVPLDVAPQGKQLIELPELPQPESAGQLWLTVRVVQPNATAWSEAGHISAWQQWRLAENLSVTLPAASHAIPHLTTSEMDFCIELGNKRWQFNRQSGFLSQMWIGDKKQLLTPLRDQFTRAPLDNDIGVSEATRIDPNAWVERWKAAGHYQAEAALLQCTADTLADAVLITTAHAWQHQGKTLFISRKTYRIDGSGQMAITVDVEVASDTPHPARIGLNCQLAQVAERVNWLGLGPQENYPDRLTAACFDRWDLPLSDMYTPYVFPSENGLRCGTRELNYGPHQWRGDFQFNISRYSQQQLMETSHRHLLHAEEGTWLNIDGFHMGIGGDDSWSPSVSAEFQLSAGRYHYQLVWCQK_'"
       ]
      }
     ],
     "prompt_number": 63
    },
    {
     "cell_type": "markdown",
     "metadata": {},
     "source": [
      "The `partition` function can also be used for doing statistics on sequence windows, for example, in calculating a moving average."
     ]
    },
    {
     "cell_type": "markdown",
     "metadata": {},
     "source": [
      "<font color=red>Exercises</font>\n",
      "----"
     ]
    },
    {
     "cell_type": "markdown",
     "metadata": {},
     "source": [
      "**1**. Rewrite the follwoing nested loop as a list comprehension\n",
      "\n",
      "```python\n",
      "ans = []\n",
      "for i in range(3):\n",
      "    for j in range(4):\n",
      "        ans.append((i, j))\n",
      "print ans\n",
      "```"
     ]
    },
    {
     "cell_type": "code",
     "collapsed": false,
     "input": [
      "# YOUR CODE HERE\n",
      "\n",
      "\n"
     ],
     "language": "python",
     "metadata": {},
     "outputs": [],
     "prompt_number": 23
    },
    {
     "cell_type": "markdown",
     "metadata": {},
     "source": [
      "**2**. Rewrite the following as a list comprehension\n",
      "\n",
      "```python\n",
      "ans = map(lambda x: x*x, filter(lambda x: x%2 == 0, range(5)))\n",
      "print ans\n",
      "```"
     ]
    },
    {
     "cell_type": "code",
     "collapsed": false,
     "input": [
      "# YOUR CODE HERE\n",
      "\n",
      "\n"
     ],
     "language": "python",
     "metadata": {},
     "outputs": []
    },
    {
     "cell_type": "markdown",
     "metadata": {},
     "source": [
      "**3**. Convert the function below into a pure function with no global variables or side effects\n",
      "\n",
      "```python\n",
      "x = 5\n",
      "def f(alist):\n",
      "    for i in range(x):\n",
      "        alist.append(i)\n",
      "    return alist\n",
      "\n",
      "alist = [1,2,3]\n",
      "ans = f(alist)\n",
      "print ans\n",
      "print alist # alist has been changed!\n",
      "```"
     ]
    },
    {
     "cell_type": "code",
     "collapsed": false,
     "input": [
      "# YOUR CODE HERE\n",
      "\n",
      "\n"
     ],
     "language": "python",
     "metadata": {},
     "outputs": []
    },
    {
     "cell_type": "markdown",
     "metadata": {},
     "source": [
      "**4.** Write a decorator `hello` that makes every wrapped function print \"Hello!\" \n",
      "\n",
      "For example\n",
      "\n",
      "```python\n",
      "@hello\n",
      "def square(x):\n",
      "    return x*x\n",
      "```\n",
      "\n",
      "when called will give the following result\n",
      "```python\n",
      "[In]\n",
      "square(2)\n",
      "[Out]\n",
      "Hello!\n",
      "4\n",
      "```"
     ]
    },
    {
     "cell_type": "code",
     "collapsed": false,
     "input": [
      "# YOUR CODE HERE\n",
      "\n",
      "\n"
     ],
     "language": "python",
     "metadata": {},
     "outputs": []
    },
    {
     "cell_type": "markdown",
     "metadata": {},
     "source": [
      "**5**. Rewrite the fatorial function so that it does not use recursion.\n",
      "\n",
      "```python\n",
      "def fact(n):\n",
      "    \"\"\"Returns the factorial of n.\"\"\"\n",
      "    # base case\n",
      "    if n==0:\n",
      "        return 1\n",
      "    # recursive case\n",
      "    else:\n",
      "        return n * fact(n-1)\n",
      "```"
     ]
    },
    {
     "cell_type": "code",
     "collapsed": false,
     "input": [
      "# YOUR CODE HERE\n",
      "\n",
      "\n"
     ],
     "language": "python",
     "metadata": {},
     "outputs": [],
     "prompt_number": 33
    },
    {
     "cell_type": "markdown",
     "metadata": {},
     "source": [
      "**6**. Rewrite the following anonymous functiona ss a regular named fucntion.\n",
      "\n",
      "```python\n",
      "lambda x, y: x**2 + y**2\n",
      "```"
     ]
    },
    {
     "cell_type": "code",
     "collapsed": false,
     "input": [
      "# YOUR CODE HERE\n",
      "\n",
      "\n"
     ],
     "language": "python",
     "metadata": {},
     "outputs": []
    }
   ],
   "metadata": {}
  }
 ]
}