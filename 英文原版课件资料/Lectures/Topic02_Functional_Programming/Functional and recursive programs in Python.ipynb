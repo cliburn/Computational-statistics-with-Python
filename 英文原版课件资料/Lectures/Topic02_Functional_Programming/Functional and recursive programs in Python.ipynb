{
 "metadata": {
  "name": "",
  "signature": "sha256:649532956b2c76feeb76af48991412a4f2b24879292eaf82ec3a393735d0df7c"
 },
 "nbformat": 3,
 "nbformat_minor": 0,
 "worksheets": [
  {
   "cells": [
    {
     "cell_type": "markdown",
     "metadata": {},
     "source": [
      "Functional and recursive programs in Python \n",
      "====\n",
      "\n",
      "```\n",
      "pip install functional\n",
      "```"
     ]
    },
    {
     "cell_type": "markdown",
     "metadata": {},
     "source": [
      "Iterators, list comprehension, generator expressions and higher order functions\n",
      "----"
     ]
    },
    {
     "cell_type": "markdown",
     "metadata": {},
     "source": [
      "### Imperative style"
     ]
    },
    {
     "cell_type": "code",
     "collapsed": false,
     "input": [
      "xs = []\n",
      "for i in range(10):\n",
      "    if i % 2 == 0:\n",
      "        xs.append(i*i)\n",
      "xs"
     ],
     "language": "python",
     "metadata": {},
     "outputs": [
      {
       "metadata": {},
       "output_type": "pyout",
       "prompt_number": 1,
       "text": [
        "[0, 4, 16, 36, 64]"
       ]
      }
     ],
     "prompt_number": 1
    },
    {
     "cell_type": "markdown",
     "metadata": {},
     "source": [
      "### Using list comprehenions"
     ]
    },
    {
     "cell_type": "code",
     "collapsed": false,
     "input": [
      "### A list comprehension builds a list in memory\n",
      "xs = [i*i for i in range(10) if i % 2 == 0] # memory is allocated\n",
      "xs"
     ],
     "language": "python",
     "metadata": {},
     "outputs": [
      {
       "metadata": {},
       "output_type": "pyout",
       "prompt_number": 2,
       "text": [
        "[0, 4, 16, 36, 64]"
       ]
      }
     ],
     "prompt_number": 2
    },
    {
     "cell_type": "markdown",
     "metadata": {},
     "source": [
      "### Using generator expressions"
     ]
    },
    {
     "cell_type": "code",
     "collapsed": false,
     "input": [
      "### A generator expression looks like a list comprehension but returns values on demand only\n",
      "xs = (i*i for i in range(10) if i % 2 == 0) # no memory is allocated\n",
      "list(xs)"
     ],
     "language": "python",
     "metadata": {},
     "outputs": [
      {
       "metadata": {},
       "output_type": "pyout",
       "prompt_number": 3,
       "text": [
        "[0, 4, 16, 36, 64]"
       ]
      }
     ],
     "prompt_number": 3
    },
    {
     "cell_type": "markdown",
     "metadata": {},
     "source": [
      "### Using higher order functions - map and filter"
     ]
    },
    {
     "cell_type": "code",
     "collapsed": false,
     "input": [
      "def square(x):\n",
      "    return x*x\n",
      "\n",
      "def even(x):\n",
      "    return x % 2 == 0\n",
      "\n",
      "xs = map(square, filter(even, range(10)))\n",
      "list(xs)"
     ],
     "language": "python",
     "metadata": {},
     "outputs": [
      {
       "metadata": {},
       "output_type": "pyout",
       "prompt_number": 4,
       "text": [
        "[0, 4, 16, 36, 64]"
       ]
      }
     ],
     "prompt_number": 4
    },
    {
     "cell_type": "code",
     "collapsed": false,
     "input": [
      "### Using anonymous functions\n",
      "\n",
      "xs = map(lambda x: x*x, filter(lambda x: x % 2 == 0, range(10)))\n",
      "list(xs)"
     ],
     "language": "python",
     "metadata": {},
     "outputs": [
      {
       "metadata": {},
       "output_type": "pyout",
       "prompt_number": 5,
       "text": [
        "[0, 4, 16, 36, 64]"
       ]
      }
     ],
     "prompt_number": 5
    },
    {
     "cell_type": "markdown",
     "metadata": {},
     "source": [
      "Operators and Reductions\n",
      "----"
     ]
    },
    {
     "cell_type": "markdown",
     "metadata": {},
     "source": [
      "### Imperative style"
     ]
    },
    {
     "cell_type": "code",
     "collapsed": false,
     "input": [
      "s = 10\n",
      "for i in range(10):\n",
      "    s += i\n",
      "s"
     ],
     "language": "python",
     "metadata": {},
     "outputs": [
      {
       "metadata": {},
       "output_type": "pyout",
       "prompt_number": 6,
       "text": [
        "55"
       ]
      }
     ],
     "prompt_number": 6
    },
    {
     "cell_type": "markdown",
     "metadata": {},
     "source": [
      "### Using operator.add and reduce"
     ]
    },
    {
     "cell_type": "code",
     "collapsed": false,
     "input": [
      "import operator\n",
      "from functools import reduce\n",
      "\n",
      "s = reduce(operator.add, range(10), 10)\n",
      "s"
     ],
     "language": "python",
     "metadata": {},
     "outputs": [
      {
       "metadata": {},
       "output_type": "pyout",
       "prompt_number": 7,
       "text": [
        "55"
       ]
      }
     ],
     "prompt_number": 7
    },
    {
     "cell_type": "code",
     "collapsed": false,
     "input": [
      "# In practice, we just use sum\n",
      "sum(range(10)) + 10"
     ],
     "language": "python",
     "metadata": {},
     "outputs": [
      {
       "metadata": {},
       "output_type": "pyout",
       "prompt_number": 8,
       "text": [
        "55"
       ]
      }
     ],
     "prompt_number": 8
    },
    {
     "cell_type": "markdown",
     "metadata": {},
     "source": [
      "### The map-reduce idioom"
     ]
    },
    {
     "cell_type": "code",
     "collapsed": false,
     "input": [
      "# But understandning these higher order functions is useful later when we write parallel programs\n",
      "import numpy as np\n",
      "\n",
      "# suppose we have a list of lists of numbers\n",
      "xs = np.random.randint(0,10,(5,12)).tolist()\n",
      "xs"
     ],
     "language": "python",
     "metadata": {},
     "outputs": [
      {
       "metadata": {},
       "output_type": "pyout",
       "prompt_number": 9,
       "text": [
        "[[1, 3, 2, 9, 7, 9, 2, 2, 7, 1, 6, 6],\n",
        " [3, 9, 0, 1, 0, 5, 9, 7, 6, 8, 2, 6],\n",
        " [9, 1, 3, 6, 5, 7, 5, 6, 4, 0, 8, 3],\n",
        " [6, 7, 1, 8, 6, 4, 4, 3, 3, 1, 5, 1],\n",
        " [3, 8, 7, 5, 2, 8, 1, 1, 1, 5, 0, 3]]"
       ]
      }
     ],
     "prompt_number": 9
    },
    {
     "cell_type": "code",
     "collapsed": false,
     "input": [
      "# and we want to sum the squares for each list\n",
      "# then find maximum value\n",
      "# this can be done using the map-reduce pattern\n",
      "\n",
      "# here we use a list comprehension - in a parallel program\n",
      "# each map operation would be performed on a different processor in parallel\n",
      "\n",
      "row_sums = []\n",
      "for x in xs:\n",
      "    # first we square each number for each list with a map operation\n",
      "    row = map(lambda x: x*x, x)\n",
      "    # then we add the squared numbers in each list with a reduce operaiton\n",
      "    row_sum = reduce(operator.add, row)\n",
      "    row_sums.append(row_sum)\n",
      "print(row_sums)"
     ],
     "language": "python",
     "metadata": {},
     "outputs": [
      {
       "output_type": "stream",
       "stream": "stdout",
       "text": [
        "[355, 386, 351, 263, 252]\n"
       ]
      }
     ],
     "prompt_number": 10
    },
    {
     "cell_type": "code",
     "collapsed": false,
     "input": [
      "# now this can be collected in a single proceessor and the max found easily\n",
      "max(row_sums)"
     ],
     "language": "python",
     "metadata": {},
     "outputs": [
      {
       "metadata": {},
       "output_type": "pyout",
       "prompt_number": 11,
       "text": [
        "386"
       ]
      }
     ],
     "prompt_number": 11
    },
    {
     "cell_type": "code",
     "collapsed": false,
     "input": [
      "# we can do this in one line, but it can be hard to read\n",
      "\n",
      "max(reduce(operator.add, map(lambda x: x*x, x)) for x in xs)"
     ],
     "language": "python",
     "metadata": {},
     "outputs": [
      {
       "metadata": {},
       "output_type": "pyout",
       "prompt_number": 12,
       "text": [
        "386"
       ]
      }
     ],
     "prompt_number": 12
    },
    {
     "cell_type": "code",
     "collapsed": false,
     "input": [
      "# In normal use, we would just use vectorized operations\n",
      "xs = np.array(xs)\n",
      "max(np.sum(xs*xs, axis=1)) # axis=1 sums by rows"
     ],
     "language": "python",
     "metadata": {},
     "outputs": [
      {
       "metadata": {},
       "output_type": "pyout",
       "prompt_number": 13,
       "text": [
        "386"
       ]
      }
     ],
     "prompt_number": 13
    },
    {
     "cell_type": "markdown",
     "metadata": {},
     "source": [
      "### Function composition"
     ]
    },
    {
     "cell_type": "markdown",
     "metadata": {},
     "source": [
      "We can get many more functional programmign tools by installing the `functional` package\n",
      "```bash\n",
      "pip install functional\n",
      "```"
     ]
    },
    {
     "cell_type": "code",
     "collapsed": false,
     "input": [
      "from functional import compose, foldl, partial"
     ],
     "language": "python",
     "metadata": {},
     "outputs": [],
     "prompt_number": 14
    },
    {
     "cell_type": "code",
     "collapsed": false,
     "input": [
      "# partial reduces the number of argumnents a function needs\n",
      "# it returns a new functions with some parameters \"filled in\"\n",
      "\n",
      "def f(x, y, z):\n",
      "    return x, y, z\n",
      "\n",
      "g = partial(f, 1)\n",
      "h = partial(f, 1, 2)\n",
      "k = partial(g, 2)\n",
      "j = partial(f, z=3)\n",
      "\n",
      "print(f(1,2,3))\n",
      "print(g(2,3))\n",
      "print(h(3))\n",
      "print(k(3))\n",
      "print(j(1, 2))"
     ],
     "language": "python",
     "metadata": {},
     "outputs": [
      {
       "output_type": "stream",
       "stream": "stdout",
       "text": [
        "(1, 2, 3)\n",
        "(1, 2, 3)\n",
        "(1, 2, 3)\n",
        "(1, 2, 3)\n",
        "(1, 2, 3)\n"
       ]
      }
     ],
     "prompt_number": 15
    },
    {
     "cell_type": "code",
     "collapsed": false,
     "input": [
      "# a simple example\n",
      "\n",
      "def add(a, b):\n",
      "    return a + b\n",
      "\n",
      "add10 = partial(add, b=10)\n",
      "print(add10(5))"
     ],
     "language": "python",
     "metadata": {},
     "outputs": [
      {
       "output_type": "stream",
       "stream": "stdout",
       "text": [
        "15\n"
       ]
      }
     ],
     "prompt_number": 16
    },
    {
     "cell_type": "code",
     "collapsed": false,
     "input": [
      "# compose does function composision\n",
      "\n",
      "def f(x):\n",
      "    return x**2\n",
      "\n",
      "def g(x):\n",
      "    return x + 2\n",
      "\n",
      "fg = compose(f, g)\n",
      "x =3\n",
      "fg(x)"
     ],
     "language": "python",
     "metadata": {},
     "outputs": [
      {
       "metadata": {},
       "output_type": "pyout",
       "prompt_number": 17,
       "text": [
        "25"
       ]
      }
     ],
     "prompt_number": 17
    },
    {
     "cell_type": "code",
     "collapsed": false,
     "input": [
      "# We can use reduce and parital to compose multiple arguments\n",
      "\n",
      "# reduce takes two arguments - the function, and an iterable\n",
      "# First we use parital to \"pre-load\" reduce with the compose function\n",
      "composeN = partial(reduce, compose)\n",
      "\n",
      "# Now we can compose multiple functions\n",
      "\n",
      "fggf = composeN([f, g, g, f])\n",
      "fggf(x)"
     ],
     "language": "python",
     "metadata": {},
     "outputs": [
      {
       "metadata": {},
       "output_type": "pyout",
       "prompt_number": 18,
       "text": [
        "169"
       ]
      }
     ],
     "prompt_number": 18
    },
    {
     "cell_type": "code",
     "collapsed": false,
     "input": [
      "# Let's check\n",
      "f(g(g(f(x))))"
     ],
     "language": "python",
     "metadata": {},
     "outputs": [
      {
       "metadata": {},
       "output_type": "pyout",
       "prompt_number": 19,
       "text": [
        "169"
       ]
      }
     ],
     "prompt_number": 19
    },
    {
     "cell_type": "markdown",
     "metadata": {},
     "source": [
      "From <https://docs.python.org/release/2.6/howto/functional.html>\n",
      "\n",
      "foldl() takes a binary function, a starting value (usually some kind of \u2018zero\u2019), and an iterable. The function is applied to the starting value and the first element of the list, then the result of that and the second element of the list, then the result of that and the third element of the list, and so on.\n",
      "\n",
      "This means that a call such as:\n",
      "```python\n",
      "foldl(f, 0, [1, 2, 3])\n",
      "```\n",
      "is equivalent to:\n",
      "```python\n",
      "f(f(f(0, 1), 2), 3)\n",
      "```"
     ]
    },
    {
     "cell_type": "markdown",
     "metadata": {},
     "source": [
      "### A bootstrap example using higher order functions"
     ]
    },
    {
     "cell_type": "code",
     "collapsed": false,
     "input": [
      "# We want a bootstrap funciotn that will work for any distribution \n",
      "# and any statstiic of interest\n",
      "\n",
      "def bootstrap(xs, nsamples, low, high, statistic):\n",
      "    \"\"\"A simple bootstrap function.\n",
      "    xs = data for bootstrapping\n",
      "    nsamples = number of bootstrap samples\n",
      "    low = lower percentile\n",
      "    high = upper percentile\n",
      "    dist = random number generator that will give n samples\n",
      "    statistic = boootstrap summary of interest\"\"\"\n",
      "    \n",
      "    bs = np.random.choice(xs, (nsamples, len(xs)), replace=True)\n",
      "    bss = np.apply_along_axis(statistic, 1, bs)\n",
      "    bss.sort()\n",
      "    return np.percentile(bss, 100*low),  np.percentile(bss, 100*high)"
     ],
     "language": "python",
     "metadata": {},
     "outputs": [],
     "prompt_number": 20
    },
    {
     "cell_type": "code",
     "collapsed": false,
     "input": [
      "nsamples = 500\n",
      "low = 0.025\n",
      "high = 0.975\n",
      "dist = partial(np.random.normal, 10, 3)\n",
      "statistic = np.mean\n",
      "n =1000\n",
      "xs = dist(n)\n",
      "print(bootstrap(xs, nsamples, low, high, statistic))\n",
      "\n",
      "# it is easy to find the bootstrap CI for variance of a poisson disttribution\n",
      "dist = partial(np.random.poisson, 5)\n",
      "xs = dist(n)\n",
      "print(bootstrap(xs, nsamples, low, high, np.var))\n",
      "\n",
      "# function composition will also work - e.g. to find precision\n",
      "print(bootstrap(xs, nsamples, low, high, compose(np.reciprocal, np.var)))"
     ],
     "language": "python",
     "metadata": {},
     "outputs": [
      {
       "output_type": "stream",
       "stream": "stdout",
       "text": [
        "(9.7001821758518894, 10.085722964842198)\n",
        "(4.3044644000000094, 5.1235598749999891)"
       ]
      },
      {
       "output_type": "stream",
       "stream": "stdout",
       "text": [
        "\n",
        "(0.19309519672067721, 0.23122277631375732)"
       ]
      },
      {
       "output_type": "stream",
       "stream": "stdout",
       "text": [
        "\n"
       ]
      }
     ],
     "prompt_number": 21
    },
    {
     "cell_type": "markdown",
     "metadata": {},
     "source": [
      "### Decorators\n",
      "\n",
      "A decorator is a special function that takes a function as an argument, \"decorates\" the function with new capabilities, and then returns the function."
     ]
    },
    {
     "cell_type": "code",
     "collapsed": false,
     "input": [
      "# A simple decorator\n",
      "def func_timer(f):\n",
      "    import time\n",
      "    def func(x):\n",
      "        start = time.time()        \n",
      "        result = f(x)\n",
      "        print('Elapsed time:', time.time() - start)\n",
      "        return result\n",
      "    return func\n",
      "\n",
      "# manual call\n",
      "def snooze1(n):\n",
      "    import time\n",
      "    time.sleep(n)\n",
      "    \n",
      "func_timer(snooze1)(1)\n",
      "\n",
      "# use decorator syntactic sugar\n",
      "@func_timer\n",
      "def snooze2(n):\n",
      "    import time\n",
      "    time.sleep(n)\n",
      "    \n",
      "snooze2(2)"
     ],
     "language": "python",
     "metadata": {},
     "outputs": [
      {
       "output_type": "stream",
       "stream": "stdout",
       "text": [
        "('Elapsed time:', 1.0001499652862549)\n",
        "('Elapsed time:', 2.001127004623413)"
       ]
      },
      {
       "output_type": "stream",
       "stream": "stdout",
       "text": [
        "\n"
       ]
      }
     ],
     "prompt_number": 22
    },
    {
     "cell_type": "markdown",
     "metadata": {},
     "source": [
      "### Use of recursion"
     ]
    },
    {
     "cell_type": "code",
     "collapsed": false,
     "input": [
      "# The classic example of recursion is either Fibonacci series or the factorial function\n",
      "# Recursion just means that a function calls itself\n",
      "\n",
      "def fact(n):\n",
      "    if n <= 1:\n",
      "        return 1\n",
      "    else:\n",
      "        return n*fact(n-1)\n",
      "\n",
      "def fib(n):\n",
      "    if n < 2:\n",
      "        return 1\n",
      "    else:\n",
      "        return fib(n-1) + fib(n-2)"
     ],
     "language": "python",
     "metadata": {},
     "outputs": [],
     "prompt_number": 23
    },
    {
     "cell_type": "code",
     "collapsed": false,
     "input": [
      "fact(6)"
     ],
     "language": "python",
     "metadata": {},
     "outputs": [
      {
       "metadata": {},
       "output_type": "pyout",
       "prompt_number": 24,
       "text": [
        "720"
       ]
      }
     ],
     "prompt_number": 24
    },
    {
     "cell_type": "code",
     "collapsed": false,
     "input": [
      "[fib(i) for i in range(10)]"
     ],
     "language": "python",
     "metadata": {},
     "outputs": [
      {
       "metadata": {},
       "output_type": "pyout",
       "prompt_number": 25,
       "text": [
        "[1, 1, 2, 3, 5, 8, 13, 21, 34, 55]"
       ]
      }
     ],
     "prompt_number": 25
    },
    {
     "cell_type": "markdown",
     "metadata": {},
     "source": [
      "### Consider moving to optimization session"
     ]
    },
    {
     "cell_type": "code",
     "collapsed": false,
     "input": [
      "# Recursion is very slow and prone to crashing on Python\n",
      "# because of the redundant number of function calls made\n",
      "# However, if we save the results of previus function calls\n",
      "# and resuse them instead of repeating the calculaiotn,\n",
      "# we reduce memory usage and computational time dramatically"
     ],
     "language": "python",
     "metadata": {},
     "outputs": [],
     "prompt_number": 26
    },
    {
     "cell_type": "code",
     "collapsed": false,
     "input": [
      "# From http://code.activestate.com/recipes/578231-probably-the-fastest-memoization-decorator-in-the-/\n",
      "# Just for fun\n",
      "# should show classical version of the decorator\n",
      "\n",
      "def memoize1(f):\n",
      "    store = {}\n",
      "    def func(n):\n",
      "        if n not in store:\n",
      "            store[n] = f(n)\n",
      "        return store[n]\n",
      "    return func\n",
      "\n",
      "@memoize1\n",
      "def cfib(n):\n",
      "    return fib(n)\n",
      "\n",
      "def memoize2(f):\n",
      "  class memodict(dict):\n",
      "      __slots__ = ()\n",
      "      def __missing__(self, key):\n",
      "          self[key] = ret = f(key)\n",
      "          return ret\n",
      "  return memodict().__getitem__\n",
      "    \n",
      "@memoize2\n",
      "def mfib(n):\n",
      "    return fib(n)"
     ],
     "language": "python",
     "metadata": {},
     "outputs": [],
     "prompt_number": 27
    },
    {
     "cell_type": "code",
     "collapsed": false,
     "input": [
      "%timeit -n 3 fib(30)\n",
      "%timeit -n 10 cfib(30)\n",
      "%timeit -n 10 mfib(30)"
     ],
     "language": "python",
     "metadata": {},
     "outputs": [
      {
       "output_type": "stream",
       "stream": "stdout",
       "text": [
        "3 loops, best of 3: 655 ms per loop\n",
        "10 loops, best of 3: 620 ns per loop"
       ]
      },
      {
       "output_type": "stream",
       "stream": "stdout",
       "text": [
        "\n",
        "10 loops, best of 3: 95.4 ns per loop"
       ]
      },
      {
       "output_type": "stream",
       "stream": "stdout",
       "text": [
        "\n"
       ]
      }
     ],
     "prompt_number": 28
    },
    {
     "cell_type": "code",
     "collapsed": false,
     "input": [],
     "language": "python",
     "metadata": {},
     "outputs": [],
     "prompt_number": 28
    }
   ],
   "metadata": {}
  }
 ]
}