{
 "metadata": {
  "name": "",
  "signature": "sha256:4762b7f40694bf8e1e029774719327571a69e29d98c56f95282fdab8910d960e"
 },
 "nbformat": 3,
 "nbformat_minor": 0,
 "worksheets": [
  {
   "cells": [
    {
     "cell_type": "code",
     "collapsed": false,
     "input": [
      "import os\n",
      "import sys\n",
      "import glob\n",
      "import matplotlib.pyplot as plt\n",
      "import numpy as np\n",
      "import pandas as pd\n",
      "%matplotlib inline\n",
      "%precision 4"
     ],
     "language": "python",
     "metadata": {},
     "outputs": [
      {
       "metadata": {},
       "output_type": "pyout",
       "prompt_number": 1,
       "text": [
        "u'%.4f'"
       ]
      }
     ],
     "prompt_number": 1
    },
    {
     "cell_type": "markdown",
     "metadata": {},
     "source": [
      "Divide and conquer\n",
      "----\n",
      "\n",
      "This cateogry includes many famous recursive algorithms, such as quicksort, mergesort, kd-tree, binary search etc."
     ]
    },
    {
     "cell_type": "markdown",
     "metadata": {},
     "source": [
      "### Mergesort"
     ]
    },
    {
     "cell_type": "code",
     "collapsed": false,
     "input": [
      "from collections import deque\n",
      "\n",
      "def merge(left, right):\n",
      "    \"\"\"Merge two sorted deques into a single sorted list.\"\"\"\n",
      "    result = []\n",
      "    left = deque(left)\n",
      "    right = deque(right)\n",
      "    while left or right:\n",
      "        if left and right:\n",
      "            if left[0] < right[0]:\n",
      "                result.append(left.popleft())\n",
      "            else:\n",
      "                result.append(right.popleft())\n",
      "        else:\n",
      "            if not left:\n",
      "                result.extend(right)\n",
      "                right.clear()\n",
      "            elif not right:\n",
      "                result.extend(left)\n",
      "                left.clear()\n",
      "    return result\n",
      "\n",
      "def mergesort(xs):\n",
      "    \"\"\"Return the sorted list xs.\"\"\"\n",
      "    # base case\n",
      "    n = len(xs)\n",
      "    if n <= 1:\n",
      "        return xs\n",
      "    # recursive case\n",
      "    else:\n",
      "        left = xs[:(n/2)]\n",
      "        right = xs[(n/2):]\n",
      "        left = mergesort(left)\n",
      "        right = mergesort(right)\n",
      "        return merge(left, right)"
     ],
     "language": "python",
     "metadata": {},
     "outputs": [],
     "prompt_number": 2
    },
    {
     "cell_type": "code",
     "collapsed": false,
     "input": [
      "print mergesort([3,1,5,4,6,2,5])"
     ],
     "language": "python",
     "metadata": {},
     "outputs": [
      {
       "output_type": "stream",
       "stream": "stdout",
       "text": [
        "[1, 2, 3, 4, 5, 5, 6]\n"
       ]
      }
     ],
     "prompt_number": 3
    },
    {
     "cell_type": "markdown",
     "metadata": {},
     "source": [
      "Decrease and conquer\n",
      "----\n",
      "\n",
      "This class of algorithms typcially peel off one or more items at a time, then recursviely proceses the remaining smaller set."
     ]
    },
    {
     "cell_type": "markdown",
     "metadata": {},
     "source": [
      "### Eculid's algorihtm for GCD\n",
      "\n",
      "gcd(m, n) = gcd(n, m mod n)"
     ]
    },
    {
     "cell_type": "code",
     "collapsed": false,
     "input": [
      "def gcd(m, n):\n",
      "    \"\"\"Euclid's algorithm.\"\"\"\n",
      "\n",
      "    # base case\n",
      "    if n == 0:\n",
      "        return m\n",
      "    # recrusive case\n",
      "    else:\n",
      "        result = gcd(n, m % n)\n",
      "    return result"
     ],
     "language": "python",
     "metadata": {},
     "outputs": [],
     "prompt_number": 4
    },
    {
     "cell_type": "code",
     "collapsed": false,
     "input": [
      "print gcd(60, 240)"
     ],
     "language": "python",
     "metadata": {},
     "outputs": [
      {
       "output_type": "stream",
       "stream": "stdout",
       "text": [
        "60\n"
       ]
      }
     ],
     "prompt_number": 5
    },
    {
     "cell_type": "markdown",
     "metadata": {},
     "source": [
      "Greedy Algorithms\n",
      "----\n",
      "\n",
      "A greedy algorithm picks the locally best solution at each stage. Depending on the application, it may or may not find the globally optimal solution. An example in statistics is simple froward or backwards stepwise regression."
     ]
    },
    {
     "cell_type": "markdown",
     "metadata": {},
     "source": [
      "### Minimal spanning tree with Prim's algorithm\n",
      "\n",
      "We will represent trees using an adjacency list structure, wheare each edges is (weight, vertex1, vertex2)."
     ]
    },
    {
     "cell_type": "code",
     "collapsed": false,
     "input": [
      "def prim_mst(edges):\n",
      "    import heapq\n",
      "    seen = set([])\n",
      "    heapq.heapify(edges)\n",
      "    \n",
      "    tree = []\n",
      "    if len(edges) == 0:\n",
      "        return tree\n",
      "    else:\n",
      "        w, v1, v2 = heapq.heappop(edges)\n",
      "        tree.append((w, v1, v2))\n",
      "        seen.update((v1, v2))\n",
      "    \n",
      "    while True:\n",
      "        if len(edges) == 0:\n",
      "            break\n",
      "        while len(edges) > 0:\n",
      "            tmp = []\n",
      "            w, v1, v2 = heapq.heappop(edges)\n",
      "            # edge does not share vertex with existing tree\n",
      "            if v1 not in seen and v2 not in seen:\n",
      "                tmp.append((w, v1, v2))\n",
      "            # edge is redundant\n",
      "            elif v1 in seen and v2 in seen:\n",
      "                pass\n",
      "            # next best edge to add\n",
      "            else:\n",
      "                tree.append((w, v1, v2))\n",
      "                seen.update((v1, v2))\n",
      "                \n",
      "        # put edges not used back into heap\n",
      "        for item in tmp:\n",
      "            heapq.heappush(edges, item)\n",
      "    return tree"
     ],
     "language": "python",
     "metadata": {},
     "outputs": [],
     "prompt_number": 6
    },
    {
     "cell_type": "code",
     "collapsed": false,
     "input": [
      "edges = [(2.5,'a','b'), (1,'a','d'), (2,'b','d'), (3,'c','d')]\n",
      "prim_mst(edges)"
     ],
     "language": "python",
     "metadata": {},
     "outputs": [
      {
       "metadata": {},
       "output_type": "pyout",
       "prompt_number": 7,
       "text": [
        "[(1, 'a', 'd'), (2, 'b', 'd'), (3, 'c', 'd')]"
       ]
      }
     ],
     "prompt_number": 7
    },
    {
     "cell_type": "markdown",
     "metadata": {},
     "source": [
      "Dynamic programming\n",
      "----\n",
      "\n",
      "The essential feature of dyanmic programming is that the problem has overlapping subporoblems that need to be re-used multiple times. In addition, combination of these subproblems must be able to solve the overall problem - this is known as \"optimal structure\". Given this, dynamic programming is just the idea that if we cache subproblem solutions (\"memoization\"), we don't need to solve them twice."
     ]
    },
    {
     "cell_type": "code",
     "collapsed": false,
     "input": [
      "# A trivial example is the recursive Fibonacci function\n",
      "from collections import defaultdict\n",
      "\n",
      "def fib(n):\n",
      "    \"\"\"Retrns the nth Fibonacci number, 1,1,2,3,5,8,....\"\"\"\n",
      "    if n==0 or n==1:\n",
      "        return 1\n",
      "    else:\n",
      "        print \"fib(%d) + fib(%d)\" % ((n-2), (n-1))\n",
      "        return fib(n-2) + fib(n-1)"
     ],
     "language": "python",
     "metadata": {},
     "outputs": [],
     "prompt_number": 8
    },
    {
     "cell_type": "code",
     "collapsed": false,
     "input": [
      "# Notice redundancy of calls\n",
      "fib(6)"
     ],
     "language": "python",
     "metadata": {},
     "outputs": [
      {
       "output_type": "stream",
       "stream": "stdout",
       "text": [
        "fib(4) + fib(5)\n",
        "fib(2) + fib(3)\n",
        "fib(0) + fib(1)\n",
        "fib(1) + fib(2)\n",
        "fib(0) + fib(1)\n",
        "fib(3) + fib(4)\n",
        "fib(1) + fib(2)\n",
        "fib(0) + fib(1)\n",
        "fib(2) + fib(3)\n",
        "fib(0) + fib(1)\n",
        "fib(1) + fib(2)\n",
        "fib(0) + fib(1)\n"
       ]
      },
      {
       "metadata": {},
       "output_type": "pyout",
       "prompt_number": 9,
       "text": [
        "13"
       ]
      }
     ],
     "prompt_number": 9
    },
    {
     "cell_type": "code",
     "collapsed": false,
     "input": [
      "# clean up\n",
      "def fib1(n):\n",
      "    \"\"\"Returns the nth Fibonacci number, 1,1,2,3,5,8,....\"\"\"\n",
      "    return 1 if n < 2 else fib1(n-2) + fib1(n-1)"
     ],
     "language": "python",
     "metadata": {},
     "outputs": [],
     "prompt_number": 10
    },
    {
     "cell_type": "code",
     "collapsed": false,
     "input": [
      "# We can remove the redundant calls by caching previosly calculated results\n",
      "cache = {}\n",
      "def fib2(n):\n",
      "    if n < 2:\n",
      "        return 1\n",
      "    if n not in cache:\n",
      "        cache[n] = fib2(n-2) + fib2(n-1)\n",
      "    return cache[n]"
     ],
     "language": "python",
     "metadata": {},
     "outputs": [],
     "prompt_number": 11
    },
    {
     "cell_type": "code",
     "collapsed": false,
     "input": [
      "# The cached version is much faster for large n\n",
      "%time fib1(33)\n",
      "%time fib2(33)"
     ],
     "language": "python",
     "metadata": {},
     "outputs": [
      {
       "output_type": "stream",
       "stream": "stdout",
       "text": [
        "CPU times: user 2.61 s, sys: 13.3 ms, total: 2.62 s\n",
        "Wall time: 2.62 s\n",
        "CPU times: user 36 \u00b5s, sys: 0 ns, total: 36 \u00b5s\n",
        "Wall time: 41 \u00b5s\n"
       ]
      },
      {
       "metadata": {},
       "output_type": "pyout",
       "prompt_number": 12,
       "text": [
        "5702887"
       ]
      }
     ],
     "prompt_number": 12
    },
    {
     "cell_type": "code",
     "collapsed": false,
     "input": [
      "# However, the use of a global cache is not very nice\n",
      "# We need to repeat the caching code for every function\n",
      "# To generalize, we will write a memoize decorator\n",
      "\n",
      "def memoize(f):\n",
      "    \"\"\"A decorator to cache results for re-use.\"\"\"\n",
      "    cache = {}\n",
      "    def func(*args):\n",
      "        if args not in cache:\n",
      "            cache[args] = f(*args)\n",
      "        return cache[args]\n",
      "    return func"
     ],
     "language": "python",
     "metadata": {},
     "outputs": [],
     "prompt_number": 13
    },
    {
     "cell_type": "code",
     "collapsed": false,
     "input": [
      "@memoize\n",
      "def fib3(n):\n",
      "    \"\"\"Returns the nth Fibonacci number, 1,1,2,3,5,8,....\"\"\"\n",
      "    return 1 if n < 2 else fib3(n-2) + fib3(n-1)"
     ],
     "language": "python",
     "metadata": {},
     "outputs": [],
     "prompt_number": 14
    },
    {
     "cell_type": "code",
     "collapsed": false,
     "input": [
      "# performance\n",
      "%time fib1(33)\n",
      "%time fib2(33)\n",
      "%time fib3(33)"
     ],
     "language": "python",
     "metadata": {},
     "outputs": [
      {
       "output_type": "stream",
       "stream": "stdout",
       "text": [
        "CPU times: user 2.62 s, sys: 8.5 ms, total: 2.63 s\n",
        "Wall time: 2.62 s\n",
        "CPU times: user 5 \u00b5s, sys: 1 \u00b5s, total: 6 \u00b5s\n",
        "Wall time: 8.82 \u00b5s\n",
        "CPU times: user 66 \u00b5s, sys: 29 \u00b5s, total: 95 \u00b5s\n",
        "Wall time: 98.9 \u00b5s\n"
       ]
      },
      {
       "metadata": {},
       "output_type": "pyout",
       "prompt_number": 15,
       "text": [
        "5702887"
       ]
      }
     ],
     "prompt_number": 15
    },
    {
     "cell_type": "code",
     "collapsed": false,
     "input": [
      "# An example using linear combinations\n",
      "# What is the fewest number of coins to make up $0.63? \n",
      "# using pennies (1c), nickels (5c), dimes (10c) and quarters (25c)?\n",
      "\n",
      "def factors(n, weights):\n",
      "    \"\"\"Brute force enumeration of number of coins.\"\"\"\n",
      "    s = ((i,j,k,l) \n",
      "            for i in range(1+n/weights[0]) \n",
      "            for j in range(1+n/weights[1])\n",
      "            for k in range(1+n/weights[2]) \n",
      "            for l in range(1+n/weights[3]))\n",
      "    for _ in s:\n",
      "        yield _\n",
      "\n",
      "def combinations(n, weights):\n",
      "    \"\"\"Returns solution to the coin problem.\"\"\"\n",
      "    for f in factors(n, weights):\n",
      "         if np.dot(f, weights) == n:\n",
      "            yield f"
     ],
     "language": "python",
     "metadata": {},
     "outputs": [],
     "prompt_number": 16
    },
    {
     "cell_type": "code",
     "collapsed": false,
     "input": [
      "# The brute force solution is slow\n",
      "weights = (25, 10, 5, 1)\n",
      "n = 47\n",
      "%time sorted(list(combinations(n, weights)), key=sum)[0]"
     ],
     "language": "python",
     "metadata": {},
     "outputs": [
      {
       "output_type": "stream",
       "stream": "stdout",
       "text": [
        "CPU times: user 34.1 ms, sys: 10.3 ms, total: 44.4 ms\n",
        "Wall time: 37.5 ms\n"
       ]
      },
      {
       "metadata": {},
       "output_type": "pyout",
       "prompt_number": 17,
       "text": [
        "(1, 2, 0, 2)"
       ]
      }
     ],
     "prompt_number": 17
    },
    {
     "cell_type": "code",
     "collapsed": false,
     "input": [
      "# Let's write a recursive version\n",
      "\n",
      "def combinaions1(n, weights, solution):\n",
      "    \"\"\"Returns min number of coins to make up n.\n",
      "    weights are the values of the coins in decreasing order\n",
      "    \"\"\"\n",
      "    current = n\n",
      "    if n in weights:\n",
      "        return 1\n",
      "    else:\n",
      "        for i in (w for w in weights if w < n):\n",
      "            count = combinaions1(n-i, weights) + 1\n",
      "            if count < current:\n",
      "                current = count\n",
      "    return current"
     ],
     "language": "python",
     "metadata": {},
     "outputs": [],
     "prompt_number": 18
    },
    {
     "cell_type": "code",
     "collapsed": false,
     "input": [
      "# The recursive version is even slower\n",
      "weights = (25, 10, 5, 1)\n",
      "n = 47\n",
      "%time combinaions1(n, weights)"
     ],
     "language": "python",
     "metadata": {},
     "outputs": [
      {
       "ename": "TypeError",
       "evalue": "combinaions1() takes exactly 3 arguments (2 given)",
       "output_type": "pyerr",
       "traceback": [
        "\u001b[0;31m---------------------------------------------------------------------------\u001b[0m\n\u001b[0;31mTypeError\u001b[0m                                 Traceback (most recent call last)",
        "\u001b[0;32m<ipython-input-19-ae9ae642e9f4>\u001b[0m in \u001b[0;36m<module>\u001b[0;34m()\u001b[0m\n\u001b[1;32m      2\u001b[0m \u001b[0mweights\u001b[0m \u001b[0;34m=\u001b[0m \u001b[0;34m(\u001b[0m\u001b[0;36m25\u001b[0m\u001b[0;34m,\u001b[0m \u001b[0;36m10\u001b[0m\u001b[0;34m,\u001b[0m \u001b[0;36m5\u001b[0m\u001b[0;34m,\u001b[0m \u001b[0;36m1\u001b[0m\u001b[0;34m)\u001b[0m\u001b[0;34m\u001b[0m\u001b[0m\n\u001b[1;32m      3\u001b[0m \u001b[0mn\u001b[0m \u001b[0;34m=\u001b[0m \u001b[0;36m47\u001b[0m\u001b[0;34m\u001b[0m\u001b[0m\n\u001b[0;32m----> 4\u001b[0;31m \u001b[0mget_ipython\u001b[0m\u001b[0;34m(\u001b[0m\u001b[0;34m)\u001b[0m\u001b[0;34m.\u001b[0m\u001b[0mmagic\u001b[0m\u001b[0;34m(\u001b[0m\u001b[0;34mu'time combinaions1(n, weights)'\u001b[0m\u001b[0;34m)\u001b[0m\u001b[0;34m\u001b[0m\u001b[0m\n\u001b[0m",
        "\u001b[0;32m/Users/cliburn/anaconda/lib/python2.7/site-packages/IPython/core/interactiveshell.pyc\u001b[0m in \u001b[0;36mmagic\u001b[0;34m(self, arg_s)\u001b[0m\n\u001b[1;32m   2203\u001b[0m         \u001b[0mmagic_name\u001b[0m\u001b[0;34m,\u001b[0m \u001b[0m_\u001b[0m\u001b[0;34m,\u001b[0m \u001b[0mmagic_arg_s\u001b[0m \u001b[0;34m=\u001b[0m \u001b[0marg_s\u001b[0m\u001b[0;34m.\u001b[0m\u001b[0mpartition\u001b[0m\u001b[0;34m(\u001b[0m\u001b[0;34m' '\u001b[0m\u001b[0;34m)\u001b[0m\u001b[0;34m\u001b[0m\u001b[0m\n\u001b[1;32m   2204\u001b[0m         \u001b[0mmagic_name\u001b[0m \u001b[0;34m=\u001b[0m \u001b[0mmagic_name\u001b[0m\u001b[0;34m.\u001b[0m\u001b[0mlstrip\u001b[0m\u001b[0;34m(\u001b[0m\u001b[0mprefilter\u001b[0m\u001b[0;34m.\u001b[0m\u001b[0mESC_MAGIC\u001b[0m\u001b[0;34m)\u001b[0m\u001b[0;34m\u001b[0m\u001b[0m\n\u001b[0;32m-> 2205\u001b[0;31m         \u001b[0;32mreturn\u001b[0m \u001b[0mself\u001b[0m\u001b[0;34m.\u001b[0m\u001b[0mrun_line_magic\u001b[0m\u001b[0;34m(\u001b[0m\u001b[0mmagic_name\u001b[0m\u001b[0;34m,\u001b[0m \u001b[0mmagic_arg_s\u001b[0m\u001b[0;34m)\u001b[0m\u001b[0;34m\u001b[0m\u001b[0m\n\u001b[0m\u001b[1;32m   2206\u001b[0m \u001b[0;34m\u001b[0m\u001b[0m\n\u001b[1;32m   2207\u001b[0m     \u001b[0;31m#-------------------------------------------------------------------------\u001b[0m\u001b[0;34m\u001b[0m\u001b[0;34m\u001b[0m\u001b[0m\n",
        "\u001b[0;32m/Users/cliburn/anaconda/lib/python2.7/site-packages/IPython/core/interactiveshell.pyc\u001b[0m in \u001b[0;36mrun_line_magic\u001b[0;34m(self, magic_name, line)\u001b[0m\n\u001b[1;32m   2124\u001b[0m                 \u001b[0mkwargs\u001b[0m\u001b[0;34m[\u001b[0m\u001b[0;34m'local_ns'\u001b[0m\u001b[0;34m]\u001b[0m \u001b[0;34m=\u001b[0m \u001b[0msys\u001b[0m\u001b[0;34m.\u001b[0m\u001b[0m_getframe\u001b[0m\u001b[0;34m(\u001b[0m\u001b[0mstack_depth\u001b[0m\u001b[0;34m)\u001b[0m\u001b[0;34m.\u001b[0m\u001b[0mf_locals\u001b[0m\u001b[0;34m\u001b[0m\u001b[0m\n\u001b[1;32m   2125\u001b[0m             \u001b[0;32mwith\u001b[0m \u001b[0mself\u001b[0m\u001b[0;34m.\u001b[0m\u001b[0mbuiltin_trap\u001b[0m\u001b[0;34m:\u001b[0m\u001b[0;34m\u001b[0m\u001b[0m\n\u001b[0;32m-> 2126\u001b[0;31m                 \u001b[0mresult\u001b[0m \u001b[0;34m=\u001b[0m \u001b[0mfn\u001b[0m\u001b[0;34m(\u001b[0m\u001b[0;34m*\u001b[0m\u001b[0margs\u001b[0m\u001b[0;34m,\u001b[0m\u001b[0;34m**\u001b[0m\u001b[0mkwargs\u001b[0m\u001b[0;34m)\u001b[0m\u001b[0;34m\u001b[0m\u001b[0m\n\u001b[0m\u001b[1;32m   2127\u001b[0m             \u001b[0;32mreturn\u001b[0m \u001b[0mresult\u001b[0m\u001b[0;34m\u001b[0m\u001b[0m\n\u001b[1;32m   2128\u001b[0m \u001b[0;34m\u001b[0m\u001b[0m\n",
        "\u001b[0;32m/Users/cliburn/anaconda/lib/python2.7/site-packages/IPython/core/magics/execution.pyc\u001b[0m in \u001b[0;36mtime\u001b[0;34m(self, line, cell, local_ns)\u001b[0m\n",
        "\u001b[0;32m/Users/cliburn/anaconda/lib/python2.7/site-packages/IPython/core/magic.pyc\u001b[0m in \u001b[0;36m<lambda>\u001b[0;34m(f, *a, **k)\u001b[0m\n\u001b[1;32m    191\u001b[0m     \u001b[0;31m# but it's overkill for just that one bit of state.\u001b[0m\u001b[0;34m\u001b[0m\u001b[0;34m\u001b[0m\u001b[0m\n\u001b[1;32m    192\u001b[0m     \u001b[0;32mdef\u001b[0m \u001b[0mmagic_deco\u001b[0m\u001b[0;34m(\u001b[0m\u001b[0marg\u001b[0m\u001b[0;34m)\u001b[0m\u001b[0;34m:\u001b[0m\u001b[0;34m\u001b[0m\u001b[0m\n\u001b[0;32m--> 193\u001b[0;31m         \u001b[0mcall\u001b[0m \u001b[0;34m=\u001b[0m \u001b[0;32mlambda\u001b[0m \u001b[0mf\u001b[0m\u001b[0;34m,\u001b[0m \u001b[0;34m*\u001b[0m\u001b[0ma\u001b[0m\u001b[0;34m,\u001b[0m \u001b[0;34m**\u001b[0m\u001b[0mk\u001b[0m\u001b[0;34m:\u001b[0m \u001b[0mf\u001b[0m\u001b[0;34m(\u001b[0m\u001b[0;34m*\u001b[0m\u001b[0ma\u001b[0m\u001b[0;34m,\u001b[0m \u001b[0;34m**\u001b[0m\u001b[0mk\u001b[0m\u001b[0;34m)\u001b[0m\u001b[0;34m\u001b[0m\u001b[0m\n\u001b[0m\u001b[1;32m    194\u001b[0m \u001b[0;34m\u001b[0m\u001b[0m\n\u001b[1;32m    195\u001b[0m         \u001b[0;32mif\u001b[0m \u001b[0mcallable\u001b[0m\u001b[0;34m(\u001b[0m\u001b[0marg\u001b[0m\u001b[0;34m)\u001b[0m\u001b[0;34m:\u001b[0m\u001b[0;34m\u001b[0m\u001b[0m\n",
        "\u001b[0;32m/Users/cliburn/anaconda/lib/python2.7/site-packages/IPython/core/magics/execution.pyc\u001b[0m in \u001b[0;36mtime\u001b[0;34m(self, line, cell, local_ns)\u001b[0m\n\u001b[1;32m   1123\u001b[0m         \u001b[0;32mif\u001b[0m \u001b[0mmode\u001b[0m\u001b[0;34m==\u001b[0m\u001b[0;34m'eval'\u001b[0m\u001b[0;34m:\u001b[0m\u001b[0;34m\u001b[0m\u001b[0m\n\u001b[1;32m   1124\u001b[0m             \u001b[0mst\u001b[0m \u001b[0;34m=\u001b[0m \u001b[0mclock2\u001b[0m\u001b[0;34m(\u001b[0m\u001b[0;34m)\u001b[0m\u001b[0;34m\u001b[0m\u001b[0m\n\u001b[0;32m-> 1125\u001b[0;31m             \u001b[0mout\u001b[0m \u001b[0;34m=\u001b[0m \u001b[0meval\u001b[0m\u001b[0;34m(\u001b[0m\u001b[0mcode\u001b[0m\u001b[0;34m,\u001b[0m \u001b[0mglob\u001b[0m\u001b[0;34m,\u001b[0m \u001b[0mlocal_ns\u001b[0m\u001b[0;34m)\u001b[0m\u001b[0;34m\u001b[0m\u001b[0m\n\u001b[0m\u001b[1;32m   1126\u001b[0m             \u001b[0mend\u001b[0m \u001b[0;34m=\u001b[0m \u001b[0mclock2\u001b[0m\u001b[0;34m(\u001b[0m\u001b[0;34m)\u001b[0m\u001b[0;34m\u001b[0m\u001b[0m\n\u001b[1;32m   1127\u001b[0m         \u001b[0;32melse\u001b[0m\u001b[0;34m:\u001b[0m\u001b[0;34m\u001b[0m\u001b[0m\n",
        "\u001b[0;32m<timed eval>\u001b[0m in \u001b[0;36m<module>\u001b[0;34m()\u001b[0m\n",
        "\u001b[0;31mTypeError\u001b[0m: combinaions1() takes exactly 3 arguments (2 given)"
       ]
      }
     ],
     "prompt_number": 19
    },
    {
     "cell_type": "code",
     "collapsed": false,
     "input": [
      "# But can be memoized\n",
      "@memoize\n",
      "def combinaions2(n, weights):\n",
      "    \"\"\"Returns min number of coins to make up n.\n",
      "    weights are the values of the coins in decreasing order\n",
      "    \"\"\"\n",
      "    current = n\n",
      "    if n in weights:\n",
      "        return 1\n",
      "    else:\n",
      "        for i in (w for w in weights if w < n):\n",
      "            count = 1 + combinaions2(n-i, weights)\n",
      "            if count < current:\n",
      "                current = count\n",
      "    return current"
     ],
     "language": "python",
     "metadata": {},
     "outputs": [],
     "prompt_number": 20
    },
    {
     "cell_type": "code",
     "collapsed": false,
     "input": [
      "weights = (25, 10, 5, 1)\n",
      "n = 47\n",
      "%time combinaions2(n, weights)"
     ],
     "language": "python",
     "metadata": {},
     "outputs": [
      {
       "output_type": "stream",
       "stream": "stdout",
       "text": [
        "CPU times: user 257 \u00b5s, sys: 218 \u00b5s, total: 475 \u00b5s\n",
        "Wall time: 338 \u00b5s\n"
       ]
      },
      {
       "metadata": {},
       "output_type": "pyout",
       "prompt_number": 21,
       "text": [
        "5"
       ]
      }
     ],
     "prompt_number": 21
    },
    {
     "cell_type": "code",
     "collapsed": false,
     "input": [
      "n = 213\n",
      "%time sorted(list(combinations(n, weights)), key=sum)[0]\n",
      "%time combinaions2(n, weights)"
     ],
     "language": "python",
     "metadata": {},
     "outputs": [
      {
       "output_type": "stream",
       "stream": "stdout",
       "text": [
        "CPU times: user 10.9 s, sys: 38 ms, total: 11 s\n",
        "Wall time: 10.9 s\n",
        "CPU times: user 820 \u00b5s, sys: 1 \u00b5s, total: 821 \u00b5s\n",
        "Wall time: 826 \u00b5s\n"
       ]
      },
      {
       "metadata": {},
       "output_type": "pyout",
       "prompt_number": 22,
       "text": [
        "12"
       ]
      }
     ],
     "prompt_number": 22
    },
    {
     "cell_type": "code",
     "collapsed": false,
     "input": [
      "# Caching (memoization) is a simple way to achieve much of the gains of dynamic prorgramming.\n",
      "# However, dynamic programming usually refers to explicit tracking of partial solutions"
     ],
     "language": "python",
     "metadata": {},
     "outputs": [],
     "prompt_number": 23
    },
    {
     "cell_type": "code",
     "collapsed": false,
     "input": [
      "def combinations_dp1(weights, n, counts, show=False):\n",
      "    \"\"\"Dynamic programming solution.\n",
      "    counts is a vector of the least number of coins needed to reach up the index value.\"\"\"\n",
      "    for i in range(n+1):\n",
      "        s = i\n",
      "        for j in (w for w in weights if w <= i):\n",
      "            value = counts[i-j] + 1\n",
      "            if value < s:\n",
      "                s = value\n",
      "        counts[i] = s\n",
      "        if show:\n",
      "            print counts\n",
      "    return counts[n]"
     ],
     "language": "python",
     "metadata": {},
     "outputs": [],
     "prompt_number": 24
    },
    {
     "cell_type": "code",
     "collapsed": false,
     "input": [
      "weights = (25, 10, 5, 1)\n",
      "n = 5\n",
      "counts = [0]*(n+1)\n",
      "combinations_dp1(weights, n, counts, show=True)"
     ],
     "language": "python",
     "metadata": {},
     "outputs": [
      {
       "output_type": "stream",
       "stream": "stdout",
       "text": [
        "[0, 0, 0, 0, 0, 0]\n",
        "[0, 1, 0, 0, 0, 0]\n",
        "[0, 1, 2, 0, 0, 0]\n",
        "[0, 1, 2, 3, 0, 0]\n",
        "[0, 1, 2, 3, 4, 0]\n",
        "[0, 1, 2, 3, 4, 1]\n"
       ]
      },
      {
       "metadata": {},
       "output_type": "pyout",
       "prompt_number": 25,
       "text": [
        "1"
       ]
      }
     ],
     "prompt_number": 25
    },
    {
     "cell_type": "code",
     "collapsed": false,
     "input": [
      "weights = (25, 10, 5, 1)\n",
      "n = 11\n",
      "counts = [0]*(n+1)\n",
      "combinations_dp1(weights, n, counts, show=True)"
     ],
     "language": "python",
     "metadata": {},
     "outputs": [
      {
       "output_type": "stream",
       "stream": "stdout",
       "text": [
        "[0, 0, 0, 0, 0, 0, 0, 0, 0, 0, 0, 0]\n",
        "[0, 1, 0, 0, 0, 0, 0, 0, 0, 0, 0, 0]\n",
        "[0, 1, 2, 0, 0, 0, 0, 0, 0, 0, 0, 0]\n",
        "[0, 1, 2, 3, 0, 0, 0, 0, 0, 0, 0, 0]\n",
        "[0, 1, 2, 3, 4, 0, 0, 0, 0, 0, 0, 0]\n",
        "[0, 1, 2, 3, 4, 1, 0, 0, 0, 0, 0, 0]\n",
        "[0, 1, 2, 3, 4, 1, 2, 0, 0, 0, 0, 0]\n",
        "[0, 1, 2, 3, 4, 1, 2, 3, 0, 0, 0, 0]\n",
        "[0, 1, 2, 3, 4, 1, 2, 3, 4, 0, 0, 0]\n",
        "[0, 1, 2, 3, 4, 1, 2, 3, 4, 5, 0, 0]\n",
        "[0, 1, 2, 3, 4, 1, 2, 3, 4, 5, 1, 0]\n",
        "[0, 1, 2, 3, 4, 1, 2, 3, 4, 5, 1, 2]\n"
       ]
      },
      {
       "metadata": {},
       "output_type": "pyout",
       "prompt_number": 26,
       "text": [
        "2"
       ]
      }
     ],
     "prompt_number": 26
    },
    {
     "cell_type": "code",
     "collapsed": false,
     "input": [
      "def combinations_dp2(weights, n, counts, used, show=False):\n",
      "    \"\"\"Dynamic programming solution.\n",
      "    counts is a vector of the least number of coins needed to reach up the index value.\n",
      "    used returns the actual solution.\"\"\"\n",
      "    for i in range(n+1):\n",
      "        s = i\n",
      "        t = 1\n",
      "        for j in (w for w in weights if w <= i):\n",
      "            value = counts[i-j] + 1\n",
      "            if value < s:\n",
      "                s = value\n",
      "                t = j\n",
      "        counts[i] = s\n",
      "        used[i] = t\n",
      "        if show:\n",
      "            print counts\n",
      "    return counts[n], used"
     ],
     "language": "python",
     "metadata": {},
     "outputs": [],
     "prompt_number": 27
    },
    {
     "cell_type": "code",
     "collapsed": false,
     "input": [
      "def change(n, used):\n",
      "    \"\"\"Find coins used to make up amount.\"\"\"\n",
      "    idx = len(used) - 1\n",
      "    result = []\n",
      "    while n > 0:\n",
      "        n -= used[idx]\n",
      "        result.append(used[idx])\n",
      "        idx -= used[idx]\n",
      "    return result"
     ],
     "language": "python",
     "metadata": {},
     "outputs": [],
     "prompt_number": 28
    },
    {
     "cell_type": "code",
     "collapsed": false,
     "input": [
      "weights = (25, 10, 5, 1)\n",
      "for n in range(4, 15):\n",
      "    counts = [0]*(n+1)\n",
      "    used = [0]*(n+1)\n",
      "    ncoins, used = combinations_dp2(weights, n, counts, used, show=False)\n",
      "    print n, change(n, used)"
     ],
     "language": "python",
     "metadata": {},
     "outputs": [
      {
       "output_type": "stream",
       "stream": "stdout",
       "text": [
        "4 [1, 1, 1, 1]\n",
        "5 [5]\n",
        "6 [5, 1]\n",
        "7 [5, 1, 1]\n",
        "8 [5, 1, 1, 1]\n",
        "9 [5, 1, 1, 1, 1]\n",
        "10 [10]\n",
        "11 [10, 1]\n",
        "12 [10, 1, 1]\n",
        "13 [10, 1, 1, 1]\n",
        "14 [10, 1, 1, 1, 1]\n"
       ]
      }
     ],
     "prompt_number": 29
    },
    {
     "cell_type": "markdown",
     "metadata": {},
     "source": [
      "Hill climbing\n",
      "----\n",
      "\n",
      "Hill climbers are similar to greedy algorithms and are common in continuous optimization problems. We will see several examples in the optimizatio lectures."
     ]
    },
    {
     "cell_type": "markdown",
     "metadata": {},
     "source": [
      "### Mean-shift algorithm\n",
      "\n",
      "Give descripton and example code"
     ]
    },
    {
     "cell_type": "code",
     "collapsed": false,
     "input": [
      "def gaussian_kernel(xs, m, h=1.0):\n",
      "    # This defines the weights for a shifting window centerd at m\n",
      "    return (2*np.pi)**-0.5*np.exp(-((xs - m)/h)**2)"
     ],
     "language": "python",
     "metadata": {},
     "outputs": [],
     "prompt_number": 30
    },
    {
     "cell_type": "code",
     "collapsed": false,
     "input": [
      "xs = np.linspace(0, 10, 100)\n",
      "m = 3\n",
      "plt.plot(xs, gaussian_kernel(xs, m));"
     ],
     "language": "python",
     "metadata": {},
     "outputs": [
      {
       "metadata": {},
       "output_type": "display_data",
       "png": "[encoded data removed]",
       "text": [
        "<matplotlib.figure.Figure at 0x1130f7cd0>"
       ]
      }
     ],
     "prompt_number": 31
    },
    {
     "cell_type": "code",
     "collapsed": false,
     "input": [
      "def mean_shift(xs, kernel, x=None, niter=1000, tol=1e-6):\n",
      "    \"\"\"Finds the local mode using a hill-climbing procedure.\"\"\"\n",
      "    if x is None:\n",
      "        x = xs.mean()\n",
      "    for i in range(niter):\n",
      "        m = (kernel(xs, x)*xs).sum()/kernel(xs, x).sum() - x\n",
      "        if np.sum(m**2) < tol: \n",
      "            break\n",
      "        x += m\n",
      "    return i, x"
     ],
     "language": "python",
     "metadata": {},
     "outputs": [],
     "prompt_number": 32
    },
    {
     "cell_type": "code",
     "collapsed": false,
     "input": [
      "xs = np.concatenate([np.random.normal(-5, 1, 1000), \n",
      "                     np.random.normal(0,2,1000), \n",
      "                     np.random.normal(4, 1, 1000)])"
     ],
     "language": "python",
     "metadata": {},
     "outputs": [],
     "prompt_number": 33
    },
    {
     "cell_type": "code",
     "collapsed": false,
     "input": [
      "from functools import partial\n",
      "\n",
      "kernel = gaussian_kernel\n",
      "i1, m1 = mean_shift(xs, kernel, x=1, niter=1000, tol=1e-12)\n",
      "i2, m2 = mean_shift(xs, kernel, x=-7, niter=1000, tol=1e-12)\n",
      "i3, m3 = mean_shift(xs, kernel, x=7, niter=1000, tol=1e-12)\n",
      "print i1, m1\n",
      "print i2, m2\n",
      "print i3, m3"
     ],
     "language": "python",
     "metadata": {},
     "outputs": [
      {
       "output_type": "stream",
       "stream": "stdout",
       "text": [
        "161 0.307380887446\n",
        "32 -4.89665274673\n",
        "53 3.84321153311\n"
       ]
      }
     ],
     "prompt_number": 34
    },
    {
     "cell_type": "code",
     "collapsed": false,
     "input": [
      "import scipy.stats as stats\n",
      "xp = np.linspace(0, 1.0, 100)\n",
      "plt.hist(xs, 50, histtype='step', normed=True);\n",
      "plt.axvline(m1, c='red')\n",
      "plt.axvline(m2, c='red')\n",
      "plt.axvline(m3, c='red')"
     ],
     "language": "python",
     "metadata": {},
     "outputs": [
      {
       "metadata": {},
       "output_type": "pyout",
       "prompt_number": 35,
       "text": [
        "<matplotlib.lines.Line2D at 0x114dafed0>"
       ]
      },
      {
       "metadata": {},
       "output_type": "display_data",
       "png": "[encoded data removed]",
       "text": [
        "<matplotlib.figure.Figure at 0x113160ad0>"
       ]
      }
     ],
     "prompt_number": 35
    },
    {
     "cell_type": "code",
     "collapsed": false,
     "input": [
      "np.save('x1d.npy', xs)"
     ],
     "language": "python",
     "metadata": {},
     "outputs": [],
     "prompt_number": 37
    },
    {
     "cell_type": "markdown",
     "metadata": {},
     "source": [
      "Reduction and transformation\n",
      "----\n",
      "\n",
      "Not so much an algorithm as the recogntiion that certain problems, perhaps with the aid of a transformation, can be mapped to a solved problem. For example, generalized linear models can be reduced to the framework of simple linear models with a transformaton (\"link function\"). Graph algorithms are antoher example - a surprising number of graph problems can be reduced to a network flow problem for which efficient algorihtms exist."
     ]
    },
    {
     "cell_type": "code",
     "collapsed": false,
     "input": [],
     "language": "python",
     "metadata": {},
     "outputs": [],
     "prompt_number": 35
    },
    {
     "cell_type": "code",
     "collapsed": false,
     "input": [],
     "language": "python",
     "metadata": {},
     "outputs": [],
     "prompt_number": 35
    },
    {
     "cell_type": "markdown",
     "metadata": {},
     "source": [
      "Monte Carlo methods\n",
      "----\n",
      "\n",
      "Any method that uses random number generators to find its solution is a Monte Carlo method - basically all statistical simulations fall into this category, including importance sampling and MCMC. Also commonly used for quadrature or numerical integration for high-dimensional spaces because their complexity depens only on the number of samples $n$ and not on the dimension $d$."
     ]
    },
    {
     "cell_type": "markdown",
     "metadata": {},
     "source": [
      "### Finding $\\pi$\n",
      "\n",
      "The usual trivial example to illustrate Monte Carlo integration is to estimate $\\pi$. We generate random points in the unit square, and find the fraction that lie within 1 unit of the origin. The expected value of this fraction is equal to 1/4 $\\pi r^2$, and since $r=1$, $\\pi$ can be estimated as 4 $\\times$ the fraction."
     ]
    },
    {
     "cell_type": "code",
     "collapsed": false,
     "input": [
      "n = 1000000\n",
      "pts = np.random.uniform(0,1,(n,2))\n",
      "frac = np.sum(pts[:,0]**2 + pts[:,1]**2 < 1)/float(n)\n",
      "print 4*frac"
     ],
     "language": "python",
     "metadata": {},
     "outputs": [
      {
       "output_type": "stream",
       "stream": "stdout",
       "text": [
        "3.139952\n"
       ]
      }
     ],
     "prompt_number": 36
    },
    {
     "cell_type": "code",
     "collapsed": false,
     "input": [],
     "language": "python",
     "metadata": {},
     "outputs": [],
     "prompt_number": 36
    },
    {
     "cell_type": "markdown",
     "metadata": {},
     "source": [
      "References\n",
      "----\n",
      "\n",
      "A [tutorial](http://interactivepython.org/courselib/static/pythonds/Recursion/DynamicProgramming.html) on the use of memoization and dynamic programming in the coin change problem."
     ]
    },
    {
     "cell_type": "code",
     "collapsed": false,
     "input": [],
     "language": "python",
     "metadata": {},
     "outputs": [],
     "prompt_number": 36
    }
   ],
   "metadata": {}
  }
 ]
}