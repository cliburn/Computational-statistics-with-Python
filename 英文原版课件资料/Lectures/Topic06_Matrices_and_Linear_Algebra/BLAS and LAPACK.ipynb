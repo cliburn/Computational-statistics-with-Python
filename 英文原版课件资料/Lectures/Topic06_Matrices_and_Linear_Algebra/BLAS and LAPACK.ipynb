{
 "metadata": {
  "name": "",
  "signature": "sha256:68df59a15aa92321d134e80b6f4a41a4b564d2f029e68d667ab583fa8a652e8d"
 },
 "nbformat": 3,
 "nbformat_minor": 0,
 "worksheets": [
  {
   "cells": [
    {
     "cell_type": "code",
     "collapsed": false,
     "input": [
      "%matplotlib inline\n",
      "import matplotlib.pyplot as plt\n",
      "import numpy as np\n",
      "%precision 4\n",
      "import os, sys, glob\n",
      "import scipy.linalg as la\n",
      "import scipy.linalg.blas as blas\n",
      "import scipy.linalg.lapack as lapack"
     ],
     "language": "python",
     "metadata": {},
     "outputs": [],
     "prompt_number": 10
    },
    {
     "cell_type": "markdown",
     "metadata": {},
     "source": [
      "## Notes\n",
      "\n",
      "The BLAS and LAPACK routines are available from `scipy.linalg.blas` and `scipy.linalg.lapack` moudles resepctively. In general, they are not often used directly when coding in Python unless speed is critical, since functions in `scipy.linalg` that build on these low level routtines are safer and more convenient to use. However, these linear algebra routins are widely used if you are programming in C, Fortran or CUDA, and the Python modules provide a friendly interface to get familiar with what they do."
     ]
    },
    {
     "cell_type": "markdown",
     "metadata": {},
     "source": [
      "## Basic Linear Algebra Subroutines (low level routines)\n",
      "\n",
      "BLAS routine names are very terse but have a standard format:\n",
      "\n",
      "The first letter indicates the precision - e..g D for double, C for complex single precision. The remsining letters is a mnemonic for  what the subroutine does: for example, axpy is a\\*x + y and gemm is generalized matrix multiplication. See <http://web.stanford.edu/class/me200c/tutorial_77/18.1_blas.html> for a list of subroutines.\n",
      "\n",
      "The list of routines avaiable in `scipy.linalg.blas` are listed at <http://docs.scipy.org/doc/scipy/reference/linalg.blas.html>"
     ]
    },
    {
     "cell_type": "markdown",
     "metadata": {},
     "source": [
      "### Level 1 (vector operations)"
     ]
    },
    {
     "cell_type": "code",
     "collapsed": false,
     "input": [
      "x = np.random.randn(10)\n",
      "y = np.arange(10)\n",
      "a = 5"
     ],
     "language": "python",
     "metadata": {},
     "outputs": [],
     "prompt_number": 11
    },
    {
     "cell_type": "code",
     "collapsed": false,
     "input": [
      "# Calculate a*x + y\n",
      "blas.daxpy(x, y, a=a)"
     ],
     "language": "python",
     "metadata": {},
     "outputs": [
      {
       "metadata": {},
       "output_type": "pyout",
       "prompt_number": 12,
       "text": [
        "array([  2.1661,   2.0229,  10.6779,   3.9591,  11.5855,   9.8504,\n",
        "         5.7268,   7.2025,  -4.6427,   6.5273])"
       ]
      }
     ],
     "prompt_number": 12
    },
    {
     "cell_type": "code",
     "collapsed": false,
     "input": [
      "a*x + y"
     ],
     "language": "python",
     "metadata": {},
     "outputs": [
      {
       "metadata": {},
       "output_type": "pyout",
       "prompt_number": 13,
       "text": [
        "array([  2.1661,   2.0229,  10.6779,   3.9591,  11.5855,   9.8504,\n",
        "         5.7268,   7.2025,  -4.6427,   6.5273])"
       ]
      }
     ],
     "prompt_number": 13
    },
    {
     "cell_type": "code",
     "collapsed": false,
     "input": [
      "%timeit blas.daxpy(x, y, a=a)\n",
      "%timeit a*x + y"
     ],
     "language": "python",
     "metadata": {},
     "outputs": [
      {
       "output_type": "stream",
       "stream": "stdout",
       "text": [
        "100000 loops, best of 3: 2.86 \u00b5s per loop\n",
        "100000 loops, best of 3: 9.95 \u00b5s per loop"
       ]
      },
      {
       "output_type": "stream",
       "stream": "stdout",
       "text": [
        "\n"
       ]
      }
     ],
     "prompt_number": 14
    },
    {
     "cell_type": "code",
     "collapsed": false,
     "input": [
      "# Calculate the L2 norm of a vector\n",
      "blas.dnrm2(x)"
     ],
     "language": "python",
     "metadata": {},
     "outputs": [
      {
       "metadata": {},
       "output_type": "pyout",
       "prompt_number": 15,
       "text": [
        "3.6282"
       ]
      }
     ],
     "prompt_number": 15
    },
    {
     "cell_type": "code",
     "collapsed": false,
     "input": [
      "la.norm(x)"
     ],
     "language": "python",
     "metadata": {},
     "outputs": [
      {
       "metadata": {},
       "output_type": "pyout",
       "prompt_number": 16,
       "text": [
        "3.6282"
       ]
      }
     ],
     "prompt_number": 16
    },
    {
     "cell_type": "code",
     "collapsed": false,
     "input": [
      "np.sqrt(np.sum(x**2.0))"
     ],
     "language": "python",
     "metadata": {},
     "outputs": [
      {
       "metadata": {},
       "output_type": "pyout",
       "prompt_number": 17,
       "text": [
        "3.6282"
       ]
      }
     ],
     "prompt_number": 17
    },
    {
     "cell_type": "code",
     "collapsed": false,
     "input": [
      "%timeit blas.dnrm2(x)\n",
      "%timeit la.norm(x)\n",
      "%timeit np.sqrt(np.sum(x**2.0))"
     ],
     "language": "python",
     "metadata": {},
     "outputs": [
      {
       "output_type": "stream",
       "stream": "stdout",
       "text": [
        "1000000 loops, best of 3: 426 ns per loop\n",
        "10000 loops, best of 3: 19.2 \u00b5s per loop"
       ]
      },
      {
       "output_type": "stream",
       "stream": "stdout",
       "text": [
        "\n",
        "100000 loops, best of 3: 19 \u00b5s per loop"
       ]
      },
      {
       "output_type": "stream",
       "stream": "stdout",
       "text": [
        "\n"
       ]
      }
     ],
     "prompt_number": 18
    },
    {
     "cell_type": "markdown",
     "metadata": {},
     "source": [
      "### Level 2 (matrix-vector operations)"
     ]
    },
    {
     "cell_type": "code",
     "collapsed": false,
     "input": [
      "alpha = 4.5\n",
      "A = np.array(np.random.random((10,10)), order='F')\n",
      "x = np.arange(10)\n",
      "\n",
      "blas.dgemv(alpha, A, x)"
     ],
     "language": "python",
     "metadata": {},
     "outputs": [
      {
       "metadata": {},
       "output_type": "pyout",
       "prompt_number": 19,
       "text": [
        "array([  78.8999,  114.8763,   72.1202,   92.6146,   90.4172,  107.0824,\n",
        "        114.8884,   86.1693,  116.6441,   96.7868])"
       ]
      }
     ],
     "prompt_number": 19
    },
    {
     "cell_type": "code",
     "collapsed": false,
     "input": [
      "alpha*np.dot(A, x)"
     ],
     "language": "python",
     "metadata": {},
     "outputs": [
      {
       "metadata": {},
       "output_type": "pyout",
       "prompt_number": 20,
       "text": [
        "array([  78.8999,  114.8763,   72.1202,   92.6146,   90.4172,  107.0824,\n",
        "        114.8884,   86.1693,  116.6441,   96.7868])"
       ]
      }
     ],
     "prompt_number": 20
    },
    {
     "cell_type": "code",
     "collapsed": false,
     "input": [
      "%timeit blas.dgemv(alpha, A, x)\n",
      "%timeit alpha*np.dot(A, x)"
     ],
     "language": "python",
     "metadata": {},
     "outputs": [
      {
       "output_type": "stream",
       "stream": "stdout",
       "text": [
        "100000 loops, best of 3: 3.48 \u00b5s per loop\n",
        "100000 loops, best of 3: 9.33 \u00b5s per loop"
       ]
      },
      {
       "output_type": "stream",
       "stream": "stdout",
       "text": [
        "\n"
       ]
      }
     ],
     "prompt_number": 21
    },
    {
     "cell_type": "markdown",
     "metadata": {},
     "source": [
      "### Level 3 (matrix-matrix operations)"
     ]
    },
    {
     "cell_type": "code",
     "collapsed": false,
     "input": [
      "alpha = 4.5\n",
      "A = np.array(np.random.random((10,10)), order='F')\n",
      "B = np.array(np.random.random((10,10)), order='F')"
     ],
     "language": "python",
     "metadata": {},
     "outputs": [],
     "prompt_number": 22
    },
    {
     "cell_type": "code",
     "collapsed": false,
     "input": [
      "# Generalized matrix multiplication using BLAS\n",
      "blas.dgemm(alpha, A, B)"
     ],
     "language": "python",
     "metadata": {},
     "outputs": [
      {
       "metadata": {},
       "output_type": "pyout",
       "prompt_number": 23,
       "text": [
        "array([[ 10.0071,   5.5994,  10.6722,  10.1818,   6.8569,   4.2423,\n",
        "          7.222 ,   7.1324,   9.1195,  11.0741],\n",
        "       [ 18.9872,  12.9696,  18.7636,  13.0136,  13.493 ,   6.1952,\n",
        "         10.8192,  11.5351,  13.6816,  18.3832],\n",
        "       [ 18.009 ,  12.6172,  17.8935,  12.5518,  12.2465,   7.8041,\n",
        "         11.2491,   8.6173,  11.609 ,  17.6362],\n",
        "       [ 13.5082,   7.0443,  11.3788,   9.974 ,   8.0157,   5.4126,\n",
        "          8.7252,   8.8902,  10.138 ,  12.5954],\n",
        "       [ 13.8247,   9.0688,  14.543 ,  11.6694,   9.4144,   5.6807,\n",
        "          9.7722,   9.443 ,  10.9853,  15.2538],\n",
        "       [ 13.8562,  11.9601,  13.3123,  11.7678,   9.1058,   8.0995,\n",
        "          8.8613,  11.9655,  13.8767,  15.3657],\n",
        "       [ 15.7258,  11.6832,  14.5085,  11.1698,  10.5742,   7.6311,\n",
        "          9.7384,   6.2711,  10.2244,  14.349 ],\n",
        "       [  9.0453,   7.515 ,   7.6851,   9.2072,   6.036 ,   4.8551,\n",
        "          5.6475,   7.4739,  10.1664,   8.6669],\n",
        "       [ 19.035 ,  11.754 ,  17.0319,  14.4103,  10.8171,   8.4039,\n",
        "         12.3496,  11.069 ,  13.188 ,  15.6755],\n",
        "       [ 14.6138,  11.5766,  12.7563,  13.5197,   9.8956,   6.7646,\n",
        "          8.8172,  10.4491,  14.5853,  13.942 ]])"
       ]
      }
     ],
     "prompt_number": 23
    },
    {
     "cell_type": "code",
     "collapsed": false,
     "input": [
      "# Equivalent operation in numpy\n",
      "alpha * np.dot(A, B)"
     ],
     "language": "python",
     "metadata": {},
     "outputs": [
      {
       "metadata": {},
       "output_type": "pyout",
       "prompt_number": 24,
       "text": [
        "array([[ 10.0071,   5.5994,  10.6722,  10.1818,   6.8569,   4.2423,\n",
        "          7.222 ,   7.1324,   9.1195,  11.0741],\n",
        "       [ 18.9872,  12.9696,  18.7636,  13.0136,  13.493 ,   6.1952,\n",
        "         10.8192,  11.5351,  13.6816,  18.3832],\n",
        "       [ 18.009 ,  12.6172,  17.8935,  12.5518,  12.2465,   7.8041,\n",
        "         11.2491,   8.6173,  11.609 ,  17.6362],\n",
        "       [ 13.5082,   7.0443,  11.3788,   9.974 ,   8.0157,   5.4126,\n",
        "          8.7252,   8.8902,  10.138 ,  12.5954],\n",
        "       [ 13.8247,   9.0688,  14.543 ,  11.6694,   9.4144,   5.6807,\n",
        "          9.7722,   9.443 ,  10.9853,  15.2538],\n",
        "       [ 13.8562,  11.9601,  13.3123,  11.7678,   9.1058,   8.0995,\n",
        "          8.8613,  11.9655,  13.8767,  15.3657],\n",
        "       [ 15.7258,  11.6832,  14.5085,  11.1698,  10.5742,   7.6311,\n",
        "          9.7384,   6.2711,  10.2244,  14.349 ],\n",
        "       [  9.0453,   7.515 ,   7.6851,   9.2072,   6.036 ,   4.8551,\n",
        "          5.6475,   7.4739,  10.1664,   8.6669],\n",
        "       [ 19.035 ,  11.754 ,  17.0319,  14.4103,  10.8171,   8.4039,\n",
        "         12.3496,  11.069 ,  13.188 ,  15.6755],\n",
        "       [ 14.6138,  11.5766,  12.7563,  13.5197,   9.8956,   6.7646,\n",
        "          8.8172,  10.4491,  14.5853,  13.942 ]])"
       ]
      }
     ],
     "prompt_number": 24
    },
    {
     "cell_type": "code",
     "collapsed": false,
     "input": [
      "%timeit blas.dgemm(alpha, A, B)\n",
      "%timeit alpha * np.dot(A, B)"
     ],
     "language": "python",
     "metadata": {},
     "outputs": [
      {
       "output_type": "stream",
       "stream": "stdout",
       "text": [
        "100000 loops, best of 3: 4.5 \u00b5s per loop\n",
        "100000 loops, best of 3: 10.5 \u00b5s per loop"
       ]
      },
      {
       "output_type": "stream",
       "stream": "stdout",
       "text": [
        "\n"
       ]
      }
     ],
     "prompt_number": 25
    },
    {
     "cell_type": "markdown",
     "metadata": {},
     "source": [
      "## LAPACK\n",
      "\n",
      "LAPACK provides routines at a higher level than BLAS for solving systems of simultaneous linear equations, least-squares solutions of linear systems of equations, eigenvalue problems, singular value problems, as well as various matrix factorizations. Most LAPACK routines make use of the lower level BLAS routines. The naming convention for LAPACK is similar to that for BLAS. The LAPACK User Guide is the official reference and can be found at <http://www.netlib.org/lapack/lug/>.\n",
      "\n",
      "The list of routines avaiable in `scipy.linalg.lapack` are listed at <http://docs.scipy.org/doc/scipy/reference/linalg.lapack.html>"
     ]
    },
    {
     "cell_type": "markdown",
     "metadata": {},
     "source": [
      "### Solving a least squares estimation problem"
     ]
    },
    {
     "cell_type": "code",
     "collapsed": false,
     "input": [
      "A = np.array([[-0.09,  0.14, -0.46,  0.68,  1.29], \n",
      "              [-1.56,  0.20,  0.29,  1.09,  0.51], \n",
      "              [-1.48, -0.43,  0.89, -0.71, -0.96], \n",
      "              [-1.09,  0.84,  0.77,  2.11, -1.27],\n",
      "              [0.08,   0.55, -1.13,  0.14,  1.74],\n",
      "              [-1.59, -0.72,  1.06,  1.24,  0.34]])\n",
      "b = np.array([ 7.4, 4.2, -8.3, 1.8,  8.6,   2.1]) #.reshape(-1,1)"
     ],
     "language": "python",
     "metadata": {},
     "outputs": [],
     "prompt_number": 26
    },
    {
     "cell_type": "code",
     "collapsed": false,
     "input": [
      "# Set cond to reflect the relative accuracy of the input data \n",
      "v, x, s, rank, work, info = lapack.dgelss(A, b, cond=0.01) "
     ],
     "language": "python",
     "metadata": {},
     "outputs": [],
     "prompt_number": 27
    },
    {
     "cell_type": "code",
     "collapsed": false,
     "input": [
      "x # least squeares solution"
     ],
     "language": "python",
     "metadata": {},
     "outputs": [
      {
       "metadata": {},
       "output_type": "pyout",
       "prompt_number": 28,
       "text": [
        "array([ 0.6344,  0.9699, -1.4403,  3.3678,  3.3992, -0.0035])"
       ]
      }
     ],
     "prompt_number": 28
    },
    {
     "cell_type": "code",
     "collapsed": false,
     "input": [
      "s # Singular values of A "
     ],
     "language": "python",
     "metadata": {},
     "outputs": [
      {
       "metadata": {},
       "output_type": "pyout",
       "prompt_number": 29,
       "text": [
        "array([  3.9997e+00,   2.9962e+00,   2.0001e+00,   9.9883e-01,   2.4992e-03])"
       ]
      }
     ],
     "prompt_number": 29
    },
    {
     "cell_type": "code",
     "collapsed": false,
     "input": [
      "rank # Estimated rank of A"
     ],
     "language": "python",
     "metadata": {},
     "outputs": [
      {
       "metadata": {},
       "output_type": "pyout",
       "prompt_number": 30,
       "text": [
        "4"
       ]
      }
     ],
     "prompt_number": 30
    },
    {
     "cell_type": "markdown",
     "metadata": {},
     "source": [
      "### Using convenient `lstsq` wrapper"
     ]
    },
    {
     "cell_type": "code",
     "collapsed": false,
     "input": [
      "x, res, rank, s = la.lstsq(A, b, cond=0.01)"
     ],
     "language": "python",
     "metadata": {},
     "outputs": [],
     "prompt_number": 31
    },
    {
     "cell_type": "code",
     "collapsed": false,
     "input": [
      "x"
     ],
     "language": "python",
     "metadata": {},
     "outputs": [
      {
       "metadata": {},
       "output_type": "pyout",
       "prompt_number": 32,
       "text": [
        "array([ 0.6344,  0.9699, -1.4403,  3.3678,  3.3992])"
       ]
      }
     ],
     "prompt_number": 32
    },
    {
     "cell_type": "code",
     "collapsed": false,
     "input": [
      "s"
     ],
     "language": "python",
     "metadata": {},
     "outputs": [
      {
       "metadata": {},
       "output_type": "pyout",
       "prompt_number": 33,
       "text": [
        "array([  3.9997e+00,   2.9962e+00,   2.0001e+00,   9.9883e-01,   2.4992e-03])"
       ]
      }
     ],
     "prompt_number": 33
    },
    {
     "cell_type": "code",
     "collapsed": false,
     "input": [
      "rank"
     ],
     "language": "python",
     "metadata": {},
     "outputs": [
      {
       "metadata": {},
       "output_type": "pyout",
       "prompt_number": 34,
       "text": [
        "4"
       ]
      }
     ],
     "prompt_number": 34
    },
    {
     "cell_type": "code",
     "collapsed": false,
     "input": [
      "%timeit lapack.dgelss(A, b, cond=0.01) \n",
      "%timeit la.lstsq(A, b, cond=0.01)"
     ],
     "language": "python",
     "metadata": {},
     "outputs": [
      {
       "output_type": "stream",
       "stream": "stdout",
       "text": [
        "10000 loops, best of 3: 24.7 \u00b5s per loop\n",
        "10000 loops, best of 3: 122 \u00b5s per loop"
       ]
      },
      {
       "output_type": "stream",
       "stream": "stdout",
       "text": [
        "\n"
       ]
      }
     ],
     "prompt_number": 35
    },
    {
     "cell_type": "markdown",
     "metadata": {},
     "source": [
      "### Cholesky decomposition"
     ]
    },
    {
     "cell_type": "code",
     "collapsed": false,
     "input": [
      "x = np.random.multivariate_normal(np.zeros(5), np.eye(5), 100).T\n",
      "s = np.cov(x)"
     ],
     "language": "python",
     "metadata": {},
     "outputs": [],
     "prompt_number": 36
    },
    {
     "cell_type": "code",
     "collapsed": false,
     "input": [
      "c, info = lapack.dpotrf(s)"
     ],
     "language": "python",
     "metadata": {},
     "outputs": [],
     "prompt_number": 37
    },
    {
     "cell_type": "code",
     "collapsed": false,
     "input": [
      "c"
     ],
     "language": "python",
     "metadata": {},
     "outputs": [
      {
       "metadata": {},
       "output_type": "pyout",
       "prompt_number": 38,
       "text": [
        "array([[ 1.0173, -0.1342,  0.3306, -0.0822, -0.0075],\n",
        "       [ 0.    ,  0.9128, -0.0327,  0.0869,  0.1051],\n",
        "       [ 0.    ,  0.    ,  1.0893, -0.0078,  0.0871],\n",
        "       [ 0.    ,  0.    ,  0.    ,  1.039 , -0.0178],\n",
        "       [ 0.    ,  0.    ,  0.    ,  0.    ,  1.0475]])"
       ]
      }
     ],
     "prompt_number": 38
    },
    {
     "cell_type": "markdown",
     "metadata": {},
     "source": [
      "### Using convenient `cholesky` wrapper"
     ]
    },
    {
     "cell_type": "code",
     "collapsed": false,
     "input": [
      "la.cholesky(s)"
     ],
     "language": "python",
     "metadata": {},
     "outputs": [
      {
       "metadata": {},
       "output_type": "pyout",
       "prompt_number": 39,
       "text": [
        "array([[ 1.0173, -0.1342,  0.3306, -0.0822, -0.0075],\n",
        "       [ 0.    ,  0.9128, -0.0327,  0.0869,  0.1051],\n",
        "       [ 0.    ,  0.    ,  1.0893, -0.0078,  0.0871],\n",
        "       [ 0.    ,  0.    ,  0.    ,  1.039 , -0.0178],\n",
        "       [ 0.    ,  0.    ,  0.    ,  0.    ,  1.0475]])"
       ]
      }
     ],
     "prompt_number": 39
    },
    {
     "cell_type": "code",
     "collapsed": false,
     "input": [
      "%timeit lapack.dpotrf(s)\n",
      "%timeit la.cholesky(s)"
     ],
     "language": "python",
     "metadata": {},
     "outputs": [
      {
       "output_type": "stream",
       "stream": "stdout",
       "text": [
        "100000 loops, best of 3: 3.03 \u00b5s per loop\n",
        "10000 loops, best of 3: 43.3 \u00b5s per loop"
       ]
      },
      {
       "output_type": "stream",
       "stream": "stdout",
       "text": [
        "\n"
       ]
      }
     ],
     "prompt_number": 40
    },
    {
     "cell_type": "code",
     "collapsed": false,
     "input": [],
     "language": "python",
     "metadata": {},
     "outputs": [],
     "prompt_number": 40
    }
   ],
   "metadata": {}
  }
 ]
}