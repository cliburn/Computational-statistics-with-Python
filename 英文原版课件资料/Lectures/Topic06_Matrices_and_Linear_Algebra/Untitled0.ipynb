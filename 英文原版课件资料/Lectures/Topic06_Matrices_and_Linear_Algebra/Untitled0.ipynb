{
 "metadata": {
  "name": "",
  "signature": "sha256:67760feebeb756b6bff3f56ead9bc99ac3f4a4b314f3a0bf3e01e34aa6326c7b"
 },
 "nbformat": 3,
 "nbformat_minor": 0,
 "worksheets": [
  {
   "cells": [
    {
     "cell_type": "code",
     "collapsed": false,
     "input": [
      "import os\n",
      "import sys\n",
      "import glob\n",
      "import matplotlib.pyplot as plt\n",
      "import numpy as np\n",
      "import pandas as pd\n",
      "%matplotlib inline\n",
      "%precision 4\n",
      "plt.style.use('ggplot')\n"
     ],
     "language": "python",
     "metadata": {},
     "outputs": [],
     "prompt_number": 1
    },
    {
     "cell_type": "code",
     "collapsed": false,
     "input": [
      "# We have n observations of p variables \n",
      "n, p = 10, 4\n",
      "v = np.random.random((p,n))"
     ],
     "language": "python",
     "metadata": {},
     "outputs": [],
     "prompt_number": 51
    },
    {
     "cell_type": "code",
     "collapsed": false,
     "input": [
      "# The covariance matrix is a p by p matrix\n",
      "np.cov(v)"
     ],
     "language": "python",
     "metadata": {},
     "outputs": [
      {
       "metadata": {},
       "output_type": "pyout",
       "prompt_number": 53,
       "text": [
        "array([[ 0.9774,  0.5764, -0.5153,  0.2719],\n",
        "       [ 0.5764,  1.7938, -1.1321,  0.6296],\n",
        "       [-0.5153, -1.1321,  2.0224,  0.1892],\n",
        "       [ 0.2719,  0.6296,  0.1892,  4.8516]])"
       ]
      }
     ],
     "prompt_number": 53
    },
    {
     "cell_type": "code",
     "collapsed": false,
     "input": [
      "# From the defintiino, the covariance matrix \n",
      "# is just the otuer product of the normalized \n",
      "# matrix where every variable has zero mean\n",
      "w = v - v.mean(1)[:, np.newaxis]\n",
      "w.dot(w.T)/9.0"
     ],
     "language": "python",
     "metadata": {},
     "outputs": [
      {
       "metadata": {},
       "output_type": "pyout",
       "prompt_number": 62,
       "text": [
        "array([[ 0.9774,  0.5764, -0.5153,  0.2719],\n",
        "       [ 0.5764,  1.7938, -1.1321,  0.6296],\n",
        "       [-0.5153, -1.1321,  2.0224,  0.1892],\n",
        "       [ 0.2719,  0.6296,  0.1892,  4.8516]])"
       ]
      }
     ],
     "prompt_number": 62
    },
    {
     "cell_type": "markdown",
     "metadata": {},
     "source": [
      "Let $f(x)$ be the linear transformation that takes $e_1=(1,0)$ to $f(e_1)=(2,3)$ and $e_2=(0,1)$ to $f(e_2) = (1,1)$.  A matrix representation of $f$ would be given by:\n",
      "\n",
      "$$A = \\left(\\begin{matrix}2 & 1\\\\3&1\\end{matrix}\\right)$$\n",
      "\n",
      "This is the matrix we use if we consider the vectors of $\\mathbb{R}^2$ to be linear combinations of the form \n",
      "\n",
      "$$c_1 e_1 + c_2 e_2$$"
     ]
    },
    {
     "cell_type": "code",
     "collapsed": false,
     "input": [
      "def plot_vectors(vs):\n",
      "    \"\"\"Plot vectors in vs assuming origin at (0,0).\"\"\"\n",
      "    n = len(vs)\n",
      "    X, Y = np.zeros((n, 2))\n",
      "    U, V = np.vstack(vs).T\n",
      "    plt.quiver(X, Y, U, V, range(n), angles='xy', scale_units='xy', scale=1)\n",
      "    xmin, xmax = np.min([U, X]), np.max([U, X])\n",
      "    ymin, ymax = np.min([V, Y]), np.max([V, Y])\n",
      "    xrng = xmax - xmin\n",
      "    yrng = ymax - ymin\n",
      "    xmin -= 0.05*xrng\n",
      "    xmax += 0.05*xrng\n",
      "    ymin -= 0.05*yrng\n",
      "    ymax += 0.05*yrng\n",
      "    plt.axis([xmin, xmax, ymin, ymax])"
     ],
     "language": "python",
     "metadata": {},
     "outputs": [],
     "prompt_number": 127
    },
    {
     "cell_type": "code",
     "collapsed": false,
     "input": [
      "e1 = np.array([1,0])\n",
      "e2 = np.array([0,1])\n",
      "A = np.array([[2,1],[3,1]])"
     ],
     "language": "python",
     "metadata": {},
     "outputs": [],
     "prompt_number": 128
    },
    {
     "cell_type": "code",
     "collapsed": false,
     "input": [
      "plt.figure(figsize=(8,4))\n",
      "plt.subplot(1,2,1)\n",
      "plot_vectors([e1, e2])\n",
      "plt.subplot(1,2,2)\n",
      "plot_vectors([A.dot(e1), A.dot(e2)])\n",
      "plt.tight_layout()"
     ],
     "language": "python",
     "metadata": {},
     "outputs": [
      {
       "metadata": {},
       "output_type": "display_data",
       "png": "[encoded data removed]",
       "text": [
        "<matplotlib.figure.Figure at 0x114eeec50>"
       ]
      }
     ],
     "prompt_number": 129
    },
    {
     "cell_type": "code",
     "collapsed": false,
     "input": [],
     "language": "python",
     "metadata": {},
     "outputs": []
    }
   ],
   "metadata": {}
  }
 ]
}