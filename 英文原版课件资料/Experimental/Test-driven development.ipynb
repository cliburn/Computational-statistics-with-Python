{
 "metadata": {
  "name": "",
  "signature": "sha256:fcc2672edea811587d507c7a1712c5edab222e7c0c6881e39b667ae4a19ba717"
 },
 "nbformat": 3,
 "nbformat_minor": 0,
 "worksheets": [
  {
   "cells": [
    {
     "cell_type": "markdown",
     "metadata": {},
     "source": [
      "Basic test nomenclature\n",
      "----\n",
      "\n",
      "There are several levls of testing code. The most basic level is that of **unit tsts**, which check that a single function does as expected. At a higher level are **integration tests**, which check that some combinaiton of functions does as expected. **Regression tests** check if new chnages to the code base break existing tests, and can be either unit or integration tests.\n",
      "\n",
      "### Test-driven development\n",
      "\n",
      "The tst-driven development philosophy recommends that tests be written before code, such that code is iteratively developed so as to pass an evolving series of tests. In this way, there is no need to write a suite of tests seprately, since the tests are already written in the process of code devlopemnet. The development cycle goes like this:\n",
      "\n",
      "- add a test that will fail\n",
      "- write code to fix failing test(s)\n",
      "- refactor code\n",
      "\n",
      "### Support for testing\n",
      "\n",
      "We will use the `py.test` framewort do develop our tests. Install with\n",
      "```\n",
      "pip install pytest\n",
      "```\n",
      "\n",
      "Test framworks allow us to run tests in an isolated environment by using setup and teardown fixtures, and to do so auotmatically with simple commnand line arguments. We can also run tests in an IPython notebook (see http://zonca.github.io/2014/09/unit-tests-ipython-notebook.html) but this seems to be rather slow, so I will do them the old fashioned way."
     ]
    },
    {
     "cell_type": "markdown",
     "metadata": {},
     "source": [
      "### A simple example of test-driven development\n",
      "\n",
      "We will develop a function to calculate Euclidean distance."
     ]
    },
    {
     "cell_type": "markdown",
     "metadata": {},
     "source": [
      "### Tests"
     ]
    },
    {
     "cell_type": "code",
     "collapsed": false,
     "input": [
      "%%file distance.py\n",
      "\n",
      "import numpy as np\n",
      "\n",
      "def euclidean_dist(u, v):\n",
      "    \"\"\"Returns Euclidean distance betwen numpy vectors u and v.\"\"\"\n",
      "    w = u - v\n",
      "    return np.sqrt(np.sum(w**2))"
     ],
     "language": "python",
     "metadata": {},
     "outputs": [
      {
       "output_type": "stream",
       "stream": "stdout",
       "text": [
        "Overwriting distance.py\n"
       ]
      }
     ],
     "prompt_number": 68
    },
    {
     "cell_type": "code",
     "collapsed": false,
     "input": [
      "%%file test_distance.py\n",
      "\n",
      "import numpy as np\n",
      "from numpy.testing import assert_almost_equal\n",
      "from distance import euclidean_dist\n",
      "\n",
      "def test_non_negativity():\n",
      "    for i in range(10):\n",
      "        u = np.random.normal(3)\n",
      "        v = np.random.normal(3)\n",
      "        assert euclidean_dist(u, v) >= 0\n",
      "\n",
      "def test_coincidence_when_zero():\n",
      "    u = np.zeros(3)\n",
      "    v = np.zeros(3)\n",
      "    assert euclidean_dist(u, v) == 0\n",
      "\n",
      "def test_coincidence_when_not_zero():\n",
      "     for i in range(10):\n",
      "        u = np.random.random(3)\n",
      "        v = np.zeros(3)\n",
      "        assert euclidean_dist(u, v) != 0\n",
      "\n",
      "def test_symmetry():\n",
      "    for i in range(10):\n",
      "        u = np.random.random(3)\n",
      "        v = np.random.random(3)\n",
      "        assert euclidean_dist(u, v) == euclidean_dist(v, u)\n",
      "\n",
      "def test_triangle():\n",
      "    \n",
      "    u = np.random.random(3)\n",
      "    v = np.random.random(3)\n",
      "    w = np.random.random(3)\n",
      "    assert euclidean_dist(u, w) <= euclidean_dist(u, v) + euclidean_dist(v, w)\n",
      "\n",
      "def test_known1():\n",
      "    u = np.array([0])\n",
      "    v = np.array([3])\n",
      "    assert_almost_equal(euclidean_dist(u, v), 3)\n",
      "\n",
      "def test_known2():\n",
      "    u = np.array([0,0])\n",
      "    v = np.array([3, 4])\n",
      "    assert_almost_equal(euclidean_dist(u, v), 5)\n",
      "\n",
      "def test_known3():\n",
      "    u = np.array([0,0])\n",
      "    v = np.array([-3, -4])\n",
      "    assert_almost_equal(euclidean_dist(u, v), 5)"
     ],
     "language": "python",
     "metadata": {},
     "outputs": [
      {
       "output_type": "stream",
       "stream": "stdout",
       "text": [
        "Overwriting test_distance.py\n"
       ]
      }
     ],
     "prompt_number": 65
    },
    {
     "cell_type": "code",
     "collapsed": false,
     "input": [
      "! py.test"
     ],
     "language": "python",
     "metadata": {},
     "outputs": [
      {
       "output_type": "stream",
       "stream": "stdout",
       "text": [
        "\u001b[1m============================= test session starts ==============================\u001b[0m\r\n",
        "platform darwin -- Python 2.7.9 -- py-1.4.25 -- pytest-2.6.3\r\n",
        "plugins: ipynb\r\n"
       ]
      },
      {
       "output_type": "stream",
       "stream": "stdout",
       "text": [
        "\u001b[1m\r",
        "collecting 0 items\u001b[0m"
       ]
      },
      {
       "output_type": "stream",
       "stream": "stdout",
       "text": [
        "\u001b[1m\r",
        "collecting 8 items\u001b[0m\u001b[1m\r",
        "collected 8 items \r\n",
        "\u001b[0m\r\n",
        "test_distance.py ........"
       ]
      },
      {
       "output_type": "stream",
       "stream": "stdout",
       "text": [
        "\r\n",
        "\r\n",
        "\u001b[32m\u001b[1m=========================== 8 passed in 0.46 seconds ===========================\u001b[0m\r\n"
       ]
      }
     ],
     "prompt_number": 66
    },
    {
     "cell_type": "code",
     "collapsed": false,
     "input": [],
     "language": "python",
     "metadata": {},
     "outputs": []
    }
   ],
   "metadata": {}
  }
 ]
}