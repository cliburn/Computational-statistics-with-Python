{
 "metadata": {
  "name": "",
  "signature": "sha256:1cad0d3eb02a8831641b46ee1a5bd59607633a5fa02a211ae5a9be7f00c045fa"
 },
 "nbformat": 3,
 "nbformat_minor": 0,
 "worksheets": [
  {
   "cells": [
    {
     "cell_type": "code",
     "collapsed": false,
     "input": [
      "from __future__ import division\n",
      "import os\n",
      "import sys\n",
      "import glob\n",
      "import matplotlib.pyplot as plt\n",
      "import numpy as np\n",
      "import pandas as pd\n",
      "%matplotlib inline\n",
      "%precision 4\n",
      "plt.style.use('ggplot')"
     ],
     "language": "python",
     "metadata": {},
     "outputs": [],
     "prompt_number": 1
    },
    {
     "cell_type": "code",
     "collapsed": false,
     "input": [
      "! pip install git+https://github.com/dabeaz/bitey.git\n",
      "%install_ext https://raw.github.com/mgaitan/fortran_magic/master/fortranmagic.py\n",
      "%install_ext https://gist.githubusercontent.com/bfroehle/3458310/raw/biteymagic.py"
     ],
     "language": "python",
     "metadata": {},
     "outputs": []
    },
    {
     "cell_type": "markdown",
     "metadata": {},
     "source": [
      "From compiled code to Python\n",
      "---\n",
      "\n",
      "There are 2 main reasons why interpreted Python code is slower than code in a compiled lanauge such as C (or other compiled langauge):\n",
      " \n",
      "- Python executes byte code in a virtual machine (minor effect) while C compiles down to machine instructions specific for the processor\n",
      "- Python has dynamic typing (major effect) while C is statically typed. In a dynamically typed language, the simple expression  `a + b` can mean many, many different things, and the interrpeter has to figure out which interpretation is intended. In contrast, `a` and `b` must have a type in C such as `double` and there is no ambiguity about what `+` means to resolve.\n",
      "\n",
      "If speed is critical, it is often necessary to exploit the efficiency of compiled languges - this can be done while retaining the nice features of Python in 2 directions\n",
      "\n",
      "- From C to Python\n",
      "- From Python to C\n",
      "\n",
      "Here we will look at how to go from C (C++, Fortran, Julia) to Python,"
     ]
    },
    {
     "cell_type": "code",
     "collapsed": false,
     "input": [
      "def python_fib(n):\n",
      "    a, b = 0,  1\n",
      "    for i in range(n):\n",
      "        a, b = a+b, a\n",
      "    return a"
     ],
     "language": "python",
     "metadata": {},
     "outputs": [],
     "prompt_number": 2
    },
    {
     "cell_type": "code",
     "collapsed": false,
     "input": [
      "%timeit python_fib(100)"
     ],
     "language": "python",
     "metadata": {},
     "outputs": [
      {
       "output_type": "stream",
       "stream": "stdout",
       "text": [
        "100000 loops, best of 3: 11 \u00b5s per loop\n"
       ]
      }
     ],
     "prompt_number": 3
    },
    {
     "cell_type": "markdown",
     "metadata": {},
     "source": [
      "### Calling a C function"
     ]
    },
    {
     "cell_type": "code",
     "collapsed": false,
     "input": [
      "%%file fib.h\n",
      "\n",
      "double fib(int n);"
     ],
     "language": "python",
     "metadata": {},
     "outputs": [
      {
       "output_type": "stream",
       "stream": "stdout",
       "text": [
        "Overwriting fib.h\n"
       ]
      }
     ],
     "prompt_number": 4
    },
    {
     "cell_type": "code",
     "collapsed": false,
     "input": [
      "%%file fib.c\n",
      "\n",
      "double fib(int n) {\n",
      "    double a = 0, b = 1;\n",
      "    for (int i=0; i<n; i++) {\n",
      "        double tmp = b;\n",
      "        b = a;\n",
      "        a += tmp;\n",
      "     }\n",
      "    return a;\n",
      "}"
     ],
     "language": "python",
     "metadata": {},
     "outputs": [
      {
       "output_type": "stream",
       "stream": "stdout",
       "text": [
        "Overwriting fib.c\n"
       ]
      }
     ],
     "prompt_number": 5
    },
    {
     "cell_type": "markdown",
     "metadata": {},
     "source": [
      "### Using bitey and clang\n",
      "\n",
      "This is perhaps the simplest method, but it only works with the `clang` compiler and does not geenrate highly optimized code."
     ]
    },
    {
     "cell_type": "code",
     "collapsed": false,
     "input": [
      "import bitey"
     ],
     "language": "python",
     "metadata": {},
     "outputs": [],
     "prompt_number": 6
    },
    {
     "cell_type": "code",
     "collapsed": false,
     "input": [
      "!clang -O3 -emit-llvm -c fib.c -o fib1.o"
     ],
     "language": "python",
     "metadata": {},
     "outputs": [],
     "prompt_number": 7
    },
    {
     "cell_type": "code",
     "collapsed": false,
     "input": [
      "import fib1\n",
      "\n",
      "fib1.fib(100)"
     ],
     "language": "python",
     "metadata": {},
     "outputs": [
      {
       "metadata": {},
       "output_type": "pyout",
       "prompt_number": 8,
       "text": [
        "354224848179261997056.0000"
       ]
      }
     ],
     "prompt_number": 8
    },
    {
     "cell_type": "code",
     "collapsed": false,
     "input": [
      "%timeit fib1.fib(100)"
     ],
     "language": "python",
     "metadata": {},
     "outputs": [
      {
       "output_type": "stream",
       "stream": "stdout",
       "text": [
        "1000000 loops, best of 3: 1.25 \u00b5s per loop\n"
       ]
      }
     ],
     "prompt_number": 9
    },
    {
     "cell_type": "markdown",
     "metadata": {},
     "source": [
      "### Using Cython\n",
      "\n",
      "I recomment using Cython for all your C/C++ interface needs as it is highly optimized and can do boht C $\\rightarrow$ Python and Python $\\rightarrow$ C. It is a littel more involved, but the steps always follow the same template."
     ]
    },
    {
     "cell_type": "markdown",
     "metadata": {},
     "source": [
      "##### Define functions to be imported from C"
     ]
    },
    {
     "cell_type": "code",
     "collapsed": false,
     "input": [
      "%%file fib.pxd\n",
      "\n",
      "cdef extern from \"fib.h\":\n",
      "    double fib(int n)"
     ],
     "language": "python",
     "metadata": {},
     "outputs": [
      {
       "output_type": "stream",
       "stream": "stdout",
       "text": [
        "Overwriting fib.pxd\n"
       ]
      }
     ],
     "prompt_number": 10
    },
    {
     "cell_type": "markdown",
     "metadata": {},
     "source": [
      "##### Define wrapper for calling function from Python"
     ]
    },
    {
     "cell_type": "code",
     "collapsed": false,
     "input": [
      "%%file fib2.pyx\n",
      "\n",
      "cimport fib\n",
      "\n",
      "def fib(n):\n",
      "    return fib.fib(n)"
     ],
     "language": "python",
     "metadata": {},
     "outputs": [
      {
       "output_type": "stream",
       "stream": "stdout",
       "text": [
        "Overwriting fib2.pyx\n"
       ]
      }
     ],
     "prompt_number": 11
    },
    {
     "cell_type": "markdown",
     "metadata": {},
     "source": [
      "#### Use distutils to compile shared library for Python"
     ]
    },
    {
     "cell_type": "code",
     "collapsed": false,
     "input": [
      "%%file setup.py\n",
      "from distutils.core import setup, Extension\n",
      "from Cython.Build import cythonize\n",
      "\n",
      "ext = Extension(\"fib2\",\n",
      "              sources=[\"fib2.pyx\", \"fib.c\"])\n",
      "\n",
      "setup(name = \"cython_fib\",\n",
      "      ext_modules = cythonize(ext))"
     ],
     "language": "python",
     "metadata": {},
     "outputs": [
      {
       "output_type": "stream",
       "stream": "stdout",
       "text": [
        "Overwriting setup.py\n"
       ]
      }
     ],
     "prompt_number": 12
    },
    {
     "cell_type": "code",
     "collapsed": false,
     "input": [
      "! python setup.py build_ext -i &> /dev/null"
     ],
     "language": "python",
     "metadata": {},
     "outputs": [],
     "prompt_number": 13
    },
    {
     "cell_type": "code",
     "collapsed": false,
     "input": [
      "import fib2\n",
      "\n",
      "fib2.fib(100)"
     ],
     "language": "python",
     "metadata": {},
     "outputs": [
      {
       "metadata": {},
       "output_type": "pyout",
       "prompt_number": 14,
       "text": [
        "354224848179261997056.0000"
       ]
      }
     ],
     "prompt_number": 14
    },
    {
     "cell_type": "code",
     "collapsed": false,
     "input": [
      "%timeit fib2.fib(100)"
     ],
     "language": "python",
     "metadata": {},
     "outputs": [
      {
       "output_type": "stream",
       "stream": "stdout",
       "text": [
        "1000000 loops, best of 3: 352 ns per loop\n"
       ]
      }
     ],
     "prompt_number": 15
    },
    {
     "cell_type": "markdown",
     "metadata": {},
     "source": [
      "### Wrapping a function from a C library for use in Python\n",
      "\n",
      "Cython ships with a set of standard .pxd files that provide these declarations in a readily usable way that is adapted to their use in Cython. The main packages are `cpython`, `libc` and `libcpp`. The NumPy library also has a standard .pxd file `numpy`, as it is often used in Cython code. See Cython\u2019s Cython/Includes/ source package for a complete list of provided .pxd files. (From http://docs.cython.org/src/tutorial/clibraries.html).\n",
      "\n",
      "Additional .pxd are also avaialbel for:\n",
      "\n",
      "- [The Rmath library](https://github.com/nfoti/cythonRMath)\n",
      "- [The GNU scientific library](https://github.com/twiecki/CythonGSL)\n",
      "\n",
      "However, here is an example of how to write functions from an external C library if you have to do it yourself. The example is taken from https://github.com/cythonbook/examples and wraps the Mersenne Twister from http://www.math.sci.hiroshima-u.ac.jp/~m-mat/MT/emt.html for use in Python."
     ]
    },
    {
     "cell_type": "code",
     "collapsed": false,
     "input": [
      "if not os.path.exists('mt19937ar.h'):\n",
      "    ! wget http://www.math.sci.hiroshima-u.ac.jp/~m-mat/MT/MT2002/CODES/mt19937ar.sep.tgz\n",
      "    ! tar -xzvf mt19937ar.sep.tgz"
     ],
     "language": "python",
     "metadata": {},
     "outputs": [],
     "prompt_number": 16
    },
    {
     "cell_type": "code",
     "collapsed": false,
     "input": [
      "%%file mt.pxd\n",
      "\n",
      "cdef extern from \"mt19937ar.h\":\n",
      "    void init_genrand(unsigned long s)\n",
      "    double genrand_real1()"
     ],
     "language": "python",
     "metadata": {},
     "outputs": [
      {
       "output_type": "stream",
       "stream": "stdout",
       "text": [
        "Overwriting mt.pxd\n"
       ]
      }
     ],
     "prompt_number": 17
    },
    {
     "cell_type": "code",
     "collapsed": false,
     "input": [
      "%%file mt_random.pyx\n",
      "\n",
      "cimport mt\n",
      "\n",
      "def init_state(unsigned long s):\n",
      "    mt.init_genrand(s)\n",
      "\n",
      "def rand():\n",
      "    return mt.genrand_real1()"
     ],
     "language": "python",
     "metadata": {},
     "outputs": [
      {
       "output_type": "stream",
       "stream": "stdout",
       "text": [
        "Overwriting mt_random.pyx\n"
       ]
      }
     ],
     "prompt_number": 18
    },
    {
     "cell_type": "code",
     "collapsed": false,
     "input": [
      "%%file setup.py\n",
      "\n",
      "from distutils.core import setup, Extension\n",
      "from Cython.Build import cythonize\n",
      "\n",
      "ext = Extension(\"mt_random\",\n",
      "                sources=[\"mt_random.pyx\", \"mt19937ar.c\"])\n",
      "\n",
      "setup(name=\"mersenne_random\",\n",
      "      ext_modules = cythonize([ext]))"
     ],
     "language": "python",
     "metadata": {},
     "outputs": [
      {
       "output_type": "stream",
       "stream": "stdout",
       "text": [
        "Overwriting setup.py\n"
       ]
      }
     ],
     "prompt_number": 19
    },
    {
     "cell_type": "code",
     "collapsed": false,
     "input": [
      "! python setup.py build_ext -i &> /dev/null"
     ],
     "language": "python",
     "metadata": {},
     "outputs": [],
     "prompt_number": 20
    },
    {
     "cell_type": "code",
     "collapsed": false,
     "input": [
      "import mt_random\n",
      "\n",
      "mt_random.init_state(123)\n",
      "for i in range(10):\n",
      "    print mt_random.rand(),\n",
      "print"
     ],
     "language": "python",
     "metadata": {},
     "outputs": [
      {
       "output_type": "stream",
       "stream": "stdout",
       "text": [
        "0.696469187433 0.712955321584 0.28613933881 0.428470925062 0.226851454989 0.690884851546 0.55131476525 0.71915030892 0.719468970718 0.491118932723\n"
       ]
      }
     ],
     "prompt_number": 21
    },
    {
     "cell_type": "markdown",
     "metadata": {},
     "source": [
      "### Wrapping a C++ library\n",
      "\n",
      "Andrew Cron (DSS PhD graduate) has a GitHub repository wrapping the C++ Armadillo linear algebra package with Cython at https://github.com/andrewcron/cy_armadillo"
     ]
    },
    {
     "cell_type": "markdown",
     "metadata": {},
     "source": [
      "### Calling a Fortran function\n",
      "\n",
      "This is almost trivial with the Fortran Magic extnesion.\n",
      "\n",
      "```\n",
      "pip install -U fortran-magic \n",
      "```"
     ]
    },
    {
     "cell_type": "code",
     "collapsed": false,
     "input": [
      "%load_ext fortranmagic"
     ],
     "language": "python",
     "metadata": {},
     "outputs": [
      {
       "javascript": [
        "$.getScript(\"https://raw.github.com/marijnh/CodeMirror/master/mode/fortran/fortran.js\", function () {\n",
        "IPython.config.cell_magic_highlight['magic_fortran'] = {'reg':[/^%%fortran/]};});\n"
       ],
       "metadata": {},
       "output_type": "display_data"
      }
     ],
     "prompt_number": 22
    },
    {
     "cell_type": "code",
     "collapsed": false,
     "input": [
      "%%fortran\n",
      "\n",
      "subroutine fib3(n, a)\n",
      "    integer, intent(in) :: n\n",
      "    real, intent(out) :: a\n",
      "\n",
      "    integer :: i\n",
      "    real :: b, tmp\n",
      "\n",
      "    a = 0\n",
      "    b = 1\n",
      "    do i = 1, n\n",
      "        tmp = b\n",
      "        b = a\n",
      "        a = a + tmp\n",
      "    end do\n",
      "end subroutine"
     ],
     "language": "python",
     "metadata": {},
     "outputs": [
      {
       "output_type": "stream",
       "stream": "stdout",
       "text": [
        "\tBuilding module \"_fortran_magic_efd2bac240f9a6e9d6f853c031fa2596\"...\n",
        "\t\tConstructing wrapper function \"fib3\"...\n",
        "\t\t  a = fib3(n)\n",
        "\tWrote C/API module \"_fortran_magic_efd2bac240f9a6e9d6f853c031fa2596\" to file \"/var/folders/xf/rzdg30ps11g93j3w0h589q780000gn/T/tmp0BVIjl/src.macosx-10.5-x86_64-2.7/_fortran_magic_efd2bac240f9a6e9d6f853c031fa2596module.c\"\n"
       ]
      }
     ],
     "prompt_number": 23
    },
    {
     "cell_type": "code",
     "collapsed": false,
     "input": [
      "fib3(100)"
     ],
     "language": "python",
     "metadata": {},
     "outputs": [
      {
       "metadata": {},
       "output_type": "pyout",
       "prompt_number": 24,
       "text": [
        "354224717716315439104.0000"
       ]
      }
     ],
     "prompt_number": 24
    },
    {
     "cell_type": "markdown",
     "metadata": {},
     "source": [
      "Antoher example from the [documentation](http://nbviewer.ipython.org/github/mgaitan/fortran_magic/blob/master/documentation.ipynb)"
     ]
    },
    {
     "cell_type": "code",
     "collapsed": false,
     "input": [
      "%%fortran --link lapack\n",
      "\n",
      "subroutine solve(A, b, x, n)\n",
      "    ! solve the matrix equation A*x=b using LAPACK\n",
      "    implicit none\n",
      "\n",
      "    real*8, dimension(n,n), intent(in) :: A\n",
      "    real*8, dimension(n), intent(in) :: b\n",
      "    real*8, dimension(n), intent(out) :: x\n",
      "\n",
      "    integer :: pivot(n), ok\n",
      "\n",
      "    integer, intent(in) :: n\n",
      "    x = b\n",
      "\n",
      "    ! find the solution using the LAPACK routine SGESV\n",
      "    call DGESV(n, 1, A, n, pivot, x, n, ok)\n",
      "    \n",
      "end subroutine"
     ],
     "language": "python",
     "metadata": {},
     "outputs": [
      {
       "output_type": "stream",
       "stream": "stdout",
       "text": [
        "\tBuilding module \"_fortran_magic_ce82cc3a9453cf5fdca544e258c472ea\"...\n",
        "\t\tConstructing wrapper function \"solve\"...\n",
        "\t\t  x = solve(a,b,[n])\n",
        "\tWrote C/API module \"_fortran_magic_ce82cc3a9453cf5fdca544e258c472ea\" to file \"/var/folders/xf/rzdg30ps11g93j3w0h589q780000gn/T/tmp5hsLNy/src.macosx-10.5-x86_64-2.7/_fortran_magic_ce82cc3a9453cf5fdca544e258c472eamodule.c\"\n"
       ]
      }
     ],
     "prompt_number": 25
    },
    {
     "cell_type": "code",
     "collapsed": false,
     "input": [
      "A = np.array([[1, 2.5], [-3, 4]])\n",
      "b = np.array([1, 2.5])\n",
      "\n",
      "solve(A, b)"
     ],
     "language": "python",
     "metadata": {},
     "outputs": [
      {
       "metadata": {},
       "output_type": "pyout",
       "prompt_number": 26,
       "text": [
        "array([-0.1957,  0.4783])"
       ]
      }
     ],
     "prompt_number": 26
    },
    {
     "cell_type": "markdown",
     "metadata": {},
     "source": [
      "### Benchmarking"
     ]
    },
    {
     "cell_type": "code",
     "collapsed": false,
     "input": [
      "%timeit python_fib(100) # Python\n",
      "%timeit fib1.fib(100)   # bitey\n",
      "%timeit fib2.fib(100)   # Cython\n",
      "%timeit fib3(100)       # Fortran"
     ],
     "language": "python",
     "metadata": {},
     "outputs": [
      {
       "output_type": "stream",
       "stream": "stdout",
       "text": [
        "100000 loops, best of 3: 11.1 \u00b5s per loop\n",
        "1000000 loops, best of 3: 1.24 \u00b5s per loop"
       ]
      },
      {
       "output_type": "stream",
       "stream": "stdout",
       "text": [
        "\n",
        "1000000 loops, best of 3: 356 ns per loop"
       ]
      },
      {
       "output_type": "stream",
       "stream": "stdout",
       "text": [
        "\n",
        "1000000 loops, best of 3: 310 ns per loop"
       ]
      },
      {
       "output_type": "stream",
       "stream": "stdout",
       "text": [
        "\n"
       ]
      }
     ],
     "prompt_number": 28
    },
    {
     "cell_type": "code",
     "collapsed": false,
     "input": [],
     "language": "python",
     "metadata": {},
     "outputs": [],
     "prompt_number": 27
    }
   ],
   "metadata": {}
  }
 ]
}