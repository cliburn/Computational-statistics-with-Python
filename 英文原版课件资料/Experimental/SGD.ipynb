{
 "metadata": {
  "name": "",
  "signature": "sha256:d2e09fdc5d0dad64df4a273b837cb961df97783753f175078a76541070ef3b02"
 },
 "nbformat": 3,
 "nbformat_minor": 0,
 "worksheets": [
  {
   "cells": [
    {
     "cell_type": "code",
     "collapsed": false,
     "input": [
      "from __future__ import division\n",
      "import os\n",
      "import sys\n",
      "import glob\n",
      "import matplotlib.pyplot as plt\n",
      "import numpy as np\n",
      "import pandas as pd\n",
      "%matplotlib inline\n",
      "%precision 4\n",
      "plt.style.use('ggplot')\n"
     ],
     "language": "python",
     "metadata": {},
     "outputs": [],
     "prompt_number": 1
    },
    {
     "cell_type": "code",
     "collapsed": false,
     "input": [
      "np.set_printoptions(formatter={'float': lambda x: '%.3f' % x})"
     ],
     "language": "python",
     "metadata": {},
     "outputs": [],
     "prompt_number": 2
    },
    {
     "cell_type": "code",
     "collapsed": false,
     "input": [
      "np.random.seed(1234)"
     ],
     "language": "python",
     "metadata": {},
     "outputs": [],
     "prompt_number": 3
    },
    {
     "cell_type": "code",
     "collapsed": false,
     "input": [
      "import scipy.linalg as la"
     ],
     "language": "python",
     "metadata": {},
     "outputs": [],
     "prompt_number": 4
    },
    {
     "cell_type": "code",
     "collapsed": false,
     "input": [
      "import statsmodels.api as sm"
     ],
     "language": "python",
     "metadata": {},
     "outputs": [],
     "prompt_number": 5
    },
    {
     "cell_type": "code",
     "collapsed": false,
     "input": [
      "import scipy.optimize as opt"
     ],
     "language": "python",
     "metadata": {},
     "outputs": [],
     "prompt_number": 6
    },
    {
     "cell_type": "code",
     "collapsed": false,
     "input": [
      "def p(beta, x):\n",
      "    return 1.0/(1.0 + np.exp(-x.dot(beta)))\n",
      "def f(beta, x, y):\n",
      "    return -((-np.log(1 + np.exp(np.dot(x, beta)))).sum() + \\\n",
      "             (y*(np.dot(x, beta))).sum())\n",
      "def grad(beta, x, y):\n",
      "    return -np.reshape((y - p(beta, x))*x, (-1,1))\n",
      "def sgd(x, y, beta0=None, alpha=0.1, niter=1001):\n",
      "    n, p = x.shape\n",
      "    if beta0 is None:\n",
      "        beta = np.zeros((p,1))\n",
      "    else:\n",
      "        beta = beta0\n",
      "    for i in range(niter):\n",
      "        idxs = np.random.permutation(n)\n",
      "        for j in idxs:\n",
      "            g = grad(beta, x[j,:], y[j])\n",
      "            beta = beta - alpha*g\n",
      "        if i%(niter/10) == 0:\n",
      "            print '%9d' % i, '%.3f' % f(beta, x, y), \n",
      "            print '%.3f' % la.norm(g), beta.ravel()"
     ],
     "language": "python",
     "metadata": {},
     "outputs": [],
     "prompt_number": 7
    },
    {
     "cell_type": "code",
     "collapsed": false,
     "input": [
      "n = 100\n",
      "x = np.column_stack([np.ones(n), np.linspace(-1, 1, n)])\n",
      "y = np.zeros((n,1))\n",
      "y[n/2:] = 1\n",
      "beta0 = np.zeros((x.shape[1],1))"
     ],
     "language": "python",
     "metadata": {},
     "outputs": [],
     "prompt_number": 11
    },
    {
     "cell_type": "code",
     "collapsed": false,
     "input": [
      "fit2 = sm.Logit(y, x).fit(method='bfgs', maxiter=100)\n",
      "fit2.summary()"
     ],
     "language": "python",
     "metadata": {},
     "outputs": [
      {
       "output_type": "stream",
       "stream": "stdout",
       "text": [
        "Optimization terminated successfully.\n",
        "         Current function value: 0.000605\n",
        "         Iterations: 18\n",
        "         Function evaluations: 20\n",
        "         Gradient evaluations: 20\n"
       ]
      },
      {
       "html": [
        "<table class=\"simpletable\">\n",
        "<caption>Logit Regression Results</caption>\n",
        "<tr>\n",
        "  <th>Dep. Variable:</th>         <td>y</td>        <th>  No. Observations:  </th>  <td>   100</td>  \n",
        "</tr>\n",
        "<tr>\n",
        "  <th>Model:</th>               <td>Logit</td>      <th>  Df Residuals:      </th>  <td>    98</td>  \n",
        "</tr>\n",
        "<tr>\n",
        "  <th>Method:</th>               <td>MLE</td>       <th>  Df Model:          </th>  <td>     1</td>  \n",
        "</tr>\n",
        "<tr>\n",
        "  <th>Date:</th>          <td>Thu, 26 Feb 2015</td> <th>  Pseudo R-squ.:     </th>  <td>0.9991</td>  \n",
        "</tr>\n",
        "<tr>\n",
        "  <th>Time:</th>              <td>15:30:48</td>     <th>  Log-Likelihood:    </th> <td>-0.060541</td>\n",
        "</tr>\n",
        "<tr>\n",
        "  <th>converged:</th>           <td>True</td>       <th>  LL-Null:           </th> <td> -69.315</td> \n",
        "</tr>\n",
        "<tr>\n",
        "  <th> </th>                      <td> </td>        <th>  LLR p-value:       </th> <td>5.642e-32</td>\n",
        "</tr>\n",
        "</table>\n",
        "<table class=\"simpletable\">\n",
        "<tr>\n",
        "    <td></td>       <th>coef</th>     <th>std err</th>      <th>z</th>      <th>P>|z|</th> <th>[95.0% Conf. Int.]</th> \n",
        "</tr>\n",
        "<tr>\n",
        "  <th>const</th> <td>-2.618e-14</td> <td>    4.157</td> <td> -6.3e-15</td> <td> 1.000</td> <td>   -8.148     8.148</td>\n",
        "</tr>\n",
        "<tr>\n",
        "  <th>x1</th>    <td>  344.8550</td> <td>  409.928</td> <td>    0.841</td> <td> 0.400</td> <td> -458.589  1148.299</td>\n",
        "</tr>\n",
        "</table>"
       ],
       "metadata": {},
       "output_type": "pyout",
       "prompt_number": 12,
       "text": [
        "<class 'statsmodels.iolib.summary.Summary'>\n",
        "\"\"\"\n",
        "                           Logit Regression Results                           \n",
        "==============================================================================\n",
        "Dep. Variable:                      y   No. Observations:                  100\n",
        "Model:                          Logit   Df Residuals:                       98\n",
        "Method:                           MLE   Df Model:                            1\n",
        "Date:                Thu, 26 Feb 2015   Pseudo R-squ.:                  0.9991\n",
        "Time:                        15:30:48   Log-Likelihood:              -0.060541\n",
        "converged:                       True   LL-Null:                       -69.315\n",
        "                                        LLR p-value:                 5.642e-32\n",
        "==============================================================================\n",
        "                 coef    std err          z      P>|z|      [95.0% Conf. Int.]\n",
        "------------------------------------------------------------------------------\n",
        "const      -2.618e-14      4.157   -6.3e-15      1.000        -8.148     8.148\n",
        "x1           344.8550    409.928      0.841      0.400      -458.589  1148.299\n",
        "==============================================================================\n",
        "\"\"\""
       ]
      }
     ],
     "prompt_number": 12
    },
    {
     "cell_type": "code",
     "collapsed": false,
     "input": [
      "%%time\n",
      "\n",
      "sgd(x, y, beta0, alpha=0.1, niter=100000)"
     ],
     "language": "python",
     "metadata": {},
     "outputs": [
      {
       "output_type": "stream",
       "stream": "stdout",
       "text": [
        "        0 37.226 0.463 [-0.110 1.762]\n",
        "    10000"
       ]
      },
      {
       "output_type": "stream",
       "stream": "stdout",
       "text": [
        " 1.236 0.000 [0.002 63.146]\n",
        "    20000"
       ]
      },
      {
       "output_type": "stream",
       "stream": "stdout",
       "text": [
        " 0.951 0.000 [0.000 79.942]\n",
        "    30000"
       ]
      },
      {
       "output_type": "stream",
       "stream": "stdout",
       "text": [
        " 0.809 0.000 [-0.000 91.877]\n",
        "    40000"
       ]
      },
      {
       "output_type": "stream",
       "stream": "stdout",
       "text": [
        " 0.717 0.000 [0.003 101.480]\n",
        "    50000"
       ]
      },
      {
       "output_type": "stream",
       "stream": "stdout",
       "text": [
        " 0.650 0.000 [0.001 109.663]\n",
        "    60000"
       ]
      },
      {
       "output_type": "stream",
       "stream": "stdout",
       "text": [
        " 0.599 0.000 [0.001 116.870]\n",
        "    70000"
       ]
      },
      {
       "output_type": "stream",
       "stream": "stdout",
       "text": [
        " 0.557 0.000 [0.000 123.358]\n",
        "    80000"
       ]
      },
      {
       "output_type": "stream",
       "stream": "stdout",
       "text": [
        " 0.522 0.000 [0.001 129.288]\n",
        "    90000"
       ]
      },
      {
       "output_type": "stream",
       "stream": "stdout",
       "text": [
        " 0.492 0.000 [0.001 134.768]\n",
        "CPU times: user 2min 15s, sys: 302 ms, total: 2min 15s"
       ]
      },
      {
       "output_type": "stream",
       "stream": "stdout",
       "text": [
        "\n",
        "Wall time: 2min 15s\n"
       ]
      }
     ],
     "prompt_number": 13
    },
    {
     "cell_type": "code",
     "collapsed": false,
     "input": [
      "df = pd.read_csv('train.csv')"
     ],
     "language": "python",
     "metadata": {},
     "outputs": [],
     "prompt_number": 14
    },
    {
     "cell_type": "code",
     "collapsed": false,
     "input": [
      "df['Female'] = pd.get_dummies(df.Sex)['female']\n",
      "df['Intercept'] = np.ones(len(df))\n",
      "df1 = df[['Survived', 'Intercept', 'Female', 'Pclass', 'Age' ]]\n",
      "df1.dropna(inplace=True)\n",
      "\n",
      "y = df1['Survived'].values.reshape((-1,1))\n",
      "x = df1.ix[:, 1:].values\n",
      "beta0 = np.zeros((x.shape[1],1))"
     ],
     "language": "python",
     "metadata": {},
     "outputs": [
      {
       "output_type": "stream",
       "stream": "stderr",
       "text": [
        "-c:4: SettingWithCopyWarning: A value is trying to be set on a copy of a slice from a DataFrame\n"
       ]
      }
     ],
     "prompt_number": 15
    },
    {
     "cell_type": "code",
     "collapsed": false,
     "input": [
      "fit2 = sm.Logit(y, x).fit(method='bfgs', maxiter=100)\n",
      "fit2.summary()"
     ],
     "language": "python",
     "metadata": {},
     "outputs": [
      {
       "output_type": "stream",
       "stream": "stdout",
       "text": [
        "Optimization terminated successfully.\n",
        "         Current function value: 0.453285\n",
        "         Iterations: 23\n",
        "         Function evaluations: 26\n",
        "         Gradient evaluations: 26\n"
       ]
      },
      {
       "html": [
        "<table class=\"simpletable\">\n",
        "<caption>Logit Regression Results</caption>\n",
        "<tr>\n",
        "  <th>Dep. Variable:</th>         <td>y</td>        <th>  No. Observations:  </th>  <td>   714</td>  \n",
        "</tr>\n",
        "<tr>\n",
        "  <th>Model:</th>               <td>Logit</td>      <th>  Df Residuals:      </th>  <td>   710</td>  \n",
        "</tr>\n",
        "<tr>\n",
        "  <th>Method:</th>               <td>MLE</td>       <th>  Df Model:          </th>  <td>     3</td>  \n",
        "</tr>\n",
        "<tr>\n",
        "  <th>Date:</th>          <td>Thu, 26 Feb 2015</td> <th>  Pseudo R-squ.:     </th>  <td>0.3289</td>  \n",
        "</tr>\n",
        "<tr>\n",
        "  <th>Time:</th>              <td>15:33:04</td>     <th>  Log-Likelihood:    </th> <td> -323.65</td> \n",
        "</tr>\n",
        "<tr>\n",
        "  <th>converged:</th>           <td>True</td>       <th>  LL-Null:           </th> <td> -482.26</td> \n",
        "</tr>\n",
        "<tr>\n",
        "  <th> </th>                      <td> </td>        <th>  LLR p-value:       </th> <td>1.860e-68</td>\n",
        "</tr>\n",
        "</table>\n",
        "<table class=\"simpletable\">\n",
        "<tr>\n",
        "    <td></td>       <th>coef</th>     <th>std err</th>      <th>z</th>      <th>P>|z|</th> <th>[95.0% Conf. Int.]</th> \n",
        "</tr>\n",
        "<tr>\n",
        "  <th>const</th> <td>    2.5339</td> <td>    0.456</td> <td>    5.554</td> <td> 0.000</td> <td>    1.640     3.428</td>\n",
        "</tr>\n",
        "<tr>\n",
        "  <th>x1</th>    <td>    2.5221</td> <td>    0.207</td> <td>   12.168</td> <td> 0.000</td> <td>    2.116     2.928</td>\n",
        "</tr>\n",
        "<tr>\n",
        "  <th>x2</th>    <td>   -1.2885</td> <td>    0.139</td> <td>   -9.253</td> <td> 0.000</td> <td>   -1.561    -1.016</td>\n",
        "</tr>\n",
        "<tr>\n",
        "  <th>x3</th>    <td>   -0.0369</td> <td>    0.008</td> <td>   -4.841</td> <td> 0.000</td> <td>   -0.052    -0.022</td>\n",
        "</tr>\n",
        "</table>"
       ],
       "metadata": {},
       "output_type": "pyout",
       "prompt_number": 16,
       "text": [
        "<class 'statsmodels.iolib.summary.Summary'>\n",
        "\"\"\"\n",
        "                           Logit Regression Results                           \n",
        "==============================================================================\n",
        "Dep. Variable:                      y   No. Observations:                  714\n",
        "Model:                          Logit   Df Residuals:                      710\n",
        "Method:                           MLE   Df Model:                            3\n",
        "Date:                Thu, 26 Feb 2015   Pseudo R-squ.:                  0.3289\n",
        "Time:                        15:33:04   Log-Likelihood:                -323.65\n",
        "converged:                       True   LL-Null:                       -482.26\n",
        "                                        LLR p-value:                 1.860e-68\n",
        "==============================================================================\n",
        "                 coef    std err          z      P>|z|      [95.0% Conf. Int.]\n",
        "------------------------------------------------------------------------------\n",
        "const          2.5339      0.456      5.554      0.000         1.640     3.428\n",
        "x1             2.5221      0.207     12.168      0.000         2.116     2.928\n",
        "x2            -1.2885      0.139     -9.253      0.000        -1.561    -1.016\n",
        "x3            -0.0369      0.008     -4.841      0.000        -0.052    -0.022\n",
        "==============================================================================\n",
        "\"\"\""
       ]
      }
     ],
     "prompt_number": 16
    },
    {
     "cell_type": "code",
     "collapsed": false,
     "input": [
      "sol = opt.minimize(f, x0=beta0, args=(x, y.ravel()))\n",
      "print sol.x\n",
      "print sol.fun"
     ],
     "language": "python",
     "metadata": {},
     "outputs": [
      {
       "output_type": "stream",
       "stream": "stdout",
       "text": [
        "[2.534 2.522 -1.289 -0.037]\n",
        "323.645467987\n"
       ]
      }
     ],
     "prompt_number": 17
    },
    {
     "cell_type": "code",
     "collapsed": false,
     "input": [
      "%%time\n",
      "\n",
      "sgd(x, y, beta0, alpha=0.00001, niter=100000)"
     ],
     "language": "python",
     "metadata": {},
     "outputs": [
      {
       "output_type": "stream",
       "stream": "stdout",
       "text": [
        "        0 480.124 16.095 [-0.000 0.001 -0.002 -0.011]\n",
        "    10000"
       ]
      },
      {
       "output_type": "stream",
       "stream": "stdout",
       "text": [
        " 329.397 2.617 [1.074 2.422 -0.884 -0.016]\n",
        "    20000"
       ]
      },
      {
       "output_type": "stream",
       "stream": "stdout",
       "text": [
        " 325.896 17.738 [1.629 2.523 -1.049 -0.023]\n",
        "    30000"
       ]
      },
      {
       "output_type": "stream",
       "stream": "stdout",
       "text": [
        " 324.446 2.138 [1.967 2.524 -1.139 -0.030]\n",
        "    40000"
       ]
      },
      {
       "output_type": "stream",
       "stream": "stdout",
       "text": [
        " 323.957 2.538 [2.177 2.522 -1.194 -0.032]\n",
        "    50000"
       ]
      },
      {
       "output_type": "stream",
       "stream": "stdout",
       "text": [
        " 323.779 31.883 [2.308 2.522 -1.229 -0.034]\n",
        "    60000"
       ]
      },
      {
       "output_type": "stream",
       "stream": "stdout",
       "text": [
        " 323.698 22.795 [2.391 2.522 -1.251 -0.035]\n",
        "    70000"
       ]
      },
      {
       "output_type": "stream",
       "stream": "stdout",
       "text": [
        " 323.671 19.146 [2.443 2.522 -1.265 -0.036]\n",
        "    80000"
       ]
      },
      {
       "output_type": "stream",
       "stream": "stdout",
       "text": [
        " 323.668 1.292 [2.476 2.522 -1.273 -0.036]\n",
        "    90000"
       ]
      },
      {
       "output_type": "stream",
       "stream": "stdout",
       "text": [
        " 323.649 12.891 [2.497 2.523 -1.279 -0.036]\n",
        "CPU times: user 19min 18s, sys: 1.7 s, total: 19min 20s"
       ]
      },
      {
       "output_type": "stream",
       "stream": "stdout",
       "text": [
        "\n",
        "Wall time: 19min 21s\n"
       ]
      }
     ],
     "prompt_number": 18
    },
    {
     "cell_type": "code",
     "collapsed": false,
     "input": [],
     "language": "python",
     "metadata": {},
     "outputs": [],
     "prompt_number": 18
    }
   ],
   "metadata": {}
  }
 ]
}