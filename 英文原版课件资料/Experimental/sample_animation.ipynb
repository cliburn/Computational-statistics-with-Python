{
 "metadata": {
  "name": "",
  "signature": "sha256:607ec01434d1b6a7684ffad5b187a7afea6357d8ea67695a81558a3676d8276f"
 },
 "nbformat": 3,
 "nbformat_minor": 0,
 "worksheets": [
  {
   "cells": [
    {
     "cell_type": "markdown",
     "metadata": {},
     "source": [
      "Notebook is from <http://twiecki.github.io/blog/2014/01/02/visualizing-mcmc/>"
     ]
    },
    {
     "cell_type": "code",
     "collapsed": false,
     "input": [
      "! pip install -U git+git://github.com/jakevdp/JSAnimation &> /dev/null"
     ],
     "language": "python",
     "metadata": {},
     "outputs": [],
     "prompt_number": 1
    },
    {
     "cell_type": "markdown",
     "metadata": {},
     "source": [
      "You will aslo need to install `ffmpeg` - on Ubunutu this can be done with\n",
      "```\n",
      "sudo add-apt-repository ppa:jon-severinsson/ffmpeg\n",
      "sudo apt-get update\n",
      "sudo apt-get install ffmpeg\n",
      "sudo apt-get install frei0r-plugins\n",
      "```"
     ]
    },
    {
     "cell_type": "code",
     "collapsed": false,
     "input": [
      "%pylab --no-import-all inline\n",
      "import pymc3 as pm\n",
      "import numpy as np\n",
      "from matplotlib import animation\n",
      "\n",
      "import matplotlib.pyplot as plt"
     ],
     "language": "python",
     "metadata": {},
     "outputs": [
      {
       "output_type": "stream",
       "stream": "stdout",
       "text": [
        "Populating the interactive namespace from numpy and matplotlib\n"
       ]
      }
     ],
     "prompt_number": 2
    },
    {
     "cell_type": "code",
     "collapsed": false,
     "input": [
      "# To support javascript plotting, execute this cell and not the one below.\n",
      "# Note that animations get very large this way.\n",
      "from JSAnimation import IPython_display"
     ],
     "language": "python",
     "metadata": {},
     "outputs": [],
     "prompt_number": 3
    },
    {
     "cell_type": "code",
     "collapsed": false,
     "input": [
      "# If you want to create a video and embed that run this cell instead.\n",
      "from tempfile import NamedTemporaryFile\n",
      "\n",
      "VIDEO_TAG = \"\"\"<video controls>\n",
      " <source src=\"data:video/x-m4v;base64,{0}\" type=\"video/mp4\">\n",
      " Your browser does not support the video tag.\n",
      "</video>\"\"\"\n",
      "\n",
      "def anim_to_html(anim):\n",
      "    if not hasattr(anim, '_encoded_video'):\n",
      "        with NamedTemporaryFile(suffix='.mp4') as f:\n",
      "            anim.save(f.name, fps=20, extra_args=['-vcodec', 'libx264', '-pix_fmt', 'yuv420p'])\n",
      "            video = open(f.name, \"rb\").read()\n",
      "        with NamedTemporaryFile(suffix='.avi') as f:\n",
      "            anim.save(f.name, fps=20, extra_args=['-vcodec', 'libx264', '-pix_fmt', 'yuv420p'])\n",
      "            video = open(f.name, \"rb\").read()\n",
      "        anim._encoded_video = video.encode(\"base64\")\n",
      "    \n",
      "    return VIDEO_TAG.format(anim._encoded_video)\n",
      "\n",
      "\n",
      "\n",
      "from IPython.display import HTML\n",
      "\n",
      "\n",
      "\n",
      "def display_animation(anim):\n",
      "    plt.close(anim._fig)\n",
      "    return HTML(anim_to_html(anim))\n",
      "\n",
      "animation.Animation._repr_html_ = anim_to_html"
     ],
     "language": "python",
     "metadata": {},
     "outputs": [],
     "prompt_number": 4
    },
    {
     "cell_type": "code",
     "collapsed": false,
     "input": [
      "# Generate some data\n",
      "np.random.seed(124)\n",
      "size = 50\n",
      "true_intercept = 1\n",
      "true_slope = 2\n",
      "\n",
      "x = np.linspace(0, 1, size)\n",
      "y = true_intercept + x*true_slope + np.random.normal(scale=.5, size=size)\n",
      "\n",
      "data = dict(x=x, y=y)"
     ],
     "language": "python",
     "metadata": {},
     "outputs": [],
     "prompt_number": 5
    },
    {
     "cell_type": "code",
     "collapsed": false,
     "input": [
      "# Quickly hacked plotting code\n",
      "samples = 600\n",
      "figsize(6, 6)\n",
      "fig = plt.figure()\n",
      "i_width = (true_intercept-.7, true_intercept+.7)\n",
      "s_width = (true_slope-.7, true_slope+.7)\n",
      "samples_width = (0, samples)\n",
      "ax1 = fig.add_subplot(221, xlim=i_width, ylim=samples_width)\n",
      "ax2 = fig.add_subplot(224, xlim=samples_width, ylim=s_width)\n",
      "ax3 = fig.add_subplot(223, xlim=i_width, ylim=s_width,\n",
      "                      xlabel='intercept',\n",
      "                      ylabel='slope')\n",
      "fig.subplots_adjust(wspace=0.0, hspace=0.0)\n",
      "line1, = ax1.plot([], [], lw=1)\n",
      "line2, = ax2.plot([], [], lw=1)\n",
      "line3, = ax3.plot([], [], 'o', lw=2, alpha=.1)\n",
      "line4, = ax3.plot([], [], lw=1, alpha=.3)\n",
      "line5, = ax3.plot([], [], 'k', lw=1)\n",
      "line6, = ax3.plot([], [], 'k', lw=1)\n",
      "ax1.set_xticklabels([])\n",
      "ax2.set_yticklabels([])\n",
      "#path = plt.scatter([], [])\n",
      "lines = [line1, line2, line3, line4, line5, line6]\n",
      "\n",
      "def init():\n",
      "    for line in lines:\n",
      "        line.set_data([], [])\n",
      "    return lines\n",
      "\n",
      "def animate(i):\n",
      "    with model:\n",
      "        if i == samples * .75:\n",
      "            for j in range(500): iter_sample.next() \n",
      "        trace = iter_sample.next()\n",
      "    line1.set_data(trace['Intercept'][::-1], range(len(trace['Intercept'])))\n",
      "    line2.set_data(range(len(trace['x'])), trace['x'][::-1])\n",
      "    line3.set_data(trace['Intercept'], trace['x'])\n",
      "    line4.set_data(trace['Intercept'], trace['x'])\n",
      "    intercept = trace['Intercept'][-1]\n",
      "    x = trace['x'][-1]\n",
      "    line5.set_data([intercept, intercept], [x, s_width[1]])\n",
      "    line6.set_data([intercept, i_width[1]], [x, x])\n",
      "    return lines"
     ],
     "language": "python",
     "metadata": {},
     "outputs": [
      {
       "metadata": {},
       "output_type": "display_data",
       "png": "[encoded data removed]",
       "text": [
        "<matplotlib.figure.Figure at 0x115d4d350>"
       ]
      }
     ],
     "prompt_number": 6
    },
    {
     "cell_type": "code",
     "collapsed": false,
     "input": [
      "with pm.Model() as model:\n",
      "    pm.glm.glm('y ~ x', data)\n",
      "    step = pm.Metropolis()\n",
      "    iter_sample = pm.iter_sample(samples+1000, step)\n",
      "\n",
      "animation.FuncAnimation(fig, animate, init_func=init,\n",
      "                        frames=samples, interval=5, blit=True)"
     ],
     "language": "python",
     "metadata": {},
     "outputs": [
      {
       "output_type": "stream",
       "stream": "stderr",
       "text": [
        "/Users/cliburn/anaconda/lib/python2.7/site-packages/IPython/core/formatters.py:239: FormatterWarning: Exception in text/html formatter: \n",
        "  FormatterWarning,\n"
       ]
      },
      {
       "metadata": {},
       "output_type": "pyout",
       "prompt_number": 7,
       "text": [
        "<matplotlib.animation.FuncAnimation at 0x115d28f10>"
       ]
      }
     ],
     "prompt_number": 7
    },
    {
     "cell_type": "code",
     "collapsed": false,
     "input": [
      "with pm.Model() as model:\n",
      "    pm.glm.glm('y ~ x', data)\n",
      "    step = pm.Slice()\n",
      "    iter_sample = pm.iter_sample(samples+1000, step)\n",
      "\n",
      "animation.FuncAnimation(fig, animate, init_func=init,\n",
      "                        frames=samples, interval=5, blit=True)"
     ],
     "language": "python",
     "metadata": {},
     "outputs": [
      {
       "metadata": {},
       "output_type": "pyout",
       "prompt_number": 8,
       "text": [
        "<matplotlib.animation.FuncAnimation at 0x115f4a290>"
       ]
      }
     ]
    },
    {
     "cell_type": "code",
     "collapsed": false,
     "input": [
      "with pm.Model() as model:\n",
      "    pm.glm.glm('y ~ x', data)\n",
      "    step = pm.NUTS()\n",
      "    iter_sample = pm.iter_sample(samples+1000, step)\n",
      "\n",
      "animation.FuncAnimation(fig, animate, init_func=init,\n",
      "                        frames=samples, interval=5, blit=True)"
     ],
     "language": "python",
     "metadata": {},
     "outputs": [
      {
       "output_type": "stream",
       "stream": "stderr",
       "text": [
        "INFO (theano.gof.compilelock): Waiting for existing lock by process '76952' (I am process '21252')\n"
       ]
      },
      {
       "output_type": "stream",
       "stream": "stderr",
       "text": [
        "INFO:theano.gof.compilelock:Waiting for existing lock by process '76952' (I am process '21252')\n"
       ]
      },
      {
       "output_type": "stream",
       "stream": "stderr",
       "text": [
        "INFO (theano.gof.compilelock): To manually release the lock, delete /Users/cliburn/.theano/compiledir_Darwin-13.4.0-x86_64-i386-64bit-i386-2.7.9-64/lock_dir\n"
       ]
      },
      {
       "output_type": "stream",
       "stream": "stderr",
       "text": [
        "INFO:theano.gof.compilelock:To manually release the lock, delete /Users/cliburn/.theano/compiledir_Darwin-13.4.0-x86_64-i386-64bit-i386-2.7.9-64/lock_dir\n"
       ]
      }
     ]
    }
   ],
   "metadata": {}
  }
 ]
}