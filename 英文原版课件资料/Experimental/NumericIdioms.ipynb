{
 "metadata": {
  "name": "",
  "signature": "sha256:11a5c055d2b736a0d5b6ed1afce48ae9ad0b8fabbc316f8a4540a21caefc1f50"
 },
 "nbformat": 3,
 "nbformat_minor": 0,
 "worksheets": [
  {
   "cells": [
    {
     "cell_type": "code",
     "collapsed": false,
     "input": [
      "import os\n",
      "import sys\n",
      "import glob\n",
      "import matplotlib.pyplot as plt\n",
      "import numpy as np\n",
      "import pandas as pd\n",
      "%matplotlib inline\n",
      "%precision 4"
     ],
     "language": "python",
     "metadata": {},
     "outputs": [
      {
       "metadata": {},
       "output_type": "pyout",
       "prompt_number": 1,
       "text": [
        "u'%.4f'"
       ]
      }
     ],
     "prompt_number": 1
    },
    {
     "cell_type": "markdown",
     "metadata": {},
     "source": [
      "Vector reductions\n",
      "----"
     ]
    },
    {
     "cell_type": "code",
     "collapsed": false,
     "input": [
      "niter = 100\n",
      "s = 0\n",
      "for i in np.arange(niter):\n",
      "    s += i\n",
      "s"
     ],
     "language": "python",
     "metadata": {},
     "outputs": [
      {
       "metadata": {},
       "output_type": "pyout",
       "prompt_number": 2,
       "text": [
        "4950"
       ]
      }
     ],
     "prompt_number": 2
    },
    {
     "cell_type": "code",
     "collapsed": false,
     "input": [
      "s = np.sum(np.arange(niter))\n",
      "s"
     ],
     "language": "python",
     "metadata": {},
     "outputs": [
      {
       "metadata": {},
       "output_type": "pyout",
       "prompt_number": 3,
       "text": [
        "4950"
       ]
      }
     ],
     "prompt_number": 3
    },
    {
     "cell_type": "markdown",
     "metadata": {},
     "source": [
      "Matrix reductions\n",
      "----"
     ]
    },
    {
     "cell_type": "code",
     "collapsed": false,
     "input": [
      "n = 10\n",
      "p = 5\n",
      "m = np.ones((n, p))\n",
      "m.sum()"
     ],
     "language": "python",
     "metadata": {},
     "outputs": [
      {
       "metadata": {},
       "output_type": "pyout",
       "prompt_number": 4,
       "text": [
        "50.0000"
       ]
      }
     ],
     "prompt_number": 4
    },
    {
     "cell_type": "markdown",
     "metadata": {},
     "source": [
      "Operations by column\n",
      "---"
     ]
    },
    {
     "cell_type": "code",
     "collapsed": false,
     "input": [
      "n = 10\n",
      "p = 5\n",
      "m = np.ones((n, p))\n",
      "m.sum(axis=0)"
     ],
     "language": "python",
     "metadata": {},
     "outputs": [
      {
       "metadata": {},
       "output_type": "pyout",
       "prompt_number": 5,
       "text": [
        "array([ 10.,  10.,  10.,  10.,  10.])"
       ]
      }
     ],
     "prompt_number": 5
    },
    {
     "cell_type": "markdown",
     "metadata": {},
     "source": [
      "Operations by row\n",
      "----"
     ]
    },
    {
     "cell_type": "code",
     "collapsed": false,
     "input": [
      "n = 10\n",
      "p = 5\n",
      "m = np.ones((n, p))\n",
      "m.sum(axis=1)"
     ],
     "language": "python",
     "metadata": {},
     "outputs": [
      {
       "metadata": {},
       "output_type": "pyout",
       "prompt_number": 6,
       "text": [
        "array([ 5.,  5.,  5.,  5.,  5.,  5.,  5.,  5.,  5.,  5.])"
       ]
      }
     ],
     "prompt_number": 6
    },
    {
     "cell_type": "markdown",
     "metadata": {},
     "source": [
      "Creating a matrix from two vectors\n",
      "----"
     ]
    },
    {
     "cell_type": "code",
     "collapsed": false,
     "input": [
      "m = 5\n",
      "x = np.ones(p) \n",
      "# need to coerce x to column vector\n",
      "np.dot(x[:, None], x[:, None].T)"
     ],
     "language": "python",
     "metadata": {},
     "outputs": [
      {
       "metadata": {},
       "output_type": "pyout",
       "prompt_number": 7,
       "text": [
        "array([[ 1.,  1.,  1.,  1.,  1.],\n",
        "       [ 1.,  1.,  1.,  1.,  1.],\n",
        "       [ 1.,  1.,  1.,  1.,  1.],\n",
        "       [ 1.,  1.,  1.,  1.,  1.],\n",
        "       [ 1.,  1.,  1.,  1.,  1.]])"
       ]
      }
     ],
     "prompt_number": 7
    },
    {
     "cell_type": "code",
     "collapsed": false,
     "input": [
      "# Eg. covariance matrix\n",
      "n, p = 100, 2\n",
      "xs = np.random.random((n, p))\n",
      "ys = xs - xs.mean(0)\n",
      "np.dot(ys.T, ys)/(n-1)"
     ],
     "language": "python",
     "metadata": {},
     "outputs": [
      {
       "metadata": {},
       "output_type": "pyout",
       "prompt_number": 8,
       "text": [
        "array([[ 0.0851,  0.0003],\n",
        "       [ 0.0003,  0.079 ]])"
       ]
      }
     ],
     "prompt_number": 8
    },
    {
     "cell_type": "markdown",
     "metadata": {},
     "source": [
      "\n",
      "----"
     ]
    },
    {
     "cell_type": "markdown",
     "metadata": {},
     "source": [
      "Eintein Summation Notation\n",
      "----"
     ]
    },
    {
     "cell_type": "code",
     "collapsed": false,
     "input": [
      "a = np.arange(25).reshape(5,5)\n",
      "b = np.arange(5)\n",
      "c = np.arange(6).reshape(2,3)"
     ],
     "language": "python",
     "metadata": {},
     "outputs": [],
     "prompt_number": 9
    },
    {
     "cell_type": "code",
     "collapsed": false,
     "input": [
      "# find the trace\n",
      "np.einsum('ii', a)"
     ],
     "language": "python",
     "metadata": {},
     "outputs": [
      {
       "metadata": {},
       "output_type": "pyout",
       "prompt_number": 10,
       "text": [
        "60"
       ]
      }
     ],
     "prompt_number": 10
    },
    {
     "cell_type": "code",
     "collapsed": false,
     "input": [
      "# transpose a matrix\n",
      "np.einsum('ji', a)"
     ],
     "language": "python",
     "metadata": {},
     "outputs": [
      {
       "metadata": {},
       "output_type": "pyout",
       "prompt_number": 11,
       "text": [
        "array([[ 0,  5, 10, 15, 20],\n",
        "       [ 1,  6, 11, 16, 21],\n",
        "       [ 2,  7, 12, 17, 22],\n",
        "       [ 3,  8, 13, 18, 23],\n",
        "       [ 4,  9, 14, 19, 24]])"
       ]
      }
     ],
     "prompt_number": 11
    },
    {
     "cell_type": "code",
     "collapsed": false,
     "input": [
      "# get the diagnoal\n",
      "np.einsum('ii->i', a)"
     ],
     "language": "python",
     "metadata": {},
     "outputs": [
      {
       "metadata": {},
       "output_type": "pyout",
       "prompt_number": 12,
       "text": [
        "array([ 0,  6, 12, 18, 24])"
       ]
      }
     ],
     "prompt_number": 12
    },
    {
     "cell_type": "code",
     "collapsed": false,
     "input": [
      "# same as inner prdouct\n",
      "np.einsum('ij,j->i', a, b)"
     ],
     "language": "python",
     "metadata": {},
     "outputs": [
      {
       "metadata": {},
       "output_type": "pyout",
       "prompt_number": 27,
       "text": [
        "array([ 30,  80, 130, 180, 230])"
       ]
      }
     ],
     "prompt_number": 27
    },
    {
     "cell_type": "code",
     "collapsed": false,
     "input": [
      "b"
     ],
     "language": "python",
     "metadata": {},
     "outputs": [
      {
       "metadata": {},
       "output_type": "pyout",
       "prompt_number": 14,
       "text": [
        "array([0, 1, 2, 3, 4])"
       ]
      }
     ],
     "prompt_number": 14
    },
    {
     "cell_type": "code",
     "collapsed": false,
     "input": [
      "np.einsum('ij,j', a, b)"
     ],
     "language": "python",
     "metadata": {},
     "outputs": [
      {
       "metadata": {},
       "output_type": "pyout",
       "prompt_number": 42,
       "text": [
        "array([ 30,  80, 130, 180, 230])"
       ]
      }
     ],
     "prompt_number": 42
    },
    {
     "cell_type": "code",
     "collapsed": false,
     "input": [
      "np.einsum('i,i', b, b)"
     ],
     "language": "python",
     "metadata": {},
     "outputs": [
      {
       "metadata": {},
       "output_type": "pyout",
       "prompt_number": 38,
       "text": [
        "30"
       ]
      }
     ],
     "prompt_number": 38
    },
    {
     "cell_type": "code",
     "collapsed": false,
     "input": [
      "w = np.random.uniform(size=(3,4,5))\n",
      "v = np.random.uniform(size=w.shape[::2])"
     ],
     "language": "python",
     "metadata": {},
     "outputs": [],
     "prompt_number": 16
    },
    {
     "cell_type": "code",
     "collapsed": false,
     "input": [
      "w.shape"
     ],
     "language": "python",
     "metadata": {},
     "outputs": [
      {
       "metadata": {},
       "output_type": "pyout",
       "prompt_number": 17,
       "text": [
        "(3, 4, 5)"
       ]
      }
     ],
     "prompt_number": 17
    },
    {
     "cell_type": "code",
     "collapsed": false,
     "input": [
      "v.shape"
     ],
     "language": "python",
     "metadata": {},
     "outputs": [
      {
       "metadata": {},
       "output_type": "pyout",
       "prompt_number": 18,
       "text": [
        "(3, 5)"
       ]
      }
     ],
     "prompt_number": 18
    },
    {
     "cell_type": "code",
     "collapsed": false,
     "input": [
      "np.einsum('abc,ac -> ab', w, v)"
     ],
     "language": "python",
     "metadata": {},
     "outputs": [
      {
       "metadata": {},
       "output_type": "pyout",
       "prompt_number": 19,
       "text": [
        "array([[ 0.6455,  0.8984,  0.7318,  0.7936],\n",
        "       [ 1.4291,  0.866 ,  1.705 ,  1.3855],\n",
        "       [ 1.6311,  1.4014,  1.861 ,  1.9587]])"
       ]
      }
     ],
     "prompt_number": 19
    },
    {
     "cell_type": "code",
     "collapsed": false,
     "input": [
      "print w[0].shape\n",
      "print v[0].shape\n",
      "z = []\n",
      "for i in range(len(w)):\n",
      "    z.append(np.dot(w[i], v[i]))\n",
      "np.array(z)"
     ],
     "language": "python",
     "metadata": {},
     "outputs": [
      {
       "output_type": "stream",
       "stream": "stdout",
       "text": [
        "(4, 5)\n",
        "(5,)\n"
       ]
      },
      {
       "metadata": {},
       "output_type": "pyout",
       "prompt_number": 23,
       "text": [
        "array([[ 0.6455,  0.8984,  0.7318,  0.7936],\n",
        "       [ 1.4291,  0.866 ,  1.705 ,  1.3855],\n",
        "       [ 1.6311,  1.4014,  1.861 ,  1.9587]])"
       ]
      }
     ],
     "prompt_number": 23
    },
    {
     "cell_type": "code",
     "collapsed": false,
     "input": [
      "u = [1,2,3]\n",
      "v = [np.eye(2), np.eye(2), np.eye(2)]\n",
      "np.einsum('a,abc -> abc', u, v)"
     ],
     "language": "python",
     "metadata": {},
     "outputs": [
      {
       "metadata": {},
       "output_type": "pyout",
       "prompt_number": 28,
       "text": [
        "array([[[ 1.,  0.],\n",
        "        [ 0.,  1.]],\n",
        "\n",
        "       [[ 2.,  0.],\n",
        "        [ 0.,  2.]],\n",
        "\n",
        "       [[ 3.,  0.],\n",
        "        [ 0.,  3.]]])"
       ]
      }
     ],
     "prompt_number": 28
    },
    {
     "cell_type": "code",
     "collapsed": false,
     "input": [
      "np.einsum('a,abc -> bc', u, v)"
     ],
     "language": "python",
     "metadata": {},
     "outputs": [
      {
       "metadata": {},
       "output_type": "pyout",
       "prompt_number": 29,
       "text": [
        "array([[ 6.,  0.],\n",
        "       [ 0.,  6.]])"
       ]
      }
     ],
     "prompt_number": 29
    },
    {
     "cell_type": "code",
     "collapsed": false,
     "input": [
      "from scipy.stats import multivariate_normal as mvn\n",
      "\n",
      "pis = np.array([0.4, 0.2, 0.4])\n",
      "mus = np.random.random((3,2))\n",
      "sigmas = np.array([np.eye(2)] * 3)\n",
      "\n",
      "xs = np.random.random((10,2))\n",
      "\n",
      "k = len(pis)\n",
      "n, p = xs.shape\n",
      "\n",
      "ws = np.zeros((k, n))\n",
      "for j in range(k):\n",
      "    for i in range(n):\n",
      "        ws[j, i] = pis[j] * mvn(mus[j], sigmas[j]).pdf(xs[i])\n",
      "ws /= ws.sum(0)"
     ],
     "language": "python",
     "metadata": {},
     "outputs": [],
     "prompt_number": 53
    },
    {
     "cell_type": "code",
     "collapsed": false,
     "input": [
      "# M-step\n",
      "pis = ws.sum(axis=1)\n",
      "pis /= n\n",
      "pis"
     ],
     "language": "python",
     "metadata": {},
     "outputs": [
      {
       "metadata": {},
       "output_type": "pyout",
       "prompt_number": 56,
       "text": [
        "array([ 0.4106,  0.182 ,  0.4074])"
       ]
      }
     ],
     "prompt_number": 56
    },
    {
     "cell_type": "code",
     "collapsed": false,
     "input": [
      "np.einsum('ij->i', ws)/n"
     ],
     "language": "python",
     "metadata": {},
     "outputs": [
      {
       "metadata": {},
       "output_type": "pyout",
       "prompt_number": 57,
       "text": [
        "array([ 0.4106,  0.182 ,  0.4074])"
       ]
      }
     ],
     "prompt_number": 57
    },
    {
     "cell_type": "code",
     "collapsed": false,
     "input": [
      "mus = np.dot(ws, xs)\n",
      "mus /= ws.sum(1)[:, None]\n",
      "mus"
     ],
     "language": "python",
     "metadata": {},
     "outputs": [
      {
       "metadata": {},
       "output_type": "pyout",
       "prompt_number": 58,
       "text": [
        "array([[ 0.4929,  0.3906],\n",
        "       [ 0.5083,  0.4217],\n",
        "       [ 0.5009,  0.3982]])"
       ]
      }
     ],
     "prompt_number": 58
    },
    {
     "cell_type": "code",
     "collapsed": false,
     "input": [
      "np.einsum('ab,bc -> ac', ws, xs)/ws.sum(1)[:, None]"
     ],
     "language": "python",
     "metadata": {},
     "outputs": [
      {
       "metadata": {},
       "output_type": "pyout",
       "prompt_number": 60,
       "text": [
        "array([[ 0.4929,  0.3906],\n",
        "       [ 0.5083,  0.4217],\n",
        "       [ 0.5009,  0.3982]])"
       ]
      }
     ],
     "prompt_number": 60
    },
    {
     "cell_type": "code",
     "collapsed": false,
     "input": [
      "from numpy.core.umath_tests import matrix_multiply as mm\n",
      "sigmas = np.zeros((k, p, p))\n",
      "for j in range(k):\n",
      "    ys = xs - mus[j, :]\n",
      "    sigmas[j] = (ws[j,:,None,None] * mm(ys[:,:,None], ys[:,None,:])).sum(axis=0)\n",
      "sigmas /= ws.sum(axis=1)[:,None,None]\n",
      "sigmas"
     ],
     "language": "python",
     "metadata": {},
     "outputs": [
      {
       "metadata": {},
       "output_type": "pyout",
       "prompt_number": 65,
       "text": [
        "array([[[ 0.0413,  0.0363],\n",
        "        [ 0.0363,  0.0595]],\n",
        "\n",
        "       [[ 0.0421,  0.0377],\n",
        "        [ 0.0377,  0.0629]],\n",
        "\n",
        "       [[ 0.041 ,  0.0365],\n",
        "        [ 0.0365,  0.0602]]])"
       ]
      }
     ],
     "prompt_number": 65
    },
    {
     "cell_type": "code",
     "collapsed": false,
     "input": [
      "sigmas = np.zeros((k, p, p))\n",
      "\n",
      "print ws.shape\n",
      "print ys.shape\n",
      "print ys.shape\n",
      "\n",
      "print \">>>\", np.einsum('ab,bc,bd -> acd', ws, ys, ys)/ws.sum(axis=1)[:,None,None]\n",
      "\n",
      "for j in range(k):\n",
      "    ys = xs - mus[j, :]\n",
      "    sigmas[j] = (ws[j,:,None,None] * mm(ys[:,:,None], ys[:,None,:])).sum(axis=0)\n",
      "\n",
      "print '-'*40\n",
      "\n",
      "sigmas /= ws.sum(axis=1)[:,None,None]\n",
      "print sigmas"
     ],
     "language": "python",
     "metadata": {},
     "outputs": [
      {
       "output_type": "stream",
       "stream": "stdout",
       "text": [
        "(3, 10)\n",
        "(10, 2)\n",
        "(10, 2)\n",
        ">>> [[[ 0.0414  0.0363]\n",
        "  [ 0.0363  0.0596]]\n",
        "\n",
        " [[ 0.0422  0.0379]\n",
        "  [ 0.0379  0.0635]]\n",
        "\n",
        " [[ 0.041   0.0365]\n",
        "  [ 0.0365  0.0602]]]\n",
        "----------------------------------------\n",
        "[[[ 0.0413  0.0363]\n",
        "  [ 0.0363  0.0595]]\n",
        "\n",
        " [[ 0.0421  0.0377]\n",
        "  [ 0.0377  0.0629]]\n",
        "\n",
        " [[ 0.041   0.0365]\n",
        "  [ 0.0365  0.0602]]]\n"
       ]
      }
     ],
     "prompt_number": 96
    },
    {
     "cell_type": "code",
     "collapsed": false,
     "input": [
      "print xs.shape\n",
      "print mus.shape"
     ],
     "language": "python",
     "metadata": {},
     "outputs": [
      {
       "output_type": "stream",
       "stream": "stdout",
       "text": [
        "(10, 2)\n",
        "(3, 2)\n"
       ]
      }
     ],
     "prompt_number": 98
    },
    {
     "cell_type": "code",
     "collapsed": false,
     "input": [
      "xs - mus[:,None,:]\n",
      "xs"
     ],
     "language": "python",
     "metadata": {},
     "outputs": [
      {
       "metadata": {},
       "output_type": "pyout",
       "prompt_number": 109,
       "text": [
        "array([[[ 0.4929,  0.3906]],\n",
        "\n",
        "       [[ 0.5083,  0.4217]],\n",
        "\n",
        "       [[ 0.5009,  0.3982]]])"
       ]
      }
     ],
     "prompt_number": 109
    },
    {
     "cell_type": "code",
     "collapsed": false,
     "input": [],
     "language": "python",
     "metadata": {},
     "outputs": []
    }
   ],
   "metadata": {}
  }
 ]
}