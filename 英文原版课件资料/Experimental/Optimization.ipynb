{
 "metadata": {
  "name": "",
  "signature": "sha256:0a8370312fc1eef2a4955788d031effaf4f781a2397344bfaeef0a47e2ded253"
 },
 "nbformat": 3,
 "nbformat_minor": 0,
 "worksheets": [
  {
   "cells": [
    {
     "cell_type": "markdown",
     "metadata": {},
     "source": [
      "Outline\n",
      "----\n",
      "\n",
      "- Univariate background\n",
      "    - First and second derivative rule\n",
      "    - Mean value theorem\n",
      "- Multivariate background\n",
      "    - $\\nabla f(x) = 0$ at interior local minimum\n",
      "    - Mean value therem (linear and quadratic)\n",
      "    - If $f: \\mathbb{R}^p \\mapsto \\mathbb{R}$\n",
      "        - The gradientt $\\nabla f(x)$ is a column vector of partial derivatives evaluated at $x$\n",
      "        - The Hessian $H(x)$ or $\\nabla^2 f(x)$ is a matrix of second partial derivatives evaluated at $x$\n",
      "    - $x$ is a local minumum if $\\nabla f(x) = 0$ and $\\nabla^2 f(x)$ is positive definite\n",
      "- Univariate methods\n",
      "    - Ternary search\n",
      "    - Golden seciton search\n",
      "    - Bisection search\n",
      "    - Brent's method\n",
      "- Root finding\n",
      "    - Newton's method\n",
      "    - Basins of attraction (fractals for complex roots)\n",
      " "
     ]
    },
    {
     "cell_type": "code",
     "collapsed": false,
     "input": [],
     "language": "python",
     "metadata": {},
     "outputs": []
    }
   ],
   "metadata": {}
  }
 ]
}