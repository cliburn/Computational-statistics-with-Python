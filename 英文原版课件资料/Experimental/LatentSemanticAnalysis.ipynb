{
 "metadata": {
  "name": "",
  "signature": "sha256:1d491f9b4441980a374d934a1f0534912d36aa1f515ad8d995f7c7fd402674a2"
 },
 "nbformat": 3,
 "nbformat_minor": 0,
 "worksheets": [
  {
   "cells": [
    {
     "cell_type": "code",
     "collapsed": false,
     "input": [
      "import os\n",
      "import sys\n",
      "import glob\n",
      "import matplotlib.pyplot as plt\n",
      "import numpy as np\n",
      "import pandas as pd\n",
      "%matplotlib inline\n",
      "%precision 4\n",
      "plt.style.use('ggplot')\n",
      "import scipy.linalg as la"
     ],
     "language": "python",
     "metadata": {},
     "outputs": [],
     "prompt_number": 2
    },
    {
     "cell_type": "markdown",
     "metadata": {},
     "source": [
      "Exercise\n",
      "----\n",
      "\n",
      "1. Using broadcasting to create a distance matrix\n",
      "2. Calculating TF, IDF and TF-IDF\n",
      "3. Using SVD for k-dimensinal reconstruction of original matrix\n",
      "4. Using cosine distance to calculate similarity between documnets\n",
      "5. Using LSA for\n",
      "    1. documetn clustering\n",
      "    2. information retrieval (LSI)\n",
      "6. Probabilitisic LSA \n",
      "7. Practical example - use 5 books by Jane Austen and 5 by Charles Dickens\n",
      "    1. Check if they fall into 2 clusters\n",
      "    2. Given a chapter from a new Jane Austen book, return hits ordered by similarity"
     ]
    },
    {
     "cell_type": "code",
     "collapsed": false,
     "input": [
      "np.set_printoptions(formatter={'float': '{: 0.2f}'.format})"
     ],
     "language": "python",
     "metadata": {},
     "outputs": [],
     "prompt_number": 530
    },
    {
     "cell_type": "code",
     "collapsed": false,
     "input": [
      "# Uitlity function for rpeated dot multiplication\n",
      "\n",
      "def dotM(*args):\n",
      "    return reduce(np.dot, args)"
     ],
     "language": "python",
     "metadata": {},
     "outputs": [],
     "prompt_number": 470
    },
    {
     "cell_type": "code",
     "collapsed": false,
     "input": [
      "m = np.zeros((12, 9), dtype='int')\n",
      "m[0,0] = 1\n",
      "m[0,3] = 1\n",
      "m[1,0] = 1\n",
      "m[1,2] = 1\n",
      "m[2,0] = 1\n",
      "m[2,1] = 1\n",
      "m[3,1] = 1\n",
      "m[3,2] = 1\n",
      "m[3,4] = 1\n",
      "m[4,1] = 1\n",
      "m[4,2] = 1\n",
      "m[4,3] = 2\n",
      "m[5,1] = 1\n",
      "m[5,4] = 1\n",
      "m[6,1] = 1\n",
      "m[6,4] = 1\n",
      "m[7,2] = 1\n",
      "m[7,3] = 1\n",
      "m[8,1] = 1\n",
      "m[8,8] = 1\n",
      "m[9,5:8] = 1\n",
      "m[10,6:9] = 1\n",
      "m[11,7:9] = 1"
     ],
     "language": "python",
     "metadata": {},
     "outputs": [],
     "prompt_number": 413
    },
    {
     "cell_type": "code",
     "collapsed": false,
     "input": [
      "m"
     ],
     "language": "python",
     "metadata": {},
     "outputs": [
      {
       "metadata": {},
       "output_type": "pyout",
       "prompt_number": 5,
       "text": [
        "array([[1, 0, 0, 1, 0, 0, 0, 0, 0],\n",
        "       [1, 0, 1, 0, 0, 0, 0, 0, 0],\n",
        "       [1, 1, 0, 0, 0, 0, 0, 0, 0],\n",
        "       [0, 1, 1, 0, 1, 0, 0, 0, 0],\n",
        "       [0, 1, 1, 2, 0, 0, 0, 0, 0],\n",
        "       [0, 1, 0, 0, 1, 0, 0, 0, 0],\n",
        "       [0, 1, 0, 0, 1, 0, 0, 0, 0],\n",
        "       [0, 0, 1, 1, 0, 0, 0, 0, 0],\n",
        "       [0, 1, 0, 0, 0, 0, 0, 0, 1],\n",
        "       [0, 0, 0, 0, 0, 1, 1, 1, 0],\n",
        "       [0, 0, 0, 0, 0, 0, 1, 1, 1],\n",
        "       [0, 0, 0, 0, 0, 0, 0, 1, 1]])"
       ]
      }
     ],
     "prompt_number": 5
    },
    {
     "cell_type": "markdown",
     "metadata": {},
     "source": [
      "### Term frequency and inverse document frequency"
     ]
    },
    {
     "cell_type": "code",
     "collapsed": false,
     "input": [
      "def tf(doc):\n",
      "    \"\"\"Returns the number of times each term occurs in a dcoument.\n",
      "    We preprocess the document to strip punctuation and convert to lowercase.\n",
      "    Terms are found by splitting on whitespace.\"\"\"\n",
      "    from collections import Counter\n",
      "    from string import punctuation\n",
      "\n",
      "    terms = doc.strip().translate(None, punctuation).split()\n",
      "    return Counter(terms)"
     ],
     "language": "python",
     "metadata": {},
     "outputs": [],
     "prompt_number": 274
    },
    {
     "cell_type": "code",
     "collapsed": false,
     "input": [
      "def tfs(docs):\n",
      "    \"\"\"Create a term freqeuncy dataframe from a dictionary of documents.\"\"\"\n",
      "    from operator import add\n",
      "\n",
      "    df = pd.DataFrame({k: tf(v) for k, v in docs.iteritems()}).fillna(0)\n",
      "    return df"
     ],
     "language": "python",
     "metadata": {},
     "outputs": [],
     "prompt_number": 357
    },
    {
     "cell_type": "code",
     "collapsed": false,
     "input": [
      "def idf(docs):\n",
      "    \"\"\"Find inverse document frequecny series from a dictionry of doucmnets.\"\"\"\n",
      "    term_freq = tfs(docs)\n",
      "    num_docs = len(docs)\n",
      "    doc_freq = (term_freq > 0).sum(axis=1)\n",
      "    return np.log(num_docs/doc_freq)"
     ],
     "language": "python",
     "metadata": {},
     "outputs": [],
     "prompt_number": 453
    },
    {
     "cell_type": "code",
     "collapsed": false,
     "input": [
      "def tf_idf(docs):\n",
      "    \"\"\"Return the product of the term-frequency and inverse document freqeucny.\"\"\"\n",
      "    return tfs(docs).mul(idf(docs), axis=0)"
     ],
     "language": "python",
     "metadata": {},
     "outputs": [],
     "prompt_number": 454
    },
    {
     "cell_type": "code",
     "collapsed": false,
     "input": [
      "s1 = \"the quick brown fox\"\n",
      "s2 = \"brown fox jumps over the jumps jumps jumps\"\n",
      "s3 = \"the the the lazy dog elephant.\"\n",
      "s4 = \"the the the the the dog peacock lion tiger elephant\"\n",
      "\n",
      "docs = {'s1': s1, 's2': s2, 's3': s3, 's4': s4}"
     ],
     "language": "python",
     "metadata": {},
     "outputs": [],
     "prompt_number": 498
    },
    {
     "cell_type": "code",
     "collapsed": false,
     "input": [
      "tfs(docs)"
     ],
     "language": "python",
     "metadata": {},
     "outputs": [
      {
       "html": [
        "<div style=\"max-height:1000px;max-width:1500px;overflow:auto;\">\n",
        "<table border=\"1\" class=\"dataframe\">\n",
        "  <thead>\n",
        "    <tr style=\"text-align: right;\">\n",
        "      <th></th>\n",
        "      <th>s1</th>\n",
        "      <th>s2</th>\n",
        "      <th>s3</th>\n",
        "      <th>s4</th>\n",
        "    </tr>\n",
        "  </thead>\n",
        "  <tbody>\n",
        "    <tr>\n",
        "      <th>brown</th>\n",
        "      <td> 1</td>\n",
        "      <td> 1</td>\n",
        "      <td> 0</td>\n",
        "      <td> 0</td>\n",
        "    </tr>\n",
        "    <tr>\n",
        "      <th>dog</th>\n",
        "      <td> 0</td>\n",
        "      <td> 0</td>\n",
        "      <td> 1</td>\n",
        "      <td> 1</td>\n",
        "    </tr>\n",
        "    <tr>\n",
        "      <th>elephant</th>\n",
        "      <td> 0</td>\n",
        "      <td> 0</td>\n",
        "      <td> 1</td>\n",
        "      <td> 1</td>\n",
        "    </tr>\n",
        "    <tr>\n",
        "      <th>fox</th>\n",
        "      <td> 1</td>\n",
        "      <td> 1</td>\n",
        "      <td> 0</td>\n",
        "      <td> 0</td>\n",
        "    </tr>\n",
        "    <tr>\n",
        "      <th>jumps</th>\n",
        "      <td> 0</td>\n",
        "      <td> 4</td>\n",
        "      <td> 0</td>\n",
        "      <td> 0</td>\n",
        "    </tr>\n",
        "    <tr>\n",
        "      <th>lazy</th>\n",
        "      <td> 0</td>\n",
        "      <td> 0</td>\n",
        "      <td> 1</td>\n",
        "      <td> 0</td>\n",
        "    </tr>\n",
        "    <tr>\n",
        "      <th>lion</th>\n",
        "      <td> 0</td>\n",
        "      <td> 0</td>\n",
        "      <td> 0</td>\n",
        "      <td> 1</td>\n",
        "    </tr>\n",
        "    <tr>\n",
        "      <th>over</th>\n",
        "      <td> 0</td>\n",
        "      <td> 1</td>\n",
        "      <td> 0</td>\n",
        "      <td> 0</td>\n",
        "    </tr>\n",
        "    <tr>\n",
        "      <th>peacock</th>\n",
        "      <td> 0</td>\n",
        "      <td> 0</td>\n",
        "      <td> 0</td>\n",
        "      <td> 1</td>\n",
        "    </tr>\n",
        "    <tr>\n",
        "      <th>quick</th>\n",
        "      <td> 1</td>\n",
        "      <td> 0</td>\n",
        "      <td> 0</td>\n",
        "      <td> 0</td>\n",
        "    </tr>\n",
        "    <tr>\n",
        "      <th>the</th>\n",
        "      <td> 1</td>\n",
        "      <td> 1</td>\n",
        "      <td> 3</td>\n",
        "      <td> 5</td>\n",
        "    </tr>\n",
        "    <tr>\n",
        "      <th>tiger</th>\n",
        "      <td> 0</td>\n",
        "      <td> 0</td>\n",
        "      <td> 0</td>\n",
        "      <td> 1</td>\n",
        "    </tr>\n",
        "  </tbody>\n",
        "</table>\n",
        "</div>"
       ],
       "metadata": {},
       "output_type": "pyout",
       "prompt_number": 499,
       "text": [
        "          s1  s2  s3  s4\n",
        "brown      1   1   0   0\n",
        "dog        0   0   1   1\n",
        "elephant   0   0   1   1\n",
        "fox        1   1   0   0\n",
        "jumps      0   4   0   0\n",
        "lazy       0   0   1   0\n",
        "lion       0   0   0   1\n",
        "over       0   1   0   0\n",
        "peacock    0   0   0   1\n",
        "quick      1   0   0   0\n",
        "the        1   1   3   5\n",
        "tiger      0   0   0   1"
       ]
      }
     ],
     "prompt_number": 499
    },
    {
     "cell_type": "code",
     "collapsed": false,
     "input": [
      "idf(docs)"
     ],
     "language": "python",
     "metadata": {},
     "outputs": [
      {
       "metadata": {},
       "output_type": "pyout",
       "prompt_number": 500,
       "text": [
        "brown       0.693147\n",
        "dog         0.693147\n",
        "elephant    0.693147\n",
        "fox         0.693147\n",
        "jumps       1.386294\n",
        "lazy        1.386294\n",
        "lion        1.386294\n",
        "over        1.386294\n",
        "peacock     1.386294\n",
        "quick       1.386294\n",
        "the         0.000000\n",
        "tiger       1.386294\n",
        "dtype: float64"
       ]
      }
     ],
     "prompt_number": 500
    },
    {
     "cell_type": "code",
     "collapsed": false,
     "input": [
      "tf_idf(docs)"
     ],
     "language": "python",
     "metadata": {},
     "outputs": [
      {
       "html": [
        "<div style=\"max-height:1000px;max-width:1500px;overflow:auto;\">\n",
        "<table border=\"1\" class=\"dataframe\">\n",
        "  <thead>\n",
        "    <tr style=\"text-align: right;\">\n",
        "      <th></th>\n",
        "      <th>s1</th>\n",
        "      <th>s2</th>\n",
        "      <th>s3</th>\n",
        "      <th>s4</th>\n",
        "    </tr>\n",
        "  </thead>\n",
        "  <tbody>\n",
        "    <tr>\n",
        "      <th>brown</th>\n",
        "      <td> 0.693147</td>\n",
        "      <td> 0.693147</td>\n",
        "      <td> 0.000000</td>\n",
        "      <td> 0.000000</td>\n",
        "    </tr>\n",
        "    <tr>\n",
        "      <th>dog</th>\n",
        "      <td> 0.000000</td>\n",
        "      <td> 0.000000</td>\n",
        "      <td> 0.693147</td>\n",
        "      <td> 0.693147</td>\n",
        "    </tr>\n",
        "    <tr>\n",
        "      <th>elephant</th>\n",
        "      <td> 0.000000</td>\n",
        "      <td> 0.000000</td>\n",
        "      <td> 0.693147</td>\n",
        "      <td> 0.693147</td>\n",
        "    </tr>\n",
        "    <tr>\n",
        "      <th>fox</th>\n",
        "      <td> 0.693147</td>\n",
        "      <td> 0.693147</td>\n",
        "      <td> 0.000000</td>\n",
        "      <td> 0.000000</td>\n",
        "    </tr>\n",
        "    <tr>\n",
        "      <th>jumps</th>\n",
        "      <td> 0.000000</td>\n",
        "      <td> 5.545177</td>\n",
        "      <td> 0.000000</td>\n",
        "      <td> 0.000000</td>\n",
        "    </tr>\n",
        "    <tr>\n",
        "      <th>lazy</th>\n",
        "      <td> 0.000000</td>\n",
        "      <td> 0.000000</td>\n",
        "      <td> 1.386294</td>\n",
        "      <td> 0.000000</td>\n",
        "    </tr>\n",
        "    <tr>\n",
        "      <th>lion</th>\n",
        "      <td> 0.000000</td>\n",
        "      <td> 0.000000</td>\n",
        "      <td> 0.000000</td>\n",
        "      <td> 1.386294</td>\n",
        "    </tr>\n",
        "    <tr>\n",
        "      <th>over</th>\n",
        "      <td> 0.000000</td>\n",
        "      <td> 1.386294</td>\n",
        "      <td> 0.000000</td>\n",
        "      <td> 0.000000</td>\n",
        "    </tr>\n",
        "    <tr>\n",
        "      <th>peacock</th>\n",
        "      <td> 0.000000</td>\n",
        "      <td> 0.000000</td>\n",
        "      <td> 0.000000</td>\n",
        "      <td> 1.386294</td>\n",
        "    </tr>\n",
        "    <tr>\n",
        "      <th>quick</th>\n",
        "      <td> 1.386294</td>\n",
        "      <td> 0.000000</td>\n",
        "      <td> 0.000000</td>\n",
        "      <td> 0.000000</td>\n",
        "    </tr>\n",
        "    <tr>\n",
        "      <th>the</th>\n",
        "      <td> 0.000000</td>\n",
        "      <td> 0.000000</td>\n",
        "      <td> 0.000000</td>\n",
        "      <td> 0.000000</td>\n",
        "    </tr>\n",
        "    <tr>\n",
        "      <th>tiger</th>\n",
        "      <td> 0.000000</td>\n",
        "      <td> 0.000000</td>\n",
        "      <td> 0.000000</td>\n",
        "      <td> 1.386294</td>\n",
        "    </tr>\n",
        "  </tbody>\n",
        "</table>\n",
        "</div>"
       ],
       "metadata": {},
       "output_type": "pyout",
       "prompt_number": 501,
       "text": [
        "                s1        s2        s3        s4\n",
        "brown     0.693147  0.693147  0.000000  0.000000\n",
        "dog       0.000000  0.000000  0.693147  0.693147\n",
        "elephant  0.000000  0.000000  0.693147  0.693147\n",
        "fox       0.693147  0.693147  0.000000  0.000000\n",
        "jumps     0.000000  5.545177  0.000000  0.000000\n",
        "lazy      0.000000  0.000000  1.386294  0.000000\n",
        "lion      0.000000  0.000000  0.000000  1.386294\n",
        "over      0.000000  1.386294  0.000000  0.000000\n",
        "peacock   0.000000  0.000000  0.000000  1.386294\n",
        "quick     1.386294  0.000000  0.000000  0.000000\n",
        "the       0.000000  0.000000  0.000000  0.000000\n",
        "tiger     0.000000  0.000000  0.000000  1.386294"
       ]
      }
     ],
     "prompt_number": 501
    },
    {
     "cell_type": "markdown",
     "metadata": {},
     "source": [
      "SVD-based projections and matrix reconstructions\n",
      "----"
     ]
    },
    {
     "cell_type": "code",
     "collapsed": false,
     "input": [
      "def svd_projection(M, k):\n",
      "    \"\"\"Returns the matrix M reconstructed using only k singluar values\"\"\"\n",
      "    U, s, V = la.svd(M, full_matrices=False)\n",
      "    s[k:] = 0\n",
      "    M_ = dotM(U, np.diag(s), V)\n",
      "    try:\n",
      "        return pd.DataFrame(M_, index=M.index, columns=M.columns)\n",
      "    except AttributeError:\n",
      "        return M_"
     ],
     "language": "python",
     "metadata": {},
     "outputs": [],
     "prompt_number": 535
    },
    {
     "cell_type": "code",
     "collapsed": false,
     "input": [
      "# Efficient version using partial SVD\n",
      "\n",
      "def sparsesvd_projection(M, k):\n",
      "    \"\"\"Returns the matrix M reconstructed using only k singluar values\"\"\"\n",
      "    from scipy.sparse import csc_matrix \n",
      "    from sparsesvd import sparsesvd \n",
      "\n",
      "    Ut, s, V = sparsesvd(csc_matrix(M), k)\n",
      "    M_ = dotM(U.T, np.diag(s), V)\n",
      "    try:\n",
      "        return pd.DataFrame(M_, index=M.index, columns=M.columns)\n",
      "    except AttributeError:\n",
      "        return M_"
     ],
     "language": "python",
     "metadata": {},
     "outputs": [],
     "prompt_number": 537
    },
    {
     "cell_type": "code",
     "collapsed": false,
     "input": [
      "M = tf_idf(docs)"
     ],
     "language": "python",
     "metadata": {},
     "outputs": [],
     "prompt_number": 541
    },
    {
     "cell_type": "code",
     "collapsed": false,
     "input": [
      "sparsesvd_projection(M, 2).values"
     ],
     "language": "python",
     "metadata": {},
     "outputs": [
      {
       "metadata": {},
       "output_type": "pyout",
       "prompt_number": 542,
       "text": [
        "array([[ 0.02,  0.71, -0.00, -0.00],\n",
        "       [-0.00, -0.00,  0.19,  0.81],\n",
        "       [-0.00, -0.00,  0.19,  0.81],\n",
        "       [ 0.02,  0.71, -0.00, -0.00],\n",
        "       [ 0.17,  5.54, -0.00, -0.00],\n",
        "       [-0.00, -0.00,  0.07,  0.31],\n",
        "       [-0.00, -0.00,  0.31,  1.31],\n",
        "       [ 0.04,  1.38, -0.00, -0.00],\n",
        "       [-0.00, -0.00,  0.31,  1.31],\n",
        "       [ 0.00,  0.04, -0.00, -0.00],\n",
        "       [ 0.00,  0.00,  0.00,  0.00],\n",
        "       [-0.00, -0.00,  0.31,  1.31]])"
       ]
      }
     ],
     "prompt_number": 542
    },
    {
     "cell_type": "code",
     "collapsed": false,
     "input": [
      "svd_projection(M, 2)"
     ],
     "language": "python",
     "metadata": {},
     "outputs": [
      {
       "html": [
        "<div style=\"max-height:1000px;max-width:1500px;overflow:auto;\">\n",
        "<table border=\"1\" class=\"dataframe\">\n",
        "  <thead>\n",
        "    <tr style=\"text-align: right;\">\n",
        "      <th></th>\n",
        "      <th>s1</th>\n",
        "      <th>s2</th>\n",
        "      <th>s3</th>\n",
        "      <th>s4</th>\n",
        "    </tr>\n",
        "  </thead>\n",
        "  <tbody>\n",
        "    <tr>\n",
        "      <th>brown</th>\n",
        "      <td> 0.022294</td>\n",
        "      <td> 0.714091</td>\n",
        "      <td> 3.661266e-17</td>\n",
        "      <td> 1.550937e-16</td>\n",
        "    </tr>\n",
        "    <tr>\n",
        "      <th>dog</th>\n",
        "      <td> 0.000000</td>\n",
        "      <td> 0.000000</td>\n",
        "      <td> 1.915812e-01</td>\n",
        "      <td> 8.115509e-01</td>\n",
        "    </tr>\n",
        "    <tr>\n",
        "      <th>elephant</th>\n",
        "      <td> 0.000000</td>\n",
        "      <td> 0.000000</td>\n",
        "      <td> 1.915812e-01</td>\n",
        "      <td> 8.115509e-01</td>\n",
        "    </tr>\n",
        "    <tr>\n",
        "      <th>fox</th>\n",
        "      <td> 0.022294</td>\n",
        "      <td> 0.714091</td>\n",
        "      <td>-6.914126e-17</td>\n",
        "      <td>-2.928871e-16</td>\n",
        "    </tr>\n",
        "    <tr>\n",
        "      <th>jumps</th>\n",
        "      <td> 0.172949</td>\n",
        "      <td> 5.539778</td>\n",
        "      <td> 2.770843e-17</td>\n",
        "      <td> 1.173748e-16</td>\n",
        "    </tr>\n",
        "    <tr>\n",
        "      <th>lazy</th>\n",
        "      <td> 0.000000</td>\n",
        "      <td> 0.000000</td>\n",
        "      <td> 7.317749e-02</td>\n",
        "      <td> 3.099848e-01</td>\n",
        "    </tr>\n",
        "    <tr>\n",
        "      <th>lion</th>\n",
        "      <td> 0.000000</td>\n",
        "      <td> 0.000000</td>\n",
        "      <td> 3.099848e-01</td>\n",
        "      <td> 1.313117e+00</td>\n",
        "    </tr>\n",
        "    <tr>\n",
        "      <th>over</th>\n",
        "      <td> 0.043237</td>\n",
        "      <td> 1.384945</td>\n",
        "      <td> 6.927107e-18</td>\n",
        "      <td> 2.934370e-17</td>\n",
        "    </tr>\n",
        "    <tr>\n",
        "      <th>peacock</th>\n",
        "      <td> 0.000000</td>\n",
        "      <td> 0.000000</td>\n",
        "      <td> 3.099848e-01</td>\n",
        "      <td> 1.313117e+00</td>\n",
        "    </tr>\n",
        "    <tr>\n",
        "      <th>quick</th>\n",
        "      <td> 0.001350</td>\n",
        "      <td> 0.043237</td>\n",
        "      <td> 1.626430e-17</td>\n",
        "      <td> 6.889669e-17</td>\n",
        "    </tr>\n",
        "    <tr>\n",
        "      <th>the</th>\n",
        "      <td> 0.000000</td>\n",
        "      <td> 0.000000</td>\n",
        "      <td> 0.000000e+00</td>\n",
        "      <td> 0.000000e+00</td>\n",
        "    </tr>\n",
        "    <tr>\n",
        "      <th>tiger</th>\n",
        "      <td> 0.000000</td>\n",
        "      <td> 0.000000</td>\n",
        "      <td> 3.099848e-01</td>\n",
        "      <td> 1.313117e+00</td>\n",
        "    </tr>\n",
        "  </tbody>\n",
        "</table>\n",
        "</div>"
       ],
       "metadata": {},
       "output_type": "pyout",
       "prompt_number": 543,
       "text": [
        "                s1        s2            s3            s4\n",
        "brown     0.022294  0.714091  3.661266e-17  1.550937e-16\n",
        "dog       0.000000  0.000000  1.915812e-01  8.115509e-01\n",
        "elephant  0.000000  0.000000  1.915812e-01  8.115509e-01\n",
        "fox       0.022294  0.714091 -6.914126e-17 -2.928871e-16\n",
        "jumps     0.172949  5.539778  2.770843e-17  1.173748e-16\n",
        "lazy      0.000000  0.000000  7.317749e-02  3.099848e-01\n",
        "lion      0.000000  0.000000  3.099848e-01  1.313117e+00\n",
        "over      0.043237  1.384945  6.927107e-18  2.934370e-17\n",
        "peacock   0.000000  0.000000  3.099848e-01  1.313117e+00\n",
        "quick     0.001350  0.043237  1.626430e-17  6.889669e-17\n",
        "the       0.000000  0.000000  0.000000e+00  0.000000e+00\n",
        "tiger     0.000000  0.000000  3.099848e-01  1.313117e+00"
       ]
      }
     ],
     "prompt_number": 543
    },
    {
     "cell_type": "markdown",
     "metadata": {},
     "source": [
      "Calculating distance matrices\n",
      "----"
     ]
    },
    {
     "cell_type": "code",
     "collapsed": false,
     "input": [
      "def cosine_dist(u, v):\n",
      "    \"\"\"Returns cosine of angle betwwen two vectors.\"\"\"\n",
      "    return np.dot(u, v)/(la.norm(u)*la.norm(v))"
     ],
     "language": "python",
     "metadata": {},
     "outputs": [],
     "prompt_number": 146
    },
    {
     "cell_type": "code",
     "collapsed": false,
     "input": [
      "np.array([[cosine_dist(m[:,i], m[:,j]) for i in range(m.shape[1])] \n",
      "                                       for j in range(m.shape[1])])"
     ],
     "language": "python",
     "metadata": {},
     "outputs": [
      {
       "metadata": {},
       "output_type": "pyout",
       "prompt_number": 149,
       "text": [
        "array([[ 1.00,  0.24,  0.29,  0.24,  0.00,  0.00,  0.00,  0.00,  0.00],\n",
        "       [ 0.24,  1.00,  0.41,  0.33,  0.71,  0.00,  0.00,  0.00,  0.24],\n",
        "       [ 0.29,  0.41,  1.00,  0.61,  0.29,  0.00,  0.00,  0.00,  0.00],\n",
        "       [ 0.24,  0.33,  0.61,  1.00,  0.00,  0.00,  0.00,  0.00,  0.00],\n",
        "       [ 0.00,  0.71,  0.29,  0.00,  1.00,  0.00,  0.00,  0.00,  0.00],\n",
        "       [ 0.00,  0.00,  0.00,  0.00,  0.00,  1.00,  0.71,  0.58,  0.00],\n",
        "       [ 0.00,  0.00,  0.00,  0.00,  0.00,  0.71,  1.00,  0.82,  0.41],\n",
        "       [ 0.00,  0.00,  0.00,  0.00,  0.00,  0.58,  0.82,  1.00,  0.67],\n",
        "       [ 0.00,  0.24,  0.00,  0.00,  0.00,  0.00,  0.41,  0.67,  1.00]])"
       ]
      }
     ],
     "prompt_number": 149
    },
    {
     "cell_type": "code",
     "collapsed": false,
     "input": [
      "np.array([[cosine_dist(m2[:,i], m2[:,j]) for i in range(m2.shape[1])] \n",
      "                                         for j in range(m2.shape[1])])"
     ],
     "language": "python",
     "metadata": {},
     "outputs": [
      {
       "metadata": {},
       "output_type": "pyout",
       "prompt_number": 150,
       "text": [
        "array([[ 1.00,  0.91,  1.00,  0.99,  0.88, -0.19, -0.17, -0.16, -0.01],\n",
        "       [ 0.91,  1.00,  0.92,  0.87,  1.00,  0.23,  0.25,  0.25,  0.39],\n",
        "       [ 1.00,  0.92,  1.00,  0.99,  0.88, -0.18, -0.16, -0.15, -0.01],\n",
        "       [ 0.99,  0.87,  0.99,  1.00,  0.83, -0.28, -0.27, -0.26, -0.11],\n",
        "       [ 0.88,  1.00,  0.88,  0.83,  1.00,  0.30,  0.32,  0.33,  0.46],\n",
        "       [-0.19,  0.23, -0.18, -0.28,  0.30,  1.00,  1.00,  1.00,  0.98],\n",
        "       [-0.17,  0.25, -0.16, -0.27,  0.32,  1.00,  1.00,  1.00,  0.99],\n",
        "       [-0.16,  0.25, -0.15, -0.26,  0.33,  1.00,  1.00,  1.00,  0.99],\n",
        "       [-0.01,  0.39, -0.01, -0.11,  0.46,  0.98,  0.99,  0.99,  1.00]])"
       ]
      }
     ],
     "prompt_number": 150
    },
    {
     "cell_type": "markdown",
     "metadata": {},
     "source": [
      "Broadcasting review\n",
      "----"
     ]
    },
    {
     "cell_type": "markdown",
     "metadata": {},
     "source": [
      "Suppose we want to construct a distance matrix between the rows of a matrix. For example, given the matrix \n",
      "\n",
      "```python\n",
      "M = np.array([[1,2,3],[4,5,6]])\n",
      "```\n",
      "\n",
      "we want to find the new matrix\n",
      "\n",
      "````python\n",
      "D = np.array([[distance([1,2,3], [1,2,3]), distance([1,2,3], [4,5,6])],\n",
      "              [distance([4,5,6], [1,2,3]), distance([4,5,6], [4,5,6])]])\n",
      "```\n",
      "\n",
      "where `distance` is some appropriate function of two vectors (e.g. squared Euclidean)."
     ]
    },
    {
     "cell_type": "code",
     "collapsed": false,
     "input": [
      "M = np.array([[1,2,3],[4,5,6]])\n",
      "M"
     ],
     "language": "python",
     "metadata": {},
     "outputs": [
      {
       "metadata": {},
       "output_type": "pyout",
       "prompt_number": 242,
       "text": [
        "array([[1, 2, 3],\n",
        "       [4, 5, 6]])"
       ]
      }
     ],
     "prompt_number": 242
    },
    {
     "cell_type": "code",
     "collapsed": false,
     "input": [
      "def distance(u, v):\n",
      "    \"\"\"Squared Euclidean distance.\"\"\"\n",
      "    return np.sum((u-v)**2)"
     ],
     "language": "python",
     "metadata": {},
     "outputs": [],
     "prompt_number": 239
    },
    {
     "cell_type": "markdown",
     "metadata": {},
     "source": [
      "#### Explicit solution"
     ]
    },
    {
     "cell_type": "code",
     "collapsed": false,
     "input": [
      "nrows, ncols = M.shape\n",
      "np.array([[distance(M[u,:], M[v,:]) for u in range(nrows)] \n",
      "                                    for v in range(nrows)])"
     ],
     "language": "python",
     "metadata": {},
     "outputs": [
      {
       "metadata": {},
       "output_type": "pyout",
       "prompt_number": 241,
       "text": [
        "array([[ 0, 27],\n",
        "       [27,  0]])"
       ]
      }
     ],
     "prompt_number": 241
    },
    {
     "cell_type": "markdown",
     "metadata": {},
     "source": [
      "#### Broadcasting solution for row vectors\n",
      "\n",
      "The shape of M is (2,3). We want to end up with a final matrix (2,2. We want to find the difference between rows of 3-vecotrs, so we need to create an intermediate matrix of shape (2,2,3) via broadcasting. Finally, we sum over axis=2 so that we end up with a (2,2) matrix."
     ]
    },
    {
     "cell_type": "code",
     "collapsed": false,
     "input": [
      "row_delta = M[None,:,:] - M[:,None,:]\n",
      "print row_delta.shape\n",
      "row_delta"
     ],
     "language": "python",
     "metadata": {},
     "outputs": [
      {
       "output_type": "stream",
       "stream": "stdout",
       "text": [
        "(2, 2, 3)\n"
       ]
      },
      {
       "metadata": {},
       "output_type": "pyout",
       "prompt_number": 266,
       "text": [
        "array([[[ 0,  0,  0],\n",
        "        [ 3,  3,  3]],\n",
        "\n",
        "       [[-3, -3, -3],\n",
        "        [ 0,  0,  0]]])"
       ]
      }
     ],
     "prompt_number": 266
    },
    {
     "cell_type": "code",
     "collapsed": false,
     "input": [
      "np.sum(row_delta**2, axis=2)"
     ],
     "language": "python",
     "metadata": {},
     "outputs": [
      {
       "metadata": {},
       "output_type": "pyout",
       "prompt_number": 265,
       "text": [
        "array([[ 0, 27],\n",
        "       [27,  0]])"
       ]
      }
     ],
     "prompt_number": 265
    },
    {
     "cell_type": "markdown",
     "metadata": {},
     "source": [
      "#### Broadcasting solutuion for column vectors\n",
      "\n",
      "Just to make sure that we understand what is going on, how would we do the operation for column vectors rather than row vectors? Now, M consists of 3 column vectors of length 2 each, so we want a distance matrix of shape (3,3). We want to find the difference between columns of 2-vecotrs, so we need to create an intermediate matrix of shape (2,3,3) via broadcasting. Finally, we sum over axis=0 so that we end up with a (3,3) matrix."
     ]
    },
    {
     "cell_type": "code",
     "collapsed": false,
     "input": [
      "# Explicit solution\n",
      "\n",
      "nrows, ncols = M.shape\n",
      "np.array([[distance(M[:,u], M[:,v]) for u in range(ncols)] \n",
      "                                    for v in range(ncols)])"
     ],
     "language": "python",
     "metadata": {},
     "outputs": [
      {
       "metadata": {},
       "output_type": "pyout",
       "prompt_number": 258,
       "text": [
        "array([[0, 2, 8],\n",
        "       [2, 0, 2],\n",
        "       [8, 2, 0]])"
       ]
      }
     ],
     "prompt_number": 258
    },
    {
     "cell_type": "code",
     "collapsed": false,
     "input": [
      "column_delta = (M[:,None,:] - M[:,:,None])\n",
      "print column_delta.shape\n",
      "column_delta"
     ],
     "language": "python",
     "metadata": {},
     "outputs": [
      {
       "output_type": "stream",
       "stream": "stdout",
       "text": [
        "(2, 3, 3)\n"
       ]
      },
      {
       "metadata": {},
       "output_type": "pyout",
       "prompt_number": 267,
       "text": [
        "array([[[ 0,  1,  2],\n",
        "        [-1,  0,  1],\n",
        "        [-2, -1,  0]],\n",
        "\n",
        "       [[ 0,  1,  2],\n",
        "        [-1,  0,  1],\n",
        "        [-2, -1,  0]]])"
       ]
      }
     ],
     "prompt_number": 267
    },
    {
     "cell_type": "code",
     "collapsed": false,
     "input": [
      "np.sum(column_delta**2, axis=0)"
     ],
     "language": "python",
     "metadata": {},
     "outputs": [
      {
       "metadata": {},
       "output_type": "pyout",
       "prompt_number": 262,
       "text": [
        "array([[0, 2, 8],\n",
        "       [2, 0, 2],\n",
        "       [8, 2, 0]])"
       ]
      }
     ],
     "prompt_number": 262
    },
    {
     "cell_type": "markdown",
     "metadata": {},
     "source": [
      "Spearman's rho \n",
      "----"
     ]
    },
    {
     "cell_type": "code",
     "collapsed": false,
     "input": [
      "rho, pval = st.spearmanr(m)\n",
      "rho"
     ],
     "language": "python",
     "metadata": {},
     "outputs": [
      {
       "metadata": {},
       "output_type": "pyout",
       "prompt_number": 47,
       "text": [
        "array([[ 1.00, -0.19,  0.00,  0.07, -0.33, -0.17, -0.26, -0.33, -0.33],\n",
        "       [-0.19,  1.00,  0.00, -0.13,  0.58, -0.30, -0.45, -0.58, -0.19],\n",
        "       [ 0.00,  0.00,  1.00,  0.44,  0.00, -0.21, -0.32, -0.41, -0.41],\n",
        "       [ 0.07, -0.13,  0.44,  1.00, -0.33, -0.17, -0.26, -0.33, -0.33],\n",
        "       [-0.33,  0.58,  0.00, -0.33,  1.00, -0.17, -0.26, -0.33, -0.33],\n",
        "       [-0.17, -0.30, -0.21, -0.17, -0.17,  1.00,  0.67,  0.52, -0.17],\n",
        "       [-0.26, -0.45, -0.32, -0.26, -0.26,  0.67,  1.00,  0.77,  0.26],\n",
        "       [-0.33, -0.58, -0.41, -0.33, -0.33,  0.52,  0.77,  1.00,  0.56],\n",
        "       [-0.33, -0.19, -0.41, -0.33, -0.33, -0.17,  0.26,  0.56,  1.00]])"
       ]
      }
     ],
     "prompt_number": 47
    },
    {
     "cell_type": "code",
     "collapsed": false,
     "input": [
      "rho2, pval2 = st.spearmanr(m2)\n",
      "rho2"
     ],
     "language": "python",
     "metadata": {},
     "outputs": [
      {
       "metadata": {},
       "output_type": "pyout",
       "prompt_number": 49,
       "text": [
        "array([[ 1.00,  0.85,  1.00,  1.00,  0.72, -0.84, -0.84, -0.84, -0.80],\n",
        "       [ 0.85,  1.00,  0.85,  0.85,  0.97, -0.56, -0.56, -0.56, -0.48],\n",
        "       [ 1.00,  0.85,  1.00,  1.00,  0.72, -0.84, -0.84, -0.84, -0.80],\n",
        "       [ 1.00,  0.85,  1.00,  1.00,  0.72, -0.84, -0.84, -0.84, -0.80],\n",
        "       [ 0.72,  0.97,  0.72,  0.72,  1.00, -0.39, -0.39, -0.39, -0.30],\n",
        "       [-0.84, -0.56, -0.84, -0.84, -0.39,  1.00,  1.00,  1.00,  0.98],\n",
        "       [-0.84, -0.56, -0.84, -0.84, -0.39,  1.00,  1.00,  1.00,  0.98],\n",
        "       [-0.84, -0.56, -0.84, -0.84, -0.39,  1.00,  1.00,  1.00,  0.98],\n",
        "       [-0.80, -0.48, -0.80, -0.80, -0.30,  0.98,  0.98,  0.98,  1.00]])"
       ]
      }
     ],
     "prompt_number": 49
    },
    {
     "cell_type": "markdown",
     "metadata": {},
     "source": [
      "### Average cross-correlation for document sets {c} and {{m}}"
     ]
    },
    {
     "cell_type": "code",
     "collapsed": false,
     "input": [
      "cm = rho[5:,:5]\n",
      "cm"
     ],
     "language": "python",
     "metadata": {},
     "outputs": [
      {
       "metadata": {},
       "output_type": "pyout",
       "prompt_number": 63,
       "text": [
        "array([[-0.17, -0.30, -0.21, -0.17, -0.17],\n",
        "       [-0.26, -0.45, -0.32, -0.26, -0.26],\n",
        "       [-0.33, -0.58, -0.41, -0.33, -0.33],\n",
        "       [-0.33, -0.19, -0.41, -0.33, -0.33]])"
       ]
      }
     ],
     "prompt_number": 63
    },
    {
     "cell_type": "code",
     "collapsed": false,
     "input": [
      "cm.mean()"
     ],
     "language": "python",
     "metadata": {},
     "outputs": [
      {
       "metadata": {},
       "output_type": "pyout",
       "prompt_number": 64,
       "text": [
        "-0.3076"
       ]
      }
     ],
     "prompt_number": 64
    },
    {
     "cell_type": "markdown",
     "metadata": {},
     "source": [
      "### Average correlation for document sets {c}"
     ]
    },
    {
     "cell_type": "code",
     "collapsed": false,
     "input": [
      "cc = rho[np.tril_indices_from(rho[:5, :5], k=-1)]\n",
      "cc"
     ],
     "language": "python",
     "metadata": {},
     "outputs": [
      {
       "metadata": {},
       "output_type": "pyout",
       "prompt_number": 59,
       "text": [
        "array([-0.19,  0.00,  0.00,  0.07, -0.13,  0.44, -0.33,  0.58,  0.00, -0.33])"
       ]
      }
     ],
     "prompt_number": 59
    },
    {
     "cell_type": "code",
     "collapsed": false,
     "input": [
      "np.mean(cc)"
     ],
     "language": "python",
     "metadata": {},
     "outputs": [
      {
       "metadata": {},
       "output_type": "pyout",
       "prompt_number": 60,
       "text": [
        "0.0106"
       ]
      }
     ],
     "prompt_number": 60
    },
    {
     "cell_type": "markdown",
     "metadata": {},
     "source": [
      "### Average correlation for document sets {m}"
     ]
    },
    {
     "cell_type": "code",
     "collapsed": false,
     "input": [
      "mm = rho[5:, 5:][np.tril_indices_from(rho[5:, 5:], k=-1)]\n",
      "mm"
     ],
     "language": "python",
     "metadata": {},
     "outputs": [
      {
       "metadata": {},
       "output_type": "pyout",
       "prompt_number": 546,
       "text": [
        "array([ 0.67,  0.52,  0.77, -0.17,  0.26,  0.56])"
       ]
      }
     ],
     "prompt_number": 546
    },
    {
     "cell_type": "code",
     "collapsed": false,
     "input": [
      "np.mean(mm)"
     ],
     "language": "python",
     "metadata": {},
     "outputs": [
      {
       "metadata": {},
       "output_type": "pyout",
       "prompt_number": 547,
       "text": [
        "0.4351"
       ]
      }
     ],
     "prompt_number": 547
    },
    {
     "cell_type": "code",
     "collapsed": false,
     "input": [],
     "language": "python",
     "metadata": {},
     "outputs": []
    }
   ],
   "metadata": {}
  }
 ]
}