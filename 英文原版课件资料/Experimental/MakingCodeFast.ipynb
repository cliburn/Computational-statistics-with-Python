{
 "metadata": {
  "name": "",
  "signature": "sha256:e2631ff591bfe8c58f8aa55d72bc03fb363587e07bf715ff504f1f3bd0794cb6"
 },
 "nbformat": 3,
 "nbformat_minor": 0,
 "worksheets": [
  {
   "cells": [
    {
     "cell_type": "code",
     "collapsed": false,
     "input": [
      "from __future__ import division\n",
      "import os\n",
      "import sys\n",
      "import glob\n",
      "import matplotlib.pyplot as plt\n",
      "import numpy as np\n",
      "import pandas as pd\n",
      "%matplotlib inline\n",
      "%precision 4\n",
      "plt.style.use('ggplot')\n"
     ],
     "language": "python",
     "metadata": {},
     "outputs": [],
     "prompt_number": 1
    },
    {
     "cell_type": "markdown",
     "metadata": {},
     "source": [
      "Code Optimization Overview\n",
      "----\n",
      "\n",
      "There is a traditional sequence for writing code, and it goes like this:\n",
      "\n",
      "1. Make it run\n",
      "2. Make it right (testing)\n",
      "3. Make it fast (optimization)\n",
      "\n",
      "Making it fast is the last step, and you should only optimize when it is necessary. Also, it is good to know when a program is \"fast enough\" for your needs. Optimization has a price:\n",
      "\n",
      "1. Cost in programmer time\n",
      "2. Optimized code is often more complex\n",
      "3. Optimized code is oftne less generic\n",
      "\n",
      "However, having fast code is often necessary for statistical computing, so we will spend some time learning how to make code run faster. To do so, we need to understand why our code is slow: Code can be slow because of differnet resource limitations:\n",
      "\n",
      "1. CPU-bound - CPU is working flat out \n",
      "2. Memory-bound - Out of RAM - swapping to hard disk\n",
      "3. IO-bound - Lots of data transfer to and from hard disk\n",
      "4. Network-bound - CPU is waiting for data to come over network or from memory (\"starvation\")\n",
      "\n",
      "Different bottlenekcs may require different appraoches. However, theere is a natural order to making code fast\n",
      "\n",
      "1. Cheat\n",
      "    - Use a better machine (e.g. if RAM is limititg is - buy more RAM)\n",
      "    - Solve a simpler problem (e.g. will a subsample of the data suffice?)\n",
      "    - Solve a diffrent problem (perhaps solving a toy problem will suffice for your JASA paper? If your method is so useful, maybe someone else will optimize it for you)\n",
      "2. Find out what is slowing down the code (profiling)\n",
      "    - Using `timeit`\n",
      "    - Using `time`\n",
      "    - Usign `cProfile`\n",
      "    - Using `line_profiler`\n",
      "    - Using `memory_profiler`\n",
      "4. Use better algorithms and data structures\n",
      "5. Using compiled code written in another language\n",
      "    - Calling code written in C/C++\n",
      "        - Using `bitey`\n",
      "        - Using `ctypes`\n",
      "        - Using `cython`\n",
      "    - Calling code written in Fotran\n",
      "        - Using `f2py`\n",
      "    - Calling code written in Julia\n",
      "        - Usign `pyjulia`\n",
      "6. Converting Python code to compiled code\n",
      "    - Using `numexpr`\n",
      "    - Using `numba`\n",
      "    - Using `cython`\n",
      "7. Parallel programs\n",
      "    - Ahmdahl and Gustafsson's laws\n",
      "    - Embarassinlgy parallel problems\n",
      "    - Problems requiring communiccation and syncrhonization\n",
      "        - Race conditions\n",
      "        - Deadlock\n",
      "    - Task granularity\n",
      "    - Parallel programming idioms\n",
      "8. Execute in parallel\n",
      "    - On multi-core machines\n",
      "    - On multiple machines\n",
      "        - Using IPython\n",
      "        - Using MPI4py\n",
      "        - Using Hadoop/SPARK\n",
      "    - On GPUs"
     ]
    },
    {
     "cell_type": "markdown",
     "metadata": {},
     "source": [
      "Profiling\n",
      "----\n",
      "\n",
      "Profiling means to time your code so as to identify bottelnecks. If one function is taking up 99% of the time in your program, it is sensiblt to focus on optimizign that function first. It is a truism in computer science that we are generally hopeless at guessing what the bottlenecks in complex programs are, so we need to make use of profiling tools to help us.\n",
      "\n",
      "Install profling tools:\n",
      "```bash\n",
      "pip install --pre line-profiler\n",
      "pip install psutil\n",
      "pip install memory_profiler\n",
      "```\n",
      "\n",
      "References:\n",
      "\n",
      "1. <http://scipy-lectures.github.com/advanced/optimizing/index.html>\n",
      "2. <http://pynash.org/2013/03/06/timing-and-profiling.html>"
     ]
    },
    {
     "cell_type": "code",
     "collapsed": false,
     "input": [
      "! pip install --pre line-profiler &> /dev/null\n",
      "! pip install psutil &> /dev/null\n",
      "! pip install memory_profiler &> /dev/null"
     ],
     "language": "python",
     "metadata": {},
     "outputs": [],
     "prompt_number": 2
    },
    {
     "cell_type": "markdown",
     "metadata": {},
     "source": [
      "Create an Ipython profile\n",
      "\n",
      "```\n",
      "$ ipython profile create\n",
      "```"
     ]
    },
    {
     "cell_type": "markdown",
     "metadata": {},
     "source": [
      "Add the exntesions to `.ipython/profile_default/ipython_config.py `\n",
      "```\n",
      "c.TerminalIPythonApp.extensions = [\n",
      "    'line_profiler',\n",
      "    'memory_profiler',\n",
      "]\n",
      "```"
     ]
    },
    {
     "cell_type": "markdown",
     "metadata": {},
     "source": [
      "### Using the timeit modules"
     ]
    },
    {
     "cell_type": "markdown",
     "metadata": {},
     "source": [
      "We can measure the time taken by an arbitrary code block by starting timers before and after the code block, and measuring the difference."
     ]
    },
    {
     "cell_type": "code",
     "collapsed": false,
     "input": [
      "def f(nsec=1.0):\n",
      "    \"\"\"Function sleeps for nsec seconds.\"\"\"\n",
      "    import time\n",
      "    time.sleep(nsec) "
     ],
     "language": "python",
     "metadata": {},
     "outputs": [],
     "prompt_number": 3
    },
    {
     "cell_type": "code",
     "collapsed": false,
     "input": [
      "import timeit\n",
      "\n",
      "start = timeit.default_timer()\n",
      "f()\n",
      "elapsed = timeit.default_timer() - start\n",
      "elapsed"
     ],
     "language": "python",
     "metadata": {},
     "outputs": [
      {
       "metadata": {},
       "output_type": "pyout",
       "prompt_number": 4,
       "text": [
        "1.0014"
       ]
      }
     ],
     "prompt_number": 4
    },
    {
     "cell_type": "markdown",
     "metadata": {},
     "source": [
      "In the IPython notebook, individual functions can also be timed using %timeit. Useful options to %timeit include\n",
      "\n",
      "- -n<N>: execute the given statement <N> times in a loop. If this value\n",
      "is not given, a fitting value is chosen.\n",
      "- -r<R>: repeat the loop iteration <R> times and take the best result.\n",
      "Default: 3"
     ]
    },
    {
     "cell_type": "code",
     "collapsed": false,
     "input": [
      "%timeit f(0.5)"
     ],
     "language": "python",
     "metadata": {},
     "outputs": [
      {
       "output_type": "stream",
       "stream": "stdout",
       "text": [
        "1 loops, best of 3: 500 ms per loop\n"
       ]
      }
     ],
     "prompt_number": 5
    },
    {
     "cell_type": "code",
     "collapsed": false,
     "input": [
      "%timeit -n2 -r4 f(0.5)"
     ],
     "language": "python",
     "metadata": {},
     "outputs": [
      {
       "output_type": "stream",
       "stream": "stdout",
       "text": [
        "2 loops, best of 4: 501 ms per loop\n"
       ]
      }
     ],
     "prompt_number": 6
    },
    {
     "cell_type": "markdown",
     "metadata": {},
     "source": [
      "We can also measure the time to execute an entire cell with %%time - this provdes 3 readouts:\n",
      "\n",
      "- Wall time - time from start to finish of the call. This is all elapsed time including time slices used by other processes and time the process spends blocked (for example if it is waiting for I/O to complete).\n",
      "\n",
      "- User is the amount of CPU time spent in executing the process, excluing operating system (kernel) calls.\n",
      "\n",
      "- Sys is the executing CPU time spent in system calls within the kernel, as opposed to library code."
     ]
    },
    {
     "cell_type": "code",
     "collapsed": false,
     "input": [
      "%%time\n",
      "\n",
      "f(1)\n",
      "f(0.5)"
     ],
     "language": "python",
     "metadata": {},
     "outputs": [
      {
       "output_type": "stream",
       "stream": "stdout",
       "text": [
        "CPU times: user 543 \u00b5s, sys: 762 \u00b5s, total: 1.31 ms\n",
        "Wall time: 1.5 s\n"
       ]
      }
     ],
     "prompt_number": 7
    },
    {
     "cell_type": "markdown",
     "metadata": {},
     "source": [
      "### Using cProfile\n",
      "\n",
      "This can be done in a notebook with %prun, with the following readouts as column headers:\n",
      "\n",
      "- ncalls\n",
      "    - for the number of calls,\n",
      "- tottime\n",
      "    - for the total time spent in the given function (and excluding time made in calls to sub-functions),\n",
      "- percall\n",
      "    - is the quotient of tottime divided by ncalls\n",
      "- cumtime\n",
      "    - is the total time spent in this and all subfunctions (from invocation till exit). This figure is accurate even for recursive functions.\n",
      "- percall\n",
      "    - is the quotient of cumtime divided by primitive calls\n",
      "- filename:lineno(function)\n",
      "    - provides the respective data of each function "
     ]
    },
    {
     "cell_type": "markdown",
     "metadata": {},
     "source": [
      "#### Profiling Newton iterations"
     ]
    },
    {
     "cell_type": "code",
     "collapsed": false,
     "input": [
      "def newton(z, f, fprime, max_iter=100, tol=1e-6):\n",
      "    \"\"\"The Newton-Raphson method.\"\"\"\n",
      "    for i in range(max_iter):\n",
      "        step = f(z)/fprime(z)\n",
      "        if abs(step) < tol:\n",
      "            return i, z\n",
      "        z -= step\n",
      "    return i, z"
     ],
     "language": "python",
     "metadata": {},
     "outputs": [],
     "prompt_number": 8
    },
    {
     "cell_type": "code",
     "collapsed": false,
     "input": [
      "def plot_newton_iters(p, pprime, n=200, extent=[-1,1,-1,1], cmap='hsv'):\n",
      "    \"\"\"Shows how long it takes to converge to a root using the Newton-Raphson method.\"\"\"\n",
      "    m = np.zeros((n,n))\n",
      "    xmin, xmax, ymin, ymax = extent\n",
      "    for r, x in enumerate(np.linspace(xmin, xmax, n)):\n",
      "        for s, y in enumerate(np.linspace(ymin, ymax, n)):\n",
      "            z = x + y*1j\n",
      "            m[s, r] = newton(z, p, pprime)[0]\n",
      "    plt.imshow(m, cmap=cmap, extent=extent)"
     ],
     "language": "python",
     "metadata": {},
     "outputs": [],
     "prompt_number": 9
    },
    {
     "cell_type": "code",
     "collapsed": false,
     "input": [
      "def f(x):\n",
      "    return x**3 - 1\n",
      "\n",
      "def fprime(x):\n",
      "    return 3*x**2"
     ],
     "language": "python",
     "metadata": {},
     "outputs": [],
     "prompt_number": 10
    },
    {
     "cell_type": "code",
     "collapsed": false,
     "input": [
      "stats = %prun -r -q plot_newton_iters(f, fprime)"
     ],
     "language": "python",
     "metadata": {},
     "outputs": [
      {
       "output_type": "stream",
       "stream": "stdout",
       "text": [
        " "
       ]
      },
      {
       "metadata": {},
       "output_type": "display_data",
       "png": "[encoded data removed]",
       "text": [
        "<matplotlib.figure.Figure at 0x112e7cb90>"
       ]
      }
     ],
     "prompt_number": 11
    },
    {
     "cell_type": "code",
     "collapsed": false,
     "input": [
      "# Restrict to 10 lines\n",
      "stats.sort_stats('time').print_stats(10);"
     ],
     "language": "python",
     "metadata": {},
     "outputs": [
      {
       "output_type": "stream",
       "stream": "stdout",
       "text": [
        "         1088832 function calls (1088459 primitive calls) in 1.938 seconds\n",
        "\n",
        "   Ordered by: internal time\n",
        "   List reduced from 445 to 10 due to restriction <10>\n",
        "\n",
        "   ncalls  tottime  percall  cumtime  percall filename:lineno(function)\n",
        "    40000    0.623    0.000    1.343    0.000 <ipython-input-8-3671b81b1850>:1(newton)\n",
        "        1    0.519    0.519    1.938    1.938 <ipython-input-9-0773c96453fa>:1(plot_newton_iters)\n",
        "   324388    0.312    0.000    0.312    0.000 <ipython-input-10-dbc2ff3e5adf>:1(f)\n",
        "   324388    0.290    0.000    0.290    0.000 <ipython-input-10-dbc2ff3e5adf>:4(fprime)\n",
        "    40004    0.072    0.000    0.072    0.000 {range}\n",
        "   324392    0.045    0.000    0.045    0.000 {abs}\n",
        "      421    0.003    0.000    0.008    0.000 path.py:199(_update_values)\n",
        "      201    0.003    0.000    0.007    0.000 function_base.py:9(linspace)\n",
        "      837    0.003    0.000    0.004    0.000 weakref.py:47(__init__)\n",
        "     2813    0.003    0.000    0.003    0.000 __init__.py:871(__getitem__)\n",
        "\n",
        "\n"
       ]
      }
     ],
     "prompt_number": 12
    },
    {
     "cell_type": "code",
     "collapsed": false,
     "input": [
      "# Restrict using regular expression match\n",
      "stats.sort_stats('time').print_stats(r'ipython');"
     ],
     "language": "python",
     "metadata": {},
     "outputs": [
      {
       "output_type": "stream",
       "stream": "stdout",
       "text": [
        "         1088832 function calls (1088459 primitive calls) in 1.938 seconds\n",
        "\n",
        "   Ordered by: internal time\n",
        "   List reduced from 445 to 4 due to restriction <'ipython'>\n",
        "\n",
        "   ncalls  tottime  percall  cumtime  percall filename:lineno(function)\n",
        "    40000    0.623    0.000    1.343    0.000 <ipython-input-8-3671b81b1850>:1(newton)\n",
        "        1    0.519    0.519    1.938    1.938 <ipython-input-9-0773c96453fa>:1(plot_newton_iters)\n",
        "   324388    0.312    0.000    0.312    0.000 <ipython-input-10-dbc2ff3e5adf>:1(f)\n",
        "   324388    0.290    0.000    0.290    0.000 <ipython-input-10-dbc2ff3e5adf>:4(fprime)\n",
        "\n",
        "\n"
       ]
      }
     ],
     "prompt_number": 13
    },
    {
     "cell_type": "markdown",
     "metadata": {},
     "source": [
      "### Using the line profiler"
     ]
    },
    {
     "cell_type": "code",
     "collapsed": false,
     "input": [
      "%load_ext line_profiler"
     ],
     "language": "python",
     "metadata": {},
     "outputs": [],
     "prompt_number": 14
    },
    {
     "cell_type": "code",
     "collapsed": false,
     "input": [
      "lstats = %lprun -r -f plot_newton_iters plot_newton_iters(f, fprime)"
     ],
     "language": "python",
     "metadata": {},
     "outputs": [
      {
       "metadata": {},
       "output_type": "display_data",
       "png": "[encoded data removed]",
       "text": [
        "<matplotlib.figure.Figure at 0x1131681d0>"
       ]
      }
     ],
     "prompt_number": 15
    },
    {
     "cell_type": "code",
     "collapsed": false,
     "input": [
      "lstats.print_stats()"
     ],
     "language": "python",
     "metadata": {},
     "outputs": [
      {
       "output_type": "stream",
       "stream": "stdout",
       "text": [
        "Timer unit: 1e-06 s\n",
        "\n",
        "Total time: 2.40384 s\n",
        "File: <ipython-input-9-0773c96453fa>\n",
        "Function: plot_newton_iters at line 1\n",
        "\n",
        "Line #      Hits         Time  Per Hit   % Time  Line Contents\n",
        "==============================================================\n",
        "     1                                           def plot_newton_iters(p, pprime, n=200, extent=[-1,1,-1,1], cmap='hsv'):\n",
        "     2                                               \"\"\"Shows how long it takes to converge to a root using the Newton-Raphson method.\"\"\"\n",
        "     3         1           81     81.0      0.0      m = np.zeros((n,n))\n",
        "     4         1            1      1.0      0.0      xmin, xmax, ymin, ymax = extent\n",
        "     5       201          396      2.0      0.0      for r, x in enumerate(np.linspace(xmin, xmax, n)):\n",
        "     6     40200        74400      1.9      3.1          for s, y in enumerate(np.linspace(ymin, ymax, n)):\n",
        "     7     40000       466076     11.7     19.4              z = x + y*1j\n",
        "     8     40000      1708697     42.7     71.1              m[s, r] = newton(z, p, pprime)[0]\n",
        "     9         1       154191 154191.0      6.4      plt.imshow(m, cmap=cmap, extent=extent)\n",
        "\n"
       ]
      }
     ],
     "prompt_number": 16
    },
    {
     "cell_type": "markdown",
     "metadata": {},
     "source": [
      "### Using the memory profiler\n",
      "\n",
      "Sometimes the problem is that too much memory is being used, and we need to reduce it so that we can avoid disk churning (swapping of memory from RAM to hard disk). Two useful magic functions are %memit which works like %timeit but shows space rahter than time consumption, and %mprun which is like %lprun for memory usage. \n",
      "\n",
      "Note that %mprun requires that the funciton to be evaluated is in a file."
     ]
    },
    {
     "cell_type": "code",
     "collapsed": false,
     "input": [
      "%load_ext memory_profiler"
     ],
     "language": "python",
     "metadata": {},
     "outputs": [],
     "prompt_number": 17
    },
    {
     "cell_type": "code",
     "collapsed": false,
     "input": [
      "%memit np.random.random((1000, 1000))"
     ],
     "language": "python",
     "metadata": {},
     "outputs": [
      {
       "output_type": "stream",
       "stream": "stdout",
       "text": [
        "peak memory: 90.66 MiB, increment: 7.66 MiB\n"
       ]
      }
     ],
     "prompt_number": 18
    },
    {
     "cell_type": "code",
     "collapsed": false,
     "input": [
      "%%file foo.py\n",
      "\n",
      "def foo(n):\n",
      "    phrase = 'repeat me'\n",
      "    pmul = phrase * n\n",
      "    pjoi = ''.join([phrase for x in xrange(n)])\n",
      "    pinc = ''\n",
      "    for x in xrange(n):\n",
      "        pinc += phrase\n",
      "    del pmul, pjoi, pinc"
     ],
     "language": "python",
     "metadata": {},
     "outputs": [
      {
       "output_type": "stream",
       "stream": "stdout",
       "text": [
        "Overwriting foo.py\n"
       ]
      }
     ],
     "prompt_number": 19
    },
    {
     "cell_type": "code",
     "collapsed": false,
     "input": [
      "import foo\n",
      "\n",
      "%mprun -f foo.foo foo.foo(10000);"
     ],
     "language": "python",
     "metadata": {},
     "outputs": [
      {
       "output_type": "stream",
       "stream": "stdout",
       "text": [
        "('',)\n"
       ]
      }
     ],
     "prompt_number": 20
    },
    {
     "cell_type": "markdown",
     "metadata": {},
     "source": [
      "Using better algorihtms and data structures\n",
      "----\n",
      "\n",
      "The first major optimization is to see if we can reduce the algorithmic complexity of our solution, say from $\\mathcal{O}(n^2)$ to $\\mathcal{O}(n \\log(n))$. Unless you are going to invent an entirely new algorithm (possible but uncommon), this involves research into whether the data structures used are optimal, or whetther there is a way to reformulate the problem to take advantage of better algorithms. If your inital solution is by \"brute force\", there is sometimes room for huge performacne gains here.\n",
      "\n",
      "Taking a course in data structures and algorithms is a very worthwhile investment of your time if you are developing novel statsitical algorithms - perhaps Bloom filters, locality sensitive hashing, priority queues, Barnes-Hut partitionaing, dynamic programming or minimal spanning trees can be used to solve your problem - in which case you can expect to see dramatic improvements over naive brute-force implementations."
     ]
    },
    {
     "cell_type": "markdown",
     "metadata": {},
     "source": [
      "#### Data structures example\n",
      "\n",
      "Suppose you were given two lists `xs` and `ys` and asked to find the unique elements in common between them."
     ]
    },
    {
     "cell_type": "code",
     "collapsed": false,
     "input": [
      "xs = np.random.randint(0, 1000, 10000)\n",
      "ys = np.random.randint(0, 1000, 10000)"
     ],
     "language": "python",
     "metadata": {},
     "outputs": [],
     "prompt_number": 21
    },
    {
     "cell_type": "code",
     "collapsed": false,
     "input": [
      "# This is easy to solve using a nested loop\n",
      "\n",
      "def common1(xs, ys):\n",
      "    \"\"\"Using lists.\"\"\"\n",
      "    zs = []\n",
      "    for x in xs:\n",
      "        for y in ys:\n",
      "            if x==y and x not in zs:\n",
      "                zs.append(x)\n",
      "    return zs\n",
      "\n",
      "%timeit -n1 -r1 common1(xs, ys)"
     ],
     "language": "python",
     "metadata": {},
     "outputs": [
      {
       "output_type": "stream",
       "stream": "stdout",
       "text": [
        "1 loops, best of 1: 14.7 s per loop\n"
       ]
      }
     ],
     "prompt_number": 22
    },
    {
     "cell_type": "code",
     "collapsed": false,
     "input": [
      "# However, it is much more efficient to use the set data structure\n",
      "\n",
      "def common2(xs, ys):\n",
      "    return list(set(xs) & set(ys))\n",
      "\n",
      "%timeit -n1 -r1 common2(xs, ys)"
     ],
     "language": "python",
     "metadata": {},
     "outputs": [
      {
       "output_type": "stream",
       "stream": "stdout",
       "text": [
        "1 loops, best of 1: 2.82 ms per loop\n"
       ]
      }
     ],
     "prompt_number": 23
    },
    {
     "cell_type": "code",
     "collapsed": false,
     "input": [
      "assert(sorted(common1(xs, ys)) == sorted(common2(xs, ys)))"
     ],
     "language": "python",
     "metadata": {},
     "outputs": [],
     "prompt_number": 24
    },
    {
     "cell_type": "markdown",
     "metadata": {},
     "source": [
      "#### Algorithms example\n",
      "\n",
      "We have seen many such examples in the course - for example, numerical quadrature versus Monte Carlo integration, gradient desceent versus conjugate gradient descent, random walk Metropolis versus Hamiltonian Monte Carlo."
     ]
    },
    {
     "cell_type": "markdown",
     "metadata": {},
     "source": [
      "### I/O Bound problems\n",
      "\n",
      "Sometimes the issue is that you need to load or save massive amounts of data, and the transfer to and from the hard disk is the bootleneck. Possible solutions include 1) use of binary rather than text data, 2) use of data compression, 3) use of specialized data structures such as HDF5. \n",
      "\n",
      "If you are working wiht huge amounts of data, conisder the use of 1) relational databases if there are many rleations to manage, 2) HDF5 if a hiearchical structure is natural, and 3) NoSQL databases such as Redis if the data relatons are simple and you need to transfer over the network.\n",
      "\n",
      "- [h5py for HDF5](http://docs.h5py.org/en/latest/index.html)\n",
      "- [PyTables for HDF5](https://pytables.github.io/)\n",
      "- [AQLite3 Relational Database](https://docs.python.org/2/library/sqlite3.html)\n",
      "- [Python for Redis](https://github.com/andymccurdy/redis-py)\n",
      "\n",
      "Pandas also offers convenient access to multiple storage and retrieval options via its DataFramee object."
     ]
    },
    {
     "cell_type": "markdown",
     "metadata": {},
     "source": [
      "#### Output"
     ]
    },
    {
     "cell_type": "code",
     "collapsed": false,
     "input": [
      "def io1(xs):\n",
      "    \"\"\"Using loops to write.\"\"\"\n",
      "    with open('foo1.txt', 'w') as f:\n",
      "        for x in xs:\n",
      "            f.write('%d\\t' % x)\n",
      "    \n",
      "def io2(xs):\n",
      "    \"\"\"Join before writing.\"\"\"\n",
      "    with open('foo2.txt', 'w') as f:\n",
      "        f.write('\\t'.join(map(str, xs)))\n",
      "        \n",
      "def io3(xs):\n",
      "    \"\"\"Numpy savetxt is surprisingly slow.\"\"\"\n",
      "    np.savetxt('foo3.txt', xs, delimiter='\\t')\n",
      "        \n",
      "def io4(xs):\n",
      "    \"\"\"NUmpy save is better if binary format is OK.\"\"\"\n",
      "    np.save('foo4.npy', xs)\n",
      "   \n",
      "def io5(xs):\n",
      "    \"\"\"Using HDF5.\"\"\"\n",
      "    import h5py\n",
      "    with h5py.File(\"mytestfile1.h5\", \"w\") as f:\n",
      "        ds = f.create_dataset(\"xs\", (len(xs),), dtype='i')\n",
      "        ds[:] = xs\n",
      "\n",
      "def io6(xs):\n",
      "    \"\"\"Using HDF5 with compression.\"\"\"\n",
      "    import h5py\n",
      "    with h5py.File(\"mytestfile2.h5\", \"w\") as f:\n",
      "        ds = f.create_dataset(\"xs\", (len(xs),), dtype='i', compression=\"lzf\")\n",
      "        ds[:] = xs\n",
      "    \n",
      "n = 1000*1000\n",
      "xs = range(n)\n",
      "%timeit -r1 -n1 io1(xs)\n",
      "%timeit -r1 -n1 io2(xs)\n",
      "%timeit -r1 -n1 io3(xs)\n",
      "%timeit -r1 -n1 io4(xs)\n",
      "%timeit -r1 -n1 io5(xs)\n",
      "%timeit -r1 -n1 io6(xs)"
     ],
     "language": "python",
     "metadata": {},
     "outputs": [
      {
       "output_type": "stream",
       "stream": "stdout",
       "text": [
        "1 loops, best of 1: 1.64 s per loop\n",
        "1 loops, best of 1: 320 ms per loop"
       ]
      },
      {
       "output_type": "stream",
       "stream": "stdout",
       "text": [
        "\n",
        "1 loops, best of 1: 6.7 s per loop"
       ]
      },
      {
       "output_type": "stream",
       "stream": "stdout",
       "text": [
        "\n",
        "1 loops, best of 1: 108 ms per loop"
       ]
      },
      {
       "output_type": "stream",
       "stream": "stdout",
       "text": [
        "\n",
        "1 loops, best of 1: 154 ms per loop"
       ]
      },
      {
       "output_type": "stream",
       "stream": "stdout",
       "text": [
        "\n",
        "1 loops, best of 1: 122 ms per loop"
       ]
      },
      {
       "output_type": "stream",
       "stream": "stdout",
       "text": [
        "\n"
       ]
      }
     ],
     "prompt_number": 25
    },
    {
     "cell_type": "markdown",
     "metadata": {},
     "source": [
      "#### Input"
     ]
    },
    {
     "cell_type": "code",
     "collapsed": false,
     "input": [
      "def io11(xs):\n",
      "    \"\"\"Using basic python.\"\"\"\n",
      "    with open('foo1.txt', 'r') as f:\n",
      "        xs = map(int, f.read().strip().split('\\t'))\n",
      "    return xs\n",
      "    \n",
      "def io12(xs):\n",
      "    \"\"\"Using pandsa.\"\"\"\n",
      "    xs = pd.read_table('foo2.txt').values.tolist()\n",
      "    return xs\n",
      "\n",
      "def io13(xs):\n",
      "    \"\"\"Numpy loadtxt.\"\"\"\n",
      "    xs = np.loadtxt('foo3.txt',delimiter='\\t')\n",
      "    return xs\n",
      "\n",
      "def io14(xs):\n",
      "    \"\"\"Numpy load.\"\"\"\n",
      "    xs = np.load('foo4.npy')\n",
      "    return xs\n",
      "\n",
      "def io15(xs):\n",
      "    \"\"\"Using HDF5.\"\"\"\n",
      "    import h5py\n",
      "    with h5py.File(\"mytestfile1.h5\", 'r') as f:\n",
      "        xs = f['xs'][:]\n",
      "    return xs\n",
      "\n",
      "def io16(xs):\n",
      "    \"\"\"Using HDF5 with compression.\"\"\"\n",
      "    import h5py\n",
      "    with h5py.File(\"mytestfile2.h5\", 'r') as f:\n",
      "        xs = f['xs'][:]\n",
      "    return xs\n",
      "    \n",
      "n = 1000*1000\n",
      "xs = range(n)\n",
      "%timeit -r1 -n1 io11(xs)\n",
      "%timeit -r1 -n1 io12(xs)\n",
      "%timeit -r1 -n1 io13(xs)\n",
      "%timeit -r1 -n1 io14(xs)\n",
      "%timeit -r1 -n1 io15(xs)\n",
      "%timeit -r1 -n1 io16(xs)"
     ],
     "language": "python",
     "metadata": {},
     "outputs": [
      {
       "output_type": "stream",
       "stream": "stdout",
       "text": [
        "1 loops, best of 1: 805 ms per loop\n",
        "1 loops, best of 1: 51.3 s per loop"
       ]
      },
      {
       "output_type": "stream",
       "stream": "stdout",
       "text": [
        "\n",
        "1 loops, best of 1: 5.56 s per loop"
       ]
      },
      {
       "output_type": "stream",
       "stream": "stdout",
       "text": [
        "\n",
        "1 loops, best of 1: 15.2 ms per loop\n",
        "1 loops, best of 1: 9.69 ms per loop\n",
        "1 loops, best of 1: 16 ms per loop\n"
       ]
      }
     ],
     "prompt_number": 26
    },
    {
     "cell_type": "code",
     "collapsed": false,
     "input": [],
     "language": "python",
     "metadata": {},
     "outputs": []
    },
    {
     "cell_type": "code",
     "collapsed": false,
     "input": [],
     "language": "python",
     "metadata": {},
     "outputs": []
    },
    {
     "cell_type": "markdown",
     "metadata": {},
     "source": [
      "Problem set for optimization\n",
      "----\n",
      "\n",
      "We will use a few standard examples throughout to illustrate differnt optimization techniques."
     ]
    },
    {
     "cell_type": "markdown",
     "metadata": {},
     "source": [
      "### Matrix Multiplication"
     ]
    },
    {
     "cell_type": "code",
     "collapsed": false,
     "input": [
      "def mult(u, v):\n",
      "    m, n = u.shape\n",
      "    n, p = v.shape\n",
      "    w = np.zeros((m, p))\n",
      "    for i in range(m):\n",
      "        for j in range(p):\n",
      "            for k in range(n):\n",
      "                w[i, j] += u[i, k] * v[k, j]\n",
      "    return w"
     ],
     "language": "python",
     "metadata": {},
     "outputs": []
    },
    {
     "cell_type": "code",
     "collapsed": false,
     "input": [
      "u = np.reshape(np.arange(6), (2,3))\n",
      "v = np.reshape(np.arange(9), (3,3))\n",
      "\n",
      "np.testing.assert_array_almost_equal(mult(u, v), u.dot(v))"
     ],
     "language": "python",
     "metadata": {},
     "outputs": []
    },
    {
     "cell_type": "markdown",
     "metadata": {},
     "source": [
      "### Pairwise distance matrix"
     ]
    },
    {
     "cell_type": "code",
     "collapsed": false,
     "input": [
      "def dist(u, v):\n",
      "    n = len(u)\n",
      "    s = 0\n",
      "    for i in range(n):\n",
      "        s += (u[i] - v[i])**2\n",
      "    return np.sqrt(s)"
     ],
     "language": "python",
     "metadata": {},
     "outputs": []
    },
    {
     "cell_type": "code",
     "collapsed": false,
     "input": [
      "u = np.array([4,5])\n",
      "v = np.array([1,1])\n",
      "\n",
      "np.testing.assert_almost_equal(dist(u, v), np.linalg.norm(u-v))"
     ],
     "language": "python",
     "metadata": {},
     "outputs": []
    },
    {
     "cell_type": "code",
     "collapsed": false,
     "input": [
      "def pdist(vs, dist=dist):\n",
      "    n = len(vs)\n",
      "    m = np.zeros((n, n))\n",
      "    for i in range(n):\n",
      "        for j in range(n):\n",
      "            m[i, j] = dist(vs[i], vs[j])\n",
      "    return m"
     ],
     "language": "python",
     "metadata": {},
     "outputs": []
    },
    {
     "cell_type": "code",
     "collapsed": false,
     "input": [
      "from scipy.spatial.distance import squareform, pdist as sp_pdist\n",
      "\n",
      "vs = np.array([[0,0], [1,2], [2,3], [3,4]])\n",
      "\n",
      "np.testing.assert_array_almost_equal(pdist(vs), squareform(sp_pdist(vs)))"
     ],
     "language": "python",
     "metadata": {},
     "outputs": []
    },
    {
     "cell_type": "markdown",
     "metadata": {},
     "source": [
      "### Word count"
     ]
    },
    {
     "cell_type": "code",
     "collapsed": false,
     "input": [
      "import string\n",
      "\n",
      "def word_count(docs):\n",
      "    wc = {}\n",
      "    for doc in docs:\n",
      "        words = doc.translate(None, string.punctuation).split()\n",
      "        for word in words:\n",
      "            wc[word] = wc.get(word, 0) + 1\n",
      "    return wc"
     ],
     "language": "python",
     "metadata": {},
     "outputs": []
    },
    {
     "cell_type": "code",
     "collapsed": false,
     "input": [
      "docs = ['hello, there handsome!', 'hi, there, beautiful']\n",
      "\n",
      "word_count(docs)"
     ],
     "language": "python",
     "metadata": {},
     "outputs": []
    },
    {
     "cell_type": "code",
     "collapsed": false,
     "input": [],
     "language": "python",
     "metadata": {},
     "outputs": []
    }
   ],
   "metadata": {}
  }
 ]
}