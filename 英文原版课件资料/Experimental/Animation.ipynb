{
 "metadata": {
  "name": "",
  "signature": "sha256:500e6f63c6b06836e0efb34e7d0fd9169a2497eed7c14b3faf8073ce1bde8731"
 },
 "nbformat": 3,
 "nbformat_minor": 0,
 "worksheets": [
  {
   "cells": [
    {
     "cell_type": "code",
     "collapsed": false,
     "input": [
      "from __future__ import division\n",
      "import os\n",
      "import sys\n",
      "import glob\n",
      "import matplotlib.pyplot as plt\n",
      "import numpy as np\n",
      "import pandas as pd\n",
      "%matplotlib inline\n",
      "%precision 4\n",
      "plt.style.use('ggplot')\n"
     ],
     "language": "python",
     "metadata": {},
     "outputs": []
    },
    {
     "cell_type": "markdown",
     "metadata": {},
     "source": [
      "Most of the notebook is taken from <http://twiecki.github.io/blog/2014/01/02/visualizing-mcmc/>"
     ]
    },
    {
     "cell_type": "markdown",
     "metadata": {},
     "source": [
      "**Note**: You may need to get some necessary pacakges first."
     ]
    },
    {
     "cell_type": "markdown",
     "metadata": {},
     "source": [
      "! pip install -U git+git://github.com/jakevdp/JSAnimation &> /dev/null"
     ]
    },
    {
     "cell_type": "markdown",
     "metadata": {},
     "source": [
      "! pip install -U --no-deps git+https://github.com/theano/theano &> /dev/null"
     ]
    },
    {
     "cell_type": "markdown",
     "metadata": {},
     "source": [
      "You will aslo need to install `ffmpeg` - on Ubunutu this can be done with\n",
      "```\n",
      "sudo add-apt-repository ppa:jon-severinsson/ffmpeg\n",
      "sudo apt-get update\n",
      "sudo apt-get install ffmpeg\n",
      "sudo apt-get install frei0r-plugins\n",
      "```"
     ]
    },
    {
     "cell_type": "code",
     "collapsed": false,
     "input": [
      "from JSAnimation import IPython_display\n",
      "from matplotlib import animation"
     ],
     "language": "python",
     "metadata": {},
     "outputs": []
    },
    {
     "cell_type": "code",
     "collapsed": false,
     "input": [
      "import pymc3 as pm"
     ],
     "language": "python",
     "metadata": {},
     "outputs": []
    },
    {
     "cell_type": "code",
     "collapsed": false,
     "input": [
      "# Generate some data\n",
      "np.random.seed(124)\n",
      "size = 50\n",
      "true_intercept = 1\n",
      "true_slope = 1\n",
      "\n",
      "x = np.linspace(0, 1, size)\n",
      "y = true_intercept + x*true_slope + np.random.normal(scale=.2, size=size)\n",
      "\n",
      "data = dict(x=x, y=y)"
     ],
     "language": "python",
     "metadata": {},
     "outputs": []
    },
    {
     "cell_type": "code",
     "collapsed": false,
     "input": [
      "# Quickly hacked plotting code\n",
      "samples = 600\n",
      "fig = plt.figure(figsize=(6, 6))\n",
      "i_width = (true_intercept-.7, true_intercept+.7)\n",
      "s_width = (true_slope-.7, true_slope+.7)\n",
      "samples_width = (0, samples)\n",
      "ax1 = fig.add_subplot(221, xlim=i_width, ylim=samples_width)\n",
      "ax2 = fig.add_subplot(224, xlim=samples_width, ylim=s_width)\n",
      "ax3 = fig.add_subplot(223, xlim=i_width, ylim=s_width,\n",
      "                      xlabel='intercept',\n",
      "                      ylabel='slope')\n",
      "fig.subplots_adjust(wspace=0.0, hspace=0.0)\n",
      "line1, = ax1.plot([], [], lw=1)\n",
      "line2, = ax2.plot([], [], lw=1)\n",
      "line3, = ax3.plot([], [], 'o', lw=2, alpha=.1)\n",
      "line4, = ax3.plot([], [], lw=1, alpha=.3)\n",
      "line5, = ax3.plot([], [], 'k', lw=1)\n",
      "line6, = ax3.plot([], [], 'k', lw=1)\n",
      "ax1.set_xticklabels([])\n",
      "ax2.set_yticklabels([])\n",
      "#path = plt.scatter([], [])\n",
      "lines = [line1, line2, line3, line4, line5, line6]\n",
      "\n",
      "def init():\n",
      "    for line in lines:\n",
      "        line.set_data([], [])\n",
      "    return lines\n",
      "\n",
      "def animate(i):\n",
      "    with model:\n",
      "        if i == samples * .75:\n",
      "            for j in range(500): iter_sample.next() \n",
      "        trace = iter_sample.next()\n",
      "    line1.set_data(trace['Intercept'][::-1], range(len(trace['Intercept'])))\n",
      "    line2.set_data(range(len(trace['x'])), trace['x'][::-1])\n",
      "    line3.set_data(trace['Intercept'], trace['x'])\n",
      "    line4.set_data(trace['Intercept'], trace['x'])\n",
      "    intercept = trace['Intercept'][-1]\n",
      "    x = trace['x'][-1]\n",
      "    line5.set_data([intercept, intercept], [x, s_width[1]])\n",
      "    line6.set_data([intercept, i_width[1]], [x, x])\n",
      "    return lines"
     ],
     "language": "python",
     "metadata": {},
     "outputs": []
    },
    {
     "cell_type": "code",
     "collapsed": false,
     "input": [
      "with pm.Model() as model:\n",
      "    pm.glm.glm('y ~ x', data)\n",
      "    step = pm.Metropolis()\n",
      "    iter_sample = pm.iter_sample(samples+1000, step)\n",
      "\n",
      "animation.FuncAnimation(fig, animate, init_func=init,\n",
      "                        frames=samples, interval=5, blit=True)"
     ],
     "language": "python",
     "metadata": {},
     "outputs": []
    },
    {
     "cell_type": "code",
     "collapsed": false,
     "input": [
      "with pm.Model() as model:\n",
      "    pm.glm.glm('y ~ x', data)\n",
      "    step = pm.Slice()\n",
      "    iter_sample = pm.iter_sample(samples+1000, step)\n",
      "\n",
      "animation.FuncAnimation(fig, animate, init_func=init,\n",
      "                        frames=samples, interval=5, blit=True)"
     ],
     "language": "python",
     "metadata": {},
     "outputs": []
    },
    {
     "cell_type": "code",
     "collapsed": false,
     "input": [
      "with pm.Model() as model:\n",
      "    pm.glm.glm('y ~ x', data)\n",
      "    step = pm.NUTS()\n",
      "    iter_sample = pm.iter_sample(samples+1000, step)\n",
      "\n",
      "animation.FuncAnimation(fig, animate, init_func=init,\n",
      "                        frames=samples, interval=5, blit=True)"
     ],
     "language": "python",
     "metadata": {},
     "outputs": []
    },
    {
     "cell_type": "code",
     "collapsed": false,
     "input": [],
     "language": "python",
     "metadata": {},
     "outputs": []
    }
   ],
   "metadata": {}
  }
 ]
}