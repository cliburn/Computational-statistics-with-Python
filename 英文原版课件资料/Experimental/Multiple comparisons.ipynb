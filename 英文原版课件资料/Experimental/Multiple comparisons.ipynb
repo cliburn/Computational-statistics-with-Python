{
 "metadata": {
  "name": "",
  "signature": "sha256:bffae5cde8fc0838af033b67133a4b403114c7b4303baa3b17c2d46e34c69ae8"
 },
 "nbformat": 3,
 "nbformat_minor": 0,
 "worksheets": [
  {
   "cells": [
    {
     "cell_type": "code",
     "collapsed": false,
     "input": [
      "from __future__ import division\n",
      "import os\n",
      "import sys\n",
      "import glob\n",
      "import matplotlib.pyplot as plt\n",
      "import numpy as np\n",
      "import pandas as pd\n",
      "%matplotlib inline\n",
      "%precision 4\n",
      "plt.style.use('ggplot')\n"
     ],
     "language": "python",
     "metadata": {},
     "outputs": [],
     "prompt_number": 1
    },
    {
     "cell_type": "code",
     "collapsed": false,
     "input": [
      "import scipy.stats as st"
     ],
     "language": "python",
     "metadata": {},
     "outputs": [],
     "prompt_number": 2
    },
    {
     "cell_type": "code",
     "collapsed": false,
     "input": [
      "# np.set_printoptions(formatter={'float': lambda x: '%.4f' % x})"
     ],
     "language": "python",
     "metadata": {},
     "outputs": [],
     "prompt_number": 3
    },
    {
     "cell_type": "markdown",
     "metadata": {},
     "source": [
      "Background\n",
      "---\n",
      "\n",
      "We will make up some data - a tpical example is trying to identify genes that are differentially expressed in two groups of people, pehraps those who are helathy and those who are sick. For each gene, we can perform a t-test to see if the gene is differnetially expressed across the two groups at some nominal significanc level, typically 0.05. When we have many genes, this is unsatisfactory since 5% of the genes will be found to be differentially expressed just by chance.\n",
      "\n",
      "One possible solution is to use the family-wise error rate instead - most simply using the Bonferroni adjusted p-value. An alternative is to use the non-parmaetric method originally proposed by Young and Westfall that uses permuation resampling to estimate the adjusted p-value without the assumptions of independence that the Bonferroni method makes."
     ]
    },
    {
     "cell_type": "markdown",
     "metadata": {},
     "source": [
      "### Making up data for 100 genes across 1000 subjects"
     ]
    },
    {
     "cell_type": "code",
     "collapsed": false,
     "input": [
      "np.random.seed(52)\n",
      "\n",
      "ngenes = 100\n",
      "ncases = 500\n",
      "nctrls = 500\n",
      "nsamples = ncases + nctrls\n",
      "x = np.random.normal(0, 1, (ngenes, nsamples))\n",
      "\n",
      "# x = np.repeat(np.random.normal(0, 1, (1, nsamples)), nsamples, axis=0)\n",
      "\n",
      "target_genes = [5,15,25,35,45]\n",
      "x[target_genes, ncases:] += np.random.normal(1, 1, (len(target_genes), ncases))"
     ],
     "language": "python",
     "metadata": {},
     "outputs": [],
     "prompt_number": 4
    },
    {
     "cell_type": "markdown",
     "metadata": {},
     "source": [
      "### Unadjusted p-values"
     ]
    },
    {
     "cell_type": "code",
     "collapsed": false,
     "input": [
      "t, p0 = st.ttest_ind(x[:, :ncases], x[:, ncases:], axis=1)\n",
      "idx = p0 < 0.05\n",
      "zip(np.nonzero(idx)[0], p0[idx])"
     ],
     "language": "python",
     "metadata": {},
     "outputs": [
      {
       "metadata": {},
       "output_type": "pyout",
       "prompt_number": 5,
       "text": [
        "[(0, 0.0119),\n",
        " (5, 0.0000),\n",
        " (10, 0.0368),\n",
        " (15, 0.0000),\n",
        " (25, 0.0000),\n",
        " (33, 0.0117),\n",
        " (35, 0.0000),\n",
        " (36, 0.0144),\n",
        " (39, 0.0247),\n",
        " (44, 0.0051),\n",
        " (45, 0.0000),\n",
        " (68, 0.0253),\n",
        " (97, 0.0366)]"
       ]
      }
     ],
     "prompt_number": 5
    },
    {
     "cell_type": "markdown",
     "metadata": {},
     "source": [
      "### Bonferroni"
     ]
    },
    {
     "cell_type": "code",
     "collapsed": false,
     "input": [
      "p1 = np.clip(len(p0) * p0, 0, 1)\n",
      "idx = p1 < 0.05\n",
      "zip(np.nonzero(idx)[0], p1[idx])"
     ],
     "language": "python",
     "metadata": {},
     "outputs": [
      {
       "metadata": {},
       "output_type": "pyout",
       "prompt_number": 6,
       "text": [
        "[(5, 0.0000), (15, 0.0000), (25, 0.0000), (35, 0.0000), (45, 0.0000)]"
       ]
      }
     ],
     "prompt_number": 6
    },
    {
     "cell_type": "markdown",
     "metadata": {},
     "source": [
      "### Westfall and Young (Permutation-resampling based family-wise error rate)"
     ]
    },
    {
     "cell_type": "code",
     "collapsed": false,
     "input": [
      "nperms = 10000\n",
      "k = ngenes\n",
      "\n",
      "counts = np.zeros((nperms, k))\n",
      "ranks = np.argsort(np.abs(t))[::-1]\n",
      "for i in range(nperms):\n",
      "    u = np.zeros(k)\n",
      "    sidx = np.random.permutation(nsamples)\n",
      "    y = x[:, sidx]\n",
      "    tb, pb = st.ttest_ind(y[:, :ncases], y[:, ncases:], axis=1)\n",
      "    u[k-1] = np.abs(tb[ranks[k-1]])\n",
      "    for j in range(k-2, -1, -1):\n",
      "        u[j] = max(u[j+1], np.abs(tb[ranks[j]]))\n",
      "    counts[i] = (u >= np.abs(t[ranks]))\n",
      "\n",
      "p2 = np.sum(counts, axis=0)/nperms\n",
      "for i in range(1, k):\n",
      "    p2[i] = max(p2[i],p2[i-1])\n",
      "idx = p2 < 0.05\n",
      "zip(ranks, p2[idx])"
     ],
     "language": "python",
     "metadata": {},
     "outputs": [
      {
       "metadata": {},
       "output_type": "pyout",
       "prompt_number": 7,
       "text": [
        "[(15, 0.0000), (45, 0.0000), (35, 0.0000), (25, 0.0000), (5, 0.0000)]"
       ]
      }
     ],
     "prompt_number": 7
    },
    {
     "cell_type": "code",
     "collapsed": false,
     "input": [
      "plt.plot(sorted(p0), label='No correction')\n",
      "plt.plot(sorted(p1), label='Bonferroni')\n",
      "plt.plot(sorted(p2), label='Westfall-Young')\n",
      "plt.ylim([0,1])\n",
      "plt.legend(loc='best');"
     ],
     "language": "python",
     "metadata": {},
     "outputs": [
      {
       "metadata": {},
       "output_type": "display_data",
       "png": "[encoded data removed]",
       "text": [
        "<matplotlib.figure.Figure at 0x112053310>"
       ]
      }
     ],
     "prompt_number": 8
    },
    {
     "cell_type": "markdown",
     "metadata": {},
     "source": [
      "### What if genes are correlated?\n",
      "\n",
      "The Bonferrroni assumes that tests are independent. However, often test resutls are strongly correlated (e.g. genes in the same pathway behave similalry) and the Bonferroni will be too conservative. However the permuation-resampling method still works in the presence of correaltions."
     ]
    },
    {
     "cell_type": "code",
     "collapsed": false,
     "input": [
      "np.random.seed(52)\n",
      "\n",
      "ngenes = 100\n",
      "ncases = 500\n",
      "nctrls = 500\n",
      "nsamples = ncases + nctrls\n",
      "\n",
      "x = np.repeat(np.random.normal(0, 1, (1, nsamples)), ngenes, axis=0)"
     ],
     "language": "python",
     "metadata": {},
     "outputs": [],
     "prompt_number": 9
    },
    {
     "cell_type": "code",
     "collapsed": false,
     "input": [
      "# In this extreme case, we measure the same gene 100 times\n",
      "x[:5, :5]"
     ],
     "language": "python",
     "metadata": {},
     "outputs": [
      {
       "metadata": {},
       "output_type": "pyout",
       "prompt_number": 10,
       "text": [
        "array([[ 0.5195, -1.2688,  0.2404, -0.804 ,  0.0173],\n",
        "       [ 0.5195, -1.2688,  0.2404, -0.804 ,  0.0173],\n",
        "       [ 0.5195, -1.2688,  0.2404, -0.804 ,  0.0173],\n",
        "       [ 0.5195, -1.2688,  0.2404, -0.804 ,  0.0173],\n",
        "       [ 0.5195, -1.2688,  0.2404, -0.804 ,  0.0173]])"
       ]
      }
     ],
     "prompt_number": 10
    },
    {
     "cell_type": "markdown",
     "metadata": {},
     "source": [
      "### Unadjusted p-values"
     ]
    },
    {
     "cell_type": "code",
     "collapsed": false,
     "input": [
      "t, p0 = st.ttest_ind(x[:, :ncases], x[:, ncases:], axis=1)\n",
      "idx = p0 < 0.05\n",
      "print 'Minimum p-value', p0.min(), '# significant', idx.sum()"
     ],
     "language": "python",
     "metadata": {},
     "outputs": [
      {
       "output_type": "stream",
       "stream": "stdout",
       "text": [
        "Minimum p-value 0.0119317780363 # significant 100\n"
       ]
      }
     ],
     "prompt_number": 11
    },
    {
     "cell_type": "markdown",
     "metadata": {},
     "source": [
      "### Bonferroni\n",
      "\n",
      "Bonferroni tells us none of the adjusted p-values are significant, which we know is the wrong answer."
     ]
    },
    {
     "cell_type": "code",
     "collapsed": false,
     "input": [
      "p1 = np.clip(len(p0) * p0, 0, 1)\n",
      "idx = p1 < 0.05\n",
      "print 'Minimum p-value', p1.min(), '# significant', idx.sum()"
     ],
     "language": "python",
     "metadata": {},
     "outputs": [
      {
       "output_type": "stream",
       "stream": "stdout",
       "text": [
        "Minimum p-value 1.0 # significant 0\n"
       ]
      }
     ],
     "prompt_number": 12
    },
    {
     "cell_type": "markdown",
     "metadata": {},
     "source": [
      "### Westfall and Young (Permutation-resampling based family-wise error rate)\n",
      "\n",
      "This tells us that every gene is significant, which is the correct answer."
     ]
    },
    {
     "cell_type": "code",
     "collapsed": false,
     "input": [
      "nperms = 10000\n",
      "\n",
      "counts = np.zeros((nperms, k))\n",
      "ranks = np.argsort(np.abs(t))[::-1]\n",
      "for i in range(nperms):\n",
      "    u = np.zeros(k)\n",
      "    sidx = np.random.permutation(nsamples)\n",
      "    y = x[:, sidx]\n",
      "    tb, pb = st.ttest_ind(y[:, :ncases], y[:, ncases:], axis=1)\n",
      "    u[k-1] = np.abs(tb[ranks[k-1]])\n",
      "    for j in range(k-2, -1, -1):\n",
      "        u[j] = max(u[j+1], np.abs(tb[ranks[j]]))\n",
      "    counts[i] = (u >= np.abs(t[ranks]))\n",
      "\n",
      "p2 = np.sum(counts, axis=0)/nperms\n",
      "for i in range(1, k):\n",
      "    p2[i] = max(p2[i],p2[i-1])\n",
      "idx = p2 < 0.05\n",
      "    \n",
      "print 'Minimum p-value', p2.min(), '# significant', idx.sum()"
     ],
     "language": "python",
     "metadata": {},
     "outputs": [
      {
       "output_type": "stream",
       "stream": "stdout",
       "text": [
        "Minimum p-value 0.0118 # significant 100\n"
       ]
      }
     ],
     "prompt_number": 13
    },
    {
     "cell_type": "code",
     "collapsed": false,
     "input": [
      "plt.plot(sorted(p1), label='Bonferroni')\n",
      "plt.plot(sorted(p2), label='Westfall-Young')\n",
      "plt.ylim([-0.05,1.05])\n",
      "plt.legend(loc='best');"
     ],
     "language": "python",
     "metadata": {},
     "outputs": [
      {
       "metadata": {},
       "output_type": "display_data",
       "png": "[encoded data removed]",
       "text": [
        "<matplotlib.figure.Figure at 0x1145d17d0>"
       ]
      }
     ],
     "prompt_number": 18
    },
    {
     "cell_type": "code",
     "collapsed": false,
     "input": [],
     "language": "python",
     "metadata": {},
     "outputs": []
    }
   ],
   "metadata": {}
  }
 ]
}