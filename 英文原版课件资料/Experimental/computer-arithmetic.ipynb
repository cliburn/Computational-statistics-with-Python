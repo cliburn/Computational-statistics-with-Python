{
 "metadata": {
  "name": "",
  "signature": "sha256:82ac3d4345a35ff4e6822747cce6b5fdf0ddea4436f4c00b6d7a986204a76193"
 },
 "nbformat": 3,
 "nbformat_minor": 0,
 "worksheets": [
  {
   "cells": [
    {
     "cell_type": "code",
     "collapsed": false,
     "input": [
      "import os\n",
      "import sys\n",
      "import glob\n",
      "import matplotlib.pyplot as plt\n",
      "import numpy as np\n",
      "import pandas as pd\n",
      "%matplotlib inline\n",
      "%precision 4\n"
     ],
     "language": "python",
     "metadata": {},
     "outputs": [
      {
       "metadata": {},
       "output_type": "pyout",
       "prompt_number": 1,
       "text": [
        "u'%.4f'"
       ]
      }
     ],
     "prompt_number": 1
    },
    {
     "cell_type": "markdown",
     "metadata": {},
     "source": [
      "Outline\n",
      "----\n",
      "\n",
      "- Computer numbers are imperfect models of mathematical numbers\n",
      "    - associative law does not hold\n",
      "    - distributive law does not hold\n",
      "    - range is finite\n",
      "    - \"gap\" between numbers is finite\n",
      "    - \"gap\" between numbers varies wuth ize of numbers\n",
      "- Motivation\n",
      "    - Variance is negative\n",
      "    - Tail probaility of logistic $1 - F(t) = 1 - (1+e^{-1})^{-1}$\n",
      "    - Likelihood is zero\n",
      "    - $\\log(1+x)$ and $e^x - 1$\n",
      "    - inner product of large vectors\n",
      "    - infinite loop from testing for equality\n",
      "- Types of numbers\n",
      "    - Integers\n",
      "    - Fixed point\n",
      "    - Floating point\n",
      "- Absolute and relative error\n",
      "- Representation of numbers\n",
      "    - 2's complement for integers (no overflow for Python)\n",
      "    - (S, E, F) for floating point\n",
      "        - IEEE standard (+/-oo and NaN)\n",
      "    - Min and max numbers\n",
      "    - Precision - machine epsilon and Unit\n",
      "- Integers\n",
      "    - Integer division discards fractional remainder\n",
      "        - ```from __future__ import division```\n",
      "- Floating point\n",
      "    - Catastrophic cancellation\n",
      "    - Overflow and underflow\n",
      "    - Accumulated rounoff errors\n",
      "    - Rules of thumb\n",
      "        - Associative law\n",
      "            - add numbers of like magnitude together\n",
      "            - add small numbers before big ones\n",
      "        - Catastrophic cancellation\n",
      "            - Rework expression\n",
      "                - Avoid subtracting two numbers of similar magnitude\n",
      "                - Use series approximation\n",
      "                - Use provided functions `log1p`, `expm1`\n",
      "                - Work in log space for likelihoods\n",
      "                - Use multi-precision library if absolutely necessary (slow)\n",
      "- Conditioning\n",
      "    - Definition\n",
      "    - |x f'(x)/f(x)|\n",
      "    - For matrices with L2 norm\n",
      "    - Property of problem\n",
      "    - Approaches\n",
      "        - Pre-conditioning\n",
      "        - Regularization\n",
      "- Stability\n",
      "    - Property of algorithm\n",
      "        - alogrithm calculuates a solution\n",
      "        - how close is this solution to the true solution?\n",
      "    - Pivoting in Gaussian elimination\n",
      "    - Roots of quadratic equation\n",
      "    - Approaches\n",
      "        - Use better algorithm\n",
      "        - Use high quality library rather than roll-your-own\n",
      "        - Defensive programming and testing"
     ]
    },
    {
     "cell_type": "markdown",
     "metadata": {},
     "source": [
      "Motivating examples\n",
      "----"
     ]
    },
    {
     "cell_type": "markdown",
     "metadata": {},
     "source": [
      "### Normalizing weights\n",
      "\n",
      "Given a set of weights, we want to nromalize them so that the sum = 1."
     ]
    },
    {
     "cell_type": "code",
     "collapsed": false,
     "input": [
      "def normalize(ws):\n",
      "    \"\"\"Returns normalized set of weights that sum to 1.\"\"\"\n",
      "    s = sum(ws)\n",
      "    return [w/s for w in ws]"
     ],
     "language": "python",
     "metadata": {},
     "outputs": [],
     "prompt_number": 15
    },
    {
     "cell_type": "code",
     "collapsed": false,
     "input": [
      "ws = [1,2,3,4,5]\n",
      "normalize(ws)"
     ],
     "language": "python",
     "metadata": {},
     "outputs": [
      {
       "metadata": {},
       "output_type": "pyout",
       "prompt_number": 3,
       "text": [
        "[0, 0, 0, 0, 0]"
       ]
      }
     ],
     "prompt_number": 3
    },
    {
     "cell_type": "markdown",
     "metadata": {},
     "source": [
      "### Equality comparisons\n",
      "\n",
      "We want an equality condition to exit some loop."
     ]
    },
    {
     "cell_type": "code",
     "collapsed": false,
     "input": [
      "s = 0.0\n",
      "\n",
      "for i in range(1000):\n",
      "    s += 1.0/10.0\n",
      "    if s == 1.0:\n",
      "        break\n",
      "print i"
     ],
     "language": "python",
     "metadata": {},
     "outputs": [
      {
       "output_type": "stream",
       "stream": "stdout",
       "text": [
        "999\n"
       ]
      }
     ],
     "prompt_number": 17
    },
    {
     "cell_type": "markdown",
     "metadata": {},
     "source": [
      "### Comparing likleihoods\n",
      "\n",
      "Assuming indepdnece, the likelihood of observing some data points given a distributional model for each data point is the product of the likelihood for each data point."
     ]
    },
    {
     "cell_type": "code",
     "collapsed": false,
     "input": [
      "from scipy.stats import norm\n",
      "\n",
      "rv1 = norm(0, 1)\n",
      "rv2 = norm(0, 3)\n",
      "\n",
      "xs = np.random.normal(0, 3, 1000)\n",
      "likelihood1 = np.prod(rv1.pdf(xs))\n",
      "likelihood2 = np.prod(rv2.pdf(xs))\n",
      "likelihood2 > likelihood1"
     ],
     "language": "python",
     "metadata": {},
     "outputs": [
      {
       "metadata": {},
       "output_type": "pyout",
       "prompt_number": 4,
       "text": [
        "False"
       ]
      }
     ],
     "prompt_number": 4
    },
    {
     "cell_type": "markdown",
     "metadata": {},
     "source": [
      "### Calculating variance\n",
      "\n",
      "Statistical formulas given by textbooks often include terms that involve the differnece between two potentially nearly equal large numbers. This is seen in classic formulas for variance, linear regression and Pearson's correlation coefficient calculations. For example, one way to define sample variance is:\n",
      "\n",
      "$$\n",
      "s^2 = \\frac{\\sum_{i=1}^{n} x_i^2 - (\\sum_{i=1}^n x_i)^2/n}{n-1}\n",
      "$$"
     ]
    },
    {
     "cell_type": "code",
     "collapsed": false,
     "input": [
      "def var(xs):\n",
      "    \"\"\"Returns variance of sample data.\"\"\"\n",
      "    n = 0\n",
      "    s = 0\n",
      "    ss = 0\n",
      "    \n",
      "    for x in xs:\n",
      "        n +=1\n",
      "        s += x\n",
      "        ss += x*x\n",
      "\n",
      "    v = (ss - (s*s)/n)/(n-1)\n",
      "    return v"
     ],
     "language": "python",
     "metadata": {},
     "outputs": [],
     "prompt_number": 5
    },
    {
     "cell_type": "code",
     "collapsed": false,
     "input": [
      "# What is the sample variance for numbers from a normal distribution with variance 1?\n",
      "np.random.seed(4)\n",
      "xs = np.random.normal(1e9, 1, 1000)\n",
      "var(xs)"
     ],
     "language": "python",
     "metadata": {},
     "outputs": [
      {
       "metadata": {},
       "output_type": "pyout",
       "prompt_number": 6,
       "text": [
        "-262.4064"
       ]
      }
     ],
     "prompt_number": 6
    },
    {
     "cell_type": "markdown",
     "metadata": {},
     "source": [
      "Using arbitrary precision libraries\n",
      "----\n",
      "\n",
      "If you need precision more than speed (e.g. your code is likely to underflow or overflow otherwise and you cannot find or don't want to use a workaround), Python has support for arbitrary precison mathematics via \n",
      "\n",
      "- [The mpmath package](http://mpmath.org)\n",
      "- [The gmpy2 package](https://pypi.python.org/pypi/gmpy2)\n",
      "\n",
      "both of which can be installed via pip\n",
      "```bash\n",
      "pip install gmpy2\n",
      "pip install mpmath\n",
      "```\n",
      "\n",
      "These packages allow you to set the precsion of numbers used in calculations. Refer to the documentation if you need to use these libraries."
     ]
    },
    {
     "cell_type": "code",
     "collapsed": false,
     "input": [],
     "language": "python",
     "metadata": {},
     "outputs": []
    }
   ],
   "metadata": {}
  }
 ]
}