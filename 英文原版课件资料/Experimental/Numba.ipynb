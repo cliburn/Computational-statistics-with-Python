{
 "metadata": {
  "name": "",
  "signature": "sha256:5f8d97b4b2e67ec69be754f8cd09efe7eb862ab21dd2a3934c37d208dbc1be4f"
 },
 "nbformat": 3,
 "nbformat_minor": 0,
 "worksheets": [
  {
   "cells": [
    {
     "cell_type": "code",
     "collapsed": false,
     "input": [
      "import numpy as np"
     ],
     "language": "python",
     "metadata": {},
     "outputs": [],
     "prompt_number": 1
    },
    {
     "cell_type": "code",
     "collapsed": false,
     "input": [
      "from numbapro import jit, vectorize, guvectorize, float32, float64, int32, int64"
     ],
     "language": "python",
     "metadata": {},
     "outputs": [],
     "prompt_number": 2
    },
    {
     "cell_type": "markdown",
     "metadata": {},
     "source": [
      "### Universal functions (Ufuncs)"
     ]
    },
    {
     "cell_type": "markdown",
     "metadata": {},
     "source": [
      "Suppose we want to write a vectorized function to calcuate the percent error given two vectors. While this is automatically done in numpy, using the `vectorize` decorator of numba results in a 3-fold speedup."
     ]
    },
    {
     "cell_type": "code",
     "collapsed": false,
     "input": [
      "@vectorize(['float32(float32, float32)', 'float64(float64, float64)'], target='cpu')\n",
      "def numba_percentage_error(x0, x):\n",
      "    \"\"\"x is true value, x0 is measured value.\"\"\"\n",
      "    return 100 * (x0 - x)/x"
     ],
     "language": "python",
     "metadata": {},
     "outputs": [],
     "prompt_number": 3
    },
    {
     "cell_type": "code",
     "collapsed": false,
     "input": [
      "@vectorize(['float32(float32, float32)', 'float64(float64, float64)'], target='gpu')\n",
      "def numba_gpu_percentage_error(x0, x):\n",
      "    \"\"\"x is true value, x0 is measured value.\"\"\"\n",
      "    return 100 * (x0 - x)/x"
     ],
     "language": "python",
     "metadata": {},
     "outputs": [],
     "prompt_number": 4
    },
    {
     "cell_type": "code",
     "collapsed": false,
     "input": [
      "def numpy_percentage_error(x0, x):\n",
      "    return 100 * (x0 - x)/x"
     ],
     "language": "python",
     "metadata": {},
     "outputs": [],
     "prompt_number": 5
    },
    {
     "cell_type": "code",
     "collapsed": false,
     "input": [
      "n = 1e8\n",
      "x0 = np.random.normal(1, 1, n)\n",
      "x = np.ones(n)"
     ],
     "language": "python",
     "metadata": {},
     "outputs": [],
     "prompt_number": 6
    },
    {
     "cell_type": "code",
     "collapsed": false,
     "input": [
      "%timeit numpy_percentage_error(x0, x)\n",
      "%timeit numba_percentage_error(x0, x)\n",
      "%timeit numba_gpu_percentage_error(x0, x)"
     ],
     "language": "python",
     "metadata": {},
     "outputs": [
      {
       "output_type": "stream",
       "stream": "stdout",
       "text": [
        "1 loops, best of 3: 4 s per loop\n",
        "1 loops, best of 3: 1.5 s per loop"
       ]
      },
      {
       "output_type": "stream",
       "stream": "stdout",
       "text": [
        "\n",
        "1 loops, best of 3: 2.15 s per loop"
       ]
      },
      {
       "output_type": "stream",
       "stream": "stdout",
       "text": [
        "\n"
       ]
      }
     ],
     "prompt_number": 7
    },
    {
     "cell_type": "markdown",
     "metadata": {},
     "source": [
      "### Generalized Ufuncs"
     ]
    },
    {
     "cell_type": "markdown",
     "metadata": {},
     "source": [
      "Generalized Ufuncs generalize the vectorization from scalars to arrays. For example, suppose we want a matrix multiply function that works on collections of matrices."
     ]
    },
    {
     "cell_type": "code",
     "collapsed": false,
     "input": [
      "def numpy_mm(a, b, c):\n",
      "    c[:] = 0\n",
      "    for i in range(len(c)):\n",
      "        c[i] = np.dot(a[i], b[i])"
     ],
     "language": "python",
     "metadata": {},
     "outputs": [],
     "prompt_number": 8
    },
    {
     "cell_type": "code",
     "collapsed": false,
     "input": [
      "@guvectorize(['void(float64[:,:], float64[:,:], float64[:,:])'],\n",
      "              \"(m,n), (n,p)->(m,p)\", target='cpu')\n",
      "def numba_mm(a, b, c):\n",
      "    assert(a.shape[1] == b.shape[0])\n",
      "    c[:] = 0\n",
      "    m, n = a.shape\n",
      "    n, p = b.shape\n",
      "    for i in range(m):\n",
      "        for j in range(p):\n",
      "            for k in range(n):\n",
      "                c[i, j] += a[i, k] * b[k, j]"
     ],
     "language": "python",
     "metadata": {},
     "outputs": [],
     "prompt_number": 9
    },
    {
     "cell_type": "code",
     "collapsed": false,
     "input": [
      "@guvectorize(['void(float32[:,:], float32[:,:], float32[:,:])'],\n",
      "              \"(m,n),(n,p)->(m,p)\", target='gpu')\n",
      "def numba_gpu_mm(a, b, c):\n",
      "    assert(a.shape[1] == b.shape[0])\n",
      "    c[:] = 0\n",
      "    m, n = a.shape\n",
      "    n, p = b.shape\n",
      "    for i in range(m):\n",
      "        for j in range(p):\n",
      "            for k in range(n):\n",
      "                c[i, j] += a[i, k] * b[k, j]"
     ],
     "language": "python",
     "metadata": {},
     "outputs": [],
     "prompt_number": 25
    },
    {
     "cell_type": "code",
     "collapsed": false,
     "input": [
      "k = 1000\n",
      "m = 10\n",
      "n = 20\n",
      "p = 30\n",
      "a = np.random.random((k,m,n)).astype(np.float32)\n",
      "b = np.random.random((k,n,p)).astype(np.float32)\n",
      "c = np.zeros((k,m,p)).astype(np.float32)"
     ],
     "language": "python",
     "metadata": {},
     "outputs": [],
     "prompt_number": 26
    },
    {
     "cell_type": "code",
     "collapsed": false,
     "input": [
      "numba_gpu_mm(a, b, c)"
     ],
     "language": "python",
     "metadata": {},
     "outputs": [
      {
       "ename": "TypeError",
       "evalue": "invalid number of input argument",
       "output_type": "pyerr",
       "traceback": [
        "\u001b[0;31m---------------------------------------------------------------------------\u001b[0m\n\u001b[0;31mTypeError\u001b[0m                                 Traceback (most recent call last)",
        "\u001b[0;32m<ipython-input-27-1b1991aceb4e>\u001b[0m in \u001b[0;36m<module>\u001b[0;34m()\u001b[0m\n\u001b[0;32m----> 1\u001b[0;31m \u001b[0mnumba_gpu_mm\u001b[0m\u001b[0;34m(\u001b[0m\u001b[0ma\u001b[0m\u001b[0;34m,\u001b[0m \u001b[0mb\u001b[0m\u001b[0;34m,\u001b[0m \u001b[0mc\u001b[0m\u001b[0;34m)\u001b[0m\u001b[0;34m\u001b[0m\u001b[0m\n\u001b[0m",
        "\u001b[0;32m/Users/cliburn/anaconda/lib/python2.7/site-packages/numbapro/cudavec/dispatch.pyc\u001b[0m in \u001b[0;36m__call__\u001b[0;34m(self, *args, **kws)\u001b[0m\n",
        "\u001b[0;32m/Users/cliburn/anaconda/lib/python2.7/site-packages/numbapro/cudavec/vectorizers.pyc\u001b[0m in \u001b[0;36mschedule\u001b[0;34m(self, ishapes)\u001b[0m\n",
        "\u001b[0;31mTypeError\u001b[0m: invalid number of input argument"
       ]
      }
     ],
     "prompt_number": 27
    },
    {
     "cell_type": "code",
     "collapsed": false,
     "input": [
      "%timeit numpy_mm(a, b, c)\n",
      "%timeit numba_mm(a, b, c)\n",
      "%timeit numba_gpu_mm(a, b, c)"
     ],
     "language": "python",
     "metadata": {},
     "outputs": [
      {
       "output_type": "stream",
       "stream": "stdout",
       "text": [
        "100 loops, best of 3: 10.8 ms per loop\n",
        "100 loops, best of 3: 19.9 ms per loop"
       ]
      },
      {
       "output_type": "stream",
       "stream": "stdout",
       "text": [
        "\n",
        "100 loops, best of 3: 8.16 ms per loop"
       ]
      },
      {
       "output_type": "stream",
       "stream": "stdout",
       "text": [
        "\n"
       ]
      }
     ],
     "prompt_number": 24
    },
    {
     "cell_type": "code",
     "collapsed": false,
     "input": [],
     "language": "python",
     "metadata": {},
     "outputs": []
    }
   ],
   "metadata": {}
  }
 ]
}