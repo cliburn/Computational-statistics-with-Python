{
 "metadata": {
  "name": "",
  "signature": "sha256:b7df837ad153a21f965c92ed05016d297dbaebdd53704a39be84084bb9f1ad7b"
 },
 "nbformat": 3,
 "nbformat_minor": 0,
 "worksheets": [
  {
   "cells": [
    {
     "cell_type": "code",
     "collapsed": false,
     "input": [
      "from operator import itemgetter\n",
      "\n",
      "def radix_sort_int(xs):\n",
      "    \"\"\"Sort xs using radix-sort.\"\"\"\n",
      "\n",
      "    # split numbers into component digits\n",
      "    xs = map(str, xs)\n",
      "    width = max(map(len, xs))\n",
      "    xs = [x.zfill(width) for x in xs]\n",
      "    xs = map(list, xs)\n",
      "\n",
      "    # perform radix-sort\n",
      "    for i in range(width):\n",
      "        xs = sorted(xs, key=itemgetter(-(i+1)))\n",
      "\n",
      "    # convert back to numpy array of ints\n",
      "    return map(int, [''.join(x) for x in xs])"
     ],
     "language": "python",
     "metadata": {},
     "outputs": [],
     "prompt_number": 8
    },
    {
     "cell_type": "code",
     "collapsed": false,
     "input": [
      "import random\n",
      "\n",
      "random.seed(1)\n",
      "xs = [random.randint(0,1000) for i in range(100)]\n",
      "\n",
      "print(xs)\n",
      "print\n",
      "print(radix_sort_int(xs))"
     ],
     "language": "python",
     "metadata": {},
     "outputs": [
      {
       "output_type": "stream",
       "stream": "stdout",
       "text": [
        "[134, 848, 764, 255, 495, 449, 652, 789, 93, 28, 836, 433, 763, 2, 445, 722, 228, 946, 902, 30, 25, 541, 940, 381, 216, 422, 29, 221, 438, 496, 233, 231, 218, 460, 290, 21, 838, 557, 642, 186, 993, 860, 121, 333, 722, 711, 937, 422, 830, 670, 303, 588, 883, 847, 505, 589, 34, 242, 798, 414, 173, 549, 703, 675, 375, 439, 508, 779, 521, 393, 490, 29, 43, 704, 984, 593, 393, 170, 502, 983, 771, 540, 861, 232, 514, 953, 578, 459, 269, 548, 958, 5, 784, 821, 887, 741, 809, 519, 561, 426]\n",
        "\n",
        "[2, 5, 21, 25, 28, 29, 29, 30, 34, 43, 93, 121, 134, 170, 173, 186, 216, 218, 221, 228, 231, 232, 233, 242, 255, 269, 290, 303, 333, 375, 381, 393, 393, 414, 422, 422, 426, 433, 438, 439, 445, 449, 459, 460, 490, 495, 496, 502, 505, 508, 514, 519, 521, 540, 541, 548, 549, 557, 561, 578, 588, 589, 593, 642, 652, 670, 675, 703, 704, 711, 722, 722, 741, 763, 764, 771, 779, 784, 789, 798, 809, 821, 830, 836, 838, 847, 848, 860, 861, 883, 887, 902, 937, 940, 946, 953, 958, 983, 984, 993]\n"
       ]
      }
     ],
     "prompt_number": 10
    }
   ],
   "metadata": {}
  }
 ]
}