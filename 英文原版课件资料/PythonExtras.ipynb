{
 "metadata": {
  "name": "",
  "signature": "sha256:f4efc881baf22f422409b740d898632ef27f9ceed9dfb2c279c72b49f7144cb1"
 },
 "nbformat": 3,
 "nbformat_minor": 0,
 "worksheets": [
  {
   "cells": [
    {
     "cell_type": "markdown",
     "metadata": {},
     "source": [
      "Classes\n",
      "----\n",
      "\n",
      "A class (or object) bundles data (known as attributes) and functions (known as methods) together. We access the attributes and mehtods of a class using the '.' notation. Since everything in Python is an object, we have already been using this attribute acccess - e.g. when we call `'hello'.upper()`, we are using the `upper` method of the instance `'hello'` of the `string` class.\n",
      "\n",
      "The creation of custom classes will not be covered in this course."
     ]
    },
    {
     "cell_type": "code",
     "collapsed": false,
     "input": [],
     "language": "python",
     "metadata": {},
     "outputs": []
    },
    {
     "cell_type": "markdown",
     "metadata": {},
     "source": [
      "Modules\n",
      "----\n",
      "\n",
      "As the code base gets larger, it is convenient to organize them as *moudles* or packages. At the simplest level, modules can just be regular python files. We import functions in modules using one of the following `import` variants:\n",
      "\n",
      "```python\n",
      "import numpy\n",
      "import numpy as np # using an alias\n",
      "import numpy.linalg as la # modules can have submodules\n",
      "from numpy import sin, cos, tan # bring trig functions into global namespace\n",
      "from numpy import * # frowned upon because it pollutes the namespace\n",
      "```"
     ]
    },
    {
     "cell_type": "markdown",
     "metadata": {},
     "source": [
      "The standard library\n",
      "----\n",
      "\n",
      "Python comes with \"batteries included\", with a diverse collection of functionality available in standard library moduules and functions. \n",
      "\n",
      "**References**\n",
      "\n",
      "- [Standard library docs](https://docs.python.org/2/library/)\n",
      "- [Python Module of the Week](http://pymotw.com/2/contents.html) gives examples of usage."
     ]
    },
    {
     "cell_type": "markdown",
     "metadata": {},
     "source": [
      "### Installing additional modules \n",
      "\n",
      "Most of the time, we can use the `pip` package manager to install and uninstall modules for us. In general, all that is needed is to issue the command\n",
      "```bash\n",
      "pip install <packagename>\n",
      "```\n",
      "at the command line or\n",
      "```python\n",
      "! pip install <packagename>\n",
      "```\n",
      "from within an IPython notebook.\n",
      "\n",
      "Pakcage that can be installed using `pip` are listed in the [Python Package Index (PyPI)](https://pypi.python.org/pypi). \n",
      "\n",
      "Pip documentation is at <https://pip.pypa.io/en/latest/>."
     ]
    },
    {
     "cell_type": "markdown",
     "metadata": {},
     "source": [
      "Keeping the Anaconda distributoin up-to-date\n",
      "----\n",
      "\n",
      "Just issue\n",
      "```bash\n",
      "conda update conda\n",
      "conda update anaconda\n",
      "```\n",
      "at the command line.\n",
      "\n",
      "Note that `conda` can do [much, much, more](http://conda.pydata.org/docs/index.html)."
     ]
    },
    {
     "cell_type": "code",
     "collapsed": false,
     "input": [],
     "language": "python",
     "metadata": {},
     "outputs": []
    }
   ],
   "metadata": {}
  }
 ]
}