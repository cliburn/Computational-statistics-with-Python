{
 "cells": [
  {
   "cell_type": "markdown",
   "metadata": {},
   "source": [
    "Modules and Packaging\n",
    "====\n",
    "\n",
    "At some point, you will want to organize and distribute your code library for the whole world to share, preferably on PyPI so that it is pip installable."
   ]
  },
  {
   "cell_type": "markdown",
   "metadata": {},
   "source": [
    "## Modules\n",
    "\n",
    "In Pythoh, any `.py` file is a module in that it can be imported. Because the interpreter runs the entrie file when a moudle is imported, it is traditional to use a guard to ignore code that should only run when the file is executed as a script."
   ]
  },
  {
   "cell_type": "code",
   "execution_count": 46,
   "metadata": {
    "collapsed": false
   },
   "outputs": [
    {
     "name": "stdout",
     "output_type": "stream",
     "text": [
      "Overwriting foo.py\n"
     ]
    }
   ],
   "source": [
    "%%file foo.py\n",
    "\"\"\"\n",
    "When this file is imported with `import foo`,\n",
    "only `useful_func1()` and `useful_func()` are loaded, \n",
    "and the test code `assert ...` is ignored. However,\n",
    "when we run foo.py as a script `python foo.py`, then\n",
    "the two assert statements are run.\n",
    "Most commonly, the code under `if __naem__ == '__main__':`\n",
    "consists of simple examples or test cases for the functions\n",
    "defined in the moule.\n",
    "\"\"\"\n",
    "\n",
    "def useful_func1():\n",
    "    pass\n",
    "\n",
    "def useful_fucn2():\n",
    "    pass\n",
    "\n",
    "if __name__ == '__main__':\n",
    "    assert(useful_func1() is None)\n",
    "    assert(useful_fucn2() is None)"
   ]
  },
  {
   "cell_type": "markdown",
   "metadata": {},
   "source": [
    "### Organization of files in a module\n",
    "\n",
    "When the number of files you write grow large, you will probably want to orgnize them into their own directory structure. To make a folder a  module, you just need to include a file named `__init__.py` in the folder. This file can be empty. For example, here is a module named `pkg` with sub-modules `sub1` and `sub2`.\n",
    "\n",
    "```\n",
    "./pkg:\n",
    "__init__.py\tfoo.py\t\tsub1\t\tsub2\n",
    "\n",
    "./pkg/sub1:\n",
    "__init__.py\t\tmore_sub1_stuff.py\tsub1_stuff.py\n",
    "\n",
    "./pkg/sub2:\n",
    "__init__.py\tsub2_stuff.py\n",
    "```\n"
   ]
  },
  {
   "cell_type": "code",
   "execution_count": 47,
   "metadata": {
    "collapsed": false
   },
   "outputs": [],
   "source": [
    "import pkg.foo as foo"
   ]
  },
  {
   "cell_type": "code",
   "execution_count": 48,
   "metadata": {
    "collapsed": false
   },
   "outputs": [
    {
     "data": {
      "text/plain": [
       "1"
      ]
     },
     "execution_count": 48,
     "metadata": {},
     "output_type": "execute_result"
    }
   ],
   "source": [
    "foo.f1()"
   ]
  },
  {
   "cell_type": "code",
   "execution_count": 49,
   "metadata": {
    "collapsed": false
   },
   "outputs": [
    {
     "data": {
      "text/plain": [
       "1"
      ]
     },
     "execution_count": 49,
     "metadata": {},
     "output_type": "execute_result"
    }
   ],
   "source": [
    "pkg.foo.f1()"
   ]
  },
  {
   "cell_type": "markdown",
   "metadata": {},
   "source": [
    "#### How to import a module at the same level\n",
    "\n",
    "Within a package, we need to use absolute path names for importing other modules in the same directory. This prevents confusion as to whether you want to import a system moudle with the same name. For example, `foo.sub1.more_sub1_stuff.py` imports functions from `foo.sub1.sub1_stuff.py`"
   ]
  },
  {
   "cell_type": "code",
   "execution_count": 50,
   "metadata": {
    "collapsed": false
   },
   "outputs": [
    {
     "name": "stdout",
     "output_type": "stream",
     "text": [
      "from pkg.sub1.sub1_stuff import g1, g2\r\n",
      "\r\n",
      "def g3():\r\n",
      "    return 'g3 uses %s, %s' % (g1(), g2())\r\n",
      "\r\n"
     ]
    }
   ],
   "source": [
    "! cat pkg/sub1/more_sub1_stuff.py"
   ]
  },
  {
   "cell_type": "code",
   "execution_count": 51,
   "metadata": {
    "collapsed": false
   },
   "outputs": [
    {
     "data": {
      "text/plain": [
       "'g3 uses g1, g2'"
      ]
     },
     "execution_count": 51,
     "metadata": {},
     "output_type": "execute_result"
    }
   ],
   "source": [
    "from pkg.sub1.more_sub1_stuff import g3\n",
    "\n",
    "g3()"
   ]
  },
  {
   "cell_type": "markdown",
   "metadata": {},
   "source": [
    "#### How to import a moudle at a different level\n",
    "\n",
    "Again, just use absolute paths. For example, `sub2_stuff.py` in the `sub2` directory uses functions from `sub1_stuff.py` in the `sub1` directory:"
   ]
  },
  {
   "cell_type": "code",
   "execution_count": 52,
   "metadata": {
    "collapsed": false
   },
   "outputs": [
    {
     "name": "stdout",
     "output_type": "stream",
     "text": [
      "from pkg.sub1.sub1_stuff import g1, g2\r\n",
      "\r\n",
      "def h1():\r\n",
      "    return g1()\r\n",
      "\r\n",
      "def h2():\r\n",
      "    return g1() + g2()\r\n"
     ]
    }
   ],
   "source": [
    "! cat pkg/sub2/sub2_stuff.py"
   ]
  },
  {
   "cell_type": "code",
   "execution_count": 53,
   "metadata": {
    "collapsed": false
   },
   "outputs": [
    {
     "data": {
      "text/plain": [
       "'g1g2'"
      ]
     },
     "execution_count": 53,
     "metadata": {},
     "output_type": "execute_result"
    }
   ],
   "source": [
    "from pkg.sub2.sub2_stuff import h2\n",
    "\n",
    "h2()"
   ]
  },
  {
   "cell_type": "markdown",
   "metadata": {},
   "source": [
    "## Distributing your package\n",
    "\n",
    "Suppose we want to distribute our code as a library (for example, on PyPI so that it cnn be installed with `pip`). Let's create an `sta663` library containing the `pkg` package and some other files:\n",
    "\n",
    "- `README.md`: some information about the library\n",
    "- `sta663.py`: a standalone module\n",
    "- `run_sta663.py`: a script (intended for use as `python run_sta.py`)"
   ]
  },
  {
   "cell_type": "code",
   "execution_count": 54,
   "metadata": {
    "collapsed": false
   },
   "outputs": [
    {
     "name": "stdout",
     "output_type": "stream",
     "text": [
      "README.txt    run_sta663.py sta663.py\r\n",
      "\u001b[34mpkg\u001b[m\u001b[m           setup.py      \u001b[34mtests\u001b[m\u001b[m\r\n",
      "\r\n",
      "sta663/pkg:\r\n",
      "__init__.py foo.py      \u001b[34msub1\u001b[m\u001b[m        \u001b[34msub2\u001b[m\u001b[m\r\n",
      "\r\n",
      "sta663/pkg/sub1:\r\n",
      "__init__.py        more_sub1_stuff.py sub1_stuff.py\r\n",
      "\r\n",
      "sta663/pkg/sub2:\r\n",
      "__init__.py   sub2_stuff.py\r\n",
      "\r\n",
      "sta663/tests:\r\n"
     ]
    }
   ],
   "source": [
    "! ls -R sta663"
   ]
  },
  {
   "cell_type": "code",
   "execution_count": 55,
   "metadata": {
    "collapsed": false
   },
   "outputs": [
    {
     "name": "stdout",
     "output_type": "stream",
     "text": [
      "import pkg.foo as foo\r\n",
      "from pkg.sub1.more_sub1_stuff import g3\r\n",
      "from pkg.sub2.sub2_stuff import h2\r\n",
      "\r\n",
      "print foo.f1()\r\n",
      "print g3()\r\n",
      "print h2()\r\n"
     ]
    }
   ],
   "source": [
    "! cat sta663/run_sta663.py"
   ]
  },
  {
   "cell_type": "markdown",
   "metadata": {},
   "source": [
    "### Using distutils\n",
    "\n",
    "All we need to do is to write a `setup.py` file."
   ]
  },
  {
   "cell_type": "code",
   "execution_count": 56,
   "metadata": {
    "collapsed": false
   },
   "outputs": [
    {
     "name": "stdout",
     "output_type": "stream",
     "text": [
      "from distutils.core import setup\r\n",
      "\r\n",
      "setup(name = \"sta663\",\r\n",
      "      version = \"1.0\",\r\n",
      "      author='Cliburn Chan',\r\n",
      "      author_email='cliburn.chan@duke.edu',\r\n",
      "      url='http://people.duke.edu/~ccc14/sta-663/',\r\n",
      "      py_modules = ['sta663'],\r\n",
      "      packages = ['pkg', 'pkg/sub1', 'pkg/sub2'],\r\n",
      "      scripts = ['run_sta663.py']\r\n",
      "      )\r\n"
     ]
    }
   ],
   "source": [
    "! cat sta663/setup.py"
   ]
  },
  {
   "cell_type": "markdown",
   "metadata": {},
   "source": [
    "### Build a source archive for distribution"
   ]
  },
  {
   "cell_type": "code",
   "execution_count": 57,
   "metadata": {
    "collapsed": false
   },
   "outputs": [
    {
     "name": "stdout",
     "output_type": "stream",
     "text": [
      "running sdist\n",
      "running check\n",
      "writing manifest file 'MANIFEST'\n",
      "creating sta663-1.0\n",
      "creating sta663-1.0/pkg\n",
      "creating sta663-1.0/pkg/sub1\n",
      "creating sta663-1.0/pkg/sub2\n",
      "making hard links in sta663-1.0...\n",
      "hard linking README.txt -> sta663-1.0\n",
      "hard linking run_sta663.py -> sta663-1.0\n",
      "hard linking setup.py -> sta663-1.0\n",
      "hard linking sta663.py -> sta663-1.0\n",
      "hard linking pkg/__init__.py -> sta663-1.0/pkg\n",
      "hard linking pkg/foo.py -> sta663-1.0/pkg\n",
      "hard linking pkg/sub1/__init__.py -> sta663-1.0/pkg/sub1\n",
      "hard linking pkg/sub1/more_sub1_stuff.py -> sta663-1.0/pkg/sub1\n",
      "hard linking pkg/sub1/sub1_stuff.py -> sta663-1.0/pkg/sub1\n",
      "hard linking pkg/sub2/__init__.py -> sta663-1.0/pkg/sub2\n",
      "hard linking pkg/sub2/sub2_stuff.py -> sta663-1.0/pkg/sub2\n",
      "creating dist\n",
      "Creating tar archive\n",
      "removing 'sta663-1.0' (and everything under it)\n",
      "/Users/cliburn/git/STA663-2015/Lectures/Topic23_Packaging\n"
     ]
    },
    {
     "name": "stderr",
     "output_type": "stream",
     "text": [
      "warning: sdist: manifest template 'MANIFEST.in' does not exist (using default file list)\n",
      "\n"
     ]
    }
   ],
   "source": [
    "%%bash\n",
    "\n",
    "cd sta663\n",
    "python setup.py sdist\n",
    "cd -"
   ]
  },
  {
   "cell_type": "code",
   "execution_count": 58,
   "metadata": {
    "collapsed": false
   },
   "outputs": [
    {
     "name": "stdout",
     "output_type": "stream",
     "text": [
      "MANIFEST      \u001b[34mdist\u001b[m\u001b[m          run_sta663.py sta663.py\r\n",
      "README.txt    \u001b[34mpkg\u001b[m\u001b[m           setup.py      \u001b[34mtests\u001b[m\u001b[m\r\n",
      "\r\n",
      "sta663/dist:\r\n",
      "sta663-1.0.tar.gz\r\n",
      "\r\n",
      "sta663/pkg:\r\n",
      "__init__.py foo.py      \u001b[34msub1\u001b[m\u001b[m        \u001b[34msub2\u001b[m\u001b[m\r\n",
      "\r\n",
      "sta663/pkg/sub1:\r\n",
      "__init__.py        more_sub1_stuff.py sub1_stuff.py\r\n",
      "\r\n",
      "sta663/pkg/sub2:\r\n",
      "__init__.py   sub2_stuff.py\r\n",
      "\r\n",
      "sta663/tests:\r\n"
     ]
    }
   ],
   "source": [
    "! ls -R sta663"
   ]
  },
  {
   "cell_type": "markdown",
   "metadata": {},
   "source": [
    "### Distribution\n",
    "\n",
    "You can now distribute `sta663-1.0.tar.gz` to somebody else for installation in the usual way."
   ]
  },
  {
   "cell_type": "code",
   "execution_count": 59,
   "metadata": {
    "collapsed": false
   },
   "outputs": [
    {
     "name": "stdout",
     "output_type": "stream",
     "text": [
      "running install\n",
      "running build\n",
      "running build_py\n",
      "running build_scripts\n",
      "running install_lib\n",
      "running install_scripts\n",
      "changing mode of /Users/cliburn/anaconda/bin/run_sta663.py to 755\n",
      "running install_egg_info\n",
      "Writing /Users/cliburn/anaconda/lib/python2.7/site-packages/sta663-1.0-py2.7.egg-info\n"
     ]
    }
   ],
   "source": [
    "%%bash\n",
    "\n",
    "cp sta663/dist/sta663-1.0.tar.gz /tmp\n",
    "cd /tmp\n",
    "tar xzf sta663-1.0.tar.gz\n",
    "cd sta663-1.0\n",
    "python setup.py install"
   ]
  },
  {
   "cell_type": "markdown",
   "metadata": {},
   "source": [
    "#### Distributing to PyPI\n",
    "\n",
    "Just enter `python setup.py register` and respond to the prompts to register as a new user."
   ]
  },
  {
   "cell_type": "markdown",
   "metadata": {},
   "source": [
    "### References\n",
    "\n",
    "- [Python Packaging User Guide](https://packaging.python.org/en/latest/index.html)\n",
    "- [Distributing Python Modules](https://docs.python.org/2/distutils/)\n",
    "- [A more detailed blog post tutoiral](https://gehrcke.de/2014/02/distributing-a-python-command-line-application/)"
   ]
  },
  {
   "cell_type": "code",
   "execution_count": null,
   "metadata": {
    "collapsed": true
   },
   "outputs": [],
   "source": []
  }
 ],
 "metadata": {
  "kernelspec": {
   "display_name": "Python 2",
   "language": "python",
   "name": "python2"
  },
  "language_info": {
   "codemirror_mode": {
    "name": "ipython",
    "version": 2
   },
   "file_extension": ".py",
   "mimetype": "text/x-python",
   "name": "python",
   "nbconvert_exporter": "python",
   "pygments_lexer": "ipython2",
   "version": "2.7.9"
  }
 },
 "nbformat": 4,
 "nbformat_minor": 0
}
