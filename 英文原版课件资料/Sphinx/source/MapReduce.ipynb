{
 "cells": [
  {
   "cell_type": "markdown",
   "metadata": {},
   "source": [
    "Hadoop MapReduce on AWS EMR with `mrjob`\n",
    "====\n",
    "\n",
    "[Elastic MapReduce Quickstart](https://pythonhosted.org/mrjob/guides/emr-quickstart.html)"
   ]
  },
  {
   "cell_type": "markdown",
   "metadata": {},
   "source": [
    "## MapReduce code"
   ]
  },
  {
   "cell_type": "code",
   "execution_count": 1,
   "metadata": {
    "collapsed": false
   },
   "outputs": [
    {
     "name": "stdout",
     "output_type": "stream",
     "text": [
      "Overwriting word_count.py\n"
     ]
    }
   ],
   "source": [
    "%%file word_count.py\n",
    "# From http://mrjob.readthedocs.org/en/latest/guides/quickstart.html#writing-your-first-job\n",
    "from mrjob.job import MRJob\n",
    "\n",
    "class MRWordFrequencyCount(MRJob):\n",
    "\n",
    "    def mapper(self, _, line):\n",
    "        yield \"chars\", len(line)\n",
    "        yield \"words\", len(line.split())\n",
    "        yield \"lines\", 1\n",
    "\n",
    "    def reducer(self, key, values):\n",
    "        yield key, sum(values)\n",
    "\n",
    "\n",
    "if __name__ == '__main__':\n",
    "    MRWordFrequencyCount.run()"
   ]
  },
  {
   "cell_type": "markdown",
   "metadata": {},
   "source": [
    "## Configuration file"
   ]
  },
  {
   "cell_type": "code",
   "execution_count": 3,
   "metadata": {
    "collapsed": false
   },
   "outputs": [
    {
     "name": "stdout",
     "output_type": "stream",
     "text": [
      "Overwriting /Users/cliburn/.mrjob.conf\n"
     ]
    }
   ],
   "source": [
    "%%file ~/.mrjob.conf\n",
    "\n",
    "runners:\n",
    "  emr:\n",
    "    aws_access_key_id: <Your AWS access key>\n",
    "    aws_secret_access_key: <Your AWS secret key>\n",
    "    ec2_key_pair: <Your key_pair name>\n",
    "    ec2_key_pair_file: <Location of PEM file>\n",
    "    ssh_tunnel_to_job_tracker: true\n",
    "    ec2_master_instance_type: c3.xlarge\n",
    "    ec2_instance_type: c3.xlarge\n",
    "    num_ec2_instances: 3"
   ]
  },
  {
   "cell_type": "markdown",
   "metadata": {},
   "source": [
    "## Launching job"
   ]
  },
  {
   "cell_type": "code",
   "execution_count": null,
   "metadata": {
    "collapsed": false
   },
   "outputs": [],
   "source": [
    "%%bash\n",
    "\n",
    "python word_count.py -r emr s3://cliburn-sta663/books/*txt \\\n",
    "    --output-dir=s3://cliburn-sta663/wc_out \\\n",
    "    --no-output"
   ]
  },
  {
   "cell_type": "markdown",
   "metadata": {
    "collapsed": true
   },
   "source": [
    "###### Notes\n",
    "\n",
    "Due to a recent change in Amazon policy, this won't work on accounts created after 6 April 2015 due to the need to provide IAM roles. Until `mrjob` is updated to support this, the launch will fail with an error."
   ]
  },
  {
   "cell_type": "code",
   "execution_count": null,
   "metadata": {
    "collapsed": true
   },
   "outputs": [],
   "source": []
  }
 ],
 "metadata": {
  "kernelspec": {
   "display_name": "Python 2",
   "language": "python",
   "name": "python2"
  },
  "language_info": {
   "codemirror_mode": {
    "name": "ipython",
    "version": 2
   },
   "file_extension": ".py",
   "mimetype": "text/x-python",
   "name": "python",
   "nbconvert_exporter": "python",
   "pygments_lexer": "ipython2",
   "version": "2.7.9"
  }
 },
 "nbformat": 4,
 "nbformat_minor": 0
}
