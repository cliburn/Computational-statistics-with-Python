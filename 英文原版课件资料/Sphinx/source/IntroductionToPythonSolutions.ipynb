{
 "cells": [
  {
   "cell_type": "markdown",
   "metadata": {},
   "source": [
    "# Introduction to Python"
   ]
  },
  {
   "cell_type": "markdown",
   "metadata": {},
   "source": [
    "This lecture is based loosely on the online tutorial : http://www.afterhoursprogramming.com/tutorial/Python/Introduction/"
   ]
  },
  {
   "cell_type": "markdown",
   "metadata": {},
   "source": [
    "We will be using Python a fair amount in this class.  Python is a high-level scripting language that offers an interactive programming environment.  We assume programming experience, so this lecture will focus on the unique properties of Python. "
   ]
  },
  {
   "cell_type": "markdown",
   "metadata": {},
   "source": [
    "Programming languages generally have the following common ingredients: variables, operators, iterators,\n",
    "conditional statements, functions (built-in and user defined) and higher-order data structures.  We will look at these in \n",
    "Python and highlight qualities unique to this language.\n"
   ]
  },
  {
   "cell_type": "markdown",
   "metadata": {},
   "source": [
    "Variables\n",
    "----"
   ]
  },
  {
   "cell_type": "markdown",
   "metadata": {},
   "source": [
    "Variables in Python are defined and typed for you when you set a value to them."
   ]
  },
  {
   "cell_type": "code",
   "execution_count": 1,
   "metadata": {
    "collapsed": false
   },
   "outputs": [
    {
     "name": "stdout",
     "output_type": "stream",
     "text": [
      "2\n"
     ]
    },
    {
     "data": {
      "text/plain": [
       "int"
      ]
     },
     "execution_count": 1,
     "metadata": {},
     "output_type": "execute_result"
    }
   ],
   "source": [
    "my_variable = 2 \n",
    "print(my_variable)\n",
    "type(my_variable)\n"
   ]
  },
  {
   "cell_type": "markdown",
   "metadata": {},
   "source": [
    "This makes variable definition easy for the programmer.  As usual, though, great power comes with great responsibility.  For example:"
   ]
  },
  {
   "cell_type": "code",
   "execution_count": 2,
   "metadata": {
    "collapsed": false
   },
   "outputs": [
    {
     "name": "stdout",
     "output_type": "stream",
     "text": [
      "2\n"
     ]
    }
   ],
   "source": [
    "my_varible = my_variable+1\n",
    "print (my_variable)"
   ]
  },
  {
   "cell_type": "markdown",
   "metadata": {},
   "source": [
    "\"If you leave out word, spell-check will not put the word in you\" -- Taylor Mali, <em>The the impotence of proofreading</em>"
   ]
  },
  {
   "cell_type": "markdown",
   "metadata": {},
   "source": [
    "If you accidentally mistype a variable name, Python will not catch it for you.  This can lead to bugs that can be hard to track - so beware."
   ]
  },
  {
   "cell_type": "markdown",
   "metadata": {},
   "source": [
    "### Types and Typecasting"
   ]
  },
  {
   "cell_type": "markdown",
   "metadata": {},
   "source": [
    "The usual typecasting is available in Python, so it is easy to convert strings to ints or floats, floats to ints, etc.  The syntax is slightly different than C:"
   ]
  },
  {
   "cell_type": "code",
   "execution_count": 3,
   "metadata": {
    "collapsed": false
   },
   "outputs": [
    {
     "ename": "TypeError",
     "evalue": "cannot concatenate 'str' and 'int' objects",
     "output_type": "error",
     "traceback": [
      "\u001b[0;31m---------------------------------------------------------------------------\u001b[0m\n\u001b[0;31mTypeError\u001b[0m                                 Traceback (most recent call last)",
      "\u001b[0;32m<ipython-input-3-6463279979e9>\u001b[0m in \u001b[0;36m<module>\u001b[0;34m()\u001b[0m\n\u001b[1;32m      1\u001b[0m \u001b[0ma\u001b[0m \u001b[0;34m=\u001b[0m \u001b[0;34m\"1\"\u001b[0m\u001b[0;34m\u001b[0m\u001b[0m\n\u001b[1;32m      2\u001b[0m \u001b[0mb\u001b[0m \u001b[0;34m=\u001b[0m \u001b[0;36m5\u001b[0m\u001b[0;34m\u001b[0m\u001b[0m\n\u001b[0;32m----> 3\u001b[0;31m \u001b[0;32mprint\u001b[0m\u001b[0;34m(\u001b[0m\u001b[0ma\u001b[0m\u001b[0;34m+\u001b[0m\u001b[0mb\u001b[0m\u001b[0;34m)\u001b[0m\u001b[0;34m\u001b[0m\u001b[0m\n\u001b[0m",
      "\u001b[0;31mTypeError\u001b[0m: cannot concatenate 'str' and 'int' objects"
     ]
    }
   ],
   "source": [
    "a = \"1\"\n",
    "b = 5 \n",
    "print(a+b)\n"
   ]
  },
  {
   "cell_type": "code",
   "execution_count": null,
   "metadata": {
    "collapsed": false
   },
   "outputs": [],
   "source": [
    "a = \"1\"\n",
    "b = 5\n",
    "print(int(a)+b)"
   ]
  },
  {
   "cell_type": "markdown",
   "metadata": {},
   "source": [
    "Note that the typing is <em>dynamic.</em>  I.e. a variable that was initally say an integer can become another type (float, string, etc.) via reassignment."
   ]
  },
  {
   "cell_type": "code",
   "execution_count": null,
   "metadata": {
    "collapsed": false
   },
   "outputs": [],
   "source": [
    "a = \"1\"\n",
    "type(a)\n",
    "print(type(a))\n",
    "\n",
    "a = 1.0\n",
    "print(type(a))"
   ]
  },
  {
   "cell_type": "markdown",
   "metadata": {},
   "source": [
    "Python has some other special data types such as lists, tuples and dictionaries that we will address later."
   ]
  },
  {
   "cell_type": "markdown",
   "metadata": {},
   "source": [
    "## Operators"
   ]
  },
  {
   "cell_type": "markdown",
   "metadata": {},
   "source": [
    "Python offers the usual operators such as +,-,/,\\*,=,>,<,==,!=,&,|, \n",
    "(sum, difference, divide, product, assignment, greater than, less than, equal - comparison,not equal, and, or, respectively).  \n",
    "Additionally, there are %,// and ** (modulo, floor division and 'to the power'). Note a few specifics:"
   ]
  },
  {
   "cell_type": "code",
   "execution_count": null,
   "metadata": {
    "collapsed": false
   },
   "outputs": [],
   "source": [
    "print(3/4)\n",
    "print(3.0 / 4.0)\n",
    "print(3%4)\n",
    "print(3//4)\n",
    "print(3**4)"
   ]
  },
  {
   "cell_type": "markdown",
   "metadata": {},
   "source": [
    "Note the behavior of / when applied to integers!  This is similar to the behavior of other strongly typed languages such as C/C++.  The result of the integer division is the same as the floor division //.  If you want the floating point result, the arguments to / must be floats as well (or appropriately typecast)."
   ]
  },
  {
   "cell_type": "code",
   "execution_count": null,
   "metadata": {
    "collapsed": false
   },
   "outputs": [],
   "source": [
    "a = 3\n",
    "b = 4\n",
    "print(a/b)\n",
    "print(float(a)/float(b))"
   ]
  },
  {
   "cell_type": "markdown",
   "metadata": {},
   "source": [
    "## Iterators"
   ]
  },
  {
   "cell_type": "markdown",
   "metadata": {},
   "source": [
    "Python has the usual iterators, while, for, and some other constructions that will be addressed later.  Here are examples of each:"
   ]
  },
  {
   "cell_type": "code",
   "execution_count": null,
   "metadata": {
    "collapsed": false
   },
   "outputs": [],
   "source": [
    "for i in range(1,10):\n",
    "     print(i)"
   ]
  },
  {
   "cell_type": "markdown",
   "metadata": {},
   "source": [
    "The most important thing to note above is that the range function gives us values up to, but not including, the upper limit."
   ]
  },
  {
   "cell_type": "code",
   "execution_count": null,
   "metadata": {
    "collapsed": false
   },
   "outputs": [],
   "source": [
    "i = 1\n",
    "while i < 10:\n",
    "    print(i)\n",
    "    i+=1"
   ]
  },
  {
   "cell_type": "markdown",
   "metadata": {},
   "source": [
    "This is unremarkable, so we proceeed without further comment."
   ]
  },
  {
   "cell_type": "markdown",
   "metadata": {},
   "source": [
    "## Conditional Statements"
   ]
  },
  {
   "cell_type": "code",
   "execution_count": null,
   "metadata": {
    "collapsed": false
   },
   "outputs": [],
   "source": [
    "a = 20\n",
    "if a >= 22:\n",
    "   print(\"if\")\n",
    "elif a >= 21:\n",
    "    print(\"elif\")\n",
    "else:\n",
    "    print(\"else\")"
   ]
  },
  {
   "cell_type": "markdown",
   "metadata": {},
   "source": [
    "Again, nothing remarkable here, just need to learn the syntax.  Here, we should also mention spacing.  Python is picky about indentation - you must start a newline after each conditional statemen\n",
    "(it is the same for the iterators above) and indent the same number of spaces for every statement within the scope of that condition.  "
   ]
  },
  {
   "cell_type": "code",
   "execution_count": null,
   "metadata": {
    "collapsed": false
   },
   "outputs": [],
   "source": [
    "a = 23\n",
    "if a >= 22:\n",
    "   print(\"if\")\n",
    "    print(\"greater than or equal 22\")\n",
    "elif a >= 21:\n",
    "    print(\"elif\")\n",
    "else:\n",
    "    print(\"else\")"
   ]
  },
  {
   "cell_type": "code",
   "execution_count": null,
   "metadata": {
    "collapsed": false
   },
   "outputs": [],
   "source": [
    "a = 23\n",
    "if a >= 22:\n",
    "   print(\"if\")\n",
    "   print(\"greater than or equal 22\")\n",
    "elif a >= 21:\n",
    "    print(\"elif\")\n",
    "else:\n",
    "    print(\"else\")"
   ]
  },
  {
   "cell_type": "markdown",
   "metadata": {},
   "source": [
    "Four spaces are customary, but you can use whatever you like. Consistency is necessary."
   ]
  },
  {
   "cell_type": "markdown",
   "metadata": {},
   "source": [
    "#### Exceptions"
   ]
  },
  {
   "cell_type": "markdown",
   "metadata": {},
   "source": [
    "Python has another type of conditional expression that is very useful.  Suppose your program is processing user input or data from a file. You don't always know for sure what you are getting in that case, and this can lead to problems.  The 'try/except' conditional can solve them!\n"
   ]
  },
  {
   "cell_type": "code",
   "execution_count": null,
   "metadata": {
    "collapsed": false
   },
   "outputs": [],
   "source": [
    "a = \"1\"\n",
    "\n",
    "try:\n",
    "  b = a + 2 \n",
    "except:\n",
    "  print(a, \" is not a number\") \n"
   ]
  },
  {
   "cell_type": "markdown",
   "metadata": {},
   "source": [
    "Here, we have tried to add a number and a string.  That generates an exception - but we have trapped the exception and\n",
    "informed the user of the problem.  This is much preferable to the programming crashing with some cryptic error like:"
   ]
  },
  {
   "cell_type": "code",
   "execution_count": null,
   "metadata": {
    "collapsed": false
   },
   "outputs": [],
   "source": [
    "a = \"1\"\n",
    "b = a + 2 \n"
   ]
  },
  {
   "cell_type": "markdown",
   "metadata": {},
   "source": [
    "## Functions"
   ]
  },
  {
   "cell_type": "code",
   "execution_count": null,
   "metadata": {
    "collapsed": false
   },
   "outputs": [],
   "source": [
    "def Division(a, b):\n",
    "    print(a/b)\n",
    "Division(3,4)\n",
    "Division(3.0,4.0)\n",
    "Division(3,4.0)\n",
    "Division(3.0,4)"
   ]
  },
  {
   "cell_type": "markdown",
   "metadata": {},
   "source": [
    "Notice that the function does not specify the types of the arguments, like you would see in statically typed languages.  This is both useful and dangerous.  For example:"
   ]
  },
  {
   "cell_type": "code",
   "execution_count": null,
   "metadata": {
    "collapsed": false
   },
   "outputs": [],
   "source": [
    "def Division(a, b):\n",
    "    print(a/b)\n",
    "Division(2,\"2\")"
   ]
  },
  {
   "cell_type": "markdown",
   "metadata": {},
   "source": [
    "In a statically typed language, the programmer would have specified the type of a and b (float, int, etc.) and the compiler\n",
    " would have complained about the function being passed a variable of the wrong type. This does not happen here, but we can use the try/except construction."
   ]
  },
  {
   "cell_type": "code",
   "execution_count": null,
   "metadata": {
    "collapsed": false
   },
   "outputs": [],
   "source": [
    "def Division(a, b):\n",
    "    try:\n",
    "        print(a/b)\n",
    "    except:\n",
    "        if b == 0:\n",
    "           print(\"cannot divide by zero\")\n",
    "        else:\n",
    "           print(float(a)/float(b))\n",
    "Division(2,\"2\")\n",
    "Division(2,0)"
   ]
  },
  {
   "cell_type": "markdown",
   "metadata": {},
   "source": [
    "Strings and String Handling\n",
    "----"
   ]
  },
  {
   "cell_type": "markdown",
   "metadata": {},
   "source": [
    "One of the most important features of Python is its powerful and easy handling of strings.  Defining strings is simple enough in most languages.  But in Python, it is easy to search and replace, convert cases, concatenate, or access elements.  We'll discuss a few of these here.  For a complete list, see: http://www.tutorialspoint.com/python/python_strings.htm"
   ]
  },
  {
   "cell_type": "code",
   "execution_count": null,
   "metadata": {
    "collapsed": false
   },
   "outputs": [],
   "source": [
    "a = \"A string of characters, with newline \\n CAPITALS, etc.\"\n",
    "print(a)\n",
    "b=5.0\n",
    "newstring = a + \"\\n We can format strings for printing %.2f\"\n",
    "print(newstring %b)\n"
   ]
  },
  {
   "cell_type": "markdown",
   "metadata": {},
   "source": [
    "Now let's try some other string operations:"
   ]
  },
  {
   "cell_type": "code",
   "execution_count": null,
   "metadata": {
    "collapsed": false
   },
   "outputs": [],
   "source": [
    "a = \"ABC DEFG\"\n",
    "print(a[1:3])\n",
    "print(a[0:5])"
   ]
  },
  {
   "cell_type": "markdown",
   "metadata": {},
   "source": [
    "There are several things to learn from the above.  First, Python has associated an index to the string. Second the indexing starts at 0, and lastly, the upper limit again means 'up to but not including' (a[0:5] prints elements 0,1,2,3,4)."
   ]
  },
  {
   "cell_type": "code",
   "execution_count": null,
   "metadata": {
    "collapsed": false
   },
   "outputs": [],
   "source": [
    "a = \"ABC defg\"\n",
    "print(a.lower())\n",
    "print(a.upper())\n",
    "print(a.find('d'))\n",
    "print(a.replace('de','a'))\n",
    "print(a)\n",
    "b = a.replace('def','aaa')\n",
    "print(b)\n",
    "b = b.replace('a','c')\n",
    "print(b)\n",
    "b.count('c')\n"
   ]
  },
  {
   "cell_type": "markdown",
   "metadata": {},
   "source": [
    "This is fun! What else can you do with strings in Python?  Pretty much anything you can think of!  "
   ]
  },
  {
   "cell_type": "markdown",
   "metadata": {},
   "source": [
    "Lists, Tuples, Dictionaries\n",
    "----"
   ]
  },
  {
   "cell_type": "markdown",
   "metadata": {},
   "source": [
    "### Lists"
   ]
  },
  {
   "cell_type": "markdown",
   "metadata": {},
   "source": [
    "Lists are exactly as the name implies.  They are lists of objects.  The objects can be any data type (including lists), and it is allowed to mix data types.  In this way they are much more flexible than arrays.  It is possible to append, delete, insert and count elements and to sort, reverse, etc. the list."
   ]
  },
  {
   "cell_type": "code",
   "execution_count": null,
   "metadata": {
    "collapsed": false
   },
   "outputs": [],
   "source": [
    "a_list = [1,2,3,\"this is a string\",5.3]\n",
    "b_list = [\"A\",\"B\",\"F\",\"G\",\"d\",\"x\",\"c\",a_list,3]\n",
    "print(b_list)\n"
   ]
  },
  {
   "cell_type": "code",
   "execution_count": null,
   "metadata": {
    "collapsed": false
   },
   "outputs": [],
   "source": [
    "print(b_list[7:9])"
   ]
  },
  {
   "cell_type": "code",
   "execution_count": null,
   "metadata": {
    "collapsed": false
   },
   "outputs": [],
   "source": [
    "a = [1,2,3,4,5,6,7]\n",
    "a.insert(0,0)\n",
    "print(a)\n",
    "a.append(8)\n",
    "print(a)\n",
    "a.reverse()\n",
    "print(a)\n",
    "a.sort()\n",
    "print(a)\n",
    "a.pop()\n",
    "print(a)\n",
    "a.remove(3)\n",
    "print(a)\n",
    "a.remove(a[4])\n",
    "print(a)"
   ]
  },
  {
   "cell_type": "markdown",
   "metadata": {},
   "source": [
    "Just like with strings, elements are indexed beginning with 0."
   ]
  },
  {
   "cell_type": "markdown",
   "metadata": {},
   "source": [
    "Lists can be constructed using 'for' and some conditional statements.  These are called, 'list comprehensions'.  For example:"
   ]
  },
  {
   "cell_type": "code",
   "execution_count": null,
   "metadata": {
    "collapsed": false
   },
   "outputs": [],
   "source": [
    "even_numbers = [x for x in range(100) if x % 2 == 0]\n",
    "print(even_numbers)"
   ]
  },
  {
   "cell_type": "markdown",
   "metadata": {},
   "source": [
    "List comprehensions can work on strings as well:"
   ]
  },
  {
   "cell_type": "code",
   "execution_count": null,
   "metadata": {
    "collapsed": false
   },
   "outputs": [],
   "source": [
    "first_sentence = \"It was a dark and stormy night.\"\n",
    "characters = [x for x in first_sentence]\n",
    "print(characters)"
   ]
  },
  {
   "cell_type": "markdown",
   "metadata": {},
   "source": [
    "For more on comprehensions see:  https://docs.python.org/2/tutorial/datastructures.html?highlight=comprehensions"
   ]
  },
  {
   "cell_type": "markdown",
   "metadata": {},
   "source": [
    "Another similar feature is called 'map'.  Map applies a function to a list.  The syntax is\n",
    "\n",
    "map(aFunction, aSequence).  Consider the following examples:\n"
   ]
  },
  {
   "cell_type": "code",
   "execution_count": null,
   "metadata": {
    "collapsed": false
   },
   "outputs": [],
   "source": [
    "def sqr(x): return x ** 2\n",
    "a = [2,3,4]\n",
    "b = [10,5,3]\n",
    "c = map(sqr,a)\n",
    "print(c)\n",
    "d = map(pow,a,b)\n",
    "print(d)"
   ]
  },
  {
   "cell_type": "markdown",
   "metadata": {},
   "source": [
    "Note that map is usually more efficient than the equivalent list comprehension or looping contruct."
   ]
  },
  {
   "cell_type": "markdown",
   "metadata": {},
   "source": [
    "### Tuples"
   ]
  },
  {
   "cell_type": "markdown",
   "metadata": {},
   "source": [
    "Tuples are like lists with one very important difference. Tuples are not changeable.    "
   ]
  },
  {
   "cell_type": "code",
   "execution_count": null,
   "metadata": {
    "collapsed": false
   },
   "outputs": [],
   "source": [
    "a = (1,2,3,4)\n",
    "print(a)\n",
    "a[1] = 2"
   ]
  },
  {
   "cell_type": "code",
   "execution_count": null,
   "metadata": {
    "collapsed": false
   },
   "outputs": [],
   "source": [
    "a = (1,\"string in a tuple\",5.3)\n",
    "b = (a,1,2,3)\n",
    "print(a)\n",
    "print(b)\n"
   ]
  },
  {
   "cell_type": "markdown",
   "metadata": {},
   "source": [
    "As you can see, all of the other flexibility remains - so use tuples when you have a list that you <em>do not want to modify</em>."
   ]
  },
  {
   "cell_type": "markdown",
   "metadata": {},
   "source": [
    "One other handy feature of tuples is known as 'tuple unpacking'.  Essentially, this means we can assign the values of a tuple to a list of variable names, like so:"
   ]
  },
  {
   "cell_type": "code",
   "execution_count": null,
   "metadata": {
    "collapsed": false
   },
   "outputs": [],
   "source": [
    "my_pets = (\"Chestnut\", \"Tibbs\", \"Dash\", \"Bast\")\n",
    "(aussie,b_collie,indoor_cat,outdoor_cat) = my_pets\n",
    "print(aussie)\n",
    "cats=(indoor_cat,outdoor_cat)\n",
    "print(cats)\n"
   ]
  },
  {
   "cell_type": "markdown",
   "metadata": {},
   "source": [
    "### Dictionaries"
   ]
  },
  {
   "cell_type": "markdown",
   "metadata": {},
   "source": [
    "Dictionaries are unordered, keyed lists.  Lists are ordered, and the index may be viewed as a key."
   ]
  },
  {
   "cell_type": "code",
   "execution_count": null,
   "metadata": {
    "collapsed": false
   },
   "outputs": [],
   "source": [
    "a = [\"A\",\"B\",\"C\",\"D\"] #list example\n",
    "print(a[1])\n"
   ]
  },
  {
   "cell_type": "code",
   "execution_count": null,
   "metadata": {
    "collapsed": false
   },
   "outputs": [],
   "source": [
    "a = {'anItem': \"A\", 'anotherItem': \"B\",'athirdItem':\"C\",'afourthItem':\"D\"} # dictionary example\n",
    "print(a[1])"
   ]
  },
  {
   "cell_type": "code",
   "execution_count": null,
   "metadata": {
    "collapsed": false
   },
   "outputs": [],
   "source": [
    "a = {'anItem': \"A\", 'anotherItem': \"B\",'athirdItem':\"C\",'afourthItem':\"D\"} # dictionary example\n",
    "print(a['anItem'])\n"
   ]
  },
  {
   "cell_type": "code",
   "execution_count": null,
   "metadata": {
    "collapsed": false
   },
   "outputs": [],
   "source": [
    "print(a)"
   ]
  },
  {
   "cell_type": "raw",
   "metadata": {},
   "source": [
    "The dictionary does not order the items, and you cannot access them assuming an order (as an index does).  You access elements using the keys."
   ]
  },
  {
   "cell_type": "markdown",
   "metadata": {},
   "source": [
    "### Sets"
   ]
  },
  {
   "cell_type": "markdown",
   "metadata": {},
   "source": [
    "Sets are unordered collections of *unique* elements.  Intersections, unions and set differences are supported operations.  They can be used to remove duplicates from a collection or to test for membership. For example:"
   ]
  },
  {
   "cell_type": "code",
   "execution_count": null,
   "metadata": {
    "collapsed": false
   },
   "outputs": [],
   "source": [
    "from sets import Set\n",
    "fruits = Set([\"apples\",\"oranges\",\"grapes\",\"bananas\"])\n",
    "citrus = Set([\"lemons\",\"oranges\",\"limes\",\"grapefruits\",\"clementines\"])\n",
    "citrus_in_fruits = fruits & citrus   #intersection\n",
    "print(citrus_in_fruits)\n",
    "diff_fruits = fruits - citrus        # set difference\n",
    "print(diff_fruits)\n",
    "diff_fruits_reverse = citrus - fruits  # set difference\n",
    "print(diff_fruits_reverse)\n",
    "citrus_or_fruits = citrus | fruits     # set union\n",
    "print(citrus_or_fruits)"
   ]
  },
  {
   "cell_type": "code",
   "execution_count": null,
   "metadata": {
    "collapsed": false
   },
   "outputs": [],
   "source": [
    "a_list = [\"a\", \"a\",\"a\", \"b\",1,2,3,\"d\",1]\n",
    "print(a_list)\n",
    "a_set = Set(a_list)  # Convert list to set\n",
    "print(a_set)         # Creates a set with unique elements\n",
    "new_list = list(a_set) # Convert set to list\n",
    "print(new_list)        # Obtain a list with unique elements "
   ]
  },
  {
   "cell_type": "markdown",
   "metadata": {},
   "source": [
    "More examples and details regarding sets can be found at: https://docs.python.org/2/library/sets.html"
   ]
  },
  {
   "cell_type": "markdown",
   "metadata": {},
   "source": [
    "Classes\n",
    "----\n",
    "\n",
    "A class (or object) bundles data (known as attributes) and functions (known as methods) together. We access the attributes and methods of a class using the '.' notation. Since everything in Python is an object, we have already been using this attribute acccess - e.g. when we call `'hello'.upper()`, we are using the `upper` method of the instance `'hello'` of the `string` class.\n",
    "\n",
    "The creation of custom classes will not be covered in this course.\n"
   ]
  },
  {
   "cell_type": "markdown",
   "metadata": {},
   "source": [
    "Modules\n",
    "----\n",
    "\n",
    "As the code base gets larger, it is convenient to organize them as *modules* or packages. At the simplest level, modules can just be regular python files. We import functions in modules using one of the following `import` variants:\n",
    "\n",
    "```python\n",
    "import numpy\n",
    "import numpy as np # using an alias\n",
    "import numpy.linalg as la # modules can have submodules\n",
    "from numpy import sin, cos, tan # bring trig functions into global namespace\n",
    "from numpy import * # frowned upon because it pollutes the namespace\n",
    "```"
   ]
  },
  {
   "cell_type": "markdown",
   "metadata": {},
   "source": [
    "The standard library\n",
    "----\n",
    "\n",
    "Python comes with \"batteries included\", with a diverse collection of functionality available in standard library modules and functions. \n",
    "\n",
    "**References**\n",
    "\n",
    "- [Standard library docs](https://docs.python.org/2/library/)\n",
    "- [Python Module of the Week](http://pymotw.com/2/contents.html) gives examples of usage."
   ]
  },
  {
   "cell_type": "markdown",
   "metadata": {},
   "source": [
    "### Installing additional modules \n",
    "\n",
    "Most of the time, we can use the `pip` package manager to install and uninstall modules for us. In general, all that is needed is to issue the command\n",
    "```bash\n",
    "pip install <packagename>\n",
    "```\n",
    "at the command line or\n",
    "```python\n",
    "! pip install <packagename>\n",
    "```\n",
    "from within an IPython notebook.\n",
    "\n",
    "Packages that can be installed using `pip` are listed in the [Python Package Index (PyPI)](https://pypi.python.org/pypi). \n",
    "\n",
    "Pip documentation is at <https://pip.pypa.io/en/latest/>."
   ]
  },
  {
   "cell_type": "markdown",
   "metadata": {},
   "source": [
    "Keeping the Anaconda distribution up-to-date\n",
    "----\n",
    "\n",
    "Just issue\n",
    "```bash\n",
    "conda update conda\n",
    "conda update anaconda\n",
    "```\n",
    "at the command line.\n",
    "\n",
    "Note that `conda` can do [much, much, more](http://conda.pydata.org/docs/index.html)."
   ]
  },
  {
   "cell_type": "markdown",
   "metadata": {},
   "source": [
    "<font color=red>Exercises</font>\n",
    "----"
   ]
  },
  {
   "cell_type": "markdown",
   "metadata": {},
   "source": [
    "**1**. Solve the FizzBuzz probelm\n",
    "\n",
    "\"Write a program that prints the numbers from 1 to 100. But for multiples of three print “Fizz” instead of the number and for the multiples of five print “Buzz”. For numbers which are multiples of both three and five print “FizzBuzz”."
   ]
  },
  {
   "cell_type": "code",
   "execution_count": 27,
   "metadata": {
    "collapsed": false
   },
   "outputs": [
    {
     "name": "stdout",
     "output_type": "stream",
     "text": [
      "1\n",
      "2\n",
      "Fizz\n",
      "4\n",
      "Buzz\n",
      "Fizz\n",
      "7\n",
      "8\n",
      "Fizz\n",
      "Buzz\n",
      "11\n",
      "Fizz\n",
      "13\n",
      "14\n",
      "FizzBuzz\n",
      "16\n",
      "17\n",
      "Fizz\n",
      "19\n",
      "Buzz\n",
      "Fizz\n",
      "22\n",
      "23\n",
      "Fizz\n",
      "Buzz\n",
      "26\n",
      "Fizz\n",
      "28\n",
      "29\n",
      "FizzBuzz\n",
      "31\n",
      "32\n",
      "Fizz\n",
      "34\n",
      "Buzz\n",
      "Fizz\n",
      "37\n",
      "38\n",
      "Fizz\n",
      "Buzz\n",
      "41\n",
      "Fizz\n",
      "43\n",
      "44\n",
      "FizzBuzz\n",
      "46\n",
      "47\n",
      "Fizz\n",
      "49\n",
      "Buzz\n",
      "Fizz\n",
      "52\n",
      "53\n",
      "Fizz\n",
      "Buzz\n",
      "56\n",
      "Fizz\n",
      "58\n",
      "59\n",
      "FizzBuzz\n",
      "61\n",
      "62\n",
      "Fizz\n",
      "64\n",
      "Buzz\n",
      "Fizz\n",
      "67\n",
      "68\n",
      "Fizz\n",
      "Buzz\n",
      "71\n",
      "Fizz\n",
      "73\n",
      "74\n",
      "FizzBuzz\n",
      "76\n",
      "77\n",
      "Fizz\n",
      "79\n",
      "Buzz\n",
      "Fizz\n",
      "82\n",
      "83\n",
      "Fizz\n",
      "Buzz\n",
      "86\n",
      "Fizz\n",
      "88\n",
      "89\n",
      "FizzBuzz\n",
      "91\n",
      "92\n",
      "Fizz\n",
      "94\n",
      "Buzz\n",
      "Fizz\n",
      "97\n",
      "98\n",
      "Fizz\n",
      "Buzz\n"
     ]
    }
   ],
   "source": [
    "# YOUR CODE HERE\n",
    "\n",
    "# range(start, stop, step)\n",
    "# for loop\n",
    "# print function\n",
    "# % operator\n",
    "# check for equality\n",
    "# if-elif-else control flow\n",
    "\n",
    "for i in range(1, 101):\n",
    "    if i % 15 == 0:\n",
    "        print(\"FizzBuzz\")\n",
    "    elif i % 3 == 0:\n",
    "        print(\"Fizz\")\n",
    "    elif i % 5 == 0:\n",
    "        print(\"Buzz\")\n",
    "    else:\n",
    "        print(i)"
   ]
  },
  {
   "cell_type": "markdown",
   "metadata": {},
   "source": [
    "**2**. Given x=3 and y=4, swap the values of x and y so that x=4 and y=3."
   ]
  },
  {
   "cell_type": "code",
   "execution_count": 28,
   "metadata": {
    "collapsed": false
   },
   "outputs": [
    {
     "name": "stdout",
     "output_type": "stream",
     "text": [
      "4 4\n",
      "4 3\n"
     ]
    }
   ],
   "source": [
    "x = 3\n",
    "y = 4\n",
    "# YOUR CODE HERE\n",
    "\n",
    "# use of temporary variable\n",
    "# tuple unpacking\n",
    "\n",
    "tmp = x\n",
    "x = y\n",
    "y = x\n",
    "print x, y\n",
    "\n",
    "x = 3\n",
    "y = 4\n",
    "x, y = y, x\n",
    "print x, y"
   ]
  },
  {
   "cell_type": "markdown",
   "metadata": {},
   "source": [
    "**3**. Write a function that calculates and returns the euclidean distance between two points $u$ and $v$, where $u$ and $v$ are both 2-tuples $(x, y)$. For example, if $u = (3,0)$ and $v = (0,4)$, the function should return $5$."
   ]
  },
  {
   "cell_type": "code",
   "execution_count": 26,
   "metadata": {
    "collapsed": false
   },
   "outputs": [
    {
     "data": {
      "text/plain": [
       "5.0"
      ]
     },
     "execution_count": 26,
     "metadata": {},
     "output_type": "execute_result"
    }
   ],
   "source": [
    "# YOUR CODE HERE\n",
    "\n",
    "# euclidean distance formula\n",
    "# operators **\n",
    "# square root function\n",
    "# anatomy of a function\n",
    "\n",
    "u = (3, 0)\n",
    "v = (0, 4)\n",
    "\n",
    "((v[0] - u[0])**2 + (v[1] - u[1])**2)**0.5\n",
    "\n",
    "def euclidean(u, v):\n",
    "    \"\"\"Returns the Euclidean distance between points u and v.\"\"\"\n",
    "    return ((v[0] - u[0])**2 + (v[1] - u[1])**2)**0.5\n",
    "\n",
    "euclidean(u, v)"
   ]
  },
  {
   "cell_type": "markdown",
   "metadata": {},
   "source": [
    "**4**. Using a dictionary, write a program to calculate the number times each character occurs in the given string s. Ignore differneces in capitalization - i.e 'a' and 'A' should be treated as a single key. For example, we should get a count of 7 for 'a'."
   ]
  },
  {
   "cell_type": "code",
   "execution_count": 36,
   "metadata": {
    "collapsed": false
   },
   "outputs": [
    {
     "name": "stdout",
     "output_type": "stream",
     "text": [
      "7\n",
      "7\n",
      "7\n",
      "7\n"
     ]
    }
   ],
   "source": [
    "s = \"\"\"\n",
    "Write a program that prints the numbers from 1 to 100. \n",
    "But for multiples of three print 'Fizz' instead of the number and f\n",
    "or the multiples of five print 'Buzz'. For numbers which are \n",
    "multiples of both three and five print 'FizzBuzz'\n",
    "\"\"\"\n",
    "\n",
    "# YOUR CODE HERE\n",
    "\n",
    "# string methods\n",
    "# dictionary\n",
    "# for loop\n",
    "# collections.Counter\n",
    "\n",
    "# Version 1\n",
    "print s.lower().count('a')\n",
    "\n",
    "# Version 2\n",
    "counter1 = {}\n",
    "for _ in s.lower():\n",
    "    counter1[_] = counter1.get(_, 0) + 1\n",
    "print counter1['a']\n",
    "\n",
    "# Version 3\n",
    "from collections import defaultdict\n",
    "counter2 = defaultdict(int)\n",
    "for _ in s.lower():\n",
    "    counter2[_] += 1\n",
    "print counter2['a']\n",
    "\n",
    "# Version 4\n",
    "from collections import Counter\n",
    "counter3 = Counter(s.lower())\n",
    "print counter3['a']"
   ]
  },
  {
   "cell_type": "markdown",
   "metadata": {},
   "source": [
    "**5**. Write a program that finds the percentage of sliding windows of length 5 for the sentence s that contain at least one 'a'. Ignore case, spaces and punctuation. For example, the first sliding window is 'write' which contains 0 'a's, and the second is 'ritea' which contains 1 'a'."
   ]
  },
  {
   "cell_type": "code",
   "execution_count": 45,
   "metadata": {
    "collapsed": false
   },
   "outputs": [
    {
     "name": "stdout",
     "output_type": "stream",
     "text": [
      "34\n"
     ]
    }
   ],
   "source": [
    "s = \"\"\"\n",
    "Write a program that prints the numbers from 1 to 100. \n",
    "But for multiples of three print 'Fizz' instead of the number and f\n",
    "or the multiples of five print 'Buzz'. For numbers which are \n",
    "multiples of both three and five print 'FizzBuzz'\n",
    "\"\"\"\n",
    "\n",
    "# YOUR CODE HERE\n",
    "\n",
    "# string constants\n",
    "# translate method\n",
    "# replace method\n",
    "# slicing iterables\n",
    "# len function\n",
    "\n",
    "import string\n",
    "s1 = s.lower().translate(None, string.punctuation).replace(' ', '').replace('\\n', '')\n",
    "\n",
    "count = 0\n",
    "start = 0\n",
    "stop = 5\n",
    "\n",
    "while (stop <= len(s1)):\n",
    "    # print s1[start:stop]\n",
    "    if 'a' in s1[start:stop]:\n",
    "        count += 1\n",
    "    start += 1\n",
    "    stop += 1\n",
    "\n",
    "print count"
   ]
  },
  {
   "cell_type": "markdown",
   "metadata": {},
   "source": [
    "**6**. Find the unique numbers in the following list."
   ]
  },
  {
   "cell_type": "code",
   "execution_count": 53,
   "metadata": {
    "collapsed": false
   },
   "outputs": [
    {
     "name": "stdout",
     "output_type": "stream",
     "text": [
      "[1, 3, 5, 8, 9, 10, 16, 18, 19, 20, 24, 30, 31, 33, 34, 36, 37, 39, 41, 42, 45, 47, 50, 51, 53, 54, 55, 56, 57, 58, 63, 64, 66, 70, 72, 74, 75, 79, 81, 82, 84, 85, 86, 87, 88, 89, 90, 91, 92, 94, 95, 96, 98, 99]\n",
      "80\n",
      "54\n",
      "[1, 3, 5, 8, 9, 10, 16, 18, 19, 20, 24, 30, 31, 33, 34, 36, 37, 39, 41, 42, 45, 47, 50, 51, 53, 54, 55, 56, 57, 58, 63, 64, 66, 70, 72, 74, 75, 79, 81, 82, 84, 85, 86, 87, 88, 89, 90, 91, 92, 94, 95, 96, 98, 99]\n",
      "80\n",
      "54\n"
     ]
    }
   ],
   "source": [
    "x = [36, 45, 58, 3, 74, 96, 64, 45, 31, 10, 24, 19, 33, 86, 99, 18, 63, 70, 85,\n",
    " 85, 63, 47, 56, 42, 70, 84, 88, 55, 20, 54, 8, 56, 51, 79, 81, 57, 37, 91,\n",
    " 1, 84, 84, 36, 66, 9, 89, 50, 42, 91, 50, 95, 90, 98, 39, 16, 82, 31, 92, 41,\n",
    " 45, 30, 66, 70, 34, 85, 94, 5, 3, 36, 72, 91, 84, 34, 87, 75, 53, 51, 20, 89, 51, 20]\n",
    "\n",
    "# YOUR CODE HERE\n",
    "\n",
    "# sort and remove duplicates\n",
    "# negative indexing\n",
    "\n",
    "# version 1\n",
    "sorted_x = sorted(x)\n",
    "unique_x = [sx[0]]\n",
    "for _ in sorted_x[1:]:\n",
    "    if _ != unique_x[-1]:\n",
    "        unique_x.append(_)\n",
    "\n",
    "print unique_x\n",
    "print len(x)\n",
    "print len(unique_x)\n",
    "\n",
    "# using set\n",
    "print list(set(x))\n",
    "print len(x)\n",
    "print len(set(x))"
   ]
  },
  {
   "cell_type": "markdown",
   "metadata": {},
   "source": [
    "**7**. Write two functions - one that returns the square of a number, and one that returns the cube. Now write a third function that returns the number raised to the $6^{th}$ power using the two previous functions."
   ]
  },
  {
   "cell_type": "code",
   "execution_count": 64,
   "metadata": {
    "collapsed": false
   },
   "outputs": [],
   "source": [
    "# YOUR CODE HERE\n",
    "\n",
    "# getting comforatble with functions\n",
    "# unit tests\n",
    "\n",
    "def square(x):\n",
    "    \"\"\"Returns x^2.\"\"\"\n",
    "    return x**2\n",
    "\n",
    "def cube(x):\n",
    "    \"\"\"Returns x^3.\"\"\"\n",
    "    return x**3\n",
    "\n",
    "def pow6(x):\n",
    "    \"\"\"Returns x^6.\"\"\"\n",
    "    return cube(square(x))\n",
    "\n",
    "# use of assert for testing\n",
    "def test_pow6(x):\n",
    "    assert(abs(pow6(x) - x**6) < 1e-6)\n",
    "\n",
    "xs = [-2, 0, 1.5]\n",
    "for x in xs:\n",
    "    test_pow6(x)"
   ]
  },
  {
   "cell_type": "markdown",
   "metadata": {},
   "source": [
    "**8**. Create a list of the cubes of x for x in [0, 10] using\n",
    "\n",
    "- a for loop\n",
    "- a list comprehension\n",
    "- the map function"
   ]
  },
  {
   "cell_type": "code",
   "execution_count": 69,
   "metadata": {
    "collapsed": false
   },
   "outputs": [
    {
     "name": "stdout",
     "output_type": "stream",
     "text": [
      "[1, 8, 27, 64, 125, 216, 343, 512, 729, 1000]\n",
      "[1, 8, 27, 64, 125, 216, 343, 512, 729, 1000]\n",
      "[1, 8, 27, 64, 125, 216, 343, 512, 729, 1000]\n"
     ]
    }
   ],
   "source": [
    "# YOUR CODE HERE\n",
    "\n",
    "# list comprehensions\n",
    "# map\n",
    "# lambda functions\n",
    "\n",
    "cubes1 = []\n",
    "for i in range(1, 11):\n",
    "    cubes1.append(i**3)\n",
    "print cubes1\n",
    "\n",
    "cubes2 = [i**3 for i in range(1, 11)]\n",
    "print cubes2\n",
    "\n",
    "print map(lambda x: x**3, range(1, 11))"
   ]
  },
  {
   "cell_type": "markdown",
   "metadata": {},
   "source": [
    "**9**. A Pythagorean triple is an integer solution to the Pythagorean theorem $a^2 + b^2 = c^2$. The first Pythagorean triple is (3,4,5). Find all unique Pythagorean triples for the positive integers a, b and c less than 100."
   ]
  },
  {
   "cell_type": "code",
   "execution_count": 81,
   "metadata": {
    "collapsed": false
   },
   "outputs": [
    {
     "name": "stdout",
     "output_type": "stream",
     "text": [
      "[(1, 10), (1, 11), (1, 12), (1, 13), (2, 10), (2, 11), (2, 12), (2, 13), (3, 10), (3, 11), (3, 12), (3, 13)]\n",
      "\n",
      "[(3, 4, 5), (4, 3, 5), (5, 12, 13), (6, 8, 10), (7, 24, 25), (8, 6, 10), (8, 15, 17), (9, 12, 15), (9, 40, 41), (10, 24, 26), (11, 60, 61), (12, 5, 13), (12, 9, 15), (12, 16, 20), (12, 35, 37), (13, 84, 85), (14, 48, 50), (15, 8, 17), (15, 20, 25), (15, 36, 39), (16, 12, 20), (16, 30, 34), (16, 63, 65), (18, 24, 30), (18, 80, 82), (20, 15, 25), (20, 21, 29), (20, 48, 52), (21, 20, 29), (21, 28, 35), (21, 72, 75), (24, 7, 25), (24, 10, 26), (24, 18, 30), (24, 32, 40), (24, 45, 51), (24, 70, 74), (25, 60, 65), (27, 36, 45), (28, 21, 35), (28, 45, 53), (30, 16, 34), (30, 40, 50), (30, 72, 78), (32, 24, 40), (32, 60, 68), (33, 44, 55), (33, 56, 65), (35, 12, 37), (35, 84, 91), (36, 15, 39), (36, 27, 45), (36, 48, 60), (36, 77, 85), (39, 52, 65), (39, 80, 89), (40, 9, 41), (40, 30, 50), (40, 42, 58), (40, 75, 85), (42, 40, 58), (42, 56, 70), (44, 33, 55), (45, 24, 51), (45, 28, 53), (45, 60, 75), (48, 14, 50), (48, 20, 52), (48, 36, 60), (48, 55, 73), (48, 64, 80), (51, 68, 85), (52, 39, 65), (54, 72, 90), (55, 48, 73), (56, 33, 65), (56, 42, 70), (57, 76, 95), (60, 11, 61), (60, 25, 65), (60, 32, 68), (60, 45, 75), (60, 63, 87), (63, 16, 65), (63, 60, 87), (64, 48, 80), (65, 72, 97), (68, 51, 85), (70, 24, 74), (72, 21, 75), (72, 30, 78), (72, 54, 90), (72, 65, 97), (75, 40, 85), (76, 57, 95), (77, 36, 85), (80, 18, 82), (80, 39, 89), (84, 13, 85), (84, 35, 91)]\n",
      "\n",
      "[(3, 4, 5), (5, 12, 13), (6, 8, 10), (7, 24, 25), (8, 15, 17), (9, 12, 15), (9, 40, 41), (10, 24, 26), (11, 60, 61), (12, 16, 20), (12, 35, 37), (13, 84, 85), (14, 48, 50), (15, 20, 25), (15, 36, 39), (16, 30, 34), (16, 63, 65), (18, 24, 30), (18, 80, 82), (20, 21, 29), (20, 48, 52), (21, 28, 35), (21, 72, 75), (24, 32, 40), (24, 45, 51), (24, 70, 74), (25, 60, 65), (27, 36, 45), (28, 45, 53), (30, 40, 50), (30, 72, 78), (32, 60, 68), (33, 44, 55), (33, 56, 65), (35, 84, 91), (36, 48, 60), (36, 77, 85), (39, 52, 65), (39, 80, 89), (40, 42, 58), (40, 75, 85), (42, 56, 70), (45, 60, 75), (48, 55, 73), (48, 64, 80), (51, 68, 85), (54, 72, 90), (57, 76, 95), (60, 63, 87), (65, 72, 97)]\n"
     ]
    }
   ],
   "source": [
    "# YOUR CODE HERE\n",
    "\n",
    "# nested list comprehsnions\n",
    "# inner and outer loops\n",
    "\n",
    "print([(i, j) for i in range(1,4) for j in range(10, 14)])\n",
    "print \n",
    "\n",
    "pythagorean_triples = [(a, b, c) for a in range(1, 100) \n",
    "                                 for b in range(1, 100) \n",
    "                                 for c in range(1, 100)\n",
    "                                 if a**2 + b**2 == c**2]\n",
    "print pythagorean_triples\n",
    "print\n",
    "\n",
    "pythagorean_triples = [(a, b, c) for a in range(1, 100) \n",
    "                                 for b in range(a, 100) \n",
    "                                 for c in range(b, 100)\n",
    "                                 if a**2 + b**2 == c**2]\n",
    "print pythagorean_triples"
   ]
  },
  {
   "cell_type": "markdown",
   "metadata": {},
   "source": [
    "**10**. Fix the bug in this function that is intended to take a list of numbers and return a list of normalized numbers.\n",
    "\n",
    "```python\n",
    "def f(xs):\n",
    "    \"\"\"Return normalized list summing to 1.\"\"\"\n",
    "    s = 0\n",
    "    for x in xs:\n",
    "        s += x\n",
    "    return [x/s for x in xs]\n",
    "```"
   ]
  },
  {
   "cell_type": "code",
   "execution_count": 85,
   "metadata": {
    "collapsed": false
   },
   "outputs": [
    {
     "name": "stdout",
     "output_type": "stream",
     "text": [
      "[0.1, 0.2, 0.3, 0.4]\n",
      "[0, 0, 0, 0]\n",
      "[0.1, 0.2, 0.3, 0.4]\n",
      "[0.1, 0.2, 0.3, 0.4]\n"
     ]
    }
   ],
   "source": [
    "# YOUR CODE HERE\n",
    "\n",
    "# elementary debugging\n",
    "\n",
    "def f(xs):\n",
    "    \"\"\"Return normalized list summing to 1.\"\"\"\n",
    "    s = 0\n",
    "    for x in xs:\n",
    "        s += x\n",
    "    return [x/s for x in xs]\n",
    "\n",
    "xs = [1.1,2.2,3.3,4.4]\n",
    "print f(xs)\n",
    "\n",
    "xs = [1,2,3,4]\n",
    "print f(xs)\n",
    "\n",
    "\n",
    "def f(xs):\n",
    "    \"\"\"Return normalized list summing to 1.\"\"\"\n",
    "    s = 0.0\n",
    "    for x in xs:\n",
    "        s += x\n",
    "    return [x/s for x in xs]\n",
    "\n",
    "\n",
    "xs = [1.1,2.2,3.3,4.4]\n",
    "print f(xs)\n",
    "\n",
    "xs = [1,2,3,4]\n",
    "print f(xs)"
   ]
  },
  {
   "cell_type": "code",
   "execution_count": 13,
   "metadata": {
    "collapsed": false
   },
   "outputs": [],
   "source": []
  }
 ],
 "metadata": {
  "kernelspec": {
   "display_name": "Python 2",
   "language": "python",
   "name": "python2"
  },
  "language_info": {
   "codemirror_mode": {
    "name": "ipython",
    "version": 2
   },
   "file_extension": ".py",
   "mimetype": "text/x-python",
   "name": "python",
   "nbconvert_exporter": "python",
   "pygments_lexer": "ipython2",
   "version": "2.7.9"
  }
 },
 "nbformat": 4,
 "nbformat_minor": 0
}
