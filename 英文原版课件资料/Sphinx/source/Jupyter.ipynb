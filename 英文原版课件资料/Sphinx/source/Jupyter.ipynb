{
 "cells": [
  {
   "cell_type": "markdown",
   "metadata": {},
   "source": [
    "Tour of the Jupyter (IPython3) notebook\n",
    "===="
   ]
  },
  {
   "cell_type": "markdown",
   "metadata": {},
   "source": [
    "## Installing Jupyter\n",
    "\n",
    "If you have not already done so, run\n",
    "```\n",
    "! pip install -U ipython\n",
    "```"
   ]
  },
  {
   "cell_type": "markdown",
   "metadata": {},
   "source": [
    "## Installing other kernels\n",
    "\n",
    "A list of kernels is maintained [here](https://github.com/ipython/ipython/wiki/IPython-kernels-for-other-languages)"
   ]
  },
  {
   "cell_type": "markdown",
   "metadata": {},
   "source": [
    "### Bash"
   ]
  },
  {
   "cell_type": "code",
   "execution_count": null,
   "metadata": {
    "collapsed": true
   },
   "outputs": [],
   "source": [
    "! pip install bash_kernel "
   ]
  },
  {
   "cell_type": "markdown",
   "metadata": {},
   "source": [
    "### R"
   ]
  },
  {
   "cell_type": "markdown",
   "metadata": {},
   "source": [
    "Run this in your shell\n",
    "```bash\n",
    "sudo apt-get install libzmq3-dev libcurl4-openssl-dev\n",
    "```"
   ]
  },
  {
   "cell_type": "markdown",
   "metadata": {},
   "source": [
    "Run this in R\n",
    "```R\n",
    "install.packages(\"devtools\")\n",
    "install.packages('RCurl')\n",
    "library(devtools)\n",
    "install_github('armstrtw/rzmq')\n",
    "install_github('IRkernel/repr')\n",
    "install_github('IRkernel/IRdisplay')\n",
    "install_github('IRkernel/IRkernel')\n",
    "IRkernel::installspec()\n",
    "```"
   ]
  },
  {
   "cell_type": "markdown",
   "metadata": {},
   "source": [
    "### Julia"
   ]
  },
  {
   "cell_type": "markdown",
   "metadata": {},
   "source": [
    "Download and install [Julia](http://julialang.org/downloads/). Then run this in Julia\n",
    "```\n",
    "Pkg.add(\"IJulia\")\n",
    "```"
   ]
  },
  {
   "cell_type": "markdown",
   "metadata": {},
   "source": [
    "### Octave\n",
    "\n",
    "Install octave in your shell\n",
    "```bash\n",
    "sudo apt-get install octave\n",
    "```"
   ]
  },
  {
   "cell_type": "code",
   "execution_count": null,
   "metadata": {
    "collapsed": false
   },
   "outputs": [],
   "source": [
    "! pip install octave_kernel"
   ]
  },
  {
   "cell_type": "markdown",
   "metadata": {},
   "source": [
    "### Matlab\n",
    "\n",
    "You must have Matlab on your system - Duke has a site licesne so you should be able to get it."
   ]
  },
  {
   "cell_type": "code",
   "execution_count": null,
   "metadata": {
    "collapsed": false
   },
   "outputs": [],
   "source": [
    "! pip install pymatbridge "
   ]
  },
  {
   "cell_type": "code",
   "execution_count": null,
   "metadata": {
    "collapsed": false
   },
   "outputs": [],
   "source": [
    "! pip install matlab_kernel"
   ]
  },
  {
   "cell_type": "markdown",
   "metadata": {},
   "source": [
    "### Scala\n",
    "\n",
    "Install [Scala](http://www.scala-lang.org/download/). Add these lines to ~/.bashrc\n",
    "\n",
    "```\n",
    "export SCALA_HOME=/usr/local/share/scala\n",
    "export PATH=$PATH:$SCALA_HOME/bin:$PATH\n",
    "```"
   ]
  },
  {
   "cell_type": "markdown",
   "metadata": {},
   "source": [
    "Follow these instructions from the GitHub site:\n",
    "    \n",
    "Download and unpack pre-packaged binaries [Scala 2.11](https://oss.sonatype.org/content/repositories/snapshots/sh/jove/jove-scala-cli_2.11/0.1.1-1-SNAPSHOT/jove-scala-cli_2.11-0.1.1-1-SNAPSHOT.tar.gz). Unpack each downloaded archive(s), and, from a console, go to the bin sub-directory of the directory it contains. Then run the following to set-up the corresponding Scala kernel:\n",
    "\n",
    "```bash\n",
    "./jove-scala --kernel-spec\n",
    "```"
   ]
  },
  {
   "cell_type": "markdown",
   "metadata": {},
   "source": [
    "## Installing extensions\n",
    "\n",
    "See description of extensions [here](http://jupyter.cs.brynmawr.edu/hub/dblank/public/Jupyter%20Help.ipynb#1.4.2-Enable-Python-3-kernel)\n",
    "\n",
    "And also see the tutorial on [bibliographic support](http://jupyter.cs.brynmawr.edu/hub/dblank/public/Jupyter%20Notebook%20Users%20Manual.ipynb#5.-Bibliographic-Support) in Jupyter."
   ]
  },
  {
   "cell_type": "markdown",
   "metadata": {},
   "source": [
    "### Spell-checking"
   ]
  },
  {
   "cell_type": "code",
   "execution_count": null,
   "metadata": {
    "collapsed": false
   },
   "outputs": [],
   "source": [
    "! ipython install-nbextension \\\n",
    "    https://bitbucket.org/ipre/calico/downloads/calico-spell-check-1.0.zip"
   ]
  },
  {
   "cell_type": "markdown",
   "metadata": {},
   "source": [
    "### Notebook sections"
   ]
  },
  {
   "cell_type": "code",
   "execution_count": null,
   "metadata": {
    "collapsed": true
   },
   "outputs": [],
   "source": [
    "! !ipython install-nbextension \\\n",
    "    https://bitbucket.org/ipre/calico/downloads/calico-document-tools-1.0.zip"
   ]
  },
  {
   "cell_type": "markdown",
   "metadata": {},
   "source": [
    "### Adding to configuration"
   ]
  },
  {
   "cell_type": "code",
   "execution_count": null,
   "metadata": {
    "collapsed": true
   },
   "outputs": [],
   "source": [
    "%%file ~/.ipython/profile_default/static/custom/custom.js\n",
    "\n",
    "require([\"base/js/events\"], function (events) {\n",
    "    events.on(\"app_initialized.NotebookApp\", function () {\n",
    "        IPython.load_extensions('calico-spell-check', 'calico-document-tools');\n",
    "        // To turn off automatically creating closing parenthesis and bracket:\n",
    "        IPython.CodeCell.options_default.cm_config[\"autoCloseBrackets\"] = \"\";\n",
    "    });\n",
    "});"
   ]
  },
  {
   "cell_type": "markdown",
   "metadata": {},
   "source": [
    "## Installing Python3 while keeping Python2"
   ]
  },
  {
   "cell_type": "code",
   "execution_count": null,
   "metadata": {
    "collapsed": false
   },
   "outputs": [],
   "source": [
    "%%bash\n",
    "\n",
    "conda create -n python3 python=3.4 anaconda\n",
    "source activate python3\n",
    "pip install -U ipython\n",
    "ipython3 kernelspec install-self "
   ]
  },
  {
   "cell_type": "markdown",
   "metadata": {},
   "source": [
    "## Now, restart your notebook server\n",
    "\n",
    "If you were successful, you should now see a large number of kernnel options in the New drop dwon menu."
   ]
  },
  {
   "cell_type": "markdown",
   "metadata": {},
   "source": [
    "Note that you can also change the kernel used *for each individual cell*!"
   ]
  },
  {
   "cell_type": "code",
   "execution_count": null,
   "metadata": {
    "collapsed": true
   },
   "outputs": [],
   "source": []
  }
 ],
 "metadata": {
  "kernelspec": {
   "display_name": "Python 2",
   "language": "python",
   "name": "python2"
  },
  "language_info": {
   "codemirror_mode": {
    "name": "ipython",
    "version": 2
   },
   "file_extension": ".py",
   "mimetype": "text/x-python",
   "name": "python",
   "nbconvert_exporter": "python",
   "pygments_lexer": "ipython2",
   "version": "2.7.9"
  }
 },
 "nbformat": 4,
 "nbformat_minor": 0
}
