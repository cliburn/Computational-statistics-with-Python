{
 "cells": [
  {
   "cell_type": "markdown",
   "metadata": {},
   "source": [
    "Working with text\n",
    "====\n",
    "\n",
    "One of Python's strengths is the ease of working with text. Here are some examples."
   ]
  },
  {
   "cell_type": "markdown",
   "metadata": {},
   "source": [
    "String methods\n",
    "----"
   ]
  },
  {
   "cell_type": "code",
   "execution_count": 1,
   "metadata": {
    "collapsed": false
   },
   "outputs": [
    {
     "name": "stdout",
     "output_type": "stream",
     "text": [
      "10\n",
      "72\n",
      "-1\n"
     ]
    }
   ],
   "source": [
    "# multi-line strings use triple quotes\n",
    "s = \"\"\"\n",
    "it was the best of times,\n",
    "it was the worst of times,\n",
    "it was the age of wisdom,\n",
    "it was the age of foolishness,\n",
    "it was the epoch of belief,\n",
    "it was the epoch of incredulity,\n",
    "it was the season of Light,\n",
    "it was the season of Darkness,\n",
    "it was the spring of hope,\n",
    "it was the winter of despair,\n",
    "\"\"\"\n",
    "\n",
    "print s.count('of')\n",
    "print s.find('wisdom')\n",
    "print s.find('foolsihness')"
   ]
  },
  {
   "cell_type": "code",
   "execution_count": 2,
   "metadata": {
    "collapsed": false
   },
   "outputs": [
    {
     "name": "stdout",
     "output_type": "stream",
     "text": [
      "\n",
      "IT WAS THE BEST OF TIMES,\n",
      "IT WAS THE WORST OF TIMES,\n",
      "IT WAS THE AGE OF WISDOM,\n",
      "IT WAS THE AGE OF FOOLISHNESS,\n",
      "IT WAS THE EPOCH OF BELIEF,\n",
      "IT WAS THE EPOCH OF INCREDULITY,\n",
      "IT WAS THE SEASON OF LIGHT,\n",
      "IT WAS THE SEASON OF DARKNESS,\n",
      "IT WAS THE SPRING OF HOPE,\n",
      "IT WAS THE WINTER OF DESPAIR,\n",
      "\n"
     ]
    }
   ],
   "source": [
    "print s.upper()"
   ]
  },
  {
   "cell_type": "code",
   "execution_count": 3,
   "metadata": {
    "collapsed": false
   },
   "outputs": [
    {
     "name": "stdout",
     "output_type": "stream",
     "text": [
      "\n",
      "it might have been the best of times,\n",
      "it might have been the worst of times,\n",
      "it might have been the age of wisdom,\n",
      "it might have been the age of foolishness,\n",
      "it might have been the epoch of belief,\n",
      "it might have been the epoch of incredulity,\n",
      "it might have been the season of Light,\n",
      "it might have been the season of Darkness,\n",
      "it might have been the spring of hope,\n",
      "it might have been the winter of despair,\n",
      "\n"
     ]
    }
   ],
   "source": [
    "print s.replace('was', 'might have been')"
   ]
  },
  {
   "cell_type": "markdown",
   "metadata": {},
   "source": [
    "Splitting and joining strings\n",
    "----"
   ]
  },
  {
   "cell_type": "code",
   "execution_count": 4,
   "metadata": {
    "collapsed": false
   },
   "outputs": [
    {
     "name": "stdout",
     "output_type": "stream",
     "text": [
      "/bin/sh: /usr/local/bin:/Users/cliburn/git/julia/:/Developer/NVIDIA/CUDA-6.5/bin:/Users/cliburn/anaconda/bin:/usr/bin:/bin:/usr/sbin:/sbin:/usr/local/bin:/opt/X11/bin:/usr/texbin: No such file or directory\n"
     ]
    }
   ],
   "source": [
    "paths = !`echo $PATH`\n",
    "print paths[0]"
   ]
  },
  {
   "cell_type": "code",
   "execution_count": 5,
   "metadata": {
    "collapsed": false
   },
   "outputs": [
    {
     "name": "stdout",
     "output_type": "stream",
     "text": [
      "=> bin=> sh\n",
      "=> usr=> local=> bin\n",
      "=> Users=> cliburn=> git=> julia=> \n",
      "=> Developer=> NVIDIA=> CUDA-6.5=> bin\n",
      "=> Users=> cliburn=> anaconda=> bin\n",
      "=> usr=> bin\n",
      "=> bin\n",
      "=> usr=> sbin\n",
      "=> sbin\n",
      "=> usr=> local=> bin\n",
      "=> opt=> X11=> bin\n",
      "=> usr=> texbin\n",
      "No such file or directory\n"
     ]
    }
   ],
   "source": [
    "for path in paths[0].split(':'):\n",
    "    print '=> '.join(path.strip().split('/'))"
   ]
  },
  {
   "cell_type": "markdown",
   "metadata": {},
   "source": [
    "## The string module\n",
    "\n",
    "The string module provides a very useful maketrans function. It is easeir to show than to explain what this does."
   ]
  },
  {
   "cell_type": "code",
   "execution_count": 6,
   "metadata": {
    "collapsed": false
   },
   "outputs": [
    {
     "name": "stdout",
     "output_type": "stream",
     "text": [
      "gauuaca\n"
     ]
    }
   ],
   "source": [
    "from string import maketrans\n",
    "\n",
    "dna_to_rna = maketrans('ACTG', 'ACUG')\n",
    "\n",
    "dna = 'gattaca'\n",
    "print dna.upper().translate(dna_to_rna).lower()"
   ]
  },
  {
   "cell_type": "code",
   "execution_count": 7,
   "metadata": {
    "collapsed": false
   },
   "outputs": [
    {
     "name": "stdout",
     "output_type": "stream",
     "text": [
      "!\"#$%&'()*+,-./:;<=>?@[\\]^_`{|}~\n"
     ]
    }
   ],
   "source": [
    "# Incidentally the translate function is useful for getting rid of unwanted characters in a string\n",
    "\n",
    "from string import punctuation\n",
    "print punctuation"
   ]
  },
  {
   "cell_type": "code",
   "execution_count": 8,
   "metadata": {
    "collapsed": false
   },
   "outputs": [],
   "source": [
    "import os\n",
    "\n",
    "# Alice in Wonderland from Project Gutenberg\n",
    "\n",
    "if not os.path.exists('alice.txt'):\n",
    "    ! wget http://www.gutenberg.org/cache/epub/11/pg11.txt -O alice.txt"
   ]
  },
  {
   "cell_type": "code",
   "execution_count": 9,
   "metadata": {
    "collapsed": false
   },
   "outputs": [
    {
     "name": "stdout",
     "output_type": "stream",
     "text": [
      "('the', 1804)\n",
      "('and', 912)\n",
      "('to', 801)\n",
      "('a', 684)\n",
      "('of', 625)\n",
      "('it', 541)\n",
      "('she', 538)\n",
      "('said', 462)\n",
      "('you', 429)\n",
      "('in', 428)\n",
      "alice 385\n"
     ]
    }
   ],
   "source": [
    "from collections import Counter\n",
    "\n",
    "# Remove \n",
    "alice = open('alice.txt').read()\n",
    "words = alice.translate(None, punctuation).lower().split()\n",
    "word_counts = Counter(words)\n",
    "for item in word_counts.most_common(10):\n",
    "    print item\n",
    "print 'alice', word_counts['alice']"
   ]
  },
  {
   "cell_type": "markdown",
   "metadata": {},
   "source": [
    "Regular expressions\n",
    "----\n",
    "\n",
    "Regular expressions are a domain specific language for flexible text processing. It is a useful tool, but can be hard to deciper unless you use it often. Where possible, use string methods in preference to regular expressions. Sometiems, however, regular expressiosn are extreemly useful. We will illustrate its use for motif finding in DNA seqeucnes.\n",
    "\n",
    "\n",
    "\n",
    "See [Regular Expression HOWTO](https://docs.python.org/2/howto/regex.html) and the [re documnetation](https://docs.python.org/2/library/re.html) for details."
   ]
  },
  {
   "cell_type": "code",
   "execution_count": 10,
   "metadata": {
    "collapsed": false
   },
   "outputs": [],
   "source": [
    "# Here is the E Coli DNA sequnce for the beta-D-galactosidase enzyme.\n",
    "\n",
    "gene = \"\"\"\n",
    ">ENA|BAE76126|BAE76126.1 Escherichia coli str. K-12 substr. W3110 beta-D-galactosidase \n",
    "ATGACCATGATTACGGATTCACTGGCCGTCGTTTTACAACGTCGTGACTGGGAAAACCCT\n",
    "GGCGTTACCCAACTTAATCGCCTTGCAGCACATCCCCCTTTCGCCAGCTGGCGTAATAGC\n",
    "GAAGAGGCCCGCACCGATCGCCCTTCCCAACAGTTGCGCAGCCTGAATGGCGAATGGCGC\n",
    "TTTGCCTGGTTTCCGGCACCAGAAGCGGTGCCGGAAAGCTGGCTGGAGTGCGATCTTCCT\n",
    "GAGGCCGATACTGTCGTCGTCCCCTCAAACTGGCAGATGCACGGTTACGATGCGCCCATC\n",
    "TACACCAACGTGACCTATCCCATTACGGTCAATCCGCCGTTTGTTCCCACGGAGAATCCG\n",
    "ACGGGTTGTTACTCGCTCACATTTAATGTTGATGAAAGCTGGCTACAGGAAGGCCAGACG\n",
    "CGAATTATTTTTGATGGCGTTAACTCGGCGTTTCATCTGTGGTGCAACGGGCGCTGGGTC\n",
    "GGTTACGGCCAGGACAGTCGTTTGCCGTCTGAATTTGACCTGAGCGCATTTTTACGCGCC\n",
    "GGAGAAAACCGCCTCGCGGTGATGGTGCTGCGCTGGAGTGACGGCAGTTATCTGGAAGAT\n",
    "CAGGATATGTGGCGGATGAGCGGCATTTTCCGTGACGTCTCGTTGCTGCATAAACCGACT\n",
    "ACACAAATCAGCGATTTCCATGTTGCCACTCGCTTTAATGATGATTTCAGCCGCGCTGTA\n",
    "CTGGAGGCTGAAGTTCAGATGTGCGGCGAGTTGCGTGACTACCTACGGGTAACAGTTTCT\n",
    "TTATGGCAGGGTGAAACGCAGGTCGCCAGCGGCACCGCGCCTTTCGGCGGTGAAATTATC\n",
    "GATGAGCGTGGTGGTTATGCCGATCGCGTCACACTACGTCTGAACGTCGAAAACCCGAAA\n",
    "CTGTGGAGCGCCGAAATCCCGAATCTCTATCGTGCGGTGGTTGAACTGCACACCGCCGAC\n",
    "GGCACGCTGATTGAAGCAGAAGCCTGCGATGTCGGTTTCCGCGAGGTGCGGATTGAAAAT\n",
    "GGTCTGCTGCTGCTGAACGGCAAGCCGTTGCTGATTCGAGGCGTTAACCGTCACGAGCAT\n",
    "CATCCTCTGCATGGTCAGGTCATGGATGAGCAGACGATGGTGCAGGATATCCTGCTGATG\n",
    "AAGCAGAACAACTTTAACGCCGTGCGCTGTTCGCATTATCCGAACCATCCGCTGTGGTAC\n",
    "ACGCTGTGCGACCGCTACGGCCTGTATGTGGTGGATGAAGCCAATATTGAAACCCACGGC\n",
    "ATGGTGCCAATGAATCGTCTGACCGATGATCCGCGCTGGCTACCGGCGATGAGCGAACGC\n",
    "GTAACGCGAATGGTGCAGCGCGATCGTAATCACCCGAGTGTGATCATCTGGTCGCTGGGG\n",
    "AATGAATCAGGCCACGGCGCTAATCACGACGCGCTGTATCGCTGGATCAAATCTGTCGAT\n",
    "CCTTCCCGCCCGGTGCAGTATGAAGGCGGCGGAGCCGACACCACGGCCACCGATATTATT\n",
    "TGCCCGATGTACGCGCGCGTGGATGAAGACCAGCCCTTCCCGGCTGTGCCGAAATGGTCC\n",
    "ATCAAAAAATGGCTTTCGCTACCTGGAGAGACGCGCCCGCTGATCCTTTGCGAATACGCC\n",
    "CACGCGATGGGTAACAGTCTTGGCGGTTTCGCTAAATACTGGCAGGCGTTTCGTCAGTAT\n",
    "CCCCGTTTACAGGGCGGCTTCGTCTGGGACTGGGTGGATCAGTCGCTGATTAAATATGAT\n",
    "GAAAACGGCAACCCGTGGTCGGCTTACGGCGGTGATTTTGGCGATACGCCGAACGATCGC\n",
    "CAGTTCTGTATGAACGGTCTGGTCTTTGCCGACCGCACGCCGCATCCAGCGCTGACGGAA\n",
    "GCAAAACACCAGCAGCAGTTTTTCCAGTTCCGTTTATCCGGGCAAACCATCGAAGTGACC\n",
    "AGCGAATACCTGTTCCGTCATAGCGATAACGAGCTCCTGCACTGGATGGTGGCGCTGGAT\n",
    "GGTAAGCCGCTGGCAAGCGGTGAAGTGCCTCTGGATGTCGCTCCACAAGGTAAACAGTTG\n",
    "ATTGAACTGCCTGAACTACCGCAGCCGGAGAGCGCCGGGCAACTCTGGCTCACAGTACGC\n",
    "GTAGTGCAACCGAACGCGACCGCATGGTCAGAAGCCGGGCACATCAGCGCCTGGCAGCAG\n",
    "TGGCGTCTGGCGGAAAACCTCAGTGTGACGCTCCCCGCCGCGTCCCACGCCATCCCGCAT\n",
    "CTGACCACCAGCGAAATGGATTTTTGCATCGAGCTGGGTAATAAGCGTTGGCAATTTAAC\n",
    "CGCCAGTCAGGCTTTCTTTCACAGATGTGGATTGGCGATAAAAAACAACTGCTGACGCCG\n",
    "CTGCGCGATCAGTTCACCCGTGCACCGCTGGATAACGACATTGGCGTAAGTGAAGCGACC\n",
    "CGCATTGACCCTAACGCCTGGGTCGAACGCTGGAAGGCGGCGGGCCATTACCAGGCCGAA\n",
    "GCAGCGTTGTTGCAGTGCACGGCAGATACACTTGCTGATGCGGTGCTGATTACGACCGCT\n",
    "CACGCGTGGCAGCATCAGGGGAAAACCTTATTTATCAGCCGGAAAACCTACCGGATTGAT\n",
    "GGTAGTGGTCAAATGGCGATTACCGTTGATGTTGAAGTGGCGAGCGATACACCGCATCCG\n",
    "GCGCGGATTGGCCTGAACTGCCAGCTGGCGCAGGTAGCAGAGCGGGTAAACTGGCTCGGA\n",
    "TTAGGGCCGCAAGAAAACTATCCCGACCGCCTTACTGCCGCCTGTTTTGACCGCTGGGAT\n",
    "CTGCCATTGTCAGACATGTATACCCCGTACGTCTTCCCGAGCGAAAACGGTCTGCGCTGC\n",
    "GGGACGCGCGAATTGAATTATGGCCCACACCAGTGGCGCGGCGACTTCCAGTTCAACATC\n",
    "AGCCGCTACAGTCAACAGCAACTGATGGAAACCAGCCATCGCCATCTGCTGCACGCGGAA\n",
    "GAAGGCACATGGCTGAATATCGACGGTTTCCATATGGGGATTGGTGGCGACGACTCCTGG\n",
    "AGCCCGTCAGTATCGGCGGAATTCCAGCTGAGCGCCGGTCGCTACCATTACCAGTTGGTC\n",
    "TGGTGTCAAAAATAA\n",
    "\"\"\""
   ]
  },
  {
   "cell_type": "code",
   "execution_count": 11,
   "metadata": {
    "collapsed": false
   },
   "outputs": [
    {
     "name": "stdout",
     "output_type": "stream",
     "text": [
      "ATGACCATGATTACGGATTCACTGGCCGTCGTTTTACAACGTCGTGACTGGGAAAACCCT\n",
      "GGCGTTACCCAACTTAATCGCCTTGCAGCACATCCCCCTTTCGCCAGCTGGCGTA     \n",
      " AAGAGGCCCGCACCGATCGCCCTTCCCAACAGTTGCGCAGCCTGAATGGCGAATGGCGC\n",
      "TTTGCCTGGTTTCCGGCACCAGAAGCGGTGCCGGAAAGCTGGCTGGAGTGCGATCTTCCT\n",
      "GAGGCCG         TCGTCCCCTCAAACTGGCAGATGCACGGTTACGATGCGCCCATC\n",
      "TACACCAACGTGACCTATCCCATTACGGTCAATCCGCCGTTTGTTCCCACGGAGAATCCG\n",
      "ACGGGTTGTTACTCGCTCACATTTAATGTTGATGAAAGCTGGCTACAGGAAGGCCAGACG\n",
      "CGAATTATTTTTGATGGCGTTAACTCGGCGTTTCATCTGTGGTGCAACGGGCGCTGGGTC\n",
      "GGTTACGGCCAGGACAGTCGTTTGCCGTCTGAATTTGACCTGAGCGCATTTTTACGCGCC\n",
      "GGAGAAAACCGCCTCGCGGTGATGGTGCTGCGCTGGAGTGACGGCAGTTATCTGGAAGAT\n",
      "CAGGATATGTGGCGGATGAGCGGCATTTTCCGTGACGTCTCGTTGCTGC        ACT\n",
      "ACACAAATCAGCGATTTCCATGTTGCCACTCGCTTTAATGATGATTTCAGCCGCGCTGTA\n",
      "CTGGAGGCTGAAGTTCAGATGTGCGGCGAGTTGCGTGACTACCTACGGGTAACAGTTTCT\n",
      "TTATGGCAGGGTGAAACGCAGGTCGCCAGCGGCACCGCGCCTTTCGGCGGTGAAATTATC\n",
      "GATGAGCGTGGTGGTTATGCCGATCGCGTCACACTACGTCTGAACGTCGAAAACCCGAAA\n",
      "CTGTGGAGCGCCGAAATCCCGAATCTCTATCGTGCGGTGGTTGAACTGCACACCGCCGAC\n",
      "GGCACGCTGATTGAAGCAGAAGCCTGCGATGTCGGTTTCCGCGAGGTGCGGATTGAAAAT\n",
      "GGTCTGCTGCTGCTGAACGGCAAGCCGTTGCTGATTCGAGGCGTTAACCGTCACGAGCAT\n",
      "CATCCTCTGCATGGTCAGGTCATGGATGAGCAGACGATGGTGCAGGATATCCTGCTGATG\n",
      "AAGCAGAACAACTTTAACGCCGTGCGCTGTTCGCATTATCCGAACCATCCGCTGTGGTAC\n",
      "ACGCTGTGCGACCGCTACGGCCTGTATGTGGTGGATGAAGCCAATATTGAAACCCACGGC\n",
      "ATGGTGCCAATGAATCGTCTGACCGATGATCCGCGCTGGCTACCGGCGATGAGCGAACGC\n",
      "GTAACGCGAATGGTGCAGCGCGATCGTAATCACCCGAGTGTGATCATCTGGTCGCTGGGG\n",
      "AATGAATCAGGCCACGGCGCTAATCACGACGCGCTGTATCGCTGGATCAAATCTGTCGAT\n",
      "CCTTCCCGCCCGGTGCAGTATGAAGGCGGCGGAGCCGACACCACGGCCACCGATATTATT\n",
      "TGCCCGATGTACGCGCGCGTGGATGAAGACCAGCCCTTCCCGGCTGTGCCGAAATGGTCC\n",
      "ATCAAAAAATGGCTTTCGCTACCTGGAGAGACGCGCCCGCTGATCCTTTGCGAATACGCC\n",
      "CACGCGATGGGTAACAGTCTTGGCGGTTTCGCTAAATACTGGCAGGCGTTTCGTCAGTAT\n",
      "CCCCGTTTACAGGGCGGCTTCGTCTGGGACTGGGTGGATCAGTCGCTGATTAAATATGAT\n",
      "GAAAACGGCAACCCGTGGTCGGCTTACGGCGGTGATTTTGGCG        AACGATCGC\n",
      "CAGTTCTGTATGAACGGTCTGGTCTTTGCCGACCGCACGCCGCATCCAGCGCTGACGGAA\n",
      "GCAAAACACCAGCAGCAGTTTTTCCAGTTCCGTTTATCCGGGCAAACCATCGAAGTGACC\n",
      "AGCGAATACCTGTTCCGTC            AGCTCCTGCACTGGATGGTGGCGCTGGAT\n",
      "GGTAAGCCGCTGGCAAGCGGTGAAGTGCCTCTGGATGTCGCTCCACAAGGTAAACAGTTG\n",
      "ATTGAACTGCCTGAACTACCGCAGCCGGAGAGCGCCGGGCAACTCTGGCTCACAGTACGC\n",
      "GTAGTGCAACCGAACGCGACCGCATGGTCAGAAGCCGGGCACATCAGCGCCTGGCAGCAG\n",
      "TGGCGTCTGGCGGAAAACCTCAGTGTGACGCTCCCCGCCGCGTCCCACGCCATCCCGCAT\n",
      "CTGACCACCAGCGAAATGGATTTTTGCATCGAGCTGGGTA       TTGGCAATTTAAC\n",
      "CGCCAGTCAGGCTTTCTTTCACAGATGTGGATTGGCGATAAAAAACAACTGCTGACGCCG\n",
      "CTGCGCGATCAGTTCACCCGTGCACCGCTGG      ACATTGGCGTAAGTGAAGCGACC\n",
      "CGCATTGACCCTAACGCCTGGGTCGAACGCTGGAAGGCGGCGGGCCATTACCAGGCCGAA\n",
      "GCAGCGTTGTTGCAGTGCACGGCAGATACACTTGCTGATGCGGTGCTGATTACGACCGCT\n",
      "CACGCGTGGCAGCATCAGGGGAAAACCTTATTTATCAGCCGGAAAACCTACCGGATTGAT\n",
      "GGTAGTGGTCAAATGGCGATTACCGTTGATGTTGAAGTGGCGAGCG        CATCCG\n",
      "GCGCGGATTGGCCTGAACTGCCAGCTGGCGCAGGTAGCAGAGCGGGTAAACTGGCTCGGA\n",
      "TTAGGGCCGCAAGAAAACTATCCCGACCGCCTTACTGCCGCCTGTTTTGACCGCTGGGAT\n",
      "CTGCCATTGTCAGACATGT        TACGTCTTCCCGAGCGAAAACGGTCTGCGCTGC\n",
      "GGGACGCGCGAATTGAATTATGGCCCACACCAGTGGCGCGGCGACTTCCAGTTCAACATC\n",
      "AGCCGCTACAGTCAACAGCAACTGATGGAAACCAGCCATCGCCATCTGCTGCACGCGGAA\n",
      "GAAGGCACATGGCTGA         GTTTCCATATGGGGATTGGTGGCGACGACTCCTGG\n",
      "AGCCCGTCAGTATCGGCGGAATTCCAGCTGAGCGCCGGTCGCTACCATTACCAGTTGGTC\n"
     ]
    }
   ],
   "source": [
    "# Suppose we want to replace motifs that start wtih 'ATA', \n",
    "# followed by between 1 and 4 of any nucleotide, followed by 'CG'\n",
    "# with a blank string of the same length\n",
    "\n",
    "import re\n",
    "from toolz import partition\n",
    "\n",
    "def replace(match):\n",
    "    return ' ' * len(match.group(0))\n",
    "\n",
    "# convert FASTA into single DNA sequence\n",
    "dna = ''.join(line for line in gene.strip().split('\\n') \n",
    "              if not line.startswith('>'))\n",
    "pattern = 'ATA.{1,4}CG'\n",
    "modified_dna = re.sub(pattern, replace, dna)\n",
    "\n",
    "# pretty print modified sequence\n",
    "linewidth = 60\n",
    "print '\\n'.join([''.join(line) for line \n",
    "                in partition(linewidth, modified_dna)])"
   ]
  },
  {
   "cell_type": "markdown",
   "metadata": {},
   "source": [
    "The NLTK toolkit\n",
    "----\n",
    "\n",
    "If you will be doing statitical natural language processing or significant amounts of machhine learning on natrual text, check out the [Natural Language Toolkit](http://www.nltk.org/)."
   ]
  },
  {
   "cell_type": "markdown",
   "metadata": {},
   "source": [
    "<font color=red>Exercises</font>\n",
    "----"
   ]
  },
  {
   "cell_type": "markdown",
   "metadata": {},
   "source": [
    "**1**. Write a function to find the complementary strand given a DNA sequence. For example\n",
    "\n",
    "Given  ATCGTTA\n",
    "Return TAGCAAT\n",
    "\n",
    "Note: The following are complementary bases A|T, C|G."
   ]
  },
  {
   "cell_type": "code",
   "execution_count": 12,
   "metadata": {
    "collapsed": false
   },
   "outputs": [
    {
     "name": "stdout",
     "output_type": "stream",
     "text": [
      "TAGCAAT\n"
     ]
    }
   ],
   "source": [
    "# YOUR CODE HERE\n",
    "\n",
    "def complement(dna):\n",
    "    \"\"\"Return compelementary strand given DNA sequence.\"\"\"\n",
    "    import string\n",
    "    table = string.maketrans('actgACTG', 'tgacTGAC')\n",
    "    return dna.translate(table)\n",
    "\n",
    "print complement('ATCGTTA')"
   ]
  },
  {
   "cell_type": "markdown",
   "metadata": {},
   "source": [
    "**2**. Write a regular expression that matches the following:\n",
    "\n",
    "- Phone numbers with the format: (919)-1234567 (i.e. (123)-9876543 should match but not 234-1234567 or (123)-666666)\n",
    "- Email addresss john.doe@duke.edu (i.e. steve@gmail.com should match but not steve@gmail)\n",
    "- DNA seqences with the motif A-C-T-G where - indicates 0 or 1 other nucleotide (any of A,C,T or G)"
   ]
  },
  {
   "cell_type": "code",
   "execution_count": 13,
   "metadata": {
    "collapsed": false
   },
   "outputs": [
    {
     "name": "stdout",
     "output_type": "stream",
     "text": [
      "Mathced (123)-9876543\n",
      "Not matched 234-1234567\n",
      "Not matched 123)-666666)\n"
     ]
    }
   ],
   "source": [
    "# YOUR CODE HERE\n",
    "\n",
    "phone_pat = re.compile(r'\\(\\d{3}\\)-\\d{7}')\n",
    "\n",
    "for s in ['(123)-9876543', '234-1234567', '123)-666666)']:\n",
    "    m = phone_pat.match(s)\n",
    "    if m:\n",
    "        print 'Mathced', s\n",
    "    else:\n",
    "        print 'Not matched', s"
   ]
  },
  {
   "cell_type": "markdown",
   "metadata": {},
   "source": [
    "Note: This is just for practice - actual email validators should not be using regular expressions because the rules for a valid eamil are insanely [complex](http://tools.ietf.org/html/rfc5322#section-3.4), and should probably be checked with a *parser*."
   ]
  },
  {
   "cell_type": "code",
   "execution_count": 14,
   "metadata": {
    "collapsed": false
   },
   "outputs": [
    {
     "name": "stdout",
     "output_type": "stream",
     "text": [
      "Not matched johm@\n",
      "Mathced john.doe@duke.edu\n",
      "Mathced steve@gmail.com\n",
      "Not matched steve@gmail\n"
     ]
    }
   ],
   "source": [
    "email_pat = re.compile(r'[\\w]+[\\.[\\w]+]?@([\\w]+\\.)+[\\w]+')\n",
    "\n",
    "for s in ['johm@', 'john.doe@duke.edu', 'steve@gmail.com', 'steve@gmail']:\n",
    "    m = email_pat.match(s)\n",
    "    if m:\n",
    "        print 'Mathced', s\n",
    "    else:\n",
    "        print 'Not matched', s"
   ]
  },
  {
   "cell_type": "code",
   "execution_count": 15,
   "metadata": {
    "collapsed": false
   },
   "outputs": [
    {
     "name": "stdout",
     "output_type": "stream",
     "text": [
      "Not matched GATTACA\n",
      "Mathced ACTG\n",
      "Mathced AACCTTGG\n",
      "Not matched AAACCCTTTGGG\n"
     ]
    }
   ],
   "source": [
    "motif_pat = re.compile(r'A.?C.?T.?G')\n",
    "\n",
    "for s in ['GATTACA', 'ACTG', 'AACCTTGG', 'AAACCCTTTGGG']:\n",
    "    m = motif_pat.match(s)\n",
    "    if m:\n",
    "        print 'Mathced', s\n",
    "    else:\n",
    "        print 'Not matched', s"
   ]
  },
  {
   "cell_type": "markdown",
   "metadata": {},
   "source": [
    "**3**. Download 'Pride and Prejudice' by Jane Austem from Project Gutenbrrg.\n",
    "\n",
    "- Remove all punctuation and covert to lower case\n",
    "- Count how many times the word 'married' appears\n",
    "- Count how often the word 'daughter' and 'married' appear in the same 10-word window"
   ]
  },
  {
   "cell_type": "code",
   "execution_count": 16,
   "metadata": {
    "collapsed": false
   },
   "outputs": [],
   "source": [
    "# YOUR CODE HERE\n",
    "\n",
    "if not os.path.exists('pride_and_prejudice.txt'):\n",
    "    ! curl 'http://www.gutenberg.org/cache/epub/1342/pg1342.txt' > 'pride_and_prejudice.txt'"
   ]
  },
  {
   "cell_type": "code",
   "execution_count": 17,
   "metadata": {
    "collapsed": false
   },
   "outputs": [
    {
     "name": "stdout",
     "output_type": "stream",
     "text": [
      "'daughter' and 'married' appera 5 times in the same 10-word window\n",
      "The word 'married' appears 61 times\n"
     ]
    }
   ],
   "source": [
    "import string\n",
    "\n",
    "with open('pride_and_prejudice.txt') as f:\n",
    "    s = f.read()\n",
    "    s = s.lower().translate(None, string.punctuation)\n",
    "\n",
    "    words = s.split()\n",
    "    size = 10\n",
    "    windows = list(partition(size, words))\n",
    "    print \"'daughter' and 'married' appera %d times in the same 10-word window\" % \\\n",
    "        sum('daughter' in window and 'married' in window for window in windows)\n",
    "    print \"The word 'married' appears %d times\" % s.count('married')"
   ]
  },
  {
   "cell_type": "markdown",
   "metadata": {},
   "source": [
    "**4**. Download \"The Gutenberg Webster's Unabridged Dictionary\" from Project Gutenbrrg\n",
    "\n",
    "- First extract all defined words (109561 words) - oops I cannot replicate this number\n",
    "- Count the number of *defined* English words containing 3 or more vowels (aeiou)\n",
    "- Find all longest palindrome (a palindrome is a word that is spelt the same forwards as backwards - e.g. 'deified')"
   ]
  },
  {
   "cell_type": "code",
   "execution_count": 18,
   "metadata": {
    "collapsed": false
   },
   "outputs": [],
   "source": [
    "# YOUR CODE HERE\n",
    "\n",
    "# If you look at the plain text file, \n",
    "# it is quite hard to figure out how to extract a defined word. \n",
    "# We have more luck wiht the HTNL file.\n",
    "\n",
    "if not os.path.exists('websters.html'):\n",
    "    ! curl 'www.gutenberg.org/cache/epub/29765/pg29765.html' > 'websters.html'"
   ]
  },
  {
   "cell_type": "code",
   "execution_count": 19,
   "metadata": {
    "collapsed": false
   },
   "outputs": [
    {
     "name": "stdout",
     "output_type": "stream",
     "text": [
      "<p id=\"id00080\">4. A board, tray, or table, divided into perforated compartments, for\r",
      "\r\n",
      "holding cups, bottles, or the like; a kind of cupboard, buffet, or\r",
      "\r\n",
      "sideboard. Abacus harmonicus (Mus.), an ancient diagram showing the\r",
      "\r\n",
      "structure and disposition of the keys of an instrument. Crabb.</p>\r",
      "\r\n",
      "\r",
      "\r\n",
      "<p id=\"id00081\">ABADA<br/>\r",
      "\r\n",
      "\r",
      "\r\n",
      "Ab\"a*da, n. Etym: [Pg., the female rhinoceros.]<br/>\r",
      "\r\n",
      "</p>\r",
      "\r\n",
      "\r",
      "\r\n",
      "<p id=\"id00082\">Defn: The rhinoceros. [Obs.] Purchas.</p>\r",
      "\r\n",
      "\r",
      "\r\n",
      "<p id=\"id00083\">ABADDON\r",
      "\r\n",
      "A*bad\"don, n. Etym: [Heb. abaddon destruction, abyss, fr. abad to be\r",
      "\r\n",
      "lost, to perish.]</p>\r",
      "\r\n",
      "\r",
      "\r\n",
      "<p id=\"id00084\">1. The destroyer, or angel of the bottomless pit; — the same as\r",
      "\r\n",
      "Apollyon and Asmodeus.</p>\r",
      "\r\n",
      "\r",
      "\r\n",
      "<p id=\"id00085\">2. Hell; the bottomless pit. [Poetic]\r",
      "\r\n",
      "In all her gates, Abaddon rues Thy bold attempt. Milton.</p>\r",
      "\r\n",
      "\r",
      "\r\n",
      "<p id=\"id00086\">ABAFT\r",
      "\r\n",
      "A*baft\", prep. Etym: [Pref. a-on + OE. baft, baften, biaften, AS.\r",
      "\r\n",
      "beæftan; be by + æftan behind. See After, Aft, By.] (Naut.)</p>\r",
      "\r\n",
      "\r",
      "\r\n",
      "<p id=\"id00087\">Defn: Behind; toward the stern from; as, abaft the wheelhouse. Abaft\r",
      "\r\n",
      "the beam. See under Beam.</p>\r",
      "\r\n",
      "\r",
      "\r\n",
      "<p id=\"id00088\">ABAFT<br/>\r",
      "\r\n"
     ]
    }
   ],
   "source": [
    "! head -n 400 websters.html | tail -n 30"
   ]
  },
  {
   "cell_type": "code",
   "execution_count": 20,
   "metadata": {
    "collapsed": false
   },
   "outputs": [
    {
     "name": "stdout",
     "output_type": "stream",
     "text": [
      "Number of words is 103020\n",
      "Number of words with 3 or  more vowels is 69210\n",
      "Longest palindromes are ['MALAYALAM']\n"
     ]
    }
   ],
   "source": [
    "# Notice that in the HTML, word definitions have the structure <p id=\"xxxxxxx\">WORD</br> or <p id=\"xxxxxxx\">WORD NEWLINE\n",
    "\n",
    "text = open('websters.html').read()\n",
    "word = re.compile(r'<p id=\"id\\d+\">([A-Z]+)[<br/>|\\r\\n+]')\n",
    "\n",
    "words = word.findall(text)\n",
    "count = 0\n",
    "for word in words:\n",
    "    if word.count('A') + word.count('E') + word.count('I') + word.count('O') + word.count('U') >= 3:\n",
    "        count += 1\n",
    "\n",
    "print \"Number of words is %d\" % len(words)\n",
    "print \"Number of words with 3 or  more vowels is %d\" % count\n",
    "\n",
    "palindromes = [word for word in words if word == word[::-1]]\n",
    "lengths = map(len, palindromes)\n",
    "max_len = max(lengths)\n",
    "print \"Longest palindromes are\", [p for p in palindromes if len(p) == max_len]"
   ]
  },
  {
   "cell_type": "code",
   "execution_count": 20,
   "metadata": {
    "collapsed": false
   },
   "outputs": [],
   "source": []
  }
 ],
 "metadata": {
  "kernelspec": {
   "display_name": "Python 2",
   "language": "python",
   "name": "python2"
  },
  "language_info": {
   "codemirror_mode": {
    "name": "ipython",
    "version": 2
   },
   "file_extension": ".py",
   "mimetype": "text/x-python",
   "name": "python",
   "nbconvert_exporter": "python",
   "pygments_lexer": "ipython2",
   "version": "2.7.9"
  }
 },
 "nbformat": 4,
 "nbformat_minor": 0
}
