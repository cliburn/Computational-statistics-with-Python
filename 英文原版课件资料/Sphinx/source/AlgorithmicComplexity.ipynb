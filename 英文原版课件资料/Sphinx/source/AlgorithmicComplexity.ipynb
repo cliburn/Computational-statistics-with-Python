{
 "cells": [
  {
   "cell_type": "code",
   "execution_count": 4,
   "metadata": {
    "collapsed": false
   },
   "outputs": [],
   "source": [
    "import os\n",
    "import sys\n",
    "import glob\n",
    "import matplotlib.pyplot as plt\n",
    "import numpy as np\n",
    "import pandas as pd\n",
    "%matplotlib inline\n",
    "%precision 4\n",
    "plt.style.use('ggplot')\n"
   ]
  },
  {
   "cell_type": "markdown",
   "metadata": {},
   "source": [
    "Algorithmic complexity\n",
    "====\n",
    "\n",
    "Data structures, as the name implies, are abstract structures for storing data. You are already familiar wiht several - e..g. list and dict. Algorithms are esssntially *recipes* for manipulating data structures. As we get into more computationally intensive calculations, we need to better understand how the performacne of data structures and algorithms is measured so that we can choose the appropriate strategy. "
   ]
  },
  {
   "cell_type": "markdown",
   "metadata": {},
   "source": [
    "## Profling and benchmarking\n",
    "\n",
    "We can measure performance in terms of the time taken as well as in terms of the number of basic operations performed. Measuring the time taken is known as profiling or benchmarking, and in the IPython notebook can be done conveniently with matic functions."
   ]
  },
  {
   "cell_type": "code",
   "execution_count": 1,
   "metadata": {
    "collapsed": false
   },
   "outputs": [
    {
     "name": "stdout",
     "output_type": "stream",
     "text": [
      "1 loops, best of 3: 2 s per loop\n"
     ]
    }
   ],
   "source": [
    "# Use %timeit to measure function calls\n",
    "def f():\n",
    "    import time\n",
    "    time.sleep(2)\n",
    "\n",
    "%timeit -n1 f()"
   ]
  },
  {
   "cell_type": "code",
   "execution_count": 2,
   "metadata": {
    "collapsed": false
   },
   "outputs": [
    {
     "name": "stdout",
     "output_type": "stream",
     "text": [
      "CPU times: user 522 µs, sys: 940 µs, total: 1.46 ms\n",
      "Wall time: 2 s\n"
     ]
    }
   ],
   "source": [
    "# Use %%time to measure evaluation cell the Unix way\n",
    "%%time\n",
    "\n",
    "f()"
   ]
  },
  {
   "cell_type": "markdown",
   "metadata": {},
   "source": [
    "## Measuring algorithmic complexity"
   ]
  },
  {
   "cell_type": "markdown",
   "metadata": {},
   "source": [
    "However, profiling doesn't tell us much about how the algorithm will perform on a different computer since it is partly determined by the hardware available.  To compare performance in a device-indpendent fashion, we use what is known as Big O notation (you may or may not have encountered this before in your Calculus courses). The Big O formalism characterizes functions in terms of their rates of growth. \n",
    "\n",
    "A little more formally, we have a comparison function $g(n)$ and another function $f(n)$ that returns the number of \"elementary operations\" we need to perform in our algorithm given an input of size $n$. In the example, the elementary oepration is comparison of two items. In statisitcal algorithms, this is most commonly a floating point operation (FLOP), such as addition or multiplicaiton of two floats. Now if the ratio $|f(n)/g(n)|$ can be bounded by a finite number $M$ as $n$ grows to infinity, we say that $f(n)$ has complexity of order $g(n)$. For example, if $f(n) = 10n^2$ and $g(n) = n$, then there is no such number $M$ and $f(n)$ is **not** $\\mathcal{O}(n)$, but if $g(n) = n^2$, then $M = 10$ wil do and we say that $f(n)$ is $\\mathcal{O}(n^2)$. So our search function is $\\mathcal{O}(n)$. Formally, it is also $\\mathcal{O} (n^2)$ and so on, but we always choose the \"smallest\" function $g$. We also drop all terms ohter than the larget - so we don't say $\\mathcal{O}(n^3 + n^2 + n)$ but simply $\\mathcal{O}(n^3)$. \n",
    "\n",
    "Note that since the constant is not used in big O notation, two algorithms can have the same big O complexity and have very different performance! However, the O notation is very helpful for understanding the *scalability* of our algorithm. Below we show a comparison of an $\\mathcal{O}(n^2)$ algorithm (e.g. bubble sort) with an $\\mathcal{O}(n \\log{n})$ algorithm (e.g. merge sort). Regardless of the difference in constant factor, there is no competition as $n$ gets large.\n",
    "\n",
    "Suppsoe you wanted to search for an item in an unsorted list of length $n$. One way to do this would be to scan from the first position sequentially until you find it (or not). If the item is in the list, you will need to scan ($n/2$) items on average to find it. If it is not in the list, you will need to scan all $n$ items. In any case, the complexity of the search grows linearly with the lenght of the list $n$. We say that the algorithmic complexity of the search using a linear scan is $\\mathcal{O}(n)$.\n",
    "\n",
    "Strictly, we should say the *average* complexity is $\\mathcal{O}(n)$. We can also calculate worst case performance (when the item is not in the list), which is the same class $\\mathcal{O}(n)$ as average complexity for this searching example. Since worst case performance may require a perverse organizaiotn of the input (e.g. asking a sort function to sort an already sorted list), randomizaiton of inputs will sometimes suffice to convert it to the average case."
   ]
  },
  {
   "cell_type": "markdown",
   "metadata": {},
   "source": [
    "Question: What is the algorithmic complexity of textbook matrix multiplication? Why?"
   ]
  },
  {
   "cell_type": "markdown",
   "metadata": {},
   "source": [
    "### Comparing complexity of $\\mathcal{O}(n^2)$ (e.g. bubble sort) and $\\mathcal{O} (n \\log n)$ (e.g. merge sort)."
   ]
  },
  {
   "cell_type": "code",
   "execution_count": 27,
   "metadata": {
    "collapsed": false
   },
   "outputs": [
    {
     "data": {
      "image/png": "[encoded data removed]",
      "text/plain": [
       "<matplotlib.figure.Figure at 0x1155fbf10>"
      ]
     },
     "metadata": {},
     "output_type": "display_data"
    }
   ],
   "source": [
    "def f1(n, k):\n",
    "    return k*n*n\n",
    "\n",
    "def f2(n, k):\n",
    "    return k*n*np.log(n)\n",
    "\n",
    "n = np.arange(0, 20001)\n",
    "\n",
    "plt.plot(n, f1(n, 1), c='blue')\n",
    "plt.plot(n, f2(n, 1000), c='red')\n",
    "plt.xlabel('Size of input (n)', fontsize=16)\n",
    "plt.ylabel('Number of operations', fontsize=16)\n",
    "plt.legend(['$\\mathcal{O}(n^2)$', '$\\mathcal{O}(n \\log n)$'], loc='best', fontsize=20);"
   ]
  },
  {
   "cell_type": "markdown",
   "metadata": {},
   "source": [
    "### Ranking of common Big O complexity classes\n",
    "\n",
    "- consstant = $\\mathcal{O}(1)$\n",
    "- logarithmic = $\\mathcal{O}(\\log n)$\n",
    "- linear = $\\mathcal{O}(n)$\n",
    "- n log n = $\\mathcal{O}(n \\log n)$\n",
    "- quadratic = $\\mathcal{O}(n^2)$\n",
    "- cubic = $\\mathcal{O}(n^3)$\n",
    "- polynomial = $\\mathcal{O}(n^k)$\n",
    "- exponential = $\\mathcal{O}(k^n)$\n",
    "- factorial =$\\mathcal{O}(n!)$\n"
   ]
  },
  {
   "cell_type": "code",
   "execution_count": 37,
   "metadata": {
    "collapsed": false
   },
   "outputs": [],
   "source": [
    "from IPython.display import Image"
   ]
  },
  {
   "cell_type": "code",
   "execution_count": 40,
   "metadata": {
    "collapsed": false
   },
   "outputs": [
    {
     "data": {
      "text/html": [
       "<img src=\"http://bigocheatsheet.com/img/big-o-complexity.png\"/>"
      ],
      "text/plain": [
       "<IPython.core.display.Image at 0x114079950>"
      ]
     },
     "execution_count": 40,
     "metadata": {},
     "output_type": "execute_result"
    }
   ],
   "source": [
    "Image(url='http://bigocheatsheet.com/img/big-o-complexity.png')"
   ]
  },
  {
   "cell_type": "markdown",
   "metadata": {},
   "source": [
    "### Complexity of common operations on Python data structures\n",
    "\n",
    "See [here](https://wiki.python.org/moin/TimeComplexity) for the complexity of operations on standard Python data structures. Note for instance that searching a list is much more expensive than searching a dicitonary."
   ]
  },
  {
   "cell_type": "code",
   "execution_count": 36,
   "metadata": {
    "collapsed": false
   },
   "outputs": [
    {
     "name": "stdout",
     "output_type": "stream",
     "text": [
      "3 loops, best of 3: 1.28 ms per loop\n"
     ]
    }
   ],
   "source": [
    "# Searching a list is O(n)\n",
    "\n",
    "alist = range(1000000)\n",
    "r = np.random.randint(100000)\n",
    "%timeit -n3 r in alist"
   ]
  },
  {
   "cell_type": "code",
   "execution_count": 35,
   "metadata": {
    "collapsed": false
   },
   "outputs": [
    {
     "name": "stdout",
     "output_type": "stream",
     "text": [
      "3 loops, best of 3: 318 ns per loop\n"
     ]
    }
   ],
   "source": [
    "# Searching a dictionary is O(1)\n",
    "\n",
    "adict = dict.fromkeys(alist)\n",
    "%timeit -n3 r in adict"
   ]
  },
  {
   "cell_type": "markdown",
   "metadata": {},
   "source": [
    "Space complexity\n",
    "----\n",
    "\n",
    "We can aslo use big O notnation in the same way to measure the space complexity of an algorithm. The basic idea is identical. The notion of space complexity becomes important when you data volume is  of the same magntude orlarger than the memory you have available. In that case, an algorihtm with high space complexity may end up having to swap memory constantly, and will perform far worse than its Big O for time complexity would suggest.\n",
    "\n",
    "Sometimes, you can trade space complexity for time complexity - caching and dynamic programming are obvious examples."
   ]
  },
  {
   "cell_type": "markdown",
   "metadata": {},
   "source": [
    "### How much space do I need?\n",
    "\n",
    "Just as you should have a good idea of how your algorithm will scale with increasing $n$, you should also be able to know how much memroy your data structures will require. For example, if you had an $n \\times p$ matrix of integers, an $n \\times p$ matrix of flaots, and an $n \\times p$ matrix of complex floats, how large can $n$ and $p$ be before you run out of RAM to store them? \n"
   ]
  },
  {
   "cell_type": "code",
   "execution_count": 81,
   "metadata": {
    "collapsed": false
   },
   "outputs": [
    {
     "name": "stdout",
     "output_type": "stream",
     "text": [
      "24\n",
      "44\n",
      "24\n",
      "32\n",
      "38\n",
      "48\n"
     ]
    }
   ],
   "source": [
    "# Notice how much overhead Python objects have\n",
    "# A raw integer should be 64 bits or 8 bytes only\n",
    "\n",
    "print sys.getsizeof(1)\n",
    "print sys.getsizeof(1234567890123456789012345678901234567890)\n",
    "print sys.getsizeof(3.14)\n",
    "print sys.getsizeof(3j)\n",
    "print sys.getsizeof('a')\n",
    "print sys.getsizeof('hello world')"
   ]
  },
  {
   "cell_type": "code",
   "execution_count": 72,
   "metadata": {
    "collapsed": false
   },
   "outputs": [
    {
     "name": "stdout",
     "output_type": "stream",
     "text": [
      "10000\n",
      "20000\n",
      "80000\n",
      "40000\n",
      "80000\n",
      "160000\n"
     ]
    }
   ],
   "source": [
    "print np.ones((100,100), dtype='byte').nbytes\n",
    "print np.ones((100,100), dtype='i2').nbytes\n",
    "print np.ones((100,100), dtype='int').nbytes # default is 64 bits or 8 bytes\n",
    "print np.ones((100,100), dtype='f4').nbytes\n",
    "print np.ones((100,100), dtype='float').nbytes # default is 64 bits or 8 bytes\n",
    "print np.ones((100,100), dtype='complex').nbytes"
   ]
  }
 ],
 "metadata": {
  "kernelspec": {
   "display_name": "Python 2",
   "language": "python",
   "name": "python2"
  },
  "language_info": {
   "codemirror_mode": {
    "name": "ipython",
    "version": 2
   },
   "file_extension": ".py",
   "mimetype": "text/x-python",
   "name": "python",
   "nbconvert_exporter": "python",
   "pygments_lexer": "ipython2",
   "version": "2.7.9"
  }
 },
 "nbformat": 4,
 "nbformat_minor": 0
}
