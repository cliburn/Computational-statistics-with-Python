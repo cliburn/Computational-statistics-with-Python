{
 "cells": [
  {
   "cell_type": "code",
   "execution_count": 1,
   "metadata": {
    "collapsed": false
   },
   "outputs": [],
   "source": [
    "import os\n",
    "import sys\n",
    "import glob\n",
    "import matplotlib.pyplot as plt\n",
    "import numpy as np\n",
    "import pandas as pd\n",
    "%matplotlib inline\n",
    "%precision 4\n",
    "plt.style.use('ggplot')"
   ]
  },
  {
   "cell_type": "code",
   "execution_count": 2,
   "metadata": {
    "collapsed": false
   },
   "outputs": [
    {
     "name": "stdout",
     "output_type": "stream",
     "text": [
      "Installed version_information.py. To use it, type:\n",
      "  %load_ext version_information\n"
     ]
    }
   ],
   "source": [
    "%install_ext http://raw.github.com/jrjohansson/version_information/master/version_information.py"
   ]
  },
  {
   "cell_type": "markdown",
   "metadata": {},
   "source": [
    "Using numpy\n",
    "===="
   ]
  },
  {
   "cell_type": "markdown",
   "metadata": {},
   "source": [
    "References\n",
    "----\n",
    "\n",
    "- [Basics of numpy](http://scipy-lectures.github.io/intro/numpy/index.html)\n",
    "- [Some numpy exercises](http://scipy-lectures.github.io/intro/numpy/exercises.html)\n",
    "- [Advanced numpy](http://scipy-lectures.github.io/advanced/advanced_numpy/)\n",
    "- [Numpy reference](http://docs.scipy.org/doc/numpy/reference/)\n",
    "- [Numpy for Matlab users](http://wiki.scipy.org/NumPy_for_Matlab_Users)\n",
    "- [Numpy for R users](http://mathesaurus.sourceforge.net/r-numpy.html)\n",
    "- [Tutorials on Pandas](http://pandas.pydata.org/pandas-docs/stable/tutorials.html)\n",
    "- [Blaze documentation](http://blaze.pydata.org/docs/dev/index.html)"
   ]
  },
  {
   "cell_type": "markdown",
   "metadata": {},
   "source": [
    "Example\n",
    "----\n",
    "\n",
    "From <http://scipy-lectures.github.io/intro/numpy/exercises.html#data-statistics>\n",
    "\n",
    "The data in [populations.txt](http://scipy-lectures.github.io/_downloads/populations.txt) describes the populations of hares and lynxes (and carrots) in northern Canada during 20 years:\n",
    "\n",
    "Computes and print, based on the data in populations.txt...\n",
    "\n",
    "- The mean and std of the populations of each species for the years in the period.\n",
    "- Which year each species had the largest population.\n",
    "- Which species has the largest population for each year. (Hint: argsort & fancy indexing of np.array(['H', 'L', 'C']))\n",
    "- Which years any of the populations is above 50000. (Hint: comparisons and np.any)\n",
    "- The top 2 years for each species when they had the lowest populations. (Hint: argsort, fancy indexing)\n",
    "- Compare (plot) the change in hare population (see help(np.gradient)) and the number of lynxes - Check correlation (see help(np.corrcoef)).\n",
    "\n",
    "... all without for-loops."
   ]
  },
  {
   "cell_type": "code",
   "execution_count": 3,
   "metadata": {
    "collapsed": false
   },
   "outputs": [],
   "source": [
    "# download the data locally\n",
    "if not os.path.exists('populations.txt'):\n",
    "    ! wget http://scipy-lectures.github.io/_downloads/populations.txt"
   ]
  },
  {
   "cell_type": "code",
   "execution_count": 4,
   "metadata": {
    "collapsed": false
   },
   "outputs": [
    {
     "name": "stdout",
     "output_type": "stream",
     "text": [
      "# year\thare\tlynx\tcarrot\r\n",
      "1900\t30e3\t4e3\t48300\r\n",
      "1901\t47.2e3\t6.1e3\t48200\r\n",
      "1902\t70.2e3\t9.8e3\t41500\r\n",
      "1903\t77.4e3\t35.2e3\t38200\r\n",
      "1904\t36.3e3\t59.4e3\t40600\r\n"
     ]
    }
   ],
   "source": [
    "# peek at the file to see its structure\n",
    "! head -n 6 populations.txt"
   ]
  },
  {
   "cell_type": "code",
   "execution_count": 5,
   "metadata": {
    "collapsed": false
   },
   "outputs": [
    {
     "data": {
      "text/plain": [
       "array([[ 1900, 30000,  4000, 48300],\n",
       "       [ 1901, 47200,  6100, 48200],\n",
       "       [ 1902, 70200,  9800, 41500],\n",
       "       [ 1903, 77400, 35200, 38200],\n",
       "       [ 1904, 36300, 59400, 40600]])"
      ]
     },
     "execution_count": 5,
     "metadata": {},
     "output_type": "execute_result"
    }
   ],
   "source": [
    "# load data into a numpy array\n",
    "data = np.loadtxt('populations.txt').astype('int')\n",
    "data[:5, :]"
   ]
  },
  {
   "cell_type": "code",
   "execution_count": 6,
   "metadata": {
    "collapsed": false
   },
   "outputs": [],
   "source": [
    "# provide convenient named variables\n",
    "populations = data[:, 1:]\n",
    "year, hare, lynx, carrot = data.T"
   ]
  },
  {
   "cell_type": "code",
   "execution_count": 7,
   "metadata": {
    "collapsed": false
   },
   "outputs": [
    {
     "name": "stdout",
     "output_type": "stream",
     "text": [
      "Mean (hare, lynx, carrot): [ 34080.9524  20166.6667  42400.    ]\n",
      "Std (hare, lynx, carrot): [ 20897.9065  16254.5915   3322.5062]\n"
     ]
    }
   ],
   "source": [
    "# The mean and std of the populations of each species for the years in the period\n",
    "print \"Mean (hare, lynx, carrot):\", populations.mean(axis=0)\n",
    "print \"Std (hare, lynx, carrot):\", populations.std(axis=0)"
   ]
  },
  {
   "cell_type": "code",
   "execution_count": 8,
   "metadata": {
    "collapsed": false
   },
   "outputs": [
    {
     "name": "stdout",
     "output_type": "stream",
     "text": [
      "Year with largest population (hare, lynx, carrot) [1903 1904 1900]\n"
     ]
    }
   ],
   "source": [
    "# Which year each species had the largest population.\n",
    "print \"Year with largest population (hare, lynx, carrot)\", \n",
    "print year[np.argmax(populations, axis=0)]"
   ]
  },
  {
   "cell_type": "code",
   "execution_count": 9,
   "metadata": {
    "collapsed": false
   },
   "outputs": [
    {
     "data": {
      "text/plain": [
       "[(1900, 'carrot'),\n",
       " (1901, 'carrot'),\n",
       " (1902, 'hare'),\n",
       " (1903, 'hare'),\n",
       " (1904, 'lynx'),\n",
       " (1905, 'lynx'),\n",
       " (1906, 'carrot'),\n",
       " (1907, 'carrot'),\n",
       " (1908, 'carrot'),\n",
       " (1909, 'carrot'),\n",
       " (1910, 'carrot'),\n",
       " (1911, 'carrot'),\n",
       " (1912, 'hare'),\n",
       " (1913, 'hare'),\n",
       " (1914, 'hare'),\n",
       " (1915, 'lynx'),\n",
       " (1916, 'carrot'),\n",
       " (1917, 'carrot'),\n",
       " (1918, 'carrot'),\n",
       " (1919, 'carrot'),\n",
       " (1920, 'carrot')]"
      ]
     },
     "execution_count": 9,
     "metadata": {},
     "output_type": "execute_result"
    }
   ],
   "source": [
    "# Which species has the largest population for each year.\n",
    "species = ['hare', 'lynx', 'carrot']\n",
    "zip(year, np.take(species, np.argmax(populations, axis=1)))"
   ]
  },
  {
   "cell_type": "code",
   "execution_count": 10,
   "metadata": {
    "collapsed": false
   },
   "outputs": [
    {
     "name": "stdout",
     "output_type": "stream",
     "text": [
      "[1902 1903 1904 1912 1913 1914 1915]\n"
     ]
    }
   ],
   "source": [
    "# Which years any of the populations is above 50000\n",
    "print year[np.any(populations > 50000, axis=1)]"
   ]
  },
  {
   "cell_type": "code",
   "execution_count": 11,
   "metadata": {
    "collapsed": false
   },
   "outputs": [
    {
     "name": "stdout",
     "output_type": "stream",
     "text": [
      "[[1917 1900 1916]\n",
      " [1916 1901 1903]]\n"
     ]
    }
   ],
   "source": [
    "# The top 2 years for each species when they had the lowest populations.\n",
    "print year[np.argsort(populations, axis=0)[:2]]"
   ]
  },
  {
   "cell_type": "code",
   "execution_count": 12,
   "metadata": {
    "collapsed": false
   },
   "outputs": [
    {
     "name": "stdout",
     "output_type": "stream",
     "text": [
      "[[ 1.     -0.9179]\n",
      " [-0.9179  1.    ]]\n"
     ]
    },
    {
     "data": {
      "image/png": "[encoded data removed]",
      "text/plain": [
       "<matplotlib.figure.Figure at 0x1130bc1d0>"
      ]
     },
     "metadata": {},
     "output_type": "display_data"
    }
   ],
   "source": [
    "plt.plot(year, lynx, 'r-', year, np.gradient(hare), 'b--')\n",
    "plt.legend(['lynx', 'grad(hare)'], loc='best')\n",
    "print np.corrcoef(lynx, np.gradient(hare))"
   ]
  },
  {
   "cell_type": "markdown",
   "metadata": {},
   "source": [
    "## NDArray\n",
    "\n",
    "The base structure in `numpy` is `ndarray`, used to represent vectors, matrices and higher-dimensional arrays. Each `ndarray` has the following attributes:\n",
    "\n",
    "- dtype = correspond to data types in C\n",
    "- shape = dimensionns of array\n",
    "- strides = number of bytes to step in each direction when traversing the array"
   ]
  },
  {
   "cell_type": "code",
   "execution_count": 13,
   "metadata": {
    "collapsed": false
   },
   "outputs": [
    {
     "name": "stdout",
     "output_type": "stream",
     "text": [
      "[1 2 3 4 5 6]\n",
      "dytpe int64\n",
      "shape (6,)\n",
      "strides (8,)\n"
     ]
    }
   ],
   "source": [
    "x = np.array([1,2,3,4,5,6])\n",
    "print x\n",
    "print 'dytpe', x.dtype\n",
    "print 'shape', x.shape\n",
    "print 'strides', x.strides"
   ]
  },
  {
   "cell_type": "code",
   "execution_count": 14,
   "metadata": {
    "collapsed": false
   },
   "outputs": [
    {
     "name": "stdout",
     "output_type": "stream",
     "text": [
      "[[1 2 3]\n",
      " [4 5 6]]\n",
      "dytpe int64\n",
      "shape (2, 3)\n",
      "strides (24, 8)\n"
     ]
    }
   ],
   "source": [
    "x.shape = (2,3)\n",
    "print x\n",
    "print 'dytpe', x.dtype\n",
    "print 'shape', x.shape\n",
    "print 'strides', x.strides"
   ]
  },
  {
   "cell_type": "code",
   "execution_count": 15,
   "metadata": {
    "collapsed": false
   },
   "outputs": [
    {
     "name": "stdout",
     "output_type": "stream",
     "text": [
      "[[ 1.+0.j  2.+0.j  3.+0.j]\n",
      " [ 4.+0.j  5.+0.j  6.+0.j]]\n",
      "dytpe complex128\n",
      "shape (2, 3)\n",
      "strides (48, 16)\n"
     ]
    }
   ],
   "source": [
    "x = x.astype('complex')\n",
    "print x\n",
    "print 'dytpe', x.dtype\n",
    "print 'shape', x.shape\n",
    "print 'strides', x.strides"
   ]
  },
  {
   "cell_type": "markdown",
   "metadata": {},
   "source": [
    "### Creating arrays"
   ]
  },
  {
   "cell_type": "code",
   "execution_count": 16,
   "metadata": {
    "collapsed": false
   },
   "outputs": [
    {
     "name": "stdout",
     "output_type": "stream",
     "text": [
      "[(0, 0), (0, 1), (0, 2), (1, 0), (1, 1), (1, 2)] \n",
      "\n",
      "[[0 0]\n",
      " [0 1]\n",
      " [0 2]\n",
      " [1 0]\n",
      " [1 1]\n",
      " [1 2]]\n"
     ]
    }
   ],
   "source": [
    "# from lists\n",
    "x_list = [(i,j) for i in range(2) for j in range(3)]\n",
    "print x_list, '\\n'\n",
    "x_array = np.array(x_list)\n",
    "print x_array"
   ]
  },
  {
   "cell_type": "code",
   "execution_count": 17,
   "metadata": {
    "collapsed": false
   },
   "outputs": [
    {
     "name": "stdout",
     "output_type": "stream",
     "text": [
      "[[ 1.  1.]\n",
      " [ 1.  1.]\n",
      " [ 1.  1.]] \n",
      "\n",
      "[[ 0.  0.]\n",
      " [ 0.  0.]\n",
      " [ 0.  0.]] \n",
      "\n",
      "[[ 1.  0.  0.]\n",
      " [ 0.  1.  0.]\n",
      " [ 0.  0.  1.]] \n",
      "\n",
      "[[1 0 0]\n",
      " [0 2 0]\n",
      " [0 0 3]] \n",
      "\n",
      "[[ 8.  5.  4.  5.  8.]\n",
      " [ 5.  2.  1.  2.  5.]\n",
      " [ 4.  1.  0.  1.  4.]\n",
      " [ 5.  2.  1.  2.  5.]\n",
      " [ 8.  5.  4.  5.  8.]]\n"
     ]
    }
   ],
   "source": [
    "# Using convenience functions\n",
    "\n",
    "print np.ones((3,2)), '\\n'\n",
    "print np.zeros((3,2)), '\\n'\n",
    "print np.eye(3), '\\n'\n",
    "print np.diag([1,2,3]), '\\n'\n",
    "print np.fromfunction(lambda i, j: (i-2)**2+(j-2)**2, (5,5))"
   ]
  },
  {
   "cell_type": "markdown",
   "metadata": {},
   "source": [
    "### Array indexing"
   ]
  },
  {
   "cell_type": "code",
   "execution_count": 18,
   "metadata": {
    "collapsed": false
   },
   "outputs": [
    {
     "data": {
      "text/plain": [
       "array([[ 84, 108,  96,  93,  82, 115],\n",
       "       [ 87,  70,  96, 132, 111, 108],\n",
       "       [ 96,  85, 120,  72,  62,  66],\n",
       "       [112,  86,  98,  86,  74,  98],\n",
       "       [ 75,  91, 116, 105,  82, 122],\n",
       "       [ 95, 119,  84,  89,  93,  87],\n",
       "       [118, 113,  94,  89,  67, 107],\n",
       "       [120, 105,  85, 100, 131, 120],\n",
       "       [ 91, 137, 103,  94, 115,  92],\n",
       "       [ 73,  98,  81, 106, 128,  75]])"
      ]
     },
     "execution_count": 18,
     "metadata": {},
     "output_type": "execute_result"
    }
   ],
   "source": [
    "# Create a 10 by 6 array from normal deviates and convert to ints\n",
    "n, nrows, ncols = 100, 10, 6\n",
    "xs = np.random.normal(n, 15, size=(nrows, ncols)).astype('int')\n",
    "xs"
   ]
  },
  {
   "cell_type": "code",
   "execution_count": 19,
   "metadata": {
    "collapsed": false
   },
   "outputs": [
    {
     "name": "stdout",
     "output_type": "stream",
     "text": [
      "84\n",
      "75\n",
      "[112  86  98  86  74  98]\n",
      "[ 84  87  96 112  75  95 118 120  91  73]\n",
      "[[ 84  96  82]\n",
      " [ 96 120  62]\n",
      " [ 75 116  82]\n",
      " [118  94  67]\n",
      " [ 91 103 115]]\n",
      "[[120  72  62]\n",
      " [ 98  86  74]\n",
      " [116 105  82]]\n"
     ]
    }
   ],
   "source": [
    "# Use slice notation\n",
    "print(xs[0,0])\n",
    "print(xs[-1,-1])\n",
    "print(xs[3,:])\n",
    "print(xs[:,0])\n",
    "print(xs[::2,::2])\n",
    "print(xs[2:5,2:5])"
   ]
  },
  {
   "cell_type": "code",
   "execution_count": 20,
   "metadata": {
    "collapsed": false
   },
   "outputs": [
    {
     "name": "stdout",
     "output_type": "stream",
     "text": [
      "[108  96  82 115]\n"
     ]
    }
   ],
   "source": [
    "#  Indexing with list of integers\n",
    "print(xs[0, [1,2,4,5]])"
   ]
  },
  {
   "cell_type": "code",
   "execution_count": 21,
   "metadata": {
    "collapsed": false
   },
   "outputs": [
    {
     "name": "stdout",
     "output_type": "stream",
     "text": [
      "[ 84 108  96  82  70  96 132 108  96 120  72  62  66 112  86  98  86  74\n",
      "  98 116  82 122  84 118  94 120 100 120  94  92  98 106 128]\n",
      "[[  0   0   0  93   0 115]\n",
      " [ 87   0   0   0 111   0]\n",
      " [  0  85   0   0   0   0]\n",
      " [  0   0   0   0   0   0]\n",
      " [ 75  91   0 105   0   0]\n",
      " [ 95 119   0  89  93  87]\n",
      " [  0 113   0  89  67 107]\n",
      " [  0 105  85   0 131   0]\n",
      " [ 91 137 103   0 115   0]\n",
      " [ 73   0  81   0   0  75]]\n"
     ]
    }
   ],
   "source": [
    "# Boolean indexing\n",
    "print(xs[xs % 2 == 0])\n",
    "xs[xs % 2 == 0] = 0 # set even entries to zero\n",
    "print(xs)"
   ]
  },
  {
   "cell_type": "code",
   "execution_count": 22,
   "metadata": {
    "collapsed": false
   },
   "outputs": [
    {
     "name": "stdout",
     "output_type": "stream",
     "text": [
      "[[ 0  1  2  3]\n",
      " [ 4  5  6  7]\n",
      " [ 8  9 10 11]\n",
      " [12 13 14 15]] \n",
      "\n",
      "[[ 0  0  0  0]\n",
      " [ 4  0  0  0]\n",
      " [ 8  9  0  0]\n",
      " [12 13 14  0]] \n",
      "\n",
      "[[ 0  0  0  0]\n",
      " [ 0  5  0  0]\n",
      " [ 0  0 10  0]\n",
      " [ 0  0  0 15]] \n",
      "\n",
      "[[ 0  1  2  3]\n",
      " [ 0  0  6  7]\n",
      " [ 0  0  0 11]\n",
      " [ 0  0  0  0]]\n"
     ]
    }
   ],
   "source": [
    "# Extracting lower triangular, diagonal and upper triangular matrices\n",
    "\n",
    "a = np.arange(16).reshape(4,4)\n",
    "print a, '\\n'\n",
    "print np.tril(a, -1), '\\n'\n",
    "print np.diag(np.diag(a)), '\\n'\n",
    "print np.triu(a, 1)"
   ]
  },
  {
   "cell_type": "markdown",
   "metadata": {},
   "source": [
    "## Broadcasting, row, column and matrix operations"
   ]
  },
  {
   "cell_type": "code",
   "execution_count": 23,
   "metadata": {
    "collapsed": false
   },
   "outputs": [
    {
     "name": "stdout",
     "output_type": "stream",
     "text": [
      "137\n",
      "[ 95 137 103 105 131 115]\n",
      "[115 111  85   0 105 119 113 131 137  81]\n"
     ]
    }
   ],
   "source": [
    "# operations across rows, cols or entire matrix\n",
    "print(xs.max())\n",
    "print(xs.max(axis=0)) # max of each col\n",
    "print(xs.max(axis=1)) # max of each row"
   ]
  },
  {
   "cell_type": "code",
   "execution_count": 24,
   "metadata": {
    "collapsed": false
   },
   "outputs": [
    {
     "name": "stdout",
     "output_type": "stream",
     "text": [
      "[ 95 137 103 105 131 115]\n",
      "[115 111  85   0 105 119 113 131 137  81]\n"
     ]
    }
   ],
   "source": [
    "# A funcitonal rather than object-oriented approacha also wokrs\n",
    "print(np.max(xs, axis=0))\n",
    "print(np.max(xs, axis=1))"
   ]
  },
  {
   "cell_type": "code",
   "execution_count": 25,
   "metadata": {
    "collapsed": false
   },
   "outputs": [
    {
     "name": "stdout",
     "output_type": "stream",
     "text": [
      "(array([[ 0,  1,  2,  3,  4,  5],\n",
      "       [ 6,  7,  8,  9, 10, 11]]), '\\n')\n",
      "(array([[  0,  10,  20,  30,  40,  50],\n",
      "       [ 60,  70,  80,  90, 100, 110]]), '\\n')\n",
      "(array([ 3.,  4.,  5.,  6.,  7.,  8.]), '\\n')\n",
      "(array([[  3.,   5.,   7.,   9.,  11.,  13.],\n",
      "       [  9.,  11.,  13.,  15.,  17.,  19.]]), '\\n')\n",
      "[[ 2.5]\n",
      " [ 8.5]]\n",
      "[[  2.5   3.5   4.5   5.5   6.5   7.5]\n",
      " [ 14.5  15.5  16.5  17.5  18.5  19.5]]\n"
     ]
    }
   ],
   "source": [
    "# broadcasting\n",
    "xs = np.arange(12).reshape(2,6)\n",
    "print(xs, '\\n')\n",
    "print(xs * 10, '\\n')\n",
    "\n",
    "# broadcasting just works when doing column-wise operations\n",
    "col_means = xs.mean(axis=0)\n",
    "print(col_means, '\\n')\n",
    "print(xs + col_means, '\\n')\n",
    "\n",
    "# but needs a little more work for row-wise operations\n",
    "row_means = xs.mean(axis=1)[:, np.newaxis]\n",
    "print(row_means)\n",
    "print(xs + row_means)"
   ]
  },
  {
   "cell_type": "code",
   "execution_count": 26,
   "metadata": {
    "collapsed": false
   },
   "outputs": [
    {
     "name": "stdout",
     "output_type": "stream",
     "text": [
      "[[-1. -1. -1. -1. -1. -1.]\n",
      " [ 1.  1.  1.  1.  1.  1.]]\n"
     ]
    }
   ],
   "source": [
    "# convert matrix to have zero mean and unit standard deviation using col summary statistics\n",
    "print((xs - xs.mean(axis=0))/xs.std(axis=0))"
   ]
  },
  {
   "cell_type": "code",
   "execution_count": 27,
   "metadata": {
    "collapsed": false
   },
   "outputs": [
    {
     "name": "stdout",
     "output_type": "stream",
     "text": [
      "[[-1.4639 -0.8783 -0.2928  0.2928  0.8783  1.4639]\n",
      " [-1.4639 -0.8783 -0.2928  0.2928  0.8783  1.4639]]\n"
     ]
    }
   ],
   "source": [
    "# convert matrix to have zero mean and unit standard deviation using row summary statistics\n",
    "print((xs - xs.mean(axis=1)[:, np.newaxis])/xs.std(axis=1)[:, np.newaxis])"
   ]
  },
  {
   "cell_type": "code",
   "execution_count": 28,
   "metadata": {
    "collapsed": false
   },
   "outputs": [
    {
     "data": {
      "text/plain": [
       "array([[  1,   2,   3,   4,   5,   6,   7,   8,   9,  10,  11,  12],\n",
       "       [  2,   4,   6,   8,  10,  12,  14,  16,  18,  20,  22,  24],\n",
       "       [  3,   6,   9,  12,  15,  18,  21,  24,  27,  30,  33,  36],\n",
       "       [  4,   8,  12,  16,  20,  24,  28,  32,  36,  40,  44,  48],\n",
       "       [  5,  10,  15,  20,  25,  30,  35,  40,  45,  50,  55,  60],\n",
       "       [  6,  12,  18,  24,  30,  36,  42,  48,  54,  60,  66,  72],\n",
       "       [  7,  14,  21,  28,  35,  42,  49,  56,  63,  70,  77,  84],\n",
       "       [  8,  16,  24,  32,  40,  48,  56,  64,  72,  80,  88,  96],\n",
       "       [  9,  18,  27,  36,  45,  54,  63,  72,  81,  90,  99, 108],\n",
       "       [ 10,  20,  30,  40,  50,  60,  70,  80,  90, 100, 110, 120],\n",
       "       [ 11,  22,  33,  44,  55,  66,  77,  88,  99, 110, 121, 132],\n",
       "       [ 12,  24,  36,  48,  60,  72,  84,  96, 108, 120, 132, 144]])"
      ]
     },
     "execution_count": 28,
     "metadata": {},
     "output_type": "execute_result"
    }
   ],
   "source": [
    "# broadcasting for outer product\n",
    "# e.g. create the 12x12 multiplication toable\n",
    "u = np.arange(1, 13)\n",
    "u[:,None] * u[None,:]"
   ]
  },
  {
   "cell_type": "markdown",
   "metadata": {},
   "source": [
    "#### Example: Calculating pairwise distance matrix using broadcasting and vectorization\n",
    "\n",
    "Calculate the pairwise distance matrix between the following points\n",
    "\n",
    "- (0,0)\n",
    "- (4,0)\n",
    "- (4,3)\n",
    "- (0,3)"
   ]
  },
  {
   "cell_type": "code",
   "execution_count": 29,
   "metadata": {
    "collapsed": false
   },
   "outputs": [],
   "source": [
    "def distance_matrix_py(pts):\n",
    "    \"\"\"Returns matrix of pairwise Euclidean distances. Pure Python version.\"\"\"\n",
    "    n = len(pts)\n",
    "    p = len(pts[0])\n",
    "    m = np.zeros((n, n))\n",
    "    for i in range(n):\n",
    "        for j in range(n):\n",
    "            s = 0\n",
    "            for k in range(p):\n",
    "                s += (pts[i,k] - pts[j,k])**2\n",
    "            m[i, j] = s**0.5\n",
    "    return m"
   ]
  },
  {
   "cell_type": "code",
   "execution_count": 30,
   "metadata": {
    "collapsed": false
   },
   "outputs": [],
   "source": [
    "def distance_matrix_np(pts):\n",
    "    \"\"\"Returns matrix of pairwise Euclidean distances. Vectorized numpy version.\"\"\"\n",
    "    return np.sum((pts[None,:] - pts[:, None])**2, -1)**0.5"
   ]
  },
  {
   "cell_type": "code",
   "execution_count": 31,
   "metadata": {
    "collapsed": false
   },
   "outputs": [],
   "source": [
    "pts = np.array([(0,0), (4,0), (4,3), (0,3)])"
   ]
  },
  {
   "cell_type": "code",
   "execution_count": 32,
   "metadata": {
    "collapsed": false
   },
   "outputs": [
    {
     "data": {
      "text/plain": [
       "array([[ 0.,  4.,  5.,  3.],\n",
       "       [ 4.,  0.,  3.,  5.],\n",
       "       [ 5.,  3.,  0.,  4.],\n",
       "       [ 3.,  5.,  4.,  0.]])"
      ]
     },
     "execution_count": 32,
     "metadata": {},
     "output_type": "execute_result"
    }
   ],
   "source": [
    "distance_matrix_py(pts)"
   ]
  },
  {
   "cell_type": "code",
   "execution_count": 33,
   "metadata": {
    "collapsed": false
   },
   "outputs": [
    {
     "data": {
      "text/plain": [
       "array([[ 0.,  4.,  5.,  3.],\n",
       "       [ 4.,  0.,  3.,  5.],\n",
       "       [ 5.,  3.,  0.,  4.],\n",
       "       [ 3.,  5.,  4.,  0.]])"
      ]
     },
     "execution_count": 33,
     "metadata": {},
     "output_type": "execute_result"
    }
   ],
   "source": [
    "distance_matrix_np(pts)"
   ]
  },
  {
   "cell_type": "code",
   "execution_count": 34,
   "metadata": {
    "collapsed": false
   },
   "outputs": [
    {
     "name": "stdout",
     "output_type": "stream",
     "text": [
      "1000 loops, best of 3: 203 µs per loop\n",
      "10000 loops, best of 3: 29.4 µs per loop\n"
     ]
    }
   ],
   "source": [
    "# Broaccasting and vectorization is faster than looping\n",
    "%timeit distance_matrix_py(pts)\n",
    "%timeit distance_matrix_np(pts)"
   ]
  },
  {
   "cell_type": "markdown",
   "metadata": {},
   "source": [
    "## Universal functions (Ufuncs)\n",
    "\n",
    "Functions that work on both scalars and arrays are known as ufuncs. For arrays, ufuncs apply the function in an element-wise fashion. Use of ufuncs is an esssential aspect of vectorization and typically much more computtionally efficient than using an explicit loop over each element."
   ]
  },
  {
   "cell_type": "code",
   "execution_count": 35,
   "metadata": {
    "collapsed": false
   },
   "outputs": [
    {
     "data": {
      "image/png": "[encoded data removed]",
      "text/plain": [
       "<matplotlib.figure.Figure at 0x113099f50>"
      ]
     },
     "metadata": {},
     "output_type": "display_data"
    }
   ],
   "source": [
    "xs = np.linspace(0, 2*np.pi, 100)\n",
    "ys = np.sin(xs) # np.sin is a universal function\n",
    "plt.plot(xs, ys);"
   ]
  },
  {
   "cell_type": "code",
   "execution_count": 36,
   "metadata": {
    "collapsed": false
   },
   "outputs": [
    {
     "name": "stdout",
     "output_type": "stream",
     "text": [
      "[0 1 2 3 4 5 6 7 8 9]\n",
      "[ 0 -1 -2 -3 -4 -5 -6 -7 -8 -9]\n",
      "[ 0  2  4  6  8 10 12 14 16 18]\n",
      "[ 0  1  4  9 16 25 36 49 64 81]\n",
      "[  0   1   8  27  64 125 216 343 512 729]\n",
      "[ True  True  True  True  True False False False False False]\n"
     ]
    }
   ],
   "source": [
    "# operators also perform elementwise operations by default\n",
    "\n",
    "xs = np.arange(10)\n",
    "print xs\n",
    "print -xs\n",
    "print xs+xs\n",
    "print xs*xs\n",
    "print xs**3\n",
    "print xs < 5"
   ]
  },
  {
   "cell_type": "markdown",
   "metadata": {},
   "source": [
    "## Generalized ufucns\n",
    "\n",
    "A universal function performs vectorized looping over scalars. A generalized ufucn performs looping over vectors or arrays. Currently, numpy only ships with a single generalized ufunc. However, they play an important role for JIT compilation with `numba`, a topic we will cover in future lectures."
   ]
  },
  {
   "cell_type": "code",
   "execution_count": 37,
   "metadata": {
    "collapsed": false
   },
   "outputs": [
    {
     "name": "stdout",
     "output_type": "stream",
     "text": [
      "(m,n),(n,p)->(m,p)\n"
     ]
    }
   ],
   "source": [
    "from numpy.core.umath_tests import matrix_multiply\n",
    "\n",
    "print matrix_multiply.signature"
   ]
  },
  {
   "cell_type": "code",
   "execution_count": 38,
   "metadata": {
    "collapsed": false
   },
   "outputs": [
    {
     "name": "stdout",
     "output_type": "stream",
     "text": [
      "(5, 2, 4)\n",
      "[[[ 1.6525  0.7642  1.8964  0.831 ]\n",
      "  [ 1.1368  0.5137  1.0785  0.7104]]\n",
      "\n",
      " [[ 1.0613  1.1923  1.2143  1.0832]\n",
      "  [ 1.0266  0.8275  0.8543  0.6412]]\n",
      "\n",
      " [[ 0.8015  0.8953  0.358   0.4282]\n",
      "  [ 0.3202  0.3222  0.2113  0.1709]]\n",
      "\n",
      " [[ 0.7747  1.0522  1.1458  0.892 ]\n",
      "  [ 0.8178  1.1741  0.9486  1.0363]]\n",
      "\n",
      " [[ 1.5257  0.7962  1.3355  0.707 ]\n",
      "  [ 1.3522  0.6577  0.9845  0.6013]]]\n"
     ]
    }
   ],
   "source": [
    "us = np.random.random((5, 2, 3)) # 5 2x3 matrics\n",
    "vs = np.random.random((5, 3, 4)) # 5 3x4 matrices\n",
    "# perform matrix multiplication for each of the 5 sets of matrices\n",
    "ws = matrix_multiply(us, vs) \n",
    "print ws.shape\n",
    "print ws"
   ]
  },
  {
   "cell_type": "markdown",
   "metadata": {},
   "source": [
    "## Random numbers\n",
    "\n",
    "There are two modules for (pseudo) random numbers that are commonly used. When all you need is to generate random numbers from some distribtuion, the `numpy.random` moodule is the simplest to use. When you need more information realted to a disttribution such as quantiles or the PDF, you can use the `scipy.stats` module."
   ]
  },
  {
   "cell_type": "markdown",
   "metadata": {},
   "source": [
    "#### Using `numpy.random`\n",
    "\n",
    "[Module Reference](http://docs.scipy.org/doc/numpy/reference/routines.random.html)"
   ]
  },
  {
   "cell_type": "code",
   "execution_count": 39,
   "metadata": {
    "collapsed": false
   },
   "outputs": [],
   "source": [
    "import numpy.random as npr\n",
    "npr.seed(123) # fix seed for reproducible results"
   ]
  },
  {
   "cell_type": "code",
   "execution_count": 40,
   "metadata": {
    "collapsed": false
   },
   "outputs": [
    {
     "data": {
      "text/plain": [
       "array([[18, 14, 14, 18, 20, 16],\n",
       "       [16, 25, 16, 14, 14, 15],\n",
       "       [15, 19, 16, 12, 18, 20],\n",
       "       [19, 13, 14, 18, 18, 18],\n",
       "       [18, 20, 17, 16, 16, 13],\n",
       "       [15, 16, 15, 16, 20, 18],\n",
       "       [12, 17, 17, 18, 17, 19],\n",
       "       [15, 16, 22, 21, 13, 13],\n",
       "       [18, 12, 16, 17, 22, 15],\n",
       "       [14, 17, 25, 15, 15, 14]])"
      ]
     },
     "execution_count": 40,
     "metadata": {},
     "output_type": "execute_result"
    }
   ],
   "source": [
    "# 10 trials of rolling a fair 6-sided 100 times\n",
    "roll = 1.0/6\n",
    "x = npr.multinomial(100, [roll]*6, 10)\n",
    "x"
   ]
  },
  {
   "cell_type": "code",
   "execution_count": 41,
   "metadata": {
    "collapsed": false
   },
   "outputs": [
    {
     "data": {
      "image/png": "[encoded data removed]",
      "text/plain": [
       "<matplotlib.figure.Figure at 0x1146008d0>"
      ]
     },
     "metadata": {},
     "output_type": "display_data"
    }
   ],
   "source": [
    "# uniformly distributed numbers in 2D\n",
    "x = npr.uniform(-1, 1, (100, 2))\n",
    "plt.scatter(x[:,0], x[:,1], s=50)\n",
    "plt.axis([-1.05, 1.05, -1.05, 1.05]);"
   ]
  },
  {
   "cell_type": "code",
   "execution_count": 42,
   "metadata": {
    "collapsed": false
   },
   "outputs": [
    {
     "data": {
      "text/plain": [
       "array([5, 8, 6, 4, 3, 9, 1, 7, 2, 0])"
      ]
     },
     "execution_count": 42,
     "metadata": {},
     "output_type": "execute_result"
    }
   ],
   "source": [
    "# ranodmly shuffling a vector\n",
    "x = np.arange(10)\n",
    "npr.shuffle(x)\n",
    "x"
   ]
  },
  {
   "cell_type": "code",
   "execution_count": 43,
   "metadata": {
    "collapsed": false
   },
   "outputs": [
    {
     "data": {
      "text/plain": [
       "array([1, 4, 9, 8, 6, 5, 3, 2, 0, 7])"
      ]
     },
     "execution_count": 43,
     "metadata": {},
     "output_type": "execute_result"
    }
   ],
   "source": [
    "# radnom permutations\n",
    "npr.permutation(10)"
   ]
  },
  {
   "cell_type": "code",
   "execution_count": 44,
   "metadata": {
    "collapsed": false
   },
   "outputs": [
    {
     "data": {
      "text/plain": [
       "array([14, 16, 15, 12, 19, 11, 13, 10, 18, 17])"
      ]
     },
     "execution_count": 44,
     "metadata": {},
     "output_type": "execute_result"
    }
   ],
   "source": [
    "# radnom selection without replacement\n",
    "x = np.arange(10,20)\n",
    "npr.choice(x, 10, replace=False)"
   ]
  },
  {
   "cell_type": "code",
   "execution_count": 45,
   "metadata": {
    "collapsed": false
   },
   "outputs": [
    {
     "data": {
      "text/plain": [
       "array([[15, 13, 10, 14, 18, 14, 19, 13, 15, 11],\n",
       "       [18, 10, 19, 11, 15, 18, 18, 14, 16, 18],\n",
       "       [17, 19, 12, 10, 10, 19, 19, 15, 13, 15],\n",
       "       [15, 12, 12, 17, 13, 11, 13, 19, 13, 16],\n",
       "       [12, 13, 11, 19, 18, 10, 12, 13, 17, 19]])"
      ]
     },
     "execution_count": 45,
     "metadata": {},
     "output_type": "execute_result"
    }
   ],
   "source": [
    "# radnom selection with replacement\n",
    "npr.choice(x, (5, 10), replace=True) # this is default"
   ]
  },
  {
   "cell_type": "code",
   "execution_count": 46,
   "metadata": {
    "collapsed": false
   },
   "outputs": [
    {
     "data": {
      "text/plain": [
       "3.1416"
      ]
     },
     "execution_count": 46,
     "metadata": {},
     "output_type": "execute_result"
    }
   ],
   "source": [
    "# toy example - estimating pi inefficiently\n",
    "n = 1e6\n",
    "x = npr.uniform(-1,1,(n,2))\n",
    "4.0*np.sum(x[:,0]**2 + x[:,1]**2 < 1)/n"
   ]
  },
  {
   "cell_type": "markdown",
   "metadata": {},
   "source": [
    "#### Using scipy.stats\n",
    "\n",
    "[Module refernce](http://docs.scipy.org/doc/scipy-0.14.0/reference/stats.html)"
   ]
  },
  {
   "cell_type": "code",
   "execution_count": 47,
   "metadata": {
    "collapsed": false
   },
   "outputs": [],
   "source": [
    "import scipy.stats as stats"
   ]
  },
  {
   "cell_type": "code",
   "execution_count": 48,
   "metadata": {
    "collapsed": false
   },
   "outputs": [],
   "source": [
    "# Create a \"frozen\" distribution - i.e. a partially applied function\n",
    "dist = stats.norm(10, 2)"
   ]
  },
  {
   "cell_type": "code",
   "execution_count": 49,
   "metadata": {
    "collapsed": false
   },
   "outputs": [
    {
     "data": {
      "text/plain": [
       "array([ 11.629 ,   9.5777,   8.5607,   8.5777,   8.6464,  11.5398,\n",
       "        10.8751,  11.8244,  10.1772,   9.3056])"
      ]
     },
     "execution_count": 49,
     "metadata": {},
     "output_type": "execute_result"
    }
   ],
   "source": [
    "#  same a rnorm\n",
    "dist.rvs(10)"
   ]
  },
  {
   "cell_type": "code",
   "execution_count": 50,
   "metadata": {
    "collapsed": false
   },
   "outputs": [
    {
     "data": {
      "text/plain": [
       "array([ 0.0088,  0.0301,  0.076 ,  0.141 ,  0.1919,  0.1919,  0.141 ,\n",
       "        0.076 ,  0.0301,  0.0088])"
      ]
     },
     "execution_count": 50,
     "metadata": {},
     "output_type": "execute_result"
    }
   ],
   "source": [
    "# same as pnorm\n",
    "dist.pdf(np.linspace(5, 15, 10))"
   ]
  },
  {
   "cell_type": "code",
   "execution_count": 51,
   "metadata": {
    "collapsed": false
   },
   "outputs": [
    {
     "data": {
      "text/plain": [
       "array([ 0.0062,  0.0228,  0.0668,  0.1587,  0.3085,  0.5   ,  0.6915,\n",
       "        0.8413,  0.9332,  0.9772,  0.9938])"
      ]
     },
     "execution_count": 51,
     "metadata": {},
     "output_type": "execute_result"
    }
   ],
   "source": [
    "# same as dnorm\n",
    "dist.cdf(np.linspace(5, 15, 11))"
   ]
  },
  {
   "cell_type": "code",
   "execution_count": 52,
   "metadata": {
    "collapsed": false
   },
   "outputs": [
    {
     "data": {
      "text/plain": [
       "array([  5.,   6.,   7.,   8.,   9.,  10.,  11.,  12.,  13.,  14.,  15.])"
      ]
     },
     "execution_count": 52,
     "metadata": {},
     "output_type": "execute_result"
    }
   ],
   "source": [
    "# same as qnorm\n",
    "dist.ppf(dist.cdf(np.linspace(5, 15, 11)))"
   ]
  },
  {
   "cell_type": "markdown",
   "metadata": {},
   "source": [
    "## Linear algebra\n",
    "\n",
    "In general, the linear algebra functions can be found in scipy.linalg. You can also get access to BLAS and LAPACK function via scipy.linagl.blas and scipy.linalg.lapack."
   ]
  },
  {
   "cell_type": "code",
   "execution_count": 53,
   "metadata": {
    "collapsed": false
   },
   "outputs": [],
   "source": [
    "import scipy.linalg as la"
   ]
  },
  {
   "cell_type": "code",
   "execution_count": 54,
   "metadata": {
    "collapsed": false
   },
   "outputs": [
    {
     "name": "stdout",
     "output_type": "stream",
     "text": [
      "[[1 2]\n",
      " [3 4]]\n",
      "[1 4]\n"
     ]
    }
   ],
   "source": [
    "A = np.array([[1,2],[3,4]])\n",
    "b = np.array([1,4])\n",
    "print(A)\n",
    "print(b)"
   ]
  },
  {
   "cell_type": "code",
   "execution_count": 55,
   "metadata": {
    "collapsed": false
   },
   "outputs": [
    {
     "name": "stdout",
     "output_type": "stream",
     "text": [
      "[[ 7 10]\n",
      " [15 22]]\n",
      "[[1 2]\n",
      " [3 4]]\n",
      "[[-2.   1. ]\n",
      " [ 1.5 -0.5]]\n",
      "[[1 3]\n",
      " [2 4]]\n"
     ]
    }
   ],
   "source": [
    "# Matrix operations\n",
    "import numpy as np\n",
    "import scipy.linalg as la\n",
    "from functools import reduce\n",
    "\n",
    "A = np.array([[1,2],[3,4]])\n",
    "print(np.dot(A, A))\n",
    "print(A)\n",
    "print(la.inv(A))\n",
    "print(A.T)"
   ]
  },
  {
   "cell_type": "code",
   "execution_count": 56,
   "metadata": {
    "collapsed": false
   },
   "outputs": [
    {
     "name": "stdout",
     "output_type": "stream",
     "text": [
      "[ 2.  -0.5]\n",
      "[ 0.  0.]\n"
     ]
    }
   ],
   "source": [
    "x = la.solve(A, b) # do not use x = dot(inv(A), b) as it is inefficient and numerically unstable\n",
    "print(x)\n",
    "print(np.dot(A, x) - b)"
   ]
  },
  {
   "cell_type": "markdown",
   "metadata": {},
   "source": [
    "### Matrix decompositions"
   ]
  },
  {
   "cell_type": "code",
   "execution_count": 57,
   "metadata": {
    "collapsed": false
   },
   "outputs": [
    {
     "name": "stdout",
     "output_type": "stream",
     "text": [
      "[[  94.   82.  125.  108.  105.   88.   99.   82.   97.  112.]\n",
      " [  83.  124.   67.  103.   73.  111.  125.   81.  122.   62.]\n",
      " [  93.   84.  107.  107.   80.   85.   96.   89.   85.  102.]\n",
      " [ 116.  116.   64.   98.   82.   98.  121.   70.  122.   98.]\n",
      " [ 118.  108.  103.  102.   68.   98.   88.   78.  103.   95.]\n",
      " [ 112.  115.   74.   80.  106.  104.  114.  105.   80.   99.]]\n"
     ]
    }
   ],
   "source": [
    "A = np.floor(npr.normal(100, 15, (6, 10)))\n",
    "print(A)"
   ]
  },
  {
   "cell_type": "code",
   "execution_count": 58,
   "metadata": {
    "collapsed": false
   },
   "outputs": [
    {
     "name": "stdout",
     "output_type": "stream",
     "text": [
      "[[ 118.  108.  103.  102.   68.   98.   88.   78.  103.   95.]\n",
      " [  83.  124.   67.  103.   73.  111.  125.   81.  122.   62.]\n",
      " [  94.   82.  125.  108.  105.   88.   99.   82.   97.  112.]\n",
      " [ 116.  116.   64.   98.   82.   98.  121.   70.  122.   98.]\n",
      " [ 112.  115.   74.   80.  106.  104.  114.  105.   80.   99.]\n",
      " [  93.   84.  107.  107.   80.   85.   96.   89.   85.  102.]]\n",
      "\n",
      "[[ 118.  108.  103.  102.   68.   98.   88.   78.  103.   95.]\n",
      " [  83.  124.   67.  103.   73.  111.  125.   81.  122.   62.]\n",
      " [  94.   82.  125.  108.  105.   88.   99.   82.   97.  112.]\n",
      " [ 116.  116.   64.   98.   82.   98.  121.   70.  122.   98.]\n",
      " [ 112.  115.   74.   80.  106.  104.  114.  105.   80.   99.]\n",
      " [  93.   84.  107.  107.   80.   85.   96.   89.   85.  102.]]\n"
     ]
    }
   ],
   "source": [
    "P, L, U = la.lu(A)\n",
    "print(np.dot(P.T, A))\n",
    "print\n",
    "print(np.dot(L, U))"
   ]
  },
  {
   "cell_type": "code",
   "execution_count": 59,
   "metadata": {
    "collapsed": false
   },
   "outputs": [
    {
     "name": "stdout",
     "output_type": "stream",
     "text": [
      "[[  94.   82.  125.  108.  105.   88.   99.   82.   97.  112.]\n",
      " [  83.  124.   67.  103.   73.  111.  125.   81.  122.   62.]\n",
      " [  93.   84.  107.  107.   80.   85.   96.   89.   85.  102.]\n",
      " [ 116.  116.   64.   98.   82.   98.  121.   70.  122.   98.]\n",
      " [ 118.  108.  103.  102.   68.   98.   88.   78.  103.   95.]\n",
      " [ 112.  115.   74.   80.  106.  104.  114.  105.   80.   99.]]\n",
      "\n",
      "[[  94.   82.  125.  108.  105.   88.   99.   82.   97.  112.]\n",
      " [  83.  124.   67.  103.   73.  111.  125.   81.  122.   62.]\n",
      " [  93.   84.  107.  107.   80.   85.   96.   89.   85.  102.]\n",
      " [ 116.  116.   64.   98.   82.   98.  121.   70.  122.   98.]\n",
      " [ 118.  108.  103.  102.   68.   98.   88.   78.  103.   95.]\n",
      " [ 112.  115.   74.   80.  106.  104.  114.  105.   80.   99.]]\n"
     ]
    }
   ],
   "source": [
    "Q, R = la.qr(A)\n",
    "print(A)\n",
    "print\n",
    "print(np.dot(Q, R))"
   ]
  },
  {
   "cell_type": "code",
   "execution_count": 60,
   "metadata": {
    "collapsed": false
   },
   "outputs": [
    {
     "name": "stdout",
     "output_type": "stream",
     "text": [
      "[[  94.   82.  125.  108.  105.   88.   99.   82.   97.  112.]\n",
      " [  83.  124.   67.  103.   73.  111.  125.   81.  122.   62.]\n",
      " [  93.   84.  107.  107.   80.   85.   96.   89.   85.  102.]\n",
      " [ 116.  116.   64.   98.   82.   98.  121.   70.  122.   98.]\n",
      " [ 118.  108.  103.  102.   68.   98.   88.   78.  103.   95.]\n",
      " [ 112.  115.   74.   80.  106.  104.  114.  105.   80.   99.]]\n"
     ]
    }
   ],
   "source": [
    "U, s, V = la.svd(A)\n",
    "m, n = A.shape\n",
    "S =  np.zeros((m, n))\n",
    "for i, _s in enumerate(s):\n",
    "    S[i,i] = _s\n",
    "print(reduce(np.dot, [U, S, V]))"
   ]
  },
  {
   "cell_type": "code",
   "execution_count": 61,
   "metadata": {
    "collapsed": false
   },
   "outputs": [
    {
     "name": "stdout",
     "output_type": "stream",
     "text": [
      "[[ 187.7333 -182.4667   94.9333 -105.4444    1.2    -137.2   ]\n",
      " [-182.4667  609.6556  -83.3111  371.0556   90.8778   70.5667]\n",
      " [  94.9333  -83.3111   97.2889  -48.8889   45.0222  -79.8   ]\n",
      " [-105.4444  371.0556  -48.8889  438.5     145.5     109.0556]\n",
      " [   1.2      90.8778   45.0222  145.5     215.4333  -39.7667]\n",
      " [-137.2      70.5667  -79.8     109.0556  -39.7667  234.1   ]]\n"
     ]
    }
   ],
   "source": [
    "B = np.cov(A)\n",
    "print(B)"
   ]
  },
  {
   "cell_type": "code",
   "execution_count": 62,
   "metadata": {
    "collapsed": false
   },
   "outputs": [
    {
     "name": "stdout",
     "output_type": "stream",
     "text": [
      "[[-280.8911  157.1032   12.1003  -60.7161    8.8142   -1.5134]\n",
      " [ 739.1179   34.4268    3.8974    4.3778   14.9092 -122.8749]\n",
      " [-134.1449  128.3162  -11.0569   -6.6382   37.3675   13.4467]\n",
      " [ 598.7992   77.4348   -5.3372  -52.7843  -14.996    94.553 ]\n",
      " [ 170.8339  193.7335    5.8732   67.6135    1.1042   90.1451]\n",
      " [ 199.7105 -218.1547    6.1467   -5.6295   26.3372  101.0444]]\n",
      "\n",
      "[[-280.8911  157.1032   12.1003  -60.7161    8.8142   -1.5134]\n",
      " [ 739.1179   34.4268    3.8974    4.3778   14.9092 -122.8749]\n",
      " [-134.1449  128.3162  -11.0569   -6.6382   37.3675   13.4467]\n",
      " [ 598.7992   77.4348   -5.3372  -52.7843  -14.996    94.553 ]\n",
      " [ 170.8339  193.7335    5.8732   67.6135    1.1042   90.1451]\n",
      " [ 199.7105 -218.1547    6.1467   -5.6295   26.3372  101.0444]]\n"
     ]
    }
   ],
   "source": [
    "u, V = la.eig(B)\n",
    "print(np.dot(B, V))\n",
    "print\n",
    "print(np.real(np.dot(V, np.diag(u))))"
   ]
  },
  {
   "cell_type": "code",
   "execution_count": 63,
   "metadata": {
    "collapsed": false
   },
   "outputs": [
    {
     "name": "stdout",
     "output_type": "stream",
     "text": [
      "[[ 187.7333 -182.4667   94.9333 -105.4444    1.2    -137.2   ]\n",
      " [-182.4667  609.6556  -83.3111  371.0556   90.8778   70.5667]\n",
      " [  94.9333  -83.3111   97.2889  -48.8889   45.0222  -79.8   ]\n",
      " [-105.4444  371.0556  -48.8889  438.5     145.5     109.0556]\n",
      " [   1.2      90.8778   45.0222  145.5     215.4333  -39.7667]\n",
      " [-137.2      70.5667  -79.8     109.0556  -39.7667  234.1   ]]\n",
      "\n",
      "[[ 187.7333 -182.4667   94.9333 -105.4444    1.2    -137.2   ]\n",
      " [-182.4667  609.6556  -83.3111  371.0556   90.8778   70.5667]\n",
      " [  94.9333  -83.3111   97.2889  -48.8889   45.0222  -79.8   ]\n",
      " [-105.4444  371.0556  -48.8889  438.5     145.5     109.0556]\n",
      " [   1.2      90.8778   45.0222  145.5     215.4333  -39.7667]\n",
      " [-137.2      70.5667  -79.8     109.0556  -39.7667  234.1   ]]\n"
     ]
    }
   ],
   "source": [
    "C = la.cholesky(B)\n",
    "print(np.dot(C.T, C))\n",
    "print\n",
    "print(B)"
   ]
  },
  {
   "cell_type": "markdown",
   "metadata": {},
   "source": [
    "### Finding the covariance matrix"
   ]
  },
  {
   "cell_type": "code",
   "execution_count": 64,
   "metadata": {
    "collapsed": false
   },
   "outputs": [
    {
     "name": "stdout",
     "output_type": "stream",
     "text": [
      "[[ 5.1286  3.0701]\n",
      " [ 3.0701  9.0755]] \n",
      "\n",
      "[[ 5.1286  3.0701]\n",
      " [ 3.0701  9.0755]]\n"
     ]
    }
   ],
   "source": [
    "np.random.seed(123)\n",
    "x = np.random.multivariate_normal([10,10], np.array([[3,1],[1,5]]), 10)\n",
    "# create a zero mean array\n",
    "u = x - x.mean(0)\n",
    "cov = np.dot(u.T, u)/(10-1)\n",
    "print cov, '\\n'\n",
    "print np.cov(x.T)"
   ]
  },
  {
   "cell_type": "markdown",
   "metadata": {},
   "source": [
    "### Least squares solution"
   ]
  },
  {
   "cell_type": "markdown",
   "metadata": {},
   "source": [
    "Suppose we want to solve a system of noisy linear equations\n",
    "\n",
    "$$\n",
    "y_1 = b_0 x_1 + b_1 \\\\\n",
    "y_2 = b_0 x_2 + b_1 \\\\\n",
    "y_3 = b_0 x_2 + b_1 \\\\\n",
    "y_4 = b_0 x_4 + b_1 \\\\\n",
    "$$\n",
    "\n",
    "Since the system is noisy (implies full rank) and overdetermined, we cannot find an exact solution. Instead, we will look for the least squares solution. First we can rewrrite in matrix notation $Y = AB$, treating $b_1$ as the coefficient of $x^0 = 1$:\n",
    "\n",
    "$$\n",
    "\\left(\n",
    "\\begin{array}{c}\n",
    "y_1 \\\\\n",
    "y_2 \\\\\n",
    "y_3 \\\\\n",
    "y_4 \n",
    "\\end{array} \n",
    "\\right) = \\left( \\begin{array}{cc}\n",
    "x_1 & 1 \\\\\n",
    "x_2 & 1 \\\\\n",
    "x_3 & 1 \\\\\n",
    "x_4 & 1 \\end{array} \\right)\n",
    "\\left( \n",
    "\\begin{array}{cc}\n",
    "b_0 & b_1 \n",
    "\\end{array}\n",
    "\\right)\n",
    "$$\n",
    "\n",
    "The solution of this (i.e. the $B$ matrix) is solved by multipling the psudoinverse of $A$ (the Vandermonde matrix) with $Y$\n",
    "\n",
    "$$\n",
    "(A^\\text{T}A)^{-1}A^\\text{T} Y\n",
    "$$\n",
    "\n",
    "Note that higher order polynomials have the same structure and can be solved in the same way\n",
    "\n",
    "$$\n",
    "\\left(\n",
    "\\begin{array}{c}\n",
    "y_1 \\\\\n",
    "y_2 \\\\\n",
    "y_3 \\\\\n",
    "y_4 \n",
    "\\end{array} \n",
    "\\right) = \\left( \\begin{array}{ccc}\n",
    "x_1^2 & x_1 & 1 \\\\\n",
    "x_2^2 & x_2 & 1 \\\\\n",
    "x_3^2 & x_3 & 1 \\\\\n",
    "x_4^2 & x_4 & 1 \\end{array} \\right)\n",
    "\\left( \n",
    "\\begin{array}{ccc}\n",
    "b_0 & b_1 & b_2\n",
    "\\end{array}\n",
    "\\right)\n",
    "$$"
   ]
  },
  {
   "cell_type": "code",
   "execution_count": 65,
   "metadata": {
    "collapsed": false
   },
   "outputs": [
    {
     "name": "stdout",
     "output_type": "stream",
     "text": [
      "('lstsq solution                ', array([ 5.5899, -1.4177]))\n",
      "('pseudoinverse solution        ', array([ 5.5899, -1.4177]))\n",
      "('normal euqation solution      ', array([ 5.5899, -1.4177]))\n"
     ]
    },
    {
     "data": {
      "image/png": "[encoded data removed]",
      "text/plain": [
       "<matplotlib.figure.Figure at 0x11891fc10>"
      ]
     },
     "metadata": {},
     "output_type": "display_data"
    }
   ],
   "source": [
    "# Set up a system of 11 linear equations\n",
    "x = np.linspace(1,2,11)\n",
    "y = 6*x - 2 + npr.normal(0, 0.3, len(x))\n",
    "\n",
    "# Form the VanderMonde matrix\n",
    "A = np.vstack([x, np.ones(len(x))]).T\n",
    "\n",
    "# The linear algebra librayr has a lstsq() function \n",
    "# that will do the above calculaitons for us\n",
    "\n",
    "b, resids, rank, sv = la.lstsq(A, y)\n",
    "\n",
    "# Check against pseudoinverse and the normal equation\n",
    "print(\"lstsq solution\".ljust(30), b)\n",
    "print(\"pseudoinverse solution\".ljust(30), np.dot(la.pinv(A), y))\n",
    "print(\"normal euqation solution\".ljust(30), np.dot(np.dot(la.inv(np.dot(A.T, A)), A.T), y))\n",
    "\n",
    "# Now plot the solution\n",
    "xi = np.linspace(1,2,11)\n",
    "yi = b[0]*xi + b[1]\n",
    "\n",
    "plt.plot(x, y, 'o')\n",
    "plt.plot(xi, yi, 'r-');"
   ]
  },
  {
   "cell_type": "code",
   "execution_count": 66,
   "metadata": {
    "collapsed": false
   },
   "outputs": [
    {
     "data": {
      "image/png": "[encoded data removed]",
      "text/plain": [
       "<matplotlib.figure.Figure at 0x115189a10>"
      ]
     },
     "metadata": {},
     "output_type": "display_data"
    }
   ],
   "source": [
    "# As advertised, this works for finding coeefficeints of a polynomial too\n",
    "\n",
    "x = np.linspace(0,2,11)\n",
    "y = 6*x*x + .5*x + 2 + npr.normal(0, 0.6, len(x))\n",
    "plt.plot(x, y, 'o')\n",
    "A = np.vstack([x*x, x, np.ones(len(x))]).T\n",
    "b = la.lstsq(A, y)[0]\n",
    "\n",
    "xi = np.linspace(0,2,11)\n",
    "yi = b[0]*xi*xi + b[1]*xi + b[2]\n",
    "plt.plot(xi, yi, 'r-');"
   ]
  },
  {
   "cell_type": "code",
   "execution_count": 67,
   "metadata": {
    "collapsed": false
   },
   "outputs": [
    {
     "data": {
      "text/plain": [
       "[(6, -250.9964),\n",
       " (7, 819.7606),\n",
       " (1, -909.5724),\n",
       " (5, 449.7862),\n",
       " (7, -91.2660),\n",
       " (9, 15.5274)]"
      ]
     },
     "execution_count": 67,
     "metadata": {},
     "output_type": "execute_result"
    },
    {
     "data": {
      "image/png": "[encoded data removed]",
      "text/plain": [
       "<matplotlib.figure.Figure at 0x1133a9910>"
      ]
     },
     "metadata": {},
     "output_type": "display_data"
    }
   ],
   "source": [
    "# It is important to understand what is going on,\n",
    "# but we don't have to work so hard to fit a polynomial\n",
    "\n",
    "b = np.random.randint(0, 10, 6)\n",
    "x = np.linspace(0, 1, 25)\n",
    "y = np.poly1d(b)(x) \n",
    "y += np.random.normal(0, 5, y.shape)\n",
    "\n",
    "p = np.poly1d(np.polyfit(x, y, len(b)-1))\n",
    "plt.plot(x, y, 'bo')\n",
    "plt.plot(x, p(x), 'r-')\n",
    "list(zip(b, p.coeffs))"
   ]
  },
  {
   "cell_type": "markdown",
   "metadata": {},
   "source": [
    "<font color=red>Exercises</font>\n",
    "----"
   ]
  },
  {
   "cell_type": "markdown",
   "metadata": {},
   "source": [
    "**1**. Find the row, column and overall means for the following matrix:\n",
    "\n",
    "```python\n",
    "m = np.arange(12).reshape((3,4))\n",
    "```"
   ]
  },
  {
   "cell_type": "code",
   "execution_count": 68,
   "metadata": {
    "collapsed": false
   },
   "outputs": [
    {
     "name": "stdout",
     "output_type": "stream",
     "text": [
      "[[ 0  1  2  3]\n",
      " [ 4  5  6  7]\n",
      " [ 8  9 10 11]]\n",
      "\n",
      "OVerall 5.5\n",
      "Row [ 1.5  5.5  9.5]\n",
      "Columne [ 4.  5.  6.  7.]\n"
     ]
    }
   ],
   "source": [
    "# YOUR CODE HERE\n",
    "\n",
    "m = np.arange(12).reshape((3,4))\n",
    "print m\n",
    "print\n",
    "\n",
    "print \"OVerall\", m.mean()\n",
    "print \"Row\", m.mean(1)\n",
    "print \"Columne\", m.mean(0)"
   ]
  },
  {
   "cell_type": "markdown",
   "metadata": {},
   "source": [
    "**2**. Find the outer product of the following two vecotrs\n",
    "\n",
    "```python\n",
    "u = np.array([1,3,5,7])\n",
    "v = np.array([2,4,6,8])\n",
    "```\n",
    "\n",
    "Do this in the following ways:\n",
    "\n",
    "- Using the function `outer` in numpy\n",
    "- Using a nested for loop or list comprehension\n",
    "- Using numpy broadcasting operatoins"
   ]
  },
  {
   "cell_type": "code",
   "execution_count": 69,
   "metadata": {
    "collapsed": false
   },
   "outputs": [
    {
     "name": "stdout",
     "output_type": "stream",
     "text": [
      "[[ 2  4  6  8]\n",
      " [ 6 12 18 24]\n",
      " [10 20 30 40]\n",
      " [14 28 42 56]]\n",
      "\n",
      "[[ 2  4  6  8]\n",
      " [ 6 12 18 24]\n",
      " [10 20 30 40]\n",
      " [14 28 42 56]]\n",
      "\n",
      "[[ 2  4  6  8]\n",
      " [ 6 12 18 24]\n",
      " [10 20 30 40]\n",
      " [14 28 42 56]]\n"
     ]
    }
   ],
   "source": [
    "# YOUR CODE HERE\n",
    "\n",
    "u = np.array([1,3,5,7])\n",
    "v = np.array([2,4,6,8])\n",
    "\n",
    "print np.outer(u, v)\n",
    "print\n",
    "print np.array([[u_ * v_ for v_ in v] for u_ in u])\n",
    "print\n",
    "print u[:,None] * v[None,:]"
   ]
  },
  {
   "cell_type": "markdown",
   "metadata": {},
   "source": [
    "**3**. Create a 10 by 6 matrix of random uniform numbers. Set all rows with *any* entry less than 0.1 to be zero. For example, here is a 4 by 10 version:\n",
    "\n",
    "```python\n",
    "array([[ 0.49722235,  0.88833973,  0.07289358,  0.12375223,  0.39659254,\n",
    "         0.70267114],\n",
    "       [ 0.3954172 ,  0.889077  ,  0.71286225,  0.06353112,  0.68107965,\n",
    "         0.17186995],\n",
    "       [ 0.74821206,  0.92692111,  0.24871227,  0.26904958,  0.80410194,\n",
    "         0.22304055],\n",
    "       [ 0.22582605,  0.37671244,  0.96510957,  0.88819053,  0.14654176,\n",
    "         0.33987323]])\n",
    "```\n",
    "\n",
    "becomes\n",
    "\n",
    "```python\n",
    "array([[ 0.        ,  0.        ,  0.        ,  0.        ,  0.        ,\n",
    "         0.        ],\n",
    "       [ 0.        ,  0.        ,  0.        ,  0.        ,  0.        ,\n",
    "         0.        ],\n",
    "       [ 0.74821206,  0.92692111,  0.24871227,  0.26904958,  0.80410194,\n",
    "         0.22304055],\n",
    "       [ 0.22582605,  0.37671244,  0.96510957,  0.88819053,  0.14654176,\n",
    "         0.33987323]])\n",
    "```\n",
    "\n",
    "Hint: Use the following numpy functions - `np.random.random`, `np.any` as well as Boolean indexing and the axis argument."
   ]
  },
  {
   "cell_type": "code",
   "execution_count": 70,
   "metadata": {
    "collapsed": false
   },
   "outputs": [
    {
     "name": "stdout",
     "output_type": "stream",
     "text": [
      "[[ 0.5117  0.9098  0.2184  0.3631  0.855   0.7114]\n",
      " [ 0.3929  0.2313  0.3802  0.5492  0.5567  0.0041]\n",
      " [ 0.638   0.0576  0.043   0.8751  0.2926  0.7628]\n",
      " [ 0.3679  0.8735  0.0294  0.552   0.2402  0.8848]\n",
      " [ 0.4602  0.1932  0.2937  0.8179  0.5595  0.6779]\n",
      " [ 0.8091  0.8686  0.418   0.0589  0.4785  0.5212]\n",
      " [ 0.5806  0.3092  0.9199  0.6553  0.3492  0.5411]\n",
      " [ 0.4491  0.2823  0.2959  0.5635  0.7152  0.5176]\n",
      " [ 0.352   0.6328  0.8731  0.1679  0.9875  0.3494]\n",
      " [ 0.8262  0.0655  0.0054  0.8869  0.9113  0.1994]]\n",
      "\n",
      "[[ 0.5117  0.9098  0.2184  0.3631  0.855   0.7114]\n",
      " [ 0.      0.      0.      0.      0.      0.    ]\n",
      " [ 0.      0.      0.      0.      0.      0.    ]\n",
      " [ 0.      0.      0.      0.      0.      0.    ]\n",
      " [ 0.4602  0.1932  0.2937  0.8179  0.5595  0.6779]\n",
      " [ 0.      0.      0.      0.      0.      0.    ]\n",
      " [ 0.5806  0.3092  0.9199  0.6553  0.3492  0.5411]\n",
      " [ 0.4491  0.2823  0.2959  0.5635  0.7152  0.5176]\n",
      " [ 0.352   0.6328  0.8731  0.1679  0.9875  0.3494]\n",
      " [ 0.      0.      0.      0.      0.      0.    ]]\n"
     ]
    }
   ],
   "source": [
    "# YOUR CODE HERE\n",
    "\n",
    "xs = np.random.random((10,6))\n",
    "print xs\n",
    "print\n",
    "xs[(xs < 0.1).any(axis=1), :] = 0\n",
    "print xs"
   ]
  },
  {
   "cell_type": "markdown",
   "metadata": {},
   "source": [
    "**4**. Use `np.linspace` to create an array of 100 numbers between 0 and $2\\pi$ (includsive). \n",
    "\n",
    "- Extract every 10th element using slice notation\n",
    "- Reverse the array using slice notation\n",
    "- Extract elements where the absolute difference between the sine and cosine functions evaluated at that element is less than 0.1\n",
    "- Make a plot showing the sin and cos functions and indicate where they are close"
   ]
  },
  {
   "cell_type": "code",
   "execution_count": 71,
   "metadata": {
    "collapsed": false
   },
   "outputs": [
    {
     "name": "stdout",
     "output_type": "stream",
     "text": [
      "[ 0.      0.6347  1.2693  1.904   2.5387  3.1733  3.808   4.4427  5.0773\n",
      "  5.712 ]\n",
      "\n",
      "[ 6.2832  6.2197  6.1563  6.0928  6.0293  5.9659  5.9024  5.8389  5.7755\n",
      "  5.712   5.6485  5.5851  5.5216  5.4581  5.3947  5.3312  5.2677  5.2043\n",
      "  5.1408  5.0773  5.0139  4.9504  4.8869  4.8235  4.76    4.6965  4.6331\n",
      "  4.5696  4.5061  4.4427  4.3792  4.3157  4.2523  4.1888  4.1253  4.0619\n",
      "  3.9984  3.9349  3.8715  3.808   3.7445  3.6811  3.6176  3.5541  3.4907\n",
      "  3.4272  3.3637  3.3003  3.2368  3.1733  3.1099  3.0464  2.9829  2.9195\n",
      "  2.856   2.7925  2.7291  2.6656  2.6021  2.5387  2.4752  2.4117  2.3483\n",
      "  2.2848  2.2213  2.1579  2.0944  2.0309  1.9675  1.904   1.8405  1.7771\n",
      "  1.7136  1.6501  1.5867  1.5232  1.4597  1.3963  1.3328  1.2693  1.2059\n",
      "  1.1424  1.0789  1.0155  0.952   0.8885  0.8251  0.7616  0.6981  0.6347\n",
      "  0.5712  0.5077  0.4443  0.3808  0.3173  0.2539  0.1904  0.1269  0.0635\n",
      "  0.    ]\n",
      "\n",
      "[ 0.7616  0.8251  3.8715  3.9349]\n",
      "\n"
     ]
    },
    {
     "data": {
      "image/png": "[encoded data removed]",
      "text/plain": [
       "<matplotlib.figure.Figure at 0x102be2cd0>"
      ]
     },
     "metadata": {},
     "output_type": "display_data"
    }
   ],
   "source": [
    "# YOUR CODE HERE\n",
    "\n",
    "xs = np.linspace(0, 2*np.pi, 100)\n",
    "print xs[::10]\n",
    "print\n",
    "print xs[::-1]\n",
    "print\n",
    "idx = np.abs(np.sin(xs)-np.cos(xs)) < 0.1\n",
    "print xs[idx]\n",
    "print \n",
    "plt.scatter(xs[idx], np.sin(xs[idx]))\n",
    "plt.plot(xs, np.sin(xs), xs, np.cos(xs));"
   ]
  },
  {
   "cell_type": "markdown",
   "metadata": {},
   "source": [
    "**5**. Create a matrix that shows the 10 by 10 multiplication table.\n",
    "\n",
    "- Find the trace of the matrix\n",
    "- Extract the anto-diagonal (this should be `array([10, 18, 24, 28, 30, 30, 28, 24, 18, 10])`)\n",
    "- Extract the diagnoal offset by 1 upwards (this should be `array([ 2,  6, 12, 20, 30, 42, 56, 72, 90])`)"
   ]
  },
  {
   "cell_type": "code",
   "execution_count": 72,
   "metadata": {
    "collapsed": false
   },
   "outputs": [
    {
     "name": "stdout",
     "output_type": "stream",
     "text": [
      "[[  1   2   3   4   5   6   7   8   9  10]\n",
      " [  2   4   6   8  10  12  14  16  18  20]\n",
      " [  3   6   9  12  15  18  21  24  27  30]\n",
      " [  4   8  12  16  20  24  28  32  36  40]\n",
      " [  5  10  15  20  25  30  35  40  45  50]\n",
      " [  6  12  18  24  30  36  42  48  54  60]\n",
      " [  7  14  21  28  35  42  49  56  63  70]\n",
      " [  8  16  24  32  40  48  56  64  72  80]\n",
      " [  9  18  27  36  45  54  63  72  81  90]\n",
      " [ 10  20  30  40  50  60  70  80  90 100]]\n",
      "\n",
      "385\n",
      "\n",
      "[10 18 24 28 30 30 28 24 18 10]\n",
      "\n",
      "[ 2  6 12 20 30 42 56 72 90]\n"
     ]
    }
   ],
   "source": [
    "# YOUR CODE HERE\n",
    "\n",
    "ns = np.arange(1, 11)\n",
    "m = ns[:, None] * ns[None, :]\n",
    "print m\n",
    "print \n",
    "print m.trace()\n",
    "print \n",
    "print np.flipud(m).diagonal()\n",
    "print\n",
    "print m.diagonal(offset=1)"
   ]
  },
  {
   "cell_type": "markdown",
   "metadata": {},
   "source": [
    "**6**. Diagonalize the follwoing matrix\n",
    "```python\n",
    "A = np.array([\n",
    "    [1,  2, 1],\n",
    "    [6, -1, 0],\n",
    "    [-1,-2,-1]\n",
    "])\n",
    "```\n",
    "In other words, find the invertible matrix $P$ and the diagonal matrix $D$ such that $A = PDP^{-1} $. Confirm by calculating the value of $PDP^{-1} $.\n",
    "\n",
    "- Do this mnaully\n",
    "- Then use numpy.linalg functions to do the same"
   ]
  },
  {
   "cell_type": "code",
   "execution_count": 108,
   "metadata": {
    "collapsed": false
   },
   "outputs": [
    {
     "name": "stdout",
     "output_type": "stream",
     "text": [
      "[[ 0.4082 -0.4851 -0.0697]\n",
      " [-0.8165 -0.7276 -0.418 ]\n",
      " [-0.4082  0.4851  0.9058]]\n",
      "\n",
      "[-4.  3.  0.]\n",
      "\n"
     ]
    },
    {
     "data": {
      "text/plain": [
       "array([[ 1.,  2.,  1.],\n",
       "       [ 6., -1., -0.],\n",
       "       [-1., -2., -1.]])"
      ]
     },
     "execution_count": 108,
     "metadata": {},
     "output_type": "execute_result"
    }
   ],
   "source": [
    "# YOUR CODE HERE\n",
    "\n",
    "A = np.array([\n",
    "    [1,  2, 1],\n",
    "    [6, -1, 0],\n",
    "    [-1,-2,-1]\n",
    "])\n",
    "\n",
    "dotm = lambda *args: reduce(np.dot, args)\n",
    "\n",
    "u, V = la.eig(A)\n",
    "P = V\n",
    "D = np.diag(u)\n",
    "print P\n",
    "print \n",
    "print np.real_if_close(np.round(u))\n",
    "print\n",
    "\n",
    "np.real_if_close(np.round(dotm(P, D, la.inv(P)), 6))"
   ]
  },
  {
   "cell_type": "markdown",
   "metadata": {},
   "source": [
    "#### Manual solution involves finding roots of characteristic polynomial and solving the resulting linear systems for each equation\n",
    "\n",
    "The code below just intorduces some of the symbolic algebra capabilities of Python ..."
   ]
  },
  {
   "cell_type": "code",
   "execution_count": 110,
   "metadata": {
    "collapsed": false
   },
   "outputs": [],
   "source": [
    "from sympy import symbols, init_printing, roots, solve, eye\n",
    "from sympy.matrices import Matrix\n",
    "\n",
    "init_printing()\n",
    "\n",
    "x = symbols('x')"
   ]
  },
  {
   "cell_type": "code",
   "execution_count": 119,
   "metadata": {
    "collapsed": false
   },
   "outputs": [],
   "source": [
    "M = Matrix([\n",
    "    [1,  2, 1],\n",
    "    [6, -1, 0],\n",
    "    [-1,-2,-1]\n",
    "])"
   ]
  },
  {
   "cell_type": "code",
   "execution_count": 120,
   "metadata": {
    "collapsed": false
   },
   "outputs": [
    {
     "data": {
      "image/png": "[encoded data removed]",
      "text/latex": [
       "$$\\left[\\begin{matrix}1 & 2 & 1\\\\6 & -1 & 0\\\\-1 & -2 & -1\\end{matrix}\\right]$$"
      ],
      "text/plain": [
       "⎡1   2   1 ⎤\n",
       "⎢          ⎥\n",
       "⎢6   -1  0 ⎥\n",
       "⎢          ⎥\n",
       "⎣-1  -2  -1⎦"
      ]
     },
     "execution_count": 120,
     "metadata": {},
     "output_type": "execute_result"
    }
   ],
   "source": [
    "M"
   ]
  },
  {
   "cell_type": "code",
   "execution_count": 121,
   "metadata": {
    "collapsed": false
   },
   "outputs": [
    {
     "data": {
      "image/png": "[encoded data removed]",
      "text/latex": [
       "$$\\operatorname{Poly}{\\left( x^{3} + x^{2} - 12 x, x, domain=\\mathbb{Z} \\right)}$$"
      ],
      "text/plain": [
       "Poly(x**3 + x**2 - 12*x, x, domain='ZZ')"
      ]
     },
     "execution_count": 121,
     "metadata": {},
     "output_type": "execute_result"
    }
   ],
   "source": [
    "# Find characteristic polynomial\n",
    "poly = M.charpoly(x)\n",
    "poly.as_poly()"
   ]
  },
  {
   "cell_type": "code",
   "execution_count": 122,
   "metadata": {
    "collapsed": false
   },
   "outputs": [
    {
     "data": {
      "image/png": "[encoded data removed]",
      "text/latex": [
       "$$\\begin{Bmatrix}-4 : 1, & 0 : 1, & 3 : 1\\end{Bmatrix}$$"
      ],
      "text/plain": [
       "{-4: 1, 0: 1, 3: 1}"
      ]
     },
     "execution_count": 122,
     "metadata": {},
     "output_type": "execute_result"
    }
   ],
   "source": [
    "# eigenvalues are the roots\n",
    "roots(poly)"
   ]
  },
  {
   "cell_type": "markdown",
   "metadata": {},
   "source": [
    "**7**. Use the function provided below to visualize matrix multiplication as a geometric transformation by experiment with differnt values of the matrix $m$.\n",
    "\n",
    "- What does a diagonal matrix do to the origianl vectors?\n",
    "- What does a non-invertible matrix do to the original vectors?\n",
    "- What property results in matrices that preserves the area of the parallelogram spanned by the two vectors?\n",
    "- What property results in matrices that also preserve the length and angle of the original vectors?\n",
    "- What additional property is necessary to preserve the orientation of the original vecotrs?\n",
    "- What does the transpose of the matrix that preserves the length and angle of the original vectors do?\n",
    "- Write a function that when given any two non-colinear 2D vectors u, v, finds a transformation that converts u into e1 (1,0) and v into e2 (0,1)."
   ]
  },
  {
   "cell_type": "code",
   "execution_count": 74,
   "metadata": {
    "collapsed": false
   },
   "outputs": [],
   "source": [
    "#  Provided function\n",
    "def plot_matrix_transform(m):\n",
    "    \"\"\"Show the geometric effect of m on the standard unit vectors e1 and e2.\"\"\"\n",
    "\n",
    "    e1 = np.array([1,0])\n",
    "    e2 = np.array([0,1])\n",
    "    v1 = np.dot(m, e1)\n",
    "    v2 = np.dot(m, e2)\n",
    "\n",
    "    X = np.zeros((2,2))\n",
    "    Y = np.zeros((2,2))\n",
    "    pts = np.array([e1,e2,v1,v2])\n",
    "    U = pts[:, 0]\n",
    "    V = pts[:, 1]\n",
    "    C = [0,1,0,1]\n",
    "\n",
    "    xmin = min(-1, U.min())\n",
    "    xmax = max(1, U.max())\n",
    "    ymin = min(-1, V.min())\n",
    "    ymax = max(-1, V.max())\n",
    "\n",
    "    plt.figure(figsize=(6,6))\n",
    "    plt.quiver(X, Y, U, V, C, angles='xy', scale_units='xy', scale=1)\n",
    "    plt.axis([xmin, xmax, ymin, ymax]);"
   ]
  },
  {
   "cell_type": "code",
   "execution_count": 75,
   "metadata": {
    "collapsed": false
   },
   "outputs": [
    {
     "data": {
      "image/png": "[encoded data removed]",
      "text/plain": [
       "<matplotlib.figure.Figure at 0x115088ed0>"
      ]
     },
     "metadata": {},
     "output_type": "display_data"
    }
   ],
   "source": [
    "### Example usage\n",
    "m = np.array([[1,2],[3,4]])\n",
    "plot_matrix_transform(m)"
   ]
  },
  {
   "cell_type": "code",
   "execution_count": 76,
   "metadata": {
    "collapsed": false
   },
   "outputs": [
    {
     "name": "stdout",
     "output_type": "stream",
     "text": [
      "[[2 0]\n",
      " [0 3]] 6.0\n",
      "\n",
      "[[ 2.   3. ]\n",
      " [ 1.   1.5]] 0.0\n",
      "\n",
      "[[ 0.5403 -0.8415]\n",
      " [ 0.8415  0.5403]] 1.0\n",
      "\n",
      "[[ 0.5403  0.8415]\n",
      " [ 0.8415 -0.5403]] -1.0\n"
     ]
    }
   ],
   "source": [
    "# YOUR CODE HERE\n",
    "\n",
    "A1 = np.diag([2,3])\n",
    "A2 = np.array([[2,3],[1,1.5]])\n",
    "A3 = np.array([[np.cos(1), -np.sin(1)], [np.sin(1), np.cos(1)]])\n",
    "A4 = np.array([[np.cos(1), np.sin(1)], [np.sin(1), -np.cos(1)]])\n",
    "\n",
    "print A1, la.det(A1)\n",
    "print\n",
    "print A2, la.det(A2)\n",
    "print\n",
    "print A3, la.det(A3)\n",
    "print\n",
    "print A4, la.det(A4)"
   ]
  },
  {
   "cell_type": "code",
   "execution_count": 77,
   "metadata": {
    "collapsed": false
   },
   "outputs": [
    {
     "name": "stdout",
     "output_type": "stream",
     "text": [
      "[[ 1.  0.]\n",
      " [ 0.  1.]]\n"
     ]
    }
   ],
   "source": [
    "print A3.dot(A3.T)"
   ]
  },
  {
   "cell_type": "code",
   "execution_count": 78,
   "metadata": {
    "collapsed": false
   },
   "outputs": [
    {
     "name": "stdout",
     "output_type": "stream",
     "text": [
      "[[ 1.  0.]\n",
      " [ 0.  1.]]\n"
     ]
    }
   ],
   "source": [
    "print A4.dot(A4.T)"
   ]
  },
  {
   "cell_type": "code",
   "execution_count": 79,
   "metadata": {
    "collapsed": false
   },
   "outputs": [
    {
     "data": {
      "image/png": "[encoded data removed]",
      "text/plain": [
       "<matplotlib.figure.Figure at 0x1188fea90>"
      ]
     },
     "metadata": {},
     "output_type": "display_data"
    }
   ],
   "source": [
    "# A diagnoal matrix simply scales the vectors\n",
    "# This gives insight into what the eigendecomposition tells us\n",
    "plot_matrix_transform(A1)"
   ]
  },
  {
   "cell_type": "code",
   "execution_count": 80,
   "metadata": {
    "collapsed": false
   },
   "outputs": [
    {
     "data": {
      "image/png": "[encoded data removed]",
      "text/plain": [
       "<matplotlib.figure.Figure at 0x118b3d510>"
      ]
     },
     "metadata": {},
     "output_type": "display_data"
    }
   ],
   "source": [
    "# A singluar matrix collapses one vector onto another\n",
    "# The determinant is zero becasue the parallelogram area is zero\n",
    "plot_matrix_transform(A2)"
   ]
  },
  {
   "cell_type": "code",
   "execution_count": 81,
   "metadata": {
    "collapsed": false
   },
   "outputs": [
    {
     "data": {
      "image/png": "[encoded data removed]",
      "text/plain": [
       "<matplotlib.figure.Figure at 0x118932890>"
      ]
     },
     "metadata": {},
     "output_type": "display_data"
    }
   ],
   "source": [
    "# An orthogoanl matrix preservees length and angle\n",
    "# Hence the area is also preserved and the determinant is 1\n",
    "# In 2D it is etiher a rotation (shown here)\n",
    "plot_matrix_transform(A3)"
   ]
  },
  {
   "cell_type": "code",
   "execution_count": 82,
   "metadata": {
    "collapsed": false
   },
   "outputs": [
    {
     "data": {
      "image/png": "[encoded data removed]",
      "text/plain": [
       "<matplotlib.figure.Figure at 0x11462e490>"
      ]
     },
     "metadata": {},
     "output_type": "display_data"
    }
   ],
   "source": [
    "# or a refelction\n",
    "# The reflection does not preserve orietnation\n",
    "# This is indicated by the determinatn being -1\n",
    "plot_matrix_transform(A4)"
   ]
  },
  {
   "cell_type": "code",
   "execution_count": 83,
   "metadata": {
    "collapsed": false
   },
   "outputs": [
    {
     "data": {
      "image/png": "[encoded data removed]",
      "text/plain": [
       "<matplotlib.figure.Figure at 0x115069ad0>"
      ]
     },
     "metadata": {},
     "output_type": "display_data"
    }
   ],
   "source": [
    "# The tranpose of an orthogonal matrix is its inverse\n",
    "plot_matrix_transform(A3.T)"
   ]
  },
  {
   "cell_type": "code",
   "execution_count": 84,
   "metadata": {
    "collapsed": false
   },
   "outputs": [
    {
     "name": "stdout",
     "output_type": "stream",
     "text": [
      "[ 0.0276  0.8173] [ 1.  0.]\n",
      "[ 0.2418  0.0561] [ 0.  1.]\n"
     ]
    }
   ],
   "source": [
    "def transform(u, v):\n",
    "    \"\"\"Retruns a matrix that converts u into e1 (1,0) and v into e2 (0,1).\"\"\"\n",
    "    return la.inv(np.vstack([u, v]).T)\n",
    "\n",
    "u = np.random.random(2)\n",
    "v = np.random.random(2)\n",
    "\n",
    "M = transform(u, v)\n",
    "print u, M.dot(u)\n",
    "print v, M.dot(v)"
   ]
  },
  {
   "cell_type": "markdown",
   "metadata": {},
   "source": [
    "**8**. Find and plot the least squares fit to the given values of $x$ and $y$ for the following:\n",
    "\n",
    "- a constant\n",
    "- a quadratic equation\n",
    "- a 5th order polynomial\n",
    "- a polynomial of order 50"
   ]
  },
  {
   "cell_type": "code",
   "execution_count": 85,
   "metadata": {
    "collapsed": false
   },
   "outputs": [
    {
     "name": "stderr",
     "output_type": "stream",
     "text": [
      "/Users/cliburn/anaconda/lib/python2.7/site-packages/numpy/lib/polynomial.py:588: RankWarning: Polyfit may be poorly conditioned\n",
      "  warnings.warn(msg, RankWarning)\n"
     ]
    },
    {
     "data": {
      "image/png": "[encoded data removed]",
      "text/plain": [
       "<matplotlib.figure.Figure at 0x118aae090>"
      ]
     },
     "metadata": {},
     "output_type": "display_data"
    }
   ],
   "source": [
    "plt.figure(figsize=(12,8))\n",
    "x = np.load('x.npy')\n",
    "y = np.load('y.npy')\n",
    "plt.plot(x, y, 'o')\n",
    "\n",
    "### YOUR CODE HERE\n",
    "p0 = np.poly1d(np.polyfit(x, y, 0))\n",
    "p2 = np.poly1d(np.polyfit(x, y, 2))\n",
    "p5 = np.poly1d(np.polyfit(x, y, 5))\n",
    "p50 = np.poly1d(np.polyfit(x, y, 50))\n",
    "\n",
    "plt.plot(x, p0(x), 'b:', linewidth=2)\n",
    "plt.plot(x, p2(x), 'b-', linewidth=2)\n",
    "plt.plot(x, p5(x), 'g--', linewidth=2)\n",
    "plt.plot(x, p50(x), 'r-.', linewidth=2)\n",
    "plt.legend(['Data', 'Constant', 'Qaudratic', 'Order 5', 'Order 50'], loc='best', fontsize=20);"
   ]
  },
  {
   "cell_type": "code",
   "execution_count": 86,
   "metadata": {
    "collapsed": false
   },
   "outputs": [
    {
     "data": {
      "application/json": {
       "Software versions": [
        {
         "module": "Python",
         "version": "2.7.9 64bit [GCC 4.2.1 (Apple Inc. build 5577)]"
        },
        {
         "module": "IPython",
         "version": "2.3.1"
        },
        {
         "module": "OS",
         "version": "Darwin 13.4.0 x86_64 i386 64bit"
        },
        {
         "module": "numpy",
         "version": "1.9.1"
        },
        {
         "module": "scipy",
         "version": "0.14.0"
        }
       ]
      },
      "text/html": [
       "<table><tr><th>Software</th><th>Version</th></tr><tr><td>Python</td><td>2.7.9 64bit [GCC 4.2.1 (Apple Inc. build 5577)]</td></tr><tr><td>IPython</td><td>2.3.1</td></tr><tr><td>OS</td><td>Darwin 13.4.0 x86_64 i386 64bit</td></tr><tr><td>numpy</td><td>1.9.1</td></tr><tr><td>scipy</td><td>0.14.0</td></tr><tr><td colspan='2'>Thu Jan 22 15:43:33 2015 EST</td></tr></table>"
      ],
      "text/latex": [
       "\\begin{tabular}{|l|l|}\\hline\n",
       "{\\bf Software} & {\\bf Version} \\\\ \\hline\\hline\n",
       "Python & 2.7.9 64bit [GCC 4.2.1 (Apple Inc. build 5577)] \\\\ \\hline\n",
       "IPython & 2.3.1 \\\\ \\hline\n",
       "OS & Darwin 13.4.0 x86\\_64 i386 64bit \\\\ \\hline\n",
       "numpy & 1.9.1 \\\\ \\hline\n",
       "scipy & 0.14.0 \\\\ \\hline\n",
       "\\hline \\multicolumn{2}{|l|}{Thu Jan 22 15:43:33 2015 EST} \\\\ \\hline\n",
       "\\end{tabular}\n"
      ],
      "text/plain": [
       "Software versions\n",
       "Python 2.7.9 64bit [GCC 4.2.1 (Apple Inc. build 5577)]\n",
       "IPython 2.3.1\n",
       "OS Darwin 13.4.0 x86_64 i386 64bit\n",
       "numpy 1.9.1\n",
       "scipy 0.14.0\n",
       "Thu Jan 22 15:43:33 2015 EST"
      ]
     },
     "execution_count": 86,
     "metadata": {},
     "output_type": "execute_result"
    }
   ],
   "source": [
    "%load_ext version_information\n",
    "\n",
    "%version_information numpy, scipy"
   ]
  },
  {
   "cell_type": "code",
   "execution_count": 86,
   "metadata": {
    "collapsed": false
   },
   "outputs": [],
   "source": []
  }
 ],
 "metadata": {
  "kernelspec": {
   "display_name": "Python 2",
   "language": "python",
   "name": "python2"
  },
  "language_info": {
   "codemirror_mode": {
    "name": "ipython",
    "version": 2
   },
   "file_extension": ".py",
   "mimetype": "text/x-python",
   "name": "python",
   "nbconvert_exporter": "python",
   "pygments_lexer": "ipython2",
   "version": "2.7.9"
  }
 },
 "nbformat": 4,
 "nbformat_minor": 0
}
