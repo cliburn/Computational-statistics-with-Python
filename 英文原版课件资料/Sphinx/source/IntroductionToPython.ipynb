{
 "metadata": {
  "name": "",
  "signature": "sha256:a8449f446e0a61fa06a804a37682c2479563c2fc2b318a584a02e7538498650a"
 },
 "nbformat": 3,
 "nbformat_minor": 0,
 "worksheets": [
  {
   "cells": [
    {
     "cell_type": "heading",
     "level": 1,
     "metadata": {},
     "source": [
      "Introduction to Python"
     ]
    },
    {
     "cell_type": "markdown",
     "metadata": {},
     "source": [
      "This lecture is based loosely on the online tutorial : http://www.afterhoursprogramming.com/tutorial/Python/Introduction/"
     ]
    },
    {
     "cell_type": "markdown",
     "metadata": {},
     "source": [
      "We will be using Python a fair amount in this class.  Python is a high-level scripting language that offers an interactive programming environment.  We assume programming experience, so this lecture will focus on the unique properties of Python. "
     ]
    },
    {
     "cell_type": "markdown",
     "metadata": {},
     "source": [
      "Programming languages generally have the following common ingredients: variables, operators, iterators,\n",
      "conditional statements, functions (built-in and user defined) and higher-order data structures.  We will look at these in \n",
      "Python and highlight qualities unique to this language.\n"
     ]
    },
    {
     "cell_type": "heading",
     "level": 2,
     "metadata": {},
     "source": [
      "Variables\n"
     ]
    },
    {
     "cell_type": "markdown",
     "metadata": {},
     "source": [
      "Variables in Python are defined and typed for you when you set a value to them."
     ]
    },
    {
     "cell_type": "code",
     "collapsed": false,
     "input": [
      "my_variable = 2 \n",
      "print(my_variable)\n",
      "type(my_variable)\n"
     ],
     "language": "python",
     "metadata": {},
     "outputs": [
      {
       "output_type": "stream",
       "stream": "stdout",
       "text": [
        "2\n"
       ]
      },
      {
       "metadata": {},
       "output_type": "pyout",
       "prompt_number": 1,
       "text": [
        "int"
       ]
      }
     ],
     "prompt_number": 1
    },
    {
     "cell_type": "markdown",
     "metadata": {},
     "source": [
      "This makes variable definition easy for the programmer.  As usual, though, great power comes with great responsibility.  For example:"
     ]
    },
    {
     "cell_type": "code",
     "collapsed": false,
     "input": [
      "my_varible = my_variable+1\n",
      "print (my_variable)"
     ],
     "language": "python",
     "metadata": {},
     "outputs": [
      {
       "output_type": "stream",
       "stream": "stdout",
       "text": [
        "2\n"
       ]
      }
     ],
     "prompt_number": 2
    },
    {
     "cell_type": "markdown",
     "metadata": {},
     "source": [
      "\"If you leave out word, spell-check will not put the word in you\" -- Taylor Mali, <em>The the impotence of proofreading</em>"
     ]
    },
    {
     "cell_type": "markdown",
     "metadata": {},
     "source": [
      "If you accidentally mistype a variable name, Python will not catch it for you.  This can lead to bugs that can be hard to track - so beware."
     ]
    },
    {
     "cell_type": "heading",
     "level": 3,
     "metadata": {},
     "source": [
      "Types and Typecasting"
     ]
    },
    {
     "cell_type": "markdown",
     "metadata": {},
     "source": [
      "The usual typecasting is available in Python, so it is easy to convert strings to ints or floats, floats to ints, etc.  The syntax is slightly different than C:"
     ]
    },
    {
     "cell_type": "code",
     "collapsed": false,
     "input": [
      "a = \"1\"\n",
      "b = 5 \n",
      "print(a+b)\n"
     ],
     "language": "python",
     "metadata": {},
     "outputs": [
      {
       "ename": "TypeError",
       "evalue": "cannot concatenate 'str' and 'int' objects",
       "output_type": "pyerr",
       "traceback": [
        "\u001b[0;31m---------------------------------------------------------------------------\u001b[0m\n\u001b[0;31mTypeError\u001b[0m                                 Traceback (most recent call last)",
        "\u001b[0;32m<ipython-input-3-6463279979e9>\u001b[0m in \u001b[0;36m<module>\u001b[0;34m()\u001b[0m\n\u001b[1;32m      1\u001b[0m \u001b[0ma\u001b[0m \u001b[0;34m=\u001b[0m \u001b[0;34m\"1\"\u001b[0m\u001b[0;34m\u001b[0m\u001b[0m\n\u001b[1;32m      2\u001b[0m \u001b[0mb\u001b[0m \u001b[0;34m=\u001b[0m \u001b[0;36m5\u001b[0m\u001b[0;34m\u001b[0m\u001b[0m\n\u001b[0;32m----> 3\u001b[0;31m \u001b[0;32mprint\u001b[0m\u001b[0;34m(\u001b[0m\u001b[0ma\u001b[0m\u001b[0;34m+\u001b[0m\u001b[0mb\u001b[0m\u001b[0;34m)\u001b[0m\u001b[0;34m\u001b[0m\u001b[0m\n\u001b[0m",
        "\u001b[0;31mTypeError\u001b[0m: cannot concatenate 'str' and 'int' objects"
       ]
      }
     ],
     "prompt_number": 3
    },
    {
     "cell_type": "code",
     "collapsed": false,
     "input": [
      "a = \"1\"\n",
      "b = 5\n",
      "print(int(a)+b)"
     ],
     "language": "python",
     "metadata": {},
     "outputs": []
    },
    {
     "cell_type": "markdown",
     "metadata": {},
     "source": [
      "Note that the typing is <em>dynamic.</em>  I.e. a variable that was initally say an integer can become another type (float, string, etc.) via reassignment."
     ]
    },
    {
     "cell_type": "code",
     "collapsed": false,
     "input": [
      "a = \"1\"\n",
      "type(a)\n",
      "print(type(a))\n",
      "\n",
      "a = 1.0\n",
      "print(type(a))"
     ],
     "language": "python",
     "metadata": {},
     "outputs": []
    },
    {
     "cell_type": "markdown",
     "metadata": {},
     "source": [
      "Python has some other special data types such as lists, tuples and dictionaries that we will address later."
     ]
    },
    {
     "cell_type": "heading",
     "level": 2,
     "metadata": {},
     "source": [
      "Operators"
     ]
    },
    {
     "cell_type": "markdown",
     "metadata": {},
     "source": [
      "Python offers the usual operators such as +,-,/,\\*,=,>,<,==,!=,&,|, \n",
      "(sum, difference, divide, product, assignment, greater than, less than, equal - comparison,not equal, and, or, respectively).  \n",
      "Additionally, there are %,// and ** (modulo, floor division and 'to the power'). Note a few specifics:"
     ]
    },
    {
     "cell_type": "code",
     "collapsed": false,
     "input": [
      "print(3/4)\n",
      "print(3.0 / 4.0)\n",
      "print(3%4)\n",
      "print(3//4)\n",
      "print(3**4)"
     ],
     "language": "python",
     "metadata": {},
     "outputs": []
    },
    {
     "cell_type": "markdown",
     "metadata": {},
     "source": [
      "Note the behavior of / when applied to integers!  This is similar to the behavior of other strongly typed languages such as C/C++.  The result of the integer division is the same as the floor division //.  If you want the floating point result, the arguments to / must be floats as well (or appropriately typecast)."
     ]
    },
    {
     "cell_type": "code",
     "collapsed": false,
     "input": [
      "a = 3\n",
      "b = 4\n",
      "print(a/b)\n",
      "print(float(a)/float(b))"
     ],
     "language": "python",
     "metadata": {},
     "outputs": []
    },
    {
     "cell_type": "heading",
     "level": 2,
     "metadata": {},
     "source": [
      "Iterators"
     ]
    },
    {
     "cell_type": "markdown",
     "metadata": {},
     "source": [
      "Python has the usual iterators, while, for, and some other constructions that will be addressed later.  Here are examples of each:"
     ]
    },
    {
     "cell_type": "code",
     "collapsed": false,
     "input": [
      "for i in range(1,10):\n",
      "     print(i)"
     ],
     "language": "python",
     "metadata": {},
     "outputs": []
    },
    {
     "cell_type": "markdown",
     "metadata": {},
     "source": [
      "The most important thing to note above is that the range function gives us values up to, but not including, the upper limit."
     ]
    },
    {
     "cell_type": "code",
     "collapsed": false,
     "input": [
      "i = 1\n",
      "while i < 10:\n",
      "    print(i)\n",
      "    i+=1"
     ],
     "language": "python",
     "metadata": {},
     "outputs": []
    },
    {
     "cell_type": "markdown",
     "metadata": {},
     "source": [
      "This is unremarkable, so we proceeed without further comment."
     ]
    },
    {
     "cell_type": "heading",
     "level": 2,
     "metadata": {},
     "source": [
      "Conditional Statements"
     ]
    },
    {
     "cell_type": "code",
     "collapsed": false,
     "input": [
      "a = 20\n",
      "if a >= 22:\n",
      "   print(\"if\")\n",
      "elif a >= 21:\n",
      "    print(\"elif\")\n",
      "else:\n",
      "    print(\"else\")"
     ],
     "language": "python",
     "metadata": {},
     "outputs": []
    },
    {
     "cell_type": "markdown",
     "metadata": {},
     "source": [
      "Again, nothing remarkable here, just need to learn the syntax.  Here, we should also mention spacing.  Python is picky about indentation - you must start a newline after each conditional statemen\n",
      "(it is the same for the iterators above) and indent the same number of spaces for every statement within the scope of that condition.  "
     ]
    },
    {
     "cell_type": "code",
     "collapsed": false,
     "input": [
      "a = 23\n",
      "if a >= 22:\n",
      "   print(\"if\")\n",
      "    print(\"greater than or equal 22\")\n",
      "elif a >= 21:\n",
      "    print(\"elif\")\n",
      "else:\n",
      "    print(\"else\")"
     ],
     "language": "python",
     "metadata": {},
     "outputs": []
    },
    {
     "cell_type": "code",
     "collapsed": false,
     "input": [
      "a = 23\n",
      "if a >= 22:\n",
      "   print(\"if\")\n",
      "   print(\"greater than or equal 22\")\n",
      "elif a >= 21:\n",
      "    print(\"elif\")\n",
      "else:\n",
      "    print(\"else\")"
     ],
     "language": "python",
     "metadata": {},
     "outputs": []
    },
    {
     "cell_type": "markdown",
     "metadata": {},
     "source": [
      "Four spaces are customary, but you can use whatever you like. Consistency is necessary."
     ]
    },
    {
     "cell_type": "heading",
     "level": 4,
     "metadata": {},
     "source": [
      "Exceptions"
     ]
    },
    {
     "cell_type": "markdown",
     "metadata": {},
     "source": [
      "Python has another type of conditional expression that is very useful.  Suppose your program is processing user input or data from a file. You don't always know for sure what you are getting in that case, and this can lead to problems.  The 'try/except' conditional can solve them!\n"
     ]
    },
    {
     "cell_type": "code",
     "collapsed": false,
     "input": [
      "a = \"1\"\n",
      "\n",
      "try:\n",
      "  b = a + 2 \n",
      "except:\n",
      "  print(a, \" is not a number\") \n"
     ],
     "language": "python",
     "metadata": {},
     "outputs": []
    },
    {
     "cell_type": "markdown",
     "metadata": {},
     "source": [
      "Here, we have tried to add a number and a string.  That generates an exception - but we have trapped the exception and\n",
      "informed the user of the problem.  This is much preferable to the programming crashing with some cryptic error like:"
     ]
    },
    {
     "cell_type": "code",
     "collapsed": false,
     "input": [
      "a = \"1\"\n",
      "b = a + 2 \n"
     ],
     "language": "python",
     "metadata": {},
     "outputs": []
    },
    {
     "cell_type": "heading",
     "level": 2,
     "metadata": {},
     "source": [
      "Functions\n"
     ]
    },
    {
     "cell_type": "code",
     "collapsed": false,
     "input": [
      "def Division(a, b):\n",
      "    print(a/b)\n",
      "Division(3,4)\n",
      "Division(3.0,4.0)\n",
      "Division(3,4.0)\n",
      "Division(3.0,4)"
     ],
     "language": "python",
     "metadata": {},
     "outputs": []
    },
    {
     "cell_type": "markdown",
     "metadata": {},
     "source": [
      "Notice that the function does not specify the types of the arguments, like you would see in statically typed languages.  This is both useful and dangerous.  For example:"
     ]
    },
    {
     "cell_type": "code",
     "collapsed": false,
     "input": [
      "def Division(a, b):\n",
      "    print(a/b)\n",
      "Division(2,\"2\")"
     ],
     "language": "python",
     "metadata": {},
     "outputs": []
    },
    {
     "cell_type": "markdown",
     "metadata": {},
     "source": [
      "In a statically typed language, the programmer would have specified the type of a and b (float, int, etc.) and the compiler\n",
      " would have complained about the function being passed a variable of the wrong type. This does not happen here, but we can use the try/except construction."
     ]
    },
    {
     "cell_type": "code",
     "collapsed": false,
     "input": [
      "def Division(a, b):\n",
      "    try:\n",
      "        print(a/b)\n",
      "    except:\n",
      "        if b == 0:\n",
      "           print(\"cannot divide by zero\")\n",
      "        else:\n",
      "           print(float(a)/float(b))\n",
      "Division(2,\"2\")\n",
      "Division(2,0)"
     ],
     "language": "python",
     "metadata": {},
     "outputs": []
    },
    {
     "cell_type": "heading",
     "level": 1,
     "metadata": {},
     "source": [
      "Strings and String Handling\n"
     ]
    },
    {
     "cell_type": "markdown",
     "metadata": {},
     "source": [
      "One of the most important features of Python is its powerful and easy handling of strings.  Defining strings is simple enough in most languages.  But in Python, it is easy to search and replace, convert cases, concatenate, or access elements.  We'll discuss a few of these here.  For a complete list, see: http://www.tutorialspoint.com/python/python_strings.htm"
     ]
    },
    {
     "cell_type": "code",
     "collapsed": false,
     "input": [
      "a = \"A string of characters, with newline \\n CAPITALS, etc.\"\n",
      "print(a)\n",
      "b=5.0\n",
      "newstring = a + \"\\n We can format strings for printing %.2f\"\n",
      "print(newstring %b)\n"
     ],
     "language": "python",
     "metadata": {},
     "outputs": []
    },
    {
     "cell_type": "markdown",
     "metadata": {},
     "source": [
      "Now let's try some other string operations:"
     ]
    },
    {
     "cell_type": "code",
     "collapsed": false,
     "input": [
      "a = \"ABC DEFG\"\n",
      "print(a[1:3])\n",
      "print(a[0:5])"
     ],
     "language": "python",
     "metadata": {},
     "outputs": []
    },
    {
     "cell_type": "markdown",
     "metadata": {},
     "source": [
      "There are several things to learn from the above.  First, Python has associated an index to the string. Second the indexing starts at 0, and lastly, the upper limit again means 'up to but not including' (a[0:5] prints elements 0,1,2,3,4)."
     ]
    },
    {
     "cell_type": "code",
     "collapsed": false,
     "input": [
      "a = \"ABC defg\"\n",
      "print(a.lower())\n",
      "print(a.upper())\n",
      "print(a.find('d'))\n",
      "print(a.replace('de','a'))\n",
      "print(a)\n",
      "b = a.replace('def','aaa')\n",
      "print(b)\n",
      "b = b.replace('a','c')\n",
      "print(b)\n",
      "b.count('c')\n"
     ],
     "language": "python",
     "metadata": {},
     "outputs": []
    },
    {
     "cell_type": "markdown",
     "metadata": {},
     "source": [
      "This is fun! What else can you do with strings in Python?  Pretty much anything you can think of!  "
     ]
    },
    {
     "cell_type": "heading",
     "level": 1,
     "metadata": {},
     "source": [
      "Lists, Tuples, Dictionaries\n"
     ]
    },
    {
     "cell_type": "heading",
     "level": 2,
     "metadata": {},
     "source": [
      "Lists"
     ]
    },
    {
     "cell_type": "markdown",
     "metadata": {},
     "source": [
      "Lists are exactly as the name implies.  They are lists of objects.  The objects can be any data type (including lists), and it is allowed to mix data types.  In this way they are much more flexible than arrays.  It is possible to append, delete, insert and count elements and to sort, reverse, etc. the list."
     ]
    },
    {
     "cell_type": "code",
     "collapsed": false,
     "input": [
      "a_list = [1,2,3,\"this is a string\",5.3]\n",
      "b_list = [\"A\",\"B\",\"F\",\"G\",\"d\",\"x\",\"c\",a_list,3]\n",
      "print(b_list)\n"
     ],
     "language": "python",
     "metadata": {},
     "outputs": []
    },
    {
     "cell_type": "code",
     "collapsed": false,
     "input": [
      "print(b_list[7:9])"
     ],
     "language": "python",
     "metadata": {},
     "outputs": []
    },
    {
     "cell_type": "code",
     "collapsed": false,
     "input": [
      "a = [1,2,3,4,5,6,7]\n",
      "a.insert(0,0)\n",
      "print(a)\n",
      "a.append(8)\n",
      "print(a)\n",
      "a.reverse()\n",
      "print(a)\n",
      "a.sort()\n",
      "print(a)\n",
      "a.pop()\n",
      "print(a)\n",
      "a.remove(3)\n",
      "print(a)\n",
      "a.remove(a[4])\n",
      "print(a)"
     ],
     "language": "python",
     "metadata": {},
     "outputs": []
    },
    {
     "cell_type": "markdown",
     "metadata": {},
     "source": [
      "Just like with strings, elements are indexed beginning with 0."
     ]
    },
    {
     "cell_type": "markdown",
     "metadata": {},
     "source": [
      "Lists can be constructed using 'for' and some conditional statements.  These are called, 'list comprehensions'.  For example:"
     ]
    },
    {
     "cell_type": "code",
     "collapsed": false,
     "input": [
      "even_numbers = [x for x in range(100) if x % 2 == 0]\n",
      "print(even_numbers)"
     ],
     "language": "python",
     "metadata": {},
     "outputs": []
    },
    {
     "cell_type": "markdown",
     "metadata": {},
     "source": [
      "List comprehensions can work on strings as well:"
     ]
    },
    {
     "cell_type": "code",
     "collapsed": false,
     "input": [
      "first_sentence = \"It was a dark and stormy night.\"\n",
      "characters = [x for x in first_sentence]\n",
      "print(characters)"
     ],
     "language": "python",
     "metadata": {},
     "outputs": []
    },
    {
     "cell_type": "markdown",
     "metadata": {},
     "source": [
      "For more on comprehensions see:  https://docs.python.org/2/tutorial/datastructures.html?highlight=comprehensions"
     ]
    },
    {
     "cell_type": "markdown",
     "metadata": {},
     "source": [
      "Another similar feature is called 'map'.  Map applies a function to a list.  The syntax is\n",
      "\n",
      "map(aFunction, aSequence).  Consider the following examples:\n"
     ]
    },
    {
     "cell_type": "code",
     "collapsed": false,
     "input": [
      "def sqr(x): return x ** 2\n",
      "a = [2,3,4]\n",
      "b = [10,5,3]\n",
      "c = map(sqr,a)\n",
      "print(c)\n",
      "d = map(pow,a,b)\n",
      "print(d)"
     ],
     "language": "python",
     "metadata": {},
     "outputs": []
    },
    {
     "cell_type": "markdown",
     "metadata": {},
     "source": [
      "Note that map is usually more efficient than the equivalent list comprehension or looping contruct."
     ]
    },
    {
     "cell_type": "heading",
     "level": 3,
     "metadata": {},
     "source": [
      "Tuples"
     ]
    },
    {
     "cell_type": "markdown",
     "metadata": {},
     "source": [
      "Tuples are like lists with one very important difference. Tuples are not changeable.    "
     ]
    },
    {
     "cell_type": "code",
     "collapsed": false,
     "input": [
      "a = (1,2,3,4)\n",
      "print(a)\n",
      "a[1] = 2"
     ],
     "language": "python",
     "metadata": {},
     "outputs": []
    },
    {
     "cell_type": "code",
     "collapsed": false,
     "input": [
      "a = (1,\"string in a tuple\",5.3)\n",
      "b = (a,1,2,3)\n",
      "print(a)\n",
      "print(b)\n"
     ],
     "language": "python",
     "metadata": {},
     "outputs": []
    },
    {
     "cell_type": "markdown",
     "metadata": {},
     "source": [
      "As you can see, all of the other flexibility remains - so use tuples when you have a list that you <em>do not want to modify</em>."
     ]
    },
    {
     "cell_type": "markdown",
     "metadata": {},
     "source": [
      "One other handy feature of tuples is known as 'tuple unpacking'.  Essentially, this means we can assign the values of a tuple to a list of variable names, like so:"
     ]
    },
    {
     "cell_type": "code",
     "collapsed": false,
     "input": [
      "my_pets = (\"Chestnut\", \"Tibbs\", \"Dash\", \"Bast\")\n",
      "(aussie,b_collie,indoor_cat,outdoor_cat) = my_pets\n",
      "print(aussie)\n",
      "cats=(indoor_cat,outdoor_cat)\n",
      "print(cats)\n"
     ],
     "language": "python",
     "metadata": {},
     "outputs": []
    },
    {
     "cell_type": "heading",
     "level": 2,
     "metadata": {},
     "source": [
      "Dictionaries"
     ]
    },
    {
     "cell_type": "markdown",
     "metadata": {},
     "source": [
      "Dictionaries are unordered, keyed lists.  Lists are ordered, and the index may be viewed as a key."
     ]
    },
    {
     "cell_type": "code",
     "collapsed": false,
     "input": [
      "a = [\"A\",\"B\",\"C\",\"D\"] #list example\n",
      "print(a[1])\n"
     ],
     "language": "python",
     "metadata": {},
     "outputs": []
    },
    {
     "cell_type": "code",
     "collapsed": false,
     "input": [
      "a = {'anItem': \"A\", 'anotherItem': \"B\",'athirdItem':\"C\",'afourthItem':\"D\"} # dictionary example\n",
      "print(a[1])"
     ],
     "language": "python",
     "metadata": {},
     "outputs": []
    },
    {
     "cell_type": "code",
     "collapsed": false,
     "input": [
      "a = {'anItem': \"A\", 'anotherItem': \"B\",'athirdItem':\"C\",'afourthItem':\"D\"} # dictionary example\n",
      "print(a['anItem'])\n"
     ],
     "language": "python",
     "metadata": {},
     "outputs": []
    },
    {
     "cell_type": "code",
     "collapsed": false,
     "input": [
      "print(a)"
     ],
     "language": "python",
     "metadata": {},
     "outputs": []
    },
    {
     "cell_type": "raw",
     "metadata": {},
     "source": [
      "The dictionary does not order the items, and you cannot access them assuming an order (as an index does).  You access elements using the keys."
     ]
    },
    {
     "cell_type": "heading",
     "level": 3,
     "metadata": {},
     "source": [
      "Sets"
     ]
    },
    {
     "cell_type": "markdown",
     "metadata": {},
     "source": [
      "Sets are unordered collections of *unique* elements.  Intersections, unions and set differences are supported operations.  They can be used to remove duplicates from a collection or to test for membership. For example:"
     ]
    },
    {
     "cell_type": "code",
     "collapsed": false,
     "input": [
      "from sets import Set\n",
      "fruits = Set([\"apples\",\"oranges\",\"grapes\",\"bananas\"])\n",
      "citrus = Set([\"lemons\",\"oranges\",\"limes\",\"grapefruits\",\"clementines\"])\n",
      "citrus_in_fruits = fruits & citrus   #intersection\n",
      "print(citrus_in_fruits)\n",
      "diff_fruits = fruits - citrus        # set difference\n",
      "print(diff_fruits)\n",
      "diff_fruits_reverse = citrus - fruits  # set difference\n",
      "print(diff_fruits_reverse)\n",
      "citrus_or_fruits = citrus | fruits     # set union\n",
      "print(citrus_or_fruits)"
     ],
     "language": "python",
     "metadata": {},
     "outputs": []
    },
    {
     "cell_type": "code",
     "collapsed": false,
     "input": [
      "a_list = [\"a\", \"a\",\"a\", \"b\",1,2,3,\"d\",1]\n",
      "print(a_list)\n",
      "a_set = Set(a_list)  # Convert list to set\n",
      "print(a_set)         # Creates a set with unique elements\n",
      "new_list = list(a_set) # Convert set to list\n",
      "print(new_list)        # Obtain a list with unique elements "
     ],
     "language": "python",
     "metadata": {},
     "outputs": []
    },
    {
     "cell_type": "markdown",
     "metadata": {},
     "source": [
      "More examples and details regarding sets can be found at: https://docs.python.org/2/library/sets.html"
     ]
    },
    {
     "cell_type": "markdown",
     "metadata": {},
     "source": [
      "Classes\n",
      "----\n",
      "\n",
      "A class (or object) bundles data (known as attributes) and functions (known as methods) together. We access the attributes and methods of a class using the '.' notation. Since everything in Python is an object, we have already been using this attribute acccess - e.g. when we call `'hello'.upper()`, we are using the `upper` method of the instance `'hello'` of the `string` class.\n",
      "\n",
      "The creation of custom classes will not be covered in this course.\n"
     ]
    },
    {
     "cell_type": "markdown",
     "metadata": {},
     "source": [
      "Modules\n",
      "----\n",
      "\n",
      "As the code base gets larger, it is convenient to organize them as *modules* or packages. At the simplest level, modules can just be regular python files. We import functions in modules using one of the following `import` variants:\n",
      "\n",
      "```python\n",
      "import numpy\n",
      "import numpy as np # using an alias\n",
      "import numpy.linalg as la # modules can have submodules\n",
      "from numpy import sin, cos, tan # bring trig functions into global namespace\n",
      "from numpy import * # frowned upon because it pollutes the namespace\n",
      "```"
     ]
    },
    {
     "cell_type": "markdown",
     "metadata": {},
     "source": [
      "The standard library\n",
      "----\n",
      "\n",
      "Python comes with \"batteries included\", with a diverse collection of functionality available in standard library modules and functions. \n",
      "\n",
      "**References**\n",
      "\n",
      "- [Standard library docs](https://docs.python.org/2/library/)\n",
      "- [Python Module of the Week](http://pymotw.com/2/contents.html) gives examples of usage."
     ]
    },
    {
     "cell_type": "markdown",
     "metadata": {},
     "source": [
      "### Installing additional modules \n",
      "\n",
      "Most of the time, we can use the `pip` package manager to install and uninstall modules for us. In general, all that is needed is to issue the command\n",
      "```bash\n",
      "pip install <packagename>\n",
      "```\n",
      "at the command line or\n",
      "```python\n",
      "! pip install <packagename>\n",
      "```\n",
      "from within an IPython notebook.\n",
      "\n",
      "Packages that can be installed using `pip` are listed in the [Python Package Index (PyPI)](https://pypi.python.org/pypi). \n",
      "\n",
      "Pip documentation is at <https://pip.pypa.io/en/latest/>."
     ]
    },
    {
     "cell_type": "markdown",
     "metadata": {},
     "source": [
      "Keeping the Anaconda distribution up-to-date\n",
      "----\n",
      "\n",
      "Just issue\n",
      "```bash\n",
      "conda update conda\n",
      "conda update anaconda\n",
      "```\n",
      "at the command line.\n",
      "\n",
      "Note that `conda` can do [much, much, more](http://conda.pydata.org/docs/index.html)."
     ]
    },
    {
     "cell_type": "markdown",
     "metadata": {},
     "source": [
      "<font color=red>Exercises</font>\n",
      "----"
     ]
    },
    {
     "cell_type": "markdown",
     "metadata": {},
     "source": [
      "**1**. Solve the FizzBuzz probelm\n",
      "\n",
      "\"Write a program that prints the numbers from 1 to 100. But for multiples of three print \u201cFizz\u201d instead of the number and for the multiples of five print \u201cBuzz\u201d. For numbers which are multiples of both three and five print \u201cFizzBuzz\u201d."
     ]
    },
    {
     "cell_type": "code",
     "collapsed": false,
     "input": [
      "# YOUR CODE HERE\n",
      "\n",
      "\n"
     ],
     "language": "python",
     "metadata": {},
     "outputs": [],
     "prompt_number": 4
    },
    {
     "cell_type": "markdown",
     "metadata": {},
     "source": [
      "**2**. Given x=3 and y=4, swap the values of x and y so that x=4 and y=3."
     ]
    },
    {
     "cell_type": "code",
     "collapsed": false,
     "input": [
      "x = 3\n",
      "y = 4\n",
      "# YOUR CODE HERE\n",
      "\n",
      "\n"
     ],
     "language": "python",
     "metadata": {},
     "outputs": [],
     "prompt_number": 5
    },
    {
     "cell_type": "markdown",
     "metadata": {},
     "source": [
      "**3**. Write a function that calculates and returns the euclidean distance between two points $u$ and $v$, where $u$ and $v$ are both 2-tuples $(x, y)$. For example, if $u = (3,0)$ and $v = (0,4)$, the function should return $5$."
     ]
    },
    {
     "cell_type": "code",
     "collapsed": false,
     "input": [
      "# YOUR CODE HERE\n",
      "\n",
      "\n"
     ],
     "language": "python",
     "metadata": {},
     "outputs": [],
     "prompt_number": 6
    },
    {
     "cell_type": "markdown",
     "metadata": {},
     "source": [
      "**4**. Using a dictionary, write a program to calculate the number times each character occurs in the given string s. Ignore differneces in capitalization - i.e 'a' and 'A' should be treated as a single key. For example, we should get a count of 7 for 'a'."
     ]
    },
    {
     "cell_type": "code",
     "collapsed": false,
     "input": [
      "s = \"\"\"\n",
      "Write a program that prints the numbers from 1 to 100. \n",
      "But for multiples of three print 'Fizz' instead of the number and f\n",
      "or the multiples of five print 'Buzz'. For numbers which are \n",
      "multiples of both three and five print 'FizzBuzz'\n",
      "\"\"\"\n",
      "\n",
      "# YOUR CODE HERE\n",
      "\n",
      "\n"
     ],
     "language": "python",
     "metadata": {},
     "outputs": [],
     "prompt_number": 7
    },
    {
     "cell_type": "markdown",
     "metadata": {},
     "source": [
      "**5**. Write a program that finds the percentage of sliding windows of length 5 for the sentence s that contain at least one 'a'. Ignore case, spaces and punctuation. For example, the first sliding window is 'write' which contains 0 'a's, and the second is 'ritea' which contains 1 'a'."
     ]
    },
    {
     "cell_type": "code",
     "collapsed": false,
     "input": [
      "s = \"\"\"\n",
      "Write a program that prints the numbers from 1 to 100. \n",
      "But for multiples of three print 'Fizz' instead of the number and f\n",
      "or the multiples of five print 'Buzz'. For numbers which are \n",
      "multiples of both three and five print 'FizzBuzz'\n",
      "\"\"\"\n",
      "\n",
      "# YOUR CODE HERE\n",
      "\n",
      "\n"
     ],
     "language": "python",
     "metadata": {},
     "outputs": [],
     "prompt_number": 8
    },
    {
     "cell_type": "markdown",
     "metadata": {},
     "source": [
      "**6**. Find the unique numbers in the following list."
     ]
    },
    {
     "cell_type": "code",
     "collapsed": false,
     "input": [
      "x = [36, 45, 58, 3, 74, 96, 64, 45, 31, 10, 24, 19, 33, 86, 99, 18, 63, 70, 85,\n",
      " 85, 63, 47, 56, 42, 70, 84, 88, 55, 20, 54, 8, 56, 51, 79, 81, 57, 37, 91,\n",
      " 1, 84, 84, 36, 66, 9, 89, 50, 42, 91, 50, 95, 90, 98, 39, 16, 82, 31, 92, 41,\n",
      " 45, 30, 66, 70, 34, 85, 94, 5, 3, 36, 72, 91, 84, 34, 87, 75, 53, 51, 20, 89, 51, 20]\n",
      "\n",
      "# YOUR CODE HERE\n",
      "\n",
      "\n"
     ],
     "language": "python",
     "metadata": {},
     "outputs": [],
     "prompt_number": 9
    },
    {
     "cell_type": "markdown",
     "metadata": {},
     "source": [
      "**7**. Write two functions - one that returns the square of a number, and one that returns the cube. Now write a third function that returns the number raised to the $6^{th}$ power using the two previous functions."
     ]
    },
    {
     "cell_type": "code",
     "collapsed": false,
     "input": [
      "# YOUR CODE HERE\n",
      "\n",
      "def square(x):\n",
      "    pass\n",
      "\n",
      "def cube(x):\n",
      "    pass\n",
      "\n",
      "def f(x):\n",
      "    pass"
     ],
     "language": "python",
     "metadata": {},
     "outputs": [],
     "prompt_number": 10
    },
    {
     "cell_type": "markdown",
     "metadata": {},
     "source": [
      "**8**. Create a list of the cubes of x for x in [0, 10] using\n",
      "\n",
      "- a for loop\n",
      "- a list comprehension\n",
      "- the map function"
     ]
    },
    {
     "cell_type": "code",
     "collapsed": false,
     "input": [
      "# YOUR CODE HERE\n",
      "\n",
      "\n"
     ],
     "language": "python",
     "metadata": {},
     "outputs": [],
     "prompt_number": 11
    },
    {
     "cell_type": "markdown",
     "metadata": {},
     "source": [
      "**9**. A Pythagorean triple is an integer solution to the Pythagorean theorem $a^2 + b^2 = c^2$. The first Pythagorean triple is (3,4,5). Find all unique Pythagorean triples for the positive integers a, b and c less than 100."
     ]
    },
    {
     "cell_type": "code",
     "collapsed": false,
     "input": [
      "# YOUR CODE HERE\n",
      "\n",
      "\n"
     ],
     "language": "python",
     "metadata": {},
     "outputs": [],
     "prompt_number": 12
    },
    {
     "cell_type": "markdown",
     "metadata": {},
     "source": [
      "**10**. Fix the bug in this function that is intended to take a list of numbers and return a list of normalized numbers.\n",
      "\n",
      "```python\n",
      "def f(xs):\n",
      "    \"\"\"Return normalized list summing to 1.\"\"\"\n",
      "    s = 0\n",
      "    for x in xs:\n",
      "        s += x\n",
      "    return [x/s for x in xs]\n",
      "```"
     ]
    },
    {
     "cell_type": "code",
     "collapsed": false,
     "input": [
      "# YOUR CODE HERE\n",
      "\n",
      "\n"
     ],
     "language": "python",
     "metadata": {},
     "outputs": [],
     "prompt_number": 13
    },
    {
     "cell_type": "code",
     "collapsed": false,
     "input": [],
     "language": "python",
     "metadata": {},
     "outputs": [],
     "prompt_number": 13
    }
   ],
   "metadata": {}
  }
 ]
}