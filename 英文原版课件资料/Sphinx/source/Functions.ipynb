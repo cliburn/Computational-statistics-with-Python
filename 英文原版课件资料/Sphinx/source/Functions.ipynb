{
 "metadata": {
  "name": "",
  "signature": "sha256:877874e85e930d7bb76c50275bc1f7d1dedd81bbcb91f38cfa84f91316c4a7d1"
 },
 "nbformat": 3,
 "nbformat_minor": 0,
 "worksheets": [
  {
   "cells": [
    {
     "cell_type": "code",
     "collapsed": false,
     "input": [
      "import os\n",
      "import sys\n",
      "import glob\n",
      "import matplotlib.pyplot as plt\n",
      "import numpy as np\n",
      "import pandas as pd\n",
      "%matplotlib inline\n",
      "%precision 4"
     ],
     "language": "python",
     "metadata": {},
     "outputs": [
      {
       "metadata": {},
       "output_type": "pyout",
       "prompt_number": 1,
       "text": [
        "u'%.4f'"
       ]
      }
     ],
     "prompt_number": 1
    },
    {
     "cell_type": "markdown",
     "metadata": {},
     "source": [
      "**References**:\n",
      "\n",
      "[Functional Programming HOWTO](https://docs.python.org/2/howto/functional.html)"
     ]
    },
    {
     "cell_type": "markdown",
     "metadata": {},
     "source": [
      "Functions are first class objects\n",
      "----\n",
      "\n",
      "In Python, functions behave like any other object, such as an int or a list. That means that you can use functions as arguments to other functions, store functions as dictionary values, or return a function from another function. This leads to many powerful ways to use functions."
     ]
    },
    {
     "cell_type": "code",
     "collapsed": false,
     "input": [
      "def square(x):\n",
      "    \"\"\"Square of x.\"\"\"\n",
      "    return x*x\n",
      "\n",
      "def cube(x):\n",
      "    \"\"\"Cube of x.\"\"\"\n",
      "    return x*x*x"
     ],
     "language": "python",
     "metadata": {},
     "outputs": [],
     "prompt_number": 2
    },
    {
     "cell_type": "code",
     "collapsed": false,
     "input": [
      "# create a dictionary of functions\n",
      "\n",
      "funcs = {\n",
      "    'square': square,\n",
      "    'cube': cube,\n",
      "}"
     ],
     "language": "python",
     "metadata": {},
     "outputs": [],
     "prompt_number": 3
    },
    {
     "cell_type": "code",
     "collapsed": false,
     "input": [
      "x = 2\n",
      "\n",
      "print square(x)\n",
      "print cube(x)\n",
      "\n",
      "for func in sorted(funcs):\n",
      "    print func, funcs[func](x)"
     ],
     "language": "python",
     "metadata": {},
     "outputs": [
      {
       "output_type": "stream",
       "stream": "stdout",
       "text": [
        "4\n",
        "8\n",
        "cube 8\n",
        "square 4\n"
       ]
      }
     ],
     "prompt_number": 4
    },
    {
     "cell_type": "markdown",
     "metadata": {},
     "source": [
      "Function argumnents\n",
      "----\n",
      "\n",
      "This is caution to be careful of how Python treats function arguments. \n",
      "\n",
      "### Call by \"object reference\"\n",
      "\n",
      "Some data types, such as strings and tuples, cannot be directly modified and are called immutable. Atomic variables such as integers or floats are always immutable. Other datatypes, such as lists and dictionaries, can be directly modified and are called mutable. Passing mutable variables as function arguments can have different outcomes, depedning on what is done to the variable inside the function. When we call\n",
      "\n",
      "```python\n",
      "x = [1,2,3] # mutable\n",
      "f(x)\n",
      "```\n",
      "\n",
      "what is passsed to the function is a *copy* of the *name* `x` that refers to the content (a list) `[1, 2, 3]`. If we use this copy of the name to change the content directly (e.g. `x[0] = 999`) within the function, then `x` chanes *outside* the funciton as well. However, if we reassgne `x` within the function to a new object (e.g. another list), then the copy of the name `x` now points to the new object, but `x` outside the function is unhcanged."
     ]
    },
    {
     "cell_type": "code",
     "collapsed": false,
     "input": [
      "def transmogrify(x):\n",
      "    x[0] = 999\n",
      "    return x\n",
      "\n",
      "x = [1,2,3]\n",
      "print x\n",
      "print transmogrify(x)\n",
      "print x"
     ],
     "language": "python",
     "metadata": {},
     "outputs": [
      {
       "output_type": "stream",
       "stream": "stdout",
       "text": [
        "[1, 2, 3]\n",
        "[999, 2, 3]\n",
        "[999, 2, 3]\n"
       ]
      }
     ],
     "prompt_number": 10
    },
    {
     "cell_type": "code",
     "collapsed": false,
     "input": [
      "def no_mogrify(x):\n",
      "    x = [4,5,6]\n",
      "    return x\n",
      "\n",
      "x = [1,2,3]\n",
      "print x\n",
      "print no_mogrify(x)\n",
      "print x"
     ],
     "language": "python",
     "metadata": {},
     "outputs": [
      {
       "output_type": "stream",
       "stream": "stdout",
       "text": [
        "[1, 2, 3]\n",
        "[4, 5, 6]\n",
        "[1, 2, 3]\n"
       ]
      }
     ],
     "prompt_number": 11
    },
    {
     "cell_type": "markdown",
     "metadata": {},
     "source": [
      "### Binding of default arguments occurs at function *definition*"
     ]
    },
    {
     "cell_type": "code",
     "collapsed": false,
     "input": [
      "def f(x = []):\n",
      "    x.append(1)\n",
      "    return x\n",
      "\n",
      "print f()\n",
      "print f()\n",
      "print f()\n",
      "print f(x = [9,9,9])\n",
      "print f()\n",
      "print f()"
     ],
     "language": "python",
     "metadata": {},
     "outputs": [
      {
       "output_type": "stream",
       "stream": "stdout",
       "text": [
        "[1]\n",
        "[1, 1]\n",
        "[1, 1, 1]\n",
        "[9, 9, 9, 1]\n",
        "[1, 1, 1, 1]\n",
        "[1, 1, 1, 1, 1]\n"
       ]
      }
     ],
     "prompt_number": 13
    },
    {
     "cell_type": "code",
     "collapsed": false,
     "input": [
      "# Usually, this behavior is not desired and we would write\n",
      "\n",
      "def f(x = None):\n",
      "    if x is None:\n",
      "        x = []\n",
      "    x.append(1)\n",
      "    return x\n",
      "\n",
      "print f()\n",
      "print f()\n",
      "print f()\n",
      "print f(x = [9,9,9])\n",
      "print f()\n",
      "print f()"
     ],
     "language": "python",
     "metadata": {},
     "outputs": [
      {
       "output_type": "stream",
       "stream": "stdout",
       "text": [
        "[1]\n",
        "[1]\n",
        "[1]\n",
        "[9, 9, 9, 1]\n",
        "[1]\n",
        "[1]\n"
       ]
      }
     ],
     "prompt_number": 14
    },
    {
     "cell_type": "markdown",
     "metadata": {},
     "source": [
      "However, sometimes in advanced usage, the behavior is intetnional. See <http://effbot.org/zone/default-values.htm> for details."
     ]
    },
    {
     "cell_type": "markdown",
     "metadata": {},
     "source": [
      "Higher-order functions\n",
      "----\n",
      "\n",
      "A function that uses another function as an input argument or returns a function (HOF) is known as a higher-order function. The most familiar examples are `map` and `filter`."
     ]
    },
    {
     "cell_type": "code",
     "collapsed": false,
     "input": [
      "# The map function applies a function to each member of a collection\n",
      "\n",
      "map(square, range(5))"
     ],
     "language": "python",
     "metadata": {},
     "outputs": [
      {
       "metadata": {},
       "output_type": "pyout",
       "prompt_number": 5,
       "text": [
        "[0, 1, 4, 9, 16]"
       ]
      }
     ],
     "prompt_number": 5
    },
    {
     "cell_type": "code",
     "collapsed": false,
     "input": [
      "# The filter function applies a predicate to each memmber of a collection, \n",
      "# retaining only those members where the predicate is True\n",
      "\n",
      "def is_even(x):\n",
      "    return x%2 == 0\n",
      "\n",
      "filter(is_even, range(5))"
     ],
     "language": "python",
     "metadata": {},
     "outputs": [
      {
       "metadata": {},
       "output_type": "pyout",
       "prompt_number": 6,
       "text": [
        "[0, 2, 4]"
       ]
      }
     ],
     "prompt_number": 6
    },
    {
     "cell_type": "code",
     "collapsed": false,
     "input": [
      "# It is common to combine map and filter\n",
      "\n",
      "map(square, filter(is_even, range(5)))"
     ],
     "language": "python",
     "metadata": {},
     "outputs": [
      {
       "metadata": {},
       "output_type": "pyout",
       "prompt_number": 7,
       "text": [
        "[0, 4, 16]"
       ]
      }
     ],
     "prompt_number": 7
    },
    {
     "cell_type": "code",
     "collapsed": false,
     "input": [
      "# The reduce function reduces a collection using a binary operator to combine items two at a time\n",
      "\n",
      "def my_add(x, y):\n",
      "    return x + y\n",
      "\n",
      "# another implementation of the sum function\n",
      "reduce(my_add, [1,2,3,4,5])"
     ],
     "language": "python",
     "metadata": {},
     "outputs": [
      {
       "metadata": {},
       "output_type": "pyout",
       "prompt_number": 8,
       "text": [
        "15"
       ]
      }
     ],
     "prompt_number": 8
    },
    {
     "cell_type": "code",
     "collapsed": false,
     "input": [
      "# Custom functions can of couse, also be HOFs\n",
      "\n",
      "def custom_sum(xs, transform):\n",
      "    \"\"\"Returns the sum of xs after a user specified transform.\"\"\"\n",
      "    return sum(map(transform, xs))\n",
      "\n",
      "xs = range(5)\n",
      "print custom_sum(xs, square)\n",
      "print custom_sum(xs, cube)"
     ],
     "language": "python",
     "metadata": {},
     "outputs": [
      {
       "output_type": "stream",
       "stream": "stdout",
       "text": [
        "30\n",
        "100\n"
       ]
      }
     ],
     "prompt_number": 10
    },
    {
     "cell_type": "code",
     "collapsed": false,
     "input": [
      "# Returning a function is also useful\n",
      "\n",
      "# A closure\n",
      "def make_logger(target):\n",
      "    def logger(data):\n",
      "        with open(target, 'a') as f:\n",
      "            f.write(data + '\\n')\n",
      "    return logger\n",
      "\n",
      "foo_logger = make_logger('foo.txt')\n",
      "foo_logger('Hello')\n",
      "foo_logger('World')"
     ],
     "language": "python",
     "metadata": {},
     "outputs": [],
     "prompt_number": 11
    },
    {
     "cell_type": "code",
     "collapsed": false,
     "input": [
      "!cat 'foo.txt'"
     ],
     "language": "python",
     "metadata": {},
     "outputs": [
      {
       "output_type": "stream",
       "stream": "stdout",
       "text": [
        "Hello\r\n",
        "World\r\n",
        "Hello\r\n",
        "World\r\n",
        "Hello\r\n",
        "World\r\n"
       ]
      }
     ],
     "prompt_number": 12
    },
    {
     "cell_type": "markdown",
     "metadata": {},
     "source": [
      "Anonymous functions\n",
      "----\n",
      "\n",
      "When using functional style, there is often the need to create small specific functions that perform a limited task as input to a HOF such as `map` or `filter`. In such cases, these functions are often written as `anonymous` or `lambda` functions. If you find it hard to understand what a `lambda` function is doing, it should probably be rewritten as a regular function."
     ]
    },
    {
     "cell_type": "code",
     "collapsed": false,
     "input": [
      "# Using standard functions\n",
      "\n",
      "def square(x):\n",
      "    return x*x\n",
      "\n",
      "print map(square, range(5))"
     ],
     "language": "python",
     "metadata": {},
     "outputs": [
      {
       "output_type": "stream",
       "stream": "stdout",
       "text": [
        "[0, 1, 4, 9, 16]\n"
       ]
      }
     ],
     "prompt_number": 37
    },
    {
     "cell_type": "code",
     "collapsed": false,
     "input": [
      "# Using an anonymous function\n",
      "\n",
      "print map(lambda x: x*x, range(5))"
     ],
     "language": "python",
     "metadata": {},
     "outputs": [
      {
       "output_type": "stream",
       "stream": "stdout",
       "text": [
        "[0, 1, 4, 9, 16]\n"
       ]
      }
     ],
     "prompt_number": 38
    },
    {
     "cell_type": "code",
     "collapsed": false,
     "input": [
      "# what does this function do?\n",
      "s1 = reduce(lambda x, y: x+y, map(lambda x: x**2, range(1,10)))\n",
      "print(s1)\n",
      "print\n",
      "\n",
      "# functional expressions and lambdas are cool \n",
      "# but can be difficult to read when over-used\n",
      "# Here is a more comprehensible version\n",
      "s2 = sum(x**2 for x in range(1, 10))\n",
      "print(s2)\n",
      "\n",
      "# we will revisit map-reduce when we look at high-performance computing\n",
      "# where map is used to distribute jobs to multiple processors\n",
      "# and reduce is used to calculate some aggreate function of the results \n",
      "# returned by map"
     ],
     "language": "python",
     "metadata": {},
     "outputs": [
      {
       "output_type": "stream",
       "stream": "stdout",
       "text": [
        "285\n",
        "\n",
        "285\n"
       ]
      }
     ],
     "prompt_number": 4
    },
    {
     "cell_type": "markdown",
     "metadata": {},
     "source": [
      "Pure functions\n",
      "----\n",
      "\n",
      "Functions are pure if they do not have any *side effects* and do not depend on global variables. Pure functions are similar to mathematical functions - each time the same input is given, the same output will be returned. This is useful for reducing bugs and in parallel programming since each function call is independent of any other function call and hence trivially parallelizable."
     ]
    },
    {
     "cell_type": "code",
     "collapsed": false,
     "input": [
      "def pure(xs):\n",
      "    \"\"\"Make a new list and return that.\"\"\"\n",
      "    xs = [x*2 for x in xs]\n",
      "    return xs"
     ],
     "language": "python",
     "metadata": {},
     "outputs": [],
     "prompt_number": 13
    },
    {
     "cell_type": "code",
     "collapsed": false,
     "input": [
      "xs = range(5)\n",
      "print \"xs =\", xs\n",
      "print pure(xs)\n",
      "print \"xs =\", xs"
     ],
     "language": "python",
     "metadata": {},
     "outputs": [
      {
       "output_type": "stream",
       "stream": "stdout",
       "text": [
        "xs = [0, 1, 2, 3, 4]\n",
        "[0, 2, 4, 6, 8]\n",
        "xs = [0, 1, 2, 3, 4]\n"
       ]
      }
     ],
     "prompt_number": 14
    },
    {
     "cell_type": "code",
     "collapsed": false,
     "input": [
      "def impure(xs):\n",
      "    for i, x in enumerate(xs):\n",
      "        xs[i] = x*2\n",
      "    return xs"
     ],
     "language": "python",
     "metadata": {},
     "outputs": [],
     "prompt_number": 15
    },
    {
     "cell_type": "code",
     "collapsed": false,
     "input": [
      "xs = range(5)\n",
      "print \"xs =\", xs\n",
      "print impure(xs)\n",
      "print \"xs =\", xs"
     ],
     "language": "python",
     "metadata": {},
     "outputs": [
      {
       "output_type": "stream",
       "stream": "stdout",
       "text": [
        "xs = [0, 1, 2, 3, 4]\n",
        "[0, 2, 4, 6, 8]\n",
        "xs = [0, 2, 4, 6, 8]\n"
       ]
      }
     ],
     "prompt_number": 16
    },
    {
     "cell_type": "code",
     "collapsed": false,
     "input": [
      "# Note that mutable functions are created upon function declaration, not use.\n",
      "# This gives rise to a common source of beginner errors.\n",
      "\n",
      "def f1(x, y=[]):\n",
      "    \"\"\"Never give an empty list or other mutable structure as a default.\"\"\"\n",
      "    y.append(x)\n",
      "    return sum(y)"
     ],
     "language": "python",
     "metadata": {},
     "outputs": [],
     "prompt_number": 17
    },
    {
     "cell_type": "code",
     "collapsed": false,
     "input": [
      "print f1(10)\n",
      "print f1(10)\n",
      "print f1(10, y =[1,2])"
     ],
     "language": "python",
     "metadata": {},
     "outputs": [
      {
       "output_type": "stream",
       "stream": "stdout",
       "text": [
        "10\n",
        "20\n",
        "13\n"
       ]
      }
     ],
     "prompt_number": 18
    },
    {
     "cell_type": "code",
     "collapsed": false,
     "input": [
      "# Here is the correct Python idiom\n",
      "\n",
      "def f2(x, y=None):\n",
      "    \"\"\"Check if y is None - if so make it a list.\"\"\"\n",
      "    if y is None:\n",
      "        y = []\n",
      "    y.append(x)\n",
      "    return sum(y)"
     ],
     "language": "python",
     "metadata": {},
     "outputs": [],
     "prompt_number": 19
    },
    {
     "cell_type": "code",
     "collapsed": false,
     "input": [
      "print f1(10)\n",
      "print f1(10)\n",
      "print f1(10, y =[1,2])"
     ],
     "language": "python",
     "metadata": {},
     "outputs": [
      {
       "output_type": "stream",
       "stream": "stdout",
       "text": [
        "30\n",
        "40\n",
        "13\n"
       ]
      }
     ],
     "prompt_number": 20
    },
    {
     "cell_type": "markdown",
     "metadata": {},
     "source": [
      "Recursion\n",
      "----\n",
      "\n",
      "A recursive function is one that calls itself. Recursive functions are extremely useful examples of the divide-and-conquer paradigm in algorithm development and are a direct expression of finite diffference equations. However, they can be computationally inefficient and their use in Python is quite rare in practice.\n",
      "\n",
      "Recursive functions generally have a set of *base cases* where the answer is obvious and can be returned immediately, and a set of recursive cases which are split into smaller pieces, each of which is given to the same function called recursively. A few examples will make this clearer."
     ]
    },
    {
     "cell_type": "code",
     "collapsed": false,
     "input": [
      "# The factorial function is perhaps the simplest classic example of recursion.\n",
      "\n",
      "def fact(n):\n",
      "    \"\"\"Returns the factorial of n.\"\"\"\n",
      "    # base case\n",
      "    if n==0:\n",
      "        return 1\n",
      "    # recursive case\n",
      "    else:\n",
      "        return n * fact(n-1)\n",
      "\n",
      "print [fact(n) for n in range(10)]"
     ],
     "language": "python",
     "metadata": {},
     "outputs": [
      {
       "output_type": "stream",
       "stream": "stdout",
       "text": [
        "[1, 1, 2, 6, 24, 120, 720, 5040, 40320, 362880]\n"
       ]
      }
     ],
     "prompt_number": 17
    },
    {
     "cell_type": "code",
     "collapsed": false,
     "input": [
      "# The Fibonacci sequence is another classic recursion example\n",
      "\n",
      "def fib1(n):\n",
      "    \"\"\"Fib with recursion.\"\"\"\n",
      "\n",
      "    # base case\n",
      "    if n==0 or n==1:\n",
      "        return 1\n",
      "    # recurssive caae\n",
      "    else:\n",
      "        return fib1(n-1) + fib1(n-2)\n",
      "\n",
      "print [fib1(i) for i in range(10)]"
     ],
     "language": "python",
     "metadata": {},
     "outputs": [
      {
       "output_type": "stream",
       "stream": "stdout",
       "text": [
        "[1, 1, 2, 3, 5, 8, 13, 21, 34, 55]\n"
       ]
      }
     ],
     "prompt_number": 18
    },
    {
     "cell_type": "code",
     "collapsed": false,
     "input": [
      "# In Python, a more efficient version that does not use recursion is\n",
      "\n",
      "def fib2(n):\n",
      "    \"\"\"Fib without recursion.\"\"\"\n",
      "    a, b = 0, 1\n",
      "    for i in range(1, n+1):\n",
      "        a, b = b, a+b\n",
      "    return b\n",
      "\n",
      "print [fib2(i) for i in range(10)]"
     ],
     "language": "python",
     "metadata": {},
     "outputs": [
      {
       "output_type": "stream",
       "stream": "stdout",
       "text": [
        "[1, 1, 2, 3, 5, 8, 13, 21, 34, 55]\n"
       ]
      }
     ],
     "prompt_number": 19
    },
    {
     "cell_type": "code",
     "collapsed": false,
     "input": [
      "# Note that the recursive version is much slower than the non-recursive version\n",
      "\n",
      "%timeit fib1(20)\n",
      "%timeit fib2(20)\n",
      "\n",
      "# this is because it makes many duplicate function calls \n",
      "# Note duplicate calls to fib(2) and fib(1) below\n",
      "# fib(4) -> fib(3), fib(2)\n",
      "# fib(3) -> fib(2), fib(1)\n",
      "# fib(2) -> fib(1), fib(0)\n",
      "# fib(1) -> 1\n",
      "# fib(0) -> 1"
     ],
     "language": "python",
     "metadata": {},
     "outputs": [
      {
       "output_type": "stream",
       "stream": "stdout",
       "text": [
        "100 loops, best of 3: 5.68 ms per loop\n",
        "100000 loops, best of 3: 2.82 \u00b5s per loop"
       ]
      },
      {
       "output_type": "stream",
       "stream": "stdout",
       "text": [
        "\n"
       ]
      }
     ],
     "prompt_number": 20
    },
    {
     "cell_type": "code",
     "collapsed": false,
     "input": [
      "# Use of cache to speed up the recursive version. \n",
      "# Note biding of the (mutable) dictionary as a default at run-time.\n",
      "\n",
      "def fib3(n, cache={0: 1, 1: 1}):\n",
      "    \"\"\"Fib with recursion and caching.\"\"\"\n",
      "\n",
      "    try:\n",
      "        return cache[n]\n",
      "    except KeyError:\n",
      "        cache[n] = fib3(n-1) + fib3(n-2)\n",
      "        return cache[n]\n",
      "\n",
      "print [fib3(i) for i in range(10)]\n",
      "\n",
      "%timeit fib1(20)\n",
      "%timeit fib2(20)\n",
      "%timeit fib3(20)"
     ],
     "language": "python",
     "metadata": {},
     "outputs": [
      {
       "output_type": "stream",
       "stream": "stdout",
       "text": [
        "[1, 1, 2, 3, 5, 8, 13, 21, 34, 55]\n",
        "100 loops, best of 3: 5.68 ms per loop"
       ]
      },
      {
       "output_type": "stream",
       "stream": "stdout",
       "text": [
        "\n",
        "100000 loops, best of 3: 2.82 \u00b5s per loop"
       ]
      },
      {
       "output_type": "stream",
       "stream": "stdout",
       "text": [
        "\n",
        "1000000 loops, best of 3: 256 ns per loop"
       ]
      },
      {
       "output_type": "stream",
       "stream": "stdout",
       "text": [
        "\n"
       ]
      }
     ],
     "prompt_number": 29
    },
    {
     "cell_type": "code",
     "collapsed": false,
     "input": [
      "# Recursion is used to show off the divide-and-conquer paradigm\n",
      "\n",
      "def almost_quick_sort(xs):\n",
      "    \"\"\"Almost a quick sort.\"\"\"\n",
      "\n",
      "    # base case\n",
      "    if xs == []:\n",
      "        return xs\n",
      "    # recursive case\n",
      "    else:\n",
      "        pivot = xs[0]\n",
      "        less_than = [x for x in xs[1:] if x <= pivot]\n",
      "        more_than = [x for x in xs[1:] if x > pivot]\n",
      "        return almost_quick_sort(less_than) + [pivot] + almost_quick_sort(more_than)\n",
      "\n",
      "xs = [3,1,4,1,5,9,2,6,5,3,5,9]\n",
      "print almost_quick_sort(xs)"
     ],
     "language": "python",
     "metadata": {},
     "outputs": [
      {
       "output_type": "stream",
       "stream": "stdout",
       "text": [
        "[1, 1, 2, 3, 3, 4, 5, 5, 5, 6, 9, 9]\n"
       ]
      }
     ],
     "prompt_number": 25
    },
    {
     "cell_type": "markdown",
     "metadata": {},
     "source": [
      "Iterators\n",
      "----\n",
      "\n",
      "Iterators represent streams of values. Because only one value is consumed at a time, they use very little memory. Use of iterators is very helpful for working with data sets too large to fit into RAM."
     ]
    },
    {
     "cell_type": "code",
     "collapsed": false,
     "input": [
      "# Iterators can be created from sequences with the built-in function iter()\n",
      "\n",
      "xs = [1,2,3]\n",
      "x_iter = iter(xs)\n",
      "\n",
      "print x_iter.next()\n",
      "print x_iter.next()\n",
      "print x_iter.next()\n",
      "print x_iter.next()"
     ],
     "language": "python",
     "metadata": {},
     "outputs": [
      {
       "output_type": "stream",
       "stream": "stdout",
       "text": [
        "1\n",
        "2\n",
        "3\n"
       ]
      },
      {
       "ename": "StopIteration",
       "evalue": "",
       "output_type": "pyerr",
       "traceback": [
        "\u001b[0;31m---------------------------------------------------------------------------\u001b[0m\n\u001b[0;31mStopIteration\u001b[0m                             Traceback (most recent call last)",
        "\u001b[0;32m<ipython-input-26-eb1a17442aa0>\u001b[0m in \u001b[0;36m<module>\u001b[0;34m()\u001b[0m\n\u001b[1;32m      7\u001b[0m \u001b[0;32mprint\u001b[0m \u001b[0mx_iter\u001b[0m\u001b[0;34m.\u001b[0m\u001b[0mnext\u001b[0m\u001b[0;34m(\u001b[0m\u001b[0;34m)\u001b[0m\u001b[0;34m\u001b[0m\u001b[0m\n\u001b[1;32m      8\u001b[0m \u001b[0;32mprint\u001b[0m \u001b[0mx_iter\u001b[0m\u001b[0;34m.\u001b[0m\u001b[0mnext\u001b[0m\u001b[0;34m(\u001b[0m\u001b[0;34m)\u001b[0m\u001b[0;34m\u001b[0m\u001b[0m\n\u001b[0;32m----> 9\u001b[0;31m \u001b[0;32mprint\u001b[0m \u001b[0mx_iter\u001b[0m\u001b[0;34m.\u001b[0m\u001b[0mnext\u001b[0m\u001b[0;34m(\u001b[0m\u001b[0;34m)\u001b[0m\u001b[0;34m\u001b[0m\u001b[0m\n\u001b[0m",
        "\u001b[0;31mStopIteration\u001b[0m: "
       ]
      }
     ],
     "prompt_number": 26
    },
    {
     "cell_type": "code",
     "collapsed": false,
     "input": [
      "# Most commonly, iterators are used (automatically) within a for loop\n",
      "# which terminates when it encouters a StopIteration exception\n",
      "\n",
      "x_iter = iter(xs)\n",
      "for x in x_iter:\n",
      "    print x"
     ],
     "language": "python",
     "metadata": {},
     "outputs": [
      {
       "output_type": "stream",
       "stream": "stdout",
       "text": [
        "1\n",
        "2\n",
        "3\n"
       ]
      }
     ],
     "prompt_number": 27
    },
    {
     "cell_type": "markdown",
     "metadata": {},
     "source": [
      "Generators\n",
      "----\n",
      "\n",
      "Generators create iterator streams."
     ]
    },
    {
     "cell_type": "code",
     "collapsed": false,
     "input": [
      "# Functions containing the 'yield' keyword return iterators\n",
      "# After yielding, the function retains its previous state\n",
      "\n",
      "def count_down(n):\n",
      "    for i in range(n, 0, -1):\n",
      "        yield i"
     ],
     "language": "python",
     "metadata": {},
     "outputs": [],
     "prompt_number": 28
    },
    {
     "cell_type": "code",
     "collapsed": false,
     "input": [
      "counter = count_down(10)\n",
      "print counter.next()\n",
      "print counter.next()\n",
      "for count in counter:\n",
      "    print count,"
     ],
     "language": "python",
     "metadata": {},
     "outputs": [
      {
       "output_type": "stream",
       "stream": "stdout",
       "text": [
        "10\n",
        "9\n",
        "8 7 6 5 4 3 2 1\n"
       ]
      }
     ],
     "prompt_number": 29
    },
    {
     "cell_type": "code",
     "collapsed": false,
     "input": [
      "# Iterators can also be created with 'generator expressions'\n",
      "# which can be coded similar to list generators but with parenthesis\n",
      "# in place of square brackets\n",
      "\n",
      "xs1 = [x*x for x in range(5)]\n",
      "print xs1\n",
      "\n",
      "xs2 = (x*x for x in range(5))\n",
      "print xs2\n",
      "\n",
      "for x in xs2:\n",
      "    print x,\n",
      "print"
     ],
     "language": "python",
     "metadata": {},
     "outputs": [
      {
       "output_type": "stream",
       "stream": "stdout",
       "text": [
        "[0, 1, 4, 9, 16]\n",
        "<generator object <genexpr> at 0x1130a5820>\n",
        "0 1 4 9 16\n"
       ]
      }
     ],
     "prompt_number": 30
    },
    {
     "cell_type": "code",
     "collapsed": false,
     "input": [
      "# Iterators can be used for infinte functions\n",
      "\n",
      "def fib():\n",
      "    a, b = 0, 1\n",
      "    while True:\n",
      "        yield a\n",
      "        a, b = b, a+b"
     ],
     "language": "python",
     "metadata": {},
     "outputs": [],
     "prompt_number": 31
    },
    {
     "cell_type": "code",
     "collapsed": false,
     "input": [
      "for i in fib():\n",
      "    # We must have a stopping condiiton since the generator returns an infinite stream\n",
      "    if i > 1000:\n",
      "        break\n",
      "    print i,"
     ],
     "language": "python",
     "metadata": {},
     "outputs": [
      {
       "output_type": "stream",
       "stream": "stdout",
       "text": [
        "0 1 1 2 3 5 8 13 21 34 55 89 144 233 377 610 987\n"
       ]
      }
     ],
     "prompt_number": 32
    },
    {
     "cell_type": "code",
     "collapsed": false,
     "input": [
      "# Many built-in Python functions return iterators\n",
      "# including file handlers\n",
      "# so with the idiom below, you can process a 1 terabyte file line by line \n",
      "# on your laptop without any problem\n",
      "# Inn Pyhton 3, map and filter return itnrators, not lists\n",
      "\n",
      "for line in open('foo.txt'):\n",
      "    print line,"
     ],
     "language": "python",
     "metadata": {},
     "outputs": [
      {
       "output_type": "stream",
       "stream": "stdout",
       "text": [
        "Hello\n",
        "World\n",
        "Hello\n",
        "World\n",
        "Hello\n",
        "World\n"
       ]
      }
     ],
     "prompt_number": 38
    },
    {
     "cell_type": "markdown",
     "metadata": {},
     "source": [
      "### Generators and comprehensions"
     ]
    },
    {
     "cell_type": "code",
     "collapsed": false,
     "input": [
      "# A geneeratorr expression\n",
      "\n",
      "print (x for x in range(10))\n",
      "\n",
      "# A list comprehesnnion\n",
      "\n",
      "print [x for x in range(10)]\n",
      "\n",
      "# A set comprehension\n",
      "\n",
      "print {x for x in range(10)}\n",
      "\n",
      "# A dictionary comprehension\n",
      "\n",
      "print {x: x for x in range(10)}"
     ],
     "language": "python",
     "metadata": {},
     "outputs": [
      {
       "output_type": "stream",
       "stream": "stdout",
       "text": [
        "<generator object <genexpr> at 0x102d8a410>\n",
        "[0, 1, 2, 3, 4, 5, 6, 7, 8, 9]\n",
        "set([0, 1, 2, 3, 4, 5, 6, 7, 8, 9])\n",
        "{0: 0, 1: 1, 2: 2, 3: 3, 4: 4, 5: 5, 6: 6, 7: 7, 8: 8, 9: 9}\n"
       ]
      }
     ],
     "prompt_number": 39
    },
    {
     "cell_type": "markdown",
     "metadata": {},
     "source": [
      "### Utilites - enumerate, zip and the ternary if-else operator\n",
      "\n",
      "Two useful functions and an unusual operator."
     ]
    },
    {
     "cell_type": "code",
     "collapsed": false,
     "input": [
      "# In many programming languages, loops use an index. \n",
      "# This is possible in Python, but it is more \n",
      "# idiomatic to use the enumerate function.\n",
      "\n",
      "# using and index in a loop\n",
      "xs = [1,2,3,4]\n",
      "for i in range(len(xs)):\n",
      "    print i, xs[i]\n",
      "print\n",
      "\n",
      "# using enumerate\n",
      "for i, x in enumerate(xs):\n",
      "    print i, x"
     ],
     "language": "python",
     "metadata": {},
     "outputs": [
      {
       "output_type": "stream",
       "stream": "stdout",
       "text": [
        "0 1\n",
        "1 2\n",
        "2 3\n",
        "3 4\n",
        "\n",
        "0 1\n",
        "1 2\n",
        "2 3\n",
        "3 4\n"
       ]
      }
     ],
     "prompt_number": 34
    },
    {
     "cell_type": "code",
     "collapsed": false,
     "input": [
      "# zip is useful when you need to iterate over matched elements of \n",
      "# multiple lists\n",
      "\n",
      "xs = [1, 2, 3, 4]\n",
      "ys = [10, 20, 30, 40]\n",
      "zs = ['a', 'b', 'c', 'd', 'e']\n",
      "\n",
      "for x, y, z in zip(xs, ys, zs):\n",
      "    print x, y, z\n",
      "\n",
      "# Note that zip stops when the shortest list is exhausted"
     ],
     "language": "python",
     "metadata": {},
     "outputs": [
      {
       "output_type": "stream",
       "stream": "stdout",
       "text": [
        "1 10 a\n",
        "2 20 b\n",
        "3 30 c\n",
        "4 40 d\n"
       ]
      }
     ],
     "prompt_number": 35
    },
    {
     "cell_type": "code",
     "collapsed": false,
     "input": [
      "# For list comprehensions, the ternary if-else operator is sometimes very useful\n",
      "\n",
      "[x**2 if x%2 == 0 else x**3 for x in range(10)]"
     ],
     "language": "python",
     "metadata": {},
     "outputs": [
      {
       "metadata": {},
       "output_type": "pyout",
       "prompt_number": 36,
       "text": [
        "[0, 1, 4, 27, 16, 125, 36, 343, 64, 729]"
       ]
      }
     ],
     "prompt_number": 36
    },
    {
     "cell_type": "markdown",
     "metadata": {},
     "source": [
      "Decorators\n",
      "----\n",
      "\n",
      "Decorators are a type of HOF that take a function and return a wrapped function that provides additional useful properties. \n",
      "\n",
      "Examples:\n",
      "\n",
      "- logging\n",
      "- profiling\n",
      "- Just-In-Time (JIT) compilation"
     ]
    },
    {
     "cell_type": "code",
     "collapsed": false,
     "input": [
      "# Here is a simple decorator to time an arbitrary function\n",
      "\n",
      "def func_timer(func):\n",
      "    \"\"\"Times how long the function took.\"\"\"\n",
      "    \n",
      "    def f(*args, **kwargs):\n",
      "        import time\n",
      "        start = time.time()\n",
      "        results = func(*args, **kwargs)\n",
      "        print \"Elapsed: %.2fs\" % (time.time() - start)\n",
      "        return results\n",
      "    \n",
      "    return f"
     ],
     "language": "python",
     "metadata": {},
     "outputs": [],
     "prompt_number": 6
    },
    {
     "cell_type": "code",
     "collapsed": false,
     "input": [
      "# There is a special shorthand notation for decorating functions\n",
      "\n",
      "@func_timer\n",
      "def sleepy(msg, sleep=1.0):\n",
      "    \"\"\"Delays a while before answering.\"\"\"\n",
      "    import time\n",
      "    time.sleep(sleep)\n",
      "    print msg\n",
      "\n",
      "sleepy(\"Hello\", 1.5)"
     ],
     "language": "python",
     "metadata": {},
     "outputs": [
      {
       "output_type": "stream",
       "stream": "stdout",
       "text": [
        "Hello\n",
        "Elapsed: 1.50s\n"
       ]
      }
     ],
     "prompt_number": 7
    },
    {
     "cell_type": "markdown",
     "metadata": {},
     "source": [
      "The `operator` module\n",
      "----\n",
      "\n",
      "The `operator` module provides \"function\" versions of common Python operators (+, *, [] etc) that can be easily used where a function argument is expected."
     ]
    },
    {
     "cell_type": "code",
     "collapsed": false,
     "input": [
      "import operator as op\n",
      "\n",
      "# Here is another way to express the sum function\n",
      "print reduce(op.add, range(10))\n",
      "\n",
      "# The pattern can be generalized\n",
      "print reduce(op.mul, range(1, 10))"
     ],
     "language": "python",
     "metadata": {},
     "outputs": [
      {
       "output_type": "stream",
       "stream": "stdout",
       "text": [
        "45\n",
        "362880\n"
       ]
      }
     ],
     "prompt_number": 46
    },
    {
     "cell_type": "code",
     "collapsed": false,
     "input": [
      "my_list = [('a', 1), ('bb', 4), ('ccc', 2), ('dddd', 3)]\n",
      "\n",
      "# standard sort\n",
      "print sorted(my_list)\n",
      "\n",
      "# return list sorted by element at position 1 (remember Python counts from 0)\n",
      "print sorted(my_list, key=op.itemgetter(1))\n",
      "\n",
      "# the key argument is quite flexible\n",
      "print sorted(my_list, key=lambda x: len(x[0]), reverse=True)"
     ],
     "language": "python",
     "metadata": {},
     "outputs": [
      {
       "output_type": "stream",
       "stream": "stdout",
       "text": [
        "[('a', 1), ('bb', 4), ('ccc', 2), ('dddd', 3)]\n",
        "[('a', 1), ('ccc', 2), ('dddd', 3), ('bb', 4)]\n",
        "[('dddd', 3), ('ccc', 2), ('bb', 4), ('a', 1)]\n"
       ]
      }
     ],
     "prompt_number": 49
    },
    {
     "cell_type": "markdown",
     "metadata": {},
     "source": [
      "The `functools` module\n",
      "----\n",
      "\n",
      "The most useful function in the `functools` module is `partial`, which allows you to create a new function from an old one with some arguments \"filled-in\"."
     ]
    },
    {
     "cell_type": "code",
     "collapsed": false,
     "input": [
      "from functools import partial\n",
      "\n",
      "sum_ = partial(reduce, op.add)\n",
      "prod_ = partial(reduce, op.mul)\n",
      "print sum_([1,2,3,4])\n",
      "print prod_([1,2,3,4])"
     ],
     "language": "python",
     "metadata": {},
     "outputs": [
      {
       "output_type": "stream",
       "stream": "stdout",
       "text": [
        "10\n",
        "24\n"
       ]
      }
     ],
     "prompt_number": 54
    },
    {
     "cell_type": "code",
     "collapsed": false,
     "input": [
      "# This is extremely useful to create functions \n",
      "# that expect a fixed number of arguments\n",
      "\n",
      "import scipy.stats as stats\n",
      "\n",
      "def compare(x, y, func):\n",
      "    \"\"\"Returne p-value for some appropriate comparison test.\"\"\"\n",
      "    return func(x, y)[1]"
     ],
     "language": "python",
     "metadata": {},
     "outputs": [],
     "prompt_number": 58
    },
    {
     "cell_type": "code",
     "collapsed": false,
     "input": [
      "x, y = np.random.normal(0, 1, (100,2)).T\n",
      "\n",
      "print \"p value assuming equal variance    =%.8f\" % compare(x, y, stats.ttest_ind)\n",
      "test = partial(stats.ttest_ind, equal_var=False)\n",
      "print \"p value not assuming equal variance=%.8f\" % compare(x, y, test)"
     ],
     "language": "python",
     "metadata": {},
     "outputs": [
      {
       "output_type": "stream",
       "stream": "stdout",
       "text": [
        "p value assuming equal variance    =0.19593077\n",
        "p value not assuming equal variance=0.19599306\n"
       ]
      }
     ],
     "prompt_number": 83
    },
    {
     "cell_type": "markdown",
     "metadata": {},
     "source": [
      "The `itertools` module\n",
      "----\n",
      "\n",
      "This provides many essential functions for working with iterators. The `permuations` and `combinations` generators may be particularly useful for simulations, and the `groupby` gnerator is useful for data analyiss."
     ]
    },
    {
     "cell_type": "code",
     "collapsed": false,
     "input": [
      "from itertools import cycle, groupby, islice, permutations, combinations\n",
      "\n",
      "print list(islice(cycle('abcd'), 0, 10))\n",
      "print \n",
      "\n",
      "animals = sorted(['pig', 'cow', 'giraffe', 'elephant', \n",
      "                  'dog', 'cat', 'hippo', 'lion', 'tiger'], key=len)\n",
      "for k, g in groupby(animals, key=len):\n",
      "    print k, list(g)\n",
      "print\n",
      "\n",
      "print [''.join(p) for p in permutations('abc')]\n",
      "print \n",
      "\n",
      "print [list(c) for c in combinations([1,2,3,4], r=2)]"
     ],
     "language": "python",
     "metadata": {},
     "outputs": [
      {
       "output_type": "stream",
       "stream": "stdout",
       "text": [
        "['a', 'b', 'c', 'd', 'a', 'b', 'c', 'd', 'a', 'b']\n",
        "\n",
        "3 ['pig', 'cow', 'dog', 'cat']\n",
        "4 ['lion']\n",
        "5 ['hippo', 'tiger']\n",
        "7 ['giraffe']\n",
        "8 ['elephant']\n",
        "\n",
        "['abc', 'acb', 'bac', 'bca', 'cab', 'cba']\n",
        "\n",
        "[[1, 2], [1, 3], [1, 4], [2, 3], [2, 4], [3, 4]]\n"
       ]
      }
     ],
     "prompt_number": 84
    },
    {
     "cell_type": "markdown",
     "metadata": {},
     "source": [
      "The `toolz`, `fn` and  `funcy` modules\n",
      "----\n",
      "\n",
      "If you wish to program in the functional style, check out the following packages\n",
      "\n",
      "- [toolz](https://github.com/pytoolz/toolz)\n",
      "- [fn](https://github.com/kachayev/fn.py)\n",
      "- [funcy](https://github.com/Suor/funcy)"
     ]
    },
    {
     "cell_type": "code",
     "collapsed": false,
     "input": [
      "# Here is a small example to convert the DNA of a \n",
      "# bacterial enzyme into the protein sequence\n",
      "# using the partition function to generate \n",
      "# cddons (3 nucleotides) for translation.\n",
      "\n",
      "codon_table = {\n",
      "    'ATA':'I', 'ATC':'I', 'ATT':'I', 'ATG':'M',\n",
      "    'ACA':'T', 'ACC':'T', 'ACG':'T', 'ACT':'T',\n",
      "    'AAC':'N', 'AAT':'N', 'AAA':'K', 'AAG':'K',\n",
      "    'AGC':'S', 'AGT':'S', 'AGA':'R', 'AGG':'R',\n",
      "    'CTA':'L', 'CTC':'L', 'CTG':'L', 'CTT':'L',\n",
      "    'CCA':'P', 'CCC':'P', 'CCG':'P', 'CCT':'P',\n",
      "    'CAC':'H', 'CAT':'H', 'CAA':'Q', 'CAG':'Q',\n",
      "    'CGA':'R', 'CGC':'R', 'CGG':'R', 'CGT':'R',\n",
      "    'GTA':'V', 'GTC':'V', 'GTG':'V', 'GTT':'V',\n",
      "    'GCA':'A', 'GCC':'A', 'GCG':'A', 'GCT':'A',\n",
      "    'GAC':'D', 'GAT':'D', 'GAA':'E', 'GAG':'E',\n",
      "    'GGA':'G', 'GGC':'G', 'GGG':'G', 'GGT':'G',\n",
      "    'TCA':'S', 'TCC':'S', 'TCG':'S', 'TCT':'S',\n",
      "    'TTC':'F', 'TTT':'F', 'TTA':'L', 'TTG':'L',\n",
      "    'TAC':'Y', 'TAT':'Y', 'TAA':'_', 'TAG':'_',\n",
      "    'TGC':'C', 'TGT':'C', 'TGA':'_', 'TGG':'W',\n",
      "    }\n",
      "\n",
      "gene = \"\"\"\n",
      ">ENA|BAE76126|BAE76126.1 Escherichia coli str. K-12 substr. W3110 beta-D-galactosidase \n",
      "ATGACCATGATTACGGATTCACTGGCCGTCGTTTTACAACGTCGTGACTGGGAAAACCCT\n",
      "GGCGTTACCCAACTTAATCGCCTTGCAGCACATCCCCCTTTCGCCAGCTGGCGTAATAGC\n",
      "GAAGAGGCCCGCACCGATCGCCCTTCCCAACAGTTGCGCAGCCTGAATGGCGAATGGCGC\n",
      "TTTGCCTGGTTTCCGGCACCAGAAGCGGTGCCGGAAAGCTGGCTGGAGTGCGATCTTCCT\n",
      "GAGGCCGATACTGTCGTCGTCCCCTCAAACTGGCAGATGCACGGTTACGATGCGCCCATC\n",
      "TACACCAACGTGACCTATCCCATTACGGTCAATCCGCCGTTTGTTCCCACGGAGAATCCG\n",
      "ACGGGTTGTTACTCGCTCACATTTAATGTTGATGAAAGCTGGCTACAGGAAGGCCAGACG\n",
      "CGAATTATTTTTGATGGCGTTAACTCGGCGTTTCATCTGTGGTGCAACGGGCGCTGGGTC\n",
      "GGTTACGGCCAGGACAGTCGTTTGCCGTCTGAATTTGACCTGAGCGCATTTTTACGCGCC\n",
      "GGAGAAAACCGCCTCGCGGTGATGGTGCTGCGCTGGAGTGACGGCAGTTATCTGGAAGAT\n",
      "CAGGATATGTGGCGGATGAGCGGCATTTTCCGTGACGTCTCGTTGCTGCATAAACCGACT\n",
      "ACACAAATCAGCGATTTCCATGTTGCCACTCGCTTTAATGATGATTTCAGCCGCGCTGTA\n",
      "CTGGAGGCTGAAGTTCAGATGTGCGGCGAGTTGCGTGACTACCTACGGGTAACAGTTTCT\n",
      "TTATGGCAGGGTGAAACGCAGGTCGCCAGCGGCACCGCGCCTTTCGGCGGTGAAATTATC\n",
      "GATGAGCGTGGTGGTTATGCCGATCGCGTCACACTACGTCTGAACGTCGAAAACCCGAAA\n",
      "CTGTGGAGCGCCGAAATCCCGAATCTCTATCGTGCGGTGGTTGAACTGCACACCGCCGAC\n",
      "GGCACGCTGATTGAAGCAGAAGCCTGCGATGTCGGTTTCCGCGAGGTGCGGATTGAAAAT\n",
      "GGTCTGCTGCTGCTGAACGGCAAGCCGTTGCTGATTCGAGGCGTTAACCGTCACGAGCAT\n",
      "CATCCTCTGCATGGTCAGGTCATGGATGAGCAGACGATGGTGCAGGATATCCTGCTGATG\n",
      "AAGCAGAACAACTTTAACGCCGTGCGCTGTTCGCATTATCCGAACCATCCGCTGTGGTAC\n",
      "ACGCTGTGCGACCGCTACGGCCTGTATGTGGTGGATGAAGCCAATATTGAAACCCACGGC\n",
      "ATGGTGCCAATGAATCGTCTGACCGATGATCCGCGCTGGCTACCGGCGATGAGCGAACGC\n",
      "GTAACGCGAATGGTGCAGCGCGATCGTAATCACCCGAGTGTGATCATCTGGTCGCTGGGG\n",
      "AATGAATCAGGCCACGGCGCTAATCACGACGCGCTGTATCGCTGGATCAAATCTGTCGAT\n",
      "CCTTCCCGCCCGGTGCAGTATGAAGGCGGCGGAGCCGACACCACGGCCACCGATATTATT\n",
      "TGCCCGATGTACGCGCGCGTGGATGAAGACCAGCCCTTCCCGGCTGTGCCGAAATGGTCC\n",
      "ATCAAAAAATGGCTTTCGCTACCTGGAGAGACGCGCCCGCTGATCCTTTGCGAATACGCC\n",
      "CACGCGATGGGTAACAGTCTTGGCGGTTTCGCTAAATACTGGCAGGCGTTTCGTCAGTAT\n",
      "CCCCGTTTACAGGGCGGCTTCGTCTGGGACTGGGTGGATCAGTCGCTGATTAAATATGAT\n",
      "GAAAACGGCAACCCGTGGTCGGCTTACGGCGGTGATTTTGGCGATACGCCGAACGATCGC\n",
      "CAGTTCTGTATGAACGGTCTGGTCTTTGCCGACCGCACGCCGCATCCAGCGCTGACGGAA\n",
      "GCAAAACACCAGCAGCAGTTTTTCCAGTTCCGTTTATCCGGGCAAACCATCGAAGTGACC\n",
      "AGCGAATACCTGTTCCGTCATAGCGATAACGAGCTCCTGCACTGGATGGTGGCGCTGGAT\n",
      "GGTAAGCCGCTGGCAAGCGGTGAAGTGCCTCTGGATGTCGCTCCACAAGGTAAACAGTTG\n",
      "ATTGAACTGCCTGAACTACCGCAGCCGGAGAGCGCCGGGCAACTCTGGCTCACAGTACGC\n",
      "GTAGTGCAACCGAACGCGACCGCATGGTCAGAAGCCGGGCACATCAGCGCCTGGCAGCAG\n",
      "TGGCGTCTGGCGGAAAACCTCAGTGTGACGCTCCCCGCCGCGTCCCACGCCATCCCGCAT\n",
      "CTGACCACCAGCGAAATGGATTTTTGCATCGAGCTGGGTAATAAGCGTTGGCAATTTAAC\n",
      "CGCCAGTCAGGCTTTCTTTCACAGATGTGGATTGGCGATAAAAAACAACTGCTGACGCCG\n",
      "CTGCGCGATCAGTTCACCCGTGCACCGCTGGATAACGACATTGGCGTAAGTGAAGCGACC\n",
      "CGCATTGACCCTAACGCCTGGGTCGAACGCTGGAAGGCGGCGGGCCATTACCAGGCCGAA\n",
      "GCAGCGTTGTTGCAGTGCACGGCAGATACACTTGCTGATGCGGTGCTGATTACGACCGCT\n",
      "CACGCGTGGCAGCATCAGGGGAAAACCTTATTTATCAGCCGGAAAACCTACCGGATTGAT\n",
      "GGTAGTGGTCAAATGGCGATTACCGTTGATGTTGAAGTGGCGAGCGATACACCGCATCCG\n",
      "GCGCGGATTGGCCTGAACTGCCAGCTGGCGCAGGTAGCAGAGCGGGTAAACTGGCTCGGA\n",
      "TTAGGGCCGCAAGAAAACTATCCCGACCGCCTTACTGCCGCCTGTTTTGACCGCTGGGAT\n",
      "CTGCCATTGTCAGACATGTATACCCCGTACGTCTTCCCGAGCGAAAACGGTCTGCGCTGC\n",
      "GGGACGCGCGAATTGAATTATGGCCCACACCAGTGGCGCGGCGACTTCCAGTTCAACATC\n",
      "AGCCGCTACAGTCAACAGCAACTGATGGAAACCAGCCATCGCCATCTGCTGCACGCGGAA\n",
      "GAAGGCACATGGCTGAATATCGACGGTTTCCATATGGGGATTGGTGGCGACGACTCCTGG\n",
      "AGCCCGTCAGTATCGGCGGAATTCCAGCTGAGCGCCGGTCGCTACCATTACCAGTTGGTC\n",
      "TGGTGTCAAAAATAA\n",
      "\"\"\"\n",
      "from toolz import partition\n",
      "\n",
      "# convert FASTA into single DNA sequence\n",
      "dna = ''.join(line for line in gene.strip().split('\\n') \n",
      "              if not line.startswith('>'))\n",
      "\n",
      "# partition DNA into codons (of length 3) and translate to amino acid\n",
      "codons = (''.join(c) for c in partition(3, dna))\n",
      "''.join(codon_table[codon] for codon in codons)"
     ],
     "language": "python",
     "metadata": {},
     "outputs": [
      {
       "metadata": {},
       "output_type": "pyout",
       "prompt_number": 85,
       "text": [
        "'MTMITDSLAVVLQRRDWENPGVTQLNRLAAHPPFASWRNSEEARTDRPSQQLRSLNGEWRFAWFPAPEAVPESWLECDLPEADTVVVPSNWQMHGYDAPIYTNVTYPITVNPPFVPTENPTGCYSLTFNVDESWLQEGQTRIIFDGVNSAFHLWCNGRWVGYGQDSRLPSEFDLSAFLRAGENRLAVMVLRWSDGSYLEDQDMWRMSGIFRDVSLLHKPTTQISDFHVATRFNDDFSRAVLEAEVQMCGELRDYLRVTVSLWQGETQVASGTAPFGGEIIDERGGYADRVTLRLNVENPKLWSAEIPNLYRAVVELHTADGTLIEAEACDVGFREVRIENGLLLLNGKPLLIRGVNRHEHHPLHGQVMDEQTMVQDILLMKQNNFNAVRCSHYPNHPLWYTLCDRYGLYVVDEANIETHGMVPMNRLTDDPRWLPAMSERVTRMVQRDRNHPSVIIWSLGNESGHGANHDALYRWIKSVDPSRPVQYEGGGADTTATDIICPMYARVDEDQPFPAVPKWSIKKWLSLPGETRPLILCEYAHAMGNSLGGFAKYWQAFRQYPRLQGGFVWDWVDQSLIKYDENGNPWSAYGGDFGDTPNDRQFCMNGLVFADRTPHPALTEAKHQQQFFQFRLSGQTIEVTSEYLFRHSDNELLHWMVALDGKPLASGEVPLDVAPQGKQLIELPELPQPESAGQLWLTVRVVQPNATAWSEAGHISAWQQWRLAENLSVTLPAASHAIPHLTTSEMDFCIELGNKRWQFNRQSGFLSQMWIGDKKQLLTPLRDQFTRAPLDNDIGVSEATRIDPNAWVERWKAAGHYQAEAALLQCTADTLADAVLITTAHAWQHQGKTLFISRKTYRIDGSGQMAITVDVEVASDTPHPARIGLNCQLAQVAERVNWLGLGPQENYPDRLTAACFDRWDLPLSDMYTPYVFPSENGLRCGTRELNYGPHQWRGDFQFNISRYSQQQLMETSHRHLLHAEEGTWLNIDGFHMGIGGDDSWSPSVSAEFQLSAGRYHYQLVWCQK_'"
       ]
      }
     ],
     "prompt_number": 85
    },
    {
     "cell_type": "markdown",
     "metadata": {},
     "source": [
      "The `partition` function can also be used for doing statistics on sequence windows, for example, in calculating a moving average."
     ]
    },
    {
     "cell_type": "markdown",
     "metadata": {},
     "source": [
      "<font color=red>Exercises</font>\n",
      "----"
     ]
    },
    {
     "cell_type": "markdown",
     "metadata": {},
     "source": [
      "**1**. Rewrite the following nested loop as a list comprehension\n",
      "\n",
      "```python\n",
      "ans = []\n",
      "for i in range(3):\n",
      "    for j in range(4):\n",
      "        ans.append((i, j))\n",
      "print ans\n",
      "```"
     ]
    },
    {
     "cell_type": "code",
     "collapsed": false,
     "input": [
      "# YOUR CODE HERE\n",
      "\n",
      "\n"
     ],
     "language": "python",
     "metadata": {},
     "outputs": [],
     "prompt_number": 46
    },
    {
     "cell_type": "markdown",
     "metadata": {},
     "source": [
      "**2**. Rewrite the following as a list comprehension\n",
      "\n",
      "```python\n",
      "ans = map(lambda x: x*x, filter(lambda x: x%2 == 0, range(5)))\n",
      "print ans\n",
      "```"
     ]
    },
    {
     "cell_type": "code",
     "collapsed": false,
     "input": [
      "# YOUR CODE HERE\n",
      "\n",
      "\n"
     ],
     "language": "python",
     "metadata": {},
     "outputs": [],
     "prompt_number": 47
    },
    {
     "cell_type": "markdown",
     "metadata": {},
     "source": [
      "**3**. Convert the function below into a pure function with no global variables or side effects\n",
      "\n",
      "```python\n",
      "x = 5\n",
      "def f(alist):\n",
      "    for i in range(x):\n",
      "        alist.append(i)\n",
      "    return alist\n",
      "\n",
      "alist = [1,2,3]\n",
      "ans = f(alist)\n",
      "print ans\n",
      "print alist # alist has been changed!\n",
      "```"
     ]
    },
    {
     "cell_type": "code",
     "collapsed": false,
     "input": [
      "# YOUR CODE HERE\n",
      "\n",
      "\n"
     ],
     "language": "python",
     "metadata": {},
     "outputs": [],
     "prompt_number": 48
    },
    {
     "cell_type": "markdown",
     "metadata": {},
     "source": [
      "**4.** Write a decorator `hello` that makes every wrapped function print \"Hello!\" \n",
      "\n",
      "For example\n",
      "\n",
      "```python\n",
      "@hello\n",
      "def square(x):\n",
      "    return x*x\n",
      "```\n",
      "\n",
      "when called will give the following result\n",
      "```python\n",
      "[In]\n",
      "square(2)\n",
      "[Out]\n",
      "Hello!\n",
      "4\n",
      "```"
     ]
    },
    {
     "cell_type": "code",
     "collapsed": false,
     "input": [
      "# YOUR CODE HERE\n",
      "\n",
      "\n"
     ],
     "language": "python",
     "metadata": {},
     "outputs": [],
     "prompt_number": 49
    },
    {
     "cell_type": "markdown",
     "metadata": {},
     "source": [
      "**5**. Rewrite the factorial function so that it does not use recursion.\n",
      "\n",
      "```python\n",
      "def fact(n):\n",
      "    \"\"\"Returns the factorial of n.\"\"\"\n",
      "    # base case\n",
      "    if n==0:\n",
      "        return 1\n",
      "    # recursive case\n",
      "    else:\n",
      "        return n * fact(n-1)\n",
      "```"
     ]
    },
    {
     "cell_type": "code",
     "collapsed": false,
     "input": [
      "# YOUR CODE HERE\n",
      "\n",
      "\n"
     ],
     "language": "python",
     "metadata": {},
     "outputs": [],
     "prompt_number": 50
    },
    {
     "cell_type": "markdown",
     "metadata": {},
     "source": [
      "**Exercise 6**. Rewrite the same factorail funciotn so that it uses a cache to speed up calculations"
     ]
    },
    {
     "cell_type": "code",
     "collapsed": false,
     "input": [
      "# YOUR CODE HERE\n",
      "\n",
      "\n"
     ],
     "language": "python",
     "metadata": {},
     "outputs": [],
     "prompt_number": 50
    },
    {
     "cell_type": "markdown",
     "metadata": {},
     "source": [
      "**7**. Rewrite the following anonymous functiona as a regular named fucntion.\n",
      "\n",
      "```python\n",
      "lambda x, y: x**2 + y**2\n",
      "```"
     ]
    },
    {
     "cell_type": "code",
     "collapsed": false,
     "input": [
      "# YOUR CODE HERE\n",
      "\n",
      "\n"
     ],
     "language": "python",
     "metadata": {},
     "outputs": [],
     "prompt_number": 51
    },
    {
     "cell_type": "markdown",
     "metadata": {},
     "source": [
      "**8**. Find an efficient way to extrac a subset of `dict1` into a a new dictionary `dict2` that only contains entrires with the keys given in the set `good_keys`. Note that good_keys may include keys not found in dict1 - these must be excluded when building dict2."
     ]
    },
    {
     "cell_type": "code",
     "collapsed": false,
     "input": [
      "import numpy as np\n",
      "import cPickle\n",
      "\n",
      "try:\n",
      "    dict1 = cPickle.load(open('dict1.pic'))\n",
      "except:\n",
      "    numbers = np.arange(1e6).astype('int') # 1 million entries\n",
      "    dict1 = dict(zip(numbers, numbers))\n",
      "    cPickle.dump(dict1, open('dict1.pic', 'w'), protocol=2)\n",
      "\n",
      "good_keys = set(np.random.randint(1, 1e7, 1000))\n",
      "\n",
      "# YOUR CODE HERE\u00df\n",
      "\n",
      "\n",
      "\n"
     ],
     "language": "python",
     "metadata": {},
     "outputs": [],
     "prompt_number": 110
    },
    {
     "cell_type": "code",
     "collapsed": false,
     "input": [],
     "language": "python",
     "metadata": {},
     "outputs": []
    }
   ],
   "metadata": {}
  }
 ]
}