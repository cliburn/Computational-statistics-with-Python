{
 "cells": [
  {
   "cell_type": "code",
   "execution_count": 1,
   "metadata": {
    "collapsed": true
   },
   "outputs": [],
   "source": [
    "from __future__ import division\n",
    "import os\n",
    "import sys\n",
    "import glob\n",
    "import matplotlib.pyplot as plt\n",
    "import numpy as np\n",
    "import pandas as pd\n",
    "%matplotlib inline\n",
    "%precision 4\n",
    "plt.style.use('ggplot')\n"
   ]
  },
  {
   "cell_type": "code",
   "execution_count": 2,
   "metadata": {
    "collapsed": false
   },
   "outputs": [],
   "source": [
    "from IPython.display import HTML, Image"
   ]
  },
  {
   "cell_type": "code",
   "execution_count": 3,
   "metadata": {
    "collapsed": false
   },
   "outputs": [],
   "source": [
    "from timeit import default_timer as timer"
   ]
  },
  {
   "cell_type": "markdown",
   "metadata": {},
   "source": [
    "Massively parallel programming with GPUs\n",
    "==="
   ]
  },
  {
   "cell_type": "code",
   "execution_count": 4,
   "metadata": {
    "collapsed": false
   },
   "outputs": [
    {
     "data": {
      "text/html": [
       "<img src=\"http://www.nvidia.com/docs/IO/143716/cpu-and-gpu.jpg\"/>"
      ],
      "text/plain": [
       "<IPython.core.display.Image at 0x1067ad7d0>"
      ]
     },
     "execution_count": 4,
     "metadata": {},
     "output_type": "execute_result"
    }
   ],
   "source": [
    "Image(url='http://www.nvidia.com/docs/IO/143716/cpu-and-gpu.jpg')"
   ]
  },
  {
   "cell_type": "code",
   "execution_count": 5,
   "metadata": {
    "collapsed": true
   },
   "outputs": [
    {
     "data": {
      "text/html": [
       "<iframe width=\"560\" height=\"315\" src=\"https://www.youtube.com/embed/-P28LKWTzrI\" frameborder=\"0\" allowfullscreen></iframe>"
      ],
      "text/plain": [
       "<IPython.core.display.HTML at 0x1067ad790>"
      ]
     },
     "execution_count": 5,
     "metadata": {},
     "output_type": "execute_result"
    }
   ],
   "source": [
    "HTML('<iframe width=\"560\" height=\"315\" src=\"https://www.youtube.com/embed/-P28LKWTzrI\" frameborder=\"0\" allowfullscreen></iframe>')"
   ]
  },
  {
   "cell_type": "code",
   "execution_count": 6,
   "metadata": {
    "collapsed": false
   },
   "outputs": [
    {
     "data": {
      "text/html": [
       "<img src=\"http://www.nvidia.com/docs/IO/143716/how-gpu-acceleration-works.png\"/>"
      ],
      "text/plain": [
       "<IPython.core.display.Image at 0x105d6cf10>"
      ]
     },
     "execution_count": 6,
     "metadata": {},
     "output_type": "execute_result"
    }
   ],
   "source": [
    "Image(url='http://www.nvidia.com/docs/IO/143716/how-gpu-acceleration-works.png')"
   ]
  },
  {
   "cell_type": "markdown",
   "metadata": {},
   "source": [
    "Programming GPUs\n",
    "----\n",
    "\n",
    "CUDA\n",
    "    - C/C++\n",
    "    - Fortran\n",
    "    - Python \n",
    "OpenCL\n",
    "    - C/C++\n",
    "\n",
    "On GPUs, they both offer about the same level of performance. For sceintific workflows, they are probably also equivalent. OpenCL is supported by multiple vendors - NVidia, AMD, Intel IBM, ARM, Qualcomm etc, while CUDA is only supported by NVidia.\n",
    "\n",
    "Currently, only CUDA supports direct compilation of code targeting the GPU from Python (via the Anaconda accelerate compiler), although there are also wrappers for both CUDA and OpenCL (using Python to generate C code for compilation). In any case, it will certainly be easier to learn OpenCL if you have programmed in CUDA since they are very similar."
   ]
  },
  {
   "cell_type": "markdown",
   "metadata": {},
   "source": [
    "GPU Architecture\n",
    "----"
   ]
  },
  {
   "cell_type": "markdown",
   "metadata": {},
   "source": [
    "#### CPU veruss GPU\n",
    "\n",
    "A CPU is designed to handle complex tasks - time sliciing, virtual machine emulation, complex control flows and branching, security etc. In contrast, GPUs only do one thing well - handle billions of repetitive low level tasks - originally the rendering of triangles in 3D graphics, and they have thousands of ALUs as compared with the CPUs 4 or 8.. Many scientific prgorams spend most of their time doing just what GPUs are good for - handle billions of repetitive low level tasks - and hence the fidle of GPU computing was born.\n",
    "\n",
    "Originally, this was called GPCPU (General Purpose GPU programming), and it required mapping scientific code to the matrix operations for manipulating traingles. This was insanely difficult to do and took a lot of dedication. However, with the advent of CUDA and OpenCL, high-level langagues targeting the GPU, GPU programming is rapidly becoming mainstream in the scientific community.  "
   ]
  },
  {
   "cell_type": "code",
   "execution_count": 7,
   "metadata": {
    "collapsed": false
   },
   "outputs": [
    {
     "data": {
      "text/html": [
       "<img src=\"http://www.frontiersin.org/files/Articles/70265/fgene-04-00266-HTML/image_m/fgene-04-00266-g001.jpg\"/>"
      ],
      "text/plain": [
       "<IPython.core.display.Image at 0x1067ad890>"
      ]
     },
     "execution_count": 7,
     "metadata": {},
     "output_type": "execute_result"
    }
   ],
   "source": [
    "Image(url='http://www.frontiersin.org/files/Articles/70265/fgene-04-00266-HTML/image_m/fgene-04-00266-g001.jpg')"
   ]
  },
  {
   "cell_type": "markdown",
   "metadata": {},
   "source": [
    "#### Inside a GPU"
   ]
  },
  {
   "cell_type": "code",
   "execution_count": 8,
   "metadata": {
    "collapsed": false
   },
   "outputs": [
    {
     "data": {
      "text/html": [
       "<img src=\"http://www.orangeowlsolutions.com/wp-content/uploads/2013/03/Fig1.png\"/>"
      ],
      "text/plain": [
       "<IPython.core.display.Image at 0x112e84650>"
      ]
     },
     "execution_count": 8,
     "metadata": {},
     "output_type": "execute_result"
    }
   ],
   "source": [
    "Image(url='http://www.orangeowlsolutions.com/wp-content/uploads/2013/03/Fig1.png')"
   ]
  },
  {
   "cell_type": "markdown",
   "metadata": {},
   "source": [
    "#### The streaming multiprocessor"
   ]
  },
  {
   "cell_type": "code",
   "execution_count": 9,
   "metadata": {
    "collapsed": false
   },
   "outputs": [
    {
     "data": {
      "text/html": [
       "<img src=\"http://www.orangeowlsolutions.com/wp-content/uploads/2013/03/Fig2.png\"/>"
      ],
      "text/plain": [
       "<IPython.core.display.Image at 0x112e84810>"
      ]
     },
     "execution_count": 9,
     "metadata": {},
     "output_type": "execute_result"
    }
   ],
   "source": [
    "Image(url='http://www.orangeowlsolutions.com/wp-content/uploads/2013/03/Fig2.png')"
   ]
  },
  {
   "cell_type": "markdown",
   "metadata": {},
   "source": [
    "#### The CUDA Core"
   ]
  },
  {
   "cell_type": "code",
   "execution_count": 10,
   "metadata": {
    "collapsed": false
   },
   "outputs": [
    {
     "data": {
      "text/html": [
       "<img src=\"http://www.orangeowlsolutions.com/wp-content/uploads/2013/03/Fig3.png\"/>"
      ],
      "text/plain": [
       "<IPython.core.display.Image at 0x112e845d0>"
      ]
     },
     "execution_count": 10,
     "metadata": {},
     "output_type": "execute_result"
    }
   ],
   "source": [
    "Image(url='http://www.orangeowlsolutions.com/wp-content/uploads/2013/03/Fig3.png')"
   ]
  },
  {
   "cell_type": "markdown",
   "metadata": {},
   "source": [
    "#### Memory Hiearchy"
   ]
  },
  {
   "cell_type": "code",
   "execution_count": 11,
   "metadata": {
    "collapsed": false
   },
   "outputs": [
    {
     "data": {
      "text/html": [
       "<img src=\"http://www.orangeowlsolutions.com/wp-content/uploads/2013/03/Fig9.png\"/>"
      ],
      "text/plain": [
       "<IPython.core.display.Image at 0x112e84790>"
      ]
     },
     "execution_count": 11,
     "metadata": {},
     "output_type": "execute_result"
    }
   ],
   "source": [
    "Image(url='http://www.orangeowlsolutions.com/wp-content/uploads/2013/03/Fig9.png')"
   ]
  },
  {
   "cell_type": "markdown",
   "metadata": {},
   "source": [
    "#### Processing flow"
   ]
  },
  {
   "cell_type": "code",
   "execution_count": 12,
   "metadata": {
    "collapsed": false
   },
   "outputs": [
    {
     "data": {
      "text/html": [
       "<img src=\"http://upload.wikimedia.org/wikipedia/commons/thumb/5/59/CUDA_processing_flow_%28En%29.PNG/450px-CUDA_processing_flow_%28En%29.PNG\"/>"
      ],
      "text/plain": [
       "<IPython.core.display.Image at 0x112e84890>"
      ]
     },
     "execution_count": 12,
     "metadata": {},
     "output_type": "execute_result"
    }
   ],
   "source": [
    "Image(url='http://upload.wikimedia.org/wikipedia/commons/thumb/5/59/CUDA_processing_flow_%28En%29.PNG/450px-CUDA_processing_flow_%28En%29.PNG')"
   ]
  },
  {
   "cell_type": "markdown",
   "metadata": {},
   "source": [
    "#### CUDA Kernels"
   ]
  },
  {
   "cell_type": "code",
   "execution_count": 13,
   "metadata": {
    "collapsed": false
   },
   "outputs": [
    {
     "data": {
      "text/html": [
       "<img src=\"http://www.biomedcentral.com/content/supplementary/1756-0500-2-73-s2.png\"/>"
      ],
      "text/plain": [
       "<IPython.core.display.Image at 0x112e84910>"
      ]
     },
     "execution_count": 13,
     "metadata": {},
     "output_type": "execute_result"
    }
   ],
   "source": [
    "Image(url='http://www.biomedcentral.com/content/supplementary/1756-0500-2-73-s2.png')"
   ]
  },
  {
   "cell_type": "markdown",
   "metadata": {},
   "source": [
    "#### CUDA execution model"
   ]
  },
  {
   "cell_type": "code",
   "execution_count": 14,
   "metadata": {
    "collapsed": false
   },
   "outputs": [
    {
     "data": {
      "text/html": [
       "<img src=\"http://3dgep.com/wp-content/uploads/2011/11/Cuda-Execution-Model.png\"/>"
      ],
      "text/plain": [
       "<IPython.core.display.Image at 0x112e84950>"
      ]
     },
     "execution_count": 14,
     "metadata": {},
     "output_type": "execute_result"
    }
   ],
   "source": [
    "Image(url='http://3dgep.com/wp-content/uploads/2011/11/Cuda-Execution-Model.png')"
   ]
  },
  {
   "cell_type": "markdown",
   "metadata": {},
   "source": [
    "#### CUDA threads"
   ]
  },
  {
   "cell_type": "code",
   "execution_count": 15,
   "metadata": {
    "collapsed": true
   },
   "outputs": [
    {
     "data": {
      "text/html": [
       "<img src=\"http://docs.nvidia.com/cuda/cuda-c-programming-guide/graphics/grid-of-thread-blocks.png\"/>"
      ],
      "text/plain": [
       "<IPython.core.display.Image at 0x112e84990>"
      ]
     },
     "execution_count": 15,
     "metadata": {},
     "output_type": "execute_result"
    }
   ],
   "source": [
    "Image(url=\"http://docs.nvidia.com/cuda/cuda-c-programming-guide/graphics/grid-of-thread-blocks.png\")"
   ]
  },
  {
   "cell_type": "markdown",
   "metadata": {},
   "source": [
    "#### Memoery access levels"
   ]
  },
  {
   "cell_type": "code",
   "execution_count": 16,
   "metadata": {
    "collapsed": false
   },
   "outputs": [
    {
     "data": {
      "text/html": [
       "<img src=\"http://docs.nvidia.com/cuda/parallel-thread-execution/graphics/memory-hierarchy.png\"/>"
      ],
      "text/plain": [
       "<IPython.core.display.Image at 0x112e84a10>"
      ]
     },
     "execution_count": 16,
     "metadata": {},
     "output_type": "execute_result"
    }
   ],
   "source": [
    "Image(url='http://docs.nvidia.com/cuda/parallel-thread-execution/graphics/memory-hierarchy.png')"
   ]
  },
  {
   "cell_type": "markdown",
   "metadata": {},
   "source": [
    "### Recap of CUDA Jargon and Concepts\n",
    "\n",
    "#### Generations\n",
    "\n",
    "- Tesla (Compute Capability 1)\n",
    "- Fermi (Compute Capability 2)\n",
    "- Kepler (Compute Capability 3)\n",
    "- Maxwell (current generation - Compute Capability 5)\n",
    "- Pascal (next generation - not in production yet)\n",
    "\n",
    "Confusingly, Tesla is also the brand name for NVidia's GPGPU line of cards as well as the name for the 1st generation microarchitecture. Hence you will hear references to NVidia GTX for gaming and MVidia Tesla for scientific computing. Note that GTX cards can also be used for scieintifc computing, but lack ECC memory and have crippled double precisiion abiiities.\n",
    "\n",
    "#### Hardware\n",
    "\n",
    "Host = CPU\n",
    "Device = GPU\n",
    "\n",
    "A GPU has multiple **streaming multiprocessors (SM)** that contain\n",
    "\n",
    "- memory registers for threads to use\n",
    "- several memory caches\n",
    "    - shared memory\n",
    "    - constant cache\n",
    "    - texture memory\n",
    "    - L1 cache\n",
    "- thread schedulers\n",
    "- Several CUDA cores (analagous to streaming processsor in AMD cards) - number depends on microarchitecture generation\n",
    "    - Each core consists of an Arithmetic logic unit (ALU) that handles integer and single precision calculations and a Floating point unit (FPU) that handles double precsion calculations\n",
    "- Special function units (SFU) for transcendental functions (e.g. log, exp, sin, cos, sqrt)\n",
    "\n",
    "For example, a high-end Kepler card has 15 SMs each with 12 groups of 16 (=192) CUDA cores for a total of 2880 CUDA cores (only 2048 threads can be simultaneoulsy active). Optimal use of CUDA requires feeding data to the threads fast enough to keep them all busy, which is why it is important to understand the memory hiearchy.\n",
    "\n",
    "#### Device memory types\n",
    "\n",
    "- Registers (only usable by one thread) - veru, very fast (1 clock cycle)\n",
    "- Shared memroy (usable by threads in a thread block) - very fast (a few clock cyles)\n",
    "    - Organized into 32 banks that can be accessed simultaneously\n",
    "    - However, each concurrent thread needs to access a different bank or there is a bank conflict\n",
    "    - Banks can only serve one request at a time - a single conflict doubles the access time\n",
    "- Device memory (usable by all threads - can transfer to/from CPU) - very slow (hundreds of clock cycles)\n",
    "    - Global memory is general purpose\n",
    "    - Local memory is optimized for consecutive access by a thread\n",
    "    - Constant memory is for read-only data that will not change over the course of a kernel execution\n",
    "    - Textture and surface memory are for specialized read-only data mainly used in graphics routines\n",
    "\n",
    "Access speed: Global, local, texture, surface << constant << shared, regiser\n",
    "\n",
    "- Device memory to host memory bandwidth (PCI) << device memory to device bandwidth\n",
    "    - few large transfers are better than many small ones\n",
    "    - increase computation to communication ratio\n",
    "- Device can load 4, 8 or 16-byte words from global memroy into local registers\n",
    "    - data that is not in one of these multiples (e.g. structs) incurs a mis-aligned penalty\n",
    "    - mis-alginment is largely mitigated by memory cahces in curent generation GPU cards\n",
    "\n",
    "In summary, 3 different problems can impede efficient memory access\n",
    "\n",
    "- Avoid mis-alignment: when the data units are not in sizes conducive for transfer from global memory to local registers\n",
    "- No coalescnce: when requqested by thread of a warp are not laid out consecutively in memory (stride=1)\n",
    "- Avoid bank conflict: when multiple concurrentl threads in a block try to access the same memory bank at the same time\n",
    "\n",
    "#### Thread scheduling model\n",
    "\n",
    "Code in a kernel is executed in groups of 32 threads (Nvidia calls a group of 32 threads a *warp*). When one warp is wating on device memory, the scheduler switches to another ready warp, keeping as many cores busy as possible.\n",
    "\n",
    "- Because accessing device memory is so slow, the device *coaleseces* global memory loads and stores issued by threads of a warp into as few transactions as posisble\n",
    "- Because of coalescence, retrieval is optimal when neigboring threads (with consecuitve indexes) access consecutive memory locations - i.e. with a stride of 1\n",
    "- A stride of 1 is not possible for indexing the higher dimensions of a multi-dimensinoal array - shared memory is used to overcome this (see matrix multiplication example) as there is no penalty for strided access to shared mmemroy\n",
    "- Similarly, a structure consisting of arrays (SoA) allows for efficient access, while an array of structures (AoS) does not\n",
    "\n",
    "#### Programming model\n",
    "\n",
    "- The NVidia CUDA compiler `nvcc` targets a virutal machine known as the Parallel Thread Execuation (PTX) Instruction Set Architecture (ISA) that exposes the GPU as a dara parallel computing device\n",
    "- High level language compilers (CUDA C/C++, CUDA FOrtran, CUDA Pyton) generate PTX instructions, which are optimized for and translated to native target-architecture instructions that execute on the GPU\n",
    "- GPU code is organized as a sequence of kernels (functions executed in parallel on the GPU)\n",
    "- Normally only one kernel is exectuted at at time, but concurent execution of kernles is also possible\n",
    "- The host launhces kernels, and each kernel can launch sub-kernels\n",
    "- Threads are grouped into blocks, and blocks are grouped into a grid\n",
    "- Each thread has a unique index within a block, and each block has a unique index within a grid\n",
    "- This means that each thread has a global unique index that can be used to (say) access a specific array location\n",
    "- Since the smallest unit that can be scheduled is a warp, the size of a thread block is always some mulitple of 32 threads\n",
    "- Currently, the maximumn number of threads in a block for Kepleer is 1024 (32 warps) and the maximum nmber of simultaneous threads is 2048 (64 warps)\n",
    "- Hence we can launch at most 2 blocks per grid with 1024 threads per block, or 8 blocks per grid with 256 threads per block and so on\n",
    "\n",
    "#### Performance tuning\n",
    "\n",
    "For optimal performance, the programmer has to juggle\n",
    "\n",
    "- finding enough parallelism to use all SMs\n",
    "- finding enouhg parallelism to keep all cores in an SM busy\n",
    "- optimizing use of registers and shared memory\n",
    "- optimizing device memory acess for contiguous memory \n",
    "- organizing data or using the cache to optimize device memroy acccess for contiguous memory\n",
    " "
   ]
  },
  {
   "cell_type": "markdown",
   "metadata": {},
   "source": [
    "## CUDA Python\n",
    "\n",
    "We will mostly foucs on the use of CUDA Python via the `numbapro` compiler.  Low level Python code using the numbapro.cuda module is similar to CUDA C, and will compile to the same machine code, but with the benefits of integerating into Python for use of numpy arrays, convenient I/O, graphics etc.\n",
    "\n",
    "Optionally, CUDA Python can provide\n",
    "\n",
    "* Automatic memory transfer\n",
    "    * NumPy arrays are automatically transferred\n",
    "    * CPU -> GPU\n",
    "    * GPU -> CPU\n",
    "* Automatic work scheduling\n",
    "    * The work is distributed the across all threads on the GPU\n",
    "    * The GPU hardware handles the scheduling\n",
    "* Automatic GPU memory management\n",
    "    * GPU memory is tied to object lifetime\n",
    "    * freed automatically\n",
    "   \n",
    "but these can be over-riden with explicit control instructions if desired. [Source](http://nbviewer.ipython.org/github/ContinuumIO/numbapro-examples/blob/master/webinars/2014_06_17/intro_to_gpu_python.ipynb)\n",
    "\n",
    "Python CUDA also provides syntactic sugar for obtaining thread identity. For example,\n",
    "\n",
    "```python\n",
    "tx = cuda.threadIdx.x\n",
    "ty = cuda.threadIdx.y\n",
    "bx = cuda.blockIdx.x\n",
    "by = cuda.blockIdx.y\n",
    "bw = cuda.blockDim.x\n",
    "bh = cuda.blockDim.y\n",
    "x = tx + bx * bw\n",
    "y = ty + by * bh\n",
    "array[x, y] = something(x, y)\n",
    "``` \n",
    "can be abbreivated to\n",
    "```python\n",
    "x, y = cuda.grid(2)\n",
    "array[x, y] = something(x, y)\n",
    "```"
   ]
  },
  {
   "cell_type": "markdown",
   "metadata": {},
   "source": [
    "### Convenience features"
   ]
  },
  {
   "cell_type": "markdown",
   "metadata": {},
   "source": [
    "Decorators are also provided for quick GPU parallelization, and it may be sufficient to use the high-level decorators `jit`, `autojit`, `vectorize` and `guvectorize` for running functoins on the GPU. When we need fine control, we can always drop back to CUDA Python. "
   ]
  },
  {
   "cell_type": "markdown",
   "metadata": {},
   "source": [
    "Getting Started with CUDA\n",
    "----"
   ]
  },
  {
   "cell_type": "code",
   "execution_count": 17,
   "metadata": {
    "collapsed": true
   },
   "outputs": [],
   "source": [
    "from numbapro import cuda, vectorize, guvectorize, check_cuda\n",
    "from numbapro import void, uint8 , uint32, uint64, int32, int64, float32, float64, f8\n",
    "import numpy as np"
   ]
  },
  {
   "cell_type": "code",
   "execution_count": 18,
   "metadata": {
    "collapsed": false
   },
   "outputs": [
    {
     "name": "stdout",
     "output_type": "stream",
     "text": [
      "------------------------------libraries detection-------------------------------\n",
      "Finding cublas\n",
      "\tlocated at /Users/cliburn/anaconda/lib/libcublas.6.0.dylib\n",
      "\ttrying to open library...\tok\n",
      "Finding cusparse\n",
      "\tlocated at /Users/cliburn/anaconda/lib/libcusparse.6.0.dylib\n",
      "\ttrying to open library...\tok\n",
      "Finding cufft\n",
      "\tlocated at /Users/cliburn/anaconda/lib/libcufft.6.0.dylib\n",
      "\ttrying to open library...\tok\n",
      "Finding curand\n",
      "\tlocated at /Users/cliburn/anaconda/lib/libcurand.6.0.dylib\n",
      "\ttrying to open library...\tok\n",
      "Finding nvvm\n",
      "\tlocated at /Users/cliburn/anaconda/lib/libnvvm.2.0.0.dylib\n",
      "\ttrying to open library...\tok\n",
      "\tfinding libdevice for compute_20...\tok\n",
      "\tfinding libdevice for compute_30...\tok\n",
      "\tfinding libdevice for compute_35...\tok\n",
      "-------------------------------hardware detection-------------------------------\n",
      "Found 1 CUDA devices\n",
      "id 0         GeForce GTX 760                              [SUPPORTED]\n",
      "                      compute capability: 3.0\n",
      "                           pci device id: 0\n",
      "                              pci bus id: 1\n",
      "Summary:\n",
      "\t1/1 devices are supported\n",
      "PASSED\n"
     ]
    },
    {
     "data": {
      "text/plain": [
       "True"
      ]
     },
     "execution_count": 18,
     "metadata": {},
     "output_type": "execute_result"
    }
   ],
   "source": [
    "check_cuda()"
   ]
  },
  {
   "cell_type": "markdown",
   "metadata": {},
   "source": [
    "### Defining and callling a kernel function\n",
    "\n",
    "Let's start by doing vector addition on the GPU with a kernel function. This requires several steps:\n",
    "\n",
    "1. Define the kernel function(s) (code to be run on parallel on the GPU)\n",
    "    1. In simplest model, one kernel is executed at a time and then control returns to CPU\n",
    "    2. Many threads execute one kernel\n",
    "2. Allocate space on the CPU for the vectors to be added and the solution vector\n",
    "3. Copy the vectors onto the GPU\n",
    "4. Run the kernel with grid and blcok dimensions\n",
    "5. Copy the solution vector back to the CPU"
   ]
  },
  {
   "cell_type": "code",
   "execution_count": 19,
   "metadata": {
    "collapsed": false
   },
   "outputs": [
    {
     "data": {
      "text/html": [
       "<img src=\"https://code.msdn.microsoft.com/vstudio/site/view/file/95904/1/Grid-2.png\"/>"
      ],
      "text/plain": [
       "<IPython.core.display.Image at 0x115db5c50>"
      ]
     },
     "execution_count": 19,
     "metadata": {},
     "output_type": "execute_result"
    }
   ],
   "source": [
    "Image(url='https://code.msdn.microsoft.com/vstudio/site/view/file/95904/1/Grid-2.png')"
   ]
  },
  {
   "cell_type": "markdown",
   "metadata": {},
   "source": [
    "Execution rules:\n",
    "\n",
    "- All threads in a grid execute the same kernel function\n",
    "- A grid is organized as a 2D array of blocks\n",
    "- All blocks in a grid have the same dimension\n",
    "- Total size of a block is limited to 512 or 1024 threads\n",
    "\n",
    "Definitions:\n",
    "\n",
    "- gridDim: This variable contains the dimensions of the grid (gridDim.x and gridDim.y)\n",
    "- blockIdx: This variable contains the block index within the grid \n",
    "- blockDim: This variable and contains the dimensions of the block (blockDim.x, blockDim.y and blockDim.z)\n",
    "- threadIdx: This variable contains the thread index within the block."
   ]
  },
  {
   "cell_type": "markdown",
   "metadata": {},
   "source": [
    "#### How do we find out the unique global thread identity?\n",
    "\n",
    "To execute kernels in parallel with CUDA, we launch a grid of blocks of threads, specifying the number of blocks per grid (`bpg`) and threads per block (`tpb`). The total number of threads launched will be the product of `bpg` $\\times$ `tpb`. This can be in the millions.\n",
    "\n",
    "Now, in order to decide what thread is doing what, we need to find its gloabl ID. This is basically just finding an offset given a 2D grid of 3D blocks of 3D threads, but can get very confusing. "
   ]
  },
  {
   "cell_type": "markdown",
   "metadata": {},
   "source": [
    "**1D grid of 1D blocks**\n",
    "```python\n",
    "    bx = cuda.blockIdx.x\n",
    "    bw = cuda.blockDim.x\n",
    "    tx = cuda.threadIdx.x\n",
    "    i = tx + bx * bw\n",
    "```\n",
    "\n",
    "**2D grid of 2D blocsk**\n",
    "```python\n",
    "    tx = cuda.threadIdx.x\n",
    "    ty = cuda.threadIdx.y\n",
    "    bx = cuda.blockIdx.x\n",
    "    by = cuda.blockIdx.y\n",
    "    bw = cuda.blockDim.x\n",
    "    bh = cuda.blockDim.y\n",
    "    i = tx + bx * bw\n",
    "    j = ty + by * bh\n",
    "```\n",
    "\n",
    "**3D grid of 3D blocks**\n",
    "```python \n",
    "    tx = cuda.threadIdx.x\n",
    "    ty = cuda.threadIdx.y\n",
    "    tz = cuda.threadIdx.z\n",
    "    bx = cuda.blockIdx.x\n",
    "    by = cuda.blockIdx.y\n",
    "    bz = cuda.blockIdx.y\n",
    "    bw = cuda.blockDim.x\n",
    "    bh = cuda.blockDim.y\n",
    "    bd = cuda.blockDim.z\n",
    "    i = tx + bx * bw\n",
    "    j = ty + by * bh\n",
    "    k = tz + bz * hd\n",
    "```\n",
    "\n",
    "More exotic combinations - e.g. 3D grid of 2D blockss are also possible but uncommon. If you do have a problem that masp to one of these geometrires, see this [cheatshet](http://cs.calvin.edu/courses/cs/374/CUDA/CUDA-Thread-Indexing-Cheatsheet.pdf) for calculating the global thread index.\n",
    "\n",
    "Fortunately, these $1 \\times 1$, $2 \\times 2$ and $3 \\times 3$ patterns are so common that theere is a shorthand macro proivded in CUDA Python using the `grid` macro."
   ]
  },
  {
   "cell_type": "markdown",
   "metadata": {},
   "source": [
    "## Vector addition - the 'Hello, world' of CUDA"
   ]
  },
  {
   "cell_type": "markdown",
   "metadata": {},
   "source": [
    "#### Version 1 of the kernel\n",
    "\n",
    "This version does everything explicitly and is essentially what needs to be done in CUDA C."
   ]
  },
  {
   "cell_type": "code",
   "execution_count": 20,
   "metadata": {
    "collapsed": false
   },
   "outputs": [],
   "source": [
    "@cuda.jit('void(float32[:], float32[:], float32[:])')\n",
    "def cu_add1(a, b, c):\n",
    "    \"\"\"This kernel function will be executed by a thread.\"\"\"\n",
    "    bx = cuda.blockIdx.x # which block in the grid?\n",
    "    bw = cuda.blockDim.x # what is the size of a block?\n",
    "    tx = cuda.threadIdx.x # unique thread ID within a blcok\n",
    "    i = tx + bx * bw\n",
    "\n",
    "    if i > c.size:\n",
    "        return\n",
    "\n",
    "    c[i] = a[i] + b[i]"
   ]
  },
  {
   "cell_type": "markdown",
   "metadata": {},
   "source": [
    "#### Launching the kernel"
   ]
  },
  {
   "cell_type": "code",
   "execution_count": 21,
   "metadata": {
    "collapsed": false
   },
   "outputs": [
    {
     "name": "stdout",
     "output_type": "stream",
     "text": [
      "Blocks per grid: 4\n",
      "Threads per block 32\n",
      "[   0.    2.    4.    6.    8.   10.   12.   14.   16.   18.   20.   22.\n",
      "   24.   26.   28.   30.   32.   34.   36.   38.   40.   42.   44.   46.\n",
      "   48.   50.   52.   54.   56.   58.   60.   62.   64.   66.   68.   70.\n",
      "   72.   74.   76.   78.   80.   82.   84.   86.   88.   90.   92.   94.\n",
      "   96.   98.  100.  102.  104.  106.  108.  110.  112.  114.  116.  118.\n",
      "  120.  122.  124.  126.  128.  130.  132.  134.  136.  138.  140.  142.\n",
      "  144.  146.  148.  150.  152.  154.  156.  158.  160.  162.  164.  166.\n",
      "  168.  170.  172.  174.  176.  178.  180.  182.  184.  186.  188.  190.\n",
      "  192.  194.  196.  198.]\n"
     ]
    }
   ],
   "source": [
    "device = cuda.get_current_device()\n",
    "\n",
    "n = 100\n",
    "\n",
    "# Host memory\n",
    "a = np.arange(n, dtype=np.float32)\n",
    "b = np.arange(n, dtype=np.float32)\n",
    "\n",
    "# Assign equivalent storage on device\n",
    "da = cuda.to_device(a)\n",
    "db = cuda.to_device(b)\n",
    "\n",
    "# Assign storage on device for output\n",
    "dc = cuda.device_array_like(a)\n",
    "\n",
    "# Set up enough threads for kernel\n",
    "tpb = device.WARP_SIZE\n",
    "bpg = int(np.ceil(float(n)/tpb))\n",
    "print 'Blocks per grid:', bpg\n",
    "print 'Threads per block', tpb\n",
    "\n",
    "# Launch kernel\n",
    "cu_add1[bpg, tpb](da, db, dc)\n",
    "\n",
    "# Transfer output from device to host\n",
    "c = dc.copy_to_host()\n",
    "\n",
    "print c"
   ]
  },
  {
   "cell_type": "markdown",
   "metadata": {},
   "source": [
    "#### Version 2 of the kernel\n",
    "\n",
    "This version makes use of the dynamic nature of Python to eliminate a lot of boilerplate code."
   ]
  },
  {
   "cell_type": "code",
   "execution_count": 22,
   "metadata": {
    "collapsed": false
   },
   "outputs": [],
   "source": [
    "@cuda.jit('void(float32[:], float32[:], float32[:])')\n",
    "def cu_add2(a, b, c):\n",
    "    \"\"\"This kernel function will be executed by a thread.\"\"\"\n",
    "    i  = cuda.grid(1)\n",
    "\n",
    "    if i > c.shape[0]:\n",
    "        return\n",
    "\n",
    "    c[i] = a[i] + b[i]"
   ]
  },
  {
   "cell_type": "markdown",
   "metadata": {},
   "source": [
    "#### Launching the kernel"
   ]
  },
  {
   "cell_type": "code",
   "execution_count": 23,
   "metadata": {
    "collapsed": false
   },
   "outputs": [
    {
     "name": "stdout",
     "output_type": "stream",
     "text": [
      "Blocks per grid: 4\n",
      "Threads per block 32\n",
      "[   0.    2.    4.    6.    8.   10.   12.   14.   16.   18.   20.   22.\n",
      "   24.   26.   28.   30.   32.   34.   36.   38.   40.   42.   44.   46.\n",
      "   48.   50.   52.   54.   56.   58.   60.   62.   64.   66.   68.   70.\n",
      "   72.   74.   76.   78.   80.   82.   84.   86.   88.   90.   92.   94.\n",
      "   96.   98.  100.  102.  104.  106.  108.  110.  112.  114.  116.  118.\n",
      "  120.  122.  124.  126.  128.  130.  132.  134.  136.  138.  140.  142.\n",
      "  144.  146.  148.  150.  152.  154.  156.  158.  160.  162.  164.  166.\n",
      "  168.  170.  172.  174.  176.  178.  180.  182.  184.  186.  188.  190.\n",
      "  192.  194.  196.  198.]\n"
     ]
    }
   ],
   "source": [
    "device = cuda.get_current_device()\n",
    "\n",
    "n = 100\n",
    "a = np.arange(n, dtype=np.float32)\n",
    "b = np.arange(n, dtype=np.float32)\n",
    "c = np.empty_like(a)\n",
    "\n",
    "tpb = device.WARP_SIZE\n",
    "bpg = int(np.ceil(float(n)/tpb))\n",
    "print 'Blocks per grid:', bpg\n",
    "print 'Threads per block', tpb\n",
    "\n",
    "cu_add2[bpg, tpb](a, b, c)\n",
    "print c"
   ]
  },
  {
   "cell_type": "markdown",
   "metadata": {},
   "source": [
    "### Vector addition with the `vectorize` decorator"
   ]
  },
  {
   "cell_type": "code",
   "execution_count": 24,
   "metadata": {
    "collapsed": true
   },
   "outputs": [],
   "source": [
    "@vectorize(['int64(int64, int64)', \n",
    "            'float32(float32, float32)',\n",
    "            'float64(float64, float64)'], \n",
    "           target='gpu')\n",
    "def cu_add(a, b):\n",
    "    return a + b"
   ]
  },
  {
   "cell_type": "code",
   "execution_count": 25,
   "metadata": {
    "collapsed": true
   },
   "outputs": [],
   "source": [
    "n = 100\n",
    "a = np.arange(n, dtype=np.float32)\n",
    "b = np.arange(n, dtype=np.float32)"
   ]
  },
  {
   "cell_type": "code",
   "execution_count": 26,
   "metadata": {
    "collapsed": true
   },
   "outputs": [
    {
     "name": "stdout",
     "output_type": "stream",
     "text": [
      "[   0.    2.    4.    6.    8.   10.   12.   14.   16.   18.   20.   22.\n",
      "   24.   26.   28.   30.   32.   34.   36.   38.   40.   42.   44.   46.\n",
      "   48.   50.   52.   54.   56.   58.   60.   62.   64.   66.   68.   70.\n",
      "   72.   74.   76.   78.   80.   82.   84.   86.   88.   90.   92.   94.\n",
      "   96.   98.  100.  102.  104.  106.  108.  110.  112.  114.  116.  118.\n",
      "  120.  122.  124.  126.  128.  130.  132.  134.  136.  138.  140.  142.\n",
      "  144.  146.  148.  150.  152.  154.  156.  158.  160.  162.  164.  166.\n",
      "  168.  170.  172.  174.  176.  178.  180.  182.  184.  186.  188.  190.\n",
      "  192.  194.  196.  198.]\n"
     ]
    }
   ],
   "source": [
    "c = cu_add(a, b)\n",
    "print c"
   ]
  },
  {
   "cell_type": "markdown",
   "metadata": {},
   "source": [
    "### 2D version"
   ]
  },
  {
   "cell_type": "code",
   "execution_count": 27,
   "metadata": {
    "collapsed": false
   },
   "outputs": [],
   "source": [
    "@cuda.jit('void(float32[:,:], float32[:,:], float32[:,:])')\n",
    "def cu_add_2d(a, b, c):\n",
    "    \"\"\"This kernel function will be executed by a thread.\"\"\"\n",
    "    i, j  = cuda.grid(2)\n",
    "\n",
    "    if (i < c.shape[0]) and (j < c.shape[1]):\n",
    "        c[i, j] = a[i, j] + b[i, j]\n",
    "    cuda.syncthreads()"
   ]
  },
  {
   "cell_type": "markdown",
   "metadata": {},
   "source": [
    "#### Low level `cuda.jit` requires correct instantiation of the kernel with blockspergrid and threadsperblock"
   ]
  },
  {
   "cell_type": "code",
   "execution_count": 28,
   "metadata": {
    "collapsed": false
   },
   "outputs": [
    {
     "name": "stdout",
     "output_type": "stream",
     "text": [
      "(31, 21) (16, 16)\n",
      "[[ 0.5805  0.1855  0.956   0.6484  0.6058]\n",
      " [ 0.1826  0.969   0.0568  0.0099  0.8153]\n",
      " [ 0.976   0.5761  0.7721  0.8327  0.1189]\n",
      " [ 0.3401  0.6968  0.7493  0.8439  0.3382]\n",
      " [ 0.0203  0.541   0.5694  0.4623  0.5394]]\n",
      "[[ 1.  1.  1.  1.  1.]\n",
      " [ 1.  1.  1.  1.  1.]\n",
      " [ 1.  1.  1.  1.  1.]\n",
      " [ 1.  1.  1.  1.  1.]\n",
      " [ 1.  1.  1.  1.  1.]]\n",
      "[[ 1.5805  1.1855  1.956   1.6484  1.6058]\n",
      " [ 1.1826  1.969   1.0568  1.0099  1.8153]\n",
      " [ 1.976   1.5761  1.7721  1.8327  1.1189]\n",
      " [ 1.3401  1.6968  1.7493  1.8439  1.3382]\n",
      " [ 1.0203  1.541   1.5694  1.4623  1.5394]]\n"
     ]
    }
   ],
   "source": [
    "device = cuda.get_current_device()\n",
    "\n",
    "n = 480\n",
    "p = 320\n",
    "a = np.random.random((n, p)).astype(np.float32)\n",
    "b = np.ones((n, p)).astype(np.float32)\n",
    "c = np.empty_like(a)\n",
    "\n",
    "threadsperblock = (16, 16)\n",
    "blockspergrid_x = (n + threadsperblock[0]) // threadsperblock[0]\n",
    "blockspergrid_y = (p + threadsperblock[1]) // threadsperblock[1]\n",
    "blockspergrid = (blockspergrid_x, blockspergrid_y)\n",
    "\n",
    "print blockspergrid, threadsperblock\n",
    "\n",
    "cu_add_2d[blockspergrid, threadsperblock](a, b, c)\n",
    "print a[-5:, -5:]\n",
    "print b[-5:, -5:]\n",
    "print c[-5:, -5:]"
   ]
  },
  {
   "cell_type": "markdown",
   "metadata": {},
   "source": [
    "#### Using `vectorize`\n",
    "\n",
    "Note that it is exactly the same function as the 1D version! And it takes care of how many blocks per grid, threads per block calcuations for you. "
   ]
  },
  {
   "cell_type": "code",
   "execution_count": 29,
   "metadata": {
    "collapsed": false
   },
   "outputs": [],
   "source": [
    "@vectorize(['int64(int64, int64)', \n",
    "            'float32(float32, float32)',\n",
    "            'float64(float64, float64)'], \n",
    "           target='gpu')\n",
    "def cu_vec_add_2d(a, b):\n",
    "    return a + b"
   ]
  },
  {
   "cell_type": "code",
   "execution_count": 30,
   "metadata": {
    "collapsed": false
   },
   "outputs": [
    {
     "name": "stdout",
     "output_type": "stream",
     "text": [
      "[[ 0.0103  0.1075  0.248   0.9841  0.6077]\n",
      " [ 0.2986  0.8319  0.9616  0.037   0.4071]\n",
      " [ 0.3979  0.1994  0.6463  0.035   0.0368]\n",
      " [ 0.3706  0.879   0.7187  0.5635  0.4726]\n",
      " [ 0.4652  0.2049  0.6163  0.0255  0.8036]]\n",
      "[[ 1.  1.  1.  1.  1.]\n",
      " [ 1.  1.  1.  1.  1.]\n",
      " [ 1.  1.  1.  1.  1.]\n",
      " [ 1.  1.  1.  1.  1.]\n",
      " [ 1.  1.  1.  1.  1.]]\n",
      "[[ 1.0103  1.1075  1.248   1.9841  1.6077]\n",
      " [ 1.2986  1.8319  1.9616  1.037   1.4071]\n",
      " [ 1.3979  1.1994  1.6463  1.035   1.0368]\n",
      " [ 1.3706  1.879   1.7187  1.5635  1.4726]\n",
      " [ 1.4652  1.2049  1.6163  1.0255  1.8036]]\n"
     ]
    }
   ],
   "source": [
    "n = 480\n",
    "p = 320\n",
    "a = np.random.random((n, p)).astype(np.float32)\n",
    "b = np.ones((n, p)).astype(np.float32)\n",
    "\n",
    "c= cu_vec_add_2d(a, b)\n",
    "\n",
    "print a[-5:, -5:]\n",
    "print b[-5:, -5:]\n",
    "print c[-5:, -5:]"
   ]
  },
  {
   "cell_type": "markdown",
   "metadata": {},
   "source": [
    "### Switching execution target\n",
    "\n",
    "One advantage of the high-level vectorize decorator is that the funciton code will run without any change on a single core, multiple cores or GPU by simply chaning the target. This can be used to run the apprropriate code depending on problem type and size, or as a fallback on machines that lack a GPU."
   ]
  },
  {
   "cell_type": "code",
   "execution_count": 31,
   "metadata": {
    "collapsed": true
   },
   "outputs": [
    {
     "data": {
      "text/plain": [
       "array([[ 1.5631,  1.3817,  1.2615, ...,  1.3443,  1.8109,  1.4728],\n",
       "       [ 1.1671,  1.0367,  1.7714, ...,  1.0079,  1.5834,  1.6367],\n",
       "       [ 1.2247,  1.0565,  1.221 , ...,  1.2337,  1.884 ,  1.4036],\n",
       "       ..., \n",
       "       [ 1.5096,  1.8178,  1.1805, ...,  1.6463,  1.035 ,  1.0368],\n",
       "       [ 1.6514,  1.8149,  1.7942, ...,  1.7187,  1.5635,  1.4726],\n",
       "       [ 1.8826,  1.9288,  1.6108, ...,  1.6163,  1.0255,  1.8036]])"
      ]
     },
     "execution_count": 31,
     "metadata": {},
     "output_type": "execute_result"
    }
   ],
   "source": [
    "# run in parallel on mulitple CPU cores by changing target\n",
    "@vectorize(['int64(int64, int64)', \n",
    "            'float64(float32, float32)',\n",
    "            'float64(float64, float64)'], \n",
    "           target='parallel')\n",
    "def mc_add(a, b):\n",
    "    return a + b\n",
    "\n",
    "mc_add(a, b)"
   ]
  },
  {
   "cell_type": "markdown",
   "metadata": {},
   "source": [
    "## Performing a reduction on CUDA\n",
    "\n",
    "A more challenging example is to use CUDA to sum a vector. This is a reducction and requires communicaiton across threads. In the CUDA model, only threads within a block can share state efficiently by using shared memoery as writing to global memory would be disastrously slow. Therefore, we have to do this in stages - if the shared memory size is $k$ numbers, we will need $n$ stages to sum $k^n$ numbers on the GPU. \n",
    "\n",
    "**Coding strategy**\n",
    "\n",
    "- For simplicity, we set up a reduction that only requires 2 stages\n",
    "- We have an array $a$ of length $n$ that we wish to sum\n",
    "- We consider $a$ as being made up of a number blocks of size $n/k$\n",
    "- The CPU will launch a kernel to find the $k$ partial sums of $a$\n",
    "    - Each sum will be of consecutive $n/k$ elements in the original array\n",
    "    - The summation of pairs of numbers is performed by a device-only sub-kernel launched by the GPU\n",
    "    - The summation is done in 3 steps:\n",
    "        - Each thread in a block writes its values to shared memory in the location corresponding to the thread index \n",
    "        - Synchronize threads to make sure that all threads have completed writing before proceeding\n",
    "        - The first thread in the block sums up the values in shared memory (the rest are idle) and stores in the location corresponding to the block index\n",
    "- Finally, the CPU launches the kernel again to sum the partial sums\n",
    "- For efficiency, we overwrite partial sums in the original vector\n",
    "\n",
    "Note that other reductions (e.g. min, max) etc follow the same strategy - just swap the device kernel with another one.\n",
    "\n",
    "The two strateiges of **mapping** each operation to a thread and **reduction** to combine results from several threads are the basic buiding blocks of many CUDA algorithms. It is surprising how many alogrithms can be formulated as combinaitons of mapping and redcution steps - and we will revisit this pattern with Hadoop/SPARK."
   ]
  },
  {
   "cell_type": "code",
   "execution_count": 32,
   "metadata": {
    "collapsed": false
   },
   "outputs": [
    {
     "name": "stdout",
     "output_type": "stream",
     "text": [
      "a = [14 20 16 11 12  4  2  3  3 16  8 12 12 19  6 15 20 20 20 21  8  5 11 17]\n",
      "a.sum() =  295\n",
      "a = [77 44 92 82 12  4  2  3  3 16  8 12 12 19  6 15 20 20 20 21  8  5 11 17]\n",
      "a = [295  44  92  82  12   4   2   3   3  16   8  12  12  19   6  15  20  20\n",
      "  20  21   8   5  11  17]\n"
     ]
    }
   ],
   "source": [
    "@cuda.jit('int32(int32, int32)', device=True)\n",
    "def dev_sum(a, b):\n",
    "    return a + b\n",
    "\n",
    "@cuda.jit('void(int32[:], int32[:])')\n",
    "def cu_sum(a, b):\n",
    "    \"Simple implementation of reduction kernel\"\n",
    "    # Allocate static shared memory of 512 (max number of threads per block for CC < 3.0)\n",
    "    # This limits the maximum block size to 512.\n",
    "    sa = cuda.shared.array(shape=(612,), dtype=int32)\n",
    "    tx = cuda.threadIdx.x\n",
    "    bx = cuda.blockIdx.x\n",
    "    bw = cuda.blockDim.x\n",
    "    i = tx + bx * bw\n",
    "    if i < a.shape[0]:\n",
    "        sa[tx] = a[i]\n",
    "        if tx == 0:\n",
    "            # Uses the first thread of each block to perform the actual\n",
    "            # reduction\n",
    "            s = sa[tx]\n",
    "            cuda.syncthreads()\n",
    "            for j in range(1, bw):\n",
    "                s = dev_sum(s, sa[j])\n",
    "            b[bx] = s\n",
    "\n",
    "k = 4 # numbers to be added in the partial sum (must be less than or equal to 512)\n",
    "n = 6*4 # total length of vector to be summed\n",
    "\n",
    "a = np.random.randint(0, n, n).astype(np.int32)\n",
    "\n",
    "print 'a =', a\n",
    "print 'a.sum() = ', a.sum()\n",
    "\n",
    "d_a = cuda.to_device(a)\n",
    "d_b = cuda.to_device(b, copy=False)\n",
    "\n",
    "griddim = (k, 1)\n",
    "blockdim = (a.size//k, 1)\n",
    "\n",
    "cu_sum[griddim, blockdim](d_a, d_a)\n",
    "\n",
    "d_a.to_host()\n",
    "\n",
    "print 'a =', a\n",
    "\n",
    "cu_sum[1, griddim](d_a[:k], d_a)\n",
    "\n",
    "d_a.to_host()\n",
    "\n",
    "print 'a =', a"
   ]
  },
  {
   "cell_type": "markdown",
   "metadata": {},
   "source": [
    "## Recreational\n",
    "\n",
    "We will plot the famous Madnelbrot fractal and compare the code for and run times of a pure Pythoo with a GPU version. "
   ]
  },
  {
   "cell_type": "markdown",
   "metadata": {},
   "source": [
    "#### Pure Python"
   ]
  },
  {
   "cell_type": "code",
   "execution_count": 33,
   "metadata": {
    "collapsed": true
   },
   "outputs": [],
   "source": [
    "# color function for point at (x, y)\n",
    "def mandel(x, y, max_iters):\n",
    "    c = complex(x, y)\n",
    "    z = 0.0j\n",
    "    for i in range(max_iters):\n",
    "        z = z*z + c\n",
    "        if z.real*z.real + z.imag*z.imag >= 4:\n",
    "            return i\n",
    "    return max_iters"
   ]
  },
  {
   "cell_type": "code",
   "execution_count": 34,
   "metadata": {
    "collapsed": false
   },
   "outputs": [],
   "source": [
    "def create_fractal(xmin, xmax, ymin, ymax, image, iters):\n",
    "    height, width = image.shape\n",
    "    \n",
    "    pixel_size_x = (xmax - xmin)/width\n",
    "    pixel_size_y = (ymax - ymin)/height\n",
    "        \n",
    "    for x in range(width):\n",
    "        real = xmin + x*pixel_size_x\n",
    "        for y in range(height):\n",
    "            imag = ymin + y*pixel_size_y\n",
    "            color = mandel(real, imag, iters)\n",
    "            image[y, x]  = color    "
   ]
  },
  {
   "cell_type": "code",
   "execution_count": 35,
   "metadata": {
    "collapsed": false
   },
   "outputs": [
    {
     "name": "stdout",
     "output_type": "stream",
     "text": [
      "Mandelbrot created on CPU in 34.773193 s\n"
     ]
    },
    {
     "data": {
      "image/png": "[encoded data removed]",
      "text/plain": [
       "<matplotlib.figure.Figure at 0x123316310>"
      ]
     },
     "metadata": {},
     "output_type": "display_data"
    }
   ],
   "source": [
    "gimage = np.zeros((1024, 1536), dtype=np.uint8)\n",
    "xmin, xmax, ymin, ymax = np.array([-2.0, 1.0, -1.0, 1.0]).astype('float32')\n",
    "iters = 50\n",
    "\n",
    "start = timer()\n",
    "create_fractal(xmin, xmax, ymin, ymax, gimage, iters)\n",
    "dt = timer() - start\n",
    "\n",
    "print \"Mandelbrot created on CPU in %f s\" % dt\n",
    "plt.imshow(gimage);"
   ]
  },
  {
   "cell_type": "markdown",
   "metadata": {},
   "source": [
    "#### Numba"
   ]
  },
  {
   "cell_type": "code",
   "execution_count": 36,
   "metadata": {
    "collapsed": true
   },
   "outputs": [],
   "source": [
    "# Reuse regular function on GUO by using jit decorator\n",
    "# This is using the jit decorator as a function (to avoid copying and pasting code)\n",
    "import numba\n",
    "mandel_numba = numba.jit(restype=uint32, argtypes=[float32, float32, uint32])(mandel)"
   ]
  },
  {
   "cell_type": "code",
   "execution_count": 37,
   "metadata": {
    "collapsed": false
   },
   "outputs": [],
   "source": [
    "@numba.jit\n",
    "def create_fractal_numba(xmin, xmax, ymin, ymax, image, iters):\n",
    "    height, width = image.shape\n",
    "    \n",
    "    pixel_size_x = (xmax - xmin)/width\n",
    "    pixel_size_y = (ymax - ymin)/height\n",
    "        \n",
    "    for x in range(width):\n",
    "        real = xmin + x*pixel_size_x\n",
    "        for y in range(height):\n",
    "            imag = ymin + y*pixel_size_y\n",
    "            color = mandel_numba(real, imag, iters)\n",
    "            image[y, x]  = color  "
   ]
  },
  {
   "cell_type": "code",
   "execution_count": 38,
   "metadata": {
    "collapsed": false
   },
   "outputs": [
    {
     "name": "stdout",
     "output_type": "stream",
     "text": [
      "Mandelbrot created on CPU in 0.339179 s\n"
     ]
    },
    {
     "data": {
      "image/png": "[encoded data removed]",
      "text/plain": [
       "<matplotlib.figure.Figure at 0x12bc72e50>"
      ]
     },
     "metadata": {},
     "output_type": "display_data"
    }
   ],
   "source": [
    "gimage = np.zeros((1024, 1536), dtype=np.uint8)\n",
    "xmin, xmax, ymin, ymax = np.array([-2.0, 1.0, -1.0, 1.0]).astype('float32')\n",
    "iters = 50\n",
    "\n",
    "start = timer()\n",
    "create_fractal_numba(xmin, xmax, ymin, ymax, gimage, iters)\n",
    "dt = timer() - start\n",
    "\n",
    "print \"Mandelbrot created on CPU in %f s\" % dt\n",
    "plt.imshow(gimage);"
   ]
  },
  {
   "cell_type": "markdown",
   "metadata": {},
   "source": [
    "#### CUDA "
   ]
  },
  {
   "cell_type": "code",
   "execution_count": 39,
   "metadata": {
    "collapsed": true
   },
   "outputs": [],
   "source": [
    "# Reuse regular function on GUO by using jit decorator\n",
    "mandel_gpu = cuda.jit(restype=uint32, argtypes=[float32, float32, uint32], device=True)(mandel)"
   ]
  },
  {
   "cell_type": "code",
   "execution_count": 40,
   "metadata": {
    "collapsed": true
   },
   "outputs": [],
   "source": [
    "@cuda.jit(argtypes=[float32, float32, float32, float32, uint8[:,:], uint32])\n",
    "def create_fractal_kernel(xmin, xmax, ymin, ymax, image, iters):\n",
    "    height, width = image.shape\n",
    "    \n",
    "    pixel_size_x = (xmax - xmin)/width\n",
    "    pixel_size_y = (ymax - ymin)/height\n",
    "    \n",
    "    startX, startY = cuda.grid(2)\n",
    "    gridX = cuda.gridDim.x * cuda.blockDim.x # stride in x\n",
    "    gridY = cuda.gridDim.y * cuda.blockDim.y # stride in y\n",
    "    \n",
    "    for x in range(startX, width, gridX):\n",
    "        real = xmin + x*pixel_size_x\n",
    "        for y in range(startY, height, gridY):\n",
    "            imag = ymin + y*pixel_size_y\n",
    "            color = mandel_gpu(real, imag, iters)\n",
    "            image[y, x]  = color    "
   ]
  },
  {
   "cell_type": "code",
   "execution_count": 41,
   "metadata": {
    "collapsed": true
   },
   "outputs": [
    {
     "name": "stdout",
     "output_type": "stream",
     "text": [
      "Mandelbrot created on GPU in 0.010257 s\n"
     ]
    },
    {
     "data": {
      "image/png": "[encoded data removed]",
      "text/plain": [
       "<matplotlib.figure.Figure at 0x12d8e2e50>"
      ]
     },
     "metadata": {},
     "output_type": "display_data"
    }
   ],
   "source": [
    "gimage = np.zeros((1024, 1536), dtype=np.uint8)\n",
    "blockdim = (32, 8)\n",
    "griddim = (32, 16)\n",
    "xmin, xmax, ymin, ymax = np.array([-2.0, 1.0, -1.0, 1.0]).astype('float32')\n",
    "iters = 50\n",
    "\n",
    "start = timer()\n",
    "d_image = cuda.to_device(gimage)\n",
    "create_fractal_kernel[griddim, blockdim](xmin, xmax, ymin, ymax, d_image, iters)\n",
    "d_image.to_host()\n",
    "dt = timer() - start\n",
    "\n",
    "print \"Mandelbrot created on GPU in %f s\" % dt\n",
    "plt.imshow(gimage);"
   ]
  },
  {
   "cell_type": "markdown",
   "metadata": {},
   "source": [
    "### Using CUDA liraries\n",
    "\n",
    "See documentation at <http://docs.continuum.io/numbapro/cudalib.html>"
   ]
  },
  {
   "cell_type": "markdown",
   "metadata": {},
   "source": [
    "#### Matrix multiplication wiht `cublas`"
   ]
  },
  {
   "cell_type": "code",
   "execution_count": 42,
   "metadata": {
    "collapsed": false
   },
   "outputs": [],
   "source": [
    "import numbapro.cudalib.cublas as cublas \n",
    "blas = cublas.Blas()\n",
    "\n",
    "n =100\n",
    "A = np.random.random((n, n)).astype(np.float32)\n",
    "B = np.random.random((n, n)).astype(np.float32)\n",
    "C = np.zeros_like(A, order='F')\n",
    "\n",
    "blas.gemm('T', 'T', n, n, n, 1.0, A, B, 1.0, C)\n",
    "\n",
    "assert(np.allclose(np.dot(A, B), C))"
   ]
  },
  {
   "cell_type": "markdown",
   "metadata": {},
   "source": [
    "#### Random numbers with `curand`"
   ]
  },
  {
   "cell_type": "code",
   "execution_count": 43,
   "metadata": {
    "collapsed": false
   },
   "outputs": [
    {
     "data": {
      "text/plain": [
       "3.1409"
      ]
     },
     "execution_count": 43,
     "metadata": {},
     "output_type": "execute_result"
    }
   ],
   "source": [
    "from numbapro.cudalib import curand\n",
    "prng = curand.PRNG()\n",
    "prng.seed = 123\n",
    "\n",
    "@vectorize('float32(float32)', target='gpu')\n",
    "def shift(x):\n",
    "    return x*2 - 1\n",
    "\n",
    "n = 1e7\n",
    "x = np.empty(n*2).astype(np.float32)\n",
    "prng.uniform(x)\n",
    "r = shift(x).reshape((n, 2))\n",
    "pi_hat =4*(r[:,0]**2 + r[:,1]**2 < 1).sum()/n\n",
    "pi_hat"
   ]
  },
  {
   "cell_type": "markdown",
   "metadata": {},
   "source": [
    "#### FFT and IFFT"
   ]
  },
  {
   "cell_type": "code",
   "execution_count": 44,
   "metadata": {
    "collapsed": false
   },
   "outputs": [],
   "source": [
    "import numbapro.cudalib.cufft as cufft "
   ]
  },
  {
   "cell_type": "code",
   "execution_count": 45,
   "metadata": {
    "collapsed": false
   },
   "outputs": [
    {
     "name": "stdout",
     "output_type": "stream",
     "text": [
      "Original             [ 0.8236-0.564j   0.0743-1.0426j  0.3215+1.0885j -0.7250-1.7846j]\n",
      "CUDA FFT             [ 0.4944-2.3028j  1.2440-2.4518j  1.7958+3.3518j -0.2400-0.853j ]\n",
      "CPU  FFT             [ 0.4944-2.3028j  1.2440-2.4518j  1.7958+3.3518j -0.2400-0.853j ]\n",
      "CUDA IFFT            [ 0.8236-0.564j   0.0743-1.0426j  0.3215+1.0885j -0.7250-1.7846j]\n",
      "CPU  IFFT            [ 0.8236-0.564j   0.0743-1.0426j  0.3215+1.0885j -0.7250-1.7846j]\n"
     ]
    }
   ],
   "source": [
    "num = 4\n",
    "v = np.random.normal(0, 1, (num, 2))\n",
    "z = v[:,0] + 1j*v[:,1]\n",
    "print \"{:<20}\".format('Original'), z\n",
    "\n",
    "x_gpu = np.zeros(num, dtype='complex')\n",
    "cufft.fft(z, x_gpu)\n",
    "print \"{:<20}\".format('CUDA FFT'), x_gpu\n",
    "\n",
    "x_cpu = np.fft.fft(z)\n",
    "print \"{:<20}\".format('CPU  FFT'), x_cpu\n",
    "\n",
    "# NVidia IFFT returns unnormalzied results\n",
    "cufft.ifft(x_gpu, z) \n",
    "print \"{:<20}\".format('CUDA IFFT'), z/num\n",
    "\n",
    "x_cpu = np.fft.ifft(x_cpu)\n",
    "print \"{:<20}\".format('CPU  IFFT'), x_cpu"
   ]
  },
  {
   "cell_type": "code",
   "execution_count": 45,
   "metadata": {
    "collapsed": false
   },
   "outputs": [],
   "source": []
  },
  {
   "cell_type": "code",
   "execution_count": 45,
   "metadata": {
    "collapsed": false
   },
   "outputs": [],
   "source": []
  },
  {
   "cell_type": "code",
   "execution_count": 45,
   "metadata": {
    "collapsed": false
   },
   "outputs": [],
   "source": []
  },
  {
   "cell_type": "code",
   "execution_count": 45,
   "metadata": {
    "collapsed": false
   },
   "outputs": [],
   "source": []
  },
  {
   "cell_type": "code",
   "execution_count": 45,
   "metadata": {
    "collapsed": false
   },
   "outputs": [],
   "source": []
  },
  {
   "cell_type": "code",
   "execution_count": 45,
   "metadata": {
    "collapsed": false
   },
   "outputs": [],
   "source": []
  },
  {
   "cell_type": "code",
   "execution_count": 45,
   "metadata": {
    "collapsed": false
   },
   "outputs": [],
   "source": []
  },
  {
   "cell_type": "code",
   "execution_count": 45,
   "metadata": {
    "collapsed": false
   },
   "outputs": [],
   "source": []
  },
  {
   "cell_type": "code",
   "execution_count": 45,
   "metadata": {
    "collapsed": false
   },
   "outputs": [],
   "source": []
  },
  {
   "cell_type": "code",
   "execution_count": 45,
   "metadata": {
    "collapsed": false
   },
   "outputs": [],
   "source": []
  },
  {
   "cell_type": "code",
   "execution_count": 45,
   "metadata": {
    "collapsed": false
   },
   "outputs": [],
   "source": []
  },
  {
   "cell_type": "markdown",
   "metadata": {},
   "source": [
    "More examples\n",
    "----"
   ]
  },
  {
   "cell_type": "markdown",
   "metadata": {},
   "source": [
    "### Navie matrix multiply\n",
    "\n",
    "* Grids, blocks and threads\n",
    "* Maximum size of block is 512 or 1024 threads, depending on GPU\n",
    "* Get around by using many blocks of threads to partition matrix computataions\n",
    "* Full matrix divided into tiles\n",
    "* See Figure below"
   ]
  },
  {
   "cell_type": "code",
   "execution_count": 46,
   "metadata": {
    "collapsed": true
   },
   "outputs": [
    {
     "data": {
      "text/html": [
       "<img src=\"http://docs.nvidia.com/cuda/cuda-c-programming-guide/graphics/matrix-multiplication-with-shared-memory.png\"/>"
      ],
      "text/plain": [
       "<IPython.core.display.Image at 0x12bd3f050>"
      ]
     },
     "execution_count": 46,
     "metadata": {},
     "output_type": "execute_result"
    }
   ],
   "source": [
    "Image(url=\"http://docs.nvidia.com/cuda/cuda-c-programming-guide/graphics/matrix-multiplication-with-shared-memory.png\")"
   ]
  },
  {
   "cell_type": "code",
   "execution_count": 47,
   "metadata": {
    "collapsed": true
   },
   "outputs": [
    {
     "data": {
      "text/plain": [
       "(4, 4)"
      ]
     },
     "execution_count": 47,
     "metadata": {},
     "output_type": "execute_result"
    }
   ],
   "source": [
    "x1 = np.random.random((4,4))\n",
    "x2 = np.random.random((4,4))\n",
    "np.dot(x1, x2).shape"
   ]
  },
  {
   "cell_type": "markdown",
   "metadata": {},
   "source": [
    "#### Kernel function (no shared memory)"
   ]
  },
  {
   "cell_type": "code",
   "execution_count": 48,
   "metadata": {
    "collapsed": true
   },
   "outputs": [],
   "source": [
    "@cuda.jit('void(float32[:,:], float32[:,:], float32[:,:], int32)')\n",
    "def cu_matmul(a, b, c, n):\n",
    "    x, y = cuda.grid(2)\n",
    "    \n",
    "    if (x >= n) or (y >= n):\n",
    "        return\n",
    "    \n",
    "    c[x, y] = 0\n",
    "    for i in range(n):\n",
    "        c[x, y] +=  a[x, i] * b[i, y]"
   ]
  },
  {
   "cell_type": "code",
   "execution_count": 49,
   "metadata": {
    "collapsed": true
   },
   "outputs": [],
   "source": [
    "tpb = device.WARP_SIZE\n",
    "n = 400\n",
    "bpg = (n+tpb-1)//tpb\n",
    "grid_dim = (bpg, bpg)\n",
    "block_dim = (tpb, tpb)\n",
    "\n",
    "A = np.random.random((n, n)).astype(np.float32)\n",
    "B = np.random.random((n, n)).astype(np.float32)\n",
    "C = np.empty((n, n), dtype=np.float32)\n",
    "cu_matmul[grid_dim, block_dim](A, B, C, n)\n",
    "assert(np.allclose(np.dot(A, B), C))"
   ]
  },
  {
   "cell_type": "markdown",
   "metadata": {},
   "source": [
    "### Matrix multiply with shared memory\n",
    "\n",
    "Memmory access speed\n",
    "* Local to thread\n",
    "* Shared among block of threads\n",
    "* Global (much slower than shared) \n",
    "* Host\n",
    "\n",
    "Want to push memory access as close to threads as possible. In practice, the challenge is usually to structure the program in such a way that shared mmeory use is optimized."
   ]
  },
  {
   "cell_type": "code",
   "execution_count": 50,
   "metadata": {
    "collapsed": true
   },
   "outputs": [
    {
     "data": {
      "text/html": [
       "<img src=\"http://docs.nvidia.com/cuda/cuda-c-programming-guide/graphics/memory-hierarchy.png\"/>"
      ],
      "text/plain": [
       "<IPython.core.display.Image at 0x130aabf50>"
      ]
     },
     "execution_count": 50,
     "metadata": {},
     "output_type": "execute_result"
    }
   ],
   "source": [
    "Image(url=\"http://docs.nvidia.com/cuda/cuda-c-programming-guide/graphics/memory-hierarchy.png\")"
   ]
  },
  {
   "cell_type": "markdown",
   "metadata": {},
   "source": [
    "#### Using shared mmeory by using tiling to exploit locality"
   ]
  },
  {
   "cell_type": "code",
   "execution_count": 51,
   "metadata": {
    "collapsed": true
   },
   "outputs": [
    {
     "data": {
      "text/html": [
       "<img src=\"http://docs.nvidia.com/cuda/cuda-c-programming-guide/graphics/matrix-multiplication-with-shared-memory.png\"/>"
      ],
      "text/plain": [
       "<IPython.core.display.Image at 0x130aabf90>"
      ]
     },
     "execution_count": 51,
     "metadata": {},
     "output_type": "execute_result"
    }
   ],
   "source": [
    "Image(url=\"http://docs.nvidia.com/cuda/cuda-c-programming-guide/graphics/matrix-multiplication-with-shared-memory.png\")"
   ]
  },
  {
   "cell_type": "markdown",
   "metadata": {},
   "source": [
    "#### Kernel function (with shared memory)"
   ]
  },
  {
   "cell_type": "code",
   "execution_count": 52,
   "metadata": {
    "collapsed": true
   },
   "outputs": [],
   "source": [
    "tpb = device.WARP_SIZE\n",
    "block_dim = (tpb, tpb)\n",
    "\n",
    "@cuda.jit('void(float32[:,:], float32[:,:], float32[:,:], int32, int32, int32)')\n",
    "def cu_matmul_sm(A, B, C, n, tpb, bpg):\n",
    "    # decalre shared memory\n",
    "    sA = cuda.shared.array(shape=block_dim, dtype=float32)\n",
    "    sB = cuda.shared.array(shape=block_dim, dtype=float32)\n",
    "    \n",
    "    # we now need the thread ID within a block as well as the global thread ID\n",
    "    tx = cuda.threadIdx.x\n",
    "    ty = cuda.threadIdx.y\n",
    "    x, y = cuda.grid(2)    \n",
    "    \n",
    "    # pefort partial operations in block-szied tiles\n",
    "    # saving intermediate values in an accumulator variable\n",
    "    acc = 0.0\n",
    "    for i in range(bpg):\n",
    "        # Stage 1: Prefil shared memory with current block from matrix A and matrix B\n",
    "        sA[tx, ty] = A[x, ty + i * tpb]\n",
    "        sB[tx, ty] = B[tx + i * tpb, y]\n",
    "        \n",
    "        # Block calculations till shared mmeory is filled\n",
    "        cuda.syncthreads()\n",
    "        \n",
    "        # Stage 2: Compute partial dot product and add to accumulator\n",
    "        if x < n and y < n:\n",
    "            for j in range(tpb):\n",
    "                acc += sA[tx, j] * sB[j, ty]\n",
    "                \n",
    "        # Blcok until all threads have completed calcuaiton before next loop iteration\n",
    "        cuda.syncthreads()\n",
    "        \n",
    "    # Put accumulated dot product into output matrix\n",
    "    if x < n and y < n:\n",
    "        C[x, y] = acc"
   ]
  },
  {
   "cell_type": "code",
   "execution_count": 53,
   "metadata": {
    "collapsed": true
   },
   "outputs": [],
   "source": [
    "k = 32\n",
    "n = tpb * k # n must be multiple of tpb because shared memory is not initialized to zero\n",
    "bpg = n//tpb\n",
    "grid_dim = (bpg, bpg)\n",
    "\n",
    "A = np.random.random((n, n)).astype(np.float32)\n",
    "B = np.random.random((n, n)).astype(np.float32)\n",
    "C = np.empty((n, n), dtype=np.float32)\n",
    "cu_matmul_sm[grid_dim, block_dim](A, B, C, n, tpb, bpg)\n",
    "assert(np.allclose(np.dot(A, B), C))"
   ]
  },
  {
   "cell_type": "markdown",
   "metadata": {},
   "source": [
    "#### Benchmark"
   ]
  },
  {
   "cell_type": "code",
   "execution_count": 54,
   "metadata": {
    "collapsed": true
   },
   "outputs": [
    {
     "name": "stdout",
     "output_type": "stream",
     "text": [
      "N = 256 x 256\n",
      "Using numpy.dot: 0.00 s\n",
      "Without shared memory: 0.01 s\n",
      "With shared memory: 0.00 s\n",
      "Using CuBLAS: 0.00 s\n"
     ]
    }
   ],
   "source": [
    "\n",
    "k = 8\n",
    "n = tpb * k\n",
    "bpg = n//tpb\n",
    "grid_dim = (bpg, bpg)\n",
    "\n",
    "# Prepare data on the CPU\n",
    "A = np.array(np.random.random((n, n)), dtype=np.float32)\n",
    "B = np.array(np.random.random((n, n)), dtype=np.float32)\n",
    "C = np.zeros_like(A)\n",
    "\n",
    "print \"N = %d x %d\" % (n, n)\n",
    "\n",
    "# Prepare data on the GPU\n",
    "dA = cuda.to_device(A)\n",
    "dB = cuda.to_device(B)\n",
    "dC = cuda.to_device(C) # device_array_like(A)\n",
    "\n",
    "# Time numpy version\n",
    "s = timer()\n",
    "np_ans = np.dot(A, B)\n",
    "e = timer()\n",
    "t = e - s\n",
    "\n",
    "# Time the unoptimized version\n",
    "s = timer()\n",
    "cu_matmul[grid_dim, block_dim](dA, dB, dC, n)\n",
    "cuda.synchronize()\n",
    "e = timer()\n",
    "unopt_ans = dC.copy_to_host()\n",
    "tcuda_unopt = e - s\n",
    "\n",
    "# Time the shared memory version\n",
    "s = timer()\n",
    "cu_matmul_sm[grid_dim, block_dim](dA, dB, dC, n, tpb, bpg)\n",
    "cuda.synchronize()\n",
    "e = timer()\n",
    "opt_ans = dC.copy_to_host()\n",
    "tcuda_opt = e - s\n",
    "\n",
    "# Time for CuBLAS version\n",
    "s = timer()\n",
    "blas.gemm('T', 'T', n, n, n, 1.0, A, B, 1.0, C) # A, B not in fortran order so need for transpose\n",
    "e = timer()\n",
    "blas_ans = dC.copy_to_host()\n",
    "tcuda_blas = e - s\n",
    "\n",
    "print \"Using numpy.dot:\", \"%.2f\" % t, \"s\"\n",
    "print \"Without shared memory:\", \"%.2f\" % tcuda_unopt, \"s\"\n",
    "print \"With shared memory:\", \"%.2f\" % tcuda_opt, \"s\"\n",
    "print \"Using CuBLAS:\", \"%.2f\" % tcuda_blas, \"s\""
   ]
  },
  {
   "cell_type": "code",
   "execution_count": 55,
   "metadata": {
    "collapsed": true
   },
   "outputs": [],
   "source": [
    "assert np.allclose(np_ans, unopt_ans)\n",
    "assert np.allclose(np_ans, opt_ans)\n",
    "assert np.allclose(np_ans, blas_ans)"
   ]
  },
  {
   "cell_type": "code",
   "execution_count": 56,
   "metadata": {
    "collapsed": false
   },
   "outputs": [],
   "source": [
    "%load_ext version_information"
   ]
  },
  {
   "cell_type": "code",
   "execution_count": 57,
   "metadata": {
    "collapsed": false
   },
   "outputs": [
    {
     "data": {
      "application/json": {
       "Software versions": [
        {
         "module": "Python",
         "version": "2.7.9 64bit [GCC 4.2.1 (Apple Inc. build 5577)]"
        },
        {
         "module": "IPython",
         "version": "2.2.0"
        },
        {
         "module": "OS",
         "version": "Darwin 13.4.0 x86_64 i386 64bit"
        },
        {
         "module": "numpy",
         "version": "1.9.2"
        },
        {
         "module": "pandas",
         "version": "0.14.1"
        },
        {
         "module": "numba",
         "version": "0.17.0"
        },
        {
         "module": "numbapro",
         "version": "0.17.1"
        }
       ]
      },
      "text/html": [
       "<table><tr><th>Software</th><th>Version</th></tr><tr><td>Python</td><td>2.7.9 64bit [GCC 4.2.1 (Apple Inc. build 5577)]</td></tr><tr><td>IPython</td><td>2.2.0</td></tr><tr><td>OS</td><td>Darwin 13.4.0 x86_64 i386 64bit</td></tr><tr><td>numpy</td><td>1.9.2</td></tr><tr><td>pandas</td><td>0.14.1</td></tr><tr><td>numba</td><td>0.17.0</td></tr><tr><td>numbapro</td><td>0.17.1</td></tr><tr><td colspan='2'>Sun Mar 29 19:32:55 2015 EDT</td></tr></table>"
      ],
      "text/latex": [
       "\\begin{tabular}{|l|l|}\\hline\n",
       "{\\bf Software} & {\\bf Version} \\\\ \\hline\\hline\n",
       "Python & 2.7.9 64bit [GCC 4.2.1 (Apple Inc. build 5577)] \\\\ \\hline\n",
       "IPython & 2.2.0 \\\\ \\hline\n",
       "OS & Darwin 13.4.0 x86\\_64 i386 64bit \\\\ \\hline\n",
       "numpy & 1.9.2 \\\\ \\hline\n",
       "pandas & 0.14.1 \\\\ \\hline\n",
       "numba & 0.17.0 \\\\ \\hline\n",
       "numbapro & 0.17.1 \\\\ \\hline\n",
       "\\hline \\multicolumn{2}{|l|}{Sun Mar 29 19:32:55 2015 EDT} \\\\ \\hline\n",
       "\\end{tabular}\n"
      ],
      "text/plain": [
       "Software versions\n",
       "Python 2.7.9 64bit [GCC 4.2.1 (Apple Inc. build 5577)]\n",
       "IPython 2.2.0\n",
       "OS Darwin 13.4.0 x86_64 i386 64bit\n",
       "numpy 1.9.2\n",
       "pandas 0.14.1\n",
       "numba 0.17.0\n",
       "numbapro 0.17.1\n",
       "Sun Mar 29 19:32:55 2015 EDT"
      ]
     },
     "execution_count": 57,
     "metadata": {},
     "output_type": "execute_result"
    }
   ],
   "source": [
    "%version_information numpy, pandas, numba, numbapro  "
   ]
  }
 ],
 "metadata": {
  "kernelspec": {
   "display_name": "Python 2",
   "language": "python",
   "name": "python2"
  },
  "language_info": {
   "codemirror_mode": {
    "name": "ipython",
    "version": 2
   },
   "file_extension": ".py",
   "mimetype": "text/x-python",
   "name": "python",
   "nbconvert_exporter": "python",
   "pygments_lexer": "ipython2",
   "version": "2.7.9"
  }
 },
 "nbformat": 4,
 "nbformat_minor": 0
}
