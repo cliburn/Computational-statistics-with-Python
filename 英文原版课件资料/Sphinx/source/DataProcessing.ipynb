{
 "metadata": {
  "name": "",
  "signature": "sha256:b3ae6fa85a469799f5349da2e4d37c5e04589262d90c2228e432ba6f5b4c64d0"
 },
 "nbformat": 3,
 "nbformat_minor": 0,
 "worksheets": [
  {
   "cells": [
    {
     "cell_type": "code",
     "collapsed": false,
     "input": [
      "import os\n",
      "import sys\n",
      "import glob\n",
      "import matplotlib.pyplot as plt\n",
      "import numpy as np\n",
      "import pandas as pd\n",
      "%matplotlib inline\n",
      "%precision 4"
     ],
     "language": "python",
     "metadata": {},
     "outputs": [
      {
       "metadata": {},
       "output_type": "pyout",
       "prompt_number": 1,
       "text": [
        "u'%.4f'"
       ]
      }
     ],
     "prompt_number": 1
    },
    {
     "cell_type": "markdown",
     "metadata": {},
     "source": [
      "Data science is OSEMN\n",
      "----\n",
      "\n",
      "According to a popular model, the elements of data science are\n",
      "\n",
      "- Obtaining data\n",
      "- Scrubbing data\n",
      "- Exploring data\n",
      "- Modeling data\n",
      "- iNterpreting data\n",
      "\n",
      "and hence the acronym OSEMN, pronounced as \"Awesome\".\n",
      "\n",
      "This lecture will review the O and S parts, often stated to consume between 50-80% of your time in a complex data analysis pipeline."
     ]
    },
    {
     "cell_type": "markdown",
     "metadata": {},
     "source": [
      "Obtaining data\n",
      "----\n",
      "\n",
      "Data may be generated from clinical trials, scientific experiments, surveys, web pages, computer simulations  etc. There are many ways that data can be stored, and part of the initial challenge is simply reading in the data so that it can be analysed."
     ]
    },
    {
     "cell_type": "markdown",
     "metadata": {},
     "source": [
      "### Remote data"
     ]
    },
    {
     "cell_type": "markdown",
     "metadata": {},
     "source": [
      "**Alternatives using command line commandes**"
     ]
    },
    {
     "cell_type": "code",
     "collapsed": false,
     "input": [
      "! wget http://www.gutenberg.org/cache/epub/11/pg11.txt -O alice.txt"
     ],
     "language": "python",
     "metadata": {},
     "outputs": [
      {
       "output_type": "stream",
       "stream": "stdout",
       "text": [
        "--2015-01-14 18:46:03--  http://www.gutenberg.org/cache/epub/11/pg11.txt\r\n",
        "Resolving www.gutenberg.org... 152.19.134.47\r\n",
        "Connecting to www.gutenberg.org|152.19.134.47|:80... connected.\r\n",
        "HTTP request sent, awaiting response... "
       ]
      },
      {
       "output_type": "stream",
       "stream": "stdout",
       "text": [
        "200 OK\r\n",
        "Length: 167518 (164K) [text/plain]\r\n",
        "Saving to: 'alice.txt'\r\n",
        "\r\n",
        "\r",
        " 0% [                                       ] 0           --.-K/s              \r",
        "100%[======================================>] 167,518     --.-K/s   in 0.02s   \r\n",
        "\r\n",
        "2015-01-14 18:46:03 (7.93 MB/s) - 'alice.txt' saved [167518/167518]\r\n",
        "\r\n"
       ]
      }
     ],
     "prompt_number": 2
    },
    {
     "cell_type": "code",
     "collapsed": false,
     "input": [
      "! curl http://www.gutenberg.org/cache/epub/11/pg11.txt > alice.txt"
     ],
     "language": "python",
     "metadata": {},
     "outputs": [
      {
       "output_type": "stream",
       "stream": "stdout",
       "text": [
        "  % Total    % Received % Xferd  Average Speed   Time    Time     Time  Current\r\n",
        "                                 Dload  Upload   Total   Spent    Left  Speed\r\n",
        "\r",
        "  0     0    0     0    0     0      0      0 --:--:-- --:--:-- --:--:--     0"
       ]
      },
      {
       "output_type": "stream",
       "stream": "stdout",
       "text": [
        "\r",
        "100  163k  100  163k    0     0  1490k      0 --:--:-- --:--:-- --:--:-- 1500k\r\n"
       ]
      }
     ],
     "prompt_number": 3
    },
    {
     "cell_type": "markdown",
     "metadata": {},
     "source": [
      "**Alternatives Using Python**"
     ]
    },
    {
     "cell_type": "code",
     "collapsed": false,
     "input": [
      "import urllib2\n",
      "text = urllib2.urlopen('http://www.gutenberg.org/cache/epub/11/pg11.txt').read()"
     ],
     "language": "python",
     "metadata": {},
     "outputs": [],
     "prompt_number": 4
    },
    {
     "cell_type": "code",
     "collapsed": false,
     "input": [
      "import requests\n",
      "test = requests.get('http://www.gutenberg.org/cache/epub/11/pg11.txt').text"
     ],
     "language": "python",
     "metadata": {},
     "outputs": [],
     "prompt_number": 5
    },
    {
     "cell_type": "markdown",
     "metadata": {},
     "source": [
      "### Plain text files\n",
      "\n",
      "We can open plain text files with the `open` function. This is a common and very flexible format, but because no structure is involved, custom processing methods to extract the information needed may be necessary."
     ]
    },
    {
     "cell_type": "markdown",
     "metadata": {},
     "source": [
      "**Example 1**: Suppose we want to find out how often the words alice and drink occur in the same sentence in Alice in Wonderland."
     ]
    },
    {
     "cell_type": "code",
     "collapsed": false,
     "input": [
      "# We first need to get the book from Project Gutenburg\n",
      "\n",
      "import os\n",
      "if not os.path.exists('alice.txt'):\n",
      "    ! wget http://www.gutenberg.org/cache/epub/11/pg11.txt -O alice.txt"
     ],
     "language": "python",
     "metadata": {},
     "outputs": [],
     "prompt_number": 6
    },
    {
     "cell_type": "code",
     "collapsed": false,
     "input": [
      "# now read the book into memory, clean out blank lines and convert to lowercase\n",
      "alice = open('alice.txt', 'r').read().replace('\\r\\n', ' ').lower()"
     ],
     "language": "python",
     "metadata": {},
     "outputs": [],
     "prompt_number": 7
    },
    {
     "cell_type": "code",
     "collapsed": false,
     "input": [
      "# split into sentence\n",
      "# simplistically assume that every sentence ends with a '.', '?' or '!'\n",
      "import re\n",
      "\n",
      "stop_pattern = '\\.|\\?|\\!'\n",
      "sentences = re.split(stop_pattern, alice)"
     ],
     "language": "python",
     "metadata": {},
     "outputs": [],
     "prompt_number": 8
    },
    {
     "cell_type": "code",
     "collapsed": false,
     "input": [
      "# find sentences that contain both 'alice' and 'drink'\n",
      "\n",
      "print\n",
      "\n",
      "for i, sentence in enumerate(sentences):\n",
      "    if 'alice' in sentence and 'drink' in sentence:\n",
      "        print i, sentence, '\\n'"
     ],
     "language": "python",
     "metadata": {},
     "outputs": [
      {
       "output_type": "stream",
       "stream": "stdout",
       "text": [
        "\n",
        "66   there seemed to be no use in waiting by the little door, so she went back to the table, half hoping she might find another key on it, or at any rate a book of rules for shutting people up like telescopes: this time she found a little bottle on it, ('which certainly was not here before,' said alice,) and round the neck of the bottle was a paper label, with the words 'drink me' beautifully printed on it in large letters \n",
        "\n",
        "67   it was all very well to say 'drink me,' but the wise little alice was not going to do that in a hurry \n",
        "\n",
        "469  alice looked all round her at the flowers and the blades of grass, but she did not see anything that looked like the right thing to eat or drink under the circumstances \n",
        "\n",
        "882 ' said alice, who always took a great interest in questions of eating and drinking \n",
        "\n"
       ]
      }
     ],
     "prompt_number": 9
    },
    {
     "cell_type": "markdown",
     "metadata": {},
     "source": [
      "### Delimited files\n",
      "\n",
      "Plain text files can also have a delimited structure - basically a table with rows and columns, where eacy column is separated by some separator, commonly a comma (CSV) or tab. There may or may not be additional comments or a header row in the file."
     ]
    },
    {
     "cell_type": "code",
     "collapsed": false,
     "input": [
      "%%file example.csv\n",
      "# This is a comment\n",
      "# This is another comment\n",
      "alice,60,1.56\n",
      "bob,72,1.75\n",
      "david,84,1.82"
     ],
     "language": "python",
     "metadata": {},
     "outputs": [
      {
       "output_type": "stream",
       "stream": "stdout",
       "text": [
        "Overwriting example.csv\n"
       ]
      }
     ],
     "prompt_number": 10
    },
    {
     "cell_type": "code",
     "collapsed": false,
     "input": [
      "# Using line by line parsing\n",
      "import csv\n",
      "\n",
      "with open('example.csv') as f:\n",
      "    # use a generator expression to strip out comments\n",
      "    for line in csv.reader(row for row in f if not row.startswith('#')):\n",
      "        name, wt, ht = line\n",
      "        wt, ht = map(float, (wt, ht))\n",
      "        print 'BMI of %s = %.2f' % (name, wt/(ht*ht))"
     ],
     "language": "python",
     "metadata": {},
     "outputs": [
      {
       "output_type": "stream",
       "stream": "stdout",
       "text": [
        "BMI of alice = 24.65\n",
        "BMI of bob = 23.51\n",
        "BMI of david = 25.36\n"
       ]
      }
     ],
     "prompt_number": 11
    },
    {
     "cell_type": "code",
     "collapsed": false,
     "input": [
      "# Often it is most convenient to read it into a Pandas dataframe\n",
      "\n",
      "import pandas as pd\n",
      "\n",
      "df = pd.read_csv('example.csv', comment='#', header=None)\n",
      "df.columns = ['name', 'wt', 'ht']\n",
      "df['bmi'] = df['wt']/(df['ht']*df['ht'])\n",
      "df"
     ],
     "language": "python",
     "metadata": {},
     "outputs": [
      {
       "html": [
        "<div style=\"max-height:1000px;max-width:1500px;overflow:auto;\">\n",
        "<table border=\"1\" class=\"dataframe\">\n",
        "  <thead>\n",
        "    <tr style=\"text-align: right;\">\n",
        "      <th></th>\n",
        "      <th>name</th>\n",
        "      <th>wt</th>\n",
        "      <th>ht</th>\n",
        "      <th>bmi</th>\n",
        "    </tr>\n",
        "  </thead>\n",
        "  <tbody>\n",
        "    <tr>\n",
        "      <th>0</th>\n",
        "      <td> alice</td>\n",
        "      <td> 60</td>\n",
        "      <td> 1.56</td>\n",
        "      <td> 24.654832</td>\n",
        "    </tr>\n",
        "    <tr>\n",
        "      <th>1</th>\n",
        "      <td>   bob</td>\n",
        "      <td> 72</td>\n",
        "      <td> 1.75</td>\n",
        "      <td> 23.510204</td>\n",
        "    </tr>\n",
        "    <tr>\n",
        "      <th>2</th>\n",
        "      <td> david</td>\n",
        "      <td> 84</td>\n",
        "      <td> 1.82</td>\n",
        "      <td> 25.359256</td>\n",
        "    </tr>\n",
        "  </tbody>\n",
        "</table>\n",
        "</div>"
       ],
       "metadata": {},
       "output_type": "pyout",
       "prompt_number": 12,
       "text": [
        "    name  wt    ht        bmi\n",
        "0  alice  60  1.56  24.654832\n",
        "1    bob  72  1.75  23.510204\n",
        "2  david  84  1.82  25.359256"
       ]
      }
     ],
     "prompt_number": 12
    },
    {
     "cell_type": "markdown",
     "metadata": {},
     "source": [
      "### JSON files\n",
      "\n",
      "JSON is JavaScript Object Notation - a format used widely for web-based resource sharing. It is very similar in structure to a Python nested dictionary. Here is an example from http://json.org/example"
     ]
    },
    {
     "cell_type": "code",
     "collapsed": false,
     "input": [
      "%%file example.json\n",
      "{\n",
      "    \"glossary\": {\n",
      "        \"title\": \"example glossary\",\n",
      "\t\t\"GlossDiv\": {\n",
      "            \"title\": \"S\",\n",
      "\t\t\t\"GlossList\": {\n",
      "                \"GlossEntry\": {\n",
      "                    \"ID\": \"SGML\",\n",
      "\t\t\t\t\t\"SortAs\": \"SGML\",\n",
      "\t\t\t\t\t\"GlossTerm\": \"Standard Generalized Markup Language\",\n",
      "\t\t\t\t\t\"Acronym\": \"SGML\",\n",
      "\t\t\t\t\t\"Abbrev\": \"ISO 8879:1986\",\n",
      "\t\t\t\t\t\"GlossDef\": {\n",
      "                        \"para\": \"A meta-markup language, used to create markup languages such as DocBook.\",\n",
      "\t\t\t\t\t\t\"GlossSeeAlso\": [\"GML\", \"XML\"]\n",
      "                    },\n",
      "\t\t\t\t\t\"GlossSee\": \"markup\"\n",
      "                }\n",
      "            }\n",
      "        }\n",
      "    }\n",
      "}"
     ],
     "language": "python",
     "metadata": {},
     "outputs": [
      {
       "output_type": "stream",
       "stream": "stdout",
       "text": [
        "Overwriting example.json\n"
       ]
      }
     ],
     "prompt_number": 13
    },
    {
     "cell_type": "code",
     "collapsed": false,
     "input": [
      "import json\n",
      "data = json.load(open('example.json'))"
     ],
     "language": "python",
     "metadata": {},
     "outputs": [],
     "prompt_number": 14
    },
    {
     "cell_type": "code",
     "collapsed": false,
     "input": [
      "# data is a nested Python dictionary\n",
      "data"
     ],
     "language": "python",
     "metadata": {},
     "outputs": [
      {
       "metadata": {},
       "output_type": "pyout",
       "prompt_number": 15,
       "text": [
        "{u'glossary': {u'GlossDiv': {u'GlossList': {u'GlossEntry': {u'Abbrev': u'ISO 8879:1986',\n",
        "     u'Acronym': u'SGML',\n",
        "     u'GlossDef': {u'GlossSeeAlso': [u'GML', u'XML'],\n",
        "      u'para': u'A meta-markup language, used to create markup languages such as DocBook.'},\n",
        "     u'GlossSee': u'markup',\n",
        "     u'GlossTerm': u'Standard Generalized Markup Language',\n",
        "     u'ID': u'SGML',\n",
        "     u'SortAs': u'SGML'}},\n",
        "   u'title': u'S'},\n",
        "  u'title': u'example glossary'}}"
       ]
      }
     ],
     "prompt_number": 15
    },
    {
     "cell_type": "code",
     "collapsed": false,
     "input": [
      "# and can be parsed using standard key lookups\n",
      "data['glossary']['GlossDiv']['GlossList']"
     ],
     "language": "python",
     "metadata": {},
     "outputs": [
      {
       "metadata": {},
       "output_type": "pyout",
       "prompt_number": 16,
       "text": [
        "{u'GlossEntry': {u'Abbrev': u'ISO 8879:1986',\n",
        "  u'Acronym': u'SGML',\n",
        "  u'GlossDef': {u'GlossSeeAlso': [u'GML', u'XML'],\n",
        "   u'para': u'A meta-markup language, used to create markup languages such as DocBook.'},\n",
        "  u'GlossSee': u'markup',\n",
        "  u'GlossTerm': u'Standard Generalized Markup Language',\n",
        "  u'ID': u'SGML',\n",
        "  u'SortAs': u'SGML'}}"
       ]
      }
     ],
     "prompt_number": 16
    },
    {
     "cell_type": "markdown",
     "metadata": {},
     "source": [
      "### Web scraping\n",
      "\n",
      "Sometimes we want to get data from a web page that does not provide an API to do so programmatically. In such cases, we have to resort to *web scraping*."
     ]
    },
    {
     "cell_type": "code",
     "collapsed": false,
     "input": [
      "!pip install Scrapy"
     ],
     "language": "python",
     "metadata": {},
     "outputs": [
      {
       "output_type": "stream",
       "stream": "stdout",
       "text": [
        "Requirement already satisfied (use --upgrade to upgrade): Scrapy in /Users/cliburn/anaconda/lib/python2.7/site-packages\r\n",
        "Cleaning up...\r\n"
       ]
      }
     ],
     "prompt_number": 17
    },
    {
     "cell_type": "code",
     "collapsed": false,
     "input": [
      "if not os.path.exists('dmoz'):\n",
      "    ! scrapy startproject dmoz"
     ],
     "language": "python",
     "metadata": {},
     "outputs": [
      {
       "output_type": "stream",
       "stream": "stdout",
       "text": [
        "New Scrapy project 'dmoz' created in:\r\n",
        "    /Users/cliburn/git/STA663-2015/Lectures/Topic03_Data_Munging/dmoz\r\n",
        "\r\n",
        "You can start your first spider with:\r\n",
        "    cd dmoz\r\n",
        "    scrapy genspider example example.com\r\n"
       ]
      }
     ],
     "prompt_number": 18
    },
    {
     "cell_type": "code",
     "collapsed": false,
     "input": [
      "%%file dmoz/dmoz/items.py\n",
      "import scrapy\n",
      "\n",
      "class DmozItem(scrapy.Item):\n",
      "    title = scrapy.Field()\n",
      "    link = scrapy.Field()\n",
      "    desc = scrapy.Field()"
     ],
     "language": "python",
     "metadata": {},
     "outputs": [
      {
       "output_type": "stream",
       "stream": "stdout",
       "text": [
        "Overwriting dmoz/dmoz/items.py\n"
       ]
      }
     ],
     "prompt_number": 19
    },
    {
     "cell_type": "code",
     "collapsed": false,
     "input": [
      "%%file dmoz/dmoz/spiders/dmoz_spider.py\n",
      "import scrapy\n",
      "\n",
      "from dmoz.items import DmozItem\n",
      "\n",
      "class DmozSpider(scrapy.Spider):\n",
      "    name = \"dmoz\"\n",
      "    allowed_domains = [\"dmoz.org\"]\n",
      "    start_urls = [\n",
      "        \"http://www.dmoz.org/Computers/Programming/Languages/Python/Books/\",\n",
      "        \"http://www.dmoz.org/Computers/Programming/Languages/Python/Resources/\"\n",
      "    ]\n",
      "\n",
      "    def parse(self, response):\n",
      "        for sel in response.xpath('//ul/li'):\n",
      "            item = DmozItem()\n",
      "            item['title'] = sel.xpath('a/text()').extract()\n",
      "            item['link'] = sel.xpath('a/@href').extract()\n",
      "            item['desc'] = sel.xpath('text()').extract()\n",
      "            yield item"
     ],
     "language": "python",
     "metadata": {},
     "outputs": [
      {
       "output_type": "stream",
       "stream": "stdout",
       "text": [
        "Writing dmoz/dmoz/spiders/dmoz_spider.py\n"
       ]
      }
     ],
     "prompt_number": 20
    },
    {
     "cell_type": "code",
     "collapsed": false,
     "input": [
      "%%bash\n",
      "cd dmoz\n",
      "scrapy crawl dmoz --nolog -o scraped_data.json"
     ],
     "language": "python",
     "metadata": {},
     "outputs": [],
     "prompt_number": 21
    },
    {
     "cell_type": "code",
     "collapsed": false,
     "input": [
      "dmoz = json.load(open('dmoz/scraped_data.json'))\n",
      "for item in dmoz:\n",
      "    if item['title'] and item['link']:\n",
      "        if item['link'][0].startswith('http'):\n",
      "            print '%s: %s' % (item['title'][0], item['link'][0])"
     ],
     "language": "python",
     "metadata": {},
     "outputs": [
      {
       "output_type": "stream",
       "stream": "stdout",
       "text": [
        "eff-bot's Daily Python URL: http://www.pythonware.com/daily/\n",
        "Free Python and Zope Hosting Directory: http://www.oinko.net/freepython/\n",
        "O'Reilly Python Center: http://oreilly.com/python/\n",
        "Python Developer's Guide: https://www.python.org/dev/\n",
        "Social Bug: http://win32com.goermezer.de/\n",
        "Core Python Programming: http://www.pearsonhighered.com/educator/academic/product/0,,0130260363,00%2Ben-USS_01DBC.html\n",
        "Data Structures and Algorithms with Object-Oriented Design Patterns in Python: http://www.brpreiss.com/books/opus7/html/book.html\n",
        "Dive Into Python 3: http://www.diveintopython.net/\n",
        "Foundations of Python Network Programming: http://rhodesmill.org/brandon/2011/foundations-of-python-network-programming/\n",
        "Free Python books: http://www.techbooksforfree.com/perlpython.shtml\n",
        "FreeTechBooks: Python Scripting Language: http://www.freetechbooks.com/python-f6.html\n",
        "How to Think Like a Computer Scientist: Learning with Python: http://greenteapress.com/thinkpython/\n",
        "An Introduction to Python: http://www.network-theory.co.uk/python/intro/\n",
        "Learn to Program Using Python: http://www.freenetpages.co.uk/hp/alan.gauld/\n",
        "Making Use of Python: http://www.wiley.com/WileyCDA/WileyTitle/productCd-0471219754.html\n",
        "Practical Python: http://hetland.org/writing/practical-python/\n",
        "Pro Python System Administration: http://sysadminpy.com/\n",
        "Programming in Python 3 (Second Edition): http://www.qtrac.eu/py3book.html\n",
        "Python 2.1 Bible: http://www.wiley.com/WileyCDA/WileyTitle/productCd-0764548077.html\n",
        "Python 3 Object Oriented Programming: https://www.packtpub.com/python-3-object-oriented-programming/book\n",
        "Python Language Reference Manual: http://www.network-theory.co.uk/python/language/\n",
        "Python Programming Patterns: http://www.pearsonhighered.com/educator/academic/product/0,,0130409561,00%2Ben-USS_01DBC.html\n",
        "Python Programming with the Java Class Libraries: A Tutorial for Building Web and Enterprise Applications with Jython: http://www.informit.com/store/product.aspx?isbn=0201616165&redir=1\n",
        "Python: Visual QuickStart Guide: http://www.pearsonhighered.com/educator/academic/product/0,,0201748843,00%2Ben-USS_01DBC.html\n",
        "Sams Teach Yourself Python in 24 Hours: http://www.informit.com/store/product.aspx?isbn=0672317354\n",
        "Text Processing in Python: http://gnosis.cx/TPiP/\n",
        "XML Processing with Python: http://www.informit.com/store/product.aspx?isbn=0130211192\n"
       ]
      }
     ],
     "prompt_number": 22
    },
    {
     "cell_type": "markdown",
     "metadata": {},
     "source": [
      "### HDF5\n",
      "\n",
      "HDF5 is a hierarchical format often used to store complex scientific data. For instance, Matlab now saves its data to HDF5. It is particularly useful to store complex hierarchical data sets with associated metadata, for example, the results of a computer simulation experiment.\n",
      "\n",
      "The main concepts associated with HDF5 are \n",
      "\n",
      "- file: container for hierachical data - serves as 'root' for tree\n",
      "- group: a node for a tree\n",
      "- dataset: array for numeric data - can be huge\n",
      "- attribute: small pieces of metadata that provide additional context"
     ]
    },
    {
     "cell_type": "code",
     "collapsed": false,
     "input": [
      "import h5py\n",
      "import numpy as np"
     ],
     "language": "python",
     "metadata": {},
     "outputs": [],
     "prompt_number": 23
    },
    {
     "cell_type": "code",
     "collapsed": false,
     "input": [
      "# creating a HDF5 file\n",
      "import datetime\n",
      "\n",
      "if not os.path.exists('example.hdf5'):\n",
      "\n",
      "    with h5py.File('example.hdf5') as f:\n",
      "        project = f.create_group('project')\n",
      "        project.attrs.create('name', 'My project')\n",
      "        project.attrs.create('date', str(datetime.date.today()))\n",
      "\n",
      "        expt1 = project.create_group('expt1')\n",
      "        expt2 = project.create_group('expt2')\n",
      "        expt1.create_dataset('counts', (100,), dtype='i')\n",
      "        expt2.create_dataset('values', (1000,), dtype='f')\n",
      "\n",
      "        expt1['counts'][:] = range(100)\n",
      "        expt2['values'][:] = np.random.random(1000)"
     ],
     "language": "python",
     "metadata": {},
     "outputs": [],
     "prompt_number": 24
    },
    {
     "cell_type": "code",
     "collapsed": false,
     "input": [
      "with h5py.File('example.hdf5') as f:\n",
      "    project = f['project']\n",
      "    print project.attrs['name']\n",
      "    print project.attrs['date']\n",
      "    print project['expt1']['counts'][:10]\n",
      "    print project['expt2']['values'][:10]"
     ],
     "language": "python",
     "metadata": {},
     "outputs": [
      {
       "output_type": "stream",
       "stream": "stdout",
       "text": [
        "My project\n",
        "2014-12-17\n",
        "[0 1 2 3 4 5 6 7 8 9]\n",
        "[ 0.  0.  0.  0.  0.  0.  0.  0.  0.  0.]\n"
       ]
      }
     ],
     "prompt_number": 25
    },
    {
     "cell_type": "markdown",
     "metadata": {},
     "source": [
      "### Relational databases\n",
      "\n",
      "Relational databases are comprised of tables, where each row consists of a tuple of columns. Each row is uniquely identified by a *primary key*, and tables can be linked via *foreign keys*.\n",
      "\n",
      "We will illustrate the concepts of table querying the [Chinook database](http://chinookdatabase.codeplex.com/). From the online description, \"The Chinook data model represents a digital media store, including tables for artists, albums, media tracks, invoices and customers.\""
     ]
    },
    {
     "cell_type": "code",
     "collapsed": false,
     "input": [
      "from IPython.display import Image\n",
      "\n",
      "Image(url='http://lh4.ggpht.com/_oKo6zFhdD98/SWFPtyfHJFI/AAAAAAAAAMc/GdrlzeBNsZM/s800/ChinookDatabaseSchema1.1.png')"
     ],
     "language": "python",
     "metadata": {},
     "outputs": [
      {
       "html": [
        "<img src=\"http://lh4.ggpht.com/_oKo6zFhdD98/SWFPtyfHJFI/AAAAAAAAAMc/GdrlzeBNsZM/s800/ChinookDatabaseSchema1.1.png\"/>"
       ],
       "metadata": {},
       "output_type": "pyout",
       "prompt_number": 26,
       "text": [
        "<IPython.core.display.Image at 0x114d27a50>"
       ]
      }
     ],
     "prompt_number": 26
    },
    {
     "cell_type": "code",
     "collapsed": false,
     "input": [
      "import sqlite3\n",
      "\n",
      "# first connect to database and get a cursor for executing commands\n",
      "conn = sqlite3.connect('Chinook.db')\n",
      "cr = conn.cursor()"
     ],
     "language": "python",
     "metadata": {},
     "outputs": [],
     "prompt_number": 27
    },
    {
     "cell_type": "code",
     "collapsed": false,
     "input": [
      "# What tables are in the database?\n",
      "cr.execute(\"select name from sqlite_master where type = 'table';\")\n",
      "print cr.fetchall()"
     ],
     "language": "python",
     "metadata": {},
     "outputs": [
      {
       "output_type": "stream",
       "stream": "stdout",
       "text": [
        "[(u'Album',), (u'Artist',), (u'Customer',), (u'Employee',), (u'Genre',), (u'Invoice',), (u'InvoiceLine',), (u'MediaType',), (u'Playlist',), (u'PlaylistTrack',), (u'Track',)]\n"
       ]
      }
     ],
     "prompt_number": 28
    },
    {
     "cell_type": "code",
     "collapsed": false,
     "input": [
      "# What is the structure of the Album table?\n",
      "cr.execute(\"select sql from sqlite_master where type = 'table' and name = 'Album';\" )\n",
      "print cr.fetchone()[0]"
     ],
     "language": "python",
     "metadata": {},
     "outputs": [
      {
       "output_type": "stream",
       "stream": "stdout",
       "text": [
        "CREATE TABLE [Album]\n",
        "(\n",
        "    [AlbumId] INTEGER  NOT NULL,\n",
        "    [Title] NVARCHAR(160)  NOT NULL,\n",
        "    [ArtistId] INTEGER  NOT NULL,\n",
        "    CONSTRAINT [PK_Album] PRIMARY KEY  ([AlbumId]),\n",
        "    FOREIGN KEY ([ArtistId]) REFERENCES [Artist] ([ArtistId]) \n",
        "\t\tON DELETE NO ACTION ON UPDATE NO ACTION\n",
        ")\n"
       ]
      }
     ],
     "prompt_number": 29
    },
    {
     "cell_type": "code",
     "collapsed": false,
     "input": [
      "# What is the structure of the Artist table?\n",
      "cr.execute(\"select sql from sqlite_master where type = 'table' and name = 'Artist';\" )\n",
      "print cr.fetchone()[0]"
     ],
     "language": "python",
     "metadata": {},
     "outputs": [
      {
       "output_type": "stream",
       "stream": "stdout",
       "text": [
        "CREATE TABLE [Artist]\n",
        "(\n",
        "    [ArtistId] INTEGER  NOT NULL,\n",
        "    [Name] NVARCHAR(120),\n",
        "    CONSTRAINT [PK_Artist] PRIMARY KEY  ([ArtistId])\n",
        ")\n"
       ]
      }
     ],
     "prompt_number": 30
    },
    {
     "cell_type": "code",
     "collapsed": false,
     "input": [
      "# List a few items\n",
      "cr.execute(\"select * from Album limit 6\")\n",
      "cr.fetchall()"
     ],
     "language": "python",
     "metadata": {},
     "outputs": [
      {
       "metadata": {},
       "output_type": "pyout",
       "prompt_number": 31,
       "text": [
        "[(1, u'For Those About To Rock We Salute You', 1),\n",
        " (2, u'Balls to the Wall', 2),\n",
        " (3, u'Restless and Wild', 2),\n",
        " (4, u'Let There Be Rock', 1),\n",
        " (5, u'Big Ones', 3),\n",
        " (6, u'Jagged Little Pill', 4)]"
       ]
      }
     ],
     "prompt_number": 31
    },
    {
     "cell_type": "code",
     "collapsed": false,
     "input": [
      "# find the artist who performed on the Album 'Big Ones'\n",
      "cmd = \"\"\"\n",
      "select Artist.Name from Artist, Album \n",
      "where Artist.ArtistId = Album.ArtistId\n",
      "and Album.Title = 'Big Ones';\n",
      "\"\"\"\n",
      "cr.execute(cmd)\n",
      "cr.fetchall()"
     ],
     "language": "python",
     "metadata": {},
     "outputs": [
      {
       "metadata": {},
       "output_type": "pyout",
       "prompt_number": 32,
       "text": [
        "[(u'Aerosmith',)]"
       ]
      }
     ],
     "prompt_number": 32
    },
    {
     "cell_type": "code",
     "collapsed": false,
     "input": [
      "# clean up\n",
      "cr.close()\n",
      "conn.close()"
     ],
     "language": "python",
     "metadata": {},
     "outputs": [],
     "prompt_number": 33
    },
    {
     "cell_type": "markdown",
     "metadata": {},
     "source": [
      "Scrubbing data\n",
      "----\n",
      "\n",
      "Scrubbing data refers to the preprocessing needed to prepare data for analysis. This may involve removing particular rows or columns, handling missing data, fixing inconsistencies due to data entry errors, transforming dates, generating derived variables, combining data from multiple sources, etc. Unfortunately, there is no one method that can handle all of the posisble data preprocessing needs; however, some familiarity with Python and packages such as those illustrated above will go a long way.\n",
      "\n",
      "For a real-life example of the amount of work required, see the [Bureau of Labor Statistics (US Government)](http://okfnlabs.org/bad-data/ex/bls-us-employment/) example.\n",
      "\n",
      "Here we will illustrate some simple data cleaning tasks that can be done with `pandas`."
     ]
    },
    {
     "cell_type": "code",
     "collapsed": false,
     "input": [
      "%%file bad_data.csv\n",
      "# This is a comment\n",
      "# This is another comment\n",
      "name,gender,weight,height\n",
      "alice,f,60,1.56\n",
      "bob,m,72,1.75\n",
      "charles,m,,91\n",
      "david,m,84,1.82\n",
      "edgar,m,1.77,93\n",
      "fanny,f,45,1.45"
     ],
     "language": "python",
     "metadata": {},
     "outputs": [
      {
       "output_type": "stream",
       "stream": "stdout",
       "text": [
        "Overwriting bad_data.csv\n"
       ]
      }
     ],
     "prompt_number": 34
    },
    {
     "cell_type": "code",
     "collapsed": false,
     "input": [
      "# Supppose we wanted to find the average Body Mass Index (BMI) \n",
      "# from the data set above\n",
      "\n",
      "import pandas as pd\n",
      "\n",
      "df = pd.read_csv('bad_data.csv', comment='#')"
     ],
     "language": "python",
     "metadata": {},
     "outputs": [],
     "prompt_number": 35
    },
    {
     "cell_type": "code",
     "collapsed": false,
     "input": [
      "df.describe()"
     ],
     "language": "python",
     "metadata": {},
     "outputs": [
      {
       "html": [
        "<div style=\"max-height:1000px;max-width:1500px;overflow:auto;\">\n",
        "<table border=\"1\" class=\"dataframe\">\n",
        "  <thead>\n",
        "    <tr style=\"text-align: right;\">\n",
        "      <th></th>\n",
        "      <th>weight</th>\n",
        "      <th>height</th>\n",
        "    </tr>\n",
        "  </thead>\n",
        "  <tbody>\n",
        "    <tr>\n",
        "      <th>count</th>\n",
        "      <td>  5.000000</td>\n",
        "      <td>  6.000000</td>\n",
        "    </tr>\n",
        "    <tr>\n",
        "      <th>mean</th>\n",
        "      <td> 52.554000</td>\n",
        "      <td> 31.763333</td>\n",
        "    </tr>\n",
        "    <tr>\n",
        "      <th>std</th>\n",
        "      <td> 31.853251</td>\n",
        "      <td> 46.663594</td>\n",
        "    </tr>\n",
        "    <tr>\n",
        "      <th>min</th>\n",
        "      <td>  1.770000</td>\n",
        "      <td>  1.450000</td>\n",
        "    </tr>\n",
        "    <tr>\n",
        "      <th>25%</th>\n",
        "      <td> 45.000000</td>\n",
        "      <td>  1.607500</td>\n",
        "    </tr>\n",
        "    <tr>\n",
        "      <th>50%</th>\n",
        "      <td> 60.000000</td>\n",
        "      <td>  1.785000</td>\n",
        "    </tr>\n",
        "    <tr>\n",
        "      <th>75%</th>\n",
        "      <td> 72.000000</td>\n",
        "      <td> 68.705000</td>\n",
        "    </tr>\n",
        "    <tr>\n",
        "      <th>max</th>\n",
        "      <td> 84.000000</td>\n",
        "      <td> 93.000000</td>\n",
        "    </tr>\n",
        "  </tbody>\n",
        "</table>\n",
        "</div>"
       ],
       "metadata": {},
       "output_type": "pyout",
       "prompt_number": 36,
       "text": [
        "          weight     height\n",
        "count   5.000000   6.000000\n",
        "mean   52.554000  31.763333\n",
        "std    31.853251  46.663594\n",
        "min     1.770000   1.450000\n",
        "25%    45.000000   1.607500\n",
        "50%    60.000000   1.785000\n",
        "75%    72.000000  68.705000\n",
        "max    84.000000  93.000000"
       ]
      }
     ],
     "prompt_number": 36
    },
    {
     "cell_type": "markdown",
     "metadata": {},
     "source": [
      "Something is strange - the average height is 31 meters!"
     ]
    },
    {
     "cell_type": "code",
     "collapsed": false,
     "input": [
      "# Plot the height and weight to see\n",
      "plt.boxplot([df.weight, df.height]),;"
     ],
     "language": "python",
     "metadata": {},
     "outputs": [
      {
       "metadata": {},
       "output_type": "display_data",
       "png": "[encoded data removed]",
       "text": [
        "<matplotlib.figure.Figure at 0x114d44110>"
       ]
      }
     ],
     "prompt_number": 37
    },
    {
     "cell_type": "code",
     "collapsed": false,
     "input": [
      "df[df.height > 2]"
     ],
     "language": "python",
     "metadata": {},
     "outputs": [
      {
       "html": [
        "<div style=\"max-height:1000px;max-width:1500px;overflow:auto;\">\n",
        "<table border=\"1\" class=\"dataframe\">\n",
        "  <thead>\n",
        "    <tr style=\"text-align: right;\">\n",
        "      <th></th>\n",
        "      <th>name</th>\n",
        "      <th>gender</th>\n",
        "      <th>weight</th>\n",
        "      <th>height</th>\n",
        "    </tr>\n",
        "  </thead>\n",
        "  <tbody>\n",
        "    <tr>\n",
        "      <th>2</th>\n",
        "      <td> charles</td>\n",
        "      <td> m</td>\n",
        "      <td>  NaN</td>\n",
        "      <td> 91</td>\n",
        "    </tr>\n",
        "    <tr>\n",
        "      <th>4</th>\n",
        "      <td>   edgar</td>\n",
        "      <td> m</td>\n",
        "      <td> 1.77</td>\n",
        "      <td> 93</td>\n",
        "    </tr>\n",
        "  </tbody>\n",
        "</table>\n",
        "</div>"
       ],
       "metadata": {},
       "output_type": "pyout",
       "prompt_number": 38,
       "text": [
        "      name gender  weight  height\n",
        "2  charles      m     NaN      91\n",
        "4    edgar      m    1.77      93"
       ]
      }
     ],
     "prompt_number": 38
    },
    {
     "cell_type": "code",
     "collapsed": false,
     "input": [
      "# weight and height appear to have been swapped\n",
      "# so we'll swap them back\n",
      "idx = df.height > 2\n",
      "df.ix[idx, 'height'], df.ix[idx, 'weight'] = df.ix[idx, 'weight'], df.ix[idx, 'height']\n",
      "df[df.height > 2]"
     ],
     "language": "python",
     "metadata": {},
     "outputs": [
      {
       "html": [
        "<div style=\"max-height:1000px;max-width:1500px;overflow:auto;\">\n",
        "<table border=\"1\" class=\"dataframe\">\n",
        "  <thead>\n",
        "    <tr style=\"text-align: right;\">\n",
        "      <th></th>\n",
        "      <th>name</th>\n",
        "      <th>gender</th>\n",
        "      <th>weight</th>\n",
        "      <th>height</th>\n",
        "    </tr>\n",
        "  </thead>\n",
        "  <tbody>\n",
        "  </tbody>\n",
        "</table>\n",
        "</div>"
       ],
       "metadata": {},
       "output_type": "pyout",
       "prompt_number": 39,
       "text": [
        "Empty DataFrame\n",
        "Columns: [name, gender, weight, height]\n",
        "Index: []"
       ]
      }
     ],
     "prompt_number": 39
    },
    {
     "cell_type": "code",
     "collapsed": false,
     "input": [
      "df"
     ],
     "language": "python",
     "metadata": {},
     "outputs": [
      {
       "html": [
        "<div style=\"max-height:1000px;max-width:1500px;overflow:auto;\">\n",
        "<table border=\"1\" class=\"dataframe\">\n",
        "  <thead>\n",
        "    <tr style=\"text-align: right;\">\n",
        "      <th></th>\n",
        "      <th>name</th>\n",
        "      <th>gender</th>\n",
        "      <th>weight</th>\n",
        "      <th>height</th>\n",
        "    </tr>\n",
        "  </thead>\n",
        "  <tbody>\n",
        "    <tr>\n",
        "      <th>0</th>\n",
        "      <td>   alice</td>\n",
        "      <td> f</td>\n",
        "      <td> 60</td>\n",
        "      <td> 1.56</td>\n",
        "    </tr>\n",
        "    <tr>\n",
        "      <th>1</th>\n",
        "      <td>     bob</td>\n",
        "      <td> m</td>\n",
        "      <td> 72</td>\n",
        "      <td> 1.75</td>\n",
        "    </tr>\n",
        "    <tr>\n",
        "      <th>2</th>\n",
        "      <td> charles</td>\n",
        "      <td> m</td>\n",
        "      <td> 91</td>\n",
        "      <td>  NaN</td>\n",
        "    </tr>\n",
        "    <tr>\n",
        "      <th>3</th>\n",
        "      <td>   david</td>\n",
        "      <td> m</td>\n",
        "      <td> 84</td>\n",
        "      <td> 1.82</td>\n",
        "    </tr>\n",
        "    <tr>\n",
        "      <th>4</th>\n",
        "      <td>   edgar</td>\n",
        "      <td> m</td>\n",
        "      <td> 93</td>\n",
        "      <td> 1.77</td>\n",
        "    </tr>\n",
        "    <tr>\n",
        "      <th>5</th>\n",
        "      <td>   fanny</td>\n",
        "      <td> f</td>\n",
        "      <td> 45</td>\n",
        "      <td> 1.45</td>\n",
        "    </tr>\n",
        "  </tbody>\n",
        "</table>\n",
        "</div>"
       ],
       "metadata": {},
       "output_type": "pyout",
       "prompt_number": 40,
       "text": [
        "      name gender  weight  height\n",
        "0    alice      f      60    1.56\n",
        "1      bob      m      72    1.75\n",
        "2  charles      m      91     NaN\n",
        "3    david      m      84    1.82\n",
        "4    edgar      m      93    1.77\n",
        "5    fanny      f      45    1.45"
       ]
      }
     ],
     "prompt_number": 40
    },
    {
     "cell_type": "code",
     "collapsed": false,
     "input": [
      "# we migth want to impute the missing height\n",
      "# perhaps by predicting it from a model of the relationship\n",
      "# bewtween height, weight and gender\n",
      "# but for now we'll just ignore rows with mising data\n",
      "\n",
      "df['BMI'] = df['weight']/(df['height']*df['height'])\n",
      "df"
     ],
     "language": "python",
     "metadata": {},
     "outputs": [
      {
       "html": [
        "<div style=\"max-height:1000px;max-width:1500px;overflow:auto;\">\n",
        "<table border=\"1\" class=\"dataframe\">\n",
        "  <thead>\n",
        "    <tr style=\"text-align: right;\">\n",
        "      <th></th>\n",
        "      <th>name</th>\n",
        "      <th>gender</th>\n",
        "      <th>weight</th>\n",
        "      <th>height</th>\n",
        "      <th>BMI</th>\n",
        "    </tr>\n",
        "  </thead>\n",
        "  <tbody>\n",
        "    <tr>\n",
        "      <th>0</th>\n",
        "      <td>   alice</td>\n",
        "      <td> f</td>\n",
        "      <td> 60</td>\n",
        "      <td> 1.56</td>\n",
        "      <td> 24.654832</td>\n",
        "    </tr>\n",
        "    <tr>\n",
        "      <th>1</th>\n",
        "      <td>     bob</td>\n",
        "      <td> m</td>\n",
        "      <td> 72</td>\n",
        "      <td> 1.75</td>\n",
        "      <td> 23.510204</td>\n",
        "    </tr>\n",
        "    <tr>\n",
        "      <th>2</th>\n",
        "      <td> charles</td>\n",
        "      <td> m</td>\n",
        "      <td> 91</td>\n",
        "      <td>  NaN</td>\n",
        "      <td>       NaN</td>\n",
        "    </tr>\n",
        "    <tr>\n",
        "      <th>3</th>\n",
        "      <td>   david</td>\n",
        "      <td> m</td>\n",
        "      <td> 84</td>\n",
        "      <td> 1.82</td>\n",
        "      <td> 25.359256</td>\n",
        "    </tr>\n",
        "    <tr>\n",
        "      <th>4</th>\n",
        "      <td>   edgar</td>\n",
        "      <td> m</td>\n",
        "      <td> 93</td>\n",
        "      <td> 1.77</td>\n",
        "      <td> 29.684956</td>\n",
        "    </tr>\n",
        "    <tr>\n",
        "      <th>5</th>\n",
        "      <td>   fanny</td>\n",
        "      <td> f</td>\n",
        "      <td> 45</td>\n",
        "      <td> 1.45</td>\n",
        "      <td> 21.403092</td>\n",
        "    </tr>\n",
        "  </tbody>\n",
        "</table>\n",
        "</div>"
       ],
       "metadata": {},
       "output_type": "pyout",
       "prompt_number": 41,
       "text": [
        "      name gender  weight  height        BMI\n",
        "0    alice      f      60    1.56  24.654832\n",
        "1      bob      m      72    1.75  23.510204\n",
        "2  charles      m      91     NaN        NaN\n",
        "3    david      m      84    1.82  25.359256\n",
        "4    edgar      m      93    1.77  29.684956\n",
        "5    fanny      f      45    1.45  21.403092"
       ]
      }
     ],
     "prompt_number": 41
    },
    {
     "cell_type": "code",
     "collapsed": false,
     "input": [
      "# And finally, we calcuate the mean BMI by gender\n",
      "df.groupby('gender')['BMI'].mean()"
     ],
     "language": "python",
     "metadata": {},
     "outputs": [
      {
       "metadata": {},
       "output_type": "pyout",
       "prompt_number": 42,
       "text": [
        "gender\n",
        "f         23.028962\n",
        "m         26.184806\n",
        "Name: BMI, dtype: float64"
       ]
      }
     ],
     "prompt_number": 42
    },
    {
     "cell_type": "markdown",
     "metadata": {},
     "source": [
      "<font color=red>Exercises</font>\n",
      "----"
     ]
    },
    {
     "cell_type": "markdown",
     "metadata": {},
     "source": [
      "**1**. Write the following sentences to a file \"hello.txt\" using `open` and `write`. There should be 3 lines in the resulting file.\n",
      "```\n",
      "Hello, world.\n",
      "Goodbye, cruel world.\n",
      "The world is your oyster.\n",
      "```"
     ]
    },
    {
     "cell_type": "code",
     "collapsed": false,
     "input": [
      "# YOUR CODE HERE\n",
      "\n",
      "\n"
     ],
     "language": "python",
     "metadata": {},
     "outputs": [],
     "prompt_number": 43
    },
    {
     "cell_type": "markdown",
     "metadata": {},
     "source": [
      "**2**. Using a `for` loop and `open`, print only the lines from the file 'hello.txt' that begin wtih 'Hello' or 'The'."
     ]
    },
    {
     "cell_type": "code",
     "collapsed": false,
     "input": [
      "# YOUR CODE HERE\n",
      "\n",
      "\n"
     ],
     "language": "python",
     "metadata": {},
     "outputs": [],
     "prompt_number": 44
    },
    {
     "cell_type": "markdown",
     "metadata": {},
     "source": [
      "**3**. Most of the time, tabular files can be read corectly using convenience functions from pandas. Sometimes, however, line-by-line processing of a file is unavoidable, typically when the file originated from an Excel spreadsheet. Use the `csv` module and a `for` loop to create a pandas DataFrame for the file `ugh.csv`."
     ]
    },
    {
     "cell_type": "code",
     "collapsed": false,
     "input": [
      "%%file ugh.csv\n",
      "# This is a comment\n",
      "# This is another comment\n",
      "name,weight,height\n",
      "alice, 60,1.56\n",
      "bob,72,1.75\n",
      "david,84,   1.82\n",
      "\n",
      "pooh,314.2,1.4\n",
      "# eeyore should be here but didn't come for follow up\n",
      "rabbit, 1.2,0.6\n",
      "\"king Rameses, the third\",85,1.82\n",
      "\n",
      "Notes: weight is in kg \n",
      "Note: height is in meters"
     ],
     "language": "python",
     "metadata": {},
     "outputs": [
      {
       "output_type": "stream",
       "stream": "stdout",
       "text": [
        "Overwriting ugh.csv\n"
       ]
      }
     ],
     "prompt_number": 45
    },
    {
     "cell_type": "code",
     "collapsed": false,
     "input": [
      "# The cleaned table should look like this\n",
      "import pandas as pd\n",
      "pd.read_csv('clean_ugh.csv')"
     ],
     "language": "python",
     "metadata": {},
     "outputs": [
      {
       "html": [
        "<div style=\"max-height:1000px;max-width:1500px;overflow:auto;\">\n",
        "<table border=\"1\" class=\"dataframe\">\n",
        "  <thead>\n",
        "    <tr style=\"text-align: right;\">\n",
        "      <th></th>\n",
        "      <th>Name</th>\n",
        "      <th>Weight</th>\n",
        "      <th>Height</th>\n",
        "    </tr>\n",
        "  </thead>\n",
        "  <tbody>\n",
        "    <tr>\n",
        "      <th>0</th>\n",
        "      <td>                   alice</td>\n",
        "      <td>  60.0</td>\n",
        "      <td>  60.0</td>\n",
        "    </tr>\n",
        "    <tr>\n",
        "      <th>1</th>\n",
        "      <td>                     bob</td>\n",
        "      <td>  72.0</td>\n",
        "      <td>  72.0</td>\n",
        "    </tr>\n",
        "    <tr>\n",
        "      <th>2</th>\n",
        "      <td>                   david</td>\n",
        "      <td>  84.0</td>\n",
        "      <td>  84.0</td>\n",
        "    </tr>\n",
        "    <tr>\n",
        "      <th>3</th>\n",
        "      <td>                    pooh</td>\n",
        "      <td> 314.2</td>\n",
        "      <td> 314.2</td>\n",
        "    </tr>\n",
        "    <tr>\n",
        "      <th>4</th>\n",
        "      <td>                  rabbit</td>\n",
        "      <td>   1.2</td>\n",
        "      <td>   1.2</td>\n",
        "    </tr>\n",
        "    <tr>\n",
        "      <th>5</th>\n",
        "      <td> king Rameses, the third</td>\n",
        "      <td>  85.0</td>\n",
        "      <td>  85.0</td>\n",
        "    </tr>\n",
        "  </tbody>\n",
        "</table>\n",
        "</div>"
       ],
       "metadata": {},
       "output_type": "pyout",
       "prompt_number": 46,
       "text": [
        "                      Name  Weight  Height\n",
        "0                    alice    60.0    60.0\n",
        "1                      bob    72.0    72.0\n",
        "2                    david    84.0    84.0\n",
        "3                     pooh   314.2   314.2\n",
        "4                   rabbit     1.2     1.2\n",
        "5  king Rameses, the third    85.0    85.0"
       ]
      }
     ],
     "prompt_number": 46
    },
    {
     "cell_type": "code",
     "collapsed": false,
     "input": [
      "# YOUR CODE HERE\n",
      "\n",
      "\n",
      "\n",
      "\n"
     ],
     "language": "python",
     "metadata": {},
     "outputs": [],
     "prompt_number": 47
    },
    {
     "cell_type": "markdown",
     "metadata": {},
     "source": [
      "**4**. Given the HDF5 file 'mystery.hdf5', plot a histogram of the `events` dataset in the subgroup `expt` of `simulation`. Give the plot a title of 'name (date)' where name and date are attributes of the `simulation` group."
     ]
    },
    {
     "cell_type": "code",
     "collapsed": false,
     "input": [
      "# YOUR CODE HERE\n",
      "\n",
      "with h5py.File('mystery.hdf5') as f:\n",
      "    pass\n",
      "\n",
      "\n"
     ],
     "language": "python",
     "metadata": {},
     "outputs": [],
     "prompt_number": 48
    },
    {
     "cell_type": "markdown",
     "metadata": {},
     "source": [
      "**5**. Make a table of the top 10 artists who have the most number of tracks in the SQLite3 database \"Chinook.db\". Since you wil take some time to master the arcana of SQL syntax, a template is provided for the SQL query. All you have to do is fill in the X's. This may require some Googling to figure out what the syntax means. It is also helpful to refer to the \"Chinook.db\" schema shown below."
     ]
    },
    {
     "cell_type": "code",
     "collapsed": false,
     "input": [
      "from IPython.display import Image\n",
      "\n",
      "Image(url='http://lh4.ggpht.com/_oKo6zFhdD98/SWFPtyfHJFI/AAAAAAAAAMc/GdrlzeBNsZM/s800/ChinookDatabaseSchema1.1.png')"
     ],
     "language": "python",
     "metadata": {},
     "outputs": [
      {
       "html": [
        "<img src=\"http://lh4.ggpht.com/_oKo6zFhdD98/SWFPtyfHJFI/AAAAAAAAAMc/GdrlzeBNsZM/s800/ChinookDatabaseSchema1.1.png\"/>"
       ],
       "metadata": {},
       "output_type": "pyout",
       "prompt_number": 49,
       "text": [
        "<IPython.core.display.Image at 0x114dc9350>"
       ]
      }
     ],
     "prompt_number": 49
    },
    {
     "cell_type": "code",
     "collapsed": false,
     "input": [
      "# YOUR CODE HERE\n",
      "\n",
      "sql = \"\"\"\n",
      "select X, count(X) as total \n",
      "from X, X, X \n",
      "where X = X and X = X \n",
      "group by X\n",
      "order by X desc \n",
      "limit X;\n",
      "\"\"\"\n",
      "\n",
      "with sqlite3.connect('Chinook.db') as conn:\n",
      "    cr = conn.cursor()\n",
      "    cr.execute(sql) \n",
      "    for row in cr.fetchall():\n",
      "        print row\n",
      "\n"
     ],
     "language": "python",
     "metadata": {},
     "outputs": []
    },
    {
     "cell_type": "code",
     "collapsed": false,
     "input": [],
     "language": "python",
     "metadata": {},
     "outputs": []
    }
   ],
   "metadata": {}
  }
 ]
}