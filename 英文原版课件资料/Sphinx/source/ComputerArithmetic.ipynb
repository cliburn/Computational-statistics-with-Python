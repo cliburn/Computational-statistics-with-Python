{
 "metadata": {
  "name": "",
  "signature": "sha256:88620bdb74d8414edb5dfc511429db03dd824c52da06bcd0f175d4ad2c0bdf2a"
 },
 "nbformat": 3,
 "nbformat_minor": 0,
 "worksheets": [
  {
   "cells": [
    {
     "cell_type": "code",
     "collapsed": false,
     "input": [
      "import os\n",
      "import sys\n",
      "import glob\n",
      "import matplotlib.pyplot as plt\n",
      "import numpy as np\n",
      "import pandas as pd\n",
      "%matplotlib inline\n",
      "%precision 4\n",
      "np.random.seed(1)\n",
      "plt.style.use('ggplot')"
     ],
     "language": "python",
     "metadata": {},
     "outputs": [],
     "prompt_number": 1
    },
    {
     "cell_type": "markdown",
     "metadata": {},
     "source": [
      "# Computer numbers and mathematics\n",
      "\n",
      "For this course, we will only be concerned with fixed point numbers (representing integers) and floating point numbers (representing reals). Since computer represnetaions of numbers are finite, they are only approximations to the integer ring and real field of mathematics. This notebook presents a small list of things to be mindful of to avoid unexpected results.\n",
      "\n",
      "**References**\n",
      "\n",
      "* <https://docs.python.org/2/tutorial/floatingpoint.html>\n",
      "* <http://introcs.cs.princeton.edu/java/lectures/9scientific.pdf>\n",
      "\n",
      "The Julia language has a particularly friendly and comprehensive intorduction to [computer arithmetic](http://julia.readthedocs.org/en/latest/manual/integers-and-floating-point-numbers/) which is also appicable to Python."
     ]
    },
    {
     "cell_type": "markdown",
     "metadata": {},
     "source": [
      "Some examples of numbers behaving badly\n",
      "----"
     ]
    },
    {
     "cell_type": "markdown",
     "metadata": {},
     "source": [
      "### Normalizing weights\n",
      "\n",
      "Given a set of weights, we want to nromalize them so that the sum = 1."
     ]
    },
    {
     "cell_type": "code",
     "collapsed": false,
     "input": [
      "def normalize(ws):\n",
      "    \"\"\"Returns normalized set of weights that sum to 1.\"\"\"\n",
      "    s = sum(ws)\n",
      "    return [w/s for w in ws]"
     ],
     "language": "python",
     "metadata": {},
     "outputs": [],
     "prompt_number": 2
    },
    {
     "cell_type": "code",
     "collapsed": false,
     "input": [
      "ws = [1,2,3,4,5]\n",
      "normalize(ws)"
     ],
     "language": "python",
     "metadata": {},
     "outputs": [
      {
       "metadata": {},
       "output_type": "pyout",
       "prompt_number": 3,
       "text": [
        "[0, 0, 0, 0, 0]"
       ]
      }
     ],
     "prompt_number": 3
    },
    {
     "cell_type": "markdown",
     "metadata": {},
     "source": [
      "### Comparing likleihoods\n",
      "\n",
      "Assuming indepdnece, the likelihood of observing some data points given a distributional model for each data point is the product of the likelihood for each data point."
     ]
    },
    {
     "cell_type": "code",
     "collapsed": false,
     "input": [
      "from scipy.stats import norm\n",
      "\n",
      "rv1 = norm(0, 1)\n",
      "rv2 = norm(0, 3)\n",
      "\n",
      "xs = np.random.normal(0, 3, 1000)\n",
      "likelihood1 = np.prod(rv1.pdf(xs))\n",
      "likelihood2 = np.prod(rv2.pdf(xs))\n",
      "likelihood2 > likelihood1"
     ],
     "language": "python",
     "metadata": {},
     "outputs": [
      {
       "metadata": {},
       "output_type": "pyout",
       "prompt_number": 4,
       "text": [
        "False"
       ]
      }
     ],
     "prompt_number": 4
    },
    {
     "cell_type": "markdown",
     "metadata": {},
     "source": [
      "### Equality comparisons\n",
      "\n",
      "We use an equality condition to exit some loop."
     ]
    },
    {
     "cell_type": "code",
     "collapsed": false,
     "input": [
      "s = 0.0\n",
      "\n",
      "for i in range(1000):\n",
      "    s += 1.0/10.0\n",
      "    if s == 1.0:\n",
      "        break\n",
      "print i"
     ],
     "language": "python",
     "metadata": {},
     "outputs": [
      {
       "output_type": "stream",
       "stream": "stdout",
       "text": [
        "999\n"
       ]
      }
     ],
     "prompt_number": 5
    },
    {
     "cell_type": "markdown",
     "metadata": {},
     "source": [
      "### Calculating variance\n",
      "\n",
      "$$\n",
      "s^2 = \\frac{\\sum_{i=1}^{n} x_i^2 - (\\sum_{i=1}^n x_i)^2/n}{n-1}\n",
      "$$"
     ]
    },
    {
     "cell_type": "code",
     "collapsed": false,
     "input": [
      "def var(xs):\n",
      "    \"\"\"Returns variance of sample data.\"\"\"\n",
      "    n = 0\n",
      "    s = 0\n",
      "    ss = 0\n",
      "    \n",
      "    for x in xs:\n",
      "        n +=1\n",
      "        s += x\n",
      "        ss += x*x\n",
      "\n",
      "    v = (ss - (s*s)/n)/(n-1)\n",
      "    return v"
     ],
     "language": "python",
     "metadata": {},
     "outputs": [],
     "prompt_number": 6
    },
    {
     "cell_type": "code",
     "collapsed": false,
     "input": [
      "# What is the sample variance for numbers from a normal distribution with variance 1?\n",
      "np.random.seed(4)\n",
      "xs = np.random.normal(1e9, 1, 1000)\n",
      "var(xs)"
     ],
     "language": "python",
     "metadata": {},
     "outputs": [
      {
       "metadata": {},
       "output_type": "pyout",
       "prompt_number": 7,
       "text": [
        "-262.4064"
       ]
      }
     ],
     "prompt_number": 7
    },
    {
     "cell_type": "markdown",
     "metadata": {},
     "source": [
      "## Finite representation of numbers\n",
      "\n",
      "For integers, there is a maximum and minimum representatble number for langauges. Python integers are acutally objects, so they intelligently switch to arbitrary precision numbers when you go beyond these limits, but this is not true for most other languages including C and R. With 64 bit representation, the maximumm is 2^63 - 1 and the minimum is -2^63 - 1."
     ]
    },
    {
     "cell_type": "code",
     "collapsed": false,
     "input": [
      "import sys\n",
      "sys.maxint"
     ],
     "language": "python",
     "metadata": {},
     "outputs": [
      {
       "metadata": {},
       "output_type": "pyout",
       "prompt_number": 8,
       "text": [
        "9223372036854775807"
       ]
      }
     ],
     "prompt_number": 8
    },
    {
     "cell_type": "code",
     "collapsed": false,
     "input": [
      "2**63-1 == sys.maxint"
     ],
     "language": "python",
     "metadata": {},
     "outputs": [
      {
       "metadata": {},
       "output_type": "pyout",
       "prompt_number": 9,
       "text": [
        "True"
       ]
      }
     ],
     "prompt_number": 9
    },
    {
     "cell_type": "code",
     "collapsed": false,
     "input": [
      "# Python handles \"overflow\" of integers gracefully by \n",
      "# swithing from integers to \"long\" abritrary precsion numbers\n",
      "sys.maxint + 1"
     ],
     "language": "python",
     "metadata": {},
     "outputs": [
      {
       "metadata": {},
       "output_type": "pyout",
       "prompt_number": 10,
       "text": [
        "9223372036854775808L"
       ]
      }
     ],
     "prompt_number": 10
    },
    {
     "cell_type": "markdown",
     "metadata": {},
     "source": [
      "### Integer division\n",
      "\n",
      "This has been illustrated more than once, becuase it is such a common source of bugs. Be very careful when dividing one integer by another. Here are some common workarounds."
     ]
    },
    {
     "cell_type": "code",
     "collapsed": false,
     "input": [
      "# Explicit float conversion\n",
      "\n",
      "print float(1)/3"
     ],
     "language": "python",
     "metadata": {},
     "outputs": [
      {
       "output_type": "stream",
       "stream": "stdout",
       "text": [
        "0.333333333333\n"
       ]
      }
     ],
     "prompt_number": 11
    },
    {
     "cell_type": "code",
     "collapsed": false,
     "input": [
      "# Implicit float conversion\n",
      "\n",
      "print (0.0 + 1)/3\n",
      "print (1.0 * 1)/3"
     ],
     "language": "python",
     "metadata": {},
     "outputs": [
      {
       "output_type": "stream",
       "stream": "stdout",
       "text": [
        "0.333333333333\n",
        "0.333333333333\n"
       ]
      }
     ],
     "prompt_number": 12
    },
    {
     "cell_type": "code",
     "collapsed": false,
     "input": [
      "# Telling Python to ALWAYS do floaitng point with '/'\n",
      "# Integer division can still be done with '//'\n",
      "# The __futre__ package contains routines that are only \n",
      "# found beyond some Python release number.\n",
      "\n",
      "from __future__ import division\n",
      "\n",
      "print (1/3)\n",
      "print (1//3)"
     ],
     "language": "python",
     "metadata": {},
     "outputs": [
      {
       "output_type": "stream",
       "stream": "stdout",
       "text": [
        "0.333333333333\n",
        "0\n"
       ]
      }
     ],
     "prompt_number": 13
    },
    {
     "cell_type": "markdown",
     "metadata": {},
     "source": [
      "[Documentation about the fuure package](https://docs.python.org/2/library/__future__.html)"
     ]
    },
    {
     "cell_type": "markdown",
     "metadata": {},
     "source": [
      "### Overflow in langauges such as C \"wraps around\" and gives negative numbers\n",
      "\n",
      "This will not work out of the box because the VM is missing some packages. If you want to really, really want to run this, you can issue the following commands from the command line and have your sudo password ready. It is not necessary to run this - this is just an example to show integer overflow in C - it does not happen in Python.\n",
      "\n",
      "```bash\n",
      "sudo apt-get update \n",
      "sudo apt-get install build-essential \n",
      "sudo apt-get install llvm \n",
      "pip install git+https://github.com/dabeaz/bitey.git\n",
      "```"
     ]
    },
    {
     "cell_type": "code",
     "collapsed": false,
     "input": [
      "%%file demo.c\n",
      "\n",
      "#include \"limits.h\"\n",
      "\n",
      "long limit() {\n",
      "    return LONG_MAX;\n",
      "}\n",
      "\n",
      "long overflow() {\n",
      "    long x = LONG_MAX;\n",
      "    return x+1;\n",
      "}"
     ],
     "language": "python",
     "metadata": {},
     "outputs": [
      {
       "output_type": "stream",
       "stream": "stdout",
       "text": [
        "Writing demo.c\n"
       ]
      }
     ],
     "prompt_number": 14
    },
    {
     "cell_type": "code",
     "collapsed": false,
     "input": [
      "! clang -emit-llvm -c demo.c -o demo.o"
     ],
     "language": "python",
     "metadata": {},
     "outputs": [],
     "prompt_number": 15
    },
    {
     "cell_type": "code",
     "collapsed": false,
     "input": [
      "import bitey\n",
      "import demo\n",
      "\n",
      "demo.limit(), demo.overflow()"
     ],
     "language": "python",
     "metadata": {},
     "outputs": [
      {
       "metadata": {},
       "output_type": "pyout",
       "prompt_number": 16,
       "text": [
        "(9223372036854775807, -9223372036854775808)"
       ]
      }
     ],
     "prompt_number": 16
    },
    {
     "cell_type": "markdown",
     "metadata": {},
     "source": [
      "### Floating point numbers\n",
      "\n",
      "A floating point number is stored in 3 pieces (sign bit, exponent, mantissa) so that every float is represetned as get +/- mantissa ^ exponent. Because of this, the interval between consecutive numbers is smallest (high precison) for numebrs close to 0 and largest for numbers close to the lower and upper bounds.\n",
      "\n",
      "Because exponents have to be singed to represent both small and large numbers, but it is more convenint to use unsigned numbers  here, the exponnent has an offset (also knwnn as the exponentn bias). For example, if the expoennt is an unsigned 8-bit number, it can rerpesent the range (0, 255). By using an offset of 128, it will now represent the range (-127, 128)."
     ]
    },
    {
     "cell_type": "code",
     "collapsed": false,
     "input": [
      "from IPython.display import Image"
     ],
     "language": "python",
     "metadata": {},
     "outputs": [],
     "prompt_number": 17
    },
    {
     "cell_type": "markdown",
     "metadata": {},
     "source": [
      "#### Binary represetnation of a floating point number"
     ]
    },
    {
     "cell_type": "code",
     "collapsed": false,
     "input": [
      "Image(url='http://www.dspguide.com/graphics/F_4_2.gif')"
     ],
     "language": "python",
     "metadata": {},
     "outputs": [
      {
       "html": [
        "<img src=\"http://www.dspguide.com/graphics/F_4_2.gif\"/>"
       ],
       "metadata": {},
       "output_type": "pyout",
       "prompt_number": 18,
       "text": [
        "<IPython.core.display.Image at 0x103d9e8d0>"
       ]
      }
     ],
     "prompt_number": 18
    },
    {
     "cell_type": "markdown",
     "metadata": {},
     "source": [
      "#### Intervals between consecutive floating point numbers are not constant\n",
      "\n",
      "Because of this, if you are adding many numbers, it is more accuate to first add the small numbers before the large numbers."
     ]
    },
    {
     "cell_type": "code",
     "collapsed": false,
     "input": [
      "Image(url='http:///fig1.jpg')"
     ],
     "language": "python",
     "metadata": {},
     "outputs": [
      {
       "html": [
        "<img src=\"http://jasss.soc.surrey.ac.uk/9/4/4/fig1.jpg\"/>"
       ],
       "metadata": {},
       "output_type": "pyout",
       "prompt_number": 19,
       "text": [
        "<IPython.core.display.Image at 0x103d9e410>"
       ]
      }
     ],
     "prompt_number": 19
    },
    {
     "cell_type": "markdown",
     "metadata": {},
     "source": [
      "#### Floating point numbers on your system"
     ]
    },
    {
     "cell_type": "markdown",
     "metadata": {},
     "source": [
      "Information about the floating point reresentation on your system can be obtained from `sys.float_info`. Definitions of the stored values are given at <https://docs.python.org/2/library/sys.html#sys.float_info>"
     ]
    },
    {
     "cell_type": "code",
     "collapsed": false,
     "input": [
      "import sys\n",
      "\n",
      "print sys.float_info"
     ],
     "language": "python",
     "metadata": {},
     "outputs": [
      {
       "output_type": "stream",
       "stream": "stdout",
       "text": [
        "sys.float_info(max=1.7976931348623157e+308, max_exp=1024, max_10_exp=308, min=2.2250738585072014e-308, min_exp=-1021, min_10_exp=-307, dig=15, mant_dig=53, epsilon=2.220446049250313e-16, radix=2, rounds=1)\n"
       ]
      }
     ],
     "prompt_number": 20
    },
    {
     "cell_type": "markdown",
     "metadata": {},
     "source": [
      "#### Floating point numbers may not be precise"
     ]
    },
    {
     "cell_type": "code",
     "collapsed": false,
     "input": [
      "'%.20f' % (0.1 * 0.1 * 100)"
     ],
     "language": "python",
     "metadata": {},
     "outputs": [
      {
       "metadata": {},
       "output_type": "pyout",
       "prompt_number": 21,
       "text": [
        "'1.00000000000000022204'"
       ]
      }
     ],
     "prompt_number": 21
    },
    {
     "cell_type": "code",
     "collapsed": false,
     "input": [
      "# Because of this, don't chek for equality of floating point numbers!\n",
      "\n",
      "# Bad\n",
      "s = 0.0\n",
      "\n",
      "for i in range(1000):\n",
      "    s += 1.0/10.0\n",
      "    if s == 1.0:\n",
      "        break\n",
      "print i\n",
      "\n",
      "# OK\n",
      "\n",
      "TOL = 1e-9\n",
      "s = 0.0\n",
      "\n",
      "for i in range(1000):\n",
      "    s += 1.0/10.0\n",
      "    if abs(s - 1.0) < TOL:\n",
      "        break\n",
      "print i"
     ],
     "language": "python",
     "metadata": {},
     "outputs": [
      {
       "output_type": "stream",
       "stream": "stdout",
       "text": [
        "999\n",
        "9\n"
       ]
      }
     ],
     "prompt_number": 22
    },
    {
     "cell_type": "code",
     "collapsed": false,
     "input": [
      "# Loss of precision\n",
      "1 + 6.022e23 - 6.022e23"
     ],
     "language": "python",
     "metadata": {},
     "outputs": [
      {
       "metadata": {},
       "output_type": "pyout",
       "prompt_number": 23,
       "text": [
        "0.0000"
       ]
      }
     ],
     "prompt_number": 23
    },
    {
     "cell_type": "markdown",
     "metadata": {},
     "source": [
      "<font color=blue>Lesson: Avoid algorithms that subtract two numbers that are very close to one anotoer. The loss of significnance is greater when both numbers are very large due to the limited number of precsion bits available.</font>"
     ]
    },
    {
     "cell_type": "markdown",
     "metadata": {},
     "source": [
      "#### Associative law does not necessarily hold"
     ]
    },
    {
     "cell_type": "code",
     "collapsed": false,
     "input": [
      "6.022e23 - 6.022e23 + 1"
     ],
     "language": "python",
     "metadata": {},
     "outputs": [
      {
       "metadata": {},
       "output_type": "pyout",
       "prompt_number": 48,
       "text": [
        "1.0000"
       ]
      }
     ],
     "prompt_number": 48
    },
    {
     "cell_type": "code",
     "collapsed": false,
     "input": [
      "1 + 6.022e23 - 6.022e23"
     ],
     "language": "python",
     "metadata": {},
     "outputs": [
      {
       "metadata": {},
       "output_type": "pyout",
       "prompt_number": 49,
       "text": [
        "0.0000"
       ]
      }
     ],
     "prompt_number": 49
    },
    {
     "cell_type": "markdown",
     "metadata": {},
     "source": [
      "#### Distributive law does not hold"
     ]
    },
    {
     "cell_type": "code",
     "collapsed": false,
     "input": [
      "a = np.exp(1);\n",
      "b = np.pi;\n",
      "c = np.sin(1);\n",
      "a*(b+c) == a*b+a*c"
     ],
     "language": "python",
     "metadata": {},
     "outputs": [
      {
       "metadata": {},
       "output_type": "pyout",
       "prompt_number": 51,
       "text": [
        "False"
       ]
      }
     ],
     "prompt_number": 51
    },
    {
     "cell_type": "code",
     "collapsed": false,
     "input": [
      "# loss of precision can be a problem when calculating likelihoods\n",
      "probs = np.random.random(1000)\n",
      "np.prod(probs)"
     ],
     "language": "python",
     "metadata": {},
     "outputs": [
      {
       "metadata": {},
       "output_type": "pyout",
       "prompt_number": 25,
       "text": [
        "0.0000"
       ]
      }
     ],
     "prompt_number": 25
    },
    {
     "cell_type": "code",
     "collapsed": false,
     "input": [
      "# when multiplying lots of small numbers, work in log space\n",
      "np.sum(np.log(probs))"
     ],
     "language": "python",
     "metadata": {},
     "outputs": [
      {
       "metadata": {},
       "output_type": "pyout",
       "prompt_number": 26,
       "text": [
        "-980.0558"
       ]
      }
     ],
     "prompt_number": 26
    },
    {
     "cell_type": "markdown",
     "metadata": {},
     "source": [
      "<font color=blue>Lesson: Work in log space for very small or very big numbers to reduce underflow/overflow</font>"
     ]
    },
    {
     "cell_type": "markdown",
     "metadata": {},
     "source": [
      "Using arbitrary precision libraries\n",
      "----\n",
      "\n",
      "If you need precision more than speed (e.g. your code is likely to underflow or overflow otherwise and you cannot find or don't want to use a workaround), Python has support for arbitrary precison mathematics via \n",
      "\n",
      "- [The decimal package in th standard library](https://docs.python.org/2/library/decimal.html)\n",
      "- [The mpmath package](http://mpmath.org)\n",
      "- [The gmpy2 package](https://pypi.python.org/pypi/gmpy2)\n",
      "\n",
      "Both mpmath and gmpy2 can be installed via pip\n",
      "```bash\n",
      "pip install gmpy2\n",
      "pip install mpmath\n",
      "```\n",
      "\n",
      "These packages allow you to set the precsion of numbers used in calculations. Refer to the documentation if you need to use these libraries."
     ]
    },
    {
     "cell_type": "markdown",
     "metadata": {},
     "source": [
      "From numbers to Functions: Stability and conditioning\n",
      "----\n",
      "\n",
      "Suppose we have a computer algorithm $g(x)$ that represents the mathematical function $f(x)$. $g(x)$ is stable if for some small perturbation $\\epsilon$, $g(x+\\epsilon) \\approx f(x)$\n",
      "\n",
      "A mathematical function $f(x)$ is well-conditioned if $f(x + \\epsilon) \\approx f(x)$ for all small perturbations $\\epsilon$.\n",
      "\n",
      "That is, the <font color=red>function</font>$f(x)$ is **well-conditioned** if the *solution varies gradually as problem varies*. For a well-conditinoed function, *all* small perutbations have small effects. However, a poorly-conditioned problem only needs *some* small perturbations to have large effects. For example, inverting a nearly singluar matrix is a poorly condiitioned problem. \n",
      "\n",
      "A numerical algorithm $g(x)$ is numerically-stable if $g(x) \\approx f(x')$ for some $x' \\approx x$. Note that stability is a property that relates the algorithm $g(x)$ to the problem $f(x)$.\n",
      "\n",
      "That is, the <font color=red>algorithm</font>$g(x)$ is **numerically stable** if it gives *nearly the right answer to nearly the right question*. Numerically unstable algorithms tend to amplify approximation errors due to computer arithmetic over time. If we used an infitinte precision numerical system, stable and unstable alorithms would have the same accuracy. However, as we have seen (e.g. variance calculation), when using floating point numbers, algebrically equivaelent algorithms can give different results.\n",
      "\n",
      "In general, we need both a well-conditinoed problem and nuerical stabilty of the algorihtm to reliably accurate answers. In this case, we can be sure that $g(x) \\approx f(x)$."
     ]
    },
    {
     "cell_type": "markdown",
     "metadata": {},
     "source": [
      "**Unstable version**"
     ]
    },
    {
     "cell_type": "code",
     "collapsed": false,
     "input": [
      "# Catastrophic cancellation occurs when subtracitng \n",
      "# two numbers that are very close to one another\n",
      "# Here is another example\n",
      "\n",
      "def f(x):\n",
      "    return (1 - np.cos(x))/(x*x)"
     ],
     "language": "python",
     "metadata": {},
     "outputs": [],
     "prompt_number": 27
    },
    {
     "cell_type": "code",
     "collapsed": false,
     "input": [
      "x = np.linspace(-4e-8, 4e-8, 100)\n",
      "plt.plot(x,f(x));\n",
      "plt.axvline(1.1e-8, color='red')\n",
      "plt.xlim([-4e-8, 4e-8]);"
     ],
     "language": "python",
     "metadata": {},
     "outputs": [
      {
       "metadata": {},
       "output_type": "display_data",
       "png": "[encoded data removed]",
       "text": [
        "<matplotlib.figure.Figure at 0x116b94950>"
       ]
      }
     ],
     "prompt_number": 28
    },
    {
     "cell_type": "code",
     "collapsed": false,
     "input": [
      "# We know from L'Hopital's rule that the answer is 0.5 at 0\n",
      "# and should be very close to 0.5 throughout this tiny interval\n",
      "# but errors arisee due to catastrophic cancellation\n",
      "\n",
      "print '%.30f' % np.cos(1.1e-8)\n",
      "print '%.30f' % (1 - np.cos(1.1e-8)) # exact answer is 6.05e-17\n",
      "print '%2f' % ((1 - np.cos(1.1e-8))/(1.1e-8*1.1e-8))"
     ],
     "language": "python",
     "metadata": {},
     "outputs": [
      {
       "output_type": "stream",
       "stream": "stdout",
       "text": [
        "0.999999999999999888977697537484\n",
        "0.000000000000000111022302462516\n",
        "0.917540\n"
       ]
      }
     ],
     "prompt_number": 29
    },
    {
     "cell_type": "markdown",
     "metadata": {},
     "source": [
      "**Stable version**"
     ]
    },
    {
     "cell_type": "code",
     "collapsed": false,
     "input": [
      "# Numerically stable version of funtion\n",
      "# using long-forgotten half-angle formula from trignometry\n",
      "\n",
      "def f1(x):\n",
      "    return 2*np.sin(x/2)**2/(x*x)"
     ],
     "language": "python",
     "metadata": {},
     "outputs": [],
     "prompt_number": 30
    },
    {
     "cell_type": "code",
     "collapsed": false,
     "input": [
      "x = np.linspace(-4e-8, 4e-8, 100)\n",
      "plt.plot(x,f1(x));\n",
      "plt.axvline(1.1e-8, color='red')\n",
      "plt.xlim([-4e-8, 4e-8]);"
     ],
     "language": "python",
     "metadata": {},
     "outputs": [
      {
       "metadata": {},
       "output_type": "display_data",
       "png": "[encoded data removed]",
       "text": [
        "<matplotlib.figure.Figure at 0x11bcf8810>"
       ]
      }
     ],
     "prompt_number": 57
    },
    {
     "cell_type": "markdown",
     "metadata": {},
     "source": [
      "### Stable and unstable versions of variance"
     ]
    },
    {
     "cell_type": "markdown",
     "metadata": {},
     "source": [
      "$$s^2 = \\frac{1}{n-1}\\sum(x - \\bar{x})^2$$"
     ]
    },
    {
     "cell_type": "code",
     "collapsed": false,
     "input": [
      "# sum of squares method (vectorized version)\n",
      "def sum_of_squers_var(x):\n",
      "    n = len(x)\n",
      "    return (1.0/(n*(n-1))*(n*np.sum(x**2) - (np.sum(x))**2))"
     ],
     "language": "python",
     "metadata": {},
     "outputs": [],
     "prompt_number": 32
    },
    {
     "cell_type": "markdown",
     "metadata": {},
     "source": [
      "<font color=blue>This should set off warning bells - big number minus big number!</font>"
     ]
    },
    {
     "cell_type": "code",
     "collapsed": false,
     "input": [
      "# direct method\n",
      "def direct_var(x):\n",
      "    n = len(x)\n",
      "    xbar = np.mean(x)\n",
      "    return 1.0/(n-1)*np.sum((x - xbar)**2)"
     ],
     "language": "python",
     "metadata": {},
     "outputs": [],
     "prompt_number": 33
    },
    {
     "cell_type": "markdown",
     "metadata": {},
     "source": [
      "<font color=blue>Much better - at least the squaring occurs after the subtraction</font>"
     ]
    },
    {
     "cell_type": "code",
     "collapsed": false,
     "input": [
      "# Welford's method\n",
      "def welford_var(x):\n",
      "    s = 0\n",
      "    m = x[0]\n",
      "    for i in range(1, len(x)):\n",
      "        m += (x[i]-m)/i\n",
      "        s += (x[i]-m)**2\n",
      "    return s/(len(x) -1 )"
     ],
     "language": "python",
     "metadata": {},
     "outputs": [],
     "prompt_number": 34
    },
    {
     "cell_type": "markdown",
     "metadata": {},
     "source": [
      "<font color=blue>Classic algorithm from Knuth's Art of Computer Programming</font>"
     ]
    },
    {
     "cell_type": "code",
     "collapsed": false,
     "input": [
      "x_ = np.random.uniform(0,1,1e6)\n",
      "x = 1e12 + x_"
     ],
     "language": "python",
     "metadata": {},
     "outputs": [],
     "prompt_number": 35
    },
    {
     "cell_type": "code",
     "collapsed": false,
     "input": [
      "# correct answer\n",
      "np.var(x_)"
     ],
     "language": "python",
     "metadata": {},
     "outputs": [
      {
       "metadata": {},
       "output_type": "pyout",
       "prompt_number": 36,
       "text": [
        "0.0835"
       ]
      }
     ],
     "prompt_number": 36
    },
    {
     "cell_type": "code",
     "collapsed": false,
     "input": [
      "sum_of_squers_var(x)"
     ],
     "language": "python",
     "metadata": {},
     "outputs": [
      {
       "metadata": {},
       "output_type": "pyout",
       "prompt_number": 37,
       "text": [
        "737870500.8189"
       ]
      }
     ],
     "prompt_number": 37
    },
    {
     "cell_type": "code",
     "collapsed": false,
     "input": [
      "direct_var(x)"
     ],
     "language": "python",
     "metadata": {},
     "outputs": [
      {
       "metadata": {},
       "output_type": "pyout",
       "prompt_number": 38,
       "text": [
        "0.0835"
       ]
      }
     ],
     "prompt_number": 38
    },
    {
     "cell_type": "code",
     "collapsed": false,
     "input": [
      "welford_var(x)"
     ],
     "language": "python",
     "metadata": {},
     "outputs": [
      {
       "metadata": {},
       "output_type": "pyout",
       "prompt_number": 39,
       "text": [
        "0.0835"
       ]
      }
     ],
     "prompt_number": 39
    },
    {
     "cell_type": "markdown",
     "metadata": {},
     "source": [
      "<font color=blue>Lesson: Mathematical formulas may behave differently when directly translated into code!</font>\n",
      "\n",
      "This problem also appears in navie algorithms for finding simple regression coefficients and Pearson\u2019s correlation coefficient.\n",
      "\n",
      "See this series of blog posts for a clear explanation:\n",
      "\n",
      "* <http://www.johndcook.com/blog/2008/09/28/theoretical-explanation-for-numerical-results/>\n",
      "* <http://www.johndcook.com/blog/2008/09/26/comparing-three-methods-of-computing-standard-deviation/>\n",
      "* <http://www.johndcook.com/blog/2008/10/20/comparing-two-ways-to-fit-a-line-to-data/>\n",
      "* <http://www.johndcook.com/blog/2008/11/05/how-to-calculate-pearson-correlation-accurately/>"
     ]
    },
    {
     "cell_type": "markdown",
     "metadata": {},
     "source": [
      "### Avoiding catastrophic cancellation by formula rearrangement\n",
      "\n",
      "There are a copule of common tricks that may be useful if you are worried about catastrophic cancellation.\n",
      "\n",
      "#### Use library functions where possible\n",
      "\n",
      "Instead of \n",
      "\n",
      "```\n",
      "np.log(x + 1)\n",
      "```\n",
      "\n",
      "which can be inaccurate for $x$ near zero, use\n",
      "\n",
      "```\n",
      "np.log1p(x)\n",
      "```\n",
      "\n",
      "Similarly, instead of \n",
      "\n",
      "```\n",
      "np.sin(x)/x\n",
      "```\n",
      "\n",
      "use\n",
      "\n",
      "```\n",
      "np.sinc(x)\n",
      "```\n",
      "\n",
      "See if [Numpy base functions](http://docs.scipy.org/doc/numpy/reference/routines.math.html) has what you need.\n",
      "\n",
      "#### Rationalize the numerator to remove cancellation for the following problem\n",
      "\n",
      "$$\n",
      "\\sqrt{x + 1} - \\sqrt{x}\n",
      "$$\n",
      "\n",
      "#### Use basic algebra to remove canceellation for the following problem\n",
      "\n",
      "$$\n",
      "\\frac{1}{\\sqrt x} - \\frac{1}{\\sqrt{x + 1}}\n",
      "$$\n",
      "\n",
      "#### Use trignometric identities to remove cancellation for the following 3 problems\n",
      "\n",
      "$$\n",
      "\\sin (x+ \\epsilon) - \\sin x \n",
      "$$\n",
      "\n",
      "\n",
      "$$\n",
      "\\frac{1 - \\cos x}{\\sin x}\n",
      "$$\n",
      "\n",
      "\n",
      "$$ \n",
      "\\int_N^{N+1} \\frac{dx}{1 + x^2}\n",
      "$$  "
     ]
    },
    {
     "cell_type": "markdown",
     "metadata": {},
     "source": [
      "### Poorly conditioned problems"
     ]
    },
    {
     "cell_type": "code",
     "collapsed": false,
     "input": [
      "# The tangent function is poorly conditioned\n",
      "\n",
      "x1 = 1.57078\n",
      "x2 = 1.57079\n",
      "t1 = np.tan(x1)\n",
      "t2 = np.tan(x2)"
     ],
     "language": "python",
     "metadata": {},
     "outputs": [],
     "prompt_number": 40
    },
    {
     "cell_type": "code",
     "collapsed": false,
     "input": [
      "print 't1 =', t1\n",
      "print 't2 =', t2\n",
      "print '% change in x =', 100.0*(x2-x1)/x1\n",
      "print '% change in tan(x) =', (100.0*(t2-t1)/t1)"
     ],
     "language": "python",
     "metadata": {},
     "outputs": [
      {
       "output_type": "stream",
       "stream": "stdout",
       "text": [
        "t1 = 61249.0085315\n",
        "t2 = 158057.913416\n",
        "% change in x = 0.000636626389427\n",
        "% change in tan(x) = 158.057913435\n"
       ]
      }
     ],
     "prompt_number": 41
    },
    {
     "cell_type": "markdown",
     "metadata": {},
     "source": [
      "**Ill-conditioned matrices**"
     ]
    },
    {
     "cell_type": "markdown",
     "metadata": {},
     "source": [
      "In this example, we want to solve a simple linear system Ax = b\n",
      "where A and b are given."
     ]
    },
    {
     "cell_type": "code",
     "collapsed": false,
     "input": [
      "A = 0.5*np.array([[1,1], [1+1e-10, 1-1e-10]])\n",
      "b1 = np.array([2,2])\n",
      "b2 = np.array([2.01, 2])"
     ],
     "language": "python",
     "metadata": {},
     "outputs": [],
     "prompt_number": 42
    },
    {
     "cell_type": "code",
     "collapsed": false,
     "input": [
      "np.linalg.solve(A, b1)"
     ],
     "language": "python",
     "metadata": {},
     "outputs": [
      {
       "metadata": {},
       "output_type": "pyout",
       "prompt_number": 43,
       "text": [
        "array([ 2.,  2.])"
       ]
      }
     ],
     "prompt_number": 43
    },
    {
     "cell_type": "code",
     "collapsed": false,
     "input": [
      "np.linalg.solve(A, b2)"
     ],
     "language": "python",
     "metadata": {},
     "outputs": [
      {
       "metadata": {},
       "output_type": "pyout",
       "prompt_number": 44,
       "text": [
        "array([-99999989.706,  99999993.726])"
       ]
      }
     ],
     "prompt_number": 44
    },
    {
     "cell_type": "markdown",
     "metadata": {},
     "source": [
      "The condition number of a matrix is a useful diagnostic - it is defined as the norm of A times the norm of the inverse of A. If this number is large, the matrix is ill-conditioned. Since there are many ways to calculuate a matrix norm, there are also many condition numbers, but they are roughly equivalent for our purpsoes."
     ]
    },
    {
     "cell_type": "code",
     "collapsed": false,
     "input": [
      "np.linalg.cond(A)"
     ],
     "language": "python",
     "metadata": {},
     "outputs": [
      {
       "metadata": {},
       "output_type": "pyout",
       "prompt_number": 45,
       "text": [
        "19999973849.2252"
       ]
      }
     ],
     "prompt_number": 45
    },
    {
     "cell_type": "code",
     "collapsed": false,
     "input": [
      "np.linalg.cond(A, 'fro')"
     ],
     "language": "python",
     "metadata": {},
     "outputs": [
      {
       "metadata": {},
       "output_type": "pyout",
       "prompt_number": 46,
       "text": [
        "19999998343.1927"
       ]
      }
     ],
     "prompt_number": 46
    },
    {
     "cell_type": "markdown",
     "metadata": {},
     "source": [
      "#### Simple things to try with ill-conditioned matrices\n",
      "\n",
      "- Can you remove dependent or collinear variables? If one variable is (almost) an exact muliple of another, it provides no additional information and can be removed from the matrix.\n",
      "- Can you normalize the data so that all vairables are on the same scale? For example, if columns represent featrue values, standardizign featurres to have zero mean and unit standard deviaiton can be helpful.\n",
      "- Can you use functions from linear algebra libraries instead of rolling your own. For example, the `lstsq` function from `scipy.linalg` will deal with collinear variables sensibly."
     ]
    },
    {
     "cell_type": "markdown",
     "metadata": {},
     "source": [
      "Exercises\n",
      "----"
     ]
    },
    {
     "cell_type": "markdown",
     "metadata": {},
     "source": [
      "The topic is rather specialized and the main goal is just to have you aware of the \"leaky abstraction\" of computer numbers as simulations of mathematical numbers, and common situations where this can casue problems. Once you are aware of these areas, you can either avoid them using simple rules, or look for an apprpriate numerical library fuctionn to use instead. So there will be no exericses on the topic of computer arithmetic, conditioning and stability given."
     ]
    },
    {
     "cell_type": "markdown",
     "metadata": {},
     "source": [
      "Instead, you need to get as comforatble with the use of arrays in numpy as much as possible for the rest of the course. For practice, see the entertaining examples and exercises at\n",
      "\n",
      "[Nicolas P. Rougier's  numpy tutorial](http://www.labri.fr/perso/nrougier/teaching/numpy/numpy.html)\n",
      "\n",
      "At the end, there are further links to yet more numpy tutorials!"
     ]
    }
   ],
   "metadata": {}
  }
 ]
}