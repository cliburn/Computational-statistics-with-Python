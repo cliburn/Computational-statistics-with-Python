{
 "metadata": {
  "name": "",
  "signature": "sha256:af7a2c24716713aef3cfa77c4ff6cd34972f50daea3b761b3c9496d08e20d637"
 },
 "nbformat": 3,
 "nbformat_minor": 0,
 "worksheets": [
  {
   "cells": [
    {
     "cell_type": "code",
     "collapsed": false,
     "input": [
      "%matplotlib inline\n",
      "import numpy as np\n",
      "import matplotlib.pyplot as plt"
     ],
     "language": "python",
     "metadata": {},
     "outputs": [],
     "prompt_number": 1
    },
    {
     "cell_type": "code",
     "collapsed": false,
     "input": [
      "import warnings\n",
      "warnings.filterwarnings(\"ignore\")"
     ],
     "language": "python",
     "metadata": {},
     "outputs": [],
     "prompt_number": 2
    },
    {
     "cell_type": "markdown",
     "metadata": {},
     "source": [
      "Using Pandas\n",
      "----\n",
      "\n",
      "The `numpy` module is excellent for numerical computations, but to handle missing data or arrays with mixed types takes more work. The `pandas` module provides objects similar to R's data frames, and these are more convenient for most statistical analysis. The `pandas` module also provides many mehtods for data import and manipulaiton that we will explore in this section. \n",
      "\n",
      "[Pandas for R Users](http://pandas.pydata.org/pandas-docs/stable/comparison_with_r.html)"
     ]
    },
    {
     "cell_type": "code",
     "collapsed": false,
     "input": [
      "import pandas as pd\n",
      "import statsmodels.api as sm\n",
      "from pandas import Series, DataFrame, Panel\n",
      "from string import ascii_lowercase as letters\n",
      "from scipy.stats import chisqprob"
     ],
     "language": "python",
     "metadata": {},
     "outputs": [],
     "prompt_number": 3
    },
    {
     "cell_type": "markdown",
     "metadata": {},
     "source": [
      "### Series\n",
      "\n",
      "Series is a 1D array with axis labels. "
     ]
    },
    {
     "cell_type": "code",
     "collapsed": false,
     "input": [
      "# Creating a series and extracting elements.\n",
      "\n",
      "xs = Series(np.arange(10), index=tuple(letters[:10]))\n",
      "print xs[:3],'\\n'\n",
      "print xs[7:], '\\n'\n",
      "print xs[::3], '\\n'\n",
      "print xs[['d', 'f', 'h']], '\\n'\n",
      "print xs.d, xs.f, xs.h"
     ],
     "language": "python",
     "metadata": {},
     "outputs": [
      {
       "output_type": "stream",
       "stream": "stdout",
       "text": [
        "a    0\n",
        "b    1\n",
        "c    2\n",
        "dtype: int64 \n",
        "\n",
        "h    7\n",
        "i    8\n",
        "j    9\n",
        "dtype: int64 \n",
        "\n",
        "a    0\n",
        "d    3\n",
        "g    6\n",
        "j    9\n",
        "dtype: int64 \n",
        "\n",
        "d    3\n",
        "f    5\n",
        "h    7\n",
        "dtype: int64 \n",
        "\n",
        "3 5 7\n"
       ]
      }
     ],
     "prompt_number": 4
    },
    {
     "cell_type": "code",
     "collapsed": false,
     "input": [
      "# All the numpy functions wiill work with Series objects, and return another Series\n",
      "\n",
      "y1, y2 = np.mean(xs), np.var(xs)\n",
      "y1, y2"
     ],
     "language": "python",
     "metadata": {},
     "outputs": [
      {
       "metadata": {},
       "output_type": "pyout",
       "prompt_number": 5,
       "text": [
        "(4.5, 8.25)"
       ]
      }
     ],
     "prompt_number": 5
    },
    {
     "cell_type": "code",
     "collapsed": false,
     "input": [
      "# Matplotlib will work on Series objects too\n",
      "plt.plot(xs, np.sin(xs), 'r-o', xs, np.cos(xs), 'b-x');"
     ],
     "language": "python",
     "metadata": {},
     "outputs": [
      {
       "metadata": {},
       "output_type": "display_data",
       "png": "[encoded data removed]",
       "text": [
        "<matplotlib.figure.Figure at 0x114959c10>"
       ]
      }
     ],
     "prompt_number": 6
    },
    {
     "cell_type": "code",
     "collapsed": false,
     "input": [
      "# Convert to numpy arrays with values\n",
      "\n",
      "print xs.values"
     ],
     "language": "python",
     "metadata": {},
     "outputs": [
      {
       "output_type": "stream",
       "stream": "stdout",
       "text": [
        "[0 1 2 3 4 5 6 7 8 9]\n"
       ]
      }
     ],
     "prompt_number": 7
    },
    {
     "cell_type": "code",
     "collapsed": false,
     "input": [
      "# The Series datatype can also be used to represent time series\n",
      "\n",
      "import datetime as dt\n",
      "from pandas import date_range\n",
      "\n",
      "# today = dt.date.today()\n",
      "today = dt.datetime.strptime('Jan 21 2015', '%b %d %Y') \n",
      "print today, '\\n'\n",
      "days = date_range(today, periods=35, freq='D')\n",
      "ts = Series(np.random.normal(10, 1, len(days)), index=days)\n",
      "            \n",
      "# Extracting elements\n",
      "print ts[0:4], '\\n'\n",
      "print ts['2015-01-21':'2015-01-28'], '\\n' # Note - includes end time"
     ],
     "language": "python",
     "metadata": {},
     "outputs": [
      {
       "output_type": "stream",
       "stream": "stdout",
       "text": [
        "2015-01-21 00:00:00 \n",
        "\n",
        "2015-01-21     9.719261\n",
        "2015-01-22     8.894461\n",
        "2015-01-23    10.074521\n",
        "2015-01-24    10.769334\n",
        "Freq: D, dtype: float64 \n",
        "\n",
        "2015-01-21     9.719261\n",
        "2015-01-22     8.894461\n",
        "2015-01-23    10.074521\n",
        "2015-01-24    10.769334\n",
        "2015-01-25    10.159401\n",
        "2015-01-26     8.992754\n",
        "2015-01-27     9.681121\n",
        "2015-01-28     9.908445\n",
        "Freq: D, dtype: float64 \n",
        "\n"
       ]
      }
     ],
     "prompt_number": 8
    },
    {
     "cell_type": "code",
     "collapsed": false,
     "input": [
      "# We can geenerate statistics for time ranges with the resample method\n",
      "# For example, suppose we are interested in weekly means, standard deviations and sum-of-squares\n",
      "\n",
      "df = ts.resample(rule='W', how=('mean', 'std', lambda x: sum(x*x)))\n",
      "df"
     ],
     "language": "python",
     "metadata": {},
     "outputs": [
      {
       "html": [
        "<div style=\"max-height:1000px;max-width:1500px;overflow:auto;\">\n",
        "<table border=\"1\" class=\"dataframe\">\n",
        "  <thead>\n",
        "    <tr style=\"text-align: right;\">\n",
        "      <th></th>\n",
        "      <th>mean</th>\n",
        "      <th>std</th>\n",
        "      <th>&lt;lambda&gt;</th>\n",
        "    </tr>\n",
        "  </thead>\n",
        "  <tbody>\n",
        "    <tr>\n",
        "      <th>2015-01-25</th>\n",
        "      <td>  9.923396</td>\n",
        "      <td> 0.688209</td>\n",
        "      <td> 494.263430</td>\n",
        "    </tr>\n",
        "    <tr>\n",
        "      <th>2015-02-01</th>\n",
        "      <td> 10.357088</td>\n",
        "      <td> 0.848930</td>\n",
        "      <td> 755.208973</td>\n",
        "    </tr>\n",
        "    <tr>\n",
        "      <th>2015-02-08</th>\n",
        "      <td> 10.224806</td>\n",
        "      <td> 0.869441</td>\n",
        "      <td> 736.362134</td>\n",
        "    </tr>\n",
        "    <tr>\n",
        "      <th>2015-02-15</th>\n",
        "      <td> 10.672230</td>\n",
        "      <td> 0.942680</td>\n",
        "      <td> 802.607338</td>\n",
        "    </tr>\n",
        "    <tr>\n",
        "      <th>2015-02-22</th>\n",
        "      <td>  9.785174</td>\n",
        "      <td> 1.012906</td>\n",
        "      <td> 676.403270</td>\n",
        "    </tr>\n",
        "    <tr>\n",
        "      <th>2015-03-01</th>\n",
        "      <td>  9.495084</td>\n",
        "      <td> 1.472653</td>\n",
        "      <td> 182.481942</td>\n",
        "    </tr>\n",
        "  </tbody>\n",
        "</table>\n",
        "</div>"
       ],
       "metadata": {},
       "output_type": "pyout",
       "prompt_number": 9,
       "text": [
        "                 mean       std    <lambda>\n",
        "2015-01-25   9.923396  0.688209  494.263430\n",
        "2015-02-01  10.357088  0.848930  755.208973\n",
        "2015-02-08  10.224806  0.869441  736.362134\n",
        "2015-02-15  10.672230  0.942680  802.607338\n",
        "2015-02-22   9.785174  1.012906  676.403270\n",
        "2015-03-01   9.495084  1.472653  182.481942"
       ]
      }
     ],
     "prompt_number": 9
    },
    {
     "cell_type": "markdown",
     "metadata": {},
     "source": [
      "### DataFrame\n",
      "\n",
      "For statisticians, a DataFrame is similar to the R dataframe object. For everyone else, it is like a simple tabular spreadsheet. Each column is a Series object."
     ]
    },
    {
     "cell_type": "code",
     "collapsed": false,
     "input": [
      "# Note that the df object in the previous cell is a DataFrame\n",
      "print type(df)"
     ],
     "language": "python",
     "metadata": {},
     "outputs": [
      {
       "output_type": "stream",
       "stream": "stdout",
       "text": [
        "<class 'pandas.core.frame.DataFrame'>\n"
       ]
      }
     ],
     "prompt_number": 10
    },
    {
     "cell_type": "code",
     "collapsed": false,
     "input": [
      "# Renaming columns\n",
      "# The use of mean and std are problmeatic because there are also methods in dataframe with those names\n",
      "# Also, <lambda> is unifnormative\n",
      "# So we would like to give better names to the columns of df\n",
      "\n",
      "df.columns = ('mu', 'sigma', 'sum_of_sq')\n",
      "print df"
     ],
     "language": "python",
     "metadata": {},
     "outputs": [
      {
       "output_type": "stream",
       "stream": "stdout",
       "text": [
        "                   mu     sigma   sum_of_sq\n",
        "2015-01-25   9.923396  0.688209  494.263430\n",
        "2015-02-01  10.357088  0.848930  755.208973\n",
        "2015-02-08  10.224806  0.869441  736.362134\n",
        "2015-02-15  10.672230  0.942680  802.607338\n",
        "2015-02-22   9.785174  1.012906  676.403270\n",
        "2015-03-01   9.495084  1.472653  182.481942\n"
       ]
      }
     ],
     "prompt_number": 11
    },
    {
     "cell_type": "code",
     "collapsed": false,
     "input": [
      "# Extracitng columns from a DataFrame\n",
      "\n",
      "print df.mu, '\\n' # by attribute\n",
      "print df['sigma'], '\\n' # by column name"
     ],
     "language": "python",
     "metadata": {},
     "outputs": [
      {
       "output_type": "stream",
       "stream": "stdout",
       "text": [
        "2015-01-25     9.923396\n",
        "2015-02-01    10.357088\n",
        "2015-02-08    10.224806\n",
        "2015-02-15    10.672230\n",
        "2015-02-22     9.785174\n",
        "2015-03-01     9.495084\n",
        "Freq: W-SUN, Name: mu, dtype: float64 \n",
        "\n",
        "2015-01-25    0.688209\n",
        "2015-02-01    0.848930\n",
        "2015-02-08    0.869441\n",
        "2015-02-15    0.942680\n",
        "2015-02-22    1.012906\n",
        "2015-03-01    1.472653\n",
        "Freq: W-SUN, Name: sigma, dtype: float64 \n",
        "\n"
       ]
      }
     ],
     "prompt_number": 12
    },
    {
     "cell_type": "code",
     "collapsed": false,
     "input": [
      "# Extracting rows from a DataFrame\n",
      "\n",
      "print df[1:3], '\\n'\n",
      "print df['2015-01-21'::2]"
     ],
     "language": "python",
     "metadata": {},
     "outputs": [
      {
       "output_type": "stream",
       "stream": "stdout",
       "text": [
        "                   mu     sigma   sum_of_sq\n",
        "2015-02-01  10.357088  0.848930  755.208973\n",
        "2015-02-08  10.224806  0.869441  736.362134 \n",
        "\n",
        "                   mu     sigma   sum_of_sq\n",
        "2015-01-25   9.923396  0.688209  494.263430\n",
        "2015-02-08  10.224806  0.869441  736.362134\n",
        "2015-02-22   9.785174  1.012906  676.403270\n"
       ]
      }
     ],
     "prompt_number": 13
    },
    {
     "cell_type": "code",
     "collapsed": false,
     "input": [
      "# Extracting blocks and scalars\n",
      "\n",
      "print df.iat[2, 2], '\\n' # extract an element with iat()\n",
      "print df.loc['2015-01-25':'2015-03-01', 'sum_of_sq'], '\\n' # indexing by label\n",
      "print df.iloc[:3, 2], '\\n'  # indexing by position\n",
      "print df.ix[:3, 'sum_of_sq'], '\\n' # by label OR position"
     ],
     "language": "python",
     "metadata": {},
     "outputs": [
      {
       "output_type": "stream",
       "stream": "stdout",
       "text": [
        "736.362134378 \n",
        "\n",
        "2015-01-25    494.263430\n",
        "2015-02-01    755.208973\n",
        "2015-02-08    736.362134\n",
        "2015-02-15    802.607338\n",
        "2015-02-22    676.403270\n",
        "2015-03-01    182.481942\n",
        "Freq: W-SUN, Name: sum_of_sq, dtype: float64 \n",
        "\n",
        "2015-01-25    494.263430\n",
        "2015-02-01    755.208973\n",
        "2015-02-08    736.362134\n",
        "Freq: W-SUN, Name: sum_of_sq, dtype: float64 \n",
        "\n",
        "2015-01-25    494.263430\n",
        "2015-02-01    755.208973\n",
        "2015-02-08    736.362134\n",
        "Freq: W-SUN, Name: sum_of_sq, dtype: float64 \n",
        "\n"
       ]
      }
     ],
     "prompt_number": 14
    },
    {
     "cell_type": "code",
     "collapsed": false,
     "input": [
      "# Using Boolean conditions for selecting eleements\n",
      "\n",
      "print df[(df.sigma < 1) & (df.sum_of_sq < 700)], '\\n' # need parenthesis because of operator precedence\n",
      "print df.query('sigma < 1 and sum_of_sq < 700') # the query() method allows more readable query strings"
     ],
     "language": "python",
     "metadata": {},
     "outputs": [
      {
       "output_type": "stream",
       "stream": "stdout",
       "text": [
        "                  mu     sigma  sum_of_sq\n",
        "2015-01-25  9.923396  0.688209  494.26343 \n",
        "\n",
        "                  mu     sigma  sum_of_sq\n",
        "2015-01-25  9.923396  0.688209  494.26343\n"
       ]
      }
     ],
     "prompt_number": 15
    },
    {
     "cell_type": "markdown",
     "metadata": {},
     "source": [
      "### Panels\n",
      "\n",
      "Panels are 3D arrays - they can be thought of as dictionaries of DataFrames."
     ]
    },
    {
     "cell_type": "code",
     "collapsed": false,
     "input": [
      "df= np.random.binomial(100, 0.95, (9,2))\n",
      "dm = np.random.binomial(100, 0.9, [12,2])\n",
      "dff = DataFrame(df, columns = ['Physics', 'Math'])\n",
      "dfm = DataFrame(dm, columns = ['Physics', 'Math'])\n",
      "score_panel = Panel({'Girls': dff, 'Boys': dfm})\n",
      "print score_panel, '\\n'"
     ],
     "language": "python",
     "metadata": {},
     "outputs": [
      {
       "output_type": "stream",
       "stream": "stdout",
       "text": [
        "<class 'pandas.core.panel.Panel'>\n",
        "Dimensions: 2 (items) x 12 (major_axis) x 2 (minor_axis)\n",
        "Items axis: Boys to Girls\n",
        "Major_axis axis: 0 to 11\n",
        "Minor_axis axis: Physics to Math \n",
        "\n"
       ]
      }
     ],
     "prompt_number": 16
    },
    {
     "cell_type": "code",
     "collapsed": false,
     "input": [
      "score_panel['Girls'].transpose()"
     ],
     "language": "python",
     "metadata": {},
     "outputs": [
      {
       "html": [
        "<div style=\"max-height:1000px;max-width:1500px;overflow:auto;\">\n",
        "<table border=\"1\" class=\"dataframe\">\n",
        "  <thead>\n",
        "    <tr style=\"text-align: right;\">\n",
        "      <th></th>\n",
        "      <th>0</th>\n",
        "      <th>1</th>\n",
        "      <th>2</th>\n",
        "      <th>3</th>\n",
        "      <th>4</th>\n",
        "      <th>5</th>\n",
        "      <th>6</th>\n",
        "      <th>7</th>\n",
        "      <th>8</th>\n",
        "      <th>9</th>\n",
        "      <th>10</th>\n",
        "      <th>11</th>\n",
        "    </tr>\n",
        "  </thead>\n",
        "  <tbody>\n",
        "    <tr>\n",
        "      <th>Physics</th>\n",
        "      <td> 95</td>\n",
        "      <td> 95</td>\n",
        "      <td> 96</td>\n",
        "      <td> 95</td>\n",
        "      <td> 93</td>\n",
        "      <td> 95</td>\n",
        "      <td> 96</td>\n",
        "      <td> 94</td>\n",
        "      <td> 96</td>\n",
        "      <td>NaN</td>\n",
        "      <td>NaN</td>\n",
        "      <td>NaN</td>\n",
        "    </tr>\n",
        "    <tr>\n",
        "      <th>Math</th>\n",
        "      <td> 95</td>\n",
        "      <td> 95</td>\n",
        "      <td> 94</td>\n",
        "      <td> 92</td>\n",
        "      <td> 91</td>\n",
        "      <td> 92</td>\n",
        "      <td> 96</td>\n",
        "      <td> 95</td>\n",
        "      <td> 97</td>\n",
        "      <td>NaN</td>\n",
        "      <td>NaN</td>\n",
        "      <td>NaN</td>\n",
        "    </tr>\n",
        "  </tbody>\n",
        "</table>\n",
        "</div>"
       ],
       "metadata": {},
       "output_type": "pyout",
       "prompt_number": 17,
       "text": [
        "         0   1   2   3   4   5   6   7   8   9   10  11\n",
        "Physics  95  95  96  95  93  95  96  94  96 NaN NaN NaN\n",
        "Math     95  95  94  92  91  92  96  95  97 NaN NaN NaN"
       ]
      }
     ],
     "prompt_number": 17
    },
    {
     "cell_type": "code",
     "collapsed": false,
     "input": [
      "# find physics and math scores of girls who scored >= 93 in math\n",
      "# a DataFrame is returned\n",
      "score_panel.ix['Girls', score_panel.Girls.Math >= 93, :]"
     ],
     "language": "python",
     "metadata": {},
     "outputs": [
      {
       "html": [
        "<div style=\"max-height:1000px;max-width:1500px;overflow:auto;\">\n",
        "<table border=\"1\" class=\"dataframe\">\n",
        "  <thead>\n",
        "    <tr style=\"text-align: right;\">\n",
        "      <th></th>\n",
        "      <th>Physics</th>\n",
        "      <th>Math</th>\n",
        "    </tr>\n",
        "  </thead>\n",
        "  <tbody>\n",
        "    <tr>\n",
        "      <th>0</th>\n",
        "      <td> 95</td>\n",
        "      <td> 95</td>\n",
        "    </tr>\n",
        "    <tr>\n",
        "      <th>1</th>\n",
        "      <td> 95</td>\n",
        "      <td> 95</td>\n",
        "    </tr>\n",
        "    <tr>\n",
        "      <th>2</th>\n",
        "      <td> 96</td>\n",
        "      <td> 94</td>\n",
        "    </tr>\n",
        "    <tr>\n",
        "      <th>6</th>\n",
        "      <td> 96</td>\n",
        "      <td> 96</td>\n",
        "    </tr>\n",
        "    <tr>\n",
        "      <th>7</th>\n",
        "      <td> 94</td>\n",
        "      <td> 95</td>\n",
        "    </tr>\n",
        "    <tr>\n",
        "      <th>8</th>\n",
        "      <td> 96</td>\n",
        "      <td> 97</td>\n",
        "    </tr>\n",
        "  </tbody>\n",
        "</table>\n",
        "</div>"
       ],
       "metadata": {},
       "output_type": "pyout",
       "prompt_number": 18,
       "text": [
        "   Physics  Math\n",
        "0       95    95\n",
        "1       95    95\n",
        "2       96    94\n",
        "6       96    96\n",
        "7       94    95\n",
        "8       96    97"
       ]
      }
     ],
     "prompt_number": 18
    },
    {
     "cell_type": "markdown",
     "metadata": {},
     "source": [
      "### Split-Apply-Combine\n",
      "\n",
      "Many statistical summaries are in the form of split along some property, then apply a funciton to each subgroup and finally combine the results into some object. This is known as the 'split-apply-combine' pattern and implemnented in Pandas via groupby() and a function that can be applied to each subgroup."
     ]
    },
    {
     "cell_type": "code",
     "collapsed": false,
     "input": [
      "# import a DataFrame to play with\n",
      "try:\n",
      "    tips = pd.read_pickle('tips.pic')\n",
      "except:\n",
      "    tips = pd.read_csv('https://raw.github.com/vincentarelbundock/Rdatasets/master/csv/reshape2/tips.csv', )\n",
      "    tips.to_pickle('tips.pic')"
     ],
     "language": "python",
     "metadata": {},
     "outputs": [],
     "prompt_number": 19
    },
    {
     "cell_type": "code",
     "collapsed": false,
     "input": [
      "tips.head(n=4)"
     ],
     "language": "python",
     "metadata": {},
     "outputs": [
      {
       "html": [
        "<div style=\"max-height:1000px;max-width:1500px;overflow:auto;\">\n",
        "<table border=\"1\" class=\"dataframe\">\n",
        "  <thead>\n",
        "    <tr style=\"text-align: right;\">\n",
        "      <th></th>\n",
        "      <th>Unnamed: 0</th>\n",
        "      <th>total_bill</th>\n",
        "      <th>tip</th>\n",
        "      <th>sex</th>\n",
        "      <th>smoker</th>\n",
        "      <th>day</th>\n",
        "      <th>time</th>\n",
        "      <th>size</th>\n",
        "    </tr>\n",
        "  </thead>\n",
        "  <tbody>\n",
        "    <tr>\n",
        "      <th>0</th>\n",
        "      <td> 1</td>\n",
        "      <td> 16.99</td>\n",
        "      <td> 1.01</td>\n",
        "      <td> Female</td>\n",
        "      <td> No</td>\n",
        "      <td> Sun</td>\n",
        "      <td> Dinner</td>\n",
        "      <td> 2</td>\n",
        "    </tr>\n",
        "    <tr>\n",
        "      <th>1</th>\n",
        "      <td> 2</td>\n",
        "      <td> 10.34</td>\n",
        "      <td> 1.66</td>\n",
        "      <td>   Male</td>\n",
        "      <td> No</td>\n",
        "      <td> Sun</td>\n",
        "      <td> Dinner</td>\n",
        "      <td> 3</td>\n",
        "    </tr>\n",
        "    <tr>\n",
        "      <th>2</th>\n",
        "      <td> 3</td>\n",
        "      <td> 21.01</td>\n",
        "      <td> 3.50</td>\n",
        "      <td>   Male</td>\n",
        "      <td> No</td>\n",
        "      <td> Sun</td>\n",
        "      <td> Dinner</td>\n",
        "      <td> 3</td>\n",
        "    </tr>\n",
        "    <tr>\n",
        "      <th>3</th>\n",
        "      <td> 4</td>\n",
        "      <td> 23.68</td>\n",
        "      <td> 3.31</td>\n",
        "      <td>   Male</td>\n",
        "      <td> No</td>\n",
        "      <td> Sun</td>\n",
        "      <td> Dinner</td>\n",
        "      <td> 2</td>\n",
        "    </tr>\n",
        "  </tbody>\n",
        "</table>\n",
        "</div>"
       ],
       "metadata": {},
       "output_type": "pyout",
       "prompt_number": 20,
       "text": [
        "   Unnamed: 0  total_bill   tip     sex smoker  day    time  size\n",
        "0           1       16.99  1.01  Female     No  Sun  Dinner     2\n",
        "1           2       10.34  1.66    Male     No  Sun  Dinner     3\n",
        "2           3       21.01  3.50    Male     No  Sun  Dinner     3\n",
        "3           4       23.68  3.31    Male     No  Sun  Dinner     2"
       ]
      }
     ],
     "prompt_number": 20
    },
    {
     "cell_type": "code",
     "collapsed": false,
     "input": [
      "# We have an extra set of indices in the first column\n",
      "# Let's get rid of it\n",
      "\n",
      "tips = tips.ix[:, 1:]\n",
      "tips.head(n=4)"
     ],
     "language": "python",
     "metadata": {},
     "outputs": [
      {
       "html": [
        "<div style=\"max-height:1000px;max-width:1500px;overflow:auto;\">\n",
        "<table border=\"1\" class=\"dataframe\">\n",
        "  <thead>\n",
        "    <tr style=\"text-align: right;\">\n",
        "      <th></th>\n",
        "      <th>total_bill</th>\n",
        "      <th>tip</th>\n",
        "      <th>sex</th>\n",
        "      <th>smoker</th>\n",
        "      <th>day</th>\n",
        "      <th>time</th>\n",
        "      <th>size</th>\n",
        "    </tr>\n",
        "  </thead>\n",
        "  <tbody>\n",
        "    <tr>\n",
        "      <th>0</th>\n",
        "      <td> 16.99</td>\n",
        "      <td> 1.01</td>\n",
        "      <td> Female</td>\n",
        "      <td> No</td>\n",
        "      <td> Sun</td>\n",
        "      <td> Dinner</td>\n",
        "      <td> 2</td>\n",
        "    </tr>\n",
        "    <tr>\n",
        "      <th>1</th>\n",
        "      <td> 10.34</td>\n",
        "      <td> 1.66</td>\n",
        "      <td>   Male</td>\n",
        "      <td> No</td>\n",
        "      <td> Sun</td>\n",
        "      <td> Dinner</td>\n",
        "      <td> 3</td>\n",
        "    </tr>\n",
        "    <tr>\n",
        "      <th>2</th>\n",
        "      <td> 21.01</td>\n",
        "      <td> 3.50</td>\n",
        "      <td>   Male</td>\n",
        "      <td> No</td>\n",
        "      <td> Sun</td>\n",
        "      <td> Dinner</td>\n",
        "      <td> 3</td>\n",
        "    </tr>\n",
        "    <tr>\n",
        "      <th>3</th>\n",
        "      <td> 23.68</td>\n",
        "      <td> 3.31</td>\n",
        "      <td>   Male</td>\n",
        "      <td> No</td>\n",
        "      <td> Sun</td>\n",
        "      <td> Dinner</td>\n",
        "      <td> 2</td>\n",
        "    </tr>\n",
        "  </tbody>\n",
        "</table>\n",
        "</div>"
       ],
       "metadata": {},
       "output_type": "pyout",
       "prompt_number": 21,
       "text": [
        "   total_bill   tip     sex smoker  day    time  size\n",
        "0       16.99  1.01  Female     No  Sun  Dinner     2\n",
        "1       10.34  1.66    Male     No  Sun  Dinner     3\n",
        "2       21.01  3.50    Male     No  Sun  Dinner     3\n",
        "3       23.68  3.31    Male     No  Sun  Dinner     2"
       ]
      }
     ],
     "prompt_number": 21
    },
    {
     "cell_type": "code",
     "collapsed": false,
     "input": [
      "# For an example of the split-apply-combine pattern, we want to see counts by sex and smoker status.\n",
      "# In other words, we split by sex and smoker status to get 2x2 groups,\n",
      "# then apply the size function to count the number of entries per group\n",
      "# and finally combine the results into a new multi-index Series\n",
      "\n",
      "grouped = tips.groupby(['sex', 'smoker'])\n",
      "grouped.size()"
     ],
     "language": "python",
     "metadata": {},
     "outputs": [
      {
       "metadata": {},
       "output_type": "pyout",
       "prompt_number": 22,
       "text": [
        "sex     smoker\n",
        "Female  No        54\n",
        "        Yes       33\n",
        "Male    No        97\n",
        "        Yes       60\n",
        "dtype: int64"
       ]
      }
     ],
     "prompt_number": 22
    },
    {
     "cell_type": "code",
     "collapsed": false,
     "input": [
      "# If you need the margins, use the crosstab function\n",
      "\n",
      "pd.crosstab(tips.sex, tips.smoker, margins=True)"
     ],
     "language": "python",
     "metadata": {},
     "outputs": [
      {
       "html": [
        "<div style=\"max-height:1000px;max-width:1500px;overflow:auto;\">\n",
        "<table border=\"1\" class=\"dataframe\">\n",
        "  <thead>\n",
        "    <tr style=\"text-align: right;\">\n",
        "      <th>smoker</th>\n",
        "      <th>No</th>\n",
        "      <th>Yes</th>\n",
        "      <th>All</th>\n",
        "    </tr>\n",
        "    <tr>\n",
        "      <th>sex</th>\n",
        "      <th></th>\n",
        "      <th></th>\n",
        "      <th></th>\n",
        "    </tr>\n",
        "  </thead>\n",
        "  <tbody>\n",
        "    <tr>\n",
        "      <th>Female</th>\n",
        "      <td>  54</td>\n",
        "      <td> 33</td>\n",
        "      <td>  87</td>\n",
        "    </tr>\n",
        "    <tr>\n",
        "      <th>Male</th>\n",
        "      <td>  97</td>\n",
        "      <td> 60</td>\n",
        "      <td> 157</td>\n",
        "    </tr>\n",
        "    <tr>\n",
        "      <th>All</th>\n",
        "      <td> 151</td>\n",
        "      <td> 93</td>\n",
        "      <td> 244</td>\n",
        "    </tr>\n",
        "  </tbody>\n",
        "</table>\n",
        "</div>"
       ],
       "metadata": {},
       "output_type": "pyout",
       "prompt_number": 37,
       "text": [
        "smoker   No  Yes  All\n",
        "sex                  \n",
        "Female   54   33   87\n",
        "Male     97   60  157\n",
        "All     151   93  244"
       ]
      }
     ],
     "prompt_number": 37
    },
    {
     "cell_type": "code",
     "collapsed": false,
     "input": [
      "# If more than 1 column of resutls is generated, a DataFrame is returned\n",
      "\n",
      "grouped.mean()"
     ],
     "language": "python",
     "metadata": {},
     "outputs": [
      {
       "html": [
        "<div style=\"max-height:1000px;max-width:1500px;overflow:auto;\">\n",
        "<table border=\"1\" class=\"dataframe\">\n",
        "  <thead>\n",
        "    <tr style=\"text-align: right;\">\n",
        "      <th></th>\n",
        "      <th></th>\n",
        "      <th>total_bill</th>\n",
        "      <th>tip</th>\n",
        "      <th>size</th>\n",
        "    </tr>\n",
        "    <tr>\n",
        "      <th>sex</th>\n",
        "      <th>smoker</th>\n",
        "      <th></th>\n",
        "      <th></th>\n",
        "      <th></th>\n",
        "    </tr>\n",
        "  </thead>\n",
        "  <tbody>\n",
        "    <tr>\n",
        "      <th rowspan=\"2\" valign=\"top\">Female</th>\n",
        "      <th>No</th>\n",
        "      <td> 18.105185</td>\n",
        "      <td> 2.773519</td>\n",
        "      <td> 2.592593</td>\n",
        "    </tr>\n",
        "    <tr>\n",
        "      <th>Yes</th>\n",
        "      <td> 17.977879</td>\n",
        "      <td> 2.931515</td>\n",
        "      <td> 2.242424</td>\n",
        "    </tr>\n",
        "    <tr>\n",
        "      <th rowspan=\"2\" valign=\"top\">Male</th>\n",
        "      <th>No</th>\n",
        "      <td> 19.791237</td>\n",
        "      <td> 3.113402</td>\n",
        "      <td> 2.711340</td>\n",
        "    </tr>\n",
        "    <tr>\n",
        "      <th>Yes</th>\n",
        "      <td> 22.284500</td>\n",
        "      <td> 3.051167</td>\n",
        "      <td> 2.500000</td>\n",
        "    </tr>\n",
        "  </tbody>\n",
        "</table>\n",
        "</div>"
       ],
       "metadata": {},
       "output_type": "pyout",
       "prompt_number": 23,
       "text": [
        "               total_bill       tip      size\n",
        "sex    smoker                                \n",
        "Female No       18.105185  2.773519  2.592593\n",
        "       Yes      17.977879  2.931515  2.242424\n",
        "Male   No       19.791237  3.113402  2.711340\n",
        "       Yes      22.284500  3.051167  2.500000"
       ]
      }
     ],
     "prompt_number": 23
    },
    {
     "cell_type": "code",
     "collapsed": false,
     "input": [
      "# The returned results can be further manipulated via apply()\n",
      "# For example, suppose the bill and tips are in USD but we want EUR\n",
      "\n",
      "import json\n",
      "import urllib\n",
      "\n",
      "# get current conversion rate\n",
      "converter = json.loads(urllib.urlopen('http://rate-exchange.appspot.com/currency?from=USD&to=EUR').read())\n",
      "print converter\n",
      "grouped['total_bill', 'tip'].mean().apply(lambda x: x*converter['rate'])"
     ],
     "language": "python",
     "metadata": {},
     "outputs": [
      {
       "output_type": "stream",
       "stream": "stdout",
       "text": [
        "{u'to': u'EUR', u'rate': 0.879191, u'from': u'USD'}\n"
       ]
      },
      {
       "html": [
        "<div style=\"max-height:1000px;max-width:1500px;overflow:auto;\">\n",
        "<table border=\"1\" class=\"dataframe\">\n",
        "  <thead>\n",
        "    <tr style=\"text-align: right;\">\n",
        "      <th></th>\n",
        "      <th></th>\n",
        "      <th>total_bill</th>\n",
        "      <th>tip</th>\n",
        "    </tr>\n",
        "    <tr>\n",
        "      <th>sex</th>\n",
        "      <th>smoker</th>\n",
        "      <th></th>\n",
        "      <th></th>\n",
        "    </tr>\n",
        "  </thead>\n",
        "  <tbody>\n",
        "    <tr>\n",
        "      <th rowspan=\"2\" valign=\"top\">Female</th>\n",
        "      <th>No</th>\n",
        "      <td> 15.917916</td>\n",
        "      <td> 2.438453</td>\n",
        "    </tr>\n",
        "    <tr>\n",
        "      <th>Yes</th>\n",
        "      <td> 15.805989</td>\n",
        "      <td> 2.577362</td>\n",
        "    </tr>\n",
        "    <tr>\n",
        "      <th rowspan=\"2\" valign=\"top\">Male</th>\n",
        "      <th>No</th>\n",
        "      <td> 17.400278</td>\n",
        "      <td> 2.737275</td>\n",
        "    </tr>\n",
        "    <tr>\n",
        "      <th>Yes</th>\n",
        "      <td> 19.592332</td>\n",
        "      <td> 2.682558</td>\n",
        "    </tr>\n",
        "  </tbody>\n",
        "</table>\n",
        "</div>"
       ],
       "metadata": {},
       "output_type": "pyout",
       "prompt_number": 24,
       "text": [
        "               total_bill       tip\n",
        "sex    smoker                      \n",
        "Female No       15.917916  2.438453\n",
        "       Yes      15.805989  2.577362\n",
        "Male   No       17.400278  2.737275\n",
        "       Yes      19.592332  2.682558"
       ]
      }
     ],
     "prompt_number": 24
    },
    {
     "cell_type": "code",
     "collapsed": false,
     "input": [
      "# We can also transform the original data for more convenient analysis\n",
      "# For example, suppose we want standardized units for total bill and tips\n",
      "\n",
      "zscore = lambda x: (x - x.mean())/x.std()\n",
      "\n",
      "std_grouped = grouped['total_bill', 'tip'].transform(zscore)\n",
      "std_grouped.head(n=4)"
     ],
     "language": "python",
     "metadata": {},
     "outputs": [
      {
       "html": [
        "<div style=\"max-height:1000px;max-width:1500px;overflow:auto;\">\n",
        "<table border=\"1\" class=\"dataframe\">\n",
        "  <thead>\n",
        "    <tr style=\"text-align: right;\">\n",
        "      <th></th>\n",
        "      <th>total_bill</th>\n",
        "      <th>tip</th>\n",
        "    </tr>\n",
        "  </thead>\n",
        "  <tbody>\n",
        "    <tr>\n",
        "      <th>0</th>\n",
        "      <td>-0.153049</td>\n",
        "      <td>-1.562813</td>\n",
        "    </tr>\n",
        "    <tr>\n",
        "      <th>1</th>\n",
        "      <td>-1.083042</td>\n",
        "      <td>-0.975727</td>\n",
        "    </tr>\n",
        "    <tr>\n",
        "      <th>2</th>\n",
        "      <td> 0.139661</td>\n",
        "      <td> 0.259539</td>\n",
        "    </tr>\n",
        "    <tr>\n",
        "      <th>3</th>\n",
        "      <td> 0.445623</td>\n",
        "      <td> 0.131984</td>\n",
        "    </tr>\n",
        "  </tbody>\n",
        "</table>\n",
        "</div>"
       ],
       "metadata": {},
       "output_type": "pyout",
       "prompt_number": 25,
       "text": [
        "   total_bill       tip\n",
        "0   -0.153049 -1.562813\n",
        "1   -1.083042 -0.975727\n",
        "2    0.139661  0.259539\n",
        "3    0.445623  0.131984"
       ]
      }
     ],
     "prompt_number": 25
    },
    {
     "cell_type": "code",
     "collapsed": false,
     "input": [
      "# Suppose we want to apply a set of functions to only some columns\n",
      "grouped['total_bill', 'tip'].agg(['mean', 'min', 'max'])"
     ],
     "language": "python",
     "metadata": {},
     "outputs": [
      {
       "html": [
        "<div style=\"max-height:1000px;max-width:1500px;overflow:auto;\">\n",
        "<table border=\"1\" class=\"dataframe\">\n",
        "  <thead>\n",
        "    <tr>\n",
        "      <th></th>\n",
        "      <th></th>\n",
        "      <th colspan=\"3\" halign=\"left\">total_bill</th>\n",
        "      <th colspan=\"3\" halign=\"left\">tip</th>\n",
        "    </tr>\n",
        "    <tr>\n",
        "      <th></th>\n",
        "      <th></th>\n",
        "      <th>mean</th>\n",
        "      <th>min</th>\n",
        "      <th>max</th>\n",
        "      <th>mean</th>\n",
        "      <th>min</th>\n",
        "      <th>max</th>\n",
        "    </tr>\n",
        "    <tr>\n",
        "      <th>sex</th>\n",
        "      <th>smoker</th>\n",
        "      <th></th>\n",
        "      <th></th>\n",
        "      <th></th>\n",
        "      <th></th>\n",
        "      <th></th>\n",
        "      <th></th>\n",
        "    </tr>\n",
        "  </thead>\n",
        "  <tbody>\n",
        "    <tr>\n",
        "      <th rowspan=\"2\" valign=\"top\">Female</th>\n",
        "      <th>No</th>\n",
        "      <td> 18.105185</td>\n",
        "      <td> 7.25</td>\n",
        "      <td> 35.83</td>\n",
        "      <td> 2.773519</td>\n",
        "      <td> 1.00</td>\n",
        "      <td>  5.2</td>\n",
        "    </tr>\n",
        "    <tr>\n",
        "      <th>Yes</th>\n",
        "      <td> 17.977879</td>\n",
        "      <td> 3.07</td>\n",
        "      <td> 44.30</td>\n",
        "      <td> 2.931515</td>\n",
        "      <td> 1.00</td>\n",
        "      <td>  6.5</td>\n",
        "    </tr>\n",
        "    <tr>\n",
        "      <th rowspan=\"2\" valign=\"top\">Male</th>\n",
        "      <th>No</th>\n",
        "      <td> 19.791237</td>\n",
        "      <td> 7.51</td>\n",
        "      <td> 48.33</td>\n",
        "      <td> 3.113402</td>\n",
        "      <td> 1.25</td>\n",
        "      <td>  9.0</td>\n",
        "    </tr>\n",
        "    <tr>\n",
        "      <th>Yes</th>\n",
        "      <td> 22.284500</td>\n",
        "      <td> 7.25</td>\n",
        "      <td> 50.81</td>\n",
        "      <td> 3.051167</td>\n",
        "      <td> 1.00</td>\n",
        "      <td> 10.0</td>\n",
        "    </tr>\n",
        "  </tbody>\n",
        "</table>\n",
        "</div>"
       ],
       "metadata": {},
       "output_type": "pyout",
       "prompt_number": 26,
       "text": [
        "              total_bill                    tip            \n",
        "                    mean   min    max      mean   min   max\n",
        "sex    smoker                                              \n",
        "Female No      18.105185  7.25  35.83  2.773519  1.00   5.2\n",
        "       Yes     17.977879  3.07  44.30  2.931515  1.00   6.5\n",
        "Male   No      19.791237  7.51  48.33  3.113402  1.25   9.0\n",
        "       Yes     22.284500  7.25  50.81  3.051167  1.00  10.0"
       ]
      }
     ],
     "prompt_number": 26
    },
    {
     "cell_type": "code",
     "collapsed": false,
     "input": [
      "# We can also apply specific functions to specific columns\n",
      "df = grouped.agg({'total_bill': (min, max), 'tip': sum})\n",
      "df"
     ],
     "language": "python",
     "metadata": {},
     "outputs": [
      {
       "html": [
        "<div style=\"max-height:1000px;max-width:1500px;overflow:auto;\">\n",
        "<table border=\"1\" class=\"dataframe\">\n",
        "  <thead>\n",
        "    <tr>\n",
        "      <th></th>\n",
        "      <th></th>\n",
        "      <th>tip</th>\n",
        "      <th colspan=\"2\" halign=\"left\">total_bill</th>\n",
        "    </tr>\n",
        "    <tr>\n",
        "      <th></th>\n",
        "      <th></th>\n",
        "      <th>sum</th>\n",
        "      <th>min</th>\n",
        "      <th>max</th>\n",
        "    </tr>\n",
        "    <tr>\n",
        "      <th>sex</th>\n",
        "      <th>smoker</th>\n",
        "      <th></th>\n",
        "      <th></th>\n",
        "      <th></th>\n",
        "    </tr>\n",
        "  </thead>\n",
        "  <tbody>\n",
        "    <tr>\n",
        "      <th rowspan=\"2\" valign=\"top\">Female</th>\n",
        "      <th>No</th>\n",
        "      <td> 149.77</td>\n",
        "      <td> 7.25</td>\n",
        "      <td> 35.83</td>\n",
        "    </tr>\n",
        "    <tr>\n",
        "      <th>Yes</th>\n",
        "      <td>  96.74</td>\n",
        "      <td> 3.07</td>\n",
        "      <td> 44.30</td>\n",
        "    </tr>\n",
        "    <tr>\n",
        "      <th rowspan=\"2\" valign=\"top\">Male</th>\n",
        "      <th>No</th>\n",
        "      <td> 302.00</td>\n",
        "      <td> 7.51</td>\n",
        "      <td> 48.33</td>\n",
        "    </tr>\n",
        "    <tr>\n",
        "      <th>Yes</th>\n",
        "      <td> 183.07</td>\n",
        "      <td> 7.25</td>\n",
        "      <td> 50.81</td>\n",
        "    </tr>\n",
        "  </tbody>\n",
        "</table>\n",
        "</div>"
       ],
       "metadata": {},
       "output_type": "pyout",
       "prompt_number": 27,
       "text": [
        "                  tip total_bill       \n",
        "                  sum        min    max\n",
        "sex    smoker                          \n",
        "Female No      149.77       7.25  35.83\n",
        "       Yes      96.74       3.07  44.30\n",
        "Male   No      302.00       7.51  48.33\n",
        "       Yes     183.07       7.25  50.81"
       ]
      }
     ],
     "prompt_number": 27
    },
    {
     "cell_type": "markdown",
     "metadata": {},
     "source": [
      "### Using statsmodels\n",
      "\n",
      "Many of the basic statistical tools available in R are replicted in the `statsmodels` package. We will only show one example."
     ]
    },
    {
     "cell_type": "code",
     "collapsed": false,
     "input": [
      "# Simulate the genotype for 4 SNPs in a case-control study using an additive genetic model\n",
      "\n",
      "n = 1000\n",
      "status = np.random.choice([0,1], n )\n",
      "genotype = np.random.choice([0,1,2], (n,4))\n",
      "genotype[status==0] = np.random.choice([0,1,2], (sum(status==0), 4), p=[0.33, 0.33, 0.34])\n",
      "genotype[status==1] = np.random.choice([0,1,2], (sum(status==1), 4), p=[0.2, 0.3, 0.5])\n",
      "df = DataFrame(np.hstack([status[:, np.newaxis], genotype]), columns=['status', 'SNP1', 'SNP2', 'SNP3', 'SNP4'])\n",
      "df.head(6)"
     ],
     "language": "python",
     "metadata": {},
     "outputs": [
      {
       "html": [
        "<div style=\"max-height:1000px;max-width:1500px;overflow:auto;\">\n",
        "<table border=\"1\" class=\"dataframe\">\n",
        "  <thead>\n",
        "    <tr style=\"text-align: right;\">\n",
        "      <th></th>\n",
        "      <th>status</th>\n",
        "      <th>SNP1</th>\n",
        "      <th>SNP2</th>\n",
        "      <th>SNP3</th>\n",
        "      <th>SNP4</th>\n",
        "    </tr>\n",
        "  </thead>\n",
        "  <tbody>\n",
        "    <tr>\n",
        "      <th>0</th>\n",
        "      <td> 0</td>\n",
        "      <td> 2</td>\n",
        "      <td> 1</td>\n",
        "      <td> 2</td>\n",
        "      <td> 0</td>\n",
        "    </tr>\n",
        "    <tr>\n",
        "      <th>1</th>\n",
        "      <td> 1</td>\n",
        "      <td> 1</td>\n",
        "      <td> 0</td>\n",
        "      <td> 2</td>\n",
        "      <td> 2</td>\n",
        "    </tr>\n",
        "    <tr>\n",
        "      <th>2</th>\n",
        "      <td> 1</td>\n",
        "      <td> 0</td>\n",
        "      <td> 1</td>\n",
        "      <td> 2</td>\n",
        "      <td> 1</td>\n",
        "    </tr>\n",
        "    <tr>\n",
        "      <th>3</th>\n",
        "      <td> 1</td>\n",
        "      <td> 2</td>\n",
        "      <td> 2</td>\n",
        "      <td> 1</td>\n",
        "      <td> 2</td>\n",
        "    </tr>\n",
        "    <tr>\n",
        "      <th>4</th>\n",
        "      <td> 1</td>\n",
        "      <td> 1</td>\n",
        "      <td> 2</td>\n",
        "      <td> 0</td>\n",
        "      <td> 1</td>\n",
        "    </tr>\n",
        "    <tr>\n",
        "      <th>5</th>\n",
        "      <td> 1</td>\n",
        "      <td> 0</td>\n",
        "      <td> 0</td>\n",
        "      <td> 1</td>\n",
        "      <td> 2</td>\n",
        "    </tr>\n",
        "  </tbody>\n",
        "</table>\n",
        "</div>"
       ],
       "metadata": {},
       "output_type": "pyout",
       "prompt_number": 28,
       "text": [
        "   status  SNP1  SNP2  SNP3  SNP4\n",
        "0       0     2     1     2     0\n",
        "1       1     1     0     2     2\n",
        "2       1     0     1     2     1\n",
        "3       1     2     2     1     2\n",
        "4       1     1     2     0     1\n",
        "5       1     0     0     1     2"
       ]
      }
     ],
     "prompt_number": 28
    },
    {
     "cell_type": "code",
     "collapsed": false,
     "input": [
      "# Use statsmodels to fit a logistic regression to  the data\n",
      "fit1 = sm.Logit.from_formula('status ~ %s' % '+'.join(df.columns[1:]), data=df).fit()\n",
      "fit1.summary()"
     ],
     "language": "python",
     "metadata": {},
     "outputs": [
      {
       "output_type": "stream",
       "stream": "stdout",
       "text": [
        "Optimization terminated successfully.\n",
        "         Current function value: 0.642824\n",
        "         Iterations 5\n"
       ]
      },
      {
       "html": [
        "<table class=\"simpletable\">\n",
        "<caption>Logit Regression Results</caption>\n",
        "<tr>\n",
        "  <th>Dep. Variable:</th>      <td>status</td>      <th>  No. Observations:  </th>  <td>  1000</td>  \n",
        "</tr>\n",
        "<tr>\n",
        "  <th>Model:</th>               <td>Logit</td>      <th>  Df Residuals:      </th>  <td>   995</td>  \n",
        "</tr>\n",
        "<tr>\n",
        "  <th>Method:</th>               <td>MLE</td>       <th>  Df Model:          </th>  <td>     4</td>  \n",
        "</tr>\n",
        "<tr>\n",
        "  <th>Date:</th>          <td>Thu, 22 Jan 2015</td> <th>  Pseudo R-squ.:     </th>  <td>0.07259</td> \n",
        "</tr>\n",
        "<tr>\n",
        "  <th>Time:</th>              <td>15:34:43</td>     <th>  Log-Likelihood:    </th> <td> -642.82</td> \n",
        "</tr>\n",
        "<tr>\n",
        "  <th>converged:</th>           <td>True</td>       <th>  LL-Null:           </th> <td> -693.14</td> \n",
        "</tr>\n",
        "<tr>\n",
        "  <th> </th>                      <td> </td>        <th>  LLR p-value:       </th> <td>7.222e-21</td>\n",
        "</tr>\n",
        "</table>\n",
        "<table class=\"simpletable\">\n",
        "<tr>\n",
        "      <td></td>         <th>coef</th>     <th>std err</th>      <th>z</th>      <th>P>|z|</th> <th>[95.0% Conf. Int.]</th> \n",
        "</tr>\n",
        "<tr>\n",
        "  <th>Intercept</th> <td>   -1.7409</td> <td>    0.203</td> <td>   -8.560</td> <td> 0.000</td> <td>   -2.140    -1.342</td>\n",
        "</tr>\n",
        "<tr>\n",
        "  <th>SNP1</th>      <td>    0.4306</td> <td>    0.083</td> <td>    5.173</td> <td> 0.000</td> <td>    0.267     0.594</td>\n",
        "</tr>\n",
        "<tr>\n",
        "  <th>SNP2</th>      <td>    0.3155</td> <td>    0.081</td> <td>    3.882</td> <td> 0.000</td> <td>    0.156     0.475</td>\n",
        "</tr>\n",
        "<tr>\n",
        "  <th>SNP3</th>      <td>    0.2255</td> <td>    0.082</td> <td>    2.750</td> <td> 0.006</td> <td>    0.065     0.386</td>\n",
        "</tr>\n",
        "<tr>\n",
        "  <th>SNP4</th>      <td>    0.5341</td> <td>    0.083</td> <td>    6.404</td> <td> 0.000</td> <td>    0.371     0.698</td>\n",
        "</tr>\n",
        "</table>"
       ],
       "metadata": {},
       "output_type": "pyout",
       "prompt_number": 29,
       "text": [
        "<class 'statsmodels.iolib.summary.Summary'>\n",
        "\"\"\"\n",
        "                           Logit Regression Results                           \n",
        "==============================================================================\n",
        "Dep. Variable:                 status   No. Observations:                 1000\n",
        "Model:                          Logit   Df Residuals:                      995\n",
        "Method:                           MLE   Df Model:                            4\n",
        "Date:                Thu, 22 Jan 2015   Pseudo R-squ.:                 0.07259\n",
        "Time:                        15:34:43   Log-Likelihood:                -642.82\n",
        "converged:                       True   LL-Null:                       -693.14\n",
        "                                        LLR p-value:                 7.222e-21\n",
        "==============================================================================\n",
        "                 coef    std err          z      P>|z|      [95.0% Conf. Int.]\n",
        "------------------------------------------------------------------------------\n",
        "Intercept     -1.7409      0.203     -8.560      0.000        -2.140    -1.342\n",
        "SNP1           0.4306      0.083      5.173      0.000         0.267     0.594\n",
        "SNP2           0.3155      0.081      3.882      0.000         0.156     0.475\n",
        "SNP3           0.2255      0.082      2.750      0.006         0.065     0.386\n",
        "SNP4           0.5341      0.083      6.404      0.000         0.371     0.698\n",
        "==============================================================================\n",
        "\"\"\""
       ]
      }
     ],
     "prompt_number": 29
    },
    {
     "cell_type": "code",
     "collapsed": false,
     "input": [
      "# Alternative using GLM - similar to R\n",
      "fit2 = sm.GLM.from_formula('status ~ SNP1 + SNP2 + SNP3 + SNP4', data=df, family=sm.families.Binomial()).fit()\n",
      "print fit2.summary()\n",
      "print chisqprob(fit2.null_deviance - fit2.deviance, fit2.df_model)\n",
      "print(fit2.null_deviance - fit2.deviance, fit2.df_model)"
     ],
     "language": "python",
     "metadata": {},
     "outputs": [
      {
       "output_type": "stream",
       "stream": "stdout",
       "text": [
        "                 Generalized Linear Model Regression Results                  \n",
        "==============================================================================\n",
        "Dep. Variable:                 status   No. Observations:                 1000\n",
        "Model:                            GLM   Df Residuals:                      995\n",
        "Model Family:                Binomial   Df Model:                            4\n",
        "Link Function:                  logit   Scale:                             1.0\n",
        "Method:                          IRLS   Log-Likelihood:                -642.82\n",
        "Date:                Thu, 22 Jan 2015   Deviance:                       1285.6\n",
        "Time:                        15:34:43   Pearson chi2:                 1.01e+03\n",
        "No. Iterations:                     5                                         \n",
        "==============================================================================\n",
        "                 coef    std err          t      P>|t|      [95.0% Conf. Int.]\n",
        "------------------------------------------------------------------------------\n",
        "Intercept     -1.7409      0.203     -8.560      0.000        -2.140    -1.342\n",
        "SNP1           0.4306      0.083      5.173      0.000         0.267     0.594\n",
        "SNP2           0.3155      0.081      3.882      0.000         0.156     0.475\n",
        "SNP3           0.2255      0.082      2.750      0.006         0.065     0.386\n",
        "SNP4           0.5341      0.083      6.404      0.000         0.371     0.698\n",
        "==============================================================================\n",
        "7.22229516479e-21\n",
        "(100.63019840179481, 4)\n"
       ]
      }
     ],
     "prompt_number": 30
    },
    {
     "cell_type": "markdown",
     "metadata": {},
     "source": [
      "## Using R from IPython\n",
      "\n",
      "While Python support for statstical computing is rapidly improving (especially with the pandas, statsmodels and scikit-learn modules), the R ecosystem is staill vastly larger. However, we can have our cake and eat it too, since IPyhton allows us to run R (almost) seamlessly with the Rmagic (rpy2.ipython) extension. \n",
      "\n",
      "There are two ways to use Rmagic - using %R (appleis to single line) and %%R (applies to entire cell). Python objects can be passed into R with the -i flag and R objects pased out with the -o flag."
     ]
    },
    {
     "cell_type": "code",
     "collapsed": false,
     "input": [
      "! pip install ggplot &> /dev/null"
     ],
     "language": "python",
     "metadata": {},
     "outputs": [],
     "prompt_number": 31
    },
    {
     "cell_type": "markdown",
     "metadata": {},
     "source": [
      "### Using Rmagic"
     ]
    },
    {
     "cell_type": "code",
     "collapsed": false,
     "input": [
      "%load_ext rpy2.ipython"
     ],
     "language": "python",
     "metadata": {},
     "outputs": [],
     "prompt_number": 32
    },
    {
     "cell_type": "code",
     "collapsed": false,
     "input": [
      "%%R -i df,status -o fit\n",
      "\n",
      "fit <- glm(status ~ ., data=df)\n",
      "print(summary(fit))\n",
      "print(fit$null.deviance - fit$deviance)\n",
      "print(fit$df.null - fit$df.residual)\n",
      "with(fit, pchisq(null.deviance - deviance, df.null - df.residual, lower.tail = FALSE))"
     ],
     "language": "python",
     "metadata": {},
     "outputs": [
      {
       "metadata": {},
       "output_type": "display_data",
       "text": [
        "\n",
        "Call:\n",
        "glm(formula = status ~ ., data = df)\n",
        "\n",
        "Deviance Residuals: \n",
        "    Min       1Q   Median       3Q      Max  \n",
        "-0.7927  -0.4464   0.2073   0.4301   0.8999  \n",
        "\n",
        "Coefficients:\n",
        "            Estimate Std. Error t value Pr(>|t|)    \n",
        "(Intercept)  0.10014    0.04323   2.316  0.02075 *  \n",
        "SNP1         0.09904    0.01874   5.285 1.55e-07 ***\n",
        "SNP2         0.07217    0.01836   3.932 9.01e-05 ***\n",
        "SNP3         0.05135    0.01856   2.767  0.00576 ** \n",
        "SNP4         0.12372    0.01869   6.620 5.86e-11 ***\n",
        "---\n",
        "Signif. codes:  0 \u2018***\u2019 0.001 \u2018**\u2019 0.01 \u2018*\u2019 0.05 \u2018.\u2019 0.1 \u2018 \u2019 1\n",
        "\n",
        "(Dispersion parameter for gaussian family taken to be 0.2269642)\n",
        "\n",
        "    Null deviance: 250.00  on 999  degrees of freedom\n",
        "Residual deviance: 225.83  on 995  degrees of freedom\n",
        "AIC: 1361.9\n",
        "\n",
        "Number of Fisher Scoring iterations: 2\n",
        "\n",
        "[1] 24.16657\n",
        "[1] 4\n",
        "[1] 7.396261e-05\n"
       ]
      }
     ],
     "prompt_number": 33
    },
    {
     "cell_type": "markdown",
     "metadata": {},
     "source": [
      "#### Using rpy2 directly"
     ]
    },
    {
     "cell_type": "code",
     "collapsed": false,
     "input": [
      "import rpy2.robjects as ro\n",
      "from rpy2.robjects.packages import importr\n",
      "\n",
      "base = importr('base')\n",
      "\n",
      "fit_full = ro.r(\"lm('mpg ~ wt + cyl', data=mtcars)\")\n",
      "print(base.summary(fit_full))"
     ],
     "language": "python",
     "metadata": {},
     "outputs": [
      {
       "output_type": "stream",
       "stream": "stdout",
       "text": [
        "\n",
        "Call:\n",
        "lm(formula = \"mpg ~ wt + cyl\", data = mtcars)\n",
        "\n",
        "Residuals:\n",
        "    Min      1Q  Median      3Q     Max \n",
        "-4.2893 -1.5512 -0.4684  1.5743  6.1004 \n",
        "\n",
        "Coefficients:\n",
        "            Estimate Std. Error t value Pr(>|t|)    \n",
        "(Intercept)  39.6863     1.7150  23.141  < 2e-16 ***\n",
        "wt           -3.1910     0.7569  -4.216 0.000222 ***\n",
        "cyl          -1.5078     0.4147  -3.636 0.001064 ** \n",
        "---\n",
        "Signif. codes:  0 \u2018***\u2019 0.001 \u2018**\u2019 0.01 \u2018*\u2019 0.05 \u2018.\u2019 0.1 \u2018 \u2019 1\n",
        "\n",
        "Residual standard error: 2.568 on 29 degrees of freedom\n",
        "Multiple R-squared:  0.8302,\tAdjusted R-squared:  0.8185 \n",
        "F-statistic: 70.91 on 2 and 29 DF,  p-value: 6.809e-12\n",
        "\n",
        "\n"
       ]
      }
     ],
     "prompt_number": 34
    },
    {
     "cell_type": "markdown",
     "metadata": {},
     "source": [
      "### Using R from pandas"
     ]
    },
    {
     "cell_type": "markdown",
     "metadata": {},
     "source": [
      "#### Reading R dataset into Python"
     ]
    },
    {
     "cell_type": "code",
     "collapsed": false,
     "input": [
      "import pandas.rpy.common as com\n",
      "\n",
      "df = com.load_data('mtcars')\n",
      "print df.head(n=6)"
     ],
     "language": "python",
     "metadata": {},
     "outputs": [
      {
       "output_type": "stream",
       "stream": "stdout",
       "text": [
        "    mpg  cyl  disp   hp  drat     wt   qsec  vs  am  gear  carb\n",
        "0  21.0    6   160  110  3.90  2.620  16.46   0   1     4     4\n",
        "1  21.0    6   160  110  3.90  2.875  17.02   0   1     4     4\n",
        "2  22.8    4   108   93  3.85  2.320  18.61   1   1     4     1\n",
        "3  21.4    6   258  110  3.08  3.215  19.44   1   0     3     1\n",
        "4  18.7    8   360  175  3.15  3.440  17.02   0   0     3     2\n",
        "5  18.1    6   225  105  2.76  3.460  20.22   1   0     3     1\n"
       ]
      }
     ],
     "prompt_number": 35
    },
    {
     "cell_type": "code",
     "collapsed": false,
     "input": [
      "%load_ext version_information\n",
      "\n",
      "%version_information numpy, matplotlib, pandas, statsmodels"
     ],
     "language": "python",
     "metadata": {},
     "outputs": [
      {
       "html": [
        "<table><tr><th>Software</th><th>Version</th></tr><tr><td>Python</td><td>2.7.9 64bit [GCC 4.2.1 (Apple Inc. build 5577)]</td></tr><tr><td>IPython</td><td>2.3.1</td></tr><tr><td>OS</td><td>Darwin 13.4.0 x86_64 i386 64bit</td></tr><tr><td>numpy</td><td>1.9.1</td></tr><tr><td>matplotlib</td><td>1.4.2</td></tr><tr><td>pandas</td><td>0.15.1</td></tr><tr><td>statsmodels</td><td>0.5.0</td></tr><tr><td colspan='2'>Thu Jan 22 15:34:45 2015 EST</td></tr></table>"
       ],
       "json": [
        "{\"Software versions\": [{\"version\": \"2.7.9 64bit [GCC 4.2.1 (Apple Inc. build 5577)]\", \"module\": \"Python\"}, {\"version\": \"2.3.1\", \"module\": \"IPython\"}, {\"version\": \"Darwin 13.4.0 x86_64 i386 64bit\", \"module\": \"OS\"}, {\"version\": \"1.9.1\", \"module\": \"numpy\"}, {\"version\": \"1.4.2\", \"module\": \"matplotlib\"}, {\"version\": \"0.15.1\", \"module\": \"pandas\"}, {\"version\": \"0.5.0\", \"module\": \"statsmodels\"}]}"
       ],
       "latex": [
        "\\begin{tabular}{|l|l|}\\hline\n",
        "{\\bf Software} & {\\bf Version} \\\\ \\hline\\hline\n",
        "Python & 2.7.9 64bit [GCC 4.2.1 (Apple Inc. build 5577)] \\\\ \\hline\n",
        "IPython & 2.3.1 \\\\ \\hline\n",
        "OS & Darwin 13.4.0 x86\\_64 i386 64bit \\\\ \\hline\n",
        "numpy & 1.9.1 \\\\ \\hline\n",
        "matplotlib & 1.4.2 \\\\ \\hline\n",
        "pandas & 0.15.1 \\\\ \\hline\n",
        "statsmodels & 0.5.0 \\\\ \\hline\n",
        "\\hline \\multicolumn{2}{|l|}{Thu Jan 22 15:34:45 2015 EST} \\\\ \\hline\n",
        "\\end{tabular}\n"
       ],
       "metadata": {},
       "output_type": "pyout",
       "prompt_number": 36,
       "text": [
        "Software versions\n",
        "Python 2.7.9 64bit [GCC 4.2.1 (Apple Inc. build 5577)]\n",
        "IPython 2.3.1\n",
        "OS Darwin 13.4.0 x86_64 i386 64bit\n",
        "numpy 1.9.1\n",
        "matplotlib 1.4.2\n",
        "pandas 0.15.1\n",
        "statsmodels 0.5.0\n",
        "Thu Jan 22 15:34:45 2015 EST"
       ]
      }
     ],
     "prompt_number": 36
    }
   ],
   "metadata": {}
  }
 ]
}