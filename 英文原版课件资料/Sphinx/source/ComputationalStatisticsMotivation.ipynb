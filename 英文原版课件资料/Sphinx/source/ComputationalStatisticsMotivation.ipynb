{
 "cells": [
  {
   "cell_type": "code",
   "execution_count": 29,
   "metadata": {
    "collapsed": false
   },
   "outputs": [],
   "source": [
    "import os\n",
    "import sys\n",
    "import glob\n",
    "import matplotlib.pyplot as plt\n",
    "import numpy as np\n",
    "import pandas as pd\n",
    "%matplotlib inline\n",
    "%precision 4\n",
    "np.random.seed(1)\n",
    "plt.style.use('ggplot')"
   ]
  },
  {
   "cell_type": "code",
   "execution_count": 30,
   "metadata": {
    "collapsed": false
   },
   "outputs": [],
   "source": [
    "import scipy.stats as st"
   ]
  },
  {
   "cell_type": "markdown",
   "metadata": {},
   "source": [
    "Computational problems in statistics\n",
    "====\n",
    "\n",
    "Starting with some data (which may come from an experiment or a simulation), we often use statsitics to answer a few typcical questions:\n",
    "\n",
    "- How well does the data match some assumed (null) distribution [hypotehsis testing]?\n",
    "- If it doesn't match well but we think it is likely to belong to a known family of distributions, can we estiamte the parameters [point estimate]?\n",
    "- How accurate are the parameter estimates [interval estimates]?\n",
    "- Can we estimate the entire distribution [function estimation or approximation]?\n",
    "\n",
    "Most commonly, the computational approaches used to address these questions will involve\n",
    "\n",
    "- minimization off residuals (e.g. least squeares)\n",
    "    - Numerical optimization\n",
    "- maximum likelihood\n",
    "    - Numerical optimization\n",
    "    - Expectation maximization (EM)\n",
    "- Monte Carlo methods\n",
    "    - Simulation of null distribution (bootstrap, permutation)\n",
    "    - Estimation of posterior density (Monte Carlo integration, MCMC, EM) \n",
    "\n",
    "Rarely (i.e. textbook examples), we can find a closed form solution to these problems."
   ]
  },
  {
   "cell_type": "markdown",
   "metadata": {},
   "source": [
    "Textbook example - is coin fair?\n",
    "----\n",
    "\n",
    "Data comes from simulation."
   ]
  },
  {
   "cell_type": "code",
   "execution_count": 31,
   "metadata": {
    "collapsed": false
   },
   "outputs": [
    {
     "name": "stdout",
     "output_type": "stream",
     "text": [
      "62\n"
     ]
    }
   ],
   "source": [
    "n = 100\n",
    "pcoin = 0.62 # actual value of p for coin\n",
    "results = st.bernoulli(pcoin).rvs(n)\n",
    "h = sum(results)\n",
    "print h"
   ]
  },
  {
   "cell_type": "code",
   "execution_count": 32,
   "metadata": {
    "collapsed": false
   },
   "outputs": [
    {
     "data": {
      "text/plain": [
       "(50.0000, 5.0000)"
      ]
     },
     "execution_count": 32,
     "metadata": {},
     "output_type": "execute_result"
    }
   ],
   "source": [
    "# Expected distribution for fair coin\n",
    "p = 0.5\n",
    "rv = st.binom(n, p)\n",
    "mu = rv.mean()\n",
    "sd = rv.std()\n",
    "mu, sd"
   ]
  },
  {
   "cell_type": "markdown",
   "metadata": {},
   "source": [
    "### Using binomial test\n",
    "\n",
    "Hypothesis testing framework."
   ]
  },
  {
   "cell_type": "code",
   "execution_count": 33,
   "metadata": {
    "collapsed": false
   },
   "outputs": [
    {
     "data": {
      "text/plain": [
       "0.0210"
      ]
     },
     "execution_count": 33,
     "metadata": {},
     "output_type": "execute_result"
    }
   ],
   "source": [
    "st.binom_test(h, n, p)"
   ]
  },
  {
   "cell_type": "markdown",
   "metadata": {},
   "source": [
    "### Using z-test approximation with continuity correction\n",
    "\n",
    "Use of approximation when true solution is computatioanlly expensive."
   ]
  },
  {
   "cell_type": "code",
   "execution_count": 34,
   "metadata": {
    "collapsed": false
   },
   "outputs": [
    {
     "data": {
      "text/plain": [
       "2.3000"
      ]
     },
     "execution_count": 34,
     "metadata": {},
     "output_type": "execute_result"
    }
   ],
   "source": [
    "z = (h-0.5-mu)/sd\n",
    "z"
   ]
  },
  {
   "cell_type": "code",
   "execution_count": 35,
   "metadata": {
    "collapsed": false
   },
   "outputs": [
    {
     "data": {
      "text/plain": [
       "0.0214"
      ]
     },
     "execution_count": 35,
     "metadata": {},
     "output_type": "execute_result"
    }
   ],
   "source": [
    "2*(1 - st.norm.cdf(z))"
   ]
  },
  {
   "cell_type": "markdown",
   "metadata": {},
   "source": [
    "### Using simulation to estimate null distribution\n",
    "\n",
    "Use simulaiton when we don't have any theory (e.g. data doesen't meet assumptions of test)"
   ]
  },
  {
   "cell_type": "code",
   "execution_count": 36,
   "metadata": {
    "collapsed": false
   },
   "outputs": [],
   "source": [
    "nsamples = 100000\n",
    "xs = np.random.binomial(n, p, nsamples)"
   ]
  },
  {
   "cell_type": "code",
   "execution_count": 37,
   "metadata": {
    "collapsed": false
   },
   "outputs": [
    {
     "data": {
      "text/plain": [
       "0.0202"
      ]
     },
     "execution_count": 37,
     "metadata": {},
     "output_type": "execute_result"
    }
   ],
   "source": [
    "2*np.sum(xs >= h)/(xs.size + 0.0)"
   ]
  },
  {
   "cell_type": "markdown",
   "metadata": {},
   "source": [
    "### Maximum likelihood estimate of pcoin\n",
    "\n",
    "Point estimate of parameter."
   ]
  },
  {
   "cell_type": "code",
   "execution_count": 38,
   "metadata": {
    "collapsed": false
   },
   "outputs": [
    {
     "name": "stdout",
     "output_type": "stream",
     "text": [
      "Maximum likelihood 0.62\n"
     ]
    }
   ],
   "source": [
    "print \"Maximum likelihood\", np.sum(results)/float(len(results))"
   ]
  },
  {
   "cell_type": "markdown",
   "metadata": {},
   "source": [
    "### Using bootstrap to esitmate confidenc intervals for pcoin\n",
    "\n",
    "Interval etsimate of parameter."
   ]
  },
  {
   "cell_type": "code",
   "execution_count": 39,
   "metadata": {
    "collapsed": false
   },
   "outputs": [
    {
     "name": "stdout",
     "output_type": "stream",
     "text": [
      "Bootstrap CI: (0.5200, 0.7100)\n"
     ]
    }
   ],
   "source": [
    "bs_samples = np.random.choice(results, (nsamples, len(results)), replace=True)\n",
    "bs_ps = np.mean(bs_samples, axis=1)\n",
    "bs_ps.sort()\n",
    "print \"Bootstrap CI: (%.4f, %.4f)\" % (bs_ps[int(0.025*nsamples)], bs_ps[int(0.975*nsamples)])"
   ]
  },
  {
   "cell_type": "markdown",
   "metadata": {},
   "source": [
    "Bayesian approach\n",
    "----\n",
    "\n",
    "The Bayesian approach directly estimates the posterior distribution, from which all other point/interval statistics can be estimated."
   ]
  },
  {
   "cell_type": "code",
   "execution_count": 40,
   "metadata": {
    "collapsed": false
   },
   "outputs": [
    {
     "data": {
      "image/png": "[encoded data removed]",
      "text/plain": [
       "<matplotlib.figure.Figure at 0x11e84de10>"
      ]
     },
     "metadata": {},
     "output_type": "display_data"
    }
   ],
   "source": [
    "a, b = 10, 10\n",
    "prior = st.beta(a, b)\n",
    "post = st.beta(h+a, n-h+b)\n",
    "ci = post.interval(0.95)\n",
    "map_ =(h+a-1.0)/(n+a+b-2.0)\n",
    "\n",
    "xs = np.linspace(0, 1, 100)\n",
    "plt.plot(prior.pdf(xs), label='Prior')\n",
    "plt.plot(post.pdf(xs), label='Posterior')\n",
    "plt.axvline(mu, c='red', linestyle='dashed', alpha=0.4)\n",
    "plt.xlim([0, 100])\n",
    "plt.axhline(0.3, ci[0], ci[1], c='black', linewidth=2, label='95% CI');\n",
    "plt.axvline(n*map_, c='blue', linestyle='dashed', alpha=0.4)\n",
    "plt.legend();"
   ]
  },
  {
   "cell_type": "markdown",
   "metadata": {},
   "source": [
    "Comment\n",
    "----\n",
    "\n",
    "All the above calculations have simple analytic solutions. For most real life problems reuqireing more complex statistical models, we will need to search for solutions using more advanced numerical methods and simulations. However, the types of problems that we will be addressing are largely similar to those asked of the toy coin toss problem. These include\n",
    "\n",
    "- point estimation (e.g. summary statistics)\n",
    "- interval estimation (e.g. confidence intervals or Bayesian credible intervals)\n",
    "- function estimation (e.g. density estimation, posteriro distributions)\n",
    "\n",
    "and most will require some knowledge of numerical methods for \n",
    "\n",
    "- optimization (e.g. least squares minimizaiton, maximum likelihood)\n",
    "- Monte Carlo simulations (e.g. Monte Carlo integration, MCMC, bootstrap, permutation-resampling)\n",
    "\n",
    "The next section of the course will focus on the ideas behiind these numerical methods."
   ]
  },
  {
   "cell_type": "code",
   "execution_count": 40,
   "metadata": {
    "collapsed": false
   },
   "outputs": [],
   "source": []
  }
 ],
 "metadata": {
  "kernelspec": {
   "display_name": "Python 2",
   "language": "python",
   "name": "python2"
  },
  "language_info": {
   "codemirror_mode": {
    "name": "ipython",
    "version": 2
   },
   "file_extension": ".py",
   "mimetype": "text/x-python",
   "name": "python",
   "nbconvert_exporter": "python",
   "pygments_lexer": "ipython2",
   "version": "2.7.9"
  }
 },
 "nbformat": 4,
 "nbformat_minor": 0
}
