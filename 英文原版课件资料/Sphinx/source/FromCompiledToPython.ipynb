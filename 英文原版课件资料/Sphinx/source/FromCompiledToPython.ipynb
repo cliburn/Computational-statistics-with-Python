{
 "cells": [
  {
   "cell_type": "code",
   "execution_count": 1,
   "metadata": {
    "collapsed": false
   },
   "outputs": [],
   "source": [
    "from __future__ import division\n",
    "import os\n",
    "import sys\n",
    "import glob\n",
    "import matplotlib.pyplot as plt\n",
    "import numpy as np\n",
    "import pandas as pd\n",
    "%matplotlib inline\n",
    "%precision 4\n",
    "plt.style.use('ggplot')"
   ]
  },
  {
   "cell_type": "code",
   "execution_count": 2,
   "metadata": {
    "collapsed": false
   },
   "outputs": [
    {
     "name": "stdout",
     "output_type": "stream",
     "text": [
      "Downloading/unpacking git+https://github.com/dabeaz/bitey.git\n",
      "  Cloning https://github.com/dabeaz/bitey.git to /var/folders/bh/x038t1s943qftp7jzrnkg1vm0000gn/T/pip-_UHN_B-build\n",
      "  Running setup.py (path:/var/folders/bh/x038t1s943qftp7jzrnkg1vm0000gn/T/pip-_UHN_B-build/setup.py) egg_info for package from git+https://github.com/dabeaz/bitey.git\n",
      "    \n",
      "    warning: no files found matching '*' under directory 'doc'\n",
      "  Requirement already satisfied (use --upgrade to upgrade): bitey==0.0 from git+https://github.com/dabeaz/bitey.git in /Users/cliburn/anaconda/lib/python2.7/site-packages\n",
      "Cleaning up...\n",
      "Installed fortranmagic.py. To use it, type:\n",
      "  %load_ext fortranmagic\n",
      "Installed biteymagic.py. To use it, type:\n",
      "  %load_ext biteymagic\n"
     ]
    }
   ],
   "source": [
    "! pip install git+https://github.com/dabeaz/bitey.git\n",
    "%install_ext https://raw.github.com/mgaitan/fortran_magic/master/fortranmagic.py\n",
    "%install_ext https://gist.githubusercontent.com/bfroehle/3458310/raw/biteymagic.py"
   ]
  },
  {
   "cell_type": "markdown",
   "metadata": {},
   "source": [
    "Using functions from various compiled languages in Python\n",
    "===\n",
    "\n",
    "There are 2 main reasons why interpreted Python code is slower than code in a compiled lanauge such as C (or other compiled langauge):\n",
    " \n",
    "- Python executes byte code in a virtual machine (minor effect) while C compiles down to machine instructions specific for the processor\n",
    "- Python has dynamic typing (major effect) while C is statically typed. In a dynamically typed language, the simple expression  `a + b` can mean many, many different things, and the interrpeter has to figure out which interpretation is intended. In contrast, `a` and `b` must have a type in C such as `double` and there is no ambiguity about what `+` means to resolve.\n",
    "\n",
    "If speed is critical, it is often necessary to exploit the efficiency of compiled languges - this can be done while retaining the nice features of Python in 2 directions\n",
    "\n",
    "- From C to Python\n",
    "- From Python to C\n",
    "\n",
    "Here we will look at how to go from C (C++, Fortran, Julia) to Python,"
   ]
  },
  {
   "cell_type": "code",
   "execution_count": 3,
   "metadata": {
    "collapsed": false
   },
   "outputs": [],
   "source": [
    "def python_fib(n):\n",
    "    a, b = 0,  1\n",
    "    for i in range(n):\n",
    "        a, b = a+b, a\n",
    "    return a"
   ]
  },
  {
   "cell_type": "code",
   "execution_count": 4,
   "metadata": {
    "collapsed": false
   },
   "outputs": [
    {
     "name": "stdout",
     "output_type": "stream",
     "text": [
      "100000 loops, best of 3: 8.47 µs per loop\n"
     ]
    }
   ],
   "source": [
    "%timeit python_fib(100)"
   ]
  },
  {
   "cell_type": "markdown",
   "metadata": {},
   "source": [
    "## C"
   ]
  },
  {
   "cell_type": "code",
   "execution_count": 5,
   "metadata": {
    "collapsed": false
   },
   "outputs": [
    {
     "name": "stdout",
     "output_type": "stream",
     "text": [
      "Writing fib.h\n"
     ]
    }
   ],
   "source": [
    "%%file fib.h\n",
    "\n",
    "double fib(int n);"
   ]
  },
  {
   "cell_type": "code",
   "execution_count": 6,
   "metadata": {
    "collapsed": false
   },
   "outputs": [
    {
     "name": "stdout",
     "output_type": "stream",
     "text": [
      "Writing fib.c\n"
     ]
    }
   ],
   "source": [
    "%%file fib.c\n",
    "\n",
    "double fib(int n) {\n",
    "    double a = 0, b = 1;\n",
    "    for (int i=0; i<n; i++) {\n",
    "        double tmp = b;\n",
    "        b = a;\n",
    "        a += tmp;\n",
    "     }\n",
    "    return a;\n",
    "}"
   ]
  },
  {
   "cell_type": "markdown",
   "metadata": {},
   "source": [
    "### Using bitey and clang\n",
    "\n",
    "This is perhaps the simplest method, but it only works with the `clang` compiler and does not geenrate highly optimized code."
   ]
  },
  {
   "cell_type": "code",
   "execution_count": 7,
   "metadata": {
    "collapsed": false
   },
   "outputs": [],
   "source": [
    "import bitey"
   ]
  },
  {
   "cell_type": "code",
   "execution_count": 8,
   "metadata": {
    "collapsed": false
   },
   "outputs": [],
   "source": [
    "!clang -O3 -emit-llvm -c fib.c -o fib1.o"
   ]
  },
  {
   "cell_type": "code",
   "execution_count": 9,
   "metadata": {
    "collapsed": false
   },
   "outputs": [
    {
     "data": {
      "text/plain": [
       "354224848179261997056.0000"
      ]
     },
     "execution_count": 9,
     "metadata": {},
     "output_type": "execute_result"
    }
   ],
   "source": [
    "import fib1\n",
    "\n",
    "fib1.fib(100)"
   ]
  },
  {
   "cell_type": "code",
   "execution_count": 10,
   "metadata": {
    "collapsed": false
   },
   "outputs": [
    {
     "name": "stdout",
     "output_type": "stream",
     "text": [
      "1000000 loops, best of 3: 941 ns per loop\n"
     ]
    }
   ],
   "source": [
    "%timeit fib1.fib(100)"
   ]
  },
  {
   "cell_type": "markdown",
   "metadata": {},
   "source": [
    "### Using Cython\n",
    "\n",
    "I recomment using Cython for all your C/C++ interface needs as it is highly optimized and can do boht C $\\rightarrow$ Python and Python $\\rightarrow$ C. It is a littel more involved, but the steps always follow the same template."
   ]
  },
  {
   "cell_type": "markdown",
   "metadata": {},
   "source": [
    "##### Define functions to be imported from C"
   ]
  },
  {
   "cell_type": "code",
   "execution_count": 11,
   "metadata": {
    "collapsed": false
   },
   "outputs": [
    {
     "name": "stdout",
     "output_type": "stream",
     "text": [
      "Writing fib.pxd\n"
     ]
    }
   ],
   "source": [
    "%%file fib.pxd\n",
    "\n",
    "cdef extern from \"fib.h\":\n",
    "    double fib(int n)"
   ]
  },
  {
   "cell_type": "markdown",
   "metadata": {},
   "source": [
    "##### Define wrapper for calling function from Python"
   ]
  },
  {
   "cell_type": "code",
   "execution_count": 12,
   "metadata": {
    "collapsed": false
   },
   "outputs": [
    {
     "name": "stdout",
     "output_type": "stream",
     "text": [
      "Writing fib2.pyx\n"
     ]
    }
   ],
   "source": [
    "%%file fib2.pyx\n",
    "\n",
    "cimport fib\n",
    "\n",
    "def fib(n):\n",
    "    return fib.fib(n)"
   ]
  },
  {
   "cell_type": "markdown",
   "metadata": {},
   "source": [
    "#### Use distutils to compile shared library for Python\n",
    "\n",
    "This is the standard way *all* Python modules are compiled for distribution, and results in a build that is portable over different platforms. "
   ]
  },
  {
   "cell_type": "code",
   "execution_count": 13,
   "metadata": {
    "collapsed": false
   },
   "outputs": [
    {
     "name": "stdout",
     "output_type": "stream",
     "text": [
      "Overwriting setup.py\n"
     ]
    }
   ],
   "source": [
    "%%file setup.py\n",
    "from distutils.core import setup, Extension\n",
    "from Cython.Build import cythonize\n",
    "\n",
    "ext = Extension(\"fib2\",\n",
    "              sources=[\"fib2.pyx\", \"fib.c\"])\n",
    "\n",
    "setup(name = \"cython_fib\",\n",
    "      ext_modules = cythonize(ext))"
   ]
  },
  {
   "cell_type": "code",
   "execution_count": 14,
   "metadata": {
    "collapsed": false
   },
   "outputs": [],
   "source": [
    "! python setup.py build_ext -i &> /dev/null"
   ]
  },
  {
   "cell_type": "code",
   "execution_count": 15,
   "metadata": {
    "collapsed": false
   },
   "outputs": [
    {
     "data": {
      "text/plain": [
       "354224848179261997056.0000"
      ]
     },
     "execution_count": 15,
     "metadata": {},
     "output_type": "execute_result"
    }
   ],
   "source": [
    "import fib2\n",
    "\n",
    "fib2.fib(100)"
   ]
  },
  {
   "cell_type": "code",
   "execution_count": 16,
   "metadata": {
    "collapsed": false
   },
   "outputs": [
    {
     "name": "stdout",
     "output_type": "stream",
     "text": [
      "1000000 loops, best of 3: 224 ns per loop\n"
     ]
    }
   ],
   "source": [
    "%timeit fib2.fib(100)"
   ]
  },
  {
   "cell_type": "markdown",
   "metadata": {},
   "source": [
    "## C++"
   ]
  },
  {
   "cell_type": "markdown",
   "metadata": {},
   "source": [
    "C++ is a superset of C - the syntax for the fib program is exactly the same except for change in the filname extensions."
   ]
  },
  {
   "cell_type": "code",
   "execution_count": 17,
   "metadata": {
    "collapsed": false
   },
   "outputs": [
    {
     "name": "stdout",
     "output_type": "stream",
     "text": [
      "Writing fib.hpp\n"
     ]
    }
   ],
   "source": [
    "%%file fib.hpp\n",
    "\n",
    "double fib(int n);"
   ]
  },
  {
   "cell_type": "code",
   "execution_count": 18,
   "metadata": {
    "collapsed": false
   },
   "outputs": [
    {
     "name": "stdout",
     "output_type": "stream",
     "text": [
      "Writing fib.cpp\n"
     ]
    }
   ],
   "source": [
    "%%file fib.cpp\n",
    "\n",
    "double fib(int n) {\n",
    "    double a = 0, b = 1;\n",
    "    for (int i=0; i<n; i++) {\n",
    "        double tmp = b;\n",
    "        b = a;\n",
    "        a += tmp;\n",
    "     }\n",
    "    return a;\n",
    "}"
   ]
  },
  {
   "cell_type": "code",
   "execution_count": 19,
   "metadata": {
    "collapsed": false
   },
   "outputs": [
    {
     "name": "stdout",
     "output_type": "stream",
     "text": [
      "Overwriting setup.py\n"
     ]
    }
   ],
   "source": [
    "%%file setup.py\n",
    "from distutils.core import setup, Extension\n",
    "from Cython.Build import cythonize\n",
    "\n",
    "ext = Extension(\"fib2cpp\",\n",
    "              sources=[\"fib2cpp.pyx\", \"fib.cpp\"],\n",
    "              language=\"c++\",)\n",
    "\n",
    "setup(name = \"cython_fibcpp\",\n",
    "      ext_modules = cythonize(ext))"
   ]
  },
  {
   "cell_type": "code",
   "execution_count": 20,
   "metadata": {
    "collapsed": false
   },
   "outputs": [
    {
     "name": "stdout",
     "output_type": "stream",
     "text": [
      "Writing fib2cpp.pyx\n"
     ]
    }
   ],
   "source": [
    "%%file fib2cpp.pyx\n",
    "\n",
    "cimport fib\n",
    "\n",
    "def fib(n):\n",
    "    return fib.fib(n)"
   ]
  },
  {
   "cell_type": "code",
   "execution_count": 21,
   "metadata": {
    "collapsed": false
   },
   "outputs": [],
   "source": [
    "! python setup.py build_ext -i &> /dev/null"
   ]
  },
  {
   "cell_type": "code",
   "execution_count": 22,
   "metadata": {
    "collapsed": false
   },
   "outputs": [],
   "source": [
    "import fib2cpp"
   ]
  },
  {
   "cell_type": "code",
   "execution_count": 23,
   "metadata": {
    "collapsed": false
   },
   "outputs": [
    {
     "data": {
      "text/plain": [
       "354224848179261997056.0000"
      ]
     },
     "execution_count": 23,
     "metadata": {},
     "output_type": "execute_result"
    }
   ],
   "source": [
    "fib2cpp.fib(100)"
   ]
  },
  {
   "cell_type": "markdown",
   "metadata": {},
   "source": [
    "## Fortran\n",
    "\n",
    "This is almost trivial with the Fortran Magic extnesion."
   ]
  },
  {
   "cell_type": "code",
   "execution_count": 24,
   "metadata": {
    "collapsed": false
   },
   "outputs": [],
   "source": [
    "! pip install fortran-magic &> /dev/null"
   ]
  },
  {
   "cell_type": "code",
   "execution_count": 25,
   "metadata": {
    "collapsed": false
   },
   "outputs": [
    {
     "data": {
      "application/javascript": [
       "$.getScript(\"https://raw.github.com/marijnh/CodeMirror/master/mode/fortran/fortran.js\", function () {\n",
       "IPython.config.cell_magic_highlight['magic_fortran'] = {'reg':[/^%%fortran/]};});\n"
      ]
     },
     "metadata": {},
     "output_type": "display_data"
    }
   ],
   "source": [
    "%load_ext fortranmagic"
   ]
  },
  {
   "cell_type": "code",
   "execution_count": 26,
   "metadata": {
    "collapsed": false
   },
   "outputs": [],
   "source": [
    "%%fortran\n",
    "\n",
    "subroutine fib3(n, a)\n",
    "    integer, intent(in) :: n\n",
    "    real, intent(out) :: a\n",
    "\n",
    "    integer :: i\n",
    "    real :: b, tmp\n",
    "\n",
    "    a = 0\n",
    "    b = 1\n",
    "    do i = 1, n\n",
    "        tmp = b\n",
    "        b = a\n",
    "        a = a + tmp\n",
    "    end do\n",
    "end subroutine"
   ]
  },
  {
   "cell_type": "code",
   "execution_count": 27,
   "metadata": {
    "collapsed": false
   },
   "outputs": [
    {
     "data": {
      "text/plain": [
       "354224717716315439104.0000"
      ]
     },
     "execution_count": 27,
     "metadata": {},
     "output_type": "execute_result"
    }
   ],
   "source": [
    "fib3(100)"
   ]
  },
  {
   "cell_type": "markdown",
   "metadata": {},
   "source": [
    "Antoher example from the [documentation](http://nbviewer.ipython.org/github/mgaitan/fortran_magic/blob/master/documentation.ipynb)"
   ]
  },
  {
   "cell_type": "code",
   "execution_count": 28,
   "metadata": {
    "collapsed": false
   },
   "outputs": [],
   "source": [
    "%%fortran --link lapack\n",
    "\n",
    "subroutine solve(A, b, x, n)\n",
    "    ! solve the matrix equation A*x=b using LAPACK\n",
    "    implicit none\n",
    "\n",
    "    real*8, dimension(n,n), intent(in) :: A\n",
    "    real*8, dimension(n), intent(in) :: b\n",
    "    real*8, dimension(n), intent(out) :: x\n",
    "\n",
    "    integer :: pivot(n), ok\n",
    "\n",
    "    integer, intent(in) :: n\n",
    "    x = b\n",
    "\n",
    "    ! find the solution using the LAPACK routine SGESV\n",
    "    call DGESV(n, 1, A, n, pivot, x, n, ok)\n",
    "    \n",
    "end subroutine"
   ]
  },
  {
   "cell_type": "code",
   "execution_count": 29,
   "metadata": {
    "collapsed": false
   },
   "outputs": [
    {
     "data": {
      "text/plain": [
       "array([-0.1957,  0.4783])"
      ]
     },
     "execution_count": 29,
     "metadata": {},
     "output_type": "execute_result"
    }
   ],
   "source": [
    "A = np.array([[1, 2.5], [-3, 4]])\n",
    "b = np.array([1, 2.5])\n",
    "\n",
    "solve(A, b)"
   ]
  },
  {
   "cell_type": "markdown",
   "metadata": {},
   "source": [
    "## Benchmarking"
   ]
  },
  {
   "cell_type": "code",
   "execution_count": 30,
   "metadata": {
    "collapsed": false
   },
   "outputs": [
    {
     "name": "stdout",
     "output_type": "stream",
     "text": [
      "100000 loops, best of 3: 11 µs per loop\n",
      "1000000 loops, best of 3: 957 ns per loop\n",
      "1000000 loops, best of 3: 253 ns per loop\n",
      "1000000 loops, best of 3: 255 ns per loop\n"
     ]
    }
   ],
   "source": [
    "%timeit python_fib(100) # Python\n",
    "%timeit fib1.fib(100)   # bitey\n",
    "%timeit fib2.fib(100)   # Cython\n",
    "%timeit fib3(100)       # Fortran"
   ]
  },
  {
   "cell_type": "markdown",
   "metadata": {},
   "source": [
    "## Wrapping a function from a C library for use in Python\n",
    "\n",
    "Cython ships with a set of standard .pxd files that provide these declarations in a readily usable way that is adapted to their use in Cython. The main packages are `cpython`, `libc` and `libcpp`. The NumPy library also has a standard .pxd file `numpy`, as it is often used in Cython code. See Cython’s Cython/Includes/ source package for a complete list of provided .pxd files. (From http://docs.cython.org/src/tutorial/clibraries.html).\n",
    "\n",
    "Additional .pxd are also avaialbel for:\n",
    "\n",
    "- [The Rmath library](https://github.com/nfoti/cythonRMath)\n",
    "- [The GNU scientific library](https://github.com/twiecki/CythonGSL)\n",
    "\n",
    "However, here is an example of how to write functions from an external C library if you have to do it yourself. The example is taken from https://github.com/cythonbook/examples and wraps the Mersenne Twister from http://www.math.sci.hiroshima-u.ac.jp/~m-mat/MT/emt.html for use in Python."
   ]
  },
  {
   "cell_type": "code",
   "execution_count": 31,
   "metadata": {
    "collapsed": false
   },
   "outputs": [
    {
     "name": "stdout",
     "output_type": "stream",
     "text": [
      "--2015-03-26 16:02:41--  http://www.math.sci.hiroshima-u.ac.jp/~m-mat/MT/MT2002/CODES/mt19937ar.sep.tgz\n",
      "Resolving www.math.sci.hiroshima-u.ac.jp... 133.41.16.48\n",
      "Connecting to www.math.sci.hiroshima-u.ac.jp|133.41.16.48|:80... connected.\n",
      "HTTP request sent, awaiting response... 200 OK\n",
      "Length: 15433 (15K) [application/x-gzip]\n",
      "Saving to: ‘mt19937ar.sep.tgz’\n",
      "\n",
      "100%[======================================>] 15,433      37.3KB/s   in 0.4s   \n",
      "\n",
      "2015-03-26 16:02:42 (37.3 KB/s) - ‘mt19937ar.sep.tgz’ saved [15433/15433]\n",
      "\n",
      "x mt19937ar.c\n",
      "x mt19937ar.h\n",
      "x mt19937ar.out\n",
      "x mtTest.c\n",
      "x readme-mt.txt\n"
     ]
    }
   ],
   "source": [
    "if not os.path.exists('mt19937ar.h'):\n",
    "    ! wget http://www.math.sci.hiroshima-u.ac.jp/~m-mat/MT/MT2002/CODES/mt19937ar.sep.tgz\n",
    "    ! tar -xzvf mt19937ar.sep.tgz"
   ]
  },
  {
   "cell_type": "code",
   "execution_count": 32,
   "metadata": {
    "collapsed": false
   },
   "outputs": [
    {
     "name": "stdout",
     "output_type": "stream",
     "text": [
      "Writing mt.pxd\n"
     ]
    }
   ],
   "source": [
    "%%file mt.pxd\n",
    "\n",
    "cdef extern from \"mt19937ar.h\":\n",
    "    void init_genrand(unsigned long s)\n",
    "    double genrand_real1()"
   ]
  },
  {
   "cell_type": "code",
   "execution_count": 33,
   "metadata": {
    "collapsed": false
   },
   "outputs": [
    {
     "name": "stdout",
     "output_type": "stream",
     "text": [
      "Writing mt_random.pyx\n"
     ]
    }
   ],
   "source": [
    "%%file mt_random.pyx\n",
    "\n",
    "cimport mt\n",
    "\n",
    "def init_state(unsigned long s):\n",
    "    mt.init_genrand(s)\n",
    "\n",
    "def rand():\n",
    "    return mt.genrand_real1()"
   ]
  },
  {
   "cell_type": "code",
   "execution_count": 34,
   "metadata": {
    "collapsed": false
   },
   "outputs": [
    {
     "name": "stdout",
     "output_type": "stream",
     "text": [
      "Overwriting setup.py\n"
     ]
    }
   ],
   "source": [
    "%%file setup.py\n",
    "\n",
    "from distutils.core import setup, Extension\n",
    "from Cython.Build import cythonize\n",
    "\n",
    "ext = Extension(\"mt_random\",\n",
    "                sources=[\"mt_random.pyx\", \"mt19937ar.c\"])\n",
    "\n",
    "setup(name=\"mersenne_random\",\n",
    "      ext_modules = cythonize([ext]))"
   ]
  },
  {
   "cell_type": "code",
   "execution_count": 35,
   "metadata": {
    "collapsed": false
   },
   "outputs": [],
   "source": [
    "! python setup.py build_ext -i &> /dev/null"
   ]
  },
  {
   "cell_type": "code",
   "execution_count": 36,
   "metadata": {
    "collapsed": false
   },
   "outputs": [
    {
     "name": "stdout",
     "output_type": "stream",
     "text": [
      "0.696469187433 0.712955321584 0.28613933881 0.428470925062 0.226851454989 0.690884851546 0.55131476525 0.71915030892 0.719468970718 0.491118932723\n"
     ]
    }
   ],
   "source": [
    "import mt_random\n",
    "\n",
    "mt_random.init_state(123)\n",
    "for i in range(10):\n",
    "    print mt_random.rand(),\n",
    "print"
   ]
  },
  {
   "cell_type": "markdown",
   "metadata": {},
   "source": [
    "## Wrapping functions from C++ library for use in Pyton"
   ]
  },
  {
   "cell_type": "markdown",
   "metadata": {},
   "source": [
    "Example - Andrew Cron (DSS PhD graduate) has a GitHub repository wrapping the C++ Armadillo linear algebra package with Cython at https://github.com/andrewcron/cy_armadillo"
   ]
  },
  {
   "cell_type": "code",
   "execution_count": 36,
   "metadata": {
    "collapsed": false
   },
   "outputs": [],
   "source": []
  }
 ],
 "metadata": {
  "kernelspec": {
   "display_name": "Python 2",
   "language": "python",
   "name": "python2"
  },
  "language_info": {
   "codemirror_mode": {
    "name": "ipython",
    "version": 2
   },
   "file_extension": ".py",
   "mimetype": "text/x-python",
   "name": "python",
   "nbconvert_exporter": "python",
   "pygments_lexer": "ipython2",
   "version": "2.7.9"
  }
 },
 "nbformat": 4,
 "nbformat_minor": 0
}
