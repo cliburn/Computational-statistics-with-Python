{
 "metadata": {
  "name": "",
  "signature": "sha256:1ef1708ecc9ada72b86108393c8e0833653fbb0a185639df76bc1d9ef3f49f23"
 },
 "nbformat": 3,
 "nbformat_minor": 0,
 "worksheets": [
  {
   "cells": [
    {
     "cell_type": "markdown",
     "metadata": {},
     "source": [
      "### Traditional Monte Carlo estimation of $\\pi$ "
     ]
    },
    {
     "cell_type": "code",
     "collapsed": false,
     "input": [
      "%matplotlib inline\n",
      "from matplotlib import pyplot as plt\n",
      "import numpy as np"
     ],
     "language": "python",
     "metadata": {},
     "outputs": [],
     "prompt_number": 2
    },
    {
     "cell_type": "code",
     "collapsed": false,
     "input": [
      "%load_ext cythonmagic"
     ],
     "language": "python",
     "metadata": {},
     "outputs": [],
     "prompt_number": 3
    },
    {
     "cell_type": "markdown",
     "metadata": {},
     "source": [
      "### Review of optimization"
     ]
    },
    {
     "cell_type": "code",
     "collapsed": false,
     "input": [
      "def pi_python(n):\n",
      "    s = np.zeros(n, dtype=np.bool)\n",
      "    for i in range(n):\n",
      "        x, y = np.random.uniform(-1, 1, 2)\n",
      "        s[i] = x**2 + y**2 < 1\n",
      "    return 4.0*np.sum(s)/n"
     ],
     "language": "python",
     "metadata": {},
     "outputs": [],
     "prompt_number": 4
    },
    {
     "cell_type": "code",
     "collapsed": false,
     "input": [
      "%%cython\n",
      "import cython\n",
      "import numpy as np\n",
      "cimport numpy as np\n",
      "\n",
      "@cython.cdivision\n",
      "@cython.boundscheck(False)\n",
      "@cython.wraparound(False)\n",
      "def pi_cython(long n):\n",
      "    cdef int[:] s = np.zeros(n, dtype=np.int32)\n",
      "    cdef int i = 0\n",
      "    cdef double x, y\n",
      "    for i in range(n):\n",
      "        x = np.random.uniform(-1, 1)\n",
      "        y = np.random.uniform(-1, 1)\n",
      "        s[i] = x**2 + y**2 < 1\n",
      "    cdef int hits = 0\n",
      "    for i in range(n):\n",
      "        hits += s[i]\n",
      "    return 4.0*hits/n"
     ],
     "language": "python",
     "metadata": {},
     "outputs": [],
     "prompt_number": 5
    },
    {
     "cell_type": "code",
     "collapsed": false,
     "input": [
      "def pi_numpy(n):\n",
      "    xs = np.random.uniform(-1, 1, (n,2))\n",
      "    return 4.0*((xs**2).sum(axis=1).sum() < 1)/n"
     ],
     "language": "python",
     "metadata": {},
     "outputs": [],
     "prompt_number": 6
    },
    {
     "cell_type": "code",
     "collapsed": false,
     "input": [
      "n = int(1e5)\n",
      "%timeit pi_python(n)\n",
      "%timeit pi_cython(n)\n",
      "%timeit pi_numpy(n)"
     ],
     "language": "python",
     "metadata": {},
     "outputs": [
      {
       "output_type": "stream",
       "stream": "stdout",
       "text": [
        "1 loops, best of 3: 650 ms per loop\n",
        "10 loops, best of 3: 29.8 ms per loop"
       ]
      },
      {
       "output_type": "stream",
       "stream": "stdout",
       "text": [
        "\n",
        "100 loops, best of 3: 4.61 ms per loop"
       ]
      },
      {
       "output_type": "stream",
       "stream": "stdout",
       "text": [
        "\n"
       ]
      }
     ],
     "prompt_number": 7
    },
    {
     "cell_type": "markdown",
     "metadata": {},
     "source": [
      "### Embarassingly parallel problems"
     ]
    },
    {
     "cell_type": "markdown",
     "metadata": {},
     "source": [
      "#### Using Multiprocessing"
     ]
    },
    {
     "cell_type": "code",
     "collapsed": false,
     "input": [
      "import multiprocessing\n",
      "\n",
      "num_procs = multiprocessing.cpu_count()\n",
      "num_procs"
     ],
     "language": "python",
     "metadata": {},
     "outputs": [
      {
       "metadata": {},
       "output_type": "pyout",
       "prompt_number": 8,
       "text": [
        "4"
       ]
      }
     ],
     "prompt_number": 8
    },
    {
     "cell_type": "code",
     "collapsed": false,
     "input": [
      "def pi_multiprocessing(n):\n",
      "    \"\"\"Split a job of length n into num_procs pieces.\"\"\"\n",
      "    import multiprocessing\n",
      "    m = multiprocessing.cpu_count()\n",
      "    pool = multiprocessing.Pool(m)\n",
      "    results = pool.map(pi_numpy, [n/m]*m)\n",
      "    pool.close()\n",
      "    return np.mean(results)"
     ],
     "language": "python",
     "metadata": {},
     "outputs": [],
     "prompt_number": 9
    },
    {
     "cell_type": "code",
     "collapsed": false,
     "input": [
      "n = int(1e6)\n",
      "%timeit pi_numpy(n)\n",
      "%timeit pi_multiprocessing(n)"
     ],
     "language": "python",
     "metadata": {},
     "outputs": [
      {
       "output_type": "stream",
       "stream": "stdout",
       "text": [
        "10 loops, best of 3: 58.4 ms per loop\n"
       ]
      },
      {
       "output_type": "stream",
       "stream": "stdout",
       "text": [
        "10 loops, best of 3: 61.1 ms per loop\n"
       ]
      }
     ],
     "prompt_number": 10
    },
    {
     "cell_type": "markdown",
     "metadata": {},
     "source": [
      "**The bigger the problem, the more scope there is for parallelism**\n",
      "\n",
      "Amhdahls' law says that the speedup from parallelization is bounded by the ratio of parallelizable to irreducibly serial code in the aloorithm. However, for big data analysis, Gustafson's Law  which says that we are nearly always interested in increasing the size of the parallelizable bits, and the ratio of parallelizable to irreducibly serial code is not a static quantity but depends on data size. For example, Gibbs sampling has an irreducibly serial nature, but for large samples, each iteration may be able perform PDF evaluations in parallel for zillions of data points."
     ]
    },
    {
     "cell_type": "code",
     "collapsed": false,
     "input": [
      "n = int(1e7)\n",
      "%timeit pi_numpy(n)\n",
      "%timeit pi_multiprocessing(n)"
     ],
     "language": "python",
     "metadata": {},
     "outputs": [
      {
       "output_type": "stream",
       "stream": "stdout",
       "text": [
        "1 loops, best of 3: 663 ms per loop\n"
       ]
      },
      {
       "output_type": "stream",
       "stream": "stdout",
       "text": [
        "1 loops, best of 3: 367 ms per loop\n"
       ]
      }
     ],
     "prompt_number": 11
    },
    {
     "cell_type": "markdown",
     "metadata": {},
     "source": [
      "### Communication across parallel workers\n",
      "\n",
      "Not all tasks are embarassingly parallel. In these problems, we need to communicate across parallel workers. There are two ways to do this - via shared memory (exemplar is OpenMP) and by explicit communication mechanisms (exemplar is MPI). Multiprocessing (and GPU computing) can use both mechanisms."
     ]
    },
    {
     "cell_type": "markdown",
     "metadata": {},
     "source": [
      "**Using shared memory**"
     ]
    },
    {
     "cell_type": "code",
     "collapsed": false,
     "input": [
      "# illustrating a race condition\n",
      "\n",
      "from multiprocessing import Pool, Value, Array, Lock, current_process\n",
      "\n",
      "n = 4\n",
      "val = Value('i')\n",
      "arr = Array('i', n)\n",
      "\n",
      "val.value = 0\n",
      "for i in range(n):\n",
      "    arr[i] = 0\n",
      "\n",
      "def count1(i):\n",
      "    ix = current_process().pid % n\n",
      "    val.value += 1\n",
      "    \n",
      "def count2(i):\n",
      "    ix = current_process().pid % n\n",
      "    arr[ix] += 1\n",
      "    \n",
      "pool = Pool(n)\n",
      "pool.map(count1, range(1000))\n",
      "pool.map(count2, range(1000))\n",
      "\n",
      "pool.close()\n",
      "print val.value\n",
      "print sum(arr)"
     ],
     "language": "python",
     "metadata": {},
     "outputs": [
      {
       "output_type": "stream",
       "stream": "stdout",
       "text": [
        "396\n",
        "1000\n"
       ]
      }
     ],
     "prompt_number": 12
    },
    {
     "cell_type": "code",
     "collapsed": false,
     "input": [
      "### Using message passing to communicate\n",
      "\n",
      "from multiprocessing import Process, Queue, Pool\n",
      "import time\n",
      "\n",
      "def f(i):\n",
      "    n = q.get()\n",
      "    q.put(n+1)\n",
      "    \n",
      "if __name__ == '__main__':\n",
      "    q = Queue()\n",
      "    q.put(0)\n",
      "    pool = Pool(4)\n",
      "    pool.map(f, range(100))\n",
      "    print q.get()\n",
      "    pool.close()"
     ],
     "language": "python",
     "metadata": {},
     "outputs": [
      {
       "output_type": "stream",
       "stream": "stdout",
       "text": [
        "100\n"
       ]
      }
     ],
     "prompt_number": 13
    },
    {
     "cell_type": "markdown",
     "metadata": {},
     "source": [
      "#### Using IPython parallel for interactive parallel computing\n",
      "\n",
      "Start a cluster of workers using IPython notebook interface. Alternatively, enter\n",
      "\n",
      "```ipcluster start -n 4```\n",
      "\n",
      "at the command line."
     ]
    },
    {
     "cell_type": "code",
     "collapsed": false,
     "input": [
      "import time\n",
      "time.sleep(5)"
     ],
     "language": "python",
     "metadata": {},
     "outputs": [],
     "prompt_number": 14
    },
    {
     "cell_type": "code",
     "collapsed": false,
     "input": [
      "from IPython.parallel import Client, interactive"
     ],
     "language": "python",
     "metadata": {},
     "outputs": [],
     "prompt_number": 15
    },
    {
     "cell_type": "markdown",
     "metadata": {},
     "source": [
      "**Direct view**"
     ]
    },
    {
     "cell_type": "code",
     "collapsed": false,
     "input": [
      "rc = Client()\n",
      "print rc.ids\n",
      "dv = rc[:]\n",
      "num_procs = len(rc)"
     ],
     "language": "python",
     "metadata": {},
     "outputs": [
      {
       "output_type": "stream",
       "stream": "stdout",
       "text": [
        "[0, 1, 2, 3]\n"
       ]
      }
     ],
     "prompt_number": 16
    },
    {
     "cell_type": "code",
     "collapsed": false,
     "input": [
      "def mandel_python(xs, ys, max_iters):\n",
      "    c = np.zeros((len(xs), len(ys)), np.int)\n",
      "    for i, x in enumerate(xs):\n",
      "        for j, y in enumerate(ys):\n",
      "            a = complex(x, y)\n",
      "            z = 0.0j\n",
      "            for k in range(max_iters):\n",
      "                z = z*z + a\n",
      "                if z.real*z.real + z.imag*z.imag >= 4:\n",
      "                    c[i,j] = k\n",
      "    return c"
     ],
     "language": "python",
     "metadata": {},
     "outputs": [],
     "prompt_number": 17
    },
    {
     "cell_type": "code",
     "collapsed": false,
     "input": [
      "def mandel_numpy(xs, ys, max_iters):\n",
      "    X, Y = np.meshgrid(xs, ys)\n",
      "    A = X + 1j*Y\n",
      "    z = np.zeros_like(A, np.complex)\n",
      "    c = np.zeros_like(A, np.int)\n",
      "    for i in range(max_iters):\n",
      "        z = z*z + A\n",
      "        out = z.real*z.real + z.imag*z.imag >= 4\n",
      "        c[out & (c==0)] = i\n",
      "    return c"
     ],
     "language": "python",
     "metadata": {},
     "outputs": [],
     "prompt_number": 18
    },
    {
     "cell_type": "code",
     "collapsed": false,
     "input": [
      "xmin, xmax, ymin, ymax = -2, 1, -1, 1\n",
      "xs = np.linspace(xmin, xmax, int(num_procs*20*(xmax-xmin)))\n",
      "ys = np.linspace(ymin, ymax, int(num_procs*20*(ymax-ymin)))\n",
      "max_iters = 100\n",
      "num_procs = 8\n",
      "\n",
      "mandel = lambda x: mandel_numpy(x, ys=ys, max_iters=max_iters)\n",
      "\n",
      "def mandel_parallel(xs):   \n",
      "    chunks = np.split(xs, num_procs)\n",
      "    return np.hstack(dv.map_sync(mandel, chunks)) "
     ],
     "language": "python",
     "metadata": {},
     "outputs": [],
     "prompt_number": 19
    },
    {
     "cell_type": "code",
     "collapsed": false,
     "input": [
      "dv.execute('import numpy as np')\n",
      "dv['ys'] = ys\n",
      "dv['num_procs'] = len(rc)\n",
      "dv['mandel' ] = mandel\n",
      "dv['mandel_numpy'] = mandel_numpy\n",
      "dv['max_iters'] = max_iters\n",
      "\n",
      "old_settings = np.seterr(all='ignore') \n",
      "%timeit mandel_python(xs, ys, max_iters)\n",
      "%timeit mandel_numpy(xs, ys, max_iters)\n",
      "%timeit mandel_parallel(xs)\n",
      "np.seterr(**old_settings);"
     ],
     "language": "python",
     "metadata": {},
     "outputs": [
      {
       "output_type": "stream",
       "stream": "stdout",
       "text": [
        "1 loops, best of 3: 1.67 s per loop\n",
        "10 loops, best of 3: 51.7 ms per loop"
       ]
      },
      {
       "output_type": "stream",
       "stream": "stdout",
       "text": [
        "\n",
        "10 loops, best of 3: 47.6 ms per loop"
       ]
      },
      {
       "output_type": "stream",
       "stream": "stdout",
       "text": [
        "\n"
       ]
      }
     ],
     "prompt_number": 20
    },
    {
     "cell_type": "code",
     "collapsed": false,
     "input": [
      "xmin, xmax, ymin, ymax = -2, 1, -1, 1\n",
      "xs = np.linspace(xmin, xmax, int(num_procs*20*(xmax-xmin)))\n",
      "ys = np.linspace(ymin, ymax, int(num_procs*20*(ymax-ymin)))\n",
      "c = mandel_parallel(xs)\n",
      "plt.imshow(np.log1p(c), extent=[xmin, xmax, ymin, ymax]);"
     ],
     "language": "python",
     "metadata": {},
     "outputs": [
      {
       "metadata": {},
       "output_type": "display_data",
       "png": "[encoded data removed]",
       "text": [
        "<matplotlib.figure.Figure at 0x1095d44d0>"
       ]
      }
     ],
     "prompt_number": 21
    },
    {
     "cell_type": "markdown",
     "metadata": {},
     "source": [
      "**Load balanced view**\n",
      "\n",
      "When the tasks to be performed in parallel are heterogeneous, it is better to use a load-balanced view of the workers for efficiency. The load-balanced view behaves very similarly to the Pool() class from the multiprocessing package."
     ]
    },
    {
     "cell_type": "code",
     "collapsed": false,
     "input": [
      "lv = rc.load_balanced_view()"
     ],
     "language": "python",
     "metadata": {},
     "outputs": [],
     "prompt_number": 22
    },
    {
     "cell_type": "code",
     "collapsed": false,
     "input": [
      "def snooze(x):\n",
      "    import time\n",
      "    time.sleep(x)\n",
      "\n",
      "naps = np.random.randint(1, 10, 20)\n",
      "print naps\n",
      "\n",
      "%timeit dv.map_sync(snooze, naps) \n",
      "%timeit lv.map_sync(snooze, naps) "
     ],
     "language": "python",
     "metadata": {},
     "outputs": [
      {
       "output_type": "stream",
       "stream": "stdout",
       "text": [
        "[7 6 2 9 7 3 5 5 2 4 8 1 3 6 6 1 2 4 9 2]\n",
        "1 loops, best of 3: 31 s per loop"
       ]
      },
      {
       "output_type": "stream",
       "stream": "stdout",
       "text": [
        "\n",
        "1 loops, best of 3: 28 s per loop"
       ]
      },
      {
       "output_type": "stream",
       "stream": "stdout",
       "text": [
        "\n"
       ]
      }
     ],
     "prompt_number": 23
    },
    {
     "cell_type": "code",
     "collapsed": false,
     "input": [
      "%load_ext version_information\n",
      "\n",
      "%version_information numpy, multiprocessing, cython"
     ],
     "language": "python",
     "metadata": {},
     "outputs": [
      {
       "html": [
        "<table><tr><th>Software</th><th>Version</th></tr><tr><td>Python</td><td>2.7.7 |Anaconda 2.0.1 (x86_64)| (default, Jun  2 2014, 12:48:16) [GCC 4.0.1 (Apple Inc. build 5493)]</td></tr><tr><td>IPython</td><td>2.1.0</td></tr><tr><td>OS</td><td>posix [darwin]</td></tr><tr><td>numpy</td><td>1.8.1</td></tr><tr><td>multiprocessing</td><td>0.70a1</td></tr><tr><td>cython</td><td>0.20.1</td></tr><tr><td colspan='2'>Fri Jun 13 12:45:00 2014 EDT</td></tr></table>"
       ],
       "json": [
        "{\"Software versions\": [{\"version\": \"2.7.7 |Anaconda 2.0.1 (x86_64)| (default, Jun  2 2014, 12:48:16) [GCC 4.0.1 (Apple Inc. build 5493)]\", \"module\": \"Python\"}, {\"version\": \"2.1.0\", \"module\": \"IPython\"}, {\"version\": \"posix [darwin]\", \"module\": \"OS\"}, {\"version\": \"1.8.1\", \"module\": \"numpy\"}, {\"version\": \"0.70a1\", \"module\": \"multiprocessing\"}, {\"version\": \"0.20.1\", \"module\": \"cython\"}]}"
       ],
       "latex": [
        "\\begin{tabular}{|l|l|}\\hline\n",
        "{\\bf Software} & {\\bf Version} \\\\ \\hline\\hline\n",
        "Python & 2.7.7 |Anaconda 2.0.1 (x86\\letterunderscore{}64)| (default, Jun  2 2014, 12:48:16) [GCC 4.0.1 (Apple Inc. build 5493)] \\\\ \\hline\n",
        "IPython & 2.1.0 \\\\ \\hline\n",
        "OS & posix [darwin] \\\\ \\hline\n",
        "numpy & 1.8.1 \\\\ \\hline\n",
        "multiprocessing & 0.70a1 \\\\ \\hline\n",
        "cython & 0.20.1 \\\\ \\hline\n",
        "\\hline \\multicolumn{2}{|l|}{Fri Jun 13 12:45:00 2014 EDT} \\\\ \\hline\n",
        "\\end{tabular}\n"
       ],
       "metadata": {},
       "output_type": "pyout",
       "prompt_number": 24,
       "text": [
        "Software versions\n",
        "Python 2.7.7 |Anaconda 2.0.1 (x86_64)| (default, Jun  2 2014, 12:48:16) [GCC 4.0.1 (Apple Inc. build 5493)]\n",
        "IPython 2.1.0\n",
        "OS posix [darwin]\n",
        "numpy 1.8.1\n",
        "multiprocessing 0.70a1\n",
        "cython 0.20.1\n",
        "<tr><td colspan='2'>Fri Jun 13 12:45:00 2014 EDT</td></tr>"
       ]
      }
     ],
     "prompt_number": 24
    },
    {
     "cell_type": "code",
     "collapsed": false,
     "input": [],
     "language": "python",
     "metadata": {},
     "outputs": [],
     "prompt_number": 24
    }
   ],
   "metadata": {}
  }
 ]
}