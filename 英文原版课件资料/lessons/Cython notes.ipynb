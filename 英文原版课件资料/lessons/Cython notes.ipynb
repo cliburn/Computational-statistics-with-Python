{
 "metadata": {
  "name": "",
  "signature": "sha256:aab175851b2302b53dcb540399a7fccc612947db6d35a0eeef711b7d3f6a14fe"
 },
 "nbformat": 3,
 "nbformat_minor": 0,
 "worksheets": [
  {
   "cells": [
    {
     "cell_type": "code",
     "collapsed": false,
     "input": [
      "%matplotlib inline\n",
      "import matplotlib.pyplot as plt\n",
      "import numpy as np"
     ],
     "language": "python",
     "metadata": {},
     "outputs": [],
     "prompt_number": 4
    },
    {
     "cell_type": "code",
     "collapsed": false,
     "input": [
      "%load_ext cythonmagic"
     ],
     "language": "python",
     "metadata": {},
     "outputs": [],
     "prompt_number": 5
    },
    {
     "cell_type": "markdown",
     "metadata": {},
     "source": [
      "### Using Cython definition files"
     ]
    },
    {
     "cell_type": "code",
     "collapsed": false,
     "input": [
      "%%file mathlib.pxd\n",
      "cdef int max(int a, int b)\n",
      "cdef int min(int a, int b)"
     ],
     "language": "python",
     "metadata": {},
     "outputs": [
      {
       "output_type": "stream",
       "stream": "stdout",
       "text": [
        "Writing mathlib.pxd\n"
       ]
      }
     ],
     "prompt_number": 47
    },
    {
     "cell_type": "code",
     "collapsed": false,
     "input": [
      "%%file mathlib.pyx\n",
      "cdef int max(int a, int b): \n",
      "    return a if a > b else b \n",
      "\n",
      "cdef int min(int a, int b): \n",
      "    return a if a < b else b"
     ],
     "language": "python",
     "metadata": {},
     "outputs": [
      {
       "output_type": "stream",
       "stream": "stdout",
       "text": [
        "Writing mathlib.pyx\n"
       ]
      }
     ],
     "prompt_number": 48
    },
    {
     "cell_type": "code",
     "collapsed": false,
     "input": [
      "%%file setup.py\n",
      "from distutils.core import setup \n",
      "from Cython.Build import cythonize \n",
      "\n",
      "setup(name =' Hello', \n",
      "      ext_modules = cythonize('mathlib.pyx'))"
     ],
     "language": "python",
     "metadata": {},
     "outputs": [
      {
       "output_type": "stream",
       "stream": "stdout",
       "text": [
        "Overwriting setup.py\n"
       ]
      }
     ],
     "prompt_number": 49
    },
    {
     "cell_type": "code",
     "collapsed": false,
     "input": [
      "! python setup.py -q build_ext --inplace"
     ],
     "language": "python",
     "metadata": {},
     "outputs": [],
     "prompt_number": 51
    },
    {
     "cell_type": "code",
     "collapsed": false,
     "input": [
      "%%cython\n",
      "from mathlib cimport max\n",
      "\n",
      "def chebyshev(int x1, int y1, int x2, int y2): \n",
      "    return max(abs( x1 - x2), abs( y1 - y2))\n",
      "\n",
      "print(chebyshev(1,2,3,4))"
     ],
     "language": "python",
     "metadata": {},
     "outputs": [
      {
       "output_type": "stream",
       "stream": "stdout",
       "text": [
        "2\n"
       ]
      }
     ],
     "prompt_number": 52
    },
    {
     "cell_type": "markdown",
     "metadata": {},
     "source": [
      "### Using Rmathlib standalone C libraries"
     ]
    },
    {
     "cell_type": "code",
     "collapsed": false,
     "input": [
      "%%file rmath.pyx\n",
      "#cython: boundscheck=False\n",
      "#cython: wraparound=False\n",
      "cimport cython_rmath as r\n",
      "import numpy as np\n",
      "cimport numpy as np\n",
      "\n",
      "cpdef rnorm(int n, double mu=0.0, double sigma=1.0):\n",
      "    cdef int i\n",
      "    cdef double[:] xs = np.zeros(n)\n",
      "    for i in range(n):\n",
      "        xs[i] = r.rnorm(mu, sigma)\n",
      "    return np.array(xs)"
     ],
     "language": "python",
     "metadata": {},
     "outputs": [
      {
       "output_type": "stream",
       "stream": "stdout",
       "text": [
        "Overwriting rmath.pyx\n"
       ]
      }
     ],
     "prompt_number": 12
    },
    {
     "cell_type": "code",
     "collapsed": false,
     "input": [
      "%%file setup.py\n",
      "from distutils.core import setup\n",
      "from Cython.Distutils import Extension\n",
      "from Cython.Distutils import build_ext\n",
      "import cython_rmath\n",
      "\n",
      "ext = Extension(\"rmath\",\n",
      "                [\"rmath.pyx\"],\n",
      "                define_macros=[('MATHLIB_STANDALONE', '1')],\n",
      "                include_dirs = ['.', '/Users/cliburn/anaconda/lib/python2.7/site-packages/Cython/Includes',\n",
      "                                '/Users/cliburn/anaconda/lib/python2.7/site-packages/numpy/core/include'],\n",
      "                library_dirs = ['.'],\n",
      "                libraries = ['Rmath', 'm',]\n",
      "               )\n",
      "\n",
      "setup(cmdclass = {'build_ext': build_ext}, \n",
      "                  ext_modules = [ext])"
     ],
     "language": "python",
     "metadata": {},
     "outputs": [
      {
       "output_type": "stream",
       "stream": "stdout",
       "text": [
        "Overwriting setup.py\n"
       ]
      }
     ],
     "prompt_number": 13
    },
    {
     "cell_type": "code",
     "collapsed": false,
     "input": [
      "! python setup.py --quiet build_ext --inplace"
     ],
     "language": "python",
     "metadata": {},
     "outputs": [],
     "prompt_number": 2
    },
    {
     "cell_type": "code",
     "collapsed": false,
     "input": [
      "import rmath\n",
      "\n",
      "rmath.rnorm(10)"
     ],
     "language": "python",
     "metadata": {},
     "outputs": [
      {
       "metadata": {},
       "output_type": "pyout",
       "prompt_number": 3,
       "text": [
        "array([ 0.26394576,  1.6319731 ,  2.83101399, -0.17998554, -0.7914555 ,\n",
        "       -1.09934755, -0.55847989,  0.32487065, -0.30605849,  0.72439862])"
       ]
      }
     ],
     "prompt_number": 3
    },
    {
     "cell_type": "code",
     "collapsed": false,
     "input": [],
     "language": "python",
     "metadata": {},
     "outputs": []
    }
   ],
   "metadata": {}
  }
 ]
}