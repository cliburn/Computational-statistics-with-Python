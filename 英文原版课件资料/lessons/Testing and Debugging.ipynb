{
 "metadata": {
  "name": "",
  "signature": "sha256:deed929ea9484ffe2d1fe76837ea3188dbf3bd716f56bdc1a3b0554d850224f0"
 },
 "nbformat": 3,
 "nbformat_minor": 0,
 "worksheets": [
  {
   "cells": [
    {
     "cell_type": "heading",
     "level": 1,
     "metadata": {},
     "source": [
      "Testing and Debugging"
     ]
    },
    {
     "cell_type": "markdown",
     "metadata": {},
     "source": [
      "Testing and debugging are probably the most important and time-consuming aspects of code development.  "
     ]
    },
    {
     "cell_type": "heading",
     "level": 2,
     "metadata": {},
     "source": [
      "What is Testing?"
     ]
    },
    {
     "cell_type": "markdown",
     "metadata": {},
     "source": [
      "Testing is the process of verifying whether the code performs as intended.  The testing process is coupled closely to the 'debugging' process (the process of tracking down and correcting errors in the code)."
     ]
    },
    {
     "cell_type": "heading",
     "level": 3,
     "metadata": {},
     "source": [
      "Types of Errors"
     ]
    },
    {
     "cell_type": "markdown",
     "metadata": {},
     "source": [
      "The types of errors in code generally break down into the following types:\n",
      "\n",
      "* Compile/Syntax Errors\n",
      "* Runtime Errors"
     ]
    },
    {
     "cell_type": "heading",
     "level": 3,
     "metadata": {},
     "source": [
      "Compile/Syntax Errors"
     ]
    },
    {
     "cell_type": "markdown",
     "metadata": {},
     "source": [
      "These are errors that are picked up by a compiler or an interpreter and are (usually) easily corrected.  For example:"
     ]
    },
    {
     "cell_type": "code",
     "collapsed": false,
     "input": [
      "\n",
      "a = 1+3\n",
      "prnt a"
     ],
     "language": "python",
     "metadata": {},
     "outputs": [
      {
       "ename": "SyntaxError",
       "evalue": "invalid syntax (<ipython-input-7-526e3f6783c5>, line 3)",
       "output_type": "pyerr",
       "traceback": [
        "\u001b[1;36m  File \u001b[1;32m\"<ipython-input-7-526e3f6783c5>\"\u001b[1;36m, line \u001b[1;32m3\u001b[0m\n\u001b[1;33m    prnt a\u001b[0m\n\u001b[1;37m         ^\u001b[0m\n\u001b[1;31mSyntaxError\u001b[0m\u001b[1;31m:\u001b[0m invalid syntax\n"
       ]
      }
     ],
     "prompt_number": 7
    },
    {
     "cell_type": "markdown",
     "metadata": {},
     "source": [
      "Syntax errors in compiled languages can be a bit trickier, especially because the compiler can 'get lost' after the first couple of errors.\n",
      "That is why it is always best to try and correct the first couple of errors and re-compile."
     ]
    },
    {
     "cell_type": "code",
     "collapsed": false,
     "input": [
      "%%file hello.c\n",
      "\n",
      "#include <stdio.h>\n",
      "\n",
      "void hello();\n",
      "\n",
      "void\n",
      "hello()\n",
      "{  \n",
      "   int i;\n",
      "   int n = 10\n",
      "   for (i=0;i<n;i++){\n",
      "       printf(\"hello\\n\");\n",
      "   }\n",
      "  \n",
      "}\n"
     ],
     "language": "python",
     "metadata": {},
     "outputs": []
    },
    {
     "cell_type": "code",
     "collapsed": false,
     "input": [
      "!gcc -c -Wall -O2 -Wall -ansi -pedantic -fPIC -o hello.o hello.c"
     ],
     "language": "python",
     "metadata": {},
     "outputs": [
      {
       "output_type": "stream",
       "stream": "stdout",
       "text": [
        "hello.c: In function \u2018hello\u2019:\r\n",
        "hello.c:11:4: error: expected \u2018,\u2019 or \u2018;\u2019 before \u2018for\u2019\r\n",
        "hello.c:11:13: warning: statement with no effect [-Wunused-value]\r\n",
        "hello.c:11:20: error: expected \u2018;\u2019 before \u2018)\u2019 token\r\n",
        "hello.c:11:20: error: expected statement before \u2018)\u2019 token\r\n"
       ]
      }
     ],
     "prompt_number": 20
    },
    {
     "cell_type": "markdown",
     "metadata": {},
     "source": [
      "As you can see, the compiler has reported 4 errors.  But there is only one issue, and that is the first one: There is a semi-colon missing\n",
      "    at the end of line 4."
     ]
    },
    {
     "cell_type": "code",
     "collapsed": false,
     "input": [
      "%%file hello.c\n",
      "\n",
      "#include <stdio.h>\n",
      "\n",
      "void hello();\n",
      "\n",
      "void\n",
      "hello()\n",
      "{  \n",
      "   int i;\n",
      "   int n = 10;\n",
      "   for (i=0;i<n;i++){\n",
      "       printf(\"hello\\n\");\n",
      "   }\n",
      "  \n",
      "}\n"
     ],
     "language": "python",
     "metadata": {},
     "outputs": [
      {
       "output_type": "stream",
       "stream": "stdout",
       "text": [
        "Overwriting hello.c\n"
       ]
      }
     ],
     "prompt_number": 22
    },
    {
     "cell_type": "code",
     "collapsed": false,
     "input": [
      "!gcc -c -Wall -O2 -Wall -ansi -pedantic -fPIC -o hello.o hello.c"
     ],
     "language": "python",
     "metadata": {},
     "outputs": [],
     "prompt_number": 23
    },
    {
     "cell_type": "markdown",
     "metadata": {},
     "source": [
      "<h3>Runtime Errors</h3>\n",
      "\n",
      "* Wrong Output\n",
      "* Exceptions (Divide by zero, bad memory location)\n",
      "* Infinite loops\n"
     ]
    },
    {
     "cell_type": "markdown",
     "metadata": {},
     "source": [
      "<h4>Error Trapping</h4>\n",
      "\n",
      "The best way to deal with errors is to prevent them in the first place.  In error trapping the programmer anticipates runtime problems, and 'traps' the error with a bit of 'error handling' code.  For example, suppose execution of a bit of code relies on the existence of a file:\n"
     ]
    },
    {
     "cell_type": "code",
     "collapsed": false,
     "input": [
      "f = open('myfile', 'r')"
     ],
     "language": "python",
     "metadata": {},
     "outputs": [
      {
       "ename": "IOError",
       "evalue": "[Errno 2] No such file or directory: 'myfile'",
       "output_type": "pyerr",
       "traceback": [
        "\u001b[1;31m---------------------------------------------------------------------------\u001b[0m\n\u001b[1;31mIOError\u001b[0m                                   Traceback (most recent call last)",
        "\u001b[1;32m<ipython-input-25-1f6437029575>\u001b[0m in \u001b[0;36m<module>\u001b[1;34m()\u001b[0m\n\u001b[1;32m----> 1\u001b[1;33m \u001b[0mf\u001b[0m \u001b[1;33m=\u001b[0m \u001b[0mopen\u001b[0m\u001b[1;33m(\u001b[0m\u001b[1;34m'myfile'\u001b[0m\u001b[1;33m,\u001b[0m \u001b[1;34m'r'\u001b[0m\u001b[1;33m)\u001b[0m\u001b[1;33m\u001b[0m\u001b[0m\n\u001b[0m",
        "\u001b[1;31mIOError\u001b[0m: [Errno 2] No such file or directory: 'myfile'"
       ]
      }
     ],
     "prompt_number": 25
    },
    {
     "cell_type": "markdown",
     "metadata": {},
     "source": [
      "Python cannot find the file.  Rather than allow execution to halt, the programmer might want to trap the error and produce a message, or perhaps\n",
      "allow the user to provide a new filename."
     ]
    },
    {
     "cell_type": "code",
     "collapsed": false,
     "input": [
      "try:\n",
      "    inputfilename = 'myfile'\n",
      "    f = open(inputfilename, 'r')\n",
      "except: \n",
      "    message = \"input file: \" + inputfilename + \" not found\"\n",
      "    print(message)\n",
      "   "
     ],
     "language": "python",
     "metadata": {},
     "outputs": [
      {
       "output_type": "stream",
       "stream": "stdout",
       "text": [
        "input file: myfile not found\n"
       ]
      }
     ],
     "prompt_number": 31
    }
   ],
   "metadata": {}
  }
 ]
}