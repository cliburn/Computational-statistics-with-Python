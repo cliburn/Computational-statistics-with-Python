{
 "metadata": {
  "name": "",
  "signature": "sha256:9e0719c23b99e944a42b64d32e2ac53818f41e631768bd1a379bf126d9a8eef8"
 },
 "nbformat": 3,
 "nbformat_minor": 0,
 "worksheets": [
  {
   "cells": [
    {
     "cell_type": "markdown",
     "metadata": {},
     "source": [
      "Numerical computing in Python \n",
      "===="
     ]
    },
    {
     "cell_type": "code",
     "collapsed": false,
     "input": [
      "# Set up inline plotting\n",
      "%matplotlib inline\n",
      "import matplotlib.pyplot as plt"
     ],
     "language": "python",
     "metadata": {},
     "outputs": [],
     "prompt_number": 1
    },
    {
     "cell_type": "markdown",
     "metadata": {},
     "source": [
      "Numpy\n",
      "----"
     ]
    },
    {
     "cell_type": "code",
     "collapsed": false,
     "input": [
      "import numpy as np\n",
      "import numpy.random as npr\n",
      "import scipy.linalg as la\n",
      "np.set_printoptions(precision=4)"
     ],
     "language": "python",
     "metadata": {},
     "outputs": [],
     "prompt_number": 2
    },
    {
     "cell_type": "markdown",
     "metadata": {},
     "source": [
      "### Array indexing"
     ]
    },
    {
     "cell_type": "code",
     "collapsed": false,
     "input": [
      "# Create a 10 by 6 array from normal deviates and convert to ints\n",
      "n, nrows, ncols = 100, 10, 6\n",
      "xs = np.random.normal(n, 15, size=(nrows, ncols)).astype('int')\n",
      "xs"
     ],
     "language": "python",
     "metadata": {},
     "outputs": [
      {
       "metadata": {},
       "output_type": "pyout",
       "prompt_number": 3,
       "text": [
        "array([[ 95,  73,  99, 114, 114,  91],\n",
        "       [108,  90, 114,  71,  87, 108],\n",
        "       [ 77, 108, 130, 113,  81, 101],\n",
        "       [126,  84, 103, 102, 106, 109],\n",
        "       [104, 111,  89, 111, 102, 102],\n",
        "       [105,  89,  64, 108,  90,  97],\n",
        "       [112,  86, 116,  97,  77, 118],\n",
        "       [ 97,  71,  88, 105, 117,  73],\n",
        "       [112, 104,  90, 100, 110, 143],\n",
        "       [ 86, 100,  78, 110,  87,  91]])"
       ]
      }
     ],
     "prompt_number": 3
    },
    {
     "cell_type": "code",
     "collapsed": false,
     "input": [
      "# Use slice notation\n",
      "print(xs[0,0])\n",
      "print(xs[-1,-1])\n",
      "print(xs[3,:])\n",
      "print(xs[:,0])\n",
      "print(xs[::2,::2])\n",
      "print(xs[2:5,2:5])"
     ],
     "language": "python",
     "metadata": {},
     "outputs": [
      {
       "output_type": "stream",
       "stream": "stdout",
       "text": [
        "95\n",
        "91\n",
        "[126  84 103 102 106 109]\n",
        "[ 95 108  77 126 104 105 112  97 112  86]\n",
        "[[ 95  99 114]\n",
        " [ 77 130  81]\n",
        " [104  89 102]\n",
        " [112 116  77]\n",
        " [112  90 110]]\n",
        "[[130 113  81]\n",
        " [103 102 106]\n",
        " [ 89 111 102]]\n"
       ]
      }
     ],
     "prompt_number": 4
    },
    {
     "cell_type": "code",
     "collapsed": false,
     "input": [
      "#  Indexing with list of integers\n",
      "print(xs[0, [1,2,4,5]])"
     ],
     "language": "python",
     "metadata": {},
     "outputs": [
      {
       "output_type": "stream",
       "stream": "stdout",
       "text": [
        "[ 73  99 114  91]\n"
       ]
      }
     ],
     "prompt_number": 5
    },
    {
     "cell_type": "code",
     "collapsed": false,
     "input": [
      "# Boolean indexing\n",
      "print(xs[xs % 2 == 0])\n",
      "xs[xs % 2 == 0] = 0 # set even entries to zero\n",
      "print(xs)"
     ],
     "language": "python",
     "metadata": {},
     "outputs": [
      {
       "output_type": "stream",
       "stream": "stdout",
       "text": [
        "[114 114 108  90 114 108 108 130 126  84 102 106 104 102 102  64 108  90\n",
        " 112  86 116 118  88 112 104  90 100 110  86 100  78 110]\n",
        "[[ 95  73  99   0   0  91]\n",
        " [  0   0   0  71  87   0]\n",
        " [ 77   0   0 113  81 101]\n",
        " [  0   0 103   0   0 109]\n",
        " [  0 111  89 111   0   0]\n",
        " [105  89   0   0   0  97]\n",
        " [  0   0   0  97  77   0]\n",
        " [ 97  71   0 105 117  73]\n",
        " [  0   0   0   0   0 143]\n",
        " [  0   0   0   0  87  91]]\n"
       ]
      }
     ],
     "prompt_number": 6
    },
    {
     "cell_type": "markdown",
     "metadata": {},
     "source": [
      "### Broadcasting, row, column and matrix operations"
     ]
    },
    {
     "cell_type": "code",
     "collapsed": false,
     "input": [
      "# operations across rows, cols or entire matrix\n",
      "print(xs.max())\n",
      "print(xs.max(axis=0)) # max of each col\n",
      "print(xs.max(axis=1)) # max of each row"
     ],
     "language": "python",
     "metadata": {},
     "outputs": [
      {
       "output_type": "stream",
       "stream": "stdout",
       "text": [
        "143\n",
        "[105 111 103 113 117 143]\n",
        "[ 99  87 113 109 111 105  97 117 143  91]\n"
       ]
      }
     ],
     "prompt_number": 7
    },
    {
     "cell_type": "code",
     "collapsed": false,
     "input": [
      "# A funcitonal rather than object-oriented approacha also wokrs\n",
      "print(np.max(xs, axis=0))\n",
      "print(np.max(xs, axis=0))"
     ],
     "language": "python",
     "metadata": {},
     "outputs": [
      {
       "output_type": "stream",
       "stream": "stdout",
       "text": [
        "[105 111 103 113 117 143]\n",
        "[105 111 103 113 117 143]\n"
       ]
      }
     ],
     "prompt_number": 8
    },
    {
     "cell_type": "code",
     "collapsed": false,
     "input": [
      "# broadcasting\n",
      "xs = np.arange(12).reshape(2,6)\n",
      "print(xs, '\\n')\n",
      "print(xs * 10, '\\n')\n",
      "\n",
      "# broadcasting just works when doing column-wise operations\n",
      "col_means = xs.mean(axis=0)\n",
      "print(col_means, '\\n')\n",
      "print(xs + col_means, '\\n')\n",
      "\n",
      "# but needs a little more work for row-wise operations\n",
      "row_means = xs.mean(axis=1)[:, np.newaxis]\n",
      "print(row_means)\n",
      "print(xs + row_means)"
     ],
     "language": "python",
     "metadata": {},
     "outputs": [
      {
       "output_type": "stream",
       "stream": "stdout",
       "text": [
        "(array([[ 0,  1,  2,  3,  4,  5],\n",
        "       [ 6,  7,  8,  9, 10, 11]]), '\\n')\n",
        "(array([[  0,  10,  20,  30,  40,  50],\n",
        "       [ 60,  70,  80,  90, 100, 110]]), '\\n')\n",
        "(array([ 3.,  4.,  5.,  6.,  7.,  8.]), '\\n')\n",
        "(array([[  3.,   5.,   7.,   9.,  11.,  13.],\n",
        "       [  9.,  11.,  13.,  15.,  17.,  19.]]), '\\n')\n",
        "[[ 2.5]\n",
        " [ 8.5]]\n",
        "[[  2.5   3.5   4.5   5.5   6.5   7.5]\n",
        " [ 14.5  15.5  16.5  17.5  18.5  19.5]]\n"
       ]
      }
     ],
     "prompt_number": 11
    },
    {
     "cell_type": "code",
     "collapsed": false,
     "input": [
      "# convert matrix to have zero mean and unit standard deviation using col summary statistics\n",
      "print((xs - xs.mean(axis=0))/xs.std(axis=0))"
     ],
     "language": "python",
     "metadata": {},
     "outputs": [
      {
       "output_type": "stream",
       "stream": "stdout",
       "text": [
        "[[-1. -1. -1. -1. -1. -1.]\n",
        " [ 1.  1.  1.  1.  1.  1.]]\n"
       ]
      }
     ],
     "prompt_number": 12
    },
    {
     "cell_type": "code",
     "collapsed": false,
     "input": [
      "# convert matrix to have zero mean and unit standard deviation using row summary statistics\n",
      "print((xs - xs.mean(axis=1)[:, np.newaxis])/xs.std(axis=1)[:, np.newaxis])"
     ],
     "language": "python",
     "metadata": {},
     "outputs": [
      {
       "output_type": "stream",
       "stream": "stdout",
       "text": [
        "[[-1.4639 -0.8783 -0.2928  0.2928  0.8783  1.4639]\n",
        " [-1.4639 -0.8783 -0.2928  0.2928  0.8783  1.4639]]\n"
       ]
      }
     ],
     "prompt_number": 13
    },
    {
     "cell_type": "markdown",
     "metadata": {},
     "source": [
      "### Linear algebra\n",
      "\n",
      "In general, the linear algebra functions can be found in scipy.linalg. You can also get access to BLAS and LAPACK function via scipy.linagl.blas and scipy.linalg.lapack."
     ]
    },
    {
     "cell_type": "code",
     "collapsed": false,
     "input": [
      "A = np.array([[1,2],[3,4]])\n",
      "b = np.array([1,4])\n",
      "print(A)\n",
      "print(b)"
     ],
     "language": "python",
     "metadata": {},
     "outputs": [
      {
       "output_type": "stream",
       "stream": "stdout",
       "text": [
        "[[1 2]\n",
        " [3 4]]\n",
        "[1 4]\n"
       ]
      }
     ],
     "prompt_number": 14
    },
    {
     "cell_type": "code",
     "collapsed": false,
     "input": [
      "# Matrix operations\n",
      "import numpy as np\n",
      "import scipy.linalg as la\n",
      "from functools import reduce\n",
      "\n",
      "A = np.array([[1,2],[3,4]])\n",
      "print(np.dot(A, A))\n",
      "print(A)\n",
      "print(la.inv(A))\n",
      "print(A.T)"
     ],
     "language": "python",
     "metadata": {},
     "outputs": [
      {
       "output_type": "stream",
       "stream": "stdout",
       "text": [
        "[[ 7 10]\n",
        " [15 22]]\n",
        "[[1 2]\n",
        " [3 4]]\n",
        "[[-2.   1. ]\n",
        " [ 1.5 -0.5]]\n",
        "[[1 3]\n",
        " [2 4]]\n"
       ]
      }
     ],
     "prompt_number": 15
    },
    {
     "cell_type": "code",
     "collapsed": false,
     "input": [
      "x = la.solve(A, b) # do not use x = dot(inv(A), b) as it is inefficient and numerically unstable\n",
      "print(x)\n",
      "print(np.dot(A, x) - b)"
     ],
     "language": "python",
     "metadata": {},
     "outputs": [
      {
       "output_type": "stream",
       "stream": "stdout",
       "text": [
        "[ 2.  -0.5]\n",
        "[ 0.  0.]\n"
       ]
      }
     ],
     "prompt_number": 16
    },
    {
     "cell_type": "markdown",
     "metadata": {},
     "source": [
      "### Matrix decompositions"
     ]
    },
    {
     "cell_type": "code",
     "collapsed": false,
     "input": [
      "A = npr.normal(100, 15, (6, 10)).astype('int')\n",
      "print(A)"
     ],
     "language": "python",
     "metadata": {},
     "outputs": [
      {
       "output_type": "stream",
       "stream": "stdout",
       "text": [
        "[[ 95  82 106 105 101  78 100  94 125  88]\n",
        " [109  99 101 112 105  99 103  87 108 102]\n",
        " [ 98  95 111 119  98  93 110  82 101 104]\n",
        " [106 110  86 123 100  88  95  80 106 114]\n",
        " [116 110  95  75 126  97  91 102  76 114]\n",
        " [123  99  80 118 113  94  94  82 106  89]]\n"
       ]
      }
     ],
     "prompt_number": 17
    },
    {
     "cell_type": "code",
     "collapsed": false,
     "input": [
      "P, L, U = la.lu(A)\n",
      "print(np.dot(P, A))\n",
      "print(np.dot(L, U))"
     ],
     "language": "python",
     "metadata": {},
     "outputs": [
      {
       "output_type": "stream",
       "stream": "stdout",
       "text": [
        "[[  98.   95.  111.  119.   98.   93.  110.   82.  101.  104.]\n",
        " [ 116.  110.   95.   75.  126.   97.   91.  102.   76.  114.]\n",
        " [ 123.   99.   80.  118.  113.   94.   94.   82.  106.   89.]\n",
        " [ 109.   99.  101.  112.  105.   99.  103.   87.  108.  102.]\n",
        " [ 106.  110.   86.  123.  100.   88.   95.   80.  106.  114.]\n",
        " [  95.   82.  106.  105.  101.   78.  100.   94.  125.   88.]]\n",
        "[[ 123.   99.   80.  118.  113.   94.   94.   82.  106.   89.]\n",
        " [ 106.  110.   86.  123.  100.   88.   95.   80.  106.  114.]\n",
        " [  95.   82.  106.  105.  101.   78.  100.   94.  125.   88.]\n",
        " [ 116.  110.   95.   75.  126.   97.   91.  102.   76.  114.]\n",
        " [ 109.   99.  101.  112.  105.   99.  103.   87.  108.  102.]\n",
        " [  98.   95.  111.  119.   98.   93.  110.   82.  101.  104.]]\n"
       ]
      }
     ],
     "prompt_number": 18
    },
    {
     "cell_type": "code",
     "collapsed": false,
     "input": [
      "Q, R = la.qr(A)\n",
      "print(A)\n",
      "print(np.dot(Q, R).astype('int'))"
     ],
     "language": "python",
     "metadata": {},
     "outputs": [
      {
       "output_type": "stream",
       "stream": "stdout",
       "text": [
        "[[ 95  82 106 105 101  78 100  94 125  88]\n",
        " [109  99 101 112 105  99 103  87 108 102]\n",
        " [ 98  95 111 119  98  93 110  82 101 104]\n",
        " [106 110  86 123 100  88  95  80 106 114]\n",
        " [116 110  95  75 126  97  91 102  76 114]\n",
        " [123  99  80 118 113  94  94  82 106  89]]\n",
        "[[ 95  82 106 105 101  78 100  94 125  88]\n",
        " [108  99 101 112 105  99 103  87 108 102]\n",
        " [ 98  95 111 119  98  93 110  82 101 104]\n",
        " [106 110  86 123 100  88  95  80 106 114]\n",
        " [116 110  95  75 126  97  91 102  76 114]\n",
        " [123  98  80 118 113  94  94  82 106  89]]\n"
       ]
      }
     ],
     "prompt_number": 19
    },
    {
     "cell_type": "code",
     "collapsed": false,
     "input": [
      "U, s, V = la.svd(A)\n",
      "m, n = A.shape\n",
      "S =  np.zeros((m, n))\n",
      "for i, _s in enumerate(s):\n",
      "    S[i,i] = _s\n",
      "print(reduce(np.dot, [U, S, V]))"
     ],
     "language": "python",
     "metadata": {},
     "outputs": [
      {
       "output_type": "stream",
       "stream": "stdout",
       "text": [
        "[[  95.   82.  106.  105.  101.   78.  100.   94.  125.   88.]\n",
        " [ 109.   99.  101.  112.  105.   99.  103.   87.  108.  102.]\n",
        " [  98.   95.  111.  119.   98.   93.  110.   82.  101.  104.]\n",
        " [ 106.  110.   86.  123.  100.   88.   95.   80.  106.  114.]\n",
        " [ 116.  110.   95.   75.  126.   97.   91.  102.   76.  114.]\n",
        " [ 123.   99.   80.  118.  113.   94.   94.   82.  106.   89.]]\n"
       ]
      }
     ],
     "prompt_number": 20
    },
    {
     "cell_type": "code",
     "collapsed": false,
     "input": [
      "B = np.cov(A)\n",
      "print(B)"
     ],
     "language": "python",
     "metadata": {},
     "outputs": [
      {
       "output_type": "stream",
       "stream": "stdout",
       "text": [
        "[[ 181.3778   42.7778   58.5111   23.0889 -121.9778   44.7556]\n",
        " [  42.7778   48.5      52.8333   68.7778  -28.8889   80.2222]\n",
        " [  58.5111   52.8333  110.3222   74.2444  -82.1333   36.1333]\n",
        " [  23.0889   68.7778   74.2444  183.9556  -24.1778  129.7333]\n",
        " [-121.9778  -28.8889  -82.1333  -24.1778  283.0667    9.3778]\n",
        " [  44.7556   80.2222   36.1333  129.7333    9.3778  219.5111]]\n"
       ]
      }
     ],
     "prompt_number": 21
    },
    {
     "cell_type": "code",
     "collapsed": false,
     "input": [
      "u, V = la.eig(B)\n",
      "print(np.dot(B, V))\n",
      "print(np.real(np.dot(V, np.diag(u))))"
     ],
     "language": "python",
     "metadata": {},
     "outputs": [
      {
       "output_type": "stream",
       "stream": "stdout",
       "text": [
        "[[ -2.0102e+02  -8.7193e+01  -8.1063e+01   2.8856e+01  -1.2287e+01\n",
        "   -1.7071e-01]\n",
        " [ -1.2770e+02   4.9743e+01  -2.0215e+00   8.8173e+00   1.0113e+01\n",
        "    2.7248e+00]\n",
        " [ -1.6736e+02  -1.2602e+01   3.7575e+01   4.3426e+01   2.1998e+01\n",
        "   -9.9552e-01]\n",
        " [ -1.9952e+02   1.3677e+02   5.2859e+01   9.3565e+00  -2.5173e+01\n",
        "   -6.4364e-02]\n",
        " [  2.4073e+02   2.0714e+02  -3.1078e+01   3.7915e+01  -5.0583e-01\n",
        "   -6.5118e-02]\n",
        " [ -1.9546e+02   1.8346e+02  -3.9716e+01  -3.5476e+01   1.2268e+01\n",
        "   -7.6681e-01]]\n",
        "[[ -2.0102e+02  -8.7193e+01  -8.1063e+01   2.8856e+01  -1.2287e+01\n",
        "   -1.7071e-01]\n",
        " [ -1.2770e+02   4.9743e+01  -2.0215e+00   8.8173e+00   1.0113e+01\n",
        "    2.7248e+00]\n",
        " [ -1.6736e+02  -1.2602e+01   3.7575e+01   4.3426e+01   2.1998e+01\n",
        "   -9.9552e-01]\n",
        " [ -1.9952e+02   1.3677e+02   5.2859e+01   9.3565e+00  -2.5173e+01\n",
        "   -6.4364e-02]\n",
        " [  2.4073e+02   2.0714e+02  -3.1078e+01   3.7915e+01  -5.0583e-01\n",
        "   -6.5118e-02]\n",
        " [ -1.9546e+02   1.8346e+02  -3.9716e+01  -3.5476e+01   1.2268e+01\n",
        "   -7.6681e-01]]\n"
       ]
      }
     ],
     "prompt_number": 22
    },
    {
     "cell_type": "code",
     "collapsed": false,
     "input": [
      "C = la.cholesky(B)\n",
      "print(np.dot(C.T, C)) # dot(C.T.conj(), C)\n",
      "print(B)"
     ],
     "language": "python",
     "metadata": {},
     "outputs": [
      {
       "output_type": "stream",
       "stream": "stdout",
       "text": [
        "[[ 181.3778   42.7778   58.5111   23.0889 -121.9778   44.7556]\n",
        " [  42.7778   48.5      52.8333   68.7778  -28.8889   80.2222]\n",
        " [  58.5111   52.8333  110.3222   74.2444  -82.1333   36.1333]\n",
        " [  23.0889   68.7778   74.2444  183.9556  -24.1778  129.7333]\n",
        " [-121.9778  -28.8889  -82.1333  -24.1778  283.0667    9.3778]\n",
        " [  44.7556   80.2222   36.1333  129.7333    9.3778  219.5111]]\n",
        "[[ 181.3778   42.7778   58.5111   23.0889 -121.9778   44.7556]\n",
        " [  42.7778   48.5      52.8333   68.7778  -28.8889   80.2222]\n",
        " [  58.5111   52.8333  110.3222   74.2444  -82.1333   36.1333]\n",
        " [  23.0889   68.7778   74.2444  183.9556  -24.1778  129.7333]\n",
        " [-121.9778  -28.8889  -82.1333  -24.1778  283.0667    9.3778]\n",
        " [  44.7556   80.2222   36.1333  129.7333    9.3778  219.5111]]\n"
       ]
      }
     ],
     "prompt_number": 23
    },
    {
     "cell_type": "markdown",
     "metadata": {},
     "source": [
      "### Least squares solution"
     ]
    },
    {
     "cell_type": "markdown",
     "metadata": {},
     "source": [
      "Suppose we want to solve a system of noisy linear equations\n",
      "\n",
      "$$\n",
      "y_1 = b_1 x_1 + b_0 \\\\\n",
      "y_2 = b_1 x_2 + b_0 \\\\\n",
      "y_3 = b_1 x_2 + b_0 \\\\\n",
      "y_4 = b_1 x_4 + b_0 \\\\\n",
      "$$\n",
      "\n",
      "Since the system is noisy (implies full rank) and overdetermined, we cannot find an exact solution. Instead, we will look for the least squares solution. First we can rewrrite in matrix notation $Y = AB$, treating $b_0$ as the coefficient of $x_0 = 1$:\n",
      "\n",
      "$$\n",
      "\\left(\n",
      "\\begin{array}{c}\n",
      "y_1 \\\\\n",
      "y_2 \\\\\n",
      "y_3 \\\\\n",
      "y_4 \n",
      "\\end{array} \n",
      "\\right) = \\left( \\begin{array}{cc}\n",
      "1 & x_1 \\\\\n",
      "1 & x_2 \\\\\n",
      "1 & x_3 \\\\\n",
      "1 &x_4 \\end{array} \\right)\n",
      "\\left( \n",
      "\\begin{array}{c}\n",
      "b_0 \\\\\n",
      "b_1 \n",
      "\\end{array}\n",
      "\\right)\n",
      "$$\n",
      "\n",
      "The solution of this (i.e. the $B$ matrix) is found by multipling the psudoinverse of $A$ (the Vandermonde matrix) with $Y$ \n",
      "\n",
      "$$\n",
      "(A^\\text{T}A)^{-1}A^\\text{T} Y\n",
      "$$\n",
      "\n",
      "This comes from setting the first derivative of $(Y - X \\beta)^2$ to 0 and solving for $\\beta$.\n",
      "\n",
      "Note that higher order polynomials have the same structure and can be solved in the same way and are also linear equations in $\\beta$.\n",
      "\n",
      "$$\n",
      "\\left(\n",
      "\\begin{array}{c}\n",
      "y_1 \\\\\n",
      "y_2 \\\\\n",
      "y_3 \\\\\n",
      "y_4 \n",
      "\\end{array} \n",
      "\\right) = \\left( \\begin{array}{ccc}\n",
      "1 & x_1 & x_1^2 \\\\\n",
      "1 & x_2 & x_2^2 \\\\\n",
      "1 & x_3 & x_3^2 \\\\\n",
      "1 & x_4 & x_4^2 \\end{array} \\right)\n",
      "\\left( \n",
      "\\begin{array}{c}\n",
      "b_0 \\\\\n",
      "b_1 \\\\\n",
      "b_2\n",
      "\\end{array}\n",
      "\\right)\n",
      "$$"
     ]
    },
    {
     "cell_type": "code",
     "collapsed": false,
     "input": [
      "# Set up a system of 11 linear equations\n",
      "x = np.linspace(1,2,11)\n",
      "y = 6*x - 2 + npr.normal(0, 0.3, len(x))\n",
      "\n",
      "# Form the VanderMonde matrix\n",
      "A = np.vstack([x, np.ones(len(x))]).T\n",
      "\n",
      "# The linear algebra librayr has a lstsq() function \n",
      "# that will do the above calculaitons for us\n",
      "\n",
      "b, resids, rank, sv = la.lstsq(A, y)\n",
      "\n",
      "# Check against pseudoinverse and the normal equation\n",
      "print(\"lstsq solution\".ljust(30), b)\n",
      "print(\"pseudoinverse solution\".ljust(30), np.dot(la.pinv(A), y))\n",
      "print(\"normal euqation solution\".ljust(30), np.dot(np.dot(la.inv(np.dot(A.T, A)), A.T), y))\n",
      "\n",
      "# Now plot the solution\n",
      "xi = np.linspace(1,2,11)\n",
      "yi = b[0]*xi + b[1]\n",
      "\n",
      "plt.plot(x, y, 'o')\n",
      "plt.plot(xi, yi, 'r-');"
     ],
     "language": "python",
     "metadata": {},
     "outputs": [
      {
       "output_type": "stream",
       "stream": "stdout",
       "text": [
        "('lstsq solution                ', array([ 6.0064, -2.0662]))\n",
        "('pseudoinverse solution        ', array([ 6.0064, -2.0662]))\n",
        "('normal euqation solution      ', array([ 6.0064, -2.0662]))\n"
       ]
      },
      {
       "metadata": {},
       "output_type": "display_data",
       "png": "[encoded data removed]",
       "text": [
        "<matplotlib.figure.Figure at 0x1090c4e90>"
       ]
      }
     ],
     "prompt_number": 24
    },
    {
     "cell_type": "code",
     "collapsed": false,
     "input": [
      "# As advertised, this works for finding coeefficeints of a polynomial too\n",
      "\n",
      "x = np.linspace(0,2,11)\n",
      "y = 6*x*x + .5*x + 2 + npr.normal(0, 0.6, len(x))\n",
      "plt.plot(x, y, 'o')\n",
      "A = np.vstack([x*x, x, np.ones(len(x))]).T\n",
      "b = la.lstsq(A, y)[0]\n",
      "\n",
      "xi = np.linspace(0,2,11)\n",
      "yi = b[0]*xi*xi + b[1]*xi + b[2]\n",
      "plt.plot(xi, yi, 'r-');"
     ],
     "language": "python",
     "metadata": {},
     "outputs": [
      {
       "metadata": {},
       "output_type": "display_data",
       "png": "[encoded data removed]",
       "text": [
        "<matplotlib.figure.Figure at 0x10b162850>"
       ]
      }
     ],
     "prompt_number": 25
    },
    {
     "cell_type": "code",
     "collapsed": false,
     "input": [
      "# It is important to understand what is going on,\n",
      "# but we don't have to work so hard to fit a polynomial\n",
      "\n",
      "b = np.random.randint(0, 10, 6)\n",
      "x = np.linspace(0, 1, 25)\n",
      "y = np.poly1d(b)(x) \n",
      "y += np.random.normal(0, 5, y.shape)\n",
      "\n",
      "p = np.poly1d(np.polyfit(x, y, len(b)-1))\n",
      "plt.plot(x, y, 'bo')\n",
      "plt.plot(x, p(x), 'r-')\n",
      "list(zip(b, p.coeffs))"
     ],
     "language": "python",
     "metadata": {},
     "outputs": [
      {
       "metadata": {},
       "output_type": "pyout",
       "prompt_number": 26,
       "text": [
        "[(4, -104.9127846499792),\n",
        " (8, 338.10593687644877),\n",
        " (1, -273.52108982003318),\n",
        " (6, 26.406479516940809),\n",
        " (6, 45.218269345183614),\n",
        " (9, 3.4534675105311239)]"
       ]
      },
      {
       "metadata": {},
       "output_type": "display_data",
       "png": "[encoded data removed]",
       "text": [
        "<matplotlib.figure.Figure at 0x10b1d6fd0>"
       ]
      }
     ],
     "prompt_number": 26
    },
    {
     "cell_type": "code",
     "collapsed": false,
     "input": [
      "%load_ext version_information\n",
      "\n",
      "%version_information numpy, scipy, functional"
     ],
     "language": "python",
     "metadata": {},
     "outputs": [],
     "prompt_number": 26
    }
   ],
   "metadata": {}
  }
 ]
}