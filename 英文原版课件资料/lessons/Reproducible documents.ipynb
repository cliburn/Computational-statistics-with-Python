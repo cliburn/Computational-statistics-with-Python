{
 "metadata": {
  "name": "",
  "signature": "sha256:66c2f71ac86cd848f810f7c568e1c55f050b85671abcf5f1e685630248b4a967"
 },
 "nbformat": 3,
 "nbformat_minor": 0,
 "worksheets": [
  {
   "cells": [
    {
     "cell_type": "code",
     "collapsed": false,
     "input": [
      "%%file reproducible.py\n",
      "def fib(n):\n",
      "    if n==0 or n==1:\n",
      "        return 1\n",
      "    else:\n",
      "        return fib(n-1) + fib(n-2)\n",
      "\n",
      "def make_fib(n):\n",
      "    for i in range(1, n):\n",
      "        print(\"%d, \" % fib(i))\n",
      "    print(\"and %d%%\" % fib(n))\n",
      "    \n",
      "def make_plot(x, y, label):\n",
      "    xs = np.linepace(0, 2*np.pi, 100)\n",
      "    ys = np.sin(xs)\n",
      "    plot(xs, ys, 'r')"
     ],
     "language": "python",
     "metadata": {},
     "outputs": [
      {
       "output_type": "stream",
       "stream": "stdout",
       "text": [
        "Overwriting reproducible.py\n"
       ]
      }
     ],
     "prompt_number": 1
    },
    {
     "cell_type": "code",
     "collapsed": false,
     "input": [
      "%%file reproducible.tex\n",
      "\\documentclass{article}\n",
      "\\usepackage{pythontex}\n",
      "\\usepackage{graphicx}\n",
      "\\usepackage{url}\n",
      "\n",
      "\\begin{document}\n",
      "\n",
      "\\section{Calculating stuff}\n",
      "\n",
      "\\begin{pythontexcustomcode}{py}\n",
      "from reproducible import make_fib\n",
      "\\end{pythontexcustomcode}\n",
      "\n",
      "The first 10 Fibonacci nummbers are \\pyc{make_fib(10)}.\n",
      "\n",
      "\\section{Pictures}\n",
      "\n",
      "Code example from \\url{http://susan-stepney.blogspot.com/2013/10/pythontex.html}\n",
      "\n",
      "\\begin{pylabcode}\n",
      "n = 16\n",
      "m = 6\n",
      "figure(figsize=(n*0.2, m*0.2))\n",
      "gca().axison = False\n",
      "x = 8\n",
      "y = 4\n",
      "fill( (x,x+1,x+1,x), (y,y,y+1,y+1), 'r', linewidth=0)\n",
      "for i in range(0,n+1):\n",
      "    ii = (i,i)\n",
      "    jj = (0,m)\n",
      "    plot(ii,jj,'0.4', linewidth=0.2)\n",
      "for j in range(0,m+1):\n",
      "    ii = (0,n)\n",
      "    jj = (j,j)\n",
      "    plot(ii,jj,'0.4', linewidth=0.2)\n",
      "savefig('myplot.pdf', bbox_inches='tight')\n",
      "\\end{pylabcode}\n",
      "\n",
      "\\includegraphics{myplot.pdf}\n",
      "\n",
      "This is a \\pylab{'${0} \\\\times {1} = {2}$'.format(n, m, n * m)}\n",
      "square grid, with a red block at $(\\pylab{x},\\pylab{y})$.\n",
      "\n",
      "\\section{Symbolic algebra}\n",
      "\n",
      "Code example from \\url{https://www.tug.org/tug2013/slides/Mertz-A_Gentle_Introduction_to_PythonTeX.pdf}\n",
      "\\vspace{1cm}\n",
      "\n",
      "\\begin{pycode}\n",
      "from sympy import *\n",
      "var(\"x\")\n",
      "\n",
      "functions = [sin(x), cos(x), tan(x)]\n",
      "\n",
      "print(r\"\\centering{\\begin{align*}\")\n",
      "for f in functions:\n",
      "    i = Integral(f, x)\n",
      "    print(latex(i) + \"&=\" + latex(i.doit()) + r\"\\\\\")\n",
      "print(r\"\\end{align*}}\")\n",
      "\\end{pycode}}\n",
      "\n",
      "\\end{document}"
     ],
     "language": "python",
     "metadata": {},
     "outputs": [
      {
       "output_type": "stream",
       "stream": "stdout",
       "text": [
        "Overwriting reproducible.tex\n"
       ]
      }
     ],
     "prompt_number": 2
    },
    {
     "cell_type": "code",
     "collapsed": false,
     "input": [
      "%%bash\n",
      "\n",
      "pdflatex -interaction=batchmode reproducible.tex \n",
      "pythontex reproducible.tex&\n",
      "pdflatex -interaction=batchmode reproducible.tex"
     ],
     "language": "python",
     "metadata": {},
     "outputs": [
      {
       "output_type": "stream",
       "stream": "stdout",
       "text": [
        "This is pdfTeX, Version 3.14159265-2.6-1.40.15 (TeX Live 2014) (preloaded format=pdflatex)\n",
        " restricted \\write18 enabled.\n",
        "entering extended mode\n",
        "This is PythonTeX v0.12\n",
        "* PythonTeX warning\n",
        "    Unknown option \"workingdirset\"\n",
        "* PythonTeX warning\n",
        "    The version of the PythonTeX scripts does not match\n",
        "    the last code saved by the document--run LaTeX to create\n",
        "    an updated version.  Attempting to proceed.\n",
        "\n",
        "--------------------------------------------------\n",
        "PythonTeX:  reproducible - 0 error(s), 1 warning(s)\n",
        "\n",
        "This is pdfTeX, Version 3.14159265-2.6-1.40.15 (TeX Live 2014) (preloaded format=pdflatex)\n",
        " restricted \\write18 enabled.\n",
        "entering extended mode\n"
       ]
      }
     ],
     "prompt_number": 3
    },
    {
     "cell_type": "code",
     "collapsed": false,
     "input": [
      "! open reproducible.pdf"
     ],
     "language": "python",
     "metadata": {},
     "outputs": [],
     "prompt_number": 10
    },
    {
     "cell_type": "code",
     "collapsed": false,
     "input": [],
     "language": "python",
     "metadata": {},
     "outputs": []
    }
   ],
   "metadata": {}
  }
 ]
}