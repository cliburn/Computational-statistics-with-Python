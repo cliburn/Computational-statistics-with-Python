{
 "metadata": {
  "name": "",
  "signature": "sha256:9d17aa59578cd90a28fbc4400724a482d3af04f9089eeaa989475b76d0c5dc91"
 },
 "nbformat": 3,
 "nbformat_minor": 0,
 "worksheets": []
}