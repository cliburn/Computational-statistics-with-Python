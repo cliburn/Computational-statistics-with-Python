{
 "metadata": {
  "name": "",
  "signature": "sha256:3a39e5cef34df3ec04fcecaf83f710695d423cff6e054571e8571a06f928b19c"
 },
 "nbformat": 3,
 "nbformat_minor": 0,
 "worksheets": [
  {
   "cells": [
    {
     "cell_type": "heading",
     "level": 1,
     "metadata": {},
     "source": [
      "Setting up Workspace and Introduction to bash\n"
     ]
    },
    {
     "cell_type": "heading",
     "level": 4,
     "metadata": {},
     "source": [
      "In this class, we will be using Amazon Web Service's EC2 (Elastic Compute Cloud). Working in the cloud offers numerous advantages:\n",
      "\n"
     ]
    },
    {
     "cell_type": "markdown",
     "metadata": {},
     "source": [
      "* Access to otherwise unavailable resources (multiple servers, GPUs, etc.).\n",
      "* Versatility - you can set up workspaces in a variety of operating systems, with any combination of installed software.\n",
      "* Portability - access your 'virtual machine' from anywhere via the internet."
     ]
    },
    {
     "cell_type": "markdown",
     "metadata": {},
     "source": [
      "Go to http://aws.amazon.com/ and create an account. "
     ]
    },
    {
     "cell_type": "markdown",
     "metadata": {},
     "source": [
      "Now, follow Amazon's intstructions on key pairs.  Next choose 'Launch instance' and choose the Ubuntu AMI."
     ]
    },
    {
     "cell_type": "markdown",
     "metadata": {},
     "source": [
      "Choose the first option 'free tier'"
     ]
    },
    {
     "cell_type": "markdown",
     "metadata": {},
     "source": [
      "Choose 'Review and Launch'\n",
      "Use your existing key pair, and acknowledge your \n",
      "Launch Instance\n",
      "View Instance\n",
      "Connect\n",
      "Cut and paste ssh command line"
     ]
    },
    {
     "cell_type": "markdown",
     "metadata": {},
     "source": [
      "https://aws.amazon.com/getting-started/?sc_icountry=en&sc_ichannel=ha&sc_idetail=ha_en_129&sc_icontent=ha_en_d_ed_129_1&sc_iplace=ha_en_ed&sc_icampaign=ha_en_GettingStarted&trk=/"
     ]
    },
    {
     "cell_type": "code",
     "collapsed": false,
     "input": [],
     "language": "python",
     "metadata": {},
     "outputs": []
    }
   ],
   "metadata": {}
  }
 ]
}