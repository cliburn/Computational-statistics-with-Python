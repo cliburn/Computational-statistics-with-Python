{
 "metadata": {
  "name": "",
  "signature": "sha256:af7f77e5f3f6de9c1287e1dcf59e5389da8b0f0b957d682fdb7047c69f50d1e5"
 },
 "nbformat": 3,
 "nbformat_minor": 0,
 "worksheets": [
  {
   "cells": [
    {
     "cell_type": "markdown",
     "metadata": {},
     "source": [
      "Pretest\n",
      "===="
     ]
    },
    {
     "cell_type": "markdown",
     "metadata": {},
     "source": [
      "### Linear Algebra\n",
      "\n",
      "Will need to flesh out.\n",
      "\n",
      "1. Given some matrix A, find vectors spannng the column and null space.\n",
      "2. Find the projection of A on B.\n",
      "3. Find the inverse of a 2 x 2 matrix.\n",
      "4. Restate a set of simultaneous equations in matrix form and solve using Gaussian elimination.\n",
      "5. Calculate the eigenvalues and eigenvectors of a matrix with repeated roots in its characterisitc polynomial."
     ]
    },
    {
     "cell_type": "markdown",
     "metadata": {},
     "source": [
      "### Calculus\n",
      "\n",
      "Will need to flesh out.\n",
      "\n",
      "1. Some problem invoiving use of elementary differentitaion rules.\n",
      "2. Some problem invoiving use of elementary integration rules.\n",
      "3. Some problem involving use of Taylor series.\n",
      "4. Find the Jacobian of a matrix and use it to perform a change of variables.\n",
      "5. Perform some (small) matrix factorization by hand - e.g. LU, QR, cholesky, eigendecomposition"
     ]
    },
    {
     "cell_type": "markdown",
     "metadata": {},
     "source": [
      "### Unix shell\n",
      "\n",
      "1. What does `cd - ` do?\n",
      "\n",
      "2. What does `ln -s /usr/local/bin/foo bar` do?\n",
      "\n",
      "3. What is the total number of lines of code in header files (with extension .h) in your `/usr/include` directory?\n",
      "\n",
      "4. What are the files in the `/usr/include` direotory that contain the string `#include <stdio.h>`?\n",
      "\n",
      "5. How many header files (with extension .h) in the `/usr/include` directory were modified within the past 365 days?"
     ]
    },
    {
     "cell_type": "markdown",
     "metadata": {},
     "source": [
      "### High-level programming (use your favorite language - e.g. R, Matlab, Python, Haskell, Julia ...)\n",
      "\n",
      "1. Write a program that prints the numbers from 1 to 12, except:\n",
      "    - if the number is divisible by 2 (i.e. it is even), it is replaced by its square\n",
      "    - if the number is divisible by 5, it is replaced by its cube\n",
      "    - if the number is divisible by both 2 and 5, it is replaced by its square root\n",
      "    - otherwise just print the number itself\n",
      "    \n",
      "2. Write a program to generate the following seqeunce in your favorite language\n",
      "$$\n",
      "a_n = 3 a_{n-1} - a_{n-2}\n",
      "$$\n",
      "given that $a_0 = 1$ and $a_1 = 3$. Print $a_0$ to $a_{10}$.\n",
      "\n",
      "3. Write a program that saves the numbers 1,2,3,4,5 and 6,7,8,9,10 in a CSV file on two separate lines (spacing between comma is optional). That is, the contents of the file should be \n",
      "```\n",
      "1, 2, 3, 4, 5\n",
      "6, 7, 8, 9, 10\n",
      "``` \n",
      "Now read them back in from the file you have just written to, and save to another file in reverse order - i.e. the file should contain a single line that reads \n",
      "```\n",
      "10, 9, 8, 7, 6, 5, 4, 3, 2, 1\n",
      "```\n",
      "\n",
      "4. Write a program to print the 12 by 12 multiplication table in a 12 by 12 grid. It should look something like this\n",
      "```\n",
      "[[  1   2   3   4   5   6   7   8   9  10  11  12]\n",
      " [  2   4   6   8  10  12  14  16  18  20  22  24]\n",
      " [  3   6   9  12  15  18  21  24  27  30  33  36]\n",
      " [  4   8  12  16  20  24  28  32  36  40  44  48]\n",
      " [  5  10  15  20  25  30  35  40  45  50  55  60]\n",
      " [  6  12  18  24  30  36  42  48  54  60  66  72]\n",
      " [  7  14  21  28  35  42  49  56  63  70  77  84]\n",
      " [  8  16  24  32  40  48  56  64  72  80  88  96]\n",
      " [  9  18  27  36  45  54  63  72  81  90  99 108]\n",
      " [ 10  20  30  40  50  60  70  80  90 100 110 120]\n",
      " [ 11  22  33  44  55  66  77  88  99 110 121 132]\n",
      " [ 12  24  36  48  60  72  84  96 108 120 132 144]]\n",
      "```\n",
      "\n",
      "5. Write a program that finds out and prints the number of processors on your computer."
     ]
    },
    {
     "cell_type": "markdown",
     "metadata": {},
     "source": [
      "### C/C++\n",
      "\n",
      "1. Write a C program to print \"Helllo, world\". Compile and run the program. For example, if your executable is called `hello`, the inputs and outputs should look like (\\$ is the system prompt):\n",
      "```\n",
      "$ ./hello \n",
      "$ Hello, world\n",
      "```\n",
      "\n",
      "2. Write a makefile to compile the `hello` program - if you delete the `hello` executable and type `make`, the executable should be regenerated.\n",
      "\n",
      "3. Write and compile C program that uses the `sqrt` function from the `libm` library to find the square root of 4, and `printf` from `stdio` to print the answwer with 2 digits after the decimal point.\n",
      "\n",
      "4. Write a C program that stores a vector of `n` integers, where the integers come from the command line, and prints out the square of each of the input integers. Suppose the executable is named `store_vector` - this should work from the commmand line\n",
      "```\n",
      "$ ./c_store_vector 4 6 9 11\n",
      "$ 16 36 81 121\n",
      "```\n",
      "\n",
      "5. Write the same program as in Question 4 in C++, using a vector data structure from the standard template library to store the integers, and using `<iostream`> functions to print the reuslts. The inputs and outputs are the same as before:\n",
      "```\n",
      "$ ./cpp_store_vector 4 6 9 11\n",
      "$ 16 36 81 121\n",
      "```"
     ]
    },
    {
     "cell_type": "markdown",
     "metadata": {},
     "source": [
      "### Version control and git\n",
      "\n",
      "1. Create a [Github](www.github.com) account if you do not already have one.\n",
      "2. Create a new git reposiotry called `repo-1` on Github and clone it to your local drive.\n",
      "3. Create a new git repository called `repo-2` on your local drive, add and commit a README file with some text and push to Github.\n",
      "4. Modify the README file in `repo-2` by adding an extra line of text, then add and commit the changes to Github. Ask git to show the changes between version 1 and 2 of the README file.\n",
      "5. Clone a Github repository `repo-2` that belongs to one of your classmates onto your local drive as `other-repo-1`."
     ]
    },
    {
     "cell_type": "code",
     "collapsed": false,
     "input": [],
     "language": "python",
     "metadata": {},
     "outputs": []
    }
   ],
   "metadata": {}
  }
 ]
}