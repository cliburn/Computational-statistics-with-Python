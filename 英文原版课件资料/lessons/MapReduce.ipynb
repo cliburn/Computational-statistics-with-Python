{
 "metadata": {
  "name": "",
  "signature": "sha256:d377ab1b7b17dbe48a40deca8771ec15d5133a06bb283c8045153ee41266a201"
 },
 "nbformat": 3,
 "nbformat_minor": 0,
 "worksheets": [
  {
   "cells": [
    {
     "cell_type": "markdown",
     "metadata": {},
     "source": [
      "### Synopsis\n",
      "\n",
      "MapReduce is basiclaly a design pattern for distributing many embarrassingly parallel problems over multiple processors, based on the funcitonal prgramming concepts of `map` and `reduce`. If the original problem size is too large to fit into the memory of a single computer, applying map-reduce can be very useful. Unlike some parallel processing algorihtsms, the concept of map-reduce is very simple."
     ]
    },
    {
     "cell_type": "code",
     "collapsed": false,
     "input": [
      "%matplotlib inline\n",
      "import matplotlib.pyplot as plt\n",
      "import numpy as np"
     ],
     "language": "python",
     "metadata": {},
     "outputs": [],
     "prompt_number": 1
    },
    {
     "cell_type": "code",
     "collapsed": false,
     "input": [
      "%precision 4\n",
      "import operator\n",
      "from collections import Counter\n",
      "from multiprocessing import Pool"
     ],
     "language": "python",
     "metadata": {},
     "outputs": [],
     "prompt_number": 41
    },
    {
     "cell_type": "markdown",
     "metadata": {},
     "source": [
      "### Review of map, reduce and basic parallel processing"
     ]
    },
    {
     "cell_type": "markdown",
     "metadata": {},
     "source": [
      "**Word count example**"
     ]
    },
    {
     "cell_type": "code",
     "collapsed": false,
     "input": [
      "# The cannical example counts the appearance of each word in a set of documents\n",
      "# Suppose each document is a DNA sequence and we want to count how often each of the nucleotides 'A', 'C', 'T', and 'G' appear.\n",
      "\n",
      "# make up some data repreensting DNA sequences\n",
      "nseqs= 10\n",
      "seq_length = 10000\n",
      "seqs = [''.join(s) for s in np.random.choice(list('ACTG'), size=(nseqs, seq_length), replace=True, p=[0.1,0.2,0.3,0.4])]\n",
      "\n",
      "# The most basic form of map-reduce requires a mapper function that \n",
      "# processes each individual chunk and returns a summary result\n",
      "# followed by a reducer that combines the results of the mapping operation\n",
      "\n",
      "# mapper function that returns dictionary of counts\n",
      "def mapper(seq):\n",
      "    c = Counter(seq)\n",
      "    return c\n",
      "\n",
      "# reducer funciton that adds similar items in each counter object\n",
      "def reducer(counter1, counter2):\n",
      "    return counter1 + counter2\n",
      "\n",
      "# map function to sequences\n",
      "counters = map(mapper, seqs)\n",
      "\n",
      "# reduce list of dictionaries returned\n",
      "counts = reduce(reducer, counters)\n",
      "\n",
      "counts"
     ],
     "language": "python",
     "metadata": {},
     "outputs": [
      {
       "metadata": {},
       "output_type": "pyout",
       "prompt_number": 57,
       "text": [
        "Counter({'G': 40044, 'T': 29914, 'C': 20070, 'A': 9972})"
       ]
      }
     ],
     "prompt_number": 57
    },
    {
     "cell_type": "code",
     "collapsed": false,
     "input": [
      "# This can be written in one line\n",
      "counts = reduce(reducer, map(mapper, seqs))"
     ],
     "language": "python",
     "metadata": {},
     "outputs": [],
     "prompt_number": 53
    },
    {
     "cell_type": "code",
     "collapsed": false,
     "input": [
      "# We can parallelize this using multiprocessing trivially\n",
      "pool =  Pool()\n",
      "counts = reduce(reducer, pool.map(mapper, seqs))\n",
      "pool.close()\n",
      "counts"
     ],
     "language": "python",
     "metadata": {},
     "outputs": [
      {
       "metadata": {},
       "output_type": "pyout",
       "prompt_number": 55,
       "text": [
        "Counter({'G': 40065, 'T': 30029, 'C': 19972, 'A': 9934})"
       ]
      }
     ],
     "prompt_number": 55
    },
    {
     "cell_type": "markdown",
     "metadata": {},
     "source": [
      "**Map and reduce for calculating mean and variance.**"
     ]
    },
    {
     "cell_type": "code",
     "collapsed": false,
     "input": [
      "# Moving on to a slightly less trivial example\n",
      "# Let's calcultat the mena and variance of a ginormous data sample\n",
      "\n",
      "nrows = 10\n",
      "ncols = 1000\n",
      "a = 2\n",
      "b = 3\n",
      "\n",
      "xs = np.random.beta(a, b, (nrows, ncols))\n",
      "xs.size, xs.mean(), xs.var()"
     ],
     "language": "python",
     "metadata": {},
     "outputs": [
      {
       "metadata": {},
       "output_type": "pyout",
       "prompt_number": 62,
       "text": [
        "(10000, 0.4023, 0.0395)"
       ]
      }
     ],
     "prompt_number": 62
    },
    {
     "cell_type": "code",
     "collapsed": false,
     "input": [
      "# Suppose we decide to split by rows\n",
      "# We need a mapper function to reurn the size, mean and variance of that row\n",
      "# And a reducer funciton to combine the row summaries\n",
      "\n",
      "def mapper(x):\n",
      "    return len(x), x.mean(), x.var()\n",
      "\n",
      "def reducer(s1, s2):\n",
      "    (n1, m1, v1), (n2, m2, v2) = s1, s2\n",
      "    n = n1 + n2\n",
      "    m = (n1*m1 + n2*m2)/(n1 + n2)\n",
      "    v = (n1*v1 + n2*v2)/ n + ((n1*n2) * ((m2 - m1) / n)**2)\n",
      "    return n, m, v\n",
      "    \n",
      "reduce(reducer, map(mapper, xs))"
     ],
     "language": "python",
     "metadata": {},
     "outputs": [
      {
       "metadata": {},
       "output_type": "pyout",
       "prompt_number": 63,
       "text": [
        "(10000, 0.4023, 0.0395)"
       ]
      }
     ],
     "prompt_number": 63
    },
    {
     "cell_type": "code",
     "collapsed": false,
     "input": [
      "# Parallel version\n",
      "pool =  Pool()\n",
      "n, m, v = reduce(reducer, pool.map(mapper, xs))\n",
      "pool.close()\n",
      "n, m, v"
     ],
     "language": "python",
     "metadata": {},
     "outputs": [
      {
       "metadata": {},
       "output_type": "pyout",
       "prompt_number": 64,
       "text": [
        "(10000, 0.4023, 0.0395)"
       ]
      }
     ],
     "prompt_number": 64
    },
    {
     "cell_type": "markdown",
     "metadata": {},
     "source": [
      "### Map and reduce for multiple linear regression, naive Bayes classificaiton and k-means clustering"
     ]
    },
    {
     "cell_type": "code",
     "collapsed": false,
     "input": [
      "# Coming soon"
     ],
     "language": "python",
     "metadata": {},
     "outputs": [],
     "prompt_number": 60
    },
    {
     "cell_type": "markdown",
     "metadata": {},
     "source": [
      "### Using AWS EMR"
     ]
    },
    {
     "cell_type": "code",
     "collapsed": false,
     "input": [
      "# Coming soon"
     ],
     "language": "python",
     "metadata": {},
     "outputs": [],
     "prompt_number": 61
    },
    {
     "cell_type": "code",
     "collapsed": false,
     "input": [],
     "language": "python",
     "metadata": {},
     "outputs": []
    }
   ],
   "metadata": {}
  }
 ]
}