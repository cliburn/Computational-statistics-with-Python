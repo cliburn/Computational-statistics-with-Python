{
 "metadata": {
  "name": "",
  "signature": "sha256:bfea19467f9c619efd1dd2d018c8c861b0b39343b8684cbadf89dc7658ceddfb"
 },
 "nbformat": 3,
 "nbformat_minor": 0,
 "worksheets": [
  {
   "cells": [
    {
     "cell_type": "heading",
     "level": 1,
     "metadata": {},
     "source": [
      "Introduction to GPU Programming"
     ]
    },
    {
     "cell_type": "markdown",
     "metadata": {},
     "source": [
      "GPU stands for \"Graphics Processing Unit\", so called because the technology was developed in the video game industry.  These are devices with hundreds (to thousands) of processors, allowing for massive parallel computing.  Until recently, programming GPU devices was extremely difficult, as one had to write assembler code. \n",
      "\n",
      "In 2007, NVIDIA released its first version of CUDA - \"Compute Unified Device Architecture\", a development platform that allows programmers to write code in higher level languages for deployment on a GPU.\n",
      "\n",
      "In this lecture, we will develop a GPU-enabled program."
     ]
    },
    {
     "cell_type": "heading",
     "level": 2,
     "metadata": {},
     "source": [
      "Overview of Device"
     ]
    },
    {
     "cell_type": "code",
     "collapsed": false,
     "input": [
      "from IPython.display import Image\n"
     ],
     "language": "python",
     "metadata": {},
     "outputs": []
    }
   ],
   "metadata": {}
  }
 ]
}