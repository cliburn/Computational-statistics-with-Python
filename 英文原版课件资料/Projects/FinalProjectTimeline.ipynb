{
 "metadata": {
  "name": "",
  "signature": "sha256:de15f20ace05395a9a2f8e83170d1fb9dc3381fca0922351da23307a18e918df"
 },
 "nbformat": 3,
 "nbformat_minor": 0,
 "worksheets": [
  {
   "cells": [
    {
     "cell_type": "heading",
     "level": 1,
     "metadata": {},
     "source": [
      "Final Project Timeline"
     ]
    },
    {
     "cell_type": "markdown",
     "metadata": {},
     "source": [
      "This timeline is intended to keep you on-target to finish your final project by the end of the semester.  The steps will not be 'graded', but they will be checked for completeness.  Failure to complete a time-line step by the indicated deadline will result in a decrease in grade (up to 2 points per step, at the discretion of the instructors), regardless of completion of the final project.  "
     ]
    },
    {
     "cell_type": "heading",
     "level": 3,
     "metadata": {},
     "source": [
      "Due on Thursday, March 19, 2015"
     ]
    },
    {
     "cell_type": "markdown",
     "metadata": {},
     "source": [
      "- Paper choice and outline of background.\n",
      "- Create github repository and place outline there. (All subsequent steps should be kept in this repo, with regular commits and appropriate commit messages.)"
     ]
    },
    {
     "cell_type": "heading",
     "level": 3,
     "metadata": {},
     "source": [
      "Due on Thursday, March 26, 2015"
     ]
    },
    {
     "cell_type": "markdown",
     "metadata": {},
     "source": [
      "- Pseudocode/outline of algorithm \n",
      "- Draft of unit tests (how will you verify correctness of your code?)"
     ]
    },
    {
     "cell_type": "heading",
     "level": 3,
     "metadata": {},
     "source": [
      "Due on Thursday, April 2, 2015"
     ]
    },
    {
     "cell_type": "markdown",
     "metadata": {},
     "source": [
      "- Initial Python code of algorithm"
     ]
    },
    {
     "cell_type": "heading",
     "level": 3,
     "metadata": {},
     "source": [
      "Due on Thursday, April 9, 2015"
     ]
    },
    {
     "cell_type": "markdown",
     "metadata": {},
     "source": [
      "- Profiling of initial code\n",
      "- Draft of optimization strategies"
     ]
    },
    {
     "cell_type": "heading",
     "level": 3,
     "metadata": {},
     "source": [
      "Due on Thursday, April 16, 2015"
     ]
    },
    {
     "cell_type": "markdown",
     "metadata": {},
     "source": [
      "- Real or simulated 'real' data set\n",
      "- Choice of comparison algorithm\n",
      "- Draft of Makefile"
     ]
    },
    {
     "cell_type": "heading",
     "level": 3,
     "metadata": {},
     "source": [
      "Due on Thursday, April 30, 2015"
     ]
    },
    {
     "cell_type": "markdown",
     "metadata": {},
     "source": [
      "- Full final project in 'polished' form"
     ]
    }
   ],
   "metadata": {}
  }
 ]
}