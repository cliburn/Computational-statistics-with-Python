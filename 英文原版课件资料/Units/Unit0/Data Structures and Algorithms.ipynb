{
 "metadata": {
  "name": "",
  "signature": "sha256:23dc4cf13303f57a5d1860889a3ac7b33bea29e978f9b10fec4c4474a4a1a92a"
 },
 "nbformat": 3,
 "nbformat_minor": 0,
 "worksheets": [
  {
   "cells": [
    {
     "cell_type": "code",
     "collapsed": false,
     "input": [
      "import collections\n",
      "import Queue\n",
      "import networkx as nx\n",
      "import igraph"
     ],
     "language": "python",
     "metadata": {},
     "outputs": [],
     "prompt_number": 23
    },
    {
     "cell_type": "markdown",
     "metadata": {},
     "source": [
      "### Double-ended queue (also serves as ring when maxlen argument is given)\n",
      "\n",
      "* FIFO and LIFO queuss\n",
      "* Manage a pool of resources"
     ]
    },
    {
     "cell_type": "code",
     "collapsed": false,
     "input": [
      "dq = collections.deque(range(5), maxlen=5)"
     ],
     "language": "python",
     "metadata": {},
     "outputs": [],
     "prompt_number": 24
    },
    {
     "cell_type": "code",
     "collapsed": false,
     "input": [
      "dq"
     ],
     "language": "python",
     "metadata": {},
     "outputs": [
      {
       "metadata": {},
       "output_type": "pyout",
       "prompt_number": 25,
       "text": [
        "deque([0, 1, 2, 3, 4], maxlen=5)"
       ]
      }
     ],
     "prompt_number": 25
    },
    {
     "cell_type": "code",
     "collapsed": false,
     "input": [
      "dq.appendleft(10)"
     ],
     "language": "python",
     "metadata": {},
     "outputs": [],
     "prompt_number": 26
    },
    {
     "cell_type": "code",
     "collapsed": false,
     "input": [
      "dq"
     ],
     "language": "python",
     "metadata": {},
     "outputs": [
      {
       "metadata": {},
       "output_type": "pyout",
       "prompt_number": 27,
       "text": [
        "deque([10, 0, 1, 2, 3], maxlen=5)"
       ]
      }
     ],
     "prompt_number": 27
    },
    {
     "cell_type": "code",
     "collapsed": false,
     "input": [
      "dq.extendleft([20,30])"
     ],
     "language": "python",
     "metadata": {},
     "outputs": [],
     "prompt_number": 28
    },
    {
     "cell_type": "code",
     "collapsed": false,
     "input": [
      "dq"
     ],
     "language": "python",
     "metadata": {},
     "outputs": [
      {
       "metadata": {},
       "output_type": "pyout",
       "prompt_number": 29,
       "text": [
        "deque([30, 20, 10, 0, 1], maxlen=5)"
       ]
      }
     ],
     "prompt_number": 29
    },
    {
     "cell_type": "code",
     "collapsed": false,
     "input": [
      "dq.extend([2,3,4])"
     ],
     "language": "python",
     "metadata": {},
     "outputs": [],
     "prompt_number": 30
    },
    {
     "cell_type": "code",
     "collapsed": false,
     "input": [
      "dq"
     ],
     "language": "python",
     "metadata": {},
     "outputs": [
      {
       "metadata": {},
       "output_type": "pyout",
       "prompt_number": 31,
       "text": [
        "deque([0, 1, 2, 3, 4], maxlen=5)"
       ]
      }
     ],
     "prompt_number": 31
    },
    {
     "cell_type": "markdown",
     "metadata": {},
     "source": [
      "### Heaps\n",
      "\n",
      "* Implement priority queues and scheduling algoritms\n",
      "* Sort very large collections that may not fit into memory"
     ]
    },
    {
     "cell_type": "code",
     "collapsed": false,
     "input": [
      "import heapq"
     ],
     "language": "python",
     "metadata": {},
     "outputs": [],
     "prompt_number": 32
    },
    {
     "cell_type": "code",
     "collapsed": false,
     "input": [
      "items = [(1, 'job 1'), (2, 'job 2'), (10, 'job 3'), (4, 'job 4')]\n",
      "pq = []\n",
      "for item in items:\n",
      "    heapq.heappush(pq, item)"
     ],
     "language": "python",
     "metadata": {},
     "outputs": [],
     "prompt_number": 33
    },
    {
     "cell_type": "code",
     "collapsed": false,
     "input": [
      "heapq.heappop(pq)"
     ],
     "language": "python",
     "metadata": {},
     "outputs": [
      {
       "metadata": {},
       "output_type": "pyout",
       "prompt_number": 34,
       "text": [
        "(1, 'job 1')"
       ]
      }
     ],
     "prompt_number": 34
    },
    {
     "cell_type": "code",
     "collapsed": false,
     "input": [
      "heapq.heappop(pq)"
     ],
     "language": "python",
     "metadata": {},
     "outputs": [
      {
       "metadata": {},
       "output_type": "pyout",
       "prompt_number": 35,
       "text": [
        "(2, 'job 2')"
       ]
      }
     ],
     "prompt_number": 35
    },
    {
     "cell_type": "code",
     "collapsed": false,
     "input": [
      "heapq.heappop(pq)"
     ],
     "language": "python",
     "metadata": {},
     "outputs": [
      {
       "metadata": {},
       "output_type": "pyout",
       "prompt_number": 36,
       "text": [
        "(4, 'job 4')"
       ]
      }
     ],
     "prompt_number": 36
    },
    {
     "cell_type": "code",
     "collapsed": false,
     "input": [
      "heapq.heappush(pq, (11, 'job 5'))\n",
      "heapq.heappush(pq, (9, 'job 6'))"
     ],
     "language": "python",
     "metadata": {},
     "outputs": [],
     "prompt_number": 37
    },
    {
     "cell_type": "code",
     "collapsed": false,
     "input": [
      "heapq.heappop(pq)"
     ],
     "language": "python",
     "metadata": {},
     "outputs": [
      {
       "metadata": {},
       "output_type": "pyout",
       "prompt_number": 38,
       "text": [
        "(9, 'job 6')"
       ]
      }
     ],
     "prompt_number": 38
    },
    {
     "cell_type": "code",
     "collapsed": false,
     "input": [
      "heapq.heappop(pq)"
     ],
     "language": "python",
     "metadata": {},
     "outputs": [
      {
       "metadata": {},
       "output_type": "pyout",
       "prompt_number": 39,
       "text": [
        "(10, 'job 3')"
       ]
      }
     ],
     "prompt_number": 39
    },
    {
     "cell_type": "code",
     "collapsed": false,
     "input": [
      "heapq.heappop(pq)"
     ],
     "language": "python",
     "metadata": {},
     "outputs": [
      {
       "metadata": {},
       "output_type": "pyout",
       "prompt_number": 40,
       "text": [
        "(11, 'job 5')"
       ]
      }
     ],
     "prompt_number": 40
    },
    {
     "cell_type": "markdown",
     "metadata": {},
     "source": [
      "### Graphs"
     ]
    },
    {
     "cell_type": "code",
     "collapsed": false,
     "input": [
      "G = nx.watts_strogatz_graph(n=100, k=5, p=0.3)\n",
      "mst = nx.minimum_spanning_tree(G)\n",
      "pos=nx.graphviz_layout(mst, prog='neato', args='')\n",
      "plt.figure(figsize=(8,8))\n",
      "nx.draw(mst,pos, node_size=50,alpha=0.5,node_color=\"blue\", with_labels=False)\n",
      "plt.axis('equal');"
     ],
     "language": "python",
     "metadata": {},
     "outputs": [
      {
       "metadata": {},
       "output_type": "display_data",
       "png": "[encoded data removed]",
       "text": [
        "<matplotlib.figure.Figure at 0x10f0f3650>"
       ]
      }
     ],
     "prompt_number": 41
    },
    {
     "cell_type": "code",
     "collapsed": false,
     "input": [
      "from igraph import *\n",
      "\n"
     ],
     "language": "python",
     "metadata": {},
     "outputs": [],
     "prompt_number": 55
    },
    {
     "cell_type": "markdown",
     "metadata": {},
     "source": [
      "### Sorting"
     ]
    },
    {
     "cell_type": "code",
     "collapsed": false,
     "input": [
      "xs = list(random_integers(0,100, 20))\n",
      "xs"
     ],
     "language": "python",
     "metadata": {},
     "outputs": [
      {
       "metadata": {},
       "output_type": "pyout",
       "prompt_number": 42,
       "text": [
        "[88, 84, 39, 5, 18, 41, 18, 91, 18, 44, 97, 95, 4, 86, 33, 63, 84, 47, 6, 27]"
       ]
      }
     ],
     "prompt_number": 42
    },
    {
     "cell_type": "code",
     "collapsed": false,
     "input": [
      "sorted(xs)"
     ],
     "language": "python",
     "metadata": {},
     "outputs": [
      {
       "metadata": {},
       "output_type": "pyout",
       "prompt_number": 43,
       "text": [
        "[4, 5, 6, 18, 18, 18, 27, 33, 39, 41, 44, 47, 63, 84, 84, 86, 88, 91, 95, 97]"
       ]
      }
     ],
     "prompt_number": 43
    },
    {
     "cell_type": "code",
     "collapsed": false,
     "input": [
      "sorted(xs, key=str)"
     ],
     "language": "python",
     "metadata": {},
     "outputs": [
      {
       "metadata": {},
       "output_type": "pyout",
       "prompt_number": 44,
       "text": [
        "[18, 18, 18, 27, 33, 39, 4, 41, 44, 47, 5, 6, 63, 84, 84, 86, 88, 91, 95, 97]"
       ]
      }
     ],
     "prompt_number": 44
    },
    {
     "cell_type": "code",
     "collapsed": false,
     "input": [
      "sorted(xs, key=lambda x: x % 7, reverse=True)"
     ],
     "language": "python",
     "metadata": {},
     "outputs": [
      {
       "metadata": {},
       "output_type": "pyout",
       "prompt_number": 45,
       "text": [
        "[41, 97, 6, 27, 5, 33, 47, 88, 39, 18, 18, 18, 95, 4, 44, 86, 84, 91, 63, 84]"
       ]
      }
     ],
     "prompt_number": 45
    },
    {
     "cell_type": "code",
     "collapsed": false,
     "input": [
      "# in-place sort\n",
      "xs.sort()\n",
      "xs"
     ],
     "language": "python",
     "metadata": {},
     "outputs": [
      {
       "metadata": {},
       "output_type": "pyout",
       "prompt_number": 46,
       "text": [
        "[4, 5, 6, 18, 18, 18, 27, 33, 39, 41, 44, 47, 63, 84, 84, 86, 88, 91, 95, 97]"
       ]
      }
     ],
     "prompt_number": 46
    },
    {
     "cell_type": "code",
     "collapsed": false,
     "input": [
      "# insertion into sorted list\n",
      "import bisect\n",
      "\n",
      "bisect.insort(xs, 50)\n",
      "print xs"
     ],
     "language": "python",
     "metadata": {},
     "outputs": [
      {
       "output_type": "stream",
       "stream": "stdout",
       "text": [
        "[4, 5, 6, 18, 18, 18, 27, 33, 39, 41, 44, 47, 50, 63, 84, 84, 86, 88, 91, 95, 97]\n"
       ]
      }
     ],
     "prompt_number": 47
    },
    {
     "cell_type": "markdown",
     "metadata": {},
     "source": [
      "### Searching"
     ]
    },
    {
     "cell_type": "code",
     "collapsed": false,
     "input": [
      "# searching unsorted list\n",
      "xs = list(random_integers(0,1e7, 1e6))\n",
      "print xs[:20]"
     ],
     "language": "python",
     "metadata": {},
     "outputs": [
      {
       "output_type": "stream",
       "stream": "stdout",
       "text": [
        "[6015315, 620243, 1574916, 9029215, 5750922, 4691453, 2045193, 4657679, 524884, 6736598, 9234008, 9150991, 2299380, 3025996, 1637112, 4700335, 9248654, 1502960, 6325975, 7078459]\n"
       ]
      }
     ],
     "prompt_number": 48
    },
    {
     "cell_type": "code",
     "collapsed": false,
     "input": [
      "# more efficient to sort list first then do binary search with bisect if the search is repeated\n",
      "\n",
      "import time\n",
      "\n",
      "num_keys = 100\n",
      "keys = list(set(xs))[:num_keys]\n",
      "\n",
      "start = time.clock()\n",
      "for i in keys:\n",
      "    xs.index(i)\n",
      "print '%.2f s' % (time.clock() - start)\n",
      "\n",
      "start = time.clock()\n",
      "ys = sorted(xs)\n",
      "for i in keys:\n",
      "    bisect.bisect(ys, i)\n",
      "print '%.2f s' % (time.clock() - start)"
     ],
     "language": "python",
     "metadata": {},
     "outputs": [
      {
       "output_type": "stream",
       "stream": "stdout",
       "text": [
        "1.68 s\n",
        "0.99 s"
       ]
      },
      {
       "output_type": "stream",
       "stream": "stdout",
       "text": [
        "\n"
       ]
      }
     ],
     "prompt_number": 49
    },
    {
     "cell_type": "code",
     "collapsed": false,
     "input": [],
     "language": "python",
     "metadata": {},
     "outputs": [],
     "prompt_number": 49
    },
    {
     "cell_type": "code",
     "collapsed": false,
     "input": [],
     "language": "python",
     "metadata": {},
     "outputs": [],
     "prompt_number": 49
    }
   ],
   "metadata": {}
  }
 ]
}