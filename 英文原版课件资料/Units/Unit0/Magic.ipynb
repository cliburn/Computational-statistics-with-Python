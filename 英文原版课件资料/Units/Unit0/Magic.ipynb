{
 "metadata": {
  "name": "",
  "signature": "sha256:70d6b6450f254d70c4ab94a06f84dc936e6f7a79b79d7c4ab2dec0950c53aeb6"
 },
 "nbformat": 3,
 "nbformat_minor": 0,
 "worksheets": [
  {
   "cells": [
    {
     "cell_type": "code",
     "collapsed": false,
     "input": [
      "import os\n",
      "import sys\n",
      "import glob\n",
      "import itertools\n",
      "\n",
      "import matplotlib.pyplot as plt\n",
      "import numpy as np\n",
      "import pandas as pd\n",
      "%matplotlib inline\n",
      "%precision 4"
     ],
     "language": "python",
     "metadata": {},
     "outputs": [
      {
       "metadata": {},
       "output_type": "pyout",
       "prompt_number": 1,
       "text": [
        "u'%.4f'"
       ]
      }
     ],
     "prompt_number": 1
    },
    {
     "cell_type": "code",
     "collapsed": false,
     "input": [
      "def is_magic(m):\n",
      "    \"\"\"Check if m is a magic square.\"\"\"\n",
      "    n, p = m.shape\n",
      "    if not n==p:\n",
      "        return False\n",
      "\n",
      "    if not sorted(m.ravel()) == range(1, n*n+1):\n",
      "        return False\n",
      "\n",
      "    target = n*(n*n + 1) / 2\n",
      "\n",
      "    col_margins = m.sum(0)\n",
      "    if not np.all(col_margins==target):\n",
      "        return False\n",
      "\n",
      "    row_margins = m.sum(1)\n",
      "    if not np.all(row_margins==target):\n",
      "        return False\n",
      "\n",
      "    diag_margin = m.trace()\n",
      "    if not diag_margin == target:\n",
      "        return False\n",
      "\n",
      "    anti_diag_margin = np.trace(np.flipud(m))\n",
      "    if not anti_diag_margin == target:\n",
      "        return False\n",
      "    \n",
      "    return True"
     ],
     "language": "python",
     "metadata": {},
     "outputs": [],
     "prompt_number": 2
    },
    {
     "cell_type": "code",
     "collapsed": false,
     "input": [
      "def magic(n):\n",
      "    \"\"\"Returns a magic square of size n using brute force.\n",
      "    Much better algorithms exist\n",
      "    http://blog.dreamshire.com/panmagic-pandiagonal-magic-square-generation-testing\n",
      "    \"\"\"\n",
      "    from itertools import islice, ifilter, permutations\n",
      "\n",
      "    if n < 1 or n == 2:\n",
      "        return None\n",
      "    seq = range(1, n*n+1)\n",
      "    target = n*(n*n + 1) / 2\n",
      "    valids = ifilter((lambda s: sum(islice(s, n)) == target), # and\n",
      "                     # (lambda s: sum(islice(s, 0, n*n, n)) == target), \n",
      "                     permutations(seq))\n",
      "    return list(islice(ifilter(is_magic, (np.reshape(s, (n,n)) for s in valids)), 1))"
     ],
     "language": "python",
     "metadata": {},
     "outputs": [],
     "prompt_number": 3
    },
    {
     "cell_type": "code",
     "collapsed": false,
     "input": [
      "%%time\n",
      "magic(3)"
     ],
     "language": "python",
     "metadata": {},
     "outputs": [
      {
       "output_type": "stream",
       "stream": "stdout",
       "text": [
        "CPU times: user 396 ms, sys: 78 ms, total: 474 ms\n",
        "Wall time: 421 ms\n"
       ]
      },
      {
       "metadata": {},
       "output_type": "pyout",
       "prompt_number": 4,
       "text": [
        "[array([[2, 7, 6],\n",
        "        [9, 5, 1],\n",
        "        [4, 3, 8]])]"
       ]
      }
     ],
     "prompt_number": 4
    },
    {
     "cell_type": "code",
     "collapsed": false,
     "input": [],
     "language": "python",
     "metadata": {},
     "outputs": [],
     "prompt_number": 4
    }
   ],
   "metadata": {}
  }
 ]
}