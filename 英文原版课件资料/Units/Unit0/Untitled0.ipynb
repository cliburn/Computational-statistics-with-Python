{
 "metadata": {
  "name": "",
  "signature": "sha256:7da4824b55c17f8fa2e516429c593470429713854ea247137d8273478cfc1ed4"
 },
 "nbformat": 3,
 "nbformat_minor": 0,
 "worksheets": [
  {
   "cells": [
    {
     "cell_type": "markdown",
     "metadata": {},
     "source": [
      "Setup\n",
      "----\n",
      "\n",
      "Suppose we have some gene expression data from a case control experiment in a CSV files that reside in a folder \"CoolExperiments\". Each folder contains files that have the format cases.csv or ctrls.csv. Each CSV file contains a header with $n$ gene names, along with $n$ rows of gene expression levels, with each row represening a speicifc case or control subject.\n",
      "\n",
      "We want to read in the data, perform pairwise t-tests to find the genes that difer most between cases and controls, plot the heatmap and reprot the top 10 most different genes in a reprot. We would also like to do this in a reproducible way, since new data rows may be added as additional subjects are recruited into the study, or we might want to find the top 5 differnt genes only.\n",
      "\n",
      "Note that all data is fake and generated from random normal variates, so any pattern we see is a nicce illustration of noise discovery."
     ]
    },
    {
     "cell_type": "code",
     "collapsed": false,
     "input": [
      "import os\n",
      "import sys\n",
      "import glob\n",
      "import matplotlib.pyplot as plt\n",
      "import numpy as np\n",
      "import pandas as pd\n",
      "%matplotlib inline\n",
      "%precision 4\n"
     ],
     "language": "python",
     "metadata": {},
     "outputs": [
      {
       "metadata": {},
       "output_type": "pyout",
       "prompt_number": 1,
       "text": [
        "u'%.4f'"
       ]
      }
     ],
     "prompt_number": 1
    },
    {
     "cell_type": "code",
     "collapsed": false,
     "input": [
      "cases = np.random.normal(100, 1, (100, 200000)) \n",
      "controls = np.random.normal(100, 1, (100, 200000))\n",
      "np.savetxt('cases.csv', cases, delimiter=',')\n",
      "np.savetxt('controls.csv', controls, delimiter=',')"
     ],
     "language": "python",
     "metadata": {},
     "outputs": []
    },
    {
     "cell_type": "code",
     "collapsed": false,
     "input": [],
     "language": "python",
     "metadata": {},
     "outputs": []
    }
   ],
   "metadata": {}
  }
 ]
}