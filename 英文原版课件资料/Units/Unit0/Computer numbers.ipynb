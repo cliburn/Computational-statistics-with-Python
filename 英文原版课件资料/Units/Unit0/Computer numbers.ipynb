{
 "metadata": {
  "name": "",
  "signature": "sha256:db9a050f928121b18c7028119facf2a5264a3312581d7d326b987ddb5945085e"
 },
 "nbformat": 3,
 "nbformat_minor": 0,
 "worksheets": [
  {
   "cells": [
    {
     "cell_type": "code",
     "collapsed": false,
     "input": [
      "%matplotlib inline\n",
      "import matplotlib.pyplot as plt\n",
      "import numpy as np\n",
      "%precision 4\n",
      "import os, sys, glob"
     ],
     "language": "python",
     "metadata": {},
     "outputs": [],
     "prompt_number": 1
    },
    {
     "cell_type": "markdown",
     "metadata": {},
     "source": [
      "# Computer numbers and mathematics\n",
      "\n",
      "For this course, we will only be concerned with fixed point numbers (representing integers) and floating point numbers (representing reals). Since computer represnetaions of numbers are finite, they are only approximations to the integer ring and real field of mathematics. This notebook presents a small list of things to be mindful of to avoid unexpected results.\n",
      "\n",
      "**References**\n",
      "\n",
      "* <http://introcs.cs.princeton.edu/java/lectures/9scientific.pdf>\n",
      "* <http://www.johndcook.com/blog/2008/09/28/theoretical-explanation-for-numerical-results/>\n",
      "* <http://www.johndcook.com/blog/2008/09/26/comparing-three-methods-of-computing-standard-deviation/>\n",
      "* <http://www.johndcook.com/blog/2008/10/20/comparing-two-ways-to-fit-a-line-to-data/>\n",
      "* <http://www.johndcook.com/blog/2008/11/05/how-to-calculate-pearson-correlation-accurately/>"
     ]
    },
    {
     "cell_type": "markdown",
     "metadata": {},
     "source": [
      "## Finite representation of numbers\n",
      "\n",
      "For integers, there is a maximum and minimum representatble number for langauges. Python integers are acutally objects, so they intelligently switch to arbitrary precision numbers when you go beyond these limits, but this is not true for most other languages including C and R. With 64 bit representation, the maximumm is 2^63 - 1 and the minimum is -2^63 - 1."
     ]
    },
    {
     "cell_type": "code",
     "collapsed": false,
     "input": [
      "import sys\n",
      "sys.maxint"
     ],
     "language": "python",
     "metadata": {},
     "outputs": [
      {
       "metadata": {},
       "output_type": "pyout",
       "prompt_number": 2,
       "text": [
        "9223372036854775807"
       ]
      }
     ],
     "prompt_number": 2
    },
    {
     "cell_type": "code",
     "collapsed": false,
     "input": [
      "2**63-1 == sys.maxint"
     ],
     "language": "python",
     "metadata": {},
     "outputs": [
      {
       "metadata": {},
       "output_type": "pyout",
       "prompt_number": 3,
       "text": [
        "True"
       ]
      }
     ],
     "prompt_number": 3
    },
    {
     "cell_type": "code",
     "collapsed": false,
     "input": [
      "# Python handles \"overflow\" of integers gracefully by \n",
      "# swithing from integers to \"long\" abritrary precsion numbers\n",
      "sys.maxint + 1"
     ],
     "language": "python",
     "metadata": {},
     "outputs": [
      {
       "metadata": {},
       "output_type": "pyout",
       "prompt_number": 4,
       "text": [
        "9223372036854775808L"
       ]
      }
     ],
     "prompt_number": 4
    },
    {
     "cell_type": "markdown",
     "metadata": {},
     "source": [
      "### Overflow in langauges such as C \"wraps around\" and gives negative numbers"
     ]
    },
    {
     "cell_type": "code",
     "collapsed": false,
     "input": [
      "%%file demo.c\n",
      "\n",
      "#include \"limits.h\"\n",
      "\n",
      "long limit() {\n",
      "    return LONG_MAX;\n",
      "}\n",
      "\n",
      "long overflow() {\n",
      "    long x = LONG_MAX;\n",
      "    return x+1;\n",
      "}"
     ],
     "language": "python",
     "metadata": {},
     "outputs": [
      {
       "output_type": "stream",
       "stream": "stdout",
       "text": [
        "Overwriting demo.c\n"
       ]
      }
     ],
     "prompt_number": 5
    },
    {
     "cell_type": "code",
     "collapsed": false,
     "input": [
      "! clang -emit-llvm -c demo.c -o demo.o"
     ],
     "language": "python",
     "metadata": {},
     "outputs": [],
     "prompt_number": 6
    },
    {
     "cell_type": "code",
     "collapsed": false,
     "input": [
      "import bitey\n",
      "import demo\n",
      "\n",
      "demo.limit(), demo.overflow()"
     ],
     "language": "python",
     "metadata": {},
     "outputs": [
      {
       "metadata": {},
       "output_type": "pyout",
       "prompt_number": 7,
       "text": [
        "(9223372036854775807, -9223372036854775808)"
       ]
      }
     ],
     "prompt_number": 7
    },
    {
     "cell_type": "markdown",
     "metadata": {},
     "source": [
      "### Floating point numbers\n",
      "A floating point number is stored in 3 pieces (sign bit, exponent, mantissa) so that every float is represetned as get +/- mantissa ^ exponent. Because of this, the interval between consecutive numbers is smallest (high precison) for numebrs close to 0 and largest for numbers close to the lower and upper bounds."
     ]
    },
    {
     "cell_type": "code",
     "collapsed": false,
     "input": [
      "from IPython.display import Image"
     ],
     "language": "python",
     "metadata": {},
     "outputs": [],
     "prompt_number": 228
    },
    {
     "cell_type": "code",
     "collapsed": false,
     "input": [
      "Image(url='http://www.dspguide.com/graphics/F_4_2.gif')"
     ],
     "language": "python",
     "metadata": {},
     "outputs": [
      {
       "html": [
        "<img src=\"http://www.dspguide.com/graphics/F_4_2.gif\"/>"
       ],
       "metadata": {},
       "output_type": "pyout",
       "prompt_number": 229,
       "text": [
        "<IPython.core.display.Image at 0x1117c8710>"
       ]
      }
     ],
     "prompt_number": 229
    },
    {
     "cell_type": "code",
     "collapsed": false,
     "input": [
      "Image(url='http://jasss.soc.surrey.ac.uk/9/4/4/fig1.jpg')"
     ],
     "language": "python",
     "metadata": {},
     "outputs": [
      {
       "html": [
        "<img src=\"http://jasss.soc.surrey.ac.uk/9/4/4/fig1.jpg\"/>"
       ],
       "metadata": {},
       "output_type": "pyout",
       "prompt_number": 230,
       "text": [
        "<IPython.core.display.Image at 0x1117c8c90>"
       ]
      }
     ],
     "prompt_number": 230
    },
    {
     "cell_type": "code",
     "collapsed": false,
     "input": [
      "# Floating point numbers may not be precise\n",
      "'%.20f' % (0.1 * 0.1 * 100)"
     ],
     "language": "python",
     "metadata": {},
     "outputs": [
      {
       "metadata": {},
       "output_type": "pyout",
       "prompt_number": 236,
       "text": [
        "'1.00000000000000022204'"
       ]
      }
     ],
     "prompt_number": 236
    },
    {
     "cell_type": "code",
     "collapsed": false,
     "input": [
      "# Loss of precision\n",
      "1 + 6.022e23 - 6.022e23"
     ],
     "language": "python",
     "metadata": {},
     "outputs": [
      {
       "metadata": {},
       "output_type": "pyout",
       "prompt_number": 9,
       "text": [
        "0.0000"
       ]
      }
     ],
     "prompt_number": 9
    },
    {
     "cell_type": "code",
     "collapsed": false,
     "input": [
      "# Addition may not be associative\n",
      "6.022e23 - 6.022e23 + 1"
     ],
     "language": "python",
     "metadata": {},
     "outputs": [
      {
       "metadata": {},
       "output_type": "pyout",
       "prompt_number": 10,
       "text": [
        "1.0000"
       ]
      }
     ],
     "prompt_number": 10
    },
    {
     "cell_type": "markdown",
     "metadata": {},
     "source": [
      "<font color=red>Lesson: Avoid algorithms that subtract two numbers htat are very claose to one anotoer</font>"
     ]
    },
    {
     "cell_type": "code",
     "collapsed": false,
     "input": [
      "# loss of precision can be a problem when calculating likelihoods\n",
      "probs = np.random.random(1000)\n",
      "np.prod(probs)"
     ],
     "language": "python",
     "metadata": {},
     "outputs": [
      {
       "metadata": {},
       "output_type": "pyout",
       "prompt_number": 11,
       "text": [
        "0.0000"
       ]
      }
     ],
     "prompt_number": 11
    },
    {
     "cell_type": "code",
     "collapsed": false,
     "input": [
      "# when multiplying lots of small numbers, work in log space\n",
      "np.sum(np.log(probs))"
     ],
     "language": "python",
     "metadata": {},
     "outputs": [
      {
       "metadata": {},
       "output_type": "pyout",
       "prompt_number": 12,
       "text": [
        "-960.1284"
       ]
      }
     ],
     "prompt_number": 12
    },
    {
     "cell_type": "markdown",
     "metadata": {},
     "source": [
      "<font color=red>Lesson: Work in log space for very small or very big numbers to reduce underflow/overflow</font>"
     ]
    },
    {
     "cell_type": "markdown",
     "metadata": {},
     "source": [
      "### Stability and conditioning\n",
      "\n",
      "Suppose we have a computer algorithm $g(x)$ that represents the mathematical function $f(x)$. $g(x)$ is stable if for some small perturbation $\\epsilon$, $g(x+\\epsilon) \\approx f(x)$\n",
      "\n",
      "That is, the <font color=red>algorithm</font>$g(x)$ is **numerically stable** if it gives *nearly the right answer to nearly the right problem*.\n",
      "\n",
      "A mathematical function $f(x)$ is well-conditioned if $f(x + \\epsilon) \\approx f(x)$ for all small perturbations $\\epsilon$.\n",
      "\n",
      "That is, the <font color=red>function</font>$f(x)$ is **well-conditioned** if the *solution varies gradually as problem varies*."
     ]
    },
    {
     "cell_type": "markdown",
     "metadata": {},
     "source": [
      "**Unstable version**"
     ]
    },
    {
     "cell_type": "code",
     "collapsed": false,
     "input": [
      "# Catastrophic cancellation occurs when subtracitng \n",
      "# two numbers that are very close to one another\n",
      "# Here is another example\n",
      "\n",
      "def f(x):\n",
      "    return (1 - np.cos(x))/(x*x)"
     ],
     "language": "python",
     "metadata": {},
     "outputs": [],
     "prompt_number": 67
    },
    {
     "cell_type": "code",
     "collapsed": false,
     "input": [
      "x = np.linspace(-4e-8, 4e-8, 100)\n",
      "plt.plot(x,f(x));\n",
      "plt.axvline(1.1e-8, color='red')\n",
      "plt.xlim([-4e-8, 4e-8]);"
     ],
     "language": "python",
     "metadata": {},
     "outputs": [
      {
       "metadata": {},
       "output_type": "display_data",
       "png": "[encoded data removed]",
       "text": [
        "<matplotlib.figure.Figure at 0x112a58710>"
       ]
      }
     ],
     "prompt_number": 74
    },
    {
     "cell_type": "code",
     "collapsed": false,
     "input": [
      "# We know from L'Hopital's rule that the answer is 0.5 at 0\n",
      "# and should be very close to 0.5 throughout this tiny interval\n",
      "# but errors arisee due to catastrophic cancellation\n",
      "\n",
      "print '%.30f' % np.cos(1.1e-8)\n",
      "print '%.30f' % (1 - np.cos(1.1e-8)) # exact answer is 6.05e-17\n",
      "print '%2f' % ((1 - np.cos(1.1e-8))/(1.1e-8*1.1e-8))"
     ],
     "language": "python",
     "metadata": {},
     "outputs": [
      {
       "output_type": "stream",
       "stream": "stdout",
       "text": [
        "0.999999999999999888977697537484\n",
        "0.000000000000000111022302462516\n",
        "0.917540\n"
       ]
      }
     ],
     "prompt_number": 85
    },
    {
     "cell_type": "markdown",
     "metadata": {},
     "source": [
      "**Stable version**"
     ]
    },
    {
     "cell_type": "code",
     "collapsed": false,
     "input": [
      "# Numerically stable version of funtion\n",
      "# using long-forgotten half-angle formula from trignometry\n",
      "\n",
      "def f1(x):\n",
      "    return 2*np.sin(x/2)**2/(x*x)"
     ],
     "language": "python",
     "metadata": {},
     "outputs": [],
     "prompt_number": 82
    },
    {
     "cell_type": "code",
     "collapsed": false,
     "input": [
      "x = np.linspace(-4e-8, 4e-8, 100)\n",
      "plt.plot(x,f1(x));\n",
      "plt.axvline(1.1e-8, color='red')\n",
      "plt.xlim([-4e-8, 4e-8]);"
     ],
     "language": "python",
     "metadata": {},
     "outputs": [
      {
       "metadata": {},
       "output_type": "display_data",
       "png": "[encoded data removed]",
       "text": [
        "<matplotlib.figure.Figure at 0x112e01190>"
       ]
      }
     ],
     "prompt_number": 83
    },
    {
     "cell_type": "markdown",
     "metadata": {},
     "source": [
      "### Stable and unstable versions of variance"
     ]
    },
    {
     "cell_type": "markdown",
     "metadata": {},
     "source": [
      "$$s^2 = \\frac{1}{n-1}\\sum(x - \\bar{x})^2$$"
     ]
    },
    {
     "cell_type": "code",
     "collapsed": false,
     "input": [
      "# sum of squares method\n",
      "def sum_of_squers_var(x):\n",
      "    n = len(x)\n",
      "    return (1.0/(n*(n-1))*(n*np.sum(x**2) - (np.sum(x))**2))"
     ],
     "language": "python",
     "metadata": {},
     "outputs": [],
     "prompt_number": 129
    },
    {
     "cell_type": "markdown",
     "metadata": {},
     "source": [
      "<font color=red>This should set off warning bells - big number minus big number!</font>"
     ]
    },
    {
     "cell_type": "code",
     "collapsed": false,
     "input": [
      "# direct method\n",
      "def direct_var(x):\n",
      "    n = len(x)\n",
      "    xbar = np.mean(x)\n",
      "    return 1.0/(n-1)*np.sum((x - xbar)**2)"
     ],
     "language": "python",
     "metadata": {},
     "outputs": [],
     "prompt_number": 130
    },
    {
     "cell_type": "markdown",
     "metadata": {},
     "source": [
      "<font color=red>Much better - at least the squaring occurs after the subtraction</font>"
     ]
    },
    {
     "cell_type": "code",
     "collapsed": false,
     "input": [
      "# Welford's method\n",
      "def welford_var(x):\n",
      "    s = 0\n",
      "    m = x[0]\n",
      "    for i in range(1, len(x)):\n",
      "        m += (x[i]-m)/i\n",
      "        s += (x[i]-m)**2\n",
      "    return s/(len(x) -1 )"
     ],
     "language": "python",
     "metadata": {},
     "outputs": [],
     "prompt_number": 131
    },
    {
     "cell_type": "markdown",
     "metadata": {},
     "source": [
      "<font color=red>Classic algorithm from Knuth's Art of Computer Programming</font>"
     ]
    },
    {
     "cell_type": "code",
     "collapsed": false,
     "input": [
      "x_ = np.random.uniform(0,1,1e6)\n",
      "x = 1e12 + x_"
     ],
     "language": "python",
     "metadata": {},
     "outputs": [],
     "prompt_number": 183
    },
    {
     "cell_type": "code",
     "collapsed": false,
     "input": [
      "# correct answer\n",
      "np.var(x_)"
     ],
     "language": "python",
     "metadata": {},
     "outputs": [
      {
       "metadata": {},
       "output_type": "pyout",
       "prompt_number": 184,
       "text": [
        "0.0834"
       ]
      }
     ],
     "prompt_number": 184
    },
    {
     "cell_type": "code",
     "collapsed": false,
     "input": [
      "sum_of_squers_var(x)"
     ],
     "language": "python",
     "metadata": {},
     "outputs": [
      {
       "metadata": {},
       "output_type": "pyout",
       "prompt_number": 185,
       "text": [
        "-442722300.4913"
       ]
      }
     ],
     "prompt_number": 185
    },
    {
     "cell_type": "code",
     "collapsed": false,
     "input": [
      "direct_var(x)"
     ],
     "language": "python",
     "metadata": {},
     "outputs": [
      {
       "metadata": {},
       "output_type": "pyout",
       "prompt_number": 186,
       "text": [
        "0.0834"
       ]
      }
     ],
     "prompt_number": 186
    },
    {
     "cell_type": "code",
     "collapsed": false,
     "input": [
      "welford_var(x)"
     ],
     "language": "python",
     "metadata": {},
     "outputs": [
      {
       "metadata": {},
       "output_type": "pyout",
       "prompt_number": 187,
       "text": [
        "0.0834"
       ]
      }
     ],
     "prompt_number": 187
    },
    {
     "cell_type": "markdown",
     "metadata": {},
     "source": [
      "<font color=red>Lesson: Mathematical formulas may behave differently when directly translated into code!</font>\n",
      "\n",
      "This problem also appears in navie algorithms for finding simple regression coefficients and Pearson\u2019s correlation coefficient."
     ]
    },
    {
     "cell_type": "markdown",
     "metadata": {},
     "source": [
      "### Poorly conditioned problems"
     ]
    },
    {
     "cell_type": "code",
     "collapsed": false,
     "input": [
      "# The tangent function is poorly conditioned\n",
      "\n",
      "x1 = 1.57078\n",
      "x2 = 1.57079\n",
      "t1 = np.tan(x1)\n",
      "t2 = np.tan(x2)"
     ],
     "language": "python",
     "metadata": {},
     "outputs": [],
     "prompt_number": 190
    },
    {
     "cell_type": "code",
     "collapsed": false,
     "input": [
      "print 't1 =', t1\n",
      "print 't2 =', t2\n",
      "print '% change in x =', 100.0*(x2-x1)/x1\n",
      "print '% change in tan(x) =', (100.0*(t2-t1)/t1)"
     ],
     "language": "python",
     "metadata": {},
     "outputs": [
      {
       "output_type": "stream",
       "stream": "stdout",
       "text": [
        "t1 = 61249.0085315\n",
        "t2 = 158057.913416\n",
        "% change in x = 0.000636626389427\n",
        "% change in tan(x) = 158.057913435\n"
       ]
      }
     ],
     "prompt_number": 202
    },
    {
     "cell_type": "markdown",
     "metadata": {},
     "source": [
      "**Ill-conditioned matrices**"
     ]
    },
    {
     "cell_type": "markdown",
     "metadata": {},
     "source": [
      "In this example, we want to solve a simple linear system Ax = b\n",
      "where A and b are given."
     ]
    },
    {
     "cell_type": "code",
     "collapsed": false,
     "input": [
      "A = 0.5*np.array([[1,1], [1+1e-10, 1-1e-10]])\n",
      "b1 = np.array([2,2])\n",
      "b2 = np.array([2.01, 2])"
     ],
     "language": "python",
     "metadata": {},
     "outputs": [],
     "prompt_number": 218
    },
    {
     "cell_type": "code",
     "collapsed": false,
     "input": [
      "np.linalg.solve(A, b1)"
     ],
     "language": "python",
     "metadata": {},
     "outputs": [
      {
       "metadata": {},
       "output_type": "pyout",
       "prompt_number": 221,
       "text": [
        "array([ 2.,  2.])"
       ]
      }
     ],
     "prompt_number": 221
    },
    {
     "cell_type": "code",
     "collapsed": false,
     "input": [
      "np.linalg.solve(A, b2)"
     ],
     "language": "python",
     "metadata": {},
     "outputs": [
      {
       "metadata": {},
       "output_type": "pyout",
       "prompt_number": 222,
       "text": [
        "array([-99999989.706,  99999993.726])"
       ]
      }
     ],
     "prompt_number": 222
    },
    {
     "cell_type": "markdown",
     "metadata": {},
     "source": [
      "The condition number of a matrix is a useful diagnostic - it is defined as the norm of A times the norm of the inverse of A. If this number is large, the matrix is ill-conditioned. Since there are many ways to calculuate a matrix norm, there are also many condition numbers, but they are roughly equivalent for our purpsoes."
     ]
    },
    {
     "cell_type": "code",
     "collapsed": false,
     "input": [
      "np.linalg.cond(A)"
     ],
     "language": "python",
     "metadata": {},
     "outputs": [
      {
       "metadata": {},
       "output_type": "pyout",
       "prompt_number": 225,
       "text": [
        "19999973849.2252"
       ]
      }
     ],
     "prompt_number": 225
    },
    {
     "cell_type": "code",
     "collapsed": false,
     "input": [
      "np.linalg.cond(A, 'fro')"
     ],
     "language": "python",
     "metadata": {},
     "outputs": [
      {
       "metadata": {},
       "output_type": "pyout",
       "prompt_number": 226,
       "text": [
        "19999998343.1927"
       ]
      }
     ],
     "prompt_number": 226
    },
    {
     "cell_type": "raw",
     "metadata": {},
     "source": [
      "What can you do with an ill-conditioned linear equation? See <https://www.mat.univie.ac.at/~neum/ms/regtutorial.pdf> for regularization approaches. "
     ]
    },
    {
     "cell_type": "markdown",
     "metadata": {},
     "source": [
      "<font color=red>Lesson: Accuracy depends on both stability and conditioning.</font>"
     ]
    },
    {
     "cell_type": "code",
     "collapsed": false,
     "input": [],
     "language": "python",
     "metadata": {},
     "outputs": []
    }
   ],
   "metadata": {}
  }
 ]
}