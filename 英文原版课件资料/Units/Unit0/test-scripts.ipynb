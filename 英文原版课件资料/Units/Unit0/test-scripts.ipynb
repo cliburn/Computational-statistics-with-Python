{
 "metadata": {
  "name": "",
  "signature": "sha256:c08db8be886952307aba49c5599db234de9233e9278cb8c2cf0e488e4dbe584d"
 },
 "nbformat": 3,
 "nbformat_minor": 0,
 "worksheets": [
  {
   "cells": [
    {
     "cell_type": "markdown",
     "metadata": {},
     "source": [
      "Hooking to command line interpreters\n",
      "===="
     ]
    },
    {
     "cell_type": "markdown",
     "metadata": {},
     "source": [
      "Haskell\n",
      "---"
     ]
    },
    {
     "cell_type": "code",
     "collapsed": false,
     "input": [
      "%%ghci\n",
      "map (\\x -> x*x) [1..10]"
     ],
     "language": "python",
     "metadata": {},
     "outputs": [
      {
       "output_type": "stream",
       "stream": "stdout",
       "text": [
        "GHCi, version 7.8.3: http://www.haskell.org/ghc/  :? for help\n",
        "Loading package ghc-prim ... linking ... done.\n",
        "Loading package integer-gmp ... linking ... done.\n",
        "Loading package base ... linking ... done.\n",
        "Prelude> [1,4,9,16,25,36,49,64,81,100]\n",
        "Prelude> Leaving GHCi.\n"
       ]
      }
     ],
     "prompt_number": 1
    },
    {
     "cell_type": "markdown",
     "metadata": {},
     "source": [
      "Perl\n",
      "----"
     ]
    },
    {
     "cell_type": "code",
     "collapsed": false,
     "input": [
      "%%perl\n",
      "\n",
      "%array = ( \"100\", \"Green\", \"200\", \"Orange\");\n",
      "\n",
      "while (($key, $value) = each(%array)) {\n",
      "      print(\"$key = $value\\n\");\n",
      "}"
     ],
     "language": "python",
     "metadata": {},
     "outputs": [
      {
       "output_type": "stream",
       "stream": "stdout",
       "text": [
        "200 = Orange\n",
        "100 = Green\n"
       ]
      }
     ],
     "prompt_number": 2
    },
    {
     "cell_type": "markdown",
     "metadata": {},
     "source": [
      "Ruby\n",
      "----"
     ]
    },
    {
     "cell_type": "code",
     "collapsed": false,
     "input": [
      "%%ruby\n",
      "\n",
      "def fact(n)\n",
      "  if n == 0\n",
      "    1\n",
      "  else\n",
      "    n * fact(n-1)\n",
      "  end\n",
      "end\n",
      "\n",
      "puts fact(10)"
     ],
     "language": "python",
     "metadata": {},
     "outputs": [
      {
       "output_type": "stream",
       "stream": "stdout",
       "text": [
        "3628800\n"
       ]
      }
     ],
     "prompt_number": 3
    },
    {
     "cell_type": "markdown",
     "metadata": {},
     "source": [
      "Julia\n",
      "---"
     ]
    },
    {
     "cell_type": "code",
     "collapsed": false,
     "input": [
      "%%julia\n",
      "\n",
      "using DataFrames\n",
      "\n",
      "# A DataFrame is an in-memory database\n",
      "df = DataFrame(A = [1, 2], B = [e, pi], C = [\"xx\", \"xy\"])\n",
      "show(df)"
     ],
     "language": "python",
     "metadata": {},
     "outputs": [
      {
       "output_type": "stream",
       "stream": "stdout",
       "text": [
        "2x3 DataFrame\n",
        "| Row | A | B       | C    |\n",
        "|-----|---|---------|------|\n",
        "| 1   | 1 | 2.71828 | \"xx\" |\n",
        "| 2   | 2 | 3.14159 | \"xy\" |\n",
        "2x3 DataFrame\n",
        "| Row | A | B       | C    |\n",
        "|-----|---|---------|------|\n",
        "| 1   | 1 | 2.71828 | \"xx\" |\n",
        "| 2   | 2 | 3.14159 | \"xy\" |"
       ]
      }
     ],
     "prompt_number": 4
    },
    {
     "cell_type": "markdown",
     "metadata": {},
     "source": [
      "Javascript\n",
      "----"
     ]
    },
    {
     "cell_type": "code",
     "collapsed": false,
     "input": [
      "%%node\n",
      "\n",
      "function toCelsius(f) {\n",
      "    return (5/9) * (f-32);\n",
      "}\n",
      "\n",
      "console.log(toCelsius(100))"
     ],
     "language": "python",
     "metadata": {},
     "outputs": [
      {
       "output_type": "stream",
       "stream": "stdout",
       "text": [
        "37.77777777777778\n"
       ]
      }
     ],
     "prompt_number": 7
    },
    {
     "cell_type": "code",
     "collapsed": false,
     "input": [],
     "language": "python",
     "metadata": {},
     "outputs": [],
     "prompt_number": 5
    }
   ],
   "metadata": {}
  }
 ]
}