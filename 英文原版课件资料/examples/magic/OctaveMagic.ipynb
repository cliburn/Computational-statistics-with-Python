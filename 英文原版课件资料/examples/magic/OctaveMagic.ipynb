{
 "metadata": {
  "name": ""
 },
 "nbformat": 3,
 "nbformat_minor": 0,
 "worksheets": [
  {
   "cells": [
    {
     "cell_type": "code",
     "collapsed": false,
     "input": [
      "%load_ext octavemagic"
     ],
     "language": "python",
     "metadata": {},
     "outputs": [],
     "prompt_number": 1
    },
    {
     "cell_type": "code",
     "collapsed": false,
     "input": [
      "%%octave\n",
      "M = magic(5)\n",
      "eigs(M)"
     ],
     "language": "python",
     "metadata": {},
     "outputs": [
      {
       "metadata": {},
       "output_type": "display_data",
       "text": [
        "M =\n",
        "\n",
        "       17       24        1        8       15\n",
        "       23        5        7       14       16\n",
        "        4        6       13       20       22\n",
        "       10       12       19       21        3\n",
        "       11       18       25        2        9\n",
        "\n",
        "ans =\n",
        "\n",
        "  1.0e+01  *\n",
        "\n",
        "  6.50000\n",
        "  -2.12768\n",
        "  2.12768\n",
        "  -1.31263\n",
        "  1.31263\n"
       ]
      }
     ],
     "prompt_number": 2
    },
    {
     "cell_type": "code",
     "collapsed": false,
     "input": [],
     "language": "python",
     "metadata": {},
     "outputs": []
    }
   ],
   "metadata": {}
  }
 ]
}