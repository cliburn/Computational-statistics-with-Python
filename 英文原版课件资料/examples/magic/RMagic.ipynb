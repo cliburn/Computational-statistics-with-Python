{
 "metadata": {
  "name": ""
 },
 "nbformat": 3,
 "nbformat_minor": 0,
 "worksheets": [
  {
   "cells": [
    {
     "cell_type": "code",
     "collapsed": false,
     "input": [
      "%load_ext rmagic\n",
      "# To see what is avaialable, run %%R?"
     ],
     "language": "python",
     "metadata": {},
     "outputs": [],
     "prompt_number": 1
    },
    {
     "cell_type": "code",
     "collapsed": false,
     "input": [
      "%%R\n",
      "X=c(1,4,5,7)\n",
      "Y = c(2,4,3,9)\n",
      "fit = lm(Y ~ X)\n",
      "print(summary(fit))\n",
      "plot(X, Y)\n",
      "abline(fit)"
     ],
     "language": "python",
     "metadata": {},
     "outputs": [
      {
       "metadata": {},
       "output_type": "display_data",
       "text": [
        "\n",
        "Call:\n",
        "lm(formula = Y ~ X)\n",
        "\n",
        "Residuals:\n",
        "    1     2     3     4 \n",
        " 0.88 -0.24 -2.28  1.64 \n",
        "\n",
        "Coefficients:\n",
        "            Estimate Std. Error t value Pr(>|t|)\n",
        "(Intercept)   0.0800     2.3000   0.035    0.975\n",
        "X             1.0400     0.4822   2.157    0.164\n",
        "\n",
        "Residual standard error: 2.088 on 2 degrees of freedom\n",
        "Multiple R-squared:  0.6993,\tAdjusted R-squared:  0.549 \n",
        "F-statistic: 4.651 on 1 and 2 DF,  p-value: 0.1638\n",
        "\n"
       ]
      },
      {
       "metadata": {},
       "output_type": "display_data",
       "png": "[encoded data removed]"
      }
     ],
     "prompt_number": 2
    },
    {
     "cell_type": "code",
     "collapsed": false,
     "input": [
      "xs = np.random.randint(0, 10, 5)\n",
      "print xs\n",
      "# use -i to convert from Python to R\n",
      "%R -i xs mean(xs)"
     ],
     "language": "python",
     "metadata": {},
     "outputs": [
      {
       "output_type": "stream",
       "stream": "stdout",
       "text": [
        "[1 5 8 1 4]\n"
       ]
      },
      {
       "metadata": {},
       "output_type": "pyout",
       "prompt_number": 3,
       "text": [
        "array([ 3.8])"
       ]
      }
     ],
     "prompt_number": 3
    },
    {
     "cell_type": "code",
     "collapsed": false,
     "input": [
      "%R -o ys ys = mad(xs)"
     ],
     "language": "python",
     "metadata": {},
     "outputs": [
      {
       "metadata": {},
       "output_type": "pyout",
       "prompt_number": 4,
       "text": [
        "array([ 4.4478])"
       ]
      }
     ],
     "prompt_number": 4
    },
    {
     "cell_type": "code",
     "collapsed": false,
     "input": [
      "%%R\n",
      "print(head(mtcars))"
     ],
     "language": "python",
     "metadata": {},
     "outputs": [
      {
       "metadata": {},
       "output_type": "display_data",
       "text": [
        "                   mpg cyl disp  hp drat    wt  qsec vs am gear carb\n",
        "Mazda RX4         21.0   6  160 110 3.90 2.620 16.46  0  1    4    4\n",
        "Mazda RX4 Wag     21.0   6  160 110 3.90 2.875 17.02  0  1    4    4\n",
        "Datsun 710        22.8   4  108  93 3.85 2.320 18.61  1  1    4    1\n",
        "Hornet 4 Drive    21.4   6  258 110 3.08 3.215 19.44  1  0    3    1\n",
        "Hornet Sportabout 18.7   8  360 175 3.15 3.440 17.02  0  0    3    2\n",
        "Valiant           18.1   6  225 105 2.76 3.460 20.22  1  0    3    1\n"
       ]
      }
     ],
     "prompt_number": 5
    },
    {
     "cell_type": "code",
     "collapsed": false,
     "input": [
      "%R -d tbl tbl = head(mtcars)"
     ],
     "language": "python",
     "metadata": {},
     "outputs": [
      {
       "metadata": {},
       "output_type": "pyout",
       "prompt_number": 6,
       "text": [
        "array([[  21.   ,   21.   ,   22.8  ,   21.4  ,   18.7  ,   18.1  ],\n",
        "       [   6.   ,    6.   ,    4.   ,    6.   ,    8.   ,    6.   ],\n",
        "       [ 160.   ,  160.   ,  108.   ,  258.   ,  360.   ,  225.   ],\n",
        "       [ 110.   ,  110.   ,   93.   ,  110.   ,  175.   ,  105.   ],\n",
        "       [   3.9  ,    3.9  ,    3.85 ,    3.08 ,    3.15 ,    2.76 ],\n",
        "       [   2.62 ,    2.875,    2.32 ,    3.215,    3.44 ,    3.46 ],\n",
        "       [  16.46 ,   17.02 ,   18.61 ,   19.44 ,   17.02 ,   20.22 ],\n",
        "       [   0.   ,    0.   ,    1.   ,    1.   ,    0.   ,    1.   ],\n",
        "       [   1.   ,    1.   ,    1.   ,    0.   ,    0.   ,    0.   ],\n",
        "       [   4.   ,    4.   ,    4.   ,    3.   ,    3.   ,    3.   ],\n",
        "       [   4.   ,    4.   ,    1.   ,    1.   ,    2.   ,    1.   ]])"
       ]
      }
     ],
     "prompt_number": 6
    },
    {
     "cell_type": "code",
     "collapsed": false,
     "input": [
      "tbl"
     ],
     "language": "python",
     "metadata": {},
     "outputs": [
      {
       "metadata": {},
       "output_type": "pyout",
       "prompt_number": 7,
       "text": [
        "array([(21.0, 6.0, 160.0, 110.0, 3.9, 2.62, 16.46, 0.0, 1.0, 4.0, 4.0),\n",
        "       (21.0, 6.0, 160.0, 110.0, 3.9, 2.875, 17.02, 0.0, 1.0, 4.0, 4.0),\n",
        "       (22.8, 4.0, 108.0, 93.0, 3.85, 2.32, 18.61, 1.0, 1.0, 4.0, 1.0),\n",
        "       (21.4, 6.0, 258.0, 110.0, 3.08, 3.215, 19.44, 1.0, 0.0, 3.0, 1.0),\n",
        "       (18.7, 8.0, 360.0, 175.0, 3.15, 3.44, 17.02, 0.0, 0.0, 3.0, 2.0),\n",
        "       (18.1, 6.0, 225.0, 105.0, 2.76, 3.46, 20.22, 1.0, 0.0, 3.0, 1.0)], \n",
        "      dtype=[('mpg', '<f8'), ('cyl', '<f8'), ('disp', '<f8'), ('hp', '<f8'), ('drat', '<f8'), ('wt', '<f8'), ('qsec', '<f8'), ('vs', '<f8'), ('am', '<f8'), ('gear', '<f8'), ('carb', '<f8')])"
       ]
      }
     ],
     "prompt_number": 7
    },
    {
     "cell_type": "code",
     "collapsed": false,
     "input": [
      "tbl2 = tbl[:3]"
     ],
     "language": "python",
     "metadata": {},
     "outputs": [],
     "prompt_number": 8
    },
    {
     "cell_type": "code",
     "collapsed": false,
     "input": [
      "tbl2"
     ],
     "language": "python",
     "metadata": {},
     "outputs": [
      {
       "metadata": {},
       "output_type": "pyout",
       "prompt_number": 9,
       "text": [
        "array([(21.0, 6.0, 160.0, 110.0, 3.9, 2.62, 16.46, 0.0, 1.0, 4.0, 4.0),\n",
        "       (21.0, 6.0, 160.0, 110.0, 3.9, 2.875, 17.02, 0.0, 1.0, 4.0, 4.0),\n",
        "       (22.8, 4.0, 108.0, 93.0, 3.85, 2.32, 18.61, 1.0, 1.0, 4.0, 1.0)], \n",
        "      dtype=[('mpg', '<f8'), ('cyl', '<f8'), ('disp', '<f8'), ('hp', '<f8'), ('drat', '<f8'), ('wt', '<f8'), ('qsec', '<f8'), ('vs', '<f8'), ('am', '<f8'), ('gear', '<f8'), ('carb', '<f8')])"
       ]
      }
     ],
     "prompt_number": 9
    },
    {
     "cell_type": "code",
     "collapsed": false,
     "input": [
      "%Rpush tbl2\n",
      "%R print(tbl2)"
     ],
     "language": "python",
     "metadata": {},
     "outputs": [
      {
       "metadata": {},
       "output_type": "display_data",
       "text": [
        "   mpg cyl disp  hp drat    wt  qsec vs am gear carb\n",
        "1 21.0   6  160 110 3.90 2.620 16.46  0  1    4    4\n",
        "2 21.0   6  160 110 3.90 2.875 17.02  0  1    4    4\n",
        "3 22.8   4  108  93 3.85 2.320 18.61  1  1    4    1\n"
       ]
      }
     ],
     "prompt_number": 10
    },
    {
     "cell_type": "code",
     "collapsed": false,
     "input": [],
     "language": "python",
     "metadata": {},
     "outputs": [],
     "prompt_number": 12
    },
    {
     "cell_type": "code",
     "collapsed": false,
     "input": [],
     "language": "python",
     "metadata": {},
     "outputs": []
    }
   ],
   "metadata": {}
  }
 ]
}