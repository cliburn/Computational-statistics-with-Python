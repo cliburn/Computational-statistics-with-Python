{
 "metadata": {
  "name": ""
 },
 "nbformat": 3,
 "nbformat_minor": 0,
 "worksheets": [
  {
   "cells": [
    {
     "cell_type": "code",
     "collapsed": false,
     "input": [
      "%load_ext cythonmagic"
     ],
     "language": "python",
     "metadata": {},
     "outputs": [],
     "prompt_number": 1
    },
    {
     "cell_type": "code",
     "collapsed": false,
     "input": [
      "# Calcuate distance between matching vectors in two numpy arrays\n",
      "def dist1(xs, ys):\n",
      "    ds = []\n",
      "    for (x, y) in zip(xs, ys):\n",
      "        ds.append(sqrt(dot(x-y, x-y)))\n",
      "    return ds"
     ],
     "language": "python",
     "metadata": {},
     "outputs": [],
     "prompt_number": 2
    },
    {
     "cell_type": "code",
     "collapsed": false,
     "input": [
      "%%cython -lm\n",
      "import numpy as np\n",
      "cimport numpy as np\n",
      "from libc.math cimport sqrt, pow\n",
      "\n",
      "DTYPE = np.float\n",
      "ctypedef np.float_t DTYPE_t\n",
      "\n",
      "def dist2(np.ndarray[DTYPE_t, ndim=2] xs, np.ndarray[DTYPE_t, ndim=2] ys):\n",
      "    cdef int nrows = xs.shape[0]\n",
      "    cdef int ncols = xs.shape[1]\n",
      "    cdef ds = np.zeros(nrows, dtype=DTYPE)\n",
      "    cdef int i\n",
      "    cdef float t\n",
      "    for i in range(nrows):\n",
      "        t = 0.0\n",
      "        for j in range(ncols):\n",
      "            t += pow(xs[i,j] - ys[i, j], 2)\n",
      "        ds[i] = sqrt(t)\n",
      "    return ds"
     ],
     "language": "python",
     "metadata": {},
     "outputs": [],
     "prompt_number": 14
    },
    {
     "cell_type": "code",
     "collapsed": false,
     "input": [
      "xs = np.random.normal(1, 1, (1000,3))\n",
      "ys = np.random.normal(0, 1, (1000,3))"
     ],
     "language": "python",
     "metadata": {},
     "outputs": [],
     "prompt_number": 4
    },
    {
     "cell_type": "code",
     "collapsed": false,
     "input": [
      "import time\n",
      "\n",
      "start = time.clock()\n",
      "dist1(xs, ys)\n",
      "t1 = time.clock() - start\n",
      "\n",
      "start = time.clock()\n",
      "dist2(xs, ys)\n",
      "t2 = time.clock() - start\n",
      "\n",
      "print t1, t2, t1/t2"
     ],
     "language": "python",
     "metadata": {},
     "outputs": [
      {
       "output_type": "stream",
       "stream": "stdout",
       "text": [
        "0.014868 0.000184 80.8043478261\n"
       ]
      }
     ],
     "prompt_number": 15
    },
    {
     "cell_type": "code",
     "collapsed": false,
     "input": [
      "%%cython -+ \n",
      "# Note that -+ means generate C++ rather than C code\n",
      "import numpy as np\n",
      "from libcpp.vector cimport vector\n",
      "\n",
      "cdef vector[float] v = np.arange(10)\n",
      "print v[0], v[9]\n",
      "v.push_back(99.0)\n",
      "print v.back()"
     ],
     "language": "python",
     "metadata": {},
     "outputs": [
      {
       "output_type": "stream",
       "stream": "stdout",
       "text": [
        "0.0 9.0\n",
        "99.0\n"
       ]
      }
     ],
     "prompt_number": 34
    },
    {
     "cell_type": "code",
     "collapsed": false,
     "input": [],
     "language": "python",
     "metadata": {},
     "outputs": []
    }
   ],
   "metadata": {}
  }
 ]
}