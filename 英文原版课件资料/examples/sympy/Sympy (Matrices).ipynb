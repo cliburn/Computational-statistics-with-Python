{
 "metadata": {
  "name": ""
 },
 "nbformat": 3,
 "nbformat_minor": 0,
 "worksheets": [
  {
   "cells": [
    {
     "cell_type": "code",
     "collapsed": false,
     "input": [
      "from sympy import *\n",
      "init_printing()"
     ],
     "language": "python",
     "metadata": {},
     "outputs": [],
     "prompt_number": 1
    },
    {
     "cell_type": "code",
     "collapsed": false,
     "input": [
      "M = Matrix([[1,2,3],[3,2,1]])\n",
      "N = Matrix([0,1,1])\n",
      "M*N"
     ],
     "language": "python",
     "metadata": {},
     "outputs": [
      {
       "latex": [
        "$$\\left[\\begin{smallmatrix}{}5\\\\3\\end{smallmatrix}\\right]$$"
       ],
       "metadata": {},
       "output_type": "pyout",
       "png": "[encoded data removed]",
       "prompt_number": 2,
       "text": [
        "\u23a15\u23a4\n",
        "\u23a2 \u23a5\n",
        "\u23a33\u23a6"
       ]
      }
     ],
     "prompt_number": 2
    },
    {
     "cell_type": "code",
     "collapsed": false,
     "input": [
      "M"
     ],
     "language": "python",
     "metadata": {},
     "outputs": [
      {
       "latex": [
        "$$\\left[\\begin{smallmatrix}{}1 & 2 & 3\\\\3 & 2 & 1\\end{smallmatrix}\\right]$$"
       ],
       "metadata": {},
       "output_type": "pyout",
       "png": "[encoded data removed]",
       "prompt_number": 5,
       "text": [
        "\u23a11  2  3\u23a4\n",
        "\u23a2       \u23a5\n",
        "\u23a33  2  1\u23a6"
       ]
      }
     ],
     "prompt_number": 5
    },
    {
     "cell_type": "code",
     "collapsed": false,
     "input": [
      "M.shape"
     ],
     "language": "python",
     "metadata": {},
     "outputs": [
      {
       "latex": [
        "$$\\begin{pmatrix}2, & 3\\end{pmatrix}$$"
       ],
       "metadata": {},
       "output_type": "pyout",
       "png": "[encoded data removed]",
       "prompt_number": 3,
       "text": [
        "(2, 3)"
       ]
      }
     ],
     "prompt_number": 3
    },
    {
     "cell_type": "code",
     "collapsed": false,
     "input": [
      "M.col(-1)"
     ],
     "language": "python",
     "metadata": {},
     "outputs": [
      {
       "latex": [
        "$$\\left[\\begin{smallmatrix}{}3\\\\1\\end{smallmatrix}\\right]$$"
       ],
       "metadata": {},
       "output_type": "pyout",
       "png": "[encoded data removed]",
       "prompt_number": 4,
       "text": [
        "\u23a13\u23a4\n",
        "\u23a2 \u23a5\n",
        "\u23a31\u23a6"
       ]
      }
     ],
     "prompt_number": 4
    },
    {
     "cell_type": "code",
     "collapsed": false,
     "input": [
      "M = Matrix([[1,3], [-2,3]])\n",
      "M**-1"
     ],
     "language": "python",
     "metadata": {},
     "outputs": [
      {
       "latex": [
        "$$\\left[\\begin{smallmatrix}{}\\frac{1}{3} & - \\frac{1}{3}\\\\\\frac{2}{9} & \\frac{1}{9}\\end{smallmatrix}\\right]$$"
       ],
       "metadata": {},
       "output_type": "pyout",
       "png": "[encoded data removed]",
       "prompt_number": 6,
       "text": [
        "\u23a11/3  -1/3\u23a4\n",
        "\u23a2         \u23a5\n",
        "\u23a32/9  1/9 \u23a6"
       ]
      }
     ],
     "prompt_number": 6
    },
    {
     "cell_type": "code",
     "collapsed": false,
     "input": [
      "M.T"
     ],
     "language": "python",
     "metadata": {},
     "outputs": [
      {
       "latex": [
        "$$\\left[\\begin{smallmatrix}{}1 & -2\\\\3 & 3\\end{smallmatrix}\\right]$$"
       ],
       "metadata": {},
       "output_type": "pyout",
       "png": "[encoded data removed]",
       "prompt_number": 7,
       "text": [
        "\u23a11  -2\u23a4\n",
        "\u23a2     \u23a5\n",
        "\u23a33  3 \u23a6"
       ]
      }
     ],
     "prompt_number": 7
    },
    {
     "cell_type": "code",
     "collapsed": false,
     "input": [
      "eye(3)"
     ],
     "language": "python",
     "metadata": {},
     "outputs": [
      {
       "latex": [
        "$$\\left[\\begin{smallmatrix}{}1 & 0 & 0\\\\0 & 1 & 0\\\\0 & 0 & 1\\end{smallmatrix}\\right]$$"
       ],
       "metadata": {},
       "output_type": "pyout",
       "png": "[encoded data removed]",
       "prompt_number": 8,
       "text": [
        "\u23a11  0  0\u23a4\n",
        "\u23a2       \u23a5\n",
        "\u23a20  1  0\u23a5\n",
        "\u23a2       \u23a5\n",
        "\u23a30  0  1\u23a6"
       ]
      }
     ],
     "prompt_number": 8
    },
    {
     "cell_type": "code",
     "collapsed": false,
     "input": [
      "diag(1,2,3)"
     ],
     "language": "python",
     "metadata": {},
     "outputs": [
      {
       "latex": [
        "$$\\left[\\begin{smallmatrix}{}1 & 0 & 0\\\\0 & 2 & 0\\\\0 & 0 & 3\\end{smallmatrix}\\right]$$"
       ],
       "metadata": {},
       "output_type": "pyout",
       "png": "[encoded data removed]",
       "prompt_number": 10,
       "text": [
        "\u23a11  0  0\u23a4\n",
        "\u23a2       \u23a5\n",
        "\u23a20  2  0\u23a5\n",
        "\u23a2       \u23a5\n",
        "\u23a30  0  3\u23a6"
       ]
      }
     ],
     "prompt_number": 10
    },
    {
     "cell_type": "code",
     "collapsed": false,
     "input": [
      "M.det()"
     ],
     "language": "python",
     "metadata": {},
     "outputs": [
      {
       "latex": [
        "$$9$$"
       ],
       "metadata": {},
       "output_type": "pyout",
       "png": "[encoded data removed]",
       "prompt_number": 11,
       "text": [
        "9"
       ]
      }
     ],
     "prompt_number": 11
    },
    {
     "cell_type": "code",
     "collapsed": false,
     "input": [
      "M= Matrix([[1,0,1,3],[2,3,4,7],[-1,-3,-3,-4]])\n",
      "M"
     ],
     "language": "python",
     "metadata": {},
     "outputs": [
      {
       "latex": [
        "$$\\left[\\begin{smallmatrix}{}1 & 0 & 1 & 3\\\\2 & 3 & 4 & 7\\\\-1 & -3 & -3 & -4\\end{smallmatrix}\\right]$$"
       ],
       "metadata": {},
       "output_type": "pyout",
       "png": "[encoded data removed]",
       "prompt_number": 14,
       "text": [
        "\u23a11   0   1   3 \u23a4\n",
        "\u23a2              \u23a5\n",
        "\u23a22   3   4   7 \u23a5\n",
        "\u23a2              \u23a5\n",
        "\u23a3-1  -3  -3  -4\u23a6"
       ]
      }
     ],
     "prompt_number": 14
    },
    {
     "cell_type": "code",
     "collapsed": false,
     "input": [
      "M.rref()"
     ],
     "language": "python",
     "metadata": {},
     "outputs": [
      {
       "latex": [
        "$$\\begin{pmatrix}\\left[\\begin{smallmatrix}{}1 & 0 & 1 & 3\\\\0 & 1 & \\frac{2}{3} & \\frac{1}{3}\\\\0 & 0 & 0 & 0\\end{smallmatrix}\\right], & \\begin{bmatrix}0, & 1\\end{bmatrix}\\end{pmatrix}$$"
       ],
       "metadata": {},
       "output_type": "pyout",
       "png": "[encoded data removed]",
       "prompt_number": 15,
       "text": [
        "\u239b\u23a11  0   1    3 \u23a4, [0, 1]\u239e\n",
        "\u239c\u23a2              \u23a5        \u239f\n",
        "\u239c\u23a20  1  2/3  1/3\u23a5        \u239f\n",
        "\u239c\u23a2              \u23a5        \u239f\n",
        "\u239d\u23a30  0   0    0 \u23a6        \u23a0"
       ]
      }
     ],
     "prompt_number": 15
    },
    {
     "cell_type": "code",
     "collapsed": false,
     "input": [
      "M = Matrix([[1,2,3,0,0],[4,10,0,0,1]])\n",
      "M"
     ],
     "language": "python",
     "metadata": {},
     "outputs": [
      {
       "latex": [
        "$$\\left[\\begin{smallmatrix}{}1 & 2 & 3 & 0 & 0\\\\4 & 10 & 0 & 0 & 1\\end{smallmatrix}\\right]$$"
       ],
       "metadata": {},
       "output_type": "pyout",
       "png": "[encoded data removed]",
       "prompt_number": 16,
       "text": [
        "\u23a11  2   3  0  0\u23a4\n",
        "\u23a2              \u23a5\n",
        "\u23a34  10  0  0  1\u23a6"
       ]
      }
     ],
     "prompt_number": 16
    },
    {
     "cell_type": "code",
     "collapsed": false,
     "input": [
      "M.nullspace()"
     ],
     "language": "python",
     "metadata": {},
     "outputs": [
      {
       "latex": [
        "$$\\begin{bmatrix}\\left[\\begin{smallmatrix}{}-15\\\\6\\\\1\\\\0\\\\0\\end{smallmatrix}\\right], & \\left[\\begin{smallmatrix}{}0\\\\0\\\\0\\\\1\\\\0\\end{smallmatrix}\\right], & \\left[\\begin{smallmatrix}{}1\\\\- \\frac{1}{2}\\\\0\\\\0\\\\1\\end{smallmatrix}\\right]\\end{bmatrix}$$"
       ],
       "metadata": {},
       "output_type": "pyout",
       "png": "[encoded data removed]",
       "prompt_number": 17,
       "text": [
        "\u23a1\u23a1-15\u23a4, \u23a10\u23a4, \u23a1 1  \u23a4\u23a4\n",
        "\u23a2\u23a2   \u23a5  \u23a2 \u23a5  \u23a2    \u23a5\u23a5\n",
        "\u23a2\u23a2 6 \u23a5  \u23a20\u23a5  \u23a2-1/2\u23a5\u23a5\n",
        "\u23a2\u23a2   \u23a5  \u23a2 \u23a5  \u23a2    \u23a5\u23a5\n",
        "\u23a2\u23a2 1 \u23a5  \u23a20\u23a5  \u23a2 0  \u23a5\u23a5\n",
        "\u23a2\u23a2   \u23a5  \u23a2 \u23a5  \u23a2    \u23a5\u23a5\n",
        "\u23a2\u23a2 0 \u23a5  \u23a21\u23a5  \u23a2 0  \u23a5\u23a5\n",
        "\u23a2\u23a2   \u23a5  \u23a2 \u23a5  \u23a2    \u23a5\u23a5\n",
        "\u23a3\u23a3 0 \u23a6  \u23a30\u23a6  \u23a3 1  \u23a6\u23a6"
       ]
      }
     ],
     "prompt_number": 17
    },
    {
     "cell_type": "code",
     "collapsed": false,
     "input": [
      "M = Matrix([[3, -2, 4, -2], [5,3,-3,-2], [5,-2,2,-2], [5,-2,-3,3]])\n",
      "M"
     ],
     "language": "python",
     "metadata": {},
     "outputs": [
      {
       "latex": [
        "$$\\left[\\begin{smallmatrix}{}3 & -2 & 4 & -2\\\\5 & 3 & -3 & -2\\\\5 & -2 & 2 & -2\\\\5 & -2 & -3 & 3\\end{smallmatrix}\\right]$$"
       ],
       "metadata": {},
       "output_type": "pyout",
       "png": "[encoded data removed]",
       "prompt_number": 20,
       "text": [
        "\u23a13  -2  4   -2\u23a4\n",
        "\u23a2             \u23a5\n",
        "\u23a25  3   -3  -2\u23a5\n",
        "\u23a2             \u23a5\n",
        "\u23a25  -2  2   -2\u23a5\n",
        "\u23a2             \u23a5\n",
        "\u23a35  -2  -3  3 \u23a6"
       ]
      }
     ],
     "prompt_number": 20
    },
    {
     "cell_type": "code",
     "collapsed": false,
     "input": [
      "M.eigenvals()"
     ],
     "language": "python",
     "metadata": {},
     "outputs": [
      {
       "latex": [
        "$$\\begin{Bmatrix}-2 : 1, & 3 : 1, & 5 : 2\\end{Bmatrix}$$"
       ],
       "metadata": {},
       "output_type": "pyout",
       "png": "[encoded data removed]",
       "prompt_number": 21,
       "text": [
        "{-2: 1, 3: 1, 5: 2}"
       ]
      }
     ],
     "prompt_number": 21
    },
    {
     "cell_type": "code",
     "collapsed": false,
     "input": [
      "M.eigenvects()"
     ],
     "language": "python",
     "metadata": {},
     "outputs": [
      {
       "latex": [
        "$$\\begin{bmatrix}\\begin{pmatrix}-2, & 1, & \\begin{bmatrix}\\left[\\begin{smallmatrix}{}0\\\\1\\\\1\\\\1\\end{smallmatrix}\\right]\\end{bmatrix}\\end{pmatrix}, & \\begin{pmatrix}3, & 1, & \\begin{bmatrix}\\left[\\begin{smallmatrix}{}1\\\\1\\\\1\\\\1\\end{smallmatrix}\\right]\\end{bmatrix}\\end{pmatrix}, & \\begin{pmatrix}5, & 2, & \\begin{bmatrix}\\left[\\begin{smallmatrix}{}1\\\\1\\\\1\\\\0\\end{smallmatrix}\\right], & \\left[\\begin{smallmatrix}{}0\\\\-1\\\\0\\\\1\\end{smallmatrix}\\right]\\end{bmatrix}\\end{pmatrix}\\end{bmatrix}$$"
       ],
       "metadata": {},
       "output_type": "pyout",
       "png": "[encoded data removed]",
       "prompt_number": 22,
       "text": [
        "\u23a1\u239b-2, 1, \u23a1\u23a10\u23a4\u23a4\u239e, \u239b3, 1, \u23a1\u23a11\u23a4\u23a4\u239e, \u239b5, 2, \u23a1\u23a11\u23a4, \u23a10 \u23a4\u23a4\u239e\u23a4\n",
        "\u23a2\u239c       \u23a2\u23a2 \u23a5\u23a5\u239f  \u239c      \u23a2\u23a2 \u23a5\u23a5\u239f  \u239c      \u23a2\u23a2 \u23a5  \u23a2  \u23a5\u23a5\u239f\u23a5\n",
        "\u23a2\u239c       \u23a2\u23a21\u23a5\u23a5\u239f  \u239c      \u23a2\u23a21\u23a5\u23a5\u239f  \u239c      \u23a2\u23a21\u23a5  \u23a2-1\u23a5\u23a5\u239f\u23a5\n",
        "\u23a2\u239c       \u23a2\u23a2 \u23a5\u23a5\u239f  \u239c      \u23a2\u23a2 \u23a5\u23a5\u239f  \u239c      \u23a2\u23a2 \u23a5  \u23a2  \u23a5\u23a5\u239f\u23a5\n",
        "\u23a2\u239c       \u23a2\u23a21\u23a5\u23a5\u239f  \u239c      \u23a2\u23a21\u23a5\u23a5\u239f  \u239c      \u23a2\u23a21\u23a5  \u23a20 \u23a5\u23a5\u239f\u23a5\n",
        "\u23a2\u239c       \u23a2\u23a2 \u23a5\u23a5\u239f  \u239c      \u23a2\u23a2 \u23a5\u23a5\u239f  \u239c      \u23a2\u23a2 \u23a5  \u23a2  \u23a5\u23a5\u239f\u23a5\n",
        "\u23a3\u239d       \u23a3\u23a31\u23a6\u23a6\u23a0  \u239d      \u23a3\u23a31\u23a6\u23a6\u23a0  \u239d      \u23a3\u23a30\u23a6  \u23a31 \u23a6\u23a6\u23a0\u23a6"
       ]
      }
     ],
     "prompt_number": 22
    },
    {
     "cell_type": "code",
     "collapsed": false,
     "input": [
      "P, D = M.diagonalize()"
     ],
     "language": "python",
     "metadata": {},
     "outputs": [],
     "prompt_number": 23
    },
    {
     "cell_type": "code",
     "collapsed": false,
     "input": [
      "P"
     ],
     "language": "python",
     "metadata": {},
     "outputs": [
      {
       "latex": [
        "$$\\left[\\begin{smallmatrix}{}0 & 1 & 1 & 0\\\\1 & 1 & 1 & -1\\\\1 & 1 & 1 & 0\\\\1 & 1 & 0 & 1\\end{smallmatrix}\\right]$$"
       ],
       "metadata": {},
       "output_type": "pyout",
       "png": "[encoded data removed]",
       "prompt_number": 24,
       "text": [
        "\u23a10  1  1  0 \u23a4\n",
        "\u23a2           \u23a5\n",
        "\u23a21  1  1  -1\u23a5\n",
        "\u23a2           \u23a5\n",
        "\u23a21  1  1  0 \u23a5\n",
        "\u23a2           \u23a5\n",
        "\u23a31  1  0  1 \u23a6"
       ]
      }
     ],
     "prompt_number": 24
    },
    {
     "cell_type": "code",
     "collapsed": false,
     "input": [
      "D"
     ],
     "language": "python",
     "metadata": {},
     "outputs": [
      {
       "latex": [
        "$$\\left[\\begin{smallmatrix}{}-2 & 0 & 0 & 0\\\\0 & 3 & 0 & 0\\\\0 & 0 & 5 & 0\\\\0 & 0 & 0 & 5\\end{smallmatrix}\\right]$$"
       ],
       "metadata": {},
       "output_type": "pyout",
       "png": "[encoded data removed]",
       "prompt_number": 25,
       "text": [
        "\u23a1-2  0  0  0\u23a4\n",
        "\u23a2           \u23a5\n",
        "\u23a20   3  0  0\u23a5\n",
        "\u23a2           \u23a5\n",
        "\u23a20   0  5  0\u23a5\n",
        "\u23a2           \u23a5\n",
        "\u23a30   0  0  5\u23a6"
       ]
      }
     ],
     "prompt_number": 25
    },
    {
     "cell_type": "code",
     "collapsed": false,
     "input": [
      "P*D*P**-1"
     ],
     "language": "python",
     "metadata": {},
     "outputs": [
      {
       "latex": [
        "$$\\left[\\begin{smallmatrix}{}3 & -2 & 4 & -2\\\\5 & 3 & -3 & -2\\\\5 & -2 & 2 & -2\\\\5 & -2 & -3 & 3\\end{smallmatrix}\\right]$$"
       ],
       "metadata": {},
       "output_type": "pyout",
       "png": "[encoded data removed]",
       "prompt_number": 27,
       "text": [
        "\u23a13  -2  4   -2\u23a4\n",
        "\u23a2             \u23a5\n",
        "\u23a25  3   -3  -2\u23a5\n",
        "\u23a2             \u23a5\n",
        "\u23a25  -2  2   -2\u23a5\n",
        "\u23a2             \u23a5\n",
        "\u23a35  -2  -3  3 \u23a6"
       ]
      }
     ],
     "prompt_number": 27
    },
    {
     "cell_type": "code",
     "collapsed": false,
     "input": [
      "lamda = symbols('lamda')\n",
      "p = M.charpoly(lamda)\n",
      "p"
     ],
     "language": "python",
     "metadata": {},
     "outputs": [
      {
       "latex": [
        "$$\\operatorname{PurePoly}{\\left( \\lambda^{4} - 11 \\lambda^{3} + 29 \\lambda^{2} + 35 \\lambda - 150, \\lambda, domain=\\mathbb{Z} \\right)}$$"
       ],
       "metadata": {},
       "output_type": "pyout",
       "png": "[encoded data removed]",
       "prompt_number": 28,
       "text": [
        "PurePoly(lamda**4 - 11*lamda**3 + 29*lamda**2 + 35*lamda - 150, lamda, domain=\n",
        "'ZZ')"
       ]
      }
     ],
     "prompt_number": 28
    },
    {
     "cell_type": "code",
     "collapsed": false,
     "input": [
      "factor(p)"
     ],
     "language": "python",
     "metadata": {},
     "outputs": [
      {
       "latex": [
        "$$\\left(\\lambda - 5\\right)^{2} \\left(\\lambda - 3\\right) \\left(\\lambda + 2\\right)$$"
       ],
       "metadata": {},
       "output_type": "pyout",
       "png": "[encoded data removed]",
       "prompt_number": 29,
       "text": [
        "       2                \n",
        "(\u03bb - 5) \u22c5(\u03bb - 3)\u22c5(\u03bb + 2)"
       ]
      }
     ],
     "prompt_number": 29
    },
    {
     "cell_type": "code",
     "collapsed": false,
     "input": [],
     "language": "python",
     "metadata": {},
     "outputs": []
    }
   ],
   "metadata": {}
  }
 ]
}