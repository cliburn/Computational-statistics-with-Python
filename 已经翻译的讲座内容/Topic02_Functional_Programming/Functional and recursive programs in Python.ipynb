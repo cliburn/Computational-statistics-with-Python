{
 "cells": [
  {
   "cell_type": "markdown",
   "metadata": {},
   "source": [
    "Python 中的功能和递归程序\n",
    "====\n",
    "先用如下命令使用 pip 来安装模块 functional\n",
    "\n",
    "```\n",
    "pip install functional\n",
    "```"
   ]
  },
  {
   "cell_type": "markdown",
   "metadata": {},
   "source": [
    "迭代器， 列表推导，生成器表达式，以及其他高级函数（Iterators, list comprehension, generator expressions and higher order functions）\n",
    "----"
   ]
  },
  {
   "cell_type": "markdown",
   "metadata": {},
   "source": [
    "### 交互方式（Imperative style）"
   ]
  },
  {
   "cell_type": "code",
   "execution_count": 1,
   "metadata": {},
   "outputs": [
    {
     "data": {
      "text/plain": [
       "[0, 4, 16, 36, 64]"
      ]
     },
     "execution_count": 1,
     "metadata": {},
     "output_type": "execute_result"
    }
   ],
   "source": [
    "xs = []\n",
    "for i in range(10):\n",
    "    if i % 2 == 0:\n",
    "        xs.append(i*i)\n",
    "xs"
   ]
  },
  {
   "cell_type": "markdown",
   "metadata": {},
   "source": [
    "### 使用列表推导"
   ]
  },
  {
   "cell_type": "code",
   "execution_count": 2,
   "metadata": {},
   "outputs": [
    {
     "data": {
      "text/plain": [
       "[0, 4, 16, 36, 64]"
      ]
     },
     "execution_count": 2,
     "metadata": {},
     "output_type": "execute_result"
    }
   ],
   "source": [
    "### 一个列表推导式会在内存中创建一个列表\n",
    "xs = [i*i for i in range(10) if i % 2 == 0] # 在列表推导中这一步已经创建了列表了，内存已经分配了\n",
    "xs"
   ]
  },
  {
   "cell_type": "markdown",
   "metadata": {},
   "source": [
    "### 使用生成器表达式"
   ]
  },
  {
   "cell_type": "code",
   "execution_count": 3,
   "metadata": {},
   "outputs": [
    {
     "data": {
      "text/plain": [
       "[0, 4, 16, 36, 64]"
      ]
     },
     "execution_count": 3,
     "metadata": {},
     "output_type": "execute_result"
    }
   ],
   "source": [
    "### 生成器表达式看着和列表推导很相似，不同的是要手动调用才能返回值\n",
    "xs = (i*i for i in range(10) if i % 2 == 0) # 使用生成器表达式，这一步还没创建列表，内存没有分配\n",
    "list(xs)"
   ]
  },
  {
   "cell_type": "markdown",
   "metadata": {},
   "source": [
    "### 使用其他高级函数 - map 和 filter"
   ]
  },
  {
   "cell_type": "code",
   "execution_count": 4,
   "metadata": {},
   "outputs": [
    {
     "data": {
      "text/plain": [
       "[0, 4, 16, 36, 64]"
      ]
     },
     "execution_count": 4,
     "metadata": {},
     "output_type": "execute_result"
    }
   ],
   "source": [
    "def square(x):\n",
    "    return x*x\n",
    "\n",
    "def even(x):\n",
    "    return x % 2 == 0\n",
    "\n",
    "xs = map(square, filter(even, range(10)))\n",
    "list(xs)"
   ]
  },
  {
   "cell_type": "code",
   "execution_count": 5,
   "metadata": {},
   "outputs": [
    {
     "data": {
      "text/plain": [
       "[0, 4, 16, 36, 64]"
      ]
     },
     "execution_count": 5,
     "metadata": {},
     "output_type": "execute_result"
    }
   ],
   "source": [
    "### 使用匿名函数\n",
    "\n",
    "xs = map(lambda x: x*x, filter(lambda x: x % 2 == 0, range(10)))\n",
    "list(xs)"
   ]
  },
  {
   "cell_type": "markdown",
   "metadata": {},
   "source": [
    "Operators 模块和 Reductions（减少下降？规约？）\n",
    "----"
   ]
  },
  {
   "cell_type": "markdown",
   "metadata": {},
   "source": [
    "### 交互方式"
   ]
  },
  {
   "cell_type": "code",
   "execution_count": 6,
   "metadata": {},
   "outputs": [
    {
     "data": {
      "text/plain": [
       "55"
      ]
     },
     "execution_count": 6,
     "metadata": {},
     "output_type": "execute_result"
    }
   ],
   "source": [
    "s = 10\n",
    "for i in range(10):\n",
    "    s += i\n",
    "s"
   ]
  },
  {
   "cell_type": "markdown",
   "metadata": {},
   "source": [
    "### 使用 operator.add 和 reduce 函数"
   ]
  },
  {
   "cell_type": "code",
   "execution_count": 7,
   "metadata": {},
   "outputs": [
    {
     "data": {
      "text/plain": [
       "55"
      ]
     },
     "execution_count": 7,
     "metadata": {},
     "output_type": "execute_result"
    }
   ],
   "source": [
    "import operator\n",
    "from functools import reduce\n",
    "\n",
    "s = reduce(operator.add, range(10), 10)\n",
    "s"
   ]
  },
  {
   "cell_type": "code",
   "execution_count": 8,
   "metadata": {},
   "outputs": [
    {
     "data": {
      "text/plain": [
       "55"
      ]
     },
     "execution_count": 8,
     "metadata": {},
     "output_type": "execute_result"
    }
   ],
   "source": [
    "# 然而实际上平时咱就用sum函数加一下就得了，才没那么复杂的呢\n",
    "sum(range(10)) + 10"
   ]
  },
  {
   "cell_type": "code",
   "execution_count": null,
   "metadata": {
    "collapsed": true
   },
   "outputs": [],
   "source": [
    "### 映射-规约 map-reduce 原文这里用了idioom？估计是写错了吧，应该是idiom？"
   ]
  },
  {
   "cell_type": "code",
   "execution_count": 9,
   "metadata": {},
   "outputs": [
    {
     "data": {
      "text/plain": [
       "[[1, 3, 2, 9, 7, 9, 2, 2, 7, 1, 6, 6],\n",
       " [3, 9, 0, 1, 0, 5, 9, 7, 6, 8, 2, 6],\n",
       " [9, 1, 3, 6, 5, 7, 5, 6, 4, 0, 8, 3],\n",
       " [6, 7, 1, 8, 6, 4, 4, 3, 3, 1, 5, 1],\n",
       " [3, 8, 7, 5, 2, 8, 1, 1, 1, 5, 0, 3]]"
      ]
     },
     "execution_count": 9,
     "metadata": {},
     "output_type": "execute_result"
    }
   ],
   "source": [
    "# 但是理解这些高级函数对于我们日后写并行程序很有用处\n",
    "import numpy as np\n",
    "\n",
    "# 加入我们有了一个由数值列表组成的列表\n",
    "xs = np.random.randint(0,10,(5,12)).tolist()\n",
    "xs"
   ]
  },
  {
   "cell_type": "code",
   "execution_count": 10,
   "metadata": {},
   "outputs": [
    {
     "name": "stdout",
     "output_type": "stream",
     "text": [
      "[355, 386, 351, 263, 252]\n"
     ]
    }
   ],
   "source": [
    "# 然后我们要把这些列表中的值的平方都加到一起来(就是平方和)成为一个个的值\n",
    "# 然后找到最大值\n",
    "# 这就可以用到 映射-规约模式 map-reduce pattern\n",
    "\n",
    "# 所以这里就在一个并行程序中使用列表推导式\n",
    "# 其中每一个 map 操作都将由单独的一个处理器核心来运行\n",
    "\n",
    "row_sums = []\n",
    "for x in xs:\n",
    "    # 首先对每个列表中的所有元素都求平方，要用到的就是一个map映射运算，当然这里还用到了lambda函数\n",
    "    row = map(lambda x: x*x, x)\n",
    "    # 然后用reduce规约运算，把所有平方过的运算累加起来得到row_sum，累加得到的结果再存储到row_sums里面去\n",
    "    row_sum = reduce(operator.add, row)\n",
    "    row_sums.append(row_sum)\n",
    "print(row_sums)"
   ]
  },
  {
   "cell_type": "code",
   "execution_count": 11,
   "metadata": {},
   "outputs": [
    {
     "data": {
      "text/plain": [
       "386"
      ]
     },
     "execution_count": 11,
     "metadata": {},
     "output_type": "execute_result"
    }
   ],
   "source": [
    "# 接下来就可以用一个单个的处理器来收集这个结果，很容易就找到最大值了\n",
    "max(row_sums)"
   ]
  },
  {
   "cell_type": "code",
   "execution_count": 12,
   "metadata": {},
   "outputs": [
    {
     "data": {
      "text/plain": [
       "386"
      ]
     },
     "execution_count": 12,
     "metadata": {},
     "output_type": "execute_result"
    }
   ],
   "source": [
    "# 当然刚刚这一切也可以用一行代码来实现，但是如果这样的代码让你去读，不觉得太残忍么？\n",
    "\n",
    "max(reduce(operator.add, map(lambda x: x*x, x)) for x in xs)"
   ]
  },
  {
   "cell_type": "code",
   "execution_count": 13,
   "metadata": {},
   "outputs": [
    {
     "data": {
      "text/plain": [
       "386"
      ]
     },
     "execution_count": 13,
     "metadata": {},
     "output_type": "execute_result"
    }
   ],
   "source": [
    "# 当然了，比较正规的应用场景，我们还是用向量运算来实现的（译者注：估计这里的正规是指对性能比较关注？向量运算可以使用某些已经优化过的例如numpy之类的库，貌似速度是最优的？）\n",
    "xs = np.array(xs)\n",
    "max(np.sum(xs*xs, axis=1)) # axis=1 sums by rows"
   ]
  },
  {
   "cell_type": "markdown",
   "metadata": {},
   "source": [
    "### 函数创作（Function composition）"
   ]
  },
  {
   "cell_type": "markdown",
   "metadata": {},
   "source": [
    "只要安装了`functional`模块，咱们就能获得好多好多的函数式编程的工具了\n",
    "\n",
    "```bash\n",
    "pip install functional\n",
    "```"
   ]
  },
  {
   "cell_type": "code",
   "execution_count": 14,
   "metadata": {},
   "outputs": [],
   "source": [
    "from functional import compose, foldl, partial"
   ]
  },
  {
   "cell_type": "code",
   "execution_count": 15,
   "metadata": {},
   "outputs": [
    {
     "name": "stdout",
     "output_type": "stream",
     "text": [
      "(1, 2, 3)\n",
      "(1, 2, 3)\n",
      "(1, 2, 3)\n",
      "(1, 2, 3)\n",
      "(1, 2, 3)\n"
     ]
    }
   ],
   "source": [
    "# partial 可以减少一个函数需要的变量（argumnents）的个数\n",
    "# 在有部分参数（parameters）给定（\"filled in\"）的情况下， partial 就可以返回一个新的函数\n",
    "\n",
    "def f(x, y, z):\n",
    "    return x, y, z\n",
    "\n",
    "g = partial(f, 1)\n",
    "h = partial(f, 1, 2)\n",
    "k = partial(g, 2)\n",
    "j = partial(f, z=3)\n",
    "\n",
    "print(f(1,2,3))\n",
    "print(g(2,3))\n",
    "print(h(3))\n",
    "print(k(3))\n",
    "print(j(1, 2))"
   ]
  },
  {
   "cell_type": "code",
   "execution_count": 16,
   "metadata": {},
   "outputs": [
    {
     "name": "stdout",
     "output_type": "stream",
     "text": [
      "15\n"
     ]
    }
   ],
   "source": [
    "# 比如下面这个简单的例子\n",
    "\n",
    "def add(a, b):\n",
    "    return a + b\n",
    "\n",
    "add10 = partial(add, b=10)\n",
    "print(add10(5))"
   ]
  },
  {
   "cell_type": "code",
   "execution_count": 17,
   "metadata": {},
   "outputs": [
    {
     "data": {
      "text/plain": [
       "25"
      ]
     },
     "execution_count": 17,
     "metadata": {},
     "output_type": "execute_result"
    }
   ],
   "source": [
    "# compose 可以用来创作新的函数\n",
    "\n",
    "def f(x):\n",
    "    return x**2\n",
    "\n",
    "def g(x):\n",
    "    return x + 2\n",
    "\n",
    "fg = compose(f, g)\n",
    "x =3\n",
    "fg(x)"
   ]
  },
  {
   "cell_type": "code",
   "execution_count": 18,
   "metadata": {},
   "outputs": [
    {
     "data": {
      "text/plain": [
       "169"
      ]
     },
     "execution_count": 18,
     "metadata": {},
     "output_type": "execute_result"
    }
   ],
   "source": [
    "# 我们可以结合 reduce 和 parital 来创作多个函数\n",
    "\n",
    "# reduce 接受两个变量（arguments） - 函数以及一个可迭代对象（iterable）\n",
    "# 首先用 parital 来 预加载（\"pre-load\"） reduce，使用 compose 函数作为改造对象\n",
    "composeN = partial(reduce, compose)\n",
    "\n",
    "# 然后就可以创作多个函数了\n",
    "\n",
    "fggf = composeN([f, g, g, f])\n",
    "fggf(x)"
   ]
  },
  {
   "cell_type": "code",
   "execution_count": 19,
   "metadata": {},
   "outputs": [
    {
     "data": {
      "text/plain": [
       "169"
      ]
     },
     "execution_count": 19,
     "metadata": {},
     "output_type": "execute_result"
    }
   ],
   "source": [
    "# 分开每步来检查一下\n",
    "f(g(g(f(x))))"
   ]
  },
  {
   "cell_type": "code",
   "execution_count": null,
   "metadata": {
    "collapsed": true
   },
   "outputs": [],
   "source": [
    "从 <https://docs.python.org/release/2.6/howto/functional.html> 这份文档中我们了解到：\n",
    "\n",
    "foldl() 接收一个二值化函数（binary function），一个起始值(通常可能就是0)，然后还要有一个可迭代对象（iterable）。\n",
    "运行内容是先针对起始值以及列表中第一个元素进行该二值化函数运算，然后用结果跟列表中第二个元素进行该函数运算，然后用结果跟第三个元素进行该函数运算，以此类推\n",
    "\n",
    "这就意味着，假如有下面这样的调用：\n",
    "```python\n",
    "foldl(f, 0, [1, 2, 3])\n",
    "```\n",
    "实际上就等价于：\n",
    "```python\n",
    "f(f(f(0, 1), 2), 3)\n",
    "```"
   ]
  },
  {
   "cell_type": "markdown",
   "metadata": {},
   "source": [
    "### 用高级函数实现的 bootstrap 样例（自助抽样？）"
   ]
  },
  {
   "cell_type": "code",
   "execution_count": 20,
   "metadata": {},
   "outputs": [],
   "source": [
    "# 我们希望 bootstrap 函数能够用于任何数据分布以及任何我们感兴趣的统计模型\n",
    "\n",
    "def bootstrap(xs, nsamples, low, high, statistic):\n",
    "    \"\"\"A simple bootstrap function.\n",
    "    xs = data for bootstrapping\n",
    "    nsamples = number of bootstrap samples\n",
    "    low = lower percentile\n",
    "    high = upper percentile\n",
    "    dist = random number generator that will give n samples\n",
    "    statistic = boootstrap summary of interest\"\"\"\n",
    "    \n",
    "    bs = np.random.choice(xs, (nsamples, len(xs)), replace=True)\n",
    "    bss = np.apply_along_axis(statistic, 1, bs)\n",
    "    bss.sort()\n",
    "    return np.percentile(bss, 100*low),  np.percentile(bss, 100*high)"
   ]
  },
  {
   "cell_type": "code",
   "execution_count": 21,
   "metadata": {},
   "outputs": [
    {
     "name": "stdout",
     "output_type": "stream",
     "text": [
      "(9.7001821758518894, 10.085722964842198)\n",
      "(4.3044644000000094, 5.1235598749999891)\n",
      "(0.19309519672067721, 0.23122277631375732)\n"
     ]
    }
   ],
   "source": [
    "nsamples = 500\n",
    "low = 0.025\n",
    "high = 0.975\n",
    "dist = partial(np.random.normal, 10, 3)\n",
    "statistic = np.mean\n",
    "n =1000\n",
    "xs = dist(n)\n",
    "print(bootstrap(xs, nsamples, low, high, statistic))\n",
    "\n",
    "# 对于一个泊松分布的方差（variance of a poisson disttribution）找到自助抽样法的 CI 是很容易的（译者注：我不知道这个CI是什么鬼哈）\n",
    "dist = partial(np.random.poisson, 5)\n",
    "xs = dist(n)\n",
    "print(bootstrap(xs, nsamples, low, high, np.var))\n",
    "\n",
    "# 函数创作也能实现目的，比如找到精确度（precision）等等\n",
    "print(bootstrap(xs, nsamples, low, high, compose(np.reciprocal, np.var)))"
   ]
  },
  {
   "cell_type": "markdown",
   "metadata": {},
   "source": [
    "### 装饰器（Decorators）\n",
    "\n",
    "装饰器是一种特殊的函数，接收一个函数作为变量（argument），然后对这个函数进行\"装饰（decorates）\"，来增加新的功能，然后返回这个函数。"
   ]
  },
  {
   "cell_type": "code",
   "execution_count": 22,
   "metadata": {},
   "outputs": [
    {
     "name": "stdout",
     "output_type": "stream",
     "text": [
      "('Elapsed time:', 1.0001499652862549)\n",
      "('Elapsed time:', 2.001127004623413)\n"
     ]
    }
   ],
   "source": [
    "# 一个简单的装饰器\n",
    "def func_timer(f):\n",
    "    import time\n",
    "    def func(x):\n",
    "        start = time.time()        \n",
    "        result = f(x)\n",
    "        print('Elapsed time:', time.time() - start)\n",
    "        return result\n",
    "    return func\n",
    "\n",
    "# 手动调用\n",
    "def snooze1(n):\n",
    "    import time\n",
    "    time.sleep(n)\n",
    "    \n",
    "func_timer(snooze1)(1)\n",
    "\n",
    "# 使用装饰器的语法糖~\n",
    "@func_timer\n",
    "def snooze2(n):\n",
    "    import time\n",
    "    time.sleep(n)\n",
    "    \n",
    "snooze2(2)"
   ]
  },
  {
   "cell_type": "markdown",
   "metadata": {},
   "source": [
    "### 使用递归（recursion）"
   ]
  },
  {
   "cell_type": "code",
   "execution_count": 23,
   "metadata": {},
   "outputs": [],
   "source": [
    "# 经典的递归样例要么是斐波那契数列（Fibonacci series），要么就是分形函数（factorial function）\n",
    "# 递归（Recursion）的意思其实就是一个函数调用自身而已\n",
    "\n",
    "def fact(n):\n",
    "    if n <= 1:\n",
    "        return 1\n",
    "    else:\n",
    "        return n*fact(n-1)\n",
    "\n",
    "def fib(n):\n",
    "    if n < 2:\n",
    "        return 1\n",
    "    else:\n",
    "        return fib(n-1) + fib(n-2)"
   ]
  },
  {
   "cell_type": "code",
   "execution_count": 24,
   "metadata": {},
   "outputs": [
    {
     "data": {
      "text/plain": [
       "720"
      ]
     },
     "execution_count": 24,
     "metadata": {},
     "output_type": "execute_result"
    }
   ],
   "source": [
    "fact(6)"
   ]
  },
  {
   "cell_type": "code",
   "execution_count": 25,
   "metadata": {},
   "outputs": [
    {
     "data": {
      "text/plain": [
       "[1, 1, 2, 3, 5, 8, 13, 21, 34, 55]"
      ]
     },
     "execution_count": 25,
     "metadata": {},
     "output_type": "execute_result"
    }
   ],
   "source": [
    "[fib(i) for i in range(10)]"
   ]
  },
  {
   "cell_type": "markdown",
   "metadata": {},
   "source": [
    "### 考虑移到优化那部分（Consider moving to optimization session）"
   ]
  },
  {
   "cell_type": "code",
   "execution_count": 26,
   "metadata": {},
   "outputs": [],
   "source": [
    "# 在 Python 中，递归速度很慢，而且还很容易崩溃，因为函数调用次数太多了。\n",
    "# 然而，如果咱们把之前函数调用计算的结果保存下来用于下次计算，而不是每次都完全重复计算过程\n",
    "# 这样就显著地能降低内存使用以及计算要消耗的时间了"
   ]
  },
  {
   "cell_type": "code",
   "execution_count": 27,
   "metadata": {},
   "outputs": [],
   "source": [
    "# 下面的代码源自 http://code.activestate.com/recipes/578231-probably-the-fastest-memoization-decorator-in-the-/\n",
    "# 只是为了好玩哈（Just for fun）\n",
    "# 展示了一种经典版本的装饰器（decorator）\n",
    "\n",
    "def memoize1(f):\n",
    "    store = {}\n",
    "    def func(n):\n",
    "        if n not in store:\n",
    "            store[n] = f(n)\n",
    "        return store[n]\n",
    "    return func\n",
    "\n",
    "@memoize1\n",
    "def cfib(n):\n",
    "    return fib(n)\n",
    "\n",
    "def memoize2(f):\n",
    "  class memodict(dict):\n",
    "      __slots__ = ()\n",
    "      def __missing__(self, key):\n",
    "          self[key] = ret = f(key)\n",
    "          return ret\n",
    "  return memodict().__getitem__\n",
    "    \n",
    "@memoize2\n",
    "def mfib(n):\n",
    "    return fib(n)"
   ]
  },
  {
   "cell_type": "code",
   "execution_count": 28,
   "metadata": {},
   "outputs": [
    {
     "name": "stdout",
     "output_type": "stream",
     "text": [
      "3 loops, best of 3: 655 ms per loop\n",
      "10 loops, best of 3: 620 ns per loop\n",
      "10 loops, best of 3: 95.4 ns per loop\n"
     ]
    }
   ],
   "source": [
    "%timeit -n 3 fib(30)\n",
    "%timeit -n 10 cfib(30)\n",
    "%timeit -n 10 mfib(30)"
   ]
  },
  {
   "cell_type": "code",
   "execution_count": 28,
   "metadata": {},
   "outputs": [],
   "source": []
  }
 ],
 "metadata": {
  "kernelspec": {
   "display_name": "Python 2",
   "language": "python",
   "name": "python2"
  },
  "language_info": {
   "codemirror_mode": {
    "name": "ipython",
    "version": 2
   },
   "file_extension": ".py",
   "mimetype": "text/x-python",
   "name": "python",
   "nbconvert_exporter": "python",
   "pygments_lexer": "ipython2",
   "version": "2.7.13"
  }
 },
 "nbformat": 4,
 "nbformat_minor": 1
}
