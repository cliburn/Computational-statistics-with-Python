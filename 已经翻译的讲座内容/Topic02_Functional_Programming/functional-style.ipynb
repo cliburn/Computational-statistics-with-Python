{
 "cells": [
  {
   "cell_type": "code",
   "execution_count": 9,
   "metadata": {},
   "outputs": [
    {
     "data": {
      "text/plain": [
       "'%.4f'"
      ]
     },
     "execution_count": 9,
     "metadata": {},
     "output_type": "execute_result"
    }
   ],
   "source": [
    "import os\n",
    "import sys\n",
    "import glob\n",
    "import matplotlib.pyplot as plt\n",
    "import numpy as np\n",
    "import pandas as pd\n",
    "%matplotlib inline\n",
    "%precision 4"
   ]
  },
  {
   "cell_type": "markdown",
   "metadata": {},
   "source": [
    "函数 首先是类的对象/第一等的对象（Functions are first class objects）\n",
    "----\n",
    "在 Python 里面， 函数就和其他的对象一样，比如int整数或者list列表之类的。这就意味着你可以把函数用作变量（argument）传递给其他函数，还可以把函数存成字典的键值，或者把函数作为返回值从另一个函数来返回。总之这样用函数就能有很多非常神奇的使用方法了。\n",
    "\n",
    "\n",
    "(译者注：这篇文章和整个系列，其实都是基于 Python2的，但是我从最开始学 Python，就用的是3，然后为了及时翻译出来，我并没有把这些代码完全都改写成能用在 Python3 里面的，不过估计用 2to3 之类的工具大概是能转换的，等全部翻译完了之后，我才能有精力来进行转换，当然也欢迎广大朋友们来参与进来了。)"
   ]
  },
  {
   "cell_type": "code",
   "execution_count": 10,
   "metadata": {},
   "outputs": [],
   "source": [
    "def square(x):\n",
    "    \"\"\"求 x 的平方\"\"\"\n",
    "    return x*x\n",
    "\n",
    "def cube(x):\n",
    "    \"\"\"求 x 的立方\"\"\"\n",
    "    return x*x*x"
   ]
  },
  {
   "cell_type": "code",
   "execution_count": 11,
   "metadata": {},
   "outputs": [],
   "source": [
    "# 创建一个以函数为键值的字典（dictionary）\n",
    "\n",
    "funcs = {\n",
    "    'square': square,\n",
    "    'cube': cube,\n",
    "}"
   ]
  },
  {
   "cell_type": "code",
   "execution_count": 12,
   "metadata": {},
   "outputs": [
    {
     "ename": "SyntaxError",
     "evalue": "invalid syntax (<ipython-input-12-3d24de83b66f>, line 3)",
     "output_type": "error",
     "traceback": [
      "\u001b[0;36m  File \u001b[0;32m\"<ipython-input-12-3d24de83b66f>\"\u001b[0;36m, line \u001b[0;32m3\u001b[0m\n\u001b[0;31m    print square(x)\u001b[0m\n\u001b[0m               ^\u001b[0m\n\u001b[0;31mSyntaxError\u001b[0m\u001b[0;31m:\u001b[0m invalid syntax\n"
     ]
    }
   ],
   "source": [
    "x = 2\n",
    "\n",
    "print square(x)\n",
    "print cube(x)\n",
    "\n",
    "for func in sorted(funcs):\n",
    "    print func, funcs[func](x)"
   ]
  },
  {
   "cell_type": "markdown",
   "metadata": {},
   "source": [
    "高级函数（Higher-order functions）\n",
    "----\n",
    "\n",
    "如果一个函数能使用其他函数作为输入的变量（argument）或者返回一个函数作为返回值，那么这个函数就是一个高级函数（higher-order function，简写 HOF）。一般用得最多的就是 `map` 和 `filter`。"
   ]
  },
  {
   "cell_type": "code",
   "execution_count": null,
   "metadata": {},
   "outputs": [],
   "source": [
    "# map 函数会对一个集合(collection) 里面的全部成员使用某个函数来进行操作\n",
    "#（译者注：在深度学习中，map和reduce好像是译作映射与规约，这里的map似乎也能从字面上这么理解，将每个元素都用一个函数映射到了一个新的集合中）\n",
    "\n",
    "map(square, range(5))"
   ]
  },
  {
   "cell_type": "code",
   "execution_count": null,
   "metadata": {},
   "outputs": [],
   "source": [
    "# filter 函数会对一个集合中的每个成员进行一个判断（predciate） \n",
    "# 然后只保存判断的值为真（True）的成员（译者注：所以顾名思义，就是类似过滤器，基本也就是英文单词filter的原意）\n",
    "\n",
    "def is_even(x):\n",
    "    return x%2 == 0\n",
    "\n",
    "filter(is_even, range(5))"
   ]
  },
  {
   "cell_type": "code",
   "execution_count": null,
   "metadata": {},
   "outputs": [],
   "source": [
    "# 通常 map 和 reduce 都是联合起来使用的 - 也就是很有名的\"map-reduce\" 结构（construct）\n",
    "#（译者注：不知道这里是不是搞错了，原文说的就是 map-reduce，但是这里分明用的是 map-filter）\n",
    "\n",
    "map(square, filter(is_even, range(5)))"
   ]
  },
  {
   "cell_type": "code",
   "execution_count": null,
   "metadata": {},
   "outputs": [],
   "source": [
    "# The reduce function reduces a collection using a binary operator to combine items two at a time\n",
    "# reduce 函数每次对两个元素进行一种 二值化/二进制？运算 ，然后依次应用到整个集合。\n",
    "#（译者注：上面这句我把握不好怎么表达，所以带了英文原文）\n",
    "\n",
    "def my_add(x, y):\n",
    "    return x + y\n",
    "\n",
    "# 下面这就是用 reduce 来实现的另外一种累加函数\n",
    "reduce(my_add, [1,2,3,4,5])"
   ]
  },
  {
   "cell_type": "code",
   "execution_count": null,
   "metadata": {},
   "outputs": [],
   "source": [
    "# 自定义函数当然也可以以函数作为返回值，这样就也是高级函数（HOF）了\n",
    "\n",
    "def custom_sum(xs, transform):\n",
    "    \"\"\"Returns the sum of xs after a user specified transform.\"\"\"\n",
    "    return sum(map(transform, xs))\n",
    "\n",
    "xs = range(5)\n",
    "print custom_sum(xs, square)\n",
    "print custom_sum(xs, cube)"
   ]
  },
  {
   "cell_type": "code",
   "execution_count": null,
   "metadata": {},
   "outputs": [],
   "source": [
    "# 返回一个函数是很有用的\n",
    "\n",
    "# 一个闭包？（closure）\n",
    "#（译者注：我水平很初级，所以不太理解闭包的概念，回头我多学习一下）\n",
    "\n",
    "def make_logger(target):\n",
    "    def logger(data):\n",
    "        with open(target, 'a') as f:\n",
    "            f.write(data + '\\n')\n",
    "    return logger\n",
    "\n",
    "foo_logger = make_logger('foo.txt')\n",
    "foo_logger('Hello')\n",
    "foo_logger('World')"
   ]
  },
  {
   "cell_type": "code",
   "execution_count": null,
   "metadata": {},
   "outputs": [],
   "source": [
    "!cat 'foo.txt'"
   ]
  },
  {
   "cell_type": "markdown",
   "metadata": {},
   "source": [
    "纯函数\n",
    "----\n",
    "什么样的函数是纯函数呢？纯函数不能有任何*附带效果*，也不能依赖全局变量。纯函数就和数学意义上的函数差不多，每次给定相同的输入，也得返回相同的输出。这对于降低bug很有帮助，在并行开发中也是如此，因为每个函数的调用都是彼此独立的，也就是可并行的（parallelizable）\n"
   ]
  },
  {
   "cell_type": "code",
   "execution_count": null,
   "metadata": {},
   "outputs": [],
   "source": [
    "def pure(xs):\n",
    "    \"\"\"创建一个新的列表，然后用之作为返回值\"\"\"\n",
    "    xs = [x*2 for x in xs]\n",
    "    return xs"
   ]
  },
  {
   "cell_type": "code",
   "execution_count": null,
   "metadata": {},
   "outputs": [],
   "source": [
    "xs = range(5)\n",
    "print \"xs =\", xs\n",
    "print pure(xs)\n",
    "print \"xs =\", xs"
   ]
  },
  {
   "cell_type": "code",
   "execution_count": null,
   "metadata": {},
   "outputs": [],
   "source": [
    "def impure(xs):\n",
    "    for i, x in enumerate(xs):\n",
    "        xs[i] = x*2\n",
    "    return xs"
   ]
  },
  {
   "cell_type": "code",
   "execution_count": null,
   "metadata": {},
   "outputs": [],
   "source": [
    "xs = range(5)\n",
    "print \"xs =\", xs\n",
    "print impure(xs)\n",
    "print \"xs =\", xs"
   ]
  },
  {
   "cell_type": "code",
   "execution_count": null,
   "metadata": {},
   "outputs": [],
   "source": [
    "# 要记住，可变函数（mutatble functions）是在函数声明的时候创建的，而不是使用的时候\n",
    "# 下面这个就是初学者常犯的一种错误：\n",
    "\n",
    "def f1(x, y=[]):\n",
    "    \"\"\"记住，一定不要用空白列表或者类似的其他可变数据结构来作为默认值。\"\"\"\n",
    "    y.append(x)\n",
    "    return sum(y)"
   ]
  },
  {
   "cell_type": "code",
   "execution_count": null,
   "metadata": {},
   "outputs": [],
   "source": [
    "print f1(10)\n",
    "print f1(10)\n",
    "print f1(10, y =[1,2])"
   ]
  },
  {
   "cell_type": "code",
   "execution_count": null,
   "metadata": {},
   "outputs": [],
   "source": [
    "# 下面是正确的符合 Python 风格的示例：\n",
    "\n",
    "def f2(x, y=None):\n",
    "    \"\"\"检查一下y是不否空的，如果是，就创建一个列表来赋值给y\"\"\"\n",
    "    if y is None:\n",
    "        y = []\n",
    "    y.append(x)\n",
    "    return sum(y)"
   ]
  },
  {
   "cell_type": "code",
   "execution_count": null,
   "metadata": {},
   "outputs": [],
   "source": [
    "print f1(10)\n",
    "print f1(10)\n",
    "print f1(10, y =[1,2])"
   ]
  },
  {
   "cell_type": "markdown",
   "metadata": {},
   "source": [
    "递归\n",
    "----\n",
    "\n",
    "递归函数就是那种调用自身的函数。\n",
    "递归函数在分治法算法的样例中非常有用，另外也是一种有限差分方程（finite difference equations）的表现形式。\n",
    "不过递归函数在计算上效率很低很差，所以在 Python 里面通常很少使用递归函数。\n",
    "\n",
    "Recursvie functions generally have a set of  where the answer is obvious and can be returned immediately, and a set of recursive cases which are split into smaller pieces, each of which is given to the same function called recursively. A few examples will make this clearer.\n",
    "\n",
    "通常递归函数都有一系列的*基准条件（base cases）*，而其答案（answer）通常都是很简单的那种能立即返回的，一系列的递归条件就被分成了一个个小块，然后其中的某一个传递给相同的函数来进行递归调用。下面来几个例子说明一下就更清楚了。"
   ]
  },
  {
   "cell_type": "code",
   "execution_count": null,
   "metadata": {},
   "outputs": [],
   "source": [
    "# 阶乘函数函数（factorial function）可能是经典递归样例中最简单的一个了。\n",
    "\n",
    "def fact(n):\n",
    "    \"\"\"返回 n 的阶乘\"\"\"\n",
    "    # base case\n",
    "    if n==0:\n",
    "        return 1\n",
    "    # recursive case\n",
    "    else:\n",
    "        return n * fact(n-1)\n",
    "\n",
    "print [fact(n) for n in range(10)]"
   ]
  },
  {
   "cell_type": "code",
   "execution_count": null,
   "metadata": {},
   "outputs": [],
   "source": [
    "# 斐波那契数列（Fibonacci sequence）是另外一个经典的递归样例。\n",
    "\n",
    "def fib1(n):\n",
    "    \"\"\"使用递归给出斐波那契数列\"\"\"\n",
    "\n",
    "    # 基准条件 base case\n",
    "    if n==0 or n==1:\n",
    "        return 1\n",
    "    # 递归条件 recurssive case\n",
    "    else:\n",
    "        return fib1(n-1) + fib1(n-2)\n",
    "\n",
    "print [fib1(i) for i in range(10)]"
   ]
  },
  {
   "cell_type": "code",
   "execution_count": null,
   "metadata": {},
   "outputs": [],
   "source": [
    "# 在 Python 语言中个，还可以使用另外一种方法实现 斐波那契数列，不用递归，而且更有效率：\n",
    "\n",
    "def fib2(n):\n",
    "    \"\"\"不用递归实现的斐波那契数列\"\"\"\n",
    "    a, b = 0, 1\n",
    "    for i in range(1, n+1):\n",
    "        a, b = b, a+b\n",
    "    return b\n",
    "\n",
    "print [fib2(i) for i in range(10)]"
   ]
  },
  {
   "cell_type": "code",
   "execution_count": null,
   "metadata": {},
   "outputs": [],
   "source": [
    "# 一定要注意，使用了递归的版本速度要比不用递归的慢很多\n",
    "\n",
    "%timeit fib1(20)\n",
    "%timeit fib2(20)\n",
    "\n",
    "# 这是因为递归产生了多次函数调用\n",
    "# 注意下面的运行顺序中对 fib(2)和 fib(1)的多次调用\n",
    "# fib(4) -> fib(3), fib(2)\n",
    "# fib(3) -> fib(2), fib(1)\n",
    "# fib(2) -> fib(1), fib(0)\n",
    "# fib(1) -> 1\n",
    "# fib(0) -> 1"
   ]
  },
  {
   "cell_type": "code",
   "execution_count": null,
   "metadata": {},
   "outputs": [],
   "source": [
    "# 当然可以用递归来演示分治法（dividde-and-conquer paradigm）\n",
    "\n",
    "def almost_quick_sort(xs):\n",
    "    \"\"\"差不多能算是一个快速排列\"\"\"\n",
    "\n",
    "    # 基准条件 base case\n",
    "    if xs == []:\n",
    "        return xs\n",
    "    # 递归条件 recursive case\n",
    "    else:\n",
    "        pivot = xs[0]\n",
    "        less_than = [x for x in xs[1:] if x <= pivot]\n",
    "        more_than = [x for x in xs[1:] if x > pivot]\n",
    "        return almost_quick_sort(less_than) + [pivot] + almost_quick_sort(more_than)\n",
    "\n",
    "xs = [3,1,4,1,5,9,2,6,5,3,5,9]\n",
    "print almost_quick_sort(xs)"
   ]
  },
  {
   "cell_type": "markdown",
   "metadata": {},
   "source": [
    "迭代器（Iterators）\n",
    "----\n",
    "\n",
    "\n",
    "迭代器表示了值的流（streams of values）。因为每次用到的只有一个值，所以都一下子存入内存会耗费很多空间。用迭代器就可以帮助解决这类问题，比如数据集太大不能一下子放入RAM里面，就可以用迭代器来帮忙。"
   ]
  },
  {
   "cell_type": "code",
   "execution_count": null,
   "metadata": {},
   "outputs": [],
   "source": [
    "# 使用 iter() 这个 Python 的内置函数（built-in function） 就可以从一个有序的数据结构创建迭代器\n",
    "\n",
    "xs = [1,2,3]\n",
    "x_iter = iter(xs)\n",
    "\n",
    "print x_iter.next()\n",
    "print x_iter.next()\n",
    "print x_iter.next()\n",
    "print x_iter.next()"
   ]
  },
  {
   "cell_type": "code",
   "execution_count": null,
   "metadata": {},
   "outputs": [],
   "source": [
    "# 大多数情况里，迭代器都在一个 for 循环里面被（自发地）使用了。\n",
    "# 当遇到了停止迭代警告（StopIteration exception）的时候就会停止迭代\n",
    "\n",
    "x_iter = iter(xs)\n",
    "for x in x_iter:\n",
    "    print x"
   ]
  },
  {
   "cell_type": "markdown",
   "metadata": {},
   "source": [
    "生成器（Generators）\n",
    "----\n",
    "\n",
    "生成器创建迭代器的流（iterator streams）。"
   ]
  },
  {
   "cell_type": "code",
   "execution_count": null,
   "metadata": {},
   "outputs": [],
   "source": [
    "# 包含有'yield'这个关键词（keyword）的函数会返回迭代器（iterators）\n",
    "# 在完成了 yielding 之后，这个函数还会恢复到之前的状态\n",
    "\n",
    "def count_down(n):\n",
    "    for i in range(n, 0, -1):\n",
    "        yield i"
   ]
  },
  {
   "cell_type": "code",
   "execution_count": null,
   "metadata": {},
   "outputs": [],
   "source": [
    "counter = count_down(10)\n",
    "print counter.next()\n",
    "print counter.next()\n",
    "for count in counter:\n",
    "    print count,"
   ]
  },
  {
   "cell_type": "code",
   "execution_count": null,
   "metadata": {},
   "outputs": [],
   "source": [
    "# 还可以使用'生成器表达式（generator expressions）'来生成迭代器\n",
    "# 其形式有点像“列表生成器list generators”\n",
    "# 不过不同的是生成器表达式用的是圆括号，而列表生成器使用的是方括号。\n",
    "# （译者注：这个很好记，列表就有方括号，所以列表生成器语句中要用的是方括号，这就好记忆一点不容易弄混了。\n",
    "\n",
    "xs1 = [x*x for x in range(5)]\n",
    "print xs1\n",
    "\n",
    "xs2 = (x*x for x in range(5))\n",
    "print xs2\n",
    "\n",
    "for x in xs2:\n",
    "    print x,\n",
    "print"
   ]
  },
  {
   "cell_type": "code",
   "execution_count": null,
   "metadata": {},
   "outputs": [],
   "source": [
    "# 迭代器可以用在无穷函数（infinite functions）上\n",
    "\n",
    "def fib():\n",
    "    a, b = 0, 1\n",
    "    while True:\n",
    "        yield a\n",
    "        a, b = b, a+b"
   ]
  },
  {
   "cell_type": "code",
   "execution_count": null,
   "metadata": {},
   "outputs": [],
   "source": [
    "for i in fib():\n",
    "    # 生成器返回了一个无穷的流，所以必须停止条件判断\n",
    "        if i > 1000:\n",
    "        break\n",
    "    print i,"
   ]
  },
  {
   "cell_type": "code",
   "execution_count": null,
   "metadata": {},
   "outputs": [],
   "source": [
    "# 很多 Python 内置函数都返回迭代器\n",
    "# 例如 处理文件的 file handlers\n",
    "# 所以通过下面的示范（idiom）你就可以逐行地处理文件，哪怕有 1 TB（terabyte）那么大\n",
    "# 这样即便用性能比较一般的笔记本都可以，不会遇到什么问题\n",
    "# 在 Pyhton 3 里面 ，map 和 filter 返回的都是迭代器，而不再是列表了\n",
    "\n",
    "for line in open('foo.txt'):\n",
    "    print(line)"
   ]
  },
  {
   "cell_type": "markdown",
   "metadata": {},
   "source": [
    "匿名函数（Anonymous functions）\n",
    "----\n",
    "\n",
    "进行函数式编程的是，时候，经常会有这种需求，就是创建一些非常小的函数，来完成一些很细小的任务，比如作为高级函数（map 或者 filter 之类的 HOF）的输入变量。在这类情况下，通常就可以用匿名函数或者 lambda 函数。如果你觉得很难理解一个 lambda 函数是用来干嘛的，就可以把它改写的成普通的常规函数的形式。"
   ]
  },
  {
   "cell_type": "code",
   "execution_count": null,
   "metadata": {},
   "outputs": [],
   "source": [
    "# 使用常规函数\n",
    "\n",
    "def square(x):\n",
    "    return x*x\n",
    "\n",
    "print map(square, range(5))"
   ]
  },
  {
   "cell_type": "code",
   "execution_count": null,
   "metadata": {},
   "outputs": [],
   "source": [
    "# 用匿名函数\n",
    "\n",
    "print map(lambda x: x*x, range(5))"
   ]
  },
  {
   "cell_type": "markdown",
   "metadata": {},
   "source": [
    "装饰器\n",
    "----\n",
    "\n",
    "装饰器是一种高级函数，接受一个函数为参数，然后返回一个添加了额外性质的打包的新函数\n",
    "\n",
    "例子：\n",
    "\n",
    "- logging\n",
    "- profiling\n",
    "- 即时编译，Just-In-Time (JIT) compilation"
   ]
  },
  {
   "cell_type": "code",
   "execution_count": null,
   "metadata": {},
   "outputs": [],
   "source": [
    "# 下面是一个简单的装饰器，用来对一个任意函数进行计时\n",
    "\n",
    "def func_timer(func):\n",
    "    \"\"\"程序消耗的时间\"\"\"\n",
    "    \n",
    "    def f(*args, **kwargs):\n",
    "        import time\n",
    "        start = time.time()\n",
    "        results = func(*args, **kwargs)\n",
    "        print \"Elapsed: %.2fs\" % (time.time() - start)\n",
    "        return results\n",
    "    \n",
    "    return f"
   ]
  },
  {
   "cell_type": "code",
   "execution_count": null,
   "metadata": {},
   "outputs": [],
   "source": [
    "# 装饰器函数有一个特别的简短记号：（ a special shorthand notation for decorating functions）\n",
    "\n",
    "\n",
    "@func_timer\n",
    "def sleepy(msg, sleep=1.0):\n",
    "    \"\"\"响应之前沉睡给定的时间\"\"\"\n",
    "    import time\n",
    "    time.sleep(sleep)\n",
    "    print msg\n",
    "\n",
    "sleepy(\"Hello\", 1.5)"
   ]
  },
  {
   "cell_type": "code",
   "execution_count": null,
   "metadata": {
    "collapsed": true
   },
   "outputs": [],
   "source": [
    "运算器模块 `operator`\n",
    "----\n",
    "\n",
    "`operator`模块提供了各种常规 Python 运算符（+, *, []等等）的”函数版本”，可以用到使用函数作为变量（argument）的情景"
   ]
  },
  {
   "cell_type": "code",
   "execution_count": null,
   "metadata": {},
   "outputs": [],
   "source": [
    "import operator as op\n",
    "\n",
    "# 先买就是求和函数的另一种表述方式\n",
    "print reduce(op.add, range(10))\n",
    "print reduce(op.mul, range(10))"
   ]
  },
  {
   "cell_type": "code",
   "execution_count": null,
   "metadata": {},
   "outputs": [],
   "source": [
    "my_list = [('a', 1), ('b', 4), ('c', 2), ('d', 3)]\n",
    "\n",
    "# 标准排序\n",
    "print(sorted(my_list))\n",
    "\n",
    "# 根据每个元素的位置1 来进行排列，然后返回该列表 (注意，Python 是从0开始计数，1就是第二个位置了。)\n",
    "print(sorted(my_list, key=op.itemgetter(1)))"
   ]
  },
  {
   "cell_type": "markdown",
   "metadata": {},
   "source": [
    "函数工具模块 `functools` \n",
    "----\n",
    "\n",
    "函数工具模块 `functools`中个最常用的函数可能就是 `partial`，这个函数可以用来基于旧函数和一些额外给定的新的参数（arguments \"filled-in\"），来生成一个新的函数。"
   ]
  },
  {
   "cell_type": "code",
   "execution_count": null,
   "metadata": {},
   "outputs": [],
   "source": [
    "from functools import partial\n",
    "\n",
    "sum_ = partial(reduce, op.add)\n",
    "prod_ = partial(reduce, op.mul)\n",
    "print(sum_([1,2,3,4]))\n",
    "print(prod_([1,2,3,4]))"
   ]
  },
  {
   "cell_type": "markdown",
   "metadata": {},
   "source": [
    "迭代器模块 `itertools`\n",
    "----\n",
    "\n",
    "这个模块提供了很多用于处理迭代器的核心函数，对于函数式编程来说非常重要。"
   ]
  },
  {
   "cell_type": "code",
   "execution_count": null,
   "metadata": {},
   "outputs": [],
   "source": [
    "from itertools import cycle, groupby, islice, permutations, combinations\n",
    "\n",
    "print list(islice(cycle('abcd'), 0, 10))\n",
    "print \n",
    "\n",
    "animals = sorted(['pig', 'cow', 'giraffe', 'elephant', 'dog', 'cat', 'hippo', 'lion', 'tiger'], key=len)\n",
    "for k, g in groupby(animals, key=len):\n",
    "    print k, list(g)\n",
    "print\n",
    "\n",
    "print [''.join(p) for p in permutations('abc')]\n",
    "print \n",
    "\n",
    "print [list(c) for c in combinations([1,2,3,4], r=2)]"
   ]
  },
  {
   "cell_type": "markdown",
   "metadata": {},
   "source": [
    "其他的几个模块 `toolz`, `fn` 和 `funcy`\n",
    "----\n",
    "\n",
    "如果你希望使用函数式编程风格，还需要了解一下下面这几个模块：\n",
    "\n",
    "- [toolz](https://github.com/pytoolz/toolz)\n",
    "- [fn](https://github.com/kachayev/fn.py)\n",
    "- [funcy](https://github.com/Suor/funcy)"
   ]
  },
  {
   "cell_type": "code",
   "execution_count": null,
   "metadata": {},
   "outputs": [],
   "source": [
    "# 下面是一个小例子，利用细菌酶（译者注：原文这里就是 bacterial enzyme）的DNA转换成对应的蛋白质序列\n",
    "# 译者注：这里感觉明显是错的，酶通常就是催化作用，除非是特殊的，常规的酶就是蛋白或者肽链哪来的DNA，我记得染色体和线粒体才有吧\n",
    "# 另外DNA转换的应该是氨基酸序列吧，怎么能是蛋白质的序列呢？应该是氨基酸序列对应的肽链再组合才能成蛋白质吧？如果我记错了请更正。\n",
    "# 我的一位青年科学家朋友说：觉得原文的意思应该是，这个细菌酶所对应的DNA，然后将其转换成氨基酸序列。当然连成肽链和折叠成蛋白质的工作这里就不考虑了。\n",
    "# 上面的内容我觉得很有参考意义，值得借鉴，所以分享给大家！\n",
    "\n",
    "\n",
    "codon_table = {\n",
    "    'ATA':'I', 'ATC':'I', 'ATT':'I', 'ATG':'M',\n",
    "    'ACA':'T', 'ACC':'T', 'ACG':'T', 'ACT':'T',\n",
    "    'AAC':'N', 'AAT':'N', 'AAA':'K', 'AAG':'K',\n",
    "    'AGC':'S', 'AGT':'S', 'AGA':'R', 'AGG':'R',\n",
    "    'CTA':'L', 'CTC':'L', 'CTG':'L', 'CTT':'L',\n",
    "    'CCA':'P', 'CCC':'P', 'CCG':'P', 'CCT':'P',\n",
    "    'CAC':'H', 'CAT':'H', 'CAA':'Q', 'CAG':'Q',\n",
    "    'CGA':'R', 'CGC':'R', 'CGG':'R', 'CGT':'R',\n",
    "    'GTA':'V', 'GTC':'V', 'GTG':'V', 'GTT':'V',\n",
    "    'GCA':'A', 'GCC':'A', 'GCG':'A', 'GCT':'A',\n",
    "    'GAC':'D', 'GAT':'D', 'GAA':'E', 'GAG':'E',\n",
    "    'GGA':'G', 'GGC':'G', 'GGG':'G', 'GGT':'G',\n",
    "    'TCA':'S', 'TCC':'S', 'TCG':'S', 'TCT':'S',\n",
    "    'TTC':'F', 'TTT':'F', 'TTA':'L', 'TTG':'L',\n",
    "    'TAC':'Y', 'TAT':'Y', 'TAA':'_', 'TAG':'_',\n",
    "    'TGC':'C', 'TGT':'C', 'TGA':'_', 'TGG':'W',\n",
    "    }\n",
    "\n",
    "gene = \"\"\"\n",
    ">ENA|BAE76126|BAE76126.1 Escherichia coli str. K-12 substr. W3110 beta-D-galactosidase \n",
    "ATGACCATGATTACGGATTCACTGGCCGTCGTTTTACAACGTCGTGACTGGGAAAACCCT\n",
    "GGCGTTACCCAACTTAATCGCCTTGCAGCACATCCCCCTTTCGCCAGCTGGCGTAATAGC\n",
    "GAAGAGGCCCGCACCGATCGCCCTTCCCAACAGTTGCGCAGCCTGAATGGCGAATGGCGC\n",
    "TTTGCCTGGTTTCCGGCACCAGAAGCGGTGCCGGAAAGCTGGCTGGAGTGCGATCTTCCT\n",
    "GAGGCCGATACTGTCGTCGTCCCCTCAAACTGGCAGATGCACGGTTACGATGCGCCCATC\n",
    "TACACCAACGTGACCTATCCCATTACGGTCAATCCGCCGTTTGTTCCCACGGAGAATCCG\n",
    "ACGGGTTGTTACTCGCTCACATTTAATGTTGATGAAAGCTGGCTACAGGAAGGCCAGACG\n",
    "CGAATTATTTTTGATGGCGTTAACTCGGCGTTTCATCTGTGGTGCAACGGGCGCTGGGTC\n",
    "GGTTACGGCCAGGACAGTCGTTTGCCGTCTGAATTTGACCTGAGCGCATTTTTACGCGCC\n",
    "GGAGAAAACCGCCTCGCGGTGATGGTGCTGCGCTGGAGTGACGGCAGTTATCTGGAAGAT\n",
    "CAGGATATGTGGCGGATGAGCGGCATTTTCCGTGACGTCTCGTTGCTGCATAAACCGACT\n",
    "ACACAAATCAGCGATTTCCATGTTGCCACTCGCTTTAATGATGATTTCAGCCGCGCTGTA\n",
    "CTGGAGGCTGAAGTTCAGATGTGCGGCGAGTTGCGTGACTACCTACGGGTAACAGTTTCT\n",
    "TTATGGCAGGGTGAAACGCAGGTCGCCAGCGGCACCGCGCCTTTCGGCGGTGAAATTATC\n",
    "GATGAGCGTGGTGGTTATGCCGATCGCGTCACACTACGTCTGAACGTCGAAAACCCGAAA\n",
    "CTGTGGAGCGCCGAAATCCCGAATCTCTATCGTGCGGTGGTTGAACTGCACACCGCCGAC\n",
    "GGCACGCTGATTGAAGCAGAAGCCTGCGATGTCGGTTTCCGCGAGGTGCGGATTGAAAAT\n",
    "GGTCTGCTGCTGCTGAACGGCAAGCCGTTGCTGATTCGAGGCGTTAACCGTCACGAGCAT\n",
    "CATCCTCTGCATGGTCAGGTCATGGATGAGCAGACGATGGTGCAGGATATCCTGCTGATG\n",
    "AAGCAGAACAACTTTAACGCCGTGCGCTGTTCGCATTATCCGAACCATCCGCTGTGGTAC\n",
    "ACGCTGTGCGACCGCTACGGCCTGTATGTGGTGGATGAAGCCAATATTGAAACCCACGGC\n",
    "ATGGTGCCAATGAATCGTCTGACCGATGATCCGCGCTGGCTACCGGCGATGAGCGAACGC\n",
    "GTAACGCGAATGGTGCAGCGCGATCGTAATCACCCGAGTGTGATCATCTGGTCGCTGGGG\n",
    "AATGAATCAGGCCACGGCGCTAATCACGACGCGCTGTATCGCTGGATCAAATCTGTCGAT\n",
    "CCTTCCCGCCCGGTGCAGTATGAAGGCGGCGGAGCCGACACCACGGCCACCGATATTATT\n",
    "TGCCCGATGTACGCGCGCGTGGATGAAGACCAGCCCTTCCCGGCTGTGCCGAAATGGTCC\n",
    "ATCAAAAAATGGCTTTCGCTACCTGGAGAGACGCGCCCGCTGATCCTTTGCGAATACGCC\n",
    "CACGCGATGGGTAACAGTCTTGGCGGTTTCGCTAAATACTGGCAGGCGTTTCGTCAGTAT\n",
    "CCCCGTTTACAGGGCGGCTTCGTCTGGGACTGGGTGGATCAGTCGCTGATTAAATATGAT\n",
    "GAAAACGGCAACCCGTGGTCGGCTTACGGCGGTGATTTTGGCGATACGCCGAACGATCGC\n",
    "CAGTTCTGTATGAACGGTCTGGTCTTTGCCGACCGCACGCCGCATCCAGCGCTGACGGAA\n",
    "GCAAAACACCAGCAGCAGTTTTTCCAGTTCCGTTTATCCGGGCAAACCATCGAAGTGACC\n",
    "AGCGAATACCTGTTCCGTCATAGCGATAACGAGCTCCTGCACTGGATGGTGGCGCTGGAT\n",
    "GGTAAGCCGCTGGCAAGCGGTGAAGTGCCTCTGGATGTCGCTCCACAAGGTAAACAGTTG\n",
    "ATTGAACTGCCTGAACTACCGCAGCCGGAGAGCGCCGGGCAACTCTGGCTCACAGTACGC\n",
    "GTAGTGCAACCGAACGCGACCGCATGGTCAGAAGCCGGGCACATCAGCGCCTGGCAGCAG\n",
    "TGGCGTCTGGCGGAAAACCTCAGTGTGACGCTCCCCGCCGCGTCCCACGCCATCCCGCAT\n",
    "CTGACCACCAGCGAAATGGATTTTTGCATCGAGCTGGGTAATAAGCGTTGGCAATTTAAC\n",
    "CGCCAGTCAGGCTTTCTTTCACAGATGTGGATTGGCGATAAAAAACAACTGCTGACGCCG\n",
    "CTGCGCGATCAGTTCACCCGTGCACCGCTGGATAACGACATTGGCGTAAGTGAAGCGACC\n",
    "CGCATTGACCCTAACGCCTGGGTCGAACGCTGGAAGGCGGCGGGCCATTACCAGGCCGAA\n",
    "GCAGCGTTGTTGCAGTGCACGGCAGATACACTTGCTGATGCGGTGCTGATTACGACCGCT\n",
    "CACGCGTGGCAGCATCAGGGGAAAACCTTATTTATCAGCCGGAAAACCTACCGGATTGAT\n",
    "GGTAGTGGTCAAATGGCGATTACCGTTGATGTTGAAGTGGCGAGCGATACACCGCATCCG\n",
    "GCGCGGATTGGCCTGAACTGCCAGCTGGCGCAGGTAGCAGAGCGGGTAAACTGGCTCGGA\n",
    "TTAGGGCCGCAAGAAAACTATCCCGACCGCCTTACTGCCGCCTGTTTTGACCGCTGGGAT\n",
    "CTGCCATTGTCAGACATGTATACCCCGTACGTCTTCCCGAGCGAAAACGGTCTGCGCTGC\n",
    "GGGACGCGCGAATTGAATTATGGCCCACACCAGTGGCGCGGCGACTTCCAGTTCAACATC\n",
    "AGCCGCTACAGTCAACAGCAACTGATGGAAACCAGCCATCGCCATCTGCTGCACGCGGAA\n",
    "GAAGGCACATGGCTGAATATCGACGGTTTCCATATGGGGATTGGTGGCGACGACTCCTGG\n",
    "AGCCCGTCAGTATCGGCGGAATTCCAGCTGAGCGCCGGTCGCTACCATTACCAGTTGGTC\n",
    "TGGTGTCAAAAATAA\n",
    "\"\"\"\n",
    "from toolz import partition\n",
    "\n",
    "# 把上面的 FASTA 转成一个单个的 DNA 序列\n",
    "dna = ''.join(line for line in gene.strip().split('\\n') \n",
    "              if not line.startswith('>'))\n",
    "\n",
    "# 把 DNA 切割成密码子（codons）长度为 3， 然后转换密码子成为氨基酸（amino acid）\n",
    "codons = (''.join(c) for c in partition(3, dna))\n",
    "''.join(codon_table[codon] for codon in codons)"
   ]
  },
  {
   "cell_type": "markdown",
   "metadata": {},
   "source": [
    "这个 `partition` 函数还可以用于序列窗口的统计（statistics on sequence windows）\n",
    "例如,计算一个移动的平均线（calculating a moving average）"
   ]
  },
  {
   "cell_type": "markdown",
   "metadata": {},
   "source": [
    "<font color=red>练习 Exercises</font>\n",
    "----"
   ]
  },
  {
   "cell_type": "markdown",
   "metadata": {},
   "source": [
    "**1**. 把下面的网状循环改写成列表推导式（list comprehension）\n",
    "\n",
    "```python\n",
    "ans = []\n",
    "for i in range(3):\n",
    "    for j in range(4):\n",
    "        ans.append((i, j))\n",
    "print ans\n",
    "```"
   ]
  },
  {
   "cell_type": "code",
   "execution_count": null,
   "metadata": {},
   "outputs": [],
   "source": [
    "# YOUR CODE HERE\n",
    "\n",
    "\n"
   ]
  },
  {
   "cell_type": "markdown",
   "metadata": {},
   "source": [
    "**2**. 把下面的列表改写成列表推导式\n",
    "\n",
    "```python\n",
    "ans = map(lambda x: x*x, filter(lambda x: x%2 == 0, range(5)))\n",
    "print ans\n",
    "```"
   ]
  },
  {
   "cell_type": "code",
   "execution_count": null,
   "metadata": {},
   "outputs": [],
   "source": [
    "# YOUR CODE HERE\n",
    "\n",
    "\n"
   ]
  },
  {
   "cell_type": "markdown",
   "metadata": {},
   "source": [
    "**3**. 把下面的函数改写成纯函数，不要依赖全局变量，也不要有任何附带效果\n",
    "\n",
    "\n",
    "```python\n",
    "x = 5\n",
    "def f(alist):\n",
    "    for i in range(x):\n",
    "        alist.append(i)\n",
    "    return alist\n",
    "\n",
    "alist = [1,2,3]\n",
    "ans = f(alist)\n",
    "print ans\n",
    "print alist # alist has been changed!\n",
    "```"
   ]
  },
  {
   "cell_type": "code",
   "execution_count": null,
   "metadata": {},
   "outputs": [],
   "source": [
    "# YOUR CODE HERE\n",
    "\n",
    "\n"
   ]
  },
  {
   "cell_type": "markdown",
   "metadata": {},
   "source": [
    "**4.** 写一个装饰器`hello` ，使所有装饰过的函数都用 print 输出 \"Hello!\" \n",
    "\n",
    "For example\n",
    "\n",
    "```python\n",
    "@hello\n",
    "def square(x):\n",
    "    return x*x\n",
    "```\n",
    "\n",
    "调用的时候给出类似下面的结果：\n",
    "```python\n",
    "[In]\n",
    "square(2)\n",
    "[Out]\n",
    "Hello!\n",
    "4\n",
    "```"
   ]
  },
  {
   "cell_type": "code",
   "execution_count": null,
   "metadata": {},
   "outputs": [],
   "source": [
    "# YOUR CODE HERE\n",
    "\n",
    "\n"
   ]
  },
  {
   "cell_type": "markdown",
   "metadata": {},
   "source": [
    "**5**. 重写一个阶乘函数，不要用递归\n",
    "\n",
    "```python\n",
    "def fact(n):\n",
    "    \"\"\"Returns the factorial of n.\"\"\"\n",
    "    # base case\n",
    "    if n==0:\n",
    "        return 1\n",
    "    # recursive case\n",
    "    else:\n",
    "        return n * fact(n-1)\n",
    "```"
   ]
  },
  {
   "cell_type": "code",
   "execution_count": null,
   "metadata": {},
   "outputs": [],
   "source": [
    "# YOUR CODE HERE\n",
    "\n",
    "\n"
   ]
  },
  {
   "cell_type": "markdown",
   "metadata": {},
   "source": [
    "**6**. 那下面的匿名函数重写成一个常规的命名的函数\n",
    "\n",
    "```python\n",
    "lambda x, y: x**2 + y**2\n",
    "```"
   ]
  },
  {
   "cell_type": "code",
   "execution_count": null,
   "metadata": {},
   "outputs": [],
   "source": [
    "# YOUR CODE HERE\n",
    "\n",
    "\n"
   ]
  }
 ],
 "metadata": {
  "kernelspec": {
   "display_name": "Python 2",
   "language": "python",
   "name": "python2"
  },
  "language_info": {
   "codemirror_mode": {
    "name": "ipython",
    "version": 2
   },
   "file_extension": ".py",
   "mimetype": "text/x-python",
   "name": "python",
   "nbconvert_exporter": "python",
   "pygments_lexer": "ipython2",
   "version": "2.7.13"
  }
 },
 "nbformat": 4,
 "nbformat_minor": 1
}
