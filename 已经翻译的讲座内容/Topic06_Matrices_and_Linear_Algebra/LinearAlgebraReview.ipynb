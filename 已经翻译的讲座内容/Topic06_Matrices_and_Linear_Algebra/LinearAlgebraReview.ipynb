{
 "cells": [
  {
   "cell_type": "code",
   "execution_count": 14,
   "metadata": {
    "collapsed": true
   },
   "outputs": [],
   "source": [
    "import os\n",
    "import sys\n",
    "import glob\n",
    "import matplotlib.pyplot as plt\n",
    "import numpy as np\n",
    "import pandas as pd\n",
    "%matplotlib inline\n",
    "%precision 4\n",
    "plt.style.use('ggplot')"
   ]
  },
  {
   "cell_type": "markdown",
   "metadata": {},
   "source": [
    "# 线性代数和线性系统（Linear Algebra and Linear Systems）"
   ]
  },
  {
   "cell_type": "markdown",
   "metadata": {},
   "source": [
    "统计计算中很多问题都可以用线性代数来进行数学上的描述。本章内容主要就是回顾一些你此前在线性代数课程上面已经学过的概念。"
   ]
  },
  {
   "cell_type": "markdown",
   "metadata": {},
   "source": [
    "## 联立方程（Simultaneous Equations）"
   ]
  },
  {
   "cell_type": "markdown",
   "metadata": {},
   "source": [
    "假设有下面所示的 $m$ 个线性方程，其中有 $n$ 个不等式：\n",
    "\n"
   ]
  },
  {
   "cell_type": "markdown",
   "metadata": {},
   "source": [
    "\n",
    "\\begin{align*}\n",
    "a_{11} x_1 + &a_{12} x_2& +& ... + &a_{1n} x_n &=& b_1\\\\\n",
    "\\vdots  && &&\\vdots &= &\\vdots\\\\\n",
    "a_{m1} x_1 + &a_{m2} x_2& +& ... + &a_{mn} x_n &=&b_m \n",
    "\\end{align*}\n"
   ]
  },
  {
   "cell_type": "code",
   "execution_count": 15,
   "metadata": {
    "collapsed": false
   },
   "outputs": [
    {
     "data": {
      "text/latex": [
       "可以改写成下面这种形式：\n",
       "\n",
       "\\begin{align*}\n",
       "    A=\\left[\\begin{matrix}a_{11}&\\cdots&a_{1n}\\\\\n",
       "               \\vdots & &\\vdots\\\\\n",
       "               a_{m1}&\\cdots&a_{mn}\\end{matrix}\\right], & & \n",
       "\n",
       "x = \\left[\\begin{matrix}x_1\\\\\n",
       "               \\vdots\\\\\n",
       "               x_n\\end{matrix}\\right] & \\;\\;\\;\\;\\textrm{   and } &\n",
       "b =  \\left[\\begin{matrix}b_1\\\\\n",
       "               \\vdots\\\\\n",
       "               b_m\\end{matrix}\\right]\n",
       "\\end{align*}\n"
      ],
      "text/plain": [
       "<IPython.core.display.Latex object>"
      ]
     },
     "metadata": {},
     "output_type": "display_data"
    }
   ],
   "source": [
    "%%latex\n",
    "可以改写成下面这种形式：\n",
    "\n",
    "\\begin{align*}\n",
    "    A=\\left[\\begin{matrix}a_{11}&\\cdots&a_{1n}\\\\\n",
    "               \\vdots & &\\vdots\\\\\n",
    "               a_{m1}&\\cdots&a_{mn}\\end{matrix}\\right], & & \n",
    "\n",
    "x = \\left[\\begin{matrix}x_1\\\\\n",
    "               \\vdots\\\\\n",
    "               x_n\\end{matrix}\\right] & \\;\\;\\;\\;\\textrm{   and } &\n",
    "b =  \\left[\\begin{matrix}b_1\\\\\n",
    "               \\vdots\\\\\n",
    "               b_m\\end{matrix}\\right]\n",
    "\\end{align*}\n",
    "\n"
   ]
  },
  {
   "cell_type": "markdown",
   "metadata": {},
   "source": [
    "\n",
    "然后就可以把刚才的联立方程组改写成：\n",
    "    \n",
    "$$ Ax = b$$"
   ]
  },
  {
   "cell_type": "markdown",
   "metadata": {},
   "source": [
    "这样在解矩阵方程的时候就降低了难度，然后只要找到逆矩阵$A^{-1}$ 就可以解出来整个方程组了（大概就这样哈）。$A$ 这个矩阵的各种特定性质就能提取出这个线性方程组的各种重要信息。"
   ]
  },
  {
   "cell_type": "markdown",
   "metadata": {},
   "source": [
    "### 欠定方程组(Underdetermined System) (也就是方程组个数小于未知数的个数 $m<n$)"
   ]
  },
  {
   "cell_type": "markdown",
   "metadata": {},
   "source": [
    "当 $m<n$ 的时候，也就是方程的个数小于未知数的个数了，那么这个线性方程组是欠定方程组（*underdetermined*）。也就是说未知数比方程组的个数还多。这种情况下，要么就是无解(这时候说方程组是不协调的*inconsistent*)，要么就有无穷个解。唯一解是肯定没可能了。"
   ]
  },
  {
   "cell_type": "markdown",
   "metadata": {},
   "source": [
    "### 超定方程组（Overdetermined System）"
   ]
  },
  {
   "cell_type": "markdown",
   "metadata": {},
   "source": [
    "如果 $m>n$，也就是说方程的个数多于未知数的个数了，那么这个线性方程组就是超定方程组（*overdetermined*）。也就是说方程数比未知数多了。那么这个方程组也已是不协调的(*insistent*)，或者其中某些方程式是多余的（redundant）。"
   ]
  },
  {
   "cell_type": "markdown",
   "metadata": {},
   "source": [
    "分析和解线性方程组都有很多技术性的方法。我们的目标是让大家理解在各种内置函数背后的原理，以及这些函数解线性方程组的*效率*如何。\n",
    "是哦续i安，来回顾一下线性代数的基本内容："
   ]
  },
  {
   "cell_type": "markdown",
   "metadata": {},
   "source": [
    "### 线性无关（Linear Independence）"
   ]
  },
  {
   "cell_type": "markdown",
   "metadata": {},
   "source": [
    "当满足下列条件时，我们说一系列向量 $v_1,...,v_n$ 是线性无关的：\n",
    "\n",
    "$$c_1v_1 + \\cdots c_nv_n = 0$$\n",
    "$$\\iff$$\n",
    "$$c_1=\\cdots=c_n=0$$\n",
    "\n",
    "换个说法，就是任何最终结果是 0 向量 的向量组合都是一个线性无关的向量集（Trivial）。"
   ]
  },
  {
   "cell_type": "markdown",
   "metadata": {},
   "source": [
    "另外这也暗示了这个向量集合当中的任意一个向量都无法用集合中其他向量的组合来表示。这样来表述的话，线性无关就成了一个向量集合中不具有重复向量的一种表述方法。\n",
    "\n",
    "定理（Fact）：任何由 $n$ 个向量组成的线性无关集合都可以张成一个$n$维的空间。（也就是说，所有可能的线性组合的集合就是$\\mathbb{R}^n$。）符合这个特征的向量集合可以称为是$\\mathbb{R}^n$的一个基（*basis*)。对基(*basis*)的另外一种描述就是最小张成集合（minimal spanning set)。"
   ]
  },
  {
   "cell_type": "markdown",
   "metadata": {},
   "source": [
    "#### 上面的定理对线性方程组有什么影响？"
   ]
  },
  {
   "cell_type": "markdown",
   "metadata": {},
   "source": [
    "**非常重要！！！**\n",
    "\n",
    "* 如果 $A$ 是一个 $m\\times n$ 的矩阵，而 $m>n$, 若全部的 $m$ 列都是线性无关的，那么这个方程组就是*超定overdetermined*且*不协调inconsistent*的。 那么这个方程组就是不能得到确定解的。在数据分析的时候这种情况经常发生，因此最小二乘法就很重要了。\n",
    " \n",
    "* 如果 $A$ 是一个 $m\\times n$ 的矩阵，而 $m<n$, 若全部的 $m$ 列都是线性无关的，那么这个方程组就是*欠定underdetermined*的，就有*无数个infinite*解。\n",
    "\n",
    "* 如果 $A$ 是一个 $m\\times n$ 的矩阵，而其中的一些行是线性相关的（linearly dependent），那么这个方程组就是*冗余的reducible*。其中的一些方程式就可以消除掉。\n",
    "\n",
    "* 如果 $A$ 是一个方阵，且其中的各行都是线性无关的，那么这个方程组就有一个唯一解。($A$ 是一个可逆矩阵invertible。)\n"
   ]
  },
  {
   "cell_type": "markdown",
   "metadata": {},
   "source": [
    "使用线性代数能获取的线性方程组信息还有很多很多，所以咱们接下来要复习一些基本内容。"
   ]
  },
  {
   "cell_type": "markdown",
   "metadata": {},
   "source": [
    "### 向量的范数与距离（Norms and Distance）"
   ]
  },
  {
   "cell_type": "markdown",
   "metadata": {},
   "source": [
    " 一个向量 $v$ 的范数'norm', 表示为 $||v||$，也就是这个向量的长度。对于一个多维向量：\n",
    "$$v = \\left(v_1,...,v_n\\right)$$\n",
    "$v$ 的范数可用如下方法获得：\n",
    "$$||v|| = \\sqrt{v_1^2+...+v_n^2}$$"
   ]
  },
  {
   "cell_type": "markdown",
   "metadata": {},
   "source": [
    "两个向量之间的距离，也就是差向量的长度：\n",
    "$$d(v,w) = ||v-w||$$"
   ]
  },
  {
   "cell_type": "markdown",
   "metadata": {},
   "source": [
    "#### 样例"
   ]
  },
  {
   "cell_type": "code",
   "execution_count": 16,
   "metadata": {
    "collapsed": false
   },
   "outputs": [
    {
     "data": {
      "text/plain": [
       "2.2361"
      ]
     },
     "execution_count": 16,
     "metadata": {},
     "output_type": "execute_result"
    }
   ],
   "source": [
    "import numpy as np\n",
    "from scipy import linalg\n",
    "\n",
    "\n",
    "# 求一个向量的范数\n",
    "\n",
    "v = np.array([1,2])\n",
    "linalg.norm(v)"
   ]
  },
  {
   "cell_type": "code",
   "execution_count": 17,
   "metadata": {
    "collapsed": false
   },
   "outputs": [
    {
     "data": {
      "text/plain": [
       "1.0000"
      ]
     },
     "execution_count": 17,
     "metadata": {},
     "output_type": "execute_result"
    }
   ],
   "source": [
    "# 计算两个向量之间的距离\n",
    "\n",
    "w = np.array([1,1])\n",
    "linalg.norm(v-w)"
   ]
  },
  {
   "cell_type": "markdown",
   "metadata": {},
   "source": [
    "### 内积（Inner Products）"
   ]
  },
  {
   "cell_type": "markdown",
   "metadata": {},
   "source": [
    "内积和范数与距离的关系非常密切。两个 $n$ 维向量 $v$ 和 $w$ 的标准的内积如下所示：\n",
    "\n",
    "$$<v,w> = v_1w_1+...+v_nw_n$$\n",
    "\n",
    "也就是说，内积就是对应项目相乘之后加到一起。某些特殊的矩阵也能定义内积，这些后面再说。\n",
    "\n",
    "任何的内积也都可以确定一种范数：\n",
    "\n",
    "$$||v|| = <v,v>^{\\frac12}$$"
   ]
  },
  {
   "cell_type": "markdown",
   "metadata": {},
   "source": [
    "#### 样例"
   ]
  },
  {
   "cell_type": "code",
   "execution_count": 18,
   "metadata": {
    "collapsed": false
   },
   "outputs": [
    {
     "data": {
      "text/plain": [
       "3"
      ]
     },
     "execution_count": 18,
     "metadata": {},
     "output_type": "execute_result"
    }
   ],
   "source": [
    "v.dot(w)"
   ]
  },
  {
   "cell_type": "markdown",
   "metadata": {},
   "source": [
    "### 外积（Outer Products）"
   ]
  },
  {
   "cell_type": "markdown",
   "metadata": {},
   "source": [
    "这里我们会注意到，内积实际上就是两个矩阵相乘，也就是一个$1\\times n$ 向量和另外一个 $n\\times 1$ 这两个向量。所以，就也可以改写成下面这样：\n",
    "\n",
    "$$<v,w> = v^tw$$\n",
    "\n",
    "而两个向量的 *外积outer product* 则正好是相反的，如下所示：\n",
    "\n",
    "$$v\\otimes w = vw^t$$\n",
    "\n",
    "注意这里是把$v$ 和 $w$ 看作例列向量*column*。所以内积的结果就是一个标量*scalar*，而外积的结果是一个矩阵*matrix*。"
   ]
  },
  {
   "cell_type": "markdown",
   "metadata": {},
   "source": [
    "#### 样例"
   ]
  },
  {
   "cell_type": "code",
   "execution_count": 19,
   "metadata": {
    "collapsed": false
   },
   "outputs": [
    {
     "data": {
      "text/plain": [
       "array([[1, 1],\n",
       "       [2, 2]])"
      ]
     },
     "execution_count": 19,
     "metadata": {},
     "output_type": "execute_result"
    }
   ],
   "source": [
    "np.outer(v,w)"
   ]
  },
  {
   "cell_type": "markdown",
   "metadata": {},
   "source": [
    "**扩展**: 协方差矩阵（covariance matrix）就是一个外积。"
   ]
  },
  {
   "cell_type": "code",
   "execution_count": 20,
   "metadata": {
    "collapsed": true
   },
   "outputs": [],
   "source": [
    "import numpy as np\n",
    "\n",
    "# 对 p 个变量进行 n 次观测\n",
    "n, p = 10, 4\n",
    "v = np.random.random((p,n))"
   ]
  },
  {
   "cell_type": "code",
   "execution_count": 21,
   "metadata": {
    "collapsed": false
   },
   "outputs": [
    {
     "data": {
      "text/plain": [
       "array([[ 0.0716, -0.0352,  0.0228,  0.0099],\n",
       "       [-0.0352,  0.0698, -0.0116,  0.0064],\n",
       "       [ 0.0228, -0.0116,  0.1009, -0.0239],\n",
       "       [ 0.0099,  0.0064, -0.0239,  0.0842]])"
      ]
     },
     "execution_count": 21,
     "metadata": {},
     "output_type": "execute_result"
    }
   ],
   "source": [
    "# 协方差矩阵（covariance matrix）就是一个 p×p 的矩阵\n",
    "np.cov(v)"
   ]
  },
  {
   "cell_type": "code",
   "execution_count": 22,
   "metadata": {
    "collapsed": false
   },
   "outputs": [
    {
     "data": {
      "text/plain": [
       "array([[ 0.0716, -0.0352,  0.0228,  0.0099],\n",
       "       [-0.0352,  0.0698, -0.0116,  0.0064],\n",
       "       [ 0.0228, -0.0116,  0.1009, -0.0239],\n",
       "       [ 0.0099,  0.0064, -0.0239,  0.0842]])"
      ]
     },
     "execution_count": 22,
     "metadata": {},
     "output_type": "execute_result"
    }
   ],
   "source": [
    "# From the definition, the covariance matrix \n",
    "# is just the outer product of the normalized \n",
    "# matrix where every variable has zero mean\n",
    "# divided by the number of degrees of freedom\n",
    "\n",
    "# 根据定义来看，协方差矩阵就是标准化后的矩阵的外积，标准化就是使得所有的值除以自由度后的均值为 0 \n",
    "\n",
    "w = v - v.mean(1)[:, np.newaxis]\n",
    "w.dot(w.T)/(n - 1)"
   ]
  },
  {
   "cell_type": "markdown",
   "metadata": {},
   "source": [
    "### 矩阵的迹和行列式（Trace and Determinant）"
   ]
  },
  {
   "cell_type": "markdown",
   "metadata": {},
   "source": [
    "\n",
    "矩阵 $A$ 的迹就是对角元素的和。这个变量很重要，因为：\n",
    "\n",
    "* 对于一个矩阵来说，迹是一个 *不变量（invariant）*，即便改变矩阵的基（后面会更深入地讲）。\n",
    "* 矩阵的迹定义了矩阵的一种范数（还是后面再深入讲）。\n",
    "\n",
    "\n",
    "矩阵的行列式的定义大概是对矩阵中所有元素的某种排列的交替求和（alternating sum of permutations of the elements of a matrix），（形式上行列式可以看作是取自不同行不同列的n个元素的乘积再作代数和，具体定义大家参考教材去吧，这里根本也就没说，只是随便一提而已，并不是权威定义）。眼下就先不弄那么细致了。先看看一个$2\\times 2$ 矩阵的行列式是：\n",
    "\n",
    "$$\\left|\\begin{matrix}a_{11} & a_{12}\\\\a_{21} & a_{22}\\end{matrix}\\right| = a_{11}a_{22} - a_{12}a_{21}$$\n",
    "\n",
    "稍作扩展（minor expansion），就可以推广到 $n \\times n 的矩阵上去了。这部分内容自己查去吧。咱们用 Python 中的 numpy 来计算行列式都有现成的工具，如下所示：\n",
    "\n",
    "``np.linalg.det(A)``\n",
    "\n",
    "\n",
    "行列式最重要的性质如下所示：\n",
    "\n",
    "* 跟迹类似，行列式也是一个不变量，不随基变化而变化。\n",
    "* 如果一个 $n\\times n$ 的矩阵 $A$ 的行列式 det$(A)\\neq 0$ $\\iff$ 那么这个矩阵就是可逆矩阵 。\n",
    "* 如果det$(A)\\neq 0$ $\\iff$ 那么这个 $n\\times n$ 矩阵 $A$ 的行或者列就都是线性无关的。"
   ]
  },
  {
   "cell_type": "markdown",
   "metadata": {},
   "source": [
    "### 矩阵的列空间/行空间/秩以及核（Column space, Row space, Rank and Kernel）"
   ]
  },
  {
   "cell_type": "markdown",
   "metadata": {},
   "source": [
    "设 $A$ 是一个 $m\\times n$ 矩阵。然后就可以把 $A$ 的列当作向量，例如 $\\textbf{a_1},...,\\textbf{a_n}$等等。然后这些所有的列向量$\\textbf{a_i}$进行线性组合得到的空间就称为矩阵$A$的*列空间column space* 。然后，如果列向量 $\\textbf{a_1},...,\\textbf{a_n}$ 这些都是*线性无关的linearly independent*，那么列空间的维度就是 $n$ 了。如果不是这样，那么列空间的维度就是线性无关的列向量$\\textbf{a_i}$所组成的最大集合（maximal set）的维度。行空间与此同理，无非是使用的是矩阵 $A$ 的行向量而已。\n",
    "\n",
    "矩阵*A*的*秩（rank）*就是其列空间和行空间的维数。对任何矩阵来说都是这样。秩卡一理解为对线性方程组的非退化性（non-degeneracy）的一种量度，也就是由矩阵$A$所确定的*线性变换的图像维度（dimension of the image of the linear transformation）*\n",
    "\n",
    "矩阵*A*的*核Kernel*，是一个这个矩阵 $A$ 所表示的线性变换空间映射到零的空间的维数（dimension of the space mapped to zero under the linear transformation that $A$ represents）。一个线性变换的*核kernel*的维度数也叫做 *nullity*。\n",
    "\n",
    "\n",
    "指数定理（Index theorem）：\n",
    "对于一个 $m\\times n$ 矩阵 $A$, \n",
    "rank($A$) + nullity($A$) = $n$.\n",
    "\n",
    "（译者注：这个核的概念我还真头一次见到，网上搜到了一个解释如下：满足线性方程AX=0的解组成的集合就叫矩阵A的核，A的核是子空间，也叫A的零空间,它的维数加上A的秩等于A的阶数。）"
   ]
  },
  {
   "cell_type": "markdown",
   "metadata": {},
   "source": [
    "### 将矩阵理解为线性变换（Matrices as Linear Transformations）"
   ]
  },
  {
   "cell_type": "markdown",
   "metadata": {},
   "source": [
    "咱们来考虑一下这个问题：一个矩阵到底对一个向量*做*了什么？矩阵的操作有一种*几何 geometric*表述。当我们对一个向量进行操作的时候，通常就是旋转rotate,对称 reflect, 扩展 dilate 或者这几种操作的一些组合。矩阵也是这样对一个向量进行*变换 transform*，使之成为一个新的向量。这就是所谓的*线性变换 linear transformation*\n",
    "\n",
    "下面是一些重要的定理：\n",
    "\n",
    "* 任意的一个矩阵，都定义了一个线性变换\n",
    "* 一个线性变换的矩阵形式的表述是不唯一的\n",
    "* 定义一个线性变换只需要考虑其对基向量*basis*的操作\n",
    "\n",
    "\n",
    "\n",
    "假设有一个矩阵 $A$ 定义了某种变换。然后咱们再有一个可逆矩阵（invertible matrix） $B$，那么\n",
    "\n",
    "$$BAB^{-1}$$\n",
    "\n",
    "就定义了同样的一个变换。这个操作也叫做*基变换 change of basis*，因为只是用了不同的基来表达同一个变换。\n",
    "\n",
    "这也是我们在主成分分析（Principal Component Analysis，PCA）里面要做的。用特征向量（eigenvectors）来表示矩阵（后面再详细讲）。"
   ]
  },
  {
   "cell_type": "markdown",
   "metadata": {},
   "source": [
    "#### 样例："
   ]
  },
  {
   "cell_type": "markdown",
   "metadata": {},
   "source": [
    "设 $f(x)$ 是一个线性变换，将$e_1=(1,0)$ 变换成 $f(e_1)=(2,3)$ ，将 $e_2=(0,1)$ 变换成 $f(e_2) = (1,1)$。那么用一个矩阵来表述这个变换 $f$ 则如下所示：\n",
    "\n",
    "$$A = \\left(\\begin{matrix}2 & 1\\\\3&1\\end{matrix}\\right)$$\n",
    "\n",
    "\n",
    "如果在$\\mathbb{R}^2$ 实数域内的向量是下面这种线性组合的形式的话，上面的矩阵表示的就是对应的线性变换了。\n",
    "\n",
    "$$c_1 e_1 + c_2 e_2$$"
   ]
  },
  {
   "cell_type": "markdown",
   "metadata": {},
   "source": [
    "接下来，假设有另外一对的线性无关的向量，在实数域$\\mathbb{R}^2$内取值，比如说就是 $v_1=(1,3)$ 和 $v_2=(4,1)$。首先要找出线性变换，该变换将$e_1$ 变为 $v_1$，将$e_2$ 变为 $v_2$。用矩阵来表示一下就是：\n",
    "\n",
    "$$B = \\left(\\begin{matrix}1 & 4\\\\3&1\\end{matrix}\\right)$$"
   ]
  },
  {
   "cell_type": "markdown",
   "metadata": {},
   "source": [
    "如果以 $v_1, v_2$ 作为基，那么咱们最开始的那个变换  $f$  就可以写成：\n",
    "\n",
    "$$B^{-1}AB$$"
   ]
  },
  {
   "cell_type": "code",
   "execution_count": 2,
   "metadata": {
    "collapsed": false
   },
   "outputs": [
    {
     "name": "stdout",
     "output_type": "stream",
     "text": [
      "[2 3]\n",
      "[1 1]\n",
      "Av1: \n",
      "[5 6]\n",
      "Av2: \n",
      "[ 9 13]\n",
      "B B_inv \n",
      "[[  1.00000000e+00  -5.55111512e-17]\n",
      " [  5.55111512e-17   1.00000000e+00]]\n",
      "('Compare to Av1: ', array([ 5.,  6.]))\n"
     ]
    }
   ],
   "source": [
    "import numpy as np\n",
    "from scipy import linalg\n",
    "\n",
    "A = np.array([[2,1],[3,1]])  # 用标准基来表述的变换 f  \n",
    "e1 = np.array([1,0])         # 标准基向量 e1,e2\n",
    "e2 = np.array([0,1])\n",
    "\n",
    "print(A.dot(e1))             # 显示 Ae1 为 (2,3)\n",
    "print(A.dot(e2))             # 显示 Ae2 为 (1,1) \n",
    "                              \n",
    "# 新的基向量\n",
    "v1 = np.array([1,3])         \n",
    "v2 = np.array([4,1])\n",
    "\n",
    "# v1 和 v2 这两个向量怎么通过 A 变换得到\n",
    "print(\"Av1: \")\n",
    "print(A.dot(v1))   \n",
    "print(\"Av2: \")\n",
    "print(A.dot(v2))\n",
    "\n",
    "# 改变基向量，从标准基改为 v1,v2\n",
    "B = np.array([[1,4],[3,1]])\n",
    "B_inv = linalg.inv(B)\n",
    "\n",
    "print(\"B B_inv \")\n",
    "print(B.dot(B_inv))   # 检查一下矩阵 B 是否可逆\n",
    "\n",
    "# 在坐标系变化的背景下对 e1 进行变换\n",
    "T = B_inv.dot(A.dot(B))        # B^{-1} A B  \n",
    "coeffs = T.dot(e1)\n",
    "\n",
    "print(\"Compare to Av1: \", coeffs[0]*v1 + coeffs[1]*v2)\n",
    "\n",
    "\n"
   ]
  },
  {
   "cell_type": "code",
   "execution_count": 24,
   "metadata": {
    "collapsed": true
   },
   "outputs": [],
   "source": [
    "def plot_vectors(vs):\n",
    "    \"\"\"Plot vectors in vs assuming origin at (0,0).\"\"\"\n",
    "    n = len(vs)\n",
    "    X, Y = np.zeros((n, 2))\n",
    "    U, V = np.vstack(vs).T\n",
    "    plt.quiver(X, Y, U, V, range(n), angles='xy', scale_units='xy', scale=1)\n",
    "    xmin, xmax = np.min([U, X]), np.max([U, X])\n",
    "    ymin, ymax = np.min([V, Y]), np.max([V, Y])\n",
    "    xrng = xmax - xmin\n",
    "    yrng = ymax - ymin\n",
    "    xmin -= 0.05*xrng\n",
    "    xmax += 0.05*xrng\n",
    "    ymin -= 0.05*yrng\n",
    "    ymax += 0.05*yrng\n",
    "    plt.axis([xmin, xmax, ymin, ymax])"
   ]
  },
  {
   "cell_type": "code",
   "execution_count": null,
   "metadata": {
    "collapsed": true
   },
   "outputs": [],
   "source": []
  },
  {
   "cell_type": "code",
   "execution_count": 25,
   "metadata": {
    "collapsed": true
   },
   "outputs": [],
   "source": [
    "e1 = np.array([1,0])\n",
    "e2 = np.array([0,1])\n",
    "A = np.array([[2,1],[3,1]])"
   ]
  },
  {
   "cell_type": "code",
   "execution_count": 26,
   "metadata": {
    "collapsed": false
   },
   "outputs": [
    {
     "data": {
      "image/png": "[encoded data removed]",
      "text/plain": [
       "<matplotlib.figure.Figure at 0x7f67242739d0>"
      ]
     },
     "metadata": {},
     "output_type": "display_data"
    }
   ],
   "source": [
    "# 下面是对 Ae_1 和 Ae_2 的投图展示\n",
    "# 当然你也可以来尝试用图像的方式来呈现其他变换\n",
    "\n",
    "plt.figure(figsize=(8,4))\n",
    "plt.subplot(1,2,1)\n",
    "plot_vectors([e1, e2])\n",
    "plt.subplot(1,2,2)\n",
    "plot_vectors([A.dot(e1), A.dot(e2)])\n",
    "plt.tight_layout()"
   ]
  },
  {
   "cell_type": "markdown",
   "metadata": {},
   "source": [
    "### 特殊矩阵"
   ]
  },
  {
   "cell_type": "markdown",
   "metadata": {},
   "source": [
    "Some matrices have interesting properties that allow us either simplify the underlying linear system or to understand more about it. \n",
    "\n",
    "有的矩阵有一些很有趣的性质，这样的一些性质有时候就可以简化对应的线性方程组以及对其的理解等等。"
   ]
  },
  {
   "cell_type": "markdown",
   "metadata": {},
   "source": [
    "#### 正方形矩阵"
   ]
  },
  {
   "cell_type": "markdown",
   "metadata": {},
   "source": [
    "正方形矩阵，简称方阵，就是行和列的数目$n$相同。对于任意的一个正方形矩阵，都可以说成是$n\\times n$矩阵，或者说他是一个“维度为$n$的方阵”。如果一个$n\\times n$ 方阵 $A$ 有 *满秩（full rank）*（ye'jiu'shi也就是说该矩阵的秩为$n$），那么这个矩阵$A$就是可逆的（invertible），而且逆矩阵（inverse）是唯一的。这种情况下对应的线性方程组就有唯一解了。"
   ]
  },
  {
   "cell_type": "markdown",
   "metadata": {},
   "source": [
    "#### 对角矩阵"
   ]
  },
  {
   "cell_type": "markdown",
   "metadata": {},
   "source": [
    "对角矩阵就是除了对角线之外其他的元素都是零。严格来说，对角阵应该也是方阵才行，不过我们也可以扩展一下，认为一个$m\\times n$矩形矩阵也可以是对角阵，只要满足对于$i\\neq j$，$a_{ij}$等于0，即可。"
   ]
  },
  {
   "cell_type": "markdown",
   "metadata": {},
   "source": [
    "#### 对称矩阵和反对称矩阵（Symmetric and Skew Symmetric）"
   ]
  },
  {
   "cell_type": "markdown",
   "metadata": {},
   "source": [
    "一个矩阵$A$ ，如果有$a_{ij} = (-)a_{ji}$，那么该矩阵就是对称的（symmetric），负号则为反对称(skew symmetric)。\n",
    "\n",
    "等价的表述如下，对应下面的条件，矩阵 $A$ 就是对称的，如果有括号中的负号，就是反对称的(skew symmetric) \n",
    "\n",
    "$$A = (-)A^T$$"
   ]
  },
  {
   "cell_type": "markdown",
   "metadata": {},
   "source": [
    "#### 上三角阵和下三角阵"
   ]
  },
  {
   "cell_type": "markdown",
   "metadata": {},
   "source": [
    "一个矩阵$A$，如果 对于所有的 $i > j$ 都有$a_{ij} = 0$  ，则 $A$ 是上三角矩阵；\n",
    "\n",
    "如果 对于所有的 $i < j$ 都有$a_{ij} = 0$  ，则 $A$ 是下三角矩阵。"
   ]
  },
  {
   "cell_type": "markdown",
   "metadata": {},
   "source": [
    "#### 正交矩阵和标准正交化（Orthogonal and Orthonormal）"
   ]
  },
  {
   "cell_type": "markdown",
   "metadata": {},
   "source": [
    "如果一个矩阵 $A$ 满足 $$A A^T = I$$，那么该矩阵为*正交（orthogonal）矩阵*\n",
    "\n",
    "换种方式来表述就是，如果有 $$A^T=A^{-1}$$，那么矩阵$A$ 就是正交的。\n",
    "\n",
    "定理: 一个正交矩阵的行和列是标准正交化的向量集。\n"
   ]
  },
  {
   "cell_type": "markdown",
   "metadata": {},
   "source": [
    "#### 正定（Positive Definite）"
   ]
  },
  {
   "cell_type": "markdown",
   "metadata": {},
   "source": [
    "正定矩阵是一类非常重要的矩阵，它们有一些非常理想的特性。\n",
    "对任意的非零的n维向量$u$，如果一个矩阵$A$满足下面条件，则$A$就是正定矩阵。\n",
    "\n",
    "$$u^TA u > 0$$\n",
    "\n",
    "对于一个对称的正定矩阵$A$，有下面的等式：\n",
    "\n",
    "$$A = A^T$$\n",
    "\n",
    "\n",
    "重要定理：\n",
    "\n",
    "* 对称正定矩阵都有一个“平方根”（大概类似这么个概念）\n",
    "* 任意的对称正定矩阵都是*可对角化的diagonizable*!!!\n",
    "* 协方差矩阵（Co-variance matrices）都是对称正定矩阵（symmetric and positive-definite）\n"
   ]
  },
  {
   "cell_type": "markdown",
   "metadata": {},
   "source": [
    "现在就讲完了基本内容了，接下来就可以去学习解方程组的数值方法了，也就是矩阵分解。"
   ]
  },
  {
   "cell_type": "markdown",
   "metadata": {},
   "source": [
    "<font color=red>练习</font>\n",
    "----"
   ]
  },
  {
   "cell_type": "markdown",
   "metadata": {},
   "source": [
    "**1**. *不解方程组*，判断下面的方程组是无解、无穷解还是有唯一解\n",
    "\n",
    "$$\\begin{eqnarray*}\n",
    "x+2y-z+w &=& 2\\\\\n",
    "3x-4y+2 w &=& 3\\\\\n",
    "2y+z &=& 4\\\\\n",
    "2x+2y-3z+2w&=&0\\\\\n",
    "-2x+6y-z-w&=&-1\n",
    "\\end{eqnarray*}$$"
   ]
  },
  {
   "cell_type": "markdown",
   "metadata": {},
   "source": [
    "**2**. 设 $f(x)$是一个线性变换，针对实数域上的 $\\mathbb{R}^3$ 有如下变换：\n",
    "$$\\begin{eqnarray*}\n",
    "f(e_1) &=& (1,1,3)\\\\\n",
    "f(e_2) &=& (1,0,4)\\\\\n",
    "f(e_3) &=& (0,2,1)\n",
    "\\end{eqnarray*}$$\n",
    "\n",
    "* 用一个矩阵来表示 $f$. \n",
    "* 改用下面的基向量，计算一下表示 $f$ 在改变基之后的矩阵表示\n",
    "$$\\begin{eqnarray*}\n",
    "v_1 &=& (2,3,3)\\\\\n",
    "v_2 &=& (8,5,2)\\\\\n",
    "v_3 &=& (1,0,5)\n",
    "\\end{eqnarray*}$$\n"
   ]
  },
  {
   "cell_type": "code",
   "execution_count": null,
   "metadata": {
    "collapsed": true
   },
   "outputs": [],
   "source": []
  }
 ],
 "metadata": {
  "kernelspec": {
   "display_name": "Python 2",
   "language": "python",
   "name": "python2"
  },
  "language_info": {
   "codemirror_mode": {
    "name": "ipython",
    "version": 2
   },
   "file_extension": ".py",
   "mimetype": "text/x-python",
   "name": "python",
   "nbconvert_exporter": "python",
   "pygments_lexer": "ipython2",
   "version": "2.7.10"
  }
 },
 "nbformat": 4,
 "nbformat_minor": 1
}
