{
 "cells": [
  {
   "cell_type": "markdown",
   "metadata": {},
   "source": [
    "### 概述\n",
    "\n",
    "MapReduce 本质上是一个设计模式，用于将多个难以并行化的问题分配给多个处理器，基于`map`和`reduce`的函数式编程。如果原始问题规模太大，难以放进单个电脑的内存，map-reduce 就会非常实用。不像一些并行计算算法，map-reduce 的概念十分简单。"
   ]
  },
  {
   "cell_type": "code",
   "execution_count": 1,
   "metadata": {
    "collapsed": false
   },
   "outputs": [],
   "source": [
    "%matplotlib inline\n",
    "import matplotlib.pyplot as plt\n",
    "import numpy as np"
   ]
  },
  {
   "cell_type": "code",
   "execution_count": 41,
   "metadata": {
    "collapsed": false
   },
   "outputs": [],
   "source": [
    "%precision 4\n",
    "import operator\n",
    "from collections import Counter\n",
    "from multiprocessing import Pool"
   ]
  },
  {
   "cell_type": "markdown",
   "metadata": {},
   "source": [
    "### 回顾`map`、`reduce`和基本的并行处理"
   ]
  },
  {
   "cell_type": "markdown",
   "metadata": {},
   "source": [
    "**字数统计示例**"
   ]
  },
  {
   "cell_type": "code",
   "execution_count": 57,
   "metadata": {
    "collapsed": false
   },
   "outputs": [
    {
     "data": {
      "text/plain": [
       "Counter({'G': 40044, 'T': 29914, 'C': 20070, 'A': 9972})"
      ]
     },
     "execution_count": 57,
     "metadata": {},
     "output_type": "execute_result"
    }
   ],
   "source": [
    "# 这个示例统计文档集中的每个单词\n",
    "# 假设每个文档是 DNA 序列，我们想要统计每个核苷酸 'A', 'C', 'T', G' 的出现频率\n",
    "\n",
    "# make up some data repreensting DNA sequences\n",
    "nseqs= 10\n",
    "seq_length = 10000\n",
    "seqs = [''.join(s) for s in np.random.choice(list('ACTG'), size=(nseqs, seq_length), replace=True, p=[0.1,0.2,0.3,0.4])]\n",
    "\n",
    "# map-reduce 的最基本形式需要一个映射器（mapper）函数\n",
    "# 它处理每个独立的块，并返回汇总结果\n",
    "# 之后是一个归约器（reducer），它组合映射操作的结果\n",
    "\n",
    "# 返回数量字典的 mapper 函数\n",
    "def mapper(seq):\n",
    "    c = Counter(seq)\n",
    "    return c\n",
    "\n",
    "#  合并每个计数对象的相似项的 reducer 函数\n",
    "def reducer(counter1, counter2):\n",
    "    return counter1 + counter2\n",
    "\n",
    "# 将函数映射到序列上\n",
    "counters = map(mapper, seqs)\n",
    "\n",
    "# 归约返回的字典列表\n",
    "counts = reduce(reducer, counters)\n",
    "\n",
    "counts"
   ]
  },
  {
   "cell_type": "code",
   "execution_count": 53,
   "metadata": {
    "collapsed": false
   },
   "outputs": [],
   "source": [
    "# 这可以写成一行\n",
    "counts = reduce(reducer, map(mapper, seqs))"
   ]
  },
  {
   "cell_type": "code",
   "execution_count": 55,
   "metadata": {
    "collapsed": false
   },
   "outputs": [
    {
     "data": {
      "text/plain": [
       "Counter({'G': 40065, 'T': 30029, 'C': 19972, 'A': 9934})"
      ]
     },
     "execution_count": 55,
     "metadata": {},
     "output_type": "execute_result"
    }
   ],
   "source": [
    "# 我们可以使用多处理器来并行计算它\n",
    "pool =  Pool()\n",
    "counts = reduce(reducer, pool.map(mapper, seqs))\n",
    "pool.close()\n",
    "counts"
   ]
  },
  {
   "cell_type": "markdown",
   "metadata": {},
   "source": [
    "**用于计算均值和方差的 map 和 reduce**"
   ]
  },
  {
   "cell_type": "code",
   "execution_count": 62,
   "metadata": {
    "collapsed": false
   },
   "outputs": [
    {
     "data": {
      "text/plain": [
       "(10000, 0.4023, 0.0395)"
      ]
     },
     "execution_count": 62,
     "metadata": {},
     "output_type": "execute_result"
    }
   ],
   "source": [
    "# 以一个更加普通的例子继续\n",
    "# 让我们计算巨大数据样本的均值和方差\n",
    "\n",
    "nrows = 10\n",
    "ncols = 1000\n",
    "a = 2\n",
    "b = 3\n",
    "\n",
    "xs = np.random.beta(a, b, (nrows, ncols))\n",
    "xs.size, xs.mean(), xs.var()"
   ]
  },
  {
   "cell_type": "code",
   "execution_count": 63,
   "metadata": {
    "collapsed": false
   },
   "outputs": [
    {
     "data": {
      "text/plain": [
       "(10000, 0.4023, 0.0395)"
      ]
     },
     "execution_count": 63,
     "metadata": {},
     "output_type": "execute_result"
    }
   ],
   "source": [
    "# 假设我们决定按行分割\n",
    "# 我们需要 mapper 函数来返回每行的大小、均值和方差\n",
    "# 以及 reducer 函数来组合行的汇总\n",
    "\n",
    "def mapper(x):\n",
    "    return len(x), x.mean(), x.var()\n",
    "\n",
    "def reducer(s1, s2):\n",
    "    (n1, m1, v1), (n2, m2, v2) = s1, s2\n",
    "    n = n1 + n2\n",
    "    m = (n1*m1 + n2*m2)/(n1 + n2)\n",
    "    v = (n1*v1 + n2*v2)/ n + ((n1*n2) * ((m2 - m1) / n)**2)\n",
    "    return n, m, v\n",
    "    \n",
    "reduce(reducer, map(mapper, xs))"
   ]
  },
  {
   "cell_type": "code",
   "execution_count": 64,
   "metadata": {
    "collapsed": false
   },
   "outputs": [
    {
     "data": {
      "text/plain": [
       "(10000, 0.4023, 0.0395)"
      ]
     },
     "execution_count": 64,
     "metadata": {},
     "output_type": "execute_result"
    }
   ],
   "source": [
    "# 并行版本\n",
    "pool =  Pool()\n",
    "n, m, v = reduce(reducer, pool.map(mapper, xs))\n",
    "pool.close()\n",
    "n, m, v"
   ]
  },
  {
   "cell_type": "markdown",
   "metadata": {},
   "source": [
    "### 用于多元线性回归、朴素贝叶斯分类和 k-means 聚类的 Map 和 reduce"
   ]
  },
  {
   "cell_type": "code",
   "execution_count": 60,
   "metadata": {
    "collapsed": false
   },
   "outputs": [],
   "source": [
    "# 未完待续"
   ]
  },
  {
   "cell_type": "markdown",
   "metadata": {},
   "source": [
    "### 使用 AWS EMR"
   ]
  },
  {
   "cell_type": "code",
   "execution_count": 61,
   "metadata": {
    "collapsed": false
   },
   "outputs": [],
   "source": [
    "# 未完待续"
   ]
  },
  {
   "cell_type": "code",
   "execution_count": null,
   "metadata": {
    "collapsed": false
   },
   "outputs": [],
   "source": []
  }
 ],
 "metadata": {
  "kernelspec": {
   "display_name": "Python 2",
   "language": "python",
   "name": "python2"
  },
  "language_info": {
   "codemirror_mode": {
    "name": "ipython",
    "version": 2
   },
   "file_extension": ".py",
   "mimetype": "text/x-python",
   "name": "python",
   "nbconvert_exporter": "python",
   "pygments_lexer": "ipython2",
   "version": "2.7.10"
  }
 },
 "nbformat": 4,
 "nbformat_minor": 0
}
