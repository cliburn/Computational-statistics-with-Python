{
 "cells": [
  {
   "cell_type": "code",
   "execution_count": null,
   "metadata": {
    "collapsed": false
   },
   "outputs": [],
   "source": [
    "import os\n",
    "import sys\n",
    "import glob\n",
    "import matplotlib.pyplot as plt\n",
    "import numpy as np\n",
    "import pandas as pd\n",
    "%matplotlib inline\n",
    "%precision 4"
   ]
  },
  {
   "cell_type": "markdown",
   "metadata": {},
   "source": [
    "数据科学是 OSEMN\n",
    "----\n",
    "\n",
    "根据一个流行的模型，数据科学的元素组成如下：\n",
    "\n",
    "- Obtaining data\n",
    "- Scrubbing data\n",
    "- Exploring data\n",
    "- Modeling data\n",
    "- iNterpreting data\n",
    "\n",
    "所以首字母缩写就成了 OSEMN，发音大概类似\"Awesome\"（英文牛X的意思）。\n",
    "\n",
    "本章主要覆盖的是 O 和 S（也就是数据的获取和简单处理）这两部分，在复杂的数据分析工作当中，这部分内容大概占据了你总体工作时间的50-80%。"
   ]
  },
  {
   "cell_type": "markdown",
   "metadata": {},
   "source": [
    "获取数据（Obtaining data）\n",
    "----\n",
    "\n",
    "数据的来源很多，比如临床试验、科学实验、调查工作、网页、计算机模拟等等。存储数据的方法也很多，接下来最开始这一步的挑战就是如何简单地实现读取数据以用于后续的分析。\n"
   ]
  },
  {
   "cell_type": "markdown",
   "metadata": {},
   "source": [
    "### 纯文本文件\n",
    "\n",
    "对于纯文本文件，我们可以用`open` 函数就能打开。这种格式很常见也很灵活，但由于没有什么高级结构，所以可能就需要构建处理方法来提取其中的信息。"
   ]
  },
  {
   "cell_type": "markdown",
   "metadata": {},
   "source": [
    "**样例 1**: 假如我们要查找在《爱丽丝奇境漫游》这本书中， alic 和 drink 这两个词同时出现在一句话中的次数。"
   ]
  },
  {
   "cell_type": "code",
   "execution_count": 35,
   "metadata": {
    "collapsed": false
   },
   "outputs": [],
   "source": [
    "# 首先要从古登堡计划网站来下载这本书\n",
    "\n",
    "import os\n",
    "if not os.path.exists('alice.txt'):\n",
    "    ! wget http://www.gutenberg.org/cache/epub/11/pg11.txt -O alice.txt"
   ]
  },
  {
   "cell_type": "code",
   "execution_count": 3,
   "metadata": {
    "collapsed": false
   },
   "outputs": [],
   "source": [
    "# 然后把这本书读取到内存中，删除其中的空白行，并且全部转换为小写字母\n",
    "alice = open('alice.txt', 'r').read().replace('\\r\\n', '').lower()"
   ]
  },
  {
   "cell_type": "code",
   "execution_count": 4,
   "metadata": {
    "collapsed": false
   },
   "outputs": [],
   "source": [
    "# 切分成一个个句子\n",
    "# 这里就简单假设每个句子的结尾都可能是 '.', '?' 或者'!'\n",
    "import re\n",
    "\n",
    "stop_pattern = '\\.|\\?|\\!'\n",
    "sentences = re.split(stop_pattern, alice)"
   ]
  },
  {
   "cell_type": "code",
   "execution_count": 5,
   "metadata": {
    "collapsed": false
   },
   "outputs": [
    {
     "name": "stdout",
     "output_type": "stream",
     "text": [
      "\n",
      "66 there seemed to be no use in waiting by the little door, so she wentback to the table, half hoping she might find another key on it, or atany rate a book of rules for shutting people up like telescopes: thistime she found a little bottle on it, ('which certainly was not herebefore,' said alice,) and round the neck of the bottle was a paperlabel, with the words 'drink me' beautifully printed on it in largeletters \n",
      "\n",
      "67 it was all very well to say 'drink me,' but the wise little alice wasnot going to do that in a hurry \n",
      "\n",
      "469  alice looked all round her atthe flowers and the blades of grass, but she did not see anything thatlooked like the right thing to eat or drink under the circumstances \n",
      "\n",
      "882 ' said alice, who always took a great interest inquestions of eating and drinking \n",
      "\n"
     ]
    }
   ],
   "source": [
    "# 找到同时包含'alice'和'drink'的句子\n",
    "\n",
    "print\n",
    "\n",
    "for i, sentence in enumerate(sentences):\n",
    "    if 'alice' in sentence and 'drink' in sentence:\n",
    "        print i, sentence, '\\n'"
   ]
  },
  {
   "cell_type": "markdown",
   "metadata": {},
   "source": [
    "### 带分隔符的文件（Delimited files）\n",
    "\n",
    "纯文本其实也可以增加一种分割结构——一般就成了一个有行和列的表格，其中的每一列都是用同一种分隔符来分开的，通常就是逗号（csv文件）或者制表符tab。这种文件中可能会有额外的备注或者一个标题行，也可能没有。"
   ]
  },
  {
   "cell_type": "code",
   "execution_count": 6,
   "metadata": {
    "collapsed": false
   },
   "outputs": [
    {
     "name": "stdout",
     "output_type": "stream",
     "text": [
      "Overwriting example.csv\n"
     ]
    }
   ],
   "source": [
    "%%file example.csv\n",
    "# 这是一个备注\n",
    "# 这是另一个备注\n",
    "alice,60,1.56\n",
    "bob,72,1.75\n",
    "david,84,1.82"
   ]
  },
  {
   "cell_type": "code",
   "execution_count": 7,
   "metadata": {
    "collapsed": false
   },
   "outputs": [
    {
     "name": "stdout",
     "output_type": "stream",
     "text": [
      "BMI of alice = 24.65\n",
      "BMI of bob = 23.51\n",
      "BMI of david = 25.36\n"
     ]
    }
   ],
   "source": [
    "# 逐行读取解译\n",
    "import csv\n",
    "\n",
    "with open('example.csv') as f:\n",
    "    # 使用一个生成器表达式（generator expression）来删除全部备注\n",
    "    for line in csv.reader(row for row in f if not row.startswith('#')):\n",
    "        name, wt, ht = line\n",
    "        wt, ht = map(float, (wt, ht))\n",
    "        print 'BMI of %s = %.2f' % (name, wt/(ht*ht))"
   ]
  },
  {
   "cell_type": "code",
   "execution_count": 8,
   "metadata": {
    "collapsed": false
   },
   "outputs": [
    {
     "data": {
      "text/html": [
       "<div style=\"max-height:1000px;max-width:1500px;overflow:auto;\">\n",
       "<table border=\"1\" class=\"dataframe\">\n",
       "  <thead>\n",
       "    <tr style=\"text-align: right;\">\n",
       "      <th></th>\n",
       "      <th>name</th>\n",
       "      <th>wt</th>\n",
       "      <th>ht</th>\n",
       "      <th>bmi</th>\n",
       "    </tr>\n",
       "  </thead>\n",
       "  <tbody>\n",
       "    <tr>\n",
       "      <th>0</th>\n",
       "      <td> alice</td>\n",
       "      <td> 60</td>\n",
       "      <td> 1.56</td>\n",
       "      <td> 24.654832</td>\n",
       "    </tr>\n",
       "    <tr>\n",
       "      <th>1</th>\n",
       "      <td>   bob</td>\n",
       "      <td> 72</td>\n",
       "      <td> 1.75</td>\n",
       "      <td> 23.510204</td>\n",
       "    </tr>\n",
       "    <tr>\n",
       "      <th>2</th>\n",
       "      <td> david</td>\n",
       "      <td> 84</td>\n",
       "      <td> 1.82</td>\n",
       "      <td> 25.359256</td>\n",
       "    </tr>\n",
       "  </tbody>\n",
       "</table>\n",
       "</div>"
      ],
      "text/plain": [
       "    name  wt    ht        bmi\n",
       "0  alice  60  1.56  24.654832\n",
       "1    bob  72  1.75  23.510204\n",
       "2  david  84  1.82  25.359256"
      ]
     },
     "execution_count": 8,
     "metadata": {},
     "output_type": "execute_result"
    }
   ],
   "source": [
    "# 把CSV文件读取成一个 Pandas 的 Dataframe 通常是最方便的选择\n",
    "\n",
    "import pandas as pd\n",
    "\n",
    "df = pd.read_csv('example.csv', comment='#', header=None)\n",
    "df.columns = ['name', 'wt', 'ht']\n",
    "df['bmi'] = df['wt']/(df['ht']*df['ht'])\n",
    "df"
   ]
  },
  {
   "cell_type": "markdown",
   "metadata": {},
   "source": [
    "### JSON 文件\n",
    "\n",
    "JSON 是对 JavaScript Object Notation 的缩写- 这个格式在基于网络的资源分享中广泛使用。其结构与Python 网状多层字典非常相似。下面是一个样例，来自http://json.org/example"
   ]
  },
  {
   "cell_type": "code",
   "execution_count": 9,
   "metadata": {
    "collapsed": false
   },
   "outputs": [
    {
     "name": "stdout",
     "output_type": "stream",
     "text": [
      "Overwriting example.json\n"
     ]
    }
   ],
   "source": [
    "%%file example.json\n",
    "{\n",
    "    \"glossary\": {\n",
    "        \"title\": \"example glossary\",\n",
    "\t\t\"GlossDiv\": {\n",
    "            \"title\": \"S\",\n",
    "\t\t\t\"GlossList\": {\n",
    "                \"GlossEntry\": {\n",
    "                    \"ID\": \"SGML\",\n",
    "\t\t\t\t\t\"SortAs\": \"SGML\",\n",
    "\t\t\t\t\t\"GlossTerm\": \"Standard Generalized Markup Language\",\n",
    "\t\t\t\t\t\"Acronym\": \"SGML\",\n",
    "\t\t\t\t\t\"Abbrev\": \"ISO 8879:1986\",\n",
    "\t\t\t\t\t\"GlossDef\": {\n",
    "                        \"para\": \"A meta-markup language, used to create markup languages such as DocBook.\",\n",
    "\t\t\t\t\t\t\"GlossSeeAlso\": [\"GML\", \"XML\"]\n",
    "                    },\n",
    "\t\t\t\t\t\"GlossSee\": \"markup\"\n",
    "                }\n",
    "            }\n",
    "        }\n",
    "    }\n",
    "}"
   ]
  },
  {
   "cell_type": "code",
   "execution_count": 10,
   "metadata": {
    "collapsed": false
   },
   "outputs": [],
   "source": [
    "import json\n",
    "data = json.load(open('example.json'))"
   ]
  },
  {
   "cell_type": "code",
   "execution_count": 11,
   "metadata": {
    "collapsed": false
   },
   "outputs": [
    {
     "data": {
      "text/plain": [
       "{u'glossary': {u'GlossDiv': {u'GlossList': {u'GlossEntry': {u'Abbrev': u'ISO 8879:1986',\n",
       "     u'Acronym': u'SGML',\n",
       "     u'GlossDef': {u'GlossSeeAlso': [u'GML', u'XML'],\n",
       "      u'para': u'A meta-markup language, used to create markup languages such as DocBook.'},\n",
       "     u'GlossSee': u'markup',\n",
       "     u'GlossTerm': u'Standard Generalized Markup Language',\n",
       "     u'ID': u'SGML',\n",
       "     u'SortAs': u'SGML'}},\n",
       "   u'title': u'S'},\n",
       "  u'title': u'example glossary'}}"
      ]
     },
     "execution_count": 11,
     "metadata": {},
     "output_type": "execute_result"
    }
   ],
   "source": [
    "# data 现在就成了一个 网状的 Python 字典\n",
    "data"
   ]
  },
  {
   "cell_type": "code",
   "execution_count": 12,
   "metadata": {
    "collapsed": false
   },
   "outputs": [
    {
     "data": {
      "text/plain": [
       "{u'GlossEntry': {u'Abbrev': u'ISO 8879:1986',\n",
       "  u'Acronym': u'SGML',\n",
       "  u'GlossDef': {u'GlossSeeAlso': [u'GML', u'XML'],\n",
       "   u'para': u'A meta-markup language, used to create markup languages such as DocBook.'},\n",
       "  u'GlossSee': u'markup',\n",
       "  u'GlossTerm': u'Standard Generalized Markup Language',\n",
       "  u'ID': u'SGML',\n",
       "  u'SortAs': u'SGML'}}"
      ]
     },
     "execution_count": 12,
     "metadata": {},
     "output_type": "execute_result"
    }
   ],
   "source": [
    "# 然后也就可以用标准的键检索来进行解读\n",
    "data['glossary']['GlossDiv']['GlossList']"
   ]
  },
  {
   "cell_type": "markdown",
   "metadata": {},
   "source": [
    "### 网页抓取\n",
    "\n",
    "有时候可能要从网页上面抓取数据，但网页可能不一定给了这类的 API。所以这时候，就要求助于*网页抓取web scraping*"
   ]
  },
  {
   "cell_type": "code",
   "execution_count": 13,
   "metadata": {
    "collapsed": false
   },
   "outputs": [
    {
     "name": "stdout",
     "output_type": "stream",
     "text": [
      "New Scrapy project 'dmoz' created in:\r\n",
      "    /Users/cliburn/git/sta-633/Lectures/Lecture03/dmoz\r\n",
      "\r\n",
      "You can start your first spider with:\r\n",
      "    cd dmoz\r\n",
      "    scrapy genspider example example.com\r\n"
     ]
    }
   ],
   "source": [
    "if not os.path.exists('dmoz'):\n",
    "    ! scrapy startproject dmoz"
   ]
  },
  {
   "cell_type": "code",
   "execution_count": 14,
   "metadata": {
    "collapsed": false
   },
   "outputs": [
    {
     "name": "stdout",
     "output_type": "stream",
     "text": [
      "Overwriting dmoz/dmoz/items.py\n"
     ]
    }
   ],
   "source": [
    "%%file dmoz/dmoz/items.py\n",
    "import scrapy\n",
    "\n",
    "class DmozItem(scrapy.Item):\n",
    "    title = scrapy.Field()\n",
    "    link = scrapy.Field()\n",
    "    desc = scrapy.Field()"
   ]
  },
  {
   "cell_type": "code",
   "execution_count": 15,
   "metadata": {
    "collapsed": false
   },
   "outputs": [
    {
     "name": "stdout",
     "output_type": "stream",
     "text": [
      "Writing dmoz/dmoz/spiders/dmoz_spider.py\n"
     ]
    }
   ],
   "source": [
    "%%file dmoz/dmoz/spiders/dmoz_spider.py\n",
    "import scrapy\n",
    "\n",
    "from dmoz.items import DmozItem\n",
    "\n",
    "class DmozSpider(scrapy.Spider):\n",
    "    name = \"dmoz\"\n",
    "    allowed_domains = [\"dmoz.org\"]\n",
    "    start_urls = [\n",
    "        \"http://www.dmoz.org/Computers/Programming/Languages/Python/Books/\",\n",
    "        \"http://www.dmoz.org/Computers/Programming/Languages/Python/Resources/\"\n",
    "    ]\n",
    "\n",
    "    def parse(self, response):\n",
    "        for sel in response.xpath('//ul/li'):\n",
    "            item = DmozItem()\n",
    "            item['title'] = sel.xpath('a/text()').extract()\n",
    "            item['link'] = sel.xpath('a/@href').extract()\n",
    "            item['desc'] = sel.xpath('text()').extract()\n",
    "            yield item"
   ]
  },
  {
   "cell_type": "code",
   "execution_count": 16,
   "metadata": {
    "collapsed": false
   },
   "outputs": [],
   "source": [
    "%%bash\n",
    "cd dmoz\n",
    "scrapy crawl dmoz --nolog -o scraped_data.json"
   ]
  },
  {
   "cell_type": "code",
   "execution_count": 17,
   "metadata": {
    "collapsed": false
   },
   "outputs": [
    {
     "name": "stdout",
     "output_type": "stream",
     "text": [
      "eff-bot's Daily Python URL: http://www.pythonware.com/daily/\n",
      "Free Python and Zope Hosting Directory: http://www.oinko.net/freepython/\n",
      "O'Reilly Python Center: http://oreilly.com/python/\n",
      "Python Developer's Guide: https://www.python.org/dev/\n",
      "Social Bug: http://win32com.goermezer.de/\n",
      "Core Python Programming: http://www.pearsonhighered.com/educator/academic/product/0,,0130260363,00%2Ben-USS_01DBC.html\n",
      "Data Structures and Algorithms with Object-Oriented Design Patterns in Python: http://www.brpreiss.com/books/opus7/html/book.html\n",
      "Dive Into Python 3: http://www.diveintopython.net/\n",
      "Foundations of Python Network Programming: http://rhodesmill.org/brandon/2011/foundations-of-python-network-programming/\n",
      "Free Python books: http://www.techbooksforfree.com/perlpython.shtml\n",
      "FreeTechBooks: Python Scripting Language: http://www.freetechbooks.com/python-f6.html\n",
      "How to Think Like a Computer Scientist: Learning with Python: http://greenteapress.com/thinkpython/\n",
      "An Introduction to Python: http://www.network-theory.co.uk/python/intro/\n",
      "Learn to Program Using Python: http://www.freenetpages.co.uk/hp/alan.gauld/\n",
      "Making Use of Python: http://www.wiley.com/WileyCDA/WileyTitle/productCd-0471219754.html\n",
      "Practical Python: http://hetland.org/writing/practical-python/\n",
      "Pro Python System Administration: http://sysadminpy.com/\n",
      "Programming in Python 3 (Second Edition): http://www.qtrac.eu/py3book.html\n",
      "Python 2.1 Bible: http://www.wiley.com/WileyCDA/WileyTitle/productCd-0764548077.html\n",
      "Python 3 Object Oriented Programming: https://www.packtpub.com/python-3-object-oriented-programming/book\n",
      "Python Language Reference Manual: http://www.network-theory.co.uk/python/language/\n",
      "Python Programming Patterns: http://www.pearsonhighered.com/educator/academic/product/0,,0130409561,00%2Ben-USS_01DBC.html\n",
      "Python Programming with the Java Class Libraries: A Tutorial for Building Web and Enterprise Applications with Jython: http://www.informit.com/store/product.aspx?isbn=0201616165&redir=1\n",
      "Python: Visual QuickStart Guide: http://www.pearsonhighered.com/educator/academic/product/0,,0201748843,00%2Ben-USS_01DBC.html\n",
      "Sams Teach Yourself Python in 24 Hours: http://www.informit.com/store/product.aspx?isbn=0672317354\n",
      "Text Processing in Python: http://gnosis.cx/TPiP/\n",
      "XML Processing with Python: http://www.informit.com/store/product.aspx?isbn=0130211192\n"
     ]
    }
   ],
   "source": [
    "dmoz = json.load(open('dmoz/scraped_data.json'))\n",
    "for item in dmoz:\n",
    "    if item['title'] and item['link']:\n",
    "        if item['link'][0].startswith('http'):\n",
    "            print '%s: %s' % (item['title'][0], item['link'][0])"
   ]
  },
  {
   "cell_type": "markdown",
   "metadata": {},
   "source": [
    "### HDF5\n",
    "\n",
    "HDF5 是一种层次化的格式（hierarchical format），经常用于存储复杂的科学数据。例如 MATLAB 就是用这个格式来存储数据。在存储带有关联的元数据（metadata）的复杂层次化数据的时候，这个格式非常有用，例如计算机模拟实验的运算结果等等。\n",
    "\n",
    "与HDF5 相关的主要概念有以下几个：\n",
    "\n",
    "- 文件 file: 层次化数据的容器，相当于树根（'root' for tree）\n",
    "- 组 group: 树的一个节点（node for a tree）\n",
    "- 数据集 dataset: 数值数据的数组，可以非常非常大\n",
    "- 属性 attribute: 提供额外信息的小块的元数据"
   ]
  },
  {
   "cell_type": "code",
   "execution_count": 37,
   "metadata": {
    "collapsed": false
   },
   "outputs": [],
   "source": [
    "import h5py\n",
    "import numpy as np"
   ]
  },
  {
   "cell_type": "code",
   "execution_count": 38,
   "metadata": {
    "collapsed": false
   },
   "outputs": [],
   "source": [
    "# 创建一个 HDF5 文件\n",
    "import datetime\n",
    "\n",
    "if not os.path.exists('example.hdf5'):\n",
    "\n",
    "    with h5py.File('example.hdf5') as f:\n",
    "        project = f.create_group('project')\n",
    "        project.attrs.create('name', 'My project')\n",
    "        project.attrs.create('date', str(datetime.date.today()))\n",
    "\n",
    "        expt1 = project.create_group('expt1')\n",
    "        expt2 = project.create_group('expt2')\n",
    "        expt1.create_dataset('counts', (100,), dtype='i')\n",
    "        expt2.create_dataset('values', (1000,), dtype='f')\n",
    "\n",
    "        expt1['counts'][:] = range(100)\n",
    "        expt2['values'][:] = np.random.random(1000)"
   ]
  },
  {
   "cell_type": "code",
   "execution_count": 21,
   "metadata": {
    "collapsed": false
   },
   "outputs": [
    {
     "name": "stdout",
     "output_type": "stream",
     "text": [
      "My project\n",
      "2014-12-14\n",
      "[0 1 2 3 4 5 6 7 8 9]\n",
      "[ 0.32014543  0.11704984  0.65187019  0.14567013  0.46451932  0.09365281\n",
      "  0.47499692  0.90406698  0.40982306  0.48287627]\n"
     ]
    }
   ],
   "source": [
    "with h5py.File('example.hdf5') as f:\n",
    "    project = f['project']\n",
    "    print project.attrs['name']\n",
    "    print project.attrs['date']\n",
    "    print project['expt1']['counts'][:10]\n",
    "    print project['expt2']['values'][:10]"
   ]
  },
  {
   "cell_type": "markdown",
   "metadata": {},
   "source": [
    "### 关系型数据库\n",
    "\n",
    "关系型数据库（Relational databases）是由各种表组成的，每一行都有一个列组成的元组。每一行都有一个唯一的 *主键 primary key*, 而各个表示的链接则通过 *外键？foreign keys*.\n",
    "\n",
    "我们将通过在[Chinook database](http://chinookdatabase.codeplex.com/)中查询来展示一下这些表的概念。 From the online description, \"The Chinook data model represents a digital media store, including tables for artists, albums, media tracks, invoices and customers.\"\n",
    "\n",
    "其在线描述中说： \"The Chinook data model represents a digital media store, including tables for artists, albums, media tracks, invoices and customers.\"意思大概是他们这个数据模型表示了一种数据存储方式，包括了艺术家、专辑、媒体追踪、票劵和顾客等等的数据。"
   ]
  },
  {
   "cell_type": "code",
   "execution_count": 22,
   "metadata": {
    "collapsed": false
   },
   "outputs": [
    {
     "data": {
      "text/html": [
       "<img src=\"http://lh4.ggpht.com/_oKo6zFhdD98/SWFPtyfHJFI/AAAAAAAAAMc/GdrlzeBNsZM/s800/ChinookDatabaseSchema1.1.png\"/>"
      ],
      "text/plain": [
       "<IPython.core.display.Image at 0x1112bbe50>"
      ]
     },
     "execution_count": 22,
     "metadata": {},
     "output_type": "execute_result"
    }
   ],
   "source": [
    "from IPython.display import Image\n",
    "\n",
    "Image(url='http://lh4.ggpht.com/_oKo6zFhdD98/SWFPtyfHJFI/AAAAAAAAAMc/GdrlzeBNsZM/s800/ChinookDatabaseSchema1.1.png')"
   ]
  },
  {
   "cell_type": "code",
   "execution_count": 23,
   "metadata": {
    "collapsed": false
   },
   "outputs": [],
   "source": [
    "import sqlite3\n",
    "\n",
    "# 首先是连接到数据库，然后等出现了那个提示符，就可以执行命令了\n",
    "conn = sqlite3.connect('Chinook.db')\n",
    "cr = conn.cursor()"
   ]
  },
  {
   "cell_type": "code",
   "execution_count": 24,
   "metadata": {
    "collapsed": false
   },
   "outputs": [
    {
     "name": "stdout",
     "output_type": "stream",
     "text": [
      "[(u'Album',), (u'Artist',), (u'Customer',), (u'Employee',), (u'Genre',), (u'Invoice',), (u'InvoiceLine',), (u'MediaType',), (u'Playlist',), (u'PlaylistTrack',), (u'Track',)]\n"
     ]
    }
   ],
   "source": [
    "# 数据库中的表都是什么？\n",
    "cr.execute(\"select name from sqlite_master where type = 'table';\")\n",
    "print cr.fetchall()"
   ]
  },
  {
   "cell_type": "code",
   "execution_count": 25,
   "metadata": {
    "collapsed": false
   },
   "outputs": [
    {
     "name": "stdout",
     "output_type": "stream",
     "text": [
      "CREATE TABLE [Album]\n",
      "(\n",
      "    [AlbumId] INTEGER  NOT NULL,\n",
      "    [Title] NVARCHAR(160)  NOT NULL,\n",
      "    [ArtistId] INTEGER  NOT NULL,\n",
      "    CONSTRAINT [PK_Album] PRIMARY KEY  ([AlbumId]),\n",
      "    FOREIGN KEY ([ArtistId]) REFERENCES [Artist] ([ArtistId]) \n",
      "\t\tON DELETE NO ACTION ON UPDATE NO ACTION\n",
      ")\n"
     ]
    }
   ],
   "source": [
    "# 专辑表 Album 的结构如何？\n",
    "cr.execute(\"select sql from sqlite_master where type = 'table' and name = 'Album';\" )\n",
    "print cr.fetchone()[0]"
   ]
  },
  {
   "cell_type": "code",
   "execution_count": 26,
   "metadata": {
    "collapsed": false
   },
   "outputs": [
    {
     "name": "stdout",
     "output_type": "stream",
     "text": [
      "CREATE TABLE [Artist]\n",
      "(\n",
      "    [ArtistId] INTEGER  NOT NULL,\n",
      "    [Name] NVARCHAR(120),\n",
      "    CONSTRAINT [PK_Artist] PRIMARY KEY  ([ArtistId])\n",
      ")\n"
     ]
    }
   ],
   "source": [
    "# 再看看艺术家表 Artist \n",
    "cr.execute(\"select sql from sqlite_master where type = 'table' and name = 'Artist';\" )\n",
    "print cr.fetchone()[0]"
   ]
  },
  {
   "cell_type": "code",
   "execution_count": 27,
   "metadata": {
    "collapsed": false
   },
   "outputs": [
    {
     "data": {
      "text/plain": [
       "[(1, u'For Those About To Rock We Salute You', 1),\n",
       " (2, u'Balls to the Wall', 2),\n",
       " (3, u'Restless and Wild', 2),\n",
       " (4, u'Let There Be Rock', 1),\n",
       " (5, u'Big Ones', 3),\n",
       " (6, u'Jagged Little Pill', 4)]"
      ]
     },
     "execution_count": 27,
     "metadata": {},
     "output_type": "execute_result"
    }
   ],
   "source": [
    "# 列出一些元素项目\n",
    "cr.execute(\"select * from Album limit 6\")\n",
    "cr.fetchall()"
   ]
  },
  {
   "cell_type": "code",
   "execution_count": 28,
   "metadata": {
    "collapsed": false
   },
   "outputs": [
    {
     "data": {
      "text/plain": [
       "[(u'Aerosmith',)]"
      ]
     },
     "execution_count": 28,
     "metadata": {},
     "output_type": "execute_result"
    }
   ],
   "source": [
    "# 找出演唱过专辑'Big Ones'的艺术家\n",
    "cmd = \"\"\"\n",
    "select Artist.Name from Artist, Album \n",
    "where Artist.ArtistId = Album.ArtistId\n",
    "and Album.Title = 'Big Ones';\n",
    "\"\"\"\n",
    "cr.execute(cmd)\n",
    "cr.fetchall()"
   ]
  },
  {
   "cell_type": "code",
   "execution_count": 29,
   "metadata": {
    "collapsed": false
   },
   "outputs": [],
   "source": [
    "# 关闭掉数据库，收尾结束\n",
    "cr.close()\n",
    "conn.close()"
   ]
  },
  {
   "cell_type": "markdown",
   "metadata": {},
   "source": [
    "整理数据\n",
    "----\n",
    "\n",
    "数据的整理（Scrubbing data）值得是对要分析的数据进行的预处理步骤。其中可能涉及到删除某些行或者列，处理确实数据，解决数据输入错误导致的不一致，转换日期格式，生成衍生变量，将不同来源的数据进行整合，等等。然而人生就是这么的悲伤，并没有一个单独的方法能够满足所有这些可能需要的数据预处理需求；不过呢，熟练使用Python 和一些下文即将展示的包，也能搞定其中大部分了。\n",
    "\n",
    "想要了解现实世界中需要进行的工作量，可以参考[Bureau of Labor Statistics (US Government)](http://okfnlabs.org/bad-data/ex/bls-us-employment/)里面的样例。\n",
    "\n",
    "下文我们讲的主要是一些比较简单的数据，其中的清理工作可以通过`pandas`就能完成。"
   ]
  },
  {
   "cell_type": "code",
   "execution_count": 30,
   "metadata": {
    "collapsed": false
   },
   "outputs": [
    {
     "name": "stdout",
     "output_type": "stream",
     "text": [
      "Overwriting bad_data.csv\n"
     ]
    }
   ],
   "source": [
    "%%file bad_data.csv\n",
    "# 这是一行备注\n",
    "# 这是另外一行备注\n",
    "name,gender,weight,height\n",
    "alice,f,60,1.56\n",
    "bob,m,72,1.75\n",
    "charles,m,,91\n",
    "david,m,84,1.82\n",
    "edgar,m,1.77,93\n",
    "fanny,f,45,1.45"
   ]
  },
  {
   "cell_type": "code",
   "execution_count": 31,
   "metadata": {
    "collapsed": false
   },
   "outputs": [],
   "source": [
    "# 加入我们要在上面的这个数据集中找出平均的体重指数Body Mass Index (BMI) \n",
    "\n",
    "import pandas as pd\n",
    "\n",
    "df = pd.read_csv('bad_data.csv', comment='#')"
   ]
  },
  {
   "cell_type": "code",
   "execution_count": 32,
   "metadata": {
    "collapsed": false
   },
   "outputs": [
    {
     "data": {
      "text/html": [
       "<div style=\"max-height:1000px;max-width:1500px;overflow:auto;\">\n",
       "<table border=\"1\" class=\"dataframe\">\n",
       "  <thead>\n",
       "    <tr style=\"text-align: right;\">\n",
       "      <th></th>\n",
       "      <th>weight</th>\n",
       "      <th>height</th>\n",
       "    </tr>\n",
       "  </thead>\n",
       "  <tbody>\n",
       "    <tr>\n",
       "      <th>count</th>\n",
       "      <td>  5.000000</td>\n",
       "      <td>  6.000000</td>\n",
       "    </tr>\n",
       "    <tr>\n",
       "      <th>mean</th>\n",
       "      <td> 52.554000</td>\n",
       "      <td> 31.763333</td>\n",
       "    </tr>\n",
       "    <tr>\n",
       "      <th>std</th>\n",
       "      <td> 31.853251</td>\n",
       "      <td> 46.663594</td>\n",
       "    </tr>\n",
       "    <tr>\n",
       "      <th>min</th>\n",
       "      <td>  1.770000</td>\n",
       "      <td>  1.450000</td>\n",
       "    </tr>\n",
       "    <tr>\n",
       "      <th>25%</th>\n",
       "      <td> 45.000000</td>\n",
       "      <td>  1.607500</td>\n",
       "    </tr>\n",
       "    <tr>\n",
       "      <th>50%</th>\n",
       "      <td> 60.000000</td>\n",
       "      <td>  1.785000</td>\n",
       "    </tr>\n",
       "    <tr>\n",
       "      <th>75%</th>\n",
       "      <td> 72.000000</td>\n",
       "      <td> 68.705000</td>\n",
       "    </tr>\n",
       "    <tr>\n",
       "      <th>max</th>\n",
       "      <td> 84.000000</td>\n",
       "      <td> 93.000000</td>\n",
       "    </tr>\n",
       "  </tbody>\n",
       "</table>\n",
       "</div>"
      ],
      "text/plain": [
       "          weight     height\n",
       "count   5.000000   6.000000\n",
       "mean   52.554000  31.763333\n",
       "std    31.853251  46.663594\n",
       "min     1.770000   1.450000\n",
       "25%    45.000000   1.607500\n",
       "50%    60.000000   1.785000\n",
       "75%    72.000000  68.705000\n",
       "max    84.000000  93.000000"
      ]
     },
     "execution_count": 32,
     "metadata": {},
     "output_type": "execute_result"
    }
   ],
   "source": [
    "df.describe()"
   ]
  },
  {
   "cell_type": "markdown",
   "metadata": {},
   "source": [
    "有点不对劲是不是- 平均身高居然是31米！扯淡嘞~"
   ]
  },
  {
   "cell_type": "code",
   "execution_count": 50,
   "metadata": {
    "collapsed": false
   },
   "outputs": [
    {
     "data": {
      "image/png": "[encoded data removed]",
      "text/plain": [
       "<matplotlib.figure.Figure at 0x113ce27d0>"
      ]
     },
     "metadata": {},
     "output_type": "display_data"
    }
   ],
   "source": [
    "# 把体重和身高投图来看一看\n",
    "plt.boxplot([df.weight, df.height]),;"
   ]
  },
  {
   "cell_type": "code",
   "execution_count": 52,
   "metadata": {
    "collapsed": false
   },
   "outputs": [
    {
     "data": {
      "text/html": [
       "<div style=\"max-height:1000px;max-width:1500px;overflow:auto;\">\n",
       "<table border=\"1\" class=\"dataframe\">\n",
       "  <thead>\n",
       "    <tr style=\"text-align: right;\">\n",
       "      <th></th>\n",
       "      <th>name</th>\n",
       "      <th>gender</th>\n",
       "      <th>weight</th>\n",
       "      <th>height</th>\n",
       "    </tr>\n",
       "  </thead>\n",
       "  <tbody>\n",
       "    <tr>\n",
       "      <th>2</th>\n",
       "      <td> charles</td>\n",
       "      <td> m</td>\n",
       "      <td>  NaN</td>\n",
       "      <td> 91</td>\n",
       "    </tr>\n",
       "    <tr>\n",
       "      <th>4</th>\n",
       "      <td>   edgar</td>\n",
       "      <td> m</td>\n",
       "      <td> 1.77</td>\n",
       "      <td> 93</td>\n",
       "    </tr>\n",
       "  </tbody>\n",
       "</table>\n",
       "</div>"
      ],
      "text/plain": [
       "      name gender  weight  height\n",
       "2  charles      m     NaN      91\n",
       "4    edgar      m    1.77      93"
      ]
     },
     "execution_count": 52,
     "metadata": {},
     "output_type": "execute_result"
    }
   ],
   "source": [
    "df[df.height > 2]"
   ]
  },
  {
   "cell_type": "code",
   "execution_count": 60,
   "metadata": {
    "collapsed": false
   },
   "outputs": [
    {
     "data": {
      "text/html": [
       "<div style=\"max-height:1000px;max-width:1500px;overflow:auto;\">\n",
       "<table border=\"1\" class=\"dataframe\">\n",
       "  <thead>\n",
       "    <tr style=\"text-align: right;\">\n",
       "      <th></th>\n",
       "      <th>name</th>\n",
       "      <th>gender</th>\n",
       "      <th>weight</th>\n",
       "      <th>height</th>\n",
       "    </tr>\n",
       "  </thead>\n",
       "  <tbody>\n",
       "  </tbody>\n",
       "</table>\n",
       "</div>"
      ],
      "text/plain": [
       "Empty DataFrame\n",
       "Columns: [name, gender, weight, height]\n",
       "Index: []"
      ]
     },
     "execution_count": 60,
     "metadata": {},
     "output_type": "execute_result"
    }
   ],
   "source": [
    "# 很明显了，体重和身高应该是弄反了\n",
    "# 那就交换回来\n",
    "idx = df.height > 2\n",
    "df.ix[idx, 'height'], df.ix[idx, 'weight'] = df.ix[idx, 'weight'], df.ix[idx, 'height']\n",
    "df[df.height > 2]"
   ]
  },
  {
   "cell_type": "code",
   "execution_count": 57,
   "metadata": {
    "collapsed": false
   },
   "outputs": [
    {
     "data": {
      "text/html": [
       "<div style=\"max-height:1000px;max-width:1500px;overflow:auto;\">\n",
       "<table border=\"1\" class=\"dataframe\">\n",
       "  <thead>\n",
       "    <tr style=\"text-align: right;\">\n",
       "      <th></th>\n",
       "      <th>name</th>\n",
       "      <th>gender</th>\n",
       "      <th>weight</th>\n",
       "      <th>height</th>\n",
       "    </tr>\n",
       "  </thead>\n",
       "  <tbody>\n",
       "    <tr>\n",
       "      <th>0</th>\n",
       "      <td>   alice</td>\n",
       "      <td> f</td>\n",
       "      <td> 60</td>\n",
       "      <td> 1.56</td>\n",
       "    </tr>\n",
       "    <tr>\n",
       "      <th>1</th>\n",
       "      <td>     bob</td>\n",
       "      <td> m</td>\n",
       "      <td> 72</td>\n",
       "      <td> 1.75</td>\n",
       "    </tr>\n",
       "    <tr>\n",
       "      <th>2</th>\n",
       "      <td> charles</td>\n",
       "      <td> m</td>\n",
       "      <td> 91</td>\n",
       "      <td>  NaN</td>\n",
       "    </tr>\n",
       "    <tr>\n",
       "      <th>3</th>\n",
       "      <td>   david</td>\n",
       "      <td> m</td>\n",
       "      <td> 84</td>\n",
       "      <td> 1.82</td>\n",
       "    </tr>\n",
       "    <tr>\n",
       "      <th>4</th>\n",
       "      <td>   edgar</td>\n",
       "      <td> m</td>\n",
       "      <td> 93</td>\n",
       "      <td> 1.77</td>\n",
       "    </tr>\n",
       "    <tr>\n",
       "      <th>5</th>\n",
       "      <td>   fanny</td>\n",
       "      <td> f</td>\n",
       "      <td> 45</td>\n",
       "      <td> 1.45</td>\n",
       "    </tr>\n",
       "  </tbody>\n",
       "</table>\n",
       "</div>"
      ],
      "text/plain": [
       "      name gender  weight  height\n",
       "0    alice      f      60    1.56\n",
       "1      bob      m      72    1.75\n",
       "2  charles      m      91     NaN\n",
       "3    david      m      84    1.82\n",
       "4    edgar      m      93    1.77\n",
       "5    fanny      f      45    1.45"
      ]
     },
     "execution_count": 57,
     "metadata": {},
     "output_type": "execute_result"
    }
   ],
   "source": [
    "df"
   ]
  },
  {
   "cell_type": "code",
   "execution_count": 62,
   "metadata": {
    "collapsed": false
   },
   "outputs": [
    {
     "data": {
      "text/html": [
       "<div style=\"max-height:1000px;max-width:1500px;overflow:auto;\">\n",
       "<table border=\"1\" class=\"dataframe\">\n",
       "  <thead>\n",
       "    <tr style=\"text-align: right;\">\n",
       "      <th></th>\n",
       "      <th>name</th>\n",
       "      <th>gender</th>\n",
       "      <th>weight</th>\n",
       "      <th>height</th>\n",
       "      <th>BMI</th>\n",
       "    </tr>\n",
       "  </thead>\n",
       "  <tbody>\n",
       "    <tr>\n",
       "      <th>0</th>\n",
       "      <td>   alice</td>\n",
       "      <td> f</td>\n",
       "      <td> 60</td>\n",
       "      <td> 1.56</td>\n",
       "      <td> 24.654832</td>\n",
       "    </tr>\n",
       "    <tr>\n",
       "      <th>1</th>\n",
       "      <td>     bob</td>\n",
       "      <td> m</td>\n",
       "      <td> 72</td>\n",
       "      <td> 1.75</td>\n",
       "      <td> 23.510204</td>\n",
       "    </tr>\n",
       "    <tr>\n",
       "      <th>2</th>\n",
       "      <td> charles</td>\n",
       "      <td> m</td>\n",
       "      <td> 91</td>\n",
       "      <td>  NaN</td>\n",
       "      <td>       NaN</td>\n",
       "    </tr>\n",
       "    <tr>\n",
       "      <th>3</th>\n",
       "      <td>   david</td>\n",
       "      <td> m</td>\n",
       "      <td> 84</td>\n",
       "      <td> 1.82</td>\n",
       "      <td> 25.359256</td>\n",
       "    </tr>\n",
       "    <tr>\n",
       "      <th>4</th>\n",
       "      <td>   edgar</td>\n",
       "      <td> m</td>\n",
       "      <td> 93</td>\n",
       "      <td> 1.77</td>\n",
       "      <td> 29.684956</td>\n",
       "    </tr>\n",
       "    <tr>\n",
       "      <th>5</th>\n",
       "      <td>   fanny</td>\n",
       "      <td> f</td>\n",
       "      <td> 45</td>\n",
       "      <td> 1.45</td>\n",
       "      <td> 21.403092</td>\n",
       "    </tr>\n",
       "  </tbody>\n",
       "</table>\n",
       "</div>"
      ],
      "text/plain": [
       "      name gender  weight  height        BMI\n",
       "0    alice      f      60    1.56  24.654832\n",
       "1      bob      m      72    1.75  23.510204\n",
       "2  charles      m      91     NaN        NaN\n",
       "3    david      m      84    1.82  25.359256\n",
       "4    edgar      m      93    1.77  29.684956\n",
       "5    fanny      f      45    1.45  21.403092"
      ]
     },
     "execution_count": 62,
     "metadata": {},
     "output_type": "execute_result"
    }
   ],
   "source": [
    "# 有的身高数据还有空缺，或许就可以通过某个关系模型来进行一些预测\n",
    "# 比如结合身高体重和性别来建立个模型什么的\n",
    "# 不过我们现在就直接把有空缺的行直接删除忽略掉\n",
    "\n",
    "\n",
    "df['BMI'] = df['weight']/(df['height']*df['height'])\n",
    "df"
   ]
  },
  {
   "cell_type": "code",
   "execution_count": 63,
   "metadata": {
    "collapsed": false
   },
   "outputs": [
    {
     "data": {
      "text/plain": [
       "gender\n",
       "f         23.028962\n",
       "m         26.184806\n",
       "Name: BMI, dtype: float64"
      ]
     },
     "execution_count": 63,
     "metadata": {},
     "output_type": "execute_result"
    }
   ],
   "source": [
    "# 好了，最后一步就是计算每个性别的平均 BMI了\n",
    "df.groupby('gender')['BMI'].mean()"
   ]
  },
  {
   "cell_type": "markdown",
   "metadata": {},
   "source": [
    "<font color=red>练习</font>\n",
    "----"
   ]
  },
  {
   "cell_type": "markdown",
   "metadata": {},
   "source": [
    "**1**. 把下面的文本写入到一个名为\"hello.txt\" 的文件中，使用 `open` 和 `write`。写出的文件应该有三行\n",
    "```\n",
    "Hello, world.\n",
    "Goodbye, cruel world.\n",
    "The world is your oyster.\n",
    "```"
   ]
  },
  {
   "cell_type": "code",
   "execution_count": null,
   "metadata": {
    "collapsed": false
   },
   "outputs": [],
   "source": [
    "# YOUR CODE HERE\n",
    "\n",
    "\n"
   ]
  },
  {
   "cell_type": "markdown",
   "metadata": {},
   "source": [
    "**2**. 使用 for 循环以及 `open`, 读取刚刚这个'hello.txt'文件，用print 输出其中以'Hello'或者'The开头的行。"
   ]
  },
  {
   "cell_type": "code",
   "execution_count": null,
   "metadata": {
    "collapsed": false
   },
   "outputs": [],
   "source": [
    "# YOUR CODE HERE\n",
    "\n",
    "\n"
   ]
  },
  {
   "cell_type": "markdown",
   "metadata": {},
   "source": [
    "**3**. 大多数情况下，表格文件都能用 pandas 里面的适当的函数来正确读取。不过有的时候，对于一个文件难免要逐行读取，比如当这个文件是从Excel表格中导出的时候。使用`csv`模块以及一个for循环，从一个`ugh.csv`文件来创建一个Pandas 的 DataFrame。"
   ]
  },
  {
   "cell_type": "code",
   "execution_count": 24,
   "metadata": {
    "collapsed": false
   },
   "outputs": [
    {
     "name": "stdout",
     "output_type": "stream",
     "text": [
      "Overwriting ugh.csv\n"
     ]
    }
   ],
   "source": [
    "%%file ugh.csv\n",
    "# This is a comment\n",
    "# This is another comment\n",
    "name,weight,height\n",
    "alice, 60,1.56\n",
    "bob,72,1.75\n",
    "david,84,   1.82\n",
    "\n",
    "pooh,314.2,1.4\n",
    "# eeyore should be here but didn't come for follow up\n",
    "rabbit, 1.2,0.6\n",
    "\"king Rameses, the third\",85,1.82\n",
    "\n",
    "Notes: weight is in kg \n",
    "Note: height is in meters"
   ]
  },
  {
   "cell_type": "code",
   "execution_count": 31,
   "metadata": {
    "collapsed": false
   },
   "outputs": [
    {
     "data": {
      "text/html": [
       "<div style=\"max-height:1000px;max-width:1500px;overflow:auto;\">\n",
       "<table border=\"1\" class=\"dataframe\">\n",
       "  <thead>\n",
       "    <tr style=\"text-align: right;\">\n",
       "      <th></th>\n",
       "      <th>Name</th>\n",
       "      <th>Weight</th>\n",
       "      <th>Height</th>\n",
       "    </tr>\n",
       "  </thead>\n",
       "  <tbody>\n",
       "    <tr>\n",
       "      <th>0</th>\n",
       "      <td>                   alice</td>\n",
       "      <td>  60.0</td>\n",
       "      <td>  60.0</td>\n",
       "    </tr>\n",
       "    <tr>\n",
       "      <th>1</th>\n",
       "      <td>                     bob</td>\n",
       "      <td>  72.0</td>\n",
       "      <td>  72.0</td>\n",
       "    </tr>\n",
       "    <tr>\n",
       "      <th>2</th>\n",
       "      <td>                   david</td>\n",
       "      <td>  84.0</td>\n",
       "      <td>  84.0</td>\n",
       "    </tr>\n",
       "    <tr>\n",
       "      <th>3</th>\n",
       "      <td>                    pooh</td>\n",
       "      <td> 314.2</td>\n",
       "      <td> 314.2</td>\n",
       "    </tr>\n",
       "    <tr>\n",
       "      <th>4</th>\n",
       "      <td>                  rabbit</td>\n",
       "      <td>   1.2</td>\n",
       "      <td>   1.2</td>\n",
       "    </tr>\n",
       "    <tr>\n",
       "      <th>5</th>\n",
       "      <td> king Rameses, the third</td>\n",
       "      <td>  85.0</td>\n",
       "      <td>  85.0</td>\n",
       "    </tr>\n",
       "  </tbody>\n",
       "</table>\n",
       "</div>"
      ],
      "text/plain": [
       "                      Name  Weight  Height\n",
       "0                    alice    60.0    60.0\n",
       "1                      bob    72.0    72.0\n",
       "2                    david    84.0    84.0\n",
       "3                     pooh   314.2   314.2\n",
       "4                   rabbit     1.2     1.2\n",
       "5  king Rameses, the third    85.0    85.0"
      ]
     },
     "execution_count": 31,
     "metadata": {},
     "output_type": "execute_result"
    }
   ],
   "source": [
    "# The cleaned table should look like this\n",
    "import pandas as pd\n",
    "pd.read_csv('clean_ugh.csv')"
   ]
  },
  {
   "cell_type": "code",
   "execution_count": 47,
   "metadata": {
    "collapsed": false
   },
   "outputs": [],
   "source": [
    "# YOUR CODE HERE\n",
    "\n",
    "\n",
    "\n",
    "\n"
   ]
  },
  {
   "cell_type": "markdown",
   "metadata": {},
   "source": [
    "**4**. 给定一个HDF5文件 'mystery.hdf5'，对其中`simulation`的子组 `expt`中的数据集`evetns`投一个直方图。 设置这个图的标题为 'name (date)'，其中的name 和 date 都是`simulaiton` 这个组的对应属性值。"
   ]
  },
  {
   "cell_type": "code",
   "execution_count": 61,
   "metadata": {
    "collapsed": false
   },
   "outputs": [],
   "source": [
    "# YOUR CODE HERE\n",
    "\n",
    "with h5py.File('mystery.hdf5') as f:\n",
    "    pass\n",
    "\n",
    "\n"
   ]
  },
  {
   "cell_type": "markdown",
   "metadata": {},
   "source": [
    "**5**. 建立一个表格，包含10个在SQLite3 数据库文件\"Chinook.db\"有最多音轨数目（number of tracks）的艺术家。考虑到要掌握SQL的神秘语法可能需要花点时间，下面给提供了一个SQL查询的模板。你只需要填一下其中的 X。要知道每个语句的意思，可能需要用谷歌等搜索引擎来查一查。另外可能通过下面的图示来对\"Chinook.db\" 进行一点了解也会有帮助："
   ]
  },
  {
   "cell_type": "code",
   "execution_count": 65,
   "metadata": {
    "collapsed": false
   },
   "outputs": [
    {
     "data": {
      "text/html": [
       "<img src=\"http://lh4.ggpht.com/_oKo6zFhdD98/SWFPtyfHJFI/AAAAAAAAAMc/GdrlzeBNsZM/s800/ChinookDatabaseSchema1.1.png\"/>"
      ],
      "text/plain": [
       "<IPython.core.display.Image at 0x11486f410>"
      ]
     },
     "execution_count": 65,
     "metadata": {},
     "output_type": "execute_result"
    }
   ],
   "source": [
    "from IPython.display import Image\n",
    "\n",
    "Image(url='http://lh4.ggpht.com/_oKo6zFhdD98/SWFPtyfHJFI/AAAAAAAAAMc/GdrlzeBNsZM/s800/ChinookDatabaseSchema1.1.png')"
   ]
  },
  {
   "cell_type": "code",
   "execution_count": null,
   "metadata": {
    "collapsed": false
   },
   "outputs": [],
   "source": [
    "# YOUR CODE HERE\n",
    "\n",
    "sql = \"\"\"\n",
    "select X, count(X) as total \n",
    "from X, X, X \n",
    "where X = X and X = X \n",
    "group by X\n",
    "order by X desc \n",
    "limit X;\n",
    "\"\"\"\n",
    "\n",
    "with sqlite3.connect('Chinook.db') as conn:\n",
    "    cr = conn.cursor()\n",
    "    cr.execute(sql) \n",
    "    for row in cr.fetchall():\n",
    "        print row\n",
    "\n"
   ]
  },
  {
   "cell_type": "code",
   "execution_count": null,
   "metadata": {
    "collapsed": false
   },
   "outputs": [],
   "source": []
  }
 ],
 "metadata": {
  "kernelspec": {
   "display_name": "Python 3",
   "language": "python",
   "name": "python3"
  },
  "language_info": {
   "codemirror_mode": {
    "name": "ipython",
    "version": 3
   },
   "file_extension": ".py",
   "mimetype": "text/x-python",
   "name": "python",
   "nbconvert_exporter": "python",
   "pygments_lexer": "ipython3",
   "version": "3.5.3"
  }
 },
 "nbformat": 4,
 "nbformat_minor": 0
}
