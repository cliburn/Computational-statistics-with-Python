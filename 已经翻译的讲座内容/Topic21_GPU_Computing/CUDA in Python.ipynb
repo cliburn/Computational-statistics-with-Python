{
 "cells": [
  {
   "cell_type": "code",
   "execution_count": 2,
   "metadata": {
    "collapsed": false
   },
   "outputs": [],
   "source": [
    "import numpy as np\n",
    "from numbapro import cuda, vectorize\n",
    "import numbapro.cudalib.cufft as cufft "
   ]
  },
  {
   "cell_type": "code",
   "execution_count": 3,
   "metadata": {
    "collapsed": false
   },
   "outputs": [
    {
     "data": {
      "text/plain": [
       "u'%.4f'"
      ]
     },
     "execution_count": 3,
     "metadata": {},
     "output_type": "execute_result"
    }
   ],
   "source": [
    "%precision 4"
   ]
  },
  {
   "cell_type": "markdown",
   "metadata": {},
   "source": [
    "从 [使用 CUDA 加速 R 应用](http://devblogs.nvidia.com/parallelforall/accelerate-r-applications-cuda/) 复制示例\n",
    "----"
   ]
  },
  {
   "cell_type": "markdown",
   "metadata": {},
   "source": [
    "### FFT 示例"
   ]
  },
  {
   "cell_type": "code",
   "execution_count": 4,
   "metadata": {
    "collapsed": false
   },
   "outputs": [
    {
     "name": "stdout",
     "output_type": "stream",
     "text": [
      "Original             [-0.2414+1.2555j -0.0947-2.2246j  0.5452-1.7055j  0.9129+0.8522j]\n",
      "CUDA FFT             [ 1.1220-1.8225j -3.8633+3.9687j -0.5144+0.9224j  2.2902+1.9534j]\n",
      "CPU  FFT             [ 1.1220-1.8225j -3.8633+3.9687j -0.5144+0.9224j  2.2902+1.9534j]\n",
      "CUDA IFFT            [-0.2414+1.2555j -0.0947-2.2246j  0.5452-1.7055j  0.9129+0.8522j]\n",
      "CPU  IFFT            [-0.2414+1.2555j -0.0947-2.2246j  0.5452-1.7055j  0.9129+0.8522j]\n"
     ]
    }
   ],
   "source": [
    "num = 4\n",
    "v = np.random.normal(0, 1, (num, 2))\n",
    "z = v[:,0] + 1j*v[:,1]\n",
    "print \"{:<20}\".format('Original'), z\n",
    "\n",
    "x_gpu = np.zeros(num, dtype='complex')\n",
    "cufft.fft(z, x_gpu)\n",
    "print \"{:<20}\".format('CUDA FFT'), x_gpu\n",
    "\n",
    "x_cpu = np.fft.fft(z)\n",
    "print \"{:<20}\".format('CPU  FFT'), x_cpu\n",
    "\n",
    "# NVidia IFFT returns unnormalzied results\n",
    "cufft.ifft(x_gpu, z) \n",
    "print \"{:<20}\".format('CUDA IFFT'), z/num\n",
    "\n",
    "x_cpu = np.fft.ifft(x_cpu)\n",
    "print \"{:<20}\".format('CPU  IFFT'), x_cpu"
   ]
  },
  {
   "cell_type": "markdown",
   "metadata": {},
   "source": [
    "### 向量加法示例"
   ]
  },
  {
   "cell_type": "markdown",
   "metadata": {},
   "source": [
    "#### 使用 CUDA Python 显式编译到 PTX"
   ]
  },
  {
   "cell_type": "code",
   "execution_count": 19,
   "metadata": {
    "collapsed": false
   },
   "outputs": [],
   "source": [
    "@cuda.jit('void(float64[:,], float64[:], float64[:], int64)')\n",
    "def gvectorAdd(A, B, C, n):\n",
    "    i = cuda.grid(1)\n",
    "    if i < n:\n",
    "        C[i] = A[i] + B[i]"
   ]
  },
  {
   "cell_type": "code",
   "execution_count": 16,
   "metadata": {
    "collapsed": false
   },
   "outputs": [
    {
     "name": "stdout",
     "output_type": "stream",
     "text": [
      "32\n",
      "2\n"
     ]
    },
    {
     "data": {
      "text/plain": [
       "array([  0.,   2.,   4.,   6.,   8.,  10.,  12.,  14.,  16.,  18.,  20.,\n",
       "        22.,  24.,  26.,  28.,  30.,  32.,  34.,  36.,  38.,  40.,  42.,\n",
       "        44.,  46.,  48.,  50.,  52.,  54.,  56.,  58.,  60.,  62.,  64.,\n",
       "        66.,  68.,  70.,  72.,  74.,  76.,  78.,  80.,  82.,  84.,  86.,\n",
       "        88.,  90.,  92.,  94.,  96.,  98.])"
      ]
     },
     "execution_count": 16,
     "metadata": {},
     "output_type": "execute_result"
    }
   ],
   "source": [
    "n = 50\n",
    "A = np.arange(n, dtype=np.float64)\n",
    "B = np.arange(n, dtype=np.float64)\n",
    "C = np.empty_like(A)\n",
    "\n",
    "grid_dim = cuda.get_current_device().WARP_SIZE\n",
    "block_dim = (n + grid_dim - 1)/grid_dim\n",
    "\n",
    "print grid_dim\n",
    "print block_dim\n",
    "\n",
    "gvectorAdd[grid_dim, block_dim](A, B, C, n)\n",
    "C"
   ]
  },
  {
   "cell_type": "markdown",
   "metadata": {},
   "source": [
    "#### 使用向量化工具"
   ]
  },
  {
   "cell_type": "code",
   "execution_count": 17,
   "metadata": {
    "collapsed": false
   },
   "outputs": [],
   "source": [
    "@vectorize('float64(float64, float64)', target='gpu')\n",
    "def gvectorAdd2(A, B):\n",
    "    return A + B"
   ]
  },
  {
   "cell_type": "code",
   "execution_count": 18,
   "metadata": {
    "collapsed": false
   },
   "outputs": [
    {
     "data": {
      "text/plain": [
       "array([  0.,   2.,   4.,   6.,   8.,  10.,  12.,  14.,  16.,  18.,  20.,\n",
       "        22.,  24.,  26.,  28.,  30.,  32.,  34.,  36.,  38.,  40.,  42.,\n",
       "        44.,  46.,  48.,  50.,  52.,  54.,  56.,  58.,  60.,  62.,  64.,\n",
       "        66.,  68.,  70.,  72.,  74.,  76.,  78.,  80.,  82.,  84.,  86.,\n",
       "        88.,  90.,  92.,  94.,  96.,  98.])"
      ]
     },
     "execution_count": 18,
     "metadata": {},
     "output_type": "execute_result"
    }
   ],
   "source": [
    "gvectorAdd2(A, B)"
   ]
  },
  {
   "cell_type": "code",
   "execution_count": 7,
   "metadata": {
    "collapsed": false
   },
   "outputs": [],
   "source": []
  }
 ],
 "metadata": {
  "kernelspec": {
   "display_name": "Python 2",
   "language": "python",
   "name": "python2"
  },
  "language_info": {
   "codemirror_mode": {
    "name": "ipython",
    "version": 2
   },
   "file_extension": ".py",
   "mimetype": "text/x-python",
   "name": "python",
   "nbconvert_exporter": "python",
   "pygments_lexer": "ipython2",
   "version": "2.7.10"
  }
 },
 "nbformat": 4,
 "nbformat_minor": 0
}
