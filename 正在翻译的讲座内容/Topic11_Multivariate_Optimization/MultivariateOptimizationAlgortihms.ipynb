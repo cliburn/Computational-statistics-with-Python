{
 "metadata": {
  "name": "",
  "signature": "sha256:b3a3e0d1c6288833b1f1b59c871c2bbc8cb16308da90d9cadaeb650ff812c509"
 },
 "nbformat": 3,
 "nbformat_minor": 0,
 "worksheets": [
  {
   "cells": [
    {
     "cell_type": "heading",
     "level": 1,
     "metadata": {},
     "source": [
      "Algorithms for Optimization and Root Finding for Multivariate Problems"
     ]
    },
    {
     "cell_type": "heading",
     "level": 2,
     "metadata": {},
     "source": [
      "Optimizers"
     ]
    },
    {
     "cell_type": "heading",
     "level": 3,
     "metadata": {},
     "source": [
      "Newton-Conjugate Gradient"
     ]
    },
    {
     "cell_type": "markdown",
     "metadata": {},
     "source": [
      "First a note about the interpretations of Newton's method in 1-D:\n",
      "\n",
      "In the lecture on 1-D optimization, Newton's method was presented as a method of finding zeros.  That is what it is, but it may also be interpreted as a method of optimization.  In the latter case, we are really looking for zeroes of the first derivative.\n",
      "\n",
      "Let's compare the formulas for clarification:\n",
      "\n",
      "$$\\begin{array}{|c|c|c|c|}\n",
      "\\hline\n",
      "\\text{Finding roots of } f  & \\text{Geometric Interpretation} & \\text{Finding Extrema of } f & \\text{Geometric Interpretation} \\\\\n",
      "\\hline\n",
      "x_{n+1} = x_n -\\frac{f(x_n)}{f'(x_n)} &\\text{Invert linear approximation to }f & x_{n+1} = x_n -\\frac{f'(x_n)}{f''(x_n)}& \\text{Use quadratic approximation of } f \\\\\n",
      "\\hline\n",
      "\\end{array}$$\n",
      "\n",
      "These are two ways of looking at exactly the same problem.  For instance, the linear approximation in the root finding problem is simply the derivative function of the quadratic approximation in the optimization problem."
     ]
    },
    {
     "cell_type": "heading",
     "level": 4,
     "metadata": {},
     "source": [
      "Hessians, Gradients and Forms - Oh My!"
     ]
    },
    {
     "cell_type": "markdown",
     "metadata": {},
     "source": [
      "Let's review the theory of optimization for multivariate functions. Recall that in the single-variable case, extreme values (local extrema) occur at points where the first derivative is zero, however, the vanishing of the first derivative is not a sufficient condition for a local max or min.  Generally, we apply the second derivative test to determine whether a candidate point is a max or min (sometimes it fails - if the second derivative either does not exist or is zero).  In the multivariate case, the first and second derivatives are *matrices*.  In the case of a scalar-valued function on $\\mathbb{R}^n$, the first derivative is an $n\\times 1$ vector called the *gradient* (denoted $\\nabla f$). The second derivative is an $n\\times n$ matrix called the *Hessian* (denoted $H$)\n",
      "\n",
      "Just to remind you, the gradient and Hessian are given by:\n",
      "\n",
      "$$\\nabla f(x) = \\left(\\begin{matrix}\\frac{\\partial f}{\\partial x_1}\\\\ \\vdots \\\\\\frac{\\partial f}{\\partial x_n}\\end{matrix}\\right)$$\n",
      "\n",
      "\n",
      "$$H = \\left(\\begin{matrix}\n",
      "  \\dfrac{\\partial^2 f}{\\partial x_1^2} & \\dfrac{\\partial^2 f}{\\partial x_1\\,\\partial x_2} & \\cdots & \\dfrac{\\partial^2 f}{\\partial x_1\\,\\partial x_n} \\\\[2.2ex]\n",
      "  \\dfrac{\\partial^2 f}{\\partial x_2\\,\\partial x_1} & \\dfrac{\\partial^2 f}{\\partial x_2^2} & \\cdots & \\dfrac{\\partial^2 f}{\\partial x_2\\,\\partial x_n} \\\\[2.2ex]\n",
      "  \\vdots & \\vdots & \\ddots & \\vdots \\\\[2.2ex]\n",
      "  \\dfrac{\\partial^2 f}{\\partial x_n\\,\\partial x_1} & \\dfrac{\\partial^2 f}{\\partial x_n\\,\\partial x_2} & \\cdots & \\dfrac{\\partial^2 f}{\\partial x_n^2}\n",
      "\\end{matrix}\\right)$$\n",
      "\n",
      "One of the first things to note about the Hessian - it's symmetric. This structure leads to some useful properties in terms of interpreting critical points.\n",
      "\n",
      "The multivariate analog of the test for a local max or min turns out to be a statement about the gradient and the Hessian matrix.  Specifically, a function $f:\\mathbb{R}^n\\rightarrow \\mathbb{R}$ has a critical point at $x$ if $\\nabla f(x) = 0$ (where zero is the zero vector!).  Furthermore, the second derivative test at a critical point is as follows:\n",
      "\n",
      "* If $H(x)$ is positive-definite, $f$ has a local minimum at $x$\n",
      "* If $H(x)$ is negative-definite, $f$ has a local maximum at $x$\n",
      "* If $H(x)$ has both positive and negative eigenvalues, $f$ has a saddle point at $x$."
     ]
    },
    {
     "cell_type": "heading",
     "level": 3,
     "metadata": {},
     "source": [
      "Newton CG Algorithm"
     ]
    },
    {
     "cell_type": "markdown",
     "metadata": {},
     "source": [
      "Features:\n",
      "\n",
      "* Minimizes a 'true' quadratic on $\\mathbb{R}^n$ in $n$ steps\n",
      "* Does NOT require storage or inversion of an $n \\times n$ matrix."
     ]
    },
    {
     "cell_type": "markdown",
     "metadata": {},
     "source": [
      "We begin with $:\\mathbb{R}^n\\rightarrow \\mathbb{R}$.  Take a quadratic approximation to $f$:\n",
      "\n",
      "$$f(x) \\approx \\frac12 x^T H x + b^Tx + c$$\n",
      "\n",
      "Note that in the neighborhood of a minimum, $H$ will be positive-definite (and symmetric). (If we are maximizing, just consider $-H$).\n",
      "\n",
      "This reduces the optimization problem to finding the zeros of \n",
      "\n",
      "$$Hx = -b$$\n",
      "\n",
      "This is a linear problem, which is nice.  The dimension $n$ may be very large - which is not so nice.  Also, *a priori* it looks like we need to know $H$.  We actually don't but that will become clear only after a bit of explanation."
     ]
    },
    {
     "cell_type": "heading",
     "level": 4,
     "metadata": {},
     "source": [
      "General Inner Product"
     ]
    },
    {
     "cell_type": "markdown",
     "metadata": {},
     "source": [
      "Recall the axiomatic definition of an inner product $<,>_A$:\n",
      "\n",
      "* For any two vectors $v,w$ we have\n",
      "$$<v,w>_A = <w,v>_A$$\n",
      "* For any vector $v$\n",
      "$$<v,v>_A \\;\\geq 0$$\n",
      "   with equality $\\iff$ $v=0$.\n",
      "* For $c\\in\\mathbb{R}$ and $u,v,w\\in\\mathbb{R}^n$, we have\n",
      "$$<cv+w,u> = c<v,u> + <w,u>$$\n",
      "\n",
      "These properties are known as symmetric, positive definite and bilinear, respectively.\n",
      "\n",
      "Fact: If we denote the standard inner product on $\\mathbb{R}^n$ as $<,>$ (this is the 'dot product'), any symmetric, positive definite $n\\times n$ matrix $A$ defines an inner product on $\\mathbb{R}^n$ via:\n",
      "\n",
      "$$<v,w>_A \\; = <v,Aw> = v^TAw$$"
     ]
    },
    {
     "cell_type": "markdown",
     "metadata": {},
     "source": [
      "Just as with the standard inner product, general inner products define for us a notion of 'orthogonality'. Recall that with respect to the standard product, 2 vectors are orthogonal if their product vanishes. The same applies to $<,>_A$:\n",
      "\n",
      "$$<v,w>_A = 0 $$\n",
      "\n",
      "means that $v$ and $w$ are orthogonal under the inner product induced by $A$.  Equivalently, if $v,w$ are orthogonal under $A$, we have:\n",
      "\n",
      "$$v^TAw = 0$$\n",
      "\n",
      "This is also called *conjugate* (thus the name of the method)."
     ]
    },
    {
     "cell_type": "heading",
     "level": 4,
     "metadata": {},
     "source": [
      "Conjugate Vectors"
     ]
    },
    {
     "cell_type": "markdown",
     "metadata": {},
     "source": [
      "Suppose we have a set of $n$ vectors $p_1,...,p_n$ that are mutually conjugate.  These vectors form a basis of $\\mathbb{R}^n$.  Getting back to the problem at hand, this means that our solution vector $x$ to the linear problem may be written as follows:\n",
      "\n",
      "$$x = \\sum\\limits_{i=1}^n \\alpha_i p_i$$\n",
      "\n",
      "So, finding $x$ reduces to finding a conjugate basis and the coefficients for $x$ in that basis."
     ]
    },
    {
     "cell_type": "markdown",
     "metadata": {},
     "source": [
      "Note that:\n",
      "\n",
      "$${p}_k^{T} {b}={p}_k^{T} {A}{x}$$\n",
      "\n",
      "and because $x = \\sum\\limits_{i=1}^n \\alpha_i p_i$, we have:\n",
      "$$p^TAx = \\sum\\limits_{i=1}^n \\alpha_i p^TA p_i$$\n",
      "\n",
      "we can solve for $\\alpha_k$:\n",
      "\n",
      "$$\\alpha_k = \\frac{{p}_k^{T}{b}}{{p}_k^{T} {A}{p}_k} = \\frac{\\langle {p}_k, {b}\\rangle}{\\,\\,\\,\\langle {p}_k,  {p}_k\\rangle_{A}} = \\frac{\\langle{p}_k, {b}\\rangle}{\\,\\,\\,\\|{p}_k\\|_{A}^2}.$$\n"
     ]
    },
    {
     "cell_type": "markdown",
     "metadata": {},
     "source": [
      "Now, all we need are the $p_k$'s."
     ]
    },
    {
     "cell_type": "markdown",
     "metadata": {},
     "source": [
      "A nice initial guess would be the gradient at some initial point $x_1$.  So, we set $p_1 = \\nabla f(x_1)$. Then set:\n",
      "\n",
      "$$x_2 = x_1 + \\alpha_1p_1$$"
     ]
    },
    {
     "cell_type": "markdown",
     "metadata": {},
     "source": [
      "This should look familiar.  In fact, it is gradient descent.  For $p_2$, we want $p_1$ and $p_2$ to be conjugate (under $A$).  That just means orthogonal under the inner product induced by $A$.  We set \n",
      "\n",
      "$$p_2 = \\nabla f(x_1) - \\frac{p_1^TA\\nabla f(x_1)}{{p}_1^{T}{A}{p}_1} {p}_1$$"
     ]
    },
    {
     "cell_type": "markdown",
     "metadata": {},
     "source": [
      "I.e. We take the gradient at $x_1$ and subtract its projection onto $p_1$.  This is the same as Gram-Schmidt orthogonalization.\n",
      "\n",
      "The $k^{th}$ conjugate vector is:\n",
      "\n",
      "$$p_{k+1} = \\nabla f(x_k) - \\sum\\limits_{i=1}^k\\frac{p_i^T A \\nabla f(x_k)}{p_i^TAp_i} p_i$$"
     ]
    },
    {
     "cell_type": "markdown",
     "metadata": {},
     "source": [
      "The 'trick' is that in general, we do not need all $n$ conjugate vectors."
     ]
    },
    {
     "cell_type": "markdown",
     "metadata": {},
     "source": [
      "Convergence rate is dependent on sparsity and condition number of $A$.  Worst case is $n^2$."
     ]
    },
    {
     "cell_type": "heading",
     "level": 3,
     "metadata": {},
     "source": [
      "BFGS - Broyden\u2013Fletcher\u2013Goldfarb\u2013Shanno"
     ]
    },
    {
     "cell_type": "markdown",
     "metadata": {},
     "source": [
      "BFGS is a 'quasi' Newton method of optimization.  Such methods are variants of the Newton method, where the Hessian $H$ is replaced by some approximation.  We we wish to solve the equation:\n",
      "\n",
      "$$B_k{p}_k = -\\nabla f({x}_k)$$\n",
      "\n",
      "for $p_k$. This gives our search direction, and the next candidate point is given by:\n",
      "\n",
      "$$x_{k+1} = x_k + \\alpha_k p_k$$.\n",
      "\n",
      "where $\\alpha_k$ is a step size."
     ]
    },
    {
     "cell_type": "markdown",
     "metadata": {},
     "source": [
      "At each step, we require that the new approximate $H$ meets the secant condition:\n",
      "\n",
      "$$B_{k+1}(x_{k+1}-x_k) = \\nabla f(x_{k+1}) -\\nabla f(x_k)$$\n",
      "\n",
      "There is a unique, rank one update that satisfies the above:\n",
      "\n",
      "$$B_{k+1} = B_k + c_k v_kv_k^T$$\n",
      "\n",
      "where\n",
      "\n",
      "$$ c_k = -\\frac{1}{\\left(B_k(x_{k+1}-x_k) - (\\nabla f(x_{k+1})-\\nabla f(x_k)\\right)^T (x_{k+1}-x_k) }$$ \n",
      "\n",
      "and\n",
      "\n",
      "$$v_k = B_k(x_{k+1}-x_k) - (\\nabla f(x_{k+1})-\\nabla f(x_k))$$"
     ]
    },
    {
     "cell_type": "markdown",
     "metadata": {},
     "source": [
      "Note that the update does NOT preserve positive definiteness if $c_k<0$.  In this case, there are several options for the rank one correction, but we will not address them here.  Instead, we will describe the BFGS method, which almost always guarantees a positive-definite correction.  Specifically:\n",
      "\n",
      "$$B_{k+1} = B_k + b_k g_k g_k^T + c_k B_k d_k d_k^TB_k$$ "
     ]
    },
    {
     "cell_type": "markdown",
     "metadata": {},
     "source": [
      "where we have introduced the shorthand:\n",
      "\n",
      "$$g_k = \\nabla f(x_{k+1}) - \\nabla f(x_k) \\;\\;\\;\\;\\;\\;\\;\\ \\mathrm{ and }\\;\\;\\;\\;\\;\\;\\; d_k = x_{k+1} - x_k$$"
     ]
    },
    {
     "cell_type": "markdown",
     "metadata": {},
     "source": [
      "If we set:\n",
      "\n",
      "$$b_k = \\frac{1}{g_k^Td_k} \\;\\;\\;\\;\\; \\mathrm{ and } \\;\\;\\;\\;\\; c_k = \\frac{1}{d_k^TB_kd_k}$$\n",
      "\n",
      "we satisfy the secant condition."
     ]
    },
    {
     "cell_type": "heading",
     "level": 3,
     "metadata": {},
     "source": [
      "Nelder-Mead Simplex"
     ]
    },
    {
     "cell_type": "markdown",
     "metadata": {},
     "source": [
      "While Newton's method is considered a 'second order method' (requires the second derivative), and quasi-Newton methods are first order (require only first derivatives), Nelder-Mead is a zero-order method.  I.e. NM requires only the function itself - no derivatives.\n",
      "\n",
      "For $f:\\mathbb{R}^n\\rightarrow \\mathbb{R}$, the algorithm computes the values of the function on a simplex of dimension $n$, constructed from $n+1$ vertices.  For a univariate function, the simplex is a line segment.  In two dimensions, the simplex is a triangle, in 3D, a tetrahedral solid, and so on.\n",
      "\n",
      "The algorithm begins with $n+1$ starting points and then the follwing steps are repeated until convergence:\n",
      "\n",
      "* Compute the function at each of the points\n",
      "* Sort the function values so that \n",
      "$$f(x_1)\\leq ...\\leq f(x_{n+1})$$\n",
      "* Compute the centroid $x_c$ of the n-dimensional region defined by $x_1,...,x_n$\n",
      "* Reflect $x_{n+1}$ about the centroid to get $x_r$\n",
      "$$x_r = x_c + \\alpha (x_c - x_{n+1})$$\n",
      "* Create a new simplex according to the following rules:\n",
      "    - If $f(x_1)\\leq f(x_r) < f(x_n)$, replace $x_{n+1}$ with $x_r$\n",
      "    - If $f(x_r)<f(x_1)$, expand the simplex through $x_r$:\n",
      "    $$x_e = x_c + \\gamma (x_c - x_{n+1})$$\n",
      "      If $f(x_e)<f(x_r)$, replace $x_{n+1}$ with $x_e$, otherwise, replace $x_{n+1}$ with $x_r$\n",
      "    - If $f({x}_{r}) \\geq f({x}_{n})$, compute $x_p = x_c + \\rho(x_c - x_{n+1})$.  If $f({x}_{p}) < f({x}_{n+1})$, replace $x_{n+1}$ with $x_p$\n",
      "    - If all else fails, replace *all* points except $x_1$ according to\n",
      "    $$x_i = {x}_{1} + \\sigma({x}_{i} - {x}_{1})$$\n",
      "    \n",
      "The default values of $\\alpha, \\gamma,\\rho$ and $\\sigma$ in scipy are not listed in the documentation, nor are they inputs to the function."
     ]
    },
    {
     "cell_type": "heading",
     "level": 3,
     "metadata": {},
     "source": [
      "Powell's Method"
     ]
    },
    {
     "cell_type": "markdown",
     "metadata": {},
     "source": [
      "Powell's method is another derivative-free optimization method that is similar to conjugate-gradient.  The algorithm steps are as follows:\n",
      "\n",
      "Begin with a point $p_0$ (an initial guess) and a set of vectors $\\xi_1,...,\\xi_n$, initially the standard basis of $\\mathbb{R}^n$.  \n",
      "\n",
      "- Compute for $i=1,...,n$, find $\\lambda_i$ that minimizes $f(p_{i-1} +\\lambda_i \\xi_i)$ and set $p_i = p_{i-1} + \\lambda_i\\xi_i$\n",
      "- For $i=1,...,n-1$, replace $\\xi_{i}$ with $\\xi_{i+1}$ and then replace $\\xi_n$ with $p_n - p_0$\n",
      "- Choose $\\lambda$ so that $f(p_0 + \\lambda(p_n-p_0)$ is minimum and replace $p_0$ with $p_0 + \\lambda(p_n-p_0)$\n",
      "\n",
      "Essentially, the algorithm performs line searches and tries to find fruitful directions to search."
     ]
    },
    {
     "cell_type": "heading",
     "level": 2,
     "metadata": {},
     "source": [
      "Solvers"
     ]
    },
    {
     "cell_type": "heading",
     "level": 3,
     "metadata": {},
     "source": [
      "Levenberg-Marquardt (Damped Least Squares)"
     ]
    },
    {
     "cell_type": "markdown",
     "metadata": {},
     "source": [
      "Recall the least squares problem:\n",
      "    \n",
      "Given a set of data points $(x_i, y_i)$ where $x_i$'s are independent variables (in $\\mathbb{R}^n$ and the $y_i$'s are response variables (in $\\mathbb{R}$), find the parameter values of $\\beta$ for the model $f(x;\\beta)$ so that\n",
      "\n",
      "$$S(\\beta) = \\sum\\limits_{i=1}^m \\left(y_i - f(x_i;\\beta)\\right)^2$$\n",
      "is minimized.\n",
      "\n",
      "If we were to use Newton's method, our update step would look like:\n",
      "\n",
      "$$\\beta_{k+1} = \\beta_k - H^{-1}\\nabla S(\\beta_k)$$\n",
      "\n",
      "Gradient descent, on the other hand, would yield:\n",
      "\n",
      "$$\\beta_{k+1} = \\beta_k - \\gamma\\nabla S(\\beta_k)$$\n",
      "\n",
      "Levenberg-Marquardt adaptively switches between Newton's method and gradient descent.  \n",
      "\n",
      "$$\\beta_{k+1} = \\beta_k - (H + \\lambda I)^{-1}\\nabla S(\\beta_k)$$\n",
      "\n",
      "When $\\lambda$ is small, the update is essentially Newton-Gauss, while for $\\lambda$ large, the update is gradient descent."
     ]
    },
    {
     "cell_type": "heading",
     "level": 3,
     "metadata": {},
     "source": [
      "Newton-Krylov"
     ]
    },
    {
     "cell_type": "markdown",
     "metadata": {},
     "source": [
      "The notion of a Krylov space comes from the Cayley-Hamilton theorem (CH).  CH states that a matrix $A$ satisfies its characteristic polynomial.  A direct corollary is that $A^{-1}$ may be written as a linear combination of powers of the matrix (where the highest power is $n-1$).  \n",
      "\n",
      "The Krylov space of order $r$ generated by an $n\\times n$ matrix $A$ and an $n$-dimensional vector $b$ is given by:\n",
      "\n",
      "$$\\mathcal{K}_r(A,b) = \\operatorname{span} \\, \\{ b, Ab, A^2b, \\ldots, A^{r-1}b \\}$$\n",
      "\n",
      "Thes are actually the subspaces spanned by the conjugate vectors we mentioned in Newton-CG, so, technically speaking, Newton-CG is a Krylov method.\n",
      "\n",
      "Now, the scipy.optimize newton-krylov solver is what is known as a 'Jacobian Free Newton Krylov'.  It is a very efficient algorithm for solving *large* $n\\times n$ non-linear systems.  We won't go into detail of the algorithm's steps, as this is really more applicable to problems in physics and non-linear dynamics."
     ]
    },
    {
     "cell_type": "heading",
     "level": 2,
     "metadata": {},
     "source": [
      "GLM Estimation and IRLS"
     ]
    },
    {
     "cell_type": "markdown",
     "metadata": {},
     "source": [
      "Recall generalized linear models are models with the following components:\n",
      "\n",
      "* A linear predictor $\\eta = X\\beta$\n",
      "* A response variable with distribution in the exponential family\n",
      "* An invertible 'link' function $g$ such that\n",
      "$$E(Y) = \\mu = g^{-1}(\\eta)$$\n",
      "\n",
      "We may write the log-likelihood:\n",
      "\n",
      "$$\\ell(\\eta) = \\sum\\limits_{i=1}^m (y_i \\log(\\eta_i) + (\\eta_i - y_i)\\log(1-eta_i) $$\n",
      "\n",
      "where $\\eta_i = \\eta(x_i,\\beta)$.\n",
      "\n",
      "Differentiating, we obtain:\n",
      "\n",
      "$$\\frac{\\partial L}{\\partial \\beta} = \\frac{\\partial \\eta}{\\partial \\beta}^T\\frac{\\partial L}{\\partial \\eta} = 0$$\n",
      "\n",
      "Written slightly differently than we have in the previous sections, the Newton update to find $\\beta$ would be:\n",
      "\n",
      "$$-\\frac{\\partial^2 L}{\\partial \\beta \\beta^T} \\left(\\beta_{k+1} -\\beta_k\\right) = \\frac{\\partial \\eta}{\\partial \\beta}^T\\frac{\\partial L}{\\partial \\eta}$$\n",
      "\n",
      "Now, if we compute:\n",
      "\n",
      "$$-\\frac{\\partial^2 L}{\\partial \\beta \\beta^T} = \\sum \\frac{\\partial L}{\\partial \\eta_i}\\frac{\\partial^2 \\eta_i}{\\partial \\beta \\beta^T} - \\frac{\\partial \\eta}{\\partial \\beta}^T \\frac{\\partial^2 L}{\\partial \\eta \\eta^T}  \\frac{\\partial \\eta}{\\partial \\beta}$$\n",
      "\n",
      "Taking expected values on the right hand side and noting:\n",
      "\n",
      "$$E\\left(\\frac{\\partial L}{\\partial \\eta_i} \\right) = 0$$\n",
      "\n",
      "and \n",
      "\n",
      "$$E\\left(-\\frac{\\partial^2 L}{\\partial \\eta \\eta^T} \\right) = E\\left(\\frac{\\partial L}{\\partial \\eta}\\frac{\\partial L}{\\partial \\eta}^T\\right) \\equiv A$$\n",
      "\n",
      "So if we replace the Hessian in Newton's method with its expected value, we obtain:\n",
      "\n",
      "$$\\frac{\\partial \\eta}{\\partial \\beta}^TA\\frac{\\partial \\eta}{\\partial \\beta}\\left(\\beta_{k+1} -\\beta_k\\right) = \\frac{\\partial \\eta}{\\partial \\beta}^T\\frac{\\partial L}{\\partial \\eta} $$\n",
      "\n",
      "Now, these actually have the form of the normal equations for a weighted least squares problem.  \n",
      "\n",
      "$$\\min_{\\beta_{k+1}}\\left(A^{-1}\\frac{\\partial L}{\\partial \\eta} + \\frac{\\partial \\eta}{\\partial \\beta}\\left(\\beta_{k+1} -\\beta_k\\right)\\right)^T A \\left(A^{-1}\\frac{\\partial L}{\\partial \\eta} + \\frac{\\partial \\eta}{\\partial \\beta}\\left(\\beta_{k+1} -\\beta_k\\right)\\right)$$\n",
      "\n",
      "$A$ is a weight matrix, and changes with iteration - thus this technique is *iteratively reweighted least squares*."
     ]
    },
    {
     "cell_type": "heading",
     "level": 3,
     "metadata": {},
     "source": [
      "Constrained Optimization and Lagrange Multipliers"
     ]
    },
    {
     "cell_type": "markdown",
     "metadata": {},
     "source": [
      "Often, we want to optimize a function subject to a constraint or multiple constraints.  The most common analytical technique for this is called 'Lagrange multipliers'.  The theory is based on the following:\n",
      "\n",
      "If we wish to optimize a function $f(x,y)$ subject to the constraint $g(x,y)=c$, we are really looking for points at which the gradient of $f$ and the gradient of $g$ are in the same direction.  This amounts to:\n",
      "\n",
      "$$\\nabla_{(x,y)}f = \\lambda \\nabla_{(x,y)}g$$\n",
      "\n",
      "(often, this is written with a (-) sign in front of $\\lambda$). The 2-d problem above defines two equations in three unknowns.  The original constraint, $g(xy,)=c$ yields a third equation.  Additional constraints are handled by finding:\n",
      "\n",
      "$$\\nabla_{(x,y)}f = \\lambda_1 \\nabla_{(x,y)}g_1 + ... + \\lambda_k \\nabla_{(x,y)}g_k$$\n",
      "\n",
      "The generalization to functions on $\\mathbb{R}^n$ is also trivial:\n",
      "\n",
      "$$\\nabla_{x}f = \\lambda \\nabla_{x}g$$"
     ]
    },
    {
     "cell_type": "code",
     "collapsed": false,
     "input": [],
     "language": "python",
     "metadata": {},
     "outputs": []
    }
   ],
   "metadata": {}
  }
 ]
}