{
 "metadata": {
  "name": "",
  "signature": "sha256:431b668d19ba35551cab9fb59359bf027f14bea1412cafa564842f2a2058ae72"
 },
 "nbformat": 3,
 "nbformat_minor": 0,
 "worksheets": [
  {
   "cells": [
    {
     "cell_type": "code",
     "collapsed": false,
     "input": [
      "import os\n",
      "import sys\n",
      "import glob\n",
      "import matplotlib.pyplot as plt\n",
      "import numpy as np\n",
      "import pandas as pd\n",
      "%matplotlib inline\n",
      "%precision 4\n",
      "plt.style.use('ggplot')\n",
      "import scipy.optimize as opt"
     ],
     "language": "python",
     "metadata": {},
     "outputs": [],
     "prompt_number": 1
    },
    {
     "cell_type": "code",
     "collapsed": false,
     "input": [
      "import scipy.linalg as la"
     ],
     "language": "python",
     "metadata": {},
     "outputs": [],
     "prompt_number": 22
    },
    {
     "cell_type": "code",
     "collapsed": false,
     "input": [
      "def f(x):\n",
      "    return (x[0]-2)**2 + (x[1]-3)**2"
     ],
     "language": "python",
     "metadata": {},
     "outputs": [],
     "prompt_number": 23
    },
    {
     "cell_type": "code",
     "collapsed": false,
     "input": [
      "def grad(x):\n",
      "    return np.array([2*x[0]-4, 2*x[1]-6])"
     ],
     "language": "python",
     "metadata": {},
     "outputs": [],
     "prompt_number": 24
    },
    {
     "cell_type": "code",
     "collapsed": false,
     "input": [
      "grad([0,0])"
     ],
     "language": "python",
     "metadata": {},
     "outputs": [
      {
       "metadata": {},
       "output_type": "pyout",
       "prompt_number": 25,
       "text": [
        "array([-4, -6])"
       ]
      }
     ],
     "prompt_number": 25
    },
    {
     "cell_type": "code",
     "collapsed": false,
     "input": [
      "x = np.array([0,0])\n",
      "opt.minimize(f, x)"
     ],
     "language": "python",
     "metadata": {},
     "outputs": [
      {
       "metadata": {},
       "output_type": "pyout",
       "prompt_number": 26,
       "text": [
        "   status: 0\n",
        "  success: True\n",
        "     njev: 4\n",
        "     nfev: 16\n",
        " hess_inv: array([[ 0.8462, -0.2308],\n",
        "       [-0.2308,  0.6538]])\n",
        "      fun: 1.2385736137494604e-16\n",
        "        x: array([ 2.,  3.])\n",
        "  message: 'Optimization terminated successfully.'\n",
        "      jac: array([ -3.4406e-09,   2.2912e-09])"
       ]
      }
     ],
     "prompt_number": 26
    },
    {
     "cell_type": "code",
     "collapsed": false,
     "input": [
      "def custmin(fun, x0, args=(), maxfev=None, alpha=0.1,\n",
      "        maxiter=100, tol=1e-6, callback=None, **options):\n",
      "    bestx = x0\n",
      "    besty = fun(x0)\n",
      "    funcalls = 1\n",
      "    niter = 0\n",
      "    improved = True\n",
      "    stop = False\n",
      "\n",
      "    while improved and not stop and niter < maxiter:\n",
      "        niter += 1\n",
      "        step = alpha * grad(bestx)\n",
      "        if la.norm(step) < tol:\n",
      "            improved = False\n",
      "        bestx = bestx - step\n",
      "\n",
      "        besty = fun(bestx)\n",
      "        funcalls += 1\n",
      "\n",
      "        if callback is not None:\n",
      "            callback(bestx)\n",
      "        if maxfev is not None and funcalls >= maxfev:\n",
      "            stop = True\n",
      "            break\n",
      "\n",
      "    return opt.OptimizeResult(fun=besty, x=bestx, nit=niter,\n",
      "                              nfev=funcalls, success=(niter > 1))"
     ],
     "language": "python",
     "metadata": {},
     "outputs": [],
     "prompt_number": 45
    },
    {
     "cell_type": "code",
     "collapsed": false,
     "input": [
      "opt.minimize(f, x, method=custmin)"
     ],
     "language": "python",
     "metadata": {},
     "outputs": [
      {
       "metadata": {},
       "output_type": "pyout",
       "prompt_number": 46,
       "text": [
        "     fun: 1.2505519547673462e-11\n",
        "    nfev: 63\n",
        " success: True\n",
        "     nit: 62\n",
        "       x: array([ 2.,  3.])"
       ]
      }
     ],
     "prompt_number": 46
    },
    {
     "cell_type": "code",
     "collapsed": false,
     "input": [
      "opt.minimize(f, x, jac=grad)"
     ],
     "language": "python",
     "metadata": {},
     "outputs": [
      {
       "metadata": {},
       "output_type": "pyout",
       "prompt_number": 39,
       "text": [
        "   status: 0\n",
        "  success: True\n",
        "     njev: 4\n",
        "     nfev: 4\n",
        " hess_inv: array([[ 0.8462, -0.2308],\n",
        "       [-0.2308,  0.6538]])\n",
        "      fun: 0.0\n",
        "        x: array([ 2.,  3.])\n",
        "  message: 'Optimization terminated successfully.'\n",
        "      jac: array([ 0.,  0.])"
       ]
      }
     ],
     "prompt_number": 39
    },
    {
     "cell_type": "code",
     "collapsed": false,
     "input": [],
     "language": "python",
     "metadata": {},
     "outputs": []
    }
   ],
   "metadata": {}
  }
 ]
}