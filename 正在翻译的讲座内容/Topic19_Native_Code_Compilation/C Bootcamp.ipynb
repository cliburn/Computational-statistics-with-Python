{
 "metadata": {
  "name": "",
  "signature": "sha256:023e2a4ae9a347dbb6dd00016a337c342335c6b909857f7f4273ecfbe728bca0"
 },
 "nbformat": 3,
 "nbformat_minor": 0,
 "worksheets": [
  {
   "cells": [
    {
     "cell_type": "markdown",
     "metadata": {},
     "source": [
      "Why C?\n",
      "====\n",
      "\n",
      "1. Speed (and size)\n",
      "2. Use (or wrap) libraries not available in language X\n",
      "3. C programs are portable across platforms\n",
      "4. It is good enough to write the Linux and OSX operating systems, as well as languages such as R and Python"
     ]
    },
    {
     "cell_type": "markdown",
     "metadata": {},
     "source": [
      "Tutorial introduction to C\n",
      "----"
     ]
    },
    {
     "cell_type": "code",
     "collapsed": false,
     "input": [
      "%%file utils.c\n",
      "#include \"utils.h\"\n",
      "\n",
      "// Function definitions\n",
      "void print_blank() {\n",
      "    printf(\"\\n\");\n",
      "}\n",
      "\n",
      "double array2d_sum(double **m, int r, int c) {\n",
      "    double s= 0.0;\n",
      "    for (int i=0; i<r; i++) {\n",
      "        for (int j=0; j<c; j++) {\n",
      "            s += m[i][j];\n",
      "        }\n",
      "    }\n",
      "    return s;\n",
      "}"
     ],
     "language": "python",
     "metadata": {},
     "outputs": [
      {
       "output_type": "stream",
       "stream": "stdout",
       "text": [
        "Overwriting utils.c\n"
       ]
      }
     ],
     "prompt_number": 87
    },
    {
     "cell_type": "code",
     "collapsed": false,
     "input": [
      "%%file utils.h\n",
      "#include <stdio.h>\n",
      "\n",
      "// typedef and struct\n",
      "typedef struct point {\n",
      "    double x;\n",
      "    double y;\n",
      "    double z;\n",
      "} point;\n",
      "\n",
      "// Function declarations\n",
      "void print_blank();\n",
      "double array2d_sum(double **m, int r, int c);"
     ],
     "language": "python",
     "metadata": {},
     "outputs": [
      {
       "output_type": "stream",
       "stream": "stdout",
       "text": [
        "Overwriting utils.h\n"
       ]
      }
     ],
     "prompt_number": 88
    },
    {
     "cell_type": "code",
     "collapsed": false,
     "input": [
      "%%file tutorial.c\n",
      "#include <stdlib.h>\n",
      "#include <stdio.h>\n",
      "#include <math.h>\n",
      "#include \"utils.h\"\n",
      "\n",
      "int main(int argc, char *argv[])\n",
      "{\n",
      "    /*\n",
      "    Silly program to demonstrate some C languaage syntax \n",
      "    */\n",
      "\n",
      "    int i = 3;\n",
      "    double pi = 3.14;\n",
      "    char c = 'a'; // single quotes\n",
      "    char s[] = \"Hello, world\"; // double quotes\n",
      "\n",
      "    printf(\"%s, pi=%.2f, num=%d, char=%c\\n\", s, pi, i, c);\n",
      "\n",
      "    print_blank();\n",
      "    \n",
      "    // Initializing a struct\n",
      "    point p = {.z = 2.0, .x = 3.0};\n",
      "    printf(\"Point is (%.4f, %.4f, %.4f)\\n\", p.x, p.y, p.z);\n",
      "\n",
      "    print_blank();\n",
      "\n",
      "    // Get some numbers from command line arguments\n",
      "    int n1 = atoi(argv[1]);\n",
      "    int n2 = atoi(argv[2]);     \n",
      "\n",
      "    // Using arrays with automatic memory\n",
      "    int v1[n1];\n",
      "    for (int i=0; i<n1; i++) {\n",
      "        v1[i] = i*i;\n",
      "    }\n",
      "\n",
      "    // Using the ternary ?: operator to print either \", \" or \"\\n\"\n",
      "    for (int i=0; i<n1; i++) {\n",
      "        printf(\"%d%s\", v1[i], i < (n1-1) ? \", \" : \"\\n\");\n",
      "    }\n",
      "\n",
      "    print_blank();\n",
      "\n",
      "    // Using arrays with manual (or dynamic) memory\n",
      "    double *v2 = malloc(n1 * sizeof(int));\n",
      "    for (int i=0; i<n1; i++) {\n",
      "        v2[i] = sin(i*i);\n",
      "    }\n",
      "\n",
      "    for (int i=0; i<n1; i++) {\n",
      "        printf(\"%.4f%s\", v2[i], i < (n1-1) ? \", \" : \"\\n\");\n",
      "    }\n",
      "\n",
      "    print_blank();\n",
      "    \n",
      "    // Using 2D arrays with automatic memory\n",
      "    double m1[n1][n2];\n",
      "    for (int i=0; i<n1; i++) {\n",
      "        for (int j=0; j<n2; j++) {\n",
      "            m1[i][j] = i*n2 + j;\n",
      "        }\n",
      "    }\n",
      "\n",
      "    for (int i=0; i<n1; i++) {\n",
      "        for (int j=0; j<n2; j++) {\n",
      "            printf(\"%8.4f%s\", m1[i][j], j < (n2-1) ? \", \" : \"\\n\");\n",
      "        }\n",
      "    }\n",
      "\n",
      "    print_blank();\n",
      "\n",
      "    // Using 2D arrays with manual memory\n",
      "    double **m2 = malloc(n1 * sizeof(double));\n",
      "    for (int i=0; i<n1; i++) {\n",
      "        m2[i] = calloc(n2, sizeof(double));\n",
      "    }\n",
      "\n",
      "    for (int i=0; i<n1; i++) {\n",
      "        for (int j=0; j<n2; j++) {\n",
      "            m2[i][j] = sqrt(i*n2 + j);\n",
      "        }\n",
      "    }\n",
      "\n",
      "    for (int i=0; i<n1; i++) {\n",
      "        for (int j=0; j<n2; j++) {\n",
      "            printf(\"%8.4f%s\", m2[i][j], j < (n2-1) ? \", \" : \"\\n\");\n",
      "        }\n",
      "    }\n",
      "\n",
      "    print_blank();\n",
      "\n",
      "    printf(\"The sum of entries in m2 is %.4f\\n\", array2d_sum(m2, n1, n2));\n",
      "\n",
      "    // free memory after usage\n",
      "    free(v2); \n",
      "    for (int i=0; i<n1; i++) {\n",
      "        free(m2[i]);\n",
      "    }\n",
      "    free(m2);\n",
      "}"
     ],
     "language": "python",
     "metadata": {},
     "outputs": [
      {
       "output_type": "stream",
       "stream": "stdout",
       "text": [
        "Overwriting tutorial.c\n"
       ]
      }
     ],
     "prompt_number": 89
    },
    {
     "cell_type": "code",
     "collapsed": false,
     "input": [
      "! clang tutorial.c utils.c -o bin/tutorial"
     ],
     "language": "python",
     "metadata": {},
     "outputs": [],
     "prompt_number": 90
    },
    {
     "cell_type": "code",
     "collapsed": false,
     "input": [
      "! bin/tutorial 4 6"
     ],
     "language": "python",
     "metadata": {},
     "outputs": [
      {
       "output_type": "stream",
       "stream": "stdout",
       "text": [
        "Hello, world, pi=3.14, num=3, char=a\r\n",
        "\r\n",
        "Point is (3.0000, 0.0000, 2.0000)\r\n",
        "\r\n",
        "0, 1, 4, 9\r\n",
        "\r\n",
        "0.0000, 0.8415, -0.7568, 0.4121\r\n",
        "\r\n",
        "  0.0000,   1.0000,   2.0000,   3.0000,   4.0000,   5.0000\r\n",
        "  6.0000,   7.0000,   8.0000,   9.0000,  10.0000,  11.0000\r\n",
        " 12.0000,  13.0000,  14.0000,  15.0000,  16.0000,  17.0000\r\n",
        " 18.0000,  19.0000,  20.0000,  21.0000,  22.0000,  23.0000\r\n",
        "\r\n",
        "  0.0000,   1.0000,   1.4142,   1.7321,   2.0000,   2.2361\r\n",
        "  2.4495,   2.6458,   2.8284,   3.0000,   3.1623,   3.3166\r\n",
        "  3.4641,   3.6056,   3.7417,   3.8730,   4.0000,   4.1231\r\n",
        "  4.2426,   4.3589,   4.4721,   4.5826,   4.6904,   4.7958\r\n",
        "\r\n",
        "The sum of entries in m2 is 75.7348\r\n"
       ]
      }
     ],
     "prompt_number": 91
    },
    {
     "cell_type": "markdown",
     "metadata": {},
     "source": [
      "### C program structure"
     ]
    },
    {
     "cell_type": "code",
     "collapsed": false,
     "input": [
      "%%file main1.c\n",
      "// simplest possible C program\n",
      "int main() {}"
     ],
     "language": "python",
     "metadata": {},
     "outputs": [
      {
       "output_type": "stream",
       "stream": "stdout",
       "text": [
        "Overwriting main1.c\n"
       ]
      }
     ],
     "prompt_number": 92
    },
    {
     "cell_type": "markdown",
     "metadata": {},
     "source": [
      "### Compilation\n",
      "\n",
      "C code is processed by a *preprocessor*, a *compiler* and a *linker* to produce an executable program:\n",
      "\n",
      "* **Preprocessor**: Mainjob is to copy `#include` source code into files. By convention, source files that are found in \"the usual places\" use the <stdio.h> notation while source files in the local directory that you create use the \"my_header.h\" notation.\n",
      "* **Compiler**: Converts C source files into object code\n",
      "* **Linker**: Resolves symbols from differnt object files (including shared libraries) to create a single executble\n",
      "\n",
      "Typically, preprocssing and compiling are done in one stage, and linking is a done in a separate stage."
     ]
    },
    {
     "cell_type": "code",
     "collapsed": false,
     "input": [
      "! clang -Wall main.c -o bin/main"
     ],
     "language": "python",
     "metadata": {},
     "outputs": [
      {
       "output_type": "stream",
       "stream": "stdout",
       "text": [
        "clang: error: no such file or directory: 'main.c'\r\n",
        "clang: error: no input files\r\n"
       ]
      }
     ],
     "prompt_number": 93
    },
    {
     "cell_type": "code",
     "collapsed": false,
     "input": [
      "%%bash\n",
      "\n",
      "# Again, but separating compilation and linking steps\n",
      "\n",
      "# Preprocess and compile\n",
      "clang -Wall -c main1.c -o bin/main1.o\n",
      "\n",
      "# Link\n",
      "clang -Wall bin/main1.o -o bin/main1"
     ],
     "language": "python",
     "metadata": {},
     "outputs": [],
     "prompt_number": 109
    },
    {
     "cell_type": "markdown",
     "metadata": {},
     "source": [
      "### Command line arguments"
     ]
    },
    {
     "cell_type": "code",
     "collapsed": false,
     "input": [
      "%%file main2.c\n",
      "#include <stdio.h>\n",
      "\n",
      "int main(int argc, char* argv[])\n",
      "{\n",
      "    printf(\"Number of arguments = %d\\n\", argc);\n",
      "    for (int i=0; i<argc; i++) {\n",
      "        printf(\"%s %s\", argv[i], i < (argc-1)? \", \" : \"\\n\");\n",
      "    }\n",
      "}"
     ],
     "language": "python",
     "metadata": {},
     "outputs": [
      {
       "output_type": "stream",
       "stream": "stdout",
       "text": [
        "Overwriting main2.c\n"
       ]
      }
     ],
     "prompt_number": 95
    },
    {
     "cell_type": "code",
     "collapsed": false,
     "input": [
      "%%bash\n",
      "clang -Wall main2.c -o bin/main2\n",
      "bin/main2 Hello this is number 4"
     ],
     "language": "python",
     "metadata": {},
     "outputs": [
      {
       "output_type": "stream",
       "stream": "stdout",
       "text": [
        "Number of arguments = 6\n",
        "bin/main2 , Hello , this , is , number , 4 \n"
       ]
      }
     ],
     "prompt_number": 96
    },
    {
     "cell_type": "markdown",
     "metadata": {},
     "source": [
      "### Types in C\n",
      "\n",
      "The basic types are very simple - use int, float and double for numbers. In genneral, avoid float for plain C code as its lack of precision may bite you unless you are writing CUDA code. Strings are quite nasty to use in C - I would suggest doing all your string processing in Python ...\n",
      "\n",
      "Structs are sort of like classes in Python\n",
      "\n",
      "```c\n",
      "struct point {\n",
      "    double x;\n",
      "    double y;\n",
      "    double z;\n",
      "};\n",
      "\n",
      "struct point p1 = {.x = 1, .y = 2, .z = 3};\n",
      "struct point p2 = {1, 2, 3};\n",
      "struct point p3;\n",
      "p3.x = 1;\n",
      "p3.y = 2;\n",
      "p3.z = 3;\n",
      "```\n",
      "\n",
      "You can define your own types using `typedef` -.e.g.\n",
      "```c\n",
      "#include <stdio.h>\n",
      "struct point {\n",
      "    double x;\n",
      "    double y;\n",
      "    double z;\n",
      "};\n",
      "\n",
      "typedef struct point point;\n",
      "\n",
      "int main() {\n",
      "    point p = {1, 2, 3};\n",
      "    printf(\"%.2f, %.2f, %.2f\", p.x, p.y, p.z);\n",
      "};\n",
      "```\n",
      "\n",
      "\n"
     ]
    },
    {
     "cell_type": "markdown",
     "metadata": {},
     "source": [
      "### Operators\n",
      "Most of the operators in C are the same in Python, but an important difference is the increment/decrement operator. That is\n",
      "```c\n",
      "int c = 10;\n",
      "c++; // same as c = c + 1, i.e., c is now 11\n",
      "c--; // same as c = c - 1, i.e.. c is now 10 again\n",
      "```\n",
      "\n",
      "There are two forms of the incremanet operator - postfix ```c++``` and prefix ```++c```. Both increemnt the varible, but in an expressino, the postfix veersion returns the value before the increment and the prefix returns the value after the increment.\n"
     ]
    },
    {
     "cell_type": "code",
     "collapsed": false,
     "input": [
      "%%file increment.c\n",
      "#include <stdio.h>\n",
      "#include <stdlib.h>\n",
      "\n",
      "int main()\n",
      "{\n",
      "    int x = 3, y;\n",
      "    y = x++; // x is incremented and y takes the value of x before incrementation\n",
      "    printf(\"x = %d, y = %d\\n\", x, y); \n",
      "    y = ++x; // x is incremented and y takes the value of x after incrementation\n",
      "    printf(\"x = %d, y = %d\\n\", x, y); \n",
      "}"
     ],
     "language": "python",
     "metadata": {},
     "outputs": [
      {
       "output_type": "stream",
       "stream": "stdout",
       "text": [
        "Overwriting increment.c\n"
       ]
      }
     ],
     "prompt_number": 97
    },
    {
     "cell_type": "code",
     "collapsed": false,
     "input": [
      "%%bash\n",
      "\n",
      "clang -Wall increment.c -o bin/increment\n",
      "bin/increment"
     ],
     "language": "python",
     "metadata": {},
     "outputs": [
      {
       "output_type": "stream",
       "stream": "stdout",
       "text": [
        "x = 4, y = 3\n",
        "x = 5, y = 5\n"
       ]
      }
     ],
     "prompt_number": 98
    },
    {
     "cell_type": "markdown",
     "metadata": {},
     "source": [
      "#### Ternary operator\n",
      "\n",
      "The ternary operator `expr = condition ? expr1 : expr2` allows an if-else statement to be put in a single line. In English, this says that if condition is True, expr1 is assigned to expr, otherwise expr2 is assigned to expr. We used it in the tutorial code to print a comma between elements in a list unless the elememnt was the last one, in which case we printed a new line '\\n'.\n",
      "\n",
      "Note: There is a similar ternary construct in Python `expr = expr1 if condition else epxr2`."
     ]
    },
    {
     "cell_type": "markdown",
     "metadata": {},
     "source": [
      "### Control of program flow\n",
      "\n",
      "Very similar to Python or R. The examples below should be self-explanatory."
     ]
    },
    {
     "cell_type": "code",
     "collapsed": false,
     "input": [
      "// Interpretation of grades by Asian parent\n",
      "if (grade == 'A') {\n",
      "    printf(\"Acceptable\\n\");\n",
      "} else if (grade == 'B') {\n",
      "    printf(\"Bad\\n\");\n",
      "} else if (grade == 'C') {\n",
      "    printf(\"Catastrophe\\n\");\n",
      "} else if (grade == 'D') {\n",
      "    printf(\"Disowned\\n\");\n",
      "} else {\n",
      "    printf(\"Missing child report filed with local police\\n\")\n",
      "}"
     ],
     "language": "python",
     "metadata": {},
     "outputs": []
    },
    {
     "cell_type": "code",
     "collapsed": false,
     "input": [
      "// Looping variants\n",
      "\n",
      "// the for loop in C consists of the keyword if followed\n",
      "// (initializing statement; loop condition statement; loop update statement)\n",
      "// followed by the body of the loop in curly braces\n",
      "int arr[3] = {1, 2, 3};\n",
      "for (int i=0; i<sizeof(arr)/sizeof(arr[0]); i++) {\n",
      "    printf(\"%d\\n\", i);\n",
      "}\n",
      "\n",
      "int i = 3;\n",
      "while (i > 0) {\n",
      "    i--;\n",
      "}\n",
      "\n",
      "int i = 3;\n",
      "do {\n",
      "    i==;\n",
      "} while (i > 0);"
     ],
     "language": "python",
     "metadata": {},
     "outputs": []
    },
    {
     "cell_type": "markdown",
     "metadata": {},
     "source": [
      "#### Automatic arrays\n",
      "If you know the size of the arrays at initialization (i.e. when the program is first run), you can usually get away with the use of fixed size arrays for which C will automatically manage memory for you.\n",
      "\n",
      "```c\n",
      "int len = 3;\n",
      "\n",
      "// Giving an explicit size\n",
      "double xs[len];\n",
      "for (int i=0; i<len; i++) {\n",
      "    xs[i] = 0.0;\n",
      "}\n",
      "\n",
      "// C can infer size if initializer is given\n",
      "double ys[] = {1, 2, 3};\n",
      "```\n",
      "\n",
      "### Pointers\n",
      "Otherwise, we have to manage memory ourselves using pointers. Bascially, memory in C can be auotmatic, static or dynamic. Variables in automatic memory are managed by the computer, when it goes out of *scope*, the varible disappears. Static variables essentially live forever. Dynamic memory is allocated in the *stack*, and you manage its lifetime. \n",
      "\n",
      "Mini-glossary:\n",
      "* **scope**: Where a variable is visible - basically C variables have *block* scope - variables either live within a pair of curly braces (inlucdes variables in parentheses just before block such as function arguments and the counter in a for loop), or they are visible thorughout the file.\n",
      "* **stack**: Computer memory is divided into a stack (small) and a heap (big). Automatic varianbles are put on the stack; dynamcic variables are put in the heap. Hence if you have a very large array, you would use dynamic memory allocation even if you knwe its size at initialization. \n",
      "\n",
      "Any variable in memory has an address represented as a 64-bit integer in most operating systems. A pointer is basically an integer containing the address of a block of memory. This is what is returned by functions such as `malloc`. In C, a pointer is dentoed by '*'. However, the '*' notation is confusing because its interpreation depends on whehter you are using it in a declaraiton or not. In a declaration\n",
      "```c\n",
      "int *p = malloc(sizeof(int)); // p is a pointer to an integer\n",
      "*p = 5; // *p is an integer\n",
      "```\n",
      "\n",
      "To get the actual address value, we can use the `&` address opertor. This is often used so that a function can alter the value of an argument passed in (e.g. see address.c below)."
     ]
    },
    {
     "cell_type": "code",
     "collapsed": false,
     "input": [
      "%%file pointers.c\n",
      "#include <stdio.h>\n",
      "\n",
      "int main()\n",
      "{\n",
      "    int i = 2;\n",
      "    int j = 3;\n",
      "    int *p;\n",
      "    int *q;\n",
      "    *p = i;\n",
      "    q = &j;\n",
      "    printf(\"p  = %p\\n\", p);\n",
      "    printf(\"*p = %d\\n\", *p);\n",
      "    printf(\"&p = %p\\n\", &p);\n",
      "    printf(\"q  = %p\\n\", q);\n",
      "    printf(\"*q = %d\\n\", *q);\n",
      "    printf(\"&q = %p\\n\", &q);\n",
      "}"
     ],
     "language": "python",
     "metadata": {},
     "outputs": [
      {
       "output_type": "stream",
       "stream": "stdout",
       "text": [
        "Overwriting pointers.c\n"
       ]
      }
     ],
     "prompt_number": 61
    },
    {
     "cell_type": "code",
     "collapsed": false,
     "input": [
      "%%bash\n",
      "\n",
      "clang -Wall -Wno-uninitialized pointers.c -o bin/pointers\n",
      "bin/pointers"
     ],
     "language": "python",
     "metadata": {},
     "outputs": [
      {
       "output_type": "stream",
       "stream": "stdout",
       "text": [
        "p  = 0x7fff5620aab0\n",
        "*p = 2\n",
        "&p = 0x7fff5620aa90\n",
        "q  = 0x7fff5620aa98\n",
        "*q = 3\n",
        "&q = 0x7fff5620aa88\n"
       ]
      }
     ],
     "prompt_number": 62
    },
    {
     "cell_type": "code",
     "collapsed": false,
     "input": [
      "%%file address.c\n",
      "#include <stdio.h>\n",
      "\n",
      "void change_arg(int *p) {\n",
      "    *p *= 2;\n",
      "}\n",
      "int main()\n",
      "{\n",
      "    int x = 5;\n",
      "    change_arg(&x);\n",
      "    printf(\"%d\\n\", x);\n",
      "}"
     ],
     "language": "python",
     "metadata": {},
     "outputs": [
      {
       "output_type": "stream",
       "stream": "stdout",
       "text": [
        "Overwriting address.c\n"
       ]
      }
     ],
     "prompt_number": 99
    },
    {
     "cell_type": "code",
     "collapsed": false,
     "input": [
      "%%bash\n",
      "\n",
      "clang -Wall address.c -o bin/address\n",
      "bin/address"
     ],
     "language": "python",
     "metadata": {},
     "outputs": [
      {
       "output_type": "stream",
       "stream": "stdout",
       "text": [
        "10\n"
       ]
      }
     ],
     "prompt_number": 100
    },
    {
     "cell_type": "markdown",
     "metadata": {},
     "source": [
      "### Pointers (continued)\n",
      "If we want to store a whole sequence of ints, we can do so by simply allocating more memory:\n",
      "\n",
      "```c\n",
      "int *ps = malloc(5 * sizeof(int)); // p is a pointer to an integer\n",
      "for (int i=0; i<5; i++) {\n",
      "    ps[i] = i;\n",
      "}\n",
      "```\n",
      "\n",
      "The computer will find enough space in the heap to store 5 consecutive integers in a **contiguour** way. Since C arrays are all fo the same type, this allows us to do **pointer arithmetic** - i.e. the pointer `ps` is the same as `&ps[0]` and `ps + 2` is the same as `&ps[2]`. An example at this point is helpful."
     ]
    },
    {
     "cell_type": "code",
     "collapsed": false,
     "input": [
      "%%file pointers.c\n",
      "#include <stdio.h>\n",
      "#include <stdlib.h>\n",
      "\n",
      "int main()\n",
      "{\n",
      "    int *ps = malloc(5 * sizeof(int));\n",
      "    for (int i =0; i < 5; i++) {\n",
      "        ps[i] = i + 10;\n",
      "    }\n",
      "\n",
      "    printf(\"%d, %d\\n\", *ps, ps[0]); // remmeber that *ptr is just a regular variable outside of a declaration, in this case, an int\n",
      "    printf(\"%d, %d\\n\", *(ps+2), ps[2]); \n",
      "    printf(\"%d, %d\\n\", *(ps+4), *(&ps[4])); // * and & are inverses\n",
      "}"
     ],
     "language": "python",
     "metadata": {},
     "outputs": [
      {
       "output_type": "stream",
       "stream": "stdout",
       "text": [
        "Overwriting pointers.c\n"
       ]
      }
     ],
     "prompt_number": 101
    },
    {
     "cell_type": "code",
     "collapsed": false,
     "input": [
      "%%bash\n",
      "\n",
      "clang -Wall pointers.c -o bin/pointers\n",
      "bin/pointers"
     ],
     "language": "python",
     "metadata": {},
     "outputs": [
      {
       "output_type": "stream",
       "stream": "stdout",
       "text": [
        "10, 10\n",
        "12, 12\n",
        "14, 14\n"
       ]
      }
     ],
     "prompt_number": 102
    },
    {
     "cell_type": "markdown",
     "metadata": {},
     "source": [
      "### Pointers and arrays\n",
      "\n",
      "An array name is actualy just a constant pointer to the address of the beginning of the array. Hence, we can derferecne an array name just like a pointer. We can also do pointer arithmetic with array names - this leads to the following legal but weird syntax:\n",
      "\n",
      "```c\n",
      "arr[i] = *(arr + i) = i[arr]\n",
      "```"
     ]
    },
    {
     "cell_type": "code",
     "collapsed": false,
     "input": [
      "%%file array_pointer.c\n",
      "#include <stdio.h>\n",
      "\n",
      "int main()\n",
      "{\n",
      "    int arr[] = {1, 2, 3};\n",
      "    printf(\"%d\\t%d\\t%d\\t%d\\t%d\\t%d\\n\", *arr, arr[0], 0[arr], *(arr + 2), arr[2], 2[arr]);\n",
      "}"
     ],
     "language": "python",
     "metadata": {},
     "outputs": [
      {
       "output_type": "stream",
       "stream": "stdout",
       "text": [
        "Overwriting array_pointer.c\n"
       ]
      }
     ],
     "prompt_number": 71
    },
    {
     "cell_type": "code",
     "collapsed": false,
     "input": [
      "%%bash\n",
      "\n",
      "clang -Wall array_pointer.c -o bin/array_pointer\n",
      "bin/array_pointer"
     ],
     "language": "python",
     "metadata": {},
     "outputs": [
      {
       "output_type": "stream",
       "stream": "stdout",
       "text": [
        "1\t1\t1\t3\t3\t3\n"
       ]
      }
     ],
     "prompt_number": 72
    },
    {
     "cell_type": "markdown",
     "metadata": {},
     "source": [
      "### Pointers (continued)\n",
      "\n",
      "**Differnt kinds of nothing**: There is a special null pointer indicated by the keyword NULL that points to nothing. It is typically used for pointer comparisons, since NULL pointers are guaranteed to compare as not equal to any other pointer (including another NULL). In paticular, it is often used as a sentinel value to mark the end of a list. In contrast a void pointer (void \\*) points to a memory location whose type is not decalred. It is used in C for generic operations - for example, `malloc` returns a void pointer. To totally confuse the beginning C student, there is also the NUL keyword, which refers to the `'\\0'` character used to terminate C strings. NUL and NULL are totally differnet beasts.\n",
      "\n",
      "**Deciphering pointer idioms**: A common C idiom that you should get used to is `*q++ = *p++` where p and q are both pointers. In English, this says\n",
      "\n",
      "* \\*q = \\*p (copy the variable pointed to by p into the variable pointed to by q)\n",
      "* increment q\n",
      "* increment p"
     ]
    },
    {
     "cell_type": "code",
     "collapsed": false,
     "input": [
      "%%file pointers2.c\n",
      "#include <stdio.h>\n",
      "#include <stdlib.h>\n",
      "\n",
      "int main()\n",
      "{\n",
      "    // example 1\n",
      "    typedef char* string;\n",
      "    char *s[] = {\"mary \", \"had \", \"a \", \"little \", \"lamb\", NULL};\n",
      "    for (char **sp = s; *sp != NULL; sp++) {\n",
      "        printf(\"%s\", *sp);\n",
      "    }\n",
      "    printf(\"\\n\");\n",
      "\n",
      "    // example 2\n",
      "    char *src = \"abcde\";\n",
      "    char *dest = malloc(5); // char is always 1 byte by C99 definition\n",
      "    \n",
      "    char *p = src + 4;\n",
      "    char *q = dest;\n",
      "    while ((*q++ = *p--)); // put the string in src into dest in reverse order\n",
      "\n",
      "    for (int i = 0; i < 5; i++) {\n",
      "        printf(\"i = %d, src[i] = %c, dest[i] = %c\\n\", i, src[i], dest[i]);\n",
      "    }\n",
      "}"
     ],
     "language": "python",
     "metadata": {},
     "outputs": [
      {
       "output_type": "stream",
       "stream": "stdout",
       "text": [
        "Overwriting pointers2.c\n"
       ]
      }
     ],
     "prompt_number": 103
    },
    {
     "cell_type": "code",
     "collapsed": false,
     "input": [
      "%%bash\n",
      "\n",
      "clang -Wall pointers2.c -o bin/pointers2\n",
      "bin/pointers2"
     ],
     "language": "python",
     "metadata": {},
     "outputs": [
      {
       "output_type": "stream",
       "stream": "stdout",
       "text": [
        "mary had a little lamb\n",
        "i = 0, src[i] = a, dest[i] = e\n",
        "i = 1, src[i] = b, dest[i] = d\n",
        "i = 2, src[i] = c, dest[i] = c\n",
        "i = 3, src[i] = d, dest[i] = b\n",
        "i = 4, src[i] = e, dest[i] = a\n"
       ]
      }
     ],
     "prompt_number": 104
    },
    {
     "cell_type": "markdown",
     "metadata": {},
     "source": [
      "### Functions"
     ]
    },
    {
     "cell_type": "code",
     "collapsed": false,
     "input": [
      "%%file square.c\n",
      "#include <stdio.h>\n",
      "\n",
      "double square(double x)\n",
      "{\n",
      "    return x * x;\n",
      "}\n",
      "\n",
      "int main()\n",
      "{\n",
      "    double a = 3;\n",
      "    printf(\"%f\\n\", square(a));\n",
      "}"
     ],
     "language": "python",
     "metadata": {},
     "outputs": [
      {
       "output_type": "stream",
       "stream": "stdout",
       "text": [
        "Overwriting square.c\n"
       ]
      }
     ],
     "prompt_number": 105
    },
    {
     "cell_type": "code",
     "collapsed": false,
     "input": [
      "%%bash\n",
      "\n",
      "clang -Wall square.c -o bin/square\n",
      "bin/square"
     ],
     "language": "python",
     "metadata": {},
     "outputs": [
      {
       "output_type": "stream",
       "stream": "stdout",
       "text": [
        "9.000000\n"
       ]
      }
     ],
     "prompt_number": 106
    },
    {
     "cell_type": "markdown",
     "metadata": {},
     "source": [
      "### Function pointers\n",
      "\n",
      "How to make a nice function pointer: Start with a regular function declaration func, for example, here func is a function that takes a pair of ints and returns an int\n",
      "\n",
      "```\n",
      "int func(int, int);\n",
      "```\n",
      "\n",
      "To turn it to a function pointer, just add a `*` and wrap in parenthesis like so\n",
      "\n",
      "```\n",
      "int (*func)(int, int);\n",
      "```\n",
      "\n",
      "Now `func` is a pointer to a funciton that takes a pair of ints and returns an int. Finally, add a typedef so that we can use `func` as a new type\n",
      "```\n",
      "typedef int (*func)(int, int);\n",
      "```\n",
      "which allows us to create arrays of function pointers, higher order functions etc as shown in the following example."
     ]
    },
    {
     "cell_type": "code",
     "collapsed": false,
     "input": [
      "%%file square2.c\n",
      "#include <stdio.h>\n",
      "#include <math.h>\n",
      "\n",
      "// Create a function pointer type that takes a double and returns a double\n",
      "typedef double (*func)(double x);\n",
      "\n",
      "// A higher order function that takes just such a function pointer\n",
      "double apply(func f, double x)\n",
      "{\n",
      "    return f(x);\n",
      "}\n",
      "\n",
      "double square(double x)\n",
      "{\n",
      "    return x * x;\n",
      "}\n",
      "\n",
      "double cube(double x)\n",
      "{\n",
      "    return pow(x, 3);\n",
      "}\n",
      "\n",
      "int main()\n",
      "{\n",
      "    double a = 3;\n",
      "    func fs[] = {square, cube, NULL};\n",
      "\n",
      "    for (func *f=fs; *f; f++) {\n",
      "        printf(\"%.1f\\n\", apply(*f, a));\n",
      "    }   \n",
      "}"
     ],
     "language": "python",
     "metadata": {},
     "outputs": [
      {
       "output_type": "stream",
       "stream": "stdout",
       "text": [
        "Overwriting square2.c\n"
       ]
      }
     ],
     "prompt_number": 183
    },
    {
     "cell_type": "code",
     "collapsed": false,
     "input": [
      "%%bash\n",
      "\n",
      "clang -Wall -lm square2.c -o bin/square2\n",
      "bin/square2"
     ],
     "language": "python",
     "metadata": {},
     "outputs": [
      {
       "output_type": "stream",
       "stream": "stdout",
       "text": [
        "9.0\n",
        "27.0\n"
       ]
      }
     ],
     "prompt_number": 184
    },
    {
     "cell_type": "markdown",
     "metadata": {},
     "source": [
      "### Using make to compile C programs\n",
      "\n",
      "As you have seen, the processs of C program compilation can be quite messy, with all sorts of different compiler and linker flags to specify, libraries to add and so on. For this reason, most C programs are compiled using the `make` built tool that you are already familiar with. Here is a simple generic makefile that you can customize to compile your own programs adapted from the book 21st Centur C by Ben Kelmens (O'Reilly Media).\n",
      "\n",
      "* **TARGET**: Typically the name of the execuatble\n",
      "* **OBJECTS**: The intemediate object files - typically there is one file.o for every file.c\n",
      "* **CFLAGS**: Compiler flags, e.g. -Wall (show all warnings), -g (add debug information), -O3 (use level 3 optimization). Also used to indicate paths to headers in non-standard locations, e.g. -I/opt/include\n",
      "* **LDFLAGS**: Linker flags, e.g. -lm (link agains the libmath library). Alos used to indicate pahts to libaries in non-standard locations, e.g. -L/opt/lib\n",
      "* **CC**: Compiler, e.g. gcc or clang or icc\n",
      "\n",
      "In addition, there are traiditonal dummy flags\n",
      "* **all**: Builds all targets (for example, you may also have html and pdf targets that are optional)\n",
      "* **clean**: Remove intermediate and final products generated by the makefile"
     ]
    },
    {
     "cell_type": "code",
     "collapsed": false,
     "input": [
      "%%file makefile\n",
      "TARGET = \n",
      "OBJECTS = \n",
      "CFLAGS = -g -Wall -O3 \n",
      "LDLIBS = \n",
      "CC = c99 \n",
      "\n",
      "all: TARGET\n",
      "    \n",
      "clean:\n",
      "\t rm $(TARGET) $(OBJECTS)\n",
      "\n",
      "$(TARGET): $(OBJECTS)"
     ],
     "language": "python",
     "metadata": {},
     "outputs": [
      {
       "output_type": "stream",
       "stream": "stdout",
       "text": [
        "Overwriting makefile\n"
       ]
      }
     ],
     "prompt_number": 152
    },
    {
     "cell_type": "markdown",
     "metadata": {},
     "source": [
      "Just fill in the blanks with whatever is appropriate for your program. Here is a simple example where the main file `test_main.c` uses a function from `stuff.c` with declarations in `stuff.h` and also depends on the libm C math library."
     ]
    },
    {
     "cell_type": "code",
     "collapsed": false,
     "input": [
      "%%file stuff.h\n",
      "#include <stdio.h>\n",
      "#include <math.h>\n",
      "\n",
      "void do_stuff();"
     ],
     "language": "python",
     "metadata": {},
     "outputs": [
      {
       "output_type": "stream",
       "stream": "stdout",
       "text": [
        "Writing stuff.h\n"
       ]
      }
     ],
     "prompt_number": 132
    },
    {
     "cell_type": "code",
     "collapsed": false,
     "input": [
      "%%file stuff.c\n",
      "#include \"stuff.h\"\n",
      "\n",
      "void do_stuff() {\n",
      "    printf(\"The square root of 2 is %.2f\\n\", sqrt(2));\n",
      "}"
     ],
     "language": "python",
     "metadata": {},
     "outputs": [
      {
       "output_type": "stream",
       "stream": "stdout",
       "text": [
        "Overwriting stuff.c\n"
       ]
      }
     ],
     "prompt_number": 140
    },
    {
     "cell_type": "code",
     "collapsed": false,
     "input": [
      "%%file test_make.c\n",
      "#include \"stuff.h\"\n",
      "\n",
      "int main()\n",
      "{\n",
      "    do_stuff();\n",
      "}"
     ],
     "language": "python",
     "metadata": {},
     "outputs": [
      {
       "output_type": "stream",
       "stream": "stdout",
       "text": [
        "Overwriting test_make.c\n"
       ]
      }
     ],
     "prompt_number": 141
    },
    {
     "cell_type": "code",
     "collapsed": false,
     "input": [
      "%%file makefile\n",
      "TARGET = test_make\n",
      "OBJECTS = stuff.o\n",
      "CFLAGS = -g -Wall -O3 \n",
      "LDLIBS = -lm\n",
      "CC = clang\n",
      "\n",
      "all: $(TARGET)\n",
      "    \n",
      "clean:\n",
      "\t rm $(TARGET) $(OBJECTS)\n",
      "\n",
      "$(TARGET): $(OBJECTS)"
     ],
     "language": "python",
     "metadata": {},
     "outputs": [
      {
       "output_type": "stream",
       "stream": "stdout",
       "text": [
        "Overwriting makefile\n"
       ]
      }
     ],
     "prompt_number": 153
    },
    {
     "cell_type": "code",
     "collapsed": false,
     "input": [
      "! make"
     ],
     "language": "python",
     "metadata": {},
     "outputs": [
      {
       "output_type": "stream",
       "stream": "stdout",
       "text": [
        "make: Nothing to be done for `all'.\r\n"
       ]
      }
     ],
     "prompt_number": 154
    },
    {
     "cell_type": "code",
     "collapsed": false,
     "input": [
      "! ./test_make"
     ],
     "language": "python",
     "metadata": {},
     "outputs": [
      {
       "output_type": "stream",
       "stream": "stdout",
       "text": [
        "The square root of 2 is 1.41\r\n"
       ]
      }
     ],
     "prompt_number": 155
    },
    {
     "cell_type": "code",
     "collapsed": false,
     "input": [
      "# Make is clever enough to recompile only what has been changed since the last time it was called\n",
      "! make"
     ],
     "language": "python",
     "metadata": {},
     "outputs": [
      {
       "output_type": "stream",
       "stream": "stdout",
       "text": [
        "make: Nothing to be done for `all'.\r\n"
       ]
      }
     ],
     "prompt_number": 156
    },
    {
     "cell_type": "code",
     "collapsed": false,
     "input": [
      "! make clean"
     ],
     "language": "python",
     "metadata": {},
     "outputs": [
      {
       "output_type": "stream",
       "stream": "stdout",
       "text": [
        "rm test_make stuff.o\r\n"
       ]
      }
     ],
     "prompt_number": 157
    },
    {
     "cell_type": "code",
     "collapsed": false,
     "input": [
      "! make"
     ],
     "language": "python",
     "metadata": {},
     "outputs": [
      {
       "output_type": "stream",
       "stream": "stdout",
       "text": [
        "clang -g -Wall -O3    -c -o stuff.o stuff.c\r\n"
       ]
      },
      {
       "output_type": "stream",
       "stream": "stdout",
       "text": [
        "clang -g -Wall -O3     test_make.c stuff.o  -lm -o test_make\r\n"
       ]
      }
     ],
     "prompt_number": 151
    },
    {
     "cell_type": "markdown",
     "metadata": {},
     "source": [
      "### Debugging programs (understanding compiler warnings and errors + use of gdb)\n",
      "\n",
      "Try to fix the following buggy program."
     ]
    },
    {
     "cell_type": "code",
     "collapsed": false,
     "input": [
      "%%file buggy.c\n",
      "\n",
      "# Create a function pointer type that takes a double and returns a double\n",
      "double *func(double x);\n",
      "\n",
      "# A higher order function that takes just such a function pointer\n",
      "double apply(func f, double x)\n",
      "{\n",
      "    return f(x);\n",
      "}\n",
      "\n",
      "double square(double x)\n",
      "{\n",
      "    return x * x;\n",
      "}\n",
      "\n",
      "double cube(double x)\n",
      "{\n",
      "    return pow(3, x);\n",
      "}\n",
      "\n",
      "double mystery(double x)\n",
      "{\n",
      "    double y = 10;\n",
      "    if (x < 10)\n",
      "        x = square(x);\n",
      "    else\n",
      "        x += y;\n",
      "        x = cube(x);\n",
      "    return x;\n",
      "}\n",
      "\n",
      "int main()\n",
      "{\n",
      "    double a = 3;\n",
      "    func fs[] = {square, cube, mystery, NULL}\n",
      "\n",
      "    for (func *f=fs, f != NULL, f++) {\n",
      "        printf(\"%d\\n\", apply(f, a));\n",
      "    }   \n",
      "}"
     ],
     "language": "python",
     "metadata": {},
     "outputs": [
      {
       "output_type": "stream",
       "stream": "stdout",
       "text": [
        "Overwriting buggy.c\n"
       ]
      }
     ],
     "prompt_number": 185
    },
    {
     "cell_type": "code",
     "collapsed": false,
     "input": [
      "! clang -g -Wall buggy.c -o buggy"
     ],
     "language": "python",
     "metadata": {},
     "outputs": [
      {
       "output_type": "stream",
       "stream": "stdout",
       "text": [
        "\u001b[1mbuggy.c:2:3: \u001b[0m\u001b[0;1;31merror: \u001b[0m\u001b[1minvalid preprocessing directive\u001b[0m\r\n",
        "# Create a function pointer type that takes a double and returns a double\r\n",
        "\u001b[0;1;32m  ^\r\n",
        "\u001b[0m\u001b[1mbuggy.c:5:3: \u001b[0m\u001b[0;1;31merror: \u001b[0m\u001b[1minvalid preprocessing directive\u001b[0m\r\n",
        "# A higher order function that takes just such a function pointer\r\n",
        "\u001b[0;1;32m  ^\r\n",
        "\u001b[0m\u001b[1mbuggy.c:6:14: \u001b[0m\u001b[0;1;31merror: \u001b[0m\u001b[1munknown type name 'func'\u001b[0m\r\n",
        "double apply(func f, double x)\r\n",
        "\u001b[0;1;32m             ^\r\n",
        "\u001b[0m\u001b[1mbuggy.c:18:12: \u001b[0m\u001b[0;1;35mwarning: \u001b[0m\u001b[1mimplicitly declaring library function 'pow' with type\r\n",
        "      'double (double, double)'\u001b[0m\r\n",
        "    return pow(3, x);\r\n",
        "\u001b[0;1;32m           ^\r\n",
        "\u001b[0m\u001b[1mbuggy.c:18:12: \u001b[0m\u001b[0;1;30mnote: \u001b[0mplease include the header <math.h> or explicitly provide a\r\n",
        "      declaration for 'pow'\u001b[0m\r\n",
        "\u001b[1mbuggy.c:35:9: \u001b[0m\u001b[0;1;31merror: \u001b[0m\u001b[1mexpected ';' after expression\u001b[0m\r\n",
        "    func fs[] = {square, cube, mystery, NULL}\r\n",
        "\u001b[0;1;32m        ^\r\n",
        "\u001b[0m\u001b[0;32m        ;\r\n",
        "\u001b[0m\u001b[1mbuggy.c:35:10: \u001b[0m\u001b[0;1;31merror: \u001b[0m\u001b[1muse of undeclared identifier 'fs'\u001b[0m\r\n",
        "    func fs[] = {square, cube, mystery, NULL}\r\n",
        "\u001b[0;1;32m         ^\r\n",
        "\u001b[0m\u001b[1mbuggy.c:35:13: \u001b[0m\u001b[0;1;31merror: \u001b[0m\u001b[1mexpected expression\u001b[0m\r\n",
        "    func fs[] = {square, cube, mystery, NULL}\r\n",
        "\u001b[0;1;32m            ^\r\n",
        "\u001b[0m\u001b[1mbuggy.c:35:17: \u001b[0m\u001b[0;1;31merror: \u001b[0m\u001b[1mexpected expression\u001b[0m\r\n",
        "    func fs[] = {square, cube, mystery, NULL}\r\n",
        "\u001b[0;1;32m                ^\r\n",
        "\u001b[0m\u001b[1mbuggy.c:35:5: \u001b[0m\u001b[0;1;35mwarning: \u001b[0m\u001b[1mexpression result unused [-Wunused-value]\u001b[0m\r\n",
        "    func fs[] = {square, cube, mystery, NULL}\r\n",
        "\u001b[0;1;32m    ^~~~\r\n",
        "\u001b[0m2 warnings and 7 errors generated.\r\n"
       ]
      }
     ],
     "prompt_number": 186
    },
    {
     "cell_type": "markdown",
     "metadata": {},
     "source": [
      "### Why not C? \n",
      "\n",
      "What other language has an annual Obfuscated Code Contest <http://www.ioccc.org/>? In particular, the following features of C are very conducive to writing unreadable code:\n",
      "\n",
      "* lax rules for identifiers (e.g. _o, _0, _O, O are all valide identifiers)\n",
      "* chars are bytes and pointers are integers\n",
      "* pointer arithmetic means that `array[index]` is the same as `*(array+index)` whihc is the same as `index[array]`!\n",
      "* lax formatting rules especially with respect to whitespace (or lack of it)\n",
      "* Use of the comma operator to combine multiple expressions together with the ?: operator\n",
      "* Recursive function calls - e.g. main calling main repeatedly is legal C\n",
      "\n",
      "Here is one winning entry from the 2013 IOCCC [entry](http://www.ioccc.org/2013/dlowe/hint.html) that should warm the heart of statisticians - it displays sparklines (invented by Tufte).\n",
      "\n",
      "```c\n",
      "main(a,b)char**b;{int c=1,d=c,e=a-d;for(;e;e--)_(e)<_(c)?c=e:_(e)>_(d)?d=e:7;\n",
      "while(++e<a)printf(\"\\xe2\\x96%c\",129+(**b=8*(_(e)-_(c))/(_(d)-_(c))));}\n",
      "```"
     ]
    },
    {
     "cell_type": "code",
     "collapsed": false,
     "input": [
      "%%file sparkl.c\n",
      "main(a,b)char**b;{int c=1,d=c,e=a-d;for(;e;e--)_(e)<_(c)?c=e:_(e)>_(d)?d=e:7;\n",
      "while(++e<a)printf(\"\\xe2\\x96%c\",129+(**b=8*(_(e)-_(c))/(_(d)-_(c))));}"
     ],
     "language": "python",
     "metadata": {},
     "outputs": [
      {
       "output_type": "stream",
       "stream": "stdout",
       "text": [
        "Overwriting sparkl.c\n"
       ]
      }
     ],
     "prompt_number": 83
    },
    {
     "cell_type": "code",
     "collapsed": false,
     "input": [
      "! gcc -Wno-implicit-int -include stdio.h -include stdlib.h -D'_(x)=strtof(b[x],0)' sparkl.c -o bin/sparkl"
     ],
     "language": "python",
     "metadata": {},
     "outputs": [],
     "prompt_number": 84
    },
    {
     "cell_type": "code",
     "collapsed": false,
     "input": [
      "import numpy as np\n",
      "np.set_printoptions(linewidth=np.infty)\n",
      "print ' '.join(map(str, (100*np.sin(np.linspace(0, 8*np.pi, 30))).astype('int')))"
     ],
     "language": "python",
     "metadata": {},
     "outputs": [
      {
       "output_type": "stream",
       "stream": "stdout",
       "text": [
        "0 76 98 51 -31 -92 -88 -21 60 99 68 -10 -82 -96 -41 41 96 82 10 -68 -99 -60 21 88 92 31 -51 -98 -76 0\n"
       ]
      }
     ],
     "prompt_number": 85
    },
    {
     "cell_type": "code",
     "collapsed": false,
     "input": [
      "%%bash\n",
      "\n",
      "bin/sparkl 0 76 98 51 -31 -92 -88 -21 60 99 68 -10 -82 -96 -41 41 96 82 10 -68 -99 -60 21 88 92 31 -51 -98 -76 0"
     ],
     "language": "python",
     "metadata": {},
     "outputs": [
      {
       "output_type": "stream",
       "stream": "stdout",
       "text": [
        "\u2585\u2588\u2588\u2587\u2583\u2581\u2581\u2584\u2587\u2589\u2587\u2584\u2581\u2581\u2583\u2586\u2588\u2588\u2585\u2582\u2581\u2582\u2585\u2588\u2588\u2586\u2582\u2581\u2581\u2585"
       ]
      }
     ],
     "prompt_number": 86
    },
    {
     "cell_type": "markdown",
     "metadata": {},
     "source": [
      "If you have too much time on your hands and really want to know how **not** to write C code (unless you are crafting an entry for the IOCCC), I recommend this tutorial\n",
      "<http://www.dreamincode.net/forums/topic/38102-obfuscated-code-a-simple-introduction/>"
     ]
    },
    {
     "cell_type": "code",
     "collapsed": false,
     "input": [],
     "language": "python",
     "metadata": {},
     "outputs": []
    }
   ],
   "metadata": {}
  }
 ]
}