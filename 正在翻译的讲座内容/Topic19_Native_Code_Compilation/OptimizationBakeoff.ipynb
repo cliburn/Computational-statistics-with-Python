{
 "metadata": {
  "name": "",
  "signature": "sha256:e29a0bd9779d467154d59557268260ecd0c47c0e17d5d8e7252cf1842d6de46b"
 },
 "nbformat": 3,
 "nbformat_minor": 0,
 "worksheets": [
  {
   "cells": [
    {
     "cell_type": "markdown",
     "metadata": {},
     "source": [
      "Interfacing with compiled languages\n",
      "----\n",
      "\n",
      "Python is a high-level interpreted language, which greatly reduces the time taken to prototyte and develop useful statistical programs. However, the trade-off is that *pure* Python programs can be orders of magnitude slower than programs in compiled languages such as C/C++ or Forran. Hence most numerical and statistical programs often include interfaces to compiled code (e.g. numpy which is written in C) or more recently, are just-in-time compiled to native machine code (e.g. numba, pymc3). Fortunately, it is relatively easy to write custom modules that comple to native machine code and call them from Pytthon, an important factor in the popularity of Python as a langugae for scientific and statistical computing. \n",
      "\n",
      "We will use the example of calculating the pairwsise Euclidean distance between all points to illustrate the various methods of interfacing with native code.\n",
      "\n",
      "Adapted and extended from <http://nbviewer.ipython.org/url/jakevdp.github.io/downloads/notebooks/NumbaCython.ipynb>"
     ]
    },
    {
     "cell_type": "code",
     "collapsed": false,
     "input": [
      "! pip install dsltools \n",
      "! pip install parakeet"
     ],
     "language": "python",
     "metadata": {},
     "outputs": [
      {
       "output_type": "stream",
       "stream": "stdout",
       "text": [
        "Requirement already satisfied (use --upgrade to upgrade): dsltools in /Users/cliburn/anaconda/lib/python2.7/site-packages\r\n"
       ]
      },
      {
       "output_type": "stream",
       "stream": "stdout",
       "text": [
        "Requirement already satisfied (use --upgrade to upgrade): parakeet in /Users/cliburn/anaconda/lib/python2.7/site-packages\r\n",
        "Requirement already satisfied (use --upgrade to upgrade): numpy>=1.7 in /Users/cliburn/anaconda/lib/python2.7/site-packages (from parakeet)\r\n",
        "Requirement already satisfied (use --upgrade to upgrade): dsltools in /Users/cliburn/anaconda/lib/python2.7/site-packages (from parakeet)\r\n"
       ]
      }
     ],
     "prompt_number": 4
    },
    {
     "cell_type": "code",
     "collapsed": false,
     "input": [
      "%matplotlib inline\n",
      "import numpy as np\n",
      "import matplotlib.pyplot as plt\n",
      "from numba import jit\n",
      "import numexpr as ne\n",
      "import parakeet\n",
      "%precision 2"
     ],
     "language": "python",
     "metadata": {},
     "outputs": [
      {
       "metadata": {},
       "output_type": "pyout",
       "prompt_number": 5,
       "text": [
        "u'%.2f'"
       ]
      }
     ],
     "prompt_number": 5
    },
    {
     "cell_type": "markdown",
     "metadata": {},
     "source": [
      "### Make up some test data for use later"
     ]
    },
    {
     "cell_type": "code",
     "collapsed": false,
     "input": [
      "A = np.array([[0.0,0.0],[3.0,4.0]])\n",
      "n = 1000\n",
      "p = 3\n",
      "xs = np.random.random((n, p))"
     ],
     "language": "python",
     "metadata": {},
     "outputs": [],
     "prompt_number": 6
    },
    {
     "cell_type": "markdown",
     "metadata": {},
     "source": [
      "### \"Pure\" Python version\n",
      "\n",
      "Only impure part is use of numpy array to collect results."
     ]
    },
    {
     "cell_type": "code",
     "collapsed": false,
     "input": [
      "def pdist_python(xs):\n",
      "    n, p = xs.shape\n",
      "    D = np.empty((n, n), np.float)\n",
      "    for i in range(n):\n",
      "        for j in range(n):\n",
      "            s = 0.0\n",
      "            for k in range(p):\n",
      "                tmp = xs[i,k] - xs[j,k]\n",
      "                s += tmp * tmp\n",
      "            D[i, j] = s**0.5\n",
      "    return D"
     ],
     "language": "python",
     "metadata": {},
     "outputs": [],
     "prompt_number": 7
    },
    {
     "cell_type": "code",
     "collapsed": false,
     "input": [
      "print pdist_python(A)\n",
      "%timeit -n 1 pdist_python(xs)"
     ],
     "language": "python",
     "metadata": {},
     "outputs": [
      {
       "output_type": "stream",
       "stream": "stdout",
       "text": [
        "[[ 0.  5.]\n",
        " [ 5.  0.]]\n",
        "1 loops, best of 3: 3.55 s per loop"
       ]
      },
      {
       "output_type": "stream",
       "stream": "stdout",
       "text": [
        "\n"
       ]
      }
     ],
     "prompt_number": 8
    },
    {
     "cell_type": "markdown",
     "metadata": {},
     "source": [
      "### Numpy version\n",
      "\n",
      "The numpy version makes use of advanced broadcasting. To follow the code below, we will have to understand numpy broadcasting rules a little better. Here is the gist from:\n",
      "\n",
      "From <http://docs.scipy.org/doc/numpy/reference/arrays.indexing.html#numpy.newaxis>\n",
      "\n",
      "When operating on two arrays, NumPy compares their shapes element-wise. It starts with the trailing dimensions, and works its way forward. Two dimensions are compatible when\n",
      "\n",
      "* they are equal, or\n",
      "* one of them is 1\n",
      "\n",
      "Arrays do not need to have the same number of dimensions. When either of the dimensions compared is one, the larger of the two is used. In other words, the smaller of two axes is stretched or \u201ccopied\u201d to match the other."
     ]
    },
    {
     "cell_type": "markdown",
     "metadata": {},
     "source": [
      "#### Distance between scalars"
     ]
    },
    {
     "cell_type": "code",
     "collapsed": false,
     "input": [
      "x = np.arange(10)\n",
      "x"
     ],
     "language": "python",
     "metadata": {},
     "outputs": [
      {
       "metadata": {},
       "output_type": "pyout",
       "prompt_number": 9,
       "text": [
        "array([0, 1, 2, 3, 4, 5, 6, 7, 8, 9])"
       ]
      }
     ],
     "prompt_number": 9
    },
    {
     "cell_type": "code",
     "collapsed": false,
     "input": [
      "# if we insert an extra dimension into x with np.newaxis\n",
      "# we get a (10, 1) matrix\n",
      "x[:, np.newaxis].shape"
     ],
     "language": "python",
     "metadata": {},
     "outputs": [
      {
       "metadata": {},
       "output_type": "pyout",
       "prompt_number": 10,
       "text": [
        "(10, 1)"
       ]
      }
     ],
     "prompt_number": 10
    },
    {
     "cell_type": "code",
     "collapsed": false,
     "input": [
      "# if we insert an extra dimension into x with np.newaxis\n",
      "# we get a (10, 1) matrix\n",
      "x[:, np.newaxis].shape"
     ],
     "language": "python",
     "metadata": {},
     "outputs": [
      {
       "metadata": {},
       "output_type": "pyout",
       "prompt_number": 11,
       "text": [
        "(10, 1)"
       ]
      }
     ],
     "prompt_number": 11
    },
    {
     "cell_type": "markdown",
     "metadata": {},
     "source": [
      "Comparing shape\n",
      "\n",
      "```\n",
      "x[:, None] = 10 x 1\n",
      "x          =     10\n",
      "```\n",
      "\n",
      "When we subtract the two arrays, broadcasting rules first match the the trailing axis to 10 (so x[:, None] is stretched to be (10,10)), and then matching the next axis, x is stretechd to also be (10,10)."
     ]
    },
    {
     "cell_type": "code",
     "collapsed": false,
     "input": [
      "# This is the pairwise distance matrix!\n",
      "x[:, None] - x"
     ],
     "language": "python",
     "metadata": {},
     "outputs": [
      {
       "metadata": {},
       "output_type": "pyout",
       "prompt_number": 12,
       "text": [
        "array([[ 0, -1, -2, -3, -4, -5, -6, -7, -8, -9],\n",
        "       [ 1,  0, -1, -2, -3, -4, -5, -6, -7, -8],\n",
        "       [ 2,  1,  0, -1, -2, -3, -4, -5, -6, -7],\n",
        "       [ 3,  2,  1,  0, -1, -2, -3, -4, -5, -6],\n",
        "       [ 4,  3,  2,  1,  0, -1, -2, -3, -4, -5],\n",
        "       [ 5,  4,  3,  2,  1,  0, -1, -2, -3, -4],\n",
        "       [ 6,  5,  4,  3,  2,  1,  0, -1, -2, -3],\n",
        "       [ 7,  6,  5,  4,  3,  2,  1,  0, -1, -2],\n",
        "       [ 8,  7,  6,  5,  4,  3,  2,  1,  0, -1],\n",
        "       [ 9,  8,  7,  6,  5,  4,  3,  2,  1,  0]])"
       ]
      }
     ],
     "prompt_number": 12
    },
    {
     "cell_type": "markdown",
     "metadata": {},
     "source": [
      "#### Distance between vectors"
     ]
    },
    {
     "cell_type": "code",
     "collapsed": false,
     "input": [
      "# Suppose we have a collection of vectors of dimeniosn 2\n",
      "# In the example below, there are 5 such 2-vectors\n",
      "# We want to calculate the Euclidean distance \n",
      "# for all pair-wise comparisons in a 5 x 5 matrix\n",
      "\n",
      "x = np.arange(10).reshape(5,2)\n",
      "print x.shape\n",
      "print x"
     ],
     "language": "python",
     "metadata": {},
     "outputs": [
      {
       "output_type": "stream",
       "stream": "stdout",
       "text": [
        "(5, 2)\n",
        "[[0 1]\n",
        " [2 3]\n",
        " [4 5]\n",
        " [6 7]\n",
        " [8 9]]\n"
       ]
      }
     ],
     "prompt_number": 13
    },
    {
     "cell_type": "code",
     "collapsed": false,
     "input": [
      "x[:, None, :].shape"
     ],
     "language": "python",
     "metadata": {},
     "outputs": [
      {
       "metadata": {},
       "output_type": "pyout",
       "prompt_number": 14,
       "text": [
        "(5, 1, 2)"
       ]
      }
     ],
     "prompt_number": 14
    },
    {
     "cell_type": "markdown",
     "metadata": {},
     "source": [
      "Comparing shape\n",
      "\n",
      "```\n",
      "x[:, None, :] = 5 x 1 x 2\n",
      "x          =        5 x 2\n",
      "```\n",
      "\n",
      "From the rules of broadcasting, we expect the result of subtraction to be a 5 x 5 x 2 array. To calculate Euclidean distance, we need to find the square root of the sum of squares for the 5 x 5 collection of 2-vectors."
     ]
    },
    {
     "cell_type": "code",
     "collapsed": false,
     "input": [
      "delta = x[:, None, :] - x\n",
      "pdist = np.sqrt((delta**2).sum(-1))\n",
      "pdist"
     ],
     "language": "python",
     "metadata": {},
     "outputs": [
      {
       "metadata": {},
       "output_type": "pyout",
       "prompt_number": 15,
       "text": [
        "array([[  0.  ,   2.83,   5.66,   8.49,  11.31],\n",
        "       [  2.83,   0.  ,   2.83,   5.66,   8.49],\n",
        "       [  5.66,   2.83,   0.  ,   2.83,   5.66],\n",
        "       [  8.49,   5.66,   2.83,   0.  ,   2.83],\n",
        "       [ 11.31,   8.49,   5.66,   2.83,   0.  ]])"
       ]
      }
     ],
     "prompt_number": 15
    },
    {
     "cell_type": "markdown",
     "metadata": {},
     "source": [
      "#### Finally, we come to the anti-climax - a one-liner function!"
     ]
    },
    {
     "cell_type": "code",
     "collapsed": false,
     "input": [
      "def pdist_numpy(xs):\n",
      "    return np.sqrt(((xs[:,None,:] - xs)**2).sum(-1))"
     ],
     "language": "python",
     "metadata": {},
     "outputs": [],
     "prompt_number": 16
    },
    {
     "cell_type": "code",
     "collapsed": false,
     "input": [
      "print pdist_numpy(A)\n",
      "%timeit pdist_numpy(xs)"
     ],
     "language": "python",
     "metadata": {},
     "outputs": [
      {
       "output_type": "stream",
       "stream": "stdout",
       "text": [
        "[[ 0.  5.]\n",
        " [ 5.  0.]]\n",
        "10 loops, best of 3: 96.6 ms per loop"
       ]
      },
      {
       "output_type": "stream",
       "stream": "stdout",
       "text": [
        "\n"
       ]
      }
     ],
     "prompt_number": 17
    },
    {
     "cell_type": "markdown",
     "metadata": {},
     "source": [
      "### Numexpr version"
     ]
    },
    {
     "cell_type": "code",
     "collapsed": false,
     "input": [
      "def pdist_numexpr(xs):\n",
      "    a = xs[:, np.newaxis, :]\n",
      "    return np.sqrt(ne.evaluate('sum((a-xs)**2, axis=2)'))"
     ],
     "language": "python",
     "metadata": {},
     "outputs": [],
     "prompt_number": 18
    },
    {
     "cell_type": "code",
     "collapsed": false,
     "input": [
      "print pdist_numexpr(A)\n",
      "%timeit pdist_numexpr(xs)"
     ],
     "language": "python",
     "metadata": {},
     "outputs": [
      {
       "output_type": "stream",
       "stream": "stdout",
       "text": [
        "[[ 0.  5.]\n",
        " [ 5.  0.]]\n",
        "10 loops, best of 3: 31.4 ms per loop"
       ]
      },
      {
       "output_type": "stream",
       "stream": "stdout",
       "text": [
        "\n"
       ]
      }
     ],
     "prompt_number": 19
    },
    {
     "cell_type": "markdown",
     "metadata": {},
     "source": [
      "### Numba version"
     ]
    },
    {
     "cell_type": "code",
     "collapsed": false,
     "input": [
      "pdist_numba = jit(pdist_python)"
     ],
     "language": "python",
     "metadata": {},
     "outputs": [],
     "prompt_number": 20
    },
    {
     "cell_type": "code",
     "collapsed": false,
     "input": [
      "print pdist_numba(A)\n",
      "%timeit pdist_numba(xs)"
     ],
     "language": "python",
     "metadata": {},
     "outputs": [
      {
       "output_type": "stream",
       "stream": "stdout",
       "text": [
        "[[ 0.  5.]\n",
        " [ 5.  0.]]\n",
        "100 loops, best of 3: 13.7 ms per loop"
       ]
      },
      {
       "output_type": "stream",
       "stream": "stdout",
       "text": [
        "\n"
       ]
      }
     ],
     "prompt_number": 21
    },
    {
     "cell_type": "markdown",
     "metadata": {},
     "source": [
      "### NumbaPro version"
     ]
    },
    {
     "cell_type": "code",
     "collapsed": false,
     "input": [
      "import numbapro\n",
      "pdist_numbapro = numbapro.jit(pdist_python)"
     ],
     "language": "python",
     "metadata": {},
     "outputs": [],
     "prompt_number": 22
    },
    {
     "cell_type": "code",
     "collapsed": false,
     "input": [
      "pdist_numbapro(A)\n",
      "%timeit pdist_numbapro(xs)"
     ],
     "language": "python",
     "metadata": {},
     "outputs": [
      {
       "output_type": "stream",
       "stream": "stdout",
       "text": [
        "100 loops, best of 3: 13.6 ms per loop\n"
       ]
      }
     ],
     "prompt_number": 23
    },
    {
     "cell_type": "markdown",
     "metadata": {},
     "source": [
      "### Parakeet version"
     ]
    },
    {
     "cell_type": "code",
     "collapsed": false,
     "input": [
      "pdist_parakeet = parakeet.jit(pdist_python)"
     ],
     "language": "python",
     "metadata": {},
     "outputs": [],
     "prompt_number": 24
    },
    {
     "cell_type": "code",
     "collapsed": false,
     "input": [
      "print pdist_parakeet(A)\n",
      "%timeit pdist_parakeet(xs)"
     ],
     "language": "python",
     "metadata": {},
     "outputs": [
      {
       "output_type": "stream",
       "stream": "stdout",
       "text": [
        "[[ 0.  5.]\n",
        " [ 5.  0.]]\n",
        "100 loops, best of 3: 20.4 ms per loop"
       ]
      },
      {
       "output_type": "stream",
       "stream": "stdout",
       "text": [
        "\n"
       ]
      }
     ],
     "prompt_number": 25
    },
    {
     "cell_type": "markdown",
     "metadata": {},
     "source": [
      "### Cython version\n",
      "\n",
      "For more control over the translation to C, most Python scientific developers will use the Cython package. Essentially, this is a language that resembles Python with type annotations. The Cython code is then compiled into native code tranaparently. The great advantage of Cythonn over ther approaches are:\n",
      "\n",
      "* A Python program is also valid Cython program, so optimization can occur incrementally\n",
      "* Fine degree of control over degree of optimization\n",
      "* Easy to use - handles details about the C compiler and shared library generation\n",
      "* Cythonmagic extension comes built into IPyhton notebook\n",
      "* Can run parallel code with the nogil decorator\n",
      "* Fully optimized code runs at thee same speed as C in most cases"
     ]
    },
    {
     "cell_type": "code",
     "collapsed": false,
     "input": [
      "%load_ext cythonmagic"
     ],
     "language": "python",
     "metadata": {},
     "outputs": [],
     "prompt_number": 26
    },
    {
     "cell_type": "code",
     "collapsed": false,
     "input": [
      "%%cython\n",
      "\n",
      "import numpy as np\n",
      "cimport cython\n",
      "from libc.math cimport sqrt\n",
      "\n",
      "@cython.boundscheck(False)\n",
      "@cython.wraparound(False)\n",
      "def pdist_cython(double[:, ::1] xs):\n",
      "    cdef int n = xs.shape[0]\n",
      "    cdef int p = xs.shape[1]\n",
      "    cdef double tmp, d\n",
      "    cdef double[:, ::1] D = np.empty((n, n), dtype=np.float)\n",
      "    for i in range(n):\n",
      "        for j in range(n):\n",
      "            d = 0.0\n",
      "            for k in range(p):\n",
      "                tmp = xs[i, k] - xs[j, k]\n",
      "                d += tmp * tmp\n",
      "            D[i, j] = sqrt(d)\n",
      "    return np.asarray(D)"
     ],
     "language": "python",
     "metadata": {},
     "outputs": [],
     "prompt_number": 27
    },
    {
     "cell_type": "code",
     "collapsed": false,
     "input": [
      "print pdist_cython(A)\n",
      "%timeit pdist_cython(xs)"
     ],
     "language": "python",
     "metadata": {},
     "outputs": [
      {
       "output_type": "stream",
       "stream": "stdout",
       "text": [
        "[[ 0.  5.]\n",
        " [ 5.  0.]]\n",
        "100 loops, best of 3: 7.07 ms per loop"
       ]
      },
      {
       "output_type": "stream",
       "stream": "stdout",
       "text": [
        "\n"
       ]
      }
     ],
     "prompt_number": 28
    },
    {
     "cell_type": "markdown",
     "metadata": {},
     "source": [
      "### C version\n",
      "\n",
      "There are many ways to wrap C code for Python, such as [Swig](http://www.swig.org/) or [Boost Python with numpy](https://github.com/ndarray/Boost.NumPy). However, the standard library comes with [ctypes](https://docs.python.org/2/library/ctypes.html), a foreign function library that can be used to wrap C functions for use in pure python. This involves a little more work than the other approaches as shown below."
     ]
    },
    {
     "cell_type": "code",
     "collapsed": false,
     "input": [
      "%%file pdist_c.c\n",
      "#include <math.h>\n",
      "\n",
      "void pdist_c(int n, int p, double xs[n*p], double D[n*n]) {\n",
      "    for (int i=0; i<n; i++) {\n",
      "        for (int j=0; j<n; j++) {\n",
      "            double s = 0.0;\n",
      "            for (int k=0; k<p; k++) {\n",
      "                double tmp = xs[i*p+k] - xs[j*p+k];\n",
      "                s += tmp*tmp;\n",
      "            }\n",
      "            D[i*n+j] = sqrt(s);\n",
      "        }\n",
      "    }\n",
      "}"
     ],
     "language": "python",
     "metadata": {},
     "outputs": [
      {
       "output_type": "stream",
       "stream": "stdout",
       "text": [
        "Writing pdist_c.c\n"
       ]
      }
     ],
     "prompt_number": 29
    },
    {
     "cell_type": "code",
     "collapsed": false,
     "input": [
      "# Compile to a shared library\n",
      "# Mac\n",
      "! gcc -O3 -bundle -undefined dynamic_lookup pdist_c.c -o pdist_c.so\n",
      "# Linux: \n",
      "# ! gcc -O3 -fPIC -shared -std=c99 -lm pdist_c.c -o pdist_c.so"
     ],
     "language": "python",
     "metadata": {},
     "outputs": [],
     "prompt_number": 30
    },
    {
     "cell_type": "code",
     "collapsed": false,
     "input": [
      "from ctypes import CDLL, c_int, c_void_p\n",
      "\n",
      "def pdist_c(xs):\n",
      "    \n",
      "    # Use ctypes to load the library\n",
      "    lib = CDLL('./pdist_c.so')\n",
      "\n",
      "    # We need to give the argument adn return types explicitly\n",
      "    lib.pdist_c.argtypes = [c_int, c_int, np.ctypeslib.ndpointer(dtype = np.float), np.ctypeslib.ndpointer(dtype = np.float)]\n",
      "    lib.pdist_c.restype  = c_void_p\n",
      "    \n",
      "    n, p = xs.shape\n",
      "    D = np.empty((n, n), np.float)\n",
      "    \n",
      "    lib.pdist_c(n, p, xs, D)\n",
      "    return D"
     ],
     "language": "python",
     "metadata": {},
     "outputs": [],
     "prompt_number": 31
    },
    {
     "cell_type": "code",
     "collapsed": false,
     "input": [
      "print pdist_c(A)\n",
      "%timeit pdist_c(xs)"
     ],
     "language": "python",
     "metadata": {},
     "outputs": [
      {
       "output_type": "stream",
       "stream": "stdout",
       "text": [
        "[[ 0.  5.]\n",
        " [ 5.  0.]]\n",
        "100 loops, best of 3: 7.51 ms per loop"
       ]
      },
      {
       "output_type": "stream",
       "stream": "stdout",
       "text": [
        "\n"
       ]
      }
     ],
     "prompt_number": 32
    },
    {
     "cell_type": "markdown",
     "metadata": {},
     "source": [
      "### C++ version\n",
      "\n",
      "Using C++ is almost the same as using C. Just add an extern C statement and use an appropriate C++ compiler."
     ]
    },
    {
     "cell_type": "code",
     "collapsed": false,
     "input": [
      "%%file pdist_cpp.cpp\n",
      "#include <cmath>\n",
      "\n",
      "extern \"C\" \n",
      "\n",
      "// Variable length arrays are OK for C99 but not legal in C++\n",
      "// void pdist_cpp(int n, int p, double xs[n*p], double D[n*n]) {\n",
      "void pdist_cpp(int n, int p, double *xs, double *D) {\n",
      "    for (int i=0; i<n; i++) {\n",
      "        for (int j=0; j<n; j++) {\n",
      "            double s = 0.0;\n",
      "            for (int k=0; k<p; k++) {\n",
      "                double tmp = xs[i*p+k] - xs[j*p+k];\n",
      "                s += tmp*tmp;\n",
      "            }\n",
      "            D[i*n+j] = sqrt(s);\n",
      "        }\n",
      "    }\n",
      "}"
     ],
     "language": "python",
     "metadata": {},
     "outputs": [
      {
       "output_type": "stream",
       "stream": "stdout",
       "text": [
        "Writing pdist_cpp.cpp\n"
       ]
      }
     ],
     "prompt_number": 33
    },
    {
     "cell_type": "code",
     "collapsed": false,
     "input": [
      "# Compile to a shared library\n",
      "! g++ -O3 -bundle -undefined dynamic_lookup pdist_cpp.cpp -o pdist_cpp.so\n",
      "# Linux: \n",
      "# ! g++ -O3 -fPIC -shared pdist_cpp.cpp -o pdist_cpp.so"
     ],
     "language": "python",
     "metadata": {},
     "outputs": [],
     "prompt_number": 34
    },
    {
     "cell_type": "code",
     "collapsed": false,
     "input": [
      "from ctypes import CDLL, c_int, c_void_p\n",
      "\n",
      "def pdist_cpp(xs):\n",
      "\n",
      "    # Use ctypes to load the library\n",
      "    lib = CDLL('./pdist_cpp.so')\n",
      "\n",
      "    # We need to give the argument adn return types explicitly\n",
      "    lib.pdist_cpp.argtypes = [c_int, c_int, np.ctypeslib.ndpointer(dtype = np.float), np.ctypeslib.ndpointer(dtype = np.float)]\n",
      "    lib.pdist_cpp.restype  = c_void_p\n",
      "\n",
      "    n, p = xs.shape\n",
      "    D = np.empty((n, n), np.float)\n",
      "    \n",
      "    lib.pdist_cpp(n, p, xs, D)\n",
      "    return D"
     ],
     "language": "python",
     "metadata": {},
     "outputs": [],
     "prompt_number": 35
    },
    {
     "cell_type": "code",
     "collapsed": false,
     "input": [
      "print pdist_cpp(A)\n",
      "%timeit pdist_cpp(xs)"
     ],
     "language": "python",
     "metadata": {},
     "outputs": [
      {
       "output_type": "stream",
       "stream": "stdout",
       "text": [
        "[[ 0.  5.]\n",
        " [ 5.  0.]]\n",
        "100 loops, best of 3: 7.5 ms per loop"
       ]
      },
      {
       "output_type": "stream",
       "stream": "stdout",
       "text": [
        "\n"
       ]
      }
     ],
     "prompt_number": 36
    },
    {
     "cell_type": "markdown",
     "metadata": {},
     "source": [
      "### Fortran"
     ]
    },
    {
     "cell_type": "code",
     "collapsed": false,
     "input": [
      "%%file pdist_fortran.f90\n",
      "\n",
      "subroutine pdist_fortran (n, p, A, D)\n",
      "\n",
      "    integer, intent(in) :: n\n",
      "    integer, intent(in) :: p\n",
      "    real(8), intent(in), dimension(n,p) :: A\n",
      "    real(8), intent(inout), dimension(n,n) :: D\n",
      "            \n",
      "    integer :: i, j, k\n",
      "    real(8) :: s, tmp\n",
      "    ! note order of indices is different from C\n",
      "    do j = 1, n\n",
      "        do i = 1, n\n",
      "            s = 0.0\n",
      "            do k = 1, p\n",
      "                tmp = A(i, k) - A(j, k)\n",
      "                s = s + tmp*tmp\n",
      "            end do\n",
      "            D(i, j) = sqrt(s)\n",
      "        end do\n",
      "    end do\n",
      "end subroutine"
     ],
     "language": "python",
     "metadata": {},
     "outputs": [
      {
       "output_type": "stream",
       "stream": "stdout",
       "text": [
        "Writing pdist_fortran.f90\n"
       ]
      }
     ],
     "prompt_number": 37
    },
    {
     "cell_type": "code",
     "collapsed": false,
     "input": [
      "! f2py -c -m flib pdist_fortran.f90 > /dev/null"
     ],
     "language": "python",
     "metadata": {},
     "outputs": [],
     "prompt_number": 38
    },
    {
     "cell_type": "code",
     "collapsed": false,
     "input": [
      "import flib\n",
      "print flib.pdist_fortran.__doc__"
     ],
     "language": "python",
     "metadata": {},
     "outputs": [
      {
       "output_type": "stream",
       "stream": "stdout",
       "text": [
        "pdist_fortran(a,d,[n,p])\n",
        "\n",
        "Wrapper for ``pdist_fortran``.\n",
        "\n",
        "Parameters\n",
        "----------\n",
        "a : input rank-2 array('d') with bounds (n,p)\n",
        "d : in/output rank-2 array('d') with bounds (n,n)\n",
        "\n",
        "Other Parameters\n",
        "----------------\n",
        "n : input int, optional\n",
        "    Default: shape(a,0)\n",
        "p : input int, optional\n",
        "    Default: shape(a,1)\n",
        "\n"
       ]
      }
     ],
     "prompt_number": 39
    },
    {
     "cell_type": "code",
     "collapsed": false,
     "input": [
      "def pdist_fortran(xs):\n",
      "    import flib\n",
      "    n, p = xs.shape\n",
      "    xs = np.array(xs, order='F')\n",
      "    D = np.empty((n,n), np.float, order='F')\n",
      "    flib.pdist_fortran(xs, D)\n",
      "    return D"
     ],
     "language": "python",
     "metadata": {},
     "outputs": [],
     "prompt_number": 40
    },
    {
     "cell_type": "code",
     "collapsed": false,
     "input": [
      "print pdist_fortran(A)\n",
      "%timeit pdist_fortran(xs)"
     ],
     "language": "python",
     "metadata": {},
     "outputs": [
      {
       "output_type": "stream",
       "stream": "stdout",
       "text": [
        "[[ 0.  5.]\n",
        " [ 5.  0.]]\n",
        "100 loops, best of 3: 7.24 ms per loop"
       ]
      },
      {
       "output_type": "stream",
       "stream": "stdout",
       "text": [
        "\n"
       ]
      }
     ],
     "prompt_number": 41
    },
    {
     "cell_type": "code",
     "collapsed": false,
     "input": [
      "# Final bake-off \n",
      "\n",
      "w = 10\n",
      "print 'Python'.ljust(w), \n",
      "%timeit pdist_python(xs)\n",
      "print 'Numpy'.ljust(w), \n",
      "%timeit pdist_numpy(xs)\n",
      "print 'Numexpr'.ljust(w), \n",
      "%timeit pdist_numexpr(xs)\n",
      "print 'Numba'.ljust(w), \n",
      "%timeit pdist_numba(xs)\n",
      "print 'Parakeet'.ljust(w), \n",
      "%timeit pdist_parakeet(xs)\n",
      "print 'Cython'.ljust(w),\n",
      "%timeit pdist_cython(xs)\n",
      "print 'C'.ljust(w),\n",
      "%timeit pdist_c(xs)\n",
      "print 'C++'.ljust(w),\n",
      "%timeit pdist_cpp(xs)\n",
      "print 'Fortran'.ljust(w),\n",
      "%timeit pdist_fortran(xs)\n",
      "\n",
      "from scipy.spatial.distance import pdist as pdist_scipy\n",
      "print 'Scipy'.ljust(w),\n",
      "%timeit pdist_scipy(xs)"
     ],
     "language": "python",
     "metadata": {},
     "outputs": [
      {
       "output_type": "stream",
       "stream": "stdout",
       "text": [
        "Python    1 loops, best of 3: 3.79 s per loop"
       ]
      },
      {
       "output_type": "stream",
       "stream": "stdout",
       "text": [
        "\n",
        " Numpy     10 loops, best of 3: 97.9 ms per loop"
       ]
      },
      {
       "output_type": "stream",
       "stream": "stdout",
       "text": [
        "\n",
        " Numexpr   10 loops, best of 3: 30.6 ms per loop"
       ]
      },
      {
       "output_type": "stream",
       "stream": "stdout",
       "text": [
        "\n",
        " Numba     100 loops, best of 3: 13.6 ms per loop"
       ]
      },
      {
       "output_type": "stream",
       "stream": "stdout",
       "text": [
        "\n",
        " Parakeet  10 loops, best of 3: 23.3 ms per loop"
       ]
      },
      {
       "output_type": "stream",
       "stream": "stdout",
       "text": [
        "\n",
        " Cython    100 loops, best of 3: 7.06 ms per loop"
       ]
      },
      {
       "output_type": "stream",
       "stream": "stdout",
       "text": [
        "\n",
        " C         100 loops, best of 3: 7.49 ms per loop"
       ]
      },
      {
       "output_type": "stream",
       "stream": "stdout",
       "text": [
        "\n",
        " C++       100 loops, best of 3: 7.49 ms per loop"
       ]
      },
      {
       "output_type": "stream",
       "stream": "stdout",
       "text": [
        "\n",
        " Fortran   100 loops, best of 3: 7.23 ms per loop"
       ]
      },
      {
       "output_type": "stream",
       "stream": "stdout",
       "text": [
        "\n",
        " "
       ]
      },
      {
       "output_type": "stream",
       "stream": "stdout",
       "text": [
        "Scipy     100 loops, best of 3: 4.24 ms per loop"
       ]
      },
      {
       "output_type": "stream",
       "stream": "stdout",
       "text": [
        "\n",
        "\n"
       ]
      }
     ],
     "prompt_number": 42
    },
    {
     "cell_type": "markdown",
     "metadata": {},
     "source": [
      "**Final optimization**: Scipy only calculates for i < j < n since the pairwise distance matrix is symmetric, and hence takes about half the time of our solution. Can you modify our pdist_X functions to also exploit symmetry?"
     ]
    },
    {
     "cell_type": "markdown",
     "metadata": {},
     "source": [
      "## Summary\n",
      "\n",
      "* Using C, C++ or Fortran give essentially identcial performance\n",
      "* Of the JIT solutions:\n",
      "    * Cython is the fastest but needs the extra work of type annotations\n",
      "    * numba is almost as fast and simplest to use - just say jit(functiion)\n",
      "    * numexpr is slightly slower and works best for small numpy expressions but is also very convenient\n",
      "* A pure numpy solution also perfroms reasonably and will be the shortest solutoin (a one-liner in this case)\n",
      "* The pure python approach is very slow, but serves as a useful template for converting to native langauge directly or via a JIT compiler\n",
      "* Note that the fsatest alternatives are approximately 1000 times faster than the pure python version for the test problem with n=1000 and p=3.\n",
      "\n",
      "### Recommendations for optimizing Python code\n",
      "\n",
      "* Does a reliable fast implementiaont already exist? If so, consider using that\n",
      "* Start with a numpy/python prototype - if this is fast enough, stop\n",
      "* See if better use of vectoriazaiton via numpy will help\n",
      "* Moving to native code:\n",
      "    * Most Python devleopers will use Cython as the tool of choice. Cython can also be used to access/wrap C/C++ code\n",
      "    * JIT compilation with numba is improving fast and may become competitive with Cython in the near future\n",
      "    * If the function is \"minimal\", it is usually worth considering numexpr because there is almost no work to be done\n",
      "    * Use C/C++/Fortran if you are fluent in those languages - you have seen how to call these functions from Python\n",
      "* If appropriate, consider parallelization (covered in later session)\n",
      "* As you optimize your code, remmeber:\n",
      "    * Check that is is giving correct results!\n",
      "    * Profile often - it is very hard to preidct the effect of an optimizaiton in general\n",
      "    * Remember that your time is precious - stop when fast enough\n",
      "    * If getting a bigger, faster machine will sovle the problem, that is sometimes the best solution"
     ]
    },
    {
     "cell_type": "code",
     "collapsed": false,
     "input": [
      "%load_ext version_information\n",
      "\n",
      "%version_information numpy, scipy, numexpr, numba, numbapro, parakeet, cython, f2py,"
     ],
     "language": "python",
     "metadata": {},
     "outputs": [
      {
       "html": [
        "<table><tr><th>Software</th><th>Version</th></tr><tr><td>Python</td><td>2.7.9 64bit [GCC 4.2.1 (Apple Inc. build 5577)]</td></tr><tr><td>IPython</td><td>2.3.1</td></tr><tr><td>OS</td><td>Darwin 13.4.0 x86_64 i386 64bit</td></tr><tr><td>numpy</td><td>1.9.2</td></tr><tr><td>scipy</td><td>0.15.1</td></tr><tr><td>numexpr</td><td>2.3.1</td></tr><tr><td>numba</td><td>0.15.1</td></tr><tr><td>numbapro</td><td>0.16.0</td></tr><tr><td>parakeet</td><td>0.23.2</td></tr><tr><td>cython</td><td>0.22</td></tr><tr><td>f2py</td><td>f2py</td></tr><tr><td colspan='2'>Sun Mar 22 21:26:26 2015 EDT</td></tr></table>"
       ],
       "json": [
        "{\"Software versions\": [{\"version\": \"2.7.9 64bit [GCC 4.2.1 (Apple Inc. build 5577)]\", \"module\": \"Python\"}, {\"version\": \"2.3.1\", \"module\": \"IPython\"}, {\"version\": \"Darwin 13.4.0 x86_64 i386 64bit\", \"module\": \"OS\"}, {\"version\": \"1.9.2\", \"module\": \"numpy\"}, {\"version\": \"0.15.1\", \"module\": \"scipy\"}, {\"version\": \"2.3.1\", \"module\": \"numexpr\"}, {\"version\": \"0.15.1\", \"module\": \"numba\"}, {\"version\": \"0.16.0\", \"module\": \"numbapro\"}, {\"version\": \"0.23.2\", \"module\": \"parakeet\"}, {\"version\": \"0.22\", \"module\": \"cython\"}, {\"version\": \"f2py\", \"module\": \"f2py\"}]}"
       ],
       "latex": [
        "\\begin{tabular}{|l|l|}\\hline\n",
        "{\\bf Software} & {\\bf Version} \\\\ \\hline\\hline\n",
        "Python & 2.7.9 64bit [GCC 4.2.1 (Apple Inc. build 5577)] \\\\ \\hline\n",
        "IPython & 2.3.1 \\\\ \\hline\n",
        "OS & Darwin 13.4.0 x86\\_64 i386 64bit \\\\ \\hline\n",
        "numpy & 1.9.2 \\\\ \\hline\n",
        "scipy & 0.15.1 \\\\ \\hline\n",
        "numexpr & 2.3.1 \\\\ \\hline\n",
        "numba & 0.15.1 \\\\ \\hline\n",
        "numbapro & 0.16.0 \\\\ \\hline\n",
        "parakeet & 0.23.2 \\\\ \\hline\n",
        "cython & 0.22 \\\\ \\hline\n",
        "f2py & f2py \\\\ \\hline\n",
        "\\hline \\multicolumn{2}{|l|}{Sun Mar 22 21:26:26 2015 EDT} \\\\ \\hline\n",
        "\\end{tabular}\n"
       ],
       "metadata": {},
       "output_type": "pyout",
       "prompt_number": 43,
       "text": [
        "Software versions\n",
        "Python 2.7.9 64bit [GCC 4.2.1 (Apple Inc. build 5577)]\n",
        "IPython 2.3.1\n",
        "OS Darwin 13.4.0 x86_64 i386 64bit\n",
        "numpy 1.9.2\n",
        "scipy 0.15.1\n",
        "numexpr 2.3.1\n",
        "numba 0.15.1\n",
        "numbapro 0.16.0\n",
        "parakeet 0.23.2\n",
        "cython 0.22\n",
        "f2py f2py\n",
        "Sun Mar 22 21:26:26 2015 EDT"
       ]
      }
     ],
     "prompt_number": 43
    },
    {
     "cell_type": "code",
     "collapsed": false,
     "input": [],
     "language": "python",
     "metadata": {},
     "outputs": [],
     "prompt_number": 43
    }
   ],
   "metadata": {}
  }
 ]
}