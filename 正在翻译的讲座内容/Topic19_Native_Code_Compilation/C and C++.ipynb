{
 "metadata": {
  "name": "",
  "signature": "sha256:09fafac84707045cbef2bd1a2b4a376e1d36514e11037ca4a1ac65bd36fe697e"
 },
 "nbformat": 3,
 "nbformat_minor": 0,
 "worksheets": [
  {
   "cells": [
    {
     "cell_type": "code",
     "collapsed": false,
     "input": [
      "%matplotlib inline\n",
      "import matplotlib.pyplot as plt\n",
      "import numpy as np\n",
      "%precision 4\n",
      "import os, sys, glob"
     ],
     "language": "python",
     "metadata": {},
     "outputs": [],
     "prompt_number": 3
    },
    {
     "cell_type": "code",
     "collapsed": false,
     "input": [
      "%%file fib.c\n",
      "int fib(int n) {\n",
      "  if (n < 3) {\n",
      "    return 1;\n",
      "  } else {\n",
      "    return fib(n-2) + fib(n-1);\n",
      "  }\n",
      "}"
     ],
     "language": "python",
     "metadata": {},
     "outputs": [
      {
       "output_type": "stream",
       "stream": "stdout",
       "text": [
        "Overwriting fib.c\n"
       ]
      }
     ],
     "prompt_number": 2
    },
    {
     "cell_type": "code",
     "collapsed": false,
     "input": [
      "! clang -emit-llvm -c fib.c -o fib.o"
     ],
     "language": "python",
     "metadata": {},
     "outputs": [],
     "prompt_number": 3
    },
    {
     "cell_type": "code",
     "collapsed": false,
     "input": [
      "import bitey\n",
      "import fib\n",
      "\n",
      "[fib.fib(i) for i in range(1, 30, 3)]"
     ],
     "language": "python",
     "metadata": {},
     "outputs": [
      {
       "metadata": {},
       "output_type": "pyout",
       "prompt_number": 4,
       "text": [
        "[1, 3, 13, 55, 233, 987, 4181, 17711, 75025, 317811]"
       ]
      }
     ],
     "prompt_number": 4
    },
    {
     "cell_type": "code",
     "collapsed": false,
     "input": [
      "%%file sum1d.cpp\n",
      "#include <numeric>\n",
      "extern \"C\" double sum1d_cpp(double* x, int n)\n",
      "{\n",
      "  return std::accumulate(x, x+n, 0.0);\n",
      "}"
     ],
     "language": "python",
     "metadata": {},
     "outputs": [
      {
       "output_type": "stream",
       "stream": "stdout",
       "text": [
        "Overwriting sum1d.cpp\n"
       ]
      }
     ],
     "prompt_number": 5
    },
    {
     "cell_type": "code",
     "collapsed": false,
     "input": [
      "! clang -emit-llvm -O2 -x c++ -c sum1d.cpp -o sum1d.o"
     ],
     "language": "python",
     "metadata": {},
     "outputs": [],
     "prompt_number": 6
    },
    {
     "cell_type": "code",
     "collapsed": false,
     "input": [
      "import sum1d\n",
      "\n",
      "n = 100\n",
      "A = np.random.rand(n)\n",
      "x = np.ctypeslib.as_ctypes(A)\n",
      "sum1d.sum1d_cpp(x, n)"
     ],
     "language": "python",
     "metadata": {},
     "outputs": [
      {
       "metadata": {},
       "output_type": "pyout",
       "prompt_number": 7,
       "text": [
        "49.5669"
       ]
      }
     ],
     "prompt_number": 7
    },
    {
     "cell_type": "code",
     "collapsed": false,
     "input": [
      "%%file eigen_demo.cpp\n",
      "#include <iostream>\n",
      "#include <Eigen/Dense>\n",
      "using Eigen::MatrixXd;\n",
      "using Eigen::VectorXd;\n",
      "using Eigen::ComputeThinU;\n",
      "using Eigen::ComputeThinV;\n",
      "using Eigen::SelfAdjointEigenSolver;\n",
      "\n",
      "extern \"C\" void det(double* x, double* e, int n)\n",
      "{\n",
      "  MatrixXd A = MatrixXd::Map(x, n, n);\n",
      "  SelfAdjointEigenSolver<MatrixXd> eigensolver(A);\n",
      "  std::cout << eigensolver.eigenvalues() << \"\\n\";\n",
      "}"
     ],
     "language": "python",
     "metadata": {},
     "outputs": [
      {
       "output_type": "stream",
       "stream": "stdout",
       "text": [
        "Overwriting eigen_demo.cpp\n"
       ]
      }
     ],
     "prompt_number": 2
    },
    {
     "cell_type": "code",
     "collapsed": false,
     "input": [
      "! clang -emit-llvm -I/Volumes/HD3/hg/eigen -O2 -x c++ -c eigen_demo.cpp -o eigen.o"
     ],
     "language": "python",
     "metadata": {},
     "outputs": [],
     "prompt_number": 3
    },
    {
     "cell_type": "code",
     "collapsed": false,
     "input": [
      "import bitey\n",
      "import eigen"
     ],
     "language": "python",
     "metadata": {},
     "outputs": []
    },
    {
     "cell_type": "code",
     "collapsed": false,
     "input": [
      "import numpy as np\n",
      "A = np.array([1.,2.,3.,4.])\n",
      "B = np.array([1.0, 1.0])\n",
      "x = np.ctypeslib.as_ctypes(A)\n",
      "e = np.ctypeslib.as_ctypes(B)\n",
      "n = 2\n",
      "eigen.det(x, e, n)\n",
      "np.ctypeslib.as_array(e, shape=(1, 2), )"
     ],
     "language": "python",
     "metadata": {},
     "outputs": [
      {
       "metadata": {},
       "output_type": "pyout",
       "prompt_number": 7,
       "text": [
        "array([ 1.,  1.])"
       ]
      }
     ],
     "prompt_number": 7
    },
    {
     "cell_type": "code",
     "collapsed": false,
     "input": [
      "import minieigen as me\n"
     ],
     "language": "python",
     "metadata": {},
     "outputs": [
      {
       "ename": "ImportError",
       "evalue": "No module named minieigen",
       "output_type": "pyerr",
       "traceback": [
        "\u001b[0;31m---------------------------------------------------------------------------\u001b[0m\n\u001b[0;31mImportError\u001b[0m                               Traceback (most recent call last)",
        "\u001b[0;32m<ipython-input-1-cdba57e6cff3>\u001b[0m in \u001b[0;36m<module>\u001b[0;34m()\u001b[0m\n\u001b[0;32m----> 1\u001b[0;31m \u001b[0;32mimport\u001b[0m \u001b[0mminieigen\u001b[0m \u001b[0;32mas\u001b[0m \u001b[0mme\u001b[0m\u001b[0;34m\u001b[0m\u001b[0m\n\u001b[0m",
        "\u001b[0;31mImportError\u001b[0m: No module named minieigen"
       ]
      }
     ],
     "prompt_number": 1
    },
    {
     "cell_type": "code",
     "collapsed": false,
     "input": [],
     "language": "python",
     "metadata": {},
     "outputs": []
    }
   ],
   "metadata": {}
  }
 ]
}