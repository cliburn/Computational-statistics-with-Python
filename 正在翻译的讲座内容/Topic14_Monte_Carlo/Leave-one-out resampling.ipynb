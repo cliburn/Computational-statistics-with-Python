{
 "metadata": {
  "name": "",
  "signature": "sha256:a4e12e154de4e39dc95462a7e7390c7e35ebb88a6634b07084ed98294572367d"
 },
 "nbformat": 3,
 "nbformat_minor": 0,
 "worksheets": [
  {
   "cells": [
    {
     "cell_type": "code",
     "collapsed": false,
     "input": [
      "%matplotlib inline\n",
      "import matplotlib.pyplot as plt\n",
      "import numpy as np\n",
      "from numba import jit\n",
      "import statsmodels.api as sm\n",
      "from statsmodels.formula.api import ols\n",
      "from pandas import DataFrame"
     ],
     "language": "python",
     "metadata": {},
     "outputs": [],
     "prompt_number": 1
    },
    {
     "cell_type": "code",
     "collapsed": false,
     "input": [
      "%precision 4"
     ],
     "language": "python",
     "metadata": {},
     "outputs": [
      {
       "metadata": {},
       "output_type": "pyout",
       "prompt_number": 2,
       "text": [
        "u'%.4f'"
       ]
      }
     ],
     "prompt_number": 2
    },
    {
     "cell_type": "markdown",
     "metadata": {},
     "source": [
      "### Jackknife estimate of parameters\n",
      "\n",
      "This shows the leave-one-out calculation idiom for Python. Unlike R, a -k index to an array does not delete the kth entry, but returns the kth entry from the end, so we need another way to efficiently drop one scalar or vector. This can be done using Boolean indexing as shown in the examples below, and is efficient since the operations are on *views* of the origianl array rather thna *copies*. Note also that "
     ]
    },
    {
     "cell_type": "code",
     "collapsed": false,
     "input": [
      "def jackknife(x, func):\n",
      "    \"\"\"Jackknife estimate of the estimator func\"\"\"\n",
      "    n = len(x)\n",
      "    idx = np.arange(n)\n",
      "    return np.sum(func(x[idx!=i]) for i in range(n))/float(n)"
     ],
     "language": "python",
     "metadata": {},
     "outputs": [],
     "prompt_number": 3
    },
    {
     "cell_type": "code",
     "collapsed": false,
     "input": [
      "# Jackknife estimate of standard deviation\n",
      "x = np.random.normal(0, 2, 100)\n",
      "jackknife(x, np.std)"
     ],
     "language": "python",
     "metadata": {},
     "outputs": [
      {
       "metadata": {},
       "output_type": "pyout",
       "prompt_number": 4,
       "text": [
        "2.0595"
       ]
      }
     ],
     "prompt_number": 4
    },
    {
     "cell_type": "code",
     "collapsed": false,
     "input": [
      "def jackknife_var(x, func):\n",
      "    \"\"\"Jackknife estiamte of the variance of the estimator func.\"\"\"\n",
      "    n = len(x)\n",
      "    idx = np.arange(n)\n",
      "    j_est = jackknife(x, func)\n",
      "    return (n-1)/(n + 0.0) * np.sum((func(x[idx!=i]) - j_est)**2.0 for i in range(n))"
     ],
     "language": "python",
     "metadata": {},
     "outputs": [],
     "prompt_number": 5
    },
    {
     "cell_type": "code",
     "collapsed": false,
     "input": [
      "# estimate of the variance of an estimator \n",
      "jackknife_var(x, np.std)"
     ],
     "language": "python",
     "metadata": {},
     "outputs": [
      {
       "metadata": {},
       "output_type": "pyout",
       "prompt_number": 6,
       "text": [
        "0.0223"
       ]
      }
     ],
     "prompt_number": 6
    },
    {
     "cell_type": "markdown",
     "metadata": {},
     "source": [
      "#### For fun, try optimizing jackknife"
     ]
    },
    {
     "cell_type": "code",
     "collapsed": false,
     "input": [
      "%timeit jackknife(x, np.std)"
     ],
     "language": "python",
     "metadata": {},
     "outputs": [
      {
       "output_type": "stream",
       "stream": "stdout",
       "text": [
        "100 loops, best of 3: 3.2 ms per loop\n"
       ]
      }
     ],
     "prompt_number": 7
    },
    {
     "cell_type": "markdown",
     "metadata": {},
     "source": [
      "### Leave one out cross validation (LOOCV)\n",
      "\n",
      "LOOCV also uses the same idiom, and a simple example of LOOCV for model selection is illustrated."
     ]
    },
    {
     "cell_type": "code",
     "collapsed": false,
     "input": [
      "a, b, c = 1, 2, 3\n",
      "x = np.linspace(0, 5, 10)\n",
      "y = a*x**2 + b*x + c + np.random.normal(0, 1, len(x))"
     ],
     "language": "python",
     "metadata": {},
     "outputs": [],
     "prompt_number": 10
    },
    {
     "cell_type": "code",
     "collapsed": false,
     "input": [
      "plt.figure(figsize=(12,4))\n",
      "for deg in range(1, 5):\n",
      "    plt.subplot(1, 4, deg)\n",
      "    beta = np.polyfit(x, y, deg)\n",
      "    plt.plot(x, y, 'r-o')\n",
      "    plt.plot(x, np.polyval(beta, x), 'b:')\n",
      "    plt.title('Degree = %d' % deg)"
     ],
     "language": "python",
     "metadata": {},
     "outputs": [
      {
       "metadata": {},
       "output_type": "display_data",
       "png": "[encoded data removed]",
       "text": [
        "<matplotlib.figure.Figure at 0x11877ad50>"
       ]
      }
     ],
     "prompt_number": 11
    },
    {
     "cell_type": "code",
     "collapsed": false,
     "input": [
      "def loocv(x, y, fit, pred, deg):\n",
      "    \"\"\"LOOCV RSS for fitting a polynomial model.\"\"\"\n",
      "    n = len(x)\n",
      "    idx = np.arange(n)\n",
      "    rss = np.sum([(y - pred(fit(x[idx!=i], y[idx!=i], deg), x))**2.0 for i in range(n)])\n",
      "    return rss"
     ],
     "language": "python",
     "metadata": {},
     "outputs": [],
     "prompt_number": 20
    },
    {
     "cell_type": "code",
     "collapsed": false,
     "input": [
      "# RSS does not detect overfitting and selects the most complex model\n",
      "for deg in range(1, 5):\n",
      "    print 'Degree = %d, RSS=%.2f' % (deg, np.sum((y - np.polyval(np.polyfit(x, y, deg), x))**2.0))"
     ],
     "language": "python",
     "metadata": {},
     "outputs": [
      {
       "output_type": "stream",
       "stream": "stdout",
       "text": [
        "Degree = 1, RSS=38.85\n",
        "Degree = 2, RSS=4.19\n",
        "Degree = 3, RSS=4.12\n",
        "Degree = 4, RSS=3.92\n"
       ]
      }
     ],
     "prompt_number": 17
    },
    {
     "cell_type": "code",
     "collapsed": false,
     "input": [
      "# LOOCV selects the correct model\n",
      "for deg in range(1, 5):\n",
      "    print 'Degree = %d, RSS=%.2f' % (deg, loocv(x, y, np.polyfit, np.polyval, deg))"
     ],
     "language": "python",
     "metadata": {},
     "outputs": [
      {
       "output_type": "stream",
       "stream": "stdout",
       "text": [
        "Degree = 1, RSS=408.47\n",
        "Degree = 2, RSS=43.66\n",
        "Degree = 3, RSS=48.67\n",
        "Degree = 4, RSS=94.94\n"
       ]
      }
     ],
     "prompt_number": 18
    },
    {
     "cell_type": "markdown",
     "metadata": {},
     "source": [
      "### Calculation of Cook's distance\n",
      "\n",
      "Cook's distance is used to estimate the influence of a data point when performing least squares regression analysis. It is one of the standard plots for linear regression in R and provides another example of the applicationof leave-one-out resampling."
     ]
    },
    {
     "cell_type": "markdown",
     "metadata": {},
     "source": [
      "$$\n",
      "D_i = \\frac{\\sum_{j=1}^n (\\hat Y_j - \\hat Y_{j(i)})^2}{p\\  \\text{MSE}}\n",
      "$$\n",
      "\n",
      "The calculation of Cook's distance involves the fitting of $n$ regression models, so we want to do this as efficiently as possible."
     ]
    },
    {
     "cell_type": "code",
     "collapsed": false,
     "input": [
      "def cook_dist(X, y, model):\n",
      "    \"\"\"Vectorized version of Cook's distance.\"\"\"\n",
      "    n = len(X)\n",
      "    fitted = model(y, X).fit()\n",
      "    yhat = fitted.predict(X)\n",
      "    p = len(fitted.params)\n",
      "    mse = np.sum((yhat - y)**2.0)/n\n",
      "    denom = p*mse\n",
      "    idx = np.arange(n)\n",
      "    return np.array([np.sum((yhat - model(y[idx!=i], X[idx!=i]).fit().predict(X))**2.0) for i in range(n)])/denom"
     ],
     "language": "python",
     "metadata": {},
     "outputs": [],
     "prompt_number": 3
    },
    {
     "cell_type": "code",
     "collapsed": false,
     "input": [
      "# create data set with outliers\n",
      "nobs = 100\n",
      "X = np.random.random((nobs, 2))\n",
      "X = sm.add_constant(X)\n",
      "beta = [1, .1, .5]\n",
      "e = np.random.random(nobs)\n",
      "y = np.dot(X, beta) + e\n",
      "y[[7, 29, 78]] *= 3"
     ],
     "language": "python",
     "metadata": {},
     "outputs": [],
     "prompt_number": 4
    },
    {
     "cell_type": "code",
     "collapsed": false,
     "input": [
      "# use Cook's distance to identify outliers\n",
      "model = sm.OLS\n",
      "d = cook_dist(X, y, model)\n",
      "plt.stem(d);"
     ],
     "language": "python",
     "metadata": {},
     "outputs": [
      {
       "metadata": {},
       "output_type": "display_data",
       "png": "[encoded data removed]",
       "text": [
        "<matplotlib.figure.Figure at 0x118723b10>"
       ]
      }
     ],
     "prompt_number": 5
    }
   ],
   "metadata": {}
  }
 ]
}