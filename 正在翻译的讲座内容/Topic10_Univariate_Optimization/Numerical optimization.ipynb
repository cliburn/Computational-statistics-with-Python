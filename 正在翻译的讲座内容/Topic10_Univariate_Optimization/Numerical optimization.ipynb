{
 "metadata": {
  "name": "",
  "signature": "sha256:b0ec7fe36dee72f1640f684985e64a3f7d56aa6dbc8cf9ef549429aed9cfb972"
 },
 "nbformat": 3,
 "nbformat_minor": 0,
 "worksheets": [
  {
   "cells": [
    {
     "cell_type": "code",
     "collapsed": false,
     "input": [
      "%matplotlib inline\n",
      "import matplotlib.pyplot as plt\n",
      "import numpy as np"
     ],
     "language": "python",
     "metadata": {},
     "outputs": [],
     "prompt_number": 97
    },
    {
     "cell_type": "markdown",
     "metadata": {},
     "source": [
      "### Newton's method in 1 dimension\n",
      "\n",
      "By rearranging dropping all quadratic and higher order terms from the Taylor expansion of $f$ and, the Newton method is\n",
      "$$\n",
      "x_{n+1} = x_n - \\frac{f(x_n)}{f'(x_n)}\n",
      "$$"
     ]
    },
    {
     "cell_type": "code",
     "collapsed": false,
     "input": [
      "def newton(f, fprime, x, tol=1e-6, max_iter=1e4):\n",
      "    _iter = 0\n",
      "    _tol = np.infty\n",
      "    while (_tol > tol) and (_iter < max_iter):\n",
      "        _x = x - f(x)/fprime(x)\n",
      "        _tol = abs(x - _x)\n",
      "        _iter += 1\n",
      "        x = _x\n",
      "    if _tol <= tol:\n",
      "        return x\n",
      "    else:\n",
      "        return None"
     ],
     "language": "python",
     "metadata": {},
     "outputs": [],
     "prompt_number": 42
    },
    {
     "cell_type": "code",
     "collapsed": false,
     "input": [
      "def f(x):\n",
      "    return x**3 + 4*x**2 -3\n",
      "\n",
      "def fprime(x):\n",
      "    return 3*x**2 + 8*x"
     ],
     "language": "python",
     "metadata": {},
     "outputs": [],
     "prompt_number": 43
    },
    {
     "cell_type": "code",
     "collapsed": false,
     "input": [
      "x1_0 = 2.5\n",
      "x1 = newton(f, fprime, x1_0)"
     ],
     "language": "python",
     "metadata": {},
     "outputs": [],
     "prompt_number": 79
    },
    {
     "cell_type": "code",
     "collapsed": false,
     "input": [
      "x2_0 = -3.3\n",
      "x2 = newton(f, fprime, x2_0)"
     ],
     "language": "python",
     "metadata": {},
     "outputs": [],
     "prompt_number": 80
    },
    {
     "cell_type": "code",
     "collapsed": false,
     "input": [
      "x3_0 = -0.5\n",
      "x3 = newton(f, fprime, x3_0)"
     ],
     "language": "python",
     "metadata": {},
     "outputs": [],
     "prompt_number": 81
    },
    {
     "cell_type": "code",
     "collapsed": false,
     "input": [
      "x = np.linspace(-5, 3, 100)\n",
      "plt.plot(x, x**3 + 4*x**2 -3)\n",
      "plt.scatter([x1_0, x2_0, x3_0], [f(x1_0), f(x2_0), f(x3_0)], s=50, facecolors='none')\n",
      "plt.scatter([x1, x2, x3], [f(x1), f(x2), f(x3)], s=50, c='red')\n",
      "plt.axhline(0);"
     ],
     "language": "python",
     "metadata": {},
     "outputs": [
      {
       "metadata": {},
       "output_type": "display_data",
       "png": "[encoded data removed]",
       "text": [
        "<matplotlib.figure.Figure at 0x1108140d0>"
       ]
      }
     ],
     "prompt_number": 83
    },
    {
     "cell_type": "markdown",
     "metadata": {},
     "source": [
      "#### Stability of Newton's method\n",
      "\n",
      "Perhaps mention convergence rate, conditions for stability, examples where it fails to convere, and use of the step size tuning parameter $\\alpha$\n",
      "\n",
      "$$\n",
      "x_{n+1} = x_n - \\alpha \\frac{f(x_n)}{f'(x_n)}\n",
      "$$"
     ]
    },
    {
     "cell_type": "markdown",
     "metadata": {},
     "source": [
      "### Gauss-Newton algorithm"
     ]
    },
    {
     "cell_type": "markdown",
     "metadata": {},
     "source": [
      "For 1D, the Newton method is\n",
      "$$\n",
      "x_{n+1} = x_n - \\frac{f(x_n)}{f'(x_n)}\n",
      "$$\n",
      "\n",
      "We can genearalize to k dimensions by \n",
      "$$\n",
      "x_{n+1} = x_n - J^{-1} f(x_n)\n",
      "$$\n",
      "where $x$ and $f(x)$ are now vectors, and $J^{-1}$ is the inverse Jacobian matrix. In general, the Jacobian is not a square matrix, and we use the generalized inverse $(J^TJ)^{-1}J^T$ instead, giving\n",
      "$$\n",
      "x_{n+1} = x_n - (J^TJ)^{-1}J^T f(x_n)\n",
      "$$\n",
      "\n",
      "The Newton method is usually thought of as a root finder. Howeever, notice that the Newton method applied to a derivative finds the values of $x$ where $f'(x) = 0$, giving the stationary points of the differentialble funciotn $f$. Hence the Newton method is also directly applicable to optimization problems. In particular, consider the minimizing a function of $\\beta$ given by $1/2 r(\\beta)^2$. The derivative with respect to $\\beta$ is just $r(\\beta)$. Hence, finding the roots of the function $r(\\beta)$ using Newton's method will give the values of $\\beta$ that minimize $1/2 r(\\beta)^2$, illustrating the relevance of the Newton method for least squares estimation problems. In multiaraite nonlinear estimation problems, we can find the vector of parameters $\\beta$ by minimizing the resiudlas $r(\\beta)$, \n",
      "$$\n",
      "\\beta_{n+1} = \\beta_n - (J^TJ)^{-1}J^T r(\\beta_n)\n",
      "$$\n",
      "where the entries of the Jacobian matrix $J$ are\n",
      "$$\n",
      "J_{ij} = \\frac{\\partial r_i(\\beta)}{\\partial \\beta_j}\n",
      "$$"
     ]
    },
    {
     "cell_type": "markdown",
     "metadata": {},
     "source": [
      "#### Example adapted from [Wikipedia](http://en.wikipedia.org/wiki/Gauss%E2%80%93Newton)\n",
      "\n",
      "This can be used for fitting a general nonlinear model. Suppose we have a model where the residuals are given by\n",
      "$$\n",
      "r(\\beta_1, \\beta_2) = y_i - \\frac{\\beta_1 x_i}{\\beta_2 + x_i}\n",
      "$$\n",
      "where the index $i$ is for the $i^\\text{th}$ observation.\n",
      "\n",
      "The Jacobian is then $\\frac{\\partial r_i}{\\partial \\beta_j}$ which is a $i \\times 2$ matrix. Suppose we have 3 observations $x_1, x_2, x_3$. Then the Jaobian matrix is\n",
      "$$\n",
      "\\left( \\begin{array}{cc}\n",
      "-\\frac{x_1}{\\beta_2 + x_1} & \\frac{\\beta_1 x_1}{(\\beta_2 + x_1)^2} \\\\\n",
      "-\\frac{x_2}{\\beta_2 + x_2} & \\frac{\\beta_1 x_2}{(\\beta_2 + x_2)^2}  \\\\\n",
      "-\\frac{x_3}{\\beta_2 + x_3} & \\frac{\\beta_1 x_3}{(\\beta_2 + x_3)^2} \\end{array} \\right)\n",
      "$$"
     ]
    },
    {
     "cell_type": "code",
     "collapsed": false,
     "input": [
      "from numpy import dot\n",
      "from scipy.linalg import pinv, norm\n",
      "\n",
      "def gauss_newton(r, J, beta, tol=1e-6, max_iter=1e4):\n",
      "    _tol = np.infty\n",
      "    _iter = 0\n",
      "    while (_tol > tol) and (_iter < max_iter):\n",
      "        _beta = beta - dot(pinv(J(beta)), r(beta))\n",
      "        _tol = norm(beta - _beta)\n",
      "        _iter += 1\n",
      "        beta = _beta\n",
      "    if _tol <= tol:\n",
      "        return beta\n",
      "    else:\n",
      "        return None"
     ],
     "language": "python",
     "metadata": {},
     "outputs": [],
     "prompt_number": 99
    },
    {
     "cell_type": "code",
     "collapsed": false,
     "input": [
      "x = np.array([0.038, 0.194, 0.425, 0.626, 1.253, 2.500, 3.740 ])\n",
      "y = np.array([0.050, 0.12, 0.094, 0.2122, 0.2729, 0.2665, 0.3317])\n",
      "\n",
      "def r(beta, x=x, y=y):\n",
      "    return y - (beta[0]*x)/(beta[1] + x)\n",
      "\n",
      "def J(beta, x=x):\n",
      "    return np.array([-x/(beta[1] + x), (beta[0] *x)/(beta[1] + x)**2]).T\n",
      "\n",
      "def f(x, beta):\n",
      "    return (beta[0]*x)/(beta[1] + x)\n",
      "\n",
      "beta = [0.9, 0.2]\n",
      "beta = gauss_newton(r, J, beta)\n",
      "\n",
      "xs = np.linspace(0, 4, 100)\n",
      "plt.plot(xs, f(xs, beta))\n",
      "plt.scatter(x, y, s=50,edgecolors='red', facecolors='none')\n",
      "plt.axis([0, 4, 0, 0.35]);"
     ],
     "language": "python",
     "metadata": {},
     "outputs": [
      {
       "metadata": {},
       "output_type": "display_data",
       "png": "[encoded data removed]",
       "text": [
        "<matplotlib.figure.Figure at 0x110670750>"
       ]
      }
     ],
     "prompt_number": 109
    },
    {
     "cell_type": "code",
     "collapsed": false,
     "input": [],
     "language": "python",
     "metadata": {},
     "outputs": []
    }
   ],
   "metadata": {}
  }
 ]
}