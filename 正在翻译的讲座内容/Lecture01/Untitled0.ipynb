{
 "metadata": {
  "name": "",
  "signature": "sha256:8afcc5ad3e3c2e9abde4d1848df1ac38402f6285fd4dc25dfc526d21700dd51c"
 },
 "nbformat": 3,
 "nbformat_minor": 0,
 "worksheets": [
  {
   "cells": [
    {
     "cell_type": "markdown",
     "metadata": {},
     "source": [
      "Hello!"
     ]
    },
    {
     "cell_type": "code",
     "collapsed": false,
     "input": [
      "Type in some text.  Note, this is a code cell."
     ],
     "language": "python",
     "metadata": {},
     "outputs": [
      {
       "ename": "SyntaxError",
       "evalue": "invalid syntax (<ipython-input-1-2b6c88a84e23>, line 1)",
       "output_type": "pyerr",
       "traceback": [
        "\u001b[1;36m  File \u001b[1;32m\"<ipython-input-1-2b6c88a84e23>\"\u001b[1;36m, line \u001b[1;32m1\u001b[0m\n\u001b[1;33m    Type in some text.  Note, this is a code cell.\u001b[0m\n\u001b[1;37m                    ^\u001b[0m\n\u001b[1;31mSyntaxError\u001b[0m\u001b[1;31m:\u001b[0m invalid syntax\n"
       ]
      }
     ],
     "prompt_number": 1
    }
   ],
   "metadata": {}
  }
 ]
}