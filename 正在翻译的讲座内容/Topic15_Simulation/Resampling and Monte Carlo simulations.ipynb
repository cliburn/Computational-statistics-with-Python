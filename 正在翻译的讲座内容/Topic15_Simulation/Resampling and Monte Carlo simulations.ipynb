{
 "metadata": {
  "name": "",
  "signature": "sha256:6b416c756b31a9a04df8983571dede8cd297fa7e09f477fb6e2e1dc089b92982"
 },
 "nbformat": 3,
 "nbformat_minor": 0,
 "worksheets": [
  {
   "cells": [
    {
     "cell_type": "code",
     "collapsed": false,
     "input": [
      "from __future__ import division\n",
      "import os\n",
      "import sys\n",
      "import glob\n",
      "import matplotlib.pyplot as plt\n",
      "import numpy as np\n",
      "import pandas as pd\n",
      "%matplotlib inline\n",
      "%precision 4\n",
      "plt.style.use('ggplot')"
     ],
     "language": "python",
     "metadata": {},
     "outputs": [],
     "prompt_number": 1
    },
    {
     "cell_type": "code",
     "collapsed": false,
     "input": [
      "np.set_printoptions(formatter={'float': lambda x: '%.3f' % x})"
     ],
     "language": "python",
     "metadata": {},
     "outputs": [],
     "prompt_number": 2
    },
    {
     "cell_type": "markdown",
     "metadata": {},
     "source": [
      "Outline\n",
      "----\n",
      "\n",
      "### Resampling\n",
      "\n",
      "- Sampling with and without replacement\n",
      "- Bootstrap\n",
      "- Jackknife\n",
      "- Cross validation and LOOCV\n",
      "- Permutation resampling\n",
      "\n",
      "### Simulations\n",
      "\n",
      "- Design of experiments\n",
      "- Power from simulations\n",
      "- Hypothesis testing from simulations\n",
      "- Empirical CDF\n",
      "- Density estimation"
     ]
    },
    {
     "cell_type": "markdown",
     "metadata": {},
     "source": [
      "### Setting the random seed"
     ]
    },
    {
     "cell_type": "code",
     "collapsed": false,
     "input": [
      "np.random.seed(123)"
     ],
     "language": "python",
     "metadata": {},
     "outputs": [],
     "prompt_number": 3
    },
    {
     "cell_type": "markdown",
     "metadata": {},
     "source": [
      "Resampling\n",
      "----"
     ]
    },
    {
     "cell_type": "markdown",
     "metadata": {},
     "source": [
      "### Sampling with and without replacement"
     ]
    },
    {
     "cell_type": "markdown",
     "metadata": {},
     "source": [
      "#### Sampling with replacement"
     ]
    },
    {
     "cell_type": "code",
     "collapsed": false,
     "input": [
      "# Sampling is done with replacement by default\n",
      "np.random.choice(4, 12)"
     ],
     "language": "python",
     "metadata": {},
     "outputs": [
      {
       "metadata": {},
       "output_type": "pyout",
       "prompt_number": 4,
       "text": [
        "array([2, 1, 2, 2, 0, 2, 2, 1, 3, 2, 3, 1])"
       ]
      }
     ],
     "prompt_number": 4
    },
    {
     "cell_type": "code",
     "collapsed": false,
     "input": [
      "# Probability weights can be given\n",
      "np.random.choice(4, 12, p=[.4, .1, .1, .4])"
     ],
     "language": "python",
     "metadata": {},
     "outputs": [
      {
       "metadata": {},
       "output_type": "pyout",
       "prompt_number": 5,
       "text": [
        "array([3, 3, 1, 0, 0, 3, 1, 0, 0, 3, 0, 0])"
       ]
      }
     ],
     "prompt_number": 5
    },
    {
     "cell_type": "code",
     "collapsed": false,
     "input": [
      "x = np.random.randint(0, 10, (8, 12))\n",
      "x"
     ],
     "language": "python",
     "metadata": {},
     "outputs": [
      {
       "metadata": {},
       "output_type": "pyout",
       "prompt_number": 6,
       "text": [
        "array([[7, 2, 4, 8, 0, 7, 9, 3, 4, 6, 1, 5],\n",
        "       [6, 2, 1, 8, 3, 5, 0, 2, 6, 2, 4, 4],\n",
        "       [6, 3, 0, 6, 4, 7, 6, 7, 1, 5, 7, 9],\n",
        "       [2, 4, 8, 1, 2, 1, 1, 3, 5, 9, 0, 8],\n",
        "       [1, 6, 3, 3, 5, 9, 7, 9, 2, 3, 3, 3],\n",
        "       [8, 6, 9, 7, 6, 3, 9, 6, 6, 6, 1, 3],\n",
        "       [4, 3, 1, 0, 5, 8, 6, 8, 9, 1, 0, 3],\n",
        "       [1, 3, 4, 7, 6, 1, 4, 3, 3, 7, 6, 8]])"
       ]
      }
     ],
     "prompt_number": 6
    },
    {
     "cell_type": "code",
     "collapsed": false,
     "input": [
      "# sampling individual elements\n",
      "np.random.choice(x.ravel(), 12)"
     ],
     "language": "python",
     "metadata": {},
     "outputs": [
      {
       "metadata": {},
       "output_type": "pyout",
       "prompt_number": 7,
       "text": [
        "array([1, 2, 4, 7, 1, 2, 2, 6, 7, 3, 8, 4])"
       ]
      }
     ],
     "prompt_number": 7
    },
    {
     "cell_type": "code",
     "collapsed": false,
     "input": [
      "# sampling rows\n",
      "idx = np.random.choice(x.shape[0], 4)\n",
      "x[idx, :]"
     ],
     "language": "python",
     "metadata": {},
     "outputs": [
      {
       "metadata": {},
       "output_type": "pyout",
       "prompt_number": 8,
       "text": [
        "array([[4, 3, 1, 0, 5, 8, 6, 8, 9, 1, 0, 3],\n",
        "       [4, 3, 1, 0, 5, 8, 6, 8, 9, 1, 0, 3],\n",
        "       [6, 2, 1, 8, 3, 5, 0, 2, 6, 2, 4, 4],\n",
        "       [4, 3, 1, 0, 5, 8, 6, 8, 9, 1, 0, 3]])"
       ]
      }
     ],
     "prompt_number": 8
    },
    {
     "cell_type": "code",
     "collapsed": false,
     "input": [
      "# sampling columns\n",
      "idx = np.random.choice(x.shape[1], 4)\n",
      "x[:, idx]"
     ],
     "language": "python",
     "metadata": {},
     "outputs": [
      {
       "metadata": {},
       "output_type": "pyout",
       "prompt_number": 9,
       "text": [
        "array([[9, 4, 3, 1],\n",
        "       [0, 6, 2, 4],\n",
        "       [6, 1, 7, 7],\n",
        "       [1, 5, 3, 0],\n",
        "       [7, 2, 9, 3],\n",
        "       [9, 6, 6, 1],\n",
        "       [6, 9, 8, 0],\n",
        "       [4, 3, 3, 6]])"
       ]
      }
     ],
     "prompt_number": 9
    },
    {
     "cell_type": "markdown",
     "metadata": {},
     "source": [
      "#### Sampling without replacement"
     ]
    },
    {
     "cell_type": "code",
     "collapsed": false,
     "input": [
      "# Give the argument replace=False\n",
      "try:\n",
      "    np.random.choice(4, 12, replace=False)\n",
      "except ValueError, e:\n",
      "    print e"
     ],
     "language": "python",
     "metadata": {},
     "outputs": [
      {
       "output_type": "stream",
       "stream": "stdout",
       "text": [
        "Cannot take a larger sample than population when 'replace=False'\n"
       ]
      }
     ],
     "prompt_number": 10
    },
    {
     "cell_type": "markdown",
     "metadata": {},
     "source": [
      "#### Random shuffling\n",
      "\n",
      "You will likely have used this for the stochastic gradient descent homework."
     ]
    },
    {
     "cell_type": "code",
     "collapsed": false,
     "input": [
      "x"
     ],
     "language": "python",
     "metadata": {},
     "outputs": [
      {
       "metadata": {},
       "output_type": "pyout",
       "prompt_number": 11,
       "text": [
        "array([[7, 2, 4, 8, 0, 7, 9, 3, 4, 6, 1, 5],\n",
        "       [6, 2, 1, 8, 3, 5, 0, 2, 6, 2, 4, 4],\n",
        "       [6, 3, 0, 6, 4, 7, 6, 7, 1, 5, 7, 9],\n",
        "       [2, 4, 8, 1, 2, 1, 1, 3, 5, 9, 0, 8],\n",
        "       [1, 6, 3, 3, 5, 9, 7, 9, 2, 3, 3, 3],\n",
        "       [8, 6, 9, 7, 6, 3, 9, 6, 6, 6, 1, 3],\n",
        "       [4, 3, 1, 0, 5, 8, 6, 8, 9, 1, 0, 3],\n",
        "       [1, 3, 4, 7, 6, 1, 4, 3, 3, 7, 6, 8]])"
       ]
      }
     ],
     "prompt_number": 11
    },
    {
     "cell_type": "code",
     "collapsed": false,
     "input": [
      "# Shuffling occurs \"in place\" for efficiency\n",
      "np.random.shuffle(x)\n",
      "x"
     ],
     "language": "python",
     "metadata": {},
     "outputs": [
      {
       "metadata": {},
       "output_type": "pyout",
       "prompt_number": 12,
       "text": [
        "array([[7, 2, 4, 8, 0, 7, 9, 3, 4, 6, 1, 5],\n",
        "       [4, 3, 1, 0, 5, 8, 6, 8, 9, 1, 0, 3],\n",
        "       [8, 6, 9, 7, 6, 3, 9, 6, 6, 6, 1, 3],\n",
        "       [2, 4, 8, 1, 2, 1, 1, 3, 5, 9, 0, 8],\n",
        "       [6, 3, 0, 6, 4, 7, 6, 7, 1, 5, 7, 9],\n",
        "       [6, 2, 1, 8, 3, 5, 0, 2, 6, 2, 4, 4],\n",
        "       [1, 3, 4, 7, 6, 1, 4, 3, 3, 7, 6, 8],\n",
        "       [1, 6, 3, 3, 5, 9, 7, 9, 2, 3, 3, 3]])"
       ]
      }
     ],
     "prompt_number": 12
    },
    {
     "cell_type": "code",
     "collapsed": false,
     "input": [
      "\n",
      "# To shuffle columns instead, transpose before shuffling\n",
      "np.random.shuffle(x.T)\n",
      "x"
     ],
     "language": "python",
     "metadata": {},
     "outputs": [
      {
       "metadata": {},
       "output_type": "pyout",
       "prompt_number": 13,
       "text": [
        "array([[7, 0, 4, 7, 9, 8, 1, 6, 4, 3, 2, 5],\n",
        "       [8, 5, 1, 4, 6, 0, 0, 1, 9, 8, 3, 3],\n",
        "       [3, 6, 9, 8, 9, 7, 1, 6, 6, 6, 6, 3],\n",
        "       [1, 2, 8, 2, 1, 1, 0, 9, 5, 3, 4, 8],\n",
        "       [7, 4, 0, 6, 6, 6, 7, 5, 1, 7, 3, 9],\n",
        "       [5, 3, 1, 6, 0, 8, 4, 2, 6, 2, 2, 4],\n",
        "       [1, 6, 4, 1, 4, 7, 6, 7, 3, 3, 3, 8],\n",
        "       [9, 5, 3, 1, 7, 3, 3, 3, 2, 9, 6, 3]])"
       ]
      }
     ],
     "prompt_number": 13
    },
    {
     "cell_type": "code",
     "collapsed": false,
     "input": [
      "# numpy.random.permutation does the same thing but returns a copy\n",
      "np.random.permutation(x)"
     ],
     "language": "python",
     "metadata": {},
     "outputs": [
      {
       "metadata": {},
       "output_type": "pyout",
       "prompt_number": 14,
       "text": [
        "array([[7, 0, 4, 7, 9, 8, 1, 6, 4, 3, 2, 5],\n",
        "       [1, 6, 4, 1, 4, 7, 6, 7, 3, 3, 3, 8],\n",
        "       [1, 2, 8, 2, 1, 1, 0, 9, 5, 3, 4, 8],\n",
        "       [7, 4, 0, 6, 6, 6, 7, 5, 1, 7, 3, 9],\n",
        "       [9, 5, 3, 1, 7, 3, 3, 3, 2, 9, 6, 3],\n",
        "       [3, 6, 9, 8, 9, 7, 1, 6, 6, 6, 6, 3],\n",
        "       [8, 5, 1, 4, 6, 0, 0, 1, 9, 8, 3, 3],\n",
        "       [5, 3, 1, 6, 0, 8, 4, 2, 6, 2, 2, 4]])"
       ]
      }
     ],
     "prompt_number": 14
    },
    {
     "cell_type": "code",
     "collapsed": false,
     "input": [
      "# When given an integre n, permutation treats is as the array arange(n)\n",
      "np.random.permutation(10)"
     ],
     "language": "python",
     "metadata": {},
     "outputs": [
      {
       "metadata": {},
       "output_type": "pyout",
       "prompt_number": 15,
       "text": [
        "array([4, 0, 6, 7, 5, 1, 8, 2, 3, 9])"
       ]
      }
     ],
     "prompt_number": 15
    },
    {
     "cell_type": "code",
     "collapsed": false,
     "input": [
      "# Use indices if you needed to shuffle collections of arrays in synchrony\n",
      "x = np.arange(12).reshape(4,3)\n",
      "y = x + 10\n",
      "idx = np.random.permutation(x.shape[0])\n",
      "print x[idx, :], '\\n'\n",
      "print y[idx, :]"
     ],
     "language": "python",
     "metadata": {},
     "outputs": [
      {
       "output_type": "stream",
       "stream": "stdout",
       "text": [
        "[[ 9 10 11]\n",
        " [ 3  4  5]\n",
        " [ 6  7  8]\n",
        " [ 0  1  2]] \n",
        "\n",
        "[[19 20 21]\n",
        " [13 14 15]\n",
        " [16 17 18]\n",
        " [10 11 12]]\n"
       ]
      }
     ],
     "prompt_number": 16
    },
    {
     "cell_type": "markdown",
     "metadata": {},
     "source": [
      "### Bootstrap\n",
      "\n",
      "The bootstrap is commonly used to estimate statistics when theory fails. We have already seen the bootstrap for estiamting confidence bounds for convergence in the Monte Carlo integration."
     ]
    },
    {
     "cell_type": "code",
     "collapsed": false,
     "input": [
      "# For example, what is the 95% confidence interval for \n",
      "# the mean of this data set if you didn't know how it was generated?\n",
      "\n",
      "x = np.concatenate([np.random.exponential(size=200), np.random.normal(size=100)])\n",
      "plt.hist(x, 25, histtype='step');"
     ],
     "language": "python",
     "metadata": {},
     "outputs": [
      {
       "metadata": {},
       "output_type": "display_data",
       "png": "[encoded data removed]",
       "text": [
        "<matplotlib.figure.Figure at 0x110c99250>"
       ]
      }
     ],
     "prompt_number": 17
    },
    {
     "cell_type": "code",
     "collapsed": false,
     "input": [
      "n = len(x)\n",
      "reps = 10000\n",
      "xb = np.random.choice(x, (n, reps))\n",
      "mb = xb.mean(axis=0)\n",
      "mb.sort()\n",
      "\n",
      "np.percentile(mb, [2.5, 97.5])"
     ],
     "language": "python",
     "metadata": {},
     "outputs": [
      {
       "metadata": {},
       "output_type": "pyout",
       "prompt_number": 18,
       "text": [
        "array([0.483, 0.740])"
       ]
      }
     ],
     "prompt_number": 18
    },
    {
     "cell_type": "markdown",
     "metadata": {},
     "source": [
      "#### Reprise of bootstrap example for Monte Carlo integration"
     ]
    },
    {
     "cell_type": "code",
     "collapsed": false,
     "input": [
      "def f(x):\n",
      "    return x * np.cos(71*x) + np.sin(13*x)"
     ],
     "language": "python",
     "metadata": {},
     "outputs": [],
     "prompt_number": 19
    },
    {
     "cell_type": "code",
     "collapsed": false,
     "input": [
      "# data sample for integration\n",
      "n = 100\n",
      "x = f(np.random.random(n))"
     ],
     "language": "python",
     "metadata": {},
     "outputs": [],
     "prompt_number": 20
    },
    {
     "cell_type": "code",
     "collapsed": false,
     "input": [
      "# bootstrap MC integration\n",
      "reps = 1000\n",
      "xb = np.random.choice(x, (n, reps), replace=True)\n",
      "yb = 1/np.arange(1, n+1)[:, None] * np.cumsum(xb, axis=0)\n",
      "upper, lower = np.percentile(yb, [2.5, 97.5], axis=1)"
     ],
     "language": "python",
     "metadata": {},
     "outputs": [],
     "prompt_number": 21
    },
    {
     "cell_type": "code",
     "collapsed": false,
     "input": [
      "plt.plot(np.arange(1, n+1)[:, None], yb, c='grey', alpha=0.02)\n",
      "plt.plot(np.arange(1, n+1), yb[:, 0], c='red', linewidth=1)\n",
      "plt.plot(np.arange(1, n+1), upper, 'b', np.arange(1, n+1), lower, 'b');"
     ],
     "language": "python",
     "metadata": {},
     "outputs": [
      {
       "metadata": {},
       "output_type": "display_data",
       "png": "[encoded data removed]",
       "text": [
        "<matplotlib.figure.Figure at 0x112899550>"
       ]
      }
     ],
     "prompt_number": 22
    },
    {
     "cell_type": "markdown",
     "metadata": {},
     "source": [
      "### Leave some-out resampling"
     ]
    },
    {
     "cell_type": "markdown",
     "metadata": {},
     "source": [
      "#### Jackknife estimate of parameters\n",
      "\n",
      "This shows the leave-one-out calculation idiom for Python. Unlike R, a -k index to an array does not delete the kth entry, but returns the kth entry from the end, so we need another way to efficiently drop one scalar or vector. This can be done using Boolean indexing as shown in the examples below, and is efficient since the operations are on *views* of the origianl array rather thna *copies*."
     ]
    },
    {
     "cell_type": "code",
     "collapsed": false,
     "input": [
      "def jackknife(x, func):\n",
      "    \"\"\"Jackknife estimate of the estimator func\"\"\"\n",
      "    n = len(x)\n",
      "    idx = np.arange(n)\n",
      "    return np.sum(func(x[idx!=i]) for i in range(n))/float(n)"
     ],
     "language": "python",
     "metadata": {},
     "outputs": [],
     "prompt_number": 23
    },
    {
     "cell_type": "code",
     "collapsed": false,
     "input": [
      "# Jackknife estimate of standard deviation\n",
      "x = np.random.normal(0, 2, 100)\n",
      "jackknife(x, np.std)"
     ],
     "language": "python",
     "metadata": {},
     "outputs": [
      {
       "metadata": {},
       "output_type": "pyout",
       "prompt_number": 24,
       "text": [
        "1.9223"
       ]
      }
     ],
     "prompt_number": 24
    },
    {
     "cell_type": "code",
     "collapsed": false,
     "input": [
      "def jackknife_var(x, func):\n",
      "    \"\"\"Jackknife estiamte of the variance of the estimator func.\"\"\"\n",
      "    n = len(x)\n",
      "    idx = np.arange(n)\n",
      "    j_est = jackknife(x, func)\n",
      "    return (n-1)/(n + 0.0) * np.sum((func(x[idx!=i]) - j_est)**2.0 \n",
      "                                    for i in range(n))"
     ],
     "language": "python",
     "metadata": {},
     "outputs": [],
     "prompt_number": 25
    },
    {
     "cell_type": "code",
     "collapsed": false,
     "input": [
      "# estimate of the variance of an estimator \n",
      "jackknife_var(x, np.std)"
     ],
     "language": "python",
     "metadata": {},
     "outputs": [
      {
       "metadata": {},
       "output_type": "pyout",
       "prompt_number": 26,
       "text": [
        "0.0254"
       ]
      }
     ],
     "prompt_number": 26
    },
    {
     "cell_type": "markdown",
     "metadata": {},
     "source": [
      "#### Leave one out cross validation (LOOCV)\n",
      "\n",
      "LOOCV also uses the same idiom, and a simple example of LOOCV for model selection is illustrated."
     ]
    },
    {
     "cell_type": "code",
     "collapsed": false,
     "input": [
      "a, b, c = 1, 2, 3\n",
      "x = np.linspace(0, 5, 10)\n",
      "y = a*x**2 + b*x + c + np.random.normal(0, 1, len(x))"
     ],
     "language": "python",
     "metadata": {},
     "outputs": [],
     "prompt_number": 27
    },
    {
     "cell_type": "code",
     "collapsed": false,
     "input": [
      "plt.figure(figsize=(12,4))\n",
      "for deg in range(1, 5):\n",
      "    plt.subplot(1, 4, deg)\n",
      "    beta = np.polyfit(x, y, deg)\n",
      "    plt.plot(x, y, 'r:o')\n",
      "    plt.plot(x, np.polyval(beta, x), 'b-')\n",
      "    plt.title('Degree = %d' % deg)"
     ],
     "language": "python",
     "metadata": {},
     "outputs": [
      {
       "metadata": {},
       "output_type": "display_data",
       "png": "[encoded data removed]",
       "text": [
        "<matplotlib.figure.Figure at 0x112899e10>"
       ]
      }
     ],
     "prompt_number": 28
    },
    {
     "cell_type": "code",
     "collapsed": false,
     "input": [
      "def loocv(x, y, fit, pred, deg):\n",
      "    \"\"\"LOOCV RSS for fitting a polynomial model.\"\"\"\n",
      "    n = len(x)\n",
      "    idx = np.arange(n)\n",
      "    rss = np.sum([(y - pred(fit(x[idx!=i], y[idx!=i], deg), x))**2.0 for i in range(n)])\n",
      "    return rss"
     ],
     "language": "python",
     "metadata": {},
     "outputs": [],
     "prompt_number": 29
    },
    {
     "cell_type": "code",
     "collapsed": false,
     "input": [
      "# RSS does not detect overfitting and selects the most complex model\n",
      "for deg in range(1, 5):\n",
      "    print 'Degree = %d, RSS=%.2f' % (deg, np.sum((y - np.polyval(np.polyfit(x, y, deg), x))**2.0))"
     ],
     "language": "python",
     "metadata": {},
     "outputs": [
      {
       "output_type": "stream",
       "stream": "stdout",
       "text": [
        "Degree = 1, RSS=59.90\n",
        "Degree = 2, RSS=6.20\n",
        "Degree = 3, RSS=6.20\n",
        "Degree = 4, RSS=6.20\n"
       ]
      }
     ],
     "prompt_number": 30
    },
    {
     "cell_type": "code",
     "collapsed": false,
     "input": [
      "# LOOCV selects the correct model\n",
      "for deg in range(1, 5):\n",
      "    print 'Degree = %d, RSS=%.2f' % (deg, loocv(x, y, np.polyfit, np.polyval, deg))"
     ],
     "language": "python",
     "metadata": {},
     "outputs": [
      {
       "output_type": "stream",
       "stream": "stdout",
       "text": [
        "Degree = 1, RSS=628.41\n",
        "Degree = 2, RSS=64.35\n",
        "Degree = 3, RSS=67.81\n",
        "Degree = 4, RSS=85.39\n"
       ]
      }
     ],
     "prompt_number": 31
    },
    {
     "cell_type": "markdown",
     "metadata": {},
     "source": [
      "### Permutation resampling"
     ]
    },
    {
     "cell_type": "markdown",
     "metadata": {},
     "source": [
      "#### For flexible hypothesis testing\n",
      "\n",
      "Suppose you have 2 data sets from unknown distribution and you want to test if some arbitrary statistic (e.g 7th percentile) is the same in the 2 data sets - what can you do?\n",
      "\n",
      "An appropirate test statistic is the difference between the 7th percentile, and if we knew the null distribution of this statisic, we could test for the null hypothesis that the statistic = 0. Permuting the labels of the 2 data sets allows us to create the empirical null distribution."
     ]
    },
    {
     "cell_type": "code",
     "collapsed": false,
     "input": [
      "x = np.concatenate([np.random.exponential(size=200), \n",
      "                    np.random.normal(0, 1, size=100)])\n",
      "y = np.concatenate([np.random.exponential(size=250), \n",
      "                    np.random.normal(0, 1, size=50)])"
     ],
     "language": "python",
     "metadata": {},
     "outputs": [],
     "prompt_number": 32
    },
    {
     "cell_type": "code",
     "collapsed": false,
     "input": [
      "n1, n2 = map(len, (x, y))\n",
      "reps = 10000\n",
      "\n",
      "data = np.concatenate([x, y])\n",
      "ps = np.array([np.random.permutation(n1+n2) for i in range(reps)])"
     ],
     "language": "python",
     "metadata": {},
     "outputs": [],
     "prompt_number": 33
    },
    {
     "cell_type": "code",
     "collapsed": false,
     "input": [
      "xp = data[ps[:, :n1]]\n",
      "yp = data[ps[:, n1:]]\n",
      "samples = np.percentile(xp, 7, axis=1) - np.percentile(yp, 7, axis=1)"
     ],
     "language": "python",
     "metadata": {},
     "outputs": [],
     "prompt_number": 34
    },
    {
     "cell_type": "code",
     "collapsed": false,
     "input": [
      "plt.hist(samples, 25, histtype='step')\n",
      "test_stat = np.percentile(x, 7) - np.percentile(y, 7)\n",
      "plt.axvline(test_stat)\n",
      "plt.axvline(np.percentile(samples, 2.5), linestyle='--')\n",
      "plt.axvline(np.percentile(samples, 97.5), linestyle='--')\n",
      "print \"p-value =\", 2*np.sum(samples >= np.abs(test_stat))/reps"
     ],
     "language": "python",
     "metadata": {},
     "outputs": [
      {
       "output_type": "stream",
       "stream": "stdout",
       "text": [
        "p-value = 0.0296\n"
       ]
      },
      {
       "metadata": {},
       "output_type": "display_data",
       "png": "[encoded data removed]",
       "text": [
        "<matplotlib.figure.Figure at 0x1161a6890>"
       ]
      }
     ],
     "prompt_number": 35
    },
    {
     "cell_type": "markdown",
     "metadata": {},
     "source": [
      "#### Adjusting p-values for multiple testing\n",
      "\n",
      "We will make up some data - a tpical example is trying to identify genes that are differentially expressed in two groups of people, pehraps those who are helathy and those who are sick. For each gene, we can perform a t-test to see if the gene is differnetially expressed across the two groups at some nominal significanc level, typically 0.05. When we have many genes, this is unsatisfactory since 5% of the genes will be found to be differentially expressed just by chance.\n",
      "\n",
      "One possible solution is to use the family-wise error rate instead - most simply using the Bonferroni adjusted p-value. An alternative is to use the non-parmaetric method originally proposed by Young and Westfall that uses permuation resampling to estimate the adjusted p-value without the assumptions of independence that the Bonferroni method makes."
     ]
    },
    {
     "cell_type": "markdown",
     "metadata": {},
     "source": [
      "#### Making up data for 100 genes across 1000 subjects"
     ]
    },
    {
     "cell_type": "code",
     "collapsed": false,
     "input": [
      "np.random.seed(52)\n",
      "\n",
      "ngenes = 100\n",
      "ncases = 500\n",
      "nctrls = 500\n",
      "nsamples = ncases + nctrls\n",
      "x = np.random.normal(0, 1, (ngenes, nsamples))\n",
      "\n",
      "# x = np.repeat(np.random.normal(0, 1, (1, nsamples)), nsamples, axis=0)\n",
      "\n",
      "target_genes = [5,15,25,35,45]\n",
      "x[target_genes, ncases:] += np.random.normal(1, 1, (len(target_genes), ncases))"
     ],
     "language": "python",
     "metadata": {},
     "outputs": [],
     "prompt_number": 36
    },
    {
     "cell_type": "code",
     "collapsed": false,
     "input": [
      "import scipy.stats as st"
     ],
     "language": "python",
     "metadata": {},
     "outputs": [],
     "prompt_number": 37
    },
    {
     "cell_type": "markdown",
     "metadata": {},
     "source": [
      "#### Unadjusted p-values"
     ]
    },
    {
     "cell_type": "code",
     "collapsed": false,
     "input": [
      "t, p0 = st.ttest_ind(x[:, :ncases], x[:, ncases:], axis=1)\n",
      "idx = p0 < 0.05\n",
      "zip(np.nonzero(idx)[0], p0[idx])"
     ],
     "language": "python",
     "metadata": {},
     "outputs": [
      {
       "metadata": {},
       "output_type": "pyout",
       "prompt_number": 38,
       "text": [
        "[(0, 0.0119),\n",
        " (5, 0.0000),\n",
        " (10, 0.0368),\n",
        " (15, 0.0000),\n",
        " (25, 0.0000),\n",
        " (33, 0.0117),\n",
        " (35, 0.0000),\n",
        " (36, 0.0144),\n",
        " (39, 0.0247),\n",
        " (44, 0.0051),\n",
        " (45, 0.0000),\n",
        " (68, 0.0253),\n",
        " (97, 0.0366)]"
       ]
      }
     ],
     "prompt_number": 38
    },
    {
     "cell_type": "code",
     "collapsed": false,
     "input": [
      "vmin = x.min()\n",
      "vmax = x.max()\n",
      "\n",
      "plt.subplot(121)\n",
      "plt.imshow(x[:, :ncases], extent=[0, 1, 0, 2], interpolation='nearest', \n",
      "           vmin=vmin, vmax=vmax, cmap='jet')\n",
      "plt.xticks([])\n",
      "plt.yticks([])\n",
      "plt.title('Controls')\n",
      "plt.subplot(122)\n",
      "plt.imshow(x[:, ncases:], extent=[0, 1, 0, 2], interpolation='nearest', \n",
      "           vmin=vmin, vmax=vmax, cmap='jet')\n",
      "plt.xticks([])\n",
      "plt.yticks([])\n",
      "plt.title('Cases')\n",
      "plt.colorbar();"
     ],
     "language": "python",
     "metadata": {},
     "outputs": [
      {
       "metadata": {},
       "output_type": "display_data",
       "png": "[encoded data removed]",
       "text": [
        "<matplotlib.figure.Figure at 0x11288d650>"
       ]
      }
     ],
     "prompt_number": 39
    },
    {
     "cell_type": "markdown",
     "metadata": {},
     "source": [
      "#### Bonferroni"
     ]
    },
    {
     "cell_type": "code",
     "collapsed": false,
     "input": [
      "p1 = np.clip(len(p0) * p0, 0, 1)\n",
      "idx = p1 < 0.05\n",
      "zip(np.nonzero(idx)[0], p1[idx])"
     ],
     "language": "python",
     "metadata": {},
     "outputs": [
      {
       "metadata": {},
       "output_type": "pyout",
       "prompt_number": 40,
       "text": [
        "[(5, 0.0000), (15, 0.0000), (25, 0.0000), (35, 0.0000), (45, 0.0000)]"
       ]
      }
     ],
     "prompt_number": 40
    },
    {
     "cell_type": "markdown",
     "metadata": {},
     "source": [
      "#### Westfall and Young (Permutation-resampling based family-wise error rate)"
     ]
    },
    {
     "cell_type": "code",
     "collapsed": false,
     "input": [
      "nperms = 10000\n",
      "k = ngenes\n",
      "\n",
      "counts = np.zeros((nperms, k))\n",
      "ranks = np.argsort(np.abs(t))[::-1]\n",
      "for i in range(nperms):\n",
      "    u = np.zeros(k)\n",
      "    sidx = np.random.permutation(nsamples)\n",
      "    y = x[:, sidx]\n",
      "    tb, pb = st.ttest_ind(y[:, :ncases], y[:, ncases:], axis=1)\n",
      "    u[k-1] = np.abs(tb[ranks[k-1]])\n",
      "    for j in range(k-2, -1, -1):\n",
      "        u[j] = max(u[j+1], np.abs(tb[ranks[j]]))\n",
      "    counts[i] = (u >= np.abs(t[ranks]))\n",
      "\n",
      "p2 = np.sum(counts, axis=0)/nperms\n",
      "for i in range(1, k):\n",
      "    p2[i] = max(p2[i],p2[i-1])\n",
      "idx = p2 < 0.05\n",
      "zip(ranks, p2[idx])"
     ],
     "language": "python",
     "metadata": {},
     "outputs": [
      {
       "metadata": {},
       "output_type": "pyout",
       "prompt_number": 41,
       "text": [
        "[(15, 0.0000), (45, 0.0000), (35, 0.0000), (25, 0.0000), (5, 0.0000)]"
       ]
      }
     ],
     "prompt_number": 41
    },
    {
     "cell_type": "code",
     "collapsed": false,
     "input": [
      "plt.plot(sorted(p0), label='No correction')\n",
      "plt.plot(sorted(p1), label='Bonferroni')\n",
      "plt.plot(sorted(p2), label='Westfall-Young')\n",
      "plt.ylim([0,1])\n",
      "plt.legend(loc='best');"
     ],
     "language": "python",
     "metadata": {},
     "outputs": [
      {
       "metadata": {},
       "output_type": "display_data",
       "png": "[encoded data removed]",
       "text": [
        "<matplotlib.figure.Figure at 0x116bb5710>"
       ]
      }
     ],
     "prompt_number": 42
    },
    {
     "cell_type": "markdown",
     "metadata": {},
     "source": [
      "#### What if genes are correlated?\n",
      "\n",
      "The Bonferrroni assumes that tests are independent. However, often test resutls are strongly correlated (e.g. genes in the same pathway behave similalry) and the Bonferroni will be too conservative. However the permuation-resampling method still works in the presence of correaltions."
     ]
    },
    {
     "cell_type": "code",
     "collapsed": false,
     "input": [
      "np.random.seed(52)\n",
      "\n",
      "ngenes = 100\n",
      "ncases = 500\n",
      "nctrls = 500\n",
      "nsamples = ncases + nctrls\n",
      "\n",
      "x = np.repeat(np.random.normal(0, 1, (1, nsamples)), ngenes, axis=0)"
     ],
     "language": "python",
     "metadata": {},
     "outputs": [],
     "prompt_number": 43
    },
    {
     "cell_type": "code",
     "collapsed": false,
     "input": [
      "# In this extreme case, we measure the same gene 100 times\n",
      "x[:5, :5]"
     ],
     "language": "python",
     "metadata": {},
     "outputs": [
      {
       "metadata": {},
       "output_type": "pyout",
       "prompt_number": 44,
       "text": [
        "array([[0.519, -1.269, 0.240, -0.804, 0.017],\n",
        "       [0.519, -1.269, 0.240, -0.804, 0.017],\n",
        "       [0.519, -1.269, 0.240, -0.804, 0.017],\n",
        "       [0.519, -1.269, 0.240, -0.804, 0.017],\n",
        "       [0.519, -1.269, 0.240, -0.804, 0.017]])"
       ]
      }
     ],
     "prompt_number": 44
    },
    {
     "cell_type": "markdown",
     "metadata": {},
     "source": [
      "#### Unadjusted p-values"
     ]
    },
    {
     "cell_type": "code",
     "collapsed": false,
     "input": [
      "t, p0 = st.ttest_ind(x[:, :ncases], x[:, ncases:], axis=1)\n",
      "idx = p0 < 0.05\n",
      "print 'Minimum p-value', p0.min(), '# significant', idx.sum()"
     ],
     "language": "python",
     "metadata": {},
     "outputs": [
      {
       "output_type": "stream",
       "stream": "stdout",
       "text": [
        "Minimum p-value 0.0119317780363 # significant 100\n"
       ]
      }
     ],
     "prompt_number": 45
    },
    {
     "cell_type": "markdown",
     "metadata": {},
     "source": [
      "#### Bonferroni\n",
      "\n",
      "Bonferroni tells us none of the adjusted p-values are significant, which we know is the wrong answer."
     ]
    },
    {
     "cell_type": "code",
     "collapsed": false,
     "input": [
      "p1 = np.clip(len(p0) * p0, 0, 1)\n",
      "idx = p1 < 0.05\n",
      "print 'Minimum p-value', p1.min(), '# significant', idx.sum()"
     ],
     "language": "python",
     "metadata": {},
     "outputs": [
      {
       "output_type": "stream",
       "stream": "stdout",
       "text": [
        "Minimum p-value 1.0 # significant 0\n"
       ]
      }
     ],
     "prompt_number": 46
    },
    {
     "cell_type": "markdown",
     "metadata": {},
     "source": [
      "#### Westfall and Young (Permutation-resampling based family-wise error rate)\n",
      "\n",
      "This tells us that every gene is significant, which is the correct answer."
     ]
    },
    {
     "cell_type": "code",
     "collapsed": false,
     "input": [
      "nperms = 10000\n",
      "\n",
      "counts = np.zeros((nperms, k))\n",
      "ranks = np.argsort(np.abs(t))[::-1]\n",
      "for i in range(nperms):\n",
      "    u = np.zeros(k)\n",
      "    sidx = np.random.permutation(nsamples)\n",
      "    y = x[:, sidx]\n",
      "    tb, pb = st.ttest_ind(y[:, :ncases], y[:, ncases:], axis=1)\n",
      "    u[k-1] = np.abs(tb[ranks[k-1]])\n",
      "    for j in range(k-2, -1, -1):\n",
      "        u[j] = max(u[j+1], np.abs(tb[ranks[j]]))\n",
      "    counts[i] = (u >= np.abs(t[ranks]))\n",
      "\n",
      "p2 = np.sum(counts, axis=0)/nperms\n",
      "for i in range(1, k):\n",
      "    p2[i] = max(p2[i],p2[i-1])\n",
      "idx = p2 < 0.05\n",
      "    \n",
      "print 'Minimum p-value', p2.min(), '# significant', idx.sum()"
     ],
     "language": "python",
     "metadata": {},
     "outputs": [
      {
       "output_type": "stream",
       "stream": "stdout",
       "text": [
        "Minimum p-value 0.0118 # significant 100\n"
       ]
      }
     ],
     "prompt_number": 47
    },
    {
     "cell_type": "code",
     "collapsed": false,
     "input": [
      "plt.plot(sorted(p1), label='Bonferroni')\n",
      "plt.plot(sorted(p2), label='Westfall-Young')\n",
      "plt.ylim([-0.05,1.05])\n",
      "plt.legend(loc='best');"
     ],
     "language": "python",
     "metadata": {},
     "outputs": [
      {
       "metadata": {},
       "output_type": "display_data",
       "png": "[encoded data removed]",
       "text": [
        "<matplotlib.figure.Figure at 0x11703a6d0>"
       ]
      }
     ],
     "prompt_number": 48
    },
    {
     "cell_type": "markdown",
     "metadata": {},
     "source": [
      "### Simulations to estimate power\n",
      "\n",
      "What sample size is needed for the t-test to have a power of 0.8 with an effect size of 0.5?\n",
      "\n",
      "This is a toy example, since you can just use a pakcage to calculate it,  but the simulation approach works for *everything*, including arbitrarily complex experimental designs, correcting for multiple comparisons and so on(assuming infinite computational resources)."
     ]
    },
    {
     "cell_type": "code",
     "collapsed": false,
     "input": [
      "# Run nresps simulations\n",
      "# The power is simply the fraction of reps where \n",
      "# the p-value is less than 0.05\n",
      "\n",
      "nreps = 10000\n",
      "d = 0.5\n",
      "\n",
      "n = 50\n",
      "power = 0\n",
      "while power < 0.8:\n",
      "    n1 = n2 = n\n",
      "    x = np.random.normal(0, 1, (n1, nreps))\n",
      "    y = np.random.normal(d, 1, (n2, nreps))\n",
      "    t, p = st.ttest_ind(x, y)\n",
      "    power = (p < 0.05).sum()/nreps\n",
      "    print n, power\n",
      "    n += 1"
     ],
     "language": "python",
     "metadata": {},
     "outputs": [
      {
       "output_type": "stream",
       "stream": "stdout",
       "text": [
        "50 0.7002\n",
        "51"
       ]
      },
      {
       "output_type": "stream",
       "stream": "stdout",
       "text": [
        " 0.706\n",
        "52"
       ]
      },
      {
       "output_type": "stream",
       "stream": "stdout",
       "text": [
        " 0.7119\n",
        "53"
       ]
      },
      {
       "output_type": "stream",
       "stream": "stdout",
       "text": [
        " 0.7181\n",
        "54"
       ]
      },
      {
       "output_type": "stream",
       "stream": "stdout",
       "text": [
        " 0.7344\n",
        "55"
       ]
      },
      {
       "output_type": "stream",
       "stream": "stdout",
       "text": [
        " 0.7351\n",
        "56"
       ]
      },
      {
       "output_type": "stream",
       "stream": "stdout",
       "text": [
        " 0.7405\n",
        "57"
       ]
      },
      {
       "output_type": "stream",
       "stream": "stdout",
       "text": [
        " 0.7583\n",
        "58"
       ]
      },
      {
       "output_type": "stream",
       "stream": "stdout",
       "text": [
        " 0.761\n",
        "59"
       ]
      },
      {
       "output_type": "stream",
       "stream": "stdout",
       "text": [
        " 0.7647\n",
        "60"
       ]
      },
      {
       "output_type": "stream",
       "stream": "stdout",
       "text": [
        " 0.775\n",
        "61"
       ]
      },
      {
       "output_type": "stream",
       "stream": "stdout",
       "text": [
        " 0.7878\n",
        "62"
       ]
      },
      {
       "output_type": "stream",
       "stream": "stdout",
       "text": [
        " 0.7865\n",
        "63"
       ]
      },
      {
       "output_type": "stream",
       "stream": "stdout",
       "text": [
        " 0.7913\n",
        "64"
       ]
      },
      {
       "output_type": "stream",
       "stream": "stdout",
       "text": [
        " 0.8004\n"
       ]
      }
     ],
     "prompt_number": 49
    },
    {
     "cell_type": "markdown",
     "metadata": {},
     "source": [
      "### Check with R"
     ]
    },
    {
     "cell_type": "code",
     "collapsed": false,
     "input": [
      "%load_ext rpy2.ipython"
     ],
     "language": "python",
     "metadata": {},
     "outputs": [],
     "prompt_number": 50
    },
    {
     "cell_type": "code",
     "collapsed": false,
     "input": [
      "%%R\n",
      "library(pwr)\n",
      "\n",
      "power.t.test(sig.level=0.05, power=0.8, delta = 0.5)"
     ],
     "language": "python",
     "metadata": {},
     "outputs": [
      {
       "metadata": {},
       "output_type": "display_data",
       "text": [
        "\n",
        "     Two-sample t test power calculation \n",
        "\n",
        "              n = 63.76576\n",
        "          delta = 0.5\n",
        "             sd = 1\n",
        "      sig.level = 0.05\n",
        "          power = 0.8\n",
        "    alternative = two.sided\n",
        "\n",
        "NOTE: n is number in *each* group\n",
        "\n"
       ]
      }
     ],
     "prompt_number": 51
    },
    {
     "cell_type": "markdown",
     "metadata": {},
     "source": [
      "Characterizing Monte Carlo samples\n",
      "----\n",
      "\n",
      "Given a bunch of random numbers from a simulaiton experiment, one of the first steps is to visualize the CDF and PDF."
     ]
    },
    {
     "cell_type": "markdown",
     "metadata": {},
     "source": [
      "### Estimating the CDF"
     ]
    },
    {
     "cell_type": "code",
     "collapsed": false,
     "input": [
      "# Make up some random data\n",
      "x = np.concatenate([np.random.normal(0, 1, 10000), \n",
      "                    np.random.normal(4, 1, 10000)])"
     ],
     "language": "python",
     "metadata": {},
     "outputs": [],
     "prompt_number": 52
    },
    {
     "cell_type": "code",
     "collapsed": false,
     "input": [
      "# Roll our own ECDF function\n",
      "\n",
      "def ecdf(x):\n",
      "    \"\"\"Return empirical CDF of x.\"\"\"\n",
      "    \n",
      "    sx = np.sort(x)\n",
      "    cdf = (1.0 + np.arange(len(sx)))/len(sx)\n",
      "    return sx, cdf"
     ],
     "language": "python",
     "metadata": {},
     "outputs": [],
     "prompt_number": 53
    },
    {
     "cell_type": "code",
     "collapsed": false,
     "input": [
      "sx, y = ecdf(x)\n",
      "plt.plot(sx, y);"
     ],
     "language": "python",
     "metadata": {},
     "outputs": [
      {
       "metadata": {},
       "output_type": "display_data",
       "png": "[encoded data removed]",
       "text": [
        "<matplotlib.figure.Figure at 0x116bb53d0>"
       ]
      }
     ],
     "prompt_number": 54
    },
    {
     "cell_type": "markdown",
     "metadata": {},
     "source": [
      "#### Using library routines"
     ]
    },
    {
     "cell_type": "code",
     "collapsed": false,
     "input": [
      "from statsmodels.distributions.empirical_distribution import ECDF\n",
      "\n",
      "ecdf = ECDF(x)\n",
      "plt.plot(ecdf.x, ecdf.y);"
     ],
     "language": "python",
     "metadata": {},
     "outputs": [
      {
       "metadata": {},
       "output_type": "display_data",
       "png": "[encoded data removed]",
       "text": [
        "<matplotlib.figure.Figure at 0x116b98f10>"
       ]
      }
     ],
     "prompt_number": 55
    },
    {
     "cell_type": "markdown",
     "metadata": {},
     "source": [
      "### Estimating the PDF\n",
      "\n",
      "The simplest is to plot a normalized histogram as shown above, but we will also look at how to estimate density functions using kernel density estimation."
     ]
    },
    {
     "cell_type": "markdown",
     "metadata": {},
     "source": [
      "### Kernel density estimation\n",
      "\n",
      "Kernel density estimation is a form of convolution, usually with a symmetric kenrel (e.g. a Gaussian). The degree of smoothing is determined by a bandwidth parameter. "
     ]
    },
    {
     "cell_type": "code",
     "collapsed": false,
     "input": [
      "def epanechnikov(u):\n",
      "    \"\"\"Epanechnikov kernel.\"\"\"\n",
      "    return np.where(np.abs(u) <= np.sqrt(5), 3/(4*np.sqrt(5)) * (1 - u*u/5.0), 0)"
     ],
     "language": "python",
     "metadata": {},
     "outputs": [],
     "prompt_number": 56
    },
    {
     "cell_type": "code",
     "collapsed": false,
     "input": [
      "def silverman(y):\n",
      "    \"\"\"Find bandwidth using heuristic suggested by Silverman\n",
      "    .9 min(standard deviation, interquartile range/1.34)n\u22121/5\n",
      "    \"\"\"\n",
      "    n = len(y)\n",
      "    iqr = np.subtract(*np.percentile(y, [75, 25]))\n",
      "    h = 0.9*np.min([y.std(ddof=1), iqr/1.34])*n**-0.2\n",
      "    return h"
     ],
     "language": "python",
     "metadata": {},
     "outputs": [],
     "prompt_number": 57
    },
    {
     "cell_type": "code",
     "collapsed": false,
     "input": [
      "def kde(x, y, bandwidth=silverman, kernel=epanechnikov):\n",
      "    \"\"\"Returns kernel density estimate.\n",
      "    x are the points for evaluation\n",
      "    y is the data to be fitted\n",
      "    bandwidth is a function that returens the smoothing parameter h\n",
      "    kernel is a function that gives weights to neighboring data\n",
      "    \"\"\"\n",
      "    h = bandwidth(y)\n",
      "    return np.sum(kernel((x-y[:, None])/h)/h, axis=0)/len(y)"
     ],
     "language": "python",
     "metadata": {},
     "outputs": [],
     "prompt_number": 58
    },
    {
     "cell_type": "code",
     "collapsed": false,
     "input": [
      "xs = np.linspace(-5,8,100)\n",
      "density = kde(xs, x)\n",
      "plt.plot(xs, density);"
     ],
     "language": "python",
     "metadata": {},
     "outputs": [
      {
       "metadata": {},
       "output_type": "display_data",
       "png": "[encoded data removed]",
       "text": [
        "<matplotlib.figure.Figure at 0x1176dc210>"
       ]
      }
     ],
     "prompt_number": 59
    },
    {
     "cell_type": "markdown",
     "metadata": {},
     "source": [
      "#### Using library routines\n",
      "\n",
      "There are several kernel density estimation routines available in scipy, statsmodels and scikit-leran. Here we will use the scikits-learn and statsmodels routine as examples."
     ]
    },
    {
     "cell_type": "code",
     "collapsed": false,
     "input": [
      "import statsmodels.api as sm\n",
      "\n",
      "dens = sm.nonparametric.KDEUnivariate(x)\n",
      "dens.fit(kernel='gau')\n",
      "plt.plot(xs, dens.evaluate(xs));"
     ],
     "language": "python",
     "metadata": {},
     "outputs": [
      {
       "metadata": {},
       "output_type": "display_data",
       "png": "[encoded data removed]",
       "text": [
        "<matplotlib.figure.Figure at 0x1170febd0>"
       ]
      }
     ],
     "prompt_number": 60
    },
    {
     "cell_type": "code",
     "collapsed": false,
     "input": [
      "from sklearn.neighbors import KernelDensity \n",
      "\n",
      "# expects n x p matrix with p features\n",
      "x.shape = (len(x), 1)\n",
      "xs.shape = (len(xs), 1)\n",
      "\n",
      "kde = KernelDensity(kernel='epanechnikov', bandwidth=0.5).fit(x)\n",
      "dens = np.exp(kde.score_samples(xs))\n",
      "plt.plot(xs, dens);"
     ],
     "language": "python",
     "metadata": {},
     "outputs": [
      {
       "metadata": {},
       "output_type": "display_data",
       "png": "[encoded data removed]",
       "text": [
        "<matplotlib.figure.Figure at 0x120385a50>"
       ]
      }
     ],
     "prompt_number": 61
    },
    {
     "cell_type": "markdown",
     "metadata": {},
     "source": [
      "### Design of experiments\n",
      "\n",
      "Some routines (e.g. factorial, latin hypercube samplign) are proived  in [PyDOE](http://pythonhosted.org//pyDOE/index.html)"
     ]
    },
    {
     "cell_type": "code",
     "collapsed": false,
     "input": [],
     "language": "python",
     "metadata": {},
     "outputs": [],
     "prompt_number": 61
    }
   ],
   "metadata": {}
  }
 ]
}